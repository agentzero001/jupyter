{
 "cells": [
  {
   "cell_type": "code",
   "execution_count": 4,
   "id": "b26a4951",
   "metadata": {},
   "outputs": [
    {
     "name": "stdout",
     "output_type": "stream",
     "text": [
      "Overwriting hello_world_c.c\n"
     ]
    }
   ],
   "source": [
    "%%file hello_world_c.c\n",
    "\n",
    "#include <stdio.h>\n",
    "\n",
    "int main() {\n",
    "    printf(\"Hello, World!\");\n",
    "    return 0;\n",
    "}"
   ]
  },
  {
   "cell_type": "code",
   "execution_count": 5,
   "id": "60d05e77",
   "metadata": {},
   "outputs": [],
   "source": [
    "!gcc hello_world_c.c -o hello_world_c"
   ]
  },
  {
   "cell_type": "code",
   "execution_count": 6,
   "id": "094f2be6",
   "metadata": {},
   "outputs": [
    {
     "name": "stdout",
     "output_type": "stream",
     "text": [
      "Hello, World!\n"
     ]
    }
   ],
   "source": [
    "!hello_world_c.exe"
   ]
  },
  {
   "cell_type": "code",
   "execution_count": 44,
   "id": "72a86b24",
   "metadata": {},
   "outputs": [
    {
     "name": "stdout",
     "output_type": "stream",
     "text": [
      "Overwriting hello_world_asm.s\n"
     ]
    }
   ],
   "source": [
    "%%file hello_world_asm.s\n",
    ".section .rdata,\"dr\"\n",
    ".LC0:\n",
    "    .ascii \"Hello, World!!\\0\"\n",
    "\n",
    ".text\n",
    ".global main\n",
    "\n",
    "main:\n",
    "    pushq   %rbp\n",
    "    movq    %rsp, %rbp\n",
    "    subq    $32, %rsp\n",
    "    call    __main\n",
    "    leaq    .LC0(%rip), %rax\n",
    "    movq    %rax, %rcx\n",
    "    call    printf\n",
    "    movl    $0, %eax\n",
    "    addq    $32, %rsp\n",
    "    popq    %rbp\n",
    "    ret\n"
   ]
  },
  {
   "cell_type": "code",
   "execution_count": 45,
   "id": "320184b9",
   "metadata": {},
   "outputs": [],
   "source": [
    "!gcc hello_world_asm.s -o hello_world_asm"
   ]
  },
  {
   "cell_type": "code",
   "execution_count": 46,
   "id": "cc3cb5e3",
   "metadata": {},
   "outputs": [
    {
     "name": "stdout",
     "output_type": "stream",
     "text": [
      "Hello, World!!\n"
     ]
    }
   ],
   "source": [
    "!hello_world_asm.exe"
   ]
  },
  {
   "cell_type": "code",
   "execution_count": null,
   "id": "3237db43",
   "metadata": {},
   "outputs": [],
   "source": []
  }
 ],
 "metadata": {
  "kernelspec": {
   "display_name": "Python 3 (ipykernel)",
   "language": "python",
   "name": "python3"
  },
  "language_info": {
   "codemirror_mode": {
    "name": "ipython",
    "version": 3
   },
   "file_extension": ".py",
   "mimetype": "text/x-python",
   "name": "python",
   "nbconvert_exporter": "python",
   "pygments_lexer": "ipython3",
   "version": "3.11.5"
  }
 },
 "nbformat": 4,
 "nbformat_minor": 5
}
