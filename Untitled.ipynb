{
 "cells": [
  {
   "cell_type": "code",
   "execution_count": 15,
   "id": "b3f93cb2",
   "metadata": {},
   "outputs": [],
   "source": [
    "mini_map = [\n",
    "    [1, 1, 1, 1, 1, 1, 1, 1, 1, 1, 1, 1, 1, 1, 1, 1],\n",
    "    [1, _, _, _, _, _, _, _, _, _, _, _, _, _, _, 1],\n",
    "    [1, _, _, 1, 1, 1, 1, _, _, _, 1, 1, 1, _, _, 1],\n",
    "    [1, _, _, _, _, _, 1, _, _, _, _, _, 1, _, _, 1],\n",
    "    [1, _, _, _, _, _, 1, _, _, _, _, _, 1, _, _, 1],\n",
    "    [1, _, _, 1, 1, 1, 1, _, _, _, _, _, _, _, _, 1],\n",
    "    [1, _, _, _, _, _, _, _, _, _, _, _, _, _, _, 1],\n",
    "    [1, _, _, 1, _, _, _, 1, _, _, _, _, _, _, _, 1],\n",
    "    [1, 1, 1, 1, 1, 1, 1, 1, 1, 1, 1, 1, 1, 1, 1, 1]]"
   ]
  },
  {
   "cell_type": "code",
   "execution_count": 16,
   "id": "d31d9532",
   "metadata": {},
   "outputs": [],
   "source": [
    "world_map = {} "
   ]
  },
  {
   "cell_type": "code",
   "execution_count": 17,
   "id": "3c236fd0",
   "metadata": {},
   "outputs": [],
   "source": [
    "for j, row in enumerate(mini_map):\n",
    "            for i, value in enumerate(row):\n",
    "                if value:\n",
    "                    world_map[(i, j)] = value "
   ]
  },
  {
   "cell_type": "code",
   "execution_count": 18,
   "id": "73f84dfc",
   "metadata": {},
   "outputs": [
    {
     "data": {
      "text/plain": [
       "{(0, 0): 1,\n",
       " (1, 0): 1,\n",
       " (2, 0): 1,\n",
       " (3, 0): 1,\n",
       " (4, 0): 1,\n",
       " (5, 0): 1,\n",
       " (6, 0): 1,\n",
       " (7, 0): 1,\n",
       " (8, 0): 1,\n",
       " (9, 0): 1,\n",
       " (10, 0): 1,\n",
       " (11, 0): 1,\n",
       " (12, 0): 1,\n",
       " (13, 0): 1,\n",
       " (14, 0): 1,\n",
       " (15, 0): 1,\n",
       " (0, 1): 1,\n",
       " (1, 1): 1,\n",
       " (2, 1): 1,\n",
       " (3, 1): 1,\n",
       " (4, 1): 1,\n",
       " (5, 1): 1,\n",
       " (6, 1): 1,\n",
       " (7, 1): 1,\n",
       " (8, 1): 1,\n",
       " (9, 1): 1,\n",
       " (10, 1): 1,\n",
       " (11, 1): 1,\n",
       " (12, 1): 1,\n",
       " (13, 1): 1,\n",
       " (14, 1): 1,\n",
       " (15, 1): 1,\n",
       " (0, 2): 1,\n",
       " (1, 2): 1,\n",
       " (2, 2): 1,\n",
       " (3, 2): 1,\n",
       " (4, 2): 1,\n",
       " (5, 2): 1,\n",
       " (6, 2): 1,\n",
       " (7, 2): 1,\n",
       " (8, 2): 1,\n",
       " (9, 2): 1,\n",
       " (10, 2): 1,\n",
       " (11, 2): 1,\n",
       " (12, 2): 1,\n",
       " (13, 2): 1,\n",
       " (14, 2): 1,\n",
       " (15, 2): 1,\n",
       " (0, 3): 1,\n",
       " (1, 3): 1,\n",
       " (2, 3): 1,\n",
       " (3, 3): 1,\n",
       " (4, 3): 1,\n",
       " (5, 3): 1,\n",
       " (6, 3): 1,\n",
       " (7, 3): 1,\n",
       " (8, 3): 1,\n",
       " (9, 3): 1,\n",
       " (10, 3): 1,\n",
       " (11, 3): 1,\n",
       " (12, 3): 1,\n",
       " (13, 3): 1,\n",
       " (14, 3): 1,\n",
       " (15, 3): 1,\n",
       " (0, 4): 1,\n",
       " (1, 4): 1,\n",
       " (2, 4): 1,\n",
       " (3, 4): 1,\n",
       " (4, 4): 1,\n",
       " (5, 4): 1,\n",
       " (6, 4): 1,\n",
       " (7, 4): 1,\n",
       " (8, 4): 1,\n",
       " (9, 4): 1,\n",
       " (10, 4): 1,\n",
       " (11, 4): 1,\n",
       " (12, 4): 1,\n",
       " (13, 4): 1,\n",
       " (14, 4): 1,\n",
       " (15, 4): 1,\n",
       " (0, 5): 1,\n",
       " (1, 5): 1,\n",
       " (2, 5): 1,\n",
       " (3, 5): 1,\n",
       " (4, 5): 1,\n",
       " (5, 5): 1,\n",
       " (6, 5): 1,\n",
       " (7, 5): 1,\n",
       " (8, 5): 1,\n",
       " (9, 5): 1,\n",
       " (10, 5): 1,\n",
       " (11, 5): 1,\n",
       " (12, 5): 1,\n",
       " (13, 5): 1,\n",
       " (14, 5): 1,\n",
       " (15, 5): 1,\n",
       " (0, 6): 1,\n",
       " (1, 6): 1,\n",
       " (2, 6): 1,\n",
       " (3, 6): 1,\n",
       " (4, 6): 1,\n",
       " (5, 6): 1,\n",
       " (6, 6): 1,\n",
       " (7, 6): 1,\n",
       " (8, 6): 1,\n",
       " (9, 6): 1,\n",
       " (10, 6): 1,\n",
       " (11, 6): 1,\n",
       " (12, 6): 1,\n",
       " (13, 6): 1,\n",
       " (14, 6): 1,\n",
       " (15, 6): 1,\n",
       " (0, 7): 1,\n",
       " (1, 7): 1,\n",
       " (2, 7): 1,\n",
       " (3, 7): 1,\n",
       " (4, 7): 1,\n",
       " (5, 7): 1,\n",
       " (6, 7): 1,\n",
       " (7, 7): 1,\n",
       " (8, 7): 1,\n",
       " (9, 7): 1,\n",
       " (10, 7): 1,\n",
       " (11, 7): 1,\n",
       " (12, 7): 1,\n",
       " (13, 7): 1,\n",
       " (14, 7): 1,\n",
       " (15, 7): 1,\n",
       " (0, 8): 1,\n",
       " (1, 8): 1,\n",
       " (2, 8): 1,\n",
       " (3, 8): 1,\n",
       " (4, 8): 1,\n",
       " (5, 8): 1,\n",
       " (6, 8): 1,\n",
       " (7, 8): 1,\n",
       " (8, 8): 1,\n",
       " (9, 8): 1,\n",
       " (10, 8): 1,\n",
       " (11, 8): 1,\n",
       " (12, 8): 1,\n",
       " (13, 8): 1,\n",
       " (14, 8): 1,\n",
       " (15, 8): 1}"
      ]
     },
     "execution_count": 18,
     "metadata": {},
     "output_type": "execute_result"
    }
   ],
   "source": [
    "world_map"
   ]
  },
  {
   "cell_type": "code",
   "execution_count": 19,
   "id": "8e8eb528",
   "metadata": {},
   "outputs": [],
   "source": [
    "b = []\n",
    "[b.append(i) for i in world_map.keys()];"
   ]
  },
  {
   "cell_type": "code",
   "execution_count": 20,
   "id": "abed9529",
   "metadata": {},
   "outputs": [],
   "source": [
    "#dir(world_map)"
   ]
  },
  {
   "cell_type": "code",
   "execution_count": 21,
   "id": "34e45f1f",
   "metadata": {},
   "outputs": [],
   "source": [
    "a = []\n",
    "[a.append(i) for i in world_map];"
   ]
  },
  {
   "cell_type": "code",
   "execution_count": 22,
   "id": "4bc45a27",
   "metadata": {},
   "outputs": [
    {
     "data": {
      "text/plain": [
       "True"
      ]
     },
     "execution_count": 22,
     "metadata": {},
     "output_type": "execute_result"
    }
   ],
   "source": [
    "a == b"
   ]
  },
  {
   "cell_type": "code",
   "execution_count": 23,
   "id": "be351618",
   "metadata": {},
   "outputs": [],
   "source": [
    "#[print(i) for i in world_map.values()];"
   ]
  },
  {
   "cell_type": "code",
   "execution_count": 24,
   "id": "dc6cf282",
   "metadata": {},
   "outputs": [],
   "source": [
    "string1 = 'abcdef'\n",
    "string2 = '123456'\n",
    "string3 = 'zyxwvu'"
   ]
  },
  {
   "cell_type": "code",
   "execution_count": 25,
   "id": "e16b3f12",
   "metadata": {},
   "outputs": [],
   "source": [
    "result_dict = {char2: (char1,char3) for char1, char2, char3 in zip(string1,string2,string3)}"
   ]
  },
  {
   "cell_type": "code",
   "execution_count": 26,
   "id": "c9f040fa",
   "metadata": {},
   "outputs": [
    {
     "data": {
      "text/plain": [
       "{'1': ('a', 'z'),\n",
       " '2': ('b', 'y'),\n",
       " '3': ('c', 'x'),\n",
       " '4': ('d', 'w'),\n",
       " '5': ('e', 'v'),\n",
       " '6': ('f', 'u')}"
      ]
     },
     "execution_count": 26,
     "metadata": {},
     "output_type": "execute_result"
    }
   ],
   "source": [
    "result_dict"
   ]
  },
  {
   "cell_type": "code",
   "execution_count": 27,
   "id": "5bed5290",
   "metadata": {},
   "outputs": [],
   "source": [
    "import pandas as pd\n",
    "df = pd.DataFrame(result_dict)"
   ]
  },
  {
   "cell_type": "code",
   "execution_count": null,
   "id": "b4fe01c4",
   "metadata": {},
   "outputs": [],
   "source": []
  },
  {
   "cell_type": "code",
   "execution_count": null,
   "id": "edd4d308",
   "metadata": {},
   "outputs": [],
   "source": []
  }
 ],
 "metadata": {
  "kernelspec": {
   "display_name": "Python 3 (ipykernel)",
   "language": "python",
   "name": "python3"
  },
  "language_info": {
   "codemirror_mode": {
    "name": "ipython",
    "version": 3
   },
   "file_extension": ".py",
   "mimetype": "text/x-python",
   "name": "python",
   "nbconvert_exporter": "python",
   "pygments_lexer": "ipython3",
   "version": "3.11.5"
  }
 },
 "nbformat": 4,
 "nbformat_minor": 5
}
