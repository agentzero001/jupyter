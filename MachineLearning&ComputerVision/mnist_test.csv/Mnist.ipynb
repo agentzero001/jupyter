{
 "cells": [
  {
   "cell_type": "code",
   "execution_count": 1,
   "id": "bd4ec6d7",
   "metadata": {},
   "outputs": [
    {
     "data": {
      "image/png": "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\n",
      "text/plain": [
       "<Figure size 1000x500 with 6 Axes>"
      ]
     },
     "metadata": {},
     "output_type": "display_data"
    }
   ],
   "source": [
    "import csv\n",
    "import numpy as np\n",
    "import matplotlib.pyplot as plt\n",
    "import matplotlib.cm as cm\n",
    "\n",
    "with open('mnist_test.csv', 'r') as f:\n",
    "    reader = csv.reader(f)\n",
    "    mnist_data = list(reader)\n",
    "\n",
    "image_data = [image[1:] for image in mnist_data[:6]]\n",
    "\n",
    "\n",
    "fig, axs = plt.subplots(1, 6, figsize=(10, 5),facecolor='grey',sharey=True)\n",
    "\n",
    "\n",
    "for ax, data in zip(axs, image_data):\n",
    "    image = np.array(data, dtype='uint8').reshape(28, 28)\n",
    "    ax.imshow(image, cmap='gray')\n",
    "\n",
    "plt.show()\n",
    "a = np.array(image_data)"
   ]
  },
  {
   "cell_type": "code",
   "execution_count": 3,
   "id": "870a402a",
   "metadata": {},
   "outputs": [
    {
     "data": {
      "text/plain": [
       "(6, 784)"
      ]
     },
     "execution_count": 3,
     "metadata": {},
     "output_type": "execute_result"
    }
   ],
   "source": [
    "a.shape"
   ]
  },
  {
   "cell_type": "code",
   "execution_count": 4,
   "id": "b0340e4b",
   "metadata": {},
   "outputs": [
    {
     "data": {
      "text/plain": [
<<<<<<< Updated upstream
       "<matplotlib.image.AxesImage at 0x12cb3566a60>"
=======
       "<matplotlib.image.AxesImage at 0x2ae9f8b4880>"
>>>>>>> Stashed changes
      ]
     },
     "execution_count": 4,
     "metadata": {},
     "output_type": "execute_result"
    },
    {
     "data": {
      "image/png": "iVBORw0KGgoAAAANSUhEUgAAAakAAAGiCAYAAABd6zmYAAAAOXRFWHRTb2Z0d2FyZQBNYXRwbG90bGliIHZlcnNpb24zLjUuMiwgaHR0cHM6Ly9tYXRwbG90bGliLm9yZy8qNh9FAAAACXBIWXMAAA9hAAAPYQGoP6dpAAAcTElEQVR4nO3dX0xcdf7/8RfDAPOPAsXOWP5UypQ1xTa2+Odb4tKNNgYt/tLSrTHWRd3GppttvPDCxEsujWuCuxd7Z2KraTZ2o8nmSwOzqUIn/RO/bWODCakJXTYk0xRdCssAM50p87swHp3+px2c98DzkZD0nPOZ4fOZ4/bZc2Zgi7q7uzMCAMAgV74nAADArRApAIBZRAoAYBaRAgCYRaQAAGYRKQCAWUQKAGAWkQIAmEWkAABmESkAgFnufH7zr776SidPntT09LSCwaCee+45PfTQQ/mcEgDAkLxdSX3zzTfq6+tTW1ub/vCHP2jNmjX65JNPNDk5ma8pAQCMyVukTp06pZaWFj322GNatWqVnn/+eVVUVOjMmTP5mhIAwJi83O5Lp9OKxWL69a9/nbU/HA5rbGzspuPT6bSzPT8/r0QiIZ/Pt+hzBQAsjmQyqfLycrlct75eykukZmdnlclk5Pf7s/b7/X7F4/EbxkejUQ0ODv5S0wMA/ELeeustVVRU3PJ4Xj84UVRUdFfj2tra1Nra6mwnEgl98MEHizQrAMAvpbS09LbH8xIpn8+noqKiG66aZmZmFAgEbhjvdrvldue1pwCARXCni5W8fHDC7XarpqZGIyMjWftHRkZUX1+fjykBAAzK2+VJa2urPvvsM9XU1Ki+vl5nz57V1NSUHn/88XxNCQBgTN4itWHDBs3OzmpwcFDxeFzBYFCvvPKKKisr8zUlAIAxeX2j58knn9STTz6ZzykAAAzjd/cBAMwiUgAAs4gUAMAsIgUAMItIAQDMIlIAALOIFADALCIFADCLSAEAzCJSAACziBQAwCwiBQAwi0gBAMwiUgAAs4gUAMAsIgUAMCuv/6eHlgUlPZHvSVznsqQz+Z4EAPyCiNQt/I+kf+R7Etf5h6Qd+Z4EAPyCuN0HADCLSAEAzCJSAACziBQAwCwiBQAwi0gBAMwiUgAAs4gUAMAsIgUAMItIAQDMIlIAALOIFADALCIFADCLSAEAzCJSAACziBQAwCwiBQAwi0gBAMwiUgAAs4gUAMAsIgUAMItIAQDMIlIAALOIFADALCIFADCLSAEAzCJSAACziBQAwCwiBQAwi0gBAMwiUgAAs4gUAMAsIgUAMMud6yf88ssvNTg4mLXP7/fr7bffliRlMhkNDAzo7NmzSiQSqq2tVUdHh4LBYK6nAgAocDmPlCStWrVKr776qrPtcv10wXbixAmdOnVKO3fuVHV1tY4fP65Dhw7pzTffVFlZ2WJMBwBQoBYlUi6XS+Xl5Tfsz2QyOn36tLZu3arm5mZJUmdnp/70pz9paGhIjz/++GJM555clvS/+Z7Edf4v3xMAgF/YokRqYmJC77//vtxut2pra7Vt2zatXLlSV65cUTweVzgc/mkCbrcaGho0NjZ2y0il02ml02lnO5lMLsa0s3wl6f8t+ncBANxOziNVV1enzs5OVVdXKx6P6/jx4/rwww914MABxeNxST+8R/Vzfr9fU1NTt3zOaDR6w/tcAIClL+eRampqcv4cCoVUX1+vP//5z/r6669VV1cnSSoqKlrQc7a1tam1tdXZTiaT6unpyc2EAQBmLfpH0EtLSxUKhTQxMaFAICBJzhXVj2ZmZpxjN+N2u+XxeJwvPmABAMvDokcqnU7ru+++UyAQUFVVlQKBgEZGRrKOj46Oqr6+frGnAgAoMDm/3dff36+HH35YFRUVmpmZ0fHjx5VMJrVp0yYVFRVpy5Ytikajqq6u1sqVKxWNRlVSUqKNGzfmeioAgAKX80j997//1d///nfNzs7K7/errq5Ob7zxhiorKyVJTz31lFKplHp7ezU3N6e6ujp1dXVxCw8AcIOcR+rFF1+87fGioiI9/fTTevrpp3P9rQEASwy/uw8AYBaRAgCYRaQAAGYRKQCAWUQKAGAWkQIAmEWkAABmESkAgFlECgBgFpECAJhFpAAAZhEpAIBZRAoAYBaRAgCYRaQAAGYRKQCAWUQKAGAWkQIAmEWkAABmESkAgFlECgBgFpECAJhFpAAAZhEpAIBZRAoAYBaRAgCYRaQAAGYRKQCAWUQKAGAWkQIAmEWkAABmESkAgFlECgBgFpECAJhFpAAAZhEpAIBZRAoAYBaRAgCYRaQAAGYRKQCAWUQKAGAWkQIAmEWkAABmESkAgFlECgBgFpECAJhFpAAAZhEpAIBZRAoAYBaRAgCY5V7oA0ZHR3Xy5EnFYjHF43G99NJLWr9+vXM8k8loYGBAZ8+eVSKRUG1trTo6OhQMBp0x6XRakUhEQ0NDSqfTWrt2rTo6OlRRUZGbVQEAloQFX0mlUimFQiFt3779psdPnDihU6dOafv27dq3b58CgYAOHTqkZDLpjOnr69Pw8LB2796tvXv36urVqzp8+LDm5+fvfSUAgCVnwZFqamrStm3b1NzcfMOxTCaj06dPa+vWrWpublYoFFJnZ6dSqZSGhoYkSYlEQufOnVN7e7vC4bBWr16tXbt2aXx8XBcvXrz/FQEAloycvid15coVxeNxhcNhZ5/b7VZDQ4PGxsYkSbFYTPPz81ljVqxYoWAw6Iy5XjqdViKRcL5+flUGAFi6Fvye1O3E43FJkt/vz9rv9/s1NTXljCkuLpbX671hzI+Pv140GtXg4GAupwoAKAA5jdSPioqKcvp8bW1tam1tdbaTyaR6enpy+j0AAPbk9HZfIBCQpBuuiGZmZpxjgUBA165d09zc3C3HXM/tdsvj8ThfZWVluZw2AMConEaqqqpKgUBAIyMjzr50Oq3R0VHV19dLkmpqauRyubLGTE9Pa3x83BkDAIB0D7f7ksmkJiYmnO3JyUldunRJXq9XlZWV2rJli6LRqKqrq7Vy5UpFo1GVlJRo48aNkiSPx6OWlhZFIhH5fD55vV5FIhEFg0E1NjbmbmUAgIK34EjFYjEdPHjQ2e7v75ckPfroo+rs7NRTTz2lVCql3t5ezc3Nqa6uTl1dXVm36Nrb2+VyuXTkyBGlUik1NjZqz549crn4BRgAgJ8UdXd3Z/I9iYVKJBJ699138z0NAMB9euedd+TxeG55nEsXAIBZRAoAYBaRAgCYRaQAAGYRKQCAWUQKAGAWkQIAmEWkAABmESkAgFlECgBgFpECAJhFpAAAZhEpAIBZRAoAYBaRAgCYRaQAAGYRKQCAWUQKAGAWkQIAmEWkAABmESkAgFlECgBgFpECAJhFpAAAZhEpAIBZRAoAYBaRAgCYRaQAAGYRKQCAWUQKAGAWkQIAmEWkAABmESkAgFlECgBgFpECAJhFpAAAZhEpAIBZRAoAYBaRAgCYRaQAAGYRKQCAWUQKAGAWkQIAmEWkAABmESkAgFlECgBgFpECAJhFpAAAZhEpAIBZRAoAYBaRAgCY5V7oA0ZHR3Xy5EnFYjHF43G99NJLWr9+vXP8888/1/nz57MeU1tbq3379jnb6XRakUhEQ0NDSqfTWrt2rTo6OlRRUXEfSwEALDULjlQqlVIoFNKmTZv06aef3nTMunXrtGPHDme7uLg463hfX58uXLig3bt3y+fzqb+/X4cPH9b+/fvlcnFxBwD4wYKL0NTUpG3btqm5ufmWY4qLi1VeXu58+Xw+51gikdC5c+fU3t6ucDis1atXa9euXRofH9fFixfvbRUAgCVpwVdSd2N0dFTvvfeePB6PGhoa9MwzzygQCEiSYrGY5ufnFQ6HnfErVqxQMBjU2NiY1q1bd8PzpdNppdNpZzuZTC7GtAEAxuQ8Uk1NTXrkkUdUUVGhyclJffHFFzp48KD2798vt9uteDyu4uJieb3erMf5/X7F4/GbPmc0GtXg4GCupwoAMC7nkdqwYYPz51AopJqaGvX09Ojbb7+97S3C22lra1Nra6uznUwm1dPTc99zBQDYtii3+36uvLxclZWVmpiYkCQFAgFdu3ZNc3NzWVdTMzMzqq+vv/kk3W653Ys+VQCAMYv+UbrZ2VlNTU0570nV1NTI5XJpZGTEGTM9Pa3x8fFbRgoAsDwt+PIkmUw6V0WSNDk5qUuXLsnr9crr9WpgYEDNzc0KBAKanJzUsWPH5PP5nJ+l8ng8amlpUSQSkc/nk9frVSQSUTAYVGNjY+5WBgAoeAuOVCwW08GDB53t/v5+SdKjjz6qF154QePj4zp//rwSiYTKy8vV0NCgF198UWVlZc5j2tvb5XK5dOTIEaVSKTU2NmrPnj38jBQAIEtRd3d3Jt+TWKhEIqF3330339MAANynd955Rx6P55bHuXQBAJhFpAAAZhEpAIBZRAoAYBaRAgCYRaQAAGYRKQCAWUQKAGAWkQIAmEWkAABmESkAgFlECgBgFpECAJhFpAAAZhEpAIBZRAoAYBaRAgCYRaQAAGYRKQCAWUQKAGAWkQIAmEWkAABmESkAgFlECgBgFpECAJhFpAAAZhEpAIBZRAoAYBaRAgCYRaQAAGYRKQCAWUQKAGAWkQIAmEWkAABmESkAgFlECgBgFpECAJhFpAAAZhEpAIBZRAoAYBaRAgCYRaQAAGYRKQCAWUQKAGAWkQIAmEWkAABmESkAgFlECgBgFpECAJhFpAAAZrkXMjgajWp4eFjff/+93G636uvr9eyzz+qBBx5wxmQyGQ0MDOjs2bNKJBKqra1VR0eHgsGgMyadTisSiWhoaEjpdFpr165VR0eHKioqcrcyAEDBW9CV1OjoqJ544gm98cYbevXVVzU/P6+PP/5YV69edcacOHFCp06d0vbt27Vv3z4FAgEdOnRIyWTSGdPX16fh4WHt3r1be/fu1dWrV3X48GHNz8/nbmUAgIK3oEh1dXVp8+bNCgaDevDBB7Vz505NTU0pFotJ+uEq6vTp09q6dauam5sVCoXU2dmpVCqloaEhSVIikdC5c+fU3t6ucDis1atXa9euXRofH9fFixdzv0IAQMG6r/ekEomEJMnr9UqSrly5ong8rnA47Ixxu91qaGjQ2NiYJCkWi2l+fj5rzIoVKxQMBp0xAABIC3xP6ucymYz6+/u1Zs0ahUIhSVI8Hpck+f3+rLF+v19TU1POmOLiYidsPx/z4+Ovl06nlU6nne2f3zoEACxd9xypo0eP6vLly9q7d+8Nx4qKiu5rUteLRqMaHBzM6XMCAOy7p0gdPXpUFy5c0O9///usT+QFAgFJP1wtlZeXO/tnZmacY4FAQNeuXdPc3FzW1dTMzIzq6+tv+v3a2trU2trqbCeTSfX09NzL1AEABWRB70llMhn19vZqeHhYr732mqqqqrKOV1VVKRAIaGRkxNmXTqc1OjrqBKimpkYulytrzPT0tMbHx28ZKbfbLY/H43yVlZUtZNoAgAK1oCup3t5eDQ0N6eWXX1Zpaammp6clSR6PRyUlJSoqKtKWLVsUjUZVXV2tlStXKhqNqqSkRBs3bnTGtrS0KBKJyOfzyev1KhKJKBgMqrGxMfcrBAAUrAVF6syZM5Kkjz76KGv/jh07tHnzZknSU089pVQqpd7eXs3Nzamurk5dXV1ZVz/t7e1yuVw6cuSIUqmUGhsbtWfPHrlc/AIMAMBPirq7uzP5nsRCJRIJvfvuu/meBgDgPr3zzjvyeDy3PM6lCwDALCIFADCLSAEAzCJSAACziBQAwCwiBQAwi0gBAMwiUgAAs4gUAMAsIgUAMItIAQDMIlIAALOIFADALCIFADCLSAEAzCJSAACziBQAwCwiBQAwi0gBAMwiUgAAs4gUAMAsIgUAMItIAQDMIlIAALOIFADALCIFADCLSAEAzCJSAACziBQAwCwiBQAwi0gBAMwiUgAAs4gUAMAsIgUAMItIAQDMIlIAALOIFADALCIFADCLSAEAzCJSAACziBQAwCwiBQAwi0gBAMwiUgAAs4gUAMAsIgUAMItIAQDMIlIAALOIFADALCIFADCLSAEAzHIvZHA0GtXw8LC+//57ud1u1dfX69lnn9UDDzzgjPn88891/vz5rMfV1tZq3759znY6nVYkEtHQ0JDS6bTWrl2rjo4OVVRU3OdyAABLyYIiNTo6qieeeEK1tbWan5/XsWPH9PHHH+vAgQMqLS11xq1bt047duxwtouLi7Oep6+vTxcuXNDu3bvl8/nU39+vw4cPa//+/XK5uLgDAPxgQUXo6urS5s2bFQwG9eCDD2rnzp2amppSLBbLGldcXKzy8nLny+fzOccSiYTOnTun9vZ2hcNhrV69Wrt27dL4+LguXryYm1UBAJaEBV1JXS+RSEiSvF5v1v7R0VG999578ng8amho0DPPPKNAICBJisVimp+fVzgcdsavWLFCwWBQY2NjWrdu3Q3fJ51OK51OO9vJZPJ+pg0AKBD3HKlMJqP+/n6tWbNGoVDI2d/U1KRHHnlEFRUVmpyc1BdffKGDBw9q//79crvdisfjKi4uviFsfr9f8Xj8pt8rGo1qcHDwXqcKAChQ9xypo0eP6vLly9q7d2/W/g0bNjh/DoVCqqmpUU9Pj7799ls1Nzff0/dqa2tTa2urs51MJtXT03NvEwcAFIx7+pTC0aNHdeHCBb3++ut3/EReeXm5KisrNTExIUkKBAK6du2a5ubmssbNzMw4twSv53a75fF4nK+ysrJ7mTYAoMAsKFKZTEa9vb0aHh7Wa6+9pqqqqjs+ZnZ2VlNTU06Aampq5HK5NDIy4oyZnp7W+Pi46uvrFzh9AMBStqDbfb29vRoaGtLLL7+s0tJSTU9PS5I8Ho9KSkqUTCY1MDCg5uZmBQIBTU5O6tixY/L5fFq/fr0ztqWlRZFIRD6fT16vV5FIRMFgUI2NjblfIQCgYC0oUmfOnJEkffTRR1n7d+zYoc2bN8vlcml8fFznz59XIpFQeXm5Ghoa9OKLL2bdomtvb5fL5dKRI0eUSqXU2NioPXv28DNSAIAsC4pUd3f3bY+XlJSoq6vrjs9TUlKi7du3a/v27Qv59gCAZYZLFwCAWUQKAGAWkQIAmEWkAABmESkAgFlECgBgFpECAJhFpAAAZhEpAIBZRAoAYBaRAgCYRaQAAGYRKQCAWUQKAGAWkQIAmEWkAABmESkAgFlECgBgFpECAJhFpAAAZhEpAIBZRAoAYBaRAgCYRaQAAGYRKQCAWUQKAGAWkQIAmEWkAABmESkAgFlECgBgFpECAJhFpAAAZhEpAIBZRAoAYBaRAgCYRaQAAGYRKQCAWUQKAGAWkQIAmEWkAABmESkAgFlECgBgFpECAJhFpAAAZhEpAIBZRAoAYBaRAgCYRaQAAGYRKQCAWUQKAGAWkQIAmEWkAABmESkAgFkFGalMJpPvKQAAcuBOf58XZKSuXr2a7ykAAHLgTn+fu3+heeRUeXm5/vjHP+qvf/2r3nrrLZWVleV7Sr+YZDKpnp6eZbXu5bhmaXmuezmuWVre6y4vL7/tmIKMlMvl0ooVKyRJZWVl8ng8eZ7RL285rns5rllanutejmuWlt+672atBXm7DwCwPBApAIBZBRspt9ut3/zmN3K7C/KO5T1bjutejmuWlue6l+OapeW77rtR1N3dzee5AQAmFeyVFABg6SNSAACziBQAwCwiBQAwqyA/SvLVV1/p5MmTmp6eVjAY1HPPPaeHHnoo39PKmS+//FKDg4NZ+/x+v95++21JP/yuq4GBAZ09e1aJREK1tbXq6OhQMBjMx3TvyejoqE6ePKlYLKZ4PK6XXnpJ69evd47fzRrT6bQikYiGhoaUTqe1du1adXR0qKKiIh9Luit3Wvfnn3+u8+fPZz2mtrZW+/btc7YLbd3RaFTDw8P6/vvv5Xa7VV9fr2effVYPPPCAM2Ypnu+7WfdSPN+5VnCR+uabb9TX16eOjg6tWbNGZ86c0SeffKIDBw6osrIy39PLmVWrVunVV191tl2uny56T5w4oVOnTmnnzp2qrq7W8ePHdejQIb355psF8ytVUqmUQqGQNm3apE8//fSG43ezxr6+Pl24cEG7d++Wz+dTf3+/Dh8+rP3792e9Xpbcad2StG7dOu3YscPZLi4uzjpeaOseHR3VE088odraWs3Pz+vYsWP6+OOPdeDAAZWWlkpamuf7btYtLb3znWsFt8JTp06ppaVFjz32mFatWqXnn39eFRUVOnPmTL6nllMul0vl5eXOl9/vl/TDvzhPnz6trVu3qrm5WaFQSJ2dnUqlUhoaGsrzrO9eU1OTtm3bpubm5huO3c0aE4mEzp07p/b2doXDYa1evVq7du3S+Pi4Ll68+Esv567dbt0/Ki4uzjr3Pp/POVaI6+7q6tLmzZsVDAb14IMPaufOnZqamlIsFpO0dM/3ndb9o6V2vnOtoCKVTqcVi8UUDoez9ofDYY2NjeVpVotjYmJC77//vj744AMdOXJEExMTkqQrV64oHo9nvQZut1sNDQ1L5jW4mzXGYjHNz89njVmxYoWCwWDBvw6jo6N677339Je//EX/+Mc/FI/HnWNLYd2JREKS5PV6JS2f8339un+01M/3/Sqo232zs7PKZDLOVcWP/H5/1oktdHV1ders7FR1dbXi8biOHz+uDz/8UAcOHHDWebPXYGpqKh/Tzbm7WWM8HldxcfEN/4Mv9P8Wmpqa9Mgjj6iiokKTk5P64osvdPDgQe3fv19ut7vg153JZNTf3681a9YoFApJWh7n+2brlpb++c6FgrqS+lFRUVG+p7CompqanNse4XBYr7zyiiTp66+/dsYs9ddAWh5rvN6GDRv0q1/9SqFQSA8//LB+97vf6T//+Y++/fbbfE8tJ44eParLly/rt7/97Q3HlvL5vtW6l/r5zoWCipTP51NRUdEN/4KYmZlRIBDI06wWX2lpqUKhkCYmJpx1LuXX4G7WGAgEdO3aNc3Nzd1yzFJQXl6uyspK53ZvIa/76NGjunDhgl5//fWsT6Yt9fN9q3XfzFI637lSUJFyu92qqanRyMhI1v6RkRHV19fnaVaLL51O67vvvlMgEFBVVZUCgUDWa5BOpzU6OrpkXoO7WWNNTY1cLlfWmOnpaY2Pjy+Z10H64Rb31NSU8xdSIa47k8mot7dXw8PDeu2111RVVZV1fKme7zut+2aWwvnOtYJ6T0qSWltb9dlnn6mmpkb19fU6e/aspqam9Pjjj+d7ajnT39+vhx9+WBUVFZqZmdHx48eVTCa1adMmFRUVacuWLYpGo6qurtbKlSsVjUZVUlKijRs35nvqdy2ZTDr/WpSkyclJXbp0SV6vV5WVlXdco8fjUUtLiyKRiHw+n7xeryKRiILBoBobG/O1rDu63bq9Xq8GBgbU3NysQCCgyclJHTt2TD6fz/lZqkJcd29vr4aGhvTyyy+rtLRU09PTkn5YS0lJyV39N70U151MJpfk+c61gvwt6F999ZVOnDiheDyuYDCo9vZ2NTQ05HtaOXPkyBH9+9//1uzsrPx+v+rq6vT00087P9j48x98nJubU11dnbZv3571hqx1//rXv3Tw4MEb9j/66KPq7Oy8qzWmUin985//1NDQkFKplBobG83/kOPt1v3CCy/ob3/7my5duqREIqHy8nI1NDTomWeeyVpToa27u7v7pvt37NihzZs3S7q7/6aX2rpTqdSSPN+5VpCRAgAsDwX1nhQAYHkhUgAAs4gUAMAsIgUAMItIAQDMIlIAALOIFADALCIFADCLSAEAzCJSAACziBQAwCwiBQAw6/8D9+tb5doeIqwAAAAASUVORK5CYII=\n",
      "text/plain": [
       "<Figure size 640x480 with 1 Axes>"
      ]
     },
     "metadata": {},
     "output_type": "display_data"
    }
   ],
   "source": [
    "plt.figure(facecolor='grey')\n",
    "test = np.zeros((300,300,3))\n",
    "\n",
    "for x in range(20,50):\n",
    "    for y in range(20,50):\n",
    "        test[x,y,0] = 1.0\n",
    "        test[x,y,1] = 0.0\n",
    "\n",
    "plt.imshow(test)"
   ]
  },
  {
   "cell_type": "code",
   "execution_count": 5,
   "id": "51dace9c",
   "metadata": {},
   "outputs": [],
   "source": [
    "y, x = np.arange(10), np.arange(10)"
   ]
  },
  {
   "cell_type": "code",
   "execution_count": 6,
   "id": "2997567a",
   "metadata": {},
   "outputs": [],
   "source": [
    "xt, yt = x.reshape(1,10), y.reshape(10,1)"
   ]
  },
  {
   "cell_type": "code",
   "execution_count": 7,
   "id": "c23aa94d",
   "metadata": {},
   "outputs": [
    {
     "data": {
      "text/plain": [
       "array([[ 0,  1,  2,  3,  4,  5,  6,  7,  8,  9],\n",
       "       [ 1,  2,  3,  4,  5,  6,  7,  8,  9, 10],\n",
       "       [ 2,  3,  4,  5,  6,  7,  8,  9, 10, 11],\n",
       "       [ 3,  4,  5,  6,  7,  8,  9, 10, 11, 12],\n",
       "       [ 4,  5,  6,  7,  8,  9, 10, 11, 12, 13],\n",
       "       [ 5,  6,  7,  8,  9, 10, 11, 12, 13, 14],\n",
       "       [ 6,  7,  8,  9, 10, 11, 12, 13, 14, 15],\n",
       "       [ 7,  8,  9, 10, 11, 12, 13, 14, 15, 16],\n",
       "       [ 8,  9, 10, 11, 12, 13, 14, 15, 16, 17],\n",
       "       [ 9, 10, 11, 12, 13, 14, 15, 16, 17, 18]])"
      ]
     },
     "execution_count": 7,
     "metadata": {},
     "output_type": "execute_result"
    }
   ],
   "source": [
    "xt + yt"
   ]
  },
  {
   "cell_type": "code",
   "execution_count": 8,
   "id": "685d5e26",
   "metadata": {},
   "outputs": [
    {
     "data": {
      "text/plain": [
       "array([[ 0,  1,  2,  3,  4,  5,  6,  7,  8,  9],\n",
       "       [ 1,  2,  3,  4,  5,  6,  7,  8,  9, 10],\n",
       "       [ 2,  3,  4,  5,  6,  7,  8,  9, 10, 11],\n",
       "       [ 3,  4,  5,  6,  7,  8,  9, 10, 11, 12],\n",
       "       [ 4,  5,  6,  7,  8,  9, 10, 11, 12, 13],\n",
       "       [ 5,  6,  7,  8,  9, 10, 11, 12, 13, 14],\n",
       "       [ 6,  7,  8,  9, 10, 11, 12, 13, 14, 15],\n",
       "       [ 7,  8,  9, 10, 11, 12, 13, 14, 15, 16],\n",
       "       [ 8,  9, 10, 11, 12, 13, 14, 15, 16, 17],\n",
       "       [ 9, 10, 11, 12, 13, 14, 15, 16, 17, 18]])"
      ]
     },
     "execution_count": 8,
     "metadata": {},
     "output_type": "execute_result"
    }
   ],
   "source": [
    "x,y = np.ogrid[0:10,0:10]\n",
    "x+y"
   ]
  },
  {
   "cell_type": "code",
   "execution_count": 9,
   "id": "215eb403",
   "metadata": {},
   "outputs": [
    {
     "data": {
      "text/plain": [
       "array([[0., 1., 2., 3., 4., 5., 6., 7., 8., 9.],\n",
       "       [0., 1., 2., 3., 4., 5., 6., 7., 8., 9.],\n",
       "       [0., 1., 2., 3., 4., 5., 6., 7., 8., 9.],\n",
       "       [0., 1., 2., 3., 4., 5., 6., 7., 8., 9.],\n",
       "       [0., 1., 2., 3., 4., 5., 6., 7., 8., 9.],\n",
       "       [0., 1., 2., 3., 4., 5., 6., 7., 8., 9.],\n",
       "       [0., 1., 2., 3., 4., 5., 6., 7., 8., 9.],\n",
       "       [0., 1., 2., 3., 4., 5., 6., 7., 8., 9.],\n",
       "       [0., 1., 2., 3., 4., 5., 6., 7., 8., 9.],\n",
       "       [0., 1., 2., 3., 4., 5., 6., 7., 8., 9.]])"
      ]
     },
     "execution_count": 9,
     "metadata": {},
     "output_type": "execute_result"
    }
   ],
   "source": [
    "y1,x1 = np.zeros(10).reshape(10,1), np.arange(10).reshape(1,10)\n",
    "x1+y1"
   ]
  },
  {
   "cell_type": "code",
   "execution_count": 10,
   "id": "12b1eccd",
   "metadata": {},
   "outputs": [
    {
     "data": {
      "text/plain": [
       "array([[3.        , 3.11111111, 3.22222222, 3.33333333, 3.44444444,\n",
       "        3.55555556, 3.66666667, 3.77777778, 3.88888889, 4.        ],\n",
       "       [3.25      , 3.36111111, 3.47222222, 3.58333333, 3.69444444,\n",
       "        3.80555556, 3.91666667, 4.02777778, 4.13888889, 4.25      ],\n",
       "       [3.5       , 3.61111111, 3.72222222, 3.83333333, 3.94444444,\n",
       "        4.05555556, 4.16666667, 4.27777778, 4.38888889, 4.5       ],\n",
       "       [3.75      , 3.86111111, 3.97222222, 4.08333333, 4.19444444,\n",
       "        4.30555556, 4.41666667, 4.52777778, 4.63888889, 4.75      ],\n",
       "       [4.        , 4.11111111, 4.22222222, 4.33333333, 4.44444444,\n",
       "        4.55555556, 4.66666667, 4.77777778, 4.88888889, 5.        ]])"
      ]
     },
     "execution_count": 10,
     "metadata": {},
     "output_type": "execute_result"
    }
   ],
   "source": [
    "a, b = np.ogrid[1.0:2.0:5j, 2.0:3.0:10j]\n",
    "a+b"
   ]
  },
  {
   "cell_type": "code",
   "execution_count": 11,
   "id": "5ca56091",
   "metadata": {},
   "outputs": [
    {
     "data": {
      "text/plain": [
       "(array([0., 0., 0., 0., 0., 0., 5., 0., 0., 0.]),\n",
       " array([0., 0., 0., 5.]),\n",
       " array([5., 0., 0., 0., 0., 0., 0., 0., 0., 0.]))"
      ]
     },
     "execution_count": 11,
     "metadata": {},
     "output_type": "execute_result"
    }
   ],
   "source": [
    "a = np.zeros(10)\n",
    "b, c = a[3:7], a.copy()\n",
    "b[3],c[0] = 5, 5\n",
    "a, b, c"
   ]
  },
  {
   "cell_type": "code",
   "execution_count": 12,
   "id": "75491c20",
   "metadata": {},
   "outputs": [
    {
     "data": {
      "text/plain": [
       "(True, False)"
      ]
     },
     "execution_count": 12,
     "metadata": {},
     "output_type": "execute_result"
    }
   ],
   "source": [
    "np.may_share_memory(a, b), np.may_share_memory(a, c) #view in numpy"
   ]
  },
  {
   "cell_type": "code",
   "execution_count": 12,
   "id": "b4bd3514",
   "metadata": {},
   "outputs": [
    {
     "data": {
      "text/plain": [
       "13"
      ]
     },
     "execution_count": 12,
     "metadata": {},
     "output_type": "execute_result"
    }
   ],
   "source": [
    "6+7"
   ]
  },
  {
   "cell_type": "code",
   "execution_count": null,
   "id": "2ba83c45",
   "metadata": {},
   "outputs": [],
   "source": []
  }
 ],
 "metadata": {
  "kernelspec": {
   "display_name": "Python 3 (ipykernel)",
   "language": "python",
   "name": "python3"
  },
  "language_info": {
   "codemirror_mode": {
    "name": "ipython",
    "version": 3
   },
   "file_extension": ".py",
   "mimetype": "text/x-python",
   "name": "python",
   "nbconvert_exporter": "python",
   "pygments_lexer": "ipython3",
   "version": "3.9.13"
  }
 },
 "nbformat": 4,
 "nbformat_minor": 5
}
