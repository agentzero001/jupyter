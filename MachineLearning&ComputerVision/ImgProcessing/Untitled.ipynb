{
 "cells": [
  {
   "cell_type": "code",
   "execution_count": 1,
   "id": "51d864b6",
   "metadata": {},
   "outputs": [],
   "source": [
    "import numpy as np\n",
    "import matplotlib.pyplot as plt\n",
    "plt.rcParams['figure.facecolor'] = '0.3'"
   ]
  },
  {
   "cell_type": "code",
   "execution_count": 2,
   "id": "9f51dc15",
   "metadata": {},
   "outputs": [],
   "source": [
    "def line(A, x1, y1, x2, y2):\n",
    "    d = (y2 - y1) / (x2 - x1)\n",
    "    for x in range(x1, x2 + 1):\n",
    "        A[round(d * (x - x1) + y1), x] = 1\n",
    "\n",
    "B = np.zeros((40, 40))\n",
    "C = B.copy()\n",
    "for i in range(1,20):\n",
    "    B[round(0.5*i), i] = 1\n",
    "\n",
    "C[[round(0.5*i) for i in range(1, 20)], [i for i in range(1, 20)]] = 1\n",
    "\n",
    "A_ = np.array([[1 if j < 20 and i == 10 else 0 for j in range(20)] for i in range(20)])"
   ]
  },
  {
   "cell_type": "code",
   "execution_count": 3,
   "id": "d730ea69",
   "metadata": {},
   "outputs": [
    {
     "data": {
      "text/plain": [
       "<matplotlib.image.AxesImage at 0x18045d1e460>"
      ]
     },
     "execution_count": 3,
     "metadata": {},
     "output_type": "execute_result"
    },
    {
     "data": {
      "image/png": "[encoded data removed]",
      "text/plain": [
       "<Figure size 480x480 with 1 Axes>"
      ]
     },
     "metadata": {},
     "output_type": "display_data"
    }
   ],
   "source": [
    "plt.matshow(C, cmap='gray', origin='lower')"
   ]
  },
  {
   "cell_type": "code",
   "execution_count": 23,
   "id": "905e22b3",
   "metadata": {},
   "outputs": [],
   "source": [
    "def line_(arr, x1, y1, x2, y2):\n",
    "    dx = x2 - x1\n",
    "    dy = y2 - y1\n",
    "    err = dx / 2\n",
    "    while True:\n",
    "        arr[y1, x1] = 1\n",
    "        if x1 == x2 and y1 == y2:\n",
    "            break\n",
    "        x1 += 1\n",
    "        err -= dy\n",
    "        if err < 0:\n",
    "            y1 += 1\n",
    "            err += dx"
   ]
  },
  {
   "cell_type": "code",
   "execution_count": 24,
   "id": "54269da6",
   "metadata": {},
   "outputs": [
    {
     "data": {
      "text/plain": [
       "<matplotlib.image.AxesImage at 0x180460288e0>"
      ]
     },
     "execution_count": 24,
     "metadata": {},
     "output_type": "execute_result"
    },
    {
     "data": {
      "image/png": "[encoded data removed]",
      "text/plain": [
       "<Figure size 480x480 with 1 Axes>"
      ]
     },
     "metadata": {},
     "output_type": "display_data"
    }
   ],
   "source": [
    "D = np.zeros((50,50))\n",
    "line_(D, 1, 2, 20, 20)\n",
    "plt.matshow(D, cmap='gray', origin='lower')"
   ]
  },
  {
   "cell_type": "code",
   "execution_count": 6,
   "id": "836d20ef",
   "metadata": {},
   "outputs": [],
   "source": [
    "#Bresenham algorithm\n",
    "def line__(arr, x1, y1, x2, y2):\n",
    "    dx = abs(x2 - x1)\n",
    "    sx = 1 if x1 < x2 else -1\n",
    "    dy = -abs(y2 - y1)\n",
    "    sy = 1 if y1 < y2 else -1\n",
    "    err = dx + dy\n",
    "    while True:\n",
    "        arr[y1, x1] = 1\n",
    "        if x1 == x2 and y1 == y2:\n",
    "            break\n",
    "        e2 = 2 * err\n",
    "        if (e2 > dy):\n",
    "            err += dy\n",
    "            x1 += sx\n",
    "        if (e2 < dx):\n",
    "            err += dx\n",
    "            y1 += sy"
   ]
  },
  {
   "cell_type": "code",
   "execution_count": 7,
   "id": "f6bf1701",
   "metadata": {},
   "outputs": [
    {
     "data": {
      "text/plain": [
       "<matplotlib.image.AxesImage at 0x18045ea54f0>"
      ]
     },
     "execution_count": 7,
     "metadata": {},
     "output_type": "execute_result"
    },
    {
     "data": {
      "image/png": "[encoded data removed]",
      "text/plain": [
       "<Figure size 480x480 with 1 Axes>"
      ]
     },
     "metadata": {},
     "output_type": "display_data"
    }
   ],
   "source": [
    "E = np.zeros((50,50))\n",
    "line__(E, 1, 1, 20, 40)\n",
    "line__(E, 1, 40, 20, 1)\n",
    "plt.matshow(E, cmap='gray', origin='lower')"
   ]
  },
  {
   "cell_type": "code",
   "execution_count": 8,
   "id": "80624d1c",
   "metadata": {},
   "outputs": [
    {
     "ename": "Exception",
     "evalue": "ERROR",
     "output_type": "error",
     "traceback": [
      "\u001b[1;31m---------------------------------------------------------------------------\u001b[0m",
      "\u001b[1;31mException\u001b[0m                                 Traceback (most recent call last)",
      "\u001b[1;32m~\\AppData\\Local\\Temp\\ipykernel_10864\\1272633460.py\u001b[0m in \u001b[0;36m<module>\u001b[1;34m\u001b[0m\n\u001b[0;32m      1\u001b[0m \u001b[1;32mdef\u001b[0m \u001b[0mthrow\u001b[0m\u001b[1;33m(\u001b[0m\u001b[0mex\u001b[0m\u001b[1;33m)\u001b[0m\u001b[1;33m:\u001b[0m \u001b[1;32mraise\u001b[0m \u001b[0mex\u001b[0m\u001b[1;33m\u001b[0m\u001b[1;33m\u001b[0m\u001b[0m\n\u001b[1;32m----> 2\u001b[1;33m \u001b[1;33m(\u001b[0m\u001b[1;32mlambda\u001b[0m\u001b[1;33m:\u001b[0m \u001b[0mthrow\u001b[0m\u001b[1;33m(\u001b[0m\u001b[0mException\u001b[0m\u001b[1;33m(\u001b[0m\u001b[1;34m'ERROR'\u001b[0m\u001b[1;33m)\u001b[0m\u001b[1;33m)\u001b[0m\u001b[1;33m)\u001b[0m\u001b[1;33m(\u001b[0m\u001b[1;33m)\u001b[0m\u001b[1;33m\u001b[0m\u001b[1;33m\u001b[0m\u001b[0m\n\u001b[0m",
      "\u001b[1;32m~\\AppData\\Local\\Temp\\ipykernel_10864\\1272633460.py\u001b[0m in \u001b[0;36m<lambda>\u001b[1;34m()\u001b[0m\n\u001b[0;32m      1\u001b[0m \u001b[1;32mdef\u001b[0m \u001b[0mthrow\u001b[0m\u001b[1;33m(\u001b[0m\u001b[0mex\u001b[0m\u001b[1;33m)\u001b[0m\u001b[1;33m:\u001b[0m \u001b[1;32mraise\u001b[0m \u001b[0mex\u001b[0m\u001b[1;33m\u001b[0m\u001b[1;33m\u001b[0m\u001b[0m\n\u001b[1;32m----> 2\u001b[1;33m \u001b[1;33m(\u001b[0m\u001b[1;32mlambda\u001b[0m\u001b[1;33m:\u001b[0m \u001b[0mthrow\u001b[0m\u001b[1;33m(\u001b[0m\u001b[0mException\u001b[0m\u001b[1;33m(\u001b[0m\u001b[1;34m'ERROR'\u001b[0m\u001b[1;33m)\u001b[0m\u001b[1;33m)\u001b[0m\u001b[1;33m)\u001b[0m\u001b[1;33m(\u001b[0m\u001b[1;33m)\u001b[0m\u001b[1;33m\u001b[0m\u001b[1;33m\u001b[0m\u001b[0m\n\u001b[0m",
      "\u001b[1;32m~\\AppData\\Local\\Temp\\ipykernel_10864\\1272633460.py\u001b[0m in \u001b[0;36mthrow\u001b[1;34m(ex)\u001b[0m\n\u001b[1;32m----> 1\u001b[1;33m \u001b[1;32mdef\u001b[0m \u001b[0mthrow\u001b[0m\u001b[1;33m(\u001b[0m\u001b[0mex\u001b[0m\u001b[1;33m)\u001b[0m\u001b[1;33m:\u001b[0m \u001b[1;32mraise\u001b[0m \u001b[0mex\u001b[0m\u001b[1;33m\u001b[0m\u001b[1;33m\u001b[0m\u001b[0m\n\u001b[0m\u001b[0;32m      2\u001b[0m \u001b[1;33m(\u001b[0m\u001b[1;32mlambda\u001b[0m\u001b[1;33m:\u001b[0m \u001b[0mthrow\u001b[0m\u001b[1;33m(\u001b[0m\u001b[0mException\u001b[0m\u001b[1;33m(\u001b[0m\u001b[1;34m'ERROR'\u001b[0m\u001b[1;33m)\u001b[0m\u001b[1;33m)\u001b[0m\u001b[1;33m)\u001b[0m\u001b[1;33m(\u001b[0m\u001b[1;33m)\u001b[0m\u001b[1;33m\u001b[0m\u001b[1;33m\u001b[0m\u001b[0m\n",
      "\u001b[1;31mException\u001b[0m: ERROR"
     ]
    }
   ],
   "source": [
    "def throw(ex): raise ex\n",
    "(lambda: throw(Exception('ERROR')))()"
   ]
  },
  {
   "cell_type": "code",
   "execution_count": 9,
   "id": "99075cfd",
   "metadata": {},
   "outputs": [],
   "source": [
    "import dis"
   ]
  },
  {
   "cell_type": "code",
   "execution_count": 10,
   "id": "904adfe6",
   "metadata": {},
   "outputs": [],
   "source": [
    "def add2(x, y): return x + y + 3\n",
    "add = lambda x, y, z = 3: x + y + z"
   ]
  },
  {
   "cell_type": "code",
   "execution_count": 11,
   "id": "07220d9e",
   "metadata": {},
   "outputs": [
    {
     "name": "stdout",
     "output_type": "stream",
     "text": [
      "  2           0 LOAD_FAST                0 (x)\n",
      "              2 LOAD_FAST                1 (y)\n",
      "              4 BINARY_ADD\n",
      "              6 LOAD_FAST                2 (z)\n",
      "              8 BINARY_ADD\n",
      "             10 RETURN_VALUE\n"
     ]
    }
   ],
   "source": [
    "dis.dis(add)"
   ]
  },
  {
   "cell_type": "code",
   "execution_count": 12,
   "id": "1fa753f8",
   "metadata": {},
   "outputs": [
    {
     "name": "stdout",
     "output_type": "stream",
     "text": [
      "  1           0 LOAD_FAST                0 (x)\n",
      "              2 LOAD_FAST                1 (y)\n",
      "              4 BINARY_ADD\n",
      "              6 LOAD_CONST               1 (3)\n",
      "              8 BINARY_ADD\n",
      "             10 RETURN_VALUE\n"
     ]
    }
   ],
   "source": [
    "dis.dis(add2)"
   ]
  }
 ],
 "metadata": {
  "kernelspec": {
   "display_name": "Python 3 (ipykernel)",
   "language": "python",
   "name": "python3"
  },
  "language_info": {
   "codemirror_mode": {
    "name": "ipython",
    "version": 3
   },
   "file_extension": ".py",
   "mimetype": "text/x-python",
   "name": "python",
   "nbconvert_exporter": "python",
   "pygments_lexer": "ipython3",
   "version": "3.9.13"
  }
 },
 "nbformat": 4,
 "nbformat_minor": 5
}
