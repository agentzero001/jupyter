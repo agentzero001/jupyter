{
 "cells": [
  {
   "cell_type": "code",
   "execution_count": 109,
   "id": "51d864b6",
   "metadata": {},
   "outputs": [],
   "source": [
    "import numpy as np\n",
    "import matplotlib.pyplot as plt\n",
    "plt.rcParams['figure.facecolor'] = '0.3'"
   ]
  },
  {
   "cell_type": "code",
   "execution_count": 110,
   "id": "9f51dc15",
   "metadata": {},
   "outputs": [],
   "source": [
    "def line(A, x1, y1, x2, y2):\n",
    "    d = (y2 - y1) / (x2 - x1)\n",
    "    for x in range(x1, x2 + 1):\n",
    "        A[round(d * (x - x1) + y1), x] = 1"
   ]
  },
  {
   "cell_type": "code",
   "execution_count": 111,
   "id": "580c686c",
   "metadata": {},
   "outputs": [],
   "source": [
    "B = np.zeros((40, 40))\n",
    "C = B.copy()\n",
    "for i in range(1,20):\n",
    "    B[round(0.5*i), i] = 1"
   ]
  },
  {
   "cell_type": "code",
   "execution_count": 112,
   "id": "944c9c6b",
   "metadata": {},
   "outputs": [],
   "source": [
    "C[[round(0.5*i) for i in range(1, 20)], [i for i in range(1, 20)]] = 1"
   ]
  },
  {
   "cell_type": "code",
   "execution_count": 113,
   "id": "3a572e73",
   "metadata": {},
   "outputs": [],
   "source": [
    "A_ = np.array([[1 if j < 20 and i == 10 else 0 for j in range(20)] for i in range(20)])"
   ]
  },
  {
   "cell_type": "code",
   "execution_count": 114,
   "id": "d730ea69",
   "metadata": {},
   "outputs": [
    {
     "data": {
      "text/plain": [
       "<matplotlib.image.AxesImage at 0x199d049f5b0>"
      ]
     },
     "execution_count": 114,
     "metadata": {},
     "output_type": "execute_result"
    },
    {
     "data": {
      "image/png": "[encoded data removed]",
      "text/plain": [
       "<Figure size 480x480 with 1 Axes>"
      ]
     },
     "metadata": {},
     "output_type": "display_data"
    }
   ],
   "source": [
    "plt.matshow(C, cmap='gray', origin='lower')"
   ]
  },
  {
   "cell_type": "code",
   "execution_count": null,
   "id": "905e22b3",
   "metadata": {},
   "outputs": [],
   "source": []
  }
 ],
 "metadata": {
  "kernelspec": {
   "display_name": "Python 3 (ipykernel)",
   "language": "python",
   "name": "python3"
  },
  "language_info": {
   "codemirror_mode": {
    "name": "ipython",
    "version": 3
   },
   "file_extension": ".py",
   "mimetype": "text/x-python",
   "name": "python",
   "nbconvert_exporter": "python",
   "pygments_lexer": "ipython3",
   "version": "3.9.13"
  }
 },
 "nbformat": 4,
 "nbformat_minor": 5
}
