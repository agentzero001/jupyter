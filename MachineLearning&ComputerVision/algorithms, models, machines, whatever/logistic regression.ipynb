{
 "cells": [
  {
   "cell_type": "code",
   "execution_count": 1,
   "id": "b35e3c87",
   "metadata": {},
   "outputs": [],
   "source": [
    "import numpy as np\n",
    "import matplotlib.pyplot as plt\n",
    "plt.rcParams['figure.facecolor'] = '.2'\n",
    "plt.rcParams['axes.facecolor'] = 'black' "
   ]
  },
  {
   "cell_type": "code",
   "execution_count": 2,
   "id": "8d2768dc",
   "metadata": {},
   "outputs": [
    {
     "data": {
      "text/plain": [
       "array([1, 0, 1, 0, 1, 0, 0, 0, 1, 1, 0, 1, 0, 1, 1, 0, 1, 1, 0, 0, 1])"
      ]
     },
     "execution_count": 2,
     "metadata": {},
     "output_type": "execute_result"
    }
   ],
   "source": [
    "def lift(arr):\n",
    "    arr = np.array(arr)\n",
    "    return arr.reshape((arr.shape[0], 1))\n",
    "\n",
    "grades = np.array([[11, 8, 15, 6, 9, 12, 6, 6, 12, 9, 3, 14, 11, 14, 6, 6, 8, 12, 3, 9, 12],\n",
    "                   [1, 0, 1, 0, 1, 0, 0, 0, 1, 1, 0, 1, 0, 1, 1, 0, 1, 1, 0, 0, 1]])  \n",
    "\n",
    "data = np.c_[grades[0,:], grades[1,:]]\n",
    "data[:, 1]"
   ]
  },
  {
   "cell_type": "code",
   "execution_count": 3,
   "id": "8e8d121f",
   "metadata": {},
   "outputs": [],
   "source": [
    "X = data[:, 0]\n",
    "Y = data[:, 1]\n",
    "\n",
    "s = list(map(lambda x, y: 30 * len(X[(X == x) & (Y == y)]), X, Y))"
   ]
  },
  {
   "cell_type": "code",
   "execution_count": 4,
   "id": "c4c7fd07",
   "metadata": {},
   "outputs": [
    {
     "data": {
      "image/png": "[encoded data removed]",
      "text/plain": [
       "<Figure size 640x480 with 1 Axes>"
      ]
     },
     "metadata": {},
     "output_type": "display_data"
    }
   ],
   "source": [
    "plt.scatter(X,Y ,c='r', s=s)\n",
    "plt.show()"
   ]
  },
  {
   "cell_type": "code",
   "execution_count": 5,
   "id": "e2e562f5",
   "metadata": {},
   "outputs": [
    {
     "data": {
      "image/png": "[encoded data removed]",
      "text/plain": [
       "<Figure size 640x480 with 1 Axes>"
      ]
     },
     "metadata": {},
     "output_type": "display_data"
    }
   ],
   "source": [
    "def prob(grade):\n",
    "    if grade > 16:\n",
    "        return 1\n",
    "    if grade < 2:\n",
    "        return 0\n",
    "    return 1/14 * grade - 1/7\n",
    "\n",
    "g = np.linspace(-1,17,100)\n",
    "\n",
    "plt.axis([-1,17,-0.2,1.2])\n",
    "plt.plot(g, list(map(prob,g)), color='green')\n",
    "plt.scatter(X,Y ,c='r', s=s, alpha= .9)\n",
    "plt.show()"
   ]
  },
  {
   "cell_type": "code",
   "execution_count": 6,
   "id": "a8eedd31",
   "metadata": {},
   "outputs": [
    {
     "data": {
      "text/plain": [
       "array([0.64285714, 0.42857143, 0.92857143, 0.28571429, 0.5       ,\n",
       "       0.71428571, 0.28571429, 0.28571429, 0.71428571, 0.5       ,\n",
       "       0.07142857, 0.85714286, 0.64285714, 0.85714286, 0.28571429,\n",
       "       0.28571429, 0.42857143, 0.71428571, 0.07142857, 0.5       ,\n",
       "       0.71428571])"
      ]
     },
     "execution_count": 6,
     "metadata": {},
     "output_type": "execute_result"
    }
   ],
   "source": [
    "probX = np.array(list(map(prob, X)))\n",
    "probX"
   ]
  },
  {
   "cell_type": "code",
   "execution_count": 7,
   "id": "ba2e269f",
   "metadata": {},
   "outputs": [
    {
     "name": "stdout",
     "output_type": "stream",
     "text": [
      "CPU times: total: 1.86 s\n",
      "Wall time: 1.87 s\n"
     ]
    }
   ],
   "source": [
    "%time _probGrades = np.array(list(map(prob,range(1,1000000))))"
   ]
  },
  {
   "cell_type": "code",
   "execution_count": 8,
   "id": "2711f5ea",
   "metadata": {},
   "outputs": [
    {
     "name": "stdout",
     "output_type": "stream",
     "text": [
      "CPU times: total: 1.88 s\n",
      "Wall time: 1.9 s\n"
     ]
    }
   ],
   "source": [
    "%time probGrades = np.array([prob(i) for i in range(1,1000000)])"
   ]
  },
  {
   "cell_type": "code",
   "execution_count": 9,
   "id": "cd20d6f5",
   "metadata": {},
   "outputs": [],
   "source": [
    "probGrades = np.array([prob(i) for i in range(1,16)])"
   ]
  },
  {
   "cell_type": "code",
   "execution_count": 10,
   "id": "edd542fd",
   "metadata": {},
   "outputs": [
    {
     "data": {
      "text/plain": [
       "{1: 0.0,\n",
       " 2: 0.0,\n",
       " 3: 0.07142857142857142,\n",
       " 4: 0.14285714285714285,\n",
       " 5: 0.21428571428571425,\n",
       " 6: 0.2857142857142857,\n",
       " 7: 0.35714285714285715,\n",
       " 8: 0.42857142857142855,\n",
       " 9: 0.49999999999999994,\n",
       " 10: 0.5714285714285714,\n",
       " 11: 0.6428571428571428,\n",
       " 12: 0.7142857142857142,\n",
       " 13: 0.7857142857142856,\n",
       " 14: 0.8571428571428572,\n",
       " 15: 0.9285714285714286}"
      ]
     },
     "execution_count": 10,
     "metadata": {},
     "output_type": "execute_result"
    }
   ],
   "source": [
    "#prob for each grade \n",
    "{i: probGrades[i-1] for i in range(1,16)}"
   ]
  },
  {
   "cell_type": "code",
   "execution_count": 11,
   "id": "042ffa0a",
   "metadata": {},
   "outputs": [
    {
     "data": {
      "text/plain": [
       "array([1, 0, 1, 0, 0, 1, 0, 0, 1, 0, 0, 1, 1, 1, 0, 0, 0, 1, 0, 0, 1])"
      ]
     },
     "execution_count": 11,
     "metadata": {},
     "output_type": "execute_result"
    }
   ],
   "source": [
    "Y_predict = (probX >= .5) * 1\n",
    "Y_predict"
   ]
  },
  {
   "cell_type": "code",
   "execution_count": 12,
   "id": "1ab9c3a6",
   "metadata": {},
   "outputs": [
    {
     "data": {
      "text/plain": [
       "array([1, 0, 1, 0, 1, 0, 0, 0, 1, 1, 0, 1, 0, 1, 1, 0, 1, 1, 0, 0, 1])"
      ]
     },
     "execution_count": 12,
     "metadata": {},
     "output_type": "execute_result"
    }
   ],
   "source": [
    "Y"
   ]
  },
  {
   "cell_type": "code",
   "execution_count": 13,
   "id": "9929445d",
   "metadata": {},
   "outputs": [
    {
     "data": {
      "text/plain": [
       "15"
      ]
     },
     "execution_count": 13,
     "metadata": {},
     "output_type": "execute_result"
    }
   ],
   "source": [
    "np.sum(Y_predict == Y)"
   ]
  },
  {
   "cell_type": "code",
   "execution_count": 14,
   "id": "9120c599",
   "metadata": {},
   "outputs": [],
   "source": [
    "def predictor(boundary):\n",
    "    def inner_func(grade):\n",
    "        return 1 if grade >= boundary else 0\n",
    "    return inner_func\n",
    "\n",
    "def predictor(boundary):\n",
    "    return lambda grade: 1 if grade >= boundary else 0\n",
    "\n",
    "predictor = lambda boundary: lambda grade: 1 if grade >= boundary else 0"
   ]
  },
  {
   "cell_type": "code",
   "execution_count": 15,
   "id": "a40007df",
   "metadata": {},
   "outputs": [
    {
     "name": "stdout",
     "output_type": "stream",
     "text": [
      "0 11\n",
      "1 11\n",
      "2 11\n",
      "3 11\n",
      "4 13\n",
      "5 13\n",
      "6 13\n",
      "7 16\n",
      "8 16\n",
      "9 16\n",
      "10 15\n",
      "11 15\n",
      "12 15\n",
      "13 13\n",
      "14 13\n",
      "15 11\n"
     ]
    }
   ],
   "source": [
    "for b in range(0, 16):\n",
    "    print(b, np.sum(np.array(list(map(predictor(b), X))) == Y))"
   ]
  },
  {
   "cell_type": "code",
   "execution_count": 16,
   "id": "1150883d",
   "metadata": {},
   "outputs": [
    {
     "data": {
      "text/plain": [
       "array([11,  8, 15,  6,  9, 12,  6,  6, 12,  9,  3, 14, 11, 14,  6,  6,  8,\n",
       "       12,  3,  9, 12])"
      ]
     },
     "execution_count": 16,
     "metadata": {},
     "output_type": "execute_result"
    }
   ],
   "source": [
    "X"
   ]
  },
  {
   "cell_type": "code",
   "execution_count": 17,
   "id": "9c9cc90b",
   "metadata": {},
   "outputs": [
    {
     "data": {
      "text/plain": [
       "array([1, 0, 1, 0, 1, 0, 0, 0, 1, 1, 0, 1, 0, 1, 1, 0, 1, 1, 0, 0, 1])"
      ]
     },
     "execution_count": 17,
     "metadata": {},
     "output_type": "execute_result"
    }
   ],
   "source": [
    "Y"
   ]
  },
  {
   "cell_type": "code",
   "execution_count": 18,
   "id": "dfdd03de",
   "metadata": {},
   "outputs": [
    {
     "data": {
      "text/plain": [
       "array([0.64285714, 0.42857143, 0.92857143, 0.28571429, 0.5       ,\n",
       "       0.71428571, 0.28571429, 0.28571429, 0.71428571, 0.5       ,\n",
       "       0.07142857, 0.85714286, 0.64285714, 0.85714286, 0.28571429,\n",
       "       0.28571429, 0.42857143, 0.71428571, 0.07142857, 0.5       ,\n",
       "       0.71428571])"
      ]
     },
     "execution_count": 18,
     "metadata": {},
     "output_type": "execute_result"
    }
   ],
   "source": [
    "pX = np.array(list(map(prob, X)))\n",
    "pX"
   ]
  },
  {
   "cell_type": "code",
   "execution_count": 19,
   "id": "049b7eb6",
   "metadata": {},
   "outputs": [],
   "source": [
    "#comparing the models predictions to the actual grades data\n",
    "like = Y * pX + (1 - Y) * (1 - pX)"
   ]
  },
  {
   "cell_type": "code",
   "execution_count": 20,
   "id": "78ba00dc",
   "metadata": {},
   "outputs": [
    {
     "data": {
      "text/plain": [
       "3.2016337809171925e-05"
      ]
     },
     "execution_count": 20,
     "metadata": {},
     "output_type": "execute_result"
    }
   ],
   "source": [
    "np.prod(like)"
   ]
  },
  {
   "cell_type": "code",
   "execution_count": 21,
   "id": "b9da6229",
   "metadata": {},
   "outputs": [
    {
     "data": {
      "text/plain": [
       "4.76837158203125e-07"
      ]
     },
     "execution_count": 21,
     "metadata": {},
     "output_type": "execute_result"
    }
   ],
   "source": [
    "#coinflip estimation\n",
    "1 / (2**21)"
   ]
  },
  {
   "cell_type": "code",
   "execution_count": 22,
   "id": "1ec9ee4b",
   "metadata": {},
   "outputs": [
    {
     "data": {
      "text/plain": [
       "[<matplotlib.lines.Line2D at 0x2c42b29d890>]"
      ]
     },
     "execution_count": 22,
     "metadata": {},
     "output_type": "execute_result"
    },
    {
     "data": {
      "image/png": "[encoded data removed]",
      "text/plain": [
       "<Figure size 640x480 with 1 Axes>"
      ]
     },
     "metadata": {},
     "output_type": "display_data"
    }
   ],
   "source": [
    "odds = lambda x: prob(x) / (1 - prob(x))\n",
    "\n",
    "g = np.linspace(3.1, 14.9, 100)\n",
    "comprehension = [odds(i) for i in g]\n",
    "\n",
    "#plt.plot(g, list(map(odds, g)), color='green', alpha=.7)\n",
    "plt.plot(g, comprehension, color='green', alpha=.7)"
   ]
  },
  {
   "cell_type": "code",
   "execution_count": 23,
   "id": "11d53bb7",
   "metadata": {},
   "outputs": [
    {
     "data": {
      "text/plain": [
       "[<matplotlib.lines.Line2D at 0x2c42b38fd50>]"
      ]
     },
     "execution_count": 23,
     "metadata": {},
     "output_type": "execute_result"
    },
    {
     "data": {
      "image/png": "[encoded data removed]",
      "text/plain": [
       "<Figure size 640x480 with 1 Axes>"
      ]
     },
     "metadata": {},
     "output_type": "display_data"
    }
   ],
   "source": [
    "L1 = np.array(list(map(np.log, map(odds, g))))\n",
    "L = np.log([odds(i) for i in g])\n",
    "plt.plot(g, L, c='red')"
   ]
  },
  {
   "cell_type": "code",
   "execution_count": 24,
   "id": "6572382a",
   "metadata": {},
   "outputs": [
    {
     "data": {
      "text/html": [
       "<style>#sk-container-id-1 {color: black;background-color: white;}#sk-container-id-1 pre{padding: 0;}#sk-container-id-1 div.sk-toggleable {background-color: white;}#sk-container-id-1 label.sk-toggleable__label {cursor: pointer;display: block;width: 100%;margin-bottom: 0;padding: 0.3em;box-sizing: border-box;text-align: center;}#sk-container-id-1 label.sk-toggleable__label-arrow:before {content: \"▸\";float: left;margin-right: 0.25em;color: #696969;}#sk-container-id-1 label.sk-toggleable__label-arrow:hover:before {color: black;}#sk-container-id-1 div.sk-estimator:hover label.sk-toggleable__label-arrow:before {color: black;}#sk-container-id-1 div.sk-toggleable__content {max-height: 0;max-width: 0;overflow: hidden;text-align: left;background-color: #f0f8ff;}#sk-container-id-1 div.sk-toggleable__content pre {margin: 0.2em;color: black;border-radius: 0.25em;background-color: #f0f8ff;}#sk-container-id-1 input.sk-toggleable__control:checked~div.sk-toggleable__content {max-height: 200px;max-width: 100%;overflow: auto;}#sk-container-id-1 input.sk-toggleable__control:checked~label.sk-toggleable__label-arrow:before {content: \"▾\";}#sk-container-id-1 div.sk-estimator input.sk-toggleable__control:checked~label.sk-toggleable__label {background-color: #d4ebff;}#sk-container-id-1 div.sk-label input.sk-toggleable__control:checked~label.sk-toggleable__label {background-color: #d4ebff;}#sk-container-id-1 input.sk-hidden--visually {border: 0;clip: rect(1px 1px 1px 1px);clip: rect(1px, 1px, 1px, 1px);height: 1px;margin: -1px;overflow: hidden;padding: 0;position: absolute;width: 1px;}#sk-container-id-1 div.sk-estimator {font-family: monospace;background-color: #f0f8ff;border: 1px dotted black;border-radius: 0.25em;box-sizing: border-box;margin-bottom: 0.5em;}#sk-container-id-1 div.sk-estimator:hover {background-color: #d4ebff;}#sk-container-id-1 div.sk-parallel-item::after {content: \"\";width: 100%;border-bottom: 1px solid gray;flex-grow: 1;}#sk-container-id-1 div.sk-label:hover label.sk-toggleable__label {background-color: #d4ebff;}#sk-container-id-1 div.sk-serial::before {content: \"\";position: absolute;border-left: 1px solid gray;box-sizing: border-box;top: 0;bottom: 0;left: 50%;z-index: 0;}#sk-container-id-1 div.sk-serial {display: flex;flex-direction: column;align-items: center;background-color: white;padding-right: 0.2em;padding-left: 0.2em;position: relative;}#sk-container-id-1 div.sk-item {position: relative;z-index: 1;}#sk-container-id-1 div.sk-parallel {display: flex;align-items: stretch;justify-content: center;background-color: white;position: relative;}#sk-container-id-1 div.sk-item::before, #sk-container-id-1 div.sk-parallel-item::before {content: \"\";position: absolute;border-left: 1px solid gray;box-sizing: border-box;top: 0;bottom: 0;left: 50%;z-index: -1;}#sk-container-id-1 div.sk-parallel-item {display: flex;flex-direction: column;z-index: 1;position: relative;background-color: white;}#sk-container-id-1 div.sk-parallel-item:first-child::after {align-self: flex-end;width: 50%;}#sk-container-id-1 div.sk-parallel-item:last-child::after {align-self: flex-start;width: 50%;}#sk-container-id-1 div.sk-parallel-item:only-child::after {width: 0;}#sk-container-id-1 div.sk-dashed-wrapped {border: 1px dashed gray;margin: 0 0.4em 0.5em 0.4em;box-sizing: border-box;padding-bottom: 0.4em;background-color: white;}#sk-container-id-1 div.sk-label label {font-family: monospace;font-weight: bold;display: inline-block;line-height: 1.2em;}#sk-container-id-1 div.sk-label-container {text-align: center;}#sk-container-id-1 div.sk-container {/* jupyter's `normalize.less` sets `[hidden] { display: none; }` but bootstrap.min.css set `[hidden] { display: none !important; }` so we also need the `!important` here to be able to override the default hidden behavior on the sphinx rendered scikit-learn.org. See: https://github.com/scikit-learn/scikit-learn/issues/21755 */display: inline-block !important;position: relative;}#sk-container-id-1 div.sk-text-repr-fallback {display: none;}</style><div id=\"sk-container-id-1\" class=\"sk-top-container\"><div class=\"sk-text-repr-fallback\"><pre>LinearRegression()</pre><b>In a Jupyter environment, please rerun this cell to show the HTML representation or trust the notebook. <br />On GitHub, the HTML representation is unable to render, please try loading this page with nbviewer.org.</b></div><div class=\"sk-container\" hidden><div class=\"sk-item\"><div class=\"sk-estimator sk-toggleable\"><input class=\"sk-toggleable__control sk-hidden--visually\" id=\"sk-estimator-id-1\" type=\"checkbox\" checked><label for=\"sk-estimator-id-1\" class=\"sk-toggleable__label sk-toggleable__label-arrow\">LinearRegression</label><div class=\"sk-toggleable__content\"><pre>LinearRegression()</pre></div></div></div></div></div>"
      ],
      "text/plain": [
       "LinearRegression()"
      ]
     },
     "execution_count": 24,
     "metadata": {},
     "output_type": "execute_result"
    }
   ],
   "source": [
    "from sklearn.linear_model import LinearRegression\n",
    "\n",
    "model = LinearRegression()\n",
    "model.fit(lift(g), lift(L))"
   ]
  },
  {
   "cell_type": "code",
   "execution_count": 25,
   "id": "44aed54b",
   "metadata": {},
   "outputs": [
    {
     "data": {
      "text/plain": [
       "(-3.152078223316115, 0.3502309137017905)"
      ]
     },
     "execution_count": 25,
     "metadata": {},
     "output_type": "execute_result"
    }
   ],
   "source": [
    "beta = model.predict([[0]])[0,0]\n",
    "alpha = model.predict([[1]])[0,0] - beta\n",
    "\n",
    "beta, alpha"
   ]
  },
  {
   "cell_type": "code",
   "execution_count": 26,
   "id": "1d8f53a7",
   "metadata": {},
   "outputs": [
    {
     "data": {
      "image/png": "[encoded data removed]",
      "text/plain": [
       "<Figure size 640x480 with 1 Axes>"
      ]
     },
     "metadata": {},
     "output_type": "display_data"
    }
   ],
   "source": [
    "plt.plot(g, L, 'r', g, alpha * g + beta, 'g')\n",
    "plt.grid(alpha=.1)"
   ]
  },
  {
   "cell_type": "code",
   "execution_count": 27,
   "id": "a025f5e9",
   "metadata": {},
   "outputs": [
    {
     "data": {
      "image/png": "[encoded data removed]",
      "text/plain": [
       "<Figure size 640x480 with 1 Axes>"
      ]
     },
     "metadata": {},
     "output_type": "display_data"
    }
   ],
   "source": [
    "g = np.linspace(-2, 17, 100)\n",
    "plt.axis([-2, 17, -.2, 1.2])\n",
    "plt.plot(g, list(map(prob, g)), 'g',\n",
    "         g, np.exp(alpha * g + beta) / (1 + np.exp(alpha * g + beta)), 'r')\n",
    "plt.grid(alpha=.1)"
   ]
  },
  {
   "cell_type": "code",
   "execution_count": 28,
   "id": "be8f7278",
   "metadata": {},
   "outputs": [
    {
     "data": {
      "text/plain": [
       "array([0.66829016, 0.41332643, 0.89103777, 0.2590921 , 0.5       ,\n",
       "       0.7409079 , 0.2590921 , 0.2590921 , 0.7409079 , 0.5       ,\n",
       "       0.10896223, 0.85209837, 0.66829016, 0.85209837, 0.2590921 ,\n",
       "       0.2590921 , 0.41332643, 0.7409079 , 0.10896223, 0.5       ,\n",
       "       0.7409079 ])"
      ]
     },
     "execution_count": 28,
     "metadata": {},
     "output_type": "execute_result"
    }
   ],
   "source": [
    "pX = np.exp(alpha * X + beta) / (1 + np.exp(alpha * X + beta))\n",
    "pX"
   ]
  },
  {
   "cell_type": "code",
   "execution_count": 29,
   "id": "64cd45f8",
   "metadata": {},
   "outputs": [
    {
     "data": {
      "text/plain": [
       "array([11,  8, 15,  6,  9, 12,  6,  6, 12,  9,  3, 14, 11, 14,  6,  6,  8,\n",
       "       12,  3,  9, 12])"
      ]
     },
     "execution_count": 29,
     "metadata": {},
     "output_type": "execute_result"
    }
   ],
   "source": [
    "X"
   ]
  },
  {
   "cell_type": "code",
   "execution_count": 50,
   "id": "a4a0ee50",
   "metadata": {},
   "outputs": [
    {
     "data": {
      "text/plain": [
       "array([0.66829016, 0.58667357, 0.89103777, 0.7409079 , 0.5       ,\n",
       "       0.2590921 , 0.7409079 , 0.7409079 , 0.7409079 , 0.5       ,\n",
       "       0.89103777, 0.85209837, 0.33170984, 0.85209837, 0.2590921 ,\n",
       "       0.7409079 , 0.41332643, 0.7409079 , 0.89103777, 0.5       ,\n",
       "       0.7409079 ])"
      ]
     },
     "execution_count": 50,
     "metadata": {},
     "output_type": "execute_result"
    }
   ],
   "source": [
    "like = Y * pX + (1 - Y) * (1 - pX)\n",
    "like"
   ]
  },
  {
   "cell_type": "code",
   "execution_count": 54,
   "id": "ce259ceb",
   "metadata": {},
   "outputs": [
    {
     "data": {
      "text/plain": [
       "2.83954569352842e-05"
      ]
     },
     "execution_count": 54,
     "metadata": {},
     "output_type": "execute_result"
    }
   ],
   "source": [
    "like.prod()"
   ]
  },
  {
   "cell_type": "code",
   "execution_count": 80,
   "id": "abf10868",
   "metadata": {},
   "outputs": [],
   "source": [
    "from sklearn.linear_model import LogisticRegression\n",
    "X_T = X[:, np.newaxis]"
   ]
  },
  {
   "cell_type": "code",
   "execution_count": 81,
   "id": "6779630e",
   "metadata": {},
   "outputs": [
    {
     "data": {
      "text/html": [
       "<style>#sk-container-id-5 {color: black;background-color: white;}#sk-container-id-5 pre{padding: 0;}#sk-container-id-5 div.sk-toggleable {background-color: white;}#sk-container-id-5 label.sk-toggleable__label {cursor: pointer;display: block;width: 100%;margin-bottom: 0;padding: 0.3em;box-sizing: border-box;text-align: center;}#sk-container-id-5 label.sk-toggleable__label-arrow:before {content: \"▸\";float: left;margin-right: 0.25em;color: #696969;}#sk-container-id-5 label.sk-toggleable__label-arrow:hover:before {color: black;}#sk-container-id-5 div.sk-estimator:hover label.sk-toggleable__label-arrow:before {color: black;}#sk-container-id-5 div.sk-toggleable__content {max-height: 0;max-width: 0;overflow: hidden;text-align: left;background-color: #f0f8ff;}#sk-container-id-5 div.sk-toggleable__content pre {margin: 0.2em;color: black;border-radius: 0.25em;background-color: #f0f8ff;}#sk-container-id-5 input.sk-toggleable__control:checked~div.sk-toggleable__content {max-height: 200px;max-width: 100%;overflow: auto;}#sk-container-id-5 input.sk-toggleable__control:checked~label.sk-toggleable__label-arrow:before {content: \"▾\";}#sk-container-id-5 div.sk-estimator input.sk-toggleable__control:checked~label.sk-toggleable__label {background-color: #d4ebff;}#sk-container-id-5 div.sk-label input.sk-toggleable__control:checked~label.sk-toggleable__label {background-color: #d4ebff;}#sk-container-id-5 input.sk-hidden--visually {border: 0;clip: rect(1px 1px 1px 1px);clip: rect(1px, 1px, 1px, 1px);height: 1px;margin: -1px;overflow: hidden;padding: 0;position: absolute;width: 1px;}#sk-container-id-5 div.sk-estimator {font-family: monospace;background-color: #f0f8ff;border: 1px dotted black;border-radius: 0.25em;box-sizing: border-box;margin-bottom: 0.5em;}#sk-container-id-5 div.sk-estimator:hover {background-color: #d4ebff;}#sk-container-id-5 div.sk-parallel-item::after {content: \"\";width: 100%;border-bottom: 1px solid gray;flex-grow: 1;}#sk-container-id-5 div.sk-label:hover label.sk-toggleable__label {background-color: #d4ebff;}#sk-container-id-5 div.sk-serial::before {content: \"\";position: absolute;border-left: 1px solid gray;box-sizing: border-box;top: 0;bottom: 0;left: 50%;z-index: 0;}#sk-container-id-5 div.sk-serial {display: flex;flex-direction: column;align-items: center;background-color: white;padding-right: 0.2em;padding-left: 0.2em;position: relative;}#sk-container-id-5 div.sk-item {position: relative;z-index: 1;}#sk-container-id-5 div.sk-parallel {display: flex;align-items: stretch;justify-content: center;background-color: white;position: relative;}#sk-container-id-5 div.sk-item::before, #sk-container-id-5 div.sk-parallel-item::before {content: \"\";position: absolute;border-left: 1px solid gray;box-sizing: border-box;top: 0;bottom: 0;left: 50%;z-index: -1;}#sk-container-id-5 div.sk-parallel-item {display: flex;flex-direction: column;z-index: 1;position: relative;background-color: white;}#sk-container-id-5 div.sk-parallel-item:first-child::after {align-self: flex-end;width: 50%;}#sk-container-id-5 div.sk-parallel-item:last-child::after {align-self: flex-start;width: 50%;}#sk-container-id-5 div.sk-parallel-item:only-child::after {width: 0;}#sk-container-id-5 div.sk-dashed-wrapped {border: 1px dashed gray;margin: 0 0.4em 0.5em 0.4em;box-sizing: border-box;padding-bottom: 0.4em;background-color: white;}#sk-container-id-5 div.sk-label label {font-family: monospace;font-weight: bold;display: inline-block;line-height: 1.2em;}#sk-container-id-5 div.sk-label-container {text-align: center;}#sk-container-id-5 div.sk-container {/* jupyter's `normalize.less` sets `[hidden] { display: none; }` but bootstrap.min.css set `[hidden] { display: none !important; }` so we also need the `!important` here to be able to override the default hidden behavior on the sphinx rendered scikit-learn.org. See: https://github.com/scikit-learn/scikit-learn/issues/21755 */display: inline-block !important;position: relative;}#sk-container-id-5 div.sk-text-repr-fallback {display: none;}</style><div id=\"sk-container-id-5\" class=\"sk-top-container\"><div class=\"sk-text-repr-fallback\"><pre>LogisticRegression()</pre><b>In a Jupyter environment, please rerun this cell to show the HTML representation or trust the notebook. <br />On GitHub, the HTML representation is unable to render, please try loading this page with nbviewer.org.</b></div><div class=\"sk-container\" hidden><div class=\"sk-item\"><div class=\"sk-estimator sk-toggleable\"><input class=\"sk-toggleable__control sk-hidden--visually\" id=\"sk-estimator-id-5\" type=\"checkbox\" checked><label for=\"sk-estimator-id-5\" class=\"sk-toggleable__label sk-toggleable__label-arrow\">LogisticRegression</label><div class=\"sk-toggleable__content\"><pre>LogisticRegression()</pre></div></div></div></div></div>"
      ],
      "text/plain": [
       "LogisticRegression()"
      ]
     },
     "execution_count": 81,
     "metadata": {},
     "output_type": "execute_result"
    }
   ],
   "source": [
    "model = LogisticRegression()\n",
    "model.fit(X_T, Y)"
   ]
  },
  {
   "cell_type": "code",
   "execution_count": 72,
   "id": "3dbb148e",
   "metadata": {},
   "outputs": [
    {
     "data": {
      "text/plain": [
       "array([0])"
      ]
     },
     "execution_count": 72,
     "metadata": {},
     "output_type": "execute_result"
    }
   ],
   "source": [
    "model.predict([[4]])"
   ]
  },
  {
   "cell_type": "code",
   "execution_count": 92,
   "id": "749b658c",
   "metadata": {},
   "outputs": [
    {
     "data": {
      "text/plain": [
       "16"
      ]
     },
     "execution_count": 92,
     "metadata": {},
     "output_type": "execute_result"
    }
   ],
   "source": [
    "sk_predict = model.predict(X_T)\n",
    "np.sum(sk_predict == Y)"
   ]
  },
  {
   "cell_type": "code",
   "execution_count": 98,
   "id": "21c5c600",
   "metadata": {},
   "outputs": [
    {
     "data": {
      "text/plain": [
       "array([[0.2743521 , 0.7256479 ],\n",
       "       [0.59637983, 0.40362017],\n",
       "       [0.05786364, 0.94213636],\n",
       "       [0.78568475, 0.21431525],\n",
       "       [0.48401831, 0.51598169],\n",
       "       [0.19356582, 0.80643418],\n",
       "       [0.78568475, 0.21431525],\n",
       "       [0.78568475, 0.21431525],\n",
       "       [0.19356582, 0.80643418],\n",
       "       [0.48401831, 0.51598169],\n",
       "       [0.93475674, 0.06524326],\n",
       "       [0.08820844, 0.91179156],\n",
       "       [0.2743521 , 0.7256479 ],\n",
       "       [0.08820844, 0.91179156],\n",
       "       [0.78568475, 0.21431525],\n",
       "       [0.78568475, 0.21431525],\n",
       "       [0.59637983, 0.40362017],\n",
       "       [0.19356582, 0.80643418],\n",
       "       [0.93475674, 0.06524326],\n",
       "       [0.48401831, 0.51598169],\n",
       "       [0.19356582, 0.80643418]])"
      ]
     },
     "execution_count": 98,
     "metadata": {},
     "output_type": "execute_result"
    }
   ],
   "source": [
    "sk_pX = model.predict_proba(X_T)\n",
    "sk_pX"
   ]
  },
  {
   "cell_type": "code",
   "execution_count": 108,
   "id": "84e710fd",
   "metadata": {},
   "outputs": [
    {
     "data": {
      "text/plain": [
       "3.5038406152048204e-05"
      ]
     },
     "execution_count": 108,
     "metadata": {},
     "output_type": "execute_result"
    }
   ],
   "source": [
    "sk_like = np.prod(sk_pX[:,1] * Y + (sk_pX[:,0]) * (1 - Y))\n",
    "sk_like"
   ]
  },
  {
   "cell_type": "code",
   "execution_count": null,
   "id": "701a7c2d",
   "metadata": {},
   "outputs": [],
   "source": []
  },
  {
   "cell_type": "code",
   "execution_count": null,
   "id": "c78116b2",
   "metadata": {},
   "outputs": [],
   "source": []
  },
  {
   "cell_type": "code",
   "execution_count": 30,
   "id": "e103bd55",
   "metadata": {},
   "outputs": [
    {
     "data": {
      "text/plain": [
       "[<matplotlib.lines.Line2D at 0x2c43d14a450>]"
      ]
     },
     "execution_count": 30,
     "metadata": {},
     "output_type": "execute_result"
    },
    {
     "data": {
      "image/png": "[encoded data removed]",
      "text/plain": [
       "<Figure size 640x480 with 1 Axes>"
      ]
     },
     "metadata": {},
     "output_type": "display_data"
    }
   ],
   "source": [
    "plt.plot(np.log2(np.linspace(.1,16,1000)))"
   ]
  },
  {
   "cell_type": "code",
   "execution_count": 31,
   "id": "d4466ef1",
   "metadata": {},
   "outputs": [],
   "source": [
    "b = np.linspace(20, 40, 100)"
   ]
  },
  {
   "cell_type": "code",
   "execution_count": 32,
   "id": "77f8d55d",
   "metadata": {},
   "outputs": [
    {
     "data": {
      "text/plain": [
       "[<matplotlib.lines.Line2D at 0x2c43d3e5050>]"
      ]
     },
     "execution_count": 32,
     "metadata": {},
     "output_type": "execute_result"
    },
    {
     "data": {
      "image/png": "[encoded data removed]",
      "text/plain": [
       "<Figure size 640x480 with 1 Axes>"
      ]
     },
     "metadata": {},
     "output_type": "display_data"
    }
   ],
   "source": [
    "plt.plot(list(map(np.log2, map(lambda x: x**3, b))))"
   ]
  },
  {
   "cell_type": "code",
   "execution_count": 33,
   "id": "cdb77869",
   "metadata": {},
   "outputs": [
    {
     "data": {
      "text/plain": [
       "[<matplotlib.lines.Line2D at 0x2c43d425890>]"
      ]
     },
     "execution_count": 33,
     "metadata": {},
     "output_type": "execute_result"
    },
    {
     "data": {
      "image/png": "[encoded data removed]",
      "text/plain": [
       "<Figure size 640x480 with 1 Axes>"
      ]
     },
     "metadata": {},
     "output_type": "display_data"
    }
   ],
   "source": [
    "plt.plot(list(map(lambda x: x**8, b)))"
   ]
  },
  {
   "cell_type": "code",
   "execution_count": 34,
   "id": "c2361525",
   "metadata": {},
   "outputs": [
    {
     "data": {
      "text/plain": [
       "array([[ 2.  , -0.5 ],\n",
       "       [ 1.  ,  0.25]])"
      ]
     },
     "execution_count": 34,
     "metadata": {},
     "output_type": "execute_result"
    }
   ],
   "source": [
    "x = np.array([[2, -.5],\n",
    "              [1, .25]])\n",
    "x"
   ]
  },
  {
   "cell_type": "code",
   "execution_count": 35,
   "id": "072ea07a",
   "metadata": {},
   "outputs": [],
   "source": [
    "x_inverse = np.linalg.inv(x)"
   ]
  },
  {
   "cell_type": "code",
   "execution_count": 36,
   "id": "2d28df31",
   "metadata": {},
   "outputs": [
    {
     "data": {
      "text/plain": [
       "array([[1., 0.],\n",
       "       [0., 1.]])"
      ]
     },
     "execution_count": 36,
     "metadata": {},
     "output_type": "execute_result"
    }
   ],
   "source": [
    "x @ x_inverse"
   ]
  },
  {
   "cell_type": "code",
   "execution_count": 37,
   "id": "466accde",
   "metadata": {},
   "outputs": [
    {
     "data": {
      "text/plain": [
       "array([[1., 0.],\n",
       "       [0., 1.]])"
      ]
     },
     "execution_count": 37,
     "metadata": {},
     "output_type": "execute_result"
    }
   ],
   "source": [
    "x_inverse @ x"
   ]
  },
  {
   "cell_type": "code",
   "execution_count": 38,
   "id": "876053d7",
   "metadata": {},
   "outputs": [
    {
     "data": {
      "text/latex": [
       "$\\displaystyle 3 x^{2} - 2 x$"
      ],
      "text/plain": [
       "3*x**2 - 2*x"
      ]
     },
     "execution_count": 38,
     "metadata": {},
     "output_type": "execute_result"
    }
   ],
   "source": [
    "import sympy as sp\n",
    "from sympy import latex\n",
    "x, a, h = sp.symbols(('x', 'a', 'h'))\n",
    "\n",
    "expr = 3 * x**2 - 2 * x\n",
    "expr"
   ]
  },
  {
   "cell_type": "code",
   "execution_count": 39,
   "id": "c7d9861f",
   "metadata": {},
   "outputs": [],
   "source": [
    "a_h = expr.subs(x, (a+h))\n",
    "a = expr.subs(x, a)"
   ]
  },
  {
   "cell_type": "code",
   "execution_count": 40,
   "id": "891a9757",
   "metadata": {},
   "outputs": [
    {
     "data": {
      "text/latex": [
       "$\\displaystyle \\frac{- 3 a^{2} - 2 h + 3 \\left(a + h\\right)^{2}}{h}$"
      ],
      "text/plain": [
       "(-3*a**2 - 2*h + 3*(a + h)**2)/h"
      ]
     },
     "execution_count": 40,
     "metadata": {},
     "output_type": "execute_result"
    }
   ],
   "source": [
    "expr_ = (a_h - a) / h\n",
    "expr_"
   ]
  },
  {
   "cell_type": "code",
   "execution_count": 41,
   "id": "5e47b098",
   "metadata": {},
   "outputs": [
    {
     "data": {
      "text/latex": [
       "$\\displaystyle 6 a + 3 h - 2$"
      ],
      "text/plain": [
       "6*a + 3*h - 2"
      ]
     },
     "execution_count": 41,
     "metadata": {},
     "output_type": "execute_result"
    }
   ],
   "source": [
    "expr2 = sp.expand(expr_)\n",
    "expr2"
   ]
  },
  {
   "cell_type": "code",
   "execution_count": 42,
   "id": "fc720d21",
   "metadata": {},
   "outputs": [
    {
     "data": {
      "text/latex": [
       "$\\displaystyle 6 a - 2$"
      ],
      "text/plain": [
       "6*a - 2"
      ]
     },
     "metadata": {},
     "output_type": "display_data"
    }
   ],
   "source": [
    "display(expr2.subs(h,0))"
   ]
  },
  {
   "cell_type": "code",
   "execution_count": 43,
   "id": "dc5783cf",
   "metadata": {},
   "outputs": [],
   "source": [
    "def gradient(co):\n",
    "    x, a, h = sp.symbols(('x', 'a', 'h'))\n",
    "    expr = sum(co[i]*x**i for i in range(len(co)))\n",
    "    display(expr)\n",
    "    a_h = expr.subs(x, (a+h))\n",
    "    a = expr.subs(x, a)\n",
    "    expr_ = (a_h - a) / h\n",
    "    display(expr_)\n",
    "    expr__ = sp.expand(expr_)\n",
    "    display(expr__)\n",
    "    display(expr__.subs(h,0))"
   ]
  },
  {
   "cell_type": "code",
   "execution_count": 44,
   "id": "1cea69a4",
   "metadata": {},
   "outputs": [
    {
     "data": {
      "text/latex": [
       "$\\displaystyle 4 x^{6} + 2 x^{5} + x^{4} + 2 x^{3}$"
      ],
      "text/plain": [
       "4*x**6 + 2*x**5 + x**4 + 2*x**3"
      ]
     },
     "metadata": {},
     "output_type": "display_data"
    },
    {
     "data": {
      "text/latex": [
       "$\\displaystyle \\frac{- 4 a^{6} - 2 a^{5} - a^{4} - 2 a^{3} + 4 \\left(a + h\\right)^{6} + 2 \\left(a + h\\right)^{5} + \\left(a + h\\right)^{4} + 2 \\left(a + h\\right)^{3}}{h}$"
      ],
      "text/plain": [
       "(-4*a**6 - 2*a**5 - a**4 - 2*a**3 + 4*(a + h)**6 + 2*(a + h)**5 + (a + h)**4 + 2*(a + h)**3)/h"
      ]
     },
     "metadata": {},
     "output_type": "display_data"
    },
    {
     "data": {
      "text/latex": [
       "$\\displaystyle 24 a^{5} + 60 a^{4} h + 10 a^{4} + 80 a^{3} h^{2} + 20 a^{3} h + 4 a^{3} + 60 a^{2} h^{3} + 20 a^{2} h^{2} + 6 a^{2} h + 6 a^{2} + 24 a h^{4} + 10 a h^{3} + 4 a h^{2} + 6 a h + 4 h^{5} + 2 h^{4} + h^{3} + 2 h^{2}$"
      ],
      "text/plain": [
       "24*a**5 + 60*a**4*h + 10*a**4 + 80*a**3*h**2 + 20*a**3*h + 4*a**3 + 60*a**2*h**3 + 20*a**2*h**2 + 6*a**2*h + 6*a**2 + 24*a*h**4 + 10*a*h**3 + 4*a*h**2 + 6*a*h + 4*h**5 + 2*h**4 + h**3 + 2*h**2"
      ]
     },
     "metadata": {},
     "output_type": "display_data"
    },
    {
     "data": {
      "text/latex": [
       "$\\displaystyle 24 a^{5} + 10 a^{4} + 4 a^{3} + 6 a^{2}$"
      ],
      "text/plain": [
       "24*a**5 + 10*a**4 + 4*a**3 + 6*a**2"
      ]
     },
     "metadata": {},
     "output_type": "display_data"
    }
   ],
   "source": [
    "gradient([0, 0, 0, 2, 1, 2, 4])"
   ]
  },
  {
   "cell_type": "code",
   "execution_count": 45,
   "id": "b2cf2cb7",
   "metadata": {},
   "outputs": [],
   "source": [
    "import fractions"
   ]
  },
  {
   "cell_type": "code",
   "execution_count": 46,
   "id": "dd31c8b7",
   "metadata": {},
   "outputs": [
    {
     "data": {
      "text/plain": [
       "['Decimal',\n",
       " 'Fraction',\n",
       " '_PyHASH_INF',\n",
       " '_PyHASH_MODULUS',\n",
       " '_RATIONAL_FORMAT',\n",
       " '__all__',\n",
       " '__builtins__',\n",
       " '__cached__',\n",
       " '__doc__',\n",
       " '__file__',\n",
       " '__loader__',\n",
       " '__name__',\n",
       " '__package__',\n",
       " '__spec__',\n",
       " 'math',\n",
       " 'numbers',\n",
       " 'operator',\n",
       " 're',\n",
       " 'sys']"
      ]
     },
     "execution_count": 46,
     "metadata": {},
     "output_type": "execute_result"
    }
   ],
   "source": [
    "dir(fractions)"
   ]
  },
  {
   "cell_type": "code",
   "execution_count": null,
   "id": "8b344998",
   "metadata": {},
   "outputs": [],
   "source": []
  }
 ],
 "metadata": {
  "kernelspec": {
   "display_name": "Python 3 (ipykernel)",
   "language": "python",
   "name": "python3"
  },
  "language_info": {
   "codemirror_mode": {
    "name": "ipython",
    "version": 3
   },
   "file_extension": ".py",
   "mimetype": "text/x-python",
   "name": "python",
   "nbconvert_exporter": "python",
   "pygments_lexer": "ipython3",
   "version": "3.11.3"
  }
 },
 "nbformat": 4,
 "nbformat_minor": 5
}
