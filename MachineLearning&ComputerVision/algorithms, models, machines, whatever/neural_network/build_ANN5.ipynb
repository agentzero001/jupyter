{
 "cells": [
  {
   "cell_type": "code",
   "execution_count": 1,
   "id": "de17a866",
   "metadata": {},
   "outputs": [],
   "source": [
    "import numpy as np\n",
    "import matplotlib.pyplot as plt\n",
    "plt.rcParams['figure.facecolor'] = '0.2'"
   ]
  },
  {
   "cell_type": "code",
   "execution_count": 2,
   "id": "cdd3838f",
   "metadata": {},
   "outputs": [
    {
     "data": {
      "text/plain": [
       "(15, 6)"
      ]
     },
     "execution_count": 2,
     "metadata": {},
     "output_type": "execute_result"
    }
   ],
   "source": [
    "obs = 15\n",
    "np.random.seed(15)\n",
    "data = np.random.randint(0,5, obs*5).reshape(obs,5)\n",
    "data_unique = np.unique(data, axis=0)\n",
    "xs = np.c_[np.ones([data_unique.shape[0]]), data_unique] \n",
    "xs.shape"
   ]
  },
  {
   "cell_type": "code",
   "execution_count": 3,
   "id": "502ddbd8",
   "metadata": {},
   "outputs": [
    {
     "data": {
      "text/plain": [
       "array([[1., 0., 3., 0., 4., 3.],\n",
       "       [1., 0., 3., 2., 4., 2.],\n",
       "       [1., 0., 4., 0., 4., 3.],\n",
       "       [1., 0., 4., 4., 4., 3.]])"
      ]
     },
     "execution_count": 3,
     "metadata": {},
     "output_type": "execute_result"
    }
   ],
   "source": [
    "xs[:4]"
   ]
  },
  {
   "cell_type": "code",
   "execution_count": 4,
   "id": "cc9da5ac",
   "metadata": {},
   "outputs": [
    {
     "data": {
      "text/plain": [
       "array([[5],\n",
       "       [3],\n",
       "       [3],\n",
       "       [4]])"
      ]
     },
     "execution_count": 4,
     "metadata": {},
     "output_type": "execute_result"
    }
   ],
   "source": [
    "ys = np.random.choice(list(range(1,10)), obs)\n",
    "ys.resize(obs,1)\n",
    "ys[:4]"
   ]
  },
  {
   "cell_type": "code",
   "execution_count": 17,
   "id": "822933a9",
   "metadata": {},
   "outputs": [],
   "source": [
    "weights = np.random.randn"
   ]
  },
  {
   "cell_type": "code",
   "execution_count": 18,
   "id": "3698c04e",
   "metadata": {},
   "outputs": [],
   "source": [
    "ins = 5\n",
    "outs = 1\n",
    "nodes = 18\n",
    "lr = .01\n",
    "\n",
    "w0 = weights(ins+1, nodes)\n",
    "w1 = weights(nodes, outs) \n",
    "err = []"
   ]
  },
  {
   "cell_type": "code",
   "execution_count": 19,
   "id": "4852c972",
   "metadata": {},
   "outputs": [
    {
     "data": {
      "text/plain": [
       "((15, 6), (6, 18), (18, 1), (15, 1))"
      ]
     },
     "execution_count": 19,
     "metadata": {},
     "output_type": "execute_result"
    }
   ],
   "source": [
    "xs.shape, w0.shape, w1.shape, ys.shape"
   ]
  },
  {
   "cell_type": "code",
   "execution_count": 20,
   "id": "f1ee8a28",
   "metadata": {},
   "outputs": [
    {
     "name": "stdout",
     "output_type": "stream",
     "text": [
      "we have converged after 190 iterations\n",
      "[[ 0.37620718]\n",
      " [-0.68966391]\n",
      " [ 0.80736727]\n",
      " [ 0.65304041]\n",
      " [-0.36283191]\n",
      " [-0.70973016]\n",
      " [-0.91038753]\n",
      " [-0.76604708]\n",
      " [-0.60129436]\n",
      " [ 0.74841344]\n",
      " [ 0.65852167]\n",
      " [ 0.67746701]\n",
      " [-0.45202488]\n",
      " [ 0.61831104]\n",
      " [-0.56514083]\n",
      " [-0.4548562 ]\n",
      " [-0.40721872]\n",
      " [ 0.43407892]]\n"
     ]
    }
   ],
   "source": [
    "for i in range(10000):\n",
    "    x0 = xs\n",
    "    z0 = x0 @ w0\n",
    "    x1 = np.sin(z0)\n",
    "    yh = x1 @ w1\n",
    "    \n",
    "    e  = (yh - ys) * 1\n",
    "    e0 = (e * w1.T) * np.cos(z0)\n",
    "\n",
    "    w1 -= (x1.T @ e) * lr\n",
    "    w0 -= (x0.T @ e0) * lr\n",
    "    \n",
    "    e  = np.sum(np.abs(e))\n",
    "    \n",
    "    if e < .0001:\n",
    "        print('we have converged after {} iterations'.format(i))\n",
    "        print(w1)\n",
    "        break\n",
    "    err.append(e)"
   ]
  },
  {
   "cell_type": "code",
   "execution_count": 21,
   "id": "1ed1e944",
   "metadata": {},
   "outputs": [
    {
     "data": {
      "text/plain": [
       "(190, 0.00010024331620317461)"
      ]
     },
     "execution_count": 21,
     "metadata": {},
     "output_type": "execute_result"
    }
   ],
   "source": [
    "len(err), min(err)"
   ]
  },
  {
   "cell_type": "code",
   "execution_count": 22,
   "id": "1b29e1a7",
   "metadata": {},
   "outputs": [
    {
     "data": {
      "image/png": "[encoded data removed]",
      "text/plain": [
       "<Figure size 640x480 with 1 Axes>"
      ]
     },
     "metadata": {},
     "output_type": "display_data"
    }
   ],
   "source": [
    "plt.axes().set_facecolor('black')\n",
    "plt.plot(err,color='red', linewidth=1)\n",
    "plt.show()"
   ]
  },
  {
   "cell_type": "code",
   "execution_count": 10,
   "id": "b0d3666f",
   "metadata": {},
   "outputs": [
    {
     "data": {
      "text/plain": [
       "array([[4.99999524],\n",
       "       [2.99997809],\n",
       "       [2.99999861],\n",
       "       [4.00001082],\n",
       "       [4.000006  ],\n",
       "       [5.0000007 ],\n",
       "       [4.00000684],\n",
       "       [6.00000294],\n",
       "       [3.99999519],\n",
       "       [0.99999974],\n",
       "       [0.99999526],\n",
       "       [7.00000025],\n",
       "       [1.99999284],\n",
       "       [3.00001447],\n",
       "       [3.00000432]])"
      ]
     },
     "execution_count": 10,
     "metadata": {},
     "output_type": "execute_result"
    }
   ],
   "source": [
    "yh"
   ]
  },
  {
   "cell_type": "code",
   "execution_count": 11,
   "id": "2843e01f",
   "metadata": {},
   "outputs": [
    {
     "data": {
      "text/plain": [
       "array([[5],\n",
       "       [3],\n",
       "       [3],\n",
       "       [4],\n",
       "       [4],\n",
       "       [5],\n",
       "       [4],\n",
       "       [6],\n",
       "       [4],\n",
       "       [1],\n",
       "       [1],\n",
       "       [7],\n",
       "       [2],\n",
       "       [3],\n",
       "       [3]])"
      ]
     },
     "execution_count": 11,
     "metadata": {},
     "output_type": "execute_result"
    }
   ],
   "source": [
    "ys"
   ]
  },
  {
   "cell_type": "code",
   "execution_count": null,
   "id": "ffa06ea8",
   "metadata": {},
   "outputs": [],
   "source": []
  },
  {
   "cell_type": "code",
   "execution_count": null,
   "id": "582760b0",
   "metadata": {},
   "outputs": [],
   "source": []
  }
 ],
 "metadata": {
  "kernelspec": {
   "display_name": "Python 3 (ipykernel)",
   "language": "python",
   "name": "python3"
  },
  "language_info": {
   "codemirror_mode": {
    "name": "ipython",
    "version": 3
   },
   "file_extension": ".py",
   "mimetype": "text/x-python",
   "name": "python",
   "nbconvert_exporter": "python",
   "pygments_lexer": "ipython3",
   "version": "3.11.3"
  }
 },
 "nbformat": 4,
 "nbformat_minor": 5
}
