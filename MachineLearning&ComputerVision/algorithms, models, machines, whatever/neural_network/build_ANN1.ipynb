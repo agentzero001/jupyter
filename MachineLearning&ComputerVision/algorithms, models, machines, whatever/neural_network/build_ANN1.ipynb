{
 "cells": [
  {
   "cell_type": "code",
   "execution_count": 2,
   "id": "de17a866",
   "metadata": {},
   "outputs": [],
   "source": [
    "import numpy as np\n",
    "import matplotlib.pyplot as plt\n",
    "plt.rcParams['figure.facecolor'] = '0.2'"
   ]
  },
  {
   "cell_type": "code",
   "execution_count": 3,
   "id": "cdd3838f",
   "metadata": {},
   "outputs": [
    {
     "data": {
      "text/plain": [
       "array([[1, 1, 1, 0, 0],\n",
       "       [1, 0, 1, 0, 1],\n",
       "       [0, 1, 0, 0, 1],\n",
       "       [1, 0, 1, 1, 0],\n",
       "       [0, 0, 1, 1, 0]])"
      ]
     },
     "execution_count": 3,
     "metadata": {},
     "output_type": "execute_result"
    }
   ],
   "source": [
    "np.random.seed(17)\n",
    "xs = np.random.randint(0, 2, 5*5).reshape(5,5)\n",
    "xs"
   ]
  },
  {
   "cell_type": "code",
   "execution_count": 4,
   "id": "5201c637",
   "metadata": {},
   "outputs": [
    {
     "data": {
      "text/plain": [
       "array([[ 1],\n",
       "       [ 1],\n",
       "       [-1],\n",
       "       [ 0],\n",
       "       [ 0]])"
      ]
     },
     "execution_count": 4,
     "metadata": {},
     "output_type": "execute_result"
    }
   ],
   "source": [
    "ws_desired = np.array([1, 1, -1, 0, 0])\n",
    "ws_desired.resize(5,1)\n",
    "ws_desired"
   ]
  },
  {
   "cell_type": "code",
   "execution_count": 5,
   "id": "cc9da5ac",
   "metadata": {},
   "outputs": [
    {
     "data": {
      "text/plain": [
       "array([[ 1],\n",
       "       [ 0],\n",
       "       [ 1],\n",
       "       [ 0],\n",
       "       [-1]])"
      ]
     },
     "execution_count": 5,
     "metadata": {},
     "output_type": "execute_result"
    }
   ],
   "source": [
    "ys = xs @ ws_desired\n",
    "ys"
   ]
  },
  {
   "cell_type": "code",
   "execution_count": 6,
   "id": "f1ee8a28",
   "metadata": {},
   "outputs": [
    {
     "name": "stdout",
     "output_type": "stream",
     "text": [
      "we have converged after 1682 iterations\n",
      "[[ 0.98969686]\n",
      " [ 0.99401681]\n",
      " [-0.99271895]\n",
      " [ 0.01384149]\n",
      " [ 0.00129608]]\n"
     ]
    }
   ],
   "source": [
    "weights = lambda ins, outs: np.random.randn(ins, outs)\n",
    "weights = np.random.randn\n",
    "err = []\n",
    "ins, outs = 5, 1\n",
    "\n",
    "ws = weights(ins, outs)   #initialisation of weights\n",
    "\n",
    "\n",
    "for i in range(5000):\n",
    "    \n",
    "    yh = xs @ ws\n",
    "    e = yh - ys           \n",
    "    e = np.sum(np.abs(e)) \n",
    "    \n",
    "    if e < 0.05:\n",
    "        print('we have converged after {} iterations'.format(i))\n",
    "        print(ws)\n",
    "        break\n",
    "    else: \n",
    "        mutation = weights(ins, outs)*0.03\n",
    "        cw = ws + mutation\n",
    "        \n",
    "        yh = xs @ cw\n",
    "        ce = yh - ys\n",
    "        ce = np.sum(np.abs(ce))\n",
    "        if ce < e:\n",
    "            ws = cw\n",
    "            \n",
    "    err.append(e)    "
   ]
  },
  {
   "cell_type": "code",
   "execution_count": 7,
   "id": "1b29e1a7",
   "metadata": {},
   "outputs": [
    {
     "data": {
      "image/png": "[encoded data removed]",
      "text/plain": [
       "<Figure size 640x480 with 1 Axes>"
      ]
     },
     "metadata": {},
     "output_type": "display_data"
    }
   ],
   "source": [
    "plt.axes().set_facecolor('black')\n",
    "plt.plot(err,color='red', linewidth=1)\n",
    "plt.show()"
   ]
  },
  {
   "cell_type": "code",
   "execution_count": 8,
   "id": "4c9fdea6",
   "metadata": {},
   "outputs": [
    {
     "data": {
      "text/plain": [
       "True"
      ]
     },
     "execution_count": 8,
     "metadata": {},
     "output_type": "execute_result"
    }
   ],
   "source": [
    "min(err) == err[-1]"
   ]
  },
  {
   "cell_type": "code",
   "execution_count": 9,
   "id": "a70d4a1c",
   "metadata": {},
   "outputs": [
    {
     "data": {
      "text/plain": [
       "array([[ 0.99099471],\n",
       "       [-0.00172601],\n",
       "       [ 0.99531289],\n",
       "       [ 0.01081939],\n",
       "       [-0.97887746]])"
      ]
     },
     "execution_count": 9,
     "metadata": {},
     "output_type": "execute_result"
    }
   ],
   "source": [
    "yh"
   ]
  },
  {
   "cell_type": "code",
   "execution_count": null,
   "id": "d47772c3",
   "metadata": {},
   "outputs": [],
   "source": []
  }
 ],
 "metadata": {
  "kernelspec": {
   "display_name": "Python 3 (ipykernel)",
   "language": "python",
   "name": "python3"
  },
  "language_info": {
   "codemirror_mode": {
    "name": "ipython",
    "version": 3
   },
   "file_extension": ".py",
   "mimetype": "text/x-python",
   "name": "python",
   "nbconvert_exporter": "python",
   "pygments_lexer": "ipython3",
   "version": "3.11.3"
  }
 },
 "nbformat": 4,
 "nbformat_minor": 5
}
