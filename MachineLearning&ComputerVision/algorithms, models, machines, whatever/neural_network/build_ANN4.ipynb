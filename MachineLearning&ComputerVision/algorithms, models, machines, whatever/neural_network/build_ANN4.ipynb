{
 "cells": [
  {
   "cell_type": "code",
   "execution_count": 17,
   "id": "de17a866",
   "metadata": {},
   "outputs": [],
   "source": [
    "import numpy as np\n",
    "import matplotlib.pyplot as plt\n",
    "plt.rcParams['figure.facecolor'] = '0.2'"
   ]
  },
  {
   "cell_type": "code",
   "execution_count": 18,
   "id": "cdd3838f",
   "metadata": {},
   "outputs": [
    {
     "data": {
      "text/plain": [
       "(12, 6)"
      ]
     },
     "execution_count": 18,
     "metadata": {},
     "output_type": "execute_result"
    }
   ],
   "source": [
    "obs = 12\n",
    "np.random.seed(15)\n",
    "data = np.random.randint(0,5, obs*5).reshape(obs,5)\n",
    "data_unique = np.unique(data, axis=0)\n",
    "xs = np.c_[np.ones([data_unique.shape[0]]), data_unique] \n",
    "ys = np.random.choice(list(range(1,10)), obs)\n",
    "ys.resize(obs,1)\n",
    "\n",
    "xs.shape"
   ]
  },
  {
   "cell_type": "code",
   "execution_count": 19,
   "id": "502ddbd8",
   "metadata": {},
   "outputs": [
    {
     "data": {
      "text/plain": [
       "array([[1., 0., 3., 0., 4., 3.],\n",
       "       [1., 0., 4., 0., 4., 3.],\n",
       "       [1., 1., 0., 0., 4., 0.],\n",
       "       [1., 1., 2., 0., 0., 0.]])"
      ]
     },
     "execution_count": 19,
     "metadata": {},
     "output_type": "execute_result"
    }
   ],
   "source": [
    "xs[:4]"
   ]
  },
  {
   "cell_type": "code",
   "execution_count": 20,
   "id": "cc9da5ac",
   "metadata": {},
   "outputs": [
    {
     "data": {
      "text/plain": [
       "array([[1],\n",
       "       [8],\n",
       "       [7],\n",
       "       [5]])"
      ]
     },
     "execution_count": 20,
     "metadata": {},
     "output_type": "execute_result"
    }
   ],
   "source": [
    "ys[:4]"
   ]
  },
  {
   "cell_type": "code",
   "execution_count": 21,
   "id": "822933a9",
   "metadata": {},
   "outputs": [],
   "source": [
    "weights = lambda ins, outs: np.random.randn(ins, outs)"
   ]
  },
  {
   "cell_type": "code",
   "execution_count": 55,
   "id": "3698c04e",
   "metadata": {},
   "outputs": [],
   "source": [
    "ins = 5\n",
    "outs = 1\n",
    "nodes = 15\n",
    "\n",
    "wi = weights(ins+1, nodes)\n",
    "ws = weights(nodes, outs) \n",
    "err = []"
   ]
  },
  {
   "cell_type": "code",
   "execution_count": 56,
   "id": "f1ee8a28",
   "metadata": {},
   "outputs": [
    {
     "name": "stdout",
     "output_type": "stream",
     "text": [
      "we have converged after 344 iterations\n",
      "[[-2.5071291 ]\n",
      " [-1.31451421]\n",
      " [-0.89211411]\n",
      " [ 1.26385993]\n",
      " [ 0.97986975]\n",
      " [ 3.1486048 ]\n",
      " [-0.06010644]\n",
      " [ 2.62110117]\n",
      " [-0.8988105 ]\n",
      " [ 1.18465568]\n",
      " [-0.64727365]\n",
      " [-0.44758295]\n",
      " [ 1.1400236 ]\n",
      " [ 0.07818637]\n",
      " [ 2.03811435]]\n"
     ]
    }
   ],
   "source": [
    "for i in range(10000):\n",
    "    x = xs @ wi\n",
    "    x = np.sin(x)\n",
    "    yh = x @ ws\n",
    "    e = (yh - ys) * 1\n",
    "    ws -= (x.T @ e) * .03\n",
    "    e = np.sum(np.abs(e))\n",
    "    if e < .05:\n",
    "        print('we have converged after {} iterations'.format(i))\n",
    "        print(ws)\n",
    "        break\n",
    "    err.append(e)"
   ]
  },
  {
   "cell_type": "code",
   "execution_count": 54,
   "id": "1ed1e944",
   "metadata": {},
   "outputs": [
    {
     "data": {
      "text/plain": [
       "0.05018926312437233"
      ]
     },
     "execution_count": 54,
     "metadata": {},
     "output_type": "execute_result"
    }
   ],
   "source": [
    "min(err)"
   ]
  },
  {
   "cell_type": "code",
   "execution_count": 49,
   "id": "1b29e1a7",
   "metadata": {},
   "outputs": [
    {
     "data": {
      "image/png": "[encoded data removed]",
      "text/plain": [
       "<Figure size 640x480 with 1 Axes>"
      ]
     },
     "metadata": {},
     "output_type": "display_data"
    }
   ],
   "source": [
    "plt.axes().set_facecolor('black')\n",
    "plt.plot(err,color='red', linewidth=1)\n",
    "plt.show()"
   ]
  },
  {
   "cell_type": "code",
   "execution_count": 26,
   "id": "e5eb0145",
   "metadata": {},
   "outputs": [
    {
     "data": {
      "text/plain": [
       "array([[1.00649516],\n",
       "       [7.99857014],\n",
       "       [7.0002364 ],\n",
       "       [5.00362302],\n",
       "       [5.00261706],\n",
       "       [4.00838784],\n",
       "       [7.99315686],\n",
       "       [6.0025171 ],\n",
       "       [6.99752834],\n",
       "       [1.00784783],\n",
       "       [0.9941592 ],\n",
       "       [4.99833955]])"
      ]
     },
     "execution_count": 26,
     "metadata": {},
     "output_type": "execute_result"
    }
   ],
   "source": [
    "yh"
   ]
  },
  {
   "cell_type": "code",
   "execution_count": 27,
   "id": "9828a054",
   "metadata": {},
   "outputs": [
    {
     "data": {
      "text/plain": [
       "array([[1],\n",
       "       [8],\n",
       "       [7],\n",
       "       [5],\n",
       "       [5],\n",
       "       [4],\n",
       "       [8],\n",
       "       [6],\n",
       "       [7],\n",
       "       [1],\n",
       "       [1],\n",
       "       [5]])"
      ]
     },
     "execution_count": 27,
     "metadata": {},
     "output_type": "execute_result"
    }
   ],
   "source": [
    "ys"
   ]
  },
  {
   "cell_type": "code",
   "execution_count": 28,
   "id": "fc4d0771",
   "metadata": {},
   "outputs": [],
   "source": [
    "a, b, c, d = -20, 3, 5, 6"
   ]
  },
  {
   "cell_type": "code",
   "execution_count": 29,
   "id": "7afc5290",
   "metadata": {},
   "outputs": [
    {
     "data": {
      "text/plain": [
       "-127"
      ]
     },
     "execution_count": 29,
     "metadata": {},
     "output_type": "execute_result"
    }
   ],
   "source": [
    "a*(b+c) + b*(c+d)"
   ]
  },
  {
   "cell_type": "code",
   "execution_count": 30,
   "id": "398320cd",
   "metadata": {},
   "outputs": [
    {
     "data": {
      "text/plain": [
       "-127"
      ]
     },
     "execution_count": 30,
     "metadata": {},
     "output_type": "execute_result"
    }
   ],
   "source": [
    "a*b + a*c + b*c + b*d"
   ]
  },
  {
   "cell_type": "code",
   "execution_count": 31,
   "id": "cab7e398",
   "metadata": {},
   "outputs": [
    {
     "data": {
      "text/plain": [
       "6"
      ]
     },
     "execution_count": 31,
     "metadata": {},
     "output_type": "execute_result"
    }
   ],
   "source": [
    "-3 * (b - 5)"
   ]
  },
  {
   "cell_type": "code",
   "execution_count": 32,
   "id": "ba7ba3d6",
   "metadata": {},
   "outputs": [
    {
     "data": {
      "text/plain": [
       "6"
      ]
     },
     "execution_count": 32,
     "metadata": {},
     "output_type": "execute_result"
    }
   ],
   "source": [
    "3 * (-b + 5)"
   ]
  },
  {
   "cell_type": "code",
   "execution_count": null,
   "id": "9b367046",
   "metadata": {},
   "outputs": [],
   "source": []
  }
 ],
 "metadata": {
  "kernelspec": {
   "display_name": "Python 3 (ipykernel)",
   "language": "python",
   "name": "python3"
  },
  "language_info": {
   "codemirror_mode": {
    "name": "ipython",
    "version": 3
   },
   "file_extension": ".py",
   "mimetype": "text/x-python",
   "name": "python",
   "nbconvert_exporter": "python",
   "pygments_lexer": "ipython3",
   "version": "3.9.13"
  }
 },
 "nbformat": 4,
 "nbformat_minor": 5
}
