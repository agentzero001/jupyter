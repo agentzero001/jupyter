{
 "cells": [
  {
   "cell_type": "code",
   "execution_count": 3,
   "id": "de17a866",
   "metadata": {},
   "outputs": [],
   "source": [
    "import numpy as np\n",
    "import matplotlib.pyplot as plt\n",
    "plt.rcParams['figure.facecolor'] = '0.2'"
   ]
  },
  {
   "cell_type": "code",
   "execution_count": 4,
   "id": "cdd3838f",
   "metadata": {},
   "outputs": [
    {
     "data": {
      "text/plain": [
       "array([[1., 0., 1., 0., 1., 0.],\n",
       "       [1., 0., 0., 1., 1., 0.],\n",
       "       [1., 1., 1., 0., 1., 0.],\n",
       "       [1., 1., 1., 1., 0., 1.],\n",
       "       [1., 0., 0., 0., 1., 0.]])"
      ]
     },
     "execution_count": 4,
     "metadata": {},
     "output_type": "execute_result"
    }
   ],
   "source": [
    "np.random.seed(15)\n",
    "data =  np.array([0,1,0,1,0,0,0,1,1,0,1,1,0,1,0,1,1,1,0,1,0,0,0,1,0]).reshape(5,5)\n",
    "xs = np.c_[np.ones([data.shape[0]]), data] \n",
    "xs"
   ]
  },
  {
   "cell_type": "code",
   "execution_count": 5,
   "id": "cc9da5ac",
   "metadata": {},
   "outputs": [
    {
     "data": {
      "text/plain": [
       "array([[0],\n",
       "       [0],\n",
       "       [0],\n",
       "       [3],\n",
       "       [3]])"
      ]
     },
     "execution_count": 5,
     "metadata": {},
     "output_type": "execute_result"
    }
   ],
   "source": [
    "ys = np.array([0, 0, 0, 3, 3])\n",
    "ys.resize(5,1)\n",
    "ys"
   ]
  },
  {
   "cell_type": "code",
   "execution_count": 6,
   "id": "822933a9",
   "metadata": {},
   "outputs": [],
   "source": [
    "weights = lambda ins, outs: np.random.randn(ins, outs)"
   ]
  },
  {
   "cell_type": "code",
   "execution_count": 10,
   "id": "3698c04e",
   "metadata": {},
   "outputs": [],
   "source": [
    "ins = 5\n",
    "outs = 1\n",
    "nodes = 15\n",
    "\n",
    "wi = weights(ins+1, nodes)\n",
    "ws = weights(nodes, outs) \n",
    "err = []"
   ]
  },
  {
   "cell_type": "code",
   "execution_count": 14,
   "id": "f1ee8a28",
   "metadata": {},
   "outputs": [
    {
     "name": "stdout",
     "output_type": "stream",
     "text": [
      "we have converged after 2221 iterations\n",
      "[[ 0.52776656]\n",
      " [-1.25570148]\n",
      " [-0.30486697]\n",
      " [ 0.16654578]\n",
      " [ 2.42276953]\n",
      " [-0.03725215]\n",
      " [-1.66825895]\n",
      " [ 0.50589228]\n",
      " [ 0.2501897 ]\n",
      " [-2.20647916]\n",
      " [-1.3390737 ]\n",
      " [-0.15185934]\n",
      " [ 0.82963671]\n",
      " [ 1.93238004]\n",
      " [-1.42462325]]\n"
     ]
    }
   ],
   "source": [
    "for i in range(5000):\n",
    "    x = xs @ wi\n",
    "    x = np.sin(x)\n",
    "    yh = x @ ws\n",
    "    e = yh - ys           \n",
    "    e = np.sum(np.abs(e)) \n",
    "    if e < 0.05:\n",
    "        print('we have converged after {} iterations'.format(i))\n",
    "        print(ws)\n",
    "        break\n",
    "    else: \n",
    "        mutation = weights(nodes, outs)*.03\n",
    "        cw = ws + mutation\n",
    "        \n",
    "        x = xs @ wi\n",
    "        x = np.sin(x)\n",
    "        yh = x @ cw\n",
    "        ce = yh - ys\n",
    "        ce = np.sum(np.abs(ce))\n",
    "        if ce < e:\n",
    "            ws = cw\n",
    "            err.append(e)"
   ]
  },
  {
   "cell_type": "code",
   "execution_count": 12,
   "id": "1b29e1a7",
   "metadata": {},
   "outputs": [
    {
     "data": {
      "image/png": "[encoded data removed]",
      "text/plain": [
       "<Figure size 640x480 with 1 Axes>"
      ]
     },
     "metadata": {},
     "output_type": "display_data"
    }
   ],
   "source": [
    "plt.axes().set_facecolor('black')\n",
    "plt.plot(err,color='red', linewidth=1)\n",
    "plt.show()"
   ]
  },
  {
   "cell_type": "code",
   "execution_count": 13,
   "id": "4c9fdea6",
   "metadata": {},
   "outputs": [
    {
     "data": {
      "text/plain": [
       "(151, 0.10764548666123386)"
      ]
     },
     "execution_count": 13,
     "metadata": {},
     "output_type": "execute_result"
    }
   ],
   "source": [
    "len(err), min(err)"
   ]
  },
  {
   "cell_type": "code",
   "execution_count": 51,
   "id": "41ddbb85",
   "metadata": {},
   "outputs": [],
   "source": [
    "np.set_printoptions(suppress=True, floatmode='fixed')\n",
    "#np.set_printoptions(suppress=True, floatmode='unique')"
   ]
  },
  {
   "cell_type": "code",
   "execution_count": 52,
   "id": "91a6d15c",
   "metadata": {},
   "outputs": [
    {
     "name": "stdout",
     "output_type": "stream",
     "text": [
      "[[0]\n",
      " [0]\n",
      " [0]\n",
      " [3]\n",
      " [3]]\n",
      "[[-0.00155365]\n",
      " [ 0.00547612]\n",
      " [ 0.00240571]\n",
      " [ 3.00857744]\n",
      " [ 2.97265824]]\n"
     ]
    }
   ],
   "source": [
    "print(ys)\n",
    "print(yh)"
   ]
  },
  {
   "cell_type": "code",
   "execution_count": 53,
   "id": "2d2a670a",
   "metadata": {},
   "outputs": [
    {
     "data": {
      "text/plain": [
       "(array([3.00857744]), array([3]))"
      ]
     },
     "execution_count": 53,
     "metadata": {},
     "output_type": "execute_result"
    }
   ],
   "source": [
    "x = xs[3] @ wi\n",
    "x = np.sin(x)\n",
    "solution_ = x @ ws\n",
    "solution_, ys[3] #see what happend?"
   ]
  }
 ],
 "metadata": {
  "kernelspec": {
   "display_name": "Python 3 (ipykernel)",
   "language": "python",
   "name": "python3"
  },
  "language_info": {
   "codemirror_mode": {
    "name": "ipython",
    "version": 3
   },
   "file_extension": ".py",
   "mimetype": "text/x-python",
   "name": "python",
   "nbconvert_exporter": "python",
   "pygments_lexer": "ipython3",
   "version": "3.9.13"
  }
 },
 "nbformat": 4,
 "nbformat_minor": 5
}
