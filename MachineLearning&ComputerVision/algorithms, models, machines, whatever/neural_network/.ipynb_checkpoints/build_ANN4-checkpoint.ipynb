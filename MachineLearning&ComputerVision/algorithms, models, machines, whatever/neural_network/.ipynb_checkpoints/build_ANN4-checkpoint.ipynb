{
 "cells": [
  {
   "cell_type": "code",
   "execution_count": 11,
   "id": "de17a866",
   "metadata": {},
   "outputs": [],
   "source": [
    "import numpy as np\n",
    "import matplotlib.pyplot as plt\n",
    "plt.rcParams['figure.facecolor'] = '0.2'"
   ]
  },
  {
   "cell_type": "code",
   "execution_count": 63,
   "id": "cdd3838f",
   "metadata": {},
   "outputs": [
    {
     "data": {
      "text/plain": [
       "(12, 6)"
      ]
     },
     "execution_count": 63,
     "metadata": {},
     "output_type": "execute_result"
    }
   ],
   "source": [
    "obs = 12\n",
    "np.random.seed(15)\n",
    "data = np.random.randint(0,5, obs*5).reshape(obs,5)\n",
    "data_unique = np.unique(data, axis=0)\n",
    "xs = np.c_[np.ones([data_unique.shape[0]]), data_unique] \n",
    "ys = np.random.choice(list(range(1,10)), obs)\n",
    "ys.resize(obs,1)\n",
    "\n",
    "xs.shape"
   ]
  },
  {
   "cell_type": "code",
   "execution_count": 64,
   "id": "502ddbd8",
   "metadata": {},
   "outputs": [
    {
     "data": {
      "text/plain": [
       "array([[1., 0., 3., 0., 4., 3.],\n",
       "       [1., 0., 4., 0., 4., 3.],\n",
       "       [1., 1., 0., 0., 4., 0.],\n",
       "       [1., 1., 2., 0., 0., 0.]])"
      ]
     },
     "execution_count": 64,
     "metadata": {},
     "output_type": "execute_result"
    }
   ],
   "source": [
    "xs[:4]"
   ]
  },
  {
   "cell_type": "code",
   "execution_count": 65,
   "id": "cc9da5ac",
   "metadata": {},
   "outputs": [
    {
     "data": {
      "text/plain": [
       "array([[1],\n",
       "       [8],\n",
       "       [7],\n",
       "       [5]])"
      ]
     },
     "execution_count": 65,
     "metadata": {},
     "output_type": "execute_result"
    }
   ],
   "source": [
    "ys[:4]"
   ]
  },
  {
   "cell_type": "code",
   "execution_count": 66,
   "id": "822933a9",
   "metadata": {},
   "outputs": [],
   "source": [
    "weights = lambda ins, outs: np.random.randn(ins, outs)"
   ]
  },
  {
   "cell_type": "code",
   "execution_count": 79,
   "id": "3698c04e",
   "metadata": {},
   "outputs": [],
   "source": [
    "ins = 5\n",
    "outs = 1\n",
    "nodes = 15\n",
    "\n",
    "wi = weights(ins+1, nodes)\n",
    "ws = weights(nodes, outs) \n",
    "err = []"
   ]
  },
  {
   "cell_type": "code",
   "execution_count": 80,
   "id": "f1ee8a28",
   "metadata": {},
   "outputs": [
    {
     "name": "stdout",
     "output_type": "stream",
     "text": [
      "we have converged after 586 iterations\n",
      "[[ 3.59701023]\n",
      " [-0.36089581]\n",
      " [ 3.34489862]\n",
      " [-0.44363406]\n",
      " [ 0.30957942]\n",
      " [ 1.99636218]\n",
      " [-3.13011056]\n",
      " [ 5.61814666]\n",
      " [-3.28872102]\n",
      " [-3.65773615]\n",
      " [ 2.13817242]\n",
      " [-0.19779962]\n",
      " [-2.9496622 ]\n",
      " [-1.02012217]\n",
      " [-0.51894159]]\n"
     ]
    }
   ],
   "source": [
    "for i in range(10000):\n",
    "    x = xs @ wi\n",
    "    x = np.sin(x)\n",
    "    yh = x @ ws\n",
    "    e = (yh - ys) * 1\n",
    "#     print(f'x = {x.shape}')\n",
    "#     print(f'e = {e.shape}')\n",
    "#     print(f'ws = {ws.shape}')\n",
    "    ws -= (x.T @ e) * .03\n",
    "    e = np.sum(np.abs(e))\n",
    "    if e < .05:\n",
    "        print('we have converged after {} iterations'.format(i))\n",
    "        print(ws)\n",
    "        break\n",
    "    err.append(e)"
   ]
  },
  {
   "cell_type": "code",
   "execution_count": 81,
   "id": "1ed1e944",
   "metadata": {},
   "outputs": [
    {
     "data": {
      "text/plain": [
       "(586, 0.05024285144443885)"
      ]
     },
     "execution_count": 81,
     "metadata": {},
     "output_type": "execute_result"
    }
   ],
   "source": [
    "len(err), min(err)"
   ]
  },
  {
   "cell_type": "code",
   "execution_count": 82,
   "id": "1b29e1a7",
   "metadata": {},
   "outputs": [
    {
     "data": {
      "image/png": "[encoded data removed]",
      "text/plain": [
       "<Figure size 640x480 with 1 Axes>"
      ]
     },
     "metadata": {},
     "output_type": "display_data"
    }
   ],
   "source": [
    "plt.axes().set_facecolor('black')\n",
    "plt.plot(err,color='red', linewidth=1)\n",
    "plt.show()"
   ]
  },
  {
   "cell_type": "code",
   "execution_count": 83,
   "id": "e5eb0145",
   "metadata": {},
   "outputs": [
    {
     "data": {
      "text/plain": [
       "array([[1.00287452],\n",
       "       [7.99688913],\n",
       "       [6.99846477],\n",
       "       [5.00052628],\n",
       "       [4.99543364],\n",
       "       [4.00116029],\n",
       "       [8.00247839],\n",
       "       [6.00053274],\n",
       "       [6.99882003],\n",
       "       [1.01295732],\n",
       "       [1.01411902],\n",
       "       [4.99511134]])"
      ]
     },
     "execution_count": 83,
     "metadata": {},
     "output_type": "execute_result"
    }
   ],
   "source": [
    "yh"
   ]
  },
  {
   "cell_type": "code",
   "execution_count": 84,
   "id": "9828a054",
   "metadata": {},
   "outputs": [
    {
     "data": {
      "text/plain": [
       "array([[1],\n",
       "       [8],\n",
       "       [7],\n",
       "       [5],\n",
       "       [5],\n",
       "       [4],\n",
       "       [8],\n",
       "       [6],\n",
       "       [7],\n",
       "       [1],\n",
       "       [1],\n",
       "       [5]])"
      ]
     },
     "execution_count": 84,
     "metadata": {},
     "output_type": "execute_result"
    }
   ],
   "source": [
    "ys"
   ]
  },
  {
   "cell_type": "code",
   "execution_count": 88,
   "id": "fc4d0771",
   "metadata": {},
   "outputs": [],
   "source": [
    "a, b, c, d = -20, 3, 5, 6"
   ]
  },
  {
   "cell_type": "code",
   "execution_count": 89,
   "id": "7afc5290",
   "metadata": {},
   "outputs": [
    {
     "data": {
      "text/plain": [
       "-127"
      ]
     },
     "execution_count": 89,
     "metadata": {},
     "output_type": "execute_result"
    }
   ],
   "source": [
    "a*(b+c) + b*(c+d)"
   ]
  },
  {
   "cell_type": "code",
   "execution_count": 90,
   "id": "398320cd",
   "metadata": {},
   "outputs": [
    {
     "data": {
      "text/plain": [
       "-127"
      ]
     },
     "execution_count": 90,
     "metadata": {},
     "output_type": "execute_result"
    }
   ],
   "source": [
    "a*b + a*c + b*c + b*d"
   ]
  },
  {
   "cell_type": "code",
   "execution_count": 91,
   "id": "cab7e398",
   "metadata": {},
   "outputs": [
    {
     "data": {
      "text/plain": [
       "6"
      ]
     },
     "execution_count": 91,
     "metadata": {},
     "output_type": "execute_result"
    }
   ],
   "source": [
    "-3 * (b - 5)"
   ]
  },
  {
   "cell_type": "code",
   "execution_count": 92,
   "id": "ba7ba3d6",
   "metadata": {},
   "outputs": [
    {
     "data": {
      "text/plain": [
       "6"
      ]
     },
     "execution_count": 92,
     "metadata": {},
     "output_type": "execute_result"
    }
   ],
   "source": [
    "3 * (-b + 5)"
   ]
  },
  {
   "cell_type": "code",
   "execution_count": null,
   "id": "9b367046",
   "metadata": {},
   "outputs": [],
   "source": []
  }
 ],
 "metadata": {
  "kernelspec": {
   "display_name": "Python 3 (ipykernel)",
   "language": "python",
   "name": "python3"
  },
  "language_info": {
   "codemirror_mode": {
    "name": "ipython",
    "version": 3
   },
   "file_extension": ".py",
   "mimetype": "text/x-python",
   "name": "python",
   "nbconvert_exporter": "python",
   "pygments_lexer": "ipython3",
   "version": "3.9.13"
  }
 },
 "nbformat": 4,
 "nbformat_minor": 5
}
