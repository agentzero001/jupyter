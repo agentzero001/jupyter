{
 "cells": [
  {
   "cell_type": "code",
   "execution_count": 1,
   "id": "de17a866",
   "metadata": {},
   "outputs": [],
   "source": [
    "import numpy as np\n",
    "import matplotlib.pyplot as plt\n",
    "plt.rcParams['figure.facecolor'] = '0.2'"
   ]
  },
  {
   "cell_type": "code",
   "execution_count": 2,
   "id": "cdd3838f",
   "metadata": {},
   "outputs": [
    {
     "data": {
      "text/plain": [
       "array([[ 0., -1.,  0., -1.,  0.],\n",
       "       [ 0., -1., -1.,  0.,  1.],\n",
       "       [ 0.,  0.,  0.,  0., -1.],\n",
       "       [ 0.,  1.,  1., -1.,  0.],\n",
       "       [ 0.,  0., -1.,  0., -1.]])"
      ]
     },
     "execution_count": 2,
     "metadata": {},
     "output_type": "execute_result"
    }
   ],
   "source": [
    "np.random.seed(15)\n",
    "data = np.random.randint(-1,2, 30*4).reshape(30,4)\n",
    "xs = np.c_[np.zeros([data.shape[0]]), data] \n",
    "xs[:5]"
   ]
  },
  {
   "cell_type": "code",
   "execution_count": 3,
   "id": "b35872f4",
   "metadata": {},
   "outputs": [
    {
     "data": {
      "text/plain": [
       "(30, 5)"
      ]
     },
     "execution_count": 3,
     "metadata": {},
     "output_type": "execute_result"
    }
   ],
   "source": [
    "xs.shape"
   ]
  },
  {
   "cell_type": "code",
   "execution_count": 4,
   "id": "cc9da5ac",
   "metadata": {},
   "outputs": [
    {
     "data": {
      "text/plain": [
       "array([[0],\n",
       "       [1],\n",
       "       [1],\n",
       "       [0],\n",
       "       [1],\n",
       "       [1]])"
      ]
     },
     "execution_count": 4,
     "metadata": {},
     "output_type": "execute_result"
    }
   ],
   "source": [
    "ys = np.random.randint(0, 2, 30)\n",
    "ys.resize(30,1)\n",
    "ys[:6]"
   ]
  },
  {
   "cell_type": "code",
   "execution_count": 31,
   "id": "f1ee8a28",
   "metadata": {},
   "outputs": [],
   "source": [
    "def search_weights(xs, iterations, act_func, l_nodes, ys):\n",
    "    c_weights = lambda ins, outs: np.random.randn(ins, outs)\n",
    "    err = []\n",
    "    for i in range(iterations):\n",
    "        W = [c_weights(xs.shape[1], l_nodes[0])] + [c_weights(i, j) for i,j in zip(l_nodes, l_nodes[1:])]\n",
    "        x = xs @ W[0]\n",
    "        for i in range(len(W)-1):\n",
    "            x = act_func(x)\n",
    "            x = x @ W[i+1]\n",
    "        yh = x\n",
    "        e = yh - ys           \n",
    "        e = np.sum(np.abs(e))\n",
    "        print(e)\n",
    "        if e < 0.05:\n",
    "            print('we have converged after {} iterations'.format(i))\n",
    "            print(ws)\n",
    "            break\n",
    "        err.append(e)\n",
    "    return err"
   ]
  },
  {
   "cell_type": "code",
   "execution_count": 32,
   "id": "5740ed36",
   "metadata": {},
   "outputs": [
    {
     "name": "stdout",
     "output_type": "stream",
     "text": [
      "89.73284239067448\n",
      "96.29780294868662\n"
     ]
    }
   ],
   "source": [
    "err = search_weights(xs,2,np.sin,[6,10,5,2],ys)"
   ]
  },
  {
   "cell_type": "code",
   "execution_count": 18,
   "id": "afef903e",
   "metadata": {},
   "outputs": [],
   "source": []
  },
  {
   "cell_type": "code",
   "execution_count": 19,
   "id": "a14e82e6",
   "metadata": {},
   "outputs": [
    {
     "name": "stdout",
     "output_type": "stream",
     "text": [
      "36.37948526187985\n",
      "43.23260787935979\n"
     ]
    }
   ],
   "source": [
    "print(min(err))\n",
    "print(min(err2))"
   ]
  },
  {
   "cell_type": "code",
   "execution_count": 20,
   "id": "1b29e1a7",
   "metadata": {},
   "outputs": [
    {
     "data": {
      "image/png": "[encoded data removed]",
      "text/plain": [
       "<Figure size 640x480 with 1 Axes>"
      ]
     },
     "metadata": {},
     "output_type": "display_data"
    }
   ],
   "source": [
    "plt.axes().set_facecolor('black')\n",
    "plt.plot(err,color='.3', linewidth=1)\n",
    "plt.show()"
   ]
  },
  {
   "cell_type": "code",
   "execution_count": 10,
   "id": "6b2e7163",
   "metadata": {},
   "outputs": [],
   "source": [
    "np.set_printoptions(suppress=False, floatmode='fixed')"
   ]
  },
  {
   "cell_type": "code",
   "execution_count": 11,
   "id": "6e399abf",
   "metadata": {},
   "outputs": [
    {
     "data": {
      "text/plain": [
       "[array([[-0.44690176,  0.72790603,  0.07287717],\n",
       "        [ 0.94882883,  1.33510710, -0.81062412],\n",
       "        [ 0.88076203,  1.52027293, -0.42801795],\n",
       "        [ 2.43851604, -1.69215198, -0.71539715],\n",
       "        [-0.25017942,  0.30278026, -0.39678148]])]"
      ]
     },
     "execution_count": 11,
     "metadata": {},
     "output_type": "execute_result"
    }
   ],
   "source": [
    "list_nodes = [3, 4, 7, 6, 8, 2, 1]\n",
    "weights = lambda ins, outs: np.random.randn(ins, outs)\n",
    "err = []\n",
    "a=0\n",
    "weights2 = []\n",
    "weights2.append(weights(xs.shape[1], list_nodes[0]))\n",
    "weights2"
   ]
  },
  {
   "cell_type": "code",
   "execution_count": 12,
   "id": "02c82389",
   "metadata": {},
   "outputs": [],
   "source": [
    "Nodes = [weights(xs.shape[1], list_nodes[0])] + [weights(i, j) for i,j in zip(list_nodes, list_nodes[1:])]"
   ]
  },
  {
   "cell_type": "code",
   "execution_count": 13,
   "id": "c2a79ab9",
   "metadata": {},
   "outputs": [
    {
     "data": {
      "text/plain": [
       "[3, (3, 4), (4, 7), (7, 6), (6, 8), (8, 2), (2, 1)]"
      ]
     },
     "execution_count": 13,
     "metadata": {},
     "output_type": "execute_result"
    }
   ],
   "source": [
    "[list_nodes[0]] + [(i,j) for i,j in zip(list_nodes, list_nodes[1:])]"
   ]
  },
  {
   "cell_type": "code",
   "execution_count": 21,
   "id": "f8bebc56",
   "metadata": {},
   "outputs": [],
   "source": [
    "w1 = weights(5,6)"
   ]
  },
  {
   "cell_type": "code",
   "execution_count": 24,
   "id": "ce0e8278",
   "metadata": {},
   "outputs": [],
   "source": [
    "w2 = xs @ w1"
   ]
  },
  {
   "cell_type": "code",
   "execution_count": 25,
   "id": "39fcd22d",
   "metadata": {},
   "outputs": [
    {
     "data": {
      "text/plain": [
       "(30, 6)"
      ]
     },
     "execution_count": 25,
     "metadata": {},
     "output_type": "execute_result"
    }
   ],
   "source": [
    "w2.shape"
   ]
  },
  {
   "cell_type": "code",
   "execution_count": null,
   "id": "fc4c41ae",
   "metadata": {},
   "outputs": [],
   "source": []
  }
 ],
 "metadata": {
  "kernelspec": {
   "display_name": "Python 3 (ipykernel)",
   "language": "python",
   "name": "python3"
  },
  "language_info": {
   "codemirror_mode": {
    "name": "ipython",
    "version": 3
   },
   "file_extension": ".py",
   "mimetype": "text/x-python",
   "name": "python",
   "nbconvert_exporter": "python",
   "pygments_lexer": "ipython3",
   "version": "3.9.13"
  }
 },
 "nbformat": 4,
 "nbformat_minor": 5
}
