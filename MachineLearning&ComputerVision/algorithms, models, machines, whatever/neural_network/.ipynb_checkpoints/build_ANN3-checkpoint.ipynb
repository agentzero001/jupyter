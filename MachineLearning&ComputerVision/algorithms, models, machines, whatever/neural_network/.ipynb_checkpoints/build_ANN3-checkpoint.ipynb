{
 "cells": [
  {
   "cell_type": "code",
   "execution_count": 1,
   "id": "de17a866",
   "metadata": {},
   "outputs": [],
   "source": [
    "import numpy as np\n",
    "import matplotlib.pyplot as plt\n",
    "plt.rcParams['figure.facecolor'] = '0.2'"
   ]
  },
  {
   "cell_type": "code",
   "execution_count": 2,
   "id": "cdd3838f",
   "metadata": {},
   "outputs": [
    {
     "data": {
      "text/plain": [
       "array([[ 0., -1.,  0., -1.,  0.],\n",
       "       [ 0., -1., -1.,  0.,  1.],\n",
       "       [ 0.,  0.,  0.,  0., -1.],\n",
       "       [ 0.,  1.,  1., -1.,  0.],\n",
       "       [ 0.,  0., -1.,  0., -1.]])"
      ]
     },
     "execution_count": 2,
     "metadata": {},
     "output_type": "execute_result"
    }
   ],
   "source": [
    "np.random.seed(15)\n",
    "data = np.random.randint(-1,2, 30*4).reshape(30,4)\n",
    "xs = np.c_[np.zeros([data.shape[0]]), data] \n",
    "xs[:5]"
   ]
  },
  {
   "cell_type": "code",
   "execution_count": 3,
   "id": "b35872f4",
   "metadata": {},
   "outputs": [
    {
     "data": {
      "text/plain": [
       "(30, 5)"
      ]
     },
     "execution_count": 3,
     "metadata": {},
     "output_type": "execute_result"
    }
   ],
   "source": [
    "xs.shape"
   ]
  },
  {
   "cell_type": "code",
   "execution_count": 4,
   "id": "cc9da5ac",
   "metadata": {},
   "outputs": [
    {
     "data": {
      "text/plain": [
       "array([[0],\n",
       "       [1],\n",
       "       [1],\n",
       "       [0],\n",
       "       [1],\n",
       "       [1]])"
      ]
     },
     "execution_count": 4,
     "metadata": {},
     "output_type": "execute_result"
    }
   ],
   "source": [
    "ys = np.random.randint(0, 2, 30)\n",
    "ys.resize(30,1)\n",
    "ys[:6]"
   ]
  },
  {
   "cell_type": "markdown",
   "id": "9513930b",
   "metadata": {},
   "source": [
    "The function I define below does not really find a solution yet. \n",
    "I just wanted to see if I would be able to write it like that."
   ]
  },
  {
   "cell_type": "code",
   "execution_count": 71,
   "id": "f1ee8a28",
   "metadata": {},
   "outputs": [],
   "source": [
    "def search_weights(xs, iterations, act_func, l_nodes, ys):\n",
    "    c_weights = lambda ins, outs: np.random.randn(ins, outs)\n",
    "    err = []\n",
    "    for i in range(iterations):\n",
    "        W = [c_weights(xs.shape[1], l_nodes[0])] + [c_weights(i, j) for i,j in zip(l_nodes, l_nodes[1:])]\n",
    "        x = xs @ W[0]\n",
    "        for i in range(len(W)-1):\n",
    "            x = act_func(x)\n",
    "            x = x @ W[i+1]\n",
    "        yh = x\n",
    "        e = yh - ys           \n",
    "        e = np.sum(np.abs(e)) \n",
    "        if e < 0.05:\n",
    "            print('we have converged after {} iterations'.format(i))\n",
    "            print(ws)\n",
    "            break\n",
    "        err.append(e)\n",
    "    return err"
   ]
  },
  {
   "cell_type": "code",
   "execution_count": 72,
   "id": "5740ed36",
   "metadata": {},
   "outputs": [],
   "source": [
    "err = search_weights(xs,5000,np.sin,[10,5,2],ys)"
   ]
  },
  {
   "cell_type": "code",
   "execution_count": 73,
   "id": "afef903e",
   "metadata": {},
   "outputs": [],
   "source": [
    "err2 = search_weights(xs,5000,np.sin,[20,7,2],ys)"
   ]
  },
  {
   "cell_type": "code",
   "execution_count": 74,
   "id": "a14e82e6",
   "metadata": {},
   "outputs": [
    {
     "name": "stdout",
     "output_type": "stream",
     "text": [
      "41.261588752541364\n",
      "42.56498953157065\n"
     ]
    }
   ],
   "source": [
    "print(min(err))\n",
    "print(min(err2))"
   ]
  },
  {
   "cell_type": "code",
   "execution_count": 65,
   "id": "1b29e1a7",
   "metadata": {},
   "outputs": [
    {
     "data": {
      "image/png": "[encoded data removed]",
      "text/plain": [
       "<Figure size 640x480 with 1 Axes>"
      ]
     },
     "metadata": {},
     "output_type": "display_data"
    }
   ],
   "source": [
    "plt.axes().set_facecolor('black')\n",
    "plt.plot(err,color='.3', linewidth=1)\n",
    "plt.show()"
   ]
  },
  {
   "cell_type": "code",
   "execution_count": 9,
   "id": "6b2e7163",
   "metadata": {},
   "outputs": [],
   "source": [
    "np.set_printoptions(suppress=False, floatmode='fixed')"
   ]
  },
  {
   "cell_type": "code",
   "execution_count": 10,
   "id": "6e399abf",
   "metadata": {},
   "outputs": [
    {
     "data": {
      "text/plain": [
       "[array([[-0.95316234, -0.32694697,  1.57867242],\n",
       "        [ 0.27045372,  0.03880517,  0.08315614],\n",
       "        [ 0.56719075,  2.20717200,  1.66164732],\n",
       "        [-0.55420406, -0.12762778,  0.19853260],\n",
       "        [-1.07936180, -0.38241295, -0.21327603]])]"
      ]
     },
     "execution_count": 10,
     "metadata": {},
     "output_type": "execute_result"
    }
   ],
   "source": [
    "list_nodes = [3, 4, 7, 6, 8, 2, 1]\n",
    "weights = lambda ins, outs: np.random.randn(ins, outs)\n",
    "err = []\n",
    "a=0\n",
    "weights2 = []\n",
    "weights2.append(weights(xs.shape[1], list_nodes[0]))\n",
    "weights2"
   ]
  },
  {
   "cell_type": "code",
   "execution_count": 11,
   "id": "02c82389",
   "metadata": {},
   "outputs": [],
   "source": [
    "Nodes = [weights(xs.shape[1], list_nodes[0])] + [weights(i, j) for i,j in zip(list_nodes, list_nodes[1:])]"
   ]
  },
  {
   "cell_type": "code",
   "execution_count": 12,
   "id": "c2a79ab9",
   "metadata": {},
   "outputs": [
    {
     "data": {
      "text/plain": [
       "[3, (3, 4), (4, 7), (7, 6), (6, 8), (8, 2), (2, 1)]"
      ]
     },
     "execution_count": 12,
     "metadata": {},
     "output_type": "execute_result"
    }
   ],
   "source": [
    "[list_nodes[0]] + [(i,j) for i,j in zip(list_nodes, list_nodes[1:])]"
   ]
  },
  {
   "cell_type": "code",
   "execution_count": null,
   "id": "f8bebc56",
   "metadata": {},
   "outputs": [],
   "source": []
  }
 ],
 "metadata": {
  "kernelspec": {
   "display_name": "Python 3 (ipykernel)",
   "language": "python",
   "name": "python3"
  },
  "language_info": {
   "codemirror_mode": {
    "name": "ipython",
    "version": 3
   },
   "file_extension": ".py",
   "mimetype": "text/x-python",
   "name": "python",
   "nbconvert_exporter": "python",
   "pygments_lexer": "ipython3",
   "version": "3.9.13"
  }
 },
 "nbformat": 4,
 "nbformat_minor": 5
}
