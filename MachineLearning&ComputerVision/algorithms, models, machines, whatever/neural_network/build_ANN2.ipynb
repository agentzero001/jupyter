{
 "cells": [
  {
   "cell_type": "code",
   "execution_count": 1,
   "id": "de17a866",
   "metadata": {},
   "outputs": [],
   "source": [
    "import numpy as np\n",
    "import matplotlib.pyplot as plt\n",
    "plt.rcParams['figure.facecolor'] = '0.2'"
   ]
  },
  {
   "cell_type": "code",
   "execution_count": 2,
   "id": "cdd3838f",
   "metadata": {},
   "outputs": [
    {
     "data": {
      "text/plain": [
       "array([[1., 0., 1., 0., 1., 0.],\n",
       "       [1., 0., 0., 1., 1., 0.],\n",
       "       [1., 1., 1., 0., 1., 0.],\n",
       "       [1., 1., 1., 1., 0., 1.],\n",
       "       [1., 0., 0., 0., 1., 0.]])"
      ]
     },
     "execution_count": 2,
     "metadata": {},
     "output_type": "execute_result"
    }
   ],
   "source": [
    "np.random.seed(15)\n",
    "data =  np.array([0,1,0,1,0,0,0,1,1,0,1,1,0,1,0,1,1,1,0,1,0,0,0,1,0]).reshape(5,5)\n",
    "xs = np.c_[np.ones([data.shape[0]]), data] \n",
    "xs"
   ]
  },
  {
   "cell_type": "code",
   "execution_count": 3,
   "id": "cc9da5ac",
   "metadata": {},
   "outputs": [
    {
     "data": {
      "text/plain": [
       "array([[0],\n",
       "       [0],\n",
       "       [0],\n",
       "       [3],\n",
       "       [3]])"
      ]
     },
     "execution_count": 3,
     "metadata": {},
     "output_type": "execute_result"
    }
   ],
   "source": [
    "ys = np.array([0, 0, 0, 3, 3])\n",
    "ys.resize(5,1)\n",
    "ys"
   ]
  },
  {
   "cell_type": "code",
   "execution_count": 4,
   "id": "822933a9",
   "metadata": {},
   "outputs": [],
   "source": [
    "weights = lambda ins, outs: np.random.randn(ins, outs)"
   ]
  },
  {
   "cell_type": "code",
   "execution_count": 21,
   "id": "f1ee8a28",
   "metadata": {},
   "outputs": [
    {
     "name": "stdout",
     "output_type": "stream",
     "text": [
      "we have converged after 1419 iterations\n",
      "[[ 1.51319914 -0.91030091  0.08167410 -0.08479192 -0.24712732 -0.28549524\n",
      "  -1.14867151  0.46729987  1.15538191 -1.76725177  0.28469381 -0.80508483\n",
      "   0.42725096 -0.00151445 -0.96577883]\n",
      " [ 1.46257400  0.44698913  0.63892280  0.00745558  1.04038507  1.97881471\n",
      "   1.36862851  0.28185789  0.87936547 -0.96734123  0.06793982 -2.42522279\n",
      "   0.69317356  0.65615610  0.11100730]\n",
      " [ 0.83174135 -0.47923326  0.29837053  0.52798690  0.36635988  0.63418629\n",
      "   0.37565182 -0.74787666 -1.61654870 -0.51495624  0.14430130  1.29141037\n",
      "  -0.34355635 -0.71081737 -0.04573376]\n",
      " [ 0.11951657 -0.11273176  2.64000820 -0.54138374  1.45827450 -0.82589738\n",
      "  -0.64669690  0.18357451  0.59739346 -0.38490312 -0.76980516  0.95760928\n",
      "  -0.94218604  0.65416312 -1.17775640]\n",
      " [-0.05638099  1.51956600  1.33174202  0.04816350 -0.05389157 -0.36407632\n",
      "   1.49139342 -0.37342763  1.04424392 -1.00211880  0.36470102 -2.25863875\n",
      "  -0.13211349 -0.77979742 -0.26529332]\n",
      " [-1.63815338 -1.48460246  0.32493734 -0.27864500 -1.18601719  0.14307396\n",
      "   1.48350718  1.06135538  0.87647041  0.16613387  0.87535116 -0.12811910\n",
      "  -0.77620892  1.13656571 -0.61074609]]\n",
      "[[ 1.42257022]\n",
      " [-0.64737865]\n",
      " [ 0.51991096]\n",
      " [-1.74897838]\n",
      " [-1.39176124]\n",
      " [ 0.58755550]\n",
      " [-0.23572945]\n",
      " [ 0.87489394]\n",
      " [ 1.26935914]\n",
      " [ 0.08210730]\n",
      " [ 0.83907001]\n",
      " [ 1.45348507]\n",
      " [-0.96693741]\n",
      " [ 0.16850931]\n",
      " [-0.36230759]]\n"
     ]
    }
   ],
   "source": [
    "ins = 5\n",
    "outs = 1\n",
    "nodes = 15\n",
    "\n",
    "wi = weights(ins+1, nodes)\n",
    "ws = weights(nodes, outs) \n",
    "\n",
    "err = []\n",
    "for i in range(2000):\n",
    "    x = xs @ wi\n",
    "    x = np.sin(x)\n",
    "    yh = x @ ws\n",
    "    e = yh - ys           \n",
    "    e = np.sum(np.abs(e)) \n",
    "    if e < 0.05:\n",
    "        print('we have converged after {} iterations'.format(i))\n",
    "        print(wi)\n",
    "        print(ws)\n",
    "        break\n",
    "    else: \n",
    "        mutation = weights(nodes, outs)*0.02\n",
    "        cw = ws + mutation\n",
    "        \n",
    "        x = xs @ wi\n",
    "        x = np.sin(x)\n",
    "        yh = x @ cw\n",
    "        ce = yh - ys\n",
    "        ce = np.sum(np.abs(ce))\n",
    "        if ce < e:\n",
    "            ws = cw\n",
    "            err.append(e)"
   ]
  },
  {
   "cell_type": "code",
   "execution_count": 6,
   "id": "1b29e1a7",
   "metadata": {},
   "outputs": [
    {
     "data": {
      "image/png": "[encoded data removed]",
      "text/plain": [
       "<Figure size 640x480 with 1 Axes>"
      ]
     },
     "metadata": {},
     "output_type": "display_data"
    }
   ],
   "source": [
    "plt.axes().set_facecolor('black')\n",
    "plt.plot(err,color='red', linewidth=1)\n",
    "plt.show()"
   ]
  },
  {
   "cell_type": "code",
   "execution_count": 7,
   "id": "4c9fdea6",
   "metadata": {},
   "outputs": [
    {
     "data": {
      "text/plain": [
       "(95, 0.0661606965531043, 6.395980183808662)"
      ]
     },
     "execution_count": 7,
     "metadata": {},
     "output_type": "execute_result"
    }
   ],
   "source": [
    "len(err), min(err), err[0]"
   ]
  },
  {
   "cell_type": "code",
   "execution_count": 18,
   "id": "41ddbb85",
   "metadata": {},
   "outputs": [],
   "source": [
    "np.set_printoptions(suppress=True, floatmode='fixed')\n",
    "#np.set_printoptions(suppress=True, floatmode='unique')"
   ]
  },
  {
   "cell_type": "code",
   "execution_count": 19,
   "id": "91a6d15c",
   "metadata": {},
   "outputs": [
    {
     "name": "stdout",
     "output_type": "stream",
     "text": [
      "[[0]\n",
      " [0]\n",
      " [0]\n",
      " [3]\n",
      " [3]]\n",
      "[[ 0.00360923]\n",
      " [-0.00127906]\n",
      " [ 0.00040325]\n",
      " [ 3.02143455]\n",
      " [ 2.98027277]]\n"
     ]
    }
   ],
   "source": [
    "print(ys)\n",
    "print(yh)"
   ]
  },
  {
   "cell_type": "code",
   "execution_count": 22,
   "id": "2d2a670a",
   "metadata": {},
   "outputs": [
    {
     "data": {
      "text/plain": [
       "(array([2.99574375]), array([3]))"
      ]
     },
     "execution_count": 22,
     "metadata": {},
     "output_type": "execute_result"
    }
   ],
   "source": [
    "x = xs[3] @ wi\n",
    "x = np.sin(x)\n",
    "solution_ = x @ ws\n",
    "solution_, ys[3] #see what happend?"
   ]
  },
  {
   "cell_type": "code",
   "execution_count": null,
   "id": "00eaa376",
   "metadata": {},
   "outputs": [],
   "source": []
  }
 ],
 "metadata": {
  "kernelspec": {
   "display_name": "Python 3 (ipykernel)",
   "language": "python",
   "name": "python3"
  },
  "language_info": {
   "codemirror_mode": {
    "name": "ipython",
    "version": 3
   },
   "file_extension": ".py",
   "mimetype": "text/x-python",
   "name": "python",
   "nbconvert_exporter": "python",
   "pygments_lexer": "ipython3",
   "version": "3.9.13"
  }
 },
 "nbformat": 4,
 "nbformat_minor": 5
}
