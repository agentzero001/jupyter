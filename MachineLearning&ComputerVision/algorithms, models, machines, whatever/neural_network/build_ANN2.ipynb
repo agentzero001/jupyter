{
 "cells": [
  {
   "cell_type": "code",
   "execution_count": 31,
   "id": "de17a866",
   "metadata": {},
   "outputs": [],
   "source": [
    "import numpy as np\n",
    "import matplotlib.pyplot as plt\n",
    "plt.rcParams['figure.facecolor'] = '0.2'"
   ]
  },
  {
   "cell_type": "code",
   "execution_count": 32,
   "id": "cdd3838f",
   "metadata": {},
   "outputs": [
    {
     "data": {
      "text/plain": [
       "array([[1., 0., 1., 0., 1., 1.],\n",
       "       [1., 0., 0., 1., 1., 1.],\n",
       "       [1., 1., 0., 1., 1., 1.],\n",
       "       [1., 1., 1., 1., 0., 0.],\n",
       "       [1., 0., 1., 0., 1., 1.]])"
      ]
     },
     "execution_count": 32,
     "metadata": {},
     "output_type": "execute_result"
    }
   ],
   "source": [
    "np.random.seed(15)\n",
    "data = np.random.randint(0, 2, 5*5).reshape(5,5)\n",
    "xs = np.c_[np.ones([data.shape[0]]), data]\n",
    "xs"
   ]
  },
  {
   "cell_type": "code",
   "execution_count": 33,
   "id": "cc9da5ac",
   "metadata": {},
   "outputs": [
    {
     "data": {
      "text/plain": [
       "array([[0],\n",
       "       [0],\n",
       "       [0],\n",
       "       [3],\n",
       "       [3]])"
      ]
     },
     "execution_count": 33,
     "metadata": {},
     "output_type": "execute_result"
    }
   ],
   "source": [
    "ys = np.array([0,0,0,3,3])\n",
    "ys.resize(5,1)\n",
    "ys"
   ]
  },
  {
   "cell_type": "code",
   "execution_count": 34,
   "id": "f1ee8a28",
   "metadata": {},
   "outputs": [],
   "source": [
    "weights = lambda ins, outs: np.random.randn(ins, outs)\n",
    "err = []\n",
    "ins, outs = 5, 1\n",
    "\n",
    "ws = weights(ins+1, outs)   #initialisation of weights\n",
    "\n",
    "\n",
    "for i in range(5000):\n",
    "    \n",
    "    yh = xs @ ws\n",
    "    e = yh - ys           \n",
    "    e = np.sum(np.abs(e)) \n",
    "    \n",
    "    if e < 0.05:\n",
    "        print('we have converged after {} iterations'.format(i))\n",
    "        print(ws)\n",
    "        break\n",
    "    else: \n",
    "        mutation = weights(ins+1, outs)*0.03\n",
    "        cw = ws + mutation\n",
    "        \n",
    "        yh = xs @ cw\n",
    "        ce = yh - ys\n",
    "        ce = np.sum(np.abs(ce))\n",
    "        \n",
    "        if ce < e:\n",
    "            ws = cw\n",
    "    err.append(e)    "
   ]
  },
  {
   "cell_type": "code",
   "execution_count": 35,
   "id": "1b29e1a7",
   "metadata": {},
   "outputs": [
    {
     "data": {
      "image/png": "[encoded data removed]",
      "text/plain": [
       "<Figure size 640x480 with 1 Axes>"
      ]
     },
     "metadata": {},
     "output_type": "display_data"
    }
   ],
   "source": [
    "plt.axes().set_facecolor('black')\n",
    "plt.plot(err,color='red', linewidth=1)\n",
    "plt.show()"
   ]
  },
  {
   "cell_type": "code",
   "execution_count": 36,
   "id": "4c9fdea6",
   "metadata": {},
   "outputs": [
    {
     "data": {
      "text/plain": [
       "3.008161740879088"
      ]
     },
     "execution_count": 36,
     "metadata": {},
     "output_type": "execute_result"
    }
   ],
   "source": [
    "min(err)"
   ]
  },
  {
   "cell_type": "code",
   "execution_count": 37,
   "id": "a70d4a1c",
   "metadata": {},
   "outputs": [
    {
     "data": {
      "text/plain": [
       "array([[ 0.14080533],\n",
       "       [-0.00451727],\n",
       "       [ 2.39283681],\n",
       "       [ 0.47086347],\n",
       "       [ 0.20338882],\n",
       "       [-0.80872394]])"
      ]
     },
     "execution_count": 37,
     "metadata": {},
     "output_type": "execute_result"
    }
   ],
   "source": [
    "ws"
   ]
  },
  {
   "cell_type": "code",
   "execution_count": null,
   "id": "95141959",
   "metadata": {},
   "outputs": [],
   "source": []
  }
 ],
 "metadata": {
  "kernelspec": {
   "display_name": "Python 3 (ipykernel)",
   "language": "python",
   "name": "python3"
  },
  "language_info": {
   "codemirror_mode": {
    "name": "ipython",
    "version": 3
   },
   "file_extension": ".py",
   "mimetype": "text/x-python",
   "name": "python",
   "nbconvert_exporter": "python",
   "pygments_lexer": "ipython3",
   "version": "3.9.13"
  }
 },
 "nbformat": 4,
 "nbformat_minor": 5
}
