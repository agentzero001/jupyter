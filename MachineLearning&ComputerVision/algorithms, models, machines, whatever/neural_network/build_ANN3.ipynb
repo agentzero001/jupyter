{
 "cells": [
  {
   "cell_type": "code",
   "execution_count": 109,
   "id": "de17a866",
   "metadata": {},
   "outputs": [],
   "source": [
    "import numpy as np\n",
    "import matplotlib.pyplot as plt\n",
    "plt.rcParams['figure.facecolor'] = '0.2'"
   ]
  },
  {
   "cell_type": "code",
   "execution_count": 116,
   "id": "cdd3838f",
   "metadata": {},
   "outputs": [
    {
     "data": {
      "text/plain": [
       "array([[ 0., -1.,  0., -1.,  0.],\n",
       "       [ 0., -1., -1.,  0.,  1.],\n",
       "       [ 0.,  0.,  0.,  0., -1.],\n",
       "       [ 0.,  1.,  1., -1.,  0.],\n",
       "       [ 0.,  0., -1.,  0., -1.]])"
      ]
     },
     "execution_count": 116,
     "metadata": {},
     "output_type": "execute_result"
    }
   ],
   "source": [
    "np.random.seed(15)\n",
    "data = np.random.randint(-1,2, 30*4).reshape(30,4)\n",
    "xs = np.c_[np.zeros([data.shape[0]]), data] \n",
    "xs[:5]"
   ]
  },
  {
   "cell_type": "code",
   "execution_count": 117,
   "id": "b35872f4",
   "metadata": {},
   "outputs": [
    {
     "data": {
      "text/plain": [
       "(30, 5)"
      ]
     },
     "execution_count": 117,
     "metadata": {},
     "output_type": "execute_result"
    }
   ],
   "source": [
    "xs.shape"
   ]
  },
  {
   "cell_type": "code",
   "execution_count": 118,
   "id": "cc9da5ac",
   "metadata": {},
   "outputs": [
    {
     "data": {
      "text/plain": [
       "array([[0],\n",
       "       [1],\n",
       "       [1],\n",
       "       [0],\n",
       "       [1],\n",
       "       [1]])"
      ]
     },
     "execution_count": 118,
     "metadata": {},
     "output_type": "execute_result"
    }
   ],
   "source": [
    "ys = np.random.randint(0, 2, 30)\n",
    "ys.resize(30,1)\n",
    "ys[:6]"
   ]
  },
  {
   "cell_type": "code",
   "execution_count": 174,
   "id": "822933a9",
   "metadata": {},
   "outputs": [],
   "source": [
    "weights = lambda ins, outs: np.random.randn(ins, outs)\n",
    "ins, outs = 4, 1\n",
    "nodes1 = 20\n",
    "wi = weights(ins+1, nodes1)\n",
    "ws = weights(nodes1, outs)\n",
    "err = []\n",
    "a = 0\n",
    "iterations=5000"
   ]
  },
  {
   "cell_type": "code",
   "execution_count": 175,
   "id": "f1ee8a28",
   "metadata": {},
   "outputs": [],
   "source": [
    "for i in range(iterations):\n",
    "    a+=1\n",
    "    \n",
    "    x = xs @ wi\n",
    "    x = np.sin(x)\n",
    "    yh = x @ ws\n",
    "    e = yh - ys           \n",
    "    e = np.sum(np.abs(e)) \n",
    "    if e < 0.05:\n",
    "        print('we have converged after {} iterations'.format(i))\n",
    "        print(ws)\n",
    "        break\n",
    "    else:\n",
    "        if a < iterations*.5:\n",
    "            mutation = weights(nodes1, outs)*.2\n",
    "            cw = ws + mutation\n",
    "            x = xs @ wi\n",
    "            x = np.sin(x)\n",
    "            yh = x @ cw\n",
    "            ce = yh - ys\n",
    "            ce = np.sum(np.abs(ce))\n",
    "            if ce < e:\n",
    "                ws = cw\n",
    "            err.append(e)\n",
    "        else:\n",
    "            mutation = weights(nodes1, outs)*.01\n",
    "            cw = ws + mutation\n",
    "            x = xs @ wi\n",
    "            x = np.sin(x)\n",
    "            yh = x @ cw\n",
    "            ce = yh - ys\n",
    "            ce = np.sum(np.abs(ce))\n",
    "            if ce < e:\n",
    "                ws = cw\n",
    "            err.append(e)\n"
   ]
  },
  {
   "cell_type": "code",
   "execution_count": 176,
   "id": "1b29e1a7",
   "metadata": {},
   "outputs": [
    {
     "data": {
      "image/png": "[encoded data removed]",
      "text/plain": [
       "<Figure size 640x480 with 1 Axes>"
      ]
     },
     "metadata": {},
     "output_type": "display_data"
    }
   ],
   "source": [
    "plt.axes().set_facecolor('black')\n",
    "plt.plot(err,color='red', linewidth=1)\n",
    "plt.show()"
   ]
  },
  {
   "cell_type": "code",
   "execution_count": 177,
   "id": "4c9fdea6",
   "metadata": {},
   "outputs": [
    {
     "data": {
      "text/plain": [
       "(5000, 11.695591424406006)"
      ]
     },
     "execution_count": 177,
     "metadata": {},
     "output_type": "execute_result"
    }
   ],
   "source": [
    "len(err), min(err)"
   ]
  },
  {
   "cell_type": "code",
   "execution_count": 136,
   "id": "6b2e7163",
   "metadata": {},
   "outputs": [],
   "source": [
    "np.set_printoptions(suppress=False, floatmode='unique')"
   ]
  },
  {
   "cell_type": "code",
   "execution_count": 127,
   "id": "b171d2cf",
   "metadata": {},
   "outputs": [],
   "source": [
    "w_1 = weights(ins+1, nodes1)\n",
    "w_2 = weights(nodes1, outs)\n",
    "\n",
    "_x =  xs @ w_1\n",
    "xsin = np.sin(_x)\n",
    "yh = xsin @ w_2"
   ]
  },
  {
   "cell_type": "code",
   "execution_count": 128,
   "id": "b6296103",
   "metadata": {},
   "outputs": [
    {
     "name": "stdout",
     "output_type": "stream",
     "text": [
      "xs = (30, 5)\n",
      "w_1 = (5, 10)\n",
      "_x = (30, 10)\n",
      "w_2 = (10, 1)\n",
      "yh = (30, 1)\n"
     ]
    }
   ],
   "source": [
    "print(f'xs = {xs.shape}')\n",
    "print(f'w_1 = {w_1.shape}')\n",
    "print(f'_x = {_x.shape}')\n",
    "print(f'w_2 = {w_2.shape}')\n",
    "print(f'yh = {yh.shape}')"
   ]
  },
  {
   "cell_type": "code",
   "execution_count": null,
   "id": "1f6f76c0",
   "metadata": {},
   "outputs": [],
   "source": []
  }
 ],
 "metadata": {
  "kernelspec": {
   "display_name": "Python 3 (ipykernel)",
   "language": "python",
   "name": "python3"
  },
  "language_info": {
   "codemirror_mode": {
    "name": "ipython",
    "version": 3
   },
   "file_extension": ".py",
   "mimetype": "text/x-python",
   "name": "python",
   "nbconvert_exporter": "python",
   "pygments_lexer": "ipython3",
   "version": "3.9.13"
  }
 },
 "nbformat": 4,
 "nbformat_minor": 5
}
