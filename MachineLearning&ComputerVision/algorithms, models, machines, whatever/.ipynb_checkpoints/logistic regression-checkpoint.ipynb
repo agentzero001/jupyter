{
 "cells": [
  {
   "cell_type": "code",
   "execution_count": 10,
   "id": "b35e3c87",
   "metadata": {},
   "outputs": [],
   "source": [
    "import numpy as np\n",
    "import matplotlib.pyplot as plt"
   ]
  },
  {
   "cell_type": "code",
   "execution_count": 11,
   "id": "8d2768dc",
   "metadata": {},
   "outputs": [
    {
     "data": {
      "text/plain": [
       "array([1, 0, 1, 0, 1, 0, 0, 0, 1, 1, 0, 1, 0, 1, 1, 0, 1, 1, 0, 0, 1])"
      ]
     },
     "execution_count": 11,
     "metadata": {},
     "output_type": "execute_result"
    }
   ],
   "source": [
    "def lift(arr):\n",
    "    arr = np.array(arr)\n",
    "    return arr.reshape((arr.shape[0], 1))\n",
    "\n",
    "\n",
    "grades = np.array([[11, 8, 15, 6, 9, 12, 6, 6, 12, 9, 3, 14, 11, 14, 6, 6, 8, 12, 3, 9, 12],\n",
    "                   [1, 0, 1, 0, 1, 0, 0, 0, 1, 1, 0, 1, 0, 1, 1, 0, 1, 1, 0, 0, 1]])  \n",
    "\n",
    "data = np.c_[grades[0,:], grades[1,:]]\n",
    "data[:, 1]"
   ]
  },
  {
   "cell_type": "code",
   "execution_count": 12,
   "id": "8e8d121f",
   "metadata": {},
   "outputs": [
    {
     "data": {
      "text/plain": [
       "[30,\n",
       " 30,\n",
       " 30,\n",
       " 120,\n",
       " 60,\n",
       " 30,\n",
       " 120,\n",
       " 120,\n",
       " 90,\n",
       " 60,\n",
       " 60,\n",
       " 60,\n",
       " 30,\n",
       " 60,\n",
       " 30,\n",
       " 120,\n",
       " 30,\n",
       " 90,\n",
       " 60,\n",
       " 30,\n",
       " 90]"
      ]
     },
     "execution_count": 12,
     "metadata": {},
     "output_type": "execute_result"
    }
   ],
   "source": [
    "X = data[:, 0]\n",
    "Y = data[:, 1]\n",
    "\n",
    "\n",
    "s = list(map(lambda x, y: 30 * len(X[(X == x) & (Y == y)]), X, Y))\n",
    "s"
   ]
  },
  {
   "cell_type": "code",
   "execution_count": 26,
   "id": "c4c7fd07",
   "metadata": {},
   "outputs": [
    {
     "data": {
      "image/png": "[encoded data removed]",
      "text/plain": [
       "<Figure size 640x480 with 1 Axes>"
      ]
     },
     "metadata": {},
     "output_type": "display_data"
    }
   ],
   "source": [
    "plt.figure(facecolor='0.2',dpi = 100)\n",
    "plt.axes().set_facecolor('black')\n",
    "\n",
    "plt.scatter(X,Y ,c='r', s=s)\n",
    "plt.show()"
   ]
  },
  {
   "cell_type": "code",
   "execution_count": 14,
   "id": "e2e562f5",
   "metadata": {},
   "outputs": [
    {
     "data": {
      "image/png": "[encoded data removed]",
      "text/plain": [
       "<Figure size 640x480 with 1 Axes>"
      ]
     },
     "metadata": {},
     "output_type": "display_data"
    }
   ],
   "source": [
    "def prob(grade):\n",
    "    if grade > 16:\n",
    "        return 1\n",
    "    if grade < 2:\n",
    "        return 0\n",
    "    return 1/14 * grade - 1/7\n",
    "\n",
    "g = np.linspace(-1,17,100)\n",
    "\n",
    "plt.figure(facecolor='.3',dpi = 100)\n",
    "plt.axes().set_facecolor('black')\n",
    "plt.axis([-1,17,-0.2,1.2])\n",
    "plt.plot(g, list(map(prob,g)),c='green')\n",
    "plt.scatter(X,Y ,c='r', s=s, alpha= .9)\n",
    "plt.show()"
   ]
  },
  {
   "cell_type": "code",
   "execution_count": 15,
   "id": "a8eedd31",
   "metadata": {},
   "outputs": [
    {
     "data": {
      "text/plain": [
       "array([0.64285714, 0.42857143, 0.92857143, 0.28571429, 0.5       ,\n",
       "       0.71428571, 0.28571429, 0.28571429, 0.71428571, 0.5       ,\n",
       "       0.07142857, 0.85714286, 0.64285714, 0.85714286, 0.28571429,\n",
       "       0.28571429, 0.42857143, 0.71428571, 0.07142857, 0.5       ,\n",
       "       0.71428571])"
      ]
     },
     "execution_count": 15,
     "metadata": {},
     "output_type": "execute_result"
    }
   ],
   "source": [
    "probX = np.array(list(map(prob, X)))\n",
    "probX"
   ]
  },
  {
   "cell_type": "code",
   "execution_count": 30,
   "id": "ba2e269f",
   "metadata": {},
   "outputs": [
    {
     "data": {
      "text/plain": [
       "array([0.        , 0.        , 0.07142857, 0.14285714, 0.21428571,\n",
       "       0.28571429, 0.35714286, 0.42857143, 0.5       , 0.57142857,\n",
       "       0.64285714, 0.71428571, 0.78571429, 0.85714286, 0.92857143])"
      ]
     },
     "execution_count": 30,
     "metadata": {},
     "output_type": "execute_result"
    }
   ],
   "source": [
    "probGrades = np.array(list(map(prob,np.arange(1,16))))\n",
    "probGrades"
   ]
  },
  {
   "cell_type": "code",
   "execution_count": 32,
   "id": "edd542fd",
   "metadata": {},
   "outputs": [
    {
     "data": {
      "text/plain": [
       "{1: 0.0,\n",
       " 2: 0.0,\n",
       " 3: 0.07142857142857142,\n",
       " 4: 0.14285714285714285,\n",
       " 5: 0.21428571428571425,\n",
       " 6: 0.2857142857142857,\n",
       " 7: 0.35714285714285715,\n",
       " 8: 0.42857142857142855,\n",
       " 9: 0.49999999999999994,\n",
       " 10: 0.5714285714285714,\n",
       " 11: 0.6428571428571428,\n",
       " 12: 0.7142857142857142,\n",
       " 13: 0.7857142857142856,\n",
       " 14: 0.8571428571428572,\n",
       " 15: 0.9285714285714286}"
      ]
     },
     "execution_count": 32,
     "metadata": {},
     "output_type": "execute_result"
    }
   ],
   "source": [
    "#prob for each grade \n",
    "{i: probGrades[i-1] for i in range(1,16)}"
   ]
  },
  {
   "cell_type": "code",
   "execution_count": 33,
   "id": "0dd686d5",
   "metadata": {},
   "outputs": [
    {
     "data": {
      "text/plain": [
       "array([0.64285714, 0.42857143, 0.92857143, 0.28571429, 0.5       ,\n",
       "       0.71428571, 0.28571429, 0.28571429, 0.71428571, 0.5       ,\n",
       "       0.07142857, 0.85714286, 0.64285714, 0.85714286, 0.28571429,\n",
       "       0.28571429, 0.42857143, 0.71428571, 0.07142857, 0.5       ,\n",
       "       0.71428571])"
      ]
     },
     "execution_count": 33,
     "metadata": {},
     "output_type": "execute_result"
    }
   ],
   "source": [
    "probX = np.array(list(map(prob, X)))\n",
    "probX"
   ]
  },
  {
   "cell_type": "code",
   "execution_count": 39,
   "id": "042ffa0a",
   "metadata": {},
   "outputs": [
    {
     "data": {
      "text/plain": [
       "array([1, 0, 1, 0, 0, 1, 0, 0, 1, 0, 0, 1, 1, 1, 0, 0, 0, 1, 0, 0, 1])"
      ]
     },
     "execution_count": 39,
     "metadata": {},
     "output_type": "execute_result"
    }
   ],
   "source": [
    "Y_predict = (probX >= .5) * 1\n",
    "Y_predict"
   ]
  },
  {
   "cell_type": "code",
   "execution_count": 38,
   "id": "1ab9c3a6",
   "metadata": {},
   "outputs": [
    {
     "data": {
      "text/plain": [
       "array([1, 0, 1, 0, 1, 0, 0, 0, 1, 1, 0, 1, 0, 1, 1, 0, 1, 1, 0, 0, 1])"
      ]
     },
     "execution_count": 38,
     "metadata": {},
     "output_type": "execute_result"
    }
   ],
   "source": [
    "Y"
   ]
  },
  {
   "cell_type": "code",
   "execution_count": 40,
   "id": "9929445d",
   "metadata": {},
   "outputs": [
    {
     "data": {
      "text/plain": [
       "15"
      ]
     },
     "execution_count": 40,
     "metadata": {},
     "output_type": "execute_result"
    }
   ],
   "source": [
    "np.sum(Y_predict == Y)"
   ]
  },
  {
   "cell_type": "code",
   "execution_count": 47,
   "id": "9120c599",
   "metadata": {},
   "outputs": [
    {
     "name": "stdout",
     "output_type": "stream",
     "text": [
      "0 11\n",
      "1 11\n",
      "2 11\n",
      "3 11\n",
      "4 13\n",
      "5 13\n",
      "6 13\n",
      "7 16\n",
      "8 16\n",
      "9 16\n",
      "10 15\n",
      "11 15\n",
      "12 15\n",
      "13 13\n",
      "14 13\n",
      "15 11\n"
     ]
    }
   ],
   "source": [
    "def predictor(boundary):\n",
    "    def inner_func(grade):\n",
    "        return 1 if grade >= boundary else 0\n",
    "    return inner_func\n",
    "\n",
    "def predictor(boundary):\n",
    "    return lambda grade: 1 if grade >= boundary else 0\n",
    "\n",
    "\n",
    "predictor = lambda boundary: lambda grade: 1 if grade >= boundary else 0\n",
    "\n",
    "for b in range(0, 16):\n",
    "    print(b, np.sum(np.array(list(map(predictor(b), X))) == Y))"
   ]
  },
  {
   "cell_type": "code",
   "execution_count": 43,
   "id": "9043bd90",
   "metadata": {},
   "outputs": [
    {
     "data": {
      "text/plain": [
       "1"
      ]
     },
     "execution_count": 43,
     "metadata": {},
     "output_type": "execute_result"
    }
   ],
   "source": [
    "predictor(2)(10)"
   ]
  },
  {
   "cell_type": "code",
   "execution_count": null,
   "id": "dfdd03de",
   "metadata": {},
   "outputs": [],
   "source": []
  }
 ],
 "metadata": {
  "kernelspec": {
   "display_name": "Python 3 (ipykernel)",
   "language": "python",
   "name": "python3"
  },
  "language_info": {
   "codemirror_mode": {
    "name": "ipython",
    "version": 3
   },
   "file_extension": ".py",
   "mimetype": "text/x-python",
   "name": "python",
   "nbconvert_exporter": "python",
   "pygments_lexer": "ipython3",
   "version": "3.11.3"
  }
 },
 "nbformat": 4,
 "nbformat_minor": 5
}
