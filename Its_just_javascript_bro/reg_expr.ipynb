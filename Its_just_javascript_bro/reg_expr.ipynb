{
 "cells": [
  {
   "cell_type": "code",
   "execution_count": 4,
   "id": "c800d0ef",
   "metadata": {},
   "outputs": [
    {
     "data": {
      "text/plain": [
       "[Function: log]"
      ]
     },
     "execution_count": 4,
     "metadata": {},
     "output_type": "execute_result"
    }
   ],
   "source": [
    "print = console.log;"
   ]
  },
  {
   "cell_type": "code",
   "execution_count": 3,
   "id": "19cf3680",
   "metadata": {},
   "outputs": [
    {
     "name": "stdout",
     "output_type": "stream",
     "text": [
      "hello\n"
     ]
    }
   ],
   "source": [
    "print('hello');"
   ]
  },
  {
   "cell_type": "code",
   "execution_count": 6,
   "id": "b6307cd4",
   "metadata": {},
   "outputs": [],
   "source": [
    "const RE = /[0-9]\\d/;\n",
    "const RE2 = /[\\d]+/\n",
    "const RE3 = /'([^']*)/\n",
    "const RE4 = /[\\d\\w]{2,}/\n",
    "const RE5 = /^\\d$/ //span the whole string\n",
    "const RE_exec = /boo+(hoo+)+/i.exec('BoOOOoooooohooohooooo')\n",
    "const RREGSTRING = /\\d\\d\\d\\d/.toString();\n",
    "const EXEC = /n/.exec('aaaaanaaaa');\n",
    "const MATCH = '111112000011111'.match(/[^01]0/);\n",
    "const MATCH2 = 'hihihi'.match(/h?/);"
   ]
  },
  {
   "cell_type": "code",
   "execution_count": 15,
   "id": "393b0b9a",
   "metadata": {},
   "outputs": [
    {
     "data": {
      "text/plain": [
       "'object'"
      ]
     },
     "execution_count": 15,
     "metadata": {},
     "output_type": "execute_result"
    }
   ],
   "source": [
    "typeof RE.exec('aaaaaaaaaaaaaa12') // 'object'"
   ]
  },
  {
   "cell_type": "code",
   "execution_count": null,
   "id": "9639c4c6",
   "metadata": {},
   "outputs": [],
   "source": []
  }
 ],
 "metadata": {
  "kernelspec": {
   "display_name": "JavaScript (Node.js)",
   "language": "javascript",
   "name": "javascript"
  },
  "language_info": {
   "file_extension": ".js",
   "mimetype": "application/javascript",
   "name": "javascript",
   "version": "18.18.2"
  }
 },
 "nbformat": 4,
 "nbformat_minor": 5
}
