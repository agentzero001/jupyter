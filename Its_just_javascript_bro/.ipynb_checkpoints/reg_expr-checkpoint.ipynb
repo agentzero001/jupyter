{
 "cells": [
  {
   "cell_type": "markdown",
   "id": "4f465450",
   "metadata": {},
   "source": [
    "# I'd rather use rust or webassembly"
   ]
  },
  {
   "cell_type": "markdown",
   "id": "82219079",
   "metadata": {},
   "source": [
    "### Matching digits:\n",
    "\n",
    "- \\d - Matches any digit (equivalent to [0-9]).\n",
    "- \\D - Matches any non-digit character.\n",
    "\n",
    "### Matching word characters:\n",
    "\n",
    "- \\w - Matches any alphanumeric character and underscore (equivalent to [a-zA-Z0-9_]).\n",
    "- \\W - Matches any non-word character.\n",
    "\n",
    "### Matching whitespace:\n",
    "\n",
    "- \\s - Matches any whitespace character (equivalent to [\\r\\n\\t\\f\\v ]).\n",
    "- \\S - Matches any non-whitespace character.\n",
    "\n",
    "### Anchors:\n",
    "\n",
    "- ^ - Matches the start of the string.\n",
    "- $ - Matches the end of the string."
   ]
  },
  {
   "cell_type": "markdown",
   "id": "3c320f84",
   "metadata": {},
   "source": [
    "### Quantifiers:\n",
    "\n",
    "- \\* - Matches zero or more occurrences of the preceding element.\n",
    "- \\+ - Matches one or more occurrences of the preceding element.\n",
    "- \\? - Matches zero or one occurrence of the preceding element.\n",
    "- {n} - Matches exactly n occurrences of the preceding element.\n",
    "- {n,} - Matches n or more occurrences of the preceding element.\n",
    "- {n,m} - Matches at least n and at most m occurrences of the preceding element.\n",
    "\n",
    "### Character classes:\n",
    "\n",
    "- [...] - Matches any single character within the brackets.\n",
    "- [^...] - Matches any single character not within the brackets.\n",
    "- [a-z] - Matches any lowercase letter.\n",
    "- [A-Z] - Matches any uppercase letter.\n",
    "- [0-9] - Matches any digit.\n",
    "\n",
    "### Grouping and alternation:\n",
    "\n",
    "- ( ) - Groups regular expressions and remembers matched text.\n",
    "- | - Acts like an OR operator, matches either the expression before or after it.\n",
    "\n",
    "### Escaping special characters:\n",
    "\n",
    "- \\ - Escapes a special character, allowing it to be treated as a literal character."
   ]
  },
  {
   "cell_type": "code",
   "execution_count": 1,
   "id": "c800d0ef",
   "metadata": {},
   "outputs": [
    {
     "data": {
      "text/plain": [
       "[Function: log]"
      ]
     },
     "execution_count": 1,
     "metadata": {},
     "output_type": "execute_result"
    }
   ],
   "source": [
    "print = console.log;"
   ]
  },
  {
   "cell_type": "code",
   "execution_count": 2,
   "id": "19cf3680",
   "metadata": {},
   "outputs": [
    {
     "name": "stdout",
     "output_type": "stream",
     "text": [
      "hello\n"
     ]
    }
   ],
   "source": [
    "print('hello');"
   ]
  },
  {
   "cell_type": "code",
   "execution_count": 3,
   "id": "b6307cd4",
   "metadata": {},
   "outputs": [],
   "source": [
    "const RE = /[0-9]\\d/;\n",
    "const RE2 = /[\\d]+/\n",
    "const RE3 = /'([^']*)/\n",
    "const RE4 = /[\\d\\w]{2,}/\n",
    "const RE5 = /^\\d$/ //span the whole string\n",
    "const RE_exec = /boo+(hoo+)+/i.exec('BoOOOoooooohooohooooo')\n",
    "const RREGSTRING = /\\d\\d\\d\\d/.toString();\n",
    "const EXEC = /n/.exec('aaaaanaaaa');\n",
    "const MATCH = '111112000011111'.match(/[^01]0/);\n",
    "const MATCH2 = 'hihihi'.match(/h?/);"
   ]
  },
  {
   "cell_type": "code",
   "execution_count": 18,
   "id": "06602058",
   "metadata": {},
   "outputs": [
    {
     "data": {
      "text/plain": [
       "[ '11', index: 5, input: 'aadad11adads', groups: undefined ]"
      ]
     },
     "execution_count": 18,
     "metadata": {},
     "output_type": "execute_result"
    }
   ],
   "source": [
    "RE.exec('aadad11adads')"
   ]
  },
  {
   "cell_type": "code",
   "execution_count": 4,
   "id": "393b0b9a",
   "metadata": {},
   "outputs": [
    {
     "data": {
      "text/plain": [
       "'object'"
      ]
     },
     "execution_count": 4,
     "metadata": {},
     "output_type": "execute_result"
    }
   ],
   "source": [
    "typeof RE.exec('aaaaaaaaaaaaaa12') // 'object'"
   ]
  },
  {
   "cell_type": "code",
   "execution_count": 21,
   "id": "9639c4c6",
   "metadata": {},
   "outputs": [
    {
     "data": {
      "text/plain": [
       "[ 'h', index: 0, input: 'hihihi', groups: undefined ]"
      ]
     },
     "execution_count": 21,
     "metadata": {},
     "output_type": "execute_result"
    }
   ],
   "source": [
    "MATCH2"
   ]
  },
  {
   "cell_type": "code",
   "execution_count": 6,
   "id": "abd621e1",
   "metadata": {},
   "outputs": [
    {
     "data": {
      "text/plain": [
       "[\n",
       "  'BoOOOoooooohooohooooo',\n",
       "  'hooooo',\n",
       "  index: 0,\n",
       "  input: 'BoOOOoooooohooohooooo',\n",
       "  groups: undefined\n",
       "]"
      ]
     },
     "execution_count": 6,
     "metadata": {},
     "output_type": "execute_result"
    }
   ],
   "source": [
    "RE_exec"
   ]
  },
  {
   "cell_type": "code",
   "execution_count": 31,
   "id": "f2670b3b",
   "metadata": {},
   "outputs": [
    {
     "data": {
      "text/plain": [
       "[ '%', index: 13, input: 'abcd5____44ef%d', groups: undefined ]"
      ]
     },
     "execution_count": 31,
     "metadata": {},
     "output_type": "execute_result"
    }
   ],
   "source": [
    "/\\W/.exec('abcd5____44ef%d') // underscores excluded"
   ]
  },
  {
   "cell_type": "code",
   "execution_count": null,
   "id": "07491971",
   "metadata": {},
   "outputs": [],
   "source": []
  }
 ],
 "metadata": {
  "kernelspec": {
   "display_name": "JavaScript (Node.js)",
   "language": "javascript",
   "name": "javascript"
  },
  "language_info": {
   "file_extension": ".js",
   "mimetype": "application/javascript",
   "name": "javascript",
   "version": "18.18.2"
  }
 },
 "nbformat": 4,
 "nbformat_minor": 5
}
