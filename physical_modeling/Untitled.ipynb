{
 "cells": [
  {
   "cell_type": "code",
   "execution_count": 1,
   "id": "4415707d",
   "metadata": {},
   "outputs": [],
   "source": [
    "import numpy as np"
   ]
  },
  {
   "cell_type": "code",
   "execution_count": 2,
   "id": "d036c365",
   "metadata": {},
   "outputs": [],
   "source": [
    "A = np.array([2, 4, 5])"
   ]
  },
  {
   "cell_type": "code",
   "execution_count": 3,
   "id": "7d97d0de",
   "metadata": {},
   "outputs": [
    {
     "data": {
      "text/plain": [
       "array([  2, 100,   5])"
      ]
     },
     "execution_count": 3,
     "metadata": {},
     "output_type": "execute_result"
    }
   ],
   "source": [
    "A[1] = 100\n",
    "A"
   ]
  },
  {
   "cell_type": "code",
   "execution_count": 4,
   "id": "79d9aed9",
   "metadata": {},
   "outputs": [],
   "source": [
    "f = 2.5\n",
    "g = f\n",
    "A = np.zeros(3)\n",
    "B = A"
   ]
  },
  {
   "cell_type": "code",
   "execution_count": 5,
   "id": "5d63b4ab",
   "metadata": {},
   "outputs": [
    {
     "data": {
      "text/plain": [
       "(2.5, 2.5, array([0., 0., 0.]), array([0., 0., 0.]))"
      ]
     },
     "execution_count": 5,
     "metadata": {},
     "output_type": "execute_result"
    }
   ],
   "source": [
    "f, g, A, B"
   ]
  },
  {
   "cell_type": "code",
   "execution_count": 6,
   "id": "9be56771",
   "metadata": {},
   "outputs": [],
   "source": [
    "g = 3.5\n",
    "A[0] = 1\n",
    "B[1] = 3"
   ]
  },
  {
   "cell_type": "code",
   "execution_count": 7,
   "id": "5acb9cbc",
   "metadata": {},
   "outputs": [
    {
     "data": {
      "text/plain": [
       "(2.5, 3.5, array([1., 3., 0.]), array([1., 3., 0.]))"
      ]
     },
     "execution_count": 7,
     "metadata": {},
     "output_type": "execute_result"
    }
   ],
   "source": [
    "f, g, A, B"
   ]
  },
  {
   "cell_type": "code",
   "execution_count": 8,
   "id": "67466c67",
   "metadata": {},
   "outputs": [
    {
     "data": {
      "text/plain": [
       "array([1., 3., 0.])"
      ]
     },
     "execution_count": 8,
     "metadata": {},
     "output_type": "execute_result"
    }
   ],
   "source": [
    "A[:]"
   ]
  },
  {
   "cell_type": "code",
   "execution_count": 9,
   "id": "ee85f5cc",
   "metadata": {},
   "outputs": [],
   "source": [
    "C = A[:].copy()"
   ]
  },
  {
   "cell_type": "code",
   "execution_count": 10,
   "id": "dbef8a5a",
   "metadata": {},
   "outputs": [],
   "source": [
    "C[1] = 100"
   ]
  },
  {
   "cell_type": "code",
   "execution_count": 11,
   "id": "62c1e86d",
   "metadata": {},
   "outputs": [
    {
     "data": {
      "text/plain": [
       "(array([  1., 100.,   0.]), array([1., 3., 0.]))"
      ]
     },
     "execution_count": 11,
     "metadata": {},
     "output_type": "execute_result"
    }
   ],
   "source": [
    "C, A"
   ]
  },
  {
   "cell_type": "code",
   "execution_count": 12,
   "id": "b1d739eb",
   "metadata": {},
   "outputs": [
    {
     "data": {
      "text/plain": [
       "array([  0., 100.,   1.])"
      ]
     },
     "execution_count": 12,
     "metadata": {},
     "output_type": "execute_result"
    }
   ],
   "source": [
    "C[::-1]"
   ]
  },
  {
   "cell_type": "code",
   "execution_count": 13,
   "id": "d64d37e2",
   "metadata": {},
   "outputs": [
    {
     "data": {
      "text/plain": [
       "array([ 0,  1,  2,  3,  4,  5,  6,  7,  8,  9, 10, 11, 12, 13, 14, 15, 16,\n",
       "       17, 18, 19])"
      ]
     },
     "execution_count": 13,
     "metadata": {},
     "output_type": "execute_result"
    }
   ],
   "source": [
    "a = np.arange(20)\n",
    "a"
   ]
  },
  {
   "cell_type": "code",
   "execution_count": 14,
   "id": "73790bd9",
   "metadata": {},
   "outputs": [
    {
     "data": {
      "text/plain": [
       "array([ True,  True,  True,  True,  True])"
      ]
     },
     "execution_count": 14,
     "metadata": {},
     "output_type": "execute_result"
    }
   ],
   "source": [
    "a[:5] == a[:5:]"
   ]
  },
  {
   "cell_type": "code",
   "execution_count": 15,
   "id": "9751cd75",
   "metadata": {},
   "outputs": [
    {
     "data": {
      "text/plain": [
       "array([10, 11, 12, 13, 14, 15, 16, 17, 18, 19, 20])"
      ]
     },
     "execution_count": 15,
     "metadata": {},
     "output_type": "execute_result"
    }
   ],
   "source": [
    "a = np.arange(10, 21); a"
   ]
  },
  {
   "cell_type": "code",
   "execution_count": 16,
   "id": "0a83afa2",
   "metadata": {},
   "outputs": [
    {
     "data": {
      "text/plain": [
       "array([12, 14, 15])"
      ]
     },
     "execution_count": 16,
     "metadata": {},
     "output_type": "execute_result"
    }
   ],
   "source": [
    "b = [2, 4, 5]\n",
    "a[b]"
   ]
  },
  {
   "cell_type": "code",
   "execution_count": 17,
   "id": "f3d6e325",
   "metadata": {},
   "outputs": [
    {
     "data": {
      "text/plain": [
       "array([-10,  -9,  -8,  -7,  -6,  -5,  -4,  -3,  -2,  -1,   0,   1,   2,\n",
       "         3,   4,   5,   6,   7,   8,   9,  10])"
      ]
     },
     "execution_count": 17,
     "metadata": {},
     "output_type": "execute_result"
    }
   ],
   "source": [
    "a = np.arange(-10, 11)\n",
    "a"
   ]
  },
  {
   "cell_type": "code",
   "execution_count": 18,
   "id": "92e8de24",
   "metadata": {},
   "outputs": [
    {
     "data": {
      "text/plain": [
       "array([-4, -3, -2, -1,  0,  1,  2,  3,  4])"
      ]
     },
     "execution_count": 18,
     "metadata": {},
     "output_type": "execute_result"
    }
   ],
   "source": [
    "less_than_five = (abs(a) < 5)\n",
    "b = a[less_than_five]\n",
    "b"
   ]
  },
  {
   "cell_type": "code",
   "execution_count": 19,
   "id": "56608316",
   "metadata": {},
   "outputs": [
    {
     "data": {
      "text/plain": [
       "array([-4, -3, -2, -1,  0,  1,  2,  3,  4])"
      ]
     },
     "execution_count": 19,
     "metadata": {},
     "output_type": "execute_result"
    }
   ],
   "source": [
    "less_than_five = lambda x: np.abs(x) < 5\n",
    "a[less_than_five(a)]"
   ]
  },
  {
   "cell_type": "code",
   "execution_count": 20,
   "id": "140d92d4",
   "metadata": {},
   "outputs": [
    {
     "data": {
      "text/plain": [
       "array([-4, -3, -2, -1,  0,  1,  2,  3,  4])"
      ]
     },
     "execution_count": 20,
     "metadata": {},
     "output_type": "execute_result"
    }
   ],
   "source": [
    "a[np.abs(a) < 5]"
   ]
  },
  {
   "cell_type": "code",
   "execution_count": 21,
   "id": "e89c5adc",
   "metadata": {},
   "outputs": [
    {
     "data": {
      "text/plain": [
       "array([-4, -3, -2, -1,  0,  1,  2,  3,  4])"
      ]
     },
     "execution_count": 21,
     "metadata": {},
     "output_type": "execute_result"
    }
   ],
   "source": [
    "a[abs(a) < 5]"
   ]
  },
  {
   "cell_type": "code",
   "execution_count": 22,
   "id": "4c522566",
   "metadata": {},
   "outputs": [
    {
     "data": {
      "text/plain": [
       "'the 3rd element of the list is 2'"
      ]
     },
     "execution_count": 22,
     "metadata": {},
     "output_type": "execute_result"
    }
   ],
   "source": [
    "\"the 3rd element of the list is {0[2]:g}\".format(np.arange(10))"
   ]
  },
  {
   "cell_type": "code",
   "execution_count": 23,
   "id": "a6e758fe",
   "metadata": {},
   "outputs": [
    {
     "data": {
      "text/plain": [
       "'The value of pi is approximately 3.14159'"
      ]
     },
     "execution_count": 23,
     "metadata": {},
     "output_type": "execute_result"
    }
   ],
   "source": [
    "\"The value of %s is approximately %.5f\" % (\"pi\", np.pi)"
   ]
  },
  {
   "cell_type": "code",
   "execution_count": 24,
   "id": "f959eadf",
   "metadata": {},
   "outputs": [
    {
     "data": {
      "text/plain": [
       "'2 plus 4 is 6'"
      ]
     },
     "execution_count": 24,
     "metadata": {},
     "output_type": "execute_result"
    }
   ],
   "source": [
    "s = \"%d plus %d is %d\"\n",
    "s % (2, 4, 2 + 4)"
   ]
  },
  {
   "cell_type": "code",
   "execution_count": 25,
   "id": "e2eaae15",
   "metadata": {},
   "outputs": [
    {
     "name": "stdout",
     "output_type": "stream",
     "text": [
      "a = -1.0000, x = 1.0000\n",
      "a = -0.7000, x = 0.6461\n",
      "a = -0.4000, x = 0.5635\n",
      "a = -0.1000, x = 0.5132\n",
      "a = 0.2000, x = 0.4772\n",
      "a = 0.5000, x = 0.4495\n",
      "a = 0.8000, x = 0.4271\n",
      "a = 1.1000, x = 0.4083\n",
      "a = 1.4000, x = 0.3923\n",
      "a = 1.7000, x = 0.3783\n"
     ]
    }
   ],
   "source": [
    "b, c = 2, -1\n",
    "for a in np.arange(-1, 2, .3):\n",
    "    x = (-b + np.sqrt(b**2 - 4*a*c)) / (2*a)\n",
    "    print(\"a = {:.4f}, x = {:.4f}\".format(a, x))"
   ]
  },
  {
   "cell_type": "code",
   "execution_count": 26,
   "id": "b1cb198b",
   "metadata": {},
   "outputs": [
    {
     "name": "stdout",
     "output_type": "stream",
     "text": [
      "1 1\n",
      "1 8\n",
      "1 27\n",
      "1 64\n",
      "1 125\n",
      "1 216\n",
      "1 343\n",
      "1 512\n",
      "1 729\n",
      "1 1000\n",
      "1 1331\n",
      "1 1728\n",
      "1 2197\n",
      "1 2744\n",
      "1 3375\n",
      "1 4096\n",
      "1 4913\n",
      "1 5832\n",
      "1 6859\n",
      "1 8000\n"
     ]
    }
   ],
   "source": [
    "for i in range(1, 21): print(1, i**3)"
   ]
  },
  {
   "cell_type": "code",
   "execution_count": 27,
   "id": "9a6302d4",
   "metadata": {},
   "outputs": [],
   "source": [
    "import matplotlib.pyplot as plt\n",
    "from scipy.special import factorial\n",
    "\n",
    "plt.style.use(\"dark_background\")"
   ]
  },
  {
   "cell_type": "code",
   "execution_count": 28,
   "id": "94bb3434",
   "metadata": {},
   "outputs": [],
   "source": [
    "x = np.linspace(-10, 10, 100)\n",
    "e = np.e\n",
    "f = lambda x, e: e**-(x**2) "
   ]
  },
  {
   "cell_type": "code",
   "execution_count": 29,
   "id": "6b120647",
   "metadata": {},
   "outputs": [
    {
     "data": {
      "text/plain": [
       "[<matplotlib.lines.Line2D at 0x1931b5df210>]"
      ]
     },
     "execution_count": 29,
     "metadata": {},
     "output_type": "execute_result"
    },
    {
     "data": {
      "image/png": "[encoded data removed]",
      "text/plain": [
       "<Figure size 640x480 with 1 Axes>"
      ]
     },
     "metadata": {},
     "output_type": "display_data"
    }
   ],
   "source": [
    "plt.plot(x, f(x, e))"
   ]
  },
  {
   "cell_type": "code",
   "execution_count": 30,
   "id": "86a16c06",
   "metadata": {},
   "outputs": [],
   "source": [
    "import numpy as np\n",
    "import matplotlib.pyplot as plt\n",
    "from scipy.special import factorial\n",
    "plt.style.use(\"dark_background\")"
   ]
  },
  {
   "cell_type": "code",
   "execution_count": 31,
   "id": "e8871475",
   "metadata": {},
   "outputs": [
    {
     "data": {
      "image/png": "[encoded data removed]",
      "text/plain": [
       "<Figure size 640x480 with 1 Axes>"
      ]
     },
     "metadata": {},
     "output_type": "display_data"
    }
   ],
   "source": [
    "N = np.arange(0, 30, .1)\n",
    "g = lambda n, μ: np.e**(-μ) * μ**n / factorial(n)    \n",
    "Xs = [g(N, mu) for mu in range(1, 10)]\n",
    "\n",
    "for xs in Xs:\n",
    "    plt.plot(N, xs)"
   ]
  },
  {
   "cell_type": "code",
   "execution_count": 32,
   "id": "6e5d8db4",
   "metadata": {},
   "outputs": [],
   "source": [
    "x = np.array([True, True, False, False])\n",
    "y = np.array([True, True, True, False])"
   ]
  },
  {
   "cell_type": "code",
   "execution_count": 33,
   "id": "baf1136d",
   "metadata": {},
   "outputs": [
    {
     "data": {
      "text/plain": [
       "array([False, False,  True,  True])"
      ]
     },
     "execution_count": 33,
     "metadata": {},
     "output_type": "execute_result"
    }
   ],
   "source": [
    "~x #logical NOT"
   ]
  },
  {
   "cell_type": "code",
   "execution_count": 34,
   "id": "3616b0b5",
   "metadata": {},
   "outputs": [
    {
     "data": {
      "text/plain": [
       "array([ True,  True,  True, False])"
      ]
     },
     "execution_count": 34,
     "metadata": {},
     "output_type": "execute_result"
    }
   ],
   "source": [
    "x + y #logical OR"
   ]
  },
  {
   "cell_type": "code",
   "execution_count": 35,
   "id": "3aa7a0f2",
   "metadata": {},
   "outputs": [
    {
     "data": {
      "text/plain": [
       "array([ True,  True, False, False])"
      ]
     },
     "execution_count": 35,
     "metadata": {},
     "output_type": "execute_result"
    }
   ],
   "source": [
    "x * y #logical AND"
   ]
  },
  {
   "cell_type": "code",
   "execution_count": 36,
   "id": "942e73e4",
   "metadata": {},
   "outputs": [
    {
     "data": {
      "text/plain": [
       "(array([[1],\n",
       "        [2],\n",
       "        [3]]),\n",
       " array([[1.  , 0.1 , 0.01]]))"
      ]
     },
     "execution_count": 36,
     "metadata": {},
     "output_type": "execute_result"
    }
   ],
   "source": [
    "a = np.array([1, 2, 3]).reshape((3, 1))\n",
    "b = np.array([1, .1, .01]).reshape((1, 3))\n",
    "a, b"
   ]
  },
  {
   "cell_type": "code",
   "execution_count": 37,
   "id": "c17ec30a",
   "metadata": {},
   "outputs": [
    {
     "data": {
      "text/plain": [
       "array([[1.  , 0.1 , 0.01],\n",
       "       [2.  , 0.2 , 0.02],\n",
       "       [3.  , 0.3 , 0.03]])"
      ]
     },
     "execution_count": 37,
     "metadata": {},
     "output_type": "execute_result"
    }
   ],
   "source": [
    "b * a"
   ]
  },
  {
   "cell_type": "code",
   "execution_count": 38,
   "id": "3d35baa9",
   "metadata": {},
   "outputs": [
    {
     "data": {
      "text/plain": [
       "array([[1.23]])"
      ]
     },
     "execution_count": 38,
     "metadata": {},
     "output_type": "execute_result"
    }
   ],
   "source": [
    "np.dot(b, a)"
   ]
  },
  {
   "cell_type": "code",
   "execution_count": 39,
   "id": "d700c305",
   "metadata": {},
   "outputs": [
    {
     "data": {
      "text/plain": [
       "24"
      ]
     },
     "execution_count": 39,
     "metadata": {},
     "output_type": "execute_result"
    }
   ],
   "source": [
    "np.arange(1,5).prod() #reduce"
   ]
  },
  {
   "cell_type": "code",
   "execution_count": 40,
   "id": "bc1eaf8b",
   "metadata": {},
   "outputs": [
    {
     "name": "stdout",
     "output_type": "stream",
     "text": [
      "speed = 0.0 m/s; time = 0.6 s\n",
      "speed = 5.0 m/s; time = 1.3 s\n",
      "speed = 10.0 m/s; time = 2.2 s\n",
      "speed = 15.0 m/s; time = 3.2 s\n",
      "speed = 20.0 m/s; time = 4.2 s\n",
      "speed = 25.0 m/s; time = 5.2 s\n",
      "speed = 30.0 m/s; time = 6.2 s\n",
      "speed = 35.0 m/s; time = 7.2 s\n",
      "speed = 40.0 m/s; time = 8.2 s\n",
      "speed = 45.0 m/s; time = 9.2 s\n",
      "speed = 50.0 m/s; time = 10.2 s\n",
      "calculation complete.\n"
     ]
    }
   ],
   "source": [
    "initial_speed = 0.0\n",
    "impact_time = 0.0\n",
    "g = 9.80665\n",
    "initial_height = 2.0\n",
    "speed_increment = 5.0 \n",
    "cutoff_time = 10.0\n",
    "\n",
    "while impact_time < cutoff_time:\n",
    "    impact_time = (np.sqrt(initial_speed**2 + 2 * g * initial_height) + initial_speed) / g\n",
    "    print(\"speed = {} m/s; time = {:.1f} s\".format(initial_speed, impact_time))\n",
    "    initial_speed += speed_increment\n",
    "print(\"calculation complete.\")"
   ]
  },
  {
   "cell_type": "code",
   "execution_count": 53,
   "id": "ef8e0a90",
   "metadata": {},
   "outputs": [
    {
     "data": {
      "text/plain": [
       "False"
      ]
     },
     "execution_count": 53,
     "metadata": {},
     "output_type": "execute_result"
    }
   ],
   "source": [
    "() == True"
   ]
  },
  {
   "cell_type": "code",
   "execution_count": 59,
   "id": "d81cfa8c",
   "metadata": {},
   "outputs": [
    {
     "name": "stdout",
     "output_type": "stream",
     "text": [
      "hello\n"
     ]
    }
   ],
   "source": [
    "if not None:\n",
    "    print(\"hello\")"
   ]
  },
  {
   "cell_type": "code",
   "execution_count": 82,
   "id": "6aa551fe",
   "metadata": {},
   "outputs": [],
   "source": [
    "x = np.linspace(0, 1, 1001)\n",
    "y = 3*np.sin(x)**3 - np.sin(x)"
   ]
  },
  {
   "cell_type": "code",
   "execution_count": 83,
   "id": "055d9cd5",
   "metadata": {},
   "outputs": [],
   "source": [
    "np.save(\"x_values\", x) #save a single array as a numpy archive file (.npy)\n",
    "np.save(\"y_values\", y)\n",
    "\n",
    "np.savetxt(\"x_values.dat\", x) #save a single array as a text file, extension of your choice\n",
    "np.savetxt(\"y_values.dat\", y)\n",
    "\n",
    "np.savez(\"xy_values\", x_vals=x, y_vals=y)"
   ]
  },
  {
   "cell_type": "code",
   "execution_count": 84,
   "id": "f057b414",
   "metadata": {},
   "outputs": [],
   "source": [
    "w = np.load(\"xy_values.npz\")"
   ]
  },
  {
   "cell_type": "code",
   "execution_count": 86,
   "id": "07aeaf4a",
   "metadata": {},
   "outputs": [
    {
     "data": {
      "text/plain": [
       "NpzFile 'xy_values.npz' with keys: x_vals, y_vals"
      ]
     },
     "execution_count": 86,
     "metadata": {},
     "output_type": "execute_result"
    }
   ],
   "source": [
    "w"
   ]
  },
  {
   "cell_type": "code",
   "execution_count": 89,
   "id": "20ae30fb",
   "metadata": {},
   "outputs": [
    {
     "data": {
      "text/plain": [
       "(array([0.   , 0.001, 0.002, ..., 0.998, 0.999, 1.   ]),\n",
       " array([ 0.        , -0.001     , -0.00199997, ...,  0.94019283,\n",
       "         0.94309582,  0.94599872]))"
      ]
     },
     "execution_count": 89,
     "metadata": {},
     "output_type": "execute_result"
    }
   ],
   "source": [
    "w[\"x_vals\"], w[\"y_vals\"]"
   ]
  },
  {
   "cell_type": "code",
   "execution_count": null,
   "id": "4254ba39",
   "metadata": {},
   "outputs": [],
   "source": []
  }
 ],
 "metadata": {
  "kernelspec": {
   "display_name": "Python 3 (ipykernel)",
   "language": "python",
   "name": "python3"
  },
  "language_info": {
   "codemirror_mode": {
    "name": "ipython",
    "version": 3
   },
   "file_extension": ".py",
   "mimetype": "text/x-python",
   "name": "python",
   "nbconvert_exporter": "python",
   "pygments_lexer": "ipython3",
   "version": "3.11.7"
  }
 },
 "nbformat": 4,
 "nbformat_minor": 5
}
