{
 "cells": [
  {
   "cell_type": "code",
   "execution_count": 1,
   "id": "98bf59b1",
   "metadata": {},
   "outputs": [],
   "source": [
    "import numpy as np\n",
    "import matplotlib.pyplot as plt\n",
    "plt.style.use('dark_background')"
   ]
  },
  {
   "cell_type": "code",
   "execution_count": 2,
   "id": "fc871649",
   "metadata": {},
   "outputs": [
    {
     "data": {
      "text/plain": [
       "array([0.00000000e+00, 3.50175088e-03, 7.00350175e-03, ...,\n",
       "       6.99299650e+00, 6.99649825e+00, 7.00000000e+00])"
      ]
     },
     "execution_count": 2,
     "metadata": {},
     "output_type": "execute_result"
    }
   ],
   "source": [
    "time = np.linspace(0, 7, 2000)\n",
    "time"
   ]
  },
  {
   "cell_type": "code",
   "execution_count": 3,
   "id": "4091dd22",
   "metadata": {},
   "outputs": [],
   "source": [
    "viral_load = lambda A, B, alpha, beta: A * np.exp(-alpha*time) + B * np.exp(-beta*time)\n",
    "exp_t = lambda t: np.exp(-t)\n",
    "\n",
    "\n",
    "f_1 = lambda A, alpha: A * np.exp(-alpha*time)\n",
    "f_2 = lambda B, beta: B * np.exp(-beta*time)"
   ]
  },
  {
   "cell_type": "code",
   "execution_count": 4,
   "id": "6623ec7e",
   "metadata": {},
   "outputs": [],
   "source": [
    "A = 1.0\n",
    "B = -1.5\n",
    "alpha =  1.5\n",
    "beta = .1\n",
    "\n",
    "\n",
    "data = f_1(A, alpha) + f_2(B, beta)\n",
    "\n",
    "data2 = viral_load(A, B, alpha, beta)"
   ]
  },
  {
   "cell_type": "code",
   "execution_count": 5,
   "id": "20bc8960",
   "metadata": {},
   "outputs": [
    {
     "data": {
      "text/plain": [
       "[<matplotlib.lines.Line2D at 0x1c49f20e6d0>]"
      ]
     },
     "execution_count": 5,
     "metadata": {},
     "output_type": "execute_result"
    },
    {
     "data": {
      "image/png": "[encoded data removed]",
      "text/plain": [
       "<Figure size 640x480 with 1 Axes>"
      ]
     },
     "metadata": {},
     "output_type": "display_data"
    }
   ],
   "source": [
    "plt.plot(time, data)\n",
    "plt.plot(time, data2)"
   ]
  },
  {
   "cell_type": "code",
   "execution_count": 6,
   "id": "db86b556",
   "metadata": {},
   "outputs": [
    {
     "data": {
      "text/plain": [
       "2.718281828459045"
      ]
     },
     "execution_count": 6,
     "metadata": {},
     "output_type": "execute_result"
    }
   ],
   "source": [
    "np.exp(1)"
   ]
  },
  {
   "cell_type": "code",
   "execution_count": 7,
   "id": "7c615260",
   "metadata": {},
   "outputs": [
    {
     "name": "stdout",
     "output_type": "stream",
     "text": [
      " Volume in Laufwerk C: hat keine Bezeichnung.\n",
      " Volumeseriennummer: A055-9EBC\n",
      "\n",
      " Verzeichnis von C:\\Users\\jensm\\Desktop\\local\\jupyter\\physical_modeling\\HIVexample\n",
      "\n",
      "06/19/2025  08:01 PM    <DIR>          .\n",
      "06/17/2025  03:18 PM    <DIR>          ..\n",
      "06/18/2025  11:01 PM    <DIR>          .ipynb_checkpoints\n",
      "06/19/2025  08:01 PM            63,674 first_lab.ipynb\n",
      "06/17/2025  02:53 PM               251 HIVseries.csv\n",
      "06/17/2025  02:53 PM               438 HIVseries.mat\n",
      "06/17/2025  02:53 PM               336 HIVseries.npy\n",
      "06/17/2025  02:53 PM               650 HIVseries.npz\n",
      "06/17/2025  02:53 PM               594 README.txt\n",
      "               6 Datei(en),         65,943 Bytes\n",
      "               3 Verzeichnis(se),  2,986,717,184 Bytes frei\n"
     ]
    }
   ],
   "source": [
    "!dir"
   ]
  },
  {
   "cell_type": "code",
   "execution_count": 8,
   "id": "d688d07f",
   "metadata": {},
   "outputs": [],
   "source": [
    "_datadir = 'HIVseries.csv'"
   ]
  },
  {
   "cell_type": "code",
   "execution_count": 9,
   "id": "d066332c",
   "metadata": {},
   "outputs": [],
   "source": [
    "dataset = np.loadtxt(_datadir, delimiter=',')"
   ]
  },
  {
   "cell_type": "code",
   "execution_count": 10,
   "id": "ad3d4cd1",
   "metadata": {},
   "outputs": [
    {
     "data": {
      "text/plain": [
       "array([[0.0000e+00, 1.0610e+05],\n",
       "       [8.3100e-02, 9.3240e+04],\n",
       "       [1.4650e-01, 1.6672e+05],\n",
       "       [2.5870e-01, 1.5378e+05],\n",
       "       [4.8280e-01, 1.1880e+05],\n",
       "       [7.4480e-01, 1.1690e+05],\n",
       "       [9.8170e-01, 1.0957e+05],\n",
       "       [1.2563e+00, 1.1135e+05],\n",
       "       [1.4926e+00, 7.4388e+04],\n",
       "       [1.7299e+00, 8.3291e+04],\n",
       "       [1.9915e+00, 6.6435e+04],\n",
       "       [3.0011e+00, 3.5408e+04],\n",
       "       [4.0109e+00, 2.1125e+04],\n",
       "       [5.0090e+00, 2.0450e+04],\n",
       "       [5.9943e+00, 1.5798e+04],\n",
       "       [7.0028e+00, 4.7852e+03]])"
      ]
     },
     "execution_count": 10,
     "metadata": {},
     "output_type": "execute_result"
    }
   ],
   "source": [
    "dataset"
   ]
  },
  {
   "cell_type": "code",
   "execution_count": 11,
   "id": "df2ed58c",
   "metadata": {},
   "outputs": [
    {
     "data": {
      "text/plain": [
       "(16, 2)"
      ]
     },
     "execution_count": 11,
     "metadata": {},
     "output_type": "execute_result"
    }
   ],
   "source": [
    "dataset.shape"
   ]
  },
  {
   "cell_type": "code",
   "execution_count": 12,
   "id": "4cdd8a91",
   "metadata": {},
   "outputs": [
    {
     "data": {
      "text/plain": [
       "0.0831"
      ]
     },
     "execution_count": 12,
     "metadata": {},
     "output_type": "execute_result"
    }
   ],
   "source": [
    "dataset[1][0]"
   ]
  },
  {
   "cell_type": "code",
   "execution_count": 13,
   "id": "a443c4f5",
   "metadata": {},
   "outputs": [
    {
     "data": {
      "text/plain": [
       "0.0831"
      ]
     },
     "execution_count": 13,
     "metadata": {},
     "output_type": "execute_result"
    }
   ],
   "source": [
    "dataset[1, 0]"
   ]
  },
  {
   "cell_type": "code",
   "execution_count": 14,
   "id": "589780d4",
   "metadata": {},
   "outputs": [],
   "source": [
    "w = np.load(\"HIVseries.npz\")"
   ]
  },
  {
   "cell_type": "code",
   "execution_count": 15,
   "id": "294c7f01",
   "metadata": {},
   "outputs": [
    {
     "data": {
      "text/plain": [
       "NpzFile 'HIVseries.npz' with keys: time_in_days, viral_load"
      ]
     },
     "execution_count": 15,
     "metadata": {},
     "output_type": "execute_result"
    }
   ],
   "source": [
    "w"
   ]
  },
  {
   "cell_type": "code",
   "execution_count": 16,
   "id": "a364b512",
   "metadata": {},
   "outputs": [
    {
     "data": {
      "text/plain": [
       "array([0.    , 0.0831, 0.1465, 0.2587, 0.4828, 0.7448, 0.9817, 1.2563,\n",
       "       1.4926, 1.7299, 1.9915, 3.0011, 4.0109, 5.009 , 5.9943, 7.0028])"
      ]
     },
     "execution_count": 16,
     "metadata": {},
     "output_type": "execute_result"
    }
   ],
   "source": [
    "w['time_in_days']"
   ]
  },
  {
   "cell_type": "code",
   "execution_count": 17,
   "id": "5bf29fa1",
   "metadata": {},
   "outputs": [
    {
     "data": {
      "text/plain": [
       "[<matplotlib.lines.Line2D at 0x1c49f2bea90>]"
      ]
     },
     "execution_count": 17,
     "metadata": {},
     "output_type": "execute_result"
    },
    {
     "data": {
      "image/png": "[encoded data removed]",
      "text/plain": [
       "<Figure size 640x480 with 1 Axes>"
      ]
     },
     "metadata": {},
     "output_type": "display_data"
    }
   ],
   "source": [
    "plt.plot(dataset[:, 0], dataset[:, 1])\n",
    "plt.plot(time, data)"
   ]
  },
  {
   "cell_type": "code",
   "execution_count": 22,
   "id": "9c899171",
   "metadata": {},
   "outputs": [
    {
     "data": {
      "text/plain": [
       "array([0.00000000e+00, 5.00333500e-07, 2.00066683e-06, ...,\n",
       "       1.13360536e+00, 1.13447025e+00, 1.13533528e+00])"
      ]
     },
     "execution_count": 22,
     "metadata": {},
     "output_type": "execute_result"
    }
   ],
   "source": [
    "W = lambda A, τ, t: A * (np.exp(-t/τ) - 1 + (t/τ))\n",
    "\n",
    "A = 1\n",
    "τ = 1\n",
    "time = np.linspace(0, 2, 2000)\n",
    "W(A, τ, time)"
   ]
  },
  {
   "cell_type": "code",
   "execution_count": 23,
   "id": "27c66d41",
   "metadata": {},
   "outputs": [
    {
     "data": {
      "text/plain": [
       "[<matplotlib.lines.Line2D at 0x1c4a03e0490>]"
      ]
     },
     "execution_count": 23,
     "metadata": {},
     "output_type": "execute_result"
    },
    {
     "data": {
      "image/png": "[encoded data removed]",
      "text/plain": [
       "<Figure size 640x480 with 1 Axes>"
      ]
     },
     "metadata": {},
     "output_type": "display_data"
    }
   ],
   "source": [
    "plt.plot(time, W(A, τ, time))"
   ]
  },
  {
   "cell_type": "code",
   "execution_count": 26,
   "id": "b463a1a0",
   "metadata": {},
   "outputs": [],
   "source": [
    "def rotate_vector(vector, angle):\n",
    "    rotation_matrix = np.array([[np.cos(angle), -np.sin(angle)],\n",
    "                                [np.sin(angle),  np.cos(angle)]])\n",
    "    return np.dot(rotation_matrix, vector)"
   ]
  },
  {
   "cell_type": "code",
   "execution_count": 27,
   "id": "499585ad",
   "metadata": {},
   "outputs": [
    {
     "data": {
      "text/plain": [
       "array([-1.,  1.])"
      ]
     },
     "execution_count": 27,
     "metadata": {},
     "output_type": "execute_result"
    }
   ],
   "source": [
    "vec = [1, 1]\n",
    "theta = np.pi/2\n",
    "r = rotate_vector(vec, theta)\n",
    "\n",
    "r"
   ]
  },
  {
   "cell_type": "code",
   "execution_count": 30,
   "id": "269194b7",
   "metadata": {},
   "outputs": [
    {
     "data": {
      "text/plain": [
       "(-0.9999999999999999, 1.0)"
      ]
     },
     "execution_count": 30,
     "metadata": {},
     "output_type": "execute_result"
    }
   ],
   "source": [
    "x, y = rotate_vector(vec, theta)\n",
    "x, y"
   ]
  },
  {
   "cell_type": "code",
   "execution_count": 33,
   "id": "0a68b664",
   "metadata": {},
   "outputs": [],
   "source": [
    "def running_avg(x):\n",
    "    y = np.zeros(len(x))\n",
    "    current_sum = 0.0\n",
    "    for i in range(len(x)):\n",
    "        current_sum += x[i]\n",
    "        y[i] = current_sum / (i + 1.0) \n",
    "    return y\n",
    "    "
   ]
  },
  {
   "cell_type": "code",
   "execution_count": 34,
   "id": "f70f3c56",
   "metadata": {},
   "outputs": [
    {
     "data": {
      "text/plain": [
       "array([0. , 0.5, 1. , 1.5, 2. , 2.5, 3. , 3.5, 4. , 4.5, 5. , 5.5, 6. ,\n",
       "       6.5, 7. , 7.5, 8. , 8.5, 9. , 9.5])"
      ]
     },
     "execution_count": 34,
     "metadata": {},
     "output_type": "execute_result"
    }
   ],
   "source": [
    "x = np.arange(20)\n",
    "running_avg(x)"
   ]
  },
  {
   "cell_type": "code",
   "execution_count": null,
   "id": "8da495ab",
   "metadata": {},
   "outputs": [],
   "source": []
  }
 ],
 "metadata": {
  "kernelspec": {
   "display_name": "Python 3 (ipykernel)",
   "language": "python",
   "name": "python3"
  },
  "language_info": {
   "codemirror_mode": {
    "name": "ipython",
    "version": 3
   },
   "file_extension": ".py",
   "mimetype": "text/x-python",
   "name": "python",
   "nbconvert_exporter": "python",
   "pygments_lexer": "ipython3",
   "version": "3.11.7"
  }
 },
 "nbformat": 4,
 "nbformat_minor": 5
}
