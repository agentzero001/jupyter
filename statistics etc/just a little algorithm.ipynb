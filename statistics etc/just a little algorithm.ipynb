{
 "cells": [
  {
   "cell_type": "code",
   "execution_count": 141,
   "id": "df62ff37",
   "metadata": {},
   "outputs": [],
   "source": [
    "import numpy as np"
   ]
  },
  {
   "cell_type": "code",
   "execution_count": 142,
   "id": "1c97057e",
   "metadata": {},
   "outputs": [],
   "source": [
    "data = np.random.randint(low=1,high=200,size=20)\n",
    "data2 = data.tolist()"
   ]
  },
  {
   "cell_type": "code",
   "execution_count": 143,
   "id": "8294d4ca",
   "metadata": {},
   "outputs": [
    {
     "data": {
      "text/plain": [
       "[71,\n",
       " 94,\n",
       " 142,\n",
       " 51,\n",
       " 49,\n",
       " 4,\n",
       " 130,\n",
       " 192,\n",
       " 199,\n",
       " 75,\n",
       " 151,\n",
       " 57,\n",
       " 41,\n",
       " 157,\n",
       " 88,\n",
       " 161,\n",
       " 167,\n",
       " 58,\n",
       " 27,\n",
       " 119]"
      ]
     },
     "execution_count": 143,
     "metadata": {},
     "output_type": "execute_result"
    }
   ],
   "source": [
    "data2 "
   ]
  },
  {
   "cell_type": "code",
   "execution_count": 144,
   "id": "7f397fe9",
   "metadata": {},
   "outputs": [],
   "source": [
    "#here is a little algorithm i just wrote because i was bored\n",
    "def sort_values(data): \n",
    "    my_dict = {key: [] for key in range(0,max(data),10)}\n",
    "    A = data.copy()\n",
    "    for i in my_dict.keys():\n",
    "        for j,k in zip(A, range(11)):\n",
    "            if j < i+10:\n",
    "                my_dict[i].append(j)\n",
    "                A.pop(k)\n",
    "    return my_dict"
   ]
  },
  {
   "cell_type": "code",
   "execution_count": 145,
   "id": "08f040f8",
   "metadata": {},
   "outputs": [
    {
     "data": {
      "text/plain": [
       "{0: [4],\n",
       " 10: [],\n",
       " 20: [],\n",
       " 30: [],\n",
       " 40: [49, 41],\n",
       " 50: [51, 57],\n",
       " 60: [],\n",
       " 70: [71, 75, 58],\n",
       " 80: [88, 27],\n",
       " 90: [94],\n",
       " 100: [],\n",
       " 110: [119],\n",
       " 120: [],\n",
       " 130: [130],\n",
       " 140: [142],\n",
       " 150: [151],\n",
       " 160: [157, 167],\n",
       " 170: [161],\n",
       " 180: [],\n",
       " 190: [192]}"
      ]
     },
     "execution_count": 145,
     "metadata": {},
     "output_type": "execute_result"
    }
   ],
   "source": [
    "sort_values(data2)"
   ]
  },
  {
   "cell_type": "code",
   "execution_count": 146,
   "id": "9f80a356",
   "metadata": {},
   "outputs": [
    {
     "data": {
      "text/plain": [
       "[71,\n",
       " 94,\n",
       " 142,\n",
       " 51,\n",
       " 49,\n",
       " 4,\n",
       " 130,\n",
       " 192,\n",
       " 199,\n",
       " 75,\n",
       " 151,\n",
       " 57,\n",
       " 41,\n",
       " 157,\n",
       " 88,\n",
       " 161,\n",
       " 167,\n",
       " 58,\n",
       " 27,\n",
       " 119]"
      ]
     },
     "execution_count": 146,
     "metadata": {},
     "output_type": "execute_result"
    }
   ],
   "source": [
    "data2"
   ]
  },
  {
   "cell_type": "code",
   "execution_count": null,
   "id": "b214a247",
   "metadata": {},
   "outputs": [],
   "source": []
  }
 ],
 "metadata": {
  "kernelspec": {
   "display_name": "Python 3 (ipykernel)",
   "language": "python",
   "name": "python3"
  },
  "language_info": {
   "codemirror_mode": {
    "name": "ipython",
    "version": 3
   },
   "file_extension": ".py",
   "mimetype": "text/x-python",
   "name": "python",
   "nbconvert_exporter": "python",
   "pygments_lexer": "ipython3",
   "version": "3.9.13"
  }
 },
 "nbformat": 4,
 "nbformat_minor": 5
}
