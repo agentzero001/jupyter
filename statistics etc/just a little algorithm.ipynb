{
 "cells": [
  {
   "cell_type": "code",
   "execution_count": 6,
   "id": "df62ff37",
   "metadata": {},
   "outputs": [],
   "source": [
    "import numpy as np"
   ]
  },
  {
   "cell_type": "code",
   "execution_count": 7,
   "id": "1c97057e",
   "metadata": {},
   "outputs": [
    {
     "data": {
      "text/plain": [
       "array([138, 172,   7, 105,  75, 194, 183, 166,  61,  62,  25,  91, 124,\n",
       "        76, 184, 130,  29, 181,  36,  60])"
      ]
     },
     "execution_count": 7,
     "metadata": {},
     "output_type": "execute_result"
    }
   ],
   "source": [
    "data = np.random.randint(low=1,high=200,size=20)\n",
    "data"
   ]
  },
  {
   "cell_type": "code",
   "execution_count": 8,
   "id": "7f397fe9",
   "metadata": {},
   "outputs": [],
   "source": [
    "#check out my little algorithm right here\n",
    "def sort_values1(data): \n",
    "    my_dict = {key: [] for key in range(0,max(data)+1,10)}\n",
    "    for i in my_dict.keys():\n",
    "        for j in data:\n",
    "            if j < i+10 and j > i:\n",
    "                my_dict[i].append(j)\n",
    "    return my_dict\n",
    "\n",
    "#same algorithm using comprehension syntax \n",
    "def sort_values2(data): \n",
    "    my_dict = {key: [] for key in range(0,max(data)+1,10)}\n",
    "    [my_dict[i].append(j) for i in my_dict.keys() for j in data if j < i+10 and j > i]\n",
    "    return my_dict"
   ]
  },
  {
   "cell_type": "code",
   "execution_count": 9,
   "id": "d6cedd04",
   "metadata": {},
   "outputs": [
    {
     "data": {
      "text/plain": [
       "True"
      ]
     },
     "execution_count": 9,
     "metadata": {},
     "output_type": "execute_result"
    }
   ],
   "source": [
    "sort_values1(data) ==  sort_values2(data)"
   ]
  },
  {
   "cell_type": "code",
   "execution_count": 10,
   "id": "fe4262bb",
   "metadata": {
    "scrolled": true
   },
   "outputs": [
    {
     "data": {
      "text/plain": [
       "{0: [7],\n",
       " 10: [],\n",
       " 20: [25, 29],\n",
       " 30: [36],\n",
       " 40: [],\n",
       " 50: [],\n",
       " 60: [61, 62],\n",
       " 70: [75, 76],\n",
       " 80: [],\n",
       " 90: [91],\n",
       " 100: [105],\n",
       " 110: [],\n",
       " 120: [124],\n",
       " 130: [138],\n",
       " 140: [],\n",
       " 150: [],\n",
       " 160: [166],\n",
       " 170: [172],\n",
       " 180: [183, 184, 181],\n",
       " 190: [194]}"
      ]
     },
     "execution_count": 10,
     "metadata": {},
     "output_type": "execute_result"
    }
   ],
   "source": [
    "sort_values2(data)"
   ]
  },
  {
   "cell_type": "code",
   "execution_count": null,
   "id": "25ef9564",
   "metadata": {},
   "outputs": [],
   "source": []
  }
 ],
 "metadata": {
  "kernelspec": {
   "display_name": "Python 3 (ipykernel)",
   "language": "python",
   "name": "python3"
  },
  "language_info": {
   "codemirror_mode": {
    "name": "ipython",
    "version": 3
   },
   "file_extension": ".py",
   "mimetype": "text/x-python",
   "name": "python",
   "nbconvert_exporter": "python",
   "pygments_lexer": "ipython3",
   "version": "3.9.13"
  }
 },
 "nbformat": 4,
 "nbformat_minor": 5
}
