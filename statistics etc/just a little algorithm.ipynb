{
 "cells": [
  {
   "cell_type": "code",
   "execution_count": 245,
   "id": "df62ff37",
   "metadata": {},
   "outputs": [],
   "source": [
    "import numpy as np"
   ]
  },
  {
   "cell_type": "code",
   "execution_count": 253,
   "id": "1c97057e",
   "metadata": {},
   "outputs": [
    {
     "data": {
      "text/plain": [
       "array([  1,  31,   7,  19,  10,  94,  78, 163, 168, 109, 164,  13, 156,\n",
       "       131, 186,  91, 190, 156, 187,  46])"
      ]
     },
     "execution_count": 253,
     "metadata": {},
     "output_type": "execute_result"
    }
   ],
   "source": [
    "data = np.random.randint(low=1,high=200,size=20)\n",
    "data"
   ]
  },
  {
   "cell_type": "code",
   "execution_count": 254,
   "id": "7f397fe9",
   "metadata": {},
   "outputs": [],
   "source": [
    "#here is a little algorithm i wrote because i was bored\n",
    "def sort_values1(data): \n",
    "    my_dict = {key: [] for key in range(0,max(data),10)}\n",
    "    for i in my_dict.keys():\n",
    "        for j in A:\n",
    "            if j < i+10 and j > i:\n",
    "                my_dict[i].append(j)\n",
    "    return my_dict\n",
    "\n",
    "#same algorithm using comprehension syntax\n",
    "def sort_values2(data): \n",
    "    my_dict = {key: [] for key in range(0,max(data),10)}\n",
    "    [my_dict[i].append(j) for i in my_dict.keys() for j in data if j < i+10 and j > i]\n",
    "    return my_dict"
   ]
  },
  {
   "cell_type": "code",
   "execution_count": 255,
   "id": "af8298ef",
   "metadata": {},
   "outputs": [
    {
     "data": {
      "text/plain": [
       "True"
      ]
     },
     "execution_count": 255,
     "metadata": {},
     "output_type": "execute_result"
    }
   ],
   "source": [
    "sort_values1(data) ==  sort_values2(data)"
   ]
  },
  {
   "cell_type": "code",
   "execution_count": 256,
   "id": "6bbff57e",
   "metadata": {
    "scrolled": true
   },
   "outputs": [
    {
     "data": {
      "text/plain": [
       "{0: [],\n",
       " 10: [],\n",
       " 20: [],\n",
       " 30: [],\n",
       " 40: [],\n",
       " 50: [],\n",
       " 60: [],\n",
       " 70: [],\n",
       " 80: [],\n",
       " 90: [],\n",
       " 100: [],\n",
       " 110: [],\n",
       " 120: [],\n",
       " 130: [],\n",
       " 140: [],\n",
       " 150: [],\n",
       " 160: [],\n",
       " 170: [],\n",
       " 180: []}"
      ]
     },
     "execution_count": 256,
     "metadata": {},
     "output_type": "execute_result"
    }
   ],
   "source": [
    "sort_values2(data)"
   ]
  },
  {
   "cell_type": "code",
   "execution_count": null,
   "id": "0abc1bcf",
   "metadata": {},
   "outputs": [],
   "source": []
  }
 ],
 "metadata": {
  "kernelspec": {
   "display_name": "Python 3 (ipykernel)",
   "language": "python",
   "name": "python3"
  },
  "language_info": {
   "codemirror_mode": {
    "name": "ipython",
    "version": 3
   },
   "file_extension": ".py",
   "mimetype": "text/x-python",
   "name": "python",
   "nbconvert_exporter": "python",
   "pygments_lexer": "ipython3",
   "version": "3.9.13"
  }
 },
 "nbformat": 4,
 "nbformat_minor": 5
}
