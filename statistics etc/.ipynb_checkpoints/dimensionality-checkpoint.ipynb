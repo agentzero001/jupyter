{
 "cells": [
  {
   "cell_type": "code",
   "execution_count": 51,
   "id": "d859a9f4",
   "metadata": {},
   "outputs": [],
   "source": [
    "import warnings\n",
    "warnings.filterwarnings('ignore')"
   ]
  },
  {
   "cell_type": "code",
   "execution_count": 52,
   "id": "b18ec778",
   "metadata": {},
   "outputs": [],
   "source": [
    "import math\n",
    "import statistics\n",
    "import numpy as np\n",
    "import scipy.stats\n",
    "import pandas as pd\n",
    "import matplotlib.pyplot as plt"
   ]
  },
  {
   "cell_type": "code",
   "execution_count": 53,
   "id": "424fd580",
   "metadata": {},
   "outputs": [
    {
     "data": {
      "text/plain": [
       "(5, 3)"
      ]
     },
     "execution_count": 53,
     "metadata": {},
     "output_type": "execute_result"
    }
   ],
   "source": [
    "A = np.array([[1,1,1],\n",
    "              [2,3,1],\n",
    "              [4,9,2],\n",
    "              [8,27,4],\n",
    "              [16,1,1]])\n",
    "\n",
    "A1D = A.reshape(15)\n",
    "np.shape(A)"
   ]
  },
  {
   "cell_type": "code",
   "execution_count": 54,
   "id": "0f94ae58",
   "metadata": {},
   "outputs": [
    {
     "data": {
      "text/plain": [
       "True"
      ]
     },
     "execution_count": 54,
     "metadata": {},
     "output_type": "execute_result"
    }
   ],
   "source": [
    "(np.mean(A), np.median(A), A.var(ddof=1)) == (np.mean(A1D), np.median(A1D), A1D.var(ddof=1))"
   ]
  },
  {
   "cell_type": "code",
   "execution_count": 55,
   "id": "f71618c6",
   "metadata": {},
   "outputs": [
    {
     "data": {
      "text/plain": [
       "(array([6.2, 8.2, 1.8]), [6.2, 8.2, 1.8])"
      ]
     },
     "execution_count": 55,
     "metadata": {},
     "output_type": "execute_result"
    }
   ],
   "source": [
    "np.mean(A, axis=0), [np.mean(A1D[n::3]) for n in range(3)]"
   ]
  },
  {
   "cell_type": "code",
   "execution_count": 56,
   "id": "3a261548",
   "metadata": {},
   "outputs": [
    {
     "data": {
      "text/plain": [
       "(array([ 1.,  2.,  5., 13.,  6.]), [1.0, 2.0, 5.0, 13.0, 6.0])"
      ]
     },
     "execution_count": 56,
     "metadata": {},
     "output_type": "execute_result"
    }
   ],
   "source": [
    "np.mean(A, axis=1) ,[np.mean(A[n]) for n in range(np.shape(A)[0])]"
   ]
  },
  {
   "cell_type": "code",
   "execution_count": 57,
   "id": "cca967ec",
   "metadata": {},
   "outputs": [
    {
     "data": {
      "text/plain": [
       "array([ True,  True,  True])"
      ]
     },
     "execution_count": 57,
     "metadata": {},
     "output_type": "execute_result"
    }
   ],
   "source": [
    "#check this out \n",
    "\n",
    "[np.mean([A[n][k] for n in range(np.shape(A)[0])]) for k in range(np.shape(A)[1])] == np.mean(A,axis = 0)"
   ]
  },
  {
   "cell_type": "code",
   "execution_count": null,
   "id": "f14c289a",
   "metadata": {},
   "outputs": [],
   "source": []
  }
 ],
 "metadata": {
  "kernelspec": {
   "display_name": "Python 3 (ipykernel)",
   "language": "python",
   "name": "python3"
  },
  "language_info": {
   "codemirror_mode": {
    "name": "ipython",
    "version": 3
   },
   "file_extension": ".py",
   "mimetype": "text/x-python",
   "name": "python",
   "nbconvert_exporter": "python",
   "pygments_lexer": "ipython3",
   "version": "3.9.13"
  }
 },
 "nbformat": 4,
 "nbformat_minor": 5
}
