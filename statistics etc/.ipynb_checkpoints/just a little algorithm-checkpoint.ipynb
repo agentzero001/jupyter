{
 "cells": [
  {
   "cell_type": "code",
   "execution_count": 245,
   "id": "df62ff37",
   "metadata": {},
   "outputs": [],
   "source": [
    "import numpy as np"
   ]
  },
  {
   "cell_type": "code",
   "execution_count": 246,
   "id": "1c97057e",
   "metadata": {},
   "outputs": [
    {
     "data": {
      "text/plain": [
       "array([ 54, 193, 123,  22,  56, 156, 132,   6, 145,  68,  33,  76, 137,\n",
       "       114, 179,  62,   9,  54,  94,  69])"
      ]
     },
     "execution_count": 246,
     "metadata": {},
     "output_type": "execute_result"
    }
   ],
   "source": [
    "data = np.random.randint(low=1,high=200,size=20)\n",
    "data"
   ]
  },
  {
   "cell_type": "code",
   "execution_count": 247,
   "id": "7f397fe9",
   "metadata": {},
   "outputs": [],
   "source": [
    "#here is a little algorithm i wrote because i was bored\n",
    "def sort_values1(data): \n",
    "    my_dict = {key: [] for key in range(0,max(data),10)}\n",
    "    A = data.copy()\n",
    "    for i in my_dict.keys():\n",
    "        for j in A:\n",
    "            if j < i+10 and j > i:\n",
    "                my_dict[i].append(j)\n",
    "    return my_dict\n",
    "\n",
    "#same algorithm using comprehension syntax\n",
    "def sort_values2(data): \n",
    "    my_dict = {key: [] for key in range(0,max(data),10)}\n",
    "    A = data.copy()\n",
    "    [my_dict[i].append(j) for i in my_dict.keys() for j in A if j < i+10 and j > i]\n",
    "    return my_dict"
   ]
  },
  {
   "cell_type": "code",
   "execution_count": 248,
   "id": "b56b618d",
   "metadata": {},
   "outputs": [
    {
     "data": {
      "text/plain": [
       "True"
      ]
     },
     "execution_count": 248,
     "metadata": {},
     "output_type": "execute_result"
    }
   ],
   "source": [
    "sort_values1(data) ==  sort_values2(data)"
   ]
  },
  {
   "cell_type": "code",
   "execution_count": 249,
   "id": "a73ebf23",
   "metadata": {
    "scrolled": true
   },
   "outputs": [
    {
     "data": {
      "text/plain": [
       "{0: [6, 9],\n",
       " 10: [],\n",
       " 20: [22],\n",
       " 30: [33],\n",
       " 40: [],\n",
       " 50: [54, 56, 54],\n",
       " 60: [68, 62, 69],\n",
       " 70: [76],\n",
       " 80: [],\n",
       " 90: [94],\n",
       " 100: [],\n",
       " 110: [114],\n",
       " 120: [123],\n",
       " 130: [132, 137],\n",
       " 140: [145],\n",
       " 150: [156],\n",
       " 160: [],\n",
       " 170: [179],\n",
       " 180: [],\n",
       " 190: [193]}"
      ]
     },
     "execution_count": 249,
     "metadata": {},
     "output_type": "execute_result"
    }
   ],
   "source": [
    "sort_values2(data)"
   ]
  },
  {
   "cell_type": "code",
   "execution_count": null,
   "id": "d89d1a7f",
   "metadata": {},
   "outputs": [],
   "source": []
  }
 ],
 "metadata": {
  "kernelspec": {
   "display_name": "Python 3 (ipykernel)",
   "language": "python",
   "name": "python3"
  },
  "language_info": {
   "codemirror_mode": {
    "name": "ipython",
    "version": 3
   },
   "file_extension": ".py",
   "mimetype": "text/x-python",
   "name": "python",
   "nbconvert_exporter": "python",
   "pygments_lexer": "ipython3",
   "version": "3.9.13"
  }
 },
 "nbformat": 4,
 "nbformat_minor": 5
}
