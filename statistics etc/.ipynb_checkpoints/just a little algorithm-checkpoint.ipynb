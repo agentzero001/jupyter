{
 "cells": [
  {
   "cell_type": "code",
   "execution_count": 232,
   "id": "df62ff37",
   "metadata": {},
   "outputs": [],
   "source": [
    "import numpy as np"
   ]
  },
  {
   "cell_type": "code",
   "execution_count": 233,
   "id": "1c97057e",
   "metadata": {},
   "outputs": [
    {
     "data": {
      "text/plain": [
       "array([ 57, 138, 167, 126, 153, 101, 116, 156,   7,  76,  69,  11,  45,\n",
       "        97, 182,  59,  91, 118, 198,   2])"
      ]
     },
     "execution_count": 233,
     "metadata": {},
     "output_type": "execute_result"
    }
   ],
   "source": [
    "data = np.random.randint(low=1,high=200,size=20)\n",
    "data"
   ]
  },
  {
   "cell_type": "code",
   "execution_count": 234,
   "id": "7f397fe9",
   "metadata": {},
   "outputs": [],
   "source": [
    "#here is a little algorithm i just wrote because i was bored\n",
    "def sort_values1(data): \n",
    "    my_dict = {key: [] for key in range(0,max(data),10)}\n",
    "    A = data.copy()\n",
    "    for i in my_dict.keys():\n",
    "        for j in A:\n",
    "            if j < i+10 and j > i:\n",
    "                my_dict[i].append(j)\n",
    "    return my_dict\n",
    "\n",
    "#same algorithm but shorter using comprehension syntax\n",
    "def sort_values2(data): \n",
    "    my_dict = {key: [] for key in range(0,max(data),10)}\n",
    "    A = data.copy()\n",
    "    [my_dict[i].append(j) for i in my_dict.keys() for j in A if j < i+10 and j > i]\n",
    "    return my_dict"
   ]
  },
  {
   "cell_type": "code",
   "execution_count": 235,
   "id": "24266c45",
   "metadata": {},
   "outputs": [
    {
     "data": {
      "text/plain": [
       "True"
      ]
     },
     "execution_count": 235,
     "metadata": {},
     "output_type": "execute_result"
    }
   ],
   "source": [
    "sort_values1(data) ==  sort_values2(data)"
   ]
  },
  {
   "cell_type": "code",
   "execution_count": 236,
   "id": "3b3a1b53",
   "metadata": {},
   "outputs": [
    {
     "data": {
      "text/plain": [
       "{0: [7, 2],\n",
       " 10: [11],\n",
       " 20: [],\n",
       " 30: [],\n",
       " 40: [45],\n",
       " 50: [57, 59],\n",
       " 60: [69],\n",
       " 70: [76],\n",
       " 80: [],\n",
       " 90: [97, 91],\n",
       " 100: [101],\n",
       " 110: [116, 118],\n",
       " 120: [126],\n",
       " 130: [138],\n",
       " 140: [],\n",
       " 150: [153, 156],\n",
       " 160: [167],\n",
       " 170: [],\n",
       " 180: [182],\n",
       " 190: [198]}"
      ]
     },
     "execution_count": 236,
     "metadata": {},
     "output_type": "execute_result"
    }
   ],
   "source": [
    "sort_values2(data)"
   ]
  },
  {
   "cell_type": "code",
   "execution_count": null,
   "id": "4c5e797c",
   "metadata": {},
   "outputs": [],
   "source": []
  }
 ],
 "metadata": {
  "kernelspec": {
   "display_name": "Python 3 (ipykernel)",
   "language": "python",
   "name": "python3"
  },
  "language_info": {
   "codemirror_mode": {
    "name": "ipython",
    "version": 3
   },
   "file_extension": ".py",
   "mimetype": "text/x-python",
   "name": "python",
   "nbconvert_exporter": "python",
   "pygments_lexer": "ipython3",
   "version": "3.9.13"
  }
 },
 "nbformat": 4,
 "nbformat_minor": 5
}
