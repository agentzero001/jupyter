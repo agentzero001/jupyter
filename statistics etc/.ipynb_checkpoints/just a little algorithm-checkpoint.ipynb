{
 "cells": [
  {
   "cell_type": "code",
   "execution_count": 266,
   "id": "df62ff37",
   "metadata": {},
   "outputs": [],
   "source": [
    "import numpy as np"
   ]
  },
  {
   "cell_type": "code",
   "execution_count": 267,
   "id": "1c97057e",
   "metadata": {},
   "outputs": [
    {
     "data": {
      "text/plain": [
       "array([136, 181,  74, 120, 121, 191,  26,  60,  22, 144,  97,  17,  49,\n",
       "       171, 191,  87,   9, 123, 159, 118])"
      ]
     },
     "execution_count": 267,
     "metadata": {},
     "output_type": "execute_result"
    }
   ],
   "source": [
    "data = np.random.randint(low=1,high=200,size=20)\n",
    "data"
   ]
  },
  {
   "cell_type": "code",
   "execution_count": 268,
   "id": "7f397fe9",
   "metadata": {},
   "outputs": [],
   "source": [
    "#check out my little algorithm right here\n",
    "def sort_values1(data): \n",
    "    my_dict = {key: [] for key in range(0,max(data),10)}\n",
    "    for i in my_dict.keys():\n",
    "        for j in data:\n",
    "            if j < i+10 and j > i:\n",
    "                my_dict[i].append(j)\n",
    "    return my_dict\n",
    "\n",
    "#same algorithm using comprehension syntax \n",
    "def sort_values2(data): \n",
    "    my_dict = {key: [] for key in range(0,max(data),10)}\n",
    "    [my_dict[i].append(j) for i in my_dict.keys() for j in data if j < i+10 and j > i]\n",
    "    return my_dict"
   ]
  },
  {
   "cell_type": "code",
   "execution_count": 269,
   "id": "d6cedd04",
   "metadata": {},
   "outputs": [
    {
     "data": {
      "text/plain": [
       "True"
      ]
     },
     "execution_count": 269,
     "metadata": {},
     "output_type": "execute_result"
    }
   ],
   "source": [
    "sort_values1(data) ==  sort_values2(data)"
   ]
  },
  {
   "cell_type": "code",
   "execution_count": 270,
   "id": "fe4262bb",
   "metadata": {
    "scrolled": true
   },
   "outputs": [
    {
     "data": {
      "text/plain": [
       "{0: [9],\n",
       " 10: [17],\n",
       " 20: [26, 22],\n",
       " 30: [],\n",
       " 40: [49],\n",
       " 50: [],\n",
       " 60: [],\n",
       " 70: [74],\n",
       " 80: [87],\n",
       " 90: [97],\n",
       " 100: [],\n",
       " 110: [118],\n",
       " 120: [121, 123],\n",
       " 130: [136],\n",
       " 140: [144],\n",
       " 150: [159],\n",
       " 160: [],\n",
       " 170: [171],\n",
       " 180: [181],\n",
       " 190: [191, 191]}"
      ]
     },
     "execution_count": 270,
     "metadata": {},
     "output_type": "execute_result"
    }
   ],
   "source": [
    "sort_values2(data)"
   ]
  },
  {
   "cell_type": "code",
   "execution_count": null,
   "id": "25ef9564",
   "metadata": {},
   "outputs": [],
   "source": []
  }
 ],
 "metadata": {
  "kernelspec": {
   "display_name": "Python 3 (ipykernel)",
   "language": "python",
   "name": "python3"
  },
  "language_info": {
   "codemirror_mode": {
    "name": "ipython",
    "version": 3
   },
   "file_extension": ".py",
   "mimetype": "text/x-python",
   "name": "python",
   "nbconvert_exporter": "python",
   "pygments_lexer": "ipython3",
   "version": "3.9.13"
  }
 },
 "nbformat": 4,
 "nbformat_minor": 5
}
