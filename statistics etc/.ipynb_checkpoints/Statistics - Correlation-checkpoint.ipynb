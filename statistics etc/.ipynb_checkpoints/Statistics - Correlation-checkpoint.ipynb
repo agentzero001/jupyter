{
 "cells": [
  {
   "cell_type": "code",
   "execution_count": 70,
   "id": "f5c27b4b",
   "metadata": {},
   "outputs": [],
   "source": [
    "import warnings\n",
    "warnings.filterwarnings('ignore')"
   ]
  },
  {
   "cell_type": "code",
   "execution_count": 71,
   "id": "245a6eb4",
   "metadata": {},
   "outputs": [],
   "source": [
    "import math\n",
    "import statistics\n",
    "import numpy as np\n",
    "import scipy.stats\n",
    "import pandas as pd\n",
    "import matplotlib.pyplot as plt"
   ]
  },
  {
   "cell_type": "code",
   "execution_count": 72,
   "id": "5939480f",
   "metadata": {},
   "outputs": [],
   "source": [
    "x = list(range(-10, 11))\n",
    "y = [0, 2, 2, 2, 2, 3, 3, 6, 7, 4, 7, 6, 6, 9, 4, 5, 5, 10, 11, 12, 14]\n",
    "np_x, np_y = np.array(x), np.array(y)\n",
    "pd_x, pd_y = pd.Series(np_x), pd.Series(np_y)"
   ]
  },
  {
   "cell_type": "code",
   "execution_count": 73,
   "id": "fc638aa0",
   "metadata": {
    "scrolled": false
   },
   "outputs": [
    {
     "data": {
      "image/png": "[encoded data removed]",
      "text/plain": [
       "<Figure size 750x500 with 1 Axes>"
      ]
     },
     "metadata": {},
     "output_type": "display_data"
    }
   ],
   "source": [
    "plt.figure(facecolor='0.5',figsize=(7.5,5))\n",
    "plt.axes().set_facecolor('black')\n",
    "plt.scatter(x,y,c='green',zorder=2)\n",
    "plt.grid(zorder=1,ls=':',lw=0.8,alpha=0.3)"
   ]
  },
  {
   "cell_type": "markdown",
   "id": "37df14c4",
   "metadata": {},
   "source": [
    "## The covariance of the variables 𝑥 and 𝑦 is mathematically defined as \n",
    "## 𝑠ˣʸ = Σᵢ (𝑥ᵢ − mean(𝑥)) (𝑦ᵢ − mean(𝑦)) / (𝑛 − 1)\n",
    "## where 𝑖 = 1, 2, …, 𝑛, mean(𝑥) is the sample mean of 𝑥, and mean(𝑦) is the sample mean of 𝑦. "
   ]
  },
  {
   "cell_type": "code",
   "execution_count": 74,
   "id": "c29b3b5b",
   "metadata": {},
   "outputs": [],
   "source": [
    "meanx, meany = sum(x)/len(x),sum(y)/len(y)\n",
    "\n",
    "#two ways for pure python covariance (there are most likely some more)\n",
    "cov_xy = (sum((x[k] - meanx) * (y[k] - meany) for k in range(len(x)))  / (len(x) - 1))\n",
    "cov_xy2 = (sum((x_i - meanx) * (y_i - meany) for x_i,y_i in zip(x,y)) / (len(x) - 1))"
   ]
  },
  {
   "cell_type": "code",
   "execution_count": 75,
   "id": "a7483386",
   "metadata": {},
   "outputs": [
    {
     "data": {
      "text/plain": [
       "(19.95, 19.95)"
      ]
     },
     "execution_count": 75,
     "metadata": {},
     "output_type": "execute_result"
    }
   ],
   "source": [
    "cov_xy2, cov_xy"
   ]
  },
  {
   "cell_type": "code",
   "execution_count": 76,
   "id": "2b13d314",
   "metadata": {},
   "outputs": [
    {
     "data": {
      "text/plain": [
       "array([[38.5       , 19.95      ],\n",
       "       [19.95      , 13.91428571]])"
      ]
     },
     "execution_count": 76,
     "metadata": {},
     "output_type": "execute_result"
    }
   ],
   "source": [
    "#the np covariance matrix function with the optional parameters bias and ddof\n",
    "\n",
    "cov_matrix = np.cov(np_x,np_y)\n",
    "cov_matrix"
   ]
  },
  {
   "cell_type": "code",
   "execution_count": 77,
   "id": "4cd811de",
   "metadata": {},
   "outputs": [
    {
     "data": {
      "text/plain": [
       "(True, True)"
      ]
     },
     "execution_count": 77,
     "metadata": {},
     "output_type": "execute_result"
    }
   ],
   "source": [
    "#interpretation of the covariance matrix\n",
    "\n",
    "np_x.var(ddof=1) == cov_matrix[0][0], np_y.var(ddof=1) == cov_matrix[1][1]"
   ]
  },
  {
   "cell_type": "code",
   "execution_count": 78,
   "id": "1b0e0a09",
   "metadata": {},
   "outputs": [
    {
     "data": {
      "text/plain": [
       "True"
      ]
     },
     "execution_count": 78,
     "metadata": {},
     "output_type": "execute_result"
    }
   ],
   "source": [
    "cov_xy == cov_matrix[0][1] == cov_matrix[1][0]"
   ]
  },
  {
   "cell_type": "code",
   "execution_count": 79,
   "id": "a73e5280",
   "metadata": {},
   "outputs": [
    {
     "data": {
      "text/plain": [
       "(19.95, 19.95)"
      ]
     },
     "execution_count": 79,
     "metadata": {},
     "output_type": "execute_result"
    }
   ],
   "source": [
    "#pandas method for covariance\n",
    "\n",
    "pd_x.cov(pd_y), pd_y.cov(pd_x)"
   ]
  },
  {
   "cell_type": "code",
   "execution_count": 80,
   "id": "03dc774b",
   "metadata": {},
   "outputs": [
    {
     "data": {
      "text/plain": [
       "(0.861950005631606,\n",
       " PearsonRResult(statistic=0.8619500056316058, pvalue=5.122760847201207e-07))"
      ]
     },
     "execution_count": 80,
     "metadata": {},
     "output_type": "execute_result"
    }
   ],
   "source": [
    "#the correlation coefficient \n",
    "#𝑟 = 𝑠ˣʸ / (𝑠ˣ𝑠ʸ) where 𝑠ˣ and 𝑠ʸ are the standard deviations of 𝑥 and 𝑦 respectively\n",
    "\n",
    "std_x = (sum((value - meanx)**2 for value in x) / (len(x) - 1))**0.5\n",
    "std_y = (sum((value - meany)**2 for value in y) / (len(y) - 1))**0.5\n",
    "\n",
    "r = cov_xy / (std_x*std_y)\n",
    "\n",
    "r , scipy.stats.pearsonr(np_x,np_y)"
   ]
  },
  {
   "cell_type": "code",
   "execution_count": 81,
   "id": "57fa2f0b",
   "metadata": {},
   "outputs": [
    {
     "data": {
      "text/plain": [
       "array([[1.        , 0.86195001],\n",
       "       [0.86195001, 1.        ]])"
      ]
     },
     "execution_count": 81,
     "metadata": {},
     "output_type": "execute_result"
    }
   ],
   "source": [
    "#np correlation coefficient matrix\n",
    "\n",
    "np.corrcoef(np_x,np_y)"
   ]
  },
  {
   "cell_type": "code",
   "execution_count": 82,
   "id": "5cd71588",
   "metadata": {},
   "outputs": [
    {
     "data": {
      "text/plain": [
       "(0.861950005631606,\n",
       " LinregressResult(slope=0.5181818181818181, intercept=5.714285714285714, rvalue=0.861950005631606, pvalue=5.122760847201164e-07, stderr=0.06992387660074979, intercept_stderr=0.4234100995002589))"
      ]
     },
     "execution_count": 82,
     "metadata": {},
     "output_type": "execute_result"
    }
   ],
   "source": [
    "#scipy linearRegression\n",
    "\n",
    "xy_linreg = scipy.stats.linregress(np_x,np_y)\n",
    "\n",
    "xy_linreg.rvalue, xy_linreg"
   ]
  },
  {
   "cell_type": "code",
   "execution_count": 83,
   "id": "4492a441",
   "metadata": {},
   "outputs": [
    {
     "data": {
      "text/plain": [
       "(0.8619500056316061, 0.861950005631606)"
      ]
     },
     "execution_count": 83,
     "metadata": {},
     "output_type": "execute_result"
    }
   ],
   "source": [
    "pd_x.corr(pd_y), pd_y.corr(pd_x)"
   ]
  },
  {
   "cell_type": "code",
   "execution_count": null,
   "id": "b561540d",
   "metadata": {},
   "outputs": [],
   "source": []
  }
 ],
 "metadata": {
  "kernelspec": {
   "display_name": "Python 3 (ipykernel)",
   "language": "python",
   "name": "python3"
  },
  "language_info": {
   "codemirror_mode": {
    "name": "ipython",
    "version": 3
   },
   "file_extension": ".py",
   "mimetype": "text/x-python",
   "name": "python",
   "nbconvert_exporter": "python",
   "pygments_lexer": "ipython3",
   "version": "3.9.13"
  }
 },
 "nbformat": 4,
 "nbformat_minor": 5
}
