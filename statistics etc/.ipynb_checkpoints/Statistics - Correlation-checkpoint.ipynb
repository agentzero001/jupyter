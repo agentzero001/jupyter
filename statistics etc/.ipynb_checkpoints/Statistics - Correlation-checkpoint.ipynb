{
 "cells": [
  {
   "cell_type": "code",
   "execution_count": 1,
   "id": "f5c27b4b",
   "metadata": {},
   "outputs": [],
   "source": [
    "import warnings\n",
    "warnings.filterwarnings('ignore')"
   ]
  },
  {
   "cell_type": "code",
   "execution_count": 2,
   "id": "245a6eb4",
   "metadata": {},
   "outputs": [],
   "source": [
    "import math\n",
    "import statistics\n",
    "import numpy as np\n",
    "import scipy.stats\n",
    "import pandas as pd\n",
    "import matplotlib.pyplot as plt"
   ]
  },
  {
   "cell_type": "code",
   "execution_count": 3,
   "id": "5939480f",
   "metadata": {},
   "outputs": [],
   "source": [
    "x = list(range(-10, 11))\n",
    "y = [0, 2, 2, 2, 2, 3, 3, 6, 7, 4, 7, 6, 6, 9, 4, 5, 5, 10, 11, 12, 14]\n",
    "np_x, np_y = np.array(x), np.array(y)\n",
    "pd_x, pd_y = pd.Series(np_x), pd.Series(np_y)"
   ]
  },
  {
   "cell_type": "code",
   "execution_count": 29,
   "id": "fc638aa0",
   "metadata": {
    "scrolled": false
   },
   "outputs": [
    {
     "data": {
      "image/png": "[encoded data removed]",
      "text/plain": [
       "<Figure size 500x500 with 1 Axes>"
      ]
     },
     "metadata": {},
     "output_type": "display_data"
    }
   ],
   "source": [
    "plt.figure(facecolor='0.5',figsize=(5,5))\n",
    "plt.axes().set_facecolor('black')\n",
    "plt.scatter(x,y,c='green',zorder=2)\n",
    "plt.grid(zorder=1,ls=':',lw=0.8,alpha=0.3)"
   ]
  },
  {
   "cell_type": "markdown",
   "id": "a8d00a83",
   "metadata": {},
   "source": [
    "## The covariance of the variables 𝑥 and 𝑦 is mathematically defined as \n",
    "## 𝑠ˣʸ = Σᵢ (𝑥ᵢ − mean(𝑥)) (𝑦ᵢ − mean(𝑦)) / (𝑛 − 1)\n",
    "## where 𝑖 = 1, 2, …, 𝑛, mean(𝑥) is the sample mean of 𝑥, and mean(𝑦) is the sample mean of 𝑦. "
   ]
  },
  {
   "cell_type": "code",
   "execution_count": 36,
   "id": "9d3454c7",
   "metadata": {},
   "outputs": [],
   "source": [
    "meanx, meany = sum(x)/len(x),sum(y)/len(y)\n",
    "\n",
    "#two ways for pure python covariance (there are most likely some more)\n",
    "cov_xy = (sum((x[k] - meanx) * (y[k] - meany) for k in range(len(x)))  / (len(x) - 1))\n",
    "cov_xy2 = (sum((x_i - meanx) * (y_i - meany) for x_i,y_i in zip(x,y)) / (len(x) - 1))"
   ]
  },
  {
   "cell_type": "code",
   "execution_count": 37,
   "id": "5379e6cc",
   "metadata": {},
   "outputs": [
    {
     "data": {
      "text/plain": [
       "(19.95, 19.95)"
      ]
     },
     "execution_count": 37,
     "metadata": {},
     "output_type": "execute_result"
    }
   ],
   "source": [
    "cov_xy2, cov_xy"
   ]
  },
  {
   "cell_type": "code",
   "execution_count": 40,
   "id": "e6fc49fb",
   "metadata": {},
   "outputs": [
    {
     "data": {
      "text/plain": [
       "array([[38.5       , 19.95      ],\n",
       "       [19.95      , 13.91428571]])"
      ]
     },
     "execution_count": 40,
     "metadata": {},
     "output_type": "execute_result"
    }
   ],
   "source": [
    "#the np covariance matrix function with the optional parameters bias and ddof\n",
    "\n",
    "cov_matrix = np.cov(np_x,np_y)\n",
    "cov_matrix"
   ]
  },
  {
   "cell_type": "code",
   "execution_count": 43,
   "id": "585ce85e",
   "metadata": {},
   "outputs": [
    {
     "data": {
      "text/plain": [
       "(True, True)"
      ]
     },
     "execution_count": 43,
     "metadata": {},
     "output_type": "execute_result"
    }
   ],
   "source": [
    "#interpretation of the covariance matrix\n",
    "\n",
    "np_x.var(ddof=1) == cov_matrix[0][0], np_y.var(ddof=1) == cov_matrix[1][1]"
   ]
  },
  {
   "cell_type": "code",
   "execution_count": 44,
   "id": "ac97cc6a",
   "metadata": {},
   "outputs": [
    {
     "data": {
      "text/plain": [
       "True"
      ]
     },
     "execution_count": 44,
     "metadata": {},
     "output_type": "execute_result"
    }
   ],
   "source": [
    "cov_xy == cov_matrix[0][1] == cov_matrix[1][0]"
   ]
  },
  {
   "cell_type": "code",
   "execution_count": 46,
   "id": "6cfddaa1",
   "metadata": {},
   "outputs": [
    {
     "data": {
      "text/plain": [
       "(19.95, 19.95)"
      ]
     },
     "execution_count": 46,
     "metadata": {},
     "output_type": "execute_result"
    }
   ],
   "source": [
    "#pandas method for covariance\n",
    "\n",
    "pd_x.cov(pd_y), pd_y.cov(pd_x)"
   ]
  },
  {
   "cell_type": "code",
   "execution_count": null,
   "id": "1de2d384",
   "metadata": {},
   "outputs": [],
   "source": []
  }
 ],
 "metadata": {
  "kernelspec": {
   "display_name": "Python 3 (ipykernel)",
   "language": "python",
   "name": "python3"
  },
  "language_info": {
   "codemirror_mode": {
    "name": "ipython",
    "version": 3
   },
   "file_extension": ".py",
   "mimetype": "text/x-python",
   "name": "python",
   "nbconvert_exporter": "python",
   "pygments_lexer": "ipython3",
   "version": "3.9.13"
  }
 },
 "nbformat": 4,
 "nbformat_minor": 5
}
