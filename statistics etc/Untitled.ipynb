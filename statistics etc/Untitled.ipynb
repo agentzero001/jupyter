{
 "cells": [
  {
   "cell_type": "code",
   "execution_count": 100,
   "id": "89c82202",
   "metadata": {},
   "outputs": [],
   "source": [
    "import matplotlib.pyplot as plt\n",
    "import numpy as np"
   ]
  },
  {
   "cell_type": "code",
   "execution_count": 101,
   "id": "4fdaeaba",
   "metadata": {},
   "outputs": [],
   "source": [
    "C = np.sin(np.arange(1,5,0.1))\n",
    "NC = C + .5 * np.random.randn(40)"
   ]
  },
  {
   "cell_type": "code",
   "execution_count": 102,
   "id": "b7d2b44a",
   "metadata": {
    "scrolled": true
   },
   "outputs": [
    {
     "data": {
      "text/plain": [
       "[<matplotlib.lines.Line2D at 0x252c7a1e7c0>,\n",
       " <matplotlib.lines.Line2D at 0x252c7a1e880>]"
      ]
     },
     "execution_count": 102,
     "metadata": {},
     "output_type": "execute_result"
    },
    {
     "data": {
      "image/png": "[encoded data removed]",
      "text/plain": [
       "<Figure size 640x480 with 1 Axes>"
      ]
     },
     "metadata": {},
     "output_type": "display_data"
    }
   ],
   "source": [
    "plt.figure(facecolor='0.2')\n",
    "plt.axes().set_facecolor('black')\n",
    "plt.plot(C, 'g.',NC, 'y.')"
   ]
  },
  {
   "cell_type": "code",
   "execution_count": 103,
   "id": "e1d9ca9c",
   "metadata": {},
   "outputs": [],
   "source": [
    "def Add1(z=0):\n",
    "    def add1(a,b):\n",
    "        nonlocal z\n",
    "        z += 1\n",
    "        return a + b + z\n",
    "    return add1\n",
    "\n",
    "\n",
    "class Add2:\n",
    "    def __init__(self,z=0):\n",
    "        self.z = z\n",
    "    def __call__(self, a, b):\n",
    "        self.z += 1\n",
    "        return a + b + self.z"
   ]
  },
  {
   "cell_type": "code",
   "execution_count": 104,
   "id": "78f3d608",
   "metadata": {},
   "outputs": [],
   "source": [
    "add1, add2 = Add1(), Add2()"
   ]
  },
  {
   "cell_type": "code",
   "execution_count": 105,
   "id": "c2ed122d",
   "metadata": {},
   "outputs": [
    {
     "data": {
      "text/plain": [
       "True"
      ]
     },
     "execution_count": 105,
     "metadata": {},
     "output_type": "execute_result"
    }
   ],
   "source": [
    "(add1(1,2), add1(1,2), add1(1,2), add1(1,2)) == (add2(1,2), add2(1,2), add2(1,2), add2(1,2))"
   ]
  },
  {
   "cell_type": "code",
   "execution_count": null,
   "id": "9dc73fba",
   "metadata": {},
   "outputs": [],
   "source": []
  },
  {
   "cell_type": "code",
   "execution_count": null,
   "id": "cf12dd47",
   "metadata": {},
   "outputs": [],
   "source": []
  }
 ],
 "metadata": {
  "kernelspec": {
   "display_name": "Python 3 (ipykernel)",
   "language": "python",
   "name": "python3"
  },
  "language_info": {
   "codemirror_mode": {
    "name": "ipython",
    "version": 3
   },
   "file_extension": ".py",
   "mimetype": "text/x-python",
   "name": "python",
   "nbconvert_exporter": "python",
   "pygments_lexer": "ipython3",
   "version": "3.9.13"
  }
 },
 "nbformat": 4,
 "nbformat_minor": 5
}
