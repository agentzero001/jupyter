{
 "cells": [
  {
   "cell_type": "code",
   "execution_count": 76,
   "id": "89c82202",
   "metadata": {},
   "outputs": [],
   "source": [
    "import matplotlib.pyplot as plt\n",
    "import numpy as np"
   ]
  },
  {
   "cell_type": "code",
   "execution_count": 77,
   "id": "4fdaeaba",
   "metadata": {},
   "outputs": [],
   "source": [
    "C = np.sin(np.arange(1,5,0.1))\n",
    "NC = C + .5 * np.random.randn(40)"
   ]
  },
  {
   "cell_type": "code",
   "execution_count": 78,
   "id": "b7d2b44a",
   "metadata": {
    "scrolled": true
   },
   "outputs": [
    {
     "data": {
      "text/plain": [
       "[<matplotlib.lines.Line2D at 0x1e60be387c0>,\n",
       " <matplotlib.lines.Line2D at 0x1e60be38880>]"
      ]
     },
     "execution_count": 78,
     "metadata": {},
     "output_type": "execute_result"
    },
    {
     "data": {
      "image/png": "[encoded data removed]",
      "text/plain": [
       "<Figure size 640x480 with 1 Axes>"
      ]
     },
     "metadata": {},
     "output_type": "display_data"
    }
   ],
   "source": [
    "plt.figure(facecolor='0.2')\n",
    "plt.axes().set_facecolor('black')\n",
    "plt.plot(C, 'g.',NC, 'y.')"
   ]
  },
  {
   "cell_type": "code",
   "execution_count": 79,
   "id": "e1d9ca9c",
   "metadata": {},
   "outputs": [],
   "source": [
    "#example of creating a closure class\n",
    "\n",
    "def Closure_class(p1,z=0):\n",
    "    \n",
    "    def add1(a,b):\n",
    "        nonlocal z\n",
    "        z += 1\n",
    "        return a + b + z \n",
    "    \n",
    "    def method(a):\n",
    "        return a+2\n",
    "    \n",
    "    add1.method1 = lambda x: x+10\n",
    "    add1.method2 = method\n",
    "    add1.property1 = p1\n",
    "    \n",
    "    return add1\n",
    "\n",
    "\n",
    "class Python_class:\n",
    "    def __init__(self,z=0):\n",
    "        self.z = z\n",
    "    def __call__(self, a, b):\n",
    "        self.z += 1\n",
    "        return a + b + self.z\n",
    "\n",
    "add1, add2 = Closure_class('hi'), Python_class()"
   ]
  },
  {
   "cell_type": "code",
   "execution_count": 80,
   "id": "5dabe5b4",
   "metadata": {},
   "outputs": [
    {
     "data": {
      "text/plain": [
       "True"
      ]
     },
     "execution_count": 80,
     "metadata": {},
     "output_type": "execute_result"
    }
   ],
   "source": [
    "(add1(1,2), add1(1,2), add1(1,2), add1(1,2)) == (add2(1,2), add2(1,2), add2(1,2), add2(1,2))"
   ]
  },
  {
   "cell_type": "code",
   "execution_count": 81,
   "id": "9dc73fba",
   "metadata": {},
   "outputs": [
    {
     "data": {
      "text/plain": [
       "(5, 13, 'hi')"
      ]
     },
     "execution_count": 81,
     "metadata": {},
     "output_type": "execute_result"
    }
   ],
   "source": [
    "add1.method2(3), add1.method1(3), add1.property1"
   ]
  },
  {
   "cell_type": "code",
   "execution_count": 82,
   "id": "db29cf3f",
   "metadata": {},
   "outputs": [
    {
     "data": {
      "text/plain": [
       "('bye', 110)"
      ]
     },
     "execution_count": 82,
     "metadata": {},
     "output_type": "execute_result"
    }
   ],
   "source": [
    "#i could also just add whatever to my instance\n",
    "add1.property2 = 'bye'\n",
    "add1.method3 = lambda x: x+100\n",
    "\n",
    "add1.property2, add1.method3(10)"
   ]
  },
  {
   "cell_type": "code",
   "execution_count": 83,
   "id": "474564ed",
   "metadata": {},
   "outputs": [
    {
     "data": {
      "text/plain": [
       "{'method1': <function __main__.Closure_class.<locals>.<lambda>(x)>,\n",
       " 'method2': <function __main__.Closure_class.<locals>.method(a)>,\n",
       " 'property1': 'hi',\n",
       " 'property2': 'bye',\n",
       " 'method3': <function __main__.<lambda>(x)>}"
      ]
     },
     "execution_count": 83,
     "metadata": {},
     "output_type": "execute_result"
    }
   ],
   "source": [
    "add1.__dict__"
   ]
  },
  {
   "cell_type": "code",
   "execution_count": null,
   "id": "b191cce8",
   "metadata": {},
   "outputs": [],
   "source": []
  }
 ],
 "metadata": {
  "kernelspec": {
   "display_name": "Python 3 (ipykernel)",
   "language": "python",
   "name": "python3"
  },
  "language_info": {
   "codemirror_mode": {
    "name": "ipython",
    "version": 3
   },
   "file_extension": ".py",
   "mimetype": "text/x-python",
   "name": "python",
   "nbconvert_exporter": "python",
   "pygments_lexer": "ipython3",
   "version": "3.9.13"
  }
 },
 "nbformat": 4,
 "nbformat_minor": 5
}
