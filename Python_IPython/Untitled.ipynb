{
 "cells": [
  {
   "cell_type": "code",
   "execution_count": 1,
   "id": "a4c072d0",
   "metadata": {},
   "outputs": [],
   "source": [
    "import collections as c\n",
    "\n",
    "import os"
   ]
  },
  {
   "cell_type": "code",
   "execution_count": 2,
   "id": "c00ae903",
   "metadata": {},
   "outputs": [
    {
     "data": {
      "text/plain": [
       "'C:\\\\Users\\\\jensm\\\\anaconda3\\\\Lib\\\\os.py'"
      ]
     },
     "execution_count": 2,
     "metadata": {},
     "output_type": "execute_result"
    }
   ],
   "source": [
    "os.__file__"
   ]
  },
  {
   "cell_type": "code",
   "execution_count": 3,
   "id": "e1a4342b",
   "metadata": {},
   "outputs": [
    {
     "data": {
      "text/plain": [
       "'C:\\\\Users\\\\jensm\\\\Desktop\\\\local\\\\GitHub\\\\copyandpaste\\\\Python_IPython\\\\__main__'"
      ]
     },
     "execution_count": 3,
     "metadata": {},
     "output_type": "execute_result"
    }
   ],
   "source": [
    "os.path.abspath(__name__)"
   ]
  },
  {
   "cell_type": "code",
   "execution_count": 31,
   "id": "960519d3",
   "metadata": {},
   "outputs": [],
   "source": [
    "import numpy as np\n",
    "a = np.arange\n",
    "w = {(i, j): value for i, row in enumerate(a(100).reshape(10,10)) for j, value in enumerate(row) if value % 10 == 1}\n",
    "w2 = {}\n",
    "\n",
    "for i, row in enumerate(a(100).reshape(10,10)):\n",
    "    for j, value in enumerate(row):\n",
    "        if value % 10 == 1:\n",
    "            w2[(i, j)] = value"
   ]
  },
  {
   "cell_type": "code",
   "execution_count": 32,
   "id": "dc9b9e9d",
   "metadata": {},
   "outputs": [
    {
     "data": {
      "text/plain": [
       "True"
      ]
     },
     "execution_count": 32,
     "metadata": {},
     "output_type": "execute_result"
    }
   ],
   "source": [
    "w2 == w"
   ]
  },
  {
   "cell_type": "code",
   "execution_count": 27,
   "id": "78e6b671",
   "metadata": {
    "scrolled": true
   },
   "outputs": [
    {
     "name": "stdout",
     "output_type": "stream",
     "text": [
      "(1, 0)\n",
      "(1, 1)\n",
      "(1, 2)\n",
      "(1, 3)\n",
      "(1, 4)\n",
      "(1, 5)\n",
      "(1, 6)\n",
      "(1, 7)\n",
      "(1, 8)\n",
      "(1, 9)\n"
     ]
    }
   ],
   "source": [
    "[print(i) for i in w];"
   ]
  },
  {
   "cell_type": "code",
   "execution_count": 1,
   "id": "09830474",
   "metadata": {},
   "outputs": [],
   "source": [
    "from types import MappingProxyType"
   ]
  },
  {
   "cell_type": "code",
   "execution_count": 2,
   "id": "56398027",
   "metadata": {},
   "outputs": [],
   "source": [
    "d = {1: 'A'}"
   ]
  },
  {
   "cell_type": "code",
   "execution_count": 3,
   "id": "25c39bab",
   "metadata": {},
   "outputs": [],
   "source": [
    "d_proxy = MappingProxyType(d)"
   ]
  },
  {
   "cell_type": "code",
   "execution_count": 8,
   "id": "ea6b0741",
   "metadata": {},
   "outputs": [
    {
     "data": {
      "text/plain": [
       "(mappingproxy, mappingproxy({1: 'A'}), 'A')"
      ]
     },
     "execution_count": 8,
     "metadata": {},
     "output_type": "execute_result"
    }
   ],
   "source": [
    "type(d_proxy), d_proxy, d_proxy[1]"
   ]
  },
  {
   "cell_type": "code",
   "execution_count": 9,
   "id": "7fb1ea8c",
   "metadata": {},
   "outputs": [
    {
     "ename": "TypeError",
     "evalue": "'mappingproxy' object does not support item assignment",
     "output_type": "error",
     "traceback": [
      "\u001b[1;31m---------------------------------------------------------------------------\u001b[0m",
      "\u001b[1;31mTypeError\u001b[0m                                 Traceback (most recent call last)",
      "Cell \u001b[1;32mIn[9], line 1\u001b[0m\n\u001b[1;32m----> 1\u001b[0m d_proxy[\u001b[38;5;241m2\u001b[39m] \u001b[38;5;241m=\u001b[39m \u001b[38;5;124m'\u001b[39m\u001b[38;5;124mx\u001b[39m\u001b[38;5;124m'\u001b[39m\n",
      "\u001b[1;31mTypeError\u001b[0m: 'mappingproxy' object does not support item assignment"
     ]
    }
   ],
   "source": [
    "d_proxy[2] = 'x'"
   ]
  },
  {
   "cell_type": "code",
   "execution_count": 10,
   "id": "250a9847",
   "metadata": {},
   "outputs": [],
   "source": [
    "d[2] = 'B'"
   ]
  },
  {
   "cell_type": "code",
   "execution_count": 11,
   "id": "b6934a2b",
   "metadata": {},
   "outputs": [
    {
     "data": {
      "text/plain": [
       "mappingproxy({1: 'A', 2: 'B'})"
      ]
     },
     "execution_count": 11,
     "metadata": {},
     "output_type": "execute_result"
    }
   ],
   "source": [
    "d_proxy"
   ]
  },
  {
   "cell_type": "code",
   "execution_count": 12,
   "id": "392cf81e",
   "metadata": {},
   "outputs": [],
   "source": [
    "TETROMINOES = {\n",
    "    'T' : [[(0, 0), (-1, 0), (1, 0), (0, -1)]],\n",
    "    'O' : [[(0, 0), (0, -1), (1, 0), (1, -1)]],\n",
    "    'J' : [[(0, 0), (-1, 0), (0, -1), (0,-2)]],\n",
    "    'L' : [[(0, 0), (1, 0), (0, -1), (0, -2)]],\n",
    "    'I' : [[(0, 0), (0, 1), (0, -1), (0, -2)]],\n",
    "    'S' : [[(0, 0), (0, 1), (1, 1),  (-1, 0)]],\n",
    "    'Z' : [[(0, 0), (1, 0), (0, -1), (-1,-1)]]\n",
    "}\n",
    "\n",
    "colors = [1,2,3,4,5,6,7]"
   ]
  },
  {
   "cell_type": "code",
   "execution_count": 13,
   "id": "15701383",
   "metadata": {},
   "outputs": [],
   "source": [
    "for i, j in zip(colors, TETROMINOES.values()):\n",
    "    j.append(i)"
   ]
  },
  {
   "cell_type": "code",
   "execution_count": 17,
   "id": "d5c9b1b0",
   "metadata": {},
   "outputs": [
    {
     "name": "stdout",
     "output_type": "stream",
     "text": [
      "T\n",
      "O\n",
      "J\n",
      "L\n",
      "I\n",
      "S\n",
      "Z\n"
     ]
    }
   ],
   "source": [
    "for i in TETROMINOES.keys():\n",
    "    print(i)"
   ]
  },
  {
   "cell_type": "code",
   "execution_count": 20,
   "id": "46f7fca9",
   "metadata": {},
   "outputs": [
    {
     "data": {
      "text/plain": [
       "[(0, 0), (-1, 0), (1, 0), (0, -1)]"
      ]
     },
     "execution_count": 20,
     "metadata": {},
     "output_type": "execute_result"
    }
   ],
   "source": [
    "TETROMINOES['T'][0]"
   ]
  },
  {
   "cell_type": "code",
   "execution_count": 11,
   "id": "a46b89e0",
   "metadata": {},
   "outputs": [
    {
     "data": {
      "text/plain": [
       "[[1, 2, 3]]"
      ]
     },
     "execution_count": 11,
     "metadata": {},
     "output_type": "execute_result"
    }
   ],
   "source": [
    "A"
   ]
  },
  {
   "cell_type": "code",
   "execution_count": 3,
   "id": "e5bdee52",
   "metadata": {},
   "outputs": [
    {
     "data": {
      "text/plain": [
       "['(', '+1', '(', '+', '2', '3', ')', ')']"
      ]
     },
     "execution_count": 3,
     "metadata": {},
     "output_type": "execute_result"
    }
   ],
   "source": [
    "'(+1(+ 2 3))'.replace('(', ' ( ').replace(')', ' ) ').split()"
   ]
  },
  {
   "cell_type": "code",
   "execution_count": 1,
   "id": "25a83a7d",
   "metadata": {},
   "outputs": [],
   "source": [
    "import typing"
   ]
  },
  {
   "cell_type": "code",
   "execution_count": 2,
   "id": "6c8e91d5",
   "metadata": {},
   "outputs": [
    {
     "data": {
      "text/plain": [
       "['ABCMeta',\n",
       " 'AbstractSet',\n",
       " 'Annotated',\n",
       " 'Any',\n",
       " 'AnyStr',\n",
       " 'AsyncContextManager',\n",
       " 'AsyncGenerator',\n",
       " 'AsyncIterable',\n",
       " 'AsyncIterator',\n",
       " 'Awaitable',\n",
       " 'BinaryIO',\n",
       " 'ByteString',\n",
       " 'CT_co',\n",
       " 'Callable',\n",
       " 'ChainMap',\n",
       " 'ClassVar',\n",
       " 'Collection',\n",
       " 'Concatenate',\n",
       " 'Container',\n",
       " 'ContextManager',\n",
       " 'Coroutine',\n",
       " 'Counter',\n",
       " 'DefaultDict',\n",
       " 'Deque',\n",
       " 'Dict',\n",
       " 'EXCLUDED_ATTRIBUTES',\n",
       " 'Final',\n",
       " 'ForwardRef',\n",
       " 'FrozenSet',\n",
       " 'Generator',\n",
       " 'Generic',\n",
       " 'GenericAlias',\n",
       " 'Hashable',\n",
       " 'IO',\n",
       " 'ItemsView',\n",
       " 'Iterable',\n",
       " 'Iterator',\n",
       " 'KT',\n",
       " 'KeysView',\n",
       " 'List',\n",
       " 'Literal',\n",
       " 'LiteralString',\n",
       " 'Mapping',\n",
       " 'MappingView',\n",
       " 'Match',\n",
       " 'MethodDescriptorType',\n",
       " 'MethodWrapperType',\n",
       " 'MutableMapping',\n",
       " 'MutableSequence',\n",
       " 'MutableSet',\n",
       " 'NamedTuple',\n",
       " 'NamedTupleMeta',\n",
       " 'Never',\n",
       " 'NewType',\n",
       " 'NoReturn',\n",
       " 'NotRequired',\n",
       " 'Optional',\n",
       " 'OrderedDict',\n",
       " 'ParamSpec',\n",
       " 'ParamSpecArgs',\n",
       " 'ParamSpecKwargs',\n",
       " 'Pattern',\n",
       " 'Protocol',\n",
       " 'Required',\n",
       " 'Reversible',\n",
       " 'Self',\n",
       " 'Sequence',\n",
       " 'Set',\n",
       " 'Sized',\n",
       " 'SupportsAbs',\n",
       " 'SupportsBytes',\n",
       " 'SupportsComplex',\n",
       " 'SupportsFloat',\n",
       " 'SupportsIndex',\n",
       " 'SupportsInt',\n",
       " 'SupportsRound',\n",
       " 'T',\n",
       " 'TYPE_CHECKING',\n",
       " 'T_co',\n",
       " 'T_contra',\n",
       " 'Text',\n",
       " 'TextIO',\n",
       " 'Tuple',\n",
       " 'Type',\n",
       " 'TypeAlias',\n",
       " 'TypeGuard',\n",
       " 'TypeVar',\n",
       " 'TypeVarTuple',\n",
       " 'TypedDict',\n",
       " 'Union',\n",
       " 'Unpack',\n",
       " 'VT',\n",
       " 'VT_co',\n",
       " 'V_co',\n",
       " 'ValuesView',\n",
       " 'WrapperDescriptorType',\n",
       " '_ASSERT_NEVER_REPR_MAX_LENGTH',\n",
       " '_AnnotatedAlias',\n",
       " '_AnyMeta',\n",
       " '_BaseGenericAlias',\n",
       " '_BoundVarianceMixin',\n",
       " '_CallableGenericAlias',\n",
       " '_CallableType',\n",
       " '_ConcatenateGenericAlias',\n",
       " '_DeprecatedType',\n",
       " '_Final',\n",
       " '_GenericAlias',\n",
       " '_Immutable',\n",
       " '_LiteralGenericAlias',\n",
       " '_LiteralSpecialForm',\n",
       " '_NamedTuple',\n",
       " '_NotIterable',\n",
       " '_PROTO_ALLOWLIST',\n",
       " '_PickleUsingNameMixin',\n",
       " '_ProtocolMeta',\n",
       " '_SPECIAL_NAMES',\n",
       " '_SpecialForm',\n",
       " '_SpecialGenericAlias',\n",
       " '_TYPING_INTERNALS',\n",
       " '_TupleType',\n",
       " '_TypedDict',\n",
       " '_TypedDictMeta',\n",
       " '_TypingEllipsis',\n",
       " '_UnionGenericAlias',\n",
       " '_UnpackGenericAlias',\n",
       " '__all__',\n",
       " '__builtins__',\n",
       " '__cached__',\n",
       " '__doc__',\n",
       " '__file__',\n",
       " '__loader__',\n",
       " '__name__',\n",
       " '__package__',\n",
       " '__spec__',\n",
       " '_alias',\n",
       " '_allow_reckless_class_checks',\n",
       " '_allowed_types',\n",
       " '_caller',\n",
       " '_check_generic',\n",
       " '_cleanups',\n",
       " '_collect_parameters',\n",
       " '_deduplicate',\n",
       " '_eval_type',\n",
       " '_flatten_literal_params',\n",
       " '_get_protocol_attrs',\n",
       " '_idfunc',\n",
       " '_is_callable_members_only',\n",
       " '_is_dunder',\n",
       " '_is_param_expr',\n",
       " '_is_typevar_like',\n",
       " '_is_unpacked_typevartuple',\n",
       " '_make_nmtuple',\n",
       " '_namedtuple_mro_entries',\n",
       " '_no_init_or_replace_init',\n",
       " '_overload_dummy',\n",
       " '_overload_registry',\n",
       " '_prohibited',\n",
       " '_remove_dups_flatten',\n",
       " '_should_unflatten_callable_args',\n",
       " '_special',\n",
       " '_strip_annotations',\n",
       " '_tp_cache',\n",
       " '_type_check',\n",
       " '_type_convert',\n",
       " '_type_repr',\n",
       " '_unpack_args',\n",
       " '_value_and_type_iter',\n",
       " 'abstractmethod',\n",
       " 'assert_never',\n",
       " 'assert_type',\n",
       " 'cast',\n",
       " 'clear_overloads',\n",
       " 'collections',\n",
       " 'contextlib',\n",
       " 'dataclass_transform',\n",
       " 'defaultdict',\n",
       " 'final',\n",
       " 'functools',\n",
       " 'get_args',\n",
       " 'get_origin',\n",
       " 'get_overloads',\n",
       " 'get_type_hints',\n",
       " 'io',\n",
       " 'is_typeddict',\n",
       " 'no_type_check',\n",
       " 'no_type_check_decorator',\n",
       " 'operator',\n",
       " 'overload',\n",
       " 're',\n",
       " 'reveal_type',\n",
       " 'runtime_checkable',\n",
       " 'stdlib_re',\n",
       " 'sys',\n",
       " 'types',\n",
       " 'warnings']"
      ]
     },
     "execution_count": 2,
     "metadata": {},
     "output_type": "execute_result"
    }
   ],
   "source": [
    "dir(typing)"
   ]
  },
  {
   "cell_type": "code",
   "execution_count": 3,
   "id": "96b49b0b",
   "metadata": {},
   "outputs": [
    {
     "data": {
      "text/plain": [
       "typing.TypeAlias"
      ]
     },
     "execution_count": 3,
     "metadata": {},
     "output_type": "execute_result"
    }
   ],
   "source": [
    "typing.TypeAlias"
   ]
  },
  {
   "cell_type": "code",
   "execution_count": 4,
   "id": "d8ee2b0b",
   "metadata": {},
   "outputs": [],
   "source": [
    "from collections.abc import Iterable"
   ]
  },
  {
   "cell_type": "code",
   "execution_count": 12,
   "id": "de060f96",
   "metadata": {},
   "outputs": [],
   "source": [
    "FromTo = tuple[str, str]\n",
    "\n",
    "def zip_replace(text: str, changes: Iterable[FromTo]) -> str:\n",
    "    for from_, to in changes:\n",
    "        text = text.replace(from_, to)\n",
    "    return text"
   ]
  },
  {
   "cell_type": "code",
   "execution_count": 13,
   "id": "7c6df998",
   "metadata": {},
   "outputs": [],
   "source": [
    "l33t = [('a', '4'), ('e', '3'), ('i', '1'), ('o', '0')]"
   ]
  },
  {
   "cell_type": "code",
   "execution_count": 14,
   "id": "5a87bfe7",
   "metadata": {},
   "outputs": [
    {
     "data": {
      "text/plain": [
       "'m4d sk1ll3d n00b p0wn3d l33t'"
      ]
     },
     "execution_count": 14,
     "metadata": {},
     "output_type": "execute_result"
    }
   ],
   "source": [
    "zip_replace('mad skilled noob powned leet', l33t)"
   ]
  },
  {
   "cell_type": "code",
   "execution_count": 16,
   "id": "eaf09649",
   "metadata": {},
   "outputs": [],
   "source": [
    "from collections.abc import Iterator\n",
    "from keyword import kwlist\n",
    "from typing import TYPE_CHECKING"
   ]
  },
  {
   "cell_type": "code",
   "execution_count": 21,
   "id": "483e1b12",
   "metadata": {},
   "outputs": [],
   "source": [
    "short_kw = (k for k in kwlist if len(k) < 5)\n",
    "long_kw: Iterator[str] = (k for k in kwlist if len(k) >= 4)"
   ]
  },
  {
   "cell_type": "code",
   "execution_count": 23,
   "id": "62f20e00",
   "metadata": {},
   "outputs": [
    {
     "data": {
      "text/plain": [
       "['False',\n",
       " 'None',\n",
       " 'True',\n",
       " 'assert',\n",
       " 'async',\n",
       " 'await',\n",
       " 'break',\n",
       " 'class',\n",
       " 'continue',\n",
       " 'elif',\n",
       " 'else',\n",
       " 'except',\n",
       " 'finally',\n",
       " 'from',\n",
       " 'global',\n",
       " 'import',\n",
       " 'lambda',\n",
       " 'nonlocal',\n",
       " 'pass',\n",
       " 'raise',\n",
       " 'return',\n",
       " 'while',\n",
       " 'with',\n",
       " 'yield']"
      ]
     },
     "execution_count": 23,
     "metadata": {},
     "output_type": "execute_result"
    }
   ],
   "source": [
    "list(long_kw)"
   ]
  },
  {
   "cell_type": "code",
   "execution_count": 25,
   "id": "0a9b3ffa",
   "metadata": {},
   "outputs": [
    {
     "data": {
      "text/plain": [
       "['None',\n",
       " 'True',\n",
       " 'and',\n",
       " 'as',\n",
       " 'def',\n",
       " 'del',\n",
       " 'elif',\n",
       " 'else',\n",
       " 'for',\n",
       " 'from',\n",
       " 'if',\n",
       " 'in',\n",
       " 'is',\n",
       " 'not',\n",
       " 'or',\n",
       " 'pass',\n",
       " 'try',\n",
       " 'with']"
      ]
     },
     "execution_count": 25,
     "metadata": {},
     "output_type": "execute_result"
    }
   ],
   "source": [
    "list(short_kw)"
   ]
  },
  {
   "cell_type": "code",
   "execution_count": 32,
   "id": "ccff0b48",
   "metadata": {},
   "outputs": [],
   "source": [
    "city: tuple[str, str, int]\n",
    "domains: tuple[str, ...]"
   ]
  },
  {
   "cell_type": "code",
   "execution_count": null,
   "id": "2ecc8ef1",
   "metadata": {},
   "outputs": [],
   "source": []
  }
 ],
 "metadata": {
  "kernelspec": {
   "display_name": "Python 3 (ipykernel)",
   "language": "python",
   "name": "python3"
  },
  "language_info": {
   "codemirror_mode": {
    "name": "ipython",
    "version": 3
   },
   "file_extension": ".py",
   "mimetype": "text/x-python",
   "name": "python",
   "nbconvert_exporter": "python",
   "pygments_lexer": "ipython3",
   "version": "3.11.7"
  }
 },
 "nbformat": 4,
 "nbformat_minor": 5
}
