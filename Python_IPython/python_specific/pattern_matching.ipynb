{
 "cells": [
  {
   "cell_type": "markdown",
   "id": "0dcce217",
   "metadata": {},
   "source": [
    "The most visible new feature in Python 3.10 is pattern matching with the match/case\n",
    "statement proposed in PEP 634—Structural Pattern Matching: Specification."
   ]
  },
  {
   "cell_type": "code",
   "execution_count": 1,
   "id": "56b600f1",
   "metadata": {},
   "outputs": [],
   "source": [
    "class Robot:\n",
    "  \n",
    "    def handle_command(self, message):\n",
    "        match message: \n",
    "            case ['BEEPER', frequency, times]: \n",
    "                [print('Beep') for i in range(times)]\n",
    "            case ['NECK', angle]: \n",
    "                self.rotate_neck(angle)\n",
    "            case ['LED', ident, intensity]: \n",
    "                self.leds[ident].set_brightness(ident, intensity)\n",
    "            case ['LED', ident, red, green, blue]: \n",
    "                self.leds[ident].set_color(ident, red, green, blue)\n",
    "            case _: \n",
    "                raise InvalidCommand(message)"
   ]
  },
  {
   "cell_type": "code",
   "execution_count": 2,
   "id": "4526b1b6",
   "metadata": {},
   "outputs": [
    {
     "name": "stdout",
     "output_type": "stream",
     "text": [
      "Beep\n",
      "Beep\n",
      "Beep\n"
     ]
    }
   ],
   "source": [
    "X = Robot()\n",
    "X.handle_command(['BEEPER', 3, 3])"
   ]
  },
  {
   "cell_type": "code",
   "execution_count": 3,
   "id": "b49de674",
   "metadata": {},
   "outputs": [],
   "source": [
    "metro_areas = [\n",
    " ('Tokyo', 'JP', 36.933, (35.689722, 139.691667)),\n",
    " ('Delhi NCR', 'IN', 21.935, (28.613889, 77.208889)),\n",
    " ('Mexico City', 'MX', 20.142, (19.433333, -99.133333)),\n",
    " ('New York-Newark', 'US', 20.104, (40.808611, -74.020386)),\n",
    " ('São Paulo', 'BR', 19.649, (-23.547778, -46.635833)),\n",
    "]\n",
    "\n",
    "def main():\n",
    "    print(f'{\"\":15} | {\"latitude\":>9} | {\"longitude\":>9}')\n",
    "    for record in metro_areas:\n",
    "        match record: \n",
    "            case [name, _, _, (lat, lon)] if lon <= 0: \n",
    "                print(f'{name:15} | {lat:9.4f} | {lon:9.4f}')"
   ]
  },
  {
   "cell_type": "code",
   "execution_count": 4,
   "id": "cf837520",
   "metadata": {},
   "outputs": [
    {
     "name": "stdout",
     "output_type": "stream",
     "text": [
      "                |  latitude | longitude\n",
      "Mexico City     |   19.4333 |  -99.1333\n",
      "New York-Newark |   40.8086 |  -74.0204\n",
      "São Paulo       |  -23.5478 |  -46.6358\n"
     ]
    }
   ],
   "source": [
    "main()"
   ]
  },
  {
   "cell_type": "code",
   "execution_count": 5,
   "id": "2dc04fb6",
   "metadata": {},
   "outputs": [],
   "source": [
    "def get_creators(record: dict) -> list:\n",
    "    match record:\n",
    "        case {'type': 'book', 'api': 2, 'authors': [*names]}: \n",
    "            return names\n",
    "        case {'type': 'book', 'api': 1, 'author': name}: \n",
    "            return [name]\n",
    "        case {'type': 'book'}: \n",
    "            raise ValueError(f\"Invalid 'book' record: {record!r}\")\n",
    "        case {'type': 'movie', 'director': name}: \n",
    "            return [name]\n",
    "        case _: \n",
    "            raise ValueError(f'Invalid record: {record!r}')"
   ]
  },
  {
   "cell_type": "code",
   "execution_count": 6,
   "id": "6eb73830",
   "metadata": {},
   "outputs": [
    {
     "name": "stdout",
     "output_type": "stream",
     "text": [
      "d1: dict_keys([86, 91, 1, 62, 55, 92, 880, 234, 7, 81])\n",
      "d2: dict_keys([1, 7, 55, 62, 81, 86, 91, 92, 234, 880])\n",
      "d3: dict_keys([880, 55, 86, 91, 62, 81, 234, 92, 7, 1])\n"
     ]
    }
   ],
   "source": [
    "DIAL_CODES = [\n",
    "        (86, 'China'),\n",
    "        (91, 'India'),\n",
    "        (1, 'United States'),\n",
    "        (62, 'Indonesia'),\n",
    "        (55, 'Brazil'),\n",
    "        (92, 'Pakistan'),\n",
    "        (880, 'Bangladesh'),\n",
    "        (234, 'Nigeria'),\n",
    "        (7, 'Russia'),\n",
    "        (81, 'Japan'),\n",
    "    ]\n",
    "\n",
    "d1 = dict(DIAL_CODES)\n",
    "print('d1:', d1.keys())\n",
    "d2 = dict(sorted(DIAL_CODES))  \n",
    "print('d2:', d2.keys())\n",
    "d3 = dict(sorted(DIAL_CODES, key=lambda x: x[1]))  \n",
    "print('d3:', d3.keys())\n",
    "assert d1 == d2 and d2 == d3  "
   ]
  },
  {
   "cell_type": "code",
   "execution_count": null,
   "id": "c9cf020b",
   "metadata": {},
   "outputs": [],
   "source": []
  }
 ],
 "metadata": {
  "kernelspec": {
   "display_name": "Python 3 (ipykernel)",
   "language": "python",
   "name": "python3"
  },
  "language_info": {
   "codemirror_mode": {
    "name": "ipython",
    "version": 3
   },
   "file_extension": ".py",
   "mimetype": "text/x-python",
   "name": "python",
   "nbconvert_exporter": "python",
   "pygments_lexer": "ipython3",
   "version": "3.11.5"
  }
 },
 "nbformat": 4,
 "nbformat_minor": 5
}
