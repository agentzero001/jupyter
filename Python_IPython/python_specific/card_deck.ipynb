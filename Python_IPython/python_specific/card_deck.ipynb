{
 "cells": [
  {
   "cell_type": "code",
   "execution_count": 1,
   "id": "558ad8fe",
   "metadata": {},
   "outputs": [],
   "source": [
    "import random"
   ]
  },
  {
   "cell_type": "code",
   "execution_count": 2,
   "id": "2aaebd83",
   "metadata": {},
   "outputs": [
    {
     "data": {
      "text/plain": [
       "{'suit': '♣', 'value': 6}"
      ]
     },
     "execution_count": 2,
     "metadata": {},
     "output_type": "execute_result"
    }
   ],
   "source": [
    "class Card:\n",
    "    def __init__(self, suit, value):\n",
    "        self.suit = suit\n",
    "        self.value = value\n",
    "\n",
    "    def __repr__(self):\n",
    "        return f\"{self.suit}{self.value}\"\n",
    "\n",
    "class Deck:\n",
    "    def __init__(self):\n",
    "        self.cards = [Card(suit, value) for suit in ['♣','♦','♥','♠'] for value in range(2, 11)]\n",
    "        \n",
    "        self.cards += [Card(suit, value) for suit in ['♣','♦','♥','♠'] for value in ['A','K','Q','J']]\n",
    "\n",
    "    def shuffle(self):\n",
    "        if len(self.cards) > 1:\n",
    "            random.shuffle(self.cards)\n",
    " \n",
    "    def deal_card(self):\n",
    "        if len(self.cards) > 1:\n",
    "            return self.cards.pop(0)\n",
    "\n",
    "deck = Deck()\n",
    "deck2 = Deck()\n",
    "dc = deck.deal_card\n",
    "deck.shuffle()\n",
    "\n",
    "card1 = dc()\n",
    "card1.__dict__"
   ]
  },
  {
   "cell_type": "code",
   "execution_count": 3,
   "id": "1cb86b67",
   "metadata": {},
   "outputs": [
    {
     "data": {
      "text/plain": [
       "[(♣Q, ♦4), (♦9, ♣9), (♠J, ♦6), (♥9, ♥5), (♠7, ♠9), (♠K, ♦2)]"
      ]
     },
     "execution_count": 3,
     "metadata": {},
     "output_type": "execute_result"
    }
   ],
   "source": [
    "[(dc(), dc()) for i in range(6)]"
   ]
  },
  {
   "cell_type": "code",
   "execution_count": 4,
   "id": "41d5209e",
   "metadata": {},
   "outputs": [
    {
     "data": {
      "text/plain": [
       "(52, 39)"
      ]
     },
     "execution_count": 4,
     "metadata": {},
     "output_type": "execute_result"
    }
   ],
   "source": [
    "deck2.__dict__['cards'].__len__(), deck.__dict__['cards'].__len__()"
   ]
  },
  {
   "cell_type": "code",
   "execution_count": 5,
   "id": "bcea5236",
   "metadata": {},
   "outputs": [],
   "source": [
    "from collections import namedtuple\n",
    "\n",
    "Card = namedtuple('Card', ['rank', 'suit'])\n",
    "\n",
    "class FrenchDeck:\n",
    "    ranks = [str(n) for n in range(2, 11)] + list('JQKA')\n",
    "    suits = '♣ ♦ ♥ ♠'.split()\n",
    "    \n",
    "    def __init__(self):\n",
    "        self._cards = [Card(rank, suit) for suit in self.suits for rank in self.ranks]\n",
    "        \n",
    "    def __len__(self):\n",
    "        return len(self._cards)\n",
    "    \n",
    "    def __getitem__(self, position):\n",
    "        return self._cards[position]"
   ]
  },
  {
   "cell_type": "code",
   "execution_count": 6,
   "id": "d89b4495",
   "metadata": {},
   "outputs": [],
   "source": [
    "deck1 = FrenchDeck()"
   ]
  },
  {
   "cell_type": "code",
   "execution_count": 7,
   "id": "1fa1ec4a",
   "metadata": {},
   "outputs": [
    {
     "data": {
      "text/plain": [
       "['2', '3', '4', '5', '6', '7', '8', '9', '10', 'J', 'Q', 'K', 'A']"
      ]
     },
     "execution_count": 7,
     "metadata": {},
     "output_type": "execute_result"
    }
   ],
   "source": [
    "deck1.ranks"
   ]
  },
  {
   "cell_type": "code",
   "execution_count": 8,
   "id": "7ef0ecb9",
   "metadata": {},
   "outputs": [
    {
     "data": {
      "text/plain": [
       "([Card(rank='2', suit='♣'),\n",
       "  Card(rank='3', suit='♣'),\n",
       "  Card(rank='4', suit='♣')],\n",
       " [Card(rank='A', suit='♣'),\n",
       "  Card(rank='A', suit='♦'),\n",
       "  Card(rank='A', suit='♥'),\n",
       "  Card(rank='A', suit='♠')])"
      ]
     },
     "execution_count": 8,
     "metadata": {},
     "output_type": "execute_result"
    }
   ],
   "source": [
    "deck1[:3], deck1[12::13]"
   ]
  },
  {
   "cell_type": "code",
   "execution_count": 9,
   "id": "769011b8",
   "metadata": {},
   "outputs": [
    {
     "name": "stdout",
     "output_type": "stream",
     "text": [
      "Card(rank='6', suit='♣')\n",
      "Card(rank='5', suit='♣')\n",
      "Card(rank='4', suit='♣')\n",
      "Card(rank='3', suit='♣')\n",
      "Card(rank='2', suit='♣')\n"
     ]
    }
   ],
   "source": [
    "for card in reversed(deck1[:5]):\n",
    "    print(card)"
   ]
  },
  {
   "cell_type": "code",
   "execution_count": 10,
   "id": "b362bab5",
   "metadata": {},
   "outputs": [
    {
     "data": {
      "text/plain": [
       "True"
      ]
     },
     "execution_count": 10,
     "metadata": {},
     "output_type": "execute_result"
    }
   ],
   "source": [
    "list(reversed(deck1)) == deck1[::-1]"
   ]
  },
  {
   "cell_type": "code",
   "execution_count": 11,
   "id": "1423e4b2",
   "metadata": {},
   "outputs": [
    {
     "data": {
      "text/plain": [
       "52"
      ]
     },
     "execution_count": 11,
     "metadata": {},
     "output_type": "execute_result"
    }
   ],
   "source": [
    "len(deck1)"
   ]
  },
  {
   "cell_type": "code",
   "execution_count": 12,
   "id": "337ba47d",
   "metadata": {},
   "outputs": [
    {
     "data": {
      "text/plain": [
       "Card(rank='7', suit='♠')"
      ]
     },
     "execution_count": 12,
     "metadata": {},
     "output_type": "execute_result"
    }
   ],
   "source": [
    "import random\n",
    "\n",
    "random.choice(deck1)"
   ]
  }
 ],
 "metadata": {
  "kernelspec": {
   "display_name": "Python 3 (ipykernel)",
   "language": "python",
   "name": "python3"
  },
  "language_info": {
   "codemirror_mode": {
    "name": "ipython",
    "version": 3
   },
   "file_extension": ".py",
   "mimetype": "text/x-python",
   "name": "python",
   "nbconvert_exporter": "python",
   "pygments_lexer": "ipython3",
   "version": "3.11.5"
  }
 },
 "nbformat": 4,
 "nbformat_minor": 5
}
