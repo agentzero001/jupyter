{
 "cells": [
  {
   "cell_type": "markdown",
   "id": "18f69bd6",
   "metadata": {},
   "source": [
    "# iterables\n",
    "Any object from which the iter built-in function can obtain an iterator. Objects\n",
    "implementing an \\__iter__ method returning an iterator are iterable. Sequences\n",
    "are always iterable, as are objects implementing a \\__getitem__ method that\n",
    "accepts 0-based indexes."
   ]
  },
  {
   "cell_type": "code",
   "execution_count": 1,
   "id": "664de64b",
   "metadata": {},
   "outputs": [
    {
     "data": {
      "text/plain": [
       "['1', '2', '3']"
      ]
     },
     "execution_count": 1,
     "metadata": {},
     "output_type": "execute_result"
    }
   ],
   "source": [
    "import re\n",
    "import reprlib\n",
    "\n",
    "RE_WORD = re.compile(r'\\w+')\n",
    "RE_WORD.findall('1 2 3')"
   ]
  },
  {
   "cell_type": "code",
   "execution_count": 2,
   "id": "c2c51633",
   "metadata": {},
   "outputs": [],
   "source": [
    "class Sentence:\n",
    "    def __init__(self, text):\n",
    "        self.text = text\n",
    "        self.words = RE_WORD.findall(text)\n",
    "    \n",
    "    def __getitem__(self, index):\n",
    "         return self.words[index]\n",
    "        \n",
    "    def __len__(self):\n",
    "        return len(self.words)\n",
    "    \n",
    "    def __repr__(self):\n",
    "        return 'Sentence(%s)' % reprlib.repr(self.text) #for abbreviation"
   ]
  },
  {
   "cell_type": "code",
   "execution_count": 3,
   "id": "ac8e10e5",
   "metadata": {},
   "outputs": [
    {
     "data": {
      "text/plain": [
       "Sentence('\"the time ha... Walrus said,')"
      ]
     },
     "execution_count": 3,
     "metadata": {},
     "output_type": "execute_result"
    }
   ],
   "source": [
    "s = Sentence('\"the time has come,\" the Walrus said,')\n",
    "s"
   ]
  },
  {
   "cell_type": "code",
   "execution_count": 4,
   "id": "6bd55265",
   "metadata": {},
   "outputs": [
    {
     "name": "stdout",
     "output_type": "stream",
     "text": [
      "the\n",
      "time\n",
      "has\n",
      "come\n",
      "the\n",
      "Walrus\n",
      "said\n"
     ]
    }
   ],
   "source": [
    "#whenever python needs to iterate over an object x, it automatically calls iter(x)\n",
    "#if __iter__ is missing iter() will call __getitem__()\n",
    "for word in s:\n",
    "    print(word)"
   ]
  },
  {
   "cell_type": "code",
   "execution_count": 5,
   "id": "add8625d",
   "metadata": {},
   "outputs": [
    {
     "data": {
      "text/plain": [
       "['the', 'time', 'has', 'come', 'the', 'Walrus', 'said']"
      ]
     },
     "execution_count": 5,
     "metadata": {},
     "output_type": "execute_result"
    }
   ],
   "source": [
    "list(s)"
   ]
  },
  {
   "cell_type": "code",
   "execution_count": 6,
   "id": "e661fa45",
   "metadata": {},
   "outputs": [
    {
     "data": {
      "text/plain": [
       "{'Walrus', 'come', 'has', 'said', 'the', 'time'}"
      ]
     },
     "execution_count": 6,
     "metadata": {},
     "output_type": "execute_result"
    }
   ],
   "source": [
    "set(s)"
   ]
  },
  {
   "cell_type": "code",
   "execution_count": 7,
   "id": "99b7275b",
   "metadata": {},
   "outputs": [
    {
     "data": {
      "text/plain": [
       "(True, True)"
      ]
     },
     "execution_count": 7,
     "metadata": {},
     "output_type": "execute_result"
    }
   ],
   "source": [
    "from collections import abc\n",
    "\n",
    "class GooseSpam:\n",
    "    def __iter__(self):\n",
    "        pass\n",
    "\n",
    "\n",
    "goose_spam_can = GooseSpam()\n",
    "\n",
    "issubclass(GooseSpam, abc.Iterable), isinstance(goose_spam_can, abc.Iterable)"
   ]
  },
  {
   "cell_type": "markdown",
   "id": "1cfc2bfe",
   "metadata": {},
   "source": [
    "# Iterators"
   ]
  },
  {
   "cell_type": "code",
   "execution_count": 8,
   "id": "453eadaf",
   "metadata": {},
   "outputs": [],
   "source": [
    "import random\n",
    "\n",
    "def d6():\n",
    "    return random.randint(1, 6)"
   ]
  },
  {
   "cell_type": "code",
   "execution_count": 9,
   "id": "f4adf728",
   "metadata": {},
   "outputs": [
    {
     "data": {
      "text/plain": [
       "(3, callable_iterator)"
      ]
     },
     "execution_count": 9,
     "metadata": {},
     "output_type": "execute_result"
    }
   ],
   "source": [
    "d6_iter = iter(d6, 1) # __iter__ will create an iterator out of an itrable\n",
    "next(d6_iter), type(d6_iter)"
   ]
  },
  {
   "cell_type": "code",
   "execution_count": 10,
   "id": "7893f869",
   "metadata": {},
   "outputs": [],
   "source": [
    "for roll in d6_iter:\n",
    "    print(roll)"
   ]
  },
  {
   "cell_type": "code",
   "execution_count": 11,
   "id": "26fe3003",
   "metadata": {},
   "outputs": [
    {
     "name": "stdout",
     "output_type": "stream",
     "text": [
      "A\n",
      "B\n",
      "C\n"
     ]
    }
   ],
   "source": [
    "s = 'ABC'\n",
    "it = iter(s) \n",
    "\n",
    "while True:\n",
    "    try:\n",
    "        print(next(it)) \n",
    "    except StopIteration: \n",
    "        del it \n",
    "        break "
   ]
  },
  {
   "cell_type": "markdown",
   "id": "4258a25d",
   "metadata": {},
   "source": [
    "### Python’s standard interface for an iterator has two methods:\n",
    "\\__next__:\n",
    "Returns the next item in the series, raising StopIteration if there are no more.\n",
    "\n",
    "\\__iter__:\n",
    "Returns self; this allows iterators to be used where an iterable is expected, for\n",
    "example, in a for loop."
   ]
  },
  {
   "cell_type": "code",
   "execution_count": 12,
   "id": "42d46142",
   "metadata": {},
   "outputs": [],
   "source": [
    "s3 = Sentence('Life of Brian')\n",
    "it = iter(s3)"
   ]
  },
  {
   "cell_type": "code",
   "execution_count": 13,
   "id": "5b5a18e8",
   "metadata": {},
   "outputs": [
    {
     "data": {
      "text/plain": [
       "('Life', 'of', 'Brian')"
      ]
     },
     "execution_count": 13,
     "metadata": {},
     "output_type": "execute_result"
    }
   ],
   "source": [
    "next(it), next(it), next(it)"
   ]
  },
  {
   "cell_type": "code",
   "execution_count": 14,
   "id": "51e8ddc2",
   "metadata": {},
   "outputs": [
    {
     "data": {
      "text/plain": [
       "[]"
      ]
     },
     "execution_count": 14,
     "metadata": {},
     "output_type": "execute_result"
    }
   ],
   "source": [
    "list(it)"
   ]
  },
  {
   "cell_type": "code",
   "execution_count": 15,
   "id": "696f6ed3",
   "metadata": {},
   "outputs": [
    {
     "data": {
      "text/plain": [
       "['Life', 'of', 'Brian']"
      ]
     },
     "execution_count": 15,
     "metadata": {},
     "output_type": "execute_result"
    }
   ],
   "source": [
    "list(iter(s3))"
   ]
  },
  {
   "cell_type": "code",
   "execution_count": 16,
   "id": "6bfc8207",
   "metadata": {},
   "outputs": [],
   "source": [
    "class Sentence:\n",
    "    def __init__(self, text):\n",
    "        self.text = text\n",
    "        self.words = RE_WORD.findall(text)\n",
    "    \n",
    "    def __repr__(self):\n",
    "        return f'Sentence({reprlib.repr(self.text)})'\n",
    "\n",
    "    \n",
    "    def __iter__(self):\n",
    "        return SentenceIterator(self.words)\n",
    "    \n",
    "class SentenceIterator:\n",
    "    def __init__(self, words):\n",
    "        self.words = words\n",
    "        self.index = 0\n",
    "        \n",
    "    def __next__(self):\n",
    "        try:\n",
    "            word = self.words[self.index]\n",
    "        except IndexError:\n",
    "            raise StopIteration()\n",
    "        self.index += 1\n",
    "        return word\n",
    "    \n",
    "    def __iter__(self):\n",
    "        return self"
   ]
  },
  {
   "cell_type": "code",
   "execution_count": 17,
   "id": "8b80a3e8",
   "metadata": {},
   "outputs": [
    {
     "data": {
      "text/plain": [
       "('hello', ['good', 'bye', 'hi', 'firend'])"
      ]
     },
     "execution_count": 17,
     "metadata": {},
     "output_type": "execute_result"
    }
   ],
   "source": [
    "s4 = Sentence('hello good bye hi firend')\n",
    "it = iter(s4)\n",
    "next(it), list(it)"
   ]
  },
  {
   "cell_type": "markdown",
   "id": "27fc4c86",
   "metadata": {},
   "source": [
    "A common cause of errors in building iterables and iterators is to confuse the two. To\n",
    "be clear: iterables have an \\__iter__ method that instantiates a new iterator every\n",
    "time. Iterators implement a \\__next__ method that returns individual items, and an\n",
    "\\__iter__ method that returns self."
   ]
  },
  {
   "cell_type": "markdown",
   "id": "9f8e40ca",
   "metadata": {},
   "source": [
    "To “support multiple traversals,” it must be possible to obtain multiple independent\n",
    "iterators from the same iterable instance, and each iterator must keep its own internal\n",
    "state, so a proper implementation of the pattern requires each call to iter(my_iterable) to create a new, independent, iterator. That is why we need the Sentence Iterator class in this example"
   ]
  },
  {
   "cell_type": "code",
   "execution_count": 18,
   "id": "68f59351",
   "metadata": {},
   "outputs": [],
   "source": [
    "#just ignore this one\n",
    "class Sentence:\n",
    "    def __init__(self, text):\n",
    "        self.text = text\n",
    "        self.words = RE_WORD.findall(text)\n",
    "    \n",
    "    def __repr__(self):\n",
    "        return f'Sentence({reprlib.repr(self.text)})'\n",
    "\n",
    "    def __iter__(self):\n",
    "        return iter(self.words)"
   ]
  },
  {
   "cell_type": "code",
   "execution_count": 19,
   "id": "978b97ef",
   "metadata": {},
   "outputs": [
    {
     "data": {
      "text/plain": [
       "('hallo', ['good', 'bye', 'hi'])"
      ]
     },
     "execution_count": 19,
     "metadata": {},
     "output_type": "execute_result"
    }
   ],
   "source": [
    "s3 = Sentence('hallo good bye hi')\n",
    "it = iter(s3)\n",
    "next(it), list(it)"
   ]
  },
  {
   "cell_type": "code",
   "execution_count": 20,
   "id": "27ccd5b2",
   "metadata": {},
   "outputs": [],
   "source": [
    "class Sentence2:\n",
    "    def __init__(self, text):\n",
    "        self.text = text\n",
    "        self.words = RE_WORD.findall(text)\n",
    "    \n",
    "    def __repr__(self):\n",
    "        return f'Sentence({reprlib.repr(self.text)})'\n",
    "\n",
    "    def __iter__(self):\n",
    "        for word in self.words:\n",
    "            yield word       "
   ]
  },
  {
   "cell_type": "code",
   "execution_count": 21,
   "id": "3aebca11",
   "metadata": {},
   "outputs": [
    {
     "name": "stdout",
     "output_type": "stream",
     "text": [
      "hallo\n",
      "good\n",
      "bye\n",
      "hi\n"
     ]
    },
    {
     "data": {
      "text/plain": [
       "('hallo', ['good', 'bye', 'hi'])"
      ]
     },
     "execution_count": 21,
     "metadata": {},
     "output_type": "execute_result"
    }
   ],
   "source": [
    "s = Sentence2('hallo good bye hi')\n",
    "for w in s:\n",
    "    print(w)\n",
    "    \n",
    "it = iter(s)\n",
    "next(it), list(it)"
   ]
  },
  {
   "cell_type": "code",
   "execution_count": 22,
   "id": "234a1dd8",
   "metadata": {},
   "outputs": [],
   "source": [
    "#generators implement the iterator interface, so they are also iterable"
   ]
  },
  {
   "cell_type": "code",
   "execution_count": 23,
   "id": "9cf1fb38",
   "metadata": {},
   "outputs": [
    {
     "data": {
      "text/plain": [
       "(<function __main__.gen_123()>,\n",
       " <generator object gen_123 at 0x000001EB0417ADA0>)"
      ]
     },
     "execution_count": 23,
     "metadata": {},
     "output_type": "execute_result"
    }
   ],
   "source": [
    "def gen_123():\n",
    "    yield 1\n",
    "    yield 2\n",
    "    yield 3\n",
    "    \n",
    "gen_123, gen_123()"
   ]
  },
  {
   "cell_type": "code",
   "execution_count": 24,
   "id": "f5dd92a3",
   "metadata": {},
   "outputs": [
    {
     "name": "stdout",
     "output_type": "stream",
     "text": [
      "1\n",
      "2\n",
      "3\n"
     ]
    }
   ],
   "source": [
    "for i in gen_123():\n",
    "    print(i)"
   ]
  },
  {
   "cell_type": "code",
   "execution_count": 25,
   "id": "69d4ca8c",
   "metadata": {},
   "outputs": [
    {
     "data": {
      "text/plain": [
       "(1, 2, 3)"
      ]
     },
     "execution_count": 25,
     "metadata": {},
     "output_type": "execute_result"
    }
   ],
   "source": [
    "g = gen_123()\n",
    "next(g), next(g), next(g)"
   ]
  },
  {
   "cell_type": "code",
   "execution_count": 26,
   "id": "fef13ba9",
   "metadata": {},
   "outputs": [],
   "source": [
    "#when the generator function returns it raises StopIteration\n",
    "#next(g)"
   ]
  },
  {
   "cell_type": "code",
   "execution_count": 27,
   "id": "4fcb662d",
   "metadata": {},
   "outputs": [],
   "source": [
    "#the most lazy version of Sentence \n",
    "class Sentence:\n",
    "    def __init__(self, text):\n",
    "        self.text = text\n",
    "        \n",
    "    def __repr__(self):\n",
    "        return f'Sentence({reprlib.repr(self.text)})'\n",
    "\n",
    "    def __iter__(self):\n",
    "        for match in RE_WORD.finditer(self.text):\n",
    "            yield match.group()"
   ]
  },
  {
   "cell_type": "code",
   "execution_count": 28,
   "id": "82f7820b",
   "metadata": {},
   "outputs": [],
   "source": [
    "class Sentence:\n",
    "    def __init__(self, text):\n",
    "        self.text = text\n",
    "        \n",
    "    def __repr__(self):\n",
    "        return f'Sentence({reprlib.repr(self.text)})'\n",
    "\n",
    "    def __iter__(self):\n",
    "        return (match.group() for match in RE_WORD.finditer(self.text))"
   ]
  },
  {
   "cell_type": "code",
   "execution_count": 29,
   "id": "80c145e2",
   "metadata": {},
   "outputs": [
    {
     "data": {
      "text/plain": [
       "('1', ['2', '3', 'hallo', 'good', 'bye'])"
      ]
     },
     "execution_count": 29,
     "metadata": {},
     "output_type": "execute_result"
    }
   ],
   "source": [
    "s = Sentence('1 2 3 hallo good bye')\n",
    "it = iter(s)\n",
    "next(it), list(it)"
   ]
  },
  {
   "cell_type": "code",
   "execution_count": 30,
   "id": "13f849d0",
   "metadata": {},
   "outputs": [
    {
     "name": "stdout",
     "output_type": "stream",
     "text": [
      "<re.Match object; span=(0, 1), match='1'>\n",
      "<re.Match object; span=(2, 3), match='2'>\n",
      "<re.Match object; span=(4, 5), match='3'>\n"
     ]
    }
   ],
   "source": [
    "for i in RE_WORD.finditer('1 2 3'):\n",
    "    print(i)"
   ]
  },
  {
   "cell_type": "markdown",
   "id": "23e0e332",
   "metadata": {},
   "source": [
    "# Generators"
   ]
  },
  {
   "cell_type": "code",
   "execution_count": 31,
   "id": "5aa70e59",
   "metadata": {},
   "outputs": [],
   "source": [
    "def gen_AB():\n",
    "    print('start')\n",
    "    yield 'A'\n",
    "    print('continue')\n",
    "    yield 'B'\n",
    "    print('end')"
   ]
  },
  {
   "cell_type": "code",
   "execution_count": 32,
   "id": "2e0ac2c6",
   "metadata": {},
   "outputs": [
    {
     "name": "stdout",
     "output_type": "stream",
     "text": [
      "start\n",
      "continue\n",
      "end\n"
     ]
    }
   ],
   "source": [
    "res1 = [3*x for x in gen_AB()]"
   ]
  },
  {
   "cell_type": "code",
   "execution_count": 33,
   "id": "f5bc15dd",
   "metadata": {},
   "outputs": [
    {
     "data": {
      "text/plain": [
       "['AAA', 'BBB']"
      ]
     },
     "execution_count": 33,
     "metadata": {},
     "output_type": "execute_result"
    }
   ],
   "source": [
    "res1"
   ]
  },
  {
   "cell_type": "code",
   "execution_count": 34,
   "id": "8253daaa",
   "metadata": {},
   "outputs": [
    {
     "data": {
      "text/plain": [
       "<generator object <genexpr> at 0x000001EB043E92F0>"
      ]
     },
     "execution_count": 34,
     "metadata": {},
     "output_type": "execute_result"
    }
   ],
   "source": [
    "res2 = (3*x for x in gen_AB())\n",
    "res2"
   ]
  },
  {
   "cell_type": "code",
   "execution_count": 35,
   "id": "1ff8b07a",
   "metadata": {},
   "outputs": [
    {
     "name": "stdout",
     "output_type": "stream",
     "text": [
      "start\n",
      "--> AAA\n",
      "continue\n",
      "--> BBB\n",
      "end\n"
     ]
    }
   ],
   "source": [
    "for i in res2:\n",
    "    print('-->', i)"
   ]
  },
  {
   "cell_type": "code",
   "execution_count": 36,
   "id": "8d045101",
   "metadata": {},
   "outputs": [
    {
     "data": {
      "text/plain": [
       "<generator object <genexpr> at 0x000001EB043E8380>"
      ]
     },
     "execution_count": 36,
     "metadata": {},
     "output_type": "execute_result"
    }
   ],
   "source": [
    "#generator expression\n",
    "(2 * x for x in [1,2,3])"
   ]
  },
  {
   "cell_type": "code",
   "execution_count": 37,
   "id": "3a581e9e",
   "metadata": {},
   "outputs": [
    {
     "data": {
      "text/plain": [
       "6.0"
      ]
     },
     "execution_count": 37,
     "metadata": {},
     "output_type": "execute_result"
    }
   ],
   "source": [
    "type(8.0)(6)"
   ]
  },
  {
   "cell_type": "code",
   "execution_count": 38,
   "id": "ef7a6596",
   "metadata": {},
   "outputs": [],
   "source": [
    "def aritprog_gen(begin, step, end=None):\n",
    "    result = type(begin+step)(begin)\n",
    "    index = 0\n",
    "    while (end is None) or result < end:\n",
    "        yield result\n",
    "        index += 1\n",
    "        result = begin + step * index"
   ]
  },
  {
   "cell_type": "code",
   "execution_count": 39,
   "id": "20ef53da",
   "metadata": {},
   "outputs": [
    {
     "data": {
      "text/plain": [
       "[1.0, 1.2, 1.4, 1.6, 1.8, 2.0, 2.2, 2.4000000000000004, 2.6, 2.8]"
      ]
     },
     "execution_count": 39,
     "metadata": {},
     "output_type": "execute_result"
    }
   ],
   "source": [
    "list(aritprog_gen(1, .2, 3))"
   ]
  },
  {
   "cell_type": "code",
   "execution_count": 40,
   "id": "9fbb765c",
   "metadata": {},
   "outputs": [
    {
     "data": {
      "text/plain": [
       "[Decimal('1'),\n",
       " Decimal('1.2'),\n",
       " Decimal('1.4'),\n",
       " Decimal('1.6'),\n",
       " Decimal('1.8'),\n",
       " Decimal('2.0'),\n",
       " Decimal('2.2'),\n",
       " Decimal('2.4'),\n",
       " Decimal('2.6'),\n",
       " Decimal('2.8')]"
      ]
     },
     "execution_count": 40,
     "metadata": {},
     "output_type": "execute_result"
    }
   ],
   "source": [
    "from decimal import Decimal\n",
    "list(aritprog_gen(1, Decimal('.2'), 3))"
   ]
  },
  {
   "cell_type": "code",
   "execution_count": 41,
   "id": "5a7bbc57",
   "metadata": {},
   "outputs": [
    {
     "data": {
      "text/plain": [
       "[Fraction(1, 1),\n",
       " Fraction(4, 3),\n",
       " Fraction(5, 3),\n",
       " Fraction(2, 1),\n",
       " Fraction(7, 3),\n",
       " Fraction(8, 3)]"
      ]
     },
     "execution_count": 41,
     "metadata": {},
     "output_type": "execute_result"
    }
   ],
   "source": [
    "from fractions import Fraction\n",
    "list(aritprog_gen(1, Fraction(1,3), 3))"
   ]
  },
  {
   "cell_type": "code",
   "execution_count": 42,
   "id": "e0a7aab8",
   "metadata": {},
   "outputs": [],
   "source": [
    "import itertools"
   ]
  },
  {
   "cell_type": "code",
   "execution_count": 43,
   "id": "beedfb51",
   "metadata": {},
   "outputs": [
    {
     "data": {
      "text/plain": [
       "(1, 1.5, 2.0)"
      ]
     },
     "execution_count": 43,
     "metadata": {},
     "output_type": "execute_result"
    }
   ],
   "source": [
    "gen = itertools.count(1, .5) #never stops so don't use list here\n",
    "next(gen), next(gen), next(gen)"
   ]
  },
  {
   "cell_type": "code",
   "execution_count": 44,
   "id": "e0545ee7",
   "metadata": {},
   "outputs": [
    {
     "data": {
      "text/plain": [
       "[1, 1.5, 2.0, 2.5]"
      ]
     },
     "execution_count": 44,
     "metadata": {},
     "output_type": "execute_result"
    }
   ],
   "source": [
    "gen = itertools.takewhile(lambda n: n < 3, itertools.count(1, .5))\n",
    "list(gen)"
   ]
  },
  {
   "cell_type": "code",
   "execution_count": 45,
   "id": "40cef400",
   "metadata": {},
   "outputs": [],
   "source": [
    "def aritprog(begin, step, end=None):\n",
    "    first = type(begin + step)(begin)\n",
    "    ap_gen = itertools.count(first, step)\n",
    "    if end is None:\n",
    "        return ap_gen\n",
    "    return itertools.takewhile(lambda n: n < end, ap_gen)"
   ]
  },
  {
   "cell_type": "code",
   "execution_count": 46,
   "id": "68c90aea",
   "metadata": {},
   "outputs": [
    {
     "data": {
      "text/plain": [
       "[0, 1, 2, 3, 4, 5, 6, 7, 8, 9]"
      ]
     },
     "execution_count": 46,
     "metadata": {},
     "output_type": "execute_result"
    }
   ],
   "source": [
    "list(aritprog(0,1,10))"
   ]
  },
  {
   "cell_type": "markdown",
   "id": "6dfa8f58",
   "metadata": {},
   "source": [
    "## misc itertools generators"
   ]
  },
  {
   "cell_type": "code",
   "execution_count": 47,
   "id": "cb221f89",
   "metadata": {},
   "outputs": [],
   "source": [
    "from itertools import compress, dropwhile, accumulate, starmap, filterfalse, islice, takewhile"
   ]
  },
  {
   "cell_type": "code",
   "execution_count": 48,
   "id": "31aadf86",
   "metadata": {},
   "outputs": [],
   "source": [
    "def vowel(c):\n",
    "    return c.lower() in 'aeiou'"
   ]
  },
  {
   "cell_type": "code",
   "execution_count": 49,
   "id": "811aa793",
   "metadata": {},
   "outputs": [
    {
     "data": {
      "text/plain": [
       "['A', 'a', 'a']"
      ]
     },
     "execution_count": 49,
     "metadata": {},
     "output_type": "execute_result"
    }
   ],
   "source": [
    "list(filter(vowel, 'Aardvark'))"
   ]
  },
  {
   "cell_type": "code",
   "execution_count": 50,
   "id": "9f66859a",
   "metadata": {},
   "outputs": [
    {
     "data": {
      "text/plain": [
       "['r', 'd', 'v', 'r', 'k']"
      ]
     },
     "execution_count": 50,
     "metadata": {},
     "output_type": "execute_result"
    }
   ],
   "source": [
    "list(filterfalse(vowel, 'Aardvark'))"
   ]
  },
  {
   "cell_type": "code",
   "execution_count": 51,
   "id": "04e64c43",
   "metadata": {},
   "outputs": [
    {
     "data": {
      "text/plain": [
       "['r', 'd', 'v', 'a', 'r', 'k']"
      ]
     },
     "execution_count": 51,
     "metadata": {},
     "output_type": "execute_result"
    }
   ],
   "source": [
    "list(dropwhile(vowel, 'Aardvark'))"
   ]
  },
  {
   "cell_type": "code",
   "execution_count": 52,
   "id": "55c8c3f7",
   "metadata": {},
   "outputs": [
    {
     "data": {
      "text/plain": [
       "['A', 'a']"
      ]
     },
     "execution_count": 52,
     "metadata": {},
     "output_type": "execute_result"
    }
   ],
   "source": [
    "list(takewhile(vowel, 'Aardvark'))"
   ]
  },
  {
   "cell_type": "code",
   "execution_count": 53,
   "id": "bbbde927",
   "metadata": {},
   "outputs": [
    {
     "data": {
      "text/plain": [
       "['A', 'r', 'd', 'a']"
      ]
     },
     "execution_count": 53,
     "metadata": {},
     "output_type": "execute_result"
    }
   ],
   "source": [
    "list(compress('Aardvark', (1, 0, 1, 1, 0, 1)))"
   ]
  },
  {
   "cell_type": "code",
   "execution_count": 54,
   "id": "58a89ea9",
   "metadata": {},
   "outputs": [
    {
     "data": {
      "text/plain": [
       "['A', 'a', 'r', 'd']"
      ]
     },
     "execution_count": 54,
     "metadata": {},
     "output_type": "execute_result"
    }
   ],
   "source": [
    "list(islice('Aardvark', 4))"
   ]
  },
  {
   "cell_type": "code",
   "execution_count": 55,
   "id": "e0cf2dc1",
   "metadata": {},
   "outputs": [
    {
     "data": {
      "text/plain": [
       "['v', 'a', 'r']"
      ]
     },
     "execution_count": 55,
     "metadata": {},
     "output_type": "execute_result"
    }
   ],
   "source": [
    "list(islice('Aardvark', 4, 7))"
   ]
  },
  {
   "cell_type": "code",
   "execution_count": 56,
   "id": "4b488ccf",
   "metadata": {},
   "outputs": [
    {
     "data": {
      "text/plain": [
       "['a', 'd', 'a']"
      ]
     },
     "execution_count": 56,
     "metadata": {},
     "output_type": "execute_result"
    }
   ],
   "source": [
    "list(islice('Aardvark', 1, 7, 2))"
   ]
  },
  {
   "cell_type": "code",
   "execution_count": 57,
   "id": "54232b97",
   "metadata": {},
   "outputs": [],
   "source": [
    "sample = [5, 4, 2, 8, 7, 6, 3, 0, 9, 1]"
   ]
  },
  {
   "cell_type": "code",
   "execution_count": 58,
   "id": "ab7c4363",
   "metadata": {},
   "outputs": [
    {
     "data": {
      "text/plain": [
       "[5, 9, 11, 19, 26, 32, 35, 35, 44, 45]"
      ]
     },
     "execution_count": 58,
     "metadata": {},
     "output_type": "execute_result"
    }
   ],
   "source": [
    "list(accumulate(sample))"
   ]
  },
  {
   "cell_type": "code",
   "execution_count": 59,
   "id": "c71ca840",
   "metadata": {},
   "outputs": [
    {
     "data": {
      "text/plain": [
       "[5, 4, 2, 2, 2, 2, 2, 0, 0, 0]"
      ]
     },
     "execution_count": 59,
     "metadata": {},
     "output_type": "execute_result"
    }
   ],
   "source": [
    "list(accumulate(sample, min))"
   ]
  },
  {
   "cell_type": "code",
   "execution_count": 60,
   "id": "54f10846",
   "metadata": {},
   "outputs": [
    {
     "data": {
      "text/plain": [
       "[5, 5, 5, 8, 8, 8, 8, 8, 9, 9]"
      ]
     },
     "execution_count": 60,
     "metadata": {},
     "output_type": "execute_result"
    }
   ],
   "source": [
    "list(accumulate(sample, max))"
   ]
  },
  {
   "cell_type": "code",
   "execution_count": 61,
   "id": "94ddedae",
   "metadata": {},
   "outputs": [
    {
     "data": {
      "text/plain": [
       "[5, 20, 40, 320, 2240, 13440, 40320, 0, 0, 0]"
      ]
     },
     "execution_count": 61,
     "metadata": {},
     "output_type": "execute_result"
    }
   ],
   "source": [
    "import operator\n",
    "list(accumulate(sample, operator.mul))"
   ]
  },
  {
   "cell_type": "code",
   "execution_count": 62,
   "id": "624ff914",
   "metadata": {},
   "outputs": [
    {
     "data": {
      "text/plain": [
       "[1, 2, 6, 24, 120, 720, 5040, 40320, 362880, 3628800]"
      ]
     },
     "execution_count": 62,
     "metadata": {},
     "output_type": "execute_result"
    }
   ],
   "source": [
    "list(accumulate(range(1,11), operator.mul)) #factorial"
   ]
  },
  {
   "cell_type": "code",
   "execution_count": 63,
   "id": "6204bd95",
   "metadata": {},
   "outputs": [
    {
     "data": {
      "text/plain": [
       "['a', 'll', 'bbb', 'aaaa', 'ttttt', 'rrrrrr', 'ooooooo', 'zzzzzzzz']"
      ]
     },
     "execution_count": 63,
     "metadata": {},
     "output_type": "execute_result"
    }
   ],
   "source": [
    "list(starmap(operator.mul, enumerate('albatroz', 1)))"
   ]
  },
  {
   "cell_type": "code",
   "execution_count": 64,
   "id": "4c5eaf97",
   "metadata": {},
   "outputs": [
    {
     "data": {
      "text/plain": [
       "['aaa',\n",
       " 'llll',\n",
       " 'bbbbb',\n",
       " 'aaaaaa',\n",
       " 'ttttttt',\n",
       " 'rrrrrrrr',\n",
       " 'ooooooooo',\n",
       " 'zzzzzzzzzz']"
      ]
     },
     "execution_count": 64,
     "metadata": {},
     "output_type": "execute_result"
    }
   ],
   "source": [
    "list(starmap(operator.mul, enumerate('albatroz', 3)))"
   ]
  },
  {
   "cell_type": "code",
   "execution_count": 65,
   "id": "2d743a8b",
   "metadata": {},
   "outputs": [
    {
     "data": {
      "text/plain": [
       "[5.0,\n",
       " 4.5,\n",
       " 3.6666666666666665,\n",
       " 4.75,\n",
       " 5.2,\n",
       " 5.333333333333333,\n",
       " 5.0,\n",
       " 4.375,\n",
       " 4.888888888888889,\n",
       " 4.5]"
      ]
     },
     "execution_count": 65,
     "metadata": {},
     "output_type": "execute_result"
    }
   ],
   "source": [
    "list(starmap(lambda a, b: b/a, enumerate(accumulate(sample), 1)))"
   ]
  },
  {
   "cell_type": "code",
   "execution_count": 66,
   "id": "daa27f40",
   "metadata": {},
   "outputs": [],
   "source": [
    "from itertools import chain, product, zip_longest"
   ]
  },
  {
   "cell_type": "code",
   "execution_count": 67,
   "id": "3b52a256",
   "metadata": {},
   "outputs": [
    {
     "data": {
      "text/plain": [
       "['A', 'B', 'C', 0, 1, 2]"
      ]
     },
     "execution_count": 67,
     "metadata": {},
     "output_type": "execute_result"
    }
   ],
   "source": [
    "list(chain('ABC', range(3)))"
   ]
  },
  {
   "cell_type": "code",
   "execution_count": 68,
   "id": "95a82367",
   "metadata": {},
   "outputs": [
    {
     "data": {
      "text/plain": [
       "[0, 'A', 1, 'B', 2, 'C']"
      ]
     },
     "execution_count": 68,
     "metadata": {},
     "output_type": "execute_result"
    }
   ],
   "source": [
    "#chain.from_iterable takes each item from the iterable, and chains them in sequence,\n",
    "#as long as each item is itself iterable\n",
    "list(chain.from_iterable(enumerate('ABC')))"
   ]
  },
  {
   "cell_type": "code",
   "execution_count": 69,
   "id": "20ac5026",
   "metadata": {},
   "outputs": [
    {
     "data": {
      "text/plain": [
       "[(0, 'A'), (1, 'B'), (2, 'C')]"
      ]
     },
     "execution_count": 69,
     "metadata": {},
     "output_type": "execute_result"
    }
   ],
   "source": [
    "list(enumerate('ABC'))"
   ]
  },
  {
   "cell_type": "code",
   "execution_count": 70,
   "id": "e0323712",
   "metadata": {},
   "outputs": [
    {
     "data": {
      "text/plain": [
       "[(0, 0), (0, 1), (0, 2), (1, 0), (1, 1), (1, 2), (2, 0), (2, 1), (2, 2)]"
      ]
     },
     "execution_count": 70,
     "metadata": {},
     "output_type": "execute_result"
    }
   ],
   "source": [
    "list(product(range(3), range(3))) #cartesian product"
   ]
  },
  {
   "cell_type": "code",
   "execution_count": 71,
   "id": "d54a986c",
   "metadata": {},
   "outputs": [
    {
     "data": {
      "text/plain": [
       "['spades', 'diamonds', 'hearts', 'clubs']"
      ]
     },
     "execution_count": 71,
     "metadata": {},
     "output_type": "execute_result"
    }
   ],
   "source": [
    "suits = 'spades diamonds hearts clubs'.split()\n",
    "suits"
   ]
  },
  {
   "cell_type": "code",
   "execution_count": 72,
   "id": "655e36c4",
   "metadata": {},
   "outputs": [
    {
     "data": {
      "text/plain": [
       "[('spades', 'A'),\n",
       " ('spades', 'K'),\n",
       " ('diamonds', 'A'),\n",
       " ('diamonds', 'K'),\n",
       " ('hearts', 'A'),\n",
       " ('hearts', 'K'),\n",
       " ('clubs', 'A'),\n",
       " ('clubs', 'K')]"
      ]
     },
     "execution_count": 72,
     "metadata": {},
     "output_type": "execute_result"
    }
   ],
   "source": [
    "list(product(suits, 'AK'))"
   ]
  },
  {
   "cell_type": "code",
   "execution_count": 73,
   "id": "7e178b70",
   "metadata": {},
   "outputs": [
    {
     "data": {
      "text/plain": [
       "[(0, 0), (0, 1), (0, 2), (1, 0), (1, 1), (1, 2), (2, 0), (2, 1), (2, 2)]"
      ]
     },
     "execution_count": 73,
     "metadata": {},
     "output_type": "execute_result"
    }
   ],
   "source": [
    "[(i, j) for i in range(3) for j in range(3)] #also cartesian product"
   ]
  },
  {
   "cell_type": "code",
   "execution_count": 74,
   "id": "12badebc",
   "metadata": {},
   "outputs": [
    {
     "data": {
      "text/plain": [
       "[('A', 0), ('B', 1), ('C', 2), (None, 3), (None, 4)]"
      ]
     },
     "execution_count": 74,
     "metadata": {},
     "output_type": "execute_result"
    }
   ],
   "source": [
    "list(zip_longest('ABC', range(5)))"
   ]
  },
  {
   "cell_type": "code",
   "execution_count": 75,
   "id": "21250e03",
   "metadata": {},
   "outputs": [
    {
     "data": {
      "text/plain": [
       "[('A', 0), ('B', 1), ('C', 2), ('?', 3), ('?', 4)]"
      ]
     },
     "execution_count": 75,
     "metadata": {},
     "output_type": "execute_result"
    }
   ],
   "source": [
    "list(zip_longest('ABC', range(5), fillvalue='?'))"
   ]
  },
  {
   "cell_type": "code",
   "execution_count": 76,
   "id": "58cfdf1f",
   "metadata": {},
   "outputs": [
    {
     "data": {
      "text/plain": [
       "[('A', 'A'),\n",
       " ('A', 'B'),\n",
       " ('A', 'C'),\n",
       " ('B', 'A'),\n",
       " ('B', 'B'),\n",
       " ('B', 'C'),\n",
       " ('C', 'A'),\n",
       " ('C', 'B'),\n",
       " ('C', 'C')]"
      ]
     },
     "execution_count": 76,
     "metadata": {},
     "output_type": "execute_result"
    }
   ],
   "source": [
    "list(product('ABC', repeat=2))"
   ]
  },
  {
   "cell_type": "code",
   "execution_count": 77,
   "id": "44a0f0d6",
   "metadata": {},
   "outputs": [
    {
     "data": {
      "text/plain": [
       "[(0, 0, 0),\n",
       " (0, 0, 1),\n",
       " (0, 1, 0),\n",
       " (0, 1, 1),\n",
       " (1, 0, 0),\n",
       " (1, 0, 1),\n",
       " (1, 1, 0),\n",
       " (1, 1, 1)]"
      ]
     },
     "execution_count": 77,
     "metadata": {},
     "output_type": "execute_result"
    }
   ],
   "source": [
    "list(product(range(2), repeat=3))"
   ]
  },
  {
   "cell_type": "code",
   "execution_count": 78,
   "id": "50ecab7d",
   "metadata": {},
   "outputs": [
    {
     "data": {
      "text/plain": [
       "[('A', 0, 'A', 0),\n",
       " ('A', 0, 'A', 1),\n",
       " ('A', 0, 'B', 0),\n",
       " ('A', 0, 'B', 1),\n",
       " ('A', 1, 'A', 0),\n",
       " ('A', 1, 'A', 1),\n",
       " ('A', 1, 'B', 0),\n",
       " ('A', 1, 'B', 1),\n",
       " ('B', 0, 'A', 0),\n",
       " ('B', 0, 'A', 1),\n",
       " ('B', 0, 'B', 0),\n",
       " ('B', 0, 'B', 1),\n",
       " ('B', 1, 'A', 0),\n",
       " ('B', 1, 'A', 1),\n",
       " ('B', 1, 'B', 0),\n",
       " ('B', 1, 'B', 1)]"
      ]
     },
     "execution_count": 78,
     "metadata": {},
     "output_type": "execute_result"
    }
   ],
   "source": [
    "list(product('AB', range(2), repeat=2))"
   ]
  },
  {
   "cell_type": "code",
   "execution_count": 79,
   "id": "ec0e4912",
   "metadata": {},
   "outputs": [],
   "source": [
    "from itertools import (combinations, \n",
    "                       combinations_with_replacement,\n",
    "                       cycle,\n",
    "                       pairwise,\n",
    "                       permutations,\n",
    "                       repeat)"
   ]
  },
  {
   "cell_type": "code",
   "execution_count": 80,
   "id": "5e470f08",
   "metadata": {},
   "outputs": [],
   "source": [
    "from itertools import cycle as c, pairwise as p"
   ]
  },
  {
   "cell_type": "code",
   "execution_count": 81,
   "id": "3eacdabe",
   "metadata": {},
   "outputs": [
    {
     "data": {
      "text/plain": [
       "['A', 'B', 'C', 'A', 'B', 'C', 'A']"
      ]
     },
     "execution_count": 81,
     "metadata": {},
     "output_type": "execute_result"
    }
   ],
   "source": [
    "cy = cycle('ABC')\n",
    "list(islice(cy, 7))"
   ]
  },
  {
   "cell_type": "code",
   "execution_count": 82,
   "id": "9e1c0349",
   "metadata": {},
   "outputs": [
    {
     "data": {
      "text/plain": [
       "[(0, 1), (1, 2), (2, 3), (3, 4), (4, 5), (5, 6)]"
      ]
     },
     "execution_count": 82,
     "metadata": {},
     "output_type": "execute_result"
    }
   ],
   "source": [
    "list(pairwise(range(7)))"
   ]
  },
  {
   "cell_type": "code",
   "execution_count": 83,
   "id": "37e4a0cd",
   "metadata": {},
   "outputs": [
    {
     "data": {
      "text/plain": [
       "[4, 4, 4, 4, 4]"
      ]
     },
     "execution_count": 83,
     "metadata": {},
     "output_type": "execute_result"
    }
   ],
   "source": [
    "rp = repeat(4, 5)\n",
    "list(rp)"
   ]
  },
  {
   "cell_type": "code",
   "execution_count": 84,
   "id": "b7969e21",
   "metadata": {},
   "outputs": [
    {
     "data": {
      "text/plain": [
       "[0, 5, 10, 15, 20, 25, 30, 35, 40, 45, 50]"
      ]
     },
     "execution_count": 84,
     "metadata": {},
     "output_type": "execute_result"
    }
   ],
   "source": [
    "list(map(operator.mul, range(11), repeat(5)))"
   ]
  },
  {
   "cell_type": "code",
   "execution_count": 85,
   "id": "b35ecb4d",
   "metadata": {},
   "outputs": [
    {
     "data": {
      "text/plain": [
       "[('A', 'B'), ('A', 'C'), ('B', 'C')]"
      ]
     },
     "execution_count": 85,
     "metadata": {},
     "output_type": "execute_result"
    }
   ],
   "source": [
    "list(combinations('ABC', 2))"
   ]
  },
  {
   "cell_type": "code",
   "execution_count": 86,
   "id": "20535cc9",
   "metadata": {},
   "outputs": [
    {
     "data": {
      "text/plain": [
       "[('A', 'A'), ('A', 'B'), ('A', 'C'), ('B', 'B'), ('B', 'C'), ('C', 'C')]"
      ]
     },
     "execution_count": 86,
     "metadata": {},
     "output_type": "execute_result"
    }
   ],
   "source": [
    "list(combinations_with_replacement('ABC', 2))"
   ]
  },
  {
   "cell_type": "code",
   "execution_count": 87,
   "id": "41e0bb3a",
   "metadata": {},
   "outputs": [
    {
     "data": {
      "text/plain": [
       "[('A', 'B'), ('A', 'C'), ('B', 'A'), ('B', 'C'), ('C', 'A'), ('C', 'B')]"
      ]
     },
     "execution_count": 87,
     "metadata": {},
     "output_type": "execute_result"
    }
   ],
   "source": [
    "list(permutations('ABC', 2))"
   ]
  },
  {
   "cell_type": "markdown",
   "id": "0c29320a",
   "metadata": {},
   "source": [
    "-------------"
   ]
  },
  {
   "cell_type": "code",
   "execution_count": 88,
   "id": "8c13ead9",
   "metadata": {},
   "outputs": [],
   "source": [
    "from itertools import groupby, tee"
   ]
  },
  {
   "cell_type": "code",
   "execution_count": 89,
   "id": "c00565bc",
   "metadata": {},
   "outputs": [
    {
     "data": {
      "text/plain": [
       "[('L', <itertools._grouper at 0x1eb04438be0>),\n",
       " ('A', <itertools._grouper at 0x1eb044380a0>),\n",
       " ('G', <itertools._grouper at 0x1eb04438b20>)]"
      ]
     },
     "execution_count": 89,
     "metadata": {},
     "output_type": "execute_result"
    }
   ],
   "source": [
    "list(groupby('LLLLAAGGG'))"
   ]
  },
  {
   "cell_type": "code",
   "execution_count": 90,
   "id": "b3978e00",
   "metadata": {},
   "outputs": [
    {
     "name": "stdout",
     "output_type": "stream",
     "text": [
      "L ['L', 'L', 'L', 'L']\n",
      "A ['A', 'A']\n",
      "G ['G', 'G', 'G']\n"
     ]
    }
   ],
   "source": [
    "for char, group in groupby('LLLLAAGGG'):\n",
    "    print(char, list(group))"
   ]
  },
  {
   "cell_type": "code",
   "execution_count": 91,
   "id": "b889e85d",
   "metadata": {},
   "outputs": [
    {
     "data": {
      "text/plain": [
       "['rat', 'bat', 'duck', 'bear', 'lion', 'eagle', 'shark', 'giraffe', 'dolphin']"
      ]
     },
     "execution_count": 91,
     "metadata": {},
     "output_type": "execute_result"
    }
   ],
   "source": [
    "animals = ['duck', 'eagle', 'rat', 'giraffe', 'bear', 'bat', 'dolphin', 'shark', 'lion']\n",
    "animals.sort(key=len)\n",
    "animals"
   ]
  },
  {
   "cell_type": "code",
   "execution_count": 92,
   "id": "2a8c03e8",
   "metadata": {},
   "outputs": [
    {
     "name": "stdout",
     "output_type": "stream",
     "text": [
      "3 ['rat', 'bat']\n",
      "4 ['duck', 'bear', 'lion']\n",
      "5 ['eagle', 'shark']\n",
      "7 ['giraffe', 'dolphin']\n"
     ]
    }
   ],
   "source": [
    "for length, group in groupby(animals, len):\n",
    "    print(length, list(group))"
   ]
  },
  {
   "cell_type": "code",
   "execution_count": 93,
   "id": "8654acc5",
   "metadata": {},
   "outputs": [
    {
     "name": "stdout",
     "output_type": "stream",
     "text": [
      "7 ['dolphin', 'giraffe']\n",
      "5 ['shark', 'eagle']\n",
      "4 ['lion', 'bear', 'duck']\n",
      "3 ['bat', 'rat']\n"
     ]
    }
   ],
   "source": [
    "for length, group in groupby(reversed(animals), len):\n",
    "    print(length, list(group))"
   ]
  },
  {
   "cell_type": "code",
   "execution_count": 94,
   "id": "f3a22b27",
   "metadata": {},
   "outputs": [
    {
     "data": {
      "text/plain": [
       "[<itertools._tee at 0x1eb04473140>,\n",
       " <itertools._tee at 0x1eb04473240>,\n",
       " <itertools._tee at 0x1eb044840c0>]"
      ]
     },
     "execution_count": 94,
     "metadata": {},
     "output_type": "execute_result"
    }
   ],
   "source": [
    "list(tee('ABC', 3))"
   ]
  },
  {
   "cell_type": "code",
   "execution_count": 95,
   "id": "268611ae",
   "metadata": {},
   "outputs": [],
   "source": [
    "g1, g2 = tee('ABC')\n",
    "n = next"
   ]
  },
  {
   "cell_type": "code",
   "execution_count": 96,
   "id": "d20960db",
   "metadata": {},
   "outputs": [
    {
     "data": {
      "text/plain": [
       "('A', 'A', 'B', ['B', 'C'], ['C'])"
      ]
     },
     "execution_count": 96,
     "metadata": {},
     "output_type": "execute_result"
    }
   ],
   "source": [
    "n(g1), n(g2), n(g2), list(g1), list(g2)"
   ]
  },
  {
   "cell_type": "code",
   "execution_count": 97,
   "id": "44ffe7d7",
   "metadata": {},
   "outputs": [
    {
     "data": {
      "text/plain": [
       "[('A', 'A'), ('B', 'B'), ('C', 'C')]"
      ]
     },
     "execution_count": 97,
     "metadata": {},
     "output_type": "execute_result"
    }
   ],
   "source": [
    "list(zip(*tee('ABC')))"
   ]
  },
  {
   "cell_type": "code",
   "execution_count": 98,
   "id": "534b89cb",
   "metadata": {},
   "outputs": [
    {
     "data": {
      "text/plain": [
       "(True, 8)"
      ]
     },
     "execution_count": 98,
     "metadata": {},
     "output_type": "execute_result"
    }
   ],
   "source": [
    "g = (n for n in [0, .0, 7, 8]) # generator expression\n",
    "any(g), next(g) #as any iterates over g looking for truthy values it will also change its state"
   ]
  },
  {
   "cell_type": "code",
   "execution_count": 99,
   "id": "4ac1c138",
   "metadata": {},
   "outputs": [],
   "source": [
    "def chain(*iterables):\n",
    "    for it in iterables:\n",
    "        for i in it:\n",
    "            yield i\n",
    "            \n",
    "def chain(*iterables):\n",
    "    for i in iterables:\n",
    "        yield from i"
   ]
  },
  {
   "cell_type": "code",
   "execution_count": 100,
   "id": "ff9df5bf",
   "metadata": {},
   "outputs": [
    {
     "data": {
      "text/plain": [
       "['A', 'B', 'C', 0, 1, 2]"
      ]
     },
     "execution_count": 100,
     "metadata": {},
     "output_type": "execute_result"
    }
   ],
   "source": [
    "sr = 'ABC', range(3)\n",
    "\n",
    "list(chain(*sr))"
   ]
  },
  {
   "cell_type": "code",
   "execution_count": 101,
   "id": "83248dcc",
   "metadata": {},
   "outputs": [
    {
     "data": {
      "text/plain": [
       "[1, 1.1, 1.2, 2]"
      ]
     },
     "execution_count": 101,
     "metadata": {},
     "output_type": "execute_result"
    }
   ],
   "source": [
    "def sub_gen():\n",
    "    yield 1.1\n",
    "    yield 1.2\n",
    "\n",
    "def gen():\n",
    "    yield 1\n",
    "    for i in sub_gen():\n",
    "        yield i\n",
    "    yield 2\n",
    "    \n",
    "    \n",
    "list(gen())"
   ]
  },
  {
   "cell_type": "code",
   "execution_count": 102,
   "id": "24c46f07",
   "metadata": {},
   "outputs": [
    {
     "data": {
      "text/plain": [
       "[1, 1.1, 1.2, 2]"
      ]
     },
     "execution_count": 102,
     "metadata": {},
     "output_type": "execute_result"
    }
   ],
   "source": [
    "#the yield from expression allows a generator to delegate work to a subgenerator\n",
    "\n",
    "def sub_gen():\n",
    "    yield 1.1\n",
    "    yield 1.2\n",
    "\n",
    "def gen():\n",
    "    yield 1\n",
    "    yield from sub_gen()\n",
    "    yield 2\n",
    "\n",
    "list(gen())"
   ]
  },
  {
   "cell_type": "markdown",
   "id": "076a02ab",
   "metadata": {},
   "source": [
    "### Traversing a Tree"
   ]
  },
  {
   "cell_type": "code",
   "execution_count": 103,
   "id": "04e9bb44",
   "metadata": {},
   "outputs": [
    {
     "name": "stdout",
     "output_type": "stream",
     "text": [
      "BaseException\n"
     ]
    }
   ],
   "source": [
    "def tree(cls):\n",
    "    yield cls.__name__\n",
    "    \n",
    "def display(cls):\n",
    "    for cls_name in tree(cls):\n",
    "        print(cls_name)\n",
    "\n",
    "display(BaseException)    "
   ]
  },
  {
   "cell_type": "code",
   "execution_count": 104,
   "id": "18e49646",
   "metadata": {},
   "outputs": [
    {
     "name": "stdout",
     "output_type": "stream",
     "text": [
      "BaseException\n",
      "    BaseExceptionGroup\n",
      "    Exception\n",
      "    GeneratorExit\n",
      "    KeyboardInterrupt\n",
      "    SystemExit\n",
      "    CancelledError\n",
      "    AbortThread\n"
     ]
    }
   ],
   "source": [
    "def tree(cls):\n",
    "    yield cls.__name__, 0\n",
    "    for sub_cls in cls.__subclasses__():\n",
    "        yield sub_cls.__name__, 1\n",
    "        \n",
    "def display(cls):\n",
    "    for cls_name, level in tree(cls):\n",
    "        indent = ' ' * 4 * level\n",
    "        print('{}{}'.format(indent, cls_name))\n",
    "\n",
    "display(BaseException)"
   ]
  },
  {
   "cell_type": "code",
   "execution_count": 105,
   "id": "0ae1ee43",
   "metadata": {},
   "outputs": [],
   "source": [
    "def tree(cls):\n",
    "    yield cls.__name__, 0\n",
    "    yield from sub_tree(cls)\n",
    "    \n",
    "def sub_tree(cls):\n",
    "    for sub_cls in cls.__subclasses__():\n",
    "        yield sub_cls.__name__, 1\n",
    "        for sub_sub_cls in sub_cls.__subclasses__():\n",
    "            yield sub_sub_cls.__name__, 2\n",
    "            \n",
    "def display(cls):\n",
    "    for cls_name, level in tree(cls):\n",
    "        indent = ' ' * 4 * level\n",
    "        print('{}{}'.format(indent, cls_name))\n",
    "        \n",
    "#display(BaseException)"
   ]
  },
  {
   "cell_type": "code",
   "execution_count": 106,
   "id": "e2163e42",
   "metadata": {},
   "outputs": [],
   "source": [
    "def tree(cls):\n",
    "    yield cls.__name__, 0\n",
    "    yield from sub_tree(cls)\n",
    "    \n",
    "def sub_tree(cls):\n",
    "    for sub_cls in cls.__subclasses__():\n",
    "        yield sub_cls.__name__, 1\n",
    "        for sub_sub_cls in sub_cls.__subclasses__():\n",
    "            yield sub_sub_cls.__name__, 2\n",
    "            for sub_sub_sub_cls in sub_sub_cls.__subclasses__():\n",
    "                yield sub_sub_sub_cls.__name__, 3\n",
    "            \n",
    "def display(cls):\n",
    "    for cls_name, level in tree(cls):\n",
    "        indent = ' ' * 4 * level\n",
    "        print('{}{}'.format(indent, cls_name))\n",
    "\n",
    "#display(BaseException)"
   ]
  },
  {
   "cell_type": "code",
   "execution_count": 107,
   "id": "40e833f1",
   "metadata": {},
   "outputs": [],
   "source": [
    "#can traverse trees of any depth\n",
    "\n",
    "def tree(cls):\n",
    "    yield cls.__name__, 0\n",
    "    yield from sub_tree(cls, 1)\n",
    "    \n",
    "def sub_tree(cls, level):\n",
    "    for sub_cls in cls.__subclasses__():\n",
    "        yield sub_cls.__name__, level\n",
    "        yield from sub_tree(sub_cls, level+1)\n",
    "            \n",
    "def display(cls):\n",
    "    for cls_name, level in tree(cls):\n",
    "        indent = ' ' * 4 * level\n",
    "        print('{}{}'.format(indent, cls_name))\n",
    "\n",
    "#display(BaseException)"
   ]
  },
  {
   "cell_type": "code",
   "execution_count": 108,
   "id": "d08a6c11",
   "metadata": {},
   "outputs": [
    {
     "name": "stdout",
     "output_type": "stream",
     "text": [
      "ArithmeticError\n",
      "    FloatingPointError\n",
      "    OverflowError\n",
      "    ZeroDivisionError\n",
      "        DivisionByZero\n",
      "        DivisionUndefined\n",
      "    DecimalException\n",
      "        Clamped\n",
      "        Rounded\n",
      "            Underflow\n",
      "            Overflow\n",
      "        Inexact\n",
      "            Underflow\n",
      "            Overflow\n",
      "        Subnormal\n",
      "            Underflow\n",
      "        DivisionByZero\n",
      "        FloatOperation\n",
      "        InvalidOperation\n",
      "            ConversionSyntax\n",
      "            DivisionImpossible\n",
      "            DivisionUndefined\n",
      "            InvalidContext\n"
     ]
    }
   ],
   "source": [
    "def tree(cls, level=0):\n",
    "    yield cls.__name__, level\n",
    "    for sub_cls in cls.__subclasses__():\n",
    "        yield from tree(sub_cls, level + 1)\n",
    "\n",
    "def display(directory):\n",
    "    for item_name, level in tree(directory):\n",
    "        indent = ' ' * 4 * level\n",
    "        print('{}{}'.format(indent, item_name))\n",
    "        \n",
    "        \n",
    "#display(BaseException)\n",
    "display(ArithmeticError)"
   ]
  },
  {
   "cell_type": "code",
   "execution_count": 109,
   "id": "93ad80d1",
   "metadata": {},
   "outputs": [
    {
     "name": "stdout",
     "output_type": "stream",
     "text": [
      "Collection\n",
      "    Set\n",
      "        MutableSet\n",
      "        KeysView\n",
      "            _OrderedDictKeysView\n",
      "        ItemsView\n",
      "            _OrderedDictItemsView\n",
      "    Mapping\n",
      "        MutableMapping\n",
      "            _Environ\n",
      "            ChainMap\n",
      "            UserDict\n",
      "            WeakValueDictionary\n",
      "            WeakKeyDictionary\n",
      "            SignalDict\n",
      "            RawConfigParser\n",
      "                ConfigParser\n",
      "                    SafeConfigParser\n",
      "                    CaseSensitiveConfigParser\n",
      "            SectionProxy\n",
      "            ConverterMapping\n",
      "            PickleShareDB\n",
      "        _SelectorMapping\n",
      "        UsedNamesMapping\n",
      "    ValuesView\n",
      "        _OrderedDictValuesView\n",
      "    Sequence\n",
      "        ByteString\n",
      "        MutableSequence\n",
      "            UserList\n",
      "        UserString\n",
      "        _PathParents\n",
      "        numeric_range\n",
      "        SequenceView\n"
     ]
    }
   ],
   "source": [
    "import collections as c\n",
    "display(c.abc.Collection)"
   ]
  },
  {
   "cell_type": "code",
   "execution_count": 110,
   "id": "488561e5",
   "metadata": {},
   "outputs": [
    {
     "name": "stdout",
     "output_type": "stream",
     "text": [
      "vanilla_javascript\n",
      "    .git\n",
      "        COMMIT_EDITMSG\n",
      "        config\n",
      "        description\n",
      "        FETCH_HEAD\n",
      "        HEAD\n",
      "        hooks\n",
      "            applypatch-msg.sample\n",
      "            commit-msg.sample\n",
      "            fsmonitor-watchman.sample\n",
      "            post-update.sample\n",
      "            pre-applypatch.sample\n",
      "            pre-commit.sample\n",
      "            pre-merge-commit.sample\n",
      "            pre-push.sample\n",
      "            pre-rebase.sample\n",
      "            pre-receive.sample\n",
      "            prepare-commit-msg.sample\n",
      "            push-to-checkout.sample\n",
      "            sendemail-validate.sample\n",
      "            update.sample\n",
      "        index\n",
      "        info\n",
      "            exclude\n",
      "        logs\n",
      "            HEAD\n",
      "            refs\n",
      "                heads\n",
      "                    main\n",
      "                remotes\n",
      "                    origin\n",
      "                        HEAD\n",
      "                        main\n",
      "        objects\n",
      "            00\n",
      "                07bb9cd6e7de7aa35cec70d809d3ca6813e401\n",
      "                7c62944379a2d8997a6aafde305312acb49da0\n",
      "            01\n",
      "                f36c3c65415496a6ac7f80758f37b7e4a15409\n",
      "            02\n",
      "                4f00a557022f3ac83b4ef967d79ec7f0ced305\n",
      "            0b\n",
      "                23e150f071c73a3fcd52e2576c04606d69dcd9\n",
      "            0d\n",
      "                4e0cb8d156fe5e162196d2ded4f1cf036dd63c\n",
      "                683bac31cbda8cf96bb942ecb7d0eca1a26185\n",
      "            10\n",
      "                8a17ef030c4e3b28570b411c8a3d98ed3b8b79\n",
      "                949b6bf10166b2c57da5fc84dab23d9d93c2cd\n",
      "            11\n",
      "                56c8e8ec9a44d1eb0caedc1fc1a645f302df73\n",
      "                9d3afa562d536837b56d2786b9545558337779\n",
      "                bc085a80aa9278d6a2ad5ac7e55a6dc7f21a90\n",
      "            12\n",
      "                29631cb2d27849925e3983e5a5477c3fd0b5fa\n",
      "            14\n",
      "                4bef36061c53040ec863f38c66d99bef688753\n",
      "            16\n",
      "                6b5ce7f9ca0cff431a504fc476c4f1d0767958\n",
      "            1d\n",
      "                3fa3a3d9b65ff0a5c9e61cd842d80fd2566462\n",
      "            23\n",
      "                ff9d6e857f6f0834ef96f5aab7ed70f8e2b02f\n",
      "            28\n",
      "                80e89b60152fbb13ebeb76340023b3e0d03791\n",
      "            29\n",
      "                53c21ee1a7e24ca7aa989471c24803dfec247a\n",
      "            2c\n",
      "                0e779139accd9a49cf811b2a1589d3e3126da2\n",
      "            2d\n",
      "                f9a2c9cd332dc4f5568864cb153d762b540bd7\n",
      "            2f\n",
      "                a9e2405884764e784f4c6e80a72a88084901fb\n",
      "            31\n",
      "                8edf96e3dbad96d4ca53f6300c251aa8233c55\n",
      "            32\n",
      "                99ea861e2706404c5b728d5feb46f993be23a3\n",
      "            38\n",
      "                8151cafa43da642e169cd621e83882e368bf8b\n",
      "            3b\n",
      "                15a0cf0d8e94f466f1e1d1197770c46d7c0898\n",
      "            3d\n",
      "                1cdc28e866f62295cf80da1a16922fda688c29\n",
      "            3e\n",
      "                f5cb270368bef2bc01b3fa1aa9aa6d470fe867\n",
      "            3f\n",
      "                f817c620576584ec9785bcc67e63304a0c304e\n",
      "            42\n",
      "                8b3d3f79d692eb441ba6b0fb9f81dbbac079f7\n",
      "            45\n",
      "                2438ee6de0dea36c836deef4d2d71c7a3ec30f\n",
      "            46\n",
      "                5fdcb9438d3366853f0e217ec32f78cba7fdab\n",
      "            49\n",
      "                a5a487947cdd20ec58e391d88ee4823950a26c\n",
      "                af0f498d62637dc1f0c787c081da17d1b4eb25\n",
      "            4b\n",
      "                bf803a4a6a819a16af45600069bb1059b820fe\n",
      "            4f\n",
      "                9c5435ab74a907f34a33bb9cd2e96fd70b7a22\n",
      "            51\n",
      "                022ab5d1a1263ce0df1f5511697eac1373c2cb\n",
      "            54\n",
      "                209d2ed1ac7215a628dd014cb37787117d3f40\n",
      "            58\n",
      "                c626e7d2266159d5e290f14b63d7243af36f45\n",
      "            5a\n",
      "                61dbcb0d264a5f4d319adcaf4d520230451b3d\n",
      "            5c\n",
      "                7f9224021e7834712e4f99f4b0c227fae9d906\n",
      "            5f\n",
      "                89af72d0c528ac13e50db49e9d6dfcc674825c\n",
      "            62\n",
      "                b0483a61ed95f006c4f0d2dc70e56c3ec6b5ce\n",
      "            65\n",
      "                b85410ee6164d49eab4fe4df379f1881551c3b\n",
      "            66\n",
      "                0992b19a5133f98487dd758552922337edf2c7\n",
      "            67\n",
      "                69b71ed451d4a9f3d2565fb6e6b82e7bf8b61c\n",
      "            6a\n",
      "                c5b856eed2c3ef7ef4b2f6c1981c4b2528b13f\n",
      "            6d\n",
      "                4343215b14b6d0b831f8f12535438fd981710b\n",
      "                b82d852a2f738ce6b85762de2c37c0643ce0b0\n",
      "            75\n",
      "                49e2d724eebccc246ee80578ce08fc75bd18e0\n",
      "                b3d511a97999661fcb9e2101d382724a5d2362\n",
      "            78\n",
      "                dc5baaa49482e4455654897c371d800c1ee71b\n",
      "            7a\n",
      "                06633a9e30b5e2f55ead2da3b18e84f8bcd009\n",
      "            7d\n",
      "                1c21b060c4381ad7d22a9b18f3cef6e0adcec8\n",
      "                8c49e3194dfae8f0eff55dc42ed2318a135782\n",
      "            7e\n",
      "                5ef2e275d04397f1e0745d3d24bb60fd25e3c8\n",
      "                8eabaa3665d15e8ccbbf8f5b35451d6e459e05\n",
      "            82\n",
      "                cde4c4c074839438d3582bc681d40a71ac9eac\n",
      "            83\n",
      "                a17e1e9012133d084c512613e357217c181a13\n",
      "            84\n",
      "                b4a0810b71c05dab143fb08023d26556cbf11b\n",
      "                ebe2b2c9fb140140ecef8cdfe2c4735121697e\n",
      "            87\n",
      "                23cf36133cfefa793ca47a4b85b06f8743e14a\n",
      "            8d\n",
      "                5625d5dd5d3867027f74ab25750654f5bb7abe\n",
      "                c12e8b15eb41561acfc2062729f75e4ed0abe8\n",
      "            8f\n",
      "                0a046ecc5928253de763548a77e53f6e52cc13\n",
      "            90\n",
      "                7f2f1f0393717d93ae25cbc5f001d7fded3a24\n",
      "                eb1598852d839545abc1a5ccf8da4754e95560\n",
      "            91\n",
      "                699f060ba1fc4a6f64aa82765e73ff2ba7484b\n",
      "            95\n",
      "                fd3692c4ef82915c0e23126d62b19aa5b1dc14\n",
      "            97\n",
      "                4029a4e0d5c67902c2694c00bfecc514019b82\n",
      "            98\n",
      "                d878e7bac351556916c25b4ad189a926c1135c\n",
      "            99\n",
      "                2cbdbcefaab01cedd35a20e1d82d1e964d2ce5\n",
      "            9d\n",
      "                3fdbe216bd355856c51eb559b7485c0210d564\n",
      "                e84d07905a1e341bf16b3cfbd626fe0d7684ce\n",
      "            9f\n",
      "                d341432e7e6b9b7591de4c5b942897a3d32868\n",
      "            a1\n",
      "                7cb68cd700b5ab990ccb28e5e8fb47ec869a9f\n",
      "            a2\n",
      "                bedfebd0e07aece9c0c7252f75d84eb4ba480e\n",
      "                d996d0e1d0b8d475db663ec6ed1f3e5bb606d0\n",
      "            a3\n",
      "                107233a8084ddc4cacc0ed20c4bc7eba08328d\n",
      "                557a99e9fc071a40299acb021cadab16ae2a29\n",
      "                de0d5bc56de4571ac2244ce1f401d40405983d\n",
      "            ab\n",
      "                17e88bf3eafe1e50a96f30a0529b739a8c3c37\n",
      "                bab61cf04512137bcbc3afb94478fb95897d6e\n",
      "            ac\n",
      "                7d6a809ece044fa184c681284716256087721b\n",
      "            ae\n",
      "                ce4d083ad3ccc07df3c2277f3259757203420c\n",
      "            af\n",
      "                91555b6db57f505ec596254f909cfbd96b6dc8\n",
      "            b5\n",
      "                38af7af45ee3df140ae8b10040794155dc0402\n",
      "            b6\n",
      "                8b342a7dfa9867588064dcb5d3c6816dc6982e\n",
      "            b7\n",
      "                d65baf7bd504c1837601d8895ecaabb4e6f729\n",
      "            b8\n",
      "                2a85c070de6e0560ffedcc15b8fdde27dc53c8\n",
      "                5a27190531c118589f69af50e1fd95861f10f3\n",
      "            ba\n",
      "                c42707267141980576e6d5754cceccc014d995\n",
      "            bb\n",
      "                58c3e9b5bdcf3ef4c01dbdf861c002f1050caf\n",
      "            be\n",
      "                9d0c7c1581cedae8f2898ad8acd7d55236af69\n",
      "            cd\n",
      "                8c2ad5ed6fd976d0d1dcd92da74d0466030067\n",
      "                fafbd63e7052912a5bed2d7bdd9231c534e0e5\n",
      "            cf\n",
      "                e3c5b1305544f8bd2c773366e8b7cfb661665a\n",
      "            d0\n",
      "                ae2bdd2124667ed0c1f50e1d99da3a0ca7ed99\n",
      "            d4\n",
      "                22b83026800aaa0711cd0d11f66a417e0f24b9\n",
      "                3ace3a22b3fef3a085700f1cc1e2abe61bf610\n",
      "                83d06ce8fbb177dc3099e9d42703414b99b0d9\n",
      "                cd2712af7f69671481c335567ae56f8ec4ad59\n",
      "            d5\n",
      "                24123f86f57a6e5c585ce5ff86521372fe28dc\n",
      "            d9\n",
      "                e6626526f59de11e478a389fe3761d5406776b\n",
      "                e85171a3babf2eb44b93571e28727618485a1b\n",
      "            db\n",
      "                daa0fc7c626255cff19f8a2b95e53978717679\n",
      "            e0\n",
      "                60d07627fa72e287f006634a5f8542554aef9e\n",
      "            e4\n",
      "                d32e17a88df435e5e9a4228b77d2b2abe90b4b\n",
      "            e6\n",
      "                9de29bb2d1d6434b8b29ae775ad8c2e48c5391\n",
      "                b24c3a0bfa404caaf7c456562267fc01d5d576\n",
      "            e7\n",
      "                ac75ff5879a7fe091f64a491fa60b048c3df77\n",
      "            e8\n",
      "                bf6a5e77857daaff5235a192f1e58d06ceb273\n",
      "                da8d3535c2427a444fdd81d35ff75f184d9520\n",
      "            e9\n",
      "                bad8d76364c4fbe27710c2f055fdb8ef5d6ec0\n",
      "                cdfcdb5fab06525f1beda97bfd495704ec7a99\n",
      "            f1\n",
      "                8e4266de4282e293ba2ef836f0647f82fcc1b0\n",
      "            f3\n",
      "                ff549c24e49980d81b7050b7ece8e529ca41e2\n",
      "            f4\n",
      "                6d09e3f4f889ef7d2300e7db46cbdaad82937b\n",
      "                e09fc9c7edaa462b9a75a9111d3dea4c946972\n",
      "            f8\n",
      "                3fcdea2b36d04c0cd5169157f7b3b591d272b9\n",
      "            fa\n",
      "                f92c9ab49cf75de27318933390480b7828534f\n",
      "            fb\n",
      "                1cbfd0f431c2ce8a5c929b5e409777fa4d0d42\n",
      "            fd\n",
      "                c2e2517ef10e0a843a0b5a4a22631d9341951b\n",
      "            ff\n",
      "                4f6be60ddc73fc8946978c10af3908ff88c53e\n",
      "            info\n",
      "            pack\n",
      "                pack-32a2fe781413506706ccc624e0da9a05ce244524.idx\n",
      "                pack-32a2fe781413506706ccc624e0da9a05ce244524.pack\n",
      "                pack-32a2fe781413506706ccc624e0da9a05ce244524.rev\n",
      "        ORIG_HEAD\n",
      "        packed-refs\n",
      "        refs\n",
      "            heads\n",
      "                main\n",
      "            remotes\n",
      "                origin\n",
      "                    HEAD\n",
      "                    main\n",
      "            tags\n",
      "    hallo\n",
      "        another_example\n",
      "            code.js\n",
      "        cellular_automata\n",
      "            cellular_automata.html\n",
      "            code.js\n",
      "            game_of_life.html\n",
      "            game_of_life.js\n",
      "        code.js\n",
      "        i_dont_know\n",
      "            code.js\n",
      "            index.html\n",
      "        regular_expr.js\n",
      "        template.html\n",
      "    Konkrete_Mathematik\n",
      "        .ipynb_checkpoints\n",
      "            Untitled-checkpoint.ipynb\n",
      "        canvas.py\n",
      "        homog.py\n",
      "        Konkrete Mathematik.pdf\n",
      "        LIESMICH.pdf\n",
      "        Loesungen.pdf\n",
      "        matrices.py\n",
      "        plot.py\n",
      "        rowEchelon.py\n",
      "        simulate.py\n",
      "        smiley.py\n",
      "        Untitled.ipynb\n",
      "        vectors.py\n",
      "        __pycache__\n",
      "            canvas.cpython-311.pyc\n",
      "            matrices.cpython-311.pyc\n",
      "            vectors.cpython-311.pyc\n",
      "    p5\n",
      "        code.js\n",
      "        code2.js\n",
      "        index.html\n",
      "        p5.js\n"
     ]
    }
   ],
   "source": [
    "import os\n",
    "\n",
    "def tree(directory, level=0):\n",
    "    yield directory, level\n",
    "    if os.path.isdir(directory): \n",
    "        for item in os.listdir(directory):\n",
    "            item_path = os.path.join(directory, item)\n",
    "            yield from tree(item_path, level + 1)\n",
    "\n",
    "def display(directory):\n",
    "    for item_name, level in tree(directory):\n",
    "        indent = ' ' * 4 * level\n",
    "        print('{}{}'.format(indent, os.path.basename(item_name)))\n",
    "\n",
    "        \n",
    "#traverses directory path \n",
    "display(r'C:\\Users\\jensm\\Desktop\\local\\GitHub\\pycharm_projects\\vanilla_javascript')"
   ]
  },
  {
   "cell_type": "code",
   "execution_count": 111,
   "id": "c912017f",
   "metadata": {},
   "outputs": [
    {
     "data": {
      "text/plain": [
       "{'DivisionByZero': None, 'DivisionUndefined': None}"
      ]
     },
     "execution_count": 111,
     "metadata": {},
     "output_type": "execute_result"
    }
   ],
   "source": [
    "def tree_to_dict(cls):\n",
    "    subclasses = cls.__subclasses__()\n",
    "    if not subclasses:\n",
    "        return {cls.__name__: None}\n",
    "    else:\n",
    "        tree_dict = {cls.__name__: {}}\n",
    "        for sub_cls in subclasses:\n",
    "            tree_dict[cls.__name__].update(tree_to_dict(sub_cls))\n",
    "        return tree_dict\n",
    "\n",
    "\n",
    "dict1 = tree_to_dict(BaseException)\n",
    "dict1['BaseException']['Exception']['ArithmeticError']['ZeroDivisionError']"
   ]
  },
  {
   "cell_type": "code",
   "execution_count": 112,
   "id": "45b8cb12",
   "metadata": {},
   "outputs": [],
   "source": [
    "import builtins, types"
   ]
  },
  {
   "cell_type": "code",
   "execution_count": 113,
   "id": "2742d98e",
   "metadata": {
    "scrolled": false
   },
   "outputs": [],
   "source": [
    "#builtins.object.__subclasses__()"
   ]
  },
  {
   "cell_type": "code",
   "execution_count": 114,
   "id": "2ec03ea3",
   "metadata": {},
   "outputs": [
    {
     "data": {
      "text/plain": [
       "['AsyncGeneratorType',\n",
       " 'BuiltinFunctionType',\n",
       " 'BuiltinMethodType',\n",
       " 'CellType',\n",
       " 'ClassMethodDescriptorType',\n",
       " 'CodeType',\n",
       " 'CoroutineType',\n",
       " 'DynamicClassAttribute',\n",
       " 'EllipsisType',\n",
       " 'FrameType',\n",
       " 'FunctionType',\n",
       " 'GeneratorType',\n",
       " 'GenericAlias',\n",
       " 'GetSetDescriptorType',\n",
       " 'LambdaType',\n",
       " 'MappingProxyType',\n",
       " 'MemberDescriptorType',\n",
       " 'MethodDescriptorType',\n",
       " 'MethodType',\n",
       " 'MethodWrapperType',\n",
       " 'ModuleType',\n",
       " 'NoneType',\n",
       " 'NotImplementedType',\n",
       " 'SimpleNamespace',\n",
       " 'TracebackType',\n",
       " 'UnionType',\n",
       " 'WrapperDescriptorType',\n",
       " '_GeneratorWrapper',\n",
       " '__all__',\n",
       " '__builtins__',\n",
       " '__cached__',\n",
       " '__doc__',\n",
       " '__file__',\n",
       " '__loader__',\n",
       " '__name__',\n",
       " '__package__',\n",
       " '__spec__',\n",
       " '_calculate_meta',\n",
       " '_cell_factory',\n",
       " 'coroutine',\n",
       " 'new_class',\n",
       " 'prepare_class',\n",
       " 'resolve_bases']"
      ]
     },
     "execution_count": 114,
     "metadata": {},
     "output_type": "execute_result"
    }
   ],
   "source": [
    "dir(types)"
   ]
  },
  {
   "cell_type": "code",
   "execution_count": 115,
   "id": "81d5cdbc",
   "metadata": {},
   "outputs": [
    {
     "data": {
      "text/plain": [
       "['ArithmeticError',\n",
       " 'AssertionError',\n",
       " 'AttributeError',\n",
       " 'BaseException',\n",
       " 'BaseExceptionGroup',\n",
       " 'BlockingIOError',\n",
       " 'BrokenPipeError',\n",
       " 'BufferError',\n",
       " 'BytesWarning',\n",
       " 'ChildProcessError',\n",
       " 'ConnectionAbortedError',\n",
       " 'ConnectionError',\n",
       " 'ConnectionRefusedError',\n",
       " 'ConnectionResetError',\n",
       " 'DeprecationWarning',\n",
       " 'EOFError',\n",
       " 'Ellipsis',\n",
       " 'EncodingWarning',\n",
       " 'EnvironmentError',\n",
       " 'Exception',\n",
       " 'ExceptionGroup',\n",
       " 'False',\n",
       " 'FileExistsError',\n",
       " 'FileNotFoundError',\n",
       " 'FloatingPointError',\n",
       " 'FutureWarning',\n",
       " 'GeneratorExit',\n",
       " 'IOError',\n",
       " 'ImportError',\n",
       " 'ImportWarning',\n",
       " 'IndentationError',\n",
       " 'IndexError',\n",
       " 'InterruptedError',\n",
       " 'IsADirectoryError',\n",
       " 'KeyError',\n",
       " 'KeyboardInterrupt',\n",
       " 'LookupError',\n",
       " 'MemoryError',\n",
       " 'ModuleNotFoundError',\n",
       " 'NameError',\n",
       " 'None',\n",
       " 'NotADirectoryError',\n",
       " 'NotImplemented',\n",
       " 'NotImplementedError',\n",
       " 'OSError',\n",
       " 'OverflowError',\n",
       " 'PendingDeprecationWarning',\n",
       " 'PermissionError',\n",
       " 'ProcessLookupError',\n",
       " 'RecursionError',\n",
       " 'ReferenceError',\n",
       " 'ResourceWarning',\n",
       " 'RuntimeError',\n",
       " 'RuntimeWarning',\n",
       " 'StopAsyncIteration',\n",
       " 'StopIteration',\n",
       " 'SyntaxError',\n",
       " 'SyntaxWarning',\n",
       " 'SystemError',\n",
       " 'SystemExit',\n",
       " 'TabError',\n",
       " 'TimeoutError',\n",
       " 'True',\n",
       " 'TypeError',\n",
       " 'UnboundLocalError',\n",
       " 'UnicodeDecodeError',\n",
       " 'UnicodeEncodeError',\n",
       " 'UnicodeError',\n",
       " 'UnicodeTranslateError',\n",
       " 'UnicodeWarning',\n",
       " 'UserWarning',\n",
       " 'ValueError',\n",
       " 'Warning',\n",
       " 'WindowsError',\n",
       " 'ZeroDivisionError',\n",
       " '__IPYTHON__',\n",
       " '__build_class__',\n",
       " '__debug__',\n",
       " '__doc__',\n",
       " '__import__',\n",
       " '__loader__',\n",
       " '__name__',\n",
       " '__package__',\n",
       " '__spec__',\n",
       " 'abs',\n",
       " 'aiter',\n",
       " 'all',\n",
       " 'anext',\n",
       " 'any',\n",
       " 'ascii',\n",
       " 'bin',\n",
       " 'bool',\n",
       " 'breakpoint',\n",
       " 'bytearray',\n",
       " 'bytes',\n",
       " 'callable',\n",
       " 'chr',\n",
       " 'classmethod',\n",
       " 'compile',\n",
       " 'complex',\n",
       " 'copyright',\n",
       " 'credits',\n",
       " 'delattr',\n",
       " 'dict',\n",
       " 'dir',\n",
       " 'display',\n",
       " 'divmod',\n",
       " 'enumerate',\n",
       " 'eval',\n",
       " 'exec',\n",
       " 'execfile',\n",
       " 'filter',\n",
       " 'float',\n",
       " 'format',\n",
       " 'frozenset',\n",
       " 'get_ipython',\n",
       " 'getattr',\n",
       " 'globals',\n",
       " 'hasattr',\n",
       " 'hash',\n",
       " 'help',\n",
       " 'hex',\n",
       " 'id',\n",
       " 'input',\n",
       " 'int',\n",
       " 'isinstance',\n",
       " 'issubclass',\n",
       " 'iter',\n",
       " 'len',\n",
       " 'license',\n",
       " 'list',\n",
       " 'locals',\n",
       " 'map',\n",
       " 'max',\n",
       " 'memoryview',\n",
       " 'min',\n",
       " 'next',\n",
       " 'object',\n",
       " 'oct',\n",
       " 'open',\n",
       " 'ord',\n",
       " 'pow',\n",
       " 'print',\n",
       " 'property',\n",
       " 'range',\n",
       " 'repr',\n",
       " 'reversed',\n",
       " 'round',\n",
       " 'runfile',\n",
       " 'set',\n",
       " 'setattr',\n",
       " 'slice',\n",
       " 'sorted',\n",
       " 'staticmethod',\n",
       " 'str',\n",
       " 'sum',\n",
       " 'super',\n",
       " 'tuple',\n",
       " 'type',\n",
       " 'vars',\n",
       " 'zip']"
      ]
     },
     "execution_count": 115,
     "metadata": {},
     "output_type": "execute_result"
    }
   ],
   "source": [
    "dir(__builtins__)"
   ]
  }
 ],
 "metadata": {
  "kernelspec": {
   "display_name": "Python 3 (ipykernel)",
   "language": "python",
   "name": "python3"
  },
  "language_info": {
   "codemirror_mode": {
    "name": "ipython",
    "version": 3
   },
   "file_extension": ".py",
   "mimetype": "text/x-python",
   "name": "python",
   "nbconvert_exporter": "python",
   "pygments_lexer": "ipython3",
   "version": "3.11.5"
  }
 },
 "nbformat": 4,
 "nbformat_minor": 5
}
