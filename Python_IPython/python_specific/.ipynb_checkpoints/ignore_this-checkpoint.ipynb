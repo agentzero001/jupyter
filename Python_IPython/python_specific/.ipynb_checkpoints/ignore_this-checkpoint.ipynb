{
 "cells": [
  {
   "cell_type": "code",
   "execution_count": 1,
   "id": "a4c072d0",
   "metadata": {},
   "outputs": [],
   "source": [
    "import collections as c\n",
    "\n",
    "import os"
   ]
  },
  {
   "cell_type": "code",
   "execution_count": 2,
   "id": "c00ae903",
   "metadata": {},
   "outputs": [
    {
     "data": {
      "text/plain": [
       "'C:\\\\Users\\\\jensm\\\\anaconda3\\\\Lib\\\\os.py'"
      ]
     },
     "execution_count": 2,
     "metadata": {},
     "output_type": "execute_result"
    }
   ],
   "source": [
    "os.__file__"
   ]
  },
  {
   "cell_type": "code",
   "execution_count": 3,
   "id": "e1a4342b",
   "metadata": {},
   "outputs": [
    {
     "data": {
      "text/plain": [
       "'C:\\\\Users\\\\jensm\\\\Desktop\\\\local\\\\GitHub\\\\copyandpaste\\\\Python_IPython\\\\__main__'"
      ]
     },
     "execution_count": 3,
     "metadata": {},
     "output_type": "execute_result"
    }
   ],
   "source": [
    "os.path.abspath(__name__)"
   ]
  },
  {
   "cell_type": "code",
   "execution_count": 4,
   "id": "960519d3",
   "metadata": {},
   "outputs": [],
   "source": [
    "import numpy as np\n",
    "a = np.arange\n",
    "w = {(i, j): value for i, row in enumerate(a(100).reshape(10,10)) for j, value in enumerate(row) if value % 10 == 1}\n",
    "w2 = {}\n",
    "\n",
    "for i, row in enumerate(a(100).reshape(10,10)):\n",
    "    for j, value in enumerate(row):\n",
    "        if value % 10 == 1:\n",
    "            w2[(i, j)] = value"
   ]
  },
  {
   "cell_type": "code",
   "execution_count": 5,
   "id": "dc9b9e9d",
   "metadata": {},
   "outputs": [
    {
     "data": {
      "text/plain": [
       "True"
      ]
     },
     "execution_count": 5,
     "metadata": {},
     "output_type": "execute_result"
    }
   ],
   "source": [
    "w2 == w"
   ]
  },
  {
   "cell_type": "code",
   "execution_count": 6,
   "id": "78e6b671",
   "metadata": {
    "scrolled": true
   },
   "outputs": [
    {
     "name": "stdout",
     "output_type": "stream",
     "text": [
      "(0, 1)\n",
      "(1, 1)\n",
      "(2, 1)\n",
      "(3, 1)\n",
      "(4, 1)\n",
      "(5, 1)\n",
      "(6, 1)\n",
      "(7, 1)\n",
      "(8, 1)\n",
      "(9, 1)\n"
     ]
    }
   ],
   "source": [
    "[print(i) for i in w];"
   ]
  },
  {
   "cell_type": "code",
   "execution_count": 7,
   "id": "09830474",
   "metadata": {},
   "outputs": [],
   "source": [
    "from types import MappingProxyType"
   ]
  },
  {
   "cell_type": "code",
   "execution_count": 8,
   "id": "56398027",
   "metadata": {},
   "outputs": [],
   "source": [
    "d = {1: 'A'}"
   ]
  },
  {
   "cell_type": "code",
   "execution_count": 9,
   "id": "25c39bab",
   "metadata": {},
   "outputs": [],
   "source": [
    "d_proxy = MappingProxyType(d)"
   ]
  },
  {
   "cell_type": "code",
   "execution_count": 10,
   "id": "ea6b0741",
   "metadata": {},
   "outputs": [
    {
     "data": {
      "text/plain": [
       "(mappingproxy, mappingproxy({1: 'A'}), 'A')"
      ]
     },
     "execution_count": 10,
     "metadata": {},
     "output_type": "execute_result"
    }
   ],
   "source": [
    "type(d_proxy), d_proxy, d_proxy[1]"
   ]
  },
  {
   "cell_type": "code",
   "execution_count": 11,
   "id": "7fb1ea8c",
   "metadata": {},
   "outputs": [
    {
     "ename": "TypeError",
     "evalue": "'mappingproxy' object does not support item assignment",
     "output_type": "error",
     "traceback": [
      "\u001b[1;31m---------------------------------------------------------------------------\u001b[0m",
      "\u001b[1;31mTypeError\u001b[0m                                 Traceback (most recent call last)",
      "Cell \u001b[1;32mIn[11], line 1\u001b[0m\n\u001b[1;32m----> 1\u001b[0m d_proxy[\u001b[38;5;241m2\u001b[39m] \u001b[38;5;241m=\u001b[39m \u001b[38;5;124m'\u001b[39m\u001b[38;5;124mx\u001b[39m\u001b[38;5;124m'\u001b[39m\n",
      "\u001b[1;31mTypeError\u001b[0m: 'mappingproxy' object does not support item assignment"
     ]
    }
   ],
   "source": [
    "d_proxy[2] = 'x'"
   ]
  },
  {
   "cell_type": "code",
   "execution_count": 12,
   "id": "250a9847",
   "metadata": {},
   "outputs": [],
   "source": [
    "d[2] = 'B'"
   ]
  },
  {
   "cell_type": "code",
   "execution_count": 13,
   "id": "b6934a2b",
   "metadata": {},
   "outputs": [
    {
     "data": {
      "text/plain": [
       "mappingproxy({1: 'A', 2: 'B'})"
      ]
     },
     "execution_count": 13,
     "metadata": {},
     "output_type": "execute_result"
    }
   ],
   "source": [
    "d_proxy"
   ]
  },
  {
   "cell_type": "code",
   "execution_count": 14,
   "id": "392cf81e",
   "metadata": {},
   "outputs": [],
   "source": [
    "TETROMINOES = {\n",
    "    'T' : [[(0, 0), (-1, 0), (1, 0), (0, -1)]],\n",
    "    'O' : [[(0, 0), (0, -1), (1, 0), (1, -1)]],\n",
    "    'J' : [[(0, 0), (-1, 0), (0, -1), (0,-2)]],\n",
    "    'L' : [[(0, 0), (1, 0), (0, -1), (0, -2)]],\n",
    "    'I' : [[(0, 0), (0, 1), (0, -1), (0, -2)]],\n",
    "    'S' : [[(0, 0), (0, 1), (1, 1),  (-1, 0)]],\n",
    "    'Z' : [[(0, 0), (1, 0), (0, -1), (-1,-1)]]\n",
    "}\n",
    "\n",
    "colors = [1,2,3,4,5,6,7]"
   ]
  },
  {
   "cell_type": "code",
   "execution_count": 15,
   "id": "15701383",
   "metadata": {},
   "outputs": [],
   "source": [
    "for i, j in zip(colors, TETROMINOES.values()):\n",
    "    j.append(i)"
   ]
  },
  {
   "cell_type": "code",
   "execution_count": 16,
   "id": "d5c9b1b0",
   "metadata": {},
   "outputs": [
    {
     "name": "stdout",
     "output_type": "stream",
     "text": [
      "T\n",
      "O\n",
      "J\n",
      "L\n",
      "I\n",
      "S\n",
      "Z\n"
     ]
    }
   ],
   "source": [
    "for i in TETROMINOES.keys():\n",
    "    print(i)"
   ]
  },
  {
   "cell_type": "code",
   "execution_count": 17,
   "id": "46f7fca9",
   "metadata": {},
   "outputs": [
    {
     "data": {
      "text/plain": [
       "[(0, 0), (-1, 0), (1, 0), (0, -1)]"
      ]
     },
     "execution_count": 17,
     "metadata": {},
     "output_type": "execute_result"
    }
   ],
   "source": [
    "TETROMINOES['T'][0]"
   ]
  },
  {
   "cell_type": "code",
   "execution_count": 18,
   "id": "a46b89e0",
   "metadata": {},
   "outputs": [
    {
     "ename": "NameError",
     "evalue": "name 'A' is not defined",
     "output_type": "error",
     "traceback": [
      "\u001b[1;31m---------------------------------------------------------------------------\u001b[0m",
      "\u001b[1;31mNameError\u001b[0m                                 Traceback (most recent call last)",
      "Cell \u001b[1;32mIn[18], line 1\u001b[0m\n\u001b[1;32m----> 1\u001b[0m A\n",
      "\u001b[1;31mNameError\u001b[0m: name 'A' is not defined"
     ]
    }
   ],
   "source": [
    "A"
   ]
  },
  {
   "cell_type": "code",
   "execution_count": 19,
   "id": "e5bdee52",
   "metadata": {},
   "outputs": [
    {
     "data": {
      "text/plain": [
       "['(', '+', '1', '(', '+', '2', '3', ')', ')']"
      ]
     },
     "execution_count": 19,
     "metadata": {},
     "output_type": "execute_result"
    }
   ],
   "source": [
    "'(+ 1(+ 2 3))'.replace('(', ' ( ').replace(')', ' ) ').split()"
   ]
  },
  {
   "cell_type": "code",
   "execution_count": 20,
   "id": "25a83a7d",
   "metadata": {},
   "outputs": [],
   "source": [
    "import typing"
   ]
  },
  {
   "cell_type": "code",
   "execution_count": 21,
   "id": "d8ee2b0b",
   "metadata": {},
   "outputs": [],
   "source": [
    "from collections.abc import Iterable"
   ]
  },
  {
   "cell_type": "code",
   "execution_count": 22,
   "id": "de060f96",
   "metadata": {},
   "outputs": [],
   "source": [
    "FromTo = tuple[str, str]\n",
    "\n",
    "def zip_replace(text: str, changes: Iterable[FromTo]) -> str:\n",
    "    for from_, to in changes:\n",
    "        text = text.replace(from_, to)\n",
    "    return text"
   ]
  },
  {
   "cell_type": "code",
   "execution_count": 23,
   "id": "7c6df998",
   "metadata": {},
   "outputs": [],
   "source": [
    "l33t = [('a', '4'), ('e', '3'), ('i', '1'), ('o', '0')]"
   ]
  },
  {
   "cell_type": "code",
   "execution_count": 24,
   "id": "5a87bfe7",
   "metadata": {},
   "outputs": [
    {
     "data": {
      "text/plain": [
       "'m4d sk1ll3d n00b p0wn3d l33t'"
      ]
     },
     "execution_count": 24,
     "metadata": {},
     "output_type": "execute_result"
    }
   ],
   "source": [
    "zip_replace('mad skilled noob powned leet', l33t)"
   ]
  },
  {
   "cell_type": "code",
   "execution_count": 25,
   "id": "eaf09649",
   "metadata": {},
   "outputs": [],
   "source": [
    "from collections.abc import Iterator\n",
    "from keyword import kwlist\n",
    "from typing import TYPE_CHECKING"
   ]
  },
  {
   "cell_type": "code",
   "execution_count": 26,
   "id": "483e1b12",
   "metadata": {},
   "outputs": [],
   "source": [
    "short_kw = (k for k in kwlist if len(k) < 5)\n",
    "long_kw: Iterator[str] = (k for k in kwlist if len(k) >= 4)"
   ]
  },
  {
   "cell_type": "code",
   "execution_count": 27,
   "id": "0a9b3ffa",
   "metadata": {},
   "outputs": [
    {
     "data": {
      "text/plain": [
       "['None',\n",
       " 'True',\n",
       " 'and',\n",
       " 'as',\n",
       " 'def',\n",
       " 'del',\n",
       " 'elif',\n",
       " 'else',\n",
       " 'for',\n",
       " 'from',\n",
       " 'if',\n",
       " 'in',\n",
       " 'is',\n",
       " 'not',\n",
       " 'or',\n",
       " 'pass',\n",
       " 'try',\n",
       " 'with']"
      ]
     },
     "execution_count": 27,
     "metadata": {},
     "output_type": "execute_result"
    }
   ],
   "source": [
    "list(short_kw)"
   ]
  },
  {
   "cell_type": "code",
   "execution_count": 28,
   "id": "ccff0b48",
   "metadata": {},
   "outputs": [],
   "source": [
    "city: tuple[str, str, int]\n",
    "domains: tuple[str, ...]"
   ]
  },
  {
   "cell_type": "markdown",
   "id": "4e068399",
   "metadata": {},
   "source": [
    "$ L(\\vec{w}) = \\frac{1}{m} \\left( (X \\vec{w})^T - \\vec{y}^T \\right) \\left( X \\vec{w} - \\vec{y} \\right) $"
   ]
  },
  {
   "cell_type": "code",
   "execution_count": 7,
   "id": "3d3a9888",
   "metadata": {},
   "outputs": [],
   "source": [
    "def deco(func):\n",
    "    def inner():\n",
    "        print('running inner')\n",
    "        \n",
    "    return inner"
   ]
  },
  {
   "cell_type": "code",
   "execution_count": 8,
   "id": "d7ea723e",
   "metadata": {},
   "outputs": [],
   "source": [
    "@deco\n",
    "def target():\n",
    "    print('running target')"
   ]
  },
  {
   "cell_type": "code",
   "execution_count": 9,
   "id": "d38e469c",
   "metadata": {},
   "outputs": [
    {
     "name": "stdout",
     "output_type": "stream",
     "text": [
      "running inner\n"
     ]
    }
   ],
   "source": [
    "target()"
   ]
  },
  {
   "cell_type": "code",
   "execution_count": 10,
   "id": "8112c1e6",
   "metadata": {},
   "outputs": [
    {
     "data": {
      "text/plain": [
       "<function __main__.deco.<locals>.inner()>"
      ]
     },
     "execution_count": 10,
     "metadata": {},
     "output_type": "execute_result"
    }
   ],
   "source": [
    "target"
   ]
  },
  {
   "cell_type": "code",
   "execution_count": null,
   "id": "e7789550",
   "metadata": {},
   "outputs": [],
   "source": []
  }
 ],
 "metadata": {
  "kernelspec": {
   "display_name": "Python 3 (ipykernel)",
   "language": "python",
   "name": "python3"
  },
  "language_info": {
   "codemirror_mode": {
    "name": "ipython",
    "version": 3
   },
   "file_extension": ".py",
   "mimetype": "text/x-python",
   "name": "python",
   "nbconvert_exporter": "python",
   "pygments_lexer": "ipython3",
   "version": "3.11.5"
  }
 },
 "nbformat": 4,
 "nbformat_minor": 5
}
