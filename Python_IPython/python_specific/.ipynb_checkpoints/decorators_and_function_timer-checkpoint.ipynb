{
 "cells": [
  {
   "cell_type": "code",
   "execution_count": 16,
   "id": "51efa62a",
   "metadata": {},
   "outputs": [],
   "source": [
    "from functools import wraps"
   ]
  },
  {
   "cell_type": "code",
   "execution_count": 17,
   "id": "12c56379",
   "metadata": {},
   "outputs": [
    {
     "name": "stdout",
     "output_type": "stream",
     "text": [
      "thiscoderan\n",
      "12\n"
     ]
    }
   ],
   "source": [
    "def my_decorator(original_func):\n",
    "    \n",
    "    @wraps(original_func)\n",
    "    def inner_func(*args):\n",
    "        print('thiscoderan')\n",
    "        return original_func(*args)\n",
    "    return inner_func\n",
    "\n",
    "@my_decorator\n",
    "def my_func(a,b,c):\n",
    "    print(a+b+c)\n",
    "\n",
    "my_func(3,4,5)"
   ]
  },
  {
   "cell_type": "code",
   "execution_count": 18,
   "id": "5f3f1d96",
   "metadata": {},
   "outputs": [],
   "source": [
    "def timer(origin):\n",
    "    import time\n",
    "    \n",
    "    @wraps(origin)\n",
    "    def wrapper(*args):\n",
    "        t1 = time.time()\n",
    "        result = origin(*args)\n",
    "        t2 = time.time() - t1\n",
    "        print(t2)\n",
    "        return result\n",
    "    return wrapper    "
   ]
  },
  {
   "cell_type": "code",
   "execution_count": 19,
   "id": "db0fd350",
   "metadata": {},
   "outputs": [],
   "source": [
    "@my_decorator\n",
    "@timer\n",
    "def myadder(a,b,c):\n",
    "    x=0\n",
    "    for i in range(100000):\n",
    "        x += a + b + c\n",
    "        if x % 2 == 0:\n",
    "            x += 1\n",
    "    return x"
   ]
  },
  {
   "cell_type": "code",
   "execution_count": 20,
   "id": "e10cd089",
   "metadata": {},
   "outputs": [
    {
     "name": "stdout",
     "output_type": "stream",
     "text": [
      "thiscoderan\n",
      "0.008007287979125977\n"
     ]
    },
    {
     "data": {
      "text/plain": [
       "6000001"
      ]
     },
     "execution_count": 20,
     "metadata": {},
     "output_type": "execute_result"
    }
   ],
   "source": [
    "myadder(10,20,30)"
   ]
  },
  {
   "cell_type": "code",
   "execution_count": 21,
   "id": "bc4dfc91",
   "metadata": {},
   "outputs": [],
   "source": [
    "def timer2(func):\n",
    "    def wrapper(*args):\n",
    "        import time\n",
    "        start = time.time()\n",
    "        result = func(*args)\n",
    "        runtime = time.time() - start\n",
    "        print(f\"{func.__name__} took {runtime} seconds to run.\")\n",
    "        return result\n",
    "    return wrapper"
   ]
  },
  {
   "cell_type": "code",
   "execution_count": 22,
   "id": "6d6c699c",
   "metadata": {},
   "outputs": [
    {
     "name": "stdout",
     "output_type": "stream",
     "text": [
      "12\n",
      "my_func took 0.0 seconds to run.\n"
     ]
    }
   ],
   "source": [
    "@timer2\n",
    "def my_func(a, b, c):\n",
    "    print(a + b + c)\n",
    "\n",
    "my_func(3,4,5)"
   ]
  },
  {
   "cell_type": "code",
   "execution_count": 23,
   "id": "b96ab4d1",
   "metadata": {},
   "outputs": [],
   "source": [
    "class Person:\n",
    "    def __init__(self, first, last):\n",
    "        self.first = first\n",
    "        self.last = last\n",
    "        self.__private = 10\n",
    "\n",
    "    @property\n",
    "    def private(self):\n",
    "        return self.__private\n",
    "    \n",
    "#     @private.setter\n",
    "#     def private(self, value):\n",
    "#         self.__private = value\n",
    "    \n",
    "p1 = Person('Jeff','Smith')   "
   ]
  },
  {
   "cell_type": "code",
   "execution_count": 24,
   "id": "2fda5860",
   "metadata": {},
   "outputs": [
    {
     "data": {
      "text/plain": [
       "{'first': 'Jeff', 'last': 'Smith', '_Person__private': 10}"
      ]
     },
     "execution_count": 24,
     "metadata": {},
     "output_type": "execute_result"
    }
   ],
   "source": [
    "p1.__dict__"
   ]
  },
  {
   "cell_type": "code",
   "execution_count": 25,
   "id": "4627804b",
   "metadata": {},
   "outputs": [
    {
     "data": {
      "text/plain": [
       "10"
      ]
     },
     "execution_count": 25,
     "metadata": {},
     "output_type": "execute_result"
    }
   ],
   "source": [
    "p1.private"
   ]
  },
  {
   "cell_type": "code",
   "execution_count": 26,
   "id": "df5b938e",
   "metadata": {},
   "outputs": [],
   "source": [
    "def closure(x):\n",
    "    def innerfunc(y):\n",
    "        return x + y\n",
    "    return innerfunc"
   ]
  },
  {
   "cell_type": "code",
   "execution_count": 27,
   "id": "c41436fb",
   "metadata": {},
   "outputs": [],
   "source": [
    "add2 = closure(2)\n",
    "add3 = closure(3)"
   ]
  },
  {
   "cell_type": "code",
   "execution_count": 28,
   "id": "44465d70",
   "metadata": {},
   "outputs": [
    {
     "data": {
      "text/plain": [
       "9"
      ]
     },
     "execution_count": 28,
     "metadata": {},
     "output_type": "execute_result"
    }
   ],
   "source": [
    "add3(6)"
   ]
  },
  {
   "cell_type": "code",
   "execution_count": 29,
   "id": "f4948d54",
   "metadata": {},
   "outputs": [],
   "source": [
    "def deco(func):\n",
    "    def inner():\n",
    "        print('running inner()')\n",
    "    return inner\n",
    "\n",
    "@deco\n",
    "def target():\n",
    "    print('running target()')"
   ]
  },
  {
   "cell_type": "code",
   "execution_count": 30,
   "id": "aff90ca5",
   "metadata": {},
   "outputs": [
    {
     "name": "stdout",
     "output_type": "stream",
     "text": [
      "running inner()\n"
     ]
    }
   ],
   "source": [
    "target()"
   ]
  },
  {
   "cell_type": "code",
   "execution_count": 7,
   "id": "f3eb2ee5",
   "metadata": {},
   "outputs": [
    {
     "name": "stdout",
     "output_type": "stream",
     "text": [
      "running register(<function f1 at 0x00000220ED548D60>)\n",
      "running register(<function f2 at 0x00000220ED548400>)\n",
      "running main()\n",
      "registry -> [<function f1 at 0x00000220ED548D60>, <function f2 at 0x00000220ED548400>]\n",
      "running f1()\n",
      "running f2()\n",
      "running f3()\n"
     ]
    }
   ],
   "source": [
    "#decorators are actually executed at import time\n",
    "registry = []\n",
    "\n",
    "def register(func):\n",
    "    print(f'running register({func})')\n",
    "    registry.append(func)\n",
    "    return func\n",
    "\n",
    "@register\n",
    "def f1():\n",
    "    print('running f1()')\n",
    "\n",
    "@register\n",
    "def f2():\n",
    "    print('running f2()')\n",
    "    \n",
    "def f3():\n",
    "    print('running f3()')\n",
    "\n",
    "def main():\n",
    "    print('running main()')\n",
    "    print('registry ->', registry)\n",
    "    f1()\n",
    "    f2()\n",
    "    f3()\n",
    "    \n",
    "main()"
   ]
  },
  {
   "cell_type": "code",
   "execution_count": 7,
   "id": "6e395c2c",
   "metadata": {},
   "outputs": [
    {
     "name": "stdout",
     "output_type": "stream",
     "text": [
      "3\n"
     ]
    },
    {
     "ename": "UnboundLocalError",
     "evalue": "cannot access local variable 'b' where it is not associated with a value",
     "output_type": "error",
     "traceback": [
      "\u001b[1;31m---------------------------------------------------------------------------\u001b[0m",
      "\u001b[1;31mUnboundLocalError\u001b[0m                         Traceback (most recent call last)",
      "Cell \u001b[1;32mIn[7], line 12\u001b[0m\n\u001b[0;32m      9\u001b[0m     b \u001b[38;5;241m=\u001b[39m \u001b[38;5;241m9\u001b[39m\n\u001b[0;32m     11\u001b[0m b \u001b[38;5;241m=\u001b[39m \u001b[38;5;241m6\u001b[39m\n\u001b[1;32m---> 12\u001b[0m f(\u001b[38;5;241m3\u001b[39m)\n",
      "Cell \u001b[1;32mIn[7], line 8\u001b[0m, in \u001b[0;36mf\u001b[1;34m(a)\u001b[0m\n\u001b[0;32m      6\u001b[0m \u001b[38;5;28;01mdef\u001b[39;00m \u001b[38;5;21mf\u001b[39m(a):\n\u001b[0;32m      7\u001b[0m     \u001b[38;5;28mprint\u001b[39m(a)\n\u001b[1;32m----> 8\u001b[0m     \u001b[38;5;28mprint\u001b[39m(b)\n\u001b[0;32m      9\u001b[0m     b \u001b[38;5;241m=\u001b[39m \u001b[38;5;241m9\u001b[39m\n",
      "\u001b[1;31mUnboundLocalError\u001b[0m: cannot access local variable 'b' where it is not associated with a value"
     ]
    }
   ],
   "source": [
    "#when python compiles the body of the function, it decides that b is a local variable,\n",
    "#because it is assigned within the function. The generated bytecode reflects this decision\n",
    "#and will try to fetch b from the local scope. Later, when the call f(3) is made,\n",
    "#it discovers that the local variable b is unbound.\n",
    "\n",
    "def f(a):\n",
    "    print(a)\n",
    "    print(b)\n",
    "    b = 9\n",
    "\n",
    "b = 6\n",
    "f(3)"
   ]
  },
  {
   "cell_type": "code",
   "execution_count": 8,
   "id": "ca46d795",
   "metadata": {},
   "outputs": [
    {
     "name": "stdout",
     "output_type": "stream",
     "text": [
      "3\n",
      "6\n"
     ]
    }
   ],
   "source": [
    "#to initially use the global variable and still reassign it within the function body\n",
    "#we can use global like so:\n",
    "b = 6\n",
    "def f2(a):\n",
    "    global b\n",
    "    print(a)\n",
    "    print(b)\n",
    "    b = 9\n",
    "    \n",
    "f2(3)"
   ]
  },
  {
   "cell_type": "code",
   "execution_count": 9,
   "id": "560f4eaf",
   "metadata": {},
   "outputs": [],
   "source": [
    "from dis import dis"
   ]
  },
  {
   "cell_type": "code",
   "execution_count": 11,
   "id": "928b1f8b",
   "metadata": {},
   "outputs": [
    {
     "name": "stdout",
     "output_type": "stream",
     "text": [
      "  6           0 RESUME                   0\n",
      "\n",
      "  7           2 LOAD_GLOBAL              1 (NULL + print)\n",
      "             14 LOAD_FAST                0 (a)\n",
      "             16 PRECALL                  1\n",
      "             20 CALL                     1\n",
      "             30 POP_TOP\n",
      "\n",
      "  8          32 LOAD_GLOBAL              1 (NULL + print)\n",
      "             44 LOAD_FAST                1 (b)\n",
      "             46 PRECALL                  1\n",
      "             50 CALL                     1\n",
      "             60 POP_TOP\n",
      "\n",
      "  9          62 LOAD_CONST               1 (9)\n",
      "             64 STORE_FAST               1 (b)\n",
      "             66 LOAD_CONST               0 (None)\n",
      "             68 RETURN_VALUE\n"
     ]
    }
   ],
   "source": [
    "dis(f)"
   ]
  },
  {
   "cell_type": "code",
   "execution_count": 12,
   "id": "8b131b6c",
   "metadata": {},
   "outputs": [
    {
     "name": "stdout",
     "output_type": "stream",
     "text": [
      "  2           0 RESUME                   0\n",
      "\n",
      "  4           2 LOAD_GLOBAL              1 (NULL + print)\n",
      "             14 LOAD_FAST                0 (a)\n",
      "             16 PRECALL                  1\n",
      "             20 CALL                     1\n",
      "             30 POP_TOP\n",
      "\n",
      "  5          32 LOAD_GLOBAL              1 (NULL + print)\n",
      "             44 LOAD_GLOBAL              2 (b)\n",
      "             56 PRECALL                  1\n",
      "             60 CALL                     1\n",
      "             70 POP_TOP\n",
      "\n",
      "  6          72 LOAD_CONST               1 (9)\n",
      "             74 STORE_GLOBAL             1 (b)\n",
      "             76 LOAD_CONST               0 (None)\n",
      "             78 RETURN_VALUE\n"
     ]
    }
   ],
   "source": [
    "dis(f2)"
   ]
  },
  {
   "cell_type": "code",
   "execution_count": null,
   "id": "a9ca4ba2",
   "metadata": {},
   "outputs": [],
   "source": []
  }
 ],
 "metadata": {
  "kernelspec": {
   "display_name": "Python 3 (ipykernel)",
   "language": "python",
   "name": "python3"
  },
  "language_info": {
   "codemirror_mode": {
    "name": "ipython",
    "version": 3
   },
   "file_extension": ".py",
   "mimetype": "text/x-python",
   "name": "python",
   "nbconvert_exporter": "python",
   "pygments_lexer": "ipython3",
   "version": "3.11.5"
  }
 },
 "nbformat": 4,
 "nbformat_minor": 5
}
