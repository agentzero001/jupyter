{
 "cells": [
  {
   "cell_type": "markdown",
   "id": "31419438",
   "metadata": {},
   "source": [
    "Context manager objects exist to control a *__with__* statement, just like iterators exist to control a *__for__* statement."
   ]
  },
  {
   "cell_type": "markdown",
   "id": "06b7cd47",
   "metadata": {},
   "source": [
    "The context manager interface consists of the **\\__enter__** and **\\__exit__** methods. At the top of the *__with__* python calls the **\\__enter__** method of the context manager object.\n",
    "When the *__with__* competes or terminates for any reason, Python calls **\\__exit__** on the context manager object."
   ]
  },
  {
   "cell_type": "code",
   "execution_count": 1,
   "id": "87159e53",
   "metadata": {},
   "outputs": [],
   "source": [
    "from mirror import LookingGlass"
   ]
  },
  {
   "cell_type": "code",
   "execution_count": 2,
   "id": "2314c86c",
   "metadata": {},
   "outputs": [
    {
     "name": "stdout",
     "output_type": "stream",
     "text": [
      "pordwonS dna yttiK ,ecilA\n",
      "YKCOWREBBAJ\n",
      "back to normal\n"
     ]
    }
   ],
   "source": [
    "with LookingGlass() as what:\n",
    "    print('Alice, Kitty and Snowdrop')\n",
    "    print(what)\n",
    "print('back to normal')"
   ]
  },
  {
   "cell_type": "code",
   "execution_count": 3,
   "id": "59e836ac",
   "metadata": {},
   "outputs": [
    {
     "name": "stdout",
     "output_type": "stream",
     "text": [
      "jallo43"
     ]
    },
    {
     "data": {
      "text/plain": [
       "7"
      ]
     },
     "execution_count": 3,
     "metadata": {},
     "output_type": "execute_result"
    }
   ],
   "source": [
    "import sys\n",
    "sys.stdout.write('jallo43')"
   ]
  },
  {
   "cell_type": "code",
   "execution_count": 4,
   "id": "250be03b",
   "metadata": {},
   "outputs": [
    {
     "data": {
      "text/plain": [
       "60"
      ]
     },
     "execution_count": 4,
     "metadata": {},
     "output_type": "execute_result"
    }
   ],
   "source": [
    "with open('Shakespeare_data.csv')as fp:\n",
    "    src = fp.read(60)\n",
    "    \n",
    "len(src)"
   ]
  },
  {
   "cell_type": "code",
   "execution_count": 5,
   "id": "c7440d44",
   "metadata": {},
   "outputs": [
    {
     "data": {
      "text/plain": [
       "<_io.TextIOWrapper name='Shakespeare_data.csv' mode='r' encoding='cp1252'>"
      ]
     },
     "execution_count": 5,
     "metadata": {},
     "output_type": "execute_result"
    }
   ],
   "source": [
    "fp"
   ]
  },
  {
   "cell_type": "code",
   "execution_count": 6,
   "id": "ab3c42aa",
   "metadata": {},
   "outputs": [
    {
     "data": {
      "text/plain": [
       "(True, 'cp1252')"
      ]
     },
     "execution_count": 6,
     "metadata": {},
     "output_type": "execute_result"
    }
   ],
   "source": [
    "fp.closed, fp.encoding"
   ]
  },
  {
   "cell_type": "code",
   "execution_count": 7,
   "id": "41b04796",
   "metadata": {},
   "outputs": [],
   "source": [
    "#fp.read(60)"
   ]
  },
  {
   "cell_type": "code",
   "execution_count": 8,
   "id": "2e171740",
   "metadata": {},
   "outputs": [
    {
     "data": {
      "text/plain": [
       "True"
      ]
     },
     "execution_count": 8,
     "metadata": {},
     "output_type": "execute_result"
    }
   ],
   "source": [
    "manager = LookingGlass()\n",
    "monster = manager.__enter__()\n",
    "monster == 'JABBERWOCKY'\n",
    "#this kind of mokey patch doesnt work for jupyter notebooks though"
   ]
  },
  {
   "attachments": {
    "image.png": {
     "image/png": "[encoded data removed]"
    }
   },
   "cell_type": "markdown",
   "id": "54b553b0",
   "metadata": {},
   "source": [
    "![image.png](attachment:image.png)"
   ]
  },
  {
   "cell_type": "markdown",
   "id": "5cf1a25b",
   "metadata": {},
   "source": [
    "The *__contextmanager__* decorator lets you create a contextmanager as function without having to write your own class.\n",
    "When the interpreter calls **\\__enter__** code until yield is executed, **\\__exit__** will run the rest of the code"
   ]
  },
  {
   "cell_type": "markdown",
   "id": "2a73ebb6",
   "metadata": {},
   "source": [
    "Having a __*try/finally*__ (or a *__with__*) block around the *__yield__* is an unavoidable price of using *__@contextmanager__*, because you never know what the users of your context manager are going to do inside the with block"
   ]
  },
  {
   "cell_type": "code",
   "execution_count": 9,
   "id": "4d4beb62",
   "metadata": {},
   "outputs": [],
   "source": [
    "import sys\n",
    "from contextlib import contextmanager"
   ]
  },
  {
   "cell_type": "code",
   "execution_count": 10,
   "id": "e5ee8e5b",
   "metadata": {},
   "outputs": [],
   "source": [
    "@contextmanager\n",
    "def looking_glass_():\n",
    "    original_write = sys.stdout.write #save the function to replace it later\n",
    "    \n",
    "    def reverse_write(text):\n",
    "        original_write(text[::-1])\n",
    "        \n",
    "    sys.stdout.write = reverse_write\n",
    "    msg = ''\n",
    "    try:\n",
    "        yield 'JABBERWOCKY'\n",
    "    except ZeroDivisionError: \n",
    "        msg = 'Please DO NOT divide by zero!'\n",
    "    finally:\n",
    "        sys.stdout.write = original_write\n",
    "        if msg:\n",
    "            print(msg)"
   ]
  },
  {
   "cell_type": "code",
   "execution_count": 11,
   "id": "dc597dea",
   "metadata": {},
   "outputs": [
    {
     "name": "stdout",
     "output_type": "stream",
     "text": [
      "Alice, Kitty and Snowdrop\n",
      "JABBERWOCKY\n",
      "lamron ot kcab\n"
     ]
    }
   ],
   "source": [
    "with looking_glass_() as what:\n",
    "    print('Alice, Kitty and Snowdrop')\n",
    "    print(what)\n",
    "print('back to normal')"
   ]
  },
  {
   "cell_type": "code",
   "execution_count": 12,
   "id": "9f7d2f72",
   "metadata": {},
   "outputs": [],
   "source": [
    "#the contextmanager created with the @contextmanager decorator can also be use as a decorator itself\n",
    "@looking_glass_()\n",
    "def verse():\n",
    "    print('The time has come')"
   ]
  },
  {
   "cell_type": "code",
   "execution_count": 13,
   "id": "42c5b25f",
   "metadata": {},
   "outputs": [
    {
     "name": "stdout",
     "output_type": "stream",
     "text": [
      "The time has come\n"
     ]
    }
   ],
   "source": [
    "verse()"
   ]
  },
  {
   "cell_type": "code",
   "execution_count": 14,
   "id": "07ba82a0",
   "metadata": {},
   "outputs": [
    {
     "name": "stdout",
     "output_type": "stream",
     "text": [
      "lamron ot kcab\n"
     ]
    }
   ],
   "source": [
    "print('back to normal')"
   ]
  },
  {
   "cell_type": "markdown",
   "id": "1bce0430",
   "metadata": {},
   "source": [
    "------------------"
   ]
  },
  {
   "cell_type": "code",
   "execution_count": 15,
   "id": "f413b283",
   "metadata": {},
   "outputs": [],
   "source": [
    "from lis import parse, Environment, standard_env, lispstr"
   ]
  },
  {
   "cell_type": "code",
   "execution_count": 16,
   "id": "33590209",
   "metadata": {},
   "outputs": [
    {
     "data": {
      "text/plain": [
       "1.5"
      ]
     },
     "execution_count": 16,
     "metadata": {},
     "output_type": "execute_result"
    }
   ],
   "source": [
    "parse('1.5')"
   ]
  },
  {
   "cell_type": "code",
   "execution_count": 17,
   "id": "868f7dd6",
   "metadata": {},
   "outputs": [
    {
     "data": {
      "text/plain": [
       "['gcd', 18, 45]"
      ]
     },
     "execution_count": 17,
     "metadata": {},
     "output_type": "execute_result"
    }
   ],
   "source": [
    "parse('(gcd 18 45)')"
   ]
  },
  {
   "cell_type": "code",
   "execution_count": 18,
   "id": "c9e55bc1",
   "metadata": {},
   "outputs": [
    {
     "data": {
      "text/plain": [
       "['+', 2, 2, ['+', 3, 3]]"
      ]
     },
     "execution_count": 18,
     "metadata": {},
     "output_type": "execute_result"
    }
   ],
   "source": [
    "parse('(+ 2 2 (+ 3 3))')"
   ]
  },
  {
   "cell_type": "code",
   "execution_count": 19,
   "id": "1e375689",
   "metadata": {},
   "outputs": [
    {
     "data": {
      "text/plain": [
       "['define', 'double', ['lambda', ['n'], ['*', 'n', 2]]]"
      ]
     },
     "execution_count": 19,
     "metadata": {},
     "output_type": "execute_result"
    }
   ],
   "source": [
    "parse('(define double (lambda (n) (* n 2)))')"
   ]
  },
  {
   "cell_type": "code",
   "execution_count": 20,
   "id": "a3aa5bcb",
   "metadata": {},
   "outputs": [
    {
     "data": {
      "text/plain": [
       "['lambda', ['a', 'b'], ['*', ['/', 'a', 'b'], 100]]"
      ]
     },
     "execution_count": 20,
     "metadata": {},
     "output_type": "execute_result"
    }
   ],
   "source": [
    "expr = parse('(lambda (a b) (* (/ a b) 100)))')\n",
    "expr"
   ]
  },
  {
   "cell_type": "code",
   "execution_count": 21,
   "id": "af3aa5cb",
   "metadata": {},
   "outputs": [
    {
     "data": {
      "text/plain": [
       "'(lambda (a b) (* (/ a b) 100))'"
      ]
     },
     "execution_count": 21,
     "metadata": {},
     "output_type": "execute_result"
    }
   ],
   "source": [
    "lispstr(expr)"
   ]
  },
  {
   "cell_type": "code",
   "execution_count": 22,
   "id": "9237625f",
   "metadata": {},
   "outputs": [
    {
     "data": {
      "text/plain": [
       "{'a': 1, 'b': 2}"
      ]
     },
     "execution_count": 22,
     "metadata": {},
     "output_type": "execute_result"
    }
   ],
   "source": [
    "from collections import ChainMap\n",
    "\n",
    "dict1 = {'a': 1, 'b': 2}\n",
    "dict2 = {'b': 3, 'c': 4}\n",
    "\n",
    "chain = ChainMap(dict1, dict2)\n",
    "chain.maps[0]"
   ]
  },
  {
   "cell_type": "code",
   "execution_count": 23,
   "id": "c751844c",
   "metadata": {},
   "outputs": [
    {
     "data": {
      "text/plain": [
       "2"
      ]
     },
     "execution_count": 23,
     "metadata": {},
     "output_type": "execute_result"
    }
   ],
   "source": [
    "inner_env = {'a': 2}\n",
    "outer_env = {'a': 0, 'b': 1}\n",
    "\n",
    "env = Environment(inner_env, outer_env) #chainmap\n",
    "env['a']"
   ]
  },
  {
   "cell_type": "code",
   "execution_count": 24,
   "id": "c72b09e7",
   "metadata": {},
   "outputs": [
    {
     "data": {
      "text/plain": [
       "Environment({'a': 111, 'c': 222}, {'a': 0, 'b': 1})"
      ]
     },
     "execution_count": 24,
     "metadata": {},
     "output_type": "execute_result"
    }
   ],
   "source": [
    "env['a'], env['c'] = 111, 222\n",
    "env"
   ]
  },
  {
   "cell_type": "code",
   "execution_count": 25,
   "id": "bc869524",
   "metadata": {},
   "outputs": [
    {
     "data": {
      "text/plain": [
       "Environment({'a': 111, 'c': 222}, {'a': 0, 'b': 333})"
      ]
     },
     "execution_count": 25,
     "metadata": {},
     "output_type": "execute_result"
    }
   ],
   "source": [
    "env.change('b', 333)\n",
    "env"
   ]
  },
  {
   "cell_type": "code",
   "execution_count": 26,
   "id": "e9258d0a",
   "metadata": {},
   "outputs": [],
   "source": [
    "#standard_env().maps[0]"
   ]
  },
  {
   "cell_type": "code",
   "execution_count": null,
   "id": "828d5e1d",
   "metadata": {},
   "outputs": [],
   "source": []
  }
 ],
 "metadata": {
  "kernelspec": {
   "display_name": "Python 3 (ipykernel)",
   "language": "python",
   "name": "python3"
  },
  "language_info": {
   "codemirror_mode": {
    "name": "ipython",
    "version": 3
   },
   "file_extension": ".py",
   "mimetype": "text/x-python",
   "name": "python",
   "nbconvert_exporter": "python",
   "pygments_lexer": "ipython3",
   "version": "3.11.7"
  }
 },
 "nbformat": 4,
 "nbformat_minor": 5
}
