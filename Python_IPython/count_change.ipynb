{
 "cells": [
  {
   "cell_type": "code",
   "execution_count": 1,
   "id": "caf2d901",
   "metadata": {},
   "outputs": [],
   "source": [
    "def count_change(amount):\n",
    "\n",
    "    def cc(amount, kinds_of_coins):\n",
    "        \n",
    "        def first_denomination(kinds_of_coins):\n",
    "            if kinds_of_coins == 1:\n",
    "                return 1\n",
    "            elif kinds_of_coins == 2:\n",
    "                return 5\n",
    "            elif kinds_of_coins == 3:\n",
    "                return 10\n",
    "            elif kinds_of_coins == 4:\n",
    "                return 25\n",
    "            elif kinds_of_coins == 5:\n",
    "                return 50        \n",
    "        \n",
    "        if amount == 0:\n",
    "            return 1\n",
    "        elif amount < 0 or kinds_of_coins == 0:\n",
    "            return 0\n",
    "        else:\n",
    "            return cc(amount, kinds_of_coins - 1) + cc(amount - first_denomination(kinds_of_coins), kinds_of_coins)\n",
    "\n",
    "    return cc(amount, 5)"
   ]
  },
  {
   "cell_type": "code",
   "execution_count": 2,
   "id": "9b1a5669",
   "metadata": {},
   "outputs": [
    {
     "data": {
      "text/plain": [
       "4"
      ]
     },
     "execution_count": 2,
     "metadata": {},
     "output_type": "execute_result"
    }
   ],
   "source": [
    "count_change(10)"
   ]
  },
  {
   "cell_type": "code",
   "execution_count": 3,
   "id": "423d2119",
   "metadata": {},
   "outputs": [
    {
     "data": {
      "text/plain": [
       "'3.11.5 | packaged by Anaconda, Inc. | (main, Sep 11 2023, 13:26:23) [MSC v.1916 64 bit (AMD64)]'"
      ]
     },
     "execution_count": 3,
     "metadata": {},
     "output_type": "execute_result"
    }
   ],
   "source": [
    "import sys\n",
    "sys.version"
   ]
  },
  {
   "cell_type": "code",
   "execution_count": null,
   "id": "c064a49a",
   "metadata": {},
   "outputs": [],
   "source": []
  }
 ],
 "metadata": {
  "kernelspec": {
   "display_name": "Python 3 (ipykernel)",
   "language": "python",
   "name": "python3"
  },
  "language_info": {
   "codemirror_mode": {
    "name": "ipython",
    "version": 3
   },
   "file_extension": ".py",
   "mimetype": "text/x-python",
   "name": "python",
   "nbconvert_exporter": "python",
   "pygments_lexer": "ipython3",
   "version": "3.11.5"
  }
 },
 "nbformat": 4,
 "nbformat_minor": 5
}
