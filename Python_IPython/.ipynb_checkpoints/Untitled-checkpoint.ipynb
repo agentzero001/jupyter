{
 "cells": [
  {
   "cell_type": "code",
   "execution_count": 1,
   "id": "e36e442e",
   "metadata": {},
   "outputs": [],
   "source": [
    "import collections as c\n",
    "\n",
    "import os"
   ]
  },
  {
   "cell_type": "code",
   "execution_count": 2,
   "id": "59a48e4a",
   "metadata": {},
   "outputs": [
    {
     "data": {
      "text/plain": [
       "'C:\\\\Users\\\\jensm\\\\anaconda3\\\\Lib\\\\os.py'"
      ]
     },
     "execution_count": 2,
     "metadata": {},
     "output_type": "execute_result"
    }
   ],
   "source": [
    "os.__file__"
   ]
  },
  {
   "cell_type": "code",
   "execution_count": 3,
   "id": "837fcbda",
   "metadata": {},
   "outputs": [
    {
     "data": {
      "text/plain": [
       "'C:\\\\Users\\\\jensm\\\\Desktop\\\\local\\\\GitHub\\\\copyandpaste\\\\Python_IPython\\\\__main__'"
      ]
     },
     "execution_count": 3,
     "metadata": {},
     "output_type": "execute_result"
    }
   ],
   "source": [
    "os.path.abspath(__name__)"
   ]
  },
  {
   "cell_type": "code",
   "execution_count": 31,
   "id": "ccfafe7f",
   "metadata": {},
   "outputs": [],
   "source": [
    "import numpy as np\n",
    "a = np.arange\n",
    "w = {(i, j): value for i, row in enumerate(a(100).reshape(10,10)) for j, value in enumerate(row) if value % 10 == 1}\n",
    "w2 = {}\n",
    "\n",
    "for i, row in enumerate(a(100).reshape(10,10)):\n",
    "    for j, value in enumerate(row):\n",
    "        if value % 10 == 1:\n",
    "            w2[(i, j)] = value"
   ]
  },
  {
   "cell_type": "code",
   "execution_count": 32,
   "id": "739dfaaf",
   "metadata": {},
   "outputs": [
    {
     "data": {
      "text/plain": [
       "True"
      ]
     },
     "execution_count": 32,
     "metadata": {},
     "output_type": "execute_result"
    }
   ],
   "source": [
    "w2 == w"
   ]
  },
  {
   "cell_type": "code",
   "execution_count": 27,
   "id": "ecdbde0f",
   "metadata": {
    "scrolled": true
   },
   "outputs": [
    {
     "name": "stdout",
     "output_type": "stream",
     "text": [
      "(1, 0)\n",
      "(1, 1)\n",
      "(1, 2)\n",
      "(1, 3)\n",
      "(1, 4)\n",
      "(1, 5)\n",
      "(1, 6)\n",
      "(1, 7)\n",
      "(1, 8)\n",
      "(1, 9)\n"
     ]
    }
   ],
   "source": [
    "[print(i) for i in w];"
   ]
  },
  {
   "cell_type": "code",
   "execution_count": 1,
   "id": "6c0a1fb9",
   "metadata": {},
   "outputs": [],
   "source": [
    "from types import MappingProxyType"
   ]
  },
  {
   "cell_type": "code",
   "execution_count": 2,
   "id": "e1176b64",
   "metadata": {},
   "outputs": [],
   "source": [
    "d = {1: 'A'}"
   ]
  },
  {
   "cell_type": "code",
   "execution_count": 3,
   "id": "57c54573",
   "metadata": {},
   "outputs": [],
   "source": [
    "d_proxy = MappingProxyType(d)"
   ]
  },
  {
   "cell_type": "code",
   "execution_count": 8,
   "id": "9990faa6",
   "metadata": {},
   "outputs": [
    {
     "data": {
      "text/plain": [
       "(mappingproxy, mappingproxy({1: 'A'}), 'A')"
      ]
     },
     "execution_count": 8,
     "metadata": {},
     "output_type": "execute_result"
    }
   ],
   "source": [
    "type(d_proxy), d_proxy, d_proxy[1]"
   ]
  },
  {
   "cell_type": "code",
   "execution_count": 9,
   "id": "76329d51",
   "metadata": {},
   "outputs": [
    {
     "ename": "TypeError",
     "evalue": "'mappingproxy' object does not support item assignment",
     "output_type": "error",
     "traceback": [
      "\u001b[1;31m---------------------------------------------------------------------------\u001b[0m",
      "\u001b[1;31mTypeError\u001b[0m                                 Traceback (most recent call last)",
      "Cell \u001b[1;32mIn[9], line 1\u001b[0m\n\u001b[1;32m----> 1\u001b[0m d_proxy[\u001b[38;5;241m2\u001b[39m] \u001b[38;5;241m=\u001b[39m \u001b[38;5;124m'\u001b[39m\u001b[38;5;124mx\u001b[39m\u001b[38;5;124m'\u001b[39m\n",
      "\u001b[1;31mTypeError\u001b[0m: 'mappingproxy' object does not support item assignment"
     ]
    }
   ],
   "source": [
    "d_proxy[2] = 'x'"
   ]
  },
  {
   "cell_type": "code",
   "execution_count": 10,
   "id": "f945777e",
   "metadata": {},
   "outputs": [],
   "source": [
    "d[2] = 'B'"
   ]
  },
  {
   "cell_type": "code",
   "execution_count": 11,
   "id": "e462522d",
   "metadata": {},
   "outputs": [
    {
     "data": {
      "text/plain": [
       "mappingproxy({1: 'A', 2: 'B'})"
      ]
     },
     "execution_count": 11,
     "metadata": {},
     "output_type": "execute_result"
    }
   ],
   "source": [
    "d_proxy"
   ]
  },
  {
   "cell_type": "code",
   "execution_count": 12,
   "id": "6fcceb7c",
   "metadata": {},
   "outputs": [],
   "source": [
    "TETROMINOES = {\n",
    "    'T' : [[(0, 0), (-1, 0), (1, 0), (0, -1)]],\n",
    "    'O' : [[(0, 0), (0, -1), (1, 0), (1, -1)]],\n",
    "    'J' : [[(0, 0), (-1, 0), (0, -1), (0,-2)]],\n",
    "    'L' : [[(0, 0), (1, 0), (0, -1), (0, -2)]],\n",
    "    'I' : [[(0, 0), (0, 1), (0, -1), (0, -2)]],\n",
    "    'S' : [[(0, 0), (0, 1), (1, 1),  (-1, 0)]],\n",
    "    'Z' : [[(0, 0), (1, 0), (0, -1), (-1,-1)]]\n",
    "}\n",
    "\n",
    "colors = [1,2,3,4,5,6,7]"
   ]
  },
  {
   "cell_type": "code",
   "execution_count": 13,
   "id": "ef08d5a9",
   "metadata": {},
   "outputs": [],
   "source": [
    "for i, j in zip(colors, TETROMINOES.values()):\n",
    "    j.append(i)"
   ]
  },
  {
   "cell_type": "code",
   "execution_count": 17,
   "id": "5726ab1d",
   "metadata": {},
   "outputs": [
    {
     "name": "stdout",
     "output_type": "stream",
     "text": [
      "T\n",
      "O\n",
      "J\n",
      "L\n",
      "I\n",
      "S\n",
      "Z\n"
     ]
    }
   ],
   "source": [
    "for i in TETROMINOES.keys():\n",
    "    print(i)"
   ]
  },
  {
   "cell_type": "code",
   "execution_count": 20,
   "id": "a465456a",
   "metadata": {},
   "outputs": [
    {
     "data": {
      "text/plain": [
       "[(0, 0), (-1, 0), (1, 0), (0, -1)]"
      ]
     },
     "execution_count": 20,
     "metadata": {},
     "output_type": "execute_result"
    }
   ],
   "source": [
    "TETROMINOES['T'][0]"
   ]
  },
  {
   "cell_type": "code",
   "execution_count": 11,
   "id": "9ff56af8",
   "metadata": {},
   "outputs": [
    {
     "data": {
      "text/plain": [
       "[[1, 2, 3]]"
      ]
     },
     "execution_count": 11,
     "metadata": {},
     "output_type": "execute_result"
    }
   ],
   "source": [
    "A"
   ]
  },
  {
   "cell_type": "code",
   "execution_count": 3,
   "id": "22cf9789",
   "metadata": {},
   "outputs": [
    {
     "data": {
      "text/plain": [
       "['(', '+1', '(', '+', '2', '3', ')', ')']"
      ]
     },
     "execution_count": 3,
     "metadata": {},
     "output_type": "execute_result"
    }
   ],
   "source": [
    "'(+1(+ 2 3))'.replace('(', ' ( ').replace(')', ' ) ').split()"
   ]
  },
  {
   "cell_type": "code",
   "execution_count": 1,
   "id": "5a934c33",
   "metadata": {},
   "outputs": [],
   "source": [
    "import typing"
   ]
  },
  {
   "cell_type": "code",
   "execution_count": 2,
   "id": "b92645f4",
   "metadata": {},
   "outputs": [
    {
     "data": {
      "text/plain": [
       "['ABCMeta',\n",
       " 'AbstractSet',\n",
       " 'Annotated',\n",
       " 'Any',\n",
       " 'AnyStr',\n",
       " 'AsyncContextManager',\n",
       " 'AsyncGenerator',\n",
       " 'AsyncIterable',\n",
       " 'AsyncIterator',\n",
       " 'Awaitable',\n",
       " 'BinaryIO',\n",
       " 'ByteString',\n",
       " 'CT_co',\n",
       " 'Callable',\n",
       " 'ChainMap',\n",
       " 'ClassVar',\n",
       " 'Collection',\n",
       " 'Concatenate',\n",
       " 'Container',\n",
       " 'ContextManager',\n",
       " 'Coroutine',\n",
       " 'Counter',\n",
       " 'DefaultDict',\n",
       " 'Deque',\n",
       " 'Dict',\n",
       " 'EXCLUDED_ATTRIBUTES',\n",
       " 'Final',\n",
       " 'ForwardRef',\n",
       " 'FrozenSet',\n",
       " 'Generator',\n",
       " 'Generic',\n",
       " 'GenericAlias',\n",
       " 'Hashable',\n",
       " 'IO',\n",
       " 'ItemsView',\n",
       " 'Iterable',\n",
       " 'Iterator',\n",
       " 'KT',\n",
       " 'KeysView',\n",
       " 'List',\n",
       " 'Literal',\n",
       " 'LiteralString',\n",
       " 'Mapping',\n",
       " 'MappingView',\n",
       " 'Match',\n",
       " 'MethodDescriptorType',\n",
       " 'MethodWrapperType',\n",
       " 'MutableMapping',\n",
       " 'MutableSequence',\n",
       " 'MutableSet',\n",
       " 'NamedTuple',\n",
       " 'NamedTupleMeta',\n",
       " 'Never',\n",
       " 'NewType',\n",
       " 'NoReturn',\n",
       " 'NotRequired',\n",
       " 'Optional',\n",
       " 'OrderedDict',\n",
       " 'ParamSpec',\n",
       " 'ParamSpecArgs',\n",
       " 'ParamSpecKwargs',\n",
       " 'Pattern',\n",
       " 'Protocol',\n",
       " 'Required',\n",
       " 'Reversible',\n",
       " 'Self',\n",
       " 'Sequence',\n",
       " 'Set',\n",
       " 'Sized',\n",
       " 'SupportsAbs',\n",
       " 'SupportsBytes',\n",
       " 'SupportsComplex',\n",
       " 'SupportsFloat',\n",
       " 'SupportsIndex',\n",
       " 'SupportsInt',\n",
       " 'SupportsRound',\n",
       " 'T',\n",
       " 'TYPE_CHECKING',\n",
       " 'T_co',\n",
       " 'T_contra',\n",
       " 'Text',\n",
       " 'TextIO',\n",
       " 'Tuple',\n",
       " 'Type',\n",
       " 'TypeAlias',\n",
       " 'TypeGuard',\n",
       " 'TypeVar',\n",
       " 'TypeVarTuple',\n",
       " 'TypedDict',\n",
       " 'Union',\n",
       " 'Unpack',\n",
       " 'VT',\n",
       " 'VT_co',\n",
       " 'V_co',\n",
       " 'ValuesView',\n",
       " 'WrapperDescriptorType',\n",
       " '_ASSERT_NEVER_REPR_MAX_LENGTH',\n",
       " '_AnnotatedAlias',\n",
       " '_AnyMeta',\n",
       " '_BaseGenericAlias',\n",
       " '_BoundVarianceMixin',\n",
       " '_CallableGenericAlias',\n",
       " '_CallableType',\n",
       " '_ConcatenateGenericAlias',\n",
       " '_DeprecatedType',\n",
       " '_Final',\n",
       " '_GenericAlias',\n",
       " '_Immutable',\n",
       " '_LiteralGenericAlias',\n",
       " '_LiteralSpecialForm',\n",
       " '_NamedTuple',\n",
       " '_NotIterable',\n",
       " '_PROTO_ALLOWLIST',\n",
       " '_PickleUsingNameMixin',\n",
       " '_ProtocolMeta',\n",
       " '_SPECIAL_NAMES',\n",
       " '_SpecialForm',\n",
       " '_SpecialGenericAlias',\n",
       " '_TYPING_INTERNALS',\n",
       " '_TupleType',\n",
       " '_TypedDict',\n",
       " '_TypedDictMeta',\n",
       " '_TypingEllipsis',\n",
       " '_UnionGenericAlias',\n",
       " '_UnpackGenericAlias',\n",
       " '__all__',\n",
       " '__builtins__',\n",
       " '__cached__',\n",
       " '__doc__',\n",
       " '__file__',\n",
       " '__loader__',\n",
       " '__name__',\n",
       " '__package__',\n",
       " '__spec__',\n",
       " '_alias',\n",
       " '_allow_reckless_class_checks',\n",
       " '_allowed_types',\n",
       " '_caller',\n",
       " '_check_generic',\n",
       " '_cleanups',\n",
       " '_collect_parameters',\n",
       " '_deduplicate',\n",
       " '_eval_type',\n",
       " '_flatten_literal_params',\n",
       " '_get_protocol_attrs',\n",
       " '_idfunc',\n",
       " '_is_callable_members_only',\n",
       " '_is_dunder',\n",
       " '_is_param_expr',\n",
       " '_is_typevar_like',\n",
       " '_is_unpacked_typevartuple',\n",
       " '_make_nmtuple',\n",
       " '_namedtuple_mro_entries',\n",
       " '_no_init_or_replace_init',\n",
       " '_overload_dummy',\n",
       " '_overload_registry',\n",
       " '_prohibited',\n",
       " '_remove_dups_flatten',\n",
       " '_should_unflatten_callable_args',\n",
       " '_special',\n",
       " '_strip_annotations',\n",
       " '_tp_cache',\n",
       " '_type_check',\n",
       " '_type_convert',\n",
       " '_type_repr',\n",
       " '_unpack_args',\n",
       " '_value_and_type_iter',\n",
       " 'abstractmethod',\n",
       " 'assert_never',\n",
       " 'assert_type',\n",
       " 'cast',\n",
       " 'clear_overloads',\n",
       " 'collections',\n",
       " 'contextlib',\n",
       " 'dataclass_transform',\n",
       " 'defaultdict',\n",
       " 'final',\n",
       " 'functools',\n",
       " 'get_args',\n",
       " 'get_origin',\n",
       " 'get_overloads',\n",
       " 'get_type_hints',\n",
       " 'io',\n",
       " 'is_typeddict',\n",
       " 'no_type_check',\n",
       " 'no_type_check_decorator',\n",
       " 'operator',\n",
       " 'overload',\n",
       " 're',\n",
       " 'reveal_type',\n",
       " 'runtime_checkable',\n",
       " 'stdlib_re',\n",
       " 'sys',\n",
       " 'types',\n",
       " 'warnings']"
      ]
     },
     "execution_count": 2,
     "metadata": {},
     "output_type": "execute_result"
    }
   ],
   "source": [
    "dir(typing)"
   ]
  },
  {
   "cell_type": "code",
   "execution_count": 3,
   "id": "3ed0897b",
   "metadata": {},
   "outputs": [
    {
     "data": {
      "text/plain": [
       "typing.TypeAlias"
      ]
     },
     "execution_count": 3,
     "metadata": {},
     "output_type": "execute_result"
    }
   ],
   "source": [
    "typing.TypeAlias"
   ]
  },
  {
   "cell_type": "code",
   "execution_count": 4,
   "id": "75cd3094",
   "metadata": {},
   "outputs": [],
   "source": [
    "from collections.abc import Iterable"
   ]
  },
  {
   "cell_type": "code",
   "execution_count": 12,
   "id": "4912e464",
   "metadata": {},
   "outputs": [],
   "source": [
    "FromTo = tuple[str, str]\n",
    "\n",
    "def zip_replace(text: str, changes: Iterable[FromTo]) -> str:\n",
    "    for from_, to in changes:\n",
    "        text = text.replace(from_, to)\n",
    "    return text"
   ]
  },
  {
   "cell_type": "code",
   "execution_count": 13,
   "id": "5bda3f22",
   "metadata": {},
   "outputs": [],
   "source": [
    "l33t = [('a', '4'), ('e', '3'), ('i', '1'), ('o', '0')]"
   ]
  },
  {
   "cell_type": "code",
   "execution_count": 14,
   "id": "64193b2e",
   "metadata": {},
   "outputs": [
    {
     "data": {
      "text/plain": [
       "'m4d sk1ll3d n00b p0wn3d l33t'"
      ]
     },
     "execution_count": 14,
     "metadata": {},
     "output_type": "execute_result"
    }
   ],
   "source": [
    "zip_replace('mad skilled noob powned leet', l33t)"
   ]
  },
  {
   "cell_type": "code",
   "execution_count": 16,
   "id": "f5b8f785",
   "metadata": {},
   "outputs": [],
   "source": [
    "from collections.abc import Iterator\n",
    "from keyword import kwlist\n",
    "from typing import TYPE_CHECKING"
   ]
  },
  {
   "cell_type": "code",
   "execution_count": null,
   "id": "cb946bb1",
   "metadata": {},
   "outputs": [],
   "source": []
  }
 ],
 "metadata": {
  "kernelspec": {
   "display_name": "Python 3 (ipykernel)",
   "language": "python",
   "name": "python3"
  },
  "language_info": {
   "codemirror_mode": {
    "name": "ipython",
    "version": 3
   },
   "file_extension": ".py",
   "mimetype": "text/x-python",
   "name": "python",
   "nbconvert_exporter": "python",
   "pygments_lexer": "ipython3",
   "version": "3.11.7"
  }
 },
 "nbformat": 4,
 "nbformat_minor": 5
}
