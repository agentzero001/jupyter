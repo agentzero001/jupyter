{
 "cells": [
  {
   "cell_type": "code",
   "execution_count": 1,
   "id": "471d0466",
   "metadata": {
    "scrolled": true
   },
   "outputs": [
    {
     "name": "stdout",
     "output_type": "stream",
     "text": [
      " Volume in Laufwerk C: hat keine Bezeichnung.\n",
      " Volumeseriennummer: A055-9EBC\n",
      "\n",
      " Verzeichnis von C:\\Users\\jensm\\Desktop\\local\\GitHub\\copyandpaste\\Python&IPython\n",
      "\n",
      "08/05/2023  06:08 AM    <DIR>          .\n",
      "07/31/2023  06:23 AM    <DIR>          ..\n",
      "08/02/2023  05:50 PM    <DIR>          .ipynb_checkpoints\n",
      "07/27/2023  06:58 AM             3,922 block structure.ipynb\n",
      "08/05/2023  06:08 AM             6,285 card_deck.ipynb\n",
      "08/02/2023  05:50 PM             7,399 class method, factory and dataclass.ipynb\n",
      "07/27/2023  06:27 AM             3,331 closure class.ipynb\n",
      "06/10/2023  02:46 PM             5,940 Decorators and function timer.ipynb\n",
      "07/30/2023  06:00 PM            44,953 interactive_plot.ipynb\n",
      "07/27/2023  07:03 AM            23,568 ipython and shell.ipynb\n",
      "06/10/2023  02:46 PM             3,171 Markdown.ipynb\n",
      "07/27/2023  06:59 PM             2,093 process_and_proced.ipynb\n",
      "07/31/2023  06:35 AM                83 readme.txt\n",
      "06/27/2023  12:45 AM               138 test_module.py\n",
      "07/27/2023  07:03 AM    <DIR>          __pycache__\n",
      "              11 Datei(en),        100,883 Bytes\n",
      "               4 Verzeichnis(se), 131,821,678,592 Bytes frei\n"
     ]
    }
   ],
   "source": [
    "!dir"
   ]
  },
  {
   "cell_type": "code",
   "execution_count": 2,
   "id": "a76001b4",
   "metadata": {},
   "outputs": [
    {
     "data": {
      "text/plain": [
       "'C:\\\\Users\\\\jensm\\\\Desktop\\\\local\\\\GitHub\\\\copyandpaste\\\\Python&IPython'"
      ]
     },
     "execution_count": 2,
     "metadata": {},
     "output_type": "execute_result"
    }
   ],
   "source": [
    "%pwd"
   ]
  },
  {
   "cell_type": "code",
   "execution_count": 3,
   "id": "56832e9e",
   "metadata": {},
   "outputs": [],
   "source": [
    "prompt_output = !echo hello world"
   ]
  },
  {
   "cell_type": "code",
   "execution_count": 4,
   "id": "617238a5",
   "metadata": {},
   "outputs": [
    {
     "data": {
      "text/plain": [
       "['hello world']"
      ]
     },
     "execution_count": 4,
     "metadata": {},
     "output_type": "execute_result"
    }
   ],
   "source": [
    "prompt_output"
   ]
  },
  {
   "cell_type": "code",
   "execution_count": 5,
   "id": "4d8100af",
   "metadata": {},
   "outputs": [
    {
     "data": {
      "text/plain": [
       "' Verzeichnis von C:\\\\Users\\\\jensm\\\\Desktop\\\\local\\\\GitHub\\\\copyandpaste\\\\Python&IPython'"
      ]
     },
     "execution_count": 5,
     "metadata": {},
     "output_type": "execute_result"
    }
   ],
   "source": [
    "dir_ = !dir\n",
    "dir_[3]"
   ]
  },
  {
   "cell_type": "code",
   "execution_count": 6,
   "id": "5bbf6fff",
   "metadata": {},
   "outputs": [
    {
     "name": "stdout",
     "output_type": "stream",
     "text": [
      " Volume in Laufwerk C: hat keine Bezeichnung.\n",
      " Volumeseriennummer: A055-9EBC\n",
      "\n",
      " Verzeichnis von C:\\Users\\jensm\\Desktop\\local\\GitHub\\copyandpaste\\Python&IPython\n",
      "\n",
      "08/05/2023  06:08 AM    <DIR>          .\n",
      "07/31/2023  06:23 AM    <DIR>          ..\n",
      "08/02/2023  05:50 PM    <DIR>          .ipynb_checkpoints\n",
      "07/27/2023  06:58 AM             3,922 block structure.ipynb\n",
      "08/05/2023  06:08 AM             6,285 card_deck.ipynb\n",
      "08/02/2023  05:50 PM             7,399 class method, factory and dataclass.ipynb\n",
      "07/27/2023  06:27 AM             3,331 closure class.ipynb\n",
      "06/10/2023  02:46 PM             5,940 Decorators and function timer.ipynb\n",
      "07/30/2023  06:00 PM            44,953 interactive_plot.ipynb\n",
      "07/27/2023  07:03 AM            23,568 ipython and shell.ipynb\n",
      "06/10/2023  02:46 PM             3,171 Markdown.ipynb\n",
      "07/27/2023  06:59 PM             2,093 process_and_proced.ipynb\n",
      "07/31/2023  06:35 AM                83 readme.txt\n",
      "06/27/2023  12:45 AM               138 test_module.py\n",
      "07/27/2023  07:03 AM    <DIR>          __pycache__\n",
      "              11 Datei(en),        100,883 Bytes\n",
      "               4 Verzeichnis(se), 131,821,539,328 Bytes frei\n"
     ]
    }
   ],
   "source": [
    "!dir"
   ]
  },
  {
   "cell_type": "code",
   "execution_count": 7,
   "id": "295e556c",
   "metadata": {},
   "outputs": [],
   "source": [
    "message = 'hello from python'"
   ]
  },
  {
   "cell_type": "code",
   "execution_count": 8,
   "id": "bbf7c61e",
   "metadata": {},
   "outputs": [
    {
     "name": "stdout",
     "output_type": "stream",
     "text": [
      "hello from python\n"
     ]
    }
   ],
   "source": [
    "!echo {message}"
   ]
  },
  {
   "cell_type": "code",
   "execution_count": 9,
   "id": "a948fc41",
   "metadata": {},
   "outputs": [
    {
     "data": {
      "text/plain": [
       "IPython.utils.text.SList"
      ]
     },
     "execution_count": 9,
     "metadata": {},
     "output_type": "execute_result"
    }
   ],
   "source": [
    "type(dir_)"
   ]
  },
  {
   "cell_type": "code",
   "execution_count": 10,
   "id": "49bf1408",
   "metadata": {},
   "outputs": [
    {
     "data": {
      "text/plain": [
       "['',\n",
       " \"get_ipython().system('dir')\",\n",
       " \"get_ipython().run_line_magic('pwd', '')\",\n",
       " \"prompt_output = get_ipython().getoutput('echo hello world')\",\n",
       " 'prompt_output',\n",
       " \"dir_ = get_ipython().getoutput('dir')\\ndir_[3]\",\n",
       " \"get_ipython().system('dir')\",\n",
       " \"message = 'hello from python'\",\n",
       " \"get_ipython().system('echo {message}')\",\n",
       " 'type(dir_)']"
      ]
     },
     "execution_count": 10,
     "metadata": {},
     "output_type": "execute_result"
    }
   ],
   "source": [
    "In[:10]"
   ]
  },
  {
   "cell_type": "code",
   "execution_count": null,
   "id": "786593d1",
   "metadata": {},
   "outputs": [],
   "source": []
  },
  {
   "cell_type": "code",
   "execution_count": 12,
   "id": "3f2bfbbf",
   "metadata": {},
   "outputs": [
    {
     "data": {
      "text/plain": [
       "'C:\\\\Users\\\\jensm\\\\Desktop\\\\local\\\\GitHub\\\\copyandpaste\\\\Python&IPython'"
      ]
     },
     "execution_count": 12,
     "metadata": {},
     "output_type": "execute_result"
    }
   ],
   "source": [
    "%pwd"
   ]
  },
  {
   "cell_type": "code",
   "execution_count": 13,
   "id": "0ed6b271",
   "metadata": {},
   "outputs": [
    {
     "name": "stdout",
     "output_type": "stream",
     "text": [
      "C:\\Users\\jensm\\Desktop\\local\\GitHub\\copyandpaste\n"
     ]
    }
   ],
   "source": [
    "%cd .."
   ]
  },
  {
   "cell_type": "code",
   "execution_count": 14,
   "id": "b55a6cec",
   "metadata": {},
   "outputs": [
    {
     "data": {
      "text/plain": [
       "'C:\\\\Users\\\\jensm\\\\Desktop\\\\local\\\\GitHub\\\\copyandpaste'"
      ]
     },
     "execution_count": 14,
     "metadata": {},
     "output_type": "execute_result"
    }
   ],
   "source": [
    "%pwd"
   ]
  },
  {
   "cell_type": "code",
   "execution_count": 15,
   "id": "4d45eee3",
   "metadata": {},
   "outputs": [
    {
     "name": "stdout",
     "output_type": "stream",
     "text": [
      "[WinError 2] Das System kann die angegebene Datei nicht finden: 'local'\n",
      "C:\\Users\\jensm\\Desktop\\local\\GitHub\\copyandpaste\n"
     ]
    }
   ],
   "source": [
    "%cd local"
   ]
  },
  {
   "cell_type": "code",
   "execution_count": 16,
   "id": "e03ff047",
   "metadata": {},
   "outputs": [],
   "source": [
    "!mkdir myfolder"
   ]
  },
  {
   "cell_type": "code",
   "execution_count": 17,
   "id": "54a701d9",
   "metadata": {},
   "outputs": [
    {
     "name": "stdout",
     "output_type": "stream",
     "text": [
      "C:\\Users\\jensm\\Desktop\\local\\GitHub\\copyandpaste\\myfolder\n"
     ]
    }
   ],
   "source": [
    "%cd myfolder"
   ]
  },
  {
   "cell_type": "code",
   "execution_count": 18,
   "id": "eaef8f48",
   "metadata": {},
   "outputs": [
    {
     "data": {
      "text/plain": [
       "'C:\\\\Users\\\\jensm\\\\Desktop\\\\local\\\\GitHub\\\\copyandpaste\\\\myfolder'"
      ]
     },
     "execution_count": 18,
     "metadata": {},
     "output_type": "execute_result"
    }
   ],
   "source": [
    "%pwd"
   ]
  },
  {
   "cell_type": "code",
   "execution_count": 19,
   "id": "c0f1cb12",
   "metadata": {},
   "outputs": [],
   "source": [
    "!type nul > main.py"
   ]
  },
  {
   "cell_type": "code",
   "execution_count": 20,
   "id": "cd63673d",
   "metadata": {},
   "outputs": [],
   "source": [
    "!code ."
   ]
  },
  {
   "cell_type": "code",
   "execution_count": 21,
   "id": "4d2767f9",
   "metadata": {},
   "outputs": [],
   "source": [
    "%run main.py"
   ]
  },
  {
   "cell_type": "code",
   "execution_count": 22,
   "id": "5060edfb",
   "metadata": {},
   "outputs": [
    {
     "name": "stdout",
     "output_type": "stream",
     "text": [
      "C:\\Users\\jensm\\Desktop\\local\\GitHub\\copyandpaste\n"
     ]
    }
   ],
   "source": [
    "cd .."
   ]
  },
  {
   "cell_type": "code",
   "execution_count": 23,
   "id": "de77edf3",
   "metadata": {},
   "outputs": [
    {
     "name": "stdout",
     "output_type": "stream",
     "text": [
      "C:\\Users\\jensm\\Desktop\\local\\GitHub\\copyandpaste\\myfolder\n"
     ]
    }
   ],
   "source": [
    "cd myfolder"
   ]
  },
  {
   "cell_type": "code",
   "execution_count": 24,
   "id": "fc045eb8",
   "metadata": {},
   "outputs": [],
   "source": [
    "run main.py"
   ]
  },
  {
   "cell_type": "code",
   "execution_count": 25,
   "id": "663b177a",
   "metadata": {},
   "outputs": [
    {
     "data": {
      "text/plain": [
       "['',\n",
       " \"get_ipython().system('dir')\",\n",
       " \"get_ipython().run_line_magic('pwd', '')\",\n",
       " \"prompt_output = get_ipython().getoutput('echo hello world')\",\n",
       " 'prompt_output',\n",
       " \"dir_ = get_ipython().getoutput('dir')\\ndir_[3]\",\n",
       " \"get_ipython().system('dir')\",\n",
       " \"message = 'hello from python'\",\n",
       " \"get_ipython().system('echo {message}')\",\n",
       " 'type(dir_)',\n",
       " 'In[:10]',\n",
       " 'Out[11]',\n",
       " \"get_ipython().run_line_magic('pwd', '')\",\n",
       " \"get_ipython().run_line_magic('cd', '..')\",\n",
       " \"get_ipython().run_line_magic('pwd', '')\",\n",
       " \"get_ipython().run_line_magic('cd', 'local')\",\n",
       " \"get_ipython().system('mkdir myfolder')\",\n",
       " \"get_ipython().run_line_magic('cd', 'myfolder')\",\n",
       " \"get_ipython().run_line_magic('pwd', '')\",\n",
       " \"get_ipython().system('type nul > main.py')\",\n",
       " \"get_ipython().system('code .')\",\n",
       " \"get_ipython().run_line_magic('run', 'main.py')\",\n",
       " \"get_ipython().run_line_magic('cd', '..')\",\n",
       " \"get_ipython().run_line_magic('cd', 'myfolder')\",\n",
       " \"get_ipython().run_line_magic('run', 'main.py')\",\n",
       " 'In']"
      ]
     },
     "execution_count": 25,
     "metadata": {},
     "output_type": "execute_result"
    }
   ],
   "source": [
    "In"
   ]
  },
  {
   "cell_type": "code",
   "execution_count": 26,
   "id": "eec668e7",
   "metadata": {},
   "outputs": [
    {
     "name": "stdout",
     "output_type": "stream",
     "text": [
      "Exception reporting mode: Verbose\n"
     ]
    }
   ],
   "source": [
    "%xmode verbose"
   ]
  },
  {
   "cell_type": "code",
   "execution_count": 27,
   "id": "d8c2ec47",
   "metadata": {},
   "outputs": [
    {
     "name": "stdout",
     "output_type": "stream",
     "text": [
      "   1: !dir\n",
      "   2: %pwd\n"
     ]
    }
   ],
   "source": [
    "%history -n 1-2"
   ]
  },
  {
   "cell_type": "code",
   "execution_count": 28,
   "id": "79fbdab9",
   "metadata": {},
   "outputs": [
    {
     "data": {
      "text/plain": [
       "{2: 'C:\\\\Users\\\\jensm\\\\Desktop\\\\local\\\\GitHub\\\\copyandpaste\\\\Python&IPython',\n",
       " 4: ['hello world'],\n",
       " 5: ' Verzeichnis von C:\\\\Users\\\\jensm\\\\Desktop\\\\local\\\\GitHub\\\\copyandpaste\\\\Python&IPython',\n",
       " 9: IPython.utils.text.SList,\n",
       " 10: ['',\n",
       "  \"get_ipython().system('dir')\",\n",
       "  \"get_ipython().run_line_magic('pwd', '')\",\n",
       "  \"prompt_output = get_ipython().getoutput('echo hello world')\",\n",
       "  'prompt_output',\n",
       "  \"dir_ = get_ipython().getoutput('dir')\\ndir_[3]\",\n",
       "  \"get_ipython().system('dir')\",\n",
       "  \"message = 'hello from python'\",\n",
       "  \"get_ipython().system('echo {message}')\",\n",
       "  'type(dir_)'],\n",
       " 12: 'C:\\\\Users\\\\jensm\\\\Desktop\\\\local\\\\GitHub\\\\copyandpaste\\\\Python&IPython',\n",
       " 14: 'C:\\\\Users\\\\jensm\\\\Desktop\\\\local\\\\GitHub\\\\copyandpaste',\n",
       " 18: 'C:\\\\Users\\\\jensm\\\\Desktop\\\\local\\\\GitHub\\\\copyandpaste\\\\myfolder',\n",
       " 25: ['',\n",
       "  \"get_ipython().system('dir')\",\n",
       "  \"get_ipython().run_line_magic('pwd', '')\",\n",
       "  \"prompt_output = get_ipython().getoutput('echo hello world')\",\n",
       "  'prompt_output',\n",
       "  \"dir_ = get_ipython().getoutput('dir')\\ndir_[3]\",\n",
       "  \"get_ipython().system('dir')\",\n",
       "  \"message = 'hello from python'\",\n",
       "  \"get_ipython().system('echo {message}')\",\n",
       "  'type(dir_)',\n",
       "  'In[:10]',\n",
       "  'Out[11]',\n",
       "  \"get_ipython().run_line_magic('pwd', '')\",\n",
       "  \"get_ipython().run_line_magic('cd', '..')\",\n",
       "  \"get_ipython().run_line_magic('pwd', '')\",\n",
       "  \"get_ipython().run_line_magic('cd', 'local')\",\n",
       "  \"get_ipython().system('mkdir myfolder')\",\n",
       "  \"get_ipython().run_line_magic('cd', 'myfolder')\",\n",
       "  \"get_ipython().run_line_magic('pwd', '')\",\n",
       "  \"get_ipython().system('type nul > main.py')\",\n",
       "  \"get_ipython().system('code .')\",\n",
       "  \"get_ipython().run_line_magic('run', 'main.py')\",\n",
       "  \"get_ipython().run_line_magic('cd', '..')\",\n",
       "  \"get_ipython().run_line_magic('cd', 'myfolder')\",\n",
       "  \"get_ipython().run_line_magic('run', 'main.py')\",\n",
       "  'In',\n",
       "  \"get_ipython().run_line_magic('xmode', 'verbose')\",\n",
       "  \"get_ipython().run_line_magic('history', '-n 1-2')\",\n",
       "  'Out']}"
      ]
     },
     "execution_count": 28,
     "metadata": {},
     "output_type": "execute_result"
    }
   ],
   "source": [
    "Out"
   ]
  },
  {
   "cell_type": "code",
   "execution_count": 29,
   "id": "b6414de0",
   "metadata": {},
   "outputs": [],
   "source": [
    "import jupyter"
   ]
  },
  {
   "cell_type": "code",
   "execution_count": 30,
   "id": "533fa51a",
   "metadata": {},
   "outputs": [
    {
     "data": {
      "text/plain": [
       "['__builtins__',\n",
       " '__cached__',\n",
       " '__doc__',\n",
       " '__file__',\n",
       " '__loader__',\n",
       " '__name__',\n",
       " '__package__',\n",
       " '__spec__']"
      ]
     },
     "execution_count": 30,
     "metadata": {},
     "output_type": "execute_result"
    }
   ],
   "source": [
    "dir(jupyter)"
   ]
  },
  {
   "cell_type": "code",
   "execution_count": 31,
   "id": "e04f1a67",
   "metadata": {},
   "outputs": [],
   "source": [
    "%load_ext?"
   ]
  },
  {
   "cell_type": "code",
   "execution_count": 51,
   "id": "fe06654a",
   "metadata": {},
   "outputs": [],
   "source": [
    "import numpy as np\n",
    "def A(x):\n",
    "    B = [x**10 for x in range(10000)]\n",
    "    C = np.array(B)\n",
    "    C * 20000\n",
    "    return C[0]"
   ]
  },
  {
   "cell_type": "code",
   "execution_count": 52,
   "id": "b1631089",
   "metadata": {},
   "outputs": [
    {
     "name": "stdout",
     "output_type": "stream",
     "text": [
      "CPU times: total: 15.6 ms\n",
      "Wall time: 3 ms\n"
     ]
    },
    {
     "data": {
      "text/plain": [
       "0"
      ]
     },
     "execution_count": 52,
     "metadata": {},
     "output_type": "execute_result"
    }
   ],
   "source": [
    "%time A(20)"
   ]
  },
  {
   "cell_type": "code",
   "execution_count": 54,
   "id": "1189d1c5",
   "metadata": {},
   "outputs": [
    {
     "name": "stdout",
     "output_type": "stream",
     "text": [
      " "
     ]
    }
   ],
   "source": [
    "%prun A(20)"
   ]
  },
  {
   "cell_type": "code",
   "execution_count": 35,
   "id": "3fd71863",
   "metadata": {},
   "outputs": [
    {
     "name": "stdout",
     "output_type": "stream",
     "text": [
      "Requirement already satisfied: line_profiler in c:\\users\\jensm\\appdata\\local\\programs\\python\\python311\\lib\\site-packages (4.0.3)\n"
     ]
    }
   ],
   "source": [
    "!pip install line_profiler"
   ]
  },
  {
   "cell_type": "code",
   "execution_count": 36,
   "id": "84ca722a",
   "metadata": {},
   "outputs": [],
   "source": [
    "%load_ext line_profiler"
   ]
  },
  {
   "cell_type": "code",
   "execution_count": 55,
   "id": "1478ac74",
   "metadata": {},
   "outputs": [],
   "source": [
    "%lprun?"
   ]
  },
  {
   "cell_type": "code",
   "execution_count": 38,
   "id": "415246dd",
   "metadata": {},
   "outputs": [],
   "source": [
    "%lprun -f A A(20)"
   ]
  },
  {
   "cell_type": "code",
   "execution_count": 39,
   "id": "f60986fd",
   "metadata": {},
   "outputs": [
    {
     "name": "stdout",
     "output_type": "stream",
     "text": [
      "Requirement already satisfied: memory_profiler in c:\\users\\jensm\\appdata\\local\\programs\\python\\python311\\lib\\site-packages (0.61.0)\n",
      "Requirement already satisfied: psutil in c:\\users\\jensm\\appdata\\local\\programs\\python\\python311\\lib\\site-packages (from memory_profiler) (5.9.4)\n"
     ]
    }
   ],
   "source": [
    "!pip install memory_profiler"
   ]
  },
  {
   "cell_type": "code",
   "execution_count": 40,
   "id": "693362e7",
   "metadata": {},
   "outputs": [],
   "source": [
    "%load_ext memory_profiler"
   ]
  },
  {
   "cell_type": "code",
   "execution_count": 41,
   "id": "ce83a70f",
   "metadata": {},
   "outputs": [
    {
     "name": "stdout",
     "output_type": "stream",
     "text": [
      "peak memory: 96.15 MiB, increment: 1.19 MiB\n"
     ]
    }
   ],
   "source": [
    "%memit A(50)"
   ]
  },
  {
   "cell_type": "code",
   "execution_count": 42,
   "id": "65268b8f",
   "metadata": {},
   "outputs": [
    {
     "name": "stdout",
     "output_type": "stream",
     "text": [
      "Writing test_module.py\n"
     ]
    }
   ],
   "source": [
    "%%file test_module.py\n",
    "\n",
    "import numpy as np\n",
    "def test_function(x):\n",
    "    B = [x **10 for x in range(10000)]\n",
    "    C = np.array(B)\n",
    "    C * 20000\n",
    "    return C[0] "
   ]
  },
  {
   "cell_type": "code",
   "execution_count": 43,
   "id": "a03e295b",
   "metadata": {},
   "outputs": [],
   "source": [
    "import test_module as m1"
   ]
  },
  {
   "cell_type": "code",
   "execution_count": 56,
   "id": "7aede50c",
   "metadata": {},
   "outputs": [
    {
     "name": "stdout",
     "output_type": "stream",
     "text": [
      "\n"
     ]
    }
   ],
   "source": [
    "%mprun -f m1.test_function m1.test_function(2000)"
   ]
  },
  {
   "cell_type": "code",
   "execution_count": 45,
   "id": "c7c6860b",
   "metadata": {},
   "outputs": [
    {
     "data": {
      "text/plain": [
       "array([[1, 2, 3]])"
      ]
     },
     "execution_count": 45,
     "metadata": {},
     "output_type": "execute_result"
    }
   ],
   "source": [
    "import numpy as np\n",
    "x = np.array([1,2,3])\n",
    "x[np.newaxis,:]"
   ]
  },
  {
   "cell_type": "code",
   "execution_count": 46,
   "id": "58bad7cb",
   "metadata": {},
   "outputs": [
    {
     "data": {
      "text/plain": [
       "array([[1],\n",
       "       [2],\n",
       "       [3]])"
      ]
     },
     "execution_count": 46,
     "metadata": {},
     "output_type": "execute_result"
    }
   ],
   "source": [
    "x[:, np.newaxis]"
   ]
  },
  {
   "cell_type": "code",
   "execution_count": 47,
   "id": "e850a999",
   "metadata": {},
   "outputs": [
    {
     "data": {
      "text/plain": [
       "array([1, 2, 3])"
      ]
     },
     "execution_count": 47,
     "metadata": {},
     "output_type": "execute_result"
    }
   ],
   "source": [
    "x"
   ]
  },
  {
   "cell_type": "code",
   "execution_count": 48,
   "id": "fd2c9ada",
   "metadata": {},
   "outputs": [
    {
     "data": {
      "text/plain": [
       "array([[2, 3, 4],\n",
       "       [3, 4, 5],\n",
       "       [4, 5, 6]])"
      ]
     },
     "execution_count": 48,
     "metadata": {},
     "output_type": "execute_result"
    }
   ],
   "source": [
    "x + x[:, np.newaxis]"
   ]
  },
  {
   "cell_type": "code",
   "execution_count": 57,
   "id": "f6e46970",
   "metadata": {},
   "outputs": [
    {
     "data": {
      "text/plain": [
       "['',\n",
       " \"get_ipython().system('dir')\",\n",
       " \"get_ipython().run_line_magic('pwd', '')\",\n",
       " \"prompt_output = get_ipython().getoutput('echo hello world')\",\n",
       " 'prompt_output',\n",
       " \"dir_ = get_ipython().getoutput('dir')\\ndir_[3]\",\n",
       " \"get_ipython().system('dir')\",\n",
       " \"message = 'hello from python'\",\n",
       " \"get_ipython().system('echo {message}')\",\n",
       " 'type(dir_)',\n",
       " 'In[:10]',\n",
       " 'Out[11]',\n",
       " \"get_ipython().run_line_magic('pwd', '')\",\n",
       " \"get_ipython().run_line_magic('cd', '..')\",\n",
       " \"get_ipython().run_line_magic('pwd', '')\",\n",
       " \"get_ipython().run_line_magic('cd', 'local')\",\n",
       " \"get_ipython().system('mkdir myfolder')\",\n",
       " \"get_ipython().run_line_magic('cd', 'myfolder')\",\n",
       " \"get_ipython().run_line_magic('pwd', '')\",\n",
       " \"get_ipython().system('type nul > main.py')\",\n",
       " \"get_ipython().system('code .')\",\n",
       " \"get_ipython().run_line_magic('run', 'main.py')\",\n",
       " \"get_ipython().run_line_magic('cd', '..')\",\n",
       " \"get_ipython().run_line_magic('cd', 'myfolder')\",\n",
       " \"get_ipython().run_line_magic('run', 'main.py')\",\n",
       " 'In',\n",
       " \"get_ipython().run_line_magic('xmode', 'verbose')\",\n",
       " \"get_ipython().run_line_magic('history', '-n 1-2')\",\n",
       " 'Out',\n",
       " 'import jupyter',\n",
       " 'dir(jupyter)',\n",
       " \"get_ipython().run_line_magic('pinfo', '%load_ext')\",\n",
       " 'import numpy as np\\ndef A(x):\\n    B = [x **10 for x in range(10000)]\\n    C = np.array(B)\\n    C * 20000\\n    return C[0]',\n",
       " \"get_ipython().run_line_magic('time', 'A(20)')\",\n",
       " \"get_ipython().run_line_magic('prun', 'A(20)')\",\n",
       " \"get_ipython().system('pip install line_profiler')\",\n",
       " \"get_ipython().run_line_magic('load_ext', 'line_profiler')\",\n",
       " \"get_ipython().run_line_magic('pinfo', '%lprun')\",\n",
       " \"get_ipython().run_line_magic('lprun', '-f A A(20)')\",\n",
       " \"get_ipython().system('pip install memory_profiler')\",\n",
       " \"get_ipython().run_line_magic('load_ext', 'memory_profiler')\",\n",
       " \"get_ipython().run_line_magic('memit', 'A(50)')\",\n",
       " \"get_ipython().run_cell_magic('file', 'test_module.py', '\\\\nimport numpy as np\\\\ndef test_function(x):\\\\n    B = [x **10 for x in range(10000)]\\\\n    C = np.array(B)\\\\n    C * 20000\\\\n    return C[0] \\\\n')\",\n",
       " 'import test_module as m1',\n",
       " \"get_ipython().run_line_magic('mprun', '-f m1.test_function m1.test_function(2000)')\",\n",
       " 'import numpy as np\\nx = np.array([1,2,3])\\nx[np.newaxis,:]',\n",
       " 'x[:, np.newaxis]',\n",
       " 'x',\n",
       " 'x + x[:, np.newaxis]',\n",
       " 'import numpy as np\\ndef A(x):\\n    B = [x**10 for x in range(10000)]\\n    C = np.array(B)\\n    C * 20000\\n    return C[0]',\n",
       " \"get_ipython().run_line_magic('time', 'A(20)')\",\n",
       " 'import numpy as np\\ndef A(x):\\n    B = [x**10 for x in range(10000)]\\n    C = np.array(B)\\n    C * 20000\\n    return C[0]',\n",
       " \"get_ipython().run_line_magic('time', 'A(20)')\",\n",
       " \"get_ipython().run_line_magic('prun', 'A(20)')\",\n",
       " \"get_ipython().run_line_magic('prun', 'A(20)')\",\n",
       " \"get_ipython().run_line_magic('pinfo', '%lprun')\",\n",
       " \"get_ipython().run_line_magic('mprun', '-f m1.test_function m1.test_function(2000)')\",\n",
       " 'In']"
      ]
     },
     "execution_count": 57,
     "metadata": {},
     "output_type": "execute_result"
    }
   ],
   "source": [
    "In"
   ]
  },
  {
   "cell_type": "code",
   "execution_count": null,
   "id": "a36b3dc5",
   "metadata": {},
   "outputs": [],
   "source": []
  },
  {
   "cell_type": "code",
   "execution_count": null,
   "id": "72dfe9d6",
   "metadata": {},
   "outputs": [],
   "source": []
  }
 ],
 "metadata": {
  "kernelspec": {
   "display_name": "Python 3 (ipykernel)",
   "language": "python",
   "name": "python3"
  },
  "language_info": {
   "codemirror_mode": {
    "name": "ipython",
    "version": 3
   },
   "file_extension": ".py",
   "mimetype": "text/x-python",
   "name": "python",
   "nbconvert_exporter": "python",
   "pygments_lexer": "ipython3",
   "version": "3.11.3"
  }
 },
 "nbformat": 4,
 "nbformat_minor": 5
}
