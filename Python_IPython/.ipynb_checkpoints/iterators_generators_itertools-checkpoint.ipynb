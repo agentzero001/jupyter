{
 "cells": [
  {
   "cell_type": "markdown",
   "id": "18f69bd6",
   "metadata": {},
   "source": [
    "# iterables\n",
    "Any object from which the iter built-in function can obtain an iterator. Objects\n",
    "implementing an \\__iter__ method returning an iterator are iterable. Sequences\n",
    "are always iterable, as are objects implementing a \\__getitem__ method that\n",
    "accepts 0-based indexes."
   ]
  },
  {
   "cell_type": "code",
   "execution_count": 307,
   "id": "664de64b",
   "metadata": {},
   "outputs": [
    {
     "data": {
      "text/plain": [
       "['1', '2', '3']"
      ]
     },
     "execution_count": 307,
     "metadata": {},
     "output_type": "execute_result"
    }
   ],
   "source": [
    "#Some people, when confronted with a problem, think \"I know, I'll use regular expressions.\" \n",
    "#Now they have two problems.\n",
    "import re\n",
    "import reprlib\n",
    "\n",
    "RE_WORD = re.compile(r'\\w+')\n",
    "RE_WORD.findall('1 2 3')"
   ]
  },
  {
   "cell_type": "code",
   "execution_count": 308,
   "id": "c2c51633",
   "metadata": {},
   "outputs": [],
   "source": [
    "class Sentence:\n",
    "    def __init__(self, text):\n",
    "        self.text = text\n",
    "        self.words = RE_WORD.findall(text)\n",
    "    \n",
    "    def __getitem__(self, index):\n",
    "         return self.words[index]\n",
    "        \n",
    "    def __len__(self):\n",
    "        return len(self.words)\n",
    "    \n",
    "    def __repr__(self):\n",
    "        return 'Sentence(%s)' % reprlib.repr(self.text) #for abbreviation"
   ]
  },
  {
   "cell_type": "code",
   "execution_count": 309,
   "id": "ac8e10e5",
   "metadata": {},
   "outputs": [
    {
     "data": {
      "text/plain": [
       "Sentence('\"the time ha... Walrus said,')"
      ]
     },
     "execution_count": 309,
     "metadata": {},
     "output_type": "execute_result"
    }
   ],
   "source": [
    "s = Sentence('\"the time has come,\" the Walrus said,')\n",
    "s"
   ]
  },
  {
   "cell_type": "code",
   "execution_count": 310,
   "id": "6bd55265",
   "metadata": {},
   "outputs": [
    {
     "name": "stdout",
     "output_type": "stream",
     "text": [
      "the\n",
      "time\n",
      "has\n",
      "come\n",
      "the\n",
      "Walrus\n",
      "said\n"
     ]
    }
   ],
   "source": [
    "#whenever python needs to iterate over an object x, it automatically calls iter(x)\n",
    "#if __iter__ is missing iter() will call __getitem__()\n",
    "for word in s:\n",
    "    print(word)"
   ]
  },
  {
   "cell_type": "code",
   "execution_count": 311,
   "id": "add8625d",
   "metadata": {},
   "outputs": [
    {
     "data": {
      "text/plain": [
       "['the', 'time', 'has', 'come', 'the', 'Walrus', 'said']"
      ]
     },
     "execution_count": 311,
     "metadata": {},
     "output_type": "execute_result"
    }
   ],
   "source": [
    "list(s)"
   ]
  },
  {
   "cell_type": "code",
   "execution_count": 312,
   "id": "e661fa45",
   "metadata": {},
   "outputs": [
    {
     "data": {
      "text/plain": [
       "{'Walrus', 'come', 'has', 'said', 'the', 'time'}"
      ]
     },
     "execution_count": 312,
     "metadata": {},
     "output_type": "execute_result"
    }
   ],
   "source": [
    "set(s)"
   ]
  },
  {
   "cell_type": "code",
   "execution_count": 313,
   "id": "99b7275b",
   "metadata": {},
   "outputs": [
    {
     "data": {
      "text/plain": [
       "(True, True)"
      ]
     },
     "execution_count": 313,
     "metadata": {},
     "output_type": "execute_result"
    }
   ],
   "source": [
    "from collections import abc\n",
    "\n",
    "class GooseSpam:\n",
    "    def __iter__(self):\n",
    "        pass\n",
    "\n",
    "\n",
    "goose_spam_can = GooseSpam()\n",
    "\n",
    "issubclass(GooseSpam, abc.Iterable), isinstance(goose_spam_can, abc.Iterable)"
   ]
  },
  {
   "cell_type": "markdown",
   "id": "1cfc2bfe",
   "metadata": {},
   "source": [
    "# Iterators"
   ]
  },
  {
   "cell_type": "code",
   "execution_count": 314,
   "id": "453eadaf",
   "metadata": {},
   "outputs": [],
   "source": [
    "import random\n",
    "\n",
    "def d6():\n",
    "    return random.randint(1, 6)"
   ]
  },
  {
   "cell_type": "code",
   "execution_count": 315,
   "id": "f4adf728",
   "metadata": {},
   "outputs": [
    {
     "data": {
      "text/plain": [
       "(5, callable_iterator)"
      ]
     },
     "execution_count": 315,
     "metadata": {},
     "output_type": "execute_result"
    }
   ],
   "source": [
    "d6_iter = iter(d6, 1) # __iter__ will create an iterator out of an itrable\n",
    "next(d6_iter), type(d6_iter)"
   ]
  },
  {
   "cell_type": "code",
   "execution_count": 316,
   "id": "7893f869",
   "metadata": {},
   "outputs": [
    {
     "name": "stdout",
     "output_type": "stream",
     "text": [
      "3\n",
      "4\n"
     ]
    }
   ],
   "source": [
    "for roll in d6_iter:\n",
    "    print(roll)"
   ]
  },
  {
   "cell_type": "code",
   "execution_count": 317,
   "id": "26fe3003",
   "metadata": {},
   "outputs": [
    {
     "name": "stdout",
     "output_type": "stream",
     "text": [
      "A\n",
      "B\n",
      "C\n"
     ]
    }
   ],
   "source": [
    "s = 'ABC'\n",
    "it = iter(s) \n",
    "\n",
    "while True:\n",
    "    try:\n",
    "        print(next(it)) \n",
    "    except StopIteration: \n",
    "        del it \n",
    "        break "
   ]
  },
  {
   "cell_type": "markdown",
   "id": "4258a25d",
   "metadata": {},
   "source": [
    "### Python’s standard interface for an iterator has two methods:\n",
    "\\__next__:\n",
    "Returns the next item in the series, raising StopIteration if there are no more.\n",
    "\n",
    "\\__iter__:\n",
    "Returns self; this allows iterators to be used where an iterable is expected, for\n",
    "example, in a for loop."
   ]
  },
  {
   "cell_type": "code",
   "execution_count": 318,
   "id": "42d46142",
   "metadata": {},
   "outputs": [],
   "source": [
    "s3 = Sentence('Life of Brian')\n",
    "it = iter(s3)"
   ]
  },
  {
   "cell_type": "code",
   "execution_count": 319,
   "id": "5b5a18e8",
   "metadata": {},
   "outputs": [
    {
     "data": {
      "text/plain": [
       "('Life', 'of', 'Brian')"
      ]
     },
     "execution_count": 319,
     "metadata": {},
     "output_type": "execute_result"
    }
   ],
   "source": [
    "next(it), next(it), next(it)"
   ]
  },
  {
   "cell_type": "code",
   "execution_count": 320,
   "id": "51e8ddc2",
   "metadata": {},
   "outputs": [
    {
     "data": {
      "text/plain": [
       "[]"
      ]
     },
     "execution_count": 320,
     "metadata": {},
     "output_type": "execute_result"
    }
   ],
   "source": [
    "list(it)"
   ]
  },
  {
   "cell_type": "code",
   "execution_count": 321,
   "id": "696f6ed3",
   "metadata": {},
   "outputs": [
    {
     "data": {
      "text/plain": [
       "['Life', 'of', 'Brian']"
      ]
     },
     "execution_count": 321,
     "metadata": {},
     "output_type": "execute_result"
    }
   ],
   "source": [
    "list(iter(s3))"
   ]
  },
  {
   "cell_type": "code",
   "execution_count": 322,
   "id": "6bfc8207",
   "metadata": {},
   "outputs": [],
   "source": [
    "class Sentence:\n",
    "    def __init__(self, text):\n",
    "        self.text = text\n",
    "        self.words = RE_WORD.findall(text)\n",
    "    \n",
    "    def __repr__(self):\n",
    "        return f'Sentence({reprlib.repr(self.text)})'\n",
    "\n",
    "    \n",
    "    def __iter__(self):\n",
    "        return SentenceIterator(self.words)\n",
    "    \n",
    "class SentenceIterator:\n",
    "    def __init__(self, words):\n",
    "        self.words = words\n",
    "        self.index = 0\n",
    "        \n",
    "    def __next__(self):\n",
    "        try:\n",
    "            word = self.words[self.index]\n",
    "        except IndexError:\n",
    "            raise StopIteration()\n",
    "        self.index += 1\n",
    "        return word\n",
    "    \n",
    "    def __iter__(self):\n",
    "        return self"
   ]
  },
  {
   "cell_type": "code",
   "execution_count": 323,
   "id": "8b80a3e8",
   "metadata": {},
   "outputs": [
    {
     "data": {
      "text/plain": [
       "('hello', ['good', 'bye', 'hi', 'firend'])"
      ]
     },
     "execution_count": 323,
     "metadata": {},
     "output_type": "execute_result"
    }
   ],
   "source": [
    "s4 = Sentence('hello good bye hi firend')\n",
    "it = iter(s4)\n",
    "next(it), list(it)"
   ]
  },
  {
   "cell_type": "markdown",
   "id": "27fc4c86",
   "metadata": {},
   "source": [
    "A common cause of errors in building iterables and iterators is to confuse the two. To\n",
    "be clear: iterables have an \\__iter__ method that instantiates a new iterator every\n",
    "time. Iterators implement a \\__next__ method that returns individual items, and an\n",
    "\\__iter__ method that returns self."
   ]
  },
  {
   "cell_type": "markdown",
   "id": "9f8e40ca",
   "metadata": {},
   "source": [
    "To “support multiple traversals,” it must be possible to obtain multiple independent\n",
    "iterators from the same iterable instance, and each iterator must keep its own internal\n",
    "state, so a proper implementation of the pattern requires each call to iter(my_itera\n",
    "ble) to create a new, independent, iterator. That is why we need the SentenceItera\n",
    "tor class in this example"
   ]
  },
  {
   "cell_type": "code",
   "execution_count": 324,
   "id": "68f59351",
   "metadata": {},
   "outputs": [],
   "source": [
    "#just ignore this one\n",
    "class Sentence:\n",
    "    def __init__(self, text):\n",
    "        self.text = text\n",
    "        self.words = RE_WORD.findall(text)\n",
    "    \n",
    "    def __repr__(self):\n",
    "        return f'Sentence({reprlib.repr(self.text)})'\n",
    "\n",
    "    def __iter__(self):\n",
    "        return iter(self.words)"
   ]
  },
  {
   "cell_type": "code",
   "execution_count": 325,
   "id": "978b97ef",
   "metadata": {},
   "outputs": [
    {
     "data": {
      "text/plain": [
       "('hallo', ['good', 'bye', 'hi'])"
      ]
     },
     "execution_count": 325,
     "metadata": {},
     "output_type": "execute_result"
    }
   ],
   "source": [
    "s3 = Sentence('hallo good bye hi')\n",
    "it = iter(s3)\n",
    "next(it), list(it)"
   ]
  },
  {
   "cell_type": "code",
   "execution_count": 326,
   "id": "27ccd5b2",
   "metadata": {},
   "outputs": [],
   "source": [
    "class Sentence2:\n",
    "    def __init__(self, text):\n",
    "        self.text = text\n",
    "        self.words = RE_WORD.findall(text)\n",
    "    \n",
    "    def __repr__(self):\n",
    "        return f'Sentence({reprlib.repr(self.text)})'\n",
    "\n",
    "    def __iter__(self):\n",
    "        for word in self.words:\n",
    "            yield word       "
   ]
  },
  {
   "cell_type": "code",
   "execution_count": 327,
   "id": "3aebca11",
   "metadata": {},
   "outputs": [
    {
     "name": "stdout",
     "output_type": "stream",
     "text": [
      "hallo\n",
      "good\n",
      "bye\n",
      "hi\n"
     ]
    },
    {
     "data": {
      "text/plain": [
       "('hallo', ['good', 'bye', 'hi'])"
      ]
     },
     "execution_count": 327,
     "metadata": {},
     "output_type": "execute_result"
    }
   ],
   "source": [
    "s = Sentence2('hallo good bye hi')\n",
    "for w in s:\n",
    "    print(w)\n",
    "    \n",
    "it = iter(s)\n",
    "next(it), list(it)"
   ]
  },
  {
   "cell_type": "code",
   "execution_count": 328,
   "id": "234a1dd8",
   "metadata": {},
   "outputs": [],
   "source": [
    "#generators implement the iterator interface, so they are also iterable"
   ]
  },
  {
   "cell_type": "code",
   "execution_count": 329,
   "id": "9cf1fb38",
   "metadata": {},
   "outputs": [
    {
     "data": {
      "text/plain": [
       "(<function __main__.gen_123()>,\n",
       " <generator object gen_123 at 0x000001C39433D7A0>)"
      ]
     },
     "execution_count": 329,
     "metadata": {},
     "output_type": "execute_result"
    }
   ],
   "source": [
    "def gen_123():\n",
    "    yield 1\n",
    "    yield 2\n",
    "    yield 3\n",
    "    \n",
    "gen_123, gen_123()"
   ]
  },
  {
   "cell_type": "code",
   "execution_count": 330,
   "id": "f5dd92a3",
   "metadata": {},
   "outputs": [
    {
     "name": "stdout",
     "output_type": "stream",
     "text": [
      "1\n",
      "2\n",
      "3\n"
     ]
    }
   ],
   "source": [
    "for i in gen_123():\n",
    "    print(i)"
   ]
  },
  {
   "cell_type": "code",
   "execution_count": 331,
   "id": "69d4ca8c",
   "metadata": {},
   "outputs": [
    {
     "data": {
      "text/plain": [
       "(1, 2, 3)"
      ]
     },
     "execution_count": 331,
     "metadata": {},
     "output_type": "execute_result"
    }
   ],
   "source": [
    "g = gen_123()\n",
    "next(g), next(g), next(g)"
   ]
  },
  {
   "cell_type": "code",
   "execution_count": 332,
   "id": "fef13ba9",
   "metadata": {},
   "outputs": [],
   "source": [
    "#when the generator function returns it raises StopIteration\n",
    "#next(g)"
   ]
  },
  {
   "cell_type": "code",
   "execution_count": 333,
   "id": "4fcb662d",
   "metadata": {},
   "outputs": [],
   "source": [
    "#the most lazy version of Sentence \n",
    "class Sentence:\n",
    "    def __init__(self, text):\n",
    "        self.text = text\n",
    "        \n",
    "    def __repr__(self):\n",
    "        return f'Sentence({reprlib.repr(self.text)})'\n",
    "\n",
    "    def __iter__(self):\n",
    "        for match in RE_WORD.finditer(self.text):\n",
    "            yield match.group()"
   ]
  },
  {
   "cell_type": "code",
   "execution_count": 334,
   "id": "82f7820b",
   "metadata": {},
   "outputs": [],
   "source": [
    "class Sentence:\n",
    "    def __init__(self, text):\n",
    "        self.text = text\n",
    "        \n",
    "    def __repr__(self):\n",
    "        return f'Sentence({reprlib.repr(self.text)})'\n",
    "\n",
    "    def __iter__(self):\n",
    "        return (match.group() for match in RE_WORD.finditer(self.text))"
   ]
  },
  {
   "cell_type": "code",
   "execution_count": 335,
   "id": "80c145e2",
   "metadata": {},
   "outputs": [
    {
     "data": {
      "text/plain": [
       "('1', ['2', '3', 'hallo', 'good', 'bye'])"
      ]
     },
     "execution_count": 335,
     "metadata": {},
     "output_type": "execute_result"
    }
   ],
   "source": [
    "s = Sentence('1 2 3 hallo good bye')\n",
    "it = iter(s)\n",
    "next(it), list(it)"
   ]
  },
  {
   "cell_type": "code",
   "execution_count": 336,
   "id": "13f849d0",
   "metadata": {},
   "outputs": [
    {
     "name": "stdout",
     "output_type": "stream",
     "text": [
      "<re.Match object; span=(0, 1), match='1'>\n",
      "<re.Match object; span=(2, 3), match='2'>\n",
      "<re.Match object; span=(4, 5), match='3'>\n"
     ]
    }
   ],
   "source": [
    "for i in RE_WORD.finditer('1 2 3'):\n",
    "    print(i)"
   ]
  },
  {
   "cell_type": "markdown",
   "id": "23e0e332",
   "metadata": {},
   "source": [
    "# Generators"
   ]
  },
  {
   "cell_type": "code",
   "execution_count": 337,
   "id": "5aa70e59",
   "metadata": {},
   "outputs": [],
   "source": [
    "def gen_AB():\n",
    "    print('start')\n",
    "    yield 'A'\n",
    "    print('continue')\n",
    "    yield 'B'\n",
    "    print('end')"
   ]
  },
  {
   "cell_type": "code",
   "execution_count": 338,
   "id": "2e0ac2c6",
   "metadata": {},
   "outputs": [
    {
     "name": "stdout",
     "output_type": "stream",
     "text": [
      "start\n",
      "continue\n",
      "end\n"
     ]
    }
   ],
   "source": [
    "res1 = [3*x for x in gen_AB()]"
   ]
  },
  {
   "cell_type": "code",
   "execution_count": 339,
   "id": "f5bc15dd",
   "metadata": {},
   "outputs": [
    {
     "data": {
      "text/plain": [
       "['AAA', 'BBB']"
      ]
     },
     "execution_count": 339,
     "metadata": {},
     "output_type": "execute_result"
    }
   ],
   "source": [
    "res1"
   ]
  },
  {
   "cell_type": "code",
   "execution_count": 340,
   "id": "8253daaa",
   "metadata": {},
   "outputs": [
    {
     "data": {
      "text/plain": [
       "<generator object <genexpr> at 0x000001C394B4B5E0>"
      ]
     },
     "execution_count": 340,
     "metadata": {},
     "output_type": "execute_result"
    }
   ],
   "source": [
    "res2 = (3*x for x in gen_AB())\n",
    "res2"
   ]
  },
  {
   "cell_type": "code",
   "execution_count": 341,
   "id": "1ff8b07a",
   "metadata": {},
   "outputs": [
    {
     "name": "stdout",
     "output_type": "stream",
     "text": [
      "start\n",
      "--> AAA\n",
      "continue\n",
      "--> BBB\n",
      "end\n"
     ]
    }
   ],
   "source": [
    "for i in res2:\n",
    "    print('-->', i)"
   ]
  },
  {
   "cell_type": "code",
   "execution_count": 342,
   "id": "8d045101",
   "metadata": {},
   "outputs": [
    {
     "data": {
      "text/plain": [
       "<generator object <genexpr> at 0x000001C394BF5E50>"
      ]
     },
     "execution_count": 342,
     "metadata": {},
     "output_type": "execute_result"
    }
   ],
   "source": [
    "#generator expression\n",
    "(2 * x for x in [1,2,3])"
   ]
  },
  {
   "cell_type": "code",
   "execution_count": 343,
   "id": "3a581e9e",
   "metadata": {},
   "outputs": [
    {
     "data": {
      "text/plain": [
       "6.0"
      ]
     },
     "execution_count": 343,
     "metadata": {},
     "output_type": "execute_result"
    }
   ],
   "source": [
    "type(8.0)(6)"
   ]
  },
  {
   "cell_type": "code",
   "execution_count": 344,
   "id": "ef7a6596",
   "metadata": {},
   "outputs": [],
   "source": [
    "def aritprog_gen(begin, step, end=None):\n",
    "    result = type(begin+step)(begin)\n",
    "    index = 0\n",
    "    while (end is None) or result < end:\n",
    "        yield result\n",
    "        index += 1\n",
    "        result = begin + step * index"
   ]
  },
  {
   "cell_type": "code",
   "execution_count": 345,
   "id": "20ef53da",
   "metadata": {},
   "outputs": [
    {
     "data": {
      "text/plain": [
       "[1.0, 1.2, 1.4, 1.6, 1.8, 2.0, 2.2, 2.4000000000000004, 2.6, 2.8]"
      ]
     },
     "execution_count": 345,
     "metadata": {},
     "output_type": "execute_result"
    }
   ],
   "source": [
    "list(aritprog_gen(1, .2, 3))"
   ]
  },
  {
   "cell_type": "code",
   "execution_count": 346,
   "id": "9fbb765c",
   "metadata": {},
   "outputs": [
    {
     "data": {
      "text/plain": [
       "[Decimal('1'),\n",
       " Decimal('1.2'),\n",
       " Decimal('1.4'),\n",
       " Decimal('1.6'),\n",
       " Decimal('1.8'),\n",
       " Decimal('2.0'),\n",
       " Decimal('2.2'),\n",
       " Decimal('2.4'),\n",
       " Decimal('2.6'),\n",
       " Decimal('2.8')]"
      ]
     },
     "execution_count": 346,
     "metadata": {},
     "output_type": "execute_result"
    }
   ],
   "source": [
    "from decimal import Decimal\n",
    "list(aritprog_gen(1, Decimal('.2'), 3))"
   ]
  },
  {
   "cell_type": "code",
   "execution_count": 347,
   "id": "5a7bbc57",
   "metadata": {},
   "outputs": [
    {
     "data": {
      "text/plain": [
       "[Fraction(1, 1),\n",
       " Fraction(4, 3),\n",
       " Fraction(5, 3),\n",
       " Fraction(2, 1),\n",
       " Fraction(7, 3),\n",
       " Fraction(8, 3)]"
      ]
     },
     "execution_count": 347,
     "metadata": {},
     "output_type": "execute_result"
    }
   ],
   "source": [
    "from fractions import Fraction\n",
    "list(aritprog_gen(1, Fraction(1,3), 3))"
   ]
  },
  {
   "cell_type": "code",
   "execution_count": 348,
   "id": "e0a7aab8",
   "metadata": {},
   "outputs": [],
   "source": [
    "import itertools"
   ]
  },
  {
   "cell_type": "code",
   "execution_count": 349,
   "id": "beedfb51",
   "metadata": {},
   "outputs": [
    {
     "data": {
      "text/plain": [
       "(1, 1.5, 2.0)"
      ]
     },
     "execution_count": 349,
     "metadata": {},
     "output_type": "execute_result"
    }
   ],
   "source": [
    "gen = itertools.count(1, .5) #never stops so don't use list here\n",
    "next(gen), next(gen), next(gen)"
   ]
  },
  {
   "cell_type": "code",
   "execution_count": 350,
   "id": "e0545ee7",
   "metadata": {},
   "outputs": [
    {
     "data": {
      "text/plain": [
       "[1, 1.5, 2.0, 2.5]"
      ]
     },
     "execution_count": 350,
     "metadata": {},
     "output_type": "execute_result"
    }
   ],
   "source": [
    "gen = itertools.takewhile(lambda n: n < 3, itertools.count(1, .5))\n",
    "list(gen)"
   ]
  },
  {
   "cell_type": "code",
   "execution_count": 351,
   "id": "40cef400",
   "metadata": {},
   "outputs": [],
   "source": [
    "def aritprog(begin, step, end=None):\n",
    "    first = type(begin + step)(begin)\n",
    "    ap_gen = itertools.count(first, step)\n",
    "    if end is None:\n",
    "        return ap_gen\n",
    "    return itertools.takewhile(lambda n: n < end, ap_gen)"
   ]
  },
  {
   "cell_type": "code",
   "execution_count": 352,
   "id": "68c90aea",
   "metadata": {},
   "outputs": [
    {
     "data": {
      "text/plain": [
       "[0, 1, 2, 3, 4, 5, 6, 7, 8, 9]"
      ]
     },
     "execution_count": 352,
     "metadata": {},
     "output_type": "execute_result"
    }
   ],
   "source": [
    "list(aritprog(0,1,10))"
   ]
  },
  {
   "cell_type": "markdown",
   "id": "6dfa8f58",
   "metadata": {},
   "source": [
    "## misc itertools generators"
   ]
  },
  {
   "cell_type": "code",
   "execution_count": 353,
   "id": "cb221f89",
   "metadata": {},
   "outputs": [],
   "source": [
    "from itertools import compress, dropwhile, accumulate, starmap, filterfalse, islice, takewhile"
   ]
  },
  {
   "cell_type": "code",
   "execution_count": 354,
   "id": "31aadf86",
   "metadata": {},
   "outputs": [],
   "source": [
    "def vowel(c):\n",
    "    return c.lower() in 'aeiou'"
   ]
  },
  {
   "cell_type": "code",
   "execution_count": 355,
   "id": "811aa793",
   "metadata": {},
   "outputs": [
    {
     "data": {
      "text/plain": [
       "['A', 'a', 'a']"
      ]
     },
     "execution_count": 355,
     "metadata": {},
     "output_type": "execute_result"
    }
   ],
   "source": [
    "list(filter(vowel, 'Aardvark'))"
   ]
  },
  {
   "cell_type": "code",
   "execution_count": 356,
   "id": "9f66859a",
   "metadata": {},
   "outputs": [
    {
     "data": {
      "text/plain": [
       "['r', 'd', 'v', 'r', 'k']"
      ]
     },
     "execution_count": 356,
     "metadata": {},
     "output_type": "execute_result"
    }
   ],
   "source": [
    "list(filterfalse(vowel, 'Aardvark'))"
   ]
  },
  {
   "cell_type": "code",
   "execution_count": 357,
   "id": "04e64c43",
   "metadata": {},
   "outputs": [
    {
     "data": {
      "text/plain": [
       "['r', 'd', 'v', 'a', 'r', 'k']"
      ]
     },
     "execution_count": 357,
     "metadata": {},
     "output_type": "execute_result"
    }
   ],
   "source": [
    "list(dropwhile(vowel, 'Aardvark'))"
   ]
  },
  {
   "cell_type": "code",
   "execution_count": 358,
   "id": "55c8c3f7",
   "metadata": {},
   "outputs": [
    {
     "data": {
      "text/plain": [
       "['A', 'a']"
      ]
     },
     "execution_count": 358,
     "metadata": {},
     "output_type": "execute_result"
    }
   ],
   "source": [
    "list(takewhile(vowel, 'Aardvark'))"
   ]
  },
  {
   "cell_type": "code",
   "execution_count": 359,
   "id": "bbbde927",
   "metadata": {},
   "outputs": [
    {
     "data": {
      "text/plain": [
       "['A', 'r', 'd', 'a']"
      ]
     },
     "execution_count": 359,
     "metadata": {},
     "output_type": "execute_result"
    }
   ],
   "source": [
    "list(compress('Aardvark', (1, 0, 1, 1, 0, 1)))"
   ]
  },
  {
   "cell_type": "code",
   "execution_count": 360,
   "id": "58a89ea9",
   "metadata": {},
   "outputs": [
    {
     "data": {
      "text/plain": [
       "['A', 'a', 'r', 'd']"
      ]
     },
     "execution_count": 360,
     "metadata": {},
     "output_type": "execute_result"
    }
   ],
   "source": [
    "list(islice('Aardvark', 4))"
   ]
  },
  {
   "cell_type": "code",
   "execution_count": 361,
   "id": "e0cf2dc1",
   "metadata": {},
   "outputs": [
    {
     "data": {
      "text/plain": [
       "['v', 'a', 'r']"
      ]
     },
     "execution_count": 361,
     "metadata": {},
     "output_type": "execute_result"
    }
   ],
   "source": [
    "list(islice('Aardvark', 4, 7))"
   ]
  },
  {
   "cell_type": "code",
   "execution_count": 362,
   "id": "4b488ccf",
   "metadata": {},
   "outputs": [
    {
     "data": {
      "text/plain": [
       "['a', 'd', 'a']"
      ]
     },
     "execution_count": 362,
     "metadata": {},
     "output_type": "execute_result"
    }
   ],
   "source": [
    "list(islice('Aardvark', 1, 7, 2))"
   ]
  },
  {
   "cell_type": "code",
   "execution_count": 363,
   "id": "54232b97",
   "metadata": {},
   "outputs": [],
   "source": [
    "sample = [5, 4, 2, 8, 7, 6, 3, 0, 9, 1]"
   ]
  },
  {
   "cell_type": "code",
   "execution_count": 364,
   "id": "ab7c4363",
   "metadata": {},
   "outputs": [
    {
     "data": {
      "text/plain": [
       "[5, 9, 11, 19, 26, 32, 35, 35, 44, 45]"
      ]
     },
     "execution_count": 364,
     "metadata": {},
     "output_type": "execute_result"
    }
   ],
   "source": [
    "list(accumulate(sample))"
   ]
  },
  {
   "cell_type": "code",
   "execution_count": 365,
   "id": "c71ca840",
   "metadata": {},
   "outputs": [
    {
     "data": {
      "text/plain": [
       "[5, 4, 2, 2, 2, 2, 2, 0, 0, 0]"
      ]
     },
     "execution_count": 365,
     "metadata": {},
     "output_type": "execute_result"
    }
   ],
   "source": [
    "list(accumulate(sample, min))"
   ]
  },
  {
   "cell_type": "code",
   "execution_count": 366,
   "id": "54f10846",
   "metadata": {},
   "outputs": [
    {
     "data": {
      "text/plain": [
       "[5, 5, 5, 8, 8, 8, 8, 8, 9, 9]"
      ]
     },
     "execution_count": 366,
     "metadata": {},
     "output_type": "execute_result"
    }
   ],
   "source": [
    "list(accumulate(sample, max))"
   ]
  },
  {
   "cell_type": "code",
   "execution_count": 367,
   "id": "94ddedae",
   "metadata": {},
   "outputs": [
    {
     "data": {
      "text/plain": [
       "[5, 20, 40, 320, 2240, 13440, 40320, 0, 0, 0]"
      ]
     },
     "execution_count": 367,
     "metadata": {},
     "output_type": "execute_result"
    }
   ],
   "source": [
    "import operator\n",
    "list(accumulate(sample, operator.mul))"
   ]
  },
  {
   "cell_type": "code",
   "execution_count": 368,
   "id": "624ff914",
   "metadata": {},
   "outputs": [
    {
     "data": {
      "text/plain": [
       "[1, 2, 6, 24, 120, 720, 5040, 40320, 362880, 3628800]"
      ]
     },
     "execution_count": 368,
     "metadata": {},
     "output_type": "execute_result"
    }
   ],
   "source": [
    "list(accumulate(range(1,11), operator.mul)) #factorial"
   ]
  },
  {
   "cell_type": "code",
   "execution_count": 369,
   "id": "6204bd95",
   "metadata": {},
   "outputs": [
    {
     "data": {
      "text/plain": [
       "['a', 'll', 'bbb', 'aaaa', 'ttttt', 'rrrrrr', 'ooooooo', 'zzzzzzzz']"
      ]
     },
     "execution_count": 369,
     "metadata": {},
     "output_type": "execute_result"
    }
   ],
   "source": [
    "list(starmap(operator.mul, enumerate('albatroz', 1)))"
   ]
  },
  {
   "cell_type": "code",
   "execution_count": 370,
   "id": "4c5eaf97",
   "metadata": {},
   "outputs": [
    {
     "data": {
      "text/plain": [
       "['aaa',\n",
       " 'llll',\n",
       " 'bbbbb',\n",
       " 'aaaaaa',\n",
       " 'ttttttt',\n",
       " 'rrrrrrrr',\n",
       " 'ooooooooo',\n",
       " 'zzzzzzzzzz']"
      ]
     },
     "execution_count": 370,
     "metadata": {},
     "output_type": "execute_result"
    }
   ],
   "source": [
    "list(starmap(operator.mul, enumerate('albatroz', 3)))"
   ]
  },
  {
   "cell_type": "code",
   "execution_count": 371,
   "id": "2d743a8b",
   "metadata": {},
   "outputs": [
    {
     "data": {
      "text/plain": [
       "[5.0,\n",
       " 4.5,\n",
       " 3.6666666666666665,\n",
       " 4.75,\n",
       " 5.2,\n",
       " 5.333333333333333,\n",
       " 5.0,\n",
       " 4.375,\n",
       " 4.888888888888889,\n",
       " 4.5]"
      ]
     },
     "execution_count": 371,
     "metadata": {},
     "output_type": "execute_result"
    }
   ],
   "source": [
    "list(starmap(lambda a, b: b/a, enumerate(accumulate(sample), 1)))"
   ]
  },
  {
   "cell_type": "code",
   "execution_count": 372,
   "id": "daa27f40",
   "metadata": {},
   "outputs": [],
   "source": [
    "from itertools import chain, product, zip_longest"
   ]
  },
  {
   "cell_type": "code",
   "execution_count": 373,
   "id": "3b52a256",
   "metadata": {},
   "outputs": [
    {
     "data": {
      "text/plain": [
       "['A', 'B', 'C', 0, 1, 2]"
      ]
     },
     "execution_count": 373,
     "metadata": {},
     "output_type": "execute_result"
    }
   ],
   "source": [
    "list(chain('ABC', range(3)))"
   ]
  },
  {
   "cell_type": "code",
   "execution_count": 374,
   "id": "95a82367",
   "metadata": {},
   "outputs": [
    {
     "data": {
      "text/plain": [
       "[0, 'A', 1, 'B', 2, 'C']"
      ]
     },
     "execution_count": 374,
     "metadata": {},
     "output_type": "execute_result"
    }
   ],
   "source": [
    "#chain.from_iterable takes each item from the iterable, and chains them in sequence,\n",
    "#as long as each item is itself iterable\n",
    "list(chain.from_iterable(enumerate('ABC')))"
   ]
  },
  {
   "cell_type": "code",
   "execution_count": 375,
   "id": "20ac5026",
   "metadata": {},
   "outputs": [
    {
     "data": {
      "text/plain": [
       "[(0, 'A'), (1, 'B'), (2, 'C')]"
      ]
     },
     "execution_count": 375,
     "metadata": {},
     "output_type": "execute_result"
    }
   ],
   "source": [
    "list(enumerate('ABC'))"
   ]
  },
  {
   "cell_type": "code",
   "execution_count": 376,
   "id": "e0323712",
   "metadata": {},
   "outputs": [
    {
     "data": {
      "text/plain": [
       "[(0, 0), (0, 1), (0, 2), (1, 0), (1, 1), (1, 2), (2, 0), (2, 1), (2, 2)]"
      ]
     },
     "execution_count": 376,
     "metadata": {},
     "output_type": "execute_result"
    }
   ],
   "source": [
    "list(product(range(3), range(3))) #cartesian product"
   ]
  },
  {
   "cell_type": "code",
   "execution_count": 377,
   "id": "d54a986c",
   "metadata": {},
   "outputs": [
    {
     "data": {
      "text/plain": [
       "['spades', 'diamonds', 'hearts', 'clubs']"
      ]
     },
     "execution_count": 377,
     "metadata": {},
     "output_type": "execute_result"
    }
   ],
   "source": [
    "suits = 'spades diamonds hearts clubs'.split()\n",
    "suits"
   ]
  },
  {
   "cell_type": "code",
   "execution_count": 378,
   "id": "655e36c4",
   "metadata": {},
   "outputs": [
    {
     "data": {
      "text/plain": [
       "[('spades', 'A'),\n",
       " ('spades', 'K'),\n",
       " ('diamonds', 'A'),\n",
       " ('diamonds', 'K'),\n",
       " ('hearts', 'A'),\n",
       " ('hearts', 'K'),\n",
       " ('clubs', 'A'),\n",
       " ('clubs', 'K')]"
      ]
     },
     "execution_count": 378,
     "metadata": {},
     "output_type": "execute_result"
    }
   ],
   "source": [
    "list(product(suits, 'AK'))"
   ]
  },
  {
   "cell_type": "code",
   "execution_count": 379,
   "id": "7e178b70",
   "metadata": {},
   "outputs": [
    {
     "data": {
      "text/plain": [
       "[(0, 0), (0, 1), (0, 2), (1, 0), (1, 1), (1, 2), (2, 0), (2, 1), (2, 2)]"
      ]
     },
     "execution_count": 379,
     "metadata": {},
     "output_type": "execute_result"
    }
   ],
   "source": [
    "[(i, j) for i in range(3) for j in range(3)] #also cartesian product"
   ]
  },
  {
   "cell_type": "code",
   "execution_count": 380,
   "id": "12badebc",
   "metadata": {},
   "outputs": [
    {
     "data": {
      "text/plain": [
       "[('A', 0), ('B', 1), ('C', 2), (None, 3), (None, 4)]"
      ]
     },
     "execution_count": 380,
     "metadata": {},
     "output_type": "execute_result"
    }
   ],
   "source": [
    "list(zip_longest('ABC', range(5)))"
   ]
  },
  {
   "cell_type": "code",
   "execution_count": 381,
   "id": "21250e03",
   "metadata": {},
   "outputs": [
    {
     "data": {
      "text/plain": [
       "[('A', 0), ('B', 1), ('C', 2), ('?', 3), ('?', 4)]"
      ]
     },
     "execution_count": 381,
     "metadata": {},
     "output_type": "execute_result"
    }
   ],
   "source": [
    "list(zip_longest('ABC', range(5), fillvalue='?'))"
   ]
  },
  {
   "cell_type": "code",
   "execution_count": 382,
   "id": "58cfdf1f",
   "metadata": {},
   "outputs": [
    {
     "data": {
      "text/plain": [
       "[('A', 'A'),\n",
       " ('A', 'B'),\n",
       " ('A', 'C'),\n",
       " ('B', 'A'),\n",
       " ('B', 'B'),\n",
       " ('B', 'C'),\n",
       " ('C', 'A'),\n",
       " ('C', 'B'),\n",
       " ('C', 'C')]"
      ]
     },
     "execution_count": 382,
     "metadata": {},
     "output_type": "execute_result"
    }
   ],
   "source": [
    "list(product('ABC', repeat=2))"
   ]
  },
  {
   "cell_type": "code",
   "execution_count": 383,
   "id": "44a0f0d6",
   "metadata": {},
   "outputs": [
    {
     "data": {
      "text/plain": [
       "[(0, 0, 0),\n",
       " (0, 0, 1),\n",
       " (0, 1, 0),\n",
       " (0, 1, 1),\n",
       " (1, 0, 0),\n",
       " (1, 0, 1),\n",
       " (1, 1, 0),\n",
       " (1, 1, 1)]"
      ]
     },
     "execution_count": 383,
     "metadata": {},
     "output_type": "execute_result"
    }
   ],
   "source": [
    "list(product(range(2), repeat=3))"
   ]
  },
  {
   "cell_type": "code",
   "execution_count": 384,
   "id": "50ecab7d",
   "metadata": {},
   "outputs": [
    {
     "data": {
      "text/plain": [
       "[('A', 0, 'A', 0),\n",
       " ('A', 0, 'A', 1),\n",
       " ('A', 0, 'B', 0),\n",
       " ('A', 0, 'B', 1),\n",
       " ('A', 1, 'A', 0),\n",
       " ('A', 1, 'A', 1),\n",
       " ('A', 1, 'B', 0),\n",
       " ('A', 1, 'B', 1),\n",
       " ('B', 0, 'A', 0),\n",
       " ('B', 0, 'A', 1),\n",
       " ('B', 0, 'B', 0),\n",
       " ('B', 0, 'B', 1),\n",
       " ('B', 1, 'A', 0),\n",
       " ('B', 1, 'A', 1),\n",
       " ('B', 1, 'B', 0),\n",
       " ('B', 1, 'B', 1)]"
      ]
     },
     "execution_count": 384,
     "metadata": {},
     "output_type": "execute_result"
    }
   ],
   "source": [
    "list(product('AB', range(2), repeat=2))"
   ]
  },
  {
   "cell_type": "code",
   "execution_count": 385,
   "id": "ec0e4912",
   "metadata": {},
   "outputs": [],
   "source": [
    "from itertools import (combinations, \n",
    "                       combinations_with_replacement,\n",
    "                       cycle,\n",
    "                       pairwise,\n",
    "                       permutations,\n",
    "                       repeat)"
   ]
  },
  {
   "cell_type": "code",
   "execution_count": 386,
   "id": "5e470f08",
   "metadata": {},
   "outputs": [],
   "source": [
    "from itertools import cycle as c, pairwise as p"
   ]
  },
  {
   "cell_type": "code",
   "execution_count": 387,
   "id": "3eacdabe",
   "metadata": {},
   "outputs": [
    {
     "data": {
      "text/plain": [
       "['A', 'B', 'C', 'A', 'B', 'C', 'A']"
      ]
     },
     "execution_count": 387,
     "metadata": {},
     "output_type": "execute_result"
    }
   ],
   "source": [
    "cy = cycle('ABC')\n",
    "list(islice(cy, 7))"
   ]
  },
  {
   "cell_type": "code",
   "execution_count": 388,
   "id": "9e1c0349",
   "metadata": {},
   "outputs": [
    {
     "data": {
      "text/plain": [
       "[(0, 1), (1, 2), (2, 3), (3, 4), (4, 5), (5, 6)]"
      ]
     },
     "execution_count": 388,
     "metadata": {},
     "output_type": "execute_result"
    }
   ],
   "source": [
    "list(pairwise(range(7)))"
   ]
  },
  {
   "cell_type": "code",
   "execution_count": 389,
   "id": "37e4a0cd",
   "metadata": {},
   "outputs": [
    {
     "data": {
      "text/plain": [
       "[4, 4, 4, 4, 4]"
      ]
     },
     "execution_count": 389,
     "metadata": {},
     "output_type": "execute_result"
    }
   ],
   "source": [
    "rp = repeat(4, 5)\n",
    "list(rp)"
   ]
  },
  {
   "cell_type": "code",
   "execution_count": 390,
   "id": "b7969e21",
   "metadata": {},
   "outputs": [
    {
     "data": {
      "text/plain": [
       "[0, 5, 10, 15, 20, 25, 30, 35, 40, 45, 50]"
      ]
     },
     "execution_count": 390,
     "metadata": {},
     "output_type": "execute_result"
    }
   ],
   "source": [
    "list(map(operator.mul, range(11), repeat(5)))"
   ]
  },
  {
   "cell_type": "code",
   "execution_count": 391,
   "id": "b35ecb4d",
   "metadata": {},
   "outputs": [
    {
     "data": {
      "text/plain": [
       "[('A', 'B'), ('A', 'C'), ('B', 'C')]"
      ]
     },
     "execution_count": 391,
     "metadata": {},
     "output_type": "execute_result"
    }
   ],
   "source": [
    "list(combinations('ABC', 2))"
   ]
  },
  {
   "cell_type": "code",
   "execution_count": 392,
   "id": "20535cc9",
   "metadata": {},
   "outputs": [
    {
     "data": {
      "text/plain": [
       "[('A', 'A'), ('A', 'B'), ('A', 'C'), ('B', 'B'), ('B', 'C'), ('C', 'C')]"
      ]
     },
     "execution_count": 392,
     "metadata": {},
     "output_type": "execute_result"
    }
   ],
   "source": [
    "list(combinations_with_replacement('ABC', 2))"
   ]
  },
  {
   "cell_type": "code",
   "execution_count": 393,
   "id": "41e0bb3a",
   "metadata": {},
   "outputs": [
    {
     "data": {
      "text/plain": [
       "[('A', 'B'), ('A', 'C'), ('B', 'A'), ('B', 'C'), ('C', 'A'), ('C', 'B')]"
      ]
     },
     "execution_count": 393,
     "metadata": {},
     "output_type": "execute_result"
    }
   ],
   "source": [
    "list(permutations('ABC', 2))"
   ]
  },
  {
   "cell_type": "markdown",
   "id": "0c29320a",
   "metadata": {},
   "source": [
    "-------------"
   ]
  },
  {
   "cell_type": "code",
   "execution_count": 394,
   "id": "8c13ead9",
   "metadata": {},
   "outputs": [],
   "source": [
    "from itertools import groupby, tee"
   ]
  },
  {
   "cell_type": "code",
   "execution_count": 395,
   "id": "c00565bc",
   "metadata": {},
   "outputs": [
    {
     "data": {
      "text/plain": [
       "[('L', <itertools._grouper at 0x1c393d31600>),\n",
       " ('A', <itertools._grouper at 0x1c393d33370>),\n",
       " ('G', <itertools._grouper at 0x1c393d334f0>)]"
      ]
     },
     "execution_count": 395,
     "metadata": {},
     "output_type": "execute_result"
    }
   ],
   "source": [
    "list(groupby('LLLLAAGGG'))"
   ]
  },
  {
   "cell_type": "code",
   "execution_count": 396,
   "id": "b3978e00",
   "metadata": {},
   "outputs": [
    {
     "name": "stdout",
     "output_type": "stream",
     "text": [
      "L ['L', 'L', 'L', 'L']\n",
      "A ['A', 'A']\n",
      "G ['G', 'G', 'G']\n"
     ]
    }
   ],
   "source": [
    "for char, group in groupby('LLLLAAGGG'):\n",
    "    print(char, list(group))"
   ]
  },
  {
   "cell_type": "code",
   "execution_count": 397,
   "id": "b889e85d",
   "metadata": {},
   "outputs": [
    {
     "data": {
      "text/plain": [
       "['rat', 'bat', 'duck', 'bear', 'lion', 'eagle', 'shark', 'giraffe', 'dolphin']"
      ]
     },
     "execution_count": 397,
     "metadata": {},
     "output_type": "execute_result"
    }
   ],
   "source": [
    "animals = ['duck', 'eagle', 'rat', 'giraffe', 'bear', 'bat', 'dolphin', 'shark', 'lion']\n",
    "animals.sort(key=len)\n",
    "animals"
   ]
  },
  {
   "cell_type": "code",
   "execution_count": 398,
   "id": "2a8c03e8",
   "metadata": {},
   "outputs": [
    {
     "name": "stdout",
     "output_type": "stream",
     "text": [
      "3 ['rat', 'bat']\n",
      "4 ['duck', 'bear', 'lion']\n",
      "5 ['eagle', 'shark']\n",
      "7 ['giraffe', 'dolphin']\n"
     ]
    }
   ],
   "source": [
    "for length, group in groupby(animals, len):\n",
    "    print(length, list(group))"
   ]
  },
  {
   "cell_type": "code",
   "execution_count": 399,
   "id": "8654acc5",
   "metadata": {},
   "outputs": [
    {
     "name": "stdout",
     "output_type": "stream",
     "text": [
      "7 ['dolphin', 'giraffe']\n",
      "5 ['shark', 'eagle']\n",
      "4 ['lion', 'bear', 'duck']\n",
      "3 ['bat', 'rat']\n"
     ]
    }
   ],
   "source": [
    "for length, group in groupby(reversed(animals), len):\n",
    "    print(length, list(group))"
   ]
  },
  {
   "cell_type": "code",
   "execution_count": 400,
   "id": "f3a22b27",
   "metadata": {},
   "outputs": [
    {
     "data": {
      "text/plain": [
       "[<itertools._tee at 0x1c393ccb6c0>,\n",
       " <itertools._tee at 0x1c394bddc80>,\n",
       " <itertools._tee at 0x1c394bdd2c0>]"
      ]
     },
     "execution_count": 400,
     "metadata": {},
     "output_type": "execute_result"
    }
   ],
   "source": [
    "list(tee('ABC', 3))"
   ]
  },
  {
   "cell_type": "code",
   "execution_count": 401,
   "id": "268611ae",
   "metadata": {},
   "outputs": [],
   "source": [
    "g1, g2 = tee('ABC')\n",
    "n = next"
   ]
  },
  {
   "cell_type": "code",
   "execution_count": 402,
   "id": "d20960db",
   "metadata": {},
   "outputs": [
    {
     "data": {
      "text/plain": [
       "('A', 'A', 'B', ['B', 'C'], ['C'])"
      ]
     },
     "execution_count": 402,
     "metadata": {},
     "output_type": "execute_result"
    }
   ],
   "source": [
    "n(g1), n(g2), n(g2), list(g1), list(g2)"
   ]
  },
  {
   "cell_type": "code",
   "execution_count": 403,
   "id": "44ffe7d7",
   "metadata": {},
   "outputs": [
    {
     "data": {
      "text/plain": [
       "[('A', 'A'), ('B', 'B'), ('C', 'C')]"
      ]
     },
     "execution_count": 403,
     "metadata": {},
     "output_type": "execute_result"
    }
   ],
   "source": [
    "list(zip(*tee('ABC')))"
   ]
  },
  {
   "cell_type": "code",
   "execution_count": 404,
   "id": "534b89cb",
   "metadata": {},
   "outputs": [
    {
     "data": {
      "text/plain": [
       "(True, 8)"
      ]
     },
     "execution_count": 404,
     "metadata": {},
     "output_type": "execute_result"
    }
   ],
   "source": [
    "g = (n for n in [0, .0, 7, 8]) # generator expression\n",
    "any(g), next(g) #as any iterates over g looking for truthy values it will also change its state"
   ]
  },
  {
   "cell_type": "code",
   "execution_count": 405,
   "id": "4ac1c138",
   "metadata": {},
   "outputs": [],
   "source": [
    "def chain(*iterables):\n",
    "    for it in iterables:\n",
    "        for i in it:\n",
    "            yield i\n",
    "            \n",
    "def chain(*iterables):\n",
    "    for i in iterables:\n",
    "        yield from i"
   ]
  },
  {
   "cell_type": "code",
   "execution_count": 406,
   "id": "ff9df5bf",
   "metadata": {},
   "outputs": [
    {
     "data": {
      "text/plain": [
       "['A', 'B', 'C', 0, 1, 2]"
      ]
     },
     "execution_count": 406,
     "metadata": {},
     "output_type": "execute_result"
    }
   ],
   "source": [
    "sr = 'ABC', range(3)\n",
    "\n",
    "list(chain(*sr))"
   ]
  },
  {
   "cell_type": "code",
   "execution_count": 407,
   "id": "83248dcc",
   "metadata": {},
   "outputs": [
    {
     "data": {
      "text/plain": [
       "[1, 1.1, 1.2, 2]"
      ]
     },
     "execution_count": 407,
     "metadata": {},
     "output_type": "execute_result"
    }
   ],
   "source": [
    "def sub_gen():\n",
    "    yield 1.1\n",
    "    yield 1.2\n",
    "\n",
    "def gen():\n",
    "    yield 1\n",
    "    for i in sub_gen():\n",
    "        yield i\n",
    "    yield 2\n",
    "    \n",
    "    \n",
    "list(gen())"
   ]
  },
  {
   "cell_type": "code",
   "execution_count": 408,
   "id": "24c46f07",
   "metadata": {},
   "outputs": [
    {
     "data": {
      "text/plain": [
       "[1, 1.1, 1.2, 2]"
      ]
     },
     "execution_count": 408,
     "metadata": {},
     "output_type": "execute_result"
    }
   ],
   "source": [
    "#the yield from expression allows a generator to delegate work to a subgenerator\n",
    "\n",
    "def sub_gen():\n",
    "    yield 1.1\n",
    "    yield 1.2\n",
    "\n",
    "def gen():\n",
    "    yield 1\n",
    "    yield from sub_gen()\n",
    "    yield 2\n",
    "\n",
    "list(gen())"
   ]
  },
  {
   "cell_type": "markdown",
   "id": "076a02ab",
   "metadata": {},
   "source": [
    "### Traversing a Tree"
   ]
  },
  {
   "cell_type": "code",
   "execution_count": 409,
   "id": "04e9bb44",
   "metadata": {},
   "outputs": [
    {
     "name": "stdout",
     "output_type": "stream",
     "text": [
      "BaseException\n"
     ]
    }
   ],
   "source": [
    "def tree(cls):\n",
    "    yield cls.__name__\n",
    "    \n",
    "def display(cls):\n",
    "    for cls_name in tree(cls):\n",
    "        print(cls_name)\n",
    "\n",
    "display(BaseException)    "
   ]
  },
  {
   "cell_type": "code",
   "execution_count": 410,
   "id": "18e49646",
   "metadata": {},
   "outputs": [
    {
     "name": "stdout",
     "output_type": "stream",
     "text": [
      "BaseException\n",
      "    BaseExceptionGroup\n",
      "    Exception\n",
      "    GeneratorExit\n",
      "    KeyboardInterrupt\n",
      "    SystemExit\n",
      "    CancelledError\n",
      "    AbortThread\n"
     ]
    }
   ],
   "source": [
    "def tree(cls):\n",
    "    yield cls.__name__, 0\n",
    "    for sub_cls in cls.__subclasses__():\n",
    "        yield sub_cls.__name__, 1\n",
    "        \n",
    "def display(cls):\n",
    "    for cls_name, level in tree(cls):\n",
    "        indent = ' ' * 4 * level\n",
    "        print('{}{}'.format(indent, cls_name))\n",
    "\n",
    "display(BaseException)"
   ]
  },
  {
   "cell_type": "code",
   "execution_count": 411,
   "id": "0ae1ee43",
   "metadata": {},
   "outputs": [],
   "source": [
    "def tree(cls):\n",
    "    yield cls.__name__, 0\n",
    "    yield from sub_tree(cls)\n",
    "    \n",
    "def sub_tree(cls):\n",
    "    for sub_cls in cls.__subclasses__():\n",
    "        yield sub_cls.__name__, 1\n",
    "        for sub_sub_cls in sub_cls.__subclasses__():\n",
    "            yield sub_sub_cls.__name__, 2\n",
    "            \n",
    "def display(cls):\n",
    "    for cls_name, level in tree(cls):\n",
    "        indent = ' ' * 4 * level\n",
    "        print('{}{}'.format(indent, cls_name))\n",
    "        \n",
    "#display(BaseException)"
   ]
  },
  {
   "cell_type": "code",
   "execution_count": 412,
   "id": "e2163e42",
   "metadata": {},
   "outputs": [],
   "source": [
    "def tree(cls):\n",
    "    yield cls.__name__, 0\n",
    "    yield from sub_tree(cls)\n",
    "    \n",
    "def sub_tree(cls):\n",
    "    for sub_cls in cls.__subclasses__():\n",
    "        yield sub_cls.__name__, 1\n",
    "        for sub_sub_cls in sub_cls.__subclasses__():\n",
    "            yield sub_sub_cls.__name__, 2\n",
    "            for sub_sub_sub_cls in sub_sub_cls.__subclasses__():\n",
    "                yield sub_sub_sub_cls.__name__, 3\n",
    "            \n",
    "def display(cls):\n",
    "    for cls_name, level in tree(cls):\n",
    "        indent = ' ' * 4 * level\n",
    "        print('{}{}'.format(indent, cls_name))\n",
    "\n",
    "#display(BaseException)"
   ]
  },
  {
   "cell_type": "code",
   "execution_count": 413,
   "id": "40e833f1",
   "metadata": {},
   "outputs": [],
   "source": [
    "#can traverse trees of any depth\n",
    "\n",
    "def tree(cls):\n",
    "    yield cls.__name__, 0\n",
    "    yield from sub_tree(cls, 1)\n",
    "    \n",
    "def sub_tree(cls, level):\n",
    "    for sub_cls in cls.__subclasses__():\n",
    "        yield sub_cls.__name__, level\n",
    "        yield from sub_tree(sub_cls, level+1)\n",
    "            \n",
    "def display(cls):\n",
    "    for cls_name, level in tree(cls):\n",
    "        indent = ' ' * 4 * level\n",
    "        print('{}{}'.format(indent, cls_name))\n",
    "\n",
    "#display(BaseException)"
   ]
  },
  {
   "cell_type": "code",
   "execution_count": 414,
   "id": "1687e51e",
   "metadata": {},
   "outputs": [
    {
     "name": "stdout",
     "output_type": "stream",
     "text": [
      "Collection\n",
      "    Set\n",
      "        MutableSet\n",
      "        KeysView\n",
      "            _OrderedDictKeysView\n",
      "        ItemsView\n",
      "            _OrderedDictItemsView\n",
      "    Mapping\n",
      "        MutableMapping\n",
      "            _Environ\n",
      "            ChainMap\n",
      "            UserDict\n",
      "            WeakValueDictionary\n",
      "            WeakKeyDictionary\n",
      "            SignalDict\n",
      "            RawConfigParser\n",
      "                ConfigParser\n",
      "                    SafeConfigParser\n",
      "                    CaseSensitiveConfigParser\n",
      "            SectionProxy\n",
      "            ConverterMapping\n",
      "            PickleShareDB\n",
      "        _SelectorMapping\n",
      "        UsedNamesMapping\n",
      "    ValuesView\n",
      "        _OrderedDictValuesView\n",
      "    Sequence\n",
      "        ByteString\n",
      "        MutableSequence\n",
      "            UserList\n",
      "        UserString\n",
      "        _PathParents\n",
      "        numeric_range\n",
      "        SequenceView\n"
     ]
    }
   ],
   "source": [
    "import collections as c\n",
    "display(c.abc.Collection)"
   ]
  },
  {
   "cell_type": "code",
   "execution_count": 415,
   "id": "d08a6c11",
   "metadata": {},
   "outputs": [
    {
     "name": "stdout",
     "output_type": "stream",
     "text": [
      "ArithmeticError\n",
      "    FloatingPointError\n",
      "    OverflowError\n",
      "    ZeroDivisionError\n",
      "        DivisionByZero\n",
      "        DivisionUndefined\n",
      "    DecimalException\n",
      "        Clamped\n",
      "        Rounded\n",
      "            Underflow\n",
      "            Overflow\n",
      "        Inexact\n",
      "            Underflow\n",
      "            Overflow\n",
      "        Subnormal\n",
      "            Underflow\n",
      "        DivisionByZero\n",
      "        FloatOperation\n",
      "        InvalidOperation\n",
      "            ConversionSyntax\n",
      "            DivisionImpossible\n",
      "            DivisionUndefined\n",
      "            InvalidContext\n"
     ]
    }
   ],
   "source": [
    "def tree(cls, level=0):\n",
    "    yield cls.__name__, level\n",
    "    for sub_cls in cls.__subclasses__():\n",
    "        yield from tree(sub_cls, level + 1)\n",
    "\n",
    "def display(directory):\n",
    "    for item_name, level in tree(directory):\n",
    "        indent = ' ' * 4 * level\n",
    "        print('{}{}'.format(indent, item_name))\n",
    "        \n",
    "display(ArithmeticError)"
   ]
  },
  {
   "cell_type": "code",
   "execution_count": 416,
   "id": "488561e5",
   "metadata": {},
   "outputs": [
    {
     "name": "stdout",
     "output_type": "stream",
     "text": [
      "vanilla_javascript\n",
      "    hallo\n",
      "        regular_expr.js\n",
      "        template.html\n",
      "        vanilla_javascript.js\n",
      "    p5\n",
      "        code.js\n",
      "        code2.js\n",
      "        index.html\n",
      "        p5.js\n"
     ]
    }
   ],
   "source": [
    "import os\n",
    "\n",
    "def tree(directory, level=0):\n",
    "    yield directory, level\n",
    "    if os.path.isdir(directory): \n",
    "        for item in os.listdir(directory):\n",
    "            item_path = os.path.join(directory, item)\n",
    "            yield from tree(item_path, level + 1)\n",
    "\n",
    "def display(directory):\n",
    "    for item_name, level in tree(directory):\n",
    "        indent = ' ' * 4 * level\n",
    "        print('{}{}'.format(indent, os.path.basename(item_name)))\n",
    "\n",
    "        \n",
    "#traverses directory path \n",
    "display(r'C:\\Users\\jensm\\Desktop\\local\\GitHub\\pycharm_projects\\vanilla_javascript')"
   ]
  },
  {
   "cell_type": "code",
   "execution_count": 417,
   "id": "c912017f",
   "metadata": {},
   "outputs": [
    {
     "data": {
      "text/plain": [
       "{'DivisionByZero': None, 'DivisionUndefined': None}"
      ]
     },
     "execution_count": 417,
     "metadata": {},
     "output_type": "execute_result"
    }
   ],
   "source": [
    "def tree_to_dict(cls):\n",
    "    subclasses = cls.__subclasses__()\n",
    "    if not subclasses:\n",
    "        return {cls.__name__: None}\n",
    "    else:\n",
    "        tree_dict = {cls.__name__: {}}\n",
    "        for sub_cls in subclasses:\n",
    "            tree_dict[cls.__name__].update(tree_to_dict(sub_cls))\n",
    "        return tree_dict\n",
    "\n",
    "\n",
    "dict1 = tree_to_dict(BaseException)\n",
    "dict1['BaseException']['Exception']['ArithmeticError']['ZeroDivisionError']"
   ]
  },
  {
   "cell_type": "code",
   "execution_count": null,
   "id": "45b8cb12",
   "metadata": {},
   "outputs": [],
   "source": []
  }
 ],
 "metadata": {
  "kernelspec": {
   "display_name": "Python 3 (ipykernel)",
   "language": "python",
   "name": "python3"
  },
  "language_info": {
   "codemirror_mode": {
    "name": "ipython",
    "version": 3
   },
   "file_extension": ".py",
   "mimetype": "text/x-python",
   "name": "python",
   "nbconvert_exporter": "python",
   "pygments_lexer": "ipython3",
   "version": "3.11.5"
  }
 },
 "nbformat": 4,
 "nbformat_minor": 5
}
