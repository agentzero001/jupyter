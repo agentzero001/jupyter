{
 "cells": [
  {
   "cell_type": "code",
   "execution_count": 10,
   "id": "3afa8ae6",
   "metadata": {},
   "outputs": [],
   "source": [
    "import math"
   ]
  },
  {
   "cell_type": "code",
   "execution_count": 11,
   "id": "0043a8c2",
   "metadata": {},
   "outputs": [],
   "source": [
    "#defining a function sqrt(x) without block stucture\n",
    "\n",
    "def avg(g,x):\n",
    "    return (g+x)/2\n",
    "\n",
    "def improve(g,x):\n",
    "    return avg(g,(x/g))\n",
    "\n",
    "def stop(g,x):\n",
    "    return abs((g*g - x)) < 0.01  \n",
    "\n",
    "def sqrtiter(g, x):    \n",
    "    if abs((g*g - x)) < 0.01:\n",
    "        return g\n",
    "    else:       \n",
    "        return sqrtiter(improve(g, x), x)\n",
    "    \n",
    "    \n",
    "def sqrt(x):\n",
    "    return sqrtiter(1,x)"
   ]
  },
  {
   "cell_type": "code",
   "execution_count": 12,
   "id": "ae0bbbef",
   "metadata": {},
   "outputs": [
    {
     "data": {
      "text/plain": [
       "(2.64576704419029, 2.6457513110645907)"
      ]
     },
     "execution_count": 12,
     "metadata": {},
     "output_type": "execute_result"
    }
   ],
   "source": [
    "sqrt(7), math.sqrt(7)"
   ]
  },
  {
   "cell_type": "code",
   "execution_count": 13,
   "id": "4f43e57c",
   "metadata": {},
   "outputs": [],
   "source": [
    "def sqrt2(x):\n",
    "    def sqrtiter(g, x):\n",
    "        def avg(g, x):\n",
    "            return (x + g) / 2\n",
    "        def improve(g, x):            \n",
    "            return avg(g, (x / g))\n",
    "        def stop():\n",
    "            return abs((g * g - x)) < 0.01\n",
    "        \n",
    "        if stop():\n",
    "            return g\n",
    "        else:\n",
    "            return sqrtiter(improve(g, x), x)\n",
    "    \n",
    "    return sqrtiter(1, x)       "
   ]
  },
  {
   "cell_type": "code",
   "execution_count": 14,
   "id": "56160eed",
   "metadata": {},
   "outputs": [
    {
     "data": {
      "text/plain": [
       "1.4166666666666665"
      ]
     },
     "execution_count": 14,
     "metadata": {},
     "output_type": "execute_result"
    }
   ],
   "source": [
    "sqrt2(2)"
   ]
  },
  {
   "cell_type": "code",
   "execution_count": 15,
   "id": "b42c74f3",
   "metadata": {},
   "outputs": [],
   "source": [
    "#using lexical scoping to remove redundant arguments:\n",
    "def sqrt2(x):\n",
    "    def sqrtiter(g):\n",
    "        avg = lambda g, x: (x + g) / 2\n",
    "        improve = lambda g: avg(g, (x / g))\n",
    "        stop = lambda: abs((g * g - x)) < 0.000001\n",
    "        \n",
    "        if stop():\n",
    "            return g\n",
    "        else:\n",
    "            return sqrtiter(improve(g))\n",
    "    \n",
    "    return sqrtiter(1)       "
   ]
  },
  {
   "cell_type": "code",
   "execution_count": 16,
   "id": "d24d040a",
   "metadata": {},
   "outputs": [
    {
     "data": {
      "text/plain": [
       "4.2426406871196605"
      ]
     },
     "execution_count": 16,
     "metadata": {},
     "output_type": "execute_result"
    }
   ],
   "source": [
    "sqrt2(18)"
   ]
  },
  {
   "cell_type": "code",
   "execution_count": null,
   "id": "08e6326f",
   "metadata": {},
   "outputs": [],
   "source": []
  }
 ],
 "metadata": {
  "kernelspec": {
   "display_name": "Python 3 (ipykernel)",
   "language": "python",
   "name": "python3"
  },
  "language_info": {
   "codemirror_mode": {
    "name": "ipython",
    "version": 3
   },
   "file_extension": ".py",
   "mimetype": "text/x-python",
   "name": "python",
   "nbconvert_exporter": "python",
   "pygments_lexer": "ipython3",
   "version": "3.11.5"
  }
 },
 "nbformat": 4,
 "nbformat_minor": 5
}
