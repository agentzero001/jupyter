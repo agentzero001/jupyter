{
 "cells": [
  {
   "cell_type": "code",
   "execution_count": 1,
   "id": "558ad8fe",
   "metadata": {},
   "outputs": [],
   "source": [
    "import random"
   ]
  },
  {
   "cell_type": "code",
   "execution_count": 16,
   "id": "2aaebd83",
   "metadata": {},
   "outputs": [
    {
     "data": {
      "text/plain": [
       "{'suit': '♣', 'value': 9}"
      ]
     },
     "execution_count": 16,
     "metadata": {},
     "output_type": "execute_result"
    }
   ],
   "source": [
    "class Card:\n",
    "    def __init__(self, suit, value):\n",
    "        self.suit = suit\n",
    "        self.value = value\n",
    "\n",
    "    def __repr__(self):\n",
    "        return f\"{self.suit}{self.value}\"\n",
    "\n",
    "class Deck:\n",
    "    def __init__(self):\n",
    "        self.cards = [Card(suit, value) for suit in ['♣','♦','♥','♠'] for value in range(2, 11)]\n",
    "        \n",
    "        self.cards += [Card(suit, value) for suit in ['♣','♦','♥','♠'] for value in ['A','K','Q','J']]\n",
    "\n",
    "    def shuffle(self):\n",
    "        if len(self.cards) > 1:\n",
    "            random.shuffle(self.cards)\n",
    "\n",
    "    def deal_card(self):\n",
    "        if len(self.cards) > 1:\n",
    "            return self.cards.pop(0)\n",
    "\n",
    "deck = Deck()\n",
    "deck2 = Deck()\n",
    "dc = deck.deal_card\n",
    "deck.shuffle()\n",
    "\n",
    "card1 = dc()\n",
    "card1.__dict__"
   ]
  },
  {
   "cell_type": "code",
   "execution_count": 17,
   "id": "1cb86b67",
   "metadata": {},
   "outputs": [
    {
     "data": {
      "text/plain": [
       "[(♥Q, ♦4), (♦10, ♣A), (♥6, ♣10), (♠K, ♠4), (♥5, ♦8), (♣J, ♠10)]"
      ]
     },
     "execution_count": 17,
     "metadata": {},
     "output_type": "execute_result"
    }
   ],
   "source": [
    "[(dc(), dc()) for i in range(6)]"
   ]
  },
  {
   "cell_type": "code",
   "execution_count": 18,
   "id": "41d5209e",
   "metadata": {},
   "outputs": [
    {
     "data": {
      "text/plain": [
       "(52, 39)"
      ]
     },
     "execution_count": 18,
     "metadata": {},
     "output_type": "execute_result"
    }
   ],
   "source": [
    "deck2.__dict__['cards'].__len__(), deck.__dict__['cards'].__len__()"
   ]
  },
  {
   "cell_type": "code",
   "execution_count": 1,
   "id": "bcea5236",
   "metadata": {},
   "outputs": [
    {
     "ename": "SyntaxError",
     "evalue": "incomplete input (68457138.py, line 11)",
     "output_type": "error",
     "traceback": [
      "\u001b[1;36m  Cell \u001b[1;32mIn[1], line 11\u001b[1;36m\u001b[0m\n\u001b[1;33m    return self._cards[position\u001b[0m\n\u001b[1;37m                               ^\u001b[0m\n\u001b[1;31mSyntaxError\u001b[0m\u001b[1;31m:\u001b[0m incomplete input\n"
     ]
    }
   ],
   "source": [
    "import collections\n",
    "Card = collections.namedtuple('Card', ['rank', 'suit'])\n",
    "class FrenchDeck:\n",
    "    ranks = [str(n) for n in range(2, 11)] + list('JQKA')\n",
    "    suits = 'spades diamonds clubs hearts'.split()\n",
    "    def __init__(self):\n",
    "        self._cards = [Card(rank, suit) for suit in self.suits for rank in self.ranks]\n",
    "    def __len__(self):\n",
    "        return len(self._cards)\n",
    "    def __getitem__(self, position):\n",
    "        return self._cards[position]"
   ]
  },
  {
   "cell_type": "code",
   "execution_count": null,
   "id": "e74fa356",
   "metadata": {},
   "outputs": [],
   "source": []
  }
 ],
 "metadata": {
  "kernelspec": {
   "display_name": "Python 3 (ipykernel)",
   "language": "python",
   "name": "python3"
  },
  "language_info": {
   "codemirror_mode": {
    "name": "ipython",
    "version": 3
   },
   "file_extension": ".py",
   "mimetype": "text/x-python",
   "name": "python",
   "nbconvert_exporter": "python",
   "pygments_lexer": "ipython3",
   "version": "3.11.3"
  }
 },
 "nbformat": 4,
 "nbformat_minor": 5
}
