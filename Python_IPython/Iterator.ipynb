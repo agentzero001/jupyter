{
 "cells": [
  {
   "cell_type": "markdown",
   "id": "aae0dd3b",
   "metadata": {},
   "source": [
    "### iterable\n",
    "Any object from which the iter built-in function can obtain an iterator. Objects\n",
    "implementing an \\__iter__ method returning an iterator are iterable. Sequences\n",
    "are always iterable, as are objects implementing a \\__getitem__ method that\n",
    "accepts 0-based indexes."
   ]
  },
  {
   "cell_type": "code",
   "execution_count": 255,
   "id": "45d7d31c",
   "metadata": {},
   "outputs": [
    {
     "data": {
      "text/plain": [
       "['1', '2', '3']"
      ]
     },
     "execution_count": 255,
     "metadata": {},
     "output_type": "execute_result"
    }
   ],
   "source": [
    "#Some people, when confronted with a problem, think \"I know, I'll use regular expressions.\" \n",
    "#Now they have two problems.\n",
    "import re\n",
    "import reprlib\n",
    "\n",
    "RE_WORD = re.compile(r'\\w+')\n",
    "RE_WORD.findall('1 2 3')"
   ]
  },
  {
   "cell_type": "code",
   "execution_count": 256,
   "id": "d56c7be7",
   "metadata": {},
   "outputs": [],
   "source": [
    "class Sentence:\n",
    "    def __init__(self, text):\n",
    "        self.text = text\n",
    "        self.words = RE_WORD.findall(text)\n",
    "    \n",
    "    def __getitem__(self, index):\n",
    "         return self.words[index]\n",
    "        \n",
    "    def __len__(self):\n",
    "        return len(self.words)\n",
    "    \n",
    "    def __repr__(self):\n",
    "        return 'Sentence(%s)' % reprlib.repr(self.text) #for abbreviation"
   ]
  },
  {
   "cell_type": "code",
   "execution_count": 257,
   "id": "12d01add",
   "metadata": {},
   "outputs": [
    {
     "data": {
      "text/plain": [
       "Sentence('\"the time ha... Walrus said,')"
      ]
     },
     "execution_count": 257,
     "metadata": {},
     "output_type": "execute_result"
    }
   ],
   "source": [
    "s = Sentence('\"the time has come,\" the Walrus said,')\n",
    "s"
   ]
  },
  {
   "cell_type": "code",
   "execution_count": 258,
   "id": "a8f5160f",
   "metadata": {},
   "outputs": [
    {
     "name": "stdout",
     "output_type": "stream",
     "text": [
      "the\n",
      "time\n",
      "has\n",
      "come\n",
      "the\n",
      "Walrus\n",
      "said\n"
     ]
    }
   ],
   "source": [
    "#whenever python needs to iterate over an object x, it automatically calls iter(x)\n",
    "#if __iter__ is missing iter() will call __getitem__()\n",
    "for word in s:\n",
    "    print(word)"
   ]
  },
  {
   "cell_type": "code",
   "execution_count": 259,
   "id": "deb4d6be",
   "metadata": {},
   "outputs": [
    {
     "data": {
      "text/plain": [
       "['the', 'time', 'has', 'come', 'the', 'Walrus', 'said']"
      ]
     },
     "execution_count": 259,
     "metadata": {},
     "output_type": "execute_result"
    }
   ],
   "source": [
    "list(s)"
   ]
  },
  {
   "cell_type": "code",
   "execution_count": 260,
   "id": "09ac6aac",
   "metadata": {},
   "outputs": [
    {
     "data": {
      "text/plain": [
       "{'Walrus', 'come', 'has', 'said', 'the', 'time'}"
      ]
     },
     "execution_count": 260,
     "metadata": {},
     "output_type": "execute_result"
    }
   ],
   "source": [
    "set(s)"
   ]
  },
  {
   "cell_type": "code",
   "execution_count": 261,
   "id": "7219868f",
   "metadata": {},
   "outputs": [
    {
     "data": {
      "text/plain": [
       "(True, True)"
      ]
     },
     "execution_count": 261,
     "metadata": {},
     "output_type": "execute_result"
    }
   ],
   "source": [
    "from collections import abc\n",
    "\n",
    "class GooseSpam:\n",
    "    def __iter__(self):\n",
    "        pass\n",
    "\n",
    "\n",
    "goose_spam_can = GooseSpam()\n",
    "\n",
    "issubclass(GooseSpam, abc.Iterable), isinstance(goose_spam_can, abc.Iterable)"
   ]
  },
  {
   "cell_type": "code",
   "execution_count": 262,
   "id": "b14a7322",
   "metadata": {},
   "outputs": [],
   "source": [
    "import random\n",
    "\n",
    "def d6():\n",
    "    return random.randint(1, 6)"
   ]
  },
  {
   "cell_type": "code",
   "execution_count": 263,
   "id": "470c92cf",
   "metadata": {},
   "outputs": [
    {
     "data": {
      "text/plain": [
       "(4, callable_iterator)"
      ]
     },
     "execution_count": 263,
     "metadata": {},
     "output_type": "execute_result"
    }
   ],
   "source": [
    "d6_iter = iter(d6, 1) \n",
    "next(d6_iter), type(d6_iter)"
   ]
  },
  {
   "cell_type": "code",
   "execution_count": 264,
   "id": "5d693478",
   "metadata": {},
   "outputs": [
    {
     "name": "stdout",
     "output_type": "stream",
     "text": [
      "5\n",
      "6\n",
      "3\n",
      "2\n",
      "4\n",
      "5\n",
      "6\n"
     ]
    }
   ],
   "source": [
    "for roll in d6_iter:\n",
    "    print(roll)"
   ]
  },
  {
   "cell_type": "code",
   "execution_count": 265,
   "id": "0105dbc7",
   "metadata": {},
   "outputs": [
    {
     "name": "stdout",
     "output_type": "stream",
     "text": [
      "A\n",
      "B\n",
      "C\n"
     ]
    }
   ],
   "source": [
    "s = 'ABC'\n",
    "it = iter(s) \n",
    "\n",
    "while True:\n",
    "    try:\n",
    "        print(next(it)) \n",
    "    except StopIteration: \n",
    "        del it \n",
    "        break "
   ]
  },
  {
   "cell_type": "markdown",
   "id": "3a4717ef",
   "metadata": {},
   "source": [
    "### Python’s standard interface for an iterator has two methods:\n",
    "\\__next__:\n",
    "Returns the next item in the series, raising StopIteration if there are no more.\n",
    "\n",
    "\\__iter__:\n",
    "Returns self; this allows iterators to be used where an iterable is expected, for\n",
    "example, in a for loop."
   ]
  },
  {
   "cell_type": "code",
   "execution_count": 266,
   "id": "ba756ab1",
   "metadata": {},
   "outputs": [],
   "source": [
    "s3 = Sentence('Life of Brian')\n",
    "it = iter(s3)"
   ]
  },
  {
   "cell_type": "code",
   "execution_count": 267,
   "id": "a6093063",
   "metadata": {},
   "outputs": [
    {
     "data": {
      "text/plain": [
       "('Life', 'of', 'Brian')"
      ]
     },
     "execution_count": 267,
     "metadata": {},
     "output_type": "execute_result"
    }
   ],
   "source": [
    "next(it), next(it), next(it)"
   ]
  },
  {
   "cell_type": "code",
   "execution_count": 268,
   "id": "770b9b72",
   "metadata": {},
   "outputs": [
    {
     "data": {
      "text/plain": [
       "[]"
      ]
     },
     "execution_count": 268,
     "metadata": {},
     "output_type": "execute_result"
    }
   ],
   "source": [
    "list(it)"
   ]
  },
  {
   "cell_type": "code",
   "execution_count": 269,
   "id": "aaba762c",
   "metadata": {},
   "outputs": [
    {
     "data": {
      "text/plain": [
       "['Life', 'of', 'Brian']"
      ]
     },
     "execution_count": 269,
     "metadata": {},
     "output_type": "execute_result"
    }
   ],
   "source": [
    "list(iter(s3))"
   ]
  },
  {
   "cell_type": "code",
   "execution_count": 270,
   "id": "ecce306a",
   "metadata": {},
   "outputs": [],
   "source": [
    "class Sentence:\n",
    "    def __init__(self, text):\n",
    "        self.text = text\n",
    "        self.words = RE_WORD.findall(text)\n",
    "    \n",
    "    def __repr__(self):\n",
    "        return f'Sentence({reprlib.repr(self.text)})'\n",
    "\n",
    "    \n",
    "    def __iter__(self):\n",
    "        return SentenceIterator(self.words)\n",
    "    \n",
    "class SentenceIterator:\n",
    "    def __init__(self, words):\n",
    "        self.words = words\n",
    "        self.index = 0\n",
    "        \n",
    "    def __next__(self):\n",
    "        try:\n",
    "            word = self.words[self.index]\n",
    "        except IndexError:\n",
    "            raise StopIteration()\n",
    "        self.index += 1\n",
    "        return word\n",
    "    \n",
    "    def __iter__(self):\n",
    "        return self"
   ]
  },
  {
   "cell_type": "code",
   "execution_count": 271,
   "id": "dcd00b0c",
   "metadata": {},
   "outputs": [
    {
     "data": {
      "text/plain": [
       "('hello', ['good', 'bye', 'hi', 'firend'])"
      ]
     },
     "execution_count": 271,
     "metadata": {},
     "output_type": "execute_result"
    }
   ],
   "source": [
    "s4 = Sentence('hello good bye hi firend')\n",
    "it = iter(s4)\n",
    "next(it), list(it)"
   ]
  },
  {
   "cell_type": "markdown",
   "id": "b0f9fb9f",
   "metadata": {},
   "source": [
    "A common cause of errors in building iterables and iterators is to confuse the two. To\n",
    "be clear: iterables have an \\__iter__ method that instantiates a new iterator every\n",
    "time. Iterators implement a \\__next__ method that returns individual items, and an\n",
    "\\__iter__ method that returns self."
   ]
  },
  {
   "cell_type": "markdown",
   "id": "2d24e0b0",
   "metadata": {},
   "source": [
    "To “support multiple traversals,” it must be possible to obtain multiple independent\n",
    "iterators from the same iterable instance, and each iterator must keep its own internal\n",
    "state, so a proper implementation of the pattern requires each call to iter(my_itera\n",
    "ble) to create a new, independent, iterator. That is why we need the SentenceItera\n",
    "tor class in this example"
   ]
  },
  {
   "cell_type": "code",
   "execution_count": 272,
   "id": "b1d23b12",
   "metadata": {},
   "outputs": [],
   "source": [
    "#just ignore this one\n",
    "class Sentence:\n",
    "    def __init__(self, text):\n",
    "        self.text = text\n",
    "        self.words = RE_WORD.findall(text)\n",
    "    \n",
    "    def __repr__(self):\n",
    "        return f'Sentence({reprlib.repr(self.text)})'\n",
    "\n",
    "    def __iter__(self):\n",
    "        return iter(self.words)"
   ]
  },
  {
   "cell_type": "code",
   "execution_count": 273,
   "id": "0a3c8021",
   "metadata": {},
   "outputs": [
    {
     "data": {
      "text/plain": [
       "('hallo', ['good', 'bye', 'hi'])"
      ]
     },
     "execution_count": 273,
     "metadata": {},
     "output_type": "execute_result"
    }
   ],
   "source": [
    "s3 = Sentence('hallo good bye hi')\n",
    "it = iter(s3)\n",
    "next(it), list(it)"
   ]
  },
  {
   "cell_type": "code",
   "execution_count": 274,
   "id": "5293736f",
   "metadata": {},
   "outputs": [],
   "source": [
    "class Sentence2:\n",
    "    def __init__(self, text):\n",
    "        self.text = text\n",
    "        self.words = RE_WORD.findall(text)\n",
    "    \n",
    "    def __repr__(self):\n",
    "        return f'Sentence({reprlib.repr(self.text)})'\n",
    "\n",
    "    def __iter__(self):\n",
    "        for word in self.words:\n",
    "            yield word       "
   ]
  },
  {
   "cell_type": "code",
   "execution_count": 275,
   "id": "fb3edefc",
   "metadata": {},
   "outputs": [
    {
     "name": "stdout",
     "output_type": "stream",
     "text": [
      "hallo\n",
      "good\n",
      "bye\n",
      "hi\n"
     ]
    },
    {
     "data": {
      "text/plain": [
       "('hallo', ['good', 'bye', 'hi'])"
      ]
     },
     "execution_count": 275,
     "metadata": {},
     "output_type": "execute_result"
    }
   ],
   "source": [
    "s = Sentence2('hallo good bye hi')\n",
    "for w in s:\n",
    "    print(w)\n",
    "    \n",
    "it = iter(s)\n",
    "next(it), list(it)"
   ]
  },
  {
   "cell_type": "code",
   "execution_count": 276,
   "id": "338e214f",
   "metadata": {},
   "outputs": [],
   "source": [
    "#generators implement the iterator interface, so they are also iterable"
   ]
  },
  {
   "cell_type": "code",
   "execution_count": 277,
   "id": "e29face3",
   "metadata": {},
   "outputs": [
    {
     "data": {
      "text/plain": [
       "(<function __main__.gen_123()>,\n",
       " <generator object gen_123 at 0x000001904311D900>)"
      ]
     },
     "execution_count": 277,
     "metadata": {},
     "output_type": "execute_result"
    }
   ],
   "source": [
    "def gen_123():\n",
    "    yield 1\n",
    "    yield 2\n",
    "    yield 3\n",
    "    \n",
    "gen_123, gen_123()"
   ]
  },
  {
   "cell_type": "code",
   "execution_count": 278,
   "id": "e250470d",
   "metadata": {},
   "outputs": [
    {
     "name": "stdout",
     "output_type": "stream",
     "text": [
      "1\n",
      "2\n",
      "3\n"
     ]
    }
   ],
   "source": [
    "for i in gen_123():\n",
    "    print(i)"
   ]
  },
  {
   "cell_type": "code",
   "execution_count": 279,
   "id": "0bfebd68",
   "metadata": {},
   "outputs": [
    {
     "data": {
      "text/plain": [
       "(1, 2, 3)"
      ]
     },
     "execution_count": 279,
     "metadata": {},
     "output_type": "execute_result"
    }
   ],
   "source": [
    "g = gen_123()\n",
    "next(g), next(g), next(g)"
   ]
  },
  {
   "cell_type": "code",
   "execution_count": 280,
   "id": "413dedc3",
   "metadata": {},
   "outputs": [
    {
     "ename": "StopIteration",
     "evalue": "",
     "output_type": "error",
     "traceback": [
      "\u001b[1;31m---------------------------------------------------------------------------\u001b[0m",
      "\u001b[1;31mStopIteration\u001b[0m                             Traceback (most recent call last)",
      "Cell \u001b[1;32mIn[280], line 2\u001b[0m\n\u001b[0;32m      1\u001b[0m \u001b[38;5;66;03m#when the generator function returns it raises StopIteration\u001b[39;00m\n\u001b[1;32m----> 2\u001b[0m \u001b[38;5;28mnext\u001b[39m(g)\n",
      "\u001b[1;31mStopIteration\u001b[0m: "
     ]
    }
   ],
   "source": [
    "#when the generator function returns it raises StopIteration\n",
    "next(g)"
   ]
  },
  {
   "cell_type": "code",
   "execution_count": 281,
   "id": "cd0627db",
   "metadata": {},
   "outputs": [],
   "source": [
    "#the most lazy version of Sentence \n",
    "class Sentence:\n",
    "    def __init__(self, text):\n",
    "        self.text = text\n",
    "        \n",
    "    def __repr__(self):\n",
    "        return f'Sentence({reprlib.repr(self.text)})'\n",
    "\n",
    "    def __iter__(self):\n",
    "        for match in RE_WORD.finditer(self.text):\n",
    "            yield match.group()"
   ]
  },
  {
   "cell_type": "code",
   "execution_count": 282,
   "id": "cb8a3fc3",
   "metadata": {},
   "outputs": [],
   "source": [
    "class Sentence:\n",
    "    def __init__(self, text):\n",
    "        self.text = text\n",
    "        \n",
    "    def __repr__(self):\n",
    "        return f'Sentence({reprlib.repr(self.text)})'\n",
    "\n",
    "    def __iter__(self):\n",
    "        return (match.group() for match in RE_WORD.finditer(self.text))"
   ]
  },
  {
   "cell_type": "code",
   "execution_count": 283,
   "id": "feb21121",
   "metadata": {},
   "outputs": [
    {
     "data": {
      "text/plain": [
       "('1', ['2', '3', 'hallo', 'good', 'bye'])"
      ]
     },
     "execution_count": 283,
     "metadata": {},
     "output_type": "execute_result"
    }
   ],
   "source": [
    "s = Sentence('1 2 3 hallo good bye')\n",
    "it = iter(s)\n",
    "next(it), list(it)"
   ]
  },
  {
   "cell_type": "code",
   "execution_count": 284,
   "id": "0eeed1cd",
   "metadata": {},
   "outputs": [
    {
     "name": "stdout",
     "output_type": "stream",
     "text": [
      "<re.Match object; span=(0, 1), match='1'>\n",
      "<re.Match object; span=(2, 3), match='2'>\n",
      "<re.Match object; span=(4, 5), match='3'>\n"
     ]
    }
   ],
   "source": [
    "for i in RE_WORD.finditer('1 2 3'):\n",
    "    print(i)"
   ]
  },
  {
   "cell_type": "code",
   "execution_count": 285,
   "id": "96d9c8bf",
   "metadata": {},
   "outputs": [],
   "source": [
    "def gen_AB():\n",
    "    print('start')\n",
    "    yield 'A'\n",
    "    print('continue')\n",
    "    yield 'B'\n",
    "    print('end')"
   ]
  },
  {
   "cell_type": "code",
   "execution_count": 286,
   "id": "6ec8ab2d",
   "metadata": {},
   "outputs": [
    {
     "name": "stdout",
     "output_type": "stream",
     "text": [
      "start\n",
      "continue\n",
      "end\n"
     ]
    }
   ],
   "source": [
    "res1 = [3*x for x in gen_AB()]"
   ]
  },
  {
   "cell_type": "code",
   "execution_count": 287,
   "id": "9ff2acb2",
   "metadata": {},
   "outputs": [
    {
     "data": {
      "text/plain": [
       "['AAA', 'BBB']"
      ]
     },
     "execution_count": 287,
     "metadata": {},
     "output_type": "execute_result"
    }
   ],
   "source": [
    "res1"
   ]
  },
  {
   "cell_type": "code",
   "execution_count": 288,
   "id": "66d9c110",
   "metadata": {},
   "outputs": [
    {
     "data": {
      "text/plain": [
       "<generator object <genexpr> at 0x00000190431D6670>"
      ]
     },
     "execution_count": 288,
     "metadata": {},
     "output_type": "execute_result"
    }
   ],
   "source": [
    "res2 = (3*x for x in gen_AB())\n",
    "res2"
   ]
  },
  {
   "cell_type": "code",
   "execution_count": 289,
   "id": "f85c4cb8",
   "metadata": {},
   "outputs": [
    {
     "name": "stdout",
     "output_type": "stream",
     "text": [
      "start\n",
      "--> AAA\n",
      "continue\n",
      "--> BBB\n",
      "end\n"
     ]
    }
   ],
   "source": [
    "for i in res2:\n",
    "    print('-->', i)"
   ]
  },
  {
   "cell_type": "code",
   "execution_count": 290,
   "id": "e482a19c",
   "metadata": {},
   "outputs": [
    {
     "data": {
      "text/plain": [
       "<generator object <genexpr> at 0x00000190431D7E00>"
      ]
     },
     "execution_count": 290,
     "metadata": {},
     "output_type": "execute_result"
    }
   ],
   "source": [
    "#generator expression\n",
    "(2 * x for x in [1,2,3])"
   ]
  },
  {
   "cell_type": "code",
   "execution_count": 291,
   "id": "04aec885",
   "metadata": {},
   "outputs": [
    {
     "data": {
      "text/plain": [
       "6.0"
      ]
     },
     "execution_count": 291,
     "metadata": {},
     "output_type": "execute_result"
    }
   ],
   "source": [
    "type(8.0)(6)"
   ]
  },
  {
   "cell_type": "code",
   "execution_count": 292,
   "id": "f6a34564",
   "metadata": {},
   "outputs": [],
   "source": [
    "def aritprog_gen(begin, step, end=None):\n",
    "    result = type(begin+step)(begin)\n",
    "    index = 0\n",
    "    while (end is None) or result < end:\n",
    "        yield result\n",
    "        index += 1\n",
    "        result = begin + step * index"
   ]
  },
  {
   "cell_type": "code",
   "execution_count": 293,
   "id": "1dee6cc6",
   "metadata": {},
   "outputs": [
    {
     "data": {
      "text/plain": [
       "[1.0, 1.2, 1.4, 1.6, 1.8, 2.0, 2.2, 2.4000000000000004, 2.6, 2.8]"
      ]
     },
     "execution_count": 293,
     "metadata": {},
     "output_type": "execute_result"
    }
   ],
   "source": [
    "list(aritprog_gen(1, .2, 3))"
   ]
  },
  {
   "cell_type": "code",
   "execution_count": 294,
   "id": "e857bb64",
   "metadata": {},
   "outputs": [
    {
     "data": {
      "text/plain": [
       "[Decimal('1'),\n",
       " Decimal('1.2'),\n",
       " Decimal('1.4'),\n",
       " Decimal('1.6'),\n",
       " Decimal('1.8'),\n",
       " Decimal('2.0'),\n",
       " Decimal('2.2'),\n",
       " Decimal('2.4'),\n",
       " Decimal('2.6'),\n",
       " Decimal('2.8')]"
      ]
     },
     "execution_count": 294,
     "metadata": {},
     "output_type": "execute_result"
    }
   ],
   "source": [
    "from decimal import Decimal\n",
    "list(aritprog_gen(1, Decimal('.2'), 3))"
   ]
  },
  {
   "cell_type": "code",
   "execution_count": 295,
   "id": "7d6b31e6",
   "metadata": {},
   "outputs": [
    {
     "data": {
      "text/plain": [
       "[Fraction(1, 1),\n",
       " Fraction(4, 3),\n",
       " Fraction(5, 3),\n",
       " Fraction(2, 1),\n",
       " Fraction(7, 3),\n",
       " Fraction(8, 3)]"
      ]
     },
     "execution_count": 295,
     "metadata": {},
     "output_type": "execute_result"
    }
   ],
   "source": [
    "from fractions import Fraction\n",
    "list(aritprog_gen(1, Fraction(1,3), 3))"
   ]
  },
  {
   "cell_type": "code",
   "execution_count": 296,
   "id": "646bb16d",
   "metadata": {},
   "outputs": [],
   "source": [
    "import itertools"
   ]
  },
  {
   "cell_type": "code",
   "execution_count": 297,
   "id": "f86800e5",
   "metadata": {},
   "outputs": [
    {
     "data": {
      "text/plain": [
       "(1, 1.5, 2.0)"
      ]
     },
     "execution_count": 297,
     "metadata": {},
     "output_type": "execute_result"
    }
   ],
   "source": [
    "gen = itertools.count(1, .5) #never stops so don't use list here\n",
    "next(gen), next(gen), next(gen)"
   ]
  },
  {
   "cell_type": "code",
   "execution_count": 298,
   "id": "38ba5a2c",
   "metadata": {},
   "outputs": [
    {
     "data": {
      "text/plain": [
       "[1, 1.5, 2.0, 2.5]"
      ]
     },
     "execution_count": 298,
     "metadata": {},
     "output_type": "execute_result"
    }
   ],
   "source": [
    "gen = itertools.takewhile(lambda n: n < 3, itertools.count(1, .5))\n",
    "list(gen)"
   ]
  },
  {
   "cell_type": "code",
   "execution_count": 299,
   "id": "6b0bbab5",
   "metadata": {},
   "outputs": [],
   "source": [
    "def aritprog(begin, step, end=None):\n",
    "    first = type(begin + step)(begin)\n",
    "    ap_gen = itertools.count(first, step)\n",
    "    if end is None:\n",
    "        return ap_gen\n",
    "    return itertools.takewhile(lambda n: n < end, ap_gen)"
   ]
  },
  {
   "cell_type": "code",
   "execution_count": 300,
   "id": "f78ab6f0",
   "metadata": {},
   "outputs": [
    {
     "data": {
      "text/plain": [
       "[0, 1, 2, 3, 4, 5, 6, 7, 8, 9]"
      ]
     },
     "execution_count": 300,
     "metadata": {},
     "output_type": "execute_result"
    }
   ],
   "source": [
    "list(aritprog(0,1,10))"
   ]
  },
  {
   "cell_type": "code",
   "execution_count": 301,
   "id": "9ac6e29f",
   "metadata": {},
   "outputs": [],
   "source": [
    "from itertools import compress, dropwhile, accumulate, starmap, filterfalse, islice, takewhile"
   ]
  },
  {
   "cell_type": "code",
   "execution_count": 302,
   "id": "2dc0cbe1",
   "metadata": {},
   "outputs": [],
   "source": [
    "def vowel(c):\n",
    "    return c.lower() in 'aeiou'"
   ]
  },
  {
   "cell_type": "code",
   "execution_count": 303,
   "id": "96842e13",
   "metadata": {},
   "outputs": [
    {
     "data": {
      "text/plain": [
       "['A', 'a', 'a']"
      ]
     },
     "execution_count": 303,
     "metadata": {},
     "output_type": "execute_result"
    }
   ],
   "source": [
    "list(filter(vowel, 'Aardvark'))"
   ]
  },
  {
   "cell_type": "code",
   "execution_count": 304,
   "id": "07848a9b",
   "metadata": {},
   "outputs": [
    {
     "data": {
      "text/plain": [
       "['r', 'd', 'v', 'r', 'k']"
      ]
     },
     "execution_count": 304,
     "metadata": {},
     "output_type": "execute_result"
    }
   ],
   "source": [
    "list(filterfalse(vowel, 'Aardvark'))"
   ]
  },
  {
   "cell_type": "code",
   "execution_count": 305,
   "id": "b78139f8",
   "metadata": {},
   "outputs": [
    {
     "data": {
      "text/plain": [
       "['r', 'd', 'v', 'a', 'r', 'k']"
      ]
     },
     "execution_count": 305,
     "metadata": {},
     "output_type": "execute_result"
    }
   ],
   "source": [
    "list(dropwhile(vowel, 'Aardvark'))"
   ]
  },
  {
   "cell_type": "code",
   "execution_count": 306,
   "id": "e1278c66",
   "metadata": {},
   "outputs": [
    {
     "data": {
      "text/plain": [
       "['A', 'a']"
      ]
     },
     "execution_count": 306,
     "metadata": {},
     "output_type": "execute_result"
    }
   ],
   "source": [
    "list(takewhile(vowel, 'Aardvark'))"
   ]
  },
  {
   "cell_type": "code",
   "execution_count": 307,
   "id": "74742b36",
   "metadata": {},
   "outputs": [
    {
     "data": {
      "text/plain": [
       "['A', 'r', 'd', 'a']"
      ]
     },
     "execution_count": 307,
     "metadata": {},
     "output_type": "execute_result"
    }
   ],
   "source": [
    "list(compress('Aardvark', (1, 0, 1, 1, 0, 1)))"
   ]
  },
  {
   "cell_type": "code",
   "execution_count": 308,
   "id": "abb78d75",
   "metadata": {},
   "outputs": [
    {
     "data": {
      "text/plain": [
       "['A', 'a', 'r', 'd']"
      ]
     },
     "execution_count": 308,
     "metadata": {},
     "output_type": "execute_result"
    }
   ],
   "source": [
    "list(islice('Aardvark', 4))"
   ]
  },
  {
   "cell_type": "code",
   "execution_count": 309,
   "id": "65cc9fb4",
   "metadata": {},
   "outputs": [
    {
     "data": {
      "text/plain": [
       "['v', 'a', 'r']"
      ]
     },
     "execution_count": 309,
     "metadata": {},
     "output_type": "execute_result"
    }
   ],
   "source": [
    "list(islice('Aardvark', 4, 7))"
   ]
  },
  {
   "cell_type": "code",
   "execution_count": 310,
   "id": "c05ce05c",
   "metadata": {},
   "outputs": [
    {
     "data": {
      "text/plain": [
       "['a', 'd', 'a']"
      ]
     },
     "execution_count": 310,
     "metadata": {},
     "output_type": "execute_result"
    }
   ],
   "source": [
    "list(islice('Aardvark', 1, 7, 2))"
   ]
  },
  {
   "cell_type": "code",
   "execution_count": 311,
   "id": "318fd4b1",
   "metadata": {},
   "outputs": [],
   "source": [
    "sample = [5, 4, 2, 8, 7, 6, 3, 0, 9, 1]"
   ]
  },
  {
   "cell_type": "code",
   "execution_count": 312,
   "id": "01d0fc89",
   "metadata": {},
   "outputs": [
    {
     "data": {
      "text/plain": [
       "[5, 9, 11, 19, 26, 32, 35, 35, 44, 45]"
      ]
     },
     "execution_count": 312,
     "metadata": {},
     "output_type": "execute_result"
    }
   ],
   "source": [
    "list(accumulate(sample))"
   ]
  },
  {
   "cell_type": "code",
   "execution_count": 313,
   "id": "39ee2be5",
   "metadata": {},
   "outputs": [
    {
     "data": {
      "text/plain": [
       "[5, 4, 2, 2, 2, 2, 2, 0, 0, 0]"
      ]
     },
     "execution_count": 313,
     "metadata": {},
     "output_type": "execute_result"
    }
   ],
   "source": [
    "list(accumulate(sample, min))"
   ]
  },
  {
   "cell_type": "code",
   "execution_count": 314,
   "id": "0bc342f8",
   "metadata": {},
   "outputs": [
    {
     "data": {
      "text/plain": [
       "[5, 5, 5, 8, 8, 8, 8, 8, 9, 9]"
      ]
     },
     "execution_count": 314,
     "metadata": {},
     "output_type": "execute_result"
    }
   ],
   "source": [
    "list(accumulate(sample, max))"
   ]
  },
  {
   "cell_type": "code",
   "execution_count": 315,
   "id": "058a3e2d",
   "metadata": {},
   "outputs": [
    {
     "data": {
      "text/plain": [
       "[5, 20, 40, 320, 2240, 13440, 40320, 0, 0, 0]"
      ]
     },
     "execution_count": 315,
     "metadata": {},
     "output_type": "execute_result"
    }
   ],
   "source": [
    "import operator\n",
    "list(accumulate(sample, operator.mul))"
   ]
  },
  {
   "cell_type": "code",
   "execution_count": 316,
   "id": "a3cdcbb7",
   "metadata": {},
   "outputs": [
    {
     "data": {
      "text/plain": [
       "[1, 2, 6, 24, 120, 720, 5040, 40320, 362880, 3628800]"
      ]
     },
     "execution_count": 316,
     "metadata": {},
     "output_type": "execute_result"
    }
   ],
   "source": [
    "list(accumulate(range(1,11), operator.mul)) #factorial"
   ]
  },
  {
   "cell_type": "code",
   "execution_count": 317,
   "id": "5f23ed96",
   "metadata": {},
   "outputs": [
    {
     "data": {
      "text/plain": [
       "['a', 'll', 'bbb', 'aaaa', 'ttttt', 'rrrrrr', 'ooooooo', 'zzzzzzzz']"
      ]
     },
     "execution_count": 317,
     "metadata": {},
     "output_type": "execute_result"
    }
   ],
   "source": [
    "list(starmap(operator.mul, enumerate('albatroz', 1)))"
   ]
  },
  {
   "cell_type": "code",
   "execution_count": 318,
   "id": "fff3b5d1",
   "metadata": {},
   "outputs": [
    {
     "data": {
      "text/plain": [
       "['aaa',\n",
       " 'llll',\n",
       " 'bbbbb',\n",
       " 'aaaaaa',\n",
       " 'ttttttt',\n",
       " 'rrrrrrrr',\n",
       " 'ooooooooo',\n",
       " 'zzzzzzzzzz']"
      ]
     },
     "execution_count": 318,
     "metadata": {},
     "output_type": "execute_result"
    }
   ],
   "source": [
    "list(starmap(operator.mul, enumerate('albatroz', 3)))"
   ]
  },
  {
   "cell_type": "code",
   "execution_count": 319,
   "id": "11d9e296",
   "metadata": {},
   "outputs": [
    {
     "data": {
      "text/plain": [
       "[5.0,\n",
       " 4.5,\n",
       " 3.6666666666666665,\n",
       " 4.75,\n",
       " 5.2,\n",
       " 5.333333333333333,\n",
       " 5.0,\n",
       " 4.375,\n",
       " 4.888888888888889,\n",
       " 4.5]"
      ]
     },
     "execution_count": 319,
     "metadata": {},
     "output_type": "execute_result"
    }
   ],
   "source": [
    "list(starmap(lambda a, b: b/a, enumerate(accumulate(sample), 1)))"
   ]
  },
  {
   "cell_type": "code",
   "execution_count": 320,
   "id": "985c55de",
   "metadata": {},
   "outputs": [],
   "source": [
    "from itertools import chain, product, zip_longest"
   ]
  },
  {
   "cell_type": "code",
   "execution_count": 321,
   "id": "e07e99bc",
   "metadata": {},
   "outputs": [
    {
     "data": {
      "text/plain": [
       "['A', 'B', 'C', 0, 1, 2]"
      ]
     },
     "execution_count": 321,
     "metadata": {},
     "output_type": "execute_result"
    }
   ],
   "source": [
    "list(chain('ABC', range(3)))"
   ]
  },
  {
   "cell_type": "code",
   "execution_count": 322,
   "id": "d39e8d10",
   "metadata": {},
   "outputs": [
    {
     "data": {
      "text/plain": [
       "[0, 'A', 1, 'B', 2, 'C']"
      ]
     },
     "execution_count": 322,
     "metadata": {},
     "output_type": "execute_result"
    }
   ],
   "source": [
    "#chain.from_iterable takes each item from the iterable, and chains them in sequence,\n",
    "#as long as each item is itself iterable\n",
    "list(chain.from_iterable(enumerate('ABC')))"
   ]
  },
  {
   "cell_type": "code",
   "execution_count": 323,
   "id": "561a82f2",
   "metadata": {},
   "outputs": [
    {
     "data": {
      "text/plain": [
       "[(0, 'A'), (1, 'B'), (2, 'C')]"
      ]
     },
     "execution_count": 323,
     "metadata": {},
     "output_type": "execute_result"
    }
   ],
   "source": [
    "list(enumerate('ABC'))"
   ]
  },
  {
   "cell_type": "code",
   "execution_count": 324,
   "id": "feb4826a",
   "metadata": {},
   "outputs": [
    {
     "data": {
      "text/plain": [
       "[(0, 0), (0, 1), (0, 2), (1, 0), (1, 1), (1, 2), (2, 0), (2, 1), (2, 2)]"
      ]
     },
     "execution_count": 324,
     "metadata": {},
     "output_type": "execute_result"
    }
   ],
   "source": [
    "list(product(range(3), range(3))) #cartesian product"
   ]
  },
  {
   "cell_type": "code",
   "execution_count": 325,
   "id": "c5e06355",
   "metadata": {},
   "outputs": [
    {
     "data": {
      "text/plain": [
       "['spades', 'diamonds', 'hearts', 'clubs']"
      ]
     },
     "execution_count": 325,
     "metadata": {},
     "output_type": "execute_result"
    }
   ],
   "source": [
    "suits = 'spades diamonds hearts clubs'.split()\n",
    "suits"
   ]
  },
  {
   "cell_type": "code",
   "execution_count": 326,
   "id": "072d3a4d",
   "metadata": {},
   "outputs": [
    {
     "data": {
      "text/plain": [
       "[('spades', 'A'),\n",
       " ('spades', 'K'),\n",
       " ('diamonds', 'A'),\n",
       " ('diamonds', 'K'),\n",
       " ('hearts', 'A'),\n",
       " ('hearts', 'K'),\n",
       " ('clubs', 'A'),\n",
       " ('clubs', 'K')]"
      ]
     },
     "execution_count": 326,
     "metadata": {},
     "output_type": "execute_result"
    }
   ],
   "source": [
    "list(product(suits, 'AK'))"
   ]
  },
  {
   "cell_type": "code",
   "execution_count": 327,
   "id": "e1ead211",
   "metadata": {},
   "outputs": [
    {
     "data": {
      "text/plain": [
       "[(0, 0), (0, 1), (0, 2), (1, 0), (1, 1), (1, 2), (2, 0), (2, 1), (2, 2)]"
      ]
     },
     "execution_count": 327,
     "metadata": {},
     "output_type": "execute_result"
    }
   ],
   "source": [
    "[(i, j) for i in range(3) for j in range(3)] #also cartesian product"
   ]
  },
  {
   "cell_type": "code",
   "execution_count": 328,
   "id": "c0301bf8",
   "metadata": {},
   "outputs": [
    {
     "data": {
      "text/plain": [
       "[('A', 0), ('B', 1), ('C', 2), (None, 3), (None, 4)]"
      ]
     },
     "execution_count": 328,
     "metadata": {},
     "output_type": "execute_result"
    }
   ],
   "source": [
    "list(zip_longest('ABC', range(5)))"
   ]
  },
  {
   "cell_type": "code",
   "execution_count": 329,
   "id": "e7339f15",
   "metadata": {},
   "outputs": [
    {
     "data": {
      "text/plain": [
       "[('A', 0), ('B', 1), ('C', 2), ('?', 3), ('?', 4)]"
      ]
     },
     "execution_count": 329,
     "metadata": {},
     "output_type": "execute_result"
    }
   ],
   "source": [
    "list(zip_longest('ABC', range(5), fillvalue='?'))"
   ]
  },
  {
   "cell_type": "code",
   "execution_count": 330,
   "id": "93f62cca",
   "metadata": {},
   "outputs": [
    {
     "data": {
      "text/plain": [
       "[('A', 'A'),\n",
       " ('A', 'B'),\n",
       " ('A', 'C'),\n",
       " ('B', 'A'),\n",
       " ('B', 'B'),\n",
       " ('B', 'C'),\n",
       " ('C', 'A'),\n",
       " ('C', 'B'),\n",
       " ('C', 'C')]"
      ]
     },
     "execution_count": 330,
     "metadata": {},
     "output_type": "execute_result"
    }
   ],
   "source": [
    "list(product('ABC', repeat=2))"
   ]
  },
  {
   "cell_type": "code",
   "execution_count": 331,
   "id": "205697c0",
   "metadata": {},
   "outputs": [
    {
     "data": {
      "text/plain": [
       "[(0, 0, 0),\n",
       " (0, 0, 1),\n",
       " (0, 1, 0),\n",
       " (0, 1, 1),\n",
       " (1, 0, 0),\n",
       " (1, 0, 1),\n",
       " (1, 1, 0),\n",
       " (1, 1, 1)]"
      ]
     },
     "execution_count": 331,
     "metadata": {},
     "output_type": "execute_result"
    }
   ],
   "source": [
    "list(product(range(2), repeat=3))"
   ]
  },
  {
   "cell_type": "code",
   "execution_count": 332,
   "id": "784d33a5",
   "metadata": {},
   "outputs": [
    {
     "data": {
      "text/plain": [
       "[('A', 0, 'A', 0),\n",
       " ('A', 0, 'A', 1),\n",
       " ('A', 0, 'B', 0),\n",
       " ('A', 0, 'B', 1),\n",
       " ('A', 1, 'A', 0),\n",
       " ('A', 1, 'A', 1),\n",
       " ('A', 1, 'B', 0),\n",
       " ('A', 1, 'B', 1),\n",
       " ('B', 0, 'A', 0),\n",
       " ('B', 0, 'A', 1),\n",
       " ('B', 0, 'B', 0),\n",
       " ('B', 0, 'B', 1),\n",
       " ('B', 1, 'A', 0),\n",
       " ('B', 1, 'A', 1),\n",
       " ('B', 1, 'B', 0),\n",
       " ('B', 1, 'B', 1)]"
      ]
     },
     "execution_count": 332,
     "metadata": {},
     "output_type": "execute_result"
    }
   ],
   "source": [
    "list(product('AB', range(2), repeat=2))"
   ]
  },
  {
   "cell_type": "code",
   "execution_count": 333,
   "id": "a4ef6079",
   "metadata": {},
   "outputs": [],
   "source": [
    "from itertools import (combinations, \n",
    "                       combinations_with_replacement,\n",
    "                       cycle,\n",
    "                       pairwise,\n",
    "                       permutations,\n",
    "                       repeat)"
   ]
  },
  {
   "cell_type": "code",
   "execution_count": 334,
   "id": "90f5f888",
   "metadata": {},
   "outputs": [],
   "source": [
    "from itertools import cycle as c, pairwise as p"
   ]
  },
  {
   "cell_type": "code",
   "execution_count": 335,
   "id": "bf69e813",
   "metadata": {},
   "outputs": [
    {
     "data": {
      "text/plain": [
       "['A', 'B', 'C', 'A', 'B', 'C', 'A']"
      ]
     },
     "execution_count": 335,
     "metadata": {},
     "output_type": "execute_result"
    }
   ],
   "source": [
    "cy = cycle('ABC')\n",
    "list(islice(cy, 7))"
   ]
  },
  {
   "cell_type": "code",
   "execution_count": 336,
   "id": "1b1f5f15",
   "metadata": {},
   "outputs": [
    {
     "data": {
      "text/plain": [
       "[(0, 1), (1, 2), (2, 3), (3, 4), (4, 5), (5, 6)]"
      ]
     },
     "execution_count": 336,
     "metadata": {},
     "output_type": "execute_result"
    }
   ],
   "source": [
    "list(pairwise(range(7)))"
   ]
  },
  {
   "cell_type": "code",
   "execution_count": 337,
   "id": "b88a4a96",
   "metadata": {},
   "outputs": [
    {
     "data": {
      "text/plain": [
       "[4, 4, 4, 4, 4]"
      ]
     },
     "execution_count": 337,
     "metadata": {},
     "output_type": "execute_result"
    }
   ],
   "source": [
    "rp = repeat(4, 5)\n",
    "list(rp)"
   ]
  },
  {
   "cell_type": "code",
   "execution_count": 338,
   "id": "49debd38",
   "metadata": {},
   "outputs": [
    {
     "data": {
      "text/plain": [
       "[0, 5, 10, 15, 20, 25, 30, 35, 40, 45, 50]"
      ]
     },
     "execution_count": 338,
     "metadata": {},
     "output_type": "execute_result"
    }
   ],
   "source": [
    "list(map(operator.mul, range(11), repeat(5)))"
   ]
  },
  {
   "cell_type": "code",
   "execution_count": 339,
   "id": "839c36d0",
   "metadata": {},
   "outputs": [
    {
     "data": {
      "text/plain": [
       "[('A', 'B'), ('A', 'C'), ('B', 'C')]"
      ]
     },
     "execution_count": 339,
     "metadata": {},
     "output_type": "execute_result"
    }
   ],
   "source": [
    "list(combinations('ABC', 2))"
   ]
  },
  {
   "cell_type": "code",
   "execution_count": 340,
   "id": "caa3ac87",
   "metadata": {},
   "outputs": [
    {
     "data": {
      "text/plain": [
       "[('A', 'A'), ('A', 'B'), ('A', 'C'), ('B', 'B'), ('B', 'C'), ('C', 'C')]"
      ]
     },
     "execution_count": 340,
     "metadata": {},
     "output_type": "execute_result"
    }
   ],
   "source": [
    "list(combinations_with_replacement('ABC', 2))"
   ]
  },
  {
   "cell_type": "code",
   "execution_count": 341,
   "id": "581263f7",
   "metadata": {},
   "outputs": [
    {
     "data": {
      "text/plain": [
       "[('A', 'B'), ('A', 'C'), ('B', 'A'), ('B', 'C'), ('C', 'A'), ('C', 'B')]"
      ]
     },
     "execution_count": 341,
     "metadata": {},
     "output_type": "execute_result"
    }
   ],
   "source": [
    "list(permutations('ABC', 2))"
   ]
  },
  {
   "cell_type": "markdown",
   "id": "e81bcf60",
   "metadata": {},
   "source": [
    "-------------"
   ]
  },
  {
   "cell_type": "code",
   "execution_count": 342,
   "id": "976f5d56",
   "metadata": {},
   "outputs": [],
   "source": [
    "from itertools import groupby, tee"
   ]
  },
  {
   "cell_type": "code",
   "execution_count": 343,
   "id": "ecffdefd",
   "metadata": {},
   "outputs": [
    {
     "data": {
      "text/plain": [
       "[('L', <itertools._grouper at 0x19043222770>),\n",
       " ('A', <itertools._grouper at 0x19043223820>),\n",
       " ('G', <itertools._grouper at 0x19043223fa0>)]"
      ]
     },
     "execution_count": 343,
     "metadata": {},
     "output_type": "execute_result"
    }
   ],
   "source": [
    "list(groupby('LLLLAAGGG'))"
   ]
  },
  {
   "cell_type": "code",
   "execution_count": 344,
   "id": "9dc1d280",
   "metadata": {},
   "outputs": [
    {
     "name": "stdout",
     "output_type": "stream",
     "text": [
      "L ['L', 'L', 'L', 'L']\n",
      "A ['A', 'A']\n",
      "G ['G', 'G', 'G']\n"
     ]
    }
   ],
   "source": [
    "for char, group in groupby('LLLLAAGGG'):\n",
    "    print(char, list(group))"
   ]
  },
  {
   "cell_type": "code",
   "execution_count": 345,
   "id": "feae5b6b",
   "metadata": {},
   "outputs": [
    {
     "data": {
      "text/plain": [
       "['rat', 'bat', 'duck', 'bear', 'lion', 'eagle', 'shark', 'giraffe', 'dolphin']"
      ]
     },
     "execution_count": 345,
     "metadata": {},
     "output_type": "execute_result"
    }
   ],
   "source": [
    "animals = ['duck', 'eagle', 'rat', 'giraffe', 'bear', 'bat', 'dolphin', 'shark', 'lion']\n",
    "animals.sort(key=len)\n",
    "animals"
   ]
  },
  {
   "cell_type": "code",
   "execution_count": 346,
   "id": "c5b53ee3",
   "metadata": {},
   "outputs": [
    {
     "name": "stdout",
     "output_type": "stream",
     "text": [
      "3 ['rat', 'bat']\n",
      "4 ['duck', 'bear', 'lion']\n",
      "5 ['eagle', 'shark']\n",
      "7 ['giraffe', 'dolphin']\n"
     ]
    }
   ],
   "source": [
    "for length, group in groupby(animals, len):\n",
    "    print(length, list(group))"
   ]
  },
  {
   "cell_type": "code",
   "execution_count": 347,
   "id": "ebb3b125",
   "metadata": {},
   "outputs": [
    {
     "name": "stdout",
     "output_type": "stream",
     "text": [
      "7 ['dolphin', 'giraffe']\n",
      "5 ['shark', 'eagle']\n",
      "4 ['lion', 'bear', 'duck']\n",
      "3 ['bat', 'rat']\n"
     ]
    }
   ],
   "source": [
    "for length, group in groupby(reversed(animals), len):\n",
    "    print(length, list(group))"
   ]
  },
  {
   "cell_type": "code",
   "execution_count": 348,
   "id": "70cd47ef",
   "metadata": {},
   "outputs": [
    {
     "data": {
      "text/plain": [
       "[<itertools._tee at 0x190431e6600>,\n",
       " <itertools._tee at 0x1902a5e1e80>,\n",
       " <itertools._tee at 0x1904322f340>]"
      ]
     },
     "execution_count": 348,
     "metadata": {},
     "output_type": "execute_result"
    }
   ],
   "source": [
    "list(tee('ABC', 3))"
   ]
  },
  {
   "cell_type": "code",
   "execution_count": 349,
   "id": "8ed0d29c",
   "metadata": {},
   "outputs": [],
   "source": [
    "g1, g2 = tee('ABC')\n",
    "n = next"
   ]
  },
  {
   "cell_type": "code",
   "execution_count": 350,
   "id": "651f0579",
   "metadata": {},
   "outputs": [
    {
     "data": {
      "text/plain": [
       "('A', 'A', 'B', ['B', 'C'], ['C'])"
      ]
     },
     "execution_count": 350,
     "metadata": {},
     "output_type": "execute_result"
    }
   ],
   "source": [
    "n(g1), n(g2), n(g2), list(g1), list(g2)"
   ]
  },
  {
   "cell_type": "code",
   "execution_count": 351,
   "id": "edd331db",
   "metadata": {},
   "outputs": [
    {
     "data": {
      "text/plain": [
       "[('A', 'A'), ('B', 'B'), ('C', 'C')]"
      ]
     },
     "execution_count": 351,
     "metadata": {},
     "output_type": "execute_result"
    }
   ],
   "source": [
    "list(zip(*tee('ABC')))"
   ]
  },
  {
   "cell_type": "code",
   "execution_count": 352,
   "id": "6293647d",
   "metadata": {},
   "outputs": [
    {
     "data": {
      "text/plain": [
       "(True, 8)"
      ]
     },
     "execution_count": 352,
     "metadata": {},
     "output_type": "execute_result"
    }
   ],
   "source": [
    "g = (n for n in [0, .0, 7, 8]) # generator expression\n",
    "any(g), next(g) #as any iterates over g looking for truthy values it will also change its state"
   ]
  },
  {
   "cell_type": "code",
   "execution_count": 353,
   "id": "29501ebe",
   "metadata": {},
   "outputs": [],
   "source": [
    "def chain(*iterables):\n",
    "    for it in iterables:\n",
    "        for i in it:\n",
    "            yield i\n",
    "            \n",
    "def chain(*iterables):\n",
    "    for i in iterables:\n",
    "        yield from i"
   ]
  },
  {
   "cell_type": "code",
   "execution_count": 354,
   "id": "a59b60f6",
   "metadata": {},
   "outputs": [
    {
     "data": {
      "text/plain": [
       "['A', 'B', 'C', 0, 1, 2]"
      ]
     },
     "execution_count": 354,
     "metadata": {},
     "output_type": "execute_result"
    }
   ],
   "source": [
    "sr = 'ABC', range(3)\n",
    "\n",
    "list(chain(*sr))"
   ]
  },
  {
   "cell_type": "code",
   "execution_count": 355,
   "id": "8b847232",
   "metadata": {},
   "outputs": [
    {
     "data": {
      "text/plain": [
       "[1, 1.1, 1.2, 2]"
      ]
     },
     "execution_count": 355,
     "metadata": {},
     "output_type": "execute_result"
    }
   ],
   "source": [
    "def sub_gen():\n",
    "    yield 1.1\n",
    "    yield 1.2\n",
    "\n",
    "def gen():\n",
    "    yield 1\n",
    "    for i in sub_gen():\n",
    "        yield i\n",
    "    yield 2\n",
    "    \n",
    "    \n",
    "list(gen())"
   ]
  },
  {
   "cell_type": "code",
   "execution_count": 356,
   "id": "6889daaa",
   "metadata": {},
   "outputs": [
    {
     "data": {
      "text/plain": [
       "[1, 1.1, 1.2, 2]"
      ]
     },
     "execution_count": 356,
     "metadata": {},
     "output_type": "execute_result"
    }
   ],
   "source": [
    "#the yield from expression allows a generator to delegate work to a subgenerator\n",
    "\n",
    "def sub_gen():\n",
    "    yield 1.1\n",
    "    yield 1.2\n",
    "\n",
    "def gen():\n",
    "    yield 1\n",
    "    yield from sub_gen()\n",
    "    yield 2\n",
    "\n",
    "list(gen())"
   ]
  },
  {
   "cell_type": "markdown",
   "id": "c23d33bf",
   "metadata": {},
   "source": [
    "### Traversing a Tree"
   ]
  },
  {
   "cell_type": "code",
   "execution_count": 357,
   "id": "77035214",
   "metadata": {},
   "outputs": [
    {
     "name": "stdout",
     "output_type": "stream",
     "text": [
      "BaseException\n"
     ]
    }
   ],
   "source": [
    "def tree(cls):\n",
    "    yield cls.__name__\n",
    "    \n",
    "def display(cls):\n",
    "    for cls_name in tree(cls):\n",
    "        print(cls_name)\n",
    "\n",
    "display(BaseException)    "
   ]
  },
  {
   "cell_type": "code",
   "execution_count": 358,
   "id": "dff13f29",
   "metadata": {},
   "outputs": [
    {
     "name": "stdout",
     "output_type": "stream",
     "text": [
      "BaseException\n",
      "    BaseExceptionGroup\n",
      "    Exception\n",
      "    GeneratorExit\n",
      "    KeyboardInterrupt\n",
      "    SystemExit\n",
      "    CancelledError\n",
      "    AbortThread\n"
     ]
    }
   ],
   "source": [
    "def tree(cls):\n",
    "    yield cls.__name__, 0\n",
    "    for sub_cls in cls.__subclasses__():\n",
    "        yield sub_cls.__name__, 1\n",
    "        \n",
    "def display(cls):\n",
    "    for cls_name, level in tree(cls):\n",
    "        indent = ' ' * 4 * level\n",
    "        print('{}{}'.format(indent, cls_name))\n",
    "\n",
    "display(BaseException)"
   ]
  },
  {
   "cell_type": "code",
   "execution_count": 373,
   "id": "e6992c62",
   "metadata": {},
   "outputs": [],
   "source": [
    "def tree(cls):\n",
    "    yield cls.__name__, 0\n",
    "    yield from sub_tree(cls)\n",
    "    \n",
    "def sub_tree(cls):\n",
    "    for sub_cls in cls.__subclasses__():\n",
    "        yield sub_cls.__name__, 1\n",
    "        for sub_sub_cls in sub_cls.__subclasses__():\n",
    "            yield sub_sub_cls.__name__, 2\n",
    "            \n",
    "def display(cls):\n",
    "    for cls_name, level in tree(cls):\n",
    "        indent = ' ' * 4 * level\n",
    "        print('{}{}'.format(indent, cls_name))\n",
    "        \n",
    "#display(BaseException)"
   ]
  },
  {
   "cell_type": "code",
   "execution_count": 360,
   "id": "d8d30540",
   "metadata": {},
   "outputs": [],
   "source": [
    "def tree(cls):\n",
    "    yield cls.__name__, 0\n",
    "    yield from sub_tree(cls)\n",
    "    \n",
    "def sub_tree(cls):\n",
    "    for sub_cls in cls.__subclasses__():\n",
    "        yield sub_cls.__name__, 1\n",
    "        for sub_sub_cls in sub_cls.__subclasses__():\n",
    "            yield sub_sub_cls.__name__, 2\n",
    "            for sub_sub_sub_cls in sub_sub_cls.__subclasses__():\n",
    "                yield sub_sub_sub_cls.__name__, 3\n",
    "            \n",
    "def display(cls):\n",
    "    for cls_name, level in tree(cls):\n",
    "        indent = ' ' * 4 * level\n",
    "        print('{}{}'.format(indent, cls_name))\n",
    "\n",
    "#display(BaseException)"
   ]
  },
  {
   "cell_type": "code",
   "execution_count": 10,
   "id": "1949c1c2",
   "metadata": {},
   "outputs": [
    {
     "name": "stdout",
     "output_type": "stream",
     "text": [
      "BaseException\n",
      "    BaseExceptionGroup\n",
      "        ExceptionGroup\n",
      "    Exception\n",
      "        ArithmeticError\n",
      "            FloatingPointError\n",
      "            OverflowError\n",
      "            ZeroDivisionError\n",
      "                DivisionByZero\n",
      "                DivisionUndefined\n",
      "            DecimalException\n",
      "                Clamped\n",
      "                Rounded\n",
      "                    Underflow\n",
      "                    Overflow\n",
      "                Inexact\n",
      "                    Underflow\n",
      "                    Overflow\n",
      "                Subnormal\n",
      "                    Underflow\n",
      "                DivisionByZero\n",
      "                FloatOperation\n",
      "                InvalidOperation\n",
      "                    ConversionSyntax\n",
      "                    DivisionImpossible\n",
      "                    DivisionUndefined\n",
      "                    InvalidContext\n",
      "        AssertionError\n",
      "        AttributeError\n",
      "            FrozenInstanceError\n",
      "        BufferError\n",
      "        EOFError\n",
      "            IncompleteReadError\n",
      "        ImportError\n",
      "            ModuleNotFoundError\n",
      "                PackageNotFoundError\n",
      "            ZipImportError\n",
      "        LookupError\n",
      "            IndexError\n",
      "            KeyError\n",
      "                NoSuchKernel\n",
      "                UnknownBackend\n",
      "            CodecRegistryError\n",
      "        MemoryError\n",
      "        NameError\n",
      "            UnboundLocalError\n",
      "        OSError\n",
      "            BlockingIOError\n",
      "            ChildProcessError\n",
      "            ConnectionError\n",
      "                BrokenPipeError\n",
      "                ConnectionAbortedError\n",
      "                ConnectionRefusedError\n",
      "                ConnectionResetError\n",
      "                    RemoteDisconnected\n",
      "            FileExistsError\n",
      "            FileNotFoundError\n",
      "            InterruptedError\n",
      "                InterruptedSystemCall\n",
      "            IsADirectoryError\n",
      "            NotADirectoryError\n",
      "            PermissionError\n",
      "            ProcessLookupError\n",
      "            TimeoutError\n",
      "            UnsupportedOperation\n",
      "            herror\n",
      "            gaierror\n",
      "            SSLError\n",
      "                SSLCertVerificationError\n",
      "                SSLZeroReturnError\n",
      "                SSLWantWriteError\n",
      "                SSLWantReadError\n",
      "                SSLSyscallError\n",
      "                SSLEOFError\n",
      "            Error\n",
      "                SameFileError\n",
      "            SpecialFileError\n",
      "            ExecError\n",
      "            ReadError\n",
      "            URLError\n",
      "                HTTPError\n",
      "                ContentTooShortError\n",
      "            BadGzipFile\n",
      "        ReferenceError\n",
      "        RuntimeError\n",
      "            NotImplementedError\n",
      "                ZMQVersionError\n",
      "                StdinNotImplementedError\n",
      "            RecursionError\n",
      "            _DeadlockError\n",
      "            BrokenBarrierError\n",
      "            BrokenExecutor\n",
      "                BrokenThreadPool\n",
      "            SendfileNotAvailableError\n",
      "            BrokenBarrierError\n",
      "            ExtractionError\n",
      "            VariableError\n",
      "        StopAsyncIteration\n",
      "        StopIteration\n",
      "        SyntaxError\n",
      "            IndentationError\n",
      "                TabError\n",
      "        SystemError\n",
      "            CodecRegistryError\n",
      "        TypeError\n",
      "            FloatOperation\n",
      "            MultipartConversionError\n",
      "        ValueError\n",
      "            UnicodeError\n",
      "                UnicodeDecodeError\n",
      "                UnicodeEncodeError\n",
      "                UnicodeTranslateError\n",
      "            UnsupportedOperation\n",
      "            JSONDecodeError\n",
      "            SSLCertVerificationError\n",
      "            Error\n",
      "            AddressValueError\n",
      "            NetmaskValueError\n",
      "            UnsupportedDigestmodError\n",
      "            IllegalMonthError\n",
      "            IllegalWeekdayError\n",
      "            ParserError\n",
      "            MessageDefect\n",
      "                NoBoundaryInMultipartDefect\n",
      "                StartBoundaryNotFoundDefect\n",
      "                CloseBoundaryNotFoundDefect\n",
      "                FirstHeaderLineIsContinuationDefect\n",
      "                MisplacedEnvelopeHeaderDefect\n",
      "                MissingHeaderBodySeparatorDefect\n",
      "                MultipartInvariantViolationDefect\n",
      "                InvalidMultipartContentTransferEncodingDefect\n",
      "                UndecodableBytesDefect\n",
      "                InvalidBase64PaddingDefect\n",
      "                InvalidBase64CharactersDefect\n",
      "                InvalidBase64LengthDefect\n",
      "                HeaderDefect\n",
      "                    InvalidHeaderDefect\n",
      "                    HeaderMissingRequiredValue\n",
      "                    NonPrintableDefect\n",
      "                    ObsoleteHeaderDefect\n",
      "                    NonASCIILocalPartDefect\n",
      "                    InvalidDateDefect\n",
      "            ClassNotFound\n",
      "            ClipboardEmpty\n",
      "            MacroToEdit\n",
      "            InvalidFileException\n",
      "            UnequalIterablesError\n",
      "            InvalidVersion\n",
      "            ELFInvalid\n",
      "            InvalidWheelFilename\n",
      "            InvalidSdistFilename\n",
      "            InvalidSpecifier\n",
      "            InvalidMarker\n",
      "            UndefinedComparison\n",
      "            UndefinedEnvironmentName\n",
      "            InvalidRequirement\n",
      "                RequirementParseError\n",
      "            InvalidVersion\n",
      "        Warning\n",
      "            BytesWarning\n",
      "            DeprecationWarning\n",
      "                ProvisionalWarning\n",
      "            EncodingWarning\n",
      "            FutureWarning\n",
      "                ProvisionalCompleterWarning\n",
      "            ImportWarning\n",
      "            PendingDeprecationWarning\n",
      "            ResourceWarning\n",
      "            RuntimeWarning\n",
      "                ProactorSelectorThreadWarning\n",
      "                UnknownTimezoneWarning\n",
      "                PEP440Warning\n",
      "            SyntaxWarning\n",
      "            UnicodeWarning\n",
      "            UserWarning\n",
      "                GetPassWarning\n",
      "                FormatterWarning\n",
      "            DeprecatedTzFormatWarning\n",
      "            PkgResourcesDeprecationWarning\n",
      "        ExceptionGroup\n",
      "        _OptionError\n",
      "        _Error\n",
      "        error\n",
      "        Error\n",
      "        SubprocessError\n",
      "            CalledProcessError\n",
      "            TimeoutExpired\n",
      "        ZMQBaseError\n",
      "            ZMQError\n",
      "                ContextTerminated\n",
      "                Again\n",
      "                InterruptedSystemCall\n",
      "            ZMQBindError\n",
      "            NotDone\n",
      "        Error\n",
      "        error\n",
      "        PickleError\n",
      "            PicklingError\n",
      "            UnpicklingError\n",
      "        _Stop\n",
      "        TokenError\n",
      "        StopTokenizing\n",
      "        Error\n",
      "            CancelledError\n",
      "            InvalidStateError\n",
      "        _GiveupOnSendfile\n",
      "        Incomplete\n",
      "        ClassFoundException\n",
      "        EndOfBlock\n",
      "        InvalidStateError\n",
      "        LimitOverrunError\n",
      "        QueueEmpty\n",
      "        QueueFull\n",
      "        error\n",
      "        LZMAError\n",
      "        RegistryError\n",
      "        _GiveupOnFastCopy\n",
      "        TraitError\n",
      "        Empty\n",
      "        Full\n",
      "        ArgumentError\n",
      "        COMError\n",
      "        ReturnValueIgnoredError\n",
      "        ArgumentError\n",
      "        ArgumentTypeError\n",
      "        ConfigError\n",
      "            ConfigLoaderError\n",
      "                ArgumentError\n",
      "            ConfigFileNotFound\n",
      "        ConfigurableError\n",
      "            MultipleInstanceError\n",
      "        ApplicationError\n",
      "        InvalidPortNumber\n",
      "        NoIPAddresses\n",
      "        Error\n",
      "        BadZipFile\n",
      "        LargeZipFile\n",
      "        MessageError\n",
      "            MessageParseError\n",
      "                HeaderParseError\n",
      "                BoundaryError\n",
      "            MultipartConversionError\n",
      "            CharsetError\n",
      "        DuplicateKernelError\n",
      "        ErrorDuringImport\n",
      "        NotOneValueFound\n",
      "        CannotEval\n",
      "        OptionError\n",
      "        BdbQuit\n",
      "        Restart\n",
      "        FindCmdError\n",
      "        HomeDirError\n",
      "        ProfileDirError\n",
      "        IPythonCoreError\n",
      "            TryNext\n",
      "            UsageError\n",
      "            StdinNotImplementedError\n",
      "        InputRejected\n",
      "        GetoptError\n",
      "        ErrorToken\n",
      "        PrefilterError\n",
      "        AliasError\n",
      "            InvalidAliasError\n",
      "        Error\n",
      "            InterfaceError\n",
      "            DatabaseError\n",
      "                InternalError\n",
      "                OperationalError\n",
      "                ProgrammingError\n",
      "                IntegrityError\n",
      "                DataError\n",
      "                NotSupportedError\n",
      "        Warning\n",
      "        SpaceInInput\n",
      "        DOMException\n",
      "            IndexSizeErr\n",
      "            DomstringSizeErr\n",
      "            HierarchyRequestErr\n",
      "            WrongDocumentErr\n",
      "            InvalidCharacterErr\n",
      "            NoDataAllowedErr\n",
      "            NoModificationAllowedErr\n",
      "            NotFoundErr\n",
      "            NotSupportedErr\n",
      "            InuseAttributeErr\n",
      "            InvalidStateErr\n",
      "            SyntaxErr\n",
      "            InvalidModificationErr\n",
      "            NamespaceErr\n",
      "            InvalidAccessErr\n",
      "            ValidationErr\n",
      "        ValidationError\n",
      "        EditReadOnlyBuffer\n",
      "        _Retry\n",
      "        InvalidLayoutError\n",
      "        HeightIsUnknownError\n",
      "        GuardRejection\n",
      "        ParserSyntaxError\n",
      "        InternalParseError\n",
      "        _PositionUpdatingFinished\n",
      "        SimpleGetItemNotFound\n",
      "        UncaughtAttributeError\n",
      "        HasNoContext\n",
      "        ParamIssue\n",
      "        _JediError\n",
      "            InternalError\n",
      "            WrongVersion\n",
      "            RefactoringError\n",
      "        OnErrorLeaf\n",
      "        InvalidPythonEnvironment\n",
      "        HTTPException\n",
      "            NotConnected\n",
      "            InvalidURL\n",
      "            UnknownProtocol\n",
      "            UnknownTransferEncoding\n",
      "            UnimplementedFileMode\n",
      "            IncompleteRead\n",
      "            ImproperConnectionState\n",
      "                CannotSendRequest\n",
      "                CannotSendHeader\n",
      "                ResponseNotReady\n",
      "            BadStatusLine\n",
      "                RemoteDisconnected\n",
      "            LineTooLong\n",
      "        InteractivelyDefined\n",
      "        KillEmbedded\n",
      "        Error\n",
      "            NoSuchProcess\n",
      "                ZombieProcess\n",
      "            AccessDenied\n",
      "            TimeoutExpired\n",
      "        Error\n",
      "        TimeoutExpired\n",
      "        TimeoutAbandoned\n",
      "        KeyReuseError\n",
      "        UnknownKeyError\n",
      "        LeakedCallbackError\n",
      "        BadYieldError\n",
      "        ReturnValueIgnoredError\n",
      "        Return\n",
      "        QueueEmpty\n",
      "        QueueFull\n",
      "        DebuggerInitializationError\n",
      "        ExpatError\n",
      "        Error\n",
      "            ProtocolError\n",
      "            ResponseError\n",
      "            Fault\n",
      "        ParserSyntaxError\n",
      "        ResolutionError\n",
      "            VersionConflict\n",
      "                ContextualVersionConflict\n",
      "            DistributionNotFound\n",
      "            UnknownExtra\n",
      "        _Error\n",
      "        UnableToResolveVariableException\n",
      "        InvalidTypeInArgsException\n",
      "    GeneratorExit\n",
      "    KeyboardInterrupt\n",
      "    SystemExit\n",
      "    CancelledError\n",
      "    AbortThread\n"
     ]
    }
   ],
   "source": [
    "#can traverse trees of any depth\n",
    "\n",
    "def tree(cls):\n",
    "    yield cls.__name__, 0\n",
    "    yield from sub_tree(cls, 1)\n",
    "    \n",
    "def sub_tree(cls, level):\n",
    "    for sub_cls in cls.__subclasses__():\n",
    "        yield sub_cls.__name__, level\n",
    "        yield from sub_tree(sub_cls, level+1)\n",
    "            \n",
    "def display(cls):\n",
    "    for cls_name, level in tree(cls):\n",
    "        indent = ' ' * 4 * level\n",
    "        print('{}{}'.format(indent, cls_name))\n",
    "\n",
    "display(BaseException)"
   ]
  },
  {
   "cell_type": "code",
   "execution_count": 362,
   "id": "d5525ed7",
   "metadata": {},
   "outputs": [
    {
     "name": "stdout",
     "output_type": "stream",
     "text": [
      "Container\n",
      "    Collection\n",
      "        Set\n",
      "            MutableSet\n",
      "            KeysView\n",
      "                _OrderedDictKeysView\n",
      "            ItemsView\n",
      "                _OrderedDictItemsView\n",
      "        Mapping\n",
      "            MutableMapping\n",
      "                _Environ\n",
      "                ChainMap\n",
      "                    DeepChainMap\n",
      "                UserDict\n",
      "                WeakValueDictionary\n",
      "                WeakKeyDictionary\n",
      "                SignalDict\n",
      "                RawConfigParser\n",
      "                    ConfigParser\n",
      "                        SafeConfigParser\n",
      "                        CaseSensitiveConfigParser\n",
      "                SectionProxy\n",
      "                ConverterMapping\n",
      "                PickleShareDB\n",
      "            _SelectorMapping\n",
      "            UsedNamesMapping\n",
      "            NpzFile\n",
      "            LazyDict\n",
      "                _CountryTimezoneDict\n",
      "                _CountryNameDict\n",
      "            KeyValueMetadata\n",
      "            StructScalar\n",
      "            NumpyDocString\n",
      "                FunctionDoc\n",
      "                ObjDoc\n",
      "                ClassDoc\n",
      "        ValuesView\n",
      "            _OrderedDictValuesView\n",
      "        Sequence\n",
      "            ByteString\n",
      "            MutableSequence\n",
      "                UserList\n",
      "            UserString\n",
      "            _PathParents\n",
      "            numeric_range\n",
      "            SequenceView\n"
     ]
    }
   ],
   "source": [
    "import collections as c\n",
    "display(c.abc.Container)"
   ]
  },
  {
   "cell_type": "code",
   "execution_count": 363,
   "id": "450c9b51",
   "metadata": {},
   "outputs": [
    {
     "name": "stdout",
     "output_type": "stream",
     "text": [
      "BaseException\n",
      "    BaseExceptionGroup\n",
      "        ExceptionGroup\n",
      "    Exception\n",
      "        ArithmeticError\n",
      "            FloatingPointError\n",
      "            OverflowError\n",
      "            ZeroDivisionError\n",
      "                DivisionByZero\n",
      "                DivisionUndefined\n",
      "            DecimalException\n",
      "                Clamped\n",
      "                Rounded\n",
      "                    Underflow\n",
      "                    Overflow\n",
      "                Inexact\n",
      "                    Underflow\n",
      "                    Overflow\n",
      "                Subnormal\n",
      "                    Underflow\n",
      "                DivisionByZero\n",
      "                FloatOperation\n",
      "                InvalidOperation\n",
      "                    ConversionSyntax\n",
      "                    DivisionImpossible\n",
      "                    DivisionUndefined\n",
      "                    InvalidContext\n",
      "        AssertionError\n",
      "        AttributeError\n",
      "            FrozenInstanceError\n",
      "            OptionError\n",
      "        BufferError\n",
      "        EOFError\n",
      "            IncompleteReadError\n",
      "        ImportError\n",
      "            ModuleNotFoundError\n",
      "            ZipImportError\n",
      "        LookupError\n",
      "            IndexError\n",
      "                AxisError\n",
      "                ArrowIndexError\n",
      "            KeyError\n",
      "                NoSuchKernel\n",
      "                UnknownBackend\n",
      "                UnknownTimeZoneError\n",
      "                ZoneInfoNotFoundError\n",
      "                OptionError\n",
      "                UnsortedIndexError\n",
      "                ArrowKeyError\n",
      "            CodecRegistryError\n",
      "        MemoryError\n",
      "            MemoryError\n",
      "            ArrowMemoryError\n",
      "        NameError\n",
      "            UnboundLocalError\n",
      "            NumExprClobberingError\n",
      "            UndefinedVariableError\n",
      "        OSError\n",
      "            BlockingIOError\n",
      "            ChildProcessError\n",
      "            ConnectionError\n",
      "                BrokenPipeError\n",
      "                ConnectionAbortedError\n",
      "                ConnectionRefusedError\n",
      "                ConnectionResetError\n",
      "                    RemoteDisconnected\n",
      "            FileExistsError\n",
      "            FileNotFoundError\n",
      "            InterruptedError\n",
      "                InterruptedSystemCall\n",
      "            IsADirectoryError\n",
      "            NotADirectoryError\n",
      "            PermissionError\n",
      "            ProcessLookupError\n",
      "            TimeoutError\n",
      "            UnsupportedOperation\n",
      "            herror\n",
      "            gaierror\n",
      "            SSLError\n",
      "                SSLCertVerificationError\n",
      "                SSLZeroReturnError\n",
      "                SSLWantWriteError\n",
      "                SSLWantReadError\n",
      "                SSLSyscallError\n",
      "                SSLEOFError\n",
      "            Error\n",
      "                SameFileError\n",
      "            SpecialFileError\n",
      "            ExecError\n",
      "            ReadError\n",
      "            URLError\n",
      "                HTTPError\n",
      "                ContentTooShortError\n",
      "            BadGzipFile\n",
      "            DatabaseError\n",
      "        ReferenceError\n",
      "        RuntimeError\n",
      "            NotImplementedError\n",
      "                ZMQVersionError\n",
      "                StdinNotImplementedError\n",
      "                AbstractMethodError\n",
      "                ArrowNotImplementedError\n",
      "            RecursionError\n",
      "            _DeadlockError\n",
      "            BrokenBarrierError\n",
      "            BrokenExecutor\n",
      "                BrokenThreadPool\n",
      "            SendfileNotAvailableError\n",
      "            BrokenBarrierError\n",
      "            ExtractionError\n",
      "            VariableError\n",
      "            TooHardError\n",
      "            PyperclipException\n",
      "                PyperclipWindowsException\n",
      "        StopAsyncIteration\n",
      "        StopIteration\n",
      "        SyntaxError\n",
      "            IndentationError\n",
      "                TabError\n",
      "        SystemError\n",
      "            CodecRegistryError\n",
      "        TypeError\n",
      "            FloatOperation\n",
      "            MultipartConversionError\n",
      "            DTypePromotionError\n",
      "            UFuncTypeError\n",
      "                UFuncTypeError\n",
      "                    UFuncTypeError\n",
      "                UFuncTypeError\n",
      "                    UFuncTypeError\n",
      "                    UFuncTypeError\n",
      "            ApplyTypeError\n",
      "            ArrowTypeError\n",
      "        ValueError\n",
      "            UnicodeError\n",
      "                UnicodeDecodeError\n",
      "                UnicodeEncodeError\n",
      "                UnicodeTranslateError\n",
      "            UnsupportedOperation\n",
      "            JSONDecodeError\n",
      "            SSLCertVerificationError\n",
      "            Error\n",
      "            UnsupportedDigestmodError\n",
      "            AddressValueError\n",
      "            NetmaskValueError\n",
      "            IllegalMonthError\n",
      "            IllegalWeekdayError\n",
      "            ParserError\n",
      "            ClassNotFound\n",
      "            ClipboardEmpty\n",
      "            MessageDefect\n",
      "                NoBoundaryInMultipartDefect\n",
      "                StartBoundaryNotFoundDefect\n",
      "                CloseBoundaryNotFoundDefect\n",
      "                FirstHeaderLineIsContinuationDefect\n",
      "                MisplacedEnvelopeHeaderDefect\n",
      "                MissingHeaderBodySeparatorDefect\n",
      "                MultipartInvariantViolationDefect\n",
      "                InvalidMultipartContentTransferEncodingDefect\n",
      "                UndecodableBytesDefect\n",
      "                InvalidBase64PaddingDefect\n",
      "                InvalidBase64CharactersDefect\n",
      "                InvalidBase64LengthDefect\n",
      "                HeaderDefect\n",
      "                    InvalidHeaderDefect\n",
      "                    HeaderMissingRequiredValue\n",
      "                    NonPrintableDefect\n",
      "                    ObsoleteHeaderDefect\n",
      "                    NonASCIILocalPartDefect\n",
      "                    InvalidDateDefect\n",
      "            MacroToEdit\n",
      "            InvalidFileException\n",
      "            UnequalIterablesError\n",
      "            InvalidVersion\n",
      "            ELFInvalid\n",
      "            InvalidWheelFilename\n",
      "            InvalidSdistFilename\n",
      "            InvalidSpecifier\n",
      "            InvalidMarker\n",
      "            UndefinedComparison\n",
      "            UndefinedEnvironmentName\n",
      "            InvalidRequirement\n",
      "                RequirementParseError\n",
      "            InvalidVersion\n",
      "            AxisError\n",
      "            LinAlgError\n",
      "            OutOfBoundsDatetime\n",
      "            OutOfBoundsTimedelta\n",
      "            InvalidVersion\n",
      "            DateParseError\n",
      "            IncompatibleFrequency\n",
      "            IntCastingNaNError\n",
      "            NullFrequencyError\n",
      "            UnsupportedFunctionCall\n",
      "            ParserError\n",
      "            EmptyDataError\n",
      "            MergeError\n",
      "            DuplicateLabelError\n",
      "            SettingWithCopyError\n",
      "            ArrowInvalid\n",
      "        Warning\n",
      "            BytesWarning\n",
      "            DeprecationWarning\n",
      "                ProvisionalWarning\n",
      "                ModuleDeprecationWarning\n",
      "            EncodingWarning\n",
      "            FutureWarning\n",
      "                ProvisionalCompleterWarning\n",
      "                MaskedArrayFutureWarning\n",
      "            ImportWarning\n",
      "            PendingDeprecationWarning\n",
      "            ResourceWarning\n",
      "            RuntimeWarning\n",
      "                ProactorSelectorThreadWarning\n",
      "                UnknownTimezoneWarning\n",
      "                PEP440Warning\n",
      "                ComplexWarning\n",
      "                InvalidTZPathWarning\n",
      "            SyntaxWarning\n",
      "            UnicodeWarning\n",
      "            UserWarning\n",
      "                GetPassWarning\n",
      "                FormatterWarning\n",
      "                VisibleDeprecationWarning\n",
      "                RankWarning\n",
      "                ConversionWarning\n",
      "                RankWarning\n",
      "                CSSWarning\n",
      "            DeprecatedTzFormatWarning\n",
      "            PkgResourcesDeprecationWarning\n",
      "            PerformanceWarning\n",
      "            DtypeWarning\n",
      "            ParserWarning\n",
      "            AccessorRegistrationWarning\n",
      "            SettingWithCopyWarning\n",
      "            ChainedAssignmentError\n",
      "            IncompatibilityWarning\n",
      "            AttributeConflictWarning\n",
      "            PossiblePrecisionLoss\n",
      "            ValueLabelTypeMismatch\n",
      "            InvalidColumnName\n",
      "            CategoricalConversionWarning\n",
      "        ExceptionGroup\n",
      "        _OptionError\n",
      "        _Error\n",
      "        error\n",
      "        Error\n",
      "        SubprocessError\n",
      "            CalledProcessError\n",
      "            TimeoutExpired\n",
      "        TokenError\n",
      "        StopTokenizing\n",
      "        ClassFoundException\n",
      "        EndOfBlock\n",
      "        TraitError\n",
      "        Error\n",
      "        Error\n",
      "            CancelledError\n",
      "            InvalidStateError\n",
      "        _GiveupOnSendfile\n",
      "        error\n",
      "        Incomplete\n",
      "        InvalidStateError\n",
      "        LimitOverrunError\n",
      "        QueueEmpty\n",
      "        QueueFull\n",
      "        error\n",
      "        LZMAError\n",
      "        RegistryError\n",
      "        _GiveupOnFastCopy\n",
      "        Empty\n",
      "        Full\n",
      "        ZMQBaseError\n",
      "            ZMQError\n",
      "                ContextTerminated\n",
      "                Again\n",
      "                InterruptedSystemCall\n",
      "            ZMQBindError\n",
      "            NotDone\n",
      "        PickleError\n",
      "            PicklingError\n",
      "            UnpicklingError\n",
      "        _Stop\n",
      "        ArgumentError\n",
      "        COMError\n",
      "        ReturnValueIgnoredError\n",
      "        ArgumentError\n",
      "        ArgumentTypeError\n",
      "        ConfigError\n",
      "            ConfigLoaderError\n",
      "                ArgumentError\n",
      "            ConfigFileNotFound\n",
      "        ConfigurableError\n",
      "            MultipleInstanceError\n",
      "        ApplicationError\n",
      "        KeyReuseError\n",
      "        UnknownKeyError\n",
      "        LeakedCallbackError\n",
      "        BadYieldError\n",
      "        ReturnValueIgnoredError\n",
      "        Return\n",
      "        InvalidPortNumber\n",
      "        NoIPAddresses\n",
      "        BadZipFile\n",
      "        LargeZipFile\n",
      "        Error\n",
      "            NoSectionError\n",
      "            DuplicateSectionError\n",
      "            DuplicateOptionError\n",
      "            NoOptionError\n",
      "            InterpolationError\n",
      "                InterpolationMissingOptionError\n",
      "                InterpolationSyntaxError\n",
      "                InterpolationDepthError\n",
      "            ParsingError\n",
      "                MissingSectionHeaderError\n",
      "        BadEntryPoint\n",
      "        NoSuchEntryPoint\n",
      "        DuplicateKernelError\n",
      "        ErrorDuringImport\n",
      "        NotOneValueFound\n",
      "        CannotEval\n",
      "        OptionError\n",
      "        BdbQuit\n",
      "        Restart\n",
      "        FindCmdError\n",
      "        HomeDirError\n",
      "        ProfileDirError\n",
      "        IPythonCoreError\n",
      "            TryNext\n",
      "            UsageError\n",
      "            StdinNotImplementedError\n",
      "        InputRejected\n",
      "        GetoptError\n",
      "        ErrorToken\n",
      "        PrefilterError\n",
      "        AliasError\n",
      "            InvalidAliasError\n",
      "        Error\n",
      "            InterfaceError\n",
      "            DatabaseError\n",
      "                InternalError\n",
      "                OperationalError\n",
      "                ProgrammingError\n",
      "                IntegrityError\n",
      "                DataError\n",
      "                NotSupportedError\n",
      "        Warning\n",
      "        SpaceInInput\n",
      "        DOMException\n",
      "            IndexSizeErr\n",
      "            DomstringSizeErr\n",
      "            HierarchyRequestErr\n",
      "            WrongDocumentErr\n",
      "            InvalidCharacterErr\n",
      "            NoDataAllowedErr\n",
      "            NoModificationAllowedErr\n",
      "            NotFoundErr\n",
      "            NotSupportedErr\n",
      "            InuseAttributeErr\n",
      "            InvalidStateErr\n",
      "            SyntaxErr\n",
      "            InvalidModificationErr\n",
      "            NamespaceErr\n",
      "            InvalidAccessErr\n",
      "            ValidationErr\n",
      "        ValidationError\n",
      "        EditReadOnlyBuffer\n",
      "        _Retry\n",
      "        InvalidLayoutError\n",
      "        HeightIsUnknownError\n",
      "        GuardRejection\n",
      "        ParserSyntaxError\n",
      "        InternalParseError\n",
      "        _PositionUpdatingFinished\n",
      "        SimpleGetItemNotFound\n",
      "        UncaughtAttributeError\n",
      "        HasNoContext\n",
      "        ParamIssue\n",
      "        _JediError\n",
      "            InternalError\n",
      "            WrongVersion\n",
      "            RefactoringError\n",
      "        OnErrorLeaf\n",
      "        InvalidPythonEnvironment\n",
      "        MessageError\n",
      "            MessageParseError\n",
      "                HeaderParseError\n",
      "                BoundaryError\n",
      "            MultipartConversionError\n",
      "            CharsetError\n",
      "        HTTPException\n",
      "            NotConnected\n",
      "            InvalidURL\n",
      "            UnknownProtocol\n",
      "            UnknownTransferEncoding\n",
      "            UnimplementedFileMode\n",
      "            IncompleteRead\n",
      "            ImproperConnectionState\n",
      "                CannotSendRequest\n",
      "                CannotSendHeader\n",
      "                ResponseNotReady\n",
      "            BadStatusLine\n",
      "                RemoteDisconnected\n",
      "            LineTooLong\n",
      "        InteractivelyDefined\n",
      "        KillEmbedded\n",
      "        Error\n",
      "            NoSuchProcess\n",
      "                ZombieProcess\n",
      "            AccessDenied\n",
      "            TimeoutExpired\n",
      "        Error\n",
      "        TimeoutExpired\n",
      "        TimeoutAbandoned\n",
      "        QueueEmpty\n",
      "        QueueFull\n",
      "        DebuggerInitializationError\n",
      "        ExpatError\n",
      "        Error\n",
      "            ProtocolError\n",
      "            ResponseError\n",
      "            Fault\n",
      "        ParserSyntaxError\n",
      "        ResolutionError\n",
      "            VersionConflict\n",
      "                ContextualVersionConflict\n",
      "            DistributionNotFound\n",
      "            UnknownExtra\n",
      "        _Error\n",
      "        UnableToResolveVariableException\n",
      "        InvalidTypeInArgsException\n",
      "        ConverterError\n",
      "            ConverterLockError\n",
      "        MAError\n",
      "            MaskError\n",
      "        Error\n",
      "            UnknownTimeZoneError\n",
      "            InvalidTimeError\n",
      "                AmbiguousTimeError\n",
      "                NonExistentTimeError\n",
      "        NumbaUtilError\n",
      "        InvalidIndexError\n",
      "        DataError\n",
      "        SpecificationError\n",
      "        IndexingError\n",
      "        PossibleDataLossError\n",
      "        ClosedFileError\n",
      "        LossySetitemError\n",
      "        NoBufferPresent\n",
      "        InvalidComparison\n",
      "        ArrowException\n",
      "            ArrowInvalid\n",
      "            ArrowMemoryError\n",
      "            ArrowKeyError\n",
      "            ArrowTypeError\n",
      "            ArrowNotImplementedError\n",
      "            ArrowCapacityError\n",
      "            ArrowIndexError\n",
      "            ArrowSerializationError\n",
      "                SerializationCallbackError\n",
      "                DeserializationCallbackError\n",
      "            ArrowCancelled\n",
      "        ParseError\n",
      "        Error\n",
      "        TarError\n",
      "            ExtractError\n",
      "            ReadError\n",
      "            CompressionError\n",
      "            StreamError\n",
      "            HeaderError\n",
      "                EmptyHeaderError\n",
      "                TruncatedHeaderError\n",
      "                EOFHeaderError\n",
      "                InvalidHeaderError\n",
      "                SubsequentHeaderError\n",
      "            FilterError\n",
      "                AbsolutePathError\n",
      "                OutsideDestinationError\n",
      "                SpecialFileError\n",
      "                AbsoluteLinkError\n",
      "                LinkOutsideDestinationError\n",
      "    GeneratorExit\n",
      "    KeyboardInterrupt\n",
      "    SystemExit\n",
      "    CancelledError\n",
      "    AbortThread\n"
     ]
    }
   ],
   "source": [
    "def tree(cls, level=0):\n",
    "    yield cls.__name__, level\n",
    "    for sub_cls in cls.__subclasses__():\n",
    "        yield from tree(sub_cls, level + 1)\n",
    "\n",
    "def display(directory):\n",
    "    for item_name, level in tree(directory):\n",
    "        indent = ' ' * 4 * level\n",
    "        print('{}{}'.format(indent, item_name))\n",
    "        \n",
    "display(BaseException)"
   ]
  },
  {
   "cell_type": "code",
   "execution_count": 364,
   "id": "06b571b4",
   "metadata": {},
   "outputs": [
    {
     "name": "stdout",
     "output_type": "stream",
     "text": [
      "BaseException\n",
      "BaseExceptionGroup\n",
      "ExceptionGroup\n",
      "Exception\n",
      "ArithmeticError\n",
      "FloatingPointError\n",
      "OverflowError\n",
      "ZeroDivisionError\n",
      "DivisionByZero\n",
      "DivisionUndefined\n",
      "DecimalException\n",
      "Clamped\n",
      "Rounded\n",
      "Underflow\n",
      "Overflow\n",
      "Inexact\n",
      "Underflow\n",
      "Overflow\n",
      "Subnormal\n",
      "Underflow\n",
      "DivisionByZero\n",
      "FloatOperation\n",
      "InvalidOperation\n",
      "ConversionSyntax\n",
      "DivisionImpossible\n",
      "DivisionUndefined\n",
      "InvalidContext\n",
      "AssertionError\n",
      "AttributeError\n",
      "FrozenInstanceError\n",
      "OptionError\n",
      "BufferError\n",
      "EOFError\n",
      "IncompleteReadError\n",
      "ImportError\n",
      "ModuleNotFoundError\n",
      "ZipImportError\n",
      "LookupError\n",
      "IndexError\n",
      "AxisError\n",
      "ArrowIndexError\n",
      "KeyError\n",
      "NoSuchKernel\n",
      "UnknownBackend\n",
      "UnknownTimeZoneError\n",
      "ZoneInfoNotFoundError\n",
      "OptionError\n",
      "UnsortedIndexError\n",
      "ArrowKeyError\n",
      "CodecRegistryError\n",
      "MemoryError\n",
      "MemoryError\n",
      "ArrowMemoryError\n",
      "NameError\n",
      "UnboundLocalError\n",
      "NumExprClobberingError\n",
      "UndefinedVariableError\n",
      "OSError\n",
      "BlockingIOError\n",
      "ChildProcessError\n",
      "ConnectionError\n",
      "BrokenPipeError\n",
      "ConnectionAbortedError\n",
      "ConnectionRefusedError\n",
      "ConnectionResetError\n",
      "RemoteDisconnected\n",
      "FileExistsError\n",
      "FileNotFoundError\n",
      "InterruptedError\n",
      "InterruptedSystemCall\n",
      "IsADirectoryError\n",
      "NotADirectoryError\n",
      "PermissionError\n",
      "ProcessLookupError\n",
      "TimeoutError\n",
      "UnsupportedOperation\n",
      "herror\n",
      "gaierror\n",
      "SSLError\n",
      "SSLCertVerificationError\n",
      "SSLZeroReturnError\n",
      "SSLWantWriteError\n",
      "SSLWantReadError\n",
      "SSLSyscallError\n",
      "SSLEOFError\n",
      "Error\n",
      "SameFileError\n",
      "SpecialFileError\n",
      "ExecError\n",
      "ReadError\n",
      "URLError\n",
      "HTTPError\n",
      "ContentTooShortError\n",
      "BadGzipFile\n",
      "DatabaseError\n",
      "ReferenceError\n",
      "RuntimeError\n",
      "NotImplementedError\n",
      "ZMQVersionError\n",
      "StdinNotImplementedError\n",
      "AbstractMethodError\n",
      "ArrowNotImplementedError\n",
      "RecursionError\n",
      "_DeadlockError\n",
      "BrokenBarrierError\n",
      "BrokenExecutor\n",
      "BrokenThreadPool\n",
      "SendfileNotAvailableError\n",
      "BrokenBarrierError\n",
      "ExtractionError\n",
      "VariableError\n",
      "TooHardError\n",
      "PyperclipException\n",
      "PyperclipWindowsException\n",
      "StopAsyncIteration\n",
      "StopIteration\n",
      "SyntaxError\n",
      "IndentationError\n",
      "TabError\n",
      "SystemError\n",
      "CodecRegistryError\n",
      "TypeError\n",
      "FloatOperation\n",
      "MultipartConversionError\n",
      "DTypePromotionError\n",
      "UFuncTypeError\n",
      "UFuncTypeError\n",
      "UFuncTypeError\n",
      "UFuncTypeError\n",
      "UFuncTypeError\n",
      "UFuncTypeError\n",
      "ApplyTypeError\n",
      "ArrowTypeError\n",
      "ValueError\n",
      "UnicodeError\n",
      "UnicodeDecodeError\n",
      "UnicodeEncodeError\n",
      "UnicodeTranslateError\n",
      "UnsupportedOperation\n",
      "JSONDecodeError\n",
      "SSLCertVerificationError\n",
      "Error\n",
      "UnsupportedDigestmodError\n",
      "AddressValueError\n",
      "NetmaskValueError\n",
      "IllegalMonthError\n",
      "IllegalWeekdayError\n",
      "ParserError\n",
      "ClassNotFound\n",
      "ClipboardEmpty\n",
      "MessageDefect\n",
      "NoBoundaryInMultipartDefect\n",
      "StartBoundaryNotFoundDefect\n",
      "CloseBoundaryNotFoundDefect\n",
      "FirstHeaderLineIsContinuationDefect\n",
      "MisplacedEnvelopeHeaderDefect\n",
      "MissingHeaderBodySeparatorDefect\n",
      "MultipartInvariantViolationDefect\n",
      "InvalidMultipartContentTransferEncodingDefect\n",
      "UndecodableBytesDefect\n",
      "InvalidBase64PaddingDefect\n",
      "InvalidBase64CharactersDefect\n",
      "InvalidBase64LengthDefect\n",
      "HeaderDefect\n",
      "InvalidHeaderDefect\n",
      "HeaderMissingRequiredValue\n",
      "NonPrintableDefect\n",
      "ObsoleteHeaderDefect\n",
      "NonASCIILocalPartDefect\n",
      "InvalidDateDefect\n",
      "MacroToEdit\n",
      "InvalidFileException\n",
      "UnequalIterablesError\n",
      "InvalidVersion\n",
      "ELFInvalid\n",
      "InvalidWheelFilename\n",
      "InvalidSdistFilename\n",
      "InvalidSpecifier\n",
      "InvalidMarker\n",
      "UndefinedComparison\n",
      "UndefinedEnvironmentName\n",
      "InvalidRequirement\n",
      "RequirementParseError\n",
      "InvalidVersion\n",
      "AxisError\n",
      "LinAlgError\n",
      "OutOfBoundsDatetime\n",
      "OutOfBoundsTimedelta\n",
      "InvalidVersion\n",
      "DateParseError\n",
      "IncompatibleFrequency\n",
      "IntCastingNaNError\n",
      "NullFrequencyError\n",
      "UnsupportedFunctionCall\n",
      "ParserError\n",
      "EmptyDataError\n",
      "MergeError\n",
      "DuplicateLabelError\n",
      "SettingWithCopyError\n",
      "ArrowInvalid\n",
      "Warning\n",
      "BytesWarning\n",
      "DeprecationWarning\n",
      "ProvisionalWarning\n",
      "ModuleDeprecationWarning\n",
      "EncodingWarning\n",
      "FutureWarning\n",
      "ProvisionalCompleterWarning\n",
      "MaskedArrayFutureWarning\n",
      "ImportWarning\n",
      "PendingDeprecationWarning\n",
      "ResourceWarning\n",
      "RuntimeWarning\n",
      "ProactorSelectorThreadWarning\n",
      "UnknownTimezoneWarning\n",
      "PEP440Warning\n",
      "ComplexWarning\n",
      "InvalidTZPathWarning\n",
      "SyntaxWarning\n",
      "UnicodeWarning\n",
      "UserWarning\n",
      "GetPassWarning\n",
      "FormatterWarning\n",
      "VisibleDeprecationWarning\n",
      "RankWarning\n",
      "ConversionWarning\n",
      "RankWarning\n",
      "CSSWarning\n",
      "DeprecatedTzFormatWarning\n",
      "PkgResourcesDeprecationWarning\n",
      "PerformanceWarning\n",
      "DtypeWarning\n",
      "ParserWarning\n",
      "AccessorRegistrationWarning\n",
      "SettingWithCopyWarning\n",
      "ChainedAssignmentError\n",
      "IncompatibilityWarning\n",
      "AttributeConflictWarning\n",
      "PossiblePrecisionLoss\n",
      "ValueLabelTypeMismatch\n",
      "InvalidColumnName\n",
      "CategoricalConversionWarning\n",
      "ExceptionGroup\n",
      "_OptionError\n",
      "_Error\n",
      "error\n",
      "Error\n",
      "SubprocessError\n",
      "CalledProcessError\n",
      "TimeoutExpired\n",
      "TokenError\n",
      "StopTokenizing\n",
      "ClassFoundException\n",
      "EndOfBlock\n",
      "TraitError\n",
      "Error\n",
      "Error\n",
      "CancelledError\n",
      "InvalidStateError\n",
      "_GiveupOnSendfile\n",
      "error\n",
      "Incomplete\n",
      "InvalidStateError\n",
      "LimitOverrunError\n",
      "QueueEmpty\n",
      "QueueFull\n",
      "error\n",
      "LZMAError\n",
      "RegistryError\n",
      "_GiveupOnFastCopy\n",
      "Empty\n",
      "Full\n",
      "ZMQBaseError\n",
      "ZMQError\n",
      "ContextTerminated\n",
      "Again\n",
      "InterruptedSystemCall\n",
      "ZMQBindError\n",
      "NotDone\n",
      "PickleError\n",
      "PicklingError\n",
      "UnpicklingError\n",
      "_Stop\n",
      "ArgumentError\n",
      "COMError\n",
      "ReturnValueIgnoredError\n",
      "ArgumentError\n",
      "ArgumentTypeError\n",
      "ConfigError\n",
      "ConfigLoaderError\n",
      "ArgumentError\n",
      "ConfigFileNotFound\n",
      "ConfigurableError\n",
      "MultipleInstanceError\n",
      "ApplicationError\n",
      "KeyReuseError\n",
      "UnknownKeyError\n",
      "LeakedCallbackError\n",
      "BadYieldError\n",
      "ReturnValueIgnoredError\n",
      "Return\n",
      "InvalidPortNumber\n",
      "NoIPAddresses\n",
      "BadZipFile\n",
      "LargeZipFile\n",
      "Error\n",
      "NoSectionError\n",
      "DuplicateSectionError\n",
      "DuplicateOptionError\n",
      "NoOptionError\n",
      "InterpolationError\n",
      "InterpolationMissingOptionError\n",
      "InterpolationSyntaxError\n",
      "InterpolationDepthError\n",
      "ParsingError\n",
      "MissingSectionHeaderError\n",
      "BadEntryPoint\n",
      "NoSuchEntryPoint\n",
      "DuplicateKernelError\n",
      "ErrorDuringImport\n",
      "NotOneValueFound\n",
      "CannotEval\n",
      "OptionError\n",
      "BdbQuit\n",
      "Restart\n",
      "FindCmdError\n",
      "HomeDirError\n",
      "ProfileDirError\n",
      "IPythonCoreError\n",
      "TryNext\n",
      "UsageError\n",
      "StdinNotImplementedError\n",
      "InputRejected\n",
      "GetoptError\n",
      "ErrorToken\n",
      "PrefilterError\n",
      "AliasError\n",
      "InvalidAliasError\n",
      "Error\n",
      "InterfaceError\n",
      "DatabaseError\n",
      "InternalError\n",
      "OperationalError\n",
      "ProgrammingError\n",
      "IntegrityError\n",
      "DataError\n",
      "NotSupportedError\n",
      "Warning\n",
      "SpaceInInput\n",
      "DOMException\n",
      "IndexSizeErr\n",
      "DomstringSizeErr\n",
      "HierarchyRequestErr\n",
      "WrongDocumentErr\n",
      "InvalidCharacterErr\n",
      "NoDataAllowedErr\n",
      "NoModificationAllowedErr\n",
      "NotFoundErr\n",
      "NotSupportedErr\n",
      "InuseAttributeErr\n",
      "InvalidStateErr\n",
      "SyntaxErr\n",
      "InvalidModificationErr\n",
      "NamespaceErr\n",
      "InvalidAccessErr\n",
      "ValidationErr\n",
      "ValidationError\n",
      "EditReadOnlyBuffer\n",
      "_Retry\n",
      "InvalidLayoutError\n",
      "HeightIsUnknownError\n",
      "GuardRejection\n",
      "ParserSyntaxError\n",
      "InternalParseError\n",
      "_PositionUpdatingFinished\n",
      "SimpleGetItemNotFound\n",
      "UncaughtAttributeError\n",
      "HasNoContext\n",
      "ParamIssue\n",
      "_JediError\n",
      "InternalError\n",
      "WrongVersion\n",
      "RefactoringError\n",
      "OnErrorLeaf\n",
      "InvalidPythonEnvironment\n",
      "MessageError\n",
      "MessageParseError\n",
      "HeaderParseError\n",
      "BoundaryError\n",
      "MultipartConversionError\n",
      "CharsetError\n",
      "HTTPException\n",
      "NotConnected\n",
      "InvalidURL\n",
      "UnknownProtocol\n",
      "UnknownTransferEncoding\n",
      "UnimplementedFileMode\n",
      "IncompleteRead\n",
      "ImproperConnectionState\n",
      "CannotSendRequest\n",
      "CannotSendHeader\n",
      "ResponseNotReady\n",
      "BadStatusLine\n",
      "RemoteDisconnected\n",
      "LineTooLong\n",
      "InteractivelyDefined\n",
      "KillEmbedded\n",
      "Error\n",
      "NoSuchProcess\n",
      "ZombieProcess\n",
      "AccessDenied\n",
      "TimeoutExpired\n",
      "Error\n",
      "TimeoutExpired\n",
      "TimeoutAbandoned\n",
      "QueueEmpty\n",
      "QueueFull\n",
      "DebuggerInitializationError\n",
      "ExpatError\n",
      "Error\n",
      "ProtocolError\n",
      "ResponseError\n",
      "Fault\n",
      "ParserSyntaxError\n",
      "ResolutionError\n",
      "VersionConflict\n",
      "ContextualVersionConflict\n",
      "DistributionNotFound\n",
      "UnknownExtra\n",
      "_Error\n",
      "UnableToResolveVariableException\n",
      "InvalidTypeInArgsException\n",
      "ConverterError\n",
      "ConverterLockError\n",
      "MAError\n",
      "MaskError\n",
      "Error\n",
      "UnknownTimeZoneError\n",
      "InvalidTimeError\n",
      "AmbiguousTimeError\n",
      "NonExistentTimeError\n",
      "NumbaUtilError\n",
      "InvalidIndexError\n",
      "DataError\n",
      "SpecificationError\n",
      "IndexingError\n",
      "PossibleDataLossError\n",
      "ClosedFileError\n",
      "LossySetitemError\n",
      "NoBufferPresent\n",
      "InvalidComparison\n",
      "ArrowException\n",
      "ArrowInvalid\n",
      "ArrowMemoryError\n",
      "ArrowKeyError\n",
      "ArrowTypeError\n",
      "ArrowNotImplementedError\n",
      "ArrowCapacityError\n",
      "ArrowIndexError\n",
      "ArrowSerializationError\n",
      "SerializationCallbackError\n",
      "DeserializationCallbackError\n",
      "ArrowCancelled\n",
      "ParseError\n",
      "Error\n",
      "TarError\n",
      "ExtractError\n",
      "ReadError\n",
      "CompressionError\n",
      "StreamError\n",
      "HeaderError\n",
      "EmptyHeaderError\n",
      "TruncatedHeaderError\n",
      "EOFHeaderError\n",
      "InvalidHeaderError\n",
      "SubsequentHeaderError\n",
      "FilterError\n",
      "AbsolutePathError\n",
      "OutsideDestinationError\n",
      "SpecialFileError\n",
      "AbsoluteLinkError\n",
      "LinkOutsideDestinationError\n",
      "GeneratorExit\n",
      "KeyboardInterrupt\n",
      "SystemExit\n",
      "CancelledError\n",
      "AbortThread\n"
     ]
    }
   ],
   "source": [
    "def tree(cls):\n",
    "    yield cls.__name__\n",
    "    for sub_cls in cls.__subclasses__():\n",
    "        yield from tree(sub_cls)\n",
    "\n",
    "def display(directory):\n",
    "    for item_name in tree(directory):\n",
    "        print('{}'.format(item_name))\n",
    "        \n",
    "display(BaseException)"
   ]
  },
  {
   "cell_type": "code",
   "execution_count": 379,
   "id": "30bec37f",
   "metadata": {},
   "outputs": [
    {
     "data": {
      "text/plain": [
       "{'DivisionByZero': None, 'DivisionUndefined': None}"
      ]
     },
     "execution_count": 379,
     "metadata": {},
     "output_type": "execute_result"
    }
   ],
   "source": [
    "def tree_to_dict(cls):\n",
    "    subclasses = cls.__subclasses__()\n",
    "    if not subclasses:\n",
    "        return {cls.__name__: None}\n",
    "    else:\n",
    "        tree_dict = {cls.__name__: {}}\n",
    "        for sub_cls in subclasses:\n",
    "            tree_dict[cls.__name__].update(tree_to_dict(sub_cls))\n",
    "        return tree_dict\n",
    "\n",
    "\n",
    "dict1 = tree_to_dict(BaseException)\n",
    "dict1['BaseException']['Exception']['ArithmeticError']['ZeroDivisionError']"
   ]
  },
  {
   "cell_type": "code",
   "execution_count": 366,
   "id": "89fe17f8",
   "metadata": {},
   "outputs": [
    {
     "data": {
      "text/plain": [
       "{'Set': {'MutableSet': None,\n",
       "  'KeysView': {'_OrderedDictKeysView': None},\n",
       "  'ItemsView': {'_OrderedDictItemsView': None}},\n",
       " 'Mapping': {'MutableMapping': {'_Environ': None,\n",
       "   'ChainMap': {'DeepChainMap': None},\n",
       "   'UserDict': None,\n",
       "   'WeakValueDictionary': None,\n",
       "   'WeakKeyDictionary': None,\n",
       "   'SignalDict': None,\n",
       "   'RawConfigParser': {'ConfigParser': {'SafeConfigParser': None,\n",
       "     'CaseSensitiveConfigParser': None}},\n",
       "   'SectionProxy': None,\n",
       "   'ConverterMapping': None,\n",
       "   'PickleShareDB': None},\n",
       "  '_SelectorMapping': None,\n",
       "  'UsedNamesMapping': None,\n",
       "  'NpzFile': None,\n",
       "  'LazyDict': {'_CountryTimezoneDict': None, '_CountryNameDict': None},\n",
       "  'KeyValueMetadata': None,\n",
       "  'StructScalar': None,\n",
       "  'NumpyDocString': {'FunctionDoc': None, 'ObjDoc': None, 'ClassDoc': None}},\n",
       " 'ValuesView': {'_OrderedDictValuesView': None},\n",
       " 'Sequence': {'ByteString': None,\n",
       "  'MutableSequence': {'UserList': None},\n",
       "  'UserString': None,\n",
       "  '_PathParents': None,\n",
       "  'numeric_range': None,\n",
       "  'SequenceView': None}}"
      ]
     },
     "execution_count": 366,
     "metadata": {},
     "output_type": "execute_result"
    }
   ],
   "source": [
    "dict1 = tree_to_dict(abc.Container)\n",
    "dict1['Container']['Collection']"
   ]
  },
  {
   "cell_type": "code",
   "execution_count": 376,
   "id": "bd967762",
   "metadata": {},
   "outputs": [
    {
     "name": "stdout",
     "output_type": "stream",
     "text": [
      "Set\n",
      "Mapping\n",
      "ValuesView\n",
      "Sequence\n"
     ]
    }
   ],
   "source": [
    "for i in abc.Collection.__subclasses__():\n",
    "    print(i.__name__)"
   ]
  },
  {
   "cell_type": "code",
   "execution_count": 11,
   "id": "a739eeba",
   "metadata": {},
   "outputs": [
    {
     "name": "stdout",
     "output_type": "stream",
     "text": [
      "pygame\n",
      "    breakout\n",
      "        main.py\n",
      "        settings.py\n",
      "        sprites.py\n",
      "        src\n",
      "            code\n",
      "                main.py\n",
      "                settings.py\n",
      "                sprites.py\n",
      "                surfacemaker.py\n",
      "            graphics\n",
      "                blocks\n",
      "                    blue\n",
      "                        bottom.png\n",
      "                        bottomleft.png\n",
      "                        bottomright.png\n",
      "                        center.png\n",
      "                        left.png\n",
      "                        right.png\n",
      "                        top.png\n",
      "                        topleft.png\n",
      "                        topright.png\n",
      "                    bronce\n",
      "                        bottom.png\n",
      "                        bottomleft.png\n",
      "                        bottomright.png\n",
      "                        center.png\n",
      "                        left.png\n",
      "                        right.png\n",
      "                        top.png\n",
      "                        topleft.png\n",
      "                        topright.png\n",
      "                    green\n",
      "                        bottom.png\n",
      "                        bottomleft.png\n",
      "                        bottomright.png\n",
      "                        center.png\n",
      "                        left.png\n",
      "                        right.png\n",
      "                        top.png\n",
      "                        topleft.png\n",
      "                        topright.png\n",
      "                    grey\n",
      "                        bottom.png\n",
      "                        bottomleft.png\n",
      "                        bottomright.png\n",
      "                        center.png\n",
      "                        left.png\n",
      "                        right.png\n",
      "                        top.png\n",
      "                        topleft.png\n",
      "                        topright.png\n",
      "                    orange\n",
      "                        bottom.png\n",
      "                        bottomleft.png\n",
      "                        bottomright.png\n",
      "                        center.png\n",
      "                        left.png\n",
      "                        right.png\n",
      "                        top.png\n",
      "                        topleft.png\n",
      "                        topright.png\n",
      "                    player\n",
      "                        bottom.png\n",
      "                        bottomleft.png\n",
      "                        bottomright.png\n",
      "                        center.png\n",
      "                        left.png\n",
      "                        right.png\n",
      "                        top.png\n",
      "                        topleft.png\n",
      "                        topright.png\n",
      "                    purple\n",
      "                        bottom.png\n",
      "                        bottomleft.png\n",
      "                        bottomright.png\n",
      "                        center.png\n",
      "                        left.png\n",
      "                        right.png\n",
      "                        top.png\n",
      "                        topleft.png\n",
      "                        topright.png\n",
      "                    red\n",
      "                        bottom.png\n",
      "                        bottomleft.png\n",
      "                        bottomright.png\n",
      "                        center.png\n",
      "                        left.png\n",
      "                        right.png\n",
      "                        top.png\n",
      "                        topleft.png\n",
      "                        topright.png\n",
      "                other\n",
      "                    ball.png\n",
      "                    bg.png\n",
      "                    heart.png\n",
      "                    laser.png\n",
      "                    projectile.png\n",
      "                    tv.png\n",
      "                upgrades\n",
      "                    heart.png\n",
      "                    laser.png\n",
      "                    size.png\n",
      "                    speed.png\n",
      "            sounds\n",
      "                fail.wav\n",
      "                impact.wav\n",
      "                laser.wav\n",
      "                laser_hit.wav\n",
      "                music.wav\n",
      "                powerup.wav\n",
      "        __pycache__\n",
      "            settings.cpython-311.pyc\n",
      "            settings.cpython-312.pyc\n",
      "            sprites.cpython-311.pyc\n",
      "            sprites.cpython-312.pyc\n",
      "    class_template\n",
      "        main.py\n",
      "        settings.py\n",
      "        __pycache__\n",
      "            settings.cpython-311.pyc\n",
      "            settings.cpython-312.pyc\n",
      "    ModernGL\n",
      "        main.py\n",
      "    parametric_equations\n",
      "        main.py\n",
      "    pathfinding\n",
      "        bfs_pygame.py\n",
      "        breadth-first_search.py\n",
      "    pygame_template.py\n",
      "    pymunk\n",
      "        bouncing_balls\n",
      "            bouncing_balls.py\n",
      "            data.json\n",
      "            get_coords.py\n",
      "            read_coords.py\n",
      "            __pycache__\n",
      "                read_coords.cpython-312.pyc\n",
      "        galton_board.py\n",
      "        idontknow.py\n",
      "        room.py\n",
      "    snake\n",
      "        .vscode\n",
      "            launch.json\n",
      "        game_objects.py\n",
      "        main.py\n",
      "        __pycache__\n",
      "            game_objects.cpython-312.pyc\n",
      "    tests_and_examples\n",
      "        circle.py\n",
      "        main.py\n",
      "        module.py\n",
      "        pygame_testing.py\n",
      "        sprite_class.py\n",
      "        src\n",
      "            img1.jpg\n",
      "        __pycache__\n",
      "            module.cpython-312.pyc\n",
      "    tetris\n",
      "        main.py\n",
      "        settings.py\n",
      "        tetris.py\n",
      "        tetromino.py\n",
      "        __pycache__\n",
      "            game_objects.cpython-312.pyc\n",
      "            settings.cpython-312.pyc\n",
      "            tetris.cpython-312.pyc\n",
      "            tetromino.cpython-312.pyc\n",
      "    tictactoe.py\n",
      "    T_drone\n",
      "        ImageCapture.py\n",
      "        keyboard_control.py\n",
      "        module1.py\n",
      "        odometry.py\n",
      "        Resources\n",
      "            Images\n",
      "                1.jpg\n",
      "                12.jpg\n",
      "                13.jpg\n",
      "                14.jpg\n",
      "                15.jpg\n",
      "                2.jpg\n",
      "                3.jpg\n",
      "                4.jpg\n",
      "                5.jpg\n",
      "                6.jpg\n",
      "                7.jpg\n",
      "                8.jpg\n",
      "                9.jpg\n",
      "        script_control.py\n",
      "        Surveilance.py\n",
      "        test.py\n",
      "        __pycache__\n",
      "            module1.cpython-311.pyc\n",
      "            module1.cpython-312.pyc\n",
      "            Surveilance.cpython-311.pyc\n",
      "    Wolfenstein_3D\n",
      "        main.py\n",
      "        map_.py\n",
      "        object_renderer.py\n",
      "        player.py\n",
      "        raycasting.py\n",
      "        settings.py\n",
      "        __pycache__\n",
      "            map_.cpython-311.pyc\n",
      "            map_.cpython-312.pyc\n",
      "            player.cpython-311.pyc\n",
      "            player.cpython-312.pyc\n",
      "            raycasting.cpython-311.pyc\n",
      "            raycasting.cpython-312.pyc\n",
      "            settings.cpython-311.pyc\n",
      "            settings.cpython-312.pyc\n"
     ]
    }
   ],
   "source": [
    "import os\n",
    "\n",
    "def tree(directory, level=0):\n",
    "    yield directory, level\n",
    "    if os.path.isdir(directory):\n",
    "        for item in os.listdir(directory):\n",
    "            item_path = os.path.join(directory, item)\n",
    "            yield from tree(item_path, level + 1)\n",
    "\n",
    "def display(directory):\n",
    "    for item_name, level in tree(directory):\n",
    "        indent = ' ' * 4 * level\n",
    "        print('{}{}'.format(indent, os.path.basename(item_name)))\n",
    "\n",
    "        \n",
    "display(r'C:\\Users\\jensm\\Desktop\\local\\more_python\\pygame')"
   ]
  },
  {
   "cell_type": "code",
   "execution_count": null,
   "id": "981a447a",
   "metadata": {},
   "outputs": [],
   "source": []
  },
  {
   "cell_type": "code",
   "execution_count": null,
   "id": "1398fbac",
   "metadata": {},
   "outputs": [],
   "source": []
  },
  {
   "cell_type": "code",
   "execution_count": null,
   "id": "c6cbdd2e",
   "metadata": {},
   "outputs": [],
   "source": []
  },
  {
   "cell_type": "code",
   "execution_count": null,
   "id": "4e0b5822",
   "metadata": {},
   "outputs": [],
   "source": []
  },
  {
   "cell_type": "code",
   "execution_count": null,
   "id": "68bc8f10",
   "metadata": {},
   "outputs": [],
   "source": []
  },
  {
   "cell_type": "code",
   "execution_count": null,
   "id": "7cc7c9d7",
   "metadata": {},
   "outputs": [],
   "source": []
  },
  {
   "cell_type": "code",
   "execution_count": null,
   "id": "af18895a",
   "metadata": {},
   "outputs": [],
   "source": []
  },
  {
   "cell_type": "code",
   "execution_count": null,
   "id": "14faa8d5",
   "metadata": {},
   "outputs": [],
   "source": []
  },
  {
   "cell_type": "code",
   "execution_count": null,
   "id": "7b99331c",
   "metadata": {},
   "outputs": [],
   "source": []
  },
  {
   "cell_type": "code",
   "execution_count": null,
   "id": "7e2e9168",
   "metadata": {},
   "outputs": [],
   "source": []
  }
 ],
 "metadata": {
  "kernelspec": {
   "display_name": "Python 3 (ipykernel)",
   "language": "python",
   "name": "python3"
  },
  "language_info": {
   "codemirror_mode": {
    "name": "ipython",
    "version": 3
   },
   "file_extension": ".py",
   "mimetype": "text/x-python",
   "name": "python",
   "nbconvert_exporter": "python",
   "pygments_lexer": "ipython3",
   "version": "3.11.7"
  }
 },
 "nbformat": 4,
 "nbformat_minor": 5
}
