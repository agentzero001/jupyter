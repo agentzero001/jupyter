{
 "cells": [
  {
   "cell_type": "markdown",
   "id": "d516c4a9",
   "metadata": {},
   "source": [
    "### iterable\n",
    "Any object from which the iter built-in function can obtain an iterator. Objects\n",
    "implementing an \\__iter__ method returning an iterator are iterable. Sequences\n",
    "are always iterable, as are objects implementing a \\__getitem__ method that\n",
    "accepts 0-based indexes."
   ]
  },
  {
   "cell_type": "code",
   "execution_count": 52,
   "id": "f56cac21",
   "metadata": {},
   "outputs": [
    {
     "data": {
      "text/plain": [
       "['1', '2', '3']"
      ]
     },
     "execution_count": 52,
     "metadata": {},
     "output_type": "execute_result"
    }
   ],
   "source": [
    "#Some people, when confronted with a problem, think \"I know, I'll use regular expressions.\" \n",
    "#Now they have two problems.\n",
    "import re\n",
    "import reprlib\n",
    "\n",
    "RE_WORD = re.compile(r'\\w+')\n",
    "RE_WORD.findall('1 2 3')"
   ]
  },
  {
   "cell_type": "code",
   "execution_count": 53,
   "id": "06f1aa5a",
   "metadata": {},
   "outputs": [],
   "source": [
    "class Sentence:\n",
    "    def __init__(self, text):\n",
    "        self.text = text\n",
    "        self.words = RE_WORD.findall(text)\n",
    "    \n",
    "    def __getitem__(self, index):\n",
    "         return self.words[index]\n",
    "        \n",
    "    def __len__(self):\n",
    "        return len(self.words)\n",
    "    \n",
    "    def __repr__(self):\n",
    "        return 'Sentence(%s)' % reprlib.repr(self.text) #for abbreviation"
   ]
  },
  {
   "cell_type": "code",
   "execution_count": 54,
   "id": "185a43da",
   "metadata": {},
   "outputs": [
    {
     "data": {
      "text/plain": [
       "Sentence('\"the time ha... Walrus said,')"
      ]
     },
     "execution_count": 54,
     "metadata": {},
     "output_type": "execute_result"
    }
   ],
   "source": [
    "s = Sentence('\"the time has come,\" the Walrus said,')\n",
    "s"
   ]
  },
  {
   "cell_type": "code",
   "execution_count": 55,
   "id": "a90402c5",
   "metadata": {},
   "outputs": [
    {
     "name": "stdout",
     "output_type": "stream",
     "text": [
      "the\n",
      "time\n",
      "has\n",
      "come\n",
      "the\n",
      "Walrus\n",
      "said\n"
     ]
    }
   ],
   "source": [
    "#whenever python needs to iterate over an object x, it automatically calls iter(x)\n",
    "#if __iter__ is missing iter() will call __getitem__()\n",
    "for word in s:\n",
    "    print(word)"
   ]
  },
  {
   "cell_type": "code",
   "execution_count": 56,
   "id": "dd33ff78",
   "metadata": {},
   "outputs": [
    {
     "data": {
      "text/plain": [
       "['the', 'time', 'has', 'come', 'the', 'Walrus', 'said']"
      ]
     },
     "execution_count": 56,
     "metadata": {},
     "output_type": "execute_result"
    }
   ],
   "source": [
    "list(s)"
   ]
  },
  {
   "cell_type": "code",
   "execution_count": 57,
   "id": "d76ee70e",
   "metadata": {},
   "outputs": [
    {
     "data": {
      "text/plain": [
       "{'Walrus', 'come', 'has', 'said', 'the', 'time'}"
      ]
     },
     "execution_count": 57,
     "metadata": {},
     "output_type": "execute_result"
    }
   ],
   "source": [
    "set(s)"
   ]
  },
  {
   "cell_type": "code",
   "execution_count": 58,
   "id": "1035b9c2",
   "metadata": {},
   "outputs": [
    {
     "data": {
      "text/plain": [
       "(True, True)"
      ]
     },
     "execution_count": 58,
     "metadata": {},
     "output_type": "execute_result"
    }
   ],
   "source": [
    "from collections import abc\n",
    "\n",
    "class GooseSpam:\n",
    "    def __iter__(self):\n",
    "        pass\n",
    "\n",
    "\n",
    "goose_spam_can = GooseSpam()\n",
    "\n",
    "issubclass(GooseSpam, abc.Iterable), isinstance(goose_spam_can, abc.Iterable)"
   ]
  },
  {
   "cell_type": "code",
   "execution_count": 59,
   "id": "64945a39",
   "metadata": {},
   "outputs": [],
   "source": [
    "import random\n",
    "\n",
    "def d6():\n",
    "    return random.randint(1, 6)"
   ]
  },
  {
   "cell_type": "code",
   "execution_count": 60,
   "id": "0e1c41f6",
   "metadata": {},
   "outputs": [
    {
     "data": {
      "text/plain": [
       "(3, callable_iterator)"
      ]
     },
     "execution_count": 60,
     "metadata": {},
     "output_type": "execute_result"
    }
   ],
   "source": [
    "d6_iter = iter(d6, 1) \n",
    "next(d6_iter), type(d6_iter)"
   ]
  },
  {
   "cell_type": "code",
   "execution_count": 61,
   "id": "3e1cf3c1",
   "metadata": {},
   "outputs": [
    {
     "name": "stdout",
     "output_type": "stream",
     "text": [
      "4\n"
     ]
    }
   ],
   "source": [
    "for roll in d6_iter:\n",
    "    print(roll)"
   ]
  },
  {
   "cell_type": "code",
   "execution_count": 72,
   "id": "f6869c69",
   "metadata": {},
   "outputs": [
    {
     "name": "stdout",
     "output_type": "stream",
     "text": [
      "A\n",
      "B\n",
      "C\n"
     ]
    }
   ],
   "source": [
    "s = 'ABC'\n",
    "it = iter(s) \n",
    "\n",
    "while True:\n",
    "    try:\n",
    "        print(next(it)) \n",
    "    except StopIteration: \n",
    "        del it \n",
    "        break "
   ]
  },
  {
   "cell_type": "markdown",
   "id": "c471323e",
   "metadata": {},
   "source": [
    "### Python’s standard interface for an iterator has two methods:\n",
    "\\__next__:\n",
    "Returns the next item in the series, raising StopIteration if there are no more.\n",
    "\n",
    "\\__iter__:\n",
    "Returns self; this allows iterators to be used where an iterable is expected, for\n",
    "example, in a for loop."
   ]
  },
  {
   "cell_type": "code",
   "execution_count": 73,
   "id": "a881b53e",
   "metadata": {},
   "outputs": [],
   "source": [
    "exec?"
   ]
  },
  {
   "cell_type": "code",
   "execution_count": null,
   "id": "6474d276",
   "metadata": {},
   "outputs": [],
   "source": []
  }
 ],
 "metadata": {
  "kernelspec": {
   "display_name": "Python 3 (ipykernel)",
   "language": "python",
   "name": "python3"
  },
  "language_info": {
   "codemirror_mode": {
    "name": "ipython",
    "version": 3
   },
   "file_extension": ".py",
   "mimetype": "text/x-python",
   "name": "python",
   "nbconvert_exporter": "python",
   "pygments_lexer": "ipython3",
   "version": "3.11.5"
  }
 },
 "nbformat": 4,
 "nbformat_minor": 5
}
