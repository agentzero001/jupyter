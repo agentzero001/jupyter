{
 "cells": [
  {
   "cell_type": "markdown",
   "id": "d516c4a9",
   "metadata": {},
   "source": [
    "### iterable\n",
    "Any object from which the iter built-in function can obtain an iterator. Objects\n",
    "implementing an \\__iter__ method returning an iterator are iterable. Sequences\n",
    "are always iterable, as are objects implementing a \\__getitem__ method that\n",
    "accepts 0-based indexes."
   ]
  },
  {
   "cell_type": "code",
   "execution_count": 1,
   "id": "f56cac21",
   "metadata": {},
   "outputs": [
    {
     "data": {
      "text/plain": [
       "['1', '2', '3']"
      ]
     },
     "execution_count": 1,
     "metadata": {},
     "output_type": "execute_result"
    }
   ],
   "source": [
    "#Some people, when confronted with a problem, think \"I know, I'll use regular expressions.\" \n",
    "#Now they have two problems.\n",
    "import re\n",
    "import reprlib\n",
    "\n",
    "RE_WORD = re.compile(r'\\w+')\n",
    "RE_WORD.findall('1 2 3')"
   ]
  },
  {
   "cell_type": "code",
   "execution_count": 2,
   "id": "06f1aa5a",
   "metadata": {},
   "outputs": [],
   "source": [
    "class Sentence:\n",
    "    def __init__(self, text):\n",
    "        self.text = text\n",
    "        self.words = RE_WORD.findall(text)\n",
    "    \n",
    "    def __getitem__(self, index):\n",
    "         return self.words[index]\n",
    "        \n",
    "    def __len__(self):\n",
    "        return len(self.words)\n",
    "    \n",
    "    def __repr__(self):\n",
    "        return 'Sentence(%s)' % reprlib.repr(self.text) #for abbreviation"
   ]
  },
  {
   "cell_type": "code",
   "execution_count": 3,
   "id": "185a43da",
   "metadata": {},
   "outputs": [
    {
     "data": {
      "text/plain": [
       "Sentence('\"the time ha... Walrus said,')"
      ]
     },
     "execution_count": 3,
     "metadata": {},
     "output_type": "execute_result"
    }
   ],
   "source": [
    "s = Sentence('\"the time has come,\" the Walrus said,')\n",
    "s"
   ]
  },
  {
   "cell_type": "code",
   "execution_count": 4,
   "id": "a90402c5",
   "metadata": {},
   "outputs": [
    {
     "name": "stdout",
     "output_type": "stream",
     "text": [
      "the\n",
      "time\n",
      "has\n",
      "come\n",
      "the\n",
      "Walrus\n",
      "said\n"
     ]
    }
   ],
   "source": [
    "#whenever python needs to iterate over an object x, it automatically calls iter(x)\n",
    "#if __iter__ is missing iter() will call __getitem__()\n",
    "for word in s:\n",
    "    print(word)"
   ]
  },
  {
   "cell_type": "code",
   "execution_count": 5,
   "id": "dd33ff78",
   "metadata": {},
   "outputs": [
    {
     "data": {
      "text/plain": [
       "['the', 'time', 'has', 'come', 'the', 'Walrus', 'said']"
      ]
     },
     "execution_count": 5,
     "metadata": {},
     "output_type": "execute_result"
    }
   ],
   "source": [
    "list(s)"
   ]
  },
  {
   "cell_type": "code",
   "execution_count": 6,
   "id": "d76ee70e",
   "metadata": {},
   "outputs": [
    {
     "data": {
      "text/plain": [
       "{'Walrus', 'come', 'has', 'said', 'the', 'time'}"
      ]
     },
     "execution_count": 6,
     "metadata": {},
     "output_type": "execute_result"
    }
   ],
   "source": [
    "set(s)"
   ]
  },
  {
   "cell_type": "code",
   "execution_count": 7,
   "id": "1035b9c2",
   "metadata": {},
   "outputs": [
    {
     "data": {
      "text/plain": [
       "(True, True)"
      ]
     },
     "execution_count": 7,
     "metadata": {},
     "output_type": "execute_result"
    }
   ],
   "source": [
    "from collections import abc\n",
    "\n",
    "class GooseSpam:\n",
    "    def __iter__(self):\n",
    "        pass\n",
    "\n",
    "\n",
    "goose_spam_can = GooseSpam()\n",
    "\n",
    "issubclass(GooseSpam, abc.Iterable), isinstance(goose_spam_can, abc.Iterable)"
   ]
  },
  {
   "cell_type": "code",
   "execution_count": 8,
   "id": "64945a39",
   "metadata": {},
   "outputs": [],
   "source": [
    "import random\n",
    "\n",
    "def d6():\n",
    "    return random.randint(1, 6)"
   ]
  },
  {
   "cell_type": "code",
   "execution_count": 9,
   "id": "0e1c41f6",
   "metadata": {},
   "outputs": [
    {
     "data": {
      "text/plain": [
       "(3, callable_iterator)"
      ]
     },
     "execution_count": 9,
     "metadata": {},
     "output_type": "execute_result"
    }
   ],
   "source": [
    "d6_iter = iter(d6, 1) \n",
    "next(d6_iter), type(d6_iter)"
   ]
  },
  {
   "cell_type": "code",
   "execution_count": 10,
   "id": "3e1cf3c1",
   "metadata": {},
   "outputs": [
    {
     "name": "stdout",
     "output_type": "stream",
     "text": [
      "3\n"
     ]
    }
   ],
   "source": [
    "for roll in d6_iter:\n",
    "    print(roll)"
   ]
  },
  {
   "cell_type": "code",
   "execution_count": 11,
   "id": "f6869c69",
   "metadata": {},
   "outputs": [
    {
     "name": "stdout",
     "output_type": "stream",
     "text": [
      "A\n",
      "B\n",
      "C\n"
     ]
    }
   ],
   "source": [
    "s = 'ABC'\n",
    "it = iter(s) \n",
    "\n",
    "while True:\n",
    "    try:\n",
    "        print(next(it)) \n",
    "    except StopIteration: \n",
    "        del it \n",
    "        break "
   ]
  },
  {
   "cell_type": "markdown",
   "id": "c471323e",
   "metadata": {},
   "source": [
    "### Python’s standard interface for an iterator has two methods:\n",
    "\\__next__:\n",
    "Returns the next item in the series, raising StopIteration if there are no more.\n",
    "\n",
    "\\__iter__:\n",
    "Returns self; this allows iterators to be used where an iterable is expected, for\n",
    "example, in a for loop."
   ]
  },
  {
   "cell_type": "code",
   "execution_count": 12,
   "id": "a881b53e",
   "metadata": {},
   "outputs": [],
   "source": [
    "s3 = Sentence('Life of Brian')\n",
    "it = iter(s3)"
   ]
  },
  {
   "cell_type": "code",
   "execution_count": 13,
   "id": "6474d276",
   "metadata": {},
   "outputs": [
    {
     "data": {
      "text/plain": [
       "('Life', 'of', 'Brian')"
      ]
     },
     "execution_count": 13,
     "metadata": {},
     "output_type": "execute_result"
    }
   ],
   "source": [
    "next(it), next(it), next(it)"
   ]
  },
  {
   "cell_type": "code",
   "execution_count": 14,
   "id": "25be5a36",
   "metadata": {},
   "outputs": [
    {
     "data": {
      "text/plain": [
       "[]"
      ]
     },
     "execution_count": 14,
     "metadata": {},
     "output_type": "execute_result"
    }
   ],
   "source": [
    "list(it)"
   ]
  },
  {
   "cell_type": "code",
   "execution_count": 15,
   "id": "7bae209b",
   "metadata": {},
   "outputs": [
    {
     "data": {
      "text/plain": [
       "['Life', 'of', 'Brian']"
      ]
     },
     "execution_count": 15,
     "metadata": {},
     "output_type": "execute_result"
    }
   ],
   "source": [
    "list(iter(s3))"
   ]
  },
  {
   "cell_type": "code",
   "execution_count": 16,
   "id": "9ee9b58b",
   "metadata": {},
   "outputs": [],
   "source": [
    "class Sentence:\n",
    "    def __init__(self, text):\n",
    "        self.text = text\n",
    "        self.words = RE_WORD.findall(text)\n",
    "    \n",
    "    def __repr__(self):\n",
    "        return f'Sentence({reprlib.repr(self.text)})'\n",
    "\n",
    "    \n",
    "    def __iter__(self):\n",
    "        return SentenceIterator(self.words)\n",
    "    \n",
    "class SentenceIterator:\n",
    "    def __init__(self, words):\n",
    "        self.words = words\n",
    "        self.index = 0\n",
    "        \n",
    "    def __next__(self):\n",
    "        try:\n",
    "            word = self.words[self.index]\n",
    "        except IndexError:\n",
    "            raise StopIteration()\n",
    "        self.index += 1\n",
    "        return word\n",
    "    \n",
    "    def __iter__(self):\n",
    "        return self"
   ]
  },
  {
   "cell_type": "code",
   "execution_count": 17,
   "id": "537cd82a",
   "metadata": {},
   "outputs": [
    {
     "data": {
      "text/plain": [
       "('hello', ['good', 'bye', 'hi', 'firend'])"
      ]
     },
     "execution_count": 17,
     "metadata": {},
     "output_type": "execute_result"
    }
   ],
   "source": [
    "s4 = Sentence('hello good bye hi firend')\n",
    "it = iter(s4)\n",
    "next(it), list(it)"
   ]
  },
  {
   "cell_type": "markdown",
   "id": "ed98a3fa",
   "metadata": {},
   "source": [
    "A common cause of errors in building iterables and iterators is to confuse the two. To\n",
    "be clear: iterables have an \\__iter__ method that instantiates a new iterator every\n",
    "time. Iterators implement a \\__next__ method that returns individual items, and an\n",
    "\\__iter__ method that returns self."
   ]
  },
  {
   "cell_type": "markdown",
   "id": "d1647c07",
   "metadata": {},
   "source": [
    "To “support multiple traversals,” it must be possible to obtain multiple independent\n",
    "iterators from the same iterable instance, and each iterator must keep its own internal\n",
    "state, so a proper implementation of the pattern requires each call to iter(my_itera\n",
    "ble) to create a new, independent, iterator. That is why we need the SentenceItera\n",
    "tor class in this example"
   ]
  },
  {
   "cell_type": "code",
   "execution_count": 18,
   "id": "a911617b",
   "metadata": {},
   "outputs": [],
   "source": [
    "#just ignore this one\n",
    "class Sentence:\n",
    "    def __init__(self, text):\n",
    "        self.text = text\n",
    "        self.words = RE_WORD.findall(text)\n",
    "    \n",
    "    def __repr__(self):\n",
    "        return f'Sentence({reprlib.repr(self.text)})'\n",
    "\n",
    "    def __iter__(self):\n",
    "        return iter(self.words)"
   ]
  },
  {
   "cell_type": "code",
   "execution_count": 19,
   "id": "72a5b7be",
   "metadata": {},
   "outputs": [
    {
     "data": {
      "text/plain": [
       "('hallo', ['good', 'bye', 'hi'])"
      ]
     },
     "execution_count": 19,
     "metadata": {},
     "output_type": "execute_result"
    }
   ],
   "source": [
    "s3 = Sentence('hallo good bye hi')\n",
    "it = iter(s3)\n",
    "next(it), list(it)"
   ]
  },
  {
   "cell_type": "code",
   "execution_count": 66,
   "id": "15f8cb79",
   "metadata": {},
   "outputs": [],
   "source": [
    "class Sentence2:\n",
    "    def __init__(self, text):\n",
    "        self.text = text\n",
    "        self.words = RE_WORD.findall(text)\n",
    "    \n",
    "    def __repr__(self):\n",
    "        return f'Sentence({reprlib.repr(self.text)})'\n",
    "\n",
    "    def __iter__(self):\n",
    "        for word in self.words:\n",
    "            yield word       "
   ]
  },
  {
   "cell_type": "code",
   "execution_count": 67,
   "id": "79dae6bb",
   "metadata": {},
   "outputs": [
    {
     "name": "stdout",
     "output_type": "stream",
     "text": [
      "hallo\n",
      "good\n",
      "bye\n",
      "hi\n"
     ]
    },
    {
     "data": {
      "text/plain": [
       "('hallo', ['good', 'bye', 'hi'])"
      ]
     },
     "execution_count": 67,
     "metadata": {},
     "output_type": "execute_result"
    }
   ],
   "source": [
    "s = Sentence2('hallo good bye hi')\n",
    "for w in s:\n",
    "    print(w)\n",
    "    \n",
    "it = iter(s)\n",
    "next(it), list(it)"
   ]
  },
  {
   "cell_type": "code",
   "execution_count": 38,
   "id": "301a19c5",
   "metadata": {},
   "outputs": [],
   "source": [
    "#generators implement the iterator interface, so they are also iterable"
   ]
  },
  {
   "cell_type": "code",
   "execution_count": 49,
   "id": "49627a40",
   "metadata": {},
   "outputs": [
    {
     "data": {
      "text/plain": [
       "(<function __main__.gen_123()>,\n",
       " <generator object gen_123 at 0x000001A2D7E5BB60>)"
      ]
     },
     "execution_count": 49,
     "metadata": {},
     "output_type": "execute_result"
    }
   ],
   "source": [
    "def gen_123():\n",
    "    yield 1\n",
    "    yield 2\n",
    "    yield 3\n",
    "    \n",
    "gen_123, gen_123()"
   ]
  },
  {
   "cell_type": "code",
   "execution_count": 50,
   "id": "b26b5910",
   "metadata": {},
   "outputs": [
    {
     "name": "stdout",
     "output_type": "stream",
     "text": [
      "1\n",
      "2\n",
      "3\n"
     ]
    }
   ],
   "source": [
    "for i in gen_123():\n",
    "    print(i)"
   ]
  },
  {
   "cell_type": "code",
   "execution_count": 51,
   "id": "ff822ad1",
   "metadata": {},
   "outputs": [
    {
     "data": {
      "text/plain": [
       "(1, 2, 3)"
      ]
     },
     "execution_count": 51,
     "metadata": {},
     "output_type": "execute_result"
    }
   ],
   "source": [
    "g = gen_123()\n",
    "next(g), next(g), next(g)"
   ]
  },
  {
   "cell_type": "code",
   "execution_count": 52,
   "id": "c6855c14",
   "metadata": {},
   "outputs": [
    {
     "ename": "StopIteration",
     "evalue": "",
     "output_type": "error",
     "traceback": [
      "\u001b[1;31m---------------------------------------------------------------------------\u001b[0m",
      "\u001b[1;31mStopIteration\u001b[0m                             Traceback (most recent call last)",
      "Cell \u001b[1;32mIn[52], line 1\u001b[0m\n\u001b[1;32m----> 1\u001b[0m \u001b[38;5;28mnext\u001b[39m(g)\n",
      "\u001b[1;31mStopIteration\u001b[0m: "
     ]
    }
   ],
   "source": [
    "#when the generator function returns it raises StopIteration(apparently return is implicit in python???)\n",
    "next(g)"
   ]
  },
  {
   "cell_type": "code",
   "execution_count": 69,
   "id": "0bc7a423",
   "metadata": {},
   "outputs": [],
   "source": [
    "#the most lazy version of Sentence \n",
    "class Sentence:\n",
    "    def __init__(self, text):\n",
    "        self.text = text\n",
    "        \n",
    "    def __repr__(self):\n",
    "        return f'Sentence({reprlib.repr(self.text)})'\n",
    "\n",
    "    def __iter__(self):\n",
    "        for match in RE_WORD.finditer(self.text):\n",
    "            yield match.group()"
   ]
  },
  {
   "cell_type": "code",
   "execution_count": 111,
   "id": "6ab22038",
   "metadata": {},
   "outputs": [],
   "source": [
    "class Sentence:\n",
    "    def __init__(self, text):\n",
    "        self.text = text\n",
    "        \n",
    "    def __repr__(self):\n",
    "        return f'Sentence({reprlib.repr(self.text)})'\n",
    "\n",
    "    def __iter__(self):\n",
    "        return (match.group() for match in RE_WORD.finditer(self.text))"
   ]
  },
  {
   "cell_type": "code",
   "execution_count": 112,
   "id": "624a5269",
   "metadata": {},
   "outputs": [
    {
     "data": {
      "text/plain": [
       "('1', ['2', '3', 'hallo', 'good', 'bye'])"
      ]
     },
     "execution_count": 112,
     "metadata": {},
     "output_type": "execute_result"
    }
   ],
   "source": [
    "s = Sentence('1 2 3 hallo good bye')\n",
    "it = iter(s)\n",
    "next(it), list(it)"
   ]
  },
  {
   "cell_type": "code",
   "execution_count": 113,
   "id": "f625f06f",
   "metadata": {},
   "outputs": [
    {
     "name": "stdout",
     "output_type": "stream",
     "text": [
      "<re.Match object; span=(0, 1), match='1'>\n",
      "<re.Match object; span=(2, 3), match='2'>\n",
      "<re.Match object; span=(4, 5), match='3'>\n"
     ]
    }
   ],
   "source": [
    "for i in RE_WORD.finditer('1 2 3'):\n",
    "    print(i)"
   ]
  },
  {
   "cell_type": "code",
   "execution_count": 114,
   "id": "e4f33050",
   "metadata": {},
   "outputs": [],
   "source": [
    "def gen_AB():\n",
    "    print('start')\n",
    "    yield 'A'\n",
    "    print('continue')\n",
    "    yield 'B'\n",
    "    print('end')"
   ]
  },
  {
   "cell_type": "code",
   "execution_count": 115,
   "id": "3973eeb4",
   "metadata": {},
   "outputs": [
    {
     "name": "stdout",
     "output_type": "stream",
     "text": [
      "start\n",
      "continue\n",
      "end\n"
     ]
    }
   ],
   "source": [
    "res1 = [3*x for x in gen_AB()]"
   ]
  },
  {
   "cell_type": "code",
   "execution_count": 116,
   "id": "a526303b",
   "metadata": {},
   "outputs": [
    {
     "data": {
      "text/plain": [
       "['AAA', 'BBB']"
      ]
     },
     "execution_count": 116,
     "metadata": {},
     "output_type": "execute_result"
    }
   ],
   "source": [
    "res1"
   ]
  },
  {
   "cell_type": "code",
   "execution_count": 117,
   "id": "c6b79fbd",
   "metadata": {},
   "outputs": [
    {
     "data": {
      "text/plain": [
       "<generator object <genexpr> at 0x000001A2D7F824D0>"
      ]
     },
     "execution_count": 117,
     "metadata": {},
     "output_type": "execute_result"
    }
   ],
   "source": [
    "res2 = (3*x for x in gen_AB())\n",
    "res2"
   ]
  },
  {
   "cell_type": "code",
   "execution_count": 118,
   "id": "6c8d73bf",
   "metadata": {},
   "outputs": [
    {
     "name": "stdout",
     "output_type": "stream",
     "text": [
      "start\n",
      "--> AAA\n",
      "continue\n",
      "--> BBB\n",
      "end\n"
     ]
    }
   ],
   "source": [
    "for i in res2:\n",
    "    print('-->', i)"
   ]
  },
  {
   "cell_type": "code",
   "execution_count": 120,
   "id": "8d303951",
   "metadata": {},
   "outputs": [
    {
     "data": {
      "text/plain": [
       "<generator object <genexpr> at 0x000001A2D7F82260>"
      ]
     },
     "execution_count": 120,
     "metadata": {},
     "output_type": "execute_result"
    }
   ],
   "source": [
    "#generator expression\n",
    "(2 * x for x in [1,2,3])"
   ]
  },
  {
   "cell_type": "code",
   "execution_count": null,
   "id": "c33a9b45",
   "metadata": {},
   "outputs": [],
   "source": []
  }
 ],
 "metadata": {
  "kernelspec": {
   "display_name": "Python 3 (ipykernel)",
   "language": "python",
   "name": "python3"
  },
  "language_info": {
   "codemirror_mode": {
    "name": "ipython",
    "version": 3
   },
   "file_extension": ".py",
   "mimetype": "text/x-python",
   "name": "python",
   "nbconvert_exporter": "python",
   "pygments_lexer": "ipython3",
   "version": "3.11.5"
  }
 },
 "nbformat": 4,
 "nbformat_minor": 5
}
