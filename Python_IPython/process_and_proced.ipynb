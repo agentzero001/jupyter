{
 "cells": [
  {
   "cell_type": "code",
   "execution_count": 6,
   "id": "1cff45ce",
   "metadata": {},
   "outputs": [],
   "source": [
    "#linear recursive process\n",
    "def fac(n):\n",
    "    if n==1:\n",
    "        return 1\n",
    "    else:\n",
    "        return n * fac(n-1)\n",
    "    \n",
    "fac = lambda n: 1 if n == 1 else n * fac(n-1)"
   ]
  },
  {
   "cell_type": "code",
   "execution_count": 7,
   "id": "1f0d4a8f",
   "metadata": {},
   "outputs": [],
   "source": [
    "#iterative process which uses tail recursion\n",
    "def fac2(n):\n",
    "    def _iter(prod, counter):\n",
    "        if counter > n:\n",
    "            return prod\n",
    "        else:\n",
    "            return  _iter((counter * prod), (counter + 1))\n",
    "    return _iter(1, 1)"
   ]
  },
  {
   "cell_type": "code",
   "execution_count": 8,
   "id": "adc7a57b",
   "metadata": {},
   "outputs": [],
   "source": [
    "#it feels like lambda notation is much easier to understand?\n",
    "_iter = lambda p, c, n: p if n < c else _iter((c * p), (c + 1), n)\n",
    "\n",
    "#tail recursion\n",
    "fac3 = lambda n: _iter(1, 1, n)"
   ]
  },
  {
   "cell_type": "code",
   "execution_count": 9,
   "id": "1c0b191f",
   "metadata": {},
   "outputs": [
    {
     "data": {
      "text/plain": [
       "(120, 120, 120)"
      ]
     },
     "execution_count": 9,
     "metadata": {},
     "output_type": "execute_result"
    }
   ],
   "source": [
    "fac(5), fac2(5), fac3(5)"
   ]
  },
  {
   "cell_type": "markdown",
   "id": "f2cee152",
   "metadata": {},
   "source": [
    "## todo: write fib(n) as recursive and iterative procedure"
   ]
  },
  {
   "cell_type": "markdown",
   "id": "bda201db",
   "metadata": {},
   "source": [
    "$\\{F_n\\}_{n=1}^\\infty$\n",
    "defined by the linear recurrence equation\n",
    "$$F_n = F_{n-1} + F_{n-2}$$\n",
    "with $F_1 = F_2 = 1$, and conventionally defining $F_0 = 0$."
   ]
  },
  {
   "cell_type": "code",
   "execution_count": 10,
   "id": "a9ad9f6e",
   "metadata": {},
   "outputs": [],
   "source": [
    "def fib(n):\n",
    "    if n == 0:\n",
    "        return 0\n",
    "    if n == 1:\n",
    "        return 1\n",
    "    else:\n",
    "        return fib(n-1) + fib(n-2)\n",
    "    \n",
    "\n",
    "def fib_iter1(a, b, count):\n",
    "    if count == 0:\n",
    "        return b\n",
    "    else:\n",
    "        return fib_iter1(a + b, a, count-1)\n",
    "    \n",
    "def fib_iter2(a, b, count):\n",
    "    while count > 0:\n",
    "        a, b = a + b, a\n",
    "        count -= 1\n",
    "    return b\n",
    "\n",
    "fib1 = lambda n: fib_iter1(1, 0, n)\n",
    "fib2 = lambda n: fib_iter2(1, 0, n)"
   ]
  },
  {
   "cell_type": "code",
   "execution_count": 11,
   "id": "8deffe8d",
   "metadata": {},
   "outputs": [
    {
     "data": {
      "text/plain": [
       "(55, 55, 55)"
      ]
     },
     "execution_count": 11,
     "metadata": {},
     "output_type": "execute_result"
    }
   ],
   "source": [
    "fib(10), fib1(10), fib2(10)"
   ]
  },
  {
   "cell_type": "code",
   "execution_count": 12,
   "id": "a27e8d48",
   "metadata": {},
   "outputs": [
    {
     "name": "stdout",
     "output_type": "stream",
     "text": [
      "12.4 µs ± 147 ns per loop (mean ± std. dev. of 7 runs, 100,000 loops each)\n"
     ]
    }
   ],
   "source": [
    "%timeit fib(10)"
   ]
  },
  {
   "cell_type": "code",
   "execution_count": 13,
   "id": "ee7946dd",
   "metadata": {},
   "outputs": [
    {
     "name": "stdout",
     "output_type": "stream",
     "text": [
      "790 ns ± 6.8 ns per loop (mean ± std. dev. of 7 runs, 1,000,000 loops each)\n"
     ]
    }
   ],
   "source": [
    "%timeit fib1(10)"
   ]
  },
  {
   "cell_type": "code",
   "execution_count": 14,
   "id": "b6c402b6",
   "metadata": {},
   "outputs": [
    {
     "name": "stdout",
     "output_type": "stream",
     "text": [
      "477 ns ± 6.29 ns per loop (mean ± std. dev. of 7 runs, 1,000,000 loops each)\n"
     ]
    }
   ],
   "source": [
    "%timeit fib2(10)"
   ]
  },
  {
   "cell_type": "code",
   "execution_count": 15,
   "id": "8db18d2f",
   "metadata": {},
   "outputs": [
    {
     "name": "stdout",
     "output_type": "stream",
     "text": [
      "2\n"
     ]
    }
   ],
   "source": [
    "count_change = lambda amount: cc(amount, 5)\n",
    "\n",
    "def cc(amount, kinds_of_coins):\n",
    "    if amount == 0:\n",
    "        return 1\n",
    "    elif amount < 0 or kinds_of_coins == 0:\n",
    "        return 0\n",
    "    else:\n",
    "        return cc(amount, kinds_of_coins - 1) + cc(amount - first_denomination(kinds_of_coins), kinds_of_coins)\n",
    "\n",
    "def first_denomination(kinds_of_coins):\n",
    "        if kinds_of_coins == 1:\n",
    "            return 1\n",
    "        elif kinds_of_coins == 2:\n",
    "            return 5\n",
    "        elif kinds_of_coins == 3:\n",
    "            return 10\n",
    "        elif kinds_of_coins == 4:\n",
    "            return 25\n",
    "        elif kinds_of_coins == 5:\n",
    "            return 50   \n",
    "\n",
    "print(count_change(5))"
   ]
  },
  {
   "cell_type": "code",
   "execution_count": 16,
   "id": "24ef24ea",
   "metadata": {},
   "outputs": [],
   "source": [
    "def f(n):\n",
    "    if n < 3:\n",
    "        return n\n",
    "    else:\n",
    "        return f(n-1) + 2*f(-2) "
   ]
  },
  {
   "cell_type": "code",
   "execution_count": 17,
   "id": "fe7f2638",
   "metadata": {},
   "outputs": [
    {
     "data": {
      "text/plain": [
       "-30"
      ]
     },
     "execution_count": 17,
     "metadata": {},
     "output_type": "execute_result"
    }
   ],
   "source": [
    "f(10)"
   ]
  },
  {
   "cell_type": "code",
   "execution_count": 26,
   "id": "61277640",
   "metadata": {},
   "outputs": [],
   "source": [
    "exp0 = lambda x, n: x**n\n",
    "\n",
    "exp1 = lambda x, n: 1 if n == 0 else x * exp1(x, (n - 1))\n",
    "\n",
    "def exp2(x, n): \n",
    "    def exp_iter(x, counter, product):\n",
    "        if counter == 0:\n",
    "            return product\n",
    "        else:\n",
    "            return exp_iter(x, counter - 1, x * product)\n",
    "    return exp_iter(x, n, 1)\n",
    "    \n",
    "def exp3(x, n):\n",
    "    product = 1\n",
    "    while n > 0:\n",
    "        product *= x\n",
    "        n -= 1\n",
    "    return product\n",
    "\n",
    "def exp4(x, n):\n",
    "    product = 1\n",
    "    for i in range(n):\n",
    "        product *= x\n",
    "    return product"
   ]
  },
  {
   "cell_type": "markdown",
   "id": "b19d4546",
   "metadata": {},
   "source": [
    "The rule \\\n",
    "$x^n = (x^{\\frac{n}{2}})^2$ if n is even \\\n",
    "$x^n = x \\cdot x^{n-1}$ if n is odd \\\n",
    "can help us define a procedure that performs fewer multiplications using larger numbers. \\\n",
    " In other words, the process evolved by exp5 grows logarithmically with \\( n \\) in both space and numbers.\n",
    "\n",
    "\n"
   ]
  },
  {
   "cell_type": "code",
   "execution_count": 27,
   "id": "9011e3a6",
   "metadata": {},
   "outputs": [],
   "source": [
    "def exp5(x, n):\n",
    "    square = lambda x_: x_* x_ #naming things is hard\n",
    "    even = lambda x_: x_ % 2 == 0\n",
    "    if n == 0:\n",
    "        return 1\n",
    "    elif even(n):\n",
    "        return square(exp5(x, n / 2))\n",
    "    else:\n",
    "        return x * exp5(x, n - 1)"
   ]
  },
  {
   "cell_type": "code",
   "execution_count": 28,
   "id": "497fb6be",
   "metadata": {},
   "outputs": [],
   "source": [
    "x = 5; n = 5; funcs = (exp0, exp1, exp2, exp3, exp4, exp5)"
   ]
  },
  {
   "cell_type": "code",
   "execution_count": 29,
   "id": "f37e420c",
   "metadata": {},
   "outputs": [
    {
     "data": {
      "text/plain": [
       "(3125, 3125, 3125, 3125, 3125, 3125)"
      ]
     },
     "execution_count": 29,
     "metadata": {},
     "output_type": "execute_result"
    }
   ],
   "source": [
    "tuple(f(x, n) for f in funcs)"
   ]
  },
  {
   "cell_type": "code",
   "execution_count": 30,
   "id": "457a6f67",
   "metadata": {},
   "outputs": [
    {
     "data": {
      "text/plain": [
       "(3125, 3125, 3125, 3125, 3125, 3125)"
      ]
     },
     "execution_count": 30,
     "metadata": {},
     "output_type": "execute_result"
    }
   ],
   "source": [
    "tuple(map(lambda f: f(x, n), funcs))"
   ]
  }
 ],
 "metadata": {
  "kernelspec": {
   "display_name": "Python 3 (ipykernel)",
   "language": "python",
   "name": "python3"
  },
  "language_info": {
   "codemirror_mode": {
    "name": "ipython",
    "version": 3
   },
   "file_extension": ".py",
   "mimetype": "text/x-python",
   "name": "python",
   "nbconvert_exporter": "python",
   "pygments_lexer": "ipython3",
   "version": "3.11.5"
  }
 },
 "nbformat": 4,
 "nbformat_minor": 5
}
