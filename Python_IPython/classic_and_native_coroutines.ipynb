{
 "cells": [
  {
   "cell_type": "code",
   "execution_count": 1,
   "id": "48a8a5ff",
   "metadata": {},
   "outputs": [],
   "source": [
    "from collections.abc import Generator"
   ]
  },
  {
   "cell_type": "code",
   "execution_count": 2,
   "id": "0ffbc977",
   "metadata": {},
   "outputs": [],
   "source": [
    "def averager() -> Generator[float, float, None]:\n",
    "    total = .0\n",
    "    count = .0\n",
    "    average = .0\n",
    "    while True:\n",
    "        term = yield average\n",
    "        total += term\n",
    "        count += 1\n",
    "        average = total/count\n",
    "\n",
    "coro_avg = averager()"
   ]
  },
  {
   "cell_type": "markdown",
   "id": "4fc40082",
   "metadata": {},
   "source": [
    "<span style=\"font-size: 15px;\n",
    "             font-family: Courier New;\">\n",
    "    The first call of next makes the coroutine advance to the yield,\n",
    "    <br>which is also known as 'priming the coroutine'\n",
    "    <br>also you can do (or would have to) send None at first \n",
    "</span>"
   ]
  },
  {
   "cell_type": "code",
   "execution_count": 3,
   "id": "38d7c94e",
   "metadata": {},
   "outputs": [
    {
     "data": {
      "text/plain": [
       "0.0"
      ]
     },
     "execution_count": 3,
     "metadata": {},
     "output_type": "execute_result"
    }
   ],
   "source": [
    "#coro_avg.send(None)\n",
    "next(coro_avg)"
   ]
  },
  {
   "cell_type": "code",
   "execution_count": 4,
   "id": "47e63596",
   "metadata": {},
   "outputs": [
    {
     "data": {
      "text/plain": [
       "10.0"
      ]
     },
     "execution_count": 4,
     "metadata": {},
     "output_type": "execute_result"
    }
   ],
   "source": [
    "coro_avg.send(10)"
   ]
  },
  {
   "cell_type": "markdown",
   "id": "3f543d6c",
   "metadata": {},
   "source": [
    "<span style=\"font-size: 15px;\n",
    "             font-family: Courier New;\">\n",
    "    After each activation the coroutine is suspended precisely at the yield keyword, \n",
    "    <br> waiting for a value to be send.\n",
    "    <br> the yield expression resovles to the value 10,\n",
    "    <br> assigning it to the term variable\n",
    "    <br> the rest of the loop updates the variables\n",
    "</span>"
   ]
  },
  {
   "cell_type": "code",
   "execution_count": 5,
   "id": "06b12d70",
   "metadata": {},
   "outputs": [
    {
     "data": {
      "text/plain": [
       "20.0"
      ]
     },
     "execution_count": 5,
     "metadata": {},
     "output_type": "execute_result"
    }
   ],
   "source": [
    "coro_avg.send(30)"
   ]
  },
  {
   "cell_type": "code",
   "execution_count": 6,
   "id": "4600e196",
   "metadata": {},
   "outputs": [
    {
     "data": {
      "text/plain": [
       "15.0"
      ]
     },
     "execution_count": 6,
     "metadata": {},
     "output_type": "execute_result"
    }
   ],
   "source": [
    "coro_avg.send(5)"
   ]
  },
  {
   "cell_type": "code",
   "execution_count": 7,
   "id": "0f20ea9c",
   "metadata": {},
   "outputs": [],
   "source": [
    "#explicit termination (optional)\n",
    "coro_avg.close()"
   ]
  },
  {
   "cell_type": "markdown",
   "id": "49d898e2",
   "metadata": {},
   "source": [
    "-------"
   ]
  },
  {
   "cell_type": "markdown",
   "id": "8f05d217",
   "metadata": {},
   "source": [
    "### Returning a Value from a Coroutine"
   ]
  },
  {
   "cell_type": "code",
   "execution_count": 8,
   "id": "4e2fd560",
   "metadata": {},
   "outputs": [],
   "source": [
    "from typing import Union, NamedTuple\n",
    "from typing import TypeAlias"
   ]
  },
  {
   "cell_type": "code",
   "execution_count": 9,
   "id": "b9fe7d80",
   "metadata": {},
   "outputs": [],
   "source": [
    "class Result(NamedTuple):\n",
    "    count: int # type: ignore\n",
    "    average: float\n",
    "        \n",
    "class Sentinel:\n",
    "    def __repr__(self):\n",
    "        return f'<Sentinel>'\n",
    "    \n",
    "STOP = Sentinel()"
   ]
  },
  {
   "cell_type": "code",
   "execution_count": 10,
   "id": "52d81e7f",
   "metadata": {},
   "outputs": [],
   "source": [
    "#SentType = Union[float, Sentinel]\n",
    "#SendType: TypeAlias = float | Sentinel"
   ]
  },
  {
   "cell_type": "code",
   "execution_count": 11,
   "id": "840103f9",
   "metadata": {},
   "outputs": [],
   "source": [
    "def averager2(verbose: bool = False) -> Generator[None, float | Sentinel, Result]:\n",
    "    total = .0\n",
    "    count = .0\n",
    "    average = .0\n",
    "    while True:\n",
    "        term = yield #this yields None but recieves a term from .send()\n",
    "        if verbose:\n",
    "            print('received:', term)\n",
    "        if isinstance(term, Sentinel):\n",
    "            break\n",
    "        total += term\n",
    "        count += 1\n",
    "        average = total / count\n",
    "    return Result(count, average)    "
   ]
  },
  {
   "cell_type": "code",
   "execution_count": 12,
   "id": "1b64339e",
   "metadata": {},
   "outputs": [],
   "source": [
    "coro_avg = averager2()\n",
    "next(coro_avg)"
   ]
  },
  {
   "cell_type": "code",
   "execution_count": 13,
   "id": "423ac3cb",
   "metadata": {},
   "outputs": [],
   "source": [
    "coro_avg.send(10)"
   ]
  },
  {
   "cell_type": "code",
   "execution_count": 14,
   "id": "ef9bbdb7",
   "metadata": {},
   "outputs": [],
   "source": [
    "coro_avg.send(30)\n",
    "coro_avg.send(6.5)"
   ]
  },
  {
   "cell_type": "code",
   "execution_count": 15,
   "id": "ed99c4ab",
   "metadata": {},
   "outputs": [],
   "source": [
    "coro_avg.close()\n",
    "#The GeneratorExit exception is raised at the yield line in the coroutine,\n",
    "#so the return statement is never reached"
   ]
  },
  {
   "cell_type": "code",
   "execution_count": 16,
   "id": "adbbe3d6",
   "metadata": {},
   "outputs": [
    {
     "data": {
      "text/plain": [
       "Result(count=3.0, average=15.5)"
      ]
     },
     "execution_count": 16,
     "metadata": {},
     "output_type": "execute_result"
    }
   ],
   "source": [
    "coro_avg = averager2()\n",
    "next(coro_avg)\n",
    "\n",
    "coro_avg.send(10)\n",
    "coro_avg.send(30)\n",
    "coro_avg.send(6.5)\n",
    "\n",
    "try: \n",
    "    coro_avg.send(STOP)\n",
    "except StopIteration as exc:\n",
    "    result = exc.value #wtf?\n",
    "    \n",
    "result "
   ]
  },
  {
   "cell_type": "code",
   "execution_count": 17,
   "id": "5e04b60f",
   "metadata": {},
   "outputs": [],
   "source": [
    "def compute(f, *a):\n",
    "    res = yield from f(*a)\n",
    "    print('computed:', res)\n",
    "    return res\n",
    "\n",
    "comp = compute(averager2, [True])"
   ]
  },
  {
   "cell_type": "code",
   "execution_count": 18,
   "id": "e4026465",
   "metadata": {},
   "outputs": [
    {
     "name": "stdout",
     "output_type": "stream",
     "text": [
      "received: 10\n",
      "received: 20\n",
      "received: 30\n",
      "received: <Sentinel>\n",
      "computed: Result(count=3.0, average=20.0)\n"
     ]
    },
    {
     "data": {
      "text/plain": [
       "Result(count=3.0, average=20.0)"
      ]
     },
     "execution_count": 18,
     "metadata": {},
     "output_type": "execute_result"
    }
   ],
   "source": [
    "for v in [None, 10, 20, 30, STOP]:\n",
    "    try:\n",
    "        comp.send(v)\n",
    "    except StopIteration as exc:\n",
    "        result = exc.value\n",
    "        \n",
    "result"
   ]
  },
  {
   "cell_type": "code",
   "execution_count": 28,
   "id": "f73f15e1",
   "metadata": {},
   "outputs": [],
   "source": [
    "def generator():\n",
    "    a = 0\n",
    "    while True:\n",
    "        b = yield\n",
    "        a += b\n",
    "        if isinstance(b, float): \n",
    "            break\n",
    "    return a\n",
    "\n",
    "#you should use isinstance to raise StopIteration if you want to use coroutines like that.\n",
    "#for it can fuck up the result variable"
   ]
  },
  {
   "cell_type": "code",
   "execution_count": 20,
   "id": "fad9e4c9",
   "metadata": {},
   "outputs": [],
   "source": [
    "my_gen = generator()"
   ]
  },
  {
   "cell_type": "code",
   "execution_count": 21,
   "id": "6e2a4c87",
   "metadata": {},
   "outputs": [],
   "source": [
    "next(my_gen)"
   ]
  },
  {
   "cell_type": "code",
   "execution_count": 22,
   "id": "83c5b0ce",
   "metadata": {},
   "outputs": [],
   "source": [
    "my_gen.send(9)"
   ]
  },
  {
   "cell_type": "code",
   "execution_count": 23,
   "id": "c42bfab2",
   "metadata": {},
   "outputs": [],
   "source": [
    "my_gen.send(8)"
   ]
  },
  {
   "cell_type": "code",
   "execution_count": 24,
   "id": "2539d229",
   "metadata": {},
   "outputs": [
    {
     "data": {
      "text/plain": [
       "28.0"
      ]
     },
     "execution_count": 24,
     "metadata": {},
     "output_type": "execute_result"
    }
   ],
   "source": [
    "try:\n",
    "    my_gen.send(11.0)\n",
    "except StopIteration as exc:\n",
    "    result = exc.value\n",
    "    \n",
    "result"
   ]
  },
  {
   "cell_type": "code",
   "execution_count": 29,
   "id": "381d5506",
   "metadata": {},
   "outputs": [
    {
     "name": "stdout",
     "output_type": "stream",
     "text": [
      "computed: 60.0\n"
     ]
    },
    {
     "data": {
      "text/plain": [
       "60.0"
      ]
     },
     "execution_count": 29,
     "metadata": {},
     "output_type": "execute_result"
    }
   ],
   "source": [
    "my_comp = compute(generator)\n",
    "for v in [None, 10, 20, 30.0]:\n",
    "    try:\n",
    "        my_comp.send(v)\n",
    "    except StopIteration as exc:\n",
    "        result = exc.value\n",
    "        \n",
    "result"
   ]
  },
  {
   "cell_type": "code",
   "execution_count": 26,
   "id": "e6e593e5",
   "metadata": {},
   "outputs": [
    {
     "data": {
      "text/plain": [
       "66"
      ]
     },
     "execution_count": 26,
     "metadata": {},
     "output_type": "execute_result"
    }
   ],
   "source": [
    "sum(list(range(12))) #does it make sense?"
   ]
  },
  {
   "cell_type": "markdown",
   "id": "da58035e",
   "metadata": {},
   "source": [
    "----------------"
   ]
  },
  {
   "cell_type": "code",
   "execution_count": null,
   "id": "e4d1be95",
   "metadata": {},
   "outputs": [],
   "source": []
  }
 ],
 "metadata": {
  "kernelspec": {
   "display_name": "Python 3 (ipykernel)",
   "language": "python",
   "name": "python3"
  },
  "language_info": {
   "codemirror_mode": {
    "name": "ipython",
    "version": 3
   },
   "file_extension": ".py",
   "mimetype": "text/x-python",
   "name": "python",
   "nbconvert_exporter": "python",
   "pygments_lexer": "ipython3",
   "version": "3.11.5"
  }
 },
 "nbformat": 4,
 "nbformat_minor": 5
}
