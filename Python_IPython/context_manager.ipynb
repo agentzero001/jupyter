{
 "cells": [
  {
   "cell_type": "markdown",
   "id": "73c8d239",
   "metadata": {},
   "source": [
    "Context manager objects exist to control a with statement, just like iterators exist to control a for statement."
   ]
  },
  {
   "cell_type": "markdown",
   "id": "64c3453e",
   "metadata": {},
   "source": [
    "The context manager interface consists of the **\\__enter__** and **\\__exit__** methods. At the top of the *__with__* python calls the **\\__enter__** method of the context manager object.\n",
    "When the *__with__* competes or terminates for any reason, Python calls **\\__exit__** on the context manager object."
   ]
  },
  {
   "cell_type": "code",
   "execution_count": 9,
   "id": "72ea705f",
   "metadata": {},
   "outputs": [],
   "source": [
    "class LookingGlass:\n",
    "\n",
    "    def __enter__(self): \n",
    "        import sys\n",
    "        self.original_write = sys.stdout.write  \n",
    "        sys.stdout.write = self.reverse_write  \n",
    "        return 'JABBERWOCKY'  \n",
    "\n",
    "    def reverse_write(self, text): \n",
    "        self.original_write(text[::-1])\n",
    "\n",
    "    def __exit__(self, exc_type, exc_value, traceback):  \n",
    "        import sys\n",
    "        sys.stdout.write = self.original_write  \n",
    "        if exc_type is ZeroDivisionError:  \n",
    "            print('Please DO NOT divide by zero!')\n",
    "            return True "
   ]
  },
  {
   "cell_type": "code",
   "execution_count": 3,
   "id": "92aa4119",
   "metadata": {},
   "outputs": [
    {
     "name": "stdout",
     "output_type": "stream",
     "text": [
      "pordwonS dna yttiK ,ecilA\n",
      "YKCOWREBBAJ\n"
     ]
    }
   ],
   "source": [
    "with LookingGlass() as what:\n",
    "    print('Alice, Kitty and Snowdrop')\n",
    "    print(what)"
   ]
  },
  {
   "cell_type": "code",
   "execution_count": 8,
   "id": "c1b5153c",
   "metadata": {},
   "outputs": [
    {
     "name": "stdout",
     "output_type": "stream",
     "text": [
      "jallo43"
     ]
    },
    {
     "data": {
      "text/plain": [
       "7"
      ]
     },
     "execution_count": 8,
     "metadata": {},
     "output_type": "execute_result"
    }
   ],
   "source": [
    "import sys\n",
    "sys.stdout.write('jallo43')"
   ]
  },
  {
   "cell_type": "code",
   "execution_count": null,
   "id": "306e9d84",
   "metadata": {},
   "outputs": [],
   "source": [
    "sys.stdout.write = "
   ]
  }
 ],
 "metadata": {
  "kernelspec": {
   "display_name": "Python 3 (ipykernel)",
   "language": "python",
   "name": "python3"
  },
  "language_info": {
   "codemirror_mode": {
    "name": "ipython",
    "version": 3
   },
   "file_extension": ".py",
   "mimetype": "text/x-python",
   "name": "python",
   "nbconvert_exporter": "python",
   "pygments_lexer": "ipython3",
   "version": "3.11.5"
  }
 },
 "nbformat": 4,
 "nbformat_minor": 5
}
