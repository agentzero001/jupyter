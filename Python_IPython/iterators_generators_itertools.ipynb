{
 "cells": [
  {
   "cell_type": "markdown",
   "id": "18f69bd6",
   "metadata": {},
   "source": [
    "# iterables\n",
    "Any object from which the iter built-in function can obtain an iterator. Objects\n",
    "implementing an \\__iter__ method returning an iterator are iterable. Sequences\n",
    "are always iterable, as are objects implementing a \\__getitem__ method that\n",
    "accepts 0-based indexes."
   ]
  },
  {
   "cell_type": "code",
   "execution_count": 307,
   "id": "664de64b",
   "metadata": {},
   "outputs": [
    {
     "data": {
      "text/plain": [
       "['1', '2', '3']"
      ]
     },
     "execution_count": 307,
     "metadata": {},
     "output_type": "execute_result"
    }
   ],
   "source": [
    "#Some people, when confronted with a problem, think \"I know, I'll use regular expressions.\" \n",
    "#Now they have two problems.\n",
    "import re\n",
    "import reprlib\n",
    "\n",
    "RE_WORD = re.compile(r'\\w+')\n",
    "RE_WORD.findall('1 2 3')"
   ]
  },
  {
   "cell_type": "code",
   "execution_count": 308,
   "id": "c2c51633",
   "metadata": {},
   "outputs": [],
   "source": [
    "class Sentence:\n",
    "    def __init__(self, text):\n",
    "        self.text = text\n",
    "        self.words = RE_WORD.findall(text)\n",
    "    \n",
    "    def __getitem__(self, index):\n",
    "         return self.words[index]\n",
    "        \n",
    "    def __len__(self):\n",
    "        return len(self.words)\n",
    "    \n",
    "    def __repr__(self):\n",
    "        return 'Sentence(%s)' % reprlib.repr(self.text) #for abbreviation"
   ]
  },
  {
   "cell_type": "code",
   "execution_count": 309,
   "id": "ac8e10e5",
   "metadata": {},
   "outputs": [
    {
     "data": {
      "text/plain": [
       "Sentence('\"the time ha... Walrus said,')"
      ]
     },
     "execution_count": 309,
     "metadata": {},
     "output_type": "execute_result"
    }
   ],
   "source": [
    "s = Sentence('\"the time has come,\" the Walrus said,')\n",
    "s"
   ]
  },
  {
   "cell_type": "code",
   "execution_count": 310,
   "id": "6bd55265",
   "metadata": {},
   "outputs": [
    {
     "name": "stdout",
     "output_type": "stream",
     "text": [
      "the\n",
      "time\n",
      "has\n",
      "come\n",
      "the\n",
      "Walrus\n",
      "said\n"
     ]
    }
   ],
   "source": [
    "#whenever python needs to iterate over an object x, it automatically calls iter(x)\n",
    "#if __iter__ is missing iter() will call __getitem__()\n",
    "for word in s:\n",
    "    print(word)"
   ]
  },
  {
   "cell_type": "code",
   "execution_count": 311,
   "id": "add8625d",
   "metadata": {},
   "outputs": [
    {
     "data": {
      "text/plain": [
       "['the', 'time', 'has', 'come', 'the', 'Walrus', 'said']"
      ]
     },
     "execution_count": 311,
     "metadata": {},
     "output_type": "execute_result"
    }
   ],
   "source": [
    "list(s)"
   ]
  },
  {
   "cell_type": "code",
   "execution_count": 312,
   "id": "e661fa45",
   "metadata": {},
   "outputs": [
    {
     "data": {
      "text/plain": [
       "{'Walrus', 'come', 'has', 'said', 'the', 'time'}"
      ]
     },
     "execution_count": 312,
     "metadata": {},
     "output_type": "execute_result"
    }
   ],
   "source": [
    "set(s)"
   ]
  },
  {
   "cell_type": "code",
   "execution_count": 313,
   "id": "99b7275b",
   "metadata": {},
   "outputs": [
    {
     "data": {
      "text/plain": [
       "(True, True)"
      ]
     },
     "execution_count": 313,
     "metadata": {},
     "output_type": "execute_result"
    }
   ],
   "source": [
    "from collections import abc\n",
    "\n",
    "class GooseSpam:\n",
    "    def __iter__(self):\n",
    "        pass\n",
    "\n",
    "\n",
    "goose_spam_can = GooseSpam()\n",
    "\n",
    "issubclass(GooseSpam, abc.Iterable), isinstance(goose_spam_can, abc.Iterable)"
   ]
  },
  {
   "cell_type": "markdown",
   "id": "1cfc2bfe",
   "metadata": {},
   "source": [
    "# Iterators"
   ]
  },
  {
   "cell_type": "code",
   "execution_count": 314,
   "id": "453eadaf",
   "metadata": {},
   "outputs": [],
   "source": [
    "import random\n",
    "\n",
    "def d6():\n",
    "    return random.randint(1, 6)"
   ]
  },
  {
   "cell_type": "code",
   "execution_count": 315,
   "id": "f4adf728",
   "metadata": {},
   "outputs": [
    {
     "data": {
      "text/plain": [
       "(5, callable_iterator)"
      ]
     },
     "execution_count": 315,
     "metadata": {},
     "output_type": "execute_result"
    }
   ],
   "source": [
    "d6_iter = iter(d6, 1) # __iter__ will create an iterator out of an itrable\n",
    "next(d6_iter), type(d6_iter)"
   ]
  },
  {
   "cell_type": "code",
   "execution_count": 316,
   "id": "7893f869",
   "metadata": {},
   "outputs": [
    {
     "name": "stdout",
     "output_type": "stream",
     "text": [
      "3\n",
      "4\n"
     ]
    }
   ],
   "source": [
    "for roll in d6_iter:\n",
    "    print(roll)"
   ]
  },
  {
   "cell_type": "code",
   "execution_count": 317,
   "id": "26fe3003",
   "metadata": {},
   "outputs": [
    {
     "name": "stdout",
     "output_type": "stream",
     "text": [
      "A\n",
      "B\n",
      "C\n"
     ]
    }
   ],
   "source": [
    "s = 'ABC'\n",
    "it = iter(s) \n",
    "\n",
    "while True:\n",
    "    try:\n",
    "        print(next(it)) \n",
    "    except StopIteration: \n",
    "        del it \n",
    "        break "
   ]
  },
  {
   "cell_type": "markdown",
   "id": "4258a25d",
   "metadata": {},
   "source": [
    "### Python’s standard interface for an iterator has two methods:\n",
    "\\__next__:\n",
    "Returns the next item in the series, raising StopIteration if there are no more.\n",
    "\n",
    "\\__iter__:\n",
    "Returns self; this allows iterators to be used where an iterable is expected, for\n",
    "example, in a for loop."
   ]
  },
  {
   "cell_type": "code",
   "execution_count": 318,
   "id": "42d46142",
   "metadata": {},
   "outputs": [],
   "source": [
    "s3 = Sentence('Life of Brian')\n",
    "it = iter(s3)"
   ]
  },
  {
   "cell_type": "code",
   "execution_count": 319,
   "id": "5b5a18e8",
   "metadata": {},
   "outputs": [
    {
     "data": {
      "text/plain": [
       "('Life', 'of', 'Brian')"
      ]
     },
     "execution_count": 319,
     "metadata": {},
     "output_type": "execute_result"
    }
   ],
   "source": [
    "next(it), next(it), next(it)"
   ]
  },
  {
   "cell_type": "code",
   "execution_count": 320,
   "id": "51e8ddc2",
   "metadata": {},
   "outputs": [
    {
     "data": {
      "text/plain": [
       "[]"
      ]
     },
     "execution_count": 320,
     "metadata": {},
     "output_type": "execute_result"
    }
   ],
   "source": [
    "list(it)"
   ]
  },
  {
   "cell_type": "code",
   "execution_count": 321,
   "id": "696f6ed3",
   "metadata": {},
   "outputs": [
    {
     "data": {
      "text/plain": [
       "['Life', 'of', 'Brian']"
      ]
     },
     "execution_count": 321,
     "metadata": {},
     "output_type": "execute_result"
    }
   ],
   "source": [
    "list(iter(s3))"
   ]
  },
  {
   "cell_type": "code",
   "execution_count": 322,
   "id": "6bfc8207",
   "metadata": {},
   "outputs": [],
   "source": [
    "class Sentence:\n",
    "    def __init__(self, text):\n",
    "        self.text = text\n",
    "        self.words = RE_WORD.findall(text)\n",
    "    \n",
    "    def __repr__(self):\n",
    "        return f'Sentence({reprlib.repr(self.text)})'\n",
    "\n",
    "    \n",
    "    def __iter__(self):\n",
    "        return SentenceIterator(self.words)\n",
    "    \n",
    "class SentenceIterator:\n",
    "    def __init__(self, words):\n",
    "        self.words = words\n",
    "        self.index = 0\n",
    "        \n",
    "    def __next__(self):\n",
    "        try:\n",
    "            word = self.words[self.index]\n",
    "        except IndexError:\n",
    "            raise StopIteration()\n",
    "        self.index += 1\n",
    "        return word\n",
    "    \n",
    "    def __iter__(self):\n",
    "        return self"
   ]
  },
  {
   "cell_type": "code",
   "execution_count": 323,
   "id": "8b80a3e8",
   "metadata": {},
   "outputs": [
    {
     "data": {
      "text/plain": [
       "('hello', ['good', 'bye', 'hi', 'firend'])"
      ]
     },
     "execution_count": 323,
     "metadata": {},
     "output_type": "execute_result"
    }
   ],
   "source": [
    "s4 = Sentence('hello good bye hi firend')\n",
    "it = iter(s4)\n",
    "next(it), list(it)"
   ]
  },
  {
   "cell_type": "markdown",
   "id": "27fc4c86",
   "metadata": {},
   "source": [
    "A common cause of errors in building iterables and iterators is to confuse the two. To\n",
    "be clear: iterables have an \\__iter__ method that instantiates a new iterator every\n",
    "time. Iterators implement a \\__next__ method that returns individual items, and an\n",
    "\\__iter__ method that returns self."
   ]
  },
  {
   "cell_type": "markdown",
   "id": "9f8e40ca",
   "metadata": {},
   "source": [
    "To “support multiple traversals,” it must be possible to obtain multiple independent\n",
    "iterators from the same iterable instance, and each iterator must keep its own internal\n",
    "state, so a proper implementation of the pattern requires each call to iter(my_itera\n",
    "ble) to create a new, independent, iterator. That is why we need the SentenceItera\n",
    "tor class in this example"
   ]
  },
  {
   "cell_type": "code",
   "execution_count": 324,
   "id": "68f59351",
   "metadata": {},
   "outputs": [],
   "source": [
    "#just ignore this one\n",
    "class Sentence:\n",
    "    def __init__(self, text):\n",
    "        self.text = text\n",
    "        self.words = RE_WORD.findall(text)\n",
    "    \n",
    "    def __repr__(self):\n",
    "        return f'Sentence({reprlib.repr(self.text)})'\n",
    "\n",
    "    def __iter__(self):\n",
    "        return iter(self.words)"
   ]
  },
  {
   "cell_type": "code",
   "execution_count": 325,
   "id": "978b97ef",
   "metadata": {},
   "outputs": [
    {
     "data": {
      "text/plain": [
       "('hallo', ['good', 'bye', 'hi'])"
      ]
     },
     "execution_count": 325,
     "metadata": {},
     "output_type": "execute_result"
    }
   ],
   "source": [
    "s3 = Sentence('hallo good bye hi')\n",
    "it = iter(s3)\n",
    "next(it), list(it)"
   ]
  },
  {
   "cell_type": "code",
   "execution_count": 326,
   "id": "27ccd5b2",
   "metadata": {},
   "outputs": [],
   "source": [
    "class Sentence2:\n",
    "    def __init__(self, text):\n",
    "        self.text = text\n",
    "        self.words = RE_WORD.findall(text)\n",
    "    \n",
    "    def __repr__(self):\n",
    "        return f'Sentence({reprlib.repr(self.text)})'\n",
    "\n",
    "    def __iter__(self):\n",
    "        for word in self.words:\n",
    "            yield word       "
   ]
  },
  {
   "cell_type": "code",
   "execution_count": 327,
   "id": "3aebca11",
   "metadata": {},
   "outputs": [
    {
     "name": "stdout",
     "output_type": "stream",
     "text": [
      "hallo\n",
      "good\n",
      "bye\n",
      "hi\n"
     ]
    },
    {
     "data": {
      "text/plain": [
       "('hallo', ['good', 'bye', 'hi'])"
      ]
     },
     "execution_count": 327,
     "metadata": {},
     "output_type": "execute_result"
    }
   ],
   "source": [
    "s = Sentence2('hallo good bye hi')\n",
    "for w in s:\n",
    "    print(w)\n",
    "    \n",
    "it = iter(s)\n",
    "next(it), list(it)"
   ]
  },
  {
   "cell_type": "code",
   "execution_count": 328,
   "id": "234a1dd8",
   "metadata": {},
   "outputs": [],
   "source": [
    "#generators implement the iterator interface, so they are also iterable"
   ]
  },
  {
   "cell_type": "code",
   "execution_count": 329,
   "id": "9cf1fb38",
   "metadata": {},
   "outputs": [
    {
     "data": {
      "text/plain": [
       "(<function __main__.gen_123()>,\n",
       " <generator object gen_123 at 0x000001C39433D7A0>)"
      ]
     },
     "execution_count": 329,
     "metadata": {},
     "output_type": "execute_result"
    }
   ],
   "source": [
    "def gen_123():\n",
    "    yield 1\n",
    "    yield 2\n",
    "    yield 3\n",
    "    \n",
    "gen_123, gen_123()"
   ]
  },
  {
   "cell_type": "code",
   "execution_count": 330,
   "id": "f5dd92a3",
   "metadata": {},
   "outputs": [
    {
     "name": "stdout",
     "output_type": "stream",
     "text": [
      "1\n",
      "2\n",
      "3\n"
     ]
    }
   ],
   "source": [
    "for i in gen_123():\n",
    "    print(i)"
   ]
  },
  {
   "cell_type": "code",
   "execution_count": 331,
   "id": "69d4ca8c",
   "metadata": {},
   "outputs": [
    {
     "data": {
      "text/plain": [
       "(1, 2, 3)"
      ]
     },
     "execution_count": 331,
     "metadata": {},
     "output_type": "execute_result"
    }
   ],
   "source": [
    "g = gen_123()\n",
    "next(g), next(g), next(g)"
   ]
  },
  {
   "cell_type": "code",
   "execution_count": 332,
   "id": "fef13ba9",
   "metadata": {},
   "outputs": [],
   "source": [
    "#when the generator function returns it raises StopIteration\n",
    "#next(g)"
   ]
  },
  {
   "cell_type": "code",
   "execution_count": 333,
   "id": "4fcb662d",
   "metadata": {},
   "outputs": [],
   "source": [
    "#the most lazy version of Sentence \n",
    "class Sentence:\n",
    "    def __init__(self, text):\n",
    "        self.text = text\n",
    "        \n",
    "    def __repr__(self):\n",
    "        return f'Sentence({reprlib.repr(self.text)})'\n",
    "\n",
    "    def __iter__(self):\n",
    "        for match in RE_WORD.finditer(self.text):\n",
    "            yield match.group()"
   ]
  },
  {
   "cell_type": "code",
   "execution_count": 334,
   "id": "82f7820b",
   "metadata": {},
   "outputs": [],
   "source": [
    "class Sentence:\n",
    "    def __init__(self, text):\n",
    "        self.text = text\n",
    "        \n",
    "    def __repr__(self):\n",
    "        return f'Sentence({reprlib.repr(self.text)})'\n",
    "\n",
    "    def __iter__(self):\n",
    "        return (match.group() for match in RE_WORD.finditer(self.text))"
   ]
  },
  {
   "cell_type": "code",
   "execution_count": 335,
   "id": "80c145e2",
   "metadata": {},
   "outputs": [
    {
     "data": {
      "text/plain": [
       "('1', ['2', '3', 'hallo', 'good', 'bye'])"
      ]
     },
     "execution_count": 335,
     "metadata": {},
     "output_type": "execute_result"
    }
   ],
   "source": [
    "s = Sentence('1 2 3 hallo good bye')\n",
    "it = iter(s)\n",
    "next(it), list(it)"
   ]
  },
  {
   "cell_type": "code",
   "execution_count": 336,
   "id": "13f849d0",
   "metadata": {},
   "outputs": [
    {
     "name": "stdout",
     "output_type": "stream",
     "text": [
      "<re.Match object; span=(0, 1), match='1'>\n",
      "<re.Match object; span=(2, 3), match='2'>\n",
      "<re.Match object; span=(4, 5), match='3'>\n"
     ]
    }
   ],
   "source": [
    "for i in RE_WORD.finditer('1 2 3'):\n",
    "    print(i)"
   ]
  },
  {
   "cell_type": "markdown",
   "id": "23e0e332",
   "metadata": {},
   "source": [
    "# Generators"
   ]
  },
  {
   "cell_type": "code",
   "execution_count": 337,
   "id": "5aa70e59",
   "metadata": {},
   "outputs": [],
   "source": [
    "def gen_AB():\n",
    "    print('start')\n",
    "    yield 'A'\n",
    "    print('continue')\n",
    "    yield 'B'\n",
    "    print('end')"
   ]
  },
  {
   "cell_type": "code",
   "execution_count": 338,
   "id": "2e0ac2c6",
   "metadata": {},
   "outputs": [
    {
     "name": "stdout",
     "output_type": "stream",
     "text": [
      "start\n",
      "continue\n",
      "end\n"
     ]
    }
   ],
   "source": [
    "res1 = [3*x for x in gen_AB()]"
   ]
  },
  {
   "cell_type": "code",
   "execution_count": 339,
   "id": "f5bc15dd",
   "metadata": {},
   "outputs": [
    {
     "data": {
      "text/plain": [
       "['AAA', 'BBB']"
      ]
     },
     "execution_count": 339,
     "metadata": {},
     "output_type": "execute_result"
    }
   ],
   "source": [
    "res1"
   ]
  },
  {
   "cell_type": "code",
   "execution_count": 340,
   "id": "8253daaa",
   "metadata": {},
   "outputs": [
    {
     "data": {
      "text/plain": [
       "<generator object <genexpr> at 0x000001C394B4B5E0>"
      ]
     },
     "execution_count": 340,
     "metadata": {},
     "output_type": "execute_result"
    }
   ],
   "source": [
    "res2 = (3*x for x in gen_AB())\n",
    "res2"
   ]
  },
  {
   "cell_type": "code",
   "execution_count": 341,
   "id": "1ff8b07a",
   "metadata": {},
   "outputs": [
    {
     "name": "stdout",
     "output_type": "stream",
     "text": [
      "start\n",
      "--> AAA\n",
      "continue\n",
      "--> BBB\n",
      "end\n"
     ]
    }
   ],
   "source": [
    "for i in res2:\n",
    "    print('-->', i)"
   ]
  },
  {
   "cell_type": "code",
   "execution_count": 342,
   "id": "8d045101",
   "metadata": {},
   "outputs": [
    {
     "data": {
      "text/plain": [
       "<generator object <genexpr> at 0x000001C394BF5E50>"
      ]
     },
     "execution_count": 342,
     "metadata": {},
     "output_type": "execute_result"
    }
   ],
   "source": [
    "#generator expression\n",
    "(2 * x for x in [1,2,3])"
   ]
  },
  {
   "cell_type": "code",
   "execution_count": 343,
   "id": "3a581e9e",
   "metadata": {},
   "outputs": [
    {
     "data": {
      "text/plain": [
       "6.0"
      ]
     },
     "execution_count": 343,
     "metadata": {},
     "output_type": "execute_result"
    }
   ],
   "source": [
    "type(8.0)(6)"
   ]
  },
  {
   "cell_type": "code",
   "execution_count": 344,
   "id": "ef7a6596",
   "metadata": {},
   "outputs": [],
   "source": [
    "def aritprog_gen(begin, step, end=None):\n",
    "    result = type(begin+step)(begin)\n",
    "    index = 0\n",
    "    while (end is None) or result < end:\n",
    "        yield result\n",
    "        index += 1\n",
    "        result = begin + step * index"
   ]
  },
  {
   "cell_type": "code",
   "execution_count": 345,
   "id": "20ef53da",
   "metadata": {},
   "outputs": [
    {
     "data": {
      "text/plain": [
       "[1.0, 1.2, 1.4, 1.6, 1.8, 2.0, 2.2, 2.4000000000000004, 2.6, 2.8]"
      ]
     },
     "execution_count": 345,
     "metadata": {},
     "output_type": "execute_result"
    }
   ],
   "source": [
    "list(aritprog_gen(1, .2, 3))"
   ]
  },
  {
   "cell_type": "code",
   "execution_count": 346,
   "id": "9fbb765c",
   "metadata": {},
   "outputs": [
    {
     "data": {
      "text/plain": [
       "[Decimal('1'),\n",
       " Decimal('1.2'),\n",
       " Decimal('1.4'),\n",
       " Decimal('1.6'),\n",
       " Decimal('1.8'),\n",
       " Decimal('2.0'),\n",
       " Decimal('2.2'),\n",
       " Decimal('2.4'),\n",
       " Decimal('2.6'),\n",
       " Decimal('2.8')]"
      ]
     },
     "execution_count": 346,
     "metadata": {},
     "output_type": "execute_result"
    }
   ],
   "source": [
    "from decimal import Decimal\n",
    "list(aritprog_gen(1, Decimal('.2'), 3))"
   ]
  },
  {
   "cell_type": "code",
   "execution_count": 347,
   "id": "5a7bbc57",
   "metadata": {},
   "outputs": [
    {
     "data": {
      "text/plain": [
       "[Fraction(1, 1),\n",
       " Fraction(4, 3),\n",
       " Fraction(5, 3),\n",
       " Fraction(2, 1),\n",
       " Fraction(7, 3),\n",
       " Fraction(8, 3)]"
      ]
     },
     "execution_count": 347,
     "metadata": {},
     "output_type": "execute_result"
    }
   ],
   "source": [
    "from fractions import Fraction\n",
    "list(aritprog_gen(1, Fraction(1,3), 3))"
   ]
  },
  {
   "cell_type": "code",
   "execution_count": 348,
   "id": "e0a7aab8",
   "metadata": {},
   "outputs": [],
   "source": [
    "import itertools"
   ]
  },
  {
   "cell_type": "code",
   "execution_count": 349,
   "id": "beedfb51",
   "metadata": {},
   "outputs": [
    {
     "data": {
      "text/plain": [
       "(1, 1.5, 2.0)"
      ]
     },
     "execution_count": 349,
     "metadata": {},
     "output_type": "execute_result"
    }
   ],
   "source": [
    "gen = itertools.count(1, .5) #never stops so don't use list here\n",
    "next(gen), next(gen), next(gen)"
   ]
  },
  {
   "cell_type": "code",
   "execution_count": 350,
   "id": "e0545ee7",
   "metadata": {},
   "outputs": [
    {
     "data": {
      "text/plain": [
       "[1, 1.5, 2.0, 2.5]"
      ]
     },
     "execution_count": 350,
     "metadata": {},
     "output_type": "execute_result"
    }
   ],
   "source": [
    "gen = itertools.takewhile(lambda n: n < 3, itertools.count(1, .5))\n",
    "list(gen)"
   ]
  },
  {
   "cell_type": "code",
   "execution_count": 351,
   "id": "40cef400",
   "metadata": {},
   "outputs": [],
   "source": [
    "def aritprog(begin, step, end=None):\n",
    "    first = type(begin + step)(begin)\n",
    "    ap_gen = itertools.count(first, step)\n",
    "    if end is None:\n",
    "        return ap_gen\n",
    "    return itertools.takewhile(lambda n: n < end, ap_gen)"
   ]
  },
  {
   "cell_type": "code",
   "execution_count": 352,
   "id": "68c90aea",
   "metadata": {},
   "outputs": [
    {
     "data": {
      "text/plain": [
       "[0, 1, 2, 3, 4, 5, 6, 7, 8, 9]"
      ]
     },
     "execution_count": 352,
     "metadata": {},
     "output_type": "execute_result"
    }
   ],
   "source": [
    "list(aritprog(0,1,10))"
   ]
  },
  {
   "cell_type": "markdown",
   "id": "6dfa8f58",
   "metadata": {},
   "source": [
    "## misc itertools generators"
   ]
  },
  {
   "cell_type": "code",
   "execution_count": 353,
   "id": "cb221f89",
   "metadata": {},
   "outputs": [],
   "source": [
    "from itertools import compress, dropwhile, accumulate, starmap, filterfalse, islice, takewhile"
   ]
  },
  {
   "cell_type": "code",
   "execution_count": 354,
   "id": "31aadf86",
   "metadata": {},
   "outputs": [],
   "source": [
    "def vowel(c):\n",
    "    return c.lower() in 'aeiou'"
   ]
  },
  {
   "cell_type": "code",
   "execution_count": 355,
   "id": "811aa793",
   "metadata": {},
   "outputs": [
    {
     "data": {
      "text/plain": [
       "['A', 'a', 'a']"
      ]
     },
     "execution_count": 355,
     "metadata": {},
     "output_type": "execute_result"
    }
   ],
   "source": [
    "list(filter(vowel, 'Aardvark'))"
   ]
  },
  {
   "cell_type": "code",
   "execution_count": 356,
   "id": "9f66859a",
   "metadata": {},
   "outputs": [
    {
     "data": {
      "text/plain": [
       "['r', 'd', 'v', 'r', 'k']"
      ]
     },
     "execution_count": 356,
     "metadata": {},
     "output_type": "execute_result"
    }
   ],
   "source": [
    "list(filterfalse(vowel, 'Aardvark'))"
   ]
  },
  {
   "cell_type": "code",
   "execution_count": 357,
   "id": "04e64c43",
   "metadata": {},
   "outputs": [
    {
     "data": {
      "text/plain": [
       "['r', 'd', 'v', 'a', 'r', 'k']"
      ]
     },
     "execution_count": 357,
     "metadata": {},
     "output_type": "execute_result"
    }
   ],
   "source": [
    "list(dropwhile(vowel, 'Aardvark'))"
   ]
  },
  {
   "cell_type": "code",
   "execution_count": 358,
   "id": "55c8c3f7",
   "metadata": {},
   "outputs": [
    {
     "data": {
      "text/plain": [
       "['A', 'a']"
      ]
     },
     "execution_count": 358,
     "metadata": {},
     "output_type": "execute_result"
    }
   ],
   "source": [
    "list(takewhile(vowel, 'Aardvark'))"
   ]
  },
  {
   "cell_type": "code",
   "execution_count": 359,
   "id": "bbbde927",
   "metadata": {},
   "outputs": [
    {
     "data": {
      "text/plain": [
       "['A', 'r', 'd', 'a']"
      ]
     },
     "execution_count": 359,
     "metadata": {},
     "output_type": "execute_result"
    }
   ],
   "source": [
    "list(compress('Aardvark', (1, 0, 1, 1, 0, 1)))"
   ]
  },
  {
   "cell_type": "code",
   "execution_count": 360,
   "id": "58a89ea9",
   "metadata": {},
   "outputs": [
    {
     "data": {
      "text/plain": [
       "['A', 'a', 'r', 'd']"
      ]
     },
     "execution_count": 360,
     "metadata": {},
     "output_type": "execute_result"
    }
   ],
   "source": [
    "list(islice('Aardvark', 4))"
   ]
  },
  {
   "cell_type": "code",
   "execution_count": 361,
   "id": "e0cf2dc1",
   "metadata": {},
   "outputs": [
    {
     "data": {
      "text/plain": [
       "['v', 'a', 'r']"
      ]
     },
     "execution_count": 361,
     "metadata": {},
     "output_type": "execute_result"
    }
   ],
   "source": [
    "list(islice('Aardvark', 4, 7))"
   ]
  },
  {
   "cell_type": "code",
   "execution_count": 362,
   "id": "4b488ccf",
   "metadata": {},
   "outputs": [
    {
     "data": {
      "text/plain": [
       "['a', 'd', 'a']"
      ]
     },
     "execution_count": 362,
     "metadata": {},
     "output_type": "execute_result"
    }
   ],
   "source": [
    "list(islice('Aardvark', 1, 7, 2))"
   ]
  },
  {
   "cell_type": "code",
   "execution_count": 363,
   "id": "54232b97",
   "metadata": {},
   "outputs": [],
   "source": [
    "sample = [5, 4, 2, 8, 7, 6, 3, 0, 9, 1]"
   ]
  },
  {
   "cell_type": "code",
   "execution_count": 364,
   "id": "ab7c4363",
   "metadata": {},
   "outputs": [
    {
     "data": {
      "text/plain": [
       "[5, 9, 11, 19, 26, 32, 35, 35, 44, 45]"
      ]
     },
     "execution_count": 364,
     "metadata": {},
     "output_type": "execute_result"
    }
   ],
   "source": [
    "list(accumulate(sample))"
   ]
  },
  {
   "cell_type": "code",
   "execution_count": 365,
   "id": "c71ca840",
   "metadata": {},
   "outputs": [
    {
     "data": {
      "text/plain": [
       "[5, 4, 2, 2, 2, 2, 2, 0, 0, 0]"
      ]
     },
     "execution_count": 365,
     "metadata": {},
     "output_type": "execute_result"
    }
   ],
   "source": [
    "list(accumulate(sample, min))"
   ]
  },
  {
   "cell_type": "code",
   "execution_count": 366,
   "id": "54f10846",
   "metadata": {},
   "outputs": [
    {
     "data": {
      "text/plain": [
       "[5, 5, 5, 8, 8, 8, 8, 8, 9, 9]"
      ]
     },
     "execution_count": 366,
     "metadata": {},
     "output_type": "execute_result"
    }
   ],
   "source": [
    "list(accumulate(sample, max))"
   ]
  },
  {
   "cell_type": "code",
   "execution_count": 367,
   "id": "94ddedae",
   "metadata": {},
   "outputs": [
    {
     "data": {
      "text/plain": [
       "[5, 20, 40, 320, 2240, 13440, 40320, 0, 0, 0]"
      ]
     },
     "execution_count": 367,
     "metadata": {},
     "output_type": "execute_result"
    }
   ],
   "source": [
    "import operator\n",
    "list(accumulate(sample, operator.mul))"
   ]
  },
  {
   "cell_type": "code",
   "execution_count": 368,
   "id": "624ff914",
   "metadata": {},
   "outputs": [
    {
     "data": {
      "text/plain": [
       "[1, 2, 6, 24, 120, 720, 5040, 40320, 362880, 3628800]"
      ]
     },
     "execution_count": 368,
     "metadata": {},
     "output_type": "execute_result"
    }
   ],
   "source": [
    "list(accumulate(range(1,11), operator.mul)) #factorial"
   ]
  },
  {
   "cell_type": "code",
   "execution_count": 369,
   "id": "6204bd95",
   "metadata": {},
   "outputs": [
    {
     "data": {
      "text/plain": [
       "['a', 'll', 'bbb', 'aaaa', 'ttttt', 'rrrrrr', 'ooooooo', 'zzzzzzzz']"
      ]
     },
     "execution_count": 369,
     "metadata": {},
     "output_type": "execute_result"
    }
   ],
   "source": [
    "list(starmap(operator.mul, enumerate('albatroz', 1)))"
   ]
  },
  {
   "cell_type": "code",
   "execution_count": 370,
   "id": "4c5eaf97",
   "metadata": {},
   "outputs": [
    {
     "data": {
      "text/plain": [
       "['aaa',\n",
       " 'llll',\n",
       " 'bbbbb',\n",
       " 'aaaaaa',\n",
       " 'ttttttt',\n",
       " 'rrrrrrrr',\n",
       " 'ooooooooo',\n",
       " 'zzzzzzzzzz']"
      ]
     },
     "execution_count": 370,
     "metadata": {},
     "output_type": "execute_result"
    }
   ],
   "source": [
    "list(starmap(operator.mul, enumerate('albatroz', 3)))"
   ]
  },
  {
   "cell_type": "code",
   "execution_count": 371,
   "id": "2d743a8b",
   "metadata": {},
   "outputs": [
    {
     "data": {
      "text/plain": [
       "[5.0,\n",
       " 4.5,\n",
       " 3.6666666666666665,\n",
       " 4.75,\n",
       " 5.2,\n",
       " 5.333333333333333,\n",
       " 5.0,\n",
       " 4.375,\n",
       " 4.888888888888889,\n",
       " 4.5]"
      ]
     },
     "execution_count": 371,
     "metadata": {},
     "output_type": "execute_result"
    }
   ],
   "source": [
    "list(starmap(lambda a, b: b/a, enumerate(accumulate(sample), 1)))"
   ]
  },
  {
   "cell_type": "code",
   "execution_count": 372,
   "id": "daa27f40",
   "metadata": {},
   "outputs": [],
   "source": [
    "from itertools import chain, product, zip_longest"
   ]
  },
  {
   "cell_type": "code",
   "execution_count": 373,
   "id": "3b52a256",
   "metadata": {},
   "outputs": [
    {
     "data": {
      "text/plain": [
       "['A', 'B', 'C', 0, 1, 2]"
      ]
     },
     "execution_count": 373,
     "metadata": {},
     "output_type": "execute_result"
    }
   ],
   "source": [
    "list(chain('ABC', range(3)))"
   ]
  },
  {
   "cell_type": "code",
   "execution_count": 374,
   "id": "95a82367",
   "metadata": {},
   "outputs": [
    {
     "data": {
      "text/plain": [
       "[0, 'A', 1, 'B', 2, 'C']"
      ]
     },
     "execution_count": 374,
     "metadata": {},
     "output_type": "execute_result"
    }
   ],
   "source": [
    "#chain.from_iterable takes each item from the iterable, and chains them in sequence,\n",
    "#as long as each item is itself iterable\n",
    "list(chain.from_iterable(enumerate('ABC')))"
   ]
  },
  {
   "cell_type": "code",
   "execution_count": 375,
   "id": "20ac5026",
   "metadata": {},
   "outputs": [
    {
     "data": {
      "text/plain": [
       "[(0, 'A'), (1, 'B'), (2, 'C')]"
      ]
     },
     "execution_count": 375,
     "metadata": {},
     "output_type": "execute_result"
    }
   ],
   "source": [
    "list(enumerate('ABC'))"
   ]
  },
  {
   "cell_type": "code",
   "execution_count": 376,
   "id": "e0323712",
   "metadata": {},
   "outputs": [
    {
     "data": {
      "text/plain": [
       "[(0, 0), (0, 1), (0, 2), (1, 0), (1, 1), (1, 2), (2, 0), (2, 1), (2, 2)]"
      ]
     },
     "execution_count": 376,
     "metadata": {},
     "output_type": "execute_result"
    }
   ],
   "source": [
    "list(product(range(3), range(3))) #cartesian product"
   ]
  },
  {
   "cell_type": "code",
   "execution_count": 377,
   "id": "d54a986c",
   "metadata": {},
   "outputs": [
    {
     "data": {
      "text/plain": [
       "['spades', 'diamonds', 'hearts', 'clubs']"
      ]
     },
     "execution_count": 377,
     "metadata": {},
     "output_type": "execute_result"
    }
   ],
   "source": [
    "suits = 'spades diamonds hearts clubs'.split()\n",
    "suits"
   ]
  },
  {
   "cell_type": "code",
   "execution_count": 378,
   "id": "655e36c4",
   "metadata": {},
   "outputs": [
    {
     "data": {
      "text/plain": [
       "[('spades', 'A'),\n",
       " ('spades', 'K'),\n",
       " ('diamonds', 'A'),\n",
       " ('diamonds', 'K'),\n",
       " ('hearts', 'A'),\n",
       " ('hearts', 'K'),\n",
       " ('clubs', 'A'),\n",
       " ('clubs', 'K')]"
      ]
     },
     "execution_count": 378,
     "metadata": {},
     "output_type": "execute_result"
    }
   ],
   "source": [
    "list(product(suits, 'AK'))"
   ]
  },
  {
   "cell_type": "code",
   "execution_count": 379,
   "id": "7e178b70",
   "metadata": {},
   "outputs": [
    {
     "data": {
      "text/plain": [
       "[(0, 0), (0, 1), (0, 2), (1, 0), (1, 1), (1, 2), (2, 0), (2, 1), (2, 2)]"
      ]
     },
     "execution_count": 379,
     "metadata": {},
     "output_type": "execute_result"
    }
   ],
   "source": [
    "[(i, j) for i in range(3) for j in range(3)] #also cartesian product"
   ]
  },
  {
   "cell_type": "code",
   "execution_count": 380,
   "id": "12badebc",
   "metadata": {},
   "outputs": [
    {
     "data": {
      "text/plain": [
       "[('A', 0), ('B', 1), ('C', 2), (None, 3), (None, 4)]"
      ]
     },
     "execution_count": 380,
     "metadata": {},
     "output_type": "execute_result"
    }
   ],
   "source": [
    "list(zip_longest('ABC', range(5)))"
   ]
  },
  {
   "cell_type": "code",
   "execution_count": 381,
   "id": "21250e03",
   "metadata": {},
   "outputs": [
    {
     "data": {
      "text/plain": [
       "[('A', 0), ('B', 1), ('C', 2), ('?', 3), ('?', 4)]"
      ]
     },
     "execution_count": 381,
     "metadata": {},
     "output_type": "execute_result"
    }
   ],
   "source": [
    "list(zip_longest('ABC', range(5), fillvalue='?'))"
   ]
  },
  {
   "cell_type": "code",
   "execution_count": 382,
   "id": "58cfdf1f",
   "metadata": {},
   "outputs": [
    {
     "data": {
      "text/plain": [
       "[('A', 'A'),\n",
       " ('A', 'B'),\n",
       " ('A', 'C'),\n",
       " ('B', 'A'),\n",
       " ('B', 'B'),\n",
       " ('B', 'C'),\n",
       " ('C', 'A'),\n",
       " ('C', 'B'),\n",
       " ('C', 'C')]"
      ]
     },
     "execution_count": 382,
     "metadata": {},
     "output_type": "execute_result"
    }
   ],
   "source": [
    "list(product('ABC', repeat=2))"
   ]
  },
  {
   "cell_type": "code",
   "execution_count": 383,
   "id": "44a0f0d6",
   "metadata": {},
   "outputs": [
    {
     "data": {
      "text/plain": [
       "[(0, 0, 0),\n",
       " (0, 0, 1),\n",
       " (0, 1, 0),\n",
       " (0, 1, 1),\n",
       " (1, 0, 0),\n",
       " (1, 0, 1),\n",
       " (1, 1, 0),\n",
       " (1, 1, 1)]"
      ]
     },
     "execution_count": 383,
     "metadata": {},
     "output_type": "execute_result"
    }
   ],
   "source": [
    "list(product(range(2), repeat=3))"
   ]
  },
  {
   "cell_type": "code",
   "execution_count": 384,
   "id": "50ecab7d",
   "metadata": {},
   "outputs": [
    {
     "data": {
      "text/plain": [
       "[('A', 0, 'A', 0),\n",
       " ('A', 0, 'A', 1),\n",
       " ('A', 0, 'B', 0),\n",
       " ('A', 0, 'B', 1),\n",
       " ('A', 1, 'A', 0),\n",
       " ('A', 1, 'A', 1),\n",
       " ('A', 1, 'B', 0),\n",
       " ('A', 1, 'B', 1),\n",
       " ('B', 0, 'A', 0),\n",
       " ('B', 0, 'A', 1),\n",
       " ('B', 0, 'B', 0),\n",
       " ('B', 0, 'B', 1),\n",
       " ('B', 1, 'A', 0),\n",
       " ('B', 1, 'A', 1),\n",
       " ('B', 1, 'B', 0),\n",
       " ('B', 1, 'B', 1)]"
      ]
     },
     "execution_count": 384,
     "metadata": {},
     "output_type": "execute_result"
    }
   ],
   "source": [
    "list(product('AB', range(2), repeat=2))"
   ]
  },
  {
   "cell_type": "code",
   "execution_count": 385,
   "id": "ec0e4912",
   "metadata": {},
   "outputs": [],
   "source": [
    "from itertools import (combinations, \n",
    "                       combinations_with_replacement,\n",
    "                       cycle,\n",
    "                       pairwise,\n",
    "                       permutations,\n",
    "                       repeat)"
   ]
  },
  {
   "cell_type": "code",
   "execution_count": 386,
   "id": "5e470f08",
   "metadata": {},
   "outputs": [],
   "source": [
    "from itertools import cycle as c, pairwise as p"
   ]
  },
  {
   "cell_type": "code",
   "execution_count": 387,
   "id": "3eacdabe",
   "metadata": {},
   "outputs": [
    {
     "data": {
      "text/plain": [
       "['A', 'B', 'C', 'A', 'B', 'C', 'A']"
      ]
     },
     "execution_count": 387,
     "metadata": {},
     "output_type": "execute_result"
    }
   ],
   "source": [
    "cy = cycle('ABC')\n",
    "list(islice(cy, 7))"
   ]
  },
  {
   "cell_type": "code",
   "execution_count": 388,
   "id": "9e1c0349",
   "metadata": {},
   "outputs": [
    {
     "data": {
      "text/plain": [
       "[(0, 1), (1, 2), (2, 3), (3, 4), (4, 5), (5, 6)]"
      ]
     },
     "execution_count": 388,
     "metadata": {},
     "output_type": "execute_result"
    }
   ],
   "source": [
    "list(pairwise(range(7)))"
   ]
  },
  {
   "cell_type": "code",
   "execution_count": 389,
   "id": "37e4a0cd",
   "metadata": {},
   "outputs": [
    {
     "data": {
      "text/plain": [
       "[4, 4, 4, 4, 4]"
      ]
     },
     "execution_count": 389,
     "metadata": {},
     "output_type": "execute_result"
    }
   ],
   "source": [
    "rp = repeat(4, 5)\n",
    "list(rp)"
   ]
  },
  {
   "cell_type": "code",
   "execution_count": 390,
   "id": "b7969e21",
   "metadata": {},
   "outputs": [
    {
     "data": {
      "text/plain": [
       "[0, 5, 10, 15, 20, 25, 30, 35, 40, 45, 50]"
      ]
     },
     "execution_count": 390,
     "metadata": {},
     "output_type": "execute_result"
    }
   ],
   "source": [
    "list(map(operator.mul, range(11), repeat(5)))"
   ]
  },
  {
   "cell_type": "code",
   "execution_count": 391,
   "id": "b35ecb4d",
   "metadata": {},
   "outputs": [
    {
     "data": {
      "text/plain": [
       "[('A', 'B'), ('A', 'C'), ('B', 'C')]"
      ]
     },
     "execution_count": 391,
     "metadata": {},
     "output_type": "execute_result"
    }
   ],
   "source": [
    "list(combinations('ABC', 2))"
   ]
  },
  {
   "cell_type": "code",
   "execution_count": 392,
   "id": "20535cc9",
   "metadata": {},
   "outputs": [
    {
     "data": {
      "text/plain": [
       "[('A', 'A'), ('A', 'B'), ('A', 'C'), ('B', 'B'), ('B', 'C'), ('C', 'C')]"
      ]
     },
     "execution_count": 392,
     "metadata": {},
     "output_type": "execute_result"
    }
   ],
   "source": [
    "list(combinations_with_replacement('ABC', 2))"
   ]
  },
  {
   "cell_type": "code",
   "execution_count": 393,
   "id": "41e0bb3a",
   "metadata": {},
   "outputs": [
    {
     "data": {
      "text/plain": [
       "[('A', 'B'), ('A', 'C'), ('B', 'A'), ('B', 'C'), ('C', 'A'), ('C', 'B')]"
      ]
     },
     "execution_count": 393,
     "metadata": {},
     "output_type": "execute_result"
    }
   ],
   "source": [
    "list(permutations('ABC', 2))"
   ]
  },
  {
   "cell_type": "markdown",
   "id": "0c29320a",
   "metadata": {},
   "source": [
    "-------------"
   ]
  },
  {
   "cell_type": "code",
   "execution_count": 394,
   "id": "8c13ead9",
   "metadata": {},
   "outputs": [],
   "source": [
    "from itertools import groupby, tee"
   ]
  },
  {
   "cell_type": "code",
   "execution_count": 395,
   "id": "c00565bc",
   "metadata": {},
   "outputs": [
    {
     "data": {
      "text/plain": [
       "[('L', <itertools._grouper at 0x1c393d31600>),\n",
       " ('A', <itertools._grouper at 0x1c393d33370>),\n",
       " ('G', <itertools._grouper at 0x1c393d334f0>)]"
      ]
     },
     "execution_count": 395,
     "metadata": {},
     "output_type": "execute_result"
    }
   ],
   "source": [
    "list(groupby('LLLLAAGGG'))"
   ]
  },
  {
   "cell_type": "code",
   "execution_count": 396,
   "id": "b3978e00",
   "metadata": {},
   "outputs": [
    {
     "name": "stdout",
     "output_type": "stream",
     "text": [
      "L ['L', 'L', 'L', 'L']\n",
      "A ['A', 'A']\n",
      "G ['G', 'G', 'G']\n"
     ]
    }
   ],
   "source": [
    "for char, group in groupby('LLLLAAGGG'):\n",
    "    print(char, list(group))"
   ]
  },
  {
   "cell_type": "code",
   "execution_count": 397,
   "id": "b889e85d",
   "metadata": {},
   "outputs": [
    {
     "data": {
      "text/plain": [
       "['rat', 'bat', 'duck', 'bear', 'lion', 'eagle', 'shark', 'giraffe', 'dolphin']"
      ]
     },
     "execution_count": 397,
     "metadata": {},
     "output_type": "execute_result"
    }
   ],
   "source": [
    "animals = ['duck', 'eagle', 'rat', 'giraffe', 'bear', 'bat', 'dolphin', 'shark', 'lion']\n",
    "animals.sort(key=len)\n",
    "animals"
   ]
  },
  {
   "cell_type": "code",
   "execution_count": 398,
   "id": "2a8c03e8",
   "metadata": {},
   "outputs": [
    {
     "name": "stdout",
     "output_type": "stream",
     "text": [
      "3 ['rat', 'bat']\n",
      "4 ['duck', 'bear', 'lion']\n",
      "5 ['eagle', 'shark']\n",
      "7 ['giraffe', 'dolphin']\n"
     ]
    }
   ],
   "source": [
    "for length, group in groupby(animals, len):\n",
    "    print(length, list(group))"
   ]
  },
  {
   "cell_type": "code",
   "execution_count": 399,
   "id": "8654acc5",
   "metadata": {},
   "outputs": [
    {
     "name": "stdout",
     "output_type": "stream",
     "text": [
      "7 ['dolphin', 'giraffe']\n",
      "5 ['shark', 'eagle']\n",
      "4 ['lion', 'bear', 'duck']\n",
      "3 ['bat', 'rat']\n"
     ]
    }
   ],
   "source": [
    "for length, group in groupby(reversed(animals), len):\n",
    "    print(length, list(group))"
   ]
  },
  {
   "cell_type": "code",
   "execution_count": 400,
   "id": "f3a22b27",
   "metadata": {},
   "outputs": [
    {
     "data": {
      "text/plain": [
       "[<itertools._tee at 0x1c393ccb6c0>,\n",
       " <itertools._tee at 0x1c394bddc80>,\n",
       " <itertools._tee at 0x1c394bdd2c0>]"
      ]
     },
     "execution_count": 400,
     "metadata": {},
     "output_type": "execute_result"
    }
   ],
   "source": [
    "list(tee('ABC', 3))"
   ]
  },
  {
   "cell_type": "code",
   "execution_count": 401,
   "id": "268611ae",
   "metadata": {},
   "outputs": [],
   "source": [
    "g1, g2 = tee('ABC')\n",
    "n = next"
   ]
  },
  {
   "cell_type": "code",
   "execution_count": 402,
   "id": "d20960db",
   "metadata": {},
   "outputs": [
    {
     "data": {
      "text/plain": [
       "('A', 'A', 'B', ['B', 'C'], ['C'])"
      ]
     },
     "execution_count": 402,
     "metadata": {},
     "output_type": "execute_result"
    }
   ],
   "source": [
    "n(g1), n(g2), n(g2), list(g1), list(g2)"
   ]
  },
  {
   "cell_type": "code",
   "execution_count": 403,
   "id": "44ffe7d7",
   "metadata": {},
   "outputs": [
    {
     "data": {
      "text/plain": [
       "[('A', 'A'), ('B', 'B'), ('C', 'C')]"
      ]
     },
     "execution_count": 403,
     "metadata": {},
     "output_type": "execute_result"
    }
   ],
   "source": [
    "list(zip(*tee('ABC')))"
   ]
  },
  {
   "cell_type": "code",
   "execution_count": 404,
   "id": "534b89cb",
   "metadata": {},
   "outputs": [
    {
     "data": {
      "text/plain": [
       "(True, 8)"
      ]
     },
     "execution_count": 404,
     "metadata": {},
     "output_type": "execute_result"
    }
   ],
   "source": [
    "g = (n for n in [0, .0, 7, 8]) # generator expression\n",
    "any(g), next(g) #as any iterates over g looking for truthy values it will also change its state"
   ]
  },
  {
   "cell_type": "code",
   "execution_count": 405,
   "id": "4ac1c138",
   "metadata": {},
   "outputs": [],
   "source": [
    "def chain(*iterables):\n",
    "    for it in iterables:\n",
    "        for i in it:\n",
    "            yield i\n",
    "            \n",
    "def chain(*iterables):\n",
    "    for i in iterables:\n",
    "        yield from i"
   ]
  },
  {
   "cell_type": "code",
   "execution_count": 406,
   "id": "ff9df5bf",
   "metadata": {},
   "outputs": [
    {
     "data": {
      "text/plain": [
       "['A', 'B', 'C', 0, 1, 2]"
      ]
     },
     "execution_count": 406,
     "metadata": {},
     "output_type": "execute_result"
    }
   ],
   "source": [
    "sr = 'ABC', range(3)\n",
    "\n",
    "list(chain(*sr))"
   ]
  },
  {
   "cell_type": "code",
   "execution_count": 407,
   "id": "83248dcc",
   "metadata": {},
   "outputs": [
    {
     "data": {
      "text/plain": [
       "[1, 1.1, 1.2, 2]"
      ]
     },
     "execution_count": 407,
     "metadata": {},
     "output_type": "execute_result"
    }
   ],
   "source": [
    "def sub_gen():\n",
    "    yield 1.1\n",
    "    yield 1.2\n",
    "\n",
    "def gen():\n",
    "    yield 1\n",
    "    for i in sub_gen():\n",
    "        yield i\n",
    "    yield 2\n",
    "    \n",
    "    \n",
    "list(gen())"
   ]
  },
  {
   "cell_type": "code",
   "execution_count": 408,
   "id": "24c46f07",
   "metadata": {},
   "outputs": [
    {
     "data": {
      "text/plain": [
       "[1, 1.1, 1.2, 2]"
      ]
     },
     "execution_count": 408,
     "metadata": {},
     "output_type": "execute_result"
    }
   ],
   "source": [
    "#the yield from expression allows a generator to delegate work to a subgenerator\n",
    "\n",
    "def sub_gen():\n",
    "    yield 1.1\n",
    "    yield 1.2\n",
    "\n",
    "def gen():\n",
    "    yield 1\n",
    "    yield from sub_gen()\n",
    "    yield 2\n",
    "\n",
    "list(gen())"
   ]
  },
  {
   "cell_type": "markdown",
   "id": "076a02ab",
   "metadata": {},
   "source": [
    "### Traversing a Tree"
   ]
  },
  {
   "cell_type": "code",
   "execution_count": 409,
   "id": "04e9bb44",
   "metadata": {},
   "outputs": [
    {
     "name": "stdout",
     "output_type": "stream",
     "text": [
      "BaseException\n"
     ]
    }
   ],
   "source": [
    "def tree(cls):\n",
    "    yield cls.__name__\n",
    "    \n",
    "def display(cls):\n",
    "    for cls_name in tree(cls):\n",
    "        print(cls_name)\n",
    "\n",
    "display(BaseException)    "
   ]
  },
  {
   "cell_type": "code",
   "execution_count": 410,
   "id": "18e49646",
   "metadata": {},
   "outputs": [
    {
     "name": "stdout",
     "output_type": "stream",
     "text": [
      "BaseException\n",
      "    BaseExceptionGroup\n",
      "    Exception\n",
      "    GeneratorExit\n",
      "    KeyboardInterrupt\n",
      "    SystemExit\n",
      "    CancelledError\n",
      "    AbortThread\n"
     ]
    }
   ],
   "source": [
    "def tree(cls):\n",
    "    yield cls.__name__, 0\n",
    "    for sub_cls in cls.__subclasses__():\n",
    "        yield sub_cls.__name__, 1\n",
    "        \n",
    "def display(cls):\n",
    "    for cls_name, level in tree(cls):\n",
    "        indent = ' ' * 4 * level\n",
    "        print('{}{}'.format(indent, cls_name))\n",
    "\n",
    "display(BaseException)"
   ]
  },
  {
   "cell_type": "code",
   "execution_count": 411,
   "id": "0ae1ee43",
   "metadata": {},
   "outputs": [],
   "source": [
    "def tree(cls):\n",
    "    yield cls.__name__, 0\n",
    "    yield from sub_tree(cls)\n",
    "    \n",
    "def sub_tree(cls):\n",
    "    for sub_cls in cls.__subclasses__():\n",
    "        yield sub_cls.__name__, 1\n",
    "        for sub_sub_cls in sub_cls.__subclasses__():\n",
    "            yield sub_sub_cls.__name__, 2\n",
    "            \n",
    "def display(cls):\n",
    "    for cls_name, level in tree(cls):\n",
    "        indent = ' ' * 4 * level\n",
    "        print('{}{}'.format(indent, cls_name))\n",
    "        \n",
    "#display(BaseException)"
   ]
  },
  {
   "cell_type": "code",
   "execution_count": 412,
   "id": "e2163e42",
   "metadata": {},
   "outputs": [],
   "source": [
    "def tree(cls):\n",
    "    yield cls.__name__, 0\n",
    "    yield from sub_tree(cls)\n",
    "    \n",
    "def sub_tree(cls):\n",
    "    for sub_cls in cls.__subclasses__():\n",
    "        yield sub_cls.__name__, 1\n",
    "        for sub_sub_cls in sub_cls.__subclasses__():\n",
    "            yield sub_sub_cls.__name__, 2\n",
    "            for sub_sub_sub_cls in sub_sub_cls.__subclasses__():\n",
    "                yield sub_sub_sub_cls.__name__, 3\n",
    "            \n",
    "def display(cls):\n",
    "    for cls_name, level in tree(cls):\n",
    "        indent = ' ' * 4 * level\n",
    "        print('{}{}'.format(indent, cls_name))\n",
    "\n",
    "#display(BaseException)"
   ]
  },
  {
   "cell_type": "code",
   "execution_count": 413,
   "id": "40e833f1",
   "metadata": {},
   "outputs": [],
   "source": [
    "#can traverse trees of any depth\n",
    "\n",
    "def tree(cls):\n",
    "    yield cls.__name__, 0\n",
    "    yield from sub_tree(cls, 1)\n",
    "    \n",
    "def sub_tree(cls, level):\n",
    "    for sub_cls in cls.__subclasses__():\n",
    "        yield sub_cls.__name__, level\n",
    "        yield from sub_tree(sub_cls, level+1)\n",
    "            \n",
    "def display(cls):\n",
    "    for cls_name, level in tree(cls):\n",
    "        indent = ' ' * 4 * level\n",
    "        print('{}{}'.format(indent, cls_name))\n",
    "\n",
    "#display(BaseException)"
   ]
  },
  {
   "cell_type": "code",
   "execution_count": 8,
   "id": "d08a6c11",
   "metadata": {},
   "outputs": [
    {
     "name": "stdout",
     "output_type": "stream",
     "text": [
      "ArithmeticError\n",
      "    FloatingPointError\n",
      "    OverflowError\n",
      "    ZeroDivisionError\n",
      "        DivisionByZero\n",
      "        DivisionUndefined\n",
      "    DecimalException\n",
      "        Clamped\n",
      "        Rounded\n",
      "            Underflow\n",
      "            Overflow\n",
      "        Inexact\n",
      "            Underflow\n",
      "            Overflow\n",
      "        Subnormal\n",
      "            Underflow\n",
      "        DivisionByZero\n",
      "        FloatOperation\n",
      "        InvalidOperation\n",
      "            ConversionSyntax\n",
      "            DivisionImpossible\n",
      "            DivisionUndefined\n",
      "            InvalidContext\n"
     ]
    }
   ],
   "source": [
    "def tree(cls, level=0):\n",
    "    yield cls.__name__, level\n",
    "    for sub_cls in cls.__subclasses__():\n",
    "        yield from tree(sub_cls, level + 1)\n",
    "\n",
    "def display(directory):\n",
    "    for item_name, level in tree(directory):\n",
    "        indent = ' ' * 4 * level\n",
    "        print('{}{}'.format(indent, item_name))\n",
    "        \n",
    "display(ArithmeticError)"
   ]
  },
  {
   "cell_type": "code",
   "execution_count": 9,
   "id": "ec64630b",
   "metadata": {},
   "outputs": [
    {
     "name": "stdout",
     "output_type": "stream",
     "text": [
      "Collection\n",
      "    Set\n",
      "        MutableSet\n",
      "        KeysView\n",
      "            _OrderedDictKeysView\n",
      "        ItemsView\n",
      "            _OrderedDictItemsView\n",
      "    Mapping\n",
      "        MutableMapping\n",
      "            _Environ\n",
      "            ChainMap\n",
      "            UserDict\n",
      "            WeakValueDictionary\n",
      "            WeakKeyDictionary\n",
      "            SignalDict\n",
      "            RawConfigParser\n",
      "                ConfigParser\n",
      "                    SafeConfigParser\n",
      "                    CaseSensitiveConfigParser\n",
      "            SectionProxy\n",
      "            ConverterMapping\n",
      "            PickleShareDB\n",
      "        _SelectorMapping\n",
      "        UsedNamesMapping\n",
      "    ValuesView\n",
      "        _OrderedDictValuesView\n",
      "    Sequence\n",
      "        ByteString\n",
      "        MutableSequence\n",
      "            UserList\n",
      "        UserString\n",
      "        _PathParents\n",
      "        numeric_range\n",
      "        SequenceView\n"
     ]
    }
   ],
   "source": [
    "import collections as c\n",
    "display(c.abc.Collection)"
   ]
  },
  {
   "cell_type": "code",
   "execution_count": 17,
   "id": "0d898495",
   "metadata": {},
   "outputs": [
    {
     "name": "stdout",
     "output_type": "stream",
     "text": [
      "object\n",
      "    type\n"
     ]
    },
    {
     "ename": "TypeError",
     "evalue": "unbound method type.__subclasses__() needs an argument",
     "output_type": "error",
     "traceback": [
      "\u001b[1;31m---------------------------------------------------------------------------\u001b[0m",
      "\u001b[1;31mTypeError\u001b[0m                                 Traceback (most recent call last)",
      "Cell \u001b[1;32mIn[17], line 1\u001b[0m\n\u001b[1;32m----> 1\u001b[0m display(builtins\u001b[38;5;241m.\u001b[39mobject)\n",
      "Cell \u001b[1;32mIn[8], line 7\u001b[0m, in \u001b[0;36mdisplay\u001b[1;34m(directory)\u001b[0m\n\u001b[0;32m      6\u001b[0m \u001b[38;5;28;01mdef\u001b[39;00m \u001b[38;5;21mdisplay\u001b[39m(directory):\n\u001b[1;32m----> 7\u001b[0m     \u001b[38;5;28;01mfor\u001b[39;00m item_name, level \u001b[38;5;129;01min\u001b[39;00m tree(directory):\n\u001b[0;32m      8\u001b[0m         indent \u001b[38;5;241m=\u001b[39m \u001b[38;5;124m'\u001b[39m\u001b[38;5;124m \u001b[39m\u001b[38;5;124m'\u001b[39m \u001b[38;5;241m*\u001b[39m \u001b[38;5;241m4\u001b[39m \u001b[38;5;241m*\u001b[39m level\n\u001b[0;32m      9\u001b[0m         \u001b[38;5;28mprint\u001b[39m(\u001b[38;5;124m'\u001b[39m\u001b[38;5;132;01m{}\u001b[39;00m\u001b[38;5;132;01m{}\u001b[39;00m\u001b[38;5;124m'\u001b[39m\u001b[38;5;241m.\u001b[39mformat(indent, item_name))\n",
      "Cell \u001b[1;32mIn[8], line 4\u001b[0m, in \u001b[0;36mtree\u001b[1;34m(cls, level)\u001b[0m\n\u001b[0;32m      2\u001b[0m \u001b[38;5;28;01myield\u001b[39;00m \u001b[38;5;28mcls\u001b[39m\u001b[38;5;241m.\u001b[39m\u001b[38;5;18m__name__\u001b[39m, level\n\u001b[0;32m      3\u001b[0m \u001b[38;5;28;01mfor\u001b[39;00m sub_cls \u001b[38;5;129;01min\u001b[39;00m \u001b[38;5;28mcls\u001b[39m\u001b[38;5;241m.\u001b[39m__subclasses__():\n\u001b[1;32m----> 4\u001b[0m     \u001b[38;5;28;01myield from\u001b[39;00m tree(sub_cls, level \u001b[38;5;241m+\u001b[39m \u001b[38;5;241m1\u001b[39m)\n",
      "Cell \u001b[1;32mIn[8], line 3\u001b[0m, in \u001b[0;36mtree\u001b[1;34m(cls, level)\u001b[0m\n\u001b[0;32m      1\u001b[0m \u001b[38;5;28;01mdef\u001b[39;00m \u001b[38;5;21mtree\u001b[39m(\u001b[38;5;28mcls\u001b[39m, level\u001b[38;5;241m=\u001b[39m\u001b[38;5;241m0\u001b[39m):\n\u001b[0;32m      2\u001b[0m     \u001b[38;5;28;01myield\u001b[39;00m \u001b[38;5;28mcls\u001b[39m\u001b[38;5;241m.\u001b[39m\u001b[38;5;18m__name__\u001b[39m, level\n\u001b[1;32m----> 3\u001b[0m     \u001b[38;5;28;01mfor\u001b[39;00m sub_cls \u001b[38;5;129;01min\u001b[39;00m \u001b[38;5;28mcls\u001b[39m\u001b[38;5;241m.\u001b[39m__subclasses__():\n\u001b[0;32m      4\u001b[0m         \u001b[38;5;28;01myield from\u001b[39;00m tree(sub_cls, level \u001b[38;5;241m+\u001b[39m \u001b[38;5;241m1\u001b[39m)\n",
      "\u001b[1;31mTypeError\u001b[0m: unbound method type.__subclasses__() needs an argument"
     ]
    }
   ],
   "source": [
    "display(builtins.object)"
   ]
  },
  {
   "cell_type": "code",
   "execution_count": 416,
   "id": "488561e5",
   "metadata": {},
   "outputs": [
    {
     "name": "stdout",
     "output_type": "stream",
     "text": [
      "vanilla_javascript\n",
      "    hallo\n",
      "        regular_expr.js\n",
      "        template.html\n",
      "        vanilla_javascript.js\n",
      "    p5\n",
      "        code.js\n",
      "        code2.js\n",
      "        index.html\n",
      "        p5.js\n"
     ]
    }
   ],
   "source": [
    "import os\n",
    "\n",
    "def tree(directory, level=0):\n",
    "    yield directory, level\n",
    "    if os.path.isdir(directory): \n",
    "        for item in os.listdir(directory):\n",
    "            item_path = os.path.join(directory, item)\n",
    "            yield from tree(item_path, level + 1)\n",
    "\n",
    "def display(directory):\n",
    "    for item_name, level in tree(directory):\n",
    "        indent = ' ' * 4 * level\n",
    "        print('{}{}'.format(indent, os.path.basename(item_name)))\n",
    "\n",
    "        \n",
    "#traverses directory path \n",
    "display(r'C:\\Users\\jensm\\Desktop\\local\\GitHub\\pycharm_projects\\vanilla_javascript')"
   ]
  },
  {
   "cell_type": "code",
   "execution_count": 417,
   "id": "c912017f",
   "metadata": {},
   "outputs": [
    {
     "data": {
      "text/plain": [
       "{'DivisionByZero': None, 'DivisionUndefined': None}"
      ]
     },
     "execution_count": 417,
     "metadata": {},
     "output_type": "execute_result"
    }
   ],
   "source": [
    "def tree_to_dict(cls):\n",
    "    subclasses = cls.__subclasses__()\n",
    "    if not subclasses:\n",
    "        return {cls.__name__: None}\n",
    "    else:\n",
    "        tree_dict = {cls.__name__: {}}\n",
    "        for sub_cls in subclasses:\n",
    "            tree_dict[cls.__name__].update(tree_to_dict(sub_cls))\n",
    "        return tree_dict\n",
    "\n",
    "\n",
    "dict1 = tree_to_dict(BaseException)\n",
    "dict1['BaseException']['Exception']['ArithmeticError']['ZeroDivisionError']"
   ]
  },
  {
   "cell_type": "code",
   "execution_count": 4,
   "id": "45b8cb12",
   "metadata": {},
   "outputs": [],
   "source": [
    "import builtins"
   ]
  },
  {
   "cell_type": "code",
   "execution_count": 22,
   "id": "165c6fbe",
   "metadata": {},
   "outputs": [
    {
     "data": {
      "text/plain": [
       "[type,\n",
       " async_generator,\n",
       " bytearray_iterator,\n",
       " bytearray,\n",
       " bytes_iterator,\n",
       " bytes,\n",
       " builtin_function_or_method,\n",
       " callable_iterator,\n",
       " PyCapsule,\n",
       " cell,\n",
       " classmethod_descriptor,\n",
       " classmethod,\n",
       " code,\n",
       " complex,\n",
       " _contextvars.Token,\n",
       " _contextvars.ContextVar,\n",
       " _contextvars.Context,\n",
       " coroutine,\n",
       " dict_items,\n",
       " dict_itemiterator,\n",
       " dict_keyiterator,\n",
       " dict_valueiterator,\n",
       " dict_keys,\n",
       " mappingproxy,\n",
       " dict_reverseitemiterator,\n",
       " dict_reversekeyiterator,\n",
       " dict_reversevalueiterator,\n",
       " dict_values,\n",
       " dict,\n",
       " ellipsis,\n",
       " enumerate,\n",
       " filter,\n",
       " float,\n",
       " frame,\n",
       " frozenset,\n",
       " function,\n",
       " generator,\n",
       " getset_descriptor,\n",
       " PyHKEY,\n",
       " instancemethod,\n",
       " list_iterator,\n",
       " list_reverseiterator,\n",
       " list,\n",
       " longrange_iterator,\n",
       " int,\n",
       " map,\n",
       " member_descriptor,\n",
       " memoryview,\n",
       " method_descriptor,\n",
       " method,\n",
       " moduledef,\n",
       " module,\n",
       " odict_iterator,\n",
       " pickle.PickleBuffer,\n",
       " property,\n",
       " range_iterator,\n",
       " range,\n",
       " reversed,\n",
       " symtable entry,\n",
       " iterator,\n",
       " set_iterator,\n",
       " set,\n",
       " slice,\n",
       " staticmethod,\n",
       " stderrprinter,\n",
       " super,\n",
       " traceback,\n",
       " tuple_iterator,\n",
       " tuple,\n",
       " str_iterator,\n",
       " str,\n",
       " wrapper_descriptor,\n",
       " zip,\n",
       " types.GenericAlias,\n",
       " anext_awaitable,\n",
       " async_generator_asend,\n",
       " async_generator_athrow,\n",
       " async_generator_wrapped_value,\n",
       " Token.MISSING,\n",
       " coroutine_wrapper,\n",
       " generic_alias_iterator,\n",
       " items,\n",
       " keys,\n",
       " values,\n",
       " hamt_array_node,\n",
       " hamt_bitmap_node,\n",
       " hamt_collision_node,\n",
       " hamt,\n",
       " InterpreterID,\n",
       " managedbuffer,\n",
       " memory_iterator,\n",
       " method-wrapper,\n",
       " types.SimpleNamespace,\n",
       " NoneType,\n",
       " NotImplementedType,\n",
       " str_ascii_iterator,\n",
       " types.UnionType,\n",
       " weakref.CallableProxyType,\n",
       " weakref.ProxyType,\n",
       " weakref.ReferenceType,\n",
       " EncodingMap,\n",
       " fieldnameiterator,\n",
       " formatteriterator,\n",
       " BaseException,\n",
       " _frozen_importlib._ModuleLock,\n",
       " _frozen_importlib._DummyModuleLock,\n",
       " _frozen_importlib._ModuleLockManager,\n",
       " _frozen_importlib.ModuleSpec,\n",
       " _frozen_importlib.BuiltinImporter,\n",
       " _frozen_importlib.FrozenImporter,\n",
       " _frozen_importlib._ImportLockContext,\n",
       " _thread.lock,\n",
       " _thread.RLock,\n",
       " _thread._localdummy,\n",
       " _thread._local,\n",
       " _io._IOBase,\n",
       " _io.IncrementalNewlineDecoder,\n",
       " _io._BytesIOBuffer,\n",
       " nt.ScandirIterator,\n",
       " nt.DirEntry,\n",
       " _frozen_importlib_external.WindowsRegistryFinder,\n",
       " _frozen_importlib_external._LoaderBasics,\n",
       " _frozen_importlib_external.FileLoader,\n",
       " _frozen_importlib_external._NamespacePath,\n",
       " _frozen_importlib_external.NamespaceLoader,\n",
       " _frozen_importlib_external.PathFinder,\n",
       " _frozen_importlib_external.FileFinder,\n",
       " codecs.Codec,\n",
       " codecs.IncrementalEncoder,\n",
       " codecs.IncrementalDecoder,\n",
       " codecs.StreamReaderWriter,\n",
       " codecs.StreamRecoder,\n",
       " _abc._abc_data,\n",
       " abc.ABC,\n",
       " collections.abc.Hashable,\n",
       " collections.abc.Awaitable,\n",
       " collections.abc.AsyncIterable,\n",
       " collections.abc.Iterable,\n",
       " collections.abc.Sized,\n",
       " collections.abc.Container,\n",
       " collections.abc.Callable,\n",
       " _winapi.Overlapped,\n",
       " os._wrap_close,\n",
       " os._AddedDllDirectory,\n",
       " _sitebuiltins.Quitter,\n",
       " _sitebuiltins._Printer,\n",
       " _sitebuiltins._Helper,\n",
       " _distutils_hack._TrivialRe,\n",
       " _distutils_hack.DistutilsMetaFinder,\n",
       " _distutils_hack.shim,\n",
       " types.DynamicClassAttribute,\n",
       " types._GeneratorWrapper,\n",
       " warnings.WarningMessage,\n",
       " warnings.catch_warnings,\n",
       " importlib._abc.Loader,\n",
       " itertools.accumulate,\n",
       " itertools.combinations,\n",
       " itertools.combinations_with_replacement,\n",
       " itertools.cycle,\n",
       " itertools.dropwhile,\n",
       " itertools.takewhile,\n",
       " itertools.islice,\n",
       " itertools.starmap,\n",
       " itertools.chain,\n",
       " itertools.compress,\n",
       " itertools.filterfalse,\n",
       " itertools.count,\n",
       " itertools.zip_longest,\n",
       " itertools.pairwise,\n",
       " itertools.permutations,\n",
       " itertools.product,\n",
       " itertools.repeat,\n",
       " itertools.groupby,\n",
       " itertools._grouper,\n",
       " itertools._tee,\n",
       " itertools._tee_dataobject,\n",
       " operator.attrgetter,\n",
       " operator.itemgetter,\n",
       " operator.methodcaller,\n",
       " reprlib.Repr,\n",
       " collections.deque,\n",
       " _collections._deque_iterator,\n",
       " _collections._deque_reverse_iterator,\n",
       " _collections._tuplegetter,\n",
       " collections._Link,\n",
       " functools.partial,\n",
       " functools._lru_cache_wrapper,\n",
       " functools.KeyWrapper,\n",
       " functools._lru_list_elem,\n",
       " functools.partialmethod,\n",
       " functools.singledispatchmethod,\n",
       " functools.cached_property,\n",
       " contextlib.ContextDecorator,\n",
       " contextlib.AsyncContextDecorator,\n",
       " contextlib._GeneratorContextManagerBase,\n",
       " contextlib._BaseExitStack,\n",
       " runpy._TempModule,\n",
       " runpy._ModifiedArgv0,\n",
       " enum.nonmember,\n",
       " enum.member,\n",
       " enum._auto_null,\n",
       " enum.auto,\n",
       " enum._proto_member,\n",
       " <enum 'Enum'>,\n",
       " enum.verify,\n",
       " re.Pattern,\n",
       " re.Match,\n",
       " _sre.SRE_Scanner,\n",
       " re._parser.State,\n",
       " re._parser.SubPattern,\n",
       " re._parser.Tokenizer,\n",
       " re.Scanner,\n",
       " typing._Final,\n",
       " typing._Immutable,\n",
       " typing._NotIterable,\n",
       " typing.Any,\n",
       " typing._PickleUsingNameMixin,\n",
       " typing._BoundVarianceMixin,\n",
       " typing.Generic,\n",
       " typing._TypingEllipsis,\n",
       " typing.Annotated,\n",
       " typing.NamedTuple,\n",
       " typing.TypedDict,\n",
       " typing.NewType,\n",
       " typing.io,\n",
       " typing.re,\n",
       " _json.Scanner,\n",
       " _json.Encoder,\n",
       " json.decoder.JSONDecoder,\n",
       " json.encoder.JSONEncoder,\n",
       " _weakrefset._IterationGuard,\n",
       " _weakrefset.WeakSet,\n",
       " threading._RLock,\n",
       " threading.Condition,\n",
       " threading.Semaphore,\n",
       " threading.Event,\n",
       " threading.Barrier,\n",
       " threading.Thread,\n",
       " subprocess.STARTUPINFO,\n",
       " subprocess.CompletedProcess,\n",
       " subprocess.Popen,\n",
       " ast.AST,\n",
       " ast.NodeVisitor,\n",
       " dis._Unknown,\n",
       " dis.Bytecode,\n",
       " tokenize.Untokenizer,\n",
       " inspect.BlockFinder,\n",
       " inspect._void,\n",
       " inspect._empty,\n",
       " inspect.Parameter,\n",
       " inspect.BoundArguments,\n",
       " inspect.Signature,\n",
       " traitlets.utils.sentinel.Sentinel,\n",
       " traitlets.traitlets._SimpleTest,\n",
       " traitlets.traitlets.link,\n",
       " traitlets.traitlets.directional_link,\n",
       " traitlets.traitlets.BaseDescriptor,\n",
       " traitlets.traitlets._CallbackWrapper,\n",
       " traitlets.traitlets.HasDescriptors,\n",
       " traitlets.traitlets.ForwardDeclaredMixin,\n",
       " weakref.finalize._Info,\n",
       " weakref.finalize,\n",
       " textwrap.TextWrapper,\n",
       " traceback._Sentinel,\n",
       " traceback.FrameSummary,\n",
       " traceback._ExceptionPrintContext,\n",
       " traceback.TracebackException,\n",
       " string.Template,\n",
       " string.Formatter,\n",
       " logging.LogRecord,\n",
       " logging.PercentStyle,\n",
       " logging.Formatter,\n",
       " logging.BufferingFormatter,\n",
       " logging.Filter,\n",
       " logging.Filterer,\n",
       " logging.PlaceHolder,\n",
       " logging.Manager,\n",
       " logging.LoggerAdapter,\n",
       " concurrent.futures._base._Waiter,\n",
       " concurrent.futures._base._AcquireFutures,\n",
       " concurrent.futures._base.Future,\n",
       " concurrent.futures._base.Executor,\n",
       " selectors.BaseSelector,\n",
       " _socket.socket,\n",
       " _ssl._SSLContext,\n",
       " _ssl._SSLSocket,\n",
       " _ssl.MemoryBIO,\n",
       " _ssl.SSLSession,\n",
       " _ssl.Certificate,\n",
       " _struct.Struct,\n",
       " _struct.unpack_iterator,\n",
       " ssl.SSLObject,\n",
       " asyncio.events.Handle,\n",
       " asyncio.events.AbstractServer,\n",
       " asyncio.events.AbstractEventLoop,\n",
       " asyncio.events.AbstractEventLoopPolicy,\n",
       " _asyncio.FutureIter,\n",
       " TaskStepMethWrapper,\n",
       " _RunningLoopHolder,\n",
       " _asyncio.Future,\n",
       " asyncio.futures.Future,\n",
       " asyncio.protocols.BaseProtocol,\n",
       " asyncio.transports.BaseTransport,\n",
       " asyncio.mixins._LoopBoundMixin,\n",
       " asyncio.locks._ContextManagerMixin,\n",
       " asyncio.trsock.TransportSocket,\n",
       " asyncio.runners.Runner,\n",
       " asyncio.streams.StreamWriter,\n",
       " asyncio.streams.StreamReader,\n",
       " asyncio.subprocess.Process,\n",
       " asyncio.taskgroups.TaskGroup,\n",
       " asyncio.timeouts.Timeout,\n",
       " _overlapped.Overlapped,\n",
       " zlib.Compress,\n",
       " zlib.Decompress,\n",
       " _bz2.BZ2Compressor,\n",
       " _bz2.BZ2Decompressor,\n",
       " _lzma.LZMACompressor,\n",
       " _lzma.LZMADecompressor,\n",
       " _random.Random,\n",
       " _sha512.sha384,\n",
       " _sha512.sha512,\n",
       " tempfile._RandomNameSequence,\n",
       " tempfile._TemporaryFileCloser,\n",
       " tempfile._TemporaryFileWrapper,\n",
       " tempfile.TemporaryDirectory,\n",
       " asyncio.windows_utils.PipeHandle,\n",
       " asyncio.windows_events.PipeServer,\n",
       " asyncio.windows_events.IocpProactor,\n",
       " _queue.SimpleQueue,\n",
       " queue.Queue,\n",
       " queue._PySimpleQueue,\n",
       " platform._Processor,\n",
       " cython_function_or_method,\n",
       " zmq.backend.cython.context.Context,\n",
       " zmq.backend.cython.socket.Socket,\n",
       " zmq.backend.cython.message.MessageTracker,\n",
       " zmq.backend.cython.message.Frame,\n",
       " _pickle.Pdata,\n",
       " _pickle.PicklerMemoProxy,\n",
       " _pickle.UnpicklerMemoProxy,\n",
       " _pickle.Pickler,\n",
       " _pickle.Unpickler,\n",
       " pickle._Framer,\n",
       " pickle._Unframer,\n",
       " pickle._Pickler,\n",
       " pickle._Unpickler,\n",
       " cython_function_or_method,\n",
       " zmq.sugar.attrsettr.AttributeSetter,\n",
       " zmq.sugar.poll.Poller,\n",
       " zmq.sugar.tracker.MessageTracker,\n",
       " zmq.sugar.stopwatch.Stopwatch,\n",
       " zmq._future._Async,\n",
       " zmq._future._NoTimer,\n",
       " zmq.asyncio._AsyncIO,\n",
       " jupyter_client.channelsabc.ChannelABC,\n",
       " _hashlib.HASH,\n",
       " _hashlib.HMAC,\n",
       " _blake2.blake2b,\n",
       " _blake2.blake2s,\n",
       " hmac.HMAC,\n",
       " dataclasses._HAS_DEFAULT_FACTORY_CLASS,\n",
       " dataclasses._MISSING_TYPE,\n",
       " dataclasses._KW_ONLY_TYPE,\n",
       " dataclasses._FIELD_BASE,\n",
       " dataclasses.InitVar,\n",
       " dataclasses.Field,\n",
       " dataclasses._DataclassParams,\n",
       " pprint._safe_key,\n",
       " pprint.PrettyPrinter,\n",
       " datetime.date,\n",
       " datetime.time,\n",
       " datetime.timedelta,\n",
       " datetime.tzinfo,\n",
       " numbers.Number,\n",
       " logging.handlers.QueueListener,\n",
       " ipaddress._IPAddressBase,\n",
       " ipaddress._BaseConstants,\n",
       " ipaddress._BaseV4,\n",
       " ipaddress._IPv4Constants,\n",
       " ipaddress._BaseV6,\n",
       " ipaddress._IPv6Constants,\n",
       " urllib.parse._ResultMixinStr,\n",
       " urllib.parse._ResultMixinBytes,\n",
       " urllib.parse._NetlocResultMixinBase,\n",
       " array.array,\n",
       " array.arrayiterator,\n",
       " tornado.util.GzipDecompressor,\n",
       " tornado.util.Configurable,\n",
       " tornado.util.ArgReplacer,\n",
       " colorama.ansi.AnsiCodes,\n",
       " colorama.ansi.AnsiCursor,\n",
       " CArgObject,\n",
       " _ctypes.CThunkObject,\n",
       " _ctypes._CData,\n",
       " _ctypes.CField,\n",
       " _ctypes.DictRemover,\n",
       " _ctypes.StructParam_Type,\n",
       " ctypes.CDLL,\n",
       " ctypes.LibraryLoader,\n",
       " ctypes._endian._swapped_meta,\n",
       " colorama.winterm.WinColor,\n",
       " colorama.winterm.WinStyle,\n",
       " colorama.winterm.WinTerm,\n",
       " colorama.ansitowin32.StreamWrapper,\n",
       " colorama.ansitowin32.AnsiToWin32,\n",
       " tornado.ioloop._Selectable,\n",
       " tornado.ioloop._Timeout,\n",
       " tornado.ioloop.PeriodicCallback,\n",
       " socketserver.BaseServer,\n",
       " socketserver._NoThreads,\n",
       " socketserver.ThreadingMixIn,\n",
       " socketserver.BaseRequestHandler,\n",
       " logging.config.ConvertingMixin,\n",
       " logging.config.BaseConfigurator,\n",
       " gettext.NullTranslations,\n",
       " argparse._AttributeHolder,\n",
       " argparse.HelpFormatter._Section,\n",
       " argparse.HelpFormatter,\n",
       " argparse.FileType,\n",
       " argparse._ActionsContainer,\n",
       " traitlets.config.loader._Sentinel,\n",
       " traitlets.config.loader.DeferredConfig,\n",
       " traitlets.config.loader.ConfigLoader,\n",
       " tornado.gen.WaitIterator,\n",
       " tornado.gen._NullFuture,\n",
       " tornado.gen.Runner,\n",
       " zmq.eventloop.zmqstream.ZMQStream,\n",
       " jupyter_client.adapter.Adapter,\n",
       " __future__._Feature,\n",
       " calendar._localized_month,\n",
       " calendar._localized_day,\n",
       " calendar.Calendar,\n",
       " calendar.different_locale,\n",
       " six._LazyDescr,\n",
       " six._SixMetaPathImporter,\n",
       " decimal.Decimal,\n",
       " decimal.Context,\n",
       " decimal.SignalDictMixin,\n",
       " decimal.ContextManager,\n",
       " dateutil._common.weekday,\n",
       " dateutil.relativedelta.relativedelta,\n",
       " dateutil.tz.win.tzres,\n",
       " dateutil.tz.tz._ttinfo,\n",
       " dateutil.tz.tz._tzfile,\n",
       " dateutil.tz.tz._tzicalvtzcomp,\n",
       " dateutil.tz.tz.tzical,\n",
       " dateutil.tz.tz.__get_gettz.<locals>.GettzFunc,\n",
       " dateutil.parser._parser._timelex,\n",
       " dateutil.parser._parser._resultbase,\n",
       " dateutil.parser._parser.parserinfo,\n",
       " dateutil.parser._parser.parser,\n",
       " dateutil.parser._parser._tzparser,\n",
       " dateutil.parser.isoparser.isoparser,\n",
       " _strptime.LocaleTime,\n",
       " jupyter_client.session.Message,\n",
       " jupyter_client.channels.ZMQSocketChannel,\n",
       " jupyter_client.clientabc.KernelClientABC,\n",
       " pathlib._Flavour,\n",
       " pathlib._Selector,\n",
       " pathlib._TerminatingSelector,\n",
       " pathlib.PurePath,\n",
       " jupyter_core.utils._TaskRunner,\n",
       " uuid.UUID,\n",
       " jupyter_client.managerabc.KernelManagerABC,\n",
       " zipfile.ZipInfo,\n",
       " zipfile.LZMACompressor,\n",
       " zipfile.LZMADecompressor,\n",
       " zipfile._SharedFile,\n",
       " zipfile._Tellable,\n",
       " zipfile.ZipFile,\n",
       " zipfile.Path,\n",
       " configparser.Interpolation,\n",
       " entrypoints.EntryPoint,\n",
       " entrypoints.Distribution,\n",
       " pkgutil.ImpImporter,\n",
       " pkgutil.ImpLoader,\n",
       " pydoc.Doc,\n",
       " pydoc.Helper,\n",
       " pydoc.ModuleScanner,\n",
       " executing.executing.Source,\n",
       " executing.executing.Executing,\n",
       " executing.executing.NodeFinder,\n",
       " asttokens.line_numbers.LineNumbers,\n",
       " asttokens.util.NodeMethods,\n",
       " asttokens.mark_tokens.MarkTokens,\n",
       " asttokens.asttokens.ASTTokens,\n",
       " pure_eval.utils._C,\n",
       " pure_eval.my_getattr_static._foo,\n",
       " pure_eval.core.Evaluator,\n",
       " stack_data.utils.cached_property,\n",
       " stack_data.core.Options,\n",
       " stack_data.core.LineGap,\n",
       " stack_data.core.Line,\n",
       " stack_data.core.RepeatedFrames,\n",
       " stack_data.core.FrameInfo,\n",
       " stack_data.formatting.Formatter,\n",
       " pygments.util.Future,\n",
       " pygments.formatter.Formatter,\n",
       " pygments.style.Style,\n",
       " pygments.formatters.terminal256.EscapeSequence,\n",
       " IPython.utils.coloransi.TermColors,\n",
       " IPython.utils.coloransi.InputTermColors,\n",
       " IPython.utils.coloransi.NoColors,\n",
       " IPython.utils.coloransi.ColorScheme,\n",
       " cmd.Cmd,\n",
       " bdb.Bdb,\n",
       " bdb.Breakpoint,\n",
       " codeop.Compile,\n",
       " codeop.CommandCompiler,\n",
       " code.InteractiveInterpreter,\n",
       " shlex.shlex,\n",
       " IPython.utils._process_win32.AvoidUNCPath,\n",
       " IPython.core.ultratb.FrameInfo,\n",
       " IPython.core.crashhandler.CrashHandler,\n",
       " IPython.core.magic_arguments.ArgDecorator,\n",
       " IPython.core.display_functions._Sentinel,\n",
       " IPython.core.display_functions.DisplayHandle,\n",
       " mimetypes.MimeTypes,\n",
       " IPython.core.display.DisplayObject,\n",
       " IPython.lib.display.IFrame,\n",
       " IPython.lib.display.FileLink,\n",
       " IPython.lib.pretty._PrettyPrinterBase,\n",
       " IPython.lib.pretty.Printable,\n",
       " IPython.lib.pretty.GroupQueue,\n",
       " IPython.lib.pretty.RawText,\n",
       " IPython.lib.pretty.CallExpression,\n",
       " IPython.lib.pretty.RawStringLiteral,\n",
       " IPython.lib.pretty._ReFlags,\n",
       " pygments.filter.Filter,\n",
       " pygments.lexer.Lexer,\n",
       " pygments.lexer._inherit,\n",
       " pygments.lexer._PseudoMatch,\n",
       " pygments.lexer._This,\n",
       " pygments.lexer.default,\n",
       " pygments.lexer.LexerContext,\n",
       " IPython.core.oinspect.OInfo,\n",
       " IPython.core.inputtransformer2.PromptStripper,\n",
       " IPython.core.inputtransformer2.TokenTransformBase,\n",
       " IPython.core.inputtransformer2.TransformerManager,\n",
       " IPython.core.magic.Bunch,\n",
       " IPython.core.magic.MagicAlias,\n",
       " pickleshare.PickleShareLink,\n",
       " IPython.core.hooks.CommandChainDispatcher,\n",
       " IPython.core.autocall.IPyAutocall,\n",
       " IPython.core.macro.Macro,\n",
       " IPython.core.splitinput.LineInfo,\n",
       " IPython.core.alias.Alias,\n",
       " IPython.core.builtin_trap.__BuiltinUndefined,\n",
       " IPython.core.builtin_trap.__HideBuiltin,\n",
       " IPython.core.displayhook.CapturingDisplayHook,\n",
       " IPython.core.events.EventManager,\n",
       " decorator.FunctionMaker,\n",
       " IPython.utils.sentinel.Sentinel,\n",
       " IPython.core.formatters.FormatterABC,\n",
       " sqlite3.Row,\n",
       " sqlite3.Cursor,\n",
       " sqlite3.Connection,\n",
       " sqlite3.Statement,\n",
       " sqlite3.PrepareProtocol,\n",
       " sqlite3.Blob,\n",
       " IPython.core.history.DummyDB,\n",
       " IPython.core.logger.Logger,\n",
       " IPython.utils.capture.RichOutput,\n",
       " IPython.utils.capture.CapturedIO,\n",
       " IPython.utils.capture.capture_output,\n",
       " IPython.utils.io.Tee,\n",
       " IPython.utils.strdispatch.StrDispatch,\n",
       " IPython.utils.syspathcontext.appended_to_syspath,\n",
       " IPython.utils.syspathcontext.prepended_to_syspath,\n",
       " IPython.core.async_helpers._AsyncIORunner,\n",
       " IPython.core.async_helpers._AsyncIOProxy,\n",
       " IPython.core.interactiveshell.DummyMod,\n",
       " IPython.core.interactiveshell.ExecutionInfo,\n",
       " IPython.core.interactiveshell.ExecutionResult,\n",
       " IPython.core.interactiveshell.InteractiveShellABC,\n",
       " prompt_toolkit.application.current.AppSession,\n",
       " prompt_toolkit.eventloop.async_context_manager._GeneratorContextManagerBase,\n",
       " prompt_toolkit.eventloop.async_generator._Done,\n",
       " prompt_toolkit.eventloop.inputhook.InputHookContext,\n",
       " prompt_toolkit.selection.SelectionState,\n",
       " prompt_toolkit.clipboard.base.ClipboardData,\n",
       " prompt_toolkit.clipboard.base.Clipboard,\n",
       " prompt_toolkit.filters.base.Filter,\n",
       " prompt_toolkit.document._DocumentCache,\n",
       " prompt_toolkit.document.Document,\n",
       " prompt_toolkit.auto_suggest.Suggestion,\n",
       " prompt_toolkit.auto_suggest.AutoSuggest,\n",
       " prompt_toolkit.key_binding.key_bindings.Binding,\n",
       " prompt_toolkit.key_binding.key_bindings.KeyBindingsBase,\n",
       " prompt_toolkit.key_binding.key_processor.KeyPress,\n",
       " prompt_toolkit.key_binding.key_processor.KeyProcessor,\n",
       " prompt_toolkit.key_binding.key_processor.KeyPressEvent,\n",
       " prompt_toolkit.key_binding.vi_state.CharacterFind,\n",
       " prompt_toolkit.key_binding.vi_state.ViState,\n",
       " prompt_toolkit.styles.base.BaseStyle,\n",
       " prompt_toolkit.styles.style_transformation.StyleTransformation,\n",
       " prompt_toolkit.output.base.Output,\n",
       " prompt_toolkit.output.vt100._16ColorCache,\n",
       " prompt_toolkit.mouse_events.MouseEvent,\n",
       " prompt_toolkit.formatted_text.base.Template,\n",
       " prompt_toolkit.formatted_text.ansi.ANSI,\n",
       " xml.dom.Node,\n",
       " xml.dom.UserDataHandler,\n",
       " xml.dom.NodeFilter.NodeFilter,\n",
       " xml.dom.xmlbuilder.Options,\n",
       " xml.dom.xmlbuilder.DOMBuilder,\n",
       " xml.dom.xmlbuilder.DOMEntityResolver,\n",
       " xml.dom.xmlbuilder.DOMInputSource,\n",
       " xml.dom.xmlbuilder.DOMBuilderFilter,\n",
       " xml.dom.xmlbuilder.DocumentLS,\n",
       " xml.dom.xmlbuilder.DOMImplementationLS,\n",
       " xml.dom.minidom.NamedNodeMap,\n",
       " xml.dom.minidom.TypeInfo,\n",
       " xml.dom.minidom.Childless,\n",
       " xml.dom.minidom.ReadOnlySequentialNamedNodeMap,\n",
       " xml.dom.minidom.Identified,\n",
       " xml.dom.minidom.ElementInfo,\n",
       " prompt_toolkit.formatted_text.html.HTML,\n",
       " prompt_toolkit.formatted_text.pygments.PygmentsTokens,\n",
       " prompt_toolkit.completion.base.Completion,\n",
       " prompt_toolkit.completion.base.CompleteEvent,\n",
       " prompt_toolkit.completion.base.Completer,\n",
       " prompt_toolkit.history.History,\n",
       " prompt_toolkit.search.SearchState,\n",
       " prompt_toolkit.validation.Validator,\n",
       " prompt_toolkit.buffer.CompletionState,\n",
       " prompt_toolkit.buffer.YankNthArgState,\n",
       " prompt_toolkit.buffer.Buffer,\n",
       " prompt_toolkit.input.base.Input,\n",
       " prompt_toolkit.lexers.base.Lexer,\n",
       " prompt_toolkit.lexers.pygments.SyntaxSync,\n",
       " prompt_toolkit.layout.processors.Processor,\n",
       " prompt_toolkit.layout.processors.TransformationInput,\n",
       " prompt_toolkit.layout.processors.Transformation,\n",
       " prompt_toolkit.layout.controls.UIControl,\n",
       " prompt_toolkit.layout.controls.UIContent,\n",
       " prompt_toolkit.layout.dimension.Dimension,\n",
       " prompt_toolkit.layout.margins.Margin,\n",
       " prompt_toolkit.layout.mouse_handlers.MouseHandlers,\n",
       " prompt_toolkit.layout.screen.Char,\n",
       " prompt_toolkit.layout.screen.Screen,\n",
       " prompt_toolkit.layout.screen.WritePosition,\n",
       " prompt_toolkit.layout.containers.Container,\n",
       " prompt_toolkit.layout.containers.Float,\n",
       " prompt_toolkit.layout.containers.WindowRenderInfo,\n",
       " prompt_toolkit.layout.containers.ScrollOffsets,\n",
       " prompt_toolkit.layout.containers.ColorColumn,\n",
       " prompt_toolkit.layout.layout.Layout,\n",
       " prompt_toolkit.input.vt100_parser._Flush,\n",
       " prompt_toolkit.input.vt100_parser.Vt100Parser,\n",
       " prompt_toolkit.key_binding.bindings.vi.TextObject,\n",
       " prompt_toolkit.key_binding.emacs_state.EmacsState,\n",
       " prompt_toolkit.renderer.Renderer,\n",
       " prompt_toolkit.widgets.toolbars.SystemToolbar,\n",
       " prompt_toolkit.widgets.toolbars.ArgToolbar,\n",
       " prompt_toolkit.widgets.toolbars.SearchToolbar,\n",
       " prompt_toolkit.widgets.toolbars.CompletionsToolbar,\n",
       " prompt_toolkit.widgets.toolbars.ValidationToolbar,\n",
       " prompt_toolkit.widgets.base.Border,\n",
       " prompt_toolkit.widgets.base.TextArea,\n",
       " prompt_toolkit.widgets.base.Label,\n",
       " prompt_toolkit.widgets.base.Button,\n",
       " prompt_toolkit.widgets.base.Frame,\n",
       " prompt_toolkit.widgets.base.Shadow,\n",
       " prompt_toolkit.widgets.base.Box,\n",
       " prompt_toolkit.widgets.base.VerticalLine,\n",
       " prompt_toolkit.widgets.base.HorizontalLine,\n",
       " prompt_toolkit.widgets.base.ProgressBar,\n",
       " prompt_toolkit.widgets.dialogs.Dialog,\n",
       " prompt_toolkit.widgets.menus.MenuContainer,\n",
       " prompt_toolkit.widgets.menus.MenuItem,\n",
       " prompt_toolkit.shortcuts.progress_bar.formatters.Formatter,\n",
       " prompt_toolkit.shortcuts.progress_bar.base.ProgressBar,\n",
       " prompt_toolkit.patch_stdout._Done,\n",
       " prompt_toolkit.patch_stdout.StdoutProxy,\n",
       " unicodedata.UCD,\n",
       " IPython.core.guarded_eval.HasGetItem,\n",
       " IPython.core.guarded_eval.InstancesHaveGetItem,\n",
       " IPython.core.guarded_eval.HasGetAttr,\n",
       " IPython.core.guarded_eval.DoesNotHaveGetAttr,\n",
       " IPython.core.guarded_eval.EvaluationPolicy,\n",
       " IPython.core.guarded_eval._IdentitySubscript,\n",
       " parso.tree.NodeOrLeaf,\n",
       " parso.python.token.TokenType,\n",
       " parso.python.tokenize.FStringNode,\n",
       " parso.pgen2.grammar_parser.NFAArc,\n",
       " parso.pgen2.grammar_parser.NFAState,\n",
       " parso.pgen2.grammar_parser.GrammarParser,\n",
       " parso.pgen2.generator.DFAPlan,\n",
       " parso.pgen2.generator.ReservedString,\n",
       " parso.parser.StackNode,\n",
       " parso.parser.BaseParser,\n",
       " difflib.SequenceMatcher,\n",
       " difflib.Differ,\n",
       " difflib.HtmlDiff,\n",
       " parso.python.prefix.PrefixPart,\n",
       " parso.python.tree.DocstringMixin,\n",
       " parso.python.tree.PythonMixin,\n",
       " parso.python.tree._StringComparisonMixin,\n",
       " parso.python.diff.DiffParser,\n",
       " parso.python.diff._NodesTreeNode,\n",
       " parso.python.diff._NodesTree,\n",
       " parso.cache._NodeCacheItem,\n",
       " parso.normalizer.Normalizer,\n",
       " parso.normalizer.NormalizerConfig,\n",
       " parso.normalizer.Issue,\n",
       " parso.normalizer.Rule,\n",
       " parso.python.errors._Context,\n",
       " parso.python.pep8.IndentationTypes,\n",
       " parso.python.pep8.IndentationNode,\n",
       " parso.file_io.FileIO,\n",
       " jedi.debug.Fore,\n",
       " jedi.file_io.AbstractFolderIO,\n",
       " jedi.file_io.FileIOFolderMixin,\n",
       " jedi.inference.utils.PushBackIterator,\n",
       " jedi.inference.base_value.HelperValueMixin,\n",
       " jedi.inference.base_value.ContextualizedNode,\n",
       " jedi.inference.base_value.ValueSet,\n",
       " jedi.inference.recursion.RecursionDetector,\n",
       " jedi.inference.recursion.ExecutionRecursionDetector,\n",
       " jedi.inference.flow_analysis.Status,\n",
       " jedi.inference.lazy_value.AbstractLazyValue,\n",
       " jedi.plugins._PluginManager,\n",
       " jedi.inference.names.AbstractNameDefinition,\n",
       " jedi.inference.names.ValueNameMixin,\n",
       " jedi.inference.names._ParamMixin,\n",
       " jedi.inference.names.NameWrapper,\n",
       " jedi.inference.names.StubNameMixin,\n",
       " jedi.inference.filters.AbstractFilter,\n",
       " jedi.inference.filters.FilterWrapper,\n",
       " jedi.inference.filters.MergedFilter,\n",
       " jedi.inference.filters._AttributeOverwriteMixin,\n",
       " jedi.inference.compiled.access.AccessPath,\n",
       " jedi.inference.compiled.access.DirectObjectAccess,\n",
       " jedi.inference.signature._SignatureMixin,\n",
       " jedi.inference.context.AbstractContext,\n",
       " jedi.inference.context.TreeContextMixin,\n",
       " jedi.inference.compiled.value.CheckAttribute,\n",
       " jedi.inference.analysis.Error,\n",
       " jedi.inference.value.module.SubModuleDictMixin,\n",
       " jedi.inference.value.iterable.IterableMixin,\n",
       " jedi.inference.value.iterable.ComprehensionMixin,\n",
       " jedi.inference.value.iterable._DictMixin,\n",
       " jedi.inference.value.iterable._DictKeyMixin,\n",
       " jedi.inference.arguments._AbstractArgumentsMixin,\n",
       " jedi.inference.gradual.generics._AbstractGenericManager,\n",
       " jedi.inference.value.function.FunctionMixin,\n",
       " jedi.inference.value.klass.ClassMixin,\n",
       " jedi.inference.gradual.base._TypeVarFilter,\n",
       " jedi.inference.gradual.base._LazyGenericBaseClass,\n",
       " jedi.inference.compiled.subprocess.functions.ImplicitNSInfo,\n",
       " jedi.inference.compiled.subprocess._InferenceStateProcess,\n",
       " jedi.inference.compiled.subprocess.CompiledSubprocess,\n",
       " jedi.inference.compiled.subprocess.Listener,\n",
       " jedi.inference.compiled.subprocess.AccessHandle,\n",
       " jedi.inference.imports.ModuleCache,\n",
       " jedi.inference.imports.Importer,\n",
       " jedi.inference.InferenceState,\n",
       " jedi.api.helpers.CallDetails,\n",
       " jedi.api.classes.BaseName,\n",
       " jedi.api.interpreter.NamespaceObject,\n",
       " jedi.api.completion.Completion,\n",
       " filecmp.dircmp,\n",
       " jedi.api.environment._BaseEnvironment,\n",
       " jedi.api.environment._SameEnvironmentMixin,\n",
       " jedi.api.project.Project,\n",
       " jedi.api.errors.SyntaxError,\n",
       " jedi.api.refactoring.ChangedFile,\n",
       " jedi.api.refactoring.Refactoring,\n",
       " jedi.api.Script,\n",
       " IPython.core.completer._FakeJediCompletion,\n",
       " IPython.core.completer.Completion,\n",
       " IPython.core.completer.SimpleCompletion,\n",
       " IPython.core.completer.CompletionContext,\n",
       " IPython.core.completer._MatcherAPIv1Base,\n",
       " IPython.core.completer._MatcherAPIv1Total,\n",
       " IPython.core.completer.MatcherAPIv2,\n",
       " IPython.core.completer.CompletionSplitter,\n",
       " IPython.terminal.shortcuts.BaseBinding,\n",
       " concurrent.futures.thread._WorkItem,\n",
       " IPython.terminal.prompts.Prompts,\n",
       " IPython.core.magics.basic.MagicsDisplay,\n",
       " email.charset.Charset,\n",
       " email.header.Header,\n",
       " email.header._ValueFormatter,\n",
       " email._parseaddr.AddrlistClass,\n",
       " email._policybase._PolicyBase,\n",
       " email.feedparser.BufferedSubFile,\n",
       " email.feedparser.FeedParser,\n",
       " email.parser.Parser,\n",
       " email.parser.BytesParser,\n",
       " email.message.Message,\n",
       " http.client.HTTPConnection,\n",
       " urllib.request.Request,\n",
       " urllib.request.OpenerDirector,\n",
       " urllib.request.BaseHandler,\n",
       " urllib.request.HTTPPasswordMgr,\n",
       " urllib.request.AbstractBasicAuthHandler,\n",
       " urllib.request.AbstractDigestAuthHandler,\n",
       " urllib.request.URLopener,\n",
       " urllib.request.ftpwrapper,\n",
       " IPython.utils.contexts.preserve_keys,\n",
       " _lsprof.Profiler,\n",
       " profile._Utils,\n",
       " profile.Profile.fake_code,\n",
       " profile.Profile.fake_frame,\n",
       " profile.Profile,\n",
       " pstats.FunctionProfile,\n",
       " pstats.StatsProfile,\n",
       " pstats.Stats,\n",
       " pstats.TupleComp,\n",
       " timeit.Timer,\n",
       " IPython.core.magics.execution.TimeitResult,\n",
       " IPython.terminal.embed._Sentinel,\n",
       " ipykernel.iostream.IOPubThread,\n",
       " ipykernel.iostream.BackgroundSocket,\n",
       " comm.base_comm.BaseComm,\n",
       " comm.base_comm.CommManager,\n",
       " psutil._common._WrapNumbers,\n",
       " psutil._pswindows.WindowsService,\n",
       " psutil._pswindows.Process,\n",
       " psutil.Process,\n",
       " tornado.locks._TimeoutGarbageCollector,\n",
       " tornado.locks.Event,\n",
       " tornado.locks._ReleasingContextManager,\n",
       " tornado.locks.Lock,\n",
       " _pydevd_bundle.pydevd_constants.DebugInfoHolder,\n",
       " _pydevd_bundle.pydevd_vm_type.PydevdVmType,\n",
       " _pydev_bundle._pydev_saved_modules.VerifyShadowedImport,\n",
       " pyexpat.xmlparser,\n",
       " gzip._PaddedFile,\n",
       " xmlrpc.client.DateTime,\n",
       " xmlrpc.client.Binary,\n",
       " xmlrpc.client.ExpatParser,\n",
       " xmlrpc.client.Marshaller,\n",
       " xmlrpc.client.Unmarshaller,\n",
       " xmlrpc.client._MultiCallMethod,\n",
       " xmlrpc.client.MultiCallIterator,\n",
       " xmlrpc.client.MultiCall,\n",
       " xmlrpc.client._Method,\n",
       " xmlrpc.client.Transport,\n",
       " xmlrpc.client.ServerProxy,\n",
       " xmlrpc.server.SimpleXMLRPCDispatcher,\n",
       " xmlrpc.server.XMLRPCDocGenerator,\n",
       " _pydevd_bundle.pydevd_constants.ForkSafeLock,\n",
       " _pydevd_bundle.pydevd_constants.Null,\n",
       " _pydevd_bundle.pydevd_constants.KeyifyList,\n",
       " _pydevd_bundle.pydevd_constants._GlobalSettings,\n",
       " _pydevd_bundle.pydevd_constants.GlobalDebuggerHolder,\n",
       " plistlib.UID,\n",
       " plistlib._PlistParser,\n",
       " plistlib._DumbXMLWriter,\n",
       " plistlib._BinaryPlistParser,\n",
       " plistlib._BinaryPlistWriter,\n",
       " pkg_resources.extern.VendorImporter,\n",
       " importlib.resources.abc.ResourceReader,\n",
       " importlib.resources._adapters.SpecLoaderAdapter,\n",
       " importlib.resources._adapters.TraversableResourcesLoader,\n",
       " importlib.resources._adapters.CompatibilityFiles,\n",
       " pkg_resources._vendor.more_itertools.more.peekable,\n",
       " pkg_resources._vendor.more_itertools.more.bucket,\n",
       " pkg_resources._vendor.more_itertools.more.islice_extended,\n",
       " pkg_resources._vendor.more_itertools.more.seekable,\n",
       " pkg_resources._vendor.more_itertools.more.run_length,\n",
       " pkg_resources._vendor.more_itertools.more.time_limited,\n",
       " pkg_resources._vendor.more_itertools.more._IChunk,\n",
       " pkg_resources._vendor.more_itertools.more.callback_iter,\n",
       " pkg_resources._vendor.more_itertools.more.countable,\n",
       " pkg_resources.extern.jaraco.functools.Throttler,\n",
       " pkg_resources.extern.jaraco.context.ExceptionTrap,\n",
       " pkg_resources.extern.jaraco.text.Splitter,\n",
       " pkg_resources.extern.jaraco.text.Stripper,\n",
       " pkg_resources.extern.packaging._structures.InfinityType,\n",
       " pkg_resources.extern.packaging._structures.NegativeInfinityType,\n",
       " pkg_resources.extern.packaging.version._BaseVersion,\n",
       " pkg_resources._vendor.packaging._elffile.ELFFile,\n",
       " pkg_resources.extern.packaging.tags.Tag,\n",
       " pkg_resources.extern.packaging.specifiers.BaseSpecifier,\n",
       " pkg_resources.extern.packaging._tokenizer.Token,\n",
       " pkg_resources.extern.packaging._tokenizer.Tokenizer,\n",
       " pkg_resources.extern.packaging._parser.Node,\n",
       " pkg_resources.extern.packaging.markers.Marker,\n",
       " pkg_resources.extern.packaging.requirements.Requirement,\n",
       " pkg_resources.IMetadataProvider,\n",
       " pkg_resources.WorkingSet,\n",
       " pkg_resources.Environment,\n",
       " pkg_resources.ResourceManager,\n",
       " pkg_resources.NullProvider,\n",
       " pkg_resources.NoDists,\n",
       " pkg_resources.EntryPoint,\n",
       " pkg_resources.Distribution,\n",
       " _pydev_bundle.pydev_log._LoggingGlobals,\n",
       " _pydevd_bundle.pydevd_extension_utils.ExtensionManager,\n",
       " _pydevd_bundle.pydevd_frame_utils.Frame,\n",
       " _pydevd_bundle.pydevd_frame_utils.FCode,\n",
       " _pydevd_bundle.pydevd_frame_utils._LineColInfo,\n",
       " _pydevd_bundle.pydevd_frame_utils.FramesList,\n",
       " _pydevd_bundle.pydevd_frame_utils._DummyFrameWrapper,\n",
       " _pydevd_bundle.pydevd_filtering.FilesFiltering,\n",
       " _pydevd_bundle.pydevd_io.IORedirector,\n",
       " _pydevd_bundle.pydevd_io.RedirectToPyDBIoMessages,\n",
       " _pydevd_bundle.pydevd_io.IOBuf,\n",
       " _pydevd_bundle.pydevd_io._RedirectInfo,\n",
       " _pydevd_bundle.pydevd_io._RedirectionsHolder,\n",
       " _pydevd_bundle.pydevd_defaults.PydevdCustomization,\n",
       " _pydevd_bundle.pydevd_utils.ScopeRequest,\n",
       " _pydevd_bundle.pydevd_utils.DAPGrouper,\n",
       " _pydevd_bundle.pydevd_utils.Timer,\n",
       " _pydevd_bundle.pydevd_runpy._TempModule,\n",
       " _pydevd_bundle.pydevd_runpy._ModifiedArgv0,\n",
       " _pydevd_bundle.pydevd_safe_repr.SafeRepr,\n",
       " _pydevd_bundle.pydevd_resolver.DefaultResolver,\n",
       " _pydevd_bundle.pydevd_resolver.DAPGrouperResolver,\n",
       " _pydevd_bundle.pydevd_resolver.DictResolver,\n",
       " _pydevd_bundle.pydevd_resolver.MoreItemsRange,\n",
       " _pydevd_bundle.pydevd_resolver.MoreItems,\n",
       " _pydevd_bundle.pydevd_resolver.ForwardInternalResolverToObject,\n",
       " _pydevd_bundle.pydevd_resolver.TupleResolver,\n",
       " _pydevd_bundle.pydevd_resolver.SetResolver,\n",
       " _pydevd_bundle.pydevd_resolver.InstanceResolver,\n",
       " _pydevd_bundle.pydevd_resolver.JyArrayResolver,\n",
       " _pydevd_bundle.pydevd_resolver.FrameResolver,\n",
       " _pydevd_bundle.pydevd_resolver.InspectStub,\n",
       " _pydevd_bundle.pydevd_extension_api._AbstractResolver,\n",
       " _pydevd_bundle.pydevd_extension_api._AbstractProvider,\n",
       " _pydevd_bundle.pydevd_extension_api.DebuggerEventHandler,\n",
       " _pydevd_bundle.pydevd_xml.ExceptionOnEvaluate,\n",
       " _pydevd_bundle.pydevd_xml.TypeResolveHandler,\n",
       " _pydevd_bundle.pydevd_cython.PyDBAdditionalThreadInfo,\n",
       " _pydevd_bundle.pydevd_cython._TryExceptContainerObj,\n",
       " _pydevd_bundle.pydevd_cython.PyDBFrame,\n",
       " _pydevd_bundle.pydevd_cython.SafeCallWrapper,\n",
       " _pydevd_bundle.pydevd_cython.TopLevelThreadTracerOnlyUnhandledExceptions,\n",
       " _pydevd_bundle.pydevd_cython.TopLevelThreadTracerNoBackFrame,\n",
       " _pydevd_bundle.pydevd_cython.ThreadTracer,\n",
       " _pydevd_frame_eval.vendored.bytecode.instr.SetLineno,\n",
       " _pydevd_frame_eval.vendored.bytecode.instr.Label,\n",
       " _pydevd_frame_eval.vendored.bytecode.instr._Variable,\n",
       " _pydevd_frame_eval.vendored.bytecode.instr.Instr,\n",
       " _pydevd_frame_eval.vendored.bytecode.bytecode.BaseBytecode,\n",
       " _pydevd_frame_eval.vendored.bytecode.concrete._ConvertBytecodeToConcrete,\n",
       " _pydevd_bundle.pydevd_bytecode_utils.Target,\n",
       " _pydevd_bundle.pydevd_bytecode_utils._TargetIdHashable,\n",
       " _pydevd_bundle.pydevd_bytecode_utils._StackInterpreter,\n",
       " _pydevd_bundle.pydevd_bytecode_utils.Variant,\n",
       " _pydev_bundle.pydev_monkey._NewThreadStartupWithTrace,\n",
       " _pydev_bundle.pydev_monkey._NewThreadStartupWithoutTrace,\n",
       " pydevd_tracing.TracingFunctionHolder,\n",
       " _pydevd_bundle.pydevd_collect_bytecode_info.TryExceptInfo,\n",
       " _pydevd_bundle.pydevd_collect_bytecode_info.ReturnInfo,\n",
       " _pydevd_bundle.pydevd_collect_bytecode_info._MsgPart,\n",
       " _pydevd_bundle.pydevd_collect_bytecode_info._Disassembler,\n",
       " _pydevd_bundle.pydevd_timeout._OnTimeoutHandle,\n",
       " _pydevd_bundle.pydevd_timeout.TimeoutTracker,\n",
       " _pydev_bundle.pydev_console_utils.BaseStdIn,\n",
       " _pydev_bundle.pydev_console_utils.CodeFragment,\n",
       " _pydev_bundle.pydev_console_utils.BaseInterpreterInterface,\n",
       " _pydev_bundle.pydev_console_utils.FakeFrame,\n",
       " _pydevd_bundle.pydevd_breakpoints.ExceptionBreakpoint,\n",
       " _pydevd_bundle.pydevd_breakpoints.LineBreakpoint,\n",
       " _pydevd_bundle.pydevd_breakpoints.FunctionBreakpoint,\n",
       " _pydevd_bundle.pydevd_custom_frames.CustomFramesContainer,\n",
       " _pydevd_bundle.pydevd_custom_frames.CustomFrame,\n",
       " _pydevd_bundle.pydevd_net_command._BaseNetCommand,\n",
       " _pydevd_bundle.pydevconsole_code.Compile,\n",
       " _pydevd_bundle.pydevconsole_code.CommandCompiler,\n",
       " _pydevd_bundle.pydevconsole_code.InteractiveInterpreter,\n",
       " pydevconsole.Command,\n",
       " _pydev_bundle.pydev_umd.UserModuleDeleter,\n",
       " pydevconsole._ProcessExecQueueHelper,\n",
       " _pydev_bundle._pydev_completer._StartsWithFilter,\n",
       " _pydev_bundle._pydev_completer.Completer,\n",
       " _pydevd_bundle.pydevd_net_command_factory_xml.NetCommandFactory,\n",
       " _pydevd_bundle.pydevd_frame._TryExceptContainerObj,\n",
       " _pydevd_bundle.pydevd_frame.PyDBFrame,\n",
       " _pydevd_bundle.pydevd_additional_thread_info_regular.PyDBAdditionalThreadInfo,\n",
       " _pydevd_bundle.pydevd_source_mapping.SourceMappingEntry,\n",
       " _pydevd_bundle.pydevd_source_mapping.SourceMapping,\n",
       " _pydevd_bundle.pydevd_concurrency_analyser.pydevd_thread_wrappers.ObjectWrapper,\n",
       " _pydevd_bundle.pydevd_concurrency_analyser.pydevd_concurrency_logger.ThreadingLogger,\n",
       " _pydevd_bundle.pydevd_concurrency_analyser.pydevd_concurrency_logger.NameManager,\n",
       " _pydevd_bundle.pydevd_concurrency_analyser.pydevd_concurrency_logger.AsyncioLogger,\n",
       " _pydevd_bundle._debug_adapter.pydevd_base_schema.BaseSchema,\n",
       " _pydevd_bundle.pydevd_reload.Reload,\n",
       " _pydev_bundle.fsnotify._SingleVisitInfo,\n",
       " _pydev_bundle.fsnotify._PathWatcher,\n",
       " _pydev_bundle.fsnotify.Watcher,\n",
       " _pydevd_bundle.pydevd_console.ConsoleMessage,\n",
       " _pydevd_bundle.pydevd_console.InteractiveConsoleCache,\n",
       " _pydevd_bundle.pydevd_comm.InternalThreadCommand,\n",
       " _pydevd_bundle.pydevd_net_command_factory_json.ModulesManager,\n",
       " _pydevd_bundle.pydevd_api.PyDevdAPI.VariablePresentation,\n",
       " _pydevd_bundle.pydevd_api.PyDevdAPI._DummyFrame._DummyCode,\n",
       " _pydevd_bundle.pydevd_api.PyDevdAPI._DummyFrame,\n",
       " _pydevd_bundle.pydevd_api.PyDevdAPI._AddBreakpointResult,\n",
       " _pydevd_bundle.pydevd_api.PyDevdAPI,\n",
       " _pydevd_bundle.pydevd_json_debug_options.DebugOptions,\n",
       " _pydevd_bundle.pydevd_process_net_command_json.IDMap,\n",
       " _pydevd_bundle.pydevd_process_net_command_json.PyDevJsonCommandProcessor,\n",
       " ...]"
      ]
     },
     "execution_count": 22,
     "metadata": {},
     "output_type": "execute_result"
    }
   ],
   "source": [
    "builtins.object.__subclasses__()"
   ]
  },
  {
   "cell_type": "code",
   "execution_count": 25,
   "id": "b447bb5f",
   "metadata": {},
   "outputs": [],
   "source": [
    "import types"
   ]
  },
  {
   "cell_type": "code",
   "execution_count": 28,
   "id": "5f8bb06e",
   "metadata": {},
   "outputs": [
    {
     "data": {
      "text/plain": [
       "async_generator"
      ]
     },
     "execution_count": 28,
     "metadata": {},
     "output_type": "execute_result"
    }
   ],
   "source": [
    "types.AsyncGeneratorType"
   ]
  },
  {
   "cell_type": "code",
   "execution_count": null,
   "id": "5dc6ee07",
   "metadata": {},
   "outputs": [],
   "source": []
  }
 ],
 "metadata": {
  "kernelspec": {
   "display_name": "Python 3 (ipykernel)",
   "language": "python",
   "name": "python3"
  },
  "language_info": {
   "codemirror_mode": {
    "name": "ipython",
    "version": 3
   },
   "file_extension": ".py",
   "mimetype": "text/x-python",
   "name": "python",
   "nbconvert_exporter": "python",
   "pygments_lexer": "ipython3",
   "version": "3.11.5"
  }
 },
 "nbformat": 4,
 "nbformat_minor": 5
}
