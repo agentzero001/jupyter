{
 "cells": [
  {
   "cell_type": "code",
   "execution_count": 28,
   "id": "51efa62a",
   "metadata": {},
   "outputs": [],
   "source": [
    "from functools import wraps"
   ]
  },
  {
   "cell_type": "code",
   "execution_count": 29,
   "id": "12c56379",
   "metadata": {},
   "outputs": [
    {
     "name": "stdout",
     "output_type": "stream",
     "text": [
      "thiscoderan\n",
      "12\n"
     ]
    }
   ],
   "source": [
    "def my_decorator(original_func):\n",
    "    \n",
    "    @wraps(original_func)\n",
    "    def inner_func(*args):\n",
    "        print('thiscoderan')\n",
    "        return original_func(*args)\n",
    "    return inner_func\n",
    "\n",
    "@my_decorator\n",
    "def my_func(a,b,c):\n",
    "    print(a+b+c)\n",
    "\n",
    "my_func(3,4,5)"
   ]
  },
  {
   "cell_type": "code",
   "execution_count": 30,
   "id": "5f3f1d96",
   "metadata": {},
   "outputs": [],
   "source": [
    "def timer(origin):\n",
    "    import time\n",
    "    \n",
    "    @wraps(origin)\n",
    "    def wrapper(*args):\n",
    "        t1 = time.time()\n",
    "        result = origin(*args)\n",
    "        t2 = time.time() - t1\n",
    "        print(t2)\n",
    "        return result\n",
    "    return wrapper    "
   ]
  },
  {
   "cell_type": "code",
   "execution_count": 31,
   "id": "db0fd350",
   "metadata": {},
   "outputs": [],
   "source": [
    "@my_decorator\n",
    "@timer\n",
    "def myadder(a,b,c):\n",
    "    x=0\n",
    "    for i in range(100000):\n",
    "        x += a + b + c\n",
    "        if x % 2 == 0:\n",
    "            x += 1\n",
    "    return x"
   ]
  },
  {
   "cell_type": "code",
   "execution_count": 32,
   "id": "e10cd089",
   "metadata": {},
   "outputs": [
    {
     "name": "stdout",
     "output_type": "stream",
     "text": [
      "thiscoderan\n",
      "0.011010169982910156\n"
     ]
    },
    {
     "data": {
      "text/plain": [
       "6000001"
      ]
     },
     "execution_count": 32,
     "metadata": {},
     "output_type": "execute_result"
    }
   ],
   "source": [
    "myadder(10,20,30)"
   ]
  },
  {
   "cell_type": "code",
   "execution_count": 33,
   "id": "bc4dfc91",
   "metadata": {},
   "outputs": [],
   "source": [
    "def timer2(func):\n",
    "    def wrapper(*args):\n",
    "        import time\n",
    "        start = time.time()\n",
    "        result = func(*args)\n",
    "        runtime = time.time() - start\n",
    "        print(f\"{func.__name__} took {runtime} seconds to run.\")\n",
    "        return result\n",
    "    return wrapper"
   ]
  },
  {
   "cell_type": "code",
   "execution_count": 34,
   "id": "6d6c699c",
   "metadata": {},
   "outputs": [
    {
     "name": "stdout",
     "output_type": "stream",
     "text": [
      "12\n",
      "my_func took 0.0 seconds to run.\n"
     ]
    }
   ],
   "source": [
    "@timer2\n",
    "def my_func(a, b, c):\n",
    "    print(a + b + c)\n",
    "\n",
    "my_func(3,4,5)"
   ]
  },
  {
   "cell_type": "code",
   "execution_count": 35,
   "id": "b96ab4d1",
   "metadata": {},
   "outputs": [],
   "source": [
    "class Person:\n",
    "    def __init__(self, first, last):\n",
    "        self.first = first\n",
    "        self.last = last\n",
    "        self.__private = 10\n",
    "\n",
    "    @property\n",
    "    def private(self):\n",
    "        return self.__private\n",
    "    \n",
    "#     @private.setter\n",
    "#     def private(self, value):\n",
    "#         self.__private = value\n",
    "    \n",
    "p1 = Person('Jeff','Smith')   "
   ]
  },
  {
   "cell_type": "code",
   "execution_count": 36,
   "id": "2fda5860",
   "metadata": {},
   "outputs": [
    {
     "data": {
      "text/plain": [
       "{'first': 'Jeff', 'last': 'Smith', '_Person__private': 10}"
      ]
     },
     "execution_count": 36,
     "metadata": {},
     "output_type": "execute_result"
    }
   ],
   "source": [
    "p1.__dict__"
   ]
  },
  {
   "cell_type": "code",
   "execution_count": 37,
   "id": "4627804b",
   "metadata": {},
   "outputs": [
    {
     "data": {
      "text/plain": [
       "10"
      ]
     },
     "execution_count": 37,
     "metadata": {},
     "output_type": "execute_result"
    }
   ],
   "source": [
    "p1.private"
   ]
  },
  {
   "cell_type": "code",
   "execution_count": 38,
   "id": "df5b938e",
   "metadata": {},
   "outputs": [],
   "source": [
    "def closure(x):\n",
    "    def innerfunc(y):\n",
    "        return x + y\n",
    "    return innerfunc"
   ]
  },
  {
   "cell_type": "code",
   "execution_count": 39,
   "id": "c41436fb",
   "metadata": {},
   "outputs": [],
   "source": [
    "add2 = closure(2)\n",
    "add3 = closure(3)"
   ]
  },
  {
   "cell_type": "code",
   "execution_count": 40,
   "id": "44465d70",
   "metadata": {},
   "outputs": [
    {
     "data": {
      "text/plain": [
       "9"
      ]
     },
     "execution_count": 40,
     "metadata": {},
     "output_type": "execute_result"
    }
   ],
   "source": [
    "add3(6)"
   ]
  },
  {
   "cell_type": "code",
   "execution_count": 41,
   "id": "f4948d54",
   "metadata": {},
   "outputs": [],
   "source": [
    "def deco(func):\n",
    "    def inner():\n",
    "        print('running inner()')\n",
    "    return inner\n",
    "\n",
    "@deco\n",
    "def target():\n",
    "    print('running target()')"
   ]
  },
  {
   "cell_type": "code",
   "execution_count": 42,
   "id": "aff90ca5",
   "metadata": {},
   "outputs": [
    {
     "name": "stdout",
     "output_type": "stream",
     "text": [
      "running inner()\n"
     ]
    }
   ],
   "source": [
    "target()"
   ]
  },
  {
   "cell_type": "code",
   "execution_count": null,
   "id": "f3eb2ee5",
   "metadata": {},
   "outputs": [],
   "source": []
  },
  {
   "cell_type": "code",
   "execution_count": null,
   "id": "6e395c2c",
   "metadata": {},
   "outputs": [],
   "source": []
  }
 ],
 "metadata": {
  "kernelspec": {
   "display_name": "Python 3 (ipykernel)",
   "language": "python",
   "name": "python3"
  },
  "language_info": {
   "codemirror_mode": {
    "name": "ipython",
    "version": 3
   },
   "file_extension": ".py",
   "mimetype": "text/x-python",
   "name": "python",
   "nbconvert_exporter": "python",
   "pygments_lexer": "ipython3",
   "version": "3.11.5"
  }
 },
 "nbformat": 4,
 "nbformat_minor": 5
}
