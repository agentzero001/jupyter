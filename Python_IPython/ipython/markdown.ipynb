{
 "cells": [
  {
   "cell_type": "markdown",
   "id": "d56f1389",
   "metadata": {},
   "source": [
    "# Überschrift "
   ]
  },
  {
   "cell_type": "markdown",
   "id": "112a6ee2",
   "metadata": {},
   "source": [
    "## $$\\alpha, \\beta, \\gamma, \\delta, \\epsilon, \\zeta, \\eta, \\theta, \\iota, \\kappa, \\lambda, \\mu, \\nu, \\xi, \\omicron, \\pi, \\rho, \\sigma, \\tau, \\upsilon, \\phi, \\chi, \\psi, \\omega$$\n"
   ]
  },
  {
   "cell_type": "markdown",
   "id": "2eeaf7ec",
   "metadata": {},
   "source": [
    "## $$x_i$$\n",
    "\n",
    "## $$a^x$$ \n",
    "$$\\frac{x}{\\alpha}$$"
   ]
  },
  {
   "cell_type": "markdown",
   "id": "aa5dbc33",
   "metadata": {},
   "source": [
    "## $\\sum, \\prod, \\int, \\partial, \\infty, \\nabla, \\leq, \\geq, \\times, \\div, \\pm, \\neq$\n",
    " "
   ]
  },
  {
   "cell_type": "markdown",
   "id": "ec912c51",
   "metadata": {},
   "source": [
    "## Link\n",
    "\n",
    "[Google](https://google.com)"
   ]
  },
  {
   "cell_type": "markdown",
   "id": "14d55052",
   "metadata": {},
   "source": [
    "![alt text](https://upload.wikimedia.org/wikipedia/commons/3/38/Jupyter_logo.svg)\n"
   ]
  },
  {
   "cell_type": "markdown",
   "id": "87920001",
   "metadata": {},
   "source": [
    "<img src=\"https://upload.wikimedia.org/wikipedia/commons/3/38/Jupyter_logo.svg\" width=\"200\" height=\"100\">"
   ]
  },
  {
   "cell_type": "markdown",
   "id": "c71f41b4",
   "metadata": {},
   "source": [
    "|Column 1|Column 2|\n",
    "|-|-|\n",
    "| Row 1, Column 1 | Row 1, Column 2 |\n",
    "| Row 2, Column 1 | Row 2, Column 2 |"
   ]
  },
  {
   "cell_type": "markdown",
   "id": "c545b3c7",
   "metadata": {},
   "source": [
    "|Index|Name|Alter|\n",
    "|-|-|-|\n",
    "|1|Jens|21\n",
    "|2|Jeff|32"
   ]
  },
  {
   "cell_type": "markdown",
   "id": "68af3071",
   "metadata": {},
   "source": [
    "--- "
   ]
  },
  {
   "cell_type": "markdown",
   "id": "a7e08e47",
   "metadata": {},
   "source": [
    "___"
   ]
  },
  {
   "cell_type": "markdown",
   "id": "c0f3ed51",
   "metadata": {},
   "source": [
    "***"
   ]
  },
  {
   "cell_type": "markdown",
   "id": "5019fdd3",
   "metadata": {},
   "source": [
    "1. bla \n",
    "2. bla bla\n",
    "- Bla bla  \n",
    "\n",
    "\n",
    " - bla bla bla\n",
    " - blabla bla\n",
    "     - blabla\n",
    "       - lol\n",
    "       - ok\n",
    "      \n",
    "\n"
   ]
  },
  {
   "cell_type": "markdown",
   "id": "c4f5ad9a",
   "metadata": {},
   "source": [
    "```python\n",
    "import sys \n",
    "import numpy as np\n",
    "import pygame as pg\n",
    " \n",
    "pg.init()\n",
    "\n",
    "RES = WIDTH, HEIGHT = 800, 800\n",
    "SCALE_FACTOR = 1\n",
    "SIZE = 200\n",
    "FPS = 60\n",
    "GREY = (100,100,100)\n",
    "POINTS = [(-10, -10), (100, 100), (200, 200), (400, 200)]\n",
    "\n",
    "def draw_curve(f, a, b, n=200):\n",
    "    t = np.linspace(a, b, n)\n",
    "    c_x, c_y = f(t)\n",
    "    pg.draw.aalines(screen, GREY, False, [conv_coords(x, y) for x,y in zip(c_x, c_y)]  , 1) \n",
    "\n",
    "\n",
    "\n",
    "k = 0\n",
    "\n",
    "font = pg.font.Font(None, 24)\n",
    "fpsClock = pg.time.Clock()\n",
    "screen = pg.display.set_mode(RES)\n",
    "\n",
    "conv_coords = lambda x, y: ((x + WIDTH // 2), (-y  + HEIGHT // 2))\n",
    "draw_point = lambda x, y, color=GREY, radius=2: pg.draw.circle(screen, color, conv_coords(x,y), radius)\n",
    "\n",
    "a = lambda t: (100*np.sin(2*t), 100*np.cos(3*t))\n",
    "\n",
    "print(conv_coords(20, 20))\n",
    "\n",
    "\n",
    "while True:\n",
    "    k %=1    \n",
    "    screen.fill((20, 20, 20))\n",
    "    \n",
    "    pg.draw.line(screen, (100,100,100), conv_coords(-SIZE, 0), conv_coords(SIZE, 0), 1) \n",
    "    pg.draw.line(screen, (100,100,100), conv_coords(0, -SIZE), conv_coords(0, SIZE), 1)    \n",
    "    draw_curve(a, k*2*np.pi-.5, 2*np.pi*k)\n",
    "    draw_point(100,20) #conv_coords does work here\n",
    "    k+=.002\n",
    "    m_x, m_y  = pg.mouse.get_pos() \n",
    "    m_x, m_y = m_x - WIDTH // 2, -(m_y - HEIGHT // 2 ) #conv_coords doesn't work here. Why not?\n",
    "    text_surface = font.render(\"Mouse Position: ({}, {})\".format(m_x, m_y), True, GREY)\n",
    "    \n",
    "    #pg.draw.rect(screen, 'White', (*conv_coords(100,100), 100, 100), 2)\n",
    "    \n",
    "  \n",
    "    for event in pg.event.get():\n",
    "        if event.type == pg.QUIT:\n",
    "            pg.quit()\n",
    "            sys.exit()\n",
    "    screen.blit(text_surface, (10, 10))\n",
    "    pg.display.flip()\n",
    "    \n",
    "    fpsClock.tick(FPS)\n",
    "\n",
    "```\n",
    "here is a question\n",
    "\n",
    "why does my func conv_coords work for functions like pg.draw.circle but does not work for pg.mouse.get_pos()\n",
    "\n",
    "i feel stupid"
   ]
  },
  {
   "cell_type": "code",
   "execution_count": null,
   "id": "2c7732fc",
   "metadata": {},
   "outputs": [],
   "source": []
  }
 ],
 "metadata": {
  "kernelspec": {
   "display_name": "Python 3 (ipykernel)",
   "language": "python",
   "name": "python3"
  },
  "language_info": {
   "codemirror_mode": {
    "name": "ipython",
    "version": 3
   },
   "file_extension": ".py",
   "mimetype": "text/x-python",
   "name": "python",
   "nbconvert_exporter": "python",
   "pygments_lexer": "ipython3",
   "version": "3.11.5"
  }
 },
 "nbformat": 4,
 "nbformat_minor": 5
}
