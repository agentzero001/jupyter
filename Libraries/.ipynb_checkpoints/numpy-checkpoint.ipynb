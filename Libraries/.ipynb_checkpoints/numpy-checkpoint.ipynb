{
 "cells": [
  {
   "cell_type": "code",
   "execution_count": 68,
   "id": "00e9239f",
   "metadata": {},
   "outputs": [],
   "source": [
    "import numpy as np"
   ]
  },
  {
   "cell_type": "code",
   "execution_count": 69,
   "id": "1a59e4de",
   "metadata": {},
   "outputs": [
    {
     "data": {
      "text/plain": [
       "array([[0.94305611, 0.51132755, 0.97624371],\n",
       "       [0.08083602, 0.60735583, 0.37648658]])"
      ]
     },
     "execution_count": 69,
     "metadata": {},
     "output_type": "execute_result"
    }
   ],
   "source": [
    "rg = np.random.default_rng(4)\n",
    "rg.random((2,3))"
   ]
  },
  {
   "cell_type": "code",
   "execution_count": 70,
   "id": "8b86becb",
   "metadata": {},
   "outputs": [
    {
     "data": {
      "text/plain": [
       "array([[ 0,  1,  2,  3],\n",
       "       [ 4,  5,  6,  7],\n",
       "       [ 8,  9, 10, 11]])"
      ]
     },
     "execution_count": 70,
     "metadata": {},
     "output_type": "execute_result"
    }
   ],
   "source": [
    "L = np.arange(12).reshape(3,4)\n",
    "L"
   ]
  },
  {
   "cell_type": "code",
   "execution_count": 71,
   "id": "108c5ffa",
   "metadata": {},
   "outputs": [
    {
     "name": "stdout",
     "output_type": "stream",
     "text": [
      "66\n",
      "[ 0  1  3  6 10 15 21 28 36 45 55 66]\n"
     ]
    }
   ],
   "source": [
    "print(L.sum())\n",
    "print(L.cumsum())"
   ]
  },
  {
   "cell_type": "code",
   "execution_count": 72,
   "id": "593f80f9",
   "metadata": {},
   "outputs": [
    {
     "data": {
      "text/plain": [
       "(array([ 6, 22, 38]), array([12, 15, 18, 21]))"
      ]
     },
     "execution_count": 72,
     "metadata": {},
     "output_type": "execute_result"
    }
   ],
   "source": [
    "L.sum(axis=1), L.sum(axis=0)"
   ]
  },
  {
   "cell_type": "code",
   "execution_count": 73,
   "id": "d95d3870",
   "metadata": {},
   "outputs": [
    {
     "data": {
      "text/plain": [
       "array([[ 0,  1,  3,  6],\n",
       "       [ 4,  9, 15, 22],\n",
       "       [ 8, 17, 27, 38]], dtype=int32)"
      ]
     },
     "execution_count": 73,
     "metadata": {},
     "output_type": "execute_result"
    }
   ],
   "source": [
    "L.cumsum(axis=1)"
   ]
  },
  {
   "cell_type": "code",
   "execution_count": 74,
   "id": "266f254c",
   "metadata": {},
   "outputs": [
    {
     "data": {
      "text/plain": [
       "array([[ 0,  1,  2,  3],\n",
       "       [ 4,  6,  8, 10],\n",
       "       [12, 15, 18, 21]], dtype=int32)"
      ]
     },
     "execution_count": 74,
     "metadata": {},
     "output_type": "execute_result"
    }
   ],
   "source": [
    "L.cumsum(axis=0)"
   ]
  },
  {
   "cell_type": "code",
   "execution_count": 75,
   "id": "faa179bb",
   "metadata": {},
   "outputs": [
    {
     "data": {
      "text/plain": [
       "array([[ 0,  1,  2,  3],\n",
       "       [ 4,  5,  6,  7],\n",
       "       [ 8,  9, 10, 11]])"
      ]
     },
     "execution_count": 75,
     "metadata": {},
     "output_type": "execute_result"
    }
   ],
   "source": [
    "L"
   ]
  },
  {
   "cell_type": "code",
   "execution_count": 76,
   "id": "72fffd1c",
   "metadata": {},
   "outputs": [
    {
     "data": {
      "text/plain": [
       "6"
      ]
     },
     "execution_count": 76,
     "metadata": {},
     "output_type": "execute_result"
    }
   ],
   "source": [
    "A = np.arange(24).reshape((2,2,3,2))\n",
    "A[0,0].size"
   ]
  },
  {
   "cell_type": "code",
   "execution_count": 77,
   "id": "1297b6ab",
   "metadata": {},
   "outputs": [
    {
     "data": {
      "text/plain": [
       "array([[[[ 0,  1],\n",
       "         [ 2,  3],\n",
       "         [ 4,  5]],\n",
       "\n",
       "        [[ 6,  7],\n",
       "         [ 8,  9],\n",
       "         [10, 11]]],\n",
       "\n",
       "\n",
       "       [[[12, 13],\n",
       "         [ 0,  0],\n",
       "         [16, 17]],\n",
       "\n",
       "        [[18, 19],\n",
       "         [20, 21],\n",
       "         [22, 23]]]])"
      ]
     },
     "execution_count": 77,
     "metadata": {},
     "output_type": "execute_result"
    }
   ],
   "source": [
    "A[1,0,1] = 0\n",
    "A"
   ]
  },
  {
   "cell_type": "code",
   "execution_count": 78,
   "id": "96b90459",
   "metadata": {},
   "outputs": [
    {
     "data": {
      "text/plain": [
       "array([[[ 1,  3,  5],\n",
       "        [ 7,  9, 11]],\n",
       "\n",
       "       [[13,  0, 17],\n",
       "        [19, 21, 23]]])"
      ]
     },
     "execution_count": 78,
     "metadata": {},
     "output_type": "execute_result"
    }
   ],
   "source": [
    "A[...,1]"
   ]
  },
  {
   "cell_type": "code",
   "execution_count": 79,
   "id": "77058093",
   "metadata": {},
   "outputs": [
    {
     "data": {
      "text/plain": [
       "array([[  5,  29],\n",
       "       [ 53,  77],\n",
       "       [101, 125]])"
      ]
     },
     "execution_count": 79,
     "metadata": {},
     "output_type": "execute_result"
    }
   ],
   "source": [
    "D = np.arange(288).reshape(2,3,2,6,4)\n",
    "D[0,...,1,1]"
   ]
  },
  {
   "cell_type": "code",
   "execution_count": 80,
   "id": "0597f069",
   "metadata": {},
   "outputs": [
    {
     "data": {
      "text/plain": [
       "array([[[[  0,   1,   2,   3],\n",
       "         [  4,   5,   6,   7],\n",
       "         [  8,   9,  10,  11],\n",
       "         [ 12,  13,  14,  15],\n",
       "         [ 16,  17,  18,  19],\n",
       "         [ 20,  21,  22,  23]],\n",
       "\n",
       "        [[ 24,  25,  26,  27],\n",
       "         [ 28,  29,  30,  31],\n",
       "         [ 32,  33,  34,  35],\n",
       "         [ 36,  37,  38,  39],\n",
       "         [ 40,  41,  42,  43],\n",
       "         [ 44,  45,  46,  47]]],\n",
       "\n",
       "\n",
       "       [[[ 48,  49,  50,  51],\n",
       "         [ 52,  53,  54,  55],\n",
       "         [ 56,  57,  58,  59],\n",
       "         [ 60,  61,  62,  63],\n",
       "         [ 64,  65,  66,  67],\n",
       "         [ 68,  69,  70,  71]],\n",
       "\n",
       "        [[ 72,  73,  74,  75],\n",
       "         [ 76,  77,  78,  79],\n",
       "         [ 80,  81,  82,  83],\n",
       "         [ 84,  85,  86,  87],\n",
       "         [ 88,  89,  90,  91],\n",
       "         [ 92,  93,  94,  95]]],\n",
       "\n",
       "\n",
       "       [[[ 96,  97,  98,  99],\n",
       "         [100, 101, 102, 103],\n",
       "         [104, 105, 106, 107],\n",
       "         [108, 109, 110, 111],\n",
       "         [112, 113, 114, 115],\n",
       "         [116, 117, 118, 119]],\n",
       "\n",
       "        [[120, 121, 122, 123],\n",
       "         [124, 125, 126, 127],\n",
       "         [128, 129, 130, 131],\n",
       "         [132, 133, 134, 135],\n",
       "         [136, 137, 138, 139],\n",
       "         [140, 141, 142, 143]]]])"
      ]
     },
     "execution_count": 80,
     "metadata": {},
     "output_type": "execute_result"
    }
   ],
   "source": [
    "D[0]"
   ]
  },
  {
   "cell_type": "code",
   "execution_count": 81,
   "id": "fad5a353",
   "metadata": {},
   "outputs": [
    {
     "data": {
      "text/plain": [
       "array([[[ 0,  1,  2,  3],\n",
       "        [ 4,  5,  6,  7],\n",
       "        [ 8,  9, 10, 11]],\n",
       "\n",
       "       [[12, 13, 14, 15],\n",
       "        [16, 17, 18, 19],\n",
       "        [20, 21, 22, 23]],\n",
       "\n",
       "       [[24, 25, 26, 27],\n",
       "        [28, 29, 30, 31],\n",
       "        [32, 33, 34, 35]]])"
      ]
     },
     "execution_count": 81,
     "metadata": {},
     "output_type": "execute_result"
    }
   ],
   "source": [
    "A = np.arange(36).reshape((3,3,4))\n",
    "A"
   ]
  },
  {
   "cell_type": "code",
   "execution_count": 82,
   "id": "77f6e3e7",
   "metadata": {},
   "outputs": [
    {
     "data": {
      "text/plain": [
       "array([0, 1, 2, 3])"
      ]
     },
     "execution_count": 82,
     "metadata": {},
     "output_type": "execute_result"
    }
   ],
   "source": [
    "A[0,0,:]"
   ]
  },
  {
   "cell_type": "code",
   "execution_count": 83,
   "id": "4136a05a",
   "metadata": {},
   "outputs": [
    {
     "data": {
      "text/plain": [
       "array([ 1.,  2.,  3.,  4.,  5.,  6.,  7.,  8.,  9., 10.])"
      ]
     },
     "execution_count": 83,
     "metadata": {},
     "output_type": "execute_result"
    }
   ],
   "source": [
    "A = np.array([1,2,3,4,5,6,7,8,9,10], dtype = np.float64)\n",
    "A"
   ]
  },
  {
   "cell_type": "code",
   "execution_count": 84,
   "id": "f72919bc",
   "metadata": {},
   "outputs": [
    {
     "data": {
      "text/plain": [
       "array([1. , 1.5, 2. , 3. , 4. , 5. , 6. , 7. , 8. , 9. ])"
      ]
     },
     "execution_count": 84,
     "metadata": {},
     "output_type": "execute_result"
    }
   ],
   "source": [
    "r = A.copy()\n",
    "for i in range(1,3):\n",
    "    r += np.concatenate((r[:i] / i, A[:-i]))\n",
    "r/3"
   ]
  },
  {
   "cell_type": "code",
   "execution_count": 85,
   "id": "0f5d3bdf",
   "metadata": {},
   "outputs": [
    {
     "data": {
      "text/plain": [
       "array([ 3. ,  4.5,  6. ,  9. , 12. , 15. , 18. , 21. , 24. , 27. ])"
      ]
     },
     "execution_count": 85,
     "metadata": {},
     "output_type": "execute_result"
    }
   ],
   "source": [
    "r"
   ]
  },
  {
   "cell_type": "code",
   "execution_count": 86,
   "id": "6731ed01",
   "metadata": {},
   "outputs": [
    {
     "data": {
      "text/plain": [
       "array([[[ 0,  1,  2,  3,  4],\n",
       "        [ 5,  6,  7,  8,  9],\n",
       "        [10, 11, 12, 13, 14],\n",
       "        [15, 16, 17, 18, 19],\n",
       "        [20, 21, 22, 23, 24],\n",
       "        [25, 26, 27, 28, 29],\n",
       "        [30, 31, 32, 33, 34],\n",
       "        [35, 36, 37, 38, 39],\n",
       "        [40, 41, 42, 43, 44],\n",
       "        [45, 46, 47, 48, 49]],\n",
       "\n",
       "       [[50, 51, 52, 53, 54],\n",
       "        [55, 56, 57, 58, 59],\n",
       "        [60, 61, 62, 63, 64],\n",
       "        [65, 66, 67, 68, 69],\n",
       "        [70, 71, 72, 73, 74],\n",
       "        [75, 76, 77, 78, 79],\n",
       "        [80, 81, 82, 83, 84],\n",
       "        [85, 86, 87, 88, 89],\n",
       "        [90, 91, 92, 93, 94],\n",
       "        [95, 96, 97, 98, 99]]])"
      ]
     },
     "execution_count": 86,
     "metadata": {},
     "output_type": "execute_result"
    }
   ],
   "source": [
    "L4 = np.arange(100).reshape((2, 10, 5))\n",
    "L4"
   ]
  },
  {
   "cell_type": "code",
   "execution_count": 87,
   "id": "18c38e6c",
   "metadata": {},
   "outputs": [
    {
     "data": {
      "text/plain": [
       "2"
      ]
     },
     "execution_count": 87,
     "metadata": {},
     "output_type": "execute_result"
    }
   ],
   "source": [
    "c = 0\n",
    "for i in L4:\n",
    "    c+=1\n",
    "c"
   ]
  },
  {
   "cell_type": "code",
   "execution_count": 88,
   "id": "91045b2b",
   "metadata": {},
   "outputs": [
    {
     "name": "stdout",
     "output_type": "stream",
     "text": [
      "(0, 0) 1\n",
      "(0, 1) 2\n",
      "(1, 0) 3\n",
      "(1, 1) 4\n"
     ]
    }
   ],
   "source": [
    "arr = np.array([[1, 2], [3, 4]])\n",
    "\n",
    "for index, value in np.ndenumerate(arr):\n",
    "    print(index, value)"
   ]
  },
  {
   "cell_type": "code",
   "execution_count": 89,
   "id": "2bf57467",
   "metadata": {},
   "outputs": [
    {
     "data": {
      "text/plain": [
       "[((0, 0, 0), 0),\n",
       " ((0, 0, 1), 1),\n",
       " ((0, 0, 2), 2),\n",
       " ((0, 1, 0), 3),\n",
       " ((0, 1, 1), 4),\n",
       " ((0, 1, 2), 5),\n",
       " ((0, 2, 0), 6),\n",
       " ((0, 2, 1), 7),\n",
       " ((0, 2, 2), 8),\n",
       " ((0, 3, 0), 9),\n",
       " ((0, 3, 1), 10),\n",
       " ((0, 3, 2), 11),\n",
       " ((0, 4, 0), 12),\n",
       " ((0, 4, 1), 13),\n",
       " ((0, 4, 2), 14),\n",
       " ((1, 0, 0), 15),\n",
       " ((1, 0, 1), 16),\n",
       " ((1, 0, 2), 17),\n",
       " ((1, 1, 0), 18),\n",
       " ((1, 1, 1), 19),\n",
       " ((1, 1, 2), 20),\n",
       " ((1, 2, 0), 21),\n",
       " ((1, 2, 1), 22),\n",
       " ((1, 2, 2), 23),\n",
       " ((1, 3, 0), 24),\n",
       " ((1, 3, 1), 25),\n",
       " ((1, 3, 2), 26),\n",
       " ((1, 4, 0), 27),\n",
       " ((1, 4, 1), 28),\n",
       " ((1, 4, 2), 29)]"
      ]
     },
     "execution_count": 89,
     "metadata": {},
     "output_type": "execute_result"
    }
   ],
   "source": [
    "indices = [(index, value) for index, value in np.ndenumerate(np.arange(30).reshape(2, 5, 3))]\n",
    "indices"
   ]
  },
  {
   "cell_type": "code",
   "execution_count": 90,
   "id": "d5871bc7",
   "metadata": {},
   "outputs": [
    {
     "data": {
      "text/plain": [
       "array([[[ 0.,  1.,  2.],\n",
       "        [ 3.,  4.,  5.],\n",
       "        [ 6.,  7.,  8.],\n",
       "        [ 9., 10., 11.],\n",
       "        [12., 13., 14.]],\n",
       "\n",
       "       [[15., 16., 17.],\n",
       "        [18., 19., 20.],\n",
       "        [21., 22., 23.],\n",
       "        [24., 25., 26.],\n",
       "        [27., 28., 29.]]])"
      ]
     },
     "execution_count": 90,
     "metadata": {},
     "output_type": "execute_result"
    }
   ],
   "source": [
    "A2 = np.zeros(30).reshape((2, 5, 3))\n",
    "\n",
    "for index, value in indices:\n",
    "    A2[index] = value   \n",
    "A2"
   ]
  },
  {
   "cell_type": "code",
   "execution_count": 91,
   "id": "aecbbb7a",
   "metadata": {},
   "outputs": [
    {
     "data": {
      "text/plain": [
       "array([[[ 0,  1,  2],\n",
       "        [ 3,  4,  5],\n",
       "        [ 6,  7,  8],\n",
       "        [ 9, 10, 11],\n",
       "        [12, 13, 14]],\n",
       "\n",
       "       [[15, 16, 17],\n",
       "        [18, 19, 20],\n",
       "        [21, 22, 23],\n",
       "        [24, 25, 26],\n",
       "        [27, 28, 29]]])"
      ]
     },
     "execution_count": 91,
     "metadata": {},
     "output_type": "execute_result"
    }
   ],
   "source": [
    "np.arange(30).reshape(2, 5, 3)"
   ]
  },
  {
   "cell_type": "code",
   "execution_count": 92,
   "id": "2da2e0f4",
   "metadata": {},
   "outputs": [
    {
     "data": {
      "text/plain": [
       "'3.9.13 (main, Aug 25 2022, 23:51:50) [MSC v.1916 64 bit (AMD64)]'"
      ]
     },
     "execution_count": 92,
     "metadata": {},
     "output_type": "execute_result"
    }
   ],
   "source": [
    "import sys\n",
    "sys.version"
   ]
  },
  {
   "cell_type": "code",
   "execution_count": 93,
   "id": "1f4cc1f4",
   "metadata": {},
   "outputs": [
    {
     "data": {
      "text/plain": [
       "['odd', 2, 'odd', 4, 'odd', 6, 'odd', 8, 'odd']"
      ]
     },
     "execution_count": 93,
     "metadata": {},
     "output_type": "execute_result"
    }
   ],
   "source": [
    "numbers = [1, 2, 3, 4, 5, 6, 7, 8, 9]\n",
    "even_numbers = [x if x % 2 == 0 else 'odd' for x in numbers]\n",
    "even_numbers"
   ]
  },
  {
   "cell_type": "code",
   "execution_count": 94,
   "id": "c810bd3c",
   "metadata": {},
   "outputs": [
    {
     "data": {
      "text/plain": [
       "array([[ 0., 10., 20., 30.],\n",
       "       [10., 20., 30., 40.],\n",
       "       [20., 30., 40., 50.],\n",
       "       [30., 40., 50., 60.]])"
      ]
     },
     "execution_count": 94,
     "metadata": {},
     "output_type": "execute_result"
    }
   ],
   "source": [
    "sum_indices = lambda a, b: 10 * (a + b) \n",
    "\n",
    "arr = np.fromfunction(sum_indices, (4, 4))\n",
    "arr"
   ]
  },
  {
   "cell_type": "code",
   "execution_count": 95,
   "id": "5830b520",
   "metadata": {},
   "outputs": [
    {
     "data": {
      "text/plain": [
       "array([[ 8.,  1.,  8.,  5.],\n",
       "       [ 9.,  4.,  4., 20.],\n",
       "       [ 9.,  3.,  9.,  9.]])"
      ]
     },
     "execution_count": 95,
     "metadata": {},
     "output_type": "execute_result"
    }
   ],
   "source": [
    "A_ = np.floor(10 * rg.random((3, 4)))\n",
    "A_.flat[7] = 20\n",
    "A_"
   ]
  },
  {
   "cell_type": "code",
   "execution_count": 96,
   "id": "84a085ad",
   "metadata": {},
   "outputs": [
    {
     "data": {
      "text/plain": [
       "array([ 8.,  1.,  8.,  5.,  9.,  4.,  4., 20.,  9.,  3.,  9.,  9.])"
      ]
     },
     "execution_count": 96,
     "metadata": {},
     "output_type": "execute_result"
    }
   ],
   "source": [
    "A_.ravel()"
   ]
  },
  {
   "cell_type": "code",
   "execution_count": 97,
   "id": "4d1301cd",
   "metadata": {},
   "outputs": [
    {
     "data": {
      "text/plain": [
       "array([ 8.,  9.,  9.,  1.,  4.,  3.,  8.,  4.,  9.,  5., 20.,  9.])"
      ]
     },
     "execution_count": 97,
     "metadata": {},
     "output_type": "execute_result"
    }
   ],
   "source": [
    "A_.ravel(order='F')"
   ]
  },
  {
   "cell_type": "code",
   "execution_count": 98,
   "id": "875cad43",
   "metadata": {},
   "outputs": [
    {
     "data": {
      "text/plain": [
       "array([[ 8.,  9.,  9.],\n",
       "       [ 1.,  4.,  3.],\n",
       "       [ 8.,  4.,  9.],\n",
       "       [ 5., 20.,  9.]])"
      ]
     },
     "execution_count": 98,
     "metadata": {},
     "output_type": "execute_result"
    }
   ],
   "source": [
    "A_.T"
   ]
  },
  {
   "cell_type": "code",
   "execution_count": 99,
   "id": "86785980",
   "metadata": {},
   "outputs": [
    {
     "data": {
      "text/plain": [
       "array([[ 8.,  1.],\n",
       "       [ 8.,  5.],\n",
       "       [ 9.,  4.],\n",
       "       [ 4., 20.],\n",
       "       [ 9.,  3.],\n",
       "       [ 9.,  9.]])"
      ]
     },
     "execution_count": 99,
     "metadata": {},
     "output_type": "execute_result"
    }
   ],
   "source": [
    "A_.reshape((6,2))"
   ]
  },
  {
   "cell_type": "code",
   "execution_count": 100,
   "id": "59f4e94a",
   "metadata": {},
   "outputs": [
    {
     "data": {
      "text/plain": [
       "array([[ 8.,  1.,  8.,  5.,  9.,  4.],\n",
       "       [ 4., 20.,  9.,  3.,  9.,  9.]])"
      ]
     },
     "execution_count": 100,
     "metadata": {},
     "output_type": "execute_result"
    }
   ],
   "source": [
    "A_.resize((2,6)) #resize will modify the input array\n",
    "A_"
   ]
  },
  {
   "cell_type": "code",
   "execution_count": 101,
   "id": "8ed59ae9",
   "metadata": {},
   "outputs": [],
   "source": [
    "A2 = np.arange(60).reshape(2,10,3)"
   ]
  },
  {
   "cell_type": "code",
   "execution_count": 102,
   "id": "b993d4cb",
   "metadata": {},
   "outputs": [
    {
     "data": {
      "text/plain": [
       "array([32, 35, 38, 41, 44, 47, 50, 53, 56, 59])"
      ]
     },
     "execution_count": 102,
     "metadata": {},
     "output_type": "execute_result"
    }
   ],
   "source": [
    "A2_sliced = A2[1,:,2].ravel()\n",
    "A2_sliced"
   ]
  },
  {
   "cell_type": "code",
   "execution_count": 103,
   "id": "c5b570e8",
   "metadata": {},
   "outputs": [
    {
     "data": {
      "text/plain": [
       "array([[[11,  3,  9, 12],\n",
       "        [ 6, 14,  8, 18],\n",
       "        [ 4, 13,  1,  2]],\n",
       "\n",
       "       [[10,  9,  9,  9],\n",
       "        [17, 10,  7, 19],\n",
       "        [17,  6,  4,  4]]], dtype=int64)"
      ]
     },
     "execution_count": 103,
     "metadata": {},
     "output_type": "execute_result"
    }
   ],
   "source": [
    "A3 = rg.integers(low=0, high=20, size=(2,3,4))\n",
    "A3"
   ]
  },
  {
   "cell_type": "code",
   "execution_count": 104,
   "id": "17a23430",
   "metadata": {},
   "outputs": [
    {
     "data": {
      "text/plain": [
       "array([[1, 0, 0, 1],\n",
       "       [0, 1, 1, 0],\n",
       "       [0, 1, 0, 0]], dtype=int64)"
      ]
     },
     "execution_count": 104,
     "metadata": {},
     "output_type": "execute_result"
    }
   ],
   "source": [
    "np.argmin(A3, axis=0)"
   ]
  },
  {
   "cell_type": "code",
   "execution_count": 105,
   "id": "b03cbde7",
   "metadata": {},
   "outputs": [
    {
     "data": {
      "text/plain": [
       "array([[2, 0, 2, 2],\n",
       "       [0, 2, 2, 2]], dtype=int64)"
      ]
     },
     "execution_count": 105,
     "metadata": {},
     "output_type": "execute_result"
    }
   ],
   "source": [
    "np.argmin(A3, axis=1)"
   ]
  },
  {
   "cell_type": "code",
   "execution_count": 106,
   "id": "e105afc5",
   "metadata": {},
   "outputs": [
    {
     "data": {
      "text/plain": [
       "array([[1, 0, 2],\n",
       "       [1, 2, 2]], dtype=int64)"
      ]
     },
     "execution_count": 106,
     "metadata": {},
     "output_type": "execute_result"
    }
   ],
   "source": [
    "np.argmin(A3, axis=2)"
   ]
  },
  {
   "cell_type": "code",
   "execution_count": 107,
   "id": "4eb7bc22",
   "metadata": {},
   "outputs": [
    {
     "data": {
      "text/plain": [
       "array([[15, 11,  0],\n",
       "       [11, 18, 18],\n",
       "       [ 8, 12,  0]])"
      ]
     },
     "execution_count": 107,
     "metadata": {},
     "output_type": "execute_result"
    }
   ],
   "source": [
    "np.random.randint(20, size=(3,3))"
   ]
  },
  {
   "cell_type": "markdown",
   "id": "4961b8b8",
   "metadata": {},
   "source": [
    "-----"
   ]
  },
  {
   "cell_type": "markdown",
   "id": "29c14744",
   "metadata": {},
   "source": [
    "-----"
   ]
  },
  {
   "cell_type": "code",
   "execution_count": 108,
   "id": "060f5528",
   "metadata": {},
   "outputs": [
    {
     "data": {
      "text/plain": [
       "((5, 20), (10, 10))"
      ]
     },
     "execution_count": 108,
     "metadata": {},
     "output_type": "execute_result"
    }
   ],
   "source": [
    "#stacking 2 arrays horizontal and vertical\n",
    "A5 = np.floor(10 * rg.random((5,10)))\n",
    "A6 = np.floor(10 * rg.random((5,10)))\n",
    "np.hstack((A5,A6)).shape, np.vstack((A5,A6)).shape"
   ]
  },
  {
   "cell_type": "code",
   "execution_count": 109,
   "id": "856aba2d",
   "metadata": {},
   "outputs": [
    {
     "data": {
      "text/plain": [
       "array([[3.],\n",
       "       [9.],\n",
       "       [7.],\n",
       "       [3.]])"
      ]
     },
     "execution_count": 109,
     "metadata": {},
     "output_type": "execute_result"
    }
   ],
   "source": [
    "a = np.floor(10 * rg.random((4, 5)))\n",
    "b = np.floor(10 * rg.random((4, 1)))\n",
    "b"
   ]
  },
  {
   "cell_type": "code",
   "execution_count": 110,
   "id": "79e86ca7",
   "metadata": {},
   "outputs": [
    {
     "data": {
      "text/plain": [
       "array([[8., 9., 8., 3., 6., 3.],\n",
       "       [7., 0., 7., 0., 9., 9.],\n",
       "       [2., 9., 2., 5., 8., 7.],\n",
       "       [9., 7., 8., 3., 7., 3.]])"
      ]
     },
     "execution_count": 110,
     "metadata": {},
     "output_type": "execute_result"
    }
   ],
   "source": [
    "np.column_stack((a, b))"
   ]
  },
  {
   "cell_type": "code",
   "execution_count": 111,
   "id": "ad00db53",
   "metadata": {},
   "outputs": [
    {
     "data": {
      "text/plain": [
       "array([[3., 3., 2., 4., 7.]])"
      ]
     },
     "execution_count": 111,
     "metadata": {},
     "output_type": "execute_result"
    }
   ],
   "source": [
    "a_ = np.floor(10 * rg.random((2, 5)))\n",
    "b_ = np.floor(10 * rg.random((1, 5)))\n",
    "b_"
   ]
  },
  {
   "cell_type": "code",
   "execution_count": 112,
   "id": "5e7e75e1",
   "metadata": {},
   "outputs": [
    {
     "data": {
      "text/plain": [
       "array([[ True,  True,  True,  True,  True],\n",
       "       [ True,  True,  True,  True,  True],\n",
       "       [ True,  True,  True,  True,  True]])"
      ]
     },
     "execution_count": 112,
     "metadata": {},
     "output_type": "execute_result"
    }
   ],
   "source": [
    "np.r_[a_,b_] == np.row_stack((a_, b_))"
   ]
  },
  {
   "cell_type": "code",
   "execution_count": 113,
   "id": "d1d6ebe6",
   "metadata": {},
   "outputs": [
    {
     "data": {
      "text/plain": [
       "(True, False)"
      ]
     },
     "execution_count": 113,
     "metadata": {},
     "output_type": "execute_result"
    }
   ],
   "source": [
    "np.row_stack is np.vstack, np.column_stack is np.hstack"
   ]
  },
  {
   "cell_type": "code",
   "execution_count": 114,
   "id": "7a40903f",
   "metadata": {},
   "outputs": [
    {
     "data": {
      "text/plain": [
       "array([[[8., 6.],\n",
       "        [7., 9.],\n",
       "        [6., 0.]],\n",
       "\n",
       "       [[6., 0.],\n",
       "        [6., 9.],\n",
       "        [4., 9.]]])"
      ]
     },
     "execution_count": 114,
     "metadata": {},
     "output_type": "execute_result"
    }
   ],
   "source": [
    "np.floor(10*rg.random((2,3,2)))"
   ]
  },
  {
   "cell_type": "code",
   "execution_count": 115,
   "id": "ed449fba",
   "metadata": {},
   "outputs": [
    {
     "data": {
      "text/plain": [
       "array([[[0., 0., 0., 0.],\n",
       "        [0., 0., 0., 0.],\n",
       "        [0., 0., 0., 0.]],\n",
       "\n",
       "       [[0., 0., 0., 0.],\n",
       "        [0., 0., 0., 0.],\n",
       "        [0., 0., 0., 0.]]])"
      ]
     },
     "execution_count": 115,
     "metadata": {},
     "output_type": "execute_result"
    }
   ],
   "source": [
    "a2 = np.zeros((2,3,4))\n",
    "b2 = np.ones((2,3,4))\n",
    "a2"
   ]
  },
  {
   "cell_type": "code",
   "execution_count": 116,
   "id": "c3e65b6c",
   "metadata": {},
   "outputs": [
    {
     "data": {
      "text/plain": [
       "array([[[0., 0., 0., 0.],\n",
       "        [0., 0., 0., 0.],\n",
       "        [0., 0., 0., 0.]],\n",
       "\n",
       "       [[0., 0., 0., 0.],\n",
       "        [0., 0., 0., 0.],\n",
       "        [0., 0., 0., 0.]],\n",
       "\n",
       "       [[1., 1., 1., 1.],\n",
       "        [1., 1., 1., 1.],\n",
       "        [1., 1., 1., 1.]],\n",
       "\n",
       "       [[1., 1., 1., 1.],\n",
       "        [1., 1., 1., 1.],\n",
       "        [1., 1., 1., 1.]]])"
      ]
     },
     "execution_count": 116,
     "metadata": {},
     "output_type": "execute_result"
    }
   ],
   "source": [
    "np.concatenate((a2, b2), axis=0)"
   ]
  },
  {
   "cell_type": "code",
   "execution_count": 117,
   "id": "d361183b",
   "metadata": {},
   "outputs": [
    {
     "data": {
      "text/plain": [
       "array([[[0., 0., 0., 0.],\n",
       "        [0., 0., 0., 0.],\n",
       "        [0., 0., 0., 0.],\n",
       "        [1., 1., 1., 1.],\n",
       "        [1., 1., 1., 1.],\n",
       "        [1., 1., 1., 1.]],\n",
       "\n",
       "       [[0., 0., 0., 0.],\n",
       "        [0., 0., 0., 0.],\n",
       "        [0., 0., 0., 0.],\n",
       "        [1., 1., 1., 1.],\n",
       "        [1., 1., 1., 1.],\n",
       "        [1., 1., 1., 1.]]])"
      ]
     },
     "execution_count": 117,
     "metadata": {},
     "output_type": "execute_result"
    }
   ],
   "source": [
    "np.concatenate((a2, b2), axis=1)"
   ]
  },
  {
   "cell_type": "code",
   "execution_count": 118,
   "id": "7f0f598e",
   "metadata": {
    "scrolled": true
   },
   "outputs": [
    {
     "data": {
      "text/plain": [
       "array([[[0., 0., 0., 0., 1., 1., 1., 1.],\n",
       "        [0., 0., 0., 0., 1., 1., 1., 1.],\n",
       "        [0., 0., 0., 0., 1., 1., 1., 1.]],\n",
       "\n",
       "       [[0., 0., 0., 0., 1., 1., 1., 1.],\n",
       "        [0., 0., 0., 0., 1., 1., 1., 1.],\n",
       "        [0., 0., 0., 0., 1., 1., 1., 1.]]])"
      ]
     },
     "execution_count": 118,
     "metadata": {},
     "output_type": "execute_result"
    }
   ],
   "source": [
    "np.concatenate((a2, b2), axis=2)"
   ]
  },
  {
   "cell_type": "code",
   "execution_count": 119,
   "id": "a2fe56c6",
   "metadata": {},
   "outputs": [
    {
     "data": {
      "text/plain": [
       "(array([ 1., 24., 47., 70.,  0., 20.,  3.,  4.]),\n",
       " array([[  2.,   2.],\n",
       "        [ 68.,   3.],\n",
       "        [134.,   4.],\n",
       "        [200.,   5.]]))"
      ]
     },
     "execution_count": 119,
     "metadata": {},
     "output_type": "execute_result"
    }
   ],
   "source": [
    "row1 = np.r_[1:70:4j, 0, 20, 3:5]\n",
    "col1 = np.c_[2:200:4j,2:6]\n",
    "col2 = np.c_[2:9]\n",
    "row1, col1"
   ]
  },
  {
   "cell_type": "code",
   "execution_count": 120,
   "id": "c22f62ac",
   "metadata": {},
   "outputs": [
    {
     "data": {
      "text/plain": [
       "array([[ 1., 24., 47., 70.,  0., 20.,  3.,  4.],\n",
       "       [ 1., 24., 47., 70.,  0., 20.,  3.,  4.]])"
      ]
     },
     "execution_count": 120,
     "metadata": {},
     "output_type": "execute_result"
    }
   ],
   "source": [
    "np.c_[row1,row1].T"
   ]
  },
  {
   "cell_type": "code",
   "execution_count": 121,
   "id": "15c747bf",
   "metadata": {},
   "outputs": [
    {
     "data": {
      "text/plain": [
       "array([[ 3., 26., 49., 72.,  2., 22.,  5.,  6.],\n",
       "       [ 4., 27., 50., 73.,  3., 23.,  6.,  7.],\n",
       "       [ 5., 28., 51., 74.,  4., 24.,  7.,  8.],\n",
       "       [ 6., 29., 52., 75.,  5., 25.,  8.,  9.],\n",
       "       [ 7., 30., 53., 76.,  6., 26.,  9., 10.],\n",
       "       [ 8., 31., 54., 77.,  7., 27., 10., 11.],\n",
       "       [ 9., 32., 55., 78.,  8., 28., 11., 12.]])"
      ]
     },
     "execution_count": 121,
     "metadata": {},
     "output_type": "execute_result"
    }
   ],
   "source": [
    "#broadcast\n",
    "array1 = row1 + col2\n",
    "array1"
   ]
  },
  {
   "cell_type": "code",
   "execution_count": 122,
   "id": "0ef467bd",
   "metadata": {},
   "outputs": [
    {
     "name": "stdout",
     "output_type": "stream",
     "text": [
      "[[ 3. 26. 49. 72.  2. 22.  5.  6.  3. 26. 49. 72.  2. 22.  5.  6.]\n",
      " [ 4. 27. 50. 73.  3. 23.  6.  7.  4. 27. 50. 73.  3. 23.  6.  7.]\n",
      " [ 5. 28. 51. 74.  4. 24.  7.  8.  5. 28. 51. 74.  4. 24.  7.  8.]\n",
      " [ 6. 29. 52. 75.  5. 25.  8.  9.  6. 29. 52. 75.  5. 25.  8.  9.]\n",
      " [ 7. 30. 53. 76.  6. 26.  9. 10.  7. 30. 53. 76.  6. 26.  9. 10.]\n",
      " [ 8. 31. 54. 77.  7. 27. 10. 11.  8. 31. 54. 77.  7. 27. 10. 11.]\n",
      " [ 9. 32. 55. 78.  8. 28. 11. 12.  9. 32. 55. 78.  8. 28. 11. 12.]]\n"
     ]
    }
   ],
   "source": [
    "print(np.c_[array1,array1])\n",
    "#np.r_[array1,array1]"
   ]
  },
  {
   "cell_type": "code",
   "execution_count": 123,
   "id": "4232f278",
   "metadata": {},
   "outputs": [
    {
     "data": {
      "text/plain": [
       "array([[ 15.,  25.,  35.,  45.,  55.,  65.,  75.,  85.,  95., 105.],\n",
       "       [ 20.,  30.,  40.,  50.,  60.,  70.,  80.,  90., 100., 110.],\n",
       "       [ 25.,  35.,  45.,  55.,  65.,  75.,  85.,  95., 105., 115.],\n",
       "       [ 30.,  40.,  50.,  60.,  70.,  80.,  90., 100., 110., 120.],\n",
       "       [ 35.,  45.,  55.,  65.,  75.,  85.,  95., 105., 115., 125.],\n",
       "       [ 40.,  50.,  60.,  70.,  80.,  90., 100., 110., 120., 130.],\n",
       "       [ 45.,  55.,  65.,  75.,  85.,  95., 105., 115., 125., 135.],\n",
       "       [ 50.,  60.,  70.,  80.,  90., 100., 110., 120., 130., 140.],\n",
       "       [ 55.,  65.,  75.,  85.,  95., 105., 115., 125., 135., 145.],\n",
       "       [ 60.,  70.,  80.,  90., 100., 110., 120., 130., 140., 150.],\n",
       "       [ 65.,  75.,  85.,  95., 105., 115., 125., 135., 145., 155.],\n",
       "       [ 70.,  80.,  90., 100., 110., 120., 130., 140., 150., 160.],\n",
       "       [ 75.,  85.,  95., 105., 115., 125., 135., 145., 155., 165.],\n",
       "       [ 80.,  90., 100., 110., 120., 130., 140., 150., 160., 170.],\n",
       "       [ 85.,  95., 105., 115., 125., 135., 145., 155., 165., 175.],\n",
       "       [ 90., 100., 110., 120., 130., 140., 150., 160., 170., 180.],\n",
       "       [ 95., 105., 115., 125., 135., 145., 155., 165., 175., 185.],\n",
       "       [100., 110., 120., 130., 140., 150., 160., 170., 180., 190.],\n",
       "       [105., 115., 125., 135., 145., 155., 165., 175., 185., 195.],\n",
       "       [110., 120., 130., 140., 150., 160., 170., 180., 190., 200.]])"
      ]
     },
     "execution_count": 123,
     "metadata": {},
     "output_type": "execute_result"
    }
   ],
   "source": [
    "np.c_[5:100:20j] + np.r_[10:100:10j]"
   ]
  },
  {
   "cell_type": "markdown",
   "id": "e5765028",
   "metadata": {},
   "source": [
    "-------"
   ]
  },
  {
   "cell_type": "markdown",
   "id": "d098d559",
   "metadata": {},
   "source": [
    "------"
   ]
  },
  {
   "cell_type": "code",
   "execution_count": 124,
   "id": "a3669eee",
   "metadata": {},
   "outputs": [
    {
     "data": {
      "text/plain": [
       "array([[ 10.],\n",
       "       [ 20.],\n",
       "       [ 30.],\n",
       "       [ 40.],\n",
       "       [ 50.],\n",
       "       [ 60.],\n",
       "       [ 70.],\n",
       "       [ 80.],\n",
       "       [ 90.],\n",
       "       [100.]])"
      ]
     },
     "execution_count": 124,
     "metadata": {},
     "output_type": "execute_result"
    }
   ],
   "source": [
    "#np.newaxis will create only a view \n",
    "k = np.r_[10:100:10j]\n",
    "l = np.c_[10:100:10j]\n",
    "k2 = k.copy()[:, np.newaxis] \n",
    "k2"
   ]
  },
  {
   "cell_type": "code",
   "execution_count": 230,
   "id": "1e4dcbfe",
   "metadata": {},
   "outputs": [
    {
     "data": {
      "text/plain": [
       "array([[ 30.,  40.,  50.,  60.,  70.,  80.,  90., 100.],\n",
       "       [ 50.,  60.,  70.,  80.,  90., 100., 110., 120.],\n",
       "       [ 70.,  80.,  90., 100., 110., 120., 130., 140.],\n",
       "       [ 90., 100., 110., 120., 130., 140., 150., 160.]])"
      ]
     },
     "execution_count": 230,
     "metadata": {},
     "output_type": "execute_result"
    }
   ],
   "source": [
    "myA = np.r_[10:80:8j] + np.c_[20:80:4j] \n",
    "myA"
   ]
  },
  {
   "cell_type": "code",
   "execution_count": 231,
   "id": "a30c30b9",
   "metadata": {},
   "outputs": [
    {
     "data": {
      "text/plain": [
       "array([[ 30.,  40.],\n",
       "       [ 50.,  60.],\n",
       "       [ 70.,  80.],\n",
       "       [ 90., 100.]])"
      ]
     },
     "execution_count": 231,
     "metadata": {},
     "output_type": "execute_result"
    }
   ],
   "source": [
    "#np.hsplit, np.vsplit and np.array_split will also only create a view\n",
    "x, *y = np.hsplit(myA, 4) \n",
    "x "
   ]
  },
  {
   "cell_type": "code",
   "execution_count": 232,
   "id": "38edb812",
   "metadata": {},
   "outputs": [
    {
     "data": {
      "text/plain": [
       "[array([[ 30.,  40.],\n",
       "        [ 50.,  60.],\n",
       "        [ 70.,  80.],\n",
       "        [ 90., 100.]]),\n",
       " array([[ 50.,  60.,  70.],\n",
       "        [ 70.,  80.,  90.],\n",
       "        [ 90., 100., 110.],\n",
       "        [110., 120., 130.]]),\n",
       " array([[ 80.],\n",
       "        [100.],\n",
       "        [120.],\n",
       "        [140.]]),\n",
       " array([[ 90., 100.],\n",
       "        [110., 120.],\n",
       "        [130., 140.],\n",
       "        [150., 160.]])]"
      ]
     },
     "execution_count": 232,
     "metadata": {},
     "output_type": "execute_result"
    }
   ],
   "source": [
    "np.hsplit(myA, (2,5,6)) #see how it works?"
   ]
  },
  {
   "cell_type": "code",
   "execution_count": 233,
   "id": "433f468c",
   "metadata": {},
   "outputs": [
    {
     "data": {
      "text/plain": [
       "array([[ 30.,  40.,  50.,  60.,  70.,  80.,  90., 100.],\n",
       "       [ 50.,  60.,  70.,  80.,  90., 100., 110., 120.]])"
      ]
     },
     "execution_count": 233,
     "metadata": {},
     "output_type": "execute_result"
    }
   ],
   "source": [
    "o,p = np.vsplit(myA, 2)\n",
    "o"
   ]
  },
  {
   "cell_type": "code",
   "execution_count": 234,
   "id": "52210ed6",
   "metadata": {},
   "outputs": [
    {
     "data": {
      "text/plain": [
       "[array([[ 30.,  40.,  50.,  60.,  70.,  80.,  90., 100.]]),\n",
       " array([[ 50.,  60.,  70.,  80.,  90., 100., 110., 120.]]),\n",
       " array([[ 70.,  80.,  90., 100., 110., 120., 130., 140.]]),\n",
       " array([[ 90., 100., 110., 120., 130., 140., 150., 160.]])]"
      ]
     },
     "execution_count": 234,
     "metadata": {},
     "output_type": "execute_result"
    }
   ],
   "source": [
    "np.array_split(myA, 4,axis=0)"
   ]
  },
  {
   "cell_type": "code",
   "execution_count": 235,
   "id": "8bf263e5",
   "metadata": {},
   "outputs": [
    {
     "data": {
      "text/plain": [
       "array([[ 30., 200.,  50.,  60.,  70.,  80.,  90., 100.]])"
      ]
     },
     "execution_count": 235,
     "metadata": {},
     "output_type": "execute_result"
    }
   ],
   "source": [
    "a, *b = np.array_split(myA.copy(), 4,axis=0) \n",
    "a[0,1] = 200 \n",
    "a"
   ]
  },
  {
   "cell_type": "code",
   "execution_count": 236,
   "id": "c6c8e45b",
   "metadata": {},
   "outputs": [
    {
     "data": {
      "text/plain": [
       "True"
      ]
     },
     "execution_count": 236,
     "metadata": {},
     "output_type": "execute_result"
    }
   ],
   "source": [
    "u = p\n",
    "id(u) == id(p)"
   ]
  },
  {
   "cell_type": "code",
   "execution_count": 237,
   "id": "c488dc38",
   "metadata": {},
   "outputs": [
    {
     "data": {
      "text/plain": [
       "array([[ 70.,  80.,  90., 100., 110., 120., 130., 140.],\n",
       "       [ 90., 100., 110., 120., 130., 140., 150., 160.]])"
      ]
     },
     "execution_count": 237,
     "metadata": {},
     "output_type": "execute_result"
    }
   ],
   "source": [
    "v_p = p.view()\n",
    "v_p.resize((4,4))\n",
    "p #p.shape is not changing"
   ]
  },
  {
   "cell_type": "code",
   "execution_count": 238,
   "id": "56f24a41",
   "metadata": {},
   "outputs": [
    {
     "data": {
      "text/plain": [
       "array([[ 70.,  80.,  90.,   0., 110., 120., 130.,   0.],\n",
       "       [ 90., 100., 110.,   0., 130., 140., 150.,   0.]])"
      ]
     },
     "execution_count": 238,
     "metadata": {},
     "output_type": "execute_result"
    }
   ],
   "source": [
    "v_p[:,3] = 0 #however values of p do change\n",
    "p"
   ]
  },
  {
   "cell_type": "code",
   "execution_count": 239,
   "id": "d55bf114",
   "metadata": {},
   "outputs": [
    {
     "data": {
      "text/plain": [
       "array([[ 30.,  40.,  50.,  60.,  70.,  80.,  90., 100.],\n",
       "       [ 50.,  60.,  70.,  80.,  90., 100., 110., 120.],\n",
       "       [ 70.,  80.,  90.,   0., 110., 120., 130.,   0.],\n",
       "       [ 90., 100., 110.,   0., 130., 140., 150.,   0.]])"
      ]
     },
     "execution_count": 239,
     "metadata": {},
     "output_type": "execute_result"
    }
   ],
   "source": [
    "myA"
   ]
  },
  {
   "cell_type": "markdown",
   "id": "c10eb4fd",
   "metadata": {},
   "source": [
    "--------"
   ]
  },
  {
   "cell_type": "code",
   "execution_count": 281,
   "id": "b6482334",
   "metadata": {},
   "outputs": [],
   "source": [
    "a = np.arange(6)**2\n",
    "index = [1,2,3,4]\n",
    "index_f = np.array([1, 1, 0, 4, 6, 2])\n",
    "index2d = np.array([[1,2], [2,3], [3,4]])\n",
    "index_bool = np.array([True,False,True,False,True,False])"
   ]
  },
  {
   "cell_type": "code",
   "execution_count": 282,
   "id": "ba4f64ea",
   "metadata": {},
   "outputs": [
    {
     "data": {
      "text/plain": [
       "array([[ 1,  4],\n",
       "       [ 4,  9],\n",
       "       [ 9, 16]], dtype=int32)"
      ]
     },
     "execution_count": 282,
     "metadata": {},
     "output_type": "execute_result"
    }
   ],
   "source": [
    "b = a[index_bool]\n",
    "c = a[index2d]\n",
    "d = a[2]\n",
    "e = a[index]\n",
    "a[2] = 0\n",
    "c"
   ]
  },
  {
   "cell_type": "code",
   "execution_count": 283,
   "id": "350f8b46",
   "metadata": {},
   "outputs": [
    {
     "data": {
      "text/plain": [
       "(False, False, False)"
      ]
     },
     "execution_count": 283,
     "metadata": {},
     "output_type": "execute_result"
    }
   ],
   "source": [
    "b.base is a, c.base is a, e.base is a"
   ]
  },
  {
   "cell_type": "code",
   "execution_count": 284,
   "id": "7e7add55",
   "metadata": {},
   "outputs": [
    {
     "data": {
      "text/plain": [
       "array([[ 0,  1,  2,  3,  4,  5,  6,  7,  8,  9],\n",
       "       [10, 11, 12, 13, 14, 15, 16, 17, 18, 19],\n",
       "       [20, 21, 22, 23, 24, 25, 26, 27, 28, 29],\n",
       "       [30, 31, 32, 33, 34, 35, 36, 37, 38, 39],\n",
       "       [40, 41, 42, 43, 44, 45, 46, 47, 48, 49]])"
      ]
     },
     "execution_count": 284,
     "metadata": {},
     "output_type": "execute_result"
    }
   ],
   "source": [
    "array = np.arange(50).reshape((5, 10))\n",
    "array"
   ]
  },
  {
   "cell_type": "code",
   "execution_count": 286,
   "id": "5e3c8ca1",
   "metadata": {},
   "outputs": [],
   "source": [
    "i = [[2, 1], [2, 3]]\n",
    "j = [[0, 1], [1, 2]]\n",
    "i2 = [1,2,3]\n",
    "j2 = [1,2,3]"
   ]
  },
  {
   "cell_type": "code",
   "execution_count": 287,
   "id": "c0b9c8a0",
   "metadata": {},
   "outputs": [
    {
     "data": {
      "text/plain": [
       "array([[20, 11],\n",
       "       [21, 32]])"
      ]
     },
     "execution_count": 287,
     "metadata": {},
     "output_type": "execute_result"
    }
   ],
   "source": [
    "array[i, j] #i and j as the first and second dimension of array"
   ]
  },
  {
   "cell_type": "code",
   "execution_count": 291,
   "id": "f9bf5187",
   "metadata": {},
   "outputs": [
    {
     "data": {
      "text/plain": [
       "array([12, 20, 30])"
      ]
     },
     "execution_count": 291,
     "metadata": {},
     "output_type": "execute_result"
    }
   ],
   "source": [
    "array[[1,2,3], [2,0,0]]"
   ]
  },
  {
   "cell_type": "code",
   "execution_count": 293,
   "id": "6c879446",
   "metadata": {},
   "outputs": [
    {
     "data": {
      "text/plain": [
       "array([12, 22, 32])"
      ]
     },
     "execution_count": 293,
     "metadata": {},
     "output_type": "execute_result"
    }
   ],
   "source": [
    "array[[1,2,3], 2]"
   ]
  },
  {
   "cell_type": "code",
   "execution_count": null,
   "id": "aa74517e",
   "metadata": {},
   "outputs": [],
   "source": [
    "array[]"
   ]
  }
 ],
 "metadata": {
  "kernelspec": {
   "display_name": "Python 3 (ipykernel)",
   "language": "python",
   "name": "python3"
  },
  "language_info": {
   "codemirror_mode": {
    "name": "ipython",
    "version": 3
   },
   "file_extension": ".py",
   "mimetype": "text/x-python",
   "name": "python",
   "nbconvert_exporter": "python",
   "pygments_lexer": "ipython3",
   "version": "3.9.13"
  }
 },
 "nbformat": 4,
 "nbformat_minor": 5
}
