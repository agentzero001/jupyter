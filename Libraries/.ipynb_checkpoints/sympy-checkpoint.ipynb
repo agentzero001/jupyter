{
 "cells": [
  {
   "cell_type": "code",
   "execution_count": 159,
   "id": "d6e20f52",
   "metadata": {},
   "outputs": [],
   "source": [
    "import math\n",
    "import sympy as sp\n",
    "from fractions import Fraction\n",
    "from IPython.display import display"
   ]
  },
  {
   "cell_type": "code",
   "execution_count": 160,
   "id": "41b85b7c",
   "metadata": {},
   "outputs": [
    {
     "data": {
      "image/png": "[encoded data removed]",
      "text/latex": [
       "$\\displaystyle 2.828$"
      ],
      "text/plain": [
       "2.828"
      ]
     },
     "execution_count": 160,
     "metadata": {},
     "output_type": "execute_result"
    }
   ],
   "source": [
    "sp.N(sp.sqrt(8),4)"
   ]
  },
  {
   "cell_type": "code",
   "execution_count": 161,
   "id": "3365497a",
   "metadata": {},
   "outputs": [
    {
     "data": {
      "image/png": "[encoded data removed]",
      "text/latex": [
       "$\\displaystyle 2.828427$"
      ],
      "text/plain": [
       "2.828427"
      ]
     },
     "execution_count": 161,
     "metadata": {},
     "output_type": "execute_result"
    }
   ],
   "source": [
    "sp.sqrt(8).evalf(7)"
   ]
  },
  {
   "cell_type": "code",
   "execution_count": 162,
   "id": "d9729091",
   "metadata": {},
   "outputs": [
    {
     "data": {
      "image/png": "[encoded data removed]",
      "text/latex": [
       "$\\displaystyle 2 \\sqrt{2}$"
      ],
      "text/plain": [
       "2⋅√2"
      ]
     },
     "execution_count": 162,
     "metadata": {},
     "output_type": "execute_result"
    }
   ],
   "source": [
    "sp.sqrt(Fraction(16/2))"
   ]
  },
  {
   "cell_type": "code",
   "execution_count": 163,
   "id": "4dcff0ba",
   "metadata": {},
   "outputs": [
    {
     "data": {
      "image/png": "[encoded data removed]",
      "text/latex": [
       "$\\displaystyle \\frac{\\sqrt{2}}{2}$"
      ],
      "text/plain": [
       "√2\n",
       "──\n",
       "2 "
      ]
     },
     "execution_count": 163,
     "metadata": {},
     "output_type": "execute_result"
    }
   ],
   "source": [
    "sp.sqrt(sp.Rational(2/4))"
   ]
  },
  {
   "cell_type": "code",
   "execution_count": 164,
   "id": "541a3bc8",
   "metadata": {},
   "outputs": [],
   "source": [
    "sp.init_printing(pretty_print=True)"
   ]
  },
  {
   "cell_type": "code",
   "execution_count": 165,
   "id": "88ac0902",
   "metadata": {},
   "outputs": [
    {
     "data": {
      "image/png": "[encoded data removed]",
      "text/latex": [
       "$\\displaystyle \\frac{\\sqrt{2}}{2}$"
      ],
      "text/plain": [
       "√2\n",
       "──\n",
       "2 "
      ]
     },
     "execution_count": 165,
     "metadata": {},
     "output_type": "execute_result"
    }
   ],
   "source": [
    "sp.sqrt(sp.Rational(2/4))"
   ]
  },
  {
   "cell_type": "code",
   "execution_count": 166,
   "id": "22b86d11",
   "metadata": {},
   "outputs": [
    {
     "data": {
      "image/png": "[encoded data removed]",
      "text/latex": [
       "$\\displaystyle \\sqrt{2}$"
      ],
      "text/plain": [
       "√2"
      ]
     },
     "metadata": {},
     "output_type": "display_data"
    }
   ],
   "source": [
    "display(sp.sqrt(2))"
   ]
  },
  {
   "cell_type": "code",
   "execution_count": 167,
   "id": "5583b67b",
   "metadata": {},
   "outputs": [],
   "source": [
    "a, b, x = sp.symbols('a b x')"
   ]
  },
  {
   "cell_type": "code",
   "execution_count": 168,
   "id": "41a04562",
   "metadata": {},
   "outputs": [],
   "source": [
    "expr = a*(a + 6)\n",
    "expand_expr = sp.expand(expr)\n",
    "factor_expr = sp.factor(expand_expr)"
   ]
  },
  {
   "cell_type": "code",
   "execution_count": 169,
   "id": "00715886",
   "metadata": {},
   "outputs": [
    {
     "data": {
      "image/png": "[encoded data removed]",
      "text/latex": [
       "$\\displaystyle a \\left(a + 6\\right)$"
      ],
      "text/plain": [
       "a⋅(a + 6)"
      ]
     },
     "metadata": {},
     "output_type": "display_data"
    },
    {
     "data": {
      "image/png": "[encoded data removed]",
      "text/latex": [
       "$\\displaystyle a^{2} + 6 a$"
      ],
      "text/plain": [
       " 2      \n",
       "a  + 6⋅a"
      ]
     },
     "metadata": {},
     "output_type": "display_data"
    },
    {
     "data": {
      "image/png": "[encoded data removed]",
      "text/latex": [
       "$\\displaystyle a \\left(a + 6\\right)$"
      ],
      "text/plain": [
       "a⋅(a + 6)"
      ]
     },
     "metadata": {},
     "output_type": "display_data"
    }
   ],
   "source": [
    "display(expr)\n",
    "display(expand_expr)\n",
    "display(factor_expr)"
   ]
  },
  {
   "cell_type": "code",
   "execution_count": 170,
   "id": "de57726d",
   "metadata": {},
   "outputs": [
    {
     "data": {
      "image/png": "[encoded data removed]",
      "text/latex": [
       "$\\displaystyle a \\left(a + 6\\right)$"
      ],
      "text/plain": [
       "a⋅(a + 6)"
      ]
     },
     "execution_count": 170,
     "metadata": {},
     "output_type": "execute_result"
    }
   ],
   "source": [
    "sp.factor(expand_expr)"
   ]
  },
  {
   "cell_type": "code",
   "execution_count": 171,
   "id": "ad9f35f6",
   "metadata": {},
   "outputs": [
    {
     "data": {
      "image/png": "[encoded data removed]",
      "text/latex": [
       "$\\displaystyle a^{2} + 6 a$"
      ],
      "text/plain": [
       " 2      \n",
       "a  + 6⋅a"
      ]
     },
     "execution_count": 171,
     "metadata": {},
     "output_type": "execute_result"
    }
   ],
   "source": [
    "expand_expr"
   ]
  },
  {
   "cell_type": "code",
   "execution_count": null,
   "id": "5fd4e39d",
   "metadata": {},
   "outputs": [],
   "source": []
  }
 ],
 "metadata": {
  "kernelspec": {
   "display_name": "Python 3 (ipykernel)",
   "language": "python",
   "name": "python3"
  },
  "language_info": {
   "codemirror_mode": {
    "name": "ipython",
    "version": 3
   },
   "file_extension": ".py",
   "mimetype": "text/x-python",
   "name": "python",
   "nbconvert_exporter": "python",
   "pygments_lexer": "ipython3",
   "version": "3.9.13"
  }
 },
 "nbformat": 4,
 "nbformat_minor": 5
}
