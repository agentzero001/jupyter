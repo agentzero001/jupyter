{
 "cells": [
  {
   "cell_type": "code",
   "execution_count": 1,
   "id": "dffc6d9f",
   "metadata": {},
   "outputs": [],
   "source": [
    "import matplotlib.pyplot as plt\n",
    "import numpy as np\n",
    "from ipywidgets import interact, FloatSlider, Label"
   ]
  },
  {
   "cell_type": "code",
   "execution_count": 2,
   "id": "b45c5032",
   "metadata": {},
   "outputs": [
    {
     "data": {
      "application/vnd.jupyter.widget-view+json": {
       "model_id": "b40f6677219d4cd5b01a0df1d4d08de5",
       "version_major": 2,
       "version_minor": 0
      },
      "text/plain": [
       "Label(value='')"
      ]
     },
     "metadata": {},
     "output_type": "display_data"
    },
    {
     "data": {
      "application/vnd.jupyter.widget-view+json": {
       "model_id": "dc9e515f49f94e2382dcc663a1953dea",
       "version_major": 2,
       "version_minor": 0
      },
      "text/plain": [
       "interactive(children=(FloatSlider(value=1.0, description='m', max=10.0, min=-10.0), FloatSlider(value=0.0, des…"
      ]
     },
     "metadata": {},
     "output_type": "display_data"
    },
    {
     "data": {
      "text/plain": [
       "<function __main__.plot_line(m, b, zoom, shift, move)>"
      ]
     },
     "execution_count": 2,
     "metadata": {},
     "output_type": "execute_result"
    }
   ],
   "source": [
    "def plot_line(m, b, zoom, shift, move):\n",
    "    x = np.arange(-200, 200, 5)\n",
    "    y = m * x + b\n",
    "\n",
    "    plt.figure(figsize=(8, 6), facecolor='.3')\n",
    "    plt.axes().set_facecolor('black')\n",
    "    plt.axhline(0, color='grey', linewidth=0.5)  \n",
    "    plt.axvline(0, color='grey', linewidth=0.5)  \n",
    "    plt.plot(x, y, color='green', alpha=.8)\n",
    "    plt.xlabel('x')\n",
    "    plt.ylabel('y')\n",
    "    plt.title('Interactive Line Plot')\n",
    "    plt.grid(True, alpha=.2)\n",
    "    plt.xlim(-zoom + shift, zoom + shift)  \n",
    "    plt.ylim(-zoom + move, zoom + move)  \n",
    "    plt.show()\n",
    "\n",
    "   \n",
    "    equation = f'f(x) = {m}x + {b}'\n",
    "    display_label.value = equation\n",
    "\n",
    "\n",
    "m_slider = FloatSlider(min=-10, max=10, step=0.1, value=1)\n",
    "b_slider = FloatSlider(min=-100, max=100, step=0.1, value=0)\n",
    "zoom_slider = FloatSlider(min=1, max=100, step=0.1, value=50)\n",
    "shift_slider = FloatSlider(min=-100, max=100, step=1, value=0)\n",
    "move_slider = FloatSlider(min=-100, max=100, step=1, value=0)\n",
    "\n",
    "display_label = Label()\n",
    "display(display_label)\n",
    "interact(plot_line, m=m_slider, b=b_slider, zoom=zoom_slider, shift=shift_slider, move=move_slider)"
   ]
  },
  {
   "cell_type": "code",
   "execution_count": 4,
   "id": "9558429a",
   "metadata": {},
   "outputs": [
    {
     "data": {
      "application/vnd.jupyter.widget-view+json": {
       "model_id": "16b505e792f54d67b67261f20932bf79",
       "version_major": 2,
       "version_minor": 0
      },
      "text/plain": [
       "Label(value='')"
      ]
     },
     "metadata": {},
     "output_type": "display_data"
    },
    {
     "data": {
      "application/vnd.jupyter.widget-view+json": {
       "model_id": "e6a15d034a8f44e9b598a290ea7e94fa",
       "version_major": 2,
       "version_minor": 0
      },
      "text/plain": [
       "interactive(children=(FloatSlider(value=1.0, description='m', max=10.0, min=-10.0), FloatSlider(value=0.0, des…"
      ]
     },
     "metadata": {},
     "output_type": "display_data"
    },
    {
     "data": {
      "text/plain": [
       "<function __main__.plot_line(m, b)>"
      ]
     },
     "execution_count": 4,
     "metadata": {},
     "output_type": "execute_result"
    }
   ],
   "source": [
    "def plot_line(m, b):\n",
    "    x = np.arange(-200, 200, 5)\n",
    "    y = m * x + b\n",
    "\n",
    "    plt.figure(figsize=(8, 6), facecolor='.3')\n",
    "    plt.axes().set_facecolor('black')\n",
    "    plt.axhline(0, color='grey', linewidth=0.5)  \n",
    "    plt.axvline(0, color='grey', linewidth=0.5)  \n",
    "    plt.plot(x, y, color='green', alpha=.8)\n",
    "    plt.xlabel('x')\n",
    "    plt.ylabel('y')\n",
    "    plt.title('Interactive Line Plot')\n",
    "    plt.grid(True, alpha=.2)\n",
    "    plt.xlim(-100,100)\n",
    "    plt.ylim(-100,100)\n",
    "    plt.show()\n",
    "\n",
    "   \n",
    "    equation = f'f(x) = {m}x + {b}'\n",
    "    display_label.value = equation\n",
    "\n",
    "\n",
    "m_slider = FloatSlider(min=-10, max=10, step=0.1, value=1)\n",
    "b_slider = FloatSlider(min=-100, max=100, step=0.1, value=0)\n",
    "\n",
    "display_label = Label()\n",
    "display(display_label)\n",
    "interact(plot_line, m=m_slider, b=b_slider)"
   ]
  },
  {
   "cell_type": "code",
   "execution_count": 28,
   "id": "9a041bc6",
   "metadata": {},
   "outputs": [
    {
     "data": {
      "application/vnd.jupyter.widget-view+json": {
       "model_id": "e21fcdb52bf84939acd3355473bd7f9e",
       "version_major": 2,
       "version_minor": 0
      },
      "text/plain": [
       "Label(value='')"
      ]
     },
     "metadata": {},
     "output_type": "display_data"
    },
    {
     "data": {
      "application/vnd.jupyter.widget-view+json": {
       "model_id": "31f8bb5b0e5f4b2ab548a896ee1ec93f",
       "version_major": 2,
       "version_minor": 0
      },
      "text/plain": [
       "interactive(children=(FloatSlider(value=1.0, description='m', max=10.0, min=-10.0), FloatSlider(value=0.0, des…"
      ]
     },
     "metadata": {},
     "output_type": "display_data"
    },
    {
     "data": {
      "text/plain": [
       "<function __main__.plot_line(m, b, c)>"
      ]
     },
     "execution_count": 28,
     "metadata": {},
     "output_type": "execute_result"
    }
   ],
   "source": [
    "def plot_line(a, b, c):\n",
    "    x = np.arange(-200, 200, 40)\n",
    "    y = ax**2 + bx + c\n",
    "\n",
    "    plt.figure(figsize=(12, 6), facecolor='.3')\n",
    "\n",
    "    \n",
    "    ax1 = plt.subplot(121)\n",
    "    ax1.set_facecolor('black')\n",
    "    ax1.axhline(0, color='grey', linewidth=0.5)\n",
    "    ax1.axvline(0, color='grey', linewidth=0.5)\n",
    "    ax1.plot(x, y, color='green', alpha=0.8)\n",
    "    ax1.set_xlabel('x')\n",
    "    ax1.set_ylabel('y')\n",
    "    ax1.set_title('Interactive Line Plot')\n",
    "    ax1.grid(True, alpha=0.2)\n",
    "    ax1.set_xlim(-100, 100)\n",
    "    ax1.set_ylim(-100, 100)\n",
    "\n",
    "\n",
    "    ax2 = plt.subplot(122)\n",
    "    ax2.set_facecolor('black')\n",
    "    ax2.scatter(m, b, s=200)\n",
    "    ax2.set_xlabel('m')\n",
    "    ax2.set_ylabel('b')\n",
    "    ax2.set_title('Parameter Space')\n",
    "    ax2.grid(True, alpha=0.2)\n",
    "    ax2.set_xlim(-10, 10)\n",
    "    ax2.set_ylim(-100, 100)\n",
    "    \n",
    "    plt.show()\n",
    "\n",
    "    equation = f'f(x) = {m}(x + {c}) + ({b})'\n",
    "    display_label.value = equation\n",
    "\n",
    "\n",
    "    \n",
    "m_slider = FloatSlider(min=-10, max=10, step=0.1, value=1)\n",
    "b_slider = FloatSlider(min=-100, max=100, step=0.1, value=0)\n",
    "c_slider = FloatSlider(min=-10, max=10, step=0.1, value=0)\n",
    "\n",
    "\n",
    "display_label = Label()\n",
    "display(display_label)\n",
    "interact(plot_line, m=m_slider, b=b_slider, c=c_slider, continuous_update=False)"
   ]
  },
  {
   "cell_type": "code",
   "execution_count": null,
   "id": "9d71d91f",
   "metadata": {},
   "outputs": [],
   "source": [
    "\n"
   ]
  }
 ],
 "metadata": {
  "kernelspec": {
   "display_name": "Python 3 (ipykernel)",
   "language": "python",
   "name": "python3"
  },
  "language_info": {
   "codemirror_mode": {
    "name": "ipython",
    "version": 3
   },
   "file_extension": ".py",
   "mimetype": "text/x-python",
   "name": "python",
   "nbconvert_exporter": "python",
   "pygments_lexer": "ipython3",
   "version": "3.10.9"
  }
 },
 "nbformat": 4,
 "nbformat_minor": 5
}
