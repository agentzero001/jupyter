{
 "cells": [
  {
   "cell_type": "code",
   "execution_count": 1,
   "id": "2e7a06cb",
   "metadata": {},
   "outputs": [
    {
     "ename": "ModuleNotFoundError",
     "evalue": "No module named 'ipywidgets'",
     "output_type": "error",
     "traceback": [
      "\u001b[1;31m---------------------------------------------------------------------------\u001b[0m",
      "\u001b[1;31mModuleNotFoundError\u001b[0m                       Traceback (most recent call last)",
      "Cell \u001b[1;32mIn[1], line 3\u001b[0m\n\u001b[0;32m      1\u001b[0m \u001b[38;5;28;01mimport\u001b[39;00m \u001b[38;5;21;01mmatplotlib\u001b[39;00m\u001b[38;5;21;01m.\u001b[39;00m\u001b[38;5;21;01mpyplot\u001b[39;00m \u001b[38;5;28;01mas\u001b[39;00m \u001b[38;5;21;01mplt\u001b[39;00m\n\u001b[0;32m      2\u001b[0m \u001b[38;5;28;01mimport\u001b[39;00m \u001b[38;5;21;01mnumpy\u001b[39;00m \u001b[38;5;28;01mas\u001b[39;00m \u001b[38;5;21;01mnp\u001b[39;00m\n\u001b[1;32m----> 3\u001b[0m \u001b[38;5;28;01mfrom\u001b[39;00m \u001b[38;5;21;01mipywidgets\u001b[39;00m \u001b[38;5;28;01mimport\u001b[39;00m interact, FloatSlider, Label\n",
      "\u001b[1;31mModuleNotFoundError\u001b[0m: No module named 'ipywidgets'"
     ]
    }
   ],
   "source": [
    "import matplotlib.pyplot as plt\n",
    "import numpy as np\n",
    "from ipywidgets import interact, FloatSlider, Label"
   ]
  },
  {
   "cell_type": "code",
   "execution_count": null,
   "id": "f260623f",
   "metadata": {},
   "outputs": [],
   "source": [
    "def plot_line(m, b, zoom, shift, move):\n",
    "    x = np.arange(-200, 200, 5)\n",
    "    y = m * x + b\n",
    "\n",
    "    plt.figure(figsize=(8, 6), facecolor='.3')\n",
    "    plt.axes().set_facecolor('black')\n",
    "    plt.axhline(0, color='grey', linewidth=0.5)  \n",
    "    plt.axvline(0, color='grey', linewidth=0.5)  \n",
    "    plt.plot(x, y, color='green', alpha=.8)\n",
    "    plt.xlabel('x')\n",
    "    plt.ylabel('y')\n",
    "    plt.title('Interactive Line Plot')\n",
    "    plt.grid(True, alpha=.2)\n",
    "    plt.xlim(-zoom + shift, zoom + shift)  \n",
    "    plt.ylim(-zoom + move, zoom + move)  \n",
    "    plt.show()\n",
    "\n",
    "   \n",
    "    equation = f'f(x) = {m}x + {b}'\n",
    "    display_label.value = equation\n",
    "\n",
    "\n",
    "m_slider = FloatSlider(min=-10, max=10, step=0.1, value=1)\n",
    "b_slider = FloatSlider(min=-100, max=100, step=0.1, value=0)\n",
    "zoom_slider = FloatSlider(min=1, max=100, step=0.1, value=50)\n",
    "shift_slider = FloatSlider(min=-100, max=100, step=1, value=0)\n",
    "move_slider = FloatSlider(min=-100, max=100, step=1, value=0)\n",
    "\n",
    "display_label = Label()\n",
    "display(display_label)\n",
    "interact(plot_line, m=m_slider, b=b_slider, zoom=zoom_slider, shift=shift_slider, move=move_slider)"
   ]
  },
  {
   "cell_type": "code",
   "execution_count": null,
   "id": "f9b55569",
   "metadata": {},
   "outputs": [],
   "source": []
  }
 ],
 "metadata": {
  "kernelspec": {
   "display_name": "Python 3 (ipykernel)",
   "language": "python",
   "name": "python3"
  },
  "language_info": {
   "codemirror_mode": {
    "name": "ipython",
    "version": 3
   },
   "file_extension": ".py",
   "mimetype": "text/x-python",
   "name": "python",
   "nbconvert_exporter": "python",
   "pygments_lexer": "ipython3",
   "version": "3.11.3"
  }
 },
 "nbformat": 4,
 "nbformat_minor": 5
}
