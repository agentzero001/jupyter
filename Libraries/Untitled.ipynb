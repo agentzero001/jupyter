{
 "cells": [
  {
   "cell_type": "code",
   "execution_count": 103,
   "id": "ac9ecd9a",
   "metadata": {},
   "outputs": [],
   "source": [
    "import random"
   ]
  },
  {
   "cell_type": "code",
   "execution_count": 104,
   "id": "4827a040",
   "metadata": {},
   "outputs": [],
   "source": [
    "def ins_sort(A):\n",
    "    L = A.copy()\n",
    "    for j in range(1, len(L)):\n",
    "        key = L[j]\n",
    "        i = j - 1\n",
    "        while i >= 0 and L[i] > key:\n",
    "            L[i+1] = L[i]\n",
    "            i -= 1\n",
    "            L[i+1] = key\n",
    "    return L"
   ]
  },
  {
   "cell_type": "code",
   "execution_count": 105,
   "id": "6e762909",
   "metadata": {},
   "outputs": [],
   "source": [
    "def bubble_sort(arr):\n",
    "    n = len(arr)\n",
    "\n",
    "    for i in range(n):\n",
    "        for j in range(n-i-1):\n",
    "            if arr[j] > arr[j+1]:\n",
    "                arr[j], arr[j+1] = arr[j+1], arr[j]\n",
    "\n",
    "    return arr"
   ]
  },
  {
   "cell_type": "code",
   "execution_count": 106,
   "id": "f8f1a4a2",
   "metadata": {},
   "outputs": [],
   "source": [
    "def merge_sort(arr):\n",
    "    if len(arr) <= 1:\n",
    "        return arr\n",
    "\n",
    "    mid = len(arr) // 2\n",
    "    left_half = arr[:mid]\n",
    "    right_half = arr[mid:]\n",
    "\n",
    "    left_half = merge_sort(left_half)\n",
    "    right_half = merge_sort(right_half)\n",
    "\n",
    "    return merge(left_half, right_half)\n",
    "\n",
    "\n",
    "def merge(left_half, right_half):\n",
    "    result = []\n",
    "    left_index = right_index = 0\n",
    "\n",
    "    while left_index < len(left_half) and right_index < len(right_half):\n",
    "        if left_half[left_index] < right_half[right_index]:\n",
    "            result.append(left_half[left_index])\n",
    "            left_index += 1\n",
    "        else:\n",
    "            result.append(right_half[right_index])\n",
    "            right_index += 1\n",
    "\n",
    "    result.extend(left_half[left_index:])\n",
    "    result.extend(right_half[right_index:])\n",
    "    return result"
   ]
  },
  {
   "cell_type": "code",
   "execution_count": 118,
   "id": "36973ad6",
   "metadata": {},
   "outputs": [
    {
     "data": {
      "text/plain": [
       "[9,\n",
       " 22,\n",
       " 4,\n",
       " 25,\n",
       " 7,\n",
       " 11,\n",
       " 21,\n",
       " 6,\n",
       " 13,\n",
       " 10,\n",
       " 29,\n",
       " 5,\n",
       " 19,\n",
       " 12,\n",
       " 8,\n",
       " 0,\n",
       " 28,\n",
       " 2,\n",
       " 20,\n",
       " 3,\n",
       " 24,\n",
       " 26,\n",
       " 15,\n",
       " 1,\n",
       " 27,\n",
       " 16,\n",
       " 14,\n",
       " 17,\n",
       " 18,\n",
       " 23]"
      ]
     },
     "execution_count": 118,
     "metadata": {},
     "output_type": "execute_result"
    }
   ],
   "source": [
    "list1 = list(range(30))\n",
    "random.shuffle(list1)\n",
    "list1"
   ]
  },
  {
   "cell_type": "code",
   "execution_count": 119,
   "id": "c95c611b",
   "metadata": {},
   "outputs": [
    {
     "name": "stdout",
     "output_type": "stream",
     "text": [
      "224 µs ± 59.1 µs per loop (mean ± std. dev. of 7 runs, 1000 loops each)\n"
     ]
    }
   ],
   "source": [
    "%timeit bubble_sort(list1)"
   ]
  },
  {
   "cell_type": "code",
   "execution_count": 120,
   "id": "44128677",
   "metadata": {},
   "outputs": [
    {
     "name": "stdout",
     "output_type": "stream",
     "text": [
      "13.5 µs ± 1.52 µs per loop (mean ± std. dev. of 7 runs, 100000 loops each)\n"
     ]
    }
   ],
   "source": [
    "%timeit ins_sort(list1)"
   ]
  },
  {
   "cell_type": "code",
   "execution_count": null,
   "id": "6e9c4e53",
   "metadata": {},
   "outputs": [],
   "source": []
  }
 ],
 "metadata": {
  "kernelspec": {
   "display_name": "Python 3 (ipykernel)",
   "language": "python",
   "name": "python3"
  },
  "language_info": {
   "codemirror_mode": {
    "name": "ipython",
    "version": 3
   },
   "file_extension": ".py",
   "mimetype": "text/x-python",
   "name": "python",
   "nbconvert_exporter": "python",
   "pygments_lexer": "ipython3",
   "version": "3.9.13"
  }
 },
 "nbformat": 4,
 "nbformat_minor": 5
}
