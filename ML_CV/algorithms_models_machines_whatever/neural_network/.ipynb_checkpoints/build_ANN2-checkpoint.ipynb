{
 "cells": [
  {
   "cell_type": "code",
   "execution_count": 28,
   "id": "de17a866",
   "metadata": {},
   "outputs": [],
   "source": [
    "import numpy as np\n",
    "import matplotlib.pyplot as plt\n",
    "plt.rcParams['figure.facecolor'] = '0.2'"
   ]
  },
  {
   "cell_type": "code",
   "execution_count": 33,
   "id": "cdd3838f",
   "metadata": {},
   "outputs": [
    {
     "data": {
      "text/plain": [
       "array([[1., 0., 1., 0., 1., 0.],\n",
       "       [1., 0., 0., 1., 1., 0.],\n",
       "       [1., 1., 1., 0., 1., 0.],\n",
       "       [1., 1., 1., 1., 0., 1.],\n",
       "       [1., 0., 0., 0., 1., 0.]])"
      ]
     },
     "execution_count": 33,
     "metadata": {},
     "output_type": "execute_result"
    }
   ],
   "source": [
    "np.random.seed(15)\n",
    "data =  np.array([0,1,0,1,0,0,0,1,1,0,1,1,0,1,0,1,1,1,0,1,0,0,0,1,0]).reshape(5,5)\n",
    "xs = np.c_[np.ones([data.shape[0]]), data] \n",
    "xs"
   ]
  },
  {
   "cell_type": "code",
   "execution_count": 34,
   "id": "cc9da5ac",
   "metadata": {},
   "outputs": [
    {
     "data": {
      "text/plain": [
       "array([[0],\n",
       "       [0],\n",
       "       [0],\n",
       "       [3],\n",
       "       [3]])"
      ]
     },
     "execution_count": 34,
     "metadata": {},
     "output_type": "execute_result"
    }
   ],
   "source": [
    "ys = np.array([0, 0, 0, 3, 3])\n",
    "ys.resize(5,1)\n",
    "ys"
   ]
  },
  {
   "cell_type": "code",
   "execution_count": 35,
   "id": "822933a9",
   "metadata": {},
   "outputs": [],
   "source": [
    "weights = lambda ins, outs: np.random.randn(ins, outs)"
   ]
  },
  {
   "cell_type": "code",
   "execution_count": 36,
   "id": "3698c04e",
   "metadata": {},
   "outputs": [],
   "source": [
    "ins = 5\n",
    "outs = 1\n",
    "nodes = 15\n",
    "\n",
    "wi = weights(ins+1, nodes)\n",
    "ws = weights(nodes, outs) \n",
    "err = []"
   ]
  },
  {
   "cell_type": "code",
   "execution_count": 37,
   "id": "f1ee8a28",
   "metadata": {},
   "outputs": [
    {
     "name": "stdout",
     "output_type": "stream",
     "text": [
      "we have converged after 1077 iterations\n",
      "[[-0.5609078038767273 ]\n",
      " [-1.1099242514466754 ]\n",
      " [ 1.8812430910197684 ]\n",
      " [-1.4373416928433977 ]\n",
      " [-0.6299355267720862 ]\n",
      " [-0.3172980820851355 ]\n",
      " [-0.8275668382984849 ]\n",
      " [-0.3756979783039195 ]\n",
      " [ 0.8663578953488715 ]\n",
      " [-0.31826960750728706]\n",
      " [-0.652321982109338  ]\n",
      " [-1.0213550293542641 ]\n",
      " [-0.15651239609979267]\n",
      " [ 0.04947396649833917]\n",
      " [-1.1310544120199852 ]]\n"
     ]
    }
   ],
   "source": [
    "for i in range(5000):\n",
    "    x = xs @ wi\n",
    "    x = np.sin(x)\n",
    "    yh = x @ ws\n",
    "    e = yh - ys           \n",
    "    e = np.sum(np.abs(e)) \n",
    "    if e < 0.05:\n",
    "        print('we have converged after {} iterations'.format(i))\n",
    "        print(ws)\n",
    "        break\n",
    "    else: \n",
    "        mutation = weights(nodes, outs)*.03\n",
    "        cw = ws + mutation\n",
    "        \n",
    "        x = xs @ wi\n",
    "        x = np.sin(x)\n",
    "        yh = x @ cw\n",
    "        ce = yh - ys\n",
    "        ce = np.sum(np.abs(ce))\n",
    "        if ce < e:\n",
    "            ws = cw\n",
    "            err.append(e)"
   ]
  },
  {
   "cell_type": "code",
   "execution_count": 38,
   "id": "1b29e1a7",
   "metadata": {},
   "outputs": [
    {
     "data": {
      "image/png": "[encoded data removed]",
      "text/plain": [
       "<Figure size 640x480 with 1 Axes>"
      ]
     },
     "metadata": {},
     "output_type": "display_data"
    }
   ],
   "source": [
    "plt.axes().set_facecolor('black')\n",
    "plt.plot(err,color='red', linewidth=1)\n",
    "plt.show()"
   ]
  },
  {
   "cell_type": "code",
   "execution_count": 39,
   "id": "4c9fdea6",
   "metadata": {},
   "outputs": [
    {
     "data": {
      "text/plain": [
       "(74, 0.05491996780834696)"
      ]
     },
     "execution_count": 39,
     "metadata": {},
     "output_type": "execute_result"
    }
   ],
   "source": [
    "len(err), min(err)"
   ]
  },
  {
   "cell_type": "code",
   "execution_count": 40,
   "id": "41ddbb85",
   "metadata": {},
   "outputs": [],
   "source": [
    "np.set_printoptions(suppress=False, floatmode='unique')\n",
    "#np.set_printoptions(suppress=True, floatmode='unique')"
   ]
  },
  {
   "cell_type": "code",
   "execution_count": 41,
   "id": "91a6d15c",
   "metadata": {},
   "outputs": [
    {
     "name": "stdout",
     "output_type": "stream",
     "text": [
      "[[0]\n",
      " [0]\n",
      " [0]\n",
      " [3]\n",
      " [3]]\n",
      "[[ 9.9884641750251912e-03]\n",
      " [ 6.6401214258249297e-04]\n",
      " [-3.4662347372549362e-03]\n",
      " [ 2.9854330835821732e+00]\n",
      " [ 2.9941144718983113e+00]]\n"
     ]
    }
   ],
   "source": [
    "print(ys)\n",
    "print(yh)"
   ]
  },
  {
   "cell_type": "code",
   "execution_count": 42,
   "id": "2d2a670a",
   "metadata": {},
   "outputs": [
    {
     "data": {
      "text/plain": [
       "(array([2.985433083582173]), array([3]))"
      ]
     },
     "execution_count": 42,
     "metadata": {},
     "output_type": "execute_result"
    }
   ],
   "source": [
    "x = xs[3] @ wi\n",
    "x = np.sin(x)\n",
    "solution_ = x @ ws\n",
    "solution_, ys[3] #see what happend?"
   ]
  },
  {
   "cell_type": "code",
   "execution_count": null,
   "id": "c6e8ea39",
   "metadata": {},
   "outputs": [],
   "source": []
  }
 ],
 "metadata": {
  "kernelspec": {
   "display_name": "Python 3 (ipykernel)",
   "language": "python",
   "name": "python3"
  },
  "language_info": {
   "codemirror_mode": {
    "name": "ipython",
    "version": 3
   },
   "file_extension": ".py",
   "mimetype": "text/x-python",
   "name": "python",
   "nbconvert_exporter": "python",
   "pygments_lexer": "ipython3",
   "version": "3.9.13"
  }
 },
 "nbformat": 4,
 "nbformat_minor": 5
}
