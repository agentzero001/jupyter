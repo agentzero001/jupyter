{
 "cells": [
  {
   "cell_type": "code",
   "execution_count": 1,
   "id": "de17a866",
   "metadata": {},
   "outputs": [],
   "source": [
    "import numpy as np\n",
    "import matplotlib.pyplot as plt\n",
    "plt.rcParams['figure.facecolor'] = '0.2'"
   ]
  },
  {
   "cell_type": "code",
   "execution_count": 2,
   "id": "cdd3838f",
   "metadata": {},
   "outputs": [
    {
     "data": {
      "text/plain": [
       "(15, 6)"
      ]
     },
     "execution_count": 2,
     "metadata": {},
     "output_type": "execute_result"
    }
   ],
   "source": [
    "obs = 15\n",
    "np.random.seed(15)\n",
    "data = np.random.randint(0,5, obs*5).reshape(obs,5)\n",
    "data_unique = np.unique(data, axis=0)\n",
    "xs = np.c_[np.ones([data_unique.shape[0]]), data_unique] \n",
    "xs.shape"
   ]
  },
  {
   "cell_type": "code",
   "execution_count": 3,
   "id": "502ddbd8",
   "metadata": {},
   "outputs": [
    {
     "data": {
      "text/plain": [
       "array([[1., 0., 3., 0., 4., 3.],\n",
       "       [1., 0., 3., 2., 4., 2.],\n",
       "       [1., 0., 4., 0., 4., 3.],\n",
       "       [1., 0., 4., 4., 4., 3.]])"
      ]
     },
     "execution_count": 3,
     "metadata": {},
     "output_type": "execute_result"
    }
   ],
   "source": [
    "xs[:4]"
   ]
  },
  {
   "cell_type": "code",
   "execution_count": 4,
   "id": "cc9da5ac",
   "metadata": {},
   "outputs": [
    {
     "data": {
      "text/plain": [
       "array([[5],\n",
       "       [3],\n",
       "       [3],\n",
       "       [4]])"
      ]
     },
     "execution_count": 4,
     "metadata": {},
     "output_type": "execute_result"
    }
   ],
   "source": [
    "ys = np.random.choice(list(range(1,10)), obs)\n",
    "ys.resize(obs,1)\n",
    "ys[:4]"
   ]
  },
  {
   "cell_type": "code",
   "execution_count": 5,
   "id": "822933a9",
   "metadata": {},
   "outputs": [],
   "source": [
    "weights = lambda ins, outs: np.random.randn(ins, outs)"
   ]
  },
  {
   "cell_type": "code",
   "execution_count": 12,
   "id": "3698c04e",
   "metadata": {},
   "outputs": [],
   "source": [
    "ins = 5\n",
    "outs = 1\n",
    "nodes = 18\n",
    "lr = .01\n",
    "\n",
    "w0 = weights(ins+1, nodes)\n",
    "w1 = weights(nodes, outs) \n",
    "err = []"
   ]
  },
  {
   "cell_type": "code",
   "execution_count": 13,
   "id": "f1ee8a28",
   "metadata": {},
   "outputs": [
    {
     "name": "stdout",
     "output_type": "stream",
     "text": [
      "we have converged after 170 iterations\n",
      "[[ 0.49156691]\n",
      " [-0.72718332]\n",
      " [-0.52819055]\n",
      " [-0.75246623]\n",
      " [ 0.78870898]\n",
      " [ 0.44185788]\n",
      " [ 0.57172687]\n",
      " [-0.40596283]\n",
      " [ 0.60275042]\n",
      " [ 0.17471783]\n",
      " [ 0.65716596]\n",
      " [-0.70835116]\n",
      " [-0.91628271]\n",
      " [-0.50763454]\n",
      " [-0.35726904]\n",
      " [ 0.70435054]\n",
      " [ 0.28874056]\n",
      " [ 0.74158304]]\n"
     ]
    }
   ],
   "source": [
    "for i in range(10000):\n",
    "    x0 = xs\n",
    "    z0 = x0 @ w0\n",
    "    x1 = np.sin(z0)\n",
    "    yh = x1 @ w1\n",
    "    \n",
    "    e = (yh - ys) * 1\n",
    "    e0 = (e * w1.T) * np.cos(z0)\n",
    "\n",
    "    w1 -= (x1.T @ e) * lr\n",
    "    w0 -= (x0.T @ e0) * lr\n",
    "    \n",
    "    e = np.sum(np.abs(e))\n",
    "    \n",
    "    if e < .0001:\n",
    "        print('we have converged after {} iterations'.format(i))\n",
    "        print(w1)\n",
    "        break\n",
    "    err.append(e)"
   ]
  },
  {
   "cell_type": "code",
   "execution_count": 14,
   "id": "1ed1e944",
   "metadata": {},
   "outputs": [
    {
     "data": {
      "text/plain": [
       "(170, 0.00010452560795282118)"
      ]
     },
     "execution_count": 14,
     "metadata": {},
     "output_type": "execute_result"
    }
   ],
   "source": [
    "len(err), min(err)"
   ]
  },
  {
   "cell_type": "code",
   "execution_count": 15,
   "id": "1b29e1a7",
   "metadata": {},
   "outputs": [
    {
     "data": {
      "image/png": "[encoded data removed]",
      "text/plain": [
       "<Figure size 640x480 with 1 Axes>"
      ]
     },
     "metadata": {},
     "output_type": "display_data"
    }
   ],
   "source": [
    "plt.axes().set_facecolor('black')\n",
    "plt.plot(err,color='red', linewidth=1)\n",
    "plt.show()"
   ]
  },
  {
   "cell_type": "code",
   "execution_count": 10,
   "id": "b0d3666f",
   "metadata": {},
   "outputs": [
    {
     "data": {
      "text/plain": [
       "array([[5.00000665],\n",
       "       [3.00000438],\n",
       "       [3.00000263],\n",
       "       [4.00001506],\n",
       "       [3.9999981 ],\n",
       "       [4.99999973],\n",
       "       [3.99999254],\n",
       "       [6.00000047],\n",
       "       [3.9999959 ],\n",
       "       [0.99999765],\n",
       "       [0.99998749],\n",
       "       [7.00000608],\n",
       "       [2.00000224],\n",
       "       [3.00001243],\n",
       "       [2.99998736]])"
      ]
     },
     "execution_count": 10,
     "metadata": {},
     "output_type": "execute_result"
    }
   ],
   "source": [
    "yh"
   ]
  },
  {
   "cell_type": "code",
   "execution_count": 11,
   "id": "2843e01f",
   "metadata": {},
   "outputs": [
    {
     "data": {
      "text/plain": [
       "array([[5],\n",
       "       [3],\n",
       "       [3],\n",
       "       [4],\n",
       "       [4],\n",
       "       [5],\n",
       "       [4],\n",
       "       [6],\n",
       "       [4],\n",
       "       [1],\n",
       "       [1],\n",
       "       [7],\n",
       "       [2],\n",
       "       [3],\n",
       "       [3]])"
      ]
     },
     "execution_count": 11,
     "metadata": {},
     "output_type": "execute_result"
    }
   ],
   "source": [
    "ys"
   ]
  },
  {
   "cell_type": "code",
   "execution_count": null,
   "id": "ffa06ea8",
   "metadata": {},
   "outputs": [],
   "source": []
  },
  {
   "cell_type": "code",
   "execution_count": null,
   "id": "582760b0",
   "metadata": {},
   "outputs": [],
   "source": []
  }
 ],
 "metadata": {
  "kernelspec": {
   "display_name": "Python 3 (ipykernel)",
   "language": "python",
   "name": "python3"
  },
  "language_info": {
   "codemirror_mode": {
    "name": "ipython",
    "version": 3
   },
   "file_extension": ".py",
   "mimetype": "text/x-python",
   "name": "python",
   "nbconvert_exporter": "python",
   "pygments_lexer": "ipython3",
   "version": "3.11.3"
  }
 },
 "nbformat": 4,
 "nbformat_minor": 5
}
