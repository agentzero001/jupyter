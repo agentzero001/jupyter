{
 "cells": [
  {
   "cell_type": "code",
   "execution_count": 1,
   "id": "de17a866",
   "metadata": {},
   "outputs": [],
   "source": [
    "import numpy as np\n",
    "import matplotlib.pyplot as plt\n",
    "plt.rcParams['figure.facecolor'] = '0.2'\n",
    "plt.rcParams['axes.facecolor'] = 'black'"
   ]
  },
  {
   "cell_type": "code",
   "execution_count": 2,
   "id": "cdd3838f",
   "metadata": {},
   "outputs": [
    {
     "data": {
      "text/plain": [
       "(15, 6)"
      ]
     },
     "execution_count": 2,
     "metadata": {},
     "output_type": "execute_result"
    }
   ],
   "source": [
    "obs = 15\n",
    "np.random.seed(15)\n",
    "data = np.random.randint(0,5, obs*5).reshape(obs,5)\n",
    "data_unique = np.unique(data, axis=0)\n",
    "xs = np.c_[np.ones([data_unique.shape[0]]), data_unique] \n",
    "xs.shape"
   ]
  },
  {
   "cell_type": "code",
   "execution_count": 3,
   "id": "502ddbd8",
   "metadata": {},
   "outputs": [
    {
     "data": {
      "text/plain": [
       "array([[1., 0., 3., 0., 4., 3.],\n",
       "       [1., 0., 3., 2., 4., 2.],\n",
       "       [1., 0., 4., 0., 4., 3.],\n",
       "       [1., 0., 4., 4., 4., 3.]])"
      ]
     },
     "execution_count": 3,
     "metadata": {},
     "output_type": "execute_result"
    }
   ],
   "source": [
    "xs[:4]"
   ]
  },
  {
   "cell_type": "code",
   "execution_count": 4,
   "id": "cc9da5ac",
   "metadata": {},
   "outputs": [
    {
     "data": {
      "text/plain": [
       "array([[5],\n",
       "       [3],\n",
       "       [3],\n",
       "       [4]])"
      ]
     },
     "execution_count": 4,
     "metadata": {},
     "output_type": "execute_result"
    }
   ],
   "source": [
    "ys = np.random.choice(list(range(1,10)), obs)\n",
    "ys.resize(obs,1)\n",
    "ys[:4]"
   ]
  },
  {
   "cell_type": "code",
   "execution_count": 5,
   "id": "822933a9",
   "metadata": {},
   "outputs": [],
   "source": [
    "weights = np.random.randn"
   ]
  },
  {
   "cell_type": "code",
   "execution_count": 6,
   "id": "3698c04e",
   "metadata": {},
   "outputs": [],
   "source": [
    "ins = 5\n",
    "outs = 1\n",
    "lr = .0001\n",
    "\n",
    "w0 = weights(ins+1, 10)\n",
    "w1 = weights(10, 5) \n",
    "w2 = weights(5, outs)\n",
    "err = []"
   ]
  },
  {
   "cell_type": "code",
   "execution_count": 7,
   "id": "4003a962",
   "metadata": {},
   "outputs": [
    {
     "data": {
      "text/plain": [
       "((15, 6), (6, 10), (10, 5), (5, 1), (15, 1))"
      ]
     },
     "execution_count": 7,
     "metadata": {},
     "output_type": "execute_result"
    }
   ],
   "source": [
    "xs.shape, w0.shape, w1.shape, w2.shape, ys.shape"
   ]
  },
  {
   "cell_type": "code",
   "execution_count": 8,
   "id": "f1ee8a28",
   "metadata": {},
   "outputs": [
    {
     "name": "stdout",
     "output_type": "stream",
     "text": [
      "we have converged after 11929 iterations\n",
      "[[ 2.43985097  1.16830891 -1.44745695  0.86493321  1.26882197]\n",
      " [ 1.00521595 -1.01014731  0.0947115  -0.83587586 -0.1820947 ]\n",
      " [ 0.02996627 -0.25502379  0.51269081 -0.1355581  -0.77634577]\n",
      " [ 0.81497228  0.14684297 -1.76302378  0.5869561  -0.20506779]\n",
      " [-2.33872655  0.55547664  0.53567396 -2.27533495 -0.83846522]\n",
      " [-0.03856588  2.26979652 -0.51112829 -1.08177426  0.80527565]\n",
      " [-0.50322047  1.07034327  1.22661407 -0.02011397 -0.18681702]\n",
      " [ 0.32185944 -0.71379944 -0.68046048 -0.88539601  0.16546465]\n",
      " [ 0.78524332  2.2764891   0.97353658  1.05765737  1.64730891]\n",
      " [ 0.83949008  0.95608885 -0.33503995  0.57697023  1.42106336]]\n"
     ]
    }
   ],
   "source": [
    "for i in range(50000):\n",
    "    x0 = xs\n",
    "    \n",
    "    #Forward Propagation\n",
    "    z0 = x0 @ w0; x1 = np.sin(z0)\n",
    "    z1 = x1 @ w1; x2 = np.sin(z1)\n",
    "    yh = (x2 @ w2)    \n",
    "    \n",
    "    #Backward Propagation\n",
    "    e  = (yh - ys) * 1\n",
    "    e2 = (e)\n",
    "    e1 = (e2 @ w2.T) * np.cos(z1)\n",
    "    e0 = (e1 @ w1.T) * np.cos(z0)\n",
    "    \n",
    "    #Update path\n",
    "    w2 -= (x2.T @ e2) * lr\n",
    "    w1 -= (x1.T @ e1) * lr\n",
    "    w0 -= (x0.T @ e0) * lr \n",
    "    \n",
    "    e  = np.sum(np.abs(e))\n",
    "    \n",
    "    if e < .01:\n",
    "        print('we have converged after {} iterations'.format(i))\n",
    "        print(w1)\n",
    "        break\n",
    "    err.append(e)"
   ]
  },
  {
   "cell_type": "code",
   "execution_count": 9,
   "id": "1ed1e944",
   "metadata": {},
   "outputs": [
    {
     "data": {
      "text/plain": [
       "(11929, 0.010004464123882228)"
      ]
     },
     "execution_count": 9,
     "metadata": {},
     "output_type": "execute_result"
    }
   ],
   "source": [
    "len(err), min(err)"
   ]
  },
  {
   "cell_type": "code",
   "execution_count": 10,
   "id": "1b29e1a7",
   "metadata": {},
   "outputs": [
    {
     "data": {
      "image/png": "[encoded data removed]",
      "text/plain": [
       "<Figure size 640x480 with 1 Axes>"
      ]
     },
     "metadata": {},
     "output_type": "display_data"
    }
   ],
   "source": [
    "plt.plot(err,color='red', linewidth=1)\n",
    "plt.title('yhat - ys')\n",
    "plt.show()"
   ]
  },
  {
   "cell_type": "code",
   "execution_count": 11,
   "id": "b0d3666f",
   "metadata": {},
   "outputs": [
    {
     "data": {
      "text/plain": [
       "array([[5.00043651],\n",
       "       [2.99998575],\n",
       "       [3.0000321 ],\n",
       "       [3.99998842],\n",
       "       [4.00004955],\n",
       "       [5.00018118],\n",
       "       [4.00000429],\n",
       "       [6.00028505],\n",
       "       [4.00017513],\n",
       "       [0.99998785],\n",
       "       [1.00003822],\n",
       "       [6.99139299],\n",
       "       [1.99998761],\n",
       "       [3.00010039],\n",
       "       [2.99995985]])"
      ]
     },
     "execution_count": 11,
     "metadata": {},
     "output_type": "execute_result"
    }
   ],
   "source": [
    "yh"
   ]
  },
  {
   "cell_type": "code",
   "execution_count": 12,
   "id": "ae912297",
   "metadata": {},
   "outputs": [
    {
     "data": {
      "text/plain": [
       "array([[5],\n",
       "       [3],\n",
       "       [3],\n",
       "       [4],\n",
       "       [4],\n",
       "       [5],\n",
       "       [4],\n",
       "       [6],\n",
       "       [4],\n",
       "       [1],\n",
       "       [1],\n",
       "       [7],\n",
       "       [2],\n",
       "       [3],\n",
       "       [3]])"
      ]
     },
     "execution_count": 12,
     "metadata": {},
     "output_type": "execute_result"
    }
   ],
   "source": [
    "ys"
   ]
  },
  {
   "cell_type": "code",
   "execution_count": null,
   "id": "27477dc7",
   "metadata": {},
   "outputs": [],
   "source": []
  }
 ],
 "metadata": {
  "kernelspec": {
   "display_name": "Python 3 (ipykernel)",
   "language": "python",
   "name": "python3"
  },
  "language_info": {
   "codemirror_mode": {
    "name": "ipython",
    "version": 3
   },
   "file_extension": ".py",
   "mimetype": "text/x-python",
   "name": "python",
   "nbconvert_exporter": "python",
   "pygments_lexer": "ipython3",
   "version": "3.11.7"
  }
 },
 "nbformat": 4,
 "nbformat_minor": 5
}
