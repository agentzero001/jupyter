{
 "cells": [
  {
   "cell_type": "code",
   "execution_count": 158,
   "id": "33960160",
   "metadata": {},
   "outputs": [],
   "source": [
    "import numpy as np\n",
    "import matplotlib.pyplot as plt\n",
    "from sklearn.base import BaseEstimator, ClassifierMixin\n",
    "from sklearn.utils.validation import check_X_y, check_is_fitted, check_random_state\n",
    "from sklearn.utils.multiclass import unique_labels\n",
    "\n",
    "class PerceptronEstimator(BaseEstimator, ClassifierMixin):\n",
    "\n",
    "    def __init__(self, n_iterations=20, random_state=None):\n",
    "        self.n_iterations = n_iterations\n",
    "        self.random_state = random_state\n",
    "        self.errors = []\n",
    "\n",
    "    heaviside = lambda self, x: 0 if x < 0 else 1    \n",
    "\n",
    "    def fit(self, X=None, y=None):\n",
    "        random_state = check_random_state(self.random_state)  #random seed\n",
    "        self.w = random_state.random_sample(np.size(X,1))     #initialize weights     \n",
    "        X, y = check_X_y(X, y)                                #compatibility check/adjustment \n",
    "        self.classes_ = unique_labels(y)                      #returns sorted array of labels\n",
    "        self.X_ = X\n",
    "        self.y_ = y      \n",
    "        for i in range(self.n_iterations):\n",
    "            rand_index = random_state.randint(0,np.size(X,0)) #from 0 to excluded (np.unique)\n",
    "            x_ = X[rand_index]                                #randomly choose one observation\n",
    "            y_ = y[rand_index]                                #and corresponding target\n",
    "            y_hat = self.heaviside(np.dot(self.w, x_))        #act function\n",
    "            error = y_ - y_hat                                #calc err\n",
    "            self.errors.append(error)                         #save error for visualization\n",
    "            self.w += error * x_                              #adjust weights\n",
    "        return self                                           \n",
    "    \n",
    "    def predict(self, x):\n",
    "        check_is_fitted(self, ['X_', 'y_'])\n",
    "        y_hat = self.heaviside(np.dot(self.w,x))\n",
    "        return y_hat\n",
    "    \n",
    "    def plot(self):                 \n",
    "        fignr = 1\n",
    "        plt.figure(fignr,figsize=(5,5),facecolor='grey')\n",
    "        plt.axes().set_facecolor('grey')    \n",
    "        plt.plot(self.errors,color='black')\n",
    "        plt.style.use('seaborn-whitegrid')     \n",
    "        plt.xlabel('Iteration')\n",
    "        plt.ylabel(r\"$(y - \\hat y)$\")\n",
    "        \n",
    "    def predict(self, x):\n",
    "        check_is_fitted(self, ['X_', 'y_'])\n",
    "        y_hat = self.heaviside(np.dot(self.w,x))\n",
    "        return y_hat\n",
    "    \n",
    "    def plot(self):                 \n",
    "        fignr = 1\n",
    "        plt.figure(fignr,figsize=(5,5))    \n",
    "        plt.plot(self.errors)\n",
    "        plt.style.use('dark_background')\n",
    "        plt.grid(alpha=.1)\n",
    "        plt.xlabel('Iteration')\n",
    "        plt.ylabel(r\"$(y - \\hat y)$\")"
   ]
  },
  {
   "cell_type": "code",
   "execution_count": 159,
   "id": "ba387bb0",
   "metadata": {},
   "outputs": [
    {
     "name": "stdout",
     "output_type": "stream",
     "text": [
      "[1 0 0]: 0 -> 0\n",
      "[1 0 1]: 1 -> 1\n",
      "[1 1 0]: 1 -> 1\n",
      "[1 1 1]: 1 -> 1\n"
     ]
    },
    {
     "data": {
      "image/png": "[encoded data removed]",
      "text/plain": [
       "<Figure size 500x500 with 1 Axes>"
      ]
     },
     "metadata": {},
     "output_type": "display_data"
    }
   ],
   "source": [
    "X = np.array([[1,0,0],\n",
    "              [1,0,1],\n",
    "              [1,1,0],\n",
    "              [1,1,1]])\n",
    "\n",
    "y = np.array([0,1,1,1])\n",
    "\n",
    "Perceptron = PerceptronEstimator(30,10)\n",
    "Perceptron.fit(X,y) \n",
    "\n",
    "for index, x in enumerate(X):\n",
    "    p = Perceptron.predict(x)\n",
    "    print(\"{}: {} -> {}\".format(x, y[index], p))\n",
    "        \n",
    "Perceptron.plot()"
   ]
  },
  {
   "cell_type": "code",
   "execution_count": 160,
   "id": "65e27c22",
   "metadata": {},
   "outputs": [
    {
     "data": {
      "text/plain": [
       "((100, 2), (100,))"
      ]
     },
     "execution_count": 160,
     "metadata": {},
     "output_type": "execute_result"
    }
   ],
   "source": [
    "import numpy as np\n",
    "import matplotlib.pyplot as plt\n",
    "from sklearn import datasets\n",
    "from sklearn.linear_model import Perceptron\n",
    "\n",
    "X, y = datasets.make_blobs(n_samples=100, n_features=2, centers=2, random_state=3)\n",
    "X.shape, y.shape"
   ]
  },
  {
   "cell_type": "code",
   "execution_count": 161,
   "id": "fb09dc91",
   "metadata": {},
   "outputs": [
    {
     "data": {
      "text/html": [
       "<style>#sk-container-id-16 {color: black;}#sk-container-id-16 pre{padding: 0;}#sk-container-id-16 div.sk-toggleable {background-color: white;}#sk-container-id-16 label.sk-toggleable__label {cursor: pointer;display: block;width: 100%;margin-bottom: 0;padding: 0.3em;box-sizing: border-box;text-align: center;}#sk-container-id-16 label.sk-toggleable__label-arrow:before {content: \"▸\";float: left;margin-right: 0.25em;color: #696969;}#sk-container-id-16 label.sk-toggleable__label-arrow:hover:before {color: black;}#sk-container-id-16 div.sk-estimator:hover label.sk-toggleable__label-arrow:before {color: black;}#sk-container-id-16 div.sk-toggleable__content {max-height: 0;max-width: 0;overflow: hidden;text-align: left;background-color: #f0f8ff;}#sk-container-id-16 div.sk-toggleable__content pre {margin: 0.2em;color: black;border-radius: 0.25em;background-color: #f0f8ff;}#sk-container-id-16 input.sk-toggleable__control:checked~div.sk-toggleable__content {max-height: 200px;max-width: 100%;overflow: auto;}#sk-container-id-16 input.sk-toggleable__control:checked~label.sk-toggleable__label-arrow:before {content: \"▾\";}#sk-container-id-16 div.sk-estimator input.sk-toggleable__control:checked~label.sk-toggleable__label {background-color: #d4ebff;}#sk-container-id-16 div.sk-label input.sk-toggleable__control:checked~label.sk-toggleable__label {background-color: #d4ebff;}#sk-container-id-16 input.sk-hidden--visually {border: 0;clip: rect(1px 1px 1px 1px);clip: rect(1px, 1px, 1px, 1px);height: 1px;margin: -1px;overflow: hidden;padding: 0;position: absolute;width: 1px;}#sk-container-id-16 div.sk-estimator {font-family: monospace;background-color: #f0f8ff;border: 1px dotted black;border-radius: 0.25em;box-sizing: border-box;margin-bottom: 0.5em;}#sk-container-id-16 div.sk-estimator:hover {background-color: #d4ebff;}#sk-container-id-16 div.sk-parallel-item::after {content: \"\";width: 100%;border-bottom: 1px solid gray;flex-grow: 1;}#sk-container-id-16 div.sk-label:hover label.sk-toggleable__label {background-color: #d4ebff;}#sk-container-id-16 div.sk-serial::before {content: \"\";position: absolute;border-left: 1px solid gray;box-sizing: border-box;top: 0;bottom: 0;left: 50%;z-index: 0;}#sk-container-id-16 div.sk-serial {display: flex;flex-direction: column;align-items: center;background-color: white;padding-right: 0.2em;padding-left: 0.2em;position: relative;}#sk-container-id-16 div.sk-item {position: relative;z-index: 1;}#sk-container-id-16 div.sk-parallel {display: flex;align-items: stretch;justify-content: center;background-color: white;position: relative;}#sk-container-id-16 div.sk-item::before, #sk-container-id-16 div.sk-parallel-item::before {content: \"\";position: absolute;border-left: 1px solid gray;box-sizing: border-box;top: 0;bottom: 0;left: 50%;z-index: -1;}#sk-container-id-16 div.sk-parallel-item {display: flex;flex-direction: column;z-index: 1;position: relative;background-color: white;}#sk-container-id-16 div.sk-parallel-item:first-child::after {align-self: flex-end;width: 50%;}#sk-container-id-16 div.sk-parallel-item:last-child::after {align-self: flex-start;width: 50%;}#sk-container-id-16 div.sk-parallel-item:only-child::after {width: 0;}#sk-container-id-16 div.sk-dashed-wrapped {border: 1px dashed gray;margin: 0 0.4em 0.5em 0.4em;box-sizing: border-box;padding-bottom: 0.4em;background-color: white;}#sk-container-id-16 div.sk-label label {font-family: monospace;font-weight: bold;display: inline-block;line-height: 1.2em;}#sk-container-id-16 div.sk-label-container {text-align: center;}#sk-container-id-16 div.sk-container {/* jupyter's `normalize.less` sets `[hidden] { display: none; }` but bootstrap.min.css set `[hidden] { display: none !important; }` so we also need the `!important` here to be able to override the default hidden behavior on the sphinx rendered scikit-learn.org. See: https://github.com/scikit-learn/scikit-learn/issues/21755 */display: inline-block !important;position: relative;}#sk-container-id-16 div.sk-text-repr-fallback {display: none;}</style><div id=\"sk-container-id-16\" class=\"sk-top-container\"><div class=\"sk-text-repr-fallback\"><pre>Perceptron(random_state=42)</pre><b>In a Jupyter environment, please rerun this cell to show the HTML representation or trust the notebook. <br />On GitHub, the HTML representation is unable to render, please try loading this page with nbviewer.org.</b></div><div class=\"sk-container\" hidden><div class=\"sk-item\"><div class=\"sk-estimator sk-toggleable\"><input class=\"sk-toggleable__control sk-hidden--visually\" id=\"sk-estimator-id-16\" type=\"checkbox\" checked><label for=\"sk-estimator-id-16\" class=\"sk-toggleable__label sk-toggleable__label-arrow\">Perceptron</label><div class=\"sk-toggleable__content\"><pre>Perceptron(random_state=42)</pre></div></div></div></div></div>"
      ],
      "text/plain": [
       "Perceptron(random_state=42)"
      ]
     },
     "execution_count": 161,
     "metadata": {},
     "output_type": "execute_result"
    }
   ],
   "source": [
    "x_min, x_max = X[:, 0].min() - 1, X[:, 0].max() + 1\n",
    "y_min, y_max = X[:, 1].min() - 1, X[:, 1].max() + 1\n",
    "\n",
    "s = .02\n",
    "xx, yy = np.meshgrid(np.arange(x_min, x_max, s), np.arange(y_min, y_max, s))\n",
    "\n",
    "Perceptron = Perceptron(random_state=42, max_iter=1000)\n",
    "Perceptron.fit(X, y)"
   ]
  },
  {
   "cell_type": "code",
   "execution_count": 162,
   "id": "c6ee8c50",
   "metadata": {},
   "outputs": [],
   "source": [
    "Prediction = Perceptron.predict(np.c_[xx.ravel(), yy.ravel()]) "
   ]
  },
  {
   "cell_type": "code",
   "execution_count": 163,
   "id": "859726e4",
   "metadata": {},
   "outputs": [
    {
     "data": {
      "text/plain": [
       "array([[1, 1, 1, ..., 0, 0, 0],\n",
       "       [1, 1, 1, ..., 0, 0, 0],\n",
       "       [1, 1, 1, ..., 0, 0, 0],\n",
       "       ...,\n",
       "       [1, 1, 1, ..., 0, 0, 0],\n",
       "       [1, 1, 1, ..., 0, 0, 0],\n",
       "       [1, 1, 1, ..., 0, 0, 0]])"
      ]
     },
     "execution_count": 163,
     "metadata": {},
     "output_type": "execute_result"
    }
   ],
   "source": [
    "Prediction = Prediction.reshape(xx.shape)\n",
    "Prediction"
   ]
  },
  {
   "cell_type": "code",
   "execution_count": 164,
   "id": "ad7f3745",
   "metadata": {},
   "outputs": [
    {
     "data": {
      "image/png": "[encoded data removed]",
      "text/plain": [
       "<Figure size 640x480 with 1 Axes>"
      ]
     },
     "metadata": {},
     "output_type": "display_data"
    }
   ],
   "source": [
    "plt.plot(X[:, 0][y == 0], X[:, 1][y == 0], 'b^')\n",
    "plt.plot(X[:, 0][y == 1], X[:, 1][y == 1], 'ys')\n",
    "plt.contourf(xx, yy, Prediction, cmap=plt.cm.Dark2);"
   ]
  },
  {
   "cell_type": "code",
   "execution_count": 142,
   "id": "7274d091",
   "metadata": {},
   "outputs": [
    {
     "data": {
      "text/plain": [
       "(array([[1, 2, 3],\n",
       "        [1, 2, 3],\n",
       "        [1, 2, 3]]),\n",
       " array([[4, 4, 4],\n",
       "        [5, 5, 5],\n",
       "        [6, 6, 6]]))"
      ]
     },
     "execution_count": 142,
     "metadata": {},
     "output_type": "execute_result"
    }
   ],
   "source": [
    "a, b = np.meshgrid([1,2,3],\n",
    "                   [4,\n",
    "                    5,\n",
    "                    6])\n",
    "a, b"
   ]
  },
  {
   "cell_type": "code",
   "execution_count": 141,
   "id": "1695481e",
   "metadata": {},
   "outputs": [
    {
     "name": "stdout",
     "output_type": "stream",
     "text": [
      "1 4\n",
      "2 4\n",
      "3 4\n",
      "1 5\n",
      "2 5\n",
      "3 5\n",
      "1 6\n",
      "2 6\n",
      "3 6\n"
     ]
    }
   ],
   "source": [
    "for i, j in zip(a, b):\n",
    "    for k, l in zip(i, j):\n",
    "        print(k, l)"
   ]
  },
  {
   "cell_type": "code",
   "execution_count": 140,
   "id": "d6c2cffc",
   "metadata": {},
   "outputs": [
    {
     "name": "stdout",
     "output_type": "stream",
     "text": [
      "1 4\n",
      "2 4\n",
      "3 4\n",
      "1 5\n",
      "2 5\n",
      "3 5\n",
      "1 6\n",
      "2 6\n",
      "3 6\n"
     ]
    }
   ],
   "source": [
    "tuple(print(k, l) for i, j in zip(a, b) for k, l in zip(i, j));"
   ]
  },
  {
   "cell_type": "code",
   "execution_count": 148,
   "id": "e5eb132f",
   "metadata": {},
   "outputs": [
    {
     "data": {
      "text/plain": [
       "array([[1, 4],\n",
       "       [2, 4],\n",
       "       [3, 4],\n",
       "       [1, 5],\n",
       "       [2, 5],\n",
       "       [3, 5],\n",
       "       [1, 6],\n",
       "       [2, 6],\n",
       "       [3, 6]])"
      ]
     },
     "execution_count": 148,
     "metadata": {},
     "output_type": "execute_result"
    }
   ],
   "source": [
    "np.c_[a.ravel(), b.ravel()]"
   ]
  },
  {
   "cell_type": "code",
   "execution_count": 151,
   "id": "c3f2a869",
   "metadata": {},
   "outputs": [],
   "source": [
    "import numpy as np\n",
    "import matplotlib.pyplot as plt\n",
    "from sklearn.base import BaseEstimator, ClassifierMixin\n",
    "from sklearn.utils.validation import check_X_y, check_array, check_is_fitted, check_random_state\n",
    "from sklearn.utils.multiclass import unique_labels"
   ]
  },
  {
   "cell_type": "code",
   "execution_count": 186,
   "id": "8d3dfe13",
   "metadata": {},
   "outputs": [],
   "source": [
    "class AdalineEstimator(BaseEstimator, ClassifierMixin):\n",
    "\n",
    "    def __init__(self, eta=.001, n_iterations=500, random_state=None):\n",
    "        self.n_iterations = n_iterations\n",
    "        self.random_state = random_state        \n",
    "        self.errors = []    \n",
    "        self.eta = eta\n",
    "        self.w = []\n",
    "        self.wAll = []\n",
    "        \n",
    "        activation = lambda self, x: x @ self.w\n",
    "        output = lambda self, x: 1 if self.activation(x) >= .0 else -1\n",
    "        \n",
    "    def fit(self, X=None, y=None):\n",
    "        random_state = check_random_state(self.random_state)\n",
    "        self.w = random_state.random_sample(np.size(X,1))\n",
    "        X, y = check_X_y(X, y)\n",
    "        self.X_ = X  #might aswell save the data inside of the class instance\n",
    "        self.y_ = y \n",
    "\n",
    "        for i in range(self.n_iterations):\n",
    "            rand_index = random_state.randint(0,np.size(X,0)) \n",
    "            x_ = X[rand_index]\n",
    "            y_ = y[rand_index]\n",
    "            s = x_ @ self.w\n",
    "            error = (y_ - s)**2\n",
    "            self.errors.append(error)\n",
    "            self.w += self.eta * x_ * (y_ - s)\n",
    "            self.wAll.append(self.w.copy())\n",
    "\n",
    "    def predict(self, x):\n",
    "        check_is_fitted(self, ['X_', 'y_'])\n",
    "        return self.output(x)\n",
    "\n",
    "    def plot(self):\n",
    "        x1 = []\n",
    "        x2 = []\n",
    "        colors = []\n",
    "\n",
    "        for i in range(self.X_.shape[0]):\n",
    "            x1.append(self.X_[i][1])\n",
    "            x2.append(self.X_[i][2])\n",
    "            y = self.y_[i]\n",
    "\n",
    "        if y == 1:\n",
    "            colors.append('r')\n",
    "        else:\n",
    "            colors.append('b')"
   ]
  },
  {
   "cell_type": "code",
   "execution_count": 187,
   "id": "27eac15a",
   "metadata": {},
   "outputs": [],
   "source": [
    "random_state = check_random_state(1)        \n",
    "I = []\n",
    "o = []\n",
    "\n",
    "for g1 in random_state.random_sample(20):\n",
    "    y = random_state.random_sample()\n",
    "    I.append([1, g1, y+1.0]) # Falls +0.0, dann überlappende Kategorien\n",
    "    o.append(1)\n",
    "\n",
    "for g2 in random_state.random_sample(20):\n",
    "    y = random_state.random_sample()\n",
    "    I.append([1, g2, y-1.0]) # Falls +0.0, dann überlappende Kategorien\n",
    "    o.append(-1)\n",
    "\n",
    "# Trainingsdaten\n",
    "X = np.array(I)\n",
    "y = np.array(o)\n",
    "# Walte deines Amtes Estimator\n",
    "Adaline = AdalineEstimator(eta=0.01,n_iterations=300, random_state=10)\n",
    "# Lernen\n",
    "Adaline.fit(X,y)\n",
    "# Graphen ausgeben\n",
    "Adaline.plot()"
   ]
  },
  {
   "cell_type": "code",
   "execution_count": 194,
   "id": "ed6701e2",
   "metadata": {},
   "outputs": [
    {
     "data": {
      "text/plain": [
       "[[1, 0.417022004702574, 1.8007445686755368],\n",
       " [1, 0.7203244934421581, 1.9682615757193975],\n",
       " [1, 0.00011437481734488664, 1.3134241781592428],\n",
       " [1, 0.30233257263183977, 1.692322615669314],\n",
       " [1, 0.14675589081711304, 1.8763891522960383],\n",
       " [1, 0.0923385947687978, 1.8946066635038474],\n",
       " [1, 0.1862602113776709, 1.085044211369778],\n",
       " [1, 0.34556072704304774, 1.0390547832328823],\n",
       " [1, 0.39676747423066994, 1.169830419564569],\n",
       " [1, 0.538816734003357, 1.8781425034294132],\n",
       " [1, 0.4191945144032948, 1.09834683383305],\n",
       " [1, 0.6852195003967595, 1.4211076250050523],\n",
       " [1, 0.20445224973151743, 1.957889530150502],\n",
       " [1, 0.8781174363909454, 1.533165284973017],\n",
       " [1, 0.027387593197926163, 1.6918771139504734],\n",
       " [1, 0.6704675101784022, 1.315515631006063],\n",
       " [1, 0.41730480236712697, 1.6865009276815837],\n",
       " [1, 0.5586898284457517, 1.8346256718973728],\n",
       " [1, 0.14038693859523377, 1.0182882773441917],\n",
       " [1, 0.1981014890848788, 1.7501443149449676],\n",
       " [1, 0.9888610889064947, -0.8976655711721742],\n",
       " [1, 0.7481656543798394, -0.5859440121804317],\n",
       " [1, 0.2804439920644052, -0.3055998422722549],\n",
       " [1, 0.7892793284514885, -0.5858207304730974],\n",
       " [1, 0.10322600657764203, -0.9500465410539128],\n",
       " [1, 0.44789352617590517, -0.4641035940844884],\n",
       " [1, 0.9085955030930956, -0.3362053547802112],\n",
       " [1, 0.2936141483736795, -0.48511088794169144],\n",
       " [1, 0.28777533858634874, -0.05540524400918667],\n",
       " [1, 0.13002857211827767, -0.4134449594980071],\n",
       " [1, 0.019366957870297075, -0.0965980847121165],\n",
       " [1, 0.678835532939891, -0.8625252958537625],\n",
       " [1, 0.21162811600005904, -0.8607236527492415],\n",
       " [1, 0.2655466593722262, -0.1926087112904762],\n",
       " [1, 0.4915731592803383, -0.6023231630144664],\n",
       " [1, 0.053362545117080384, -0.8346458028830672],\n",
       " [1, 0.5741176054920131, -0.0724914196039661],\n",
       " [1, 0.14672857490581015, -0.6522341402544934],\n",
       " [1, 0.5893055369032842, -0.24918789686384446],\n",
       " [1, 0.6997583600209312, -0.27400201464954854]]"
      ]
     },
     "execution_count": 194,
     "metadata": {},
     "output_type": "execute_result"
    }
   ],
   "source": [
    "I"
   ]
  },
  {
   "cell_type": "code",
   "execution_count": null,
   "id": "35f6fd10",
   "metadata": {},
   "outputs": [],
   "source": []
  }
 ],
 "metadata": {
  "kernelspec": {
   "display_name": "Python 3 (ipykernel)",
   "language": "python",
   "name": "python3"
  },
  "language_info": {
   "codemirror_mode": {
    "name": "ipython",
    "version": 3
   },
   "file_extension": ".py",
   "mimetype": "text/x-python",
   "name": "python",
   "nbconvert_exporter": "python",
   "pygments_lexer": "ipython3",
   "version": "3.11.5"
  }
 },
 "nbformat": 4,
 "nbformat_minor": 5
}
