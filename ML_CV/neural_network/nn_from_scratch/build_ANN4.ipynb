{
 "cells": [
  {
   "cell_type": "code",
   "execution_count": 1,
   "id": "de17a866",
   "metadata": {},
   "outputs": [],
   "source": [
    "import numpy as np\n",
    "import matplotlib.pyplot as plt\n",
    "plt.rcParams['figure.facecolor'] = '0.2'"
   ]
  },
  {
   "cell_type": "code",
   "execution_count": 23,
   "id": "cdd3838f",
   "metadata": {},
   "outputs": [
    {
     "data": {
      "text/plain": [
       "(12, 6)"
      ]
     },
     "execution_count": 23,
     "metadata": {},
     "output_type": "execute_result"
    }
   ],
   "source": [
    "np.random.seed(15)\n",
    "obs = 12\n",
    "\n",
    "data = np.random.randint(0,5, obs*5).reshape(obs,5)\n",
    "data_unique = np.unique(data, axis=0)\n",
    "xs = np.c_[np.ones([data_unique.shape[0]]), data_unique] \n",
    "ys = np.random.choice(list(range(1,10)), obs)\n",
    "ys.resize(obs,1)\n",
    "\n",
    "xs.shape"
   ]
  },
  {
   "cell_type": "code",
   "execution_count": 24,
   "id": "502ddbd8",
   "metadata": {},
   "outputs": [
    {
     "data": {
      "text/plain": [
       "array([[1., 0., 3., 0., 4., 3.],\n",
       "       [1., 0., 4., 0., 4., 3.],\n",
       "       [1., 1., 0., 0., 4., 0.],\n",
       "       [1., 1., 2., 0., 0., 0.]])"
      ]
     },
     "execution_count": 24,
     "metadata": {},
     "output_type": "execute_result"
    }
   ],
   "source": [
    "xs[:4] #the data with the bias added"
   ]
  },
  {
   "cell_type": "code",
   "execution_count": 25,
   "id": "cc9da5ac",
   "metadata": {},
   "outputs": [
    {
     "data": {
      "text/plain": [
       "array([[1],\n",
       "       [8],\n",
       "       [7],\n",
       "       [5]])"
      ]
     },
     "execution_count": 25,
     "metadata": {},
     "output_type": "execute_result"
    }
   ],
   "source": [
    "ys[:4] #desired output for each unique observation"
   ]
  },
  {
   "cell_type": "code",
   "execution_count": 26,
   "id": "822933a9",
   "metadata": {},
   "outputs": [],
   "source": [
    "weights = lambda ins, outs: np.random.randn(ins, outs)"
   ]
  },
  {
   "cell_type": "code",
   "execution_count": 27,
   "id": "3698c04e",
   "metadata": {},
   "outputs": [],
   "source": [
    "ins = 5\n",
    "outs = 1\n",
    "nodes = 17\n",
    "\n",
    "wi = weights(ins+1, nodes)\n",
    "ws = weights(nodes, outs) \n",
    "err = []"
   ]
  },
  {
   "cell_type": "code",
   "execution_count": 28,
   "id": "095598df",
   "metadata": {},
   "outputs": [
    {
     "data": {
      "text/plain": [
       "((12, 6), (6, 17), (12, 17), (17, 1), (12, 1))"
      ]
     },
     "execution_count": 28,
     "metadata": {},
     "output_type": "execute_result"
    }
   ],
   "source": [
    "xs.shape, wi.shape, (xs @ wi).shape, ws.shape, ((xs @ wi) @ ws).shape"
   ]
  },
  {
   "cell_type": "code",
   "execution_count": 29,
   "id": "f1ee8a28",
   "metadata": {},
   "outputs": [
    {
     "name": "stdout",
     "output_type": "stream",
     "text": [
      "we have converged after 504 iterations\n",
      "[[-0.87535354]\n",
      " [-7.50126415]\n",
      " [-9.65026608]\n",
      " [-3.98487087]\n",
      " [-1.17966586]\n",
      " [-5.80225558]\n",
      " [ 3.82627739]\n",
      " [ 1.05019896]\n",
      " [-4.61249251]\n",
      " [ 0.85301302]\n",
      " [-3.87523762]\n",
      " [-4.2136747 ]\n",
      " [ 1.43061893]\n",
      " [-3.77596679]\n",
      " [-6.64966672]\n",
      " [ 5.49990334]\n",
      " [ 0.68023453]]\n"
     ]
    }
   ],
   "source": [
    "for i in range(10000):\n",
    "    x = xs @ wi\n",
    "    x = np.sin(x)\n",
    "    yh = x @ ws\n",
    "    \n",
    "    e = (yh - ys) * 1\n",
    "    ws -= (x.T @ e) * .03\n",
    "    e = np.sum(np.abs(e))\n",
    "    \n",
    "    if e < .05:\n",
    "        print('we have converged after {} iterations'.format(i))\n",
    "        print(ws)\n",
    "        break\n",
    "        \n",
    "        \n",
    "    err.append(e)"
   ]
  },
  {
   "cell_type": "code",
   "execution_count": 30,
   "id": "1ed1e944",
   "metadata": {},
   "outputs": [
    {
     "data": {
      "text/plain": [
       "0.050399392021436396"
      ]
     },
     "execution_count": 30,
     "metadata": {},
     "output_type": "execute_result"
    }
   ],
   "source": [
    "min(err)"
   ]
  },
  {
   "cell_type": "code",
   "execution_count": 31,
   "id": "1b29e1a7",
   "metadata": {},
   "outputs": [
    {
     "data": {
      "image/png": "[encoded data removed]",
      "text/plain": [
       "<Figure size 640x480 with 1 Axes>"
      ]
     },
     "metadata": {},
     "output_type": "display_data"
    }
   ],
   "source": [
    "plt.axes().set_facecolor('black')\n",
    "plt.plot(err,color='red', linewidth=1)\n",
    "plt.show()"
   ]
  },
  {
   "cell_type": "code",
   "execution_count": 99,
   "id": "e5eb0145",
   "metadata": {
    "scrolled": false
   },
   "outputs": [
    {
     "data": {
      "text/plain": [
       "array([[1.00576937],\n",
       "       [7.98752921],\n",
       "       [6.99882007],\n",
       "       [4.99625192],\n",
       "       [4.99440272],\n",
       "       [4.004144  ],\n",
       "       [7.99133382],\n",
       "       [5.99803641],\n",
       "       [7.00135077],\n",
       "       [0.99945825],\n",
       "       [0.99644832],\n",
       "       [4.99944923]])"
      ]
     },
     "execution_count": 99,
     "metadata": {},
     "output_type": "execute_result"
    }
   ],
   "source": [
    "yh"
   ]
  },
  {
   "cell_type": "code",
   "execution_count": 100,
   "id": "9828a054",
   "metadata": {},
   "outputs": [
    {
     "data": {
      "text/plain": [
       "array([[1],\n",
       "       [8],\n",
       "       [7],\n",
       "       [5],\n",
       "       [5],\n",
       "       [4],\n",
       "       [8],\n",
       "       [6],\n",
       "       [7],\n",
       "       [1],\n",
       "       [1],\n",
       "       [5]])"
      ]
     },
     "execution_count": 100,
     "metadata": {},
     "output_type": "execute_result"
    }
   ],
   "source": [
    "ys"
   ]
  },
  {
   "cell_type": "code",
   "execution_count": 101,
   "id": "aefcf599",
   "metadata": {},
   "outputs": [
    {
     "data": {
      "text/plain": [
       "array([[1, 2, 3, 4]])"
      ]
     },
     "execution_count": 101,
     "metadata": {},
     "output_type": "execute_result"
    }
   ],
   "source": [
    "a = np.arange(1,5).reshape(1,4)\n",
    "a"
   ]
  },
  {
   "cell_type": "code",
   "execution_count": 102,
   "id": "073b0b45",
   "metadata": {},
   "outputs": [
    {
     "data": {
      "text/plain": [
       "array([[0.1],\n",
       "       [0.2],\n",
       "       [0.3],\n",
       "       [0.4]])"
      ]
     },
     "execution_count": 102,
     "metadata": {},
     "output_type": "execute_result"
    }
   ],
   "source": [
    "b = np.arange(.1,.5,.1).reshape(4,1)\n",
    "b"
   ]
  },
  {
   "cell_type": "code",
   "execution_count": 103,
   "id": "568017a4",
   "metadata": {},
   "outputs": [
    {
     "data": {
      "text/plain": [
       "array([[3.]])"
      ]
     },
     "execution_count": 103,
     "metadata": {},
     "output_type": "execute_result"
    }
   ],
   "source": [
    "a @ b"
   ]
  },
  {
   "cell_type": "code",
   "execution_count": 104,
   "id": "3492a0eb",
   "metadata": {},
   "outputs": [
    {
     "data": {
      "text/plain": [
       "(array([[1, 2, 3, 4],\n",
       "        [1, 2, 3, 4],\n",
       "        [1, 2, 3, 4],\n",
       "        [1, 2, 3, 4],\n",
       "        [1, 2, 3, 4]]),\n",
       " array([[0.1, 0.1, 0.1, 0.1],\n",
       "        [0.2, 0.2, 0.2, 0.2],\n",
       "        [0.3, 0.3, 0.3, 0.3],\n",
       "        [0.4, 0.4, 0.4, 0.4]]))"
      ]
     },
     "execution_count": 104,
     "metadata": {},
     "output_type": "execute_result"
    }
   ],
   "source": [
    "c = np.c_[b, b, b, b]\n",
    "d = np.r_[a, a, a, a, a]\n",
    "d, c"
   ]
  },
  {
   "cell_type": "code",
   "execution_count": 105,
   "id": "c5b88fb3",
   "metadata": {},
   "outputs": [
    {
     "data": {
      "text/plain": [
       "array([[3., 3., 3., 3.]])"
      ]
     },
     "execution_count": 105,
     "metadata": {},
     "output_type": "execute_result"
    }
   ],
   "source": [
    "a @ c"
   ]
  },
  {
   "cell_type": "code",
   "execution_count": 106,
   "id": "617215ba",
   "metadata": {},
   "outputs": [
    {
     "data": {
      "text/plain": [
       "array([[3., 3., 3., 3.],\n",
       "       [3., 3., 3., 3.],\n",
       "       [3., 3., 3., 3.],\n",
       "       [3., 3., 3., 3.],\n",
       "       [3., 3., 3., 3.]])"
      ]
     },
     "execution_count": 106,
     "metadata": {},
     "output_type": "execute_result"
    }
   ],
   "source": [
    "d @ c"
   ]
  },
  {
   "cell_type": "code",
   "execution_count": 107,
   "id": "f233ee2f",
   "metadata": {},
   "outputs": [
    {
     "data": {
      "text/plain": [
       "'3.11.3 (tags/v3.11.3:f3909b8, Apr  4 2023, 23:49:59) [MSC v.1934 64 bit (AMD64)]'"
      ]
     },
     "execution_count": 107,
     "metadata": {},
     "output_type": "execute_result"
    }
   ],
   "source": [
    "import sys\n",
    "sys.version"
   ]
  },
  {
   "cell_type": "code",
   "execution_count": null,
   "id": "30c1e643",
   "metadata": {},
   "outputs": [],
   "source": []
  }
 ],
 "metadata": {
  "kernelspec": {
   "display_name": "Python 3 (ipykernel)",
   "language": "python",
   "name": "python3"
  },
  "language_info": {
   "codemirror_mode": {
    "name": "ipython",
    "version": 3
   },
   "file_extension": ".py",
   "mimetype": "text/x-python",
   "name": "python",
   "nbconvert_exporter": "python",
   "pygments_lexer": "ipython3",
   "version": "3.11.5"
  }
 },
 "nbformat": 4,
 "nbformat_minor": 5
}
