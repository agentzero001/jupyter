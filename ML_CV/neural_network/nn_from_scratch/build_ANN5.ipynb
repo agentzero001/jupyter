{
 "cells": [
  {
   "cell_type": "code",
   "execution_count": 13,
   "id": "de17a866",
   "metadata": {},
   "outputs": [],
   "source": [
    "import numpy as np\n",
    "import matplotlib.pyplot as plt\n",
    "plt.rcParams['figure.facecolor'] = '0.2'"
   ]
  },
  {
   "cell_type": "code",
   "execution_count": 14,
   "id": "cdd3838f",
   "metadata": {},
   "outputs": [
    {
     "data": {
      "text/plain": [
       "(15, 6)"
      ]
     },
     "execution_count": 14,
     "metadata": {},
     "output_type": "execute_result"
    }
   ],
   "source": [
    "obs = 15\n",
    "np.random.seed(15)\n",
    "data = np.random.randint(0, 5, obs*5).reshape(obs,5)\n",
    "data_unique = np.unique(data, axis=0)\n",
    "xs = np.c_[np.ones([data_unique.shape[0]]), data_unique] \n",
    "xs.shape"
   ]
  },
  {
   "cell_type": "code",
   "execution_count": 15,
   "id": "502ddbd8",
   "metadata": {},
   "outputs": [
    {
     "data": {
      "text/plain": [
       "array([[1., 0., 3., 0., 4., 3.],\n",
       "       [1., 0., 3., 2., 4., 2.],\n",
       "       [1., 0., 4., 0., 4., 3.],\n",
       "       [1., 0., 4., 4., 4., 3.]])"
      ]
     },
     "execution_count": 15,
     "metadata": {},
     "output_type": "execute_result"
    }
   ],
   "source": [
    "xs[:4]"
   ]
  },
  {
   "cell_type": "code",
   "execution_count": 16,
   "id": "cc9da5ac",
   "metadata": {},
   "outputs": [
    {
     "data": {
      "text/plain": [
       "array([[5],\n",
       "       [3],\n",
       "       [3],\n",
       "       [4]])"
      ]
     },
     "execution_count": 16,
     "metadata": {},
     "output_type": "execute_result"
    }
   ],
   "source": [
    "ys = np.random.choice(list(range(1,10)), obs)\n",
    "ys.resize(obs,1)\n",
    "ys[:4]"
   ]
  },
  {
   "cell_type": "code",
   "execution_count": 17,
   "id": "822933a9",
   "metadata": {},
   "outputs": [],
   "source": [
    "weights = np.random.randn"
   ]
  },
  {
   "cell_type": "code",
   "execution_count": 18,
   "id": "3698c04e",
   "metadata": {},
   "outputs": [],
   "source": [
    "ins = 5\n",
    "outs = 1\n",
    "nodes = 18\n",
    "lr = .01\n",
    "\n",
    "w0 = weights(ins+1, nodes)\n",
    "w1 = weights(nodes, outs) \n",
    "err = []"
   ]
  },
  {
   "cell_type": "code",
   "execution_count": 19,
   "id": "4852c972",
   "metadata": {},
   "outputs": [
    {
     "data": {
      "text/plain": [
       "((15, 6), (6, 18), (18, 1), (15, 1))"
      ]
     },
     "execution_count": 19,
     "metadata": {},
     "output_type": "execute_result"
    }
   ],
   "source": [
    "xs.shape, w0.shape, w1.shape, ys.shape"
   ]
  },
  {
   "cell_type": "code",
   "execution_count": 20,
   "id": "f1ee8a28",
   "metadata": {},
   "outputs": [
    {
     "name": "stdout",
     "output_type": "stream",
     "text": [
      "we have converged after 258 iterations\n",
      "[[ 0.73201902]\n",
      " [ 0.54542385]\n",
      " [-0.05670245]\n",
      " [ 0.46125835]\n",
      " [-0.47920137]\n",
      " [-0.60946401]\n",
      " [-0.67281147]\n",
      " [-0.7872495 ]\n",
      " [-0.7366986 ]\n",
      " [ 0.52762135]\n",
      " [ 0.31328213]\n",
      " [ 0.68880897]\n",
      " [ 0.5459115 ]\n",
      " [-0.76118868]\n",
      " [ 0.44330937]\n",
      " [-0.64169928]\n",
      " [ 0.70155916]\n",
      " [-0.46150995]]\n"
     ]
    }
   ],
   "source": [
    "for i in range(10000):\n",
    "    x0 = xs\n",
    "    z0 = x0 @ w0\n",
    "    x1 = np.sin(z0)\n",
    "    yh = x1 @ w1\n",
    "    \n",
    "    e  = (yh - ys) * 1\n",
    "    e0 = (e * w1.T) * np.cos(z0)\n",
    "\n",
    "    w1 -= (x1.T @ e) * lr\n",
    "    w0 -= (x0.T @ e0) * lr\n",
    "    \n",
    "    e  = np.sum(np.abs(e))\n",
    "    \n",
    "    if e < .0001:\n",
    "        print('we have converged after {} iterations'.format(i))\n",
    "        print(w1)\n",
    "        break\n",
    "    err.append(e)"
   ]
  },
  {
   "cell_type": "code",
   "execution_count": 21,
   "id": "1ed1e944",
   "metadata": {},
   "outputs": [
    {
     "data": {
      "text/plain": [
       "(258, 0.00010433183105273969)"
      ]
     },
     "execution_count": 21,
     "metadata": {},
     "output_type": "execute_result"
    }
   ],
   "source": [
    "len(err), min(err)"
   ]
  },
  {
   "cell_type": "code",
   "execution_count": 22,
   "id": "1b29e1a7",
   "metadata": {},
   "outputs": [
    {
     "data": {
      "image/png": "[encoded data removed]",
      "text/plain": [
       "<Figure size 640x480 with 1 Axes>"
      ]
     },
     "metadata": {},
     "output_type": "display_data"
    }
   ],
   "source": [
    "plt.axes().set_facecolor('black')\n",
    "plt.plot(err,color='red', linewidth=1)\n",
    "plt.title('$\\hat{y}-y$')\n",
    "plt.show()"
   ]
  },
  {
   "cell_type": "code",
   "execution_count": 23,
   "id": "b0d3666f",
   "metadata": {},
   "outputs": [
    {
     "data": {
      "text/plain": [
       "array([[4.99999729],\n",
       "       [2.99999797],\n",
       "       [2.99999449],\n",
       "       [4.00000259],\n",
       "       [4.00000134],\n",
       "       [4.99999891],\n",
       "       [4.00000848],\n",
       "       [6.00000554],\n",
       "       [4.00000421],\n",
       "       [0.99999627],\n",
       "       [1.00001128],\n",
       "       [6.99999506],\n",
       "       [1.99999047],\n",
       "       [2.99998408],\n",
       "       [2.99998023]])"
      ]
     },
     "execution_count": 23,
     "metadata": {},
     "output_type": "execute_result"
    }
   ],
   "source": [
    "yh"
   ]
  },
  {
   "cell_type": "code",
   "execution_count": 24,
   "id": "2843e01f",
   "metadata": {},
   "outputs": [
    {
     "data": {
      "text/plain": [
       "array([[5],\n",
       "       [3],\n",
       "       [3],\n",
       "       [4],\n",
       "       [4],\n",
       "       [5],\n",
       "       [4],\n",
       "       [6],\n",
       "       [4],\n",
       "       [1],\n",
       "       [1],\n",
       "       [7],\n",
       "       [2],\n",
       "       [3],\n",
       "       [3]])"
      ]
     },
     "execution_count": 24,
     "metadata": {},
     "output_type": "execute_result"
    }
   ],
   "source": [
    "ys"
   ]
  },
  {
   "cell_type": "code",
   "execution_count": null,
   "id": "582760b0",
   "metadata": {},
   "outputs": [],
   "source": []
  }
 ],
 "metadata": {
  "kernelspec": {
   "display_name": "Python 3 (ipykernel)",
   "language": "python",
   "name": "python3"
  },
  "language_info": {
   "codemirror_mode": {
    "name": "ipython",
    "version": 3
   },
   "file_extension": ".py",
   "mimetype": "text/x-python",
   "name": "python",
   "nbconvert_exporter": "python",
   "pygments_lexer": "ipython3",
   "version": "3.11.5"
  }
 },
 "nbformat": 4,
 "nbformat_minor": 5
}
