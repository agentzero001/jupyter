{
 "cells": [
  {
   "cell_type": "code",
   "execution_count": 2,
   "id": "e92f3377",
   "metadata": {},
   "outputs": [],
   "source": [
    "import numpy as np\n",
    "import matplotlib.pyplot as plt\n",
    "import matplotlib.cm as cm\n",
    "from PIL import Image\n",
    "import imageio"
   ]
  },
  {
   "cell_type": "code",
   "execution_count": 3,
   "id": "fc3af939",
   "metadata": {},
   "outputs": [
    {
     "data": {
      "text/plain": [
       "['FormatManager',\n",
       " 'RETURN_BYTES',\n",
       " '__all__',\n",
       " '__builtins__',\n",
       " '__cached__',\n",
       " '__doc__',\n",
       " '__file__',\n",
       " '__loader__',\n",
       " '__name__',\n",
       " '__package__',\n",
       " '__path__',\n",
       " '__spec__',\n",
       " '__version__',\n",
       " 'config',\n",
       " 'core',\n",
       " 'formats',\n",
       " 'get_reader',\n",
       " 'get_writer',\n",
       " 'help',\n",
       " 'imiter',\n",
       " 'imopen',\n",
       " 'imread',\n",
       " 'imread_v2',\n",
       " 'imsave',\n",
       " 'imwrite',\n",
       " 'mimread',\n",
       " 'mimsave',\n",
       " 'mimwrite',\n",
       " 'mvolread',\n",
       " 'mvolsave',\n",
       " 'mvolwrite',\n",
       " 'plugins',\n",
       " 'read',\n",
       " 'save',\n",
       " 'show_formats',\n",
       " 'typing',\n",
       " 'v2',\n",
       " 'v3',\n",
       " 'volread',\n",
       " 'volsave',\n",
       " 'volwrite',\n",
       " 'warnings']"
      ]
     },
     "execution_count": 3,
     "metadata": {},
     "output_type": "execute_result"
    }
   ],
   "source": [
    "dir(imageio)"
   ]
  },
  {
   "cell_type": "code",
   "execution_count": null,
   "id": "badb157b",
   "metadata": {},
   "outputs": [],
   "source": []
  }
 ],
 "metadata": {
  "kernelspec": {
   "display_name": "Python 3 (ipykernel)",
   "language": "python",
   "name": "python3"
  },
  "language_info": {
   "codemirror_mode": {
    "name": "ipython",
    "version": 3
   },
   "file_extension": ".py",
   "mimetype": "text/x-python",
   "name": "python",
   "nbconvert_exporter": "python",
   "pygments_lexer": "ipython3",
   "version": "3.11.5"
  }
 },
 "nbformat": 4,
 "nbformat_minor": 5
}
