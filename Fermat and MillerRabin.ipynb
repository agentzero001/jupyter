{
 "cells": [
  {
   "cell_type": "code",
   "execution_count": 2,
   "id": "25860a21",
   "metadata": {},
   "outputs": [],
   "source": [
    "import random"
   ]
  },
  {
   "cell_type": "code",
   "execution_count": 3,
   "id": "2dad7f08",
   "metadata": {},
   "outputs": [],
   "source": [
    "def test(p):\n",
    "    return [(a ** (p-1)) % p for a in range(p)]"
   ]
  },
  {
   "cell_type": "code",
   "execution_count": 4,
   "id": "36cfeca4",
   "metadata": {},
   "outputs": [],
   "source": [
    "def TestFermatTest(p,n):\n",
    "    s = 0\n",
    "    \n",
    "    def FermatTest2():\n",
    "        return random.randrange(2,p) ** (p-1) % p == 1\n",
    "    \n",
    "    \n",
    "    for i in range(n):\n",
    "        if FermatTest2():\n",
    "            s+=1\n",
    "            \n",
    "    return s/n    "
   ]
  },
  {
   "cell_type": "code",
   "execution_count": 44,
   "id": "eb60a25b",
   "metadata": {},
   "outputs": [
    {
     "data": {
      "text/plain": [
       "(0.06, 0.74, 1.0)"
      ]
     },
     "execution_count": 44,
     "metadata": {},
     "output_type": "execute_result"
    }
   ],
   "source": [
    "TestFermatTest(221,100),TestFermatTest(1729,100),TestFermatTest(89,100)"
   ]
  },
  {
   "cell_type": "code",
   "execution_count": 16,
   "id": "f84f37d7",
   "metadata": {},
   "outputs": [],
   "source": [
    "def MillerRabin(p):\n",
    "    d = p-1\n",
    "    r = 0\n",
    "    while d % 2 == 0:\n",
    "        d//=2\n",
    "        r+=1\n",
    "    a = random.randrange(2, p-1)\n",
    "    x = (a**d) % p\n",
    "    if x == 1 or x == p-1:\n",
    "        return True\n",
    "    while r > 1:\n",
    "        x = (x*x) % p\n",
    "        if x == 1:\n",
    "            return False\n",
    "        if x == p - 1:\n",
    "            return True\n",
    "        r-=1\n",
    "    return False      "
   ]
  },
  {
   "cell_type": "code",
   "execution_count": 39,
   "id": "749f0fc2",
   "metadata": {},
   "outputs": [
    {
     "data": {
      "text/plain": [
       "17"
      ]
     },
     "execution_count": 39,
     "metadata": {},
     "output_type": "execute_result"
    }
   ],
   "source": [
    "c = 0\n",
    "k = 1000\n",
    "\n",
    "while k > 0:\n",
    "    if MillerRabin(221):\n",
    "        c+=1\n",
    "    k -= 1\n",
    "\n",
    "c"
   ]
  },
  {
   "cell_type": "code",
   "execution_count": 40,
   "id": "6e674bcc",
   "metadata": {},
   "outputs": [],
   "source": [
    "import sympy as sp"
   ]
  },
  {
   "cell_type": "code",
   "execution_count": 41,
   "id": "a6c5a75a",
   "metadata": {},
   "outputs": [
    {
     "data": {
      "text/plain": [
       "True"
      ]
     },
     "execution_count": 41,
     "metadata": {},
     "output_type": "execute_result"
    }
   ],
   "source": [
    "sp.isprime(89)"
   ]
  },
  {
   "cell_type": "code",
   "execution_count": null,
   "id": "cf141e66",
   "metadata": {},
   "outputs": [],
   "source": []
  }
 ],
 "metadata": {
  "kernelspec": {
   "display_name": "Python 3 (ipykernel)",
   "language": "python",
   "name": "python3"
  },
  "language_info": {
   "codemirror_mode": {
    "name": "ipython",
    "version": 3
   },
   "file_extension": ".py",
   "mimetype": "text/x-python",
   "name": "python",
   "nbconvert_exporter": "python",
   "pygments_lexer": "ipython3",
   "version": "3.9.13"
  }
 },
 "nbformat": 4,
 "nbformat_minor": 5
}
