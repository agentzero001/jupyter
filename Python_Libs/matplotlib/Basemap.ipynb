{
 "cells": [
  {
   "cell_type": "markdown",
   "id": "c30b16c6",
   "metadata": {},
   "source": [
    "### Apparently the Basemap toolkit has been officially deprecated in favor of the Cartopy library. "
   ]
  },
  {
   "cell_type": "code",
   "execution_count": 97,
   "id": "1b8fc6c7",
   "metadata": {},
   "outputs": [],
   "source": [
    "# %matplotlib inline\n",
    "# import numpy as np\n",
    "# import matplotlib.pyplot as plt\n",
    "# from mpl_toolkits.basemap import Basemap"
   ]
  },
  {
   "cell_type": "code",
   "execution_count": 98,
   "id": "f0340d7c",
   "metadata": {},
   "outputs": [],
   "source": [
    "# fig = plt.figure(figsize=(8, 8), facecolor='black')\n",
    "# m = Basemap(width=12000000,height=9000000,projection='lcc',\n",
    "#             resolution=None,lat_1=45.,lat_2=55,lat_0=50,lon_0=-107.)\n",
    "# m.bluemarble()\n",
    "# plt.show()"
   ]
  },
  {
   "cell_type": "code",
   "execution_count": 1,
   "id": "1ac2241a",
   "metadata": {},
   "outputs": [],
   "source": [
    "import cartopy"
   ]
  },
  {
   "cell_type": "code",
   "execution_count": 2,
   "id": "d56d04b1",
   "metadata": {},
   "outputs": [
    {
     "data": {
      "text/plain": [
       "['Path',\n",
       " '__builtins__',\n",
       " '__cached__',\n",
       " '__doc__',\n",
       " '__document_these__',\n",
       " '__file__',\n",
       " '__loader__',\n",
       " '__name__',\n",
       " '__package__',\n",
       " '__path__',\n",
       " '__spec__',\n",
       " '__version__',\n",
       " '_version',\n",
       " 'cartopy',\n",
       " 'config',\n",
       " 'crs',\n",
       " 'feature',\n",
       " 'io',\n",
       " 'os',\n",
       " 'tempfile',\n",
       " 'trace']"
      ]
     },
     "execution_count": 2,
     "metadata": {},
     "output_type": "execute_result"
    }
   ],
   "source": [
    "dir(cartopy)"
   ]
  },
  {
   "cell_type": "code",
   "execution_count": null,
   "id": "19927fd7",
   "metadata": {},
   "outputs": [],
   "source": []
  },
  {
   "cell_type": "code",
   "execution_count": 99,
   "id": "04225758",
   "metadata": {},
   "outputs": [],
   "source": [
    "# fig = plt.figure(figsize=(6, 6), facecolor='black')\n",
    "# m = Basemap(projection='lcc', resolution=None,\n",
    "#             width=8E6, height=8E6, \n",
    "#             lat_0=45, lon_0=-100,)\n",
    "# m.etopo(scale=0.5, alpha=.9)\n",
    "\n",
    "\n",
    "# # Map (long, lat) to (x, y) for plotting\n",
    "# x, y = m(-122.3, 47.6)\n",
    "# plt.plot(x, y, 'ok', markersize=5)\n",
    "# plt.text(x, y, ' Seattle', fontsize=12);"
   ]
  },
  {
   "cell_type": "code",
   "execution_count": 100,
   "id": "85dcad90",
   "metadata": {},
   "outputs": [],
   "source": [
    "# from itertools import chain\n",
    "\n",
    "# def draw_map(m, scale=0.2):\n",
    "    \n",
    "#     # draw a shaded-relief image\n",
    "#     m.etopo(scale=scale, alpha=.9)\n",
    "    \n",
    "#     # lats and longs are returned as a dictionary\n",
    "#     lats = m.drawparallels(np.linspace(-90, 90, 13))\n",
    "#     lons = m.drawmeridians(np.linspace(-180, 180, 13))\n",
    "\n",
    "#     # keys contain the plt.Line2D instances\n",
    "#     lat_lines = chain(*(tup[1][0] for tup in lats.items()))\n",
    "#     lon_lines = chain(*(tup[1][0] for tup in lons.items()))\n",
    "#     all_lines = chain(lat_lines, lon_lines)\n",
    "    \n",
    "#     # cycle through these lines and set the desired style\n",
    "#     for line in all_lines:\n",
    "#         line.set(linestyle='-', alpha=0.6, color='grey')"
   ]
  },
  {
   "cell_type": "code",
   "execution_count": 101,
   "id": "515414f4",
   "metadata": {},
   "outputs": [],
   "source": [
    "# fig = plt.figure(figsize=(4, 4), facecolor='black')\n",
    "# draw_map(m)"
   ]
  },
  {
   "cell_type": "code",
   "execution_count": 102,
   "id": "c146cbf1",
   "metadata": {},
   "outputs": [],
   "source": [
    "# fig = plt.figure(figsize=(8, 6), edgecolor='w', facecolor='black')\n",
    "# m = Basemap(projection='cyl', resolution=None,\n",
    "#             llcrnrlat=-90, urcrnrlat=90,\n",
    "#             llcrnrlon=-180, urcrnrlon=180, )\n",
    "# draw_map(m)"
   ]
  },
  {
   "cell_type": "code",
   "execution_count": null,
   "id": "6a41a160",
   "metadata": {},
   "outputs": [],
   "source": []
  }
 ],
 "metadata": {
  "kernelspec": {
   "display_name": "Python 3 (ipykernel)",
   "language": "python",
   "name": "python3"
  },
  "language_info": {
   "codemirror_mode": {
    "name": "ipython",
    "version": 3
   },
   "file_extension": ".py",
   "mimetype": "text/x-python",
   "name": "python",
   "nbconvert_exporter": "python",
   "pygments_lexer": "ipython3",
   "version": "3.11.3"
  }
 },
 "nbformat": 4,
 "nbformat_minor": 5
}
