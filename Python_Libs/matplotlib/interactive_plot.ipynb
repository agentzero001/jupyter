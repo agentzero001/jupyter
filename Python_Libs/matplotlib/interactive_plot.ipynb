{
 "cells": [
  {
   "cell_type": "code",
   "execution_count": 7,
   "id": "2e7a06cb",
   "metadata": {},
   "outputs": [],
   "source": [
    "import matplotlib.pyplot as plt\n",
    "import sympy as sp\n",
    "import numpy as np\n",
    "from ipywidgets import interact, FloatSlider, Label"
   ]
  },
  {
   "cell_type": "code",
   "execution_count": 2,
   "id": "f260623f",
   "metadata": {},
   "outputs": [
    {
     "data": {
      "image/png": "[encoded data removed]",
      "text/plain": [
       "<Figure size 800x600 with 1 Axes>"
      ]
     },
     "metadata": {},
     "output_type": "display_data"
    }
   ],
   "source": [
    "def plot_line(m, b, zoom, shift, move):\n",
    "    x = np.arange(-200, 200, 5)\n",
    "    y = m * x + b\n",
    "\n",
    "    plt.figure(figsize=(8, 6), facecolor='.3')\n",
    "    plt.axes().set_facecolor('black')\n",
    "    plt.axhline(0, color='grey', linewidth=0.5)  \n",
    "    plt.axvline(0, color='grey', linewidth=0.5)  \n",
    "    plt.plot(x, y, color='green', alpha=.8)\n",
    "    plt.xlabel('x')\n",
    "    plt.ylabel('y')\n",
    "    plt.title('Interactive Line Plot')\n",
    "    plt.grid(True, alpha=.2)\n",
    "    plt.xlim(-zoom + shift, zoom + shift)  \n",
    "    plt.ylim(-zoom + move, zoom + move)  \n",
    "    plt.show()\n",
    "\n",
    "   \n",
    "    equation = f'f(x) = {round(m, 3)}x + {round(b, 3) }'\n",
    "    display_label.value = equation\n",
    "\n",
    "\n",
    "m_slider = FloatSlider(min=-10, max=10, step=0.2, value=1)\n",
    "b_slider = FloatSlider(min=-100, max=100, step=0.2, value=0)\n",
    "zoom_slider = FloatSlider(min=1, max=100, step=0.1, value=50)\n",
    "shift_slider = FloatSlider(min=-100, max=100, step=1, value=0)\n",
    "move_slider = FloatSlider(min=-100, max=100, step=1, value=0)\n",
    "\n",
    "display_label = Label()\n",
    "display(display_label)\n",
    "interact(plot_line, m=m_slider, b=b_slider, zoom=zoom_slider, shift=shift_slider, move=move_slider)"
   ]
  },
  {
   "cell_type": "code",
   "execution_count": 3,
   "id": "f9b55569",
   "metadata": {},
   "outputs": [
    {
     "data": {
      "application/vnd.jupyter.widget-view+json": {
       "model_id": "e44cc8b2f6e345458f05a56db32a9852",
       "version_major": 2,
       "version_minor": 0
      },
      "text/plain": [
       "Label(value='')"
      ]
     },
     "metadata": {},
     "output_type": "display_data"
    },
    {
     "data": {
      "application/vnd.jupyter.widget-view+json": {
       "model_id": "9ef48d35d3eb46469e8951837975126f",
       "version_major": 2,
       "version_minor": 0
      },
      "text/plain": [
       "interactive(children=(FloatSlider(value=1.0, description='m', max=10.0, min=-10.0, step=0.5), FloatSlider(valu…"
      ]
     },
     "metadata": {},
     "output_type": "display_data"
    },
    {
     "data": {
      "text/plain": [
       "<function __main__.plot_line(m, b)>"
      ]
     },
     "execution_count": 3,
     "metadata": {},
     "output_type": "execute_result"
    }
   ],
   "source": [
    "def plot_line(m, b):\n",
    "    x = np.arange(-200, 200, 5)\n",
    "    y = m * x + b\n",
    "\n",
    "    plt.figure(figsize=(12, 6), facecolor='.3')\n",
    "\n",
    "    ax1 = plt.subplot(121)\n",
    "    ax1.set_facecolor('black')\n",
    "    ax1.axhline(0, color='grey', linewidth=0.5)\n",
    "    ax1.axvline(0, color='grey', linewidth=0.5)\n",
    "    ax1.plot(x, y, color='green', alpha=0.8)\n",
    "    ax1.set_xlabel('x')\n",
    "    ax1.set_ylabel('y')\n",
    "    ax1.set_title('Interactive Line Plot')\n",
    "    ax1.grid(True, alpha=0.2)\n",
    "    ax1.set_xlim(-100, 100)\n",
    "    ax1.set_ylim(-100, 100)\n",
    "\n",
    "    ax2 = plt.subplot(122)\n",
    "    ax2.set_facecolor('black')\n",
    "    ax2.scatter(m, b, s=200)\n",
    "    ax2.set_xlabel('m')\n",
    "    ax2.set_ylabel('b')\n",
    "    ax2.set_title('Parameter Space')\n",
    "    ax2.grid(True, alpha=0.2)\n",
    "    ax2.set_xlim(-10, 10)\n",
    "    ax2.set_ylim(-100, 100)    \n",
    "    plt.show()\n",
    "\n",
    "    equation = f'f(x) = {m}x + {b}'\n",
    "    display_label.value = equation\n",
    "\n",
    "\n",
    "m_slider = FloatSlider(min=-10, max=10, step=0.5, value=1)\n",
    "b_slider = FloatSlider(min=-100, max=100, step=1, value=0)\n",
    "\n",
    "display_label = Label()\n",
    "display(display_label)\n",
    "interact(plot_line, m=m_slider, b=b_slider)"
   ]
  },
  {
   "cell_type": "code",
   "execution_count": 5,
   "id": "86c6bbbe",
   "metadata": {},
   "outputs": [
    {
     "data": {
      "application/vnd.jupyter.widget-view+json": {
       "model_id": "e6f9c59cae5c40089d07c849106b5fbb",
       "version_major": 2,
       "version_minor": 0
      },
      "text/plain": [
       "interactive(children=(FloatSlider(value=0.0, description='a', max=5.0, min=-5.0, step=0.5), FloatSlider(value=…"
      ]
     },
     "metadata": {},
     "output_type": "display_data"
    },
    {
     "data": {
      "text/plain": [
       "<function __main__.interactive_polypow3(a, b, c, d, zoom)>"
      ]
     },
     "execution_count": 5,
     "metadata": {},
     "output_type": "execute_result"
    }
   ],
   "source": [
    "def interactive_polypow3(a, b, c, d, zoom):\n",
    "    \n",
    "    F = lambda x: a*x**3 + b*x**2 + c*x + d\n",
    "    f = lambda x: 3*a*x**2 + 2*b*x + c\n",
    "    df1 = lambda x: 6*a*x +2*b\n",
    "\n",
    "    x = np.arange(-30, 30, .1)\n",
    "\n",
    "    fig, axs = plt.subplots(1, 3, facecolor='0.3',figsize=(12, 4),sharey = True)\n",
    "    \n",
    "    axs[0].plot(x, F(x), c = 'green')\n",
    "    axs[1].plot(x, f(x), c = 'green')\n",
    "    axs[2].plot(x, df1(x),c ='green')\n",
    "    axs[0].set_title(\"F(x) = {}x³+{}x²+{}x+{}\".format(a,b,c,d))\n",
    "    axs[1].set_title(\"f(x) = {}x²+{}x+{}\".format(3*a,2*b,c))\n",
    "    axs[2].set_title(\"df1(x) = {}x+{}\".format(6*a,2*b))\n",
    "\n",
    "    for n in range(3):\n",
    "        axs[n].set_facecolor('black')\n",
    "        axs[n].axhline(y=0, c='white', lw=0.1,zorder=0)\n",
    "        axs[n].axvline(x=0, c='white', lw=0.1,zorder=0)\n",
    "        axs[n].set_xlim(-zoom, zoom)\n",
    "        axs[n].set_ylim(-zoom, zoom)\n",
    "        axs[n].grid(alpha=.2)\n",
    "    plt.show()\n",
    "    \n",
    "\n",
    "a_slider = FloatSlider(min=-5, max=5, step=.5, value=0)\n",
    "b_slider = FloatSlider(min=-10, max=10, step=.5, value=0)\n",
    "c_slider = FloatSlider(min=-10, max=10, step=.5, value=0)\n",
    "d_slider = FloatSlider(min=-10, max=10, step=.5, value=0)\n",
    "zoom_slider = FloatSlider(min=1, max=100, step=1, value=10)\n",
    "\n",
    "interact(interactive_polypow3, a=a_slider, b=b_slider, c=c_slider, d=d_slider, zoom=zoom_slider)"
   ]
  },
  {
   "cell_type": "code",
   "execution_count": 17,
   "id": "e554b1a5",
   "metadata": {},
   "outputs": [
    {
     "data": {
      "application/vnd.jupyter.widget-view+json": {
       "model_id": "a63a37b6e8344b8ba1d6395c471bc43b",
       "version_major": 2,
       "version_minor": 0
      },
      "text/plain": [
       "interactive(children=(FloatSlider(value=1.0, description='a', max=5.0, min=-5.0, step=0.5), FloatSlider(value=…"
      ]
     },
     "metadata": {},
     "output_type": "display_data"
    },
    {
     "data": {
      "text/plain": [
       "<function __main__.degree.<locals>.interactive_polypown(a, b, c, d, zoom)>"
      ]
     },
     "execution_count": 17,
     "metadata": {},
     "output_type": "execute_result"
    },
    {
     "data": {
      "image/png": "[encoded data removed]",
      "text/plain": [
       "<Figure size 1200x400 with 3 Axes>"
      ]
     },
     "metadata": {},
     "output_type": "display_data"
    }
   ],
   "source": [
    "def degree(power):\n",
    "    '''please don't go lower than power of 3 otherwise it will not work as intended'''\n",
    "    def interactive_polypown(a, b, c, d, zoom):\n",
    "\n",
    "        create_polynomial = lambda coeffs: sum(coeffs[i]*x**i for i in range(len(coeffs)))\n",
    "        x = sp.symbols('x')\n",
    "        co = [0] * (power - 4)  + [d,c,b,a]\n",
    "        F = create_polynomial(co)\n",
    "        f = sp.diff(F, x)\n",
    "        df = sp.diff(sp.diff(F, x), x)\n",
    "        F1 = sp.lambdify(x, F, 'numpy')\n",
    "        f1 = sp.lambdify(x, f, 'numpy')\n",
    "        df1 = sp.lambdify(x, df, 'numpy')\n",
    "        x_ = np.arange(-50, 50, .025)\n",
    "\n",
    "        fig, axs = plt.subplots(1, 3, facecolor='.3',figsize=(12, 4))\n",
    "\n",
    "        axs[0].plot(x_, F1(x_), c = 'green')\n",
    "        if len(co) == 3:\n",
    "            axs[2].axhline(y=2*co[2],c='green')\n",
    "            axs[1].plot(x_, f1(x_), c = 'green')\n",
    "        elif len(co) == 2:\n",
    "            axs[1].axhline(y=co[1],c='green')\n",
    "        else:\n",
    "            axs[1].plot(x_, f1(x_), c = 'green')\n",
    "            axs[2].plot(x_, df1(x_),c ='green')\n",
    "        axs[0].set_title(\"F(x) = {}\".format(F), fontsize=7)\n",
    "        axs[1].set_title(\"f(x) = {}\".format(f), fontsize=7)\n",
    "        axs[2].set_title(\"df1(x) = {}\".format(df), fontsize=7)\n",
    "\n",
    "        for n in range(3):\n",
    "            axs[n].set_facecolor('black')\n",
    "            axs[n].axhline(y=0, c='white', lw=0.1,zorder=0)\n",
    "            axs[n].axvline(x=0, c='white', lw=0.1,zorder=0)\n",
    "            axs[n].set_xlim(-zoom, zoom)\n",
    "            axs[n].set_ylim(-zoom, zoom)\n",
    "        plt.show()\n",
    "        \n",
    "    return interactive_polypown\n",
    "    \n",
    "a_slider = FloatSlider(min=-5, max=5, step=.5, value=1)\n",
    "b_slider = FloatSlider(min=-10, max=10, step=.5, value=1)\n",
    "c_slider = FloatSlider(min=-10, max=10, step=.5, value=1)\n",
    "d_slider = FloatSlider(min=-10, max=10, step=.5, value=1)\n",
    "zoom_slider = FloatSlider(min=.5, max=100, step=1, value=3)\n",
    "\n",
    "interact(degree(7), a=a_slider, b=b_slider, c=c_slider, d=d_slider, zoom=zoom_slider)"
   ]
  },
  {
   "cell_type": "code",
   "execution_count": 14,
   "id": "baa2cdd6",
   "metadata": {},
   "outputs": [],
   "source": [
    "a = [1,1,3,3]"
   ]
  },
  {
   "cell_type": "code",
   "execution_count": 22,
   "id": "adc2ea35",
   "metadata": {},
   "outputs": [
    {
     "data": {
      "text/plain": [
       "[0, 0]"
      ]
     },
     "execution_count": 22,
     "metadata": {},
     "output_type": "execute_result"
    }
   ],
   "source": [
    "[0] * 2"
   ]
  },
  {
   "cell_type": "code",
   "execution_count": null,
   "id": "fa6d976c",
   "metadata": {},
   "outputs": [],
   "source": []
  }
 ],
 "metadata": {
  "kernelspec": {
   "display_name": "Python 3 (ipykernel)",
   "language": "python",
   "name": "python3"
  },
  "language_info": {
   "codemirror_mode": {
    "name": "ipython",
    "version": 3
   },
   "file_extension": ".py",
   "mimetype": "text/x-python",
   "name": "python",
   "nbconvert_exporter": "python",
   "pygments_lexer": "ipython3",
   "version": "3.11.3"
  }
 },
 "nbformat": 4,
 "nbformat_minor": 5
}
