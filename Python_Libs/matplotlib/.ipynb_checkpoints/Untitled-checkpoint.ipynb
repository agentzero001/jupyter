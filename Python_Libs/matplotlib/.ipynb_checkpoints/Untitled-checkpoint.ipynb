{
 "cells": [
  {
   "cell_type": "code",
   "execution_count": 1,
   "id": "2e7a06cb",
   "metadata": {},
   "outputs": [],
   "source": [
    "import matplotlib.pyplot as plt\n",
    "import numpy as np\n",
    "from ipywidgets import interact, FloatSlider, Label"
   ]
  },
  {
   "cell_type": "code",
   "execution_count": 8,
   "id": "f260623f",
   "metadata": {},
   "outputs": [
    {
     "data": {
      "application/vnd.jupyter.widget-view+json": {
       "model_id": "988c5e4803e84f809f4a409c86c77408",
       "version_major": 2,
       "version_minor": 0
      },
      "text/plain": [
       "Label(value='')"
      ]
     },
     "metadata": {},
     "output_type": "display_data"
    },
    {
     "data": {
      "application/vnd.jupyter.widget-view+json": {
       "model_id": "bdcb197f56ea4b7496766856a5477355",
       "version_major": 2,
       "version_minor": 0
      },
      "text/plain": [
       "interactive(children=(FloatSlider(value=1.0, description='m', max=10.0, min=-10.0, step=0.2), FloatSlider(valu…"
      ]
     },
     "metadata": {},
     "output_type": "display_data"
    },
    {
     "data": {
      "text/plain": [
       "<function __main__.plot_line(m, b, zoom, shift, move)>"
      ]
     },
     "execution_count": 8,
     "metadata": {},
     "output_type": "execute_result"
    }
   ],
   "source": [
    "def plot_line(m, b, zoom, shift, move):\n",
    "    x = np.arange(-200, 200, 5)\n",
    "    y = m * x + b\n",
    "\n",
    "    plt.figure(figsize=(8, 6), facecolor='.3')\n",
    "    plt.axes().set_facecolor('black')\n",
    "    plt.axhline(0, color='grey', linewidth=0.5)  \n",
    "    plt.axvline(0, color='grey', linewidth=0.5)  \n",
    "    plt.plot(x, y, color='green', alpha=.8)\n",
    "    plt.xlabel('x')\n",
    "    plt.ylabel('y')\n",
    "    plt.title('Interactive Line Plot')\n",
    "    plt.grid(True, alpha=.2)\n",
    "    plt.xlim(-zoom + shift, zoom + shift)  \n",
    "    plt.ylim(-zoom + move, zoom + move)  \n",
    "    plt.show()\n",
    "\n",
    "   \n",
    "    equation = f'f(x) = {round(m, 3)}x + {round(b, 3) }'\n",
    "    display_label.value = equation\n",
    "\n",
    "\n",
    "m_slider = FloatSlider(min=-10, max=10, step=0.2, value=1)\n",
    "b_slider = FloatSlider(min=-100, max=100, step=0.2, value=0)\n",
    "zoom_slider = FloatSlider(min=1, max=100, step=0.1, value=50)\n",
    "shift_slider = FloatSlider(min=-100, max=100, step=1, value=0)\n",
    "move_slider = FloatSlider(min=-100, max=100, step=1, value=0)\n",
    "\n",
    "display_label = Label()\n",
    "display(display_label)\n",
    "interact(plot_line, m=m_slider, b=b_slider, zoom=zoom_slider, shift=shift_slider, move=move_slider)"
   ]
  },
  {
   "cell_type": "code",
   "execution_count": 13,
   "id": "f9b55569",
   "metadata": {},
   "outputs": [
    {
     "data": {
      "application/vnd.jupyter.widget-view+json": {
       "model_id": "08697f5d229a4d85bd3db53a55620999",
       "version_major": 2,
       "version_minor": 0
      },
      "text/plain": [
       "Label(value='')"
      ]
     },
     "metadata": {},
     "output_type": "display_data"
    },
    {
     "data": {
      "application/vnd.jupyter.widget-view+json": {
       "model_id": "fd77e6d55d544781ae5c076ea6e21436",
       "version_major": 2,
       "version_minor": 0
      },
      "text/plain": [
       "interactive(children=(FloatSlider(value=1.0, description='m', max=10.0, min=-10.0, step=0.5), FloatSlider(valu…"
      ]
     },
     "metadata": {},
     "output_type": "display_data"
    },
    {
     "data": {
      "text/plain": [
       "<function __main__.plot_line(m, b)>"
      ]
     },
     "execution_count": 13,
     "metadata": {},
     "output_type": "execute_result"
    }
   ],
   "source": [
    "def plot_line(m, b):\n",
    "    x = np.arange(-200, 200, 5)\n",
    "    y = m * x + b\n",
    "\n",
    "    plt.figure(figsize=(12, 6), facecolor='.3')\n",
    "\n",
    "    ax1 = plt.subplot(121)\n",
    "    ax1.set_facecolor('black')\n",
    "    ax1.axhline(0, color='grey', linewidth=0.5)\n",
    "    ax1.axvline(0, color='grey', linewidth=0.5)\n",
    "    ax1.plot(x, y, color='green', alpha=0.8)\n",
    "    ax1.set_xlabel('x')\n",
    "    ax1.set_ylabel('y')\n",
    "    ax1.set_title('Interactive Line Plot')\n",
    "    ax1.grid(True, alpha=0.2)\n",
    "    ax1.set_xlim(-100, 100)\n",
    "    ax1.set_ylim(-100, 100)\n",
    "\n",
    "    ax2 = plt.subplot(122)\n",
    "    ax2.set_facecolor('black')\n",
    "    ax2.scatter(m, b, s=200)\n",
    "    ax2.set_xlabel('m')\n",
    "    ax2.set_ylabel('b')\n",
    "    ax2.set_title('Parameter Space')\n",
    "    ax2.grid(True, alpha=0.2)\n",
    "    ax2.set_xlim(-10, 10)\n",
    "    ax2.set_ylim(-100, 100)    \n",
    "    plt.show()\n",
    "\n",
    "    equation = f'f(x) = {m}x + {b}'\n",
    "    display_label.value = equation\n",
    "\n",
    "\n",
    "m_slider = FloatSlider(min=-10, max=10, step=0.5, value=1)\n",
    "b_slider = FloatSlider(min=-100, max=100, step=1, value=0)\n",
    "\n",
    "display_label = Label()\n",
    "display(display_label)\n",
    "interact(plot_line, m=m_slider, b=b_slider)"
   ]
  },
  {
   "cell_type": "code",
   "execution_count": null,
   "id": "b8b74499",
   "metadata": {},
   "outputs": [],
   "source": []
  }
 ],
 "metadata": {
  "kernelspec": {
   "display_name": "Python 3 (ipykernel)",
   "language": "python",
   "name": "python3"
  },
  "language_info": {
   "codemirror_mode": {
    "name": "ipython",
    "version": 3
   },
   "file_extension": ".py",
   "mimetype": "text/x-python",
   "name": "python",
   "nbconvert_exporter": "python",
   "pygments_lexer": "ipython3",
   "version": "3.11.3"
  }
 },
 "nbformat": 4,
 "nbformat_minor": 5
}
