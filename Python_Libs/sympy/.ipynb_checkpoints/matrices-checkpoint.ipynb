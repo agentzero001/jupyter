{
 "cells": [
  {
   "cell_type": "code",
   "execution_count": 1,
   "id": "6f3817c3",
   "metadata": {},
   "outputs": [],
   "source": [
    "import sympy as sp"
   ]
  },
  {
   "cell_type": "code",
   "execution_count": 10,
   "id": "feb9d057",
   "metadata": {},
   "outputs": [],
   "source": [
    "def translation_matrix_3d(tx, ty, tz):\n",
    "    return sp.Matrix([\n",
    "        [1, 0, 0, tx],\n",
    "        [0, 1, 0, ty],\n",
    "        [0, 0, 1, tz],\n",
    "        [0, 0, 0, 1]\n",
    "    ])\n",
    "\n",
    "def rotation_matrix_x(theta):\n",
    "    return sp.Matrix([\n",
    "        [1, 0, 0, 0],\n",
    "        [0, sp.cos(theta), -sp.sin(theta), 0],\n",
    "        [0, sp.sin(theta), sp.cos(theta), 0],\n",
    "        [0, 0, 0, 1]\n",
    "    ])\n",
    "\n",
    "def rotation_matrix_y(theta):\n",
    "    return sp.Matrix([\n",
    "        [sp.cos(theta), 0, sp.sin(theta), 0],\n",
    "        [0, 1, 0, 0],\n",
    "        [-sp.sin(theta), 0, sp.cos(theta), 0],\n",
    "        [0, 0, 0, 1]\n",
    "    ])\n",
    "\n",
    "def rotation_matrix_z(theta):\n",
    "    return sp.Matrix([\n",
    "        [sp.cos(theta), -sp.sin(theta), 0, 0],\n",
    "        [sp.sin(theta), sp.cos(theta), 0, 0],\n",
    "        [0, 0, 1, 0],\n",
    "        [0, 0, 0, 1]\n",
    "    ])\n"
   ]
  },
  {
   "cell_type": "code",
   "execution_count": 24,
   "id": "c872d73c",
   "metadata": {},
   "outputs": [],
   "source": [
    "tx, ty, tz = sp.symbols('tx ty tz')\n",
    "theta_x , theta_y, theta_z = sp.symbols('theta_x theta_y theta_z')"
   ]
  },
  {
   "cell_type": "code",
   "execution_count": 31,
   "id": "b6aef6da",
   "metadata": {},
   "outputs": [
    {
     "data": {
      "text/latex": [
       "$\\displaystyle \\theta_{x}$"
      ],
      "text/plain": [
       "theta_x"
      ]
     },
     "execution_count": 31,
     "metadata": {},
     "output_type": "execute_result"
    }
   ],
   "source": [
    "theta_x"
   ]
  },
  {
   "cell_type": "code",
   "execution_count": 25,
   "id": "c971cf25",
   "metadata": {},
   "outputs": [],
   "source": [
    "tM = translation_matrix_3d(tx, ty, tz)"
   ]
  },
  {
   "cell_type": "code",
   "execution_count": 26,
   "id": "2cc891ad",
   "metadata": {},
   "outputs": [
    {
     "data": {
      "text/latex": [
       "$\\displaystyle \\left[\\begin{matrix}1 & 0 & 0 & tx\\\\0 & 1 & 0 & ty\\\\0 & 0 & 1 & tz\\\\0 & 0 & 0 & 1\\end{matrix}\\right]$"
      ],
      "text/plain": [
       "Matrix([\n",
       "[1, 0, 0, tx],\n",
       "[0, 1, 0, ty],\n",
       "[0, 0, 1, tz],\n",
       "[0, 0, 0,  1]])"
      ]
     },
     "execution_count": 26,
     "metadata": {},
     "output_type": "execute_result"
    }
   ],
   "source": [
    "tM"
   ]
  },
  {
   "cell_type": "code",
   "execution_count": 38,
   "id": "6b2d5605",
   "metadata": {},
   "outputs": [],
   "source": [
    "rM_x = rotation_matrix_x(theta_x)\n",
    "rM_y = rotation_matrix_y(theta_y)\n",
    "rM_z = rotation_matrix_z(theta_z)"
   ]
  },
  {
   "cell_type": "code",
   "execution_count": 39,
   "id": "2ca9c87b",
   "metadata": {},
   "outputs": [
    {
     "data": {
      "text/latex": [
       "$\\displaystyle \\left[\\begin{matrix}1 & 0 & 0 & 0\\\\0 & \\cos{\\left(\\theta_{x} \\right)} & - \\sin{\\left(\\theta_{x} \\right)} & 0\\\\0 & \\sin{\\left(\\theta_{x} \\right)} & \\cos{\\left(\\theta_{x} \\right)} & 0\\\\0 & 0 & 0 & 1\\end{matrix}\\right]$"
      ],
      "text/plain": [
       "Matrix([\n",
       "[1,            0,             0, 0],\n",
       "[0, cos(theta_x), -sin(theta_x), 0],\n",
       "[0, sin(theta_x),  cos(theta_x), 0],\n",
       "[0,            0,             0, 1]])"
      ]
     },
     "execution_count": 39,
     "metadata": {},
     "output_type": "execute_result"
    }
   ],
   "source": [
    "rM_x"
   ]
  },
  {
   "cell_type": "code",
   "execution_count": 40,
   "id": "24ce7bcc",
   "metadata": {},
   "outputs": [
    {
     "data": {
      "text/latex": [
       "$\\displaystyle \\left[\\begin{matrix}\\cos{\\left(\\theta_{y} \\right)} & 0 & \\sin{\\left(\\theta_{y} \\right)} & 0\\\\0 & 1 & 0 & 0\\\\- \\sin{\\left(\\theta_{y} \\right)} & 0 & \\cos{\\left(\\theta_{y} \\right)} & 0\\\\0 & 0 & 0 & 1\\end{matrix}\\right]$"
      ],
      "text/plain": [
       "Matrix([\n",
       "[ cos(theta_y), 0, sin(theta_y), 0],\n",
       "[            0, 1,            0, 0],\n",
       "[-sin(theta_y), 0, cos(theta_y), 0],\n",
       "[            0, 0,            0, 1]])"
      ]
     },
     "execution_count": 40,
     "metadata": {},
     "output_type": "execute_result"
    }
   ],
   "source": [
    "rM_y"
   ]
  },
  {
   "cell_type": "code",
   "execution_count": 41,
   "id": "a384a729",
   "metadata": {},
   "outputs": [
    {
     "data": {
      "text/latex": [
       "$\\displaystyle \\left[\\begin{matrix}\\cos{\\left(\\theta_{z} \\right)} & - \\sin{\\left(\\theta_{z} \\right)} & 0 & 0\\\\\\sin{\\left(\\theta_{z} \\right)} & \\cos{\\left(\\theta_{z} \\right)} & 0 & 0\\\\0 & 0 & 1 & 0\\\\0 & 0 & 0 & 1\\end{matrix}\\right]$"
      ],
      "text/plain": [
       "Matrix([\n",
       "[cos(theta_z), -sin(theta_z), 0, 0],\n",
       "[sin(theta_z),  cos(theta_z), 0, 0],\n",
       "[           0,             0, 1, 0],\n",
       "[           0,             0, 0, 1]])"
      ]
     },
     "execution_count": 41,
     "metadata": {},
     "output_type": "execute_result"
    }
   ],
   "source": [
    "rM_z"
   ]
  },
  {
   "cell_type": "code",
   "execution_count": 45,
   "id": "317e4ce4",
   "metadata": {},
   "outputs": [
    {
     "data": {
      "text/latex": [
       "$\\displaystyle \\left[\\begin{matrix}\\cos{\\left(\\theta_{y} \\right)} \\cos{\\left(\\theta_{z} \\right)} & - \\sin{\\left(\\theta_{z} \\right)} \\cos{\\left(\\theta_{y} \\right)} & \\sin{\\left(\\theta_{y} \\right)} & tx\\\\\\sin{\\left(\\theta_{x} \\right)} \\sin{\\left(\\theta_{y} \\right)} \\cos{\\left(\\theta_{z} \\right)} + \\sin{\\left(\\theta_{z} \\right)} \\cos{\\left(\\theta_{x} \\right)} & - \\sin{\\left(\\theta_{x} \\right)} \\sin{\\left(\\theta_{y} \\right)} \\sin{\\left(\\theta_{z} \\right)} + \\cos{\\left(\\theta_{x} \\right)} \\cos{\\left(\\theta_{z} \\right)} & - \\sin{\\left(\\theta_{x} \\right)} \\cos{\\left(\\theta_{y} \\right)} & ty\\\\\\sin{\\left(\\theta_{x} \\right)} \\sin{\\left(\\theta_{z} \\right)} - \\sin{\\left(\\theta_{y} \\right)} \\cos{\\left(\\theta_{x} \\right)} \\cos{\\left(\\theta_{z} \\right)} & \\sin{\\left(\\theta_{x} \\right)} \\cos{\\left(\\theta_{z} \\right)} + \\sin{\\left(\\theta_{y} \\right)} \\sin{\\left(\\theta_{z} \\right)} \\cos{\\left(\\theta_{x} \\right)} & \\cos{\\left(\\theta_{x} \\right)} \\cos{\\left(\\theta_{y} \\right)} & tz\\\\0 & 0 & 0 & 1\\end{matrix}\\right]$"
      ],
      "text/plain": [
       "Matrix([\n",
       "[                                         cos(theta_y)*cos(theta_z),                                          -sin(theta_z)*cos(theta_y),               sin(theta_y), tx],\n",
       "[sin(theta_x)*sin(theta_y)*cos(theta_z) + sin(theta_z)*cos(theta_x), -sin(theta_x)*sin(theta_y)*sin(theta_z) + cos(theta_x)*cos(theta_z), -sin(theta_x)*cos(theta_y), ty],\n",
       "[sin(theta_x)*sin(theta_z) - sin(theta_y)*cos(theta_x)*cos(theta_z),  sin(theta_x)*cos(theta_z) + sin(theta_y)*sin(theta_z)*cos(theta_x),  cos(theta_x)*cos(theta_y), tz],\n",
       "[                                                                 0,                                                                   0,                          0,  1]])"
      ]
     },
     "execution_count": 45,
     "metadata": {},
     "output_type": "execute_result"
    }
   ],
   "source": [
    "#is it correct?\n",
    "tM @ rM_x @ rM_y @ rM_z"
   ]
  },
  {
   "cell_type": "code",
   "execution_count": null,
   "id": "e9dd5087",
   "metadata": {},
   "outputs": [],
   "source": []
  }
 ],
 "metadata": {
  "kernelspec": {
   "display_name": "Python 3 (ipykernel)",
   "language": "python",
   "name": "python3"
  },
  "language_info": {
   "codemirror_mode": {
    "name": "ipython",
    "version": 3
   },
   "file_extension": ".py",
   "mimetype": "text/x-python",
   "name": "python",
   "nbconvert_exporter": "python",
   "pygments_lexer": "ipython3",
   "version": "3.11.7"
  }
 },
 "nbformat": 4,
 "nbformat_minor": 5
}
