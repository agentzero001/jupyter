{
 "cells": [
  {
   "cell_type": "code",
   "execution_count": 154,
   "id": "d6e20f52",
   "metadata": {},
   "outputs": [],
   "source": [
    "import math\n",
    "import numpy as np\n",
    "import sympy as sp\n",
    "from fractions import Fraction\n",
    "from IPython.display import display"
   ]
  },
  {
   "cell_type": "code",
   "execution_count": 155,
   "id": "41b85b7c",
   "metadata": {},
   "outputs": [
    {
     "data": {
      "image/png": "[encoded data removed]",
      "text/latex": [
       "$\\displaystyle 2.828$"
      ],
      "text/plain": [
       "2.828"
      ]
     },
     "execution_count": 155,
     "metadata": {},
     "output_type": "execute_result"
    }
   ],
   "source": [
    "sp.N(sp.sqrt(8),4)"
   ]
  },
  {
   "cell_type": "code",
   "execution_count": 156,
   "id": "3365497a",
   "metadata": {},
   "outputs": [
    {
     "data": {
      "image/png": "[encoded data removed]",
      "text/latex": [
       "$\\displaystyle 2.828427$"
      ],
      "text/plain": [
       "2.828427"
      ]
     },
     "execution_count": 156,
     "metadata": {},
     "output_type": "execute_result"
    }
   ],
   "source": [
    "sp.sqrt(8).evalf(7)"
   ]
  },
  {
   "cell_type": "code",
   "execution_count": 157,
   "id": "d9729091",
   "metadata": {},
   "outputs": [
    {
     "data": {
      "image/png": "[encoded data removed]",
      "text/latex": [
       "$\\displaystyle 2 \\sqrt{2}$"
      ],
      "text/plain": [
       "2⋅√2"
      ]
     },
     "execution_count": 157,
     "metadata": {},
     "output_type": "execute_result"
    }
   ],
   "source": [
    "sp.sqrt(Fraction(16/2))"
   ]
  },
  {
   "cell_type": "code",
   "execution_count": 158,
   "id": "4dcff0ba",
   "metadata": {},
   "outputs": [
    {
     "data": {
      "image/png": "[encoded data removed]",
      "text/latex": [
       "$\\displaystyle \\frac{\\sqrt{2}}{2}$"
      ],
      "text/plain": [
       "√2\n",
       "──\n",
       "2 "
      ]
     },
     "execution_count": 158,
     "metadata": {},
     "output_type": "execute_result"
    }
   ],
   "source": [
    "sp.sqrt(sp.Rational(2/4))"
   ]
  },
  {
   "cell_type": "code",
   "execution_count": 159,
   "id": "541a3bc8",
   "metadata": {},
   "outputs": [],
   "source": [
    "sp.init_printing(pretty_print=True)"
   ]
  },
  {
   "cell_type": "code",
   "execution_count": 160,
   "id": "88ac0902",
   "metadata": {},
   "outputs": [
    {
     "data": {
      "image/png": "[encoded data removed]",
      "text/latex": [
       "$\\displaystyle \\frac{\\sqrt{2}}{2}$"
      ],
      "text/plain": [
       "√2\n",
       "──\n",
       "2 "
      ]
     },
     "execution_count": 160,
     "metadata": {},
     "output_type": "execute_result"
    }
   ],
   "source": [
    "sp.sqrt(sp.Rational(2/4))"
   ]
  },
  {
   "cell_type": "code",
   "execution_count": 161,
   "id": "22b86d11",
   "metadata": {},
   "outputs": [
    {
     "data": {
      "image/png": "[encoded data removed]",
      "text/latex": [
       "$\\displaystyle \\sqrt{2}$"
      ],
      "text/plain": [
       "√2"
      ]
     },
     "metadata": {},
     "output_type": "display_data"
    }
   ],
   "source": [
    "display(sp.sqrt(2))"
   ]
  },
  {
   "cell_type": "code",
   "execution_count": 162,
   "id": "5583b67b",
   "metadata": {},
   "outputs": [],
   "source": [
    "a, b, x = sp.symbols('a b x')"
   ]
  },
  {
   "cell_type": "code",
   "execution_count": 163,
   "id": "41a04562",
   "metadata": {},
   "outputs": [],
   "source": [
    "expr = a*(a + 6)\n",
    "expand_expr = sp.expand(expr)\n",
    "factor_expr = sp.factor(expand_expr)"
   ]
  },
  {
   "cell_type": "code",
   "execution_count": 164,
   "id": "00715886",
   "metadata": {},
   "outputs": [
    {
     "data": {
      "image/png": "[encoded data removed]",
      "text/latex": [
       "$\\displaystyle a \\left(a + 6\\right)$"
      ],
      "text/plain": [
       "a⋅(a + 6)"
      ]
     },
     "metadata": {},
     "output_type": "display_data"
    },
    {
     "data": {
      "image/png": "[encoded data removed]",
      "text/latex": [
       "$\\displaystyle a^{2} + 6 a$"
      ],
      "text/plain": [
       " 2      \n",
       "a  + 6⋅a"
      ]
     },
     "metadata": {},
     "output_type": "display_data"
    },
    {
     "data": {
      "image/png": "[encoded data removed]",
      "text/latex": [
       "$\\displaystyle a \\left(a + 6\\right)$"
      ],
      "text/plain": [
       "a⋅(a + 6)"
      ]
     },
     "metadata": {},
     "output_type": "display_data"
    }
   ],
   "source": [
    "display(expr)\n",
    "display(expand_expr)\n",
    "display(factor_expr)"
   ]
  },
  {
   "cell_type": "code",
   "execution_count": 165,
   "id": "de57726d",
   "metadata": {},
   "outputs": [
    {
     "data": {
      "image/png": "[encoded data removed]",
      "text/latex": [
       "$\\displaystyle a \\left(a + 6\\right)$"
      ],
      "text/plain": [
       "a⋅(a + 6)"
      ]
     },
     "execution_count": 165,
     "metadata": {},
     "output_type": "execute_result"
    }
   ],
   "source": [
    "sp.factor(expand_expr)"
   ]
  },
  {
   "cell_type": "code",
   "execution_count": 166,
   "id": "ad9f35f6",
   "metadata": {},
   "outputs": [
    {
     "data": {
      "image/png": "[encoded data removed]",
      "text/latex": [
       "$\\displaystyle a^{2} + 6 a$"
      ],
      "text/plain": [
       " 2      \n",
       "a  + 6⋅a"
      ]
     },
     "execution_count": 166,
     "metadata": {},
     "output_type": "execute_result"
    }
   ],
   "source": [
    "expand_expr"
   ]
  },
  {
   "cell_type": "code",
   "execution_count": 167,
   "id": "5fd4e39d",
   "metadata": {},
   "outputs": [],
   "source": [
    "x, y, z = sp.symbols('x y z')"
   ]
  },
  {
   "cell_type": "code",
   "execution_count": 168,
   "id": "4de350bd",
   "metadata": {},
   "outputs": [
    {
     "data": {
      "image/png": "[encoded data removed]",
      "text/latex": [
       "$\\displaystyle 2 \\cdot \\sqrt[4]{2} \\sqrt[4]{x^{9} y^{5} z^{12}}$"
      ],
      "text/plain": [
       "           ___________\n",
       "  4 ___ 4 ╱  9  5  12 \n",
       "2⋅╲╱ 2 ⋅╲╱  x ⋅y ⋅z   "
      ]
     },
     "execution_count": 168,
     "metadata": {},
     "output_type": "execute_result"
    }
   ],
   "source": [
    "(32 * x**9 * y**5 * z**12)**(sp.Rational(1,4))"
   ]
  },
  {
   "cell_type": "markdown",
   "id": "36df8bc3",
   "metadata": {},
   "source": [
    "--------"
   ]
  },
  {
   "cell_type": "code",
   "execution_count": 169,
   "id": "f21b44ff",
   "metadata": {},
   "outputs": [
    {
     "data": {
      "image/png": "[encoded data removed]",
      "text/latex": [
       "$\\displaystyle - \\frac{6}{x^{4}}$"
      ],
      "text/plain": [
       "-6 \n",
       "───\n",
       "  4\n",
       " x "
      ]
     },
     "execution_count": 169,
     "metadata": {},
     "output_type": "execute_result"
    }
   ],
   "source": [
    "x, n = sp.symbols('x n')\n",
    "f_ = x**-1\n",
    "sp.diff(sp.diff(sp.diff(f_)))"
   ]
  },
  {
   "cell_type": "code",
   "execution_count": 170,
   "id": "fb209250",
   "metadata": {},
   "outputs": [
    {
     "data": {
      "image/png": "[encoded data removed]",
      "text/latex": [
       "$\\displaystyle x^{2} + \\frac{2}{x^{5}}$"
      ],
      "text/plain": [
       " 2   2 \n",
       "x  + ──\n",
       "      5\n",
       "     x "
      ]
     },
     "execution_count": 170,
     "metadata": {},
     "output_type": "execute_result"
    }
   ],
   "source": [
    "f2 = x**2 + 2*x**-5\n",
    "f2_ = sp.lambdify(x, f2, 'numpy')\n",
    "xs = np.arange(1,4)\n",
    "f2"
   ]
  },
  {
   "cell_type": "code",
   "execution_count": 171,
   "id": "6acaba60",
   "metadata": {},
   "outputs": [
    {
     "data": {
      "text/plain": [
       "(array([3.        , 4.0625    , 9.00823045]), 2189/243)"
      ]
     },
     "execution_count": 171,
     "metadata": {},
     "output_type": "execute_result"
    }
   ],
   "source": [
    "f2_(xs), f2.subs(x, 3)"
   ]
  },
  {
   "cell_type": "code",
   "execution_count": 172,
   "id": "7e6030d3",
   "metadata": {},
   "outputs": [
    {
     "data": {
      "image/png": "[encoded data removed]",
      "text/latex": [
       "$\\displaystyle \\infty$"
      ],
      "text/plain": [
       "∞"
      ]
     },
     "execution_count": 172,
     "metadata": {},
     "output_type": "execute_result"
    }
   ],
   "source": [
    "sp.limit(f2, x, -sp.oo)"
   ]
  },
  {
   "cell_type": "code",
   "execution_count": 173,
   "id": "5b922207",
   "metadata": {},
   "outputs": [
    {
     "data": {
      "image/png": "[encoded data removed]",
      "text/latex": [
       "$\\displaystyle \\left(1 + \\frac{1}{n}\\right)^{n}$"
      ],
      "text/plain": [
       "       n\n",
       "⎛    1⎞ \n",
       "⎜1 + ─⎟ \n",
       "⎝    n⎠ "
      ]
     },
     "execution_count": 173,
     "metadata": {},
     "output_type": "execute_result"
    }
   ],
   "source": [
    "f = (1 + (1/n))**n\n",
    "f"
   ]
  },
  {
   "cell_type": "code",
   "execution_count": 174,
   "id": "131026f4",
   "metadata": {},
   "outputs": [
    {
     "data": {
      "image/png": "[encoded data removed]",
      "text/latex": [
       "$\\displaystyle \\left( e, \\  2.71828182845905\\right)$"
      ],
      "text/plain": [
       "(ℯ, 2.71828182845905)"
      ]
     },
     "execution_count": 174,
     "metadata": {},
     "output_type": "execute_result"
    }
   ],
   "source": [
    "result = sp.limit(f, n, sp.oo) #sp.infinityyyyyyyyyyyyyyyyyyyyyyy\n",
    "result, result.evalf()"
   ]
  },
  {
   "cell_type": "code",
   "execution_count": 175,
   "id": "cba8e6ac",
   "metadata": {},
   "outputs": [
    {
     "data": {
      "image/png": "[encoded data removed]",
      "text/latex": [
       "$\\displaystyle 6$"
      ],
      "text/plain": [
       "6"
      ]
     },
     "execution_count": 175,
     "metadata": {},
     "output_type": "execute_result"
    }
   ],
   "source": [
    "sp.factorial(3)"
   ]
  },
  {
   "cell_type": "code",
   "execution_count": 176,
   "id": "9a202c9e",
   "metadata": {},
   "outputs": [
    {
     "data": {
      "image/png": "[encoded data removed]",
      "text/latex": [
       "$\\displaystyle \\left( \\frac{98641}{36288}, \\  2.71828152557319\\right)$"
      ],
      "text/plain": [
       "⎛98641                  ⎞\n",
       "⎜─────, 2.71828152557319⎟\n",
       "⎝36288                  ⎠"
      ]
     },
     "execution_count": 176,
     "metadata": {},
     "output_type": "execute_result"
    }
   ],
   "source": [
    "f3 = lambda n_: sum(1 / sp.factorial(n) * 1**n for n in range(n_))\n",
    "f3(10), f3(10).evalf()"
   ]
  },
  {
   "cell_type": "code",
   "execution_count": 177,
   "id": "915294ed",
   "metadata": {},
   "outputs": [
    {
     "data": {
      "image/png": "[encoded data removed]",
      "text/latex": [
       "$\\displaystyle \\sum_{n=0}^{\\infty} \\frac{1}{n^{2}}$"
      ],
      "text/plain": [
       "  ∞     \n",
       " ____   \n",
       " ╲      \n",
       "  ╲   1 \n",
       "   ╲  ──\n",
       "   ╱   2\n",
       "  ╱   n \n",
       " ╱      \n",
       " ‾‾‾‾   \n",
       "n = 0   "
      ]
     },
     "execution_count": 177,
     "metadata": {},
     "output_type": "execute_result"
    }
   ],
   "source": [
    "series = sp.Sum(1/n**2, (n, 0, sp.oo))\n",
    "series"
   ]
  },
  {
   "cell_type": "code",
   "execution_count": 178,
   "id": "2b5bf9fc",
   "metadata": {},
   "outputs": [
    {
     "data": {
      "image/png": "[encoded data removed]",
      "text/latex": [
       "$\\displaystyle \\lim_{n \\to \\infty} \\sum_{n=0}^{\\infty} \\frac{1}{n^{2}}$"
      ],
      "text/plain": [
       "      ∞     \n",
       "     ____   \n",
       "     ╲      \n",
       "      ╲   1 \n",
       "       ╲  ──\n",
       "lim    ╱   2\n",
       "n─→∞  ╱   n \n",
       "     ╱      \n",
       "     ‾‾‾‾   \n",
       "    n = 0   "
      ]
     },
     "execution_count": 178,
     "metadata": {},
     "output_type": "execute_result"
    }
   ],
   "source": [
    "series.limit(n, sp.oo)"
   ]
  },
  {
   "cell_type": "code",
   "execution_count": 179,
   "id": "6a9efa23",
   "metadata": {},
   "outputs": [
    {
     "data": {
      "image/png": "[encoded data removed]",
      "text/latex": [
       "$\\displaystyle \\lim_{n \\to \\infty} \\sum_{n=0}^{\\infty} \\frac{1}{n^{2}}$"
      ],
      "text/plain": [
       "      ∞     \n",
       "     ____   \n",
       "     ╲      \n",
       "      ╲   1 \n",
       "       ╲  ──\n",
       "lim    ╱   2\n",
       "n─→∞  ╱   n \n",
       "     ╱      \n",
       "     ‾‾‾‾   \n",
       "    n = 0   "
      ]
     },
     "execution_count": 179,
     "metadata": {},
     "output_type": "execute_result"
    }
   ],
   "source": [
    "series_lim = series.limit(n, sp.oo)\n",
    "series_lim.evalf()"
   ]
  },
  {
   "cell_type": "code",
   "execution_count": 180,
   "id": "f09b7e54",
   "metadata": {},
   "outputs": [
    {
     "data": {
      "image/png": "[encoded data removed]",
      "text/latex": [
       "$\\displaystyle 1 - \\frac{\\left(x - \\frac{\\pi}{2}\\right)^{2}}{2} + \\frac{\\left(x - \\frac{\\pi}{2}\\right)^{4}}{24} + O\\left(\\left(x - \\frac{\\pi}{2}\\right)^{6}; x\\rightarrow \\frac{\\pi}{2}\\right)$"
      ],
      "text/plain": [
       "           2          4                     \n",
       "    ⎛    π⎞    ⎛    π⎞                      \n",
       "    ⎜x - ─⎟    ⎜x - ─⎟     ⎛       6       ⎞\n",
       "    ⎝    2⎠    ⎝    2⎠     ⎜⎛    π⎞       π⎟\n",
       "1 - ──────── + ──────── + O⎜⎜x - ─⎟ ; x → ─⎟\n",
       "       2          24       ⎝⎝    2⎠       2⎠"
      ]
     },
     "execution_count": 180,
     "metadata": {},
     "output_type": "execute_result"
    }
   ],
   "source": [
    "sp.series(sp.sin(x), x, sp.pi/2, n=6)"
   ]
  },
  {
   "cell_type": "code",
   "execution_count": 181,
   "id": "0c224d30",
   "metadata": {},
   "outputs": [
    {
     "data": {
      "image/png": "[encoded data removed]",
      "text/latex": [
       "$\\displaystyle e^{\\sin{\\left(x \\right)}}$"
      ],
      "text/plain": [
       " sin(x)\n",
       "ℯ      "
      ]
     },
     "execution_count": 181,
     "metadata": {},
     "output_type": "execute_result"
    }
   ],
   "source": [
    "expr = sp.exp(sp.sin(x))\n",
    "expr"
   ]
  },
  {
   "cell_type": "code",
   "execution_count": 182,
   "id": "956ef53c",
   "metadata": {},
   "outputs": [
    {
     "data": {
      "image/png": "[encoded data removed]",
      "text/latex": [
       "$\\displaystyle 1 + x + \\frac{x^{2}}{2} - \\frac{x^{4}}{8} - \\frac{x^{5}}{15} - \\frac{x^{6}}{240} + \\frac{x^{7}}{90} + O\\left(x^{8}\\right)$"
      ],
      "text/plain": [
       "         2    4    5     6    7        \n",
       "        x    x    x     x    x     ⎛ 8⎞\n",
       "1 + x + ── - ── - ── - ─── + ── + O⎝x ⎠\n",
       "        2    8    15   240   90        "
      ]
     },
     "execution_count": 182,
     "metadata": {},
     "output_type": "execute_result"
    }
   ],
   "source": [
    "expr_ = sp.series(expr, x, 0, n=8)\n",
    "expr_"
   ]
  },
  {
   "cell_type": "code",
   "execution_count": 183,
   "id": "f7320f1b",
   "metadata": {},
   "outputs": [
    {
     "data": {
      "image/png": "[encoded data removed]",
      "text/latex": [
       "$\\displaystyle \\frac{x^{7}}{90} - \\frac{x^{6}}{240} - \\frac{x^{5}}{15} - \\frac{x^{4}}{8} + \\frac{x^{2}}{2} + x + 1$"
      ],
      "text/plain": [
       " 7     6    5    4    2        \n",
       "x     x    x    x    x         \n",
       "── - ─── - ── - ── + ── + x + 1\n",
       "90   240   15   8    2         "
      ]
     },
     "execution_count": 183,
     "metadata": {},
     "output_type": "execute_result"
    }
   ],
   "source": [
    "expr_.removeO()"
   ]
  },
  {
   "cell_type": "code",
   "execution_count": null,
   "id": "3c6679a6",
   "metadata": {},
   "outputs": [],
   "source": []
  }
 ],
 "metadata": {
  "kernelspec": {
   "display_name": "Python 3 (ipykernel)",
   "language": "python",
   "name": "python3"
  },
  "language_info": {
   "codemirror_mode": {
    "name": "ipython",
    "version": 3
   },
   "file_extension": ".py",
   "mimetype": "text/x-python",
   "name": "python",
   "nbconvert_exporter": "python",
   "pygments_lexer": "ipython3",
   "version": "3.11.5"
  }
 },
 "nbformat": 4,
 "nbformat_minor": 5
}
