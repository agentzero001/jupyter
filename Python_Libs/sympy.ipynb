{
 "cells": [
  {
   "cell_type": "code",
   "execution_count": 22,
   "id": "d6e20f52",
   "metadata": {},
   "outputs": [],
   "source": [
    "import math\n",
    "import numpy as np\n",
    "import sympy as sp\n",
    "from fractions import Fraction\n",
    "from IPython.display import display"
   ]
  },
  {
   "cell_type": "code",
   "execution_count": 2,
   "id": "41b85b7c",
   "metadata": {},
   "outputs": [
    {
     "data": {
      "text/latex": [
       "$\\displaystyle 2.828$"
      ],
      "text/plain": [
       "2.828"
      ]
     },
     "execution_count": 2,
     "metadata": {},
     "output_type": "execute_result"
    }
   ],
   "source": [
    "sp.N(sp.sqrt(8),4)"
   ]
  },
  {
   "cell_type": "code",
   "execution_count": 3,
   "id": "3365497a",
   "metadata": {},
   "outputs": [
    {
     "data": {
      "text/latex": [
       "$\\displaystyle 2.828427$"
      ],
      "text/plain": [
       "2.828427"
      ]
     },
     "execution_count": 3,
     "metadata": {},
     "output_type": "execute_result"
    }
   ],
   "source": [
    "sp.sqrt(8).evalf(7)"
   ]
  },
  {
   "cell_type": "code",
   "execution_count": 4,
   "id": "d9729091",
   "metadata": {},
   "outputs": [
    {
     "data": {
      "text/latex": [
       "$\\displaystyle 2 \\sqrt{2}$"
      ],
      "text/plain": [
       "2*sqrt(2)"
      ]
     },
     "execution_count": 4,
     "metadata": {},
     "output_type": "execute_result"
    }
   ],
   "source": [
    "sp.sqrt(Fraction(16/2))"
   ]
  },
  {
   "cell_type": "code",
   "execution_count": 5,
   "id": "4dcff0ba",
   "metadata": {},
   "outputs": [
    {
     "data": {
      "text/latex": [
       "$\\displaystyle \\frac{\\sqrt{2}}{2}$"
      ],
      "text/plain": [
       "sqrt(2)/2"
      ]
     },
     "execution_count": 5,
     "metadata": {},
     "output_type": "execute_result"
    }
   ],
   "source": [
    "sp.sqrt(sp.Rational(2/4))"
   ]
  },
  {
   "cell_type": "code",
   "execution_count": 6,
   "id": "541a3bc8",
   "metadata": {},
   "outputs": [],
   "source": [
    "sp.init_printing(pretty_print=True)"
   ]
  },
  {
   "cell_type": "code",
   "execution_count": 7,
   "id": "88ac0902",
   "metadata": {},
   "outputs": [
    {
     "data": {
      "image/png": "[encoded data removed]",
      "text/latex": [
       "$\\displaystyle \\frac{\\sqrt{2}}{2}$"
      ],
      "text/plain": [
       "√2\n",
       "──\n",
       "2 "
      ]
     },
     "execution_count": 7,
     "metadata": {},
     "output_type": "execute_result"
    }
   ],
   "source": [
    "sp.sqrt(sp.Rational(2/4))"
   ]
  },
  {
   "cell_type": "code",
   "execution_count": 8,
   "id": "22b86d11",
   "metadata": {},
   "outputs": [
    {
     "data": {
      "image/png": "[encoded data removed]",
      "text/latex": [
       "$\\displaystyle \\sqrt{2}$"
      ],
      "text/plain": [
       "√2"
      ]
     },
     "metadata": {},
     "output_type": "display_data"
    }
   ],
   "source": [
    "display(sp.sqrt(2))"
   ]
  },
  {
   "cell_type": "code",
   "execution_count": 9,
   "id": "5583b67b",
   "metadata": {},
   "outputs": [],
   "source": [
    "a, b, x = sp.symbols('a b x')"
   ]
  },
  {
   "cell_type": "code",
   "execution_count": 10,
   "id": "41a04562",
   "metadata": {},
   "outputs": [],
   "source": [
    "expr = a*(a + 6)\n",
    "expand_expr = sp.expand(expr)\n",
    "factor_expr = sp.factor(expand_expr)"
   ]
  },
  {
   "cell_type": "code",
   "execution_count": 11,
   "id": "00715886",
   "metadata": {},
   "outputs": [
    {
     "data": {
      "image/png": "[encoded data removed]",
      "text/latex": [
       "$\\displaystyle a \\left(a + 6\\right)$"
      ],
      "text/plain": [
       "a⋅(a + 6)"
      ]
     },
     "metadata": {},
     "output_type": "display_data"
    },
    {
     "data": {
      "image/png": "[encoded data removed]",
      "text/latex": [
       "$\\displaystyle a^{2} + 6 a$"
      ],
      "text/plain": [
       " 2      \n",
       "a  + 6⋅a"
      ]
     },
     "metadata": {},
     "output_type": "display_data"
    },
    {
     "data": {
      "image/png": "[encoded data removed]",
      "text/latex": [
       "$\\displaystyle a \\left(a + 6\\right)$"
      ],
      "text/plain": [
       "a⋅(a + 6)"
      ]
     },
     "metadata": {},
     "output_type": "display_data"
    }
   ],
   "source": [
    "display(expr)\n",
    "display(expand_expr)\n",
    "display(factor_expr)"
   ]
  },
  {
   "cell_type": "code",
   "execution_count": 12,
   "id": "de57726d",
   "metadata": {},
   "outputs": [
    {
     "data": {
      "image/png": "[encoded data removed]",
      "text/latex": [
       "$\\displaystyle a \\left(a + 6\\right)$"
      ],
      "text/plain": [
       "a⋅(a + 6)"
      ]
     },
     "execution_count": 12,
     "metadata": {},
     "output_type": "execute_result"
    }
   ],
   "source": [
    "sp.factor(expand_expr)"
   ]
  },
  {
   "cell_type": "code",
   "execution_count": 13,
   "id": "ad9f35f6",
   "metadata": {},
   "outputs": [
    {
     "data": {
      "image/png": "[encoded data removed]",
      "text/latex": [
       "$\\displaystyle a^{2} + 6 a$"
      ],
      "text/plain": [
       " 2      \n",
       "a  + 6⋅a"
      ]
     },
     "execution_count": 13,
     "metadata": {},
     "output_type": "execute_result"
    }
   ],
   "source": [
    "expand_expr"
   ]
  },
  {
   "cell_type": "code",
   "execution_count": 14,
   "id": "5fd4e39d",
   "metadata": {},
   "outputs": [],
   "source": [
    "x, y, z = sp.symbols('x y z')"
   ]
  },
  {
   "cell_type": "code",
   "execution_count": 15,
   "id": "4de350bd",
   "metadata": {},
   "outputs": [
    {
     "data": {
      "image/png": "[encoded data removed]",
      "text/latex": [
       "$\\displaystyle 2 \\cdot \\sqrt[4]{2} \\sqrt[4]{x^{9} y^{5} z^{12}}$"
      ],
      "text/plain": [
       "           ___________\n",
       "  4 ___ 4 ╱  9  5  12 \n",
       "2⋅╲╱ 2 ⋅╲╱  x ⋅y ⋅z   "
      ]
     },
     "execution_count": 15,
     "metadata": {},
     "output_type": "execute_result"
    }
   ],
   "source": [
    "(32 * x**9 * y**5 * z**12)**(sp.Rational(1,4))"
   ]
  },
  {
   "cell_type": "markdown",
   "id": "961cc53c",
   "metadata": {},
   "source": [
    "--------"
   ]
  },
  {
   "cell_type": "code",
   "execution_count": 39,
   "id": "f0ba099c",
   "metadata": {},
   "outputs": [
    {
     "data": {
      "image/png": "[encoded data removed]",
      "text/latex": [
       "$\\displaystyle - \\frac{6}{x^{4}}$"
      ],
      "text/plain": [
       "-6 \n",
       "───\n",
       "  4\n",
       " x "
      ]
     },
     "execution_count": 39,
     "metadata": {},
     "output_type": "execute_result"
    }
   ],
   "source": [
    "x, n = sp.symbols('x n')\n",
    "f_ = x**-1\n",
    "sp.diff(sp.diff(sp.diff(f_)))"
   ]
  },
  {
   "cell_type": "code",
   "execution_count": 24,
   "id": "853c6f66",
   "metadata": {},
   "outputs": [
    {
     "data": {
      "image/png": "[encoded data removed]",
      "text/latex": [
       "$\\displaystyle x^{2} + \\frac{2}{x^{5}}$"
      ],
      "text/plain": [
       " 2   2 \n",
       "x  + ──\n",
       "      5\n",
       "     x "
      ]
     },
     "execution_count": 24,
     "metadata": {},
     "output_type": "execute_result"
    }
   ],
   "source": [
    "f2 = x**2 + 2*x**-5\n",
    "f2_ = sp.lambdify(x, f2, 'numpy')\n",
    "xs = np.arange(1,4)\n",
    "f2"
   ]
  },
  {
   "cell_type": "code",
   "execution_count": 25,
   "id": "1550f4cb",
   "metadata": {},
   "outputs": [
    {
     "data": {
      "text/plain": [
       "array([3.        , 4.0625    , 9.00823045])"
      ]
     },
     "execution_count": 25,
     "metadata": {},
     "output_type": "execute_result"
    }
   ],
   "source": [
    "f2_(xs)"
   ]
  },
  {
   "cell_type": "code",
   "execution_count": 37,
   "id": "7e6030d3",
   "metadata": {},
   "outputs": [
    {
     "data": {
      "image/png": "[encoded data removed]",
      "text/latex": [
       "$\\displaystyle \\infty$"
      ],
      "text/plain": [
       "∞"
      ]
     },
     "execution_count": 37,
     "metadata": {},
     "output_type": "execute_result"
    }
   ],
   "source": [
    "sp.limit(f2, x, -sp.oo)"
   ]
  },
  {
   "cell_type": "code",
   "execution_count": 41,
   "id": "19b37b76",
   "metadata": {},
   "outputs": [
    {
     "data": {
      "image/png": "[encoded data removed]",
      "text/latex": [
       "$\\displaystyle \\left(1 + \\frac{1}{n}\\right)^{n}$"
      ],
      "text/plain": [
       "       n\n",
       "⎛    1⎞ \n",
       "⎜1 + ─⎟ \n",
       "⎝    n⎠ "
      ]
     },
     "execution_count": 41,
     "metadata": {},
     "output_type": "execute_result"
    }
   ],
   "source": [
    "f = (1 + (1/n))**n\n",
    "f"
   ]
  },
  {
   "cell_type": "code",
   "execution_count": 46,
   "id": "50e998c1",
   "metadata": {},
   "outputs": [
    {
     "data": {
      "image/png": "[encoded data removed]",
      "text/latex": [
       "$\\displaystyle \\left( e, \\  2.71828182845905\\right)$"
      ],
      "text/plain": [
       "(ℯ, 2.71828182845905)"
      ]
     },
     "execution_count": 46,
     "metadata": {},
     "output_type": "execute_result"
    }
   ],
   "source": [
    "result = sp.limit(f, n, sp.oo)\n",
    "result, result.evalf()"
   ]
  },
  {
   "cell_type": "code",
   "execution_count": 50,
   "id": "5df0b6fd",
   "metadata": {},
   "outputs": [
    {
     "data": {
      "image/png": "[encoded data removed]",
      "text/latex": [
       "$\\displaystyle 6$"
      ],
      "text/plain": [
       "6"
      ]
     },
     "execution_count": 50,
     "metadata": {},
     "output_type": "execute_result"
    }
   ],
   "source": [
    "sp.factorial(3)"
   ]
  },
  {
   "cell_type": "code",
   "execution_count": 60,
   "id": "2cd6c5b6",
   "metadata": {},
   "outputs": [],
   "source": [
    "f3 = lambda n_: sum(1 / sp.factorial(n) * x**n for n in range(n_))"
   ]
  },
  {
   "cell_type": "code",
   "execution_count": 61,
   "id": "0d65ed48",
   "metadata": {},
   "outputs": [
    {
     "data": {
      "image/png": "[encoded data removed]",
      "text/latex": [
       "$\\displaystyle \\frac{x^{3}}{6} + \\frac{x^{2}}{2} + x + 1$"
      ],
      "text/plain": [
       " 3    2        \n",
       "x    x         \n",
       "── + ── + x + 1\n",
       "6    2         "
      ]
     },
     "execution_count": 61,
     "metadata": {},
     "output_type": "execute_result"
    }
   ],
   "source": [
    "f3(4)"
   ]
  },
  {
   "cell_type": "code",
   "execution_count": 68,
   "id": "27f751d9",
   "metadata": {},
   "outputs": [
    {
     "data": {
      "image/png": "[encoded data removed]",
      "text/latex": [
       "$\\displaystyle \\sum_{n=1}^{\\infty} \\frac{1}{n^{2}}$"
      ],
      "text/plain": [
       "  ∞     \n",
       " ____   \n",
       " ╲      \n",
       "  ╲   1 \n",
       "   ╲  ──\n",
       "   ╱   2\n",
       "  ╱   n \n",
       " ╱      \n",
       " ‾‾‾‾   \n",
       "n = 1   "
      ]
     },
     "execution_count": 68,
     "metadata": {},
     "output_type": "execute_result"
    }
   ],
   "source": [
    "series = sp.Sum(1/n**2, (n, 1, sp.oo))\n",
    "series"
   ]
  },
  {
   "cell_type": "code",
   "execution_count": 69,
   "id": "e6cc183f",
   "metadata": {},
   "outputs": [
    {
     "data": {
      "image/png": "[encoded data removed]",
      "text/latex": [
       "$\\displaystyle \\lim_{n \\to \\infty} \\sum_{n=1}^{\\infty} \\frac{1}{n^{2}}$"
      ],
      "text/plain": [
       "      ∞     \n",
       "     ____   \n",
       "     ╲      \n",
       "      ╲   1 \n",
       "       ╲  ──\n",
       "lim    ╱   2\n",
       "n─→∞  ╱   n \n",
       "     ╱      \n",
       "     ‾‾‾‾   \n",
       "    n = 1   "
      ]
     },
     "execution_count": 69,
     "metadata": {},
     "output_type": "execute_result"
    }
   ],
   "source": [
    "series.limit(n, sp.oo)"
   ]
  },
  {
   "cell_type": "code",
   "execution_count": 74,
   "id": "28b947d6",
   "metadata": {},
   "outputs": [
    {
     "data": {
      "image/png": "[encoded data removed]",
      "text/latex": [
       "$\\displaystyle \\lim_{n \\to \\infty} \\sum_{n=1}^{\\infty} \\frac{1}{n^{2}}$"
      ],
      "text/plain": [
       "      ∞     \n",
       "     ____   \n",
       "     ╲      \n",
       "      ╲   1 \n",
       "       ╲  ──\n",
       "lim    ╱   2\n",
       "n─→∞  ╱   n \n",
       "     ╱      \n",
       "     ‾‾‾‾   \n",
       "    n = 1   "
      ]
     },
     "execution_count": 74,
     "metadata": {},
     "output_type": "execute_result"
    }
   ],
   "source": [
    "series_lim = series.limit(n, sp.oo)\n",
    "series_lim.evalf()"
   ]
  },
  {
   "cell_type": "code",
   "execution_count": null,
   "id": "8a12afb4",
   "metadata": {},
   "outputs": [],
   "source": []
  }
 ],
 "metadata": {
  "kernelspec": {
   "display_name": "Python 3 (ipykernel)",
   "language": "python",
   "name": "python3"
  },
  "language_info": {
   "codemirror_mode": {
    "name": "ipython",
    "version": 3
   },
   "file_extension": ".py",
   "mimetype": "text/x-python",
   "name": "python",
   "nbconvert_exporter": "python",
   "pygments_lexer": "ipython3",
   "version": "3.11.5"
  }
 },
 "nbformat": 4,
 "nbformat_minor": 5
}
