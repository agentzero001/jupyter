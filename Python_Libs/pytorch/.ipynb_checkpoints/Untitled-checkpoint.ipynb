{
 "cells": [
  {
   "cell_type": "code",
   "execution_count": 66,
   "id": "44efb916",
   "metadata": {},
   "outputs": [],
   "source": [
    "import torch\n",
    "import numpy as np\n",
    "import matplotlib.pyplot as plt\n",
    "plt.style.use('dark_background')"
   ]
  },
  {
   "cell_type": "code",
   "execution_count": 67,
   "id": "bd9ffd1c",
   "metadata": {},
   "outputs": [
    {
     "data": {
      "text/plain": [
       "'2.1.0+cpu'"
      ]
     },
     "execution_count": 67,
     "metadata": {},
     "output_type": "execute_result"
    }
   ],
   "source": [
    "torch.__version__"
   ]
  },
  {
   "cell_type": "code",
   "execution_count": 68,
   "id": "d384a2d6",
   "metadata": {},
   "outputs": [
    {
     "data": {
      "text/plain": [
       "array([10])"
      ]
     },
     "execution_count": 68,
     "metadata": {},
     "output_type": "execute_result"
    }
   ],
   "source": [
    "np.array([10])"
   ]
  },
  {
   "cell_type": "code",
   "execution_count": 69,
   "id": "fa364b7c",
   "metadata": {},
   "outputs": [
    {
     "name": "stdout",
     "output_type": "stream",
     "text": [
      "tensor([-0.4161])\n"
     ]
    }
   ],
   "source": [
    "x = torch.tensor([2.0], requires_grad=True)\n",
    "y = torch.sin(x)\n",
    "y.backward()  # Computes gradients\n",
    "print(x.grad) "
   ]
  },
  {
   "cell_type": "code",
   "execution_count": 70,
   "id": "620aa415",
   "metadata": {},
   "outputs": [
    {
     "data": {
      "text/plain": [
       "(1,)"
      ]
     },
     "execution_count": 70,
     "metadata": {},
     "output_type": "execute_result"
    }
   ],
   "source": [
    "x.stride()"
   ]
  },
  {
   "cell_type": "code",
   "execution_count": 71,
   "id": "7a802122",
   "metadata": {},
   "outputs": [
    {
     "name": "stdout",
     "output_type": "stream",
     "text": [
      "(10, 1) (1, 10)\n"
     ]
    }
   ],
   "source": [
    "A = torch.ones(10,10)\n",
    "B = A.t()\n",
    "print(A.stride(), B.stride())"
   ]
  },
  {
   "cell_type": "code",
   "execution_count": 72,
   "id": "faef67f0",
   "metadata": {},
   "outputs": [
    {
     "data": {
      "text/plain": [
       "tensor([[ 1., 10.,  1.,  1.,  1.,  1.,  1.,  1.,  1.,  1.],\n",
       "        [ 1., 10.,  1.,  1.,  1.,  1.,  1.,  1.,  1.,  1.],\n",
       "        [ 1., 10.,  1.,  1.,  1.,  1.,  1.,  1.,  1.,  1.],\n",
       "        [ 1., 10.,  1.,  1.,  1.,  1.,  1.,  1.,  1.,  1.],\n",
       "        [ 1., 10.,  1.,  1.,  1.,  1.,  1.,  1.,  1.,  1.],\n",
       "        [ 1., 10.,  1.,  1.,  1.,  1.,  1.,  1.,  1.,  1.],\n",
       "        [ 1., 10.,  1.,  1.,  1.,  1.,  1.,  1.,  1.,  1.],\n",
       "        [ 1., 10.,  1.,  1.,  1.,  1.,  1.,  1.,  1.,  1.],\n",
       "        [ 1., 10.,  1.,  1.,  1.,  1.,  1.,  1.,  1.,  1.],\n",
       "        [ 1., 10.,  1.,  1.,  1.,  1.,  1.,  1.,  1.,  1.]])"
      ]
     },
     "execution_count": 72,
     "metadata": {},
     "output_type": "execute_result"
    }
   ],
   "source": [
    "B[1] = 10\n",
    "A"
   ]
  },
  {
   "cell_type": "code",
   "execution_count": 73,
   "id": "c46b93f7",
   "metadata": {},
   "outputs": [],
   "source": [
    "dump = lambda **kwargs: kwargs"
   ]
  },
  {
   "cell_type": "code",
   "execution_count": 74,
   "id": "54d886ca",
   "metadata": {},
   "outputs": [
    {
     "data": {
      "text/plain": [
       "{'x': 3, 'c': 4}"
      ]
     },
     "execution_count": 74,
     "metadata": {},
     "output_type": "execute_result"
    }
   ],
   "source": [
    "dump(**{'x':3,'c': 4})"
   ]
  },
  {
   "cell_type": "code",
   "execution_count": 75,
   "id": "88aa64db",
   "metadata": {},
   "outputs": [],
   "source": [
    "f = lambda x: 3*x**2 - 4*x"
   ]
  },
  {
   "cell_type": "code",
   "execution_count": 76,
   "id": "5342c365",
   "metadata": {},
   "outputs": [
    {
     "name": "stdout",
     "output_type": "stream",
     "text": [
      "h=0.10000, numerical limit= 2.30000\n",
      "h=0.01000, numerical limit= 2.03000\n",
      "h=0.00100, numerical limit= 2.00300\n",
      "h=0.00010, numerical limit= 2.00030\n",
      "h=0.00001, numerical limit= 2.00003\n"
     ]
    }
   ],
   "source": [
    "for h in 10**np.arange(-1,-6, -1, dtype=float):\n",
    "    print(f'h={h:.5f}, numerical limit= {(f(1+h) - f(1)) / h:.5f}')"
   ]
  },
  {
   "cell_type": "markdown",
   "id": "5148cacd",
   "metadata": {},
   "source": [
    "$P(A \\mid B) \\propto P(B \\mid A) P(A).$"
   ]
  },
  {
   "cell_type": "code",
   "execution_count": 77,
   "id": "388b0d78",
   "metadata": {},
   "outputs": [
    {
     "data": {
      "text/plain": [
       "(tensor(28., grad_fn=<DotBackward0>), tensor([ 0.,  4.,  8., 12.]))"
      ]
     },
     "execution_count": 77,
     "metadata": {},
     "output_type": "execute_result"
    }
   ],
   "source": [
    "x = torch.arange(4.0, requires_grad=True)\n",
    "y = 2 * x @ x\n",
    "y.backward()\n",
    "dy_dx = x.grad\n",
    "y, dy_dx"
   ]
  },
  {
   "cell_type": "code",
   "execution_count": 78,
   "id": "725bcc23",
   "metadata": {},
   "outputs": [
    {
     "data": {
      "text/plain": [
       "tensor([True, True, True, True])"
      ]
     },
     "execution_count": 78,
     "metadata": {},
     "output_type": "execute_result"
    }
   ],
   "source": [
    "x.grad == 4*x"
   ]
  },
  {
   "cell_type": "code",
   "execution_count": 79,
   "id": "54351be1",
   "metadata": {},
   "outputs": [
    {
     "data": {
      "text/plain": [
       "tensor([2., 2., 2., 2.])"
      ]
     },
     "execution_count": 79,
     "metadata": {},
     "output_type": "execute_result"
    }
   ],
   "source": [
    "x.grad.zero_()\n",
    "y = 2 * x.sum()\n",
    "y.backward()\n",
    "x.grad"
   ]
  },
  {
   "cell_type": "code",
   "execution_count": 80,
   "id": "f3176720",
   "metadata": {},
   "outputs": [
    {
     "data": {
      "text/plain": [
       "tensor(6., grad_fn=<SumBackward0>)"
      ]
     },
     "execution_count": 80,
     "metadata": {},
     "output_type": "execute_result"
    }
   ],
   "source": [
    "x.sum()"
   ]
  },
  {
   "cell_type": "markdown",
   "id": "95b60b65",
   "metadata": {},
   "source": [
    "Invoking backward on a non-scalar elicits an error unless we tell PyTorch how to reduce the object to a scalar. More formally, we need to provide some vector \n",
    " such that backward will compute $\\mathbf{v}^\\top \\partial_{\\mathbf{x}} \\mathbf{y}$\n",
    " rather than $\\partial_{\\mathbf{x}} \\mathbf{y}$\n"
   ]
  },
  {
   "cell_type": "code",
   "execution_count": 81,
   "id": "8c8faa4d",
   "metadata": {},
   "outputs": [
    {
     "data": {
      "text/plain": [
       "tensor([0., 2., 4., 6.])"
      ]
     },
     "execution_count": 81,
     "metadata": {},
     "output_type": "execute_result"
    }
   ],
   "source": [
    "x.grad.zero_()\n",
    "y = x*x\n",
    "y.backward(gradient=torch.ones(len(y))) #gradient representing v\n",
    "x.grad"
   ]
  },
  {
   "cell_type": "code",
   "execution_count": 82,
   "id": "eab10ec8",
   "metadata": {},
   "outputs": [
    {
     "data": {
      "text/plain": [
       "tensor([0., 1., 4., 9.], grad_fn=<MulBackward0>)"
      ]
     },
     "execution_count": 82,
     "metadata": {},
     "output_type": "execute_result"
    }
   ],
   "source": [
    "y"
   ]
  },
  {
   "cell_type": "code",
   "execution_count": null,
   "id": "7b567722",
   "metadata": {},
   "outputs": [],
   "source": []
  }
 ],
 "metadata": {
  "kernelspec": {
   "display_name": "Python 3 (ipykernel)",
   "language": "python",
   "name": "python3"
  },
  "language_info": {
   "codemirror_mode": {
    "name": "ipython",
    "version": 3
   },
   "file_extension": ".py",
   "mimetype": "text/x-python",
   "name": "python",
   "nbconvert_exporter": "python",
   "pygments_lexer": "ipython3",
   "version": "3.11.5"
  }
 },
 "nbformat": 4,
 "nbformat_minor": 5
}
