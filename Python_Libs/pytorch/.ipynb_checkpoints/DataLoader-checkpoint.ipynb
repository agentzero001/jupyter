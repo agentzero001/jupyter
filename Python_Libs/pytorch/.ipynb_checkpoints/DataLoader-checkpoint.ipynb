{
 "cells": [
  {
   "cell_type": "code",
   "execution_count": 7,
   "id": "a03a3315",
   "metadata": {},
   "outputs": [],
   "source": [
    "import torch\n",
    "from torch.utils.data import Dataset, DataLoader\n",
    "import numpy as np\n",
    "import math\n",
    "from sklearn.model_selection import train_test_split"
   ]
  },
  {
   "cell_type": "code",
   "execution_count": 8,
   "id": "c400f2d5",
   "metadata": {},
   "outputs": [],
   "source": [
    "class CustomDataset(Dataset):\n",
    "    def __init__(self, name, root, filename, transform=None):\n",
    "        self.filename = filename\n",
    "        self.root = root\n",
    "        self.name = name\n",
    "        xy = np.loadtxt('{}/{}'.format(root, filename), delimiter=',', dtype=np.float32, skiprows=1)\n",
    "        self.x = torch.from_numpy(xy[:, 1:])\n",
    "        self.y = torch.from_numpy(xy[:, 0])\n",
    "        self.n_samples = xy.shape[0]\n",
    "        self.transform = transform\n",
    "        \n",
    "    def __repr__(self):\n",
    "        transform_repr = repr(self.transform) if self.transform else 'None'\n",
    "        return (f\"Dataset {self.name}\\n\"\n",
    "                f\"    Number of datapoints: {self.n_samples}\\n\"\n",
    "                f\"    Root location: {self.root}\\n\"\n",
    "                f\"    Filename: {self.filename}\\n\"\n",
    "                f\"    Transform: {transform_repr}\")\n",
    "        \n",
    "    def __getitem__(self, index):\n",
    "        return self.x[index], self.y[index]\n",
    "\n",
    "    def __len__(self):\n",
    "        return self.n_samples   \n",
    "    \n",
    "    def train_test_split(self, test_size=.2):\n",
    "        return train_test_split(self.x, self.y, test_size=test_size)        "
   ]
  },
  {
   "cell_type": "code",
   "execution_count": 9,
   "id": "8bda6180",
   "metadata": {},
   "outputs": [
    {
     "data": {
      "text/plain": [
       "(178,\n",
       " tensor([1.4230e+01, 1.7100e+00, 2.4300e+00, 1.5600e+01, 1.2700e+02, 2.8000e+00,\n",
       "         3.0600e+00, 2.8000e-01, 2.2900e+00, 5.6400e+00, 1.0400e+00, 3.9200e+00,\n",
       "         1.0650e+03]),\n",
       " tensor(1.))"
      ]
     },
     "execution_count": 9,
     "metadata": {},
     "output_type": "execute_result"
    }
   ],
   "source": [
    "dataset = CustomDataset(name='wine', root='./data', filename='wine.csv')\n",
    "feature, label = dataset[0]\n",
    "len(dataset), feature, label"
   ]
  },
  {
   "cell_type": "code",
   "execution_count": 10,
   "id": "85b5e7d0",
   "metadata": {},
   "outputs": [],
   "source": [
    "test_train_data = dataset.train_test_split(test_size=0.1)\n",
    "X_train, X_test, y_train, y_test = test_train_data"
   ]
  },
  {
   "cell_type": "code",
   "execution_count": 11,
   "id": "838fc702",
   "metadata": {},
   "outputs": [
    {
     "data": {
      "text/plain": [
       "(torch.Size([160, 13]),\n",
       " torch.Size([160]),\n",
       " torch.Size([18, 13]),\n",
       " torch.Size([18]))"
      ]
     },
     "execution_count": 11,
     "metadata": {},
     "output_type": "execute_result"
    }
   ],
   "source": [
    "X_train.shape, y_train.shape, X_test.shape, y_test.shape"
   ]
  },
  {
   "cell_type": "code",
   "execution_count": 12,
   "id": "115480ff",
   "metadata": {},
   "outputs": [],
   "source": [
    "train_data = CustomDataset(name='wine', root='./data', filename='wine.csv')\n",
    "test_data = CustomDataset(name='wine', root='./data', filename='wine.csv')"
   ]
  },
  {
   "cell_type": "code",
   "execution_count": 13,
   "id": "6bdc05f6",
   "metadata": {},
   "outputs": [],
   "source": [
    "#following chatgpt's suggestion to just overwrite the internal data\n",
    "#scroll down for a better solution\n",
    "train_data.x = X_train; train_data.y = y_train\n",
    "train_data.n_samples = X_train.shape[0]\n",
    "\n",
    "test_data.x = X_test; test_data.y = y_test\n",
    "test_data.n_samples = X_test.shape[0]"
   ]
  },
  {
   "cell_type": "code",
   "execution_count": 14,
   "id": "119fa7d2",
   "metadata": {},
   "outputs": [
    {
     "data": {
      "text/plain": [
       "Dataset wine\n",
       "    Number of datapoints: 160\n",
       "    Root location: ./data\n",
       "    Filename: wine.csv\n",
       "    Transform: None"
      ]
     },
     "execution_count": 14,
     "metadata": {},
     "output_type": "execute_result"
    }
   ],
   "source": [
    "train_data"
   ]
  },
  {
   "cell_type": "code",
   "execution_count": 15,
   "id": "107a4848",
   "metadata": {},
   "outputs": [
    {
     "data": {
      "text/plain": [
       "Dataset wine\n",
       "    Number of datapoints: 18\n",
       "    Root location: ./data\n",
       "    Filename: wine.csv\n",
       "    Transform: None"
      ]
     },
     "execution_count": 15,
     "metadata": {},
     "output_type": "execute_result"
    }
   ],
   "source": [
    "test_data"
   ]
  },
  {
   "cell_type": "code",
   "execution_count": 16,
   "id": "10e06af8",
   "metadata": {},
   "outputs": [],
   "source": [
    "dataloader = DataLoader(train_data, batch_size=4, shuffle=True)"
   ]
  },
  {
   "cell_type": "code",
   "execution_count": 17,
   "id": "3821f0d1",
   "metadata": {},
   "outputs": [
    {
     "data": {
      "text/plain": [
       "[tensor([[1.3780e+01, 2.7600e+00, 2.3000e+00, 2.2000e+01, 9.0000e+01, 1.3500e+00,\n",
       "          6.8000e-01, 4.1000e-01, 1.0300e+00, 9.5800e+00, 7.0000e-01, 1.6800e+00,\n",
       "          6.1500e+02],\n",
       "         [1.2470e+01, 1.5200e+00, 2.2000e+00, 1.9000e+01, 1.6200e+02, 2.5000e+00,\n",
       "          2.2700e+00, 3.2000e-01, 3.2800e+00, 2.6000e+00, 1.1600e+00, 2.6300e+00,\n",
       "          9.3700e+02],\n",
       "         [1.2600e+01, 2.4600e+00, 2.2000e+00, 1.8500e+01, 9.4000e+01, 1.6200e+00,\n",
       "          6.6000e-01, 6.3000e-01, 9.4000e-01, 7.1000e+00, 7.3000e-01, 1.5800e+00,\n",
       "          6.9500e+02],\n",
       "         [1.2040e+01, 4.3000e+00, 2.3800e+00, 2.2000e+01, 8.0000e+01, 2.1000e+00,\n",
       "          1.7500e+00, 4.2000e-01, 1.3500e+00, 2.6000e+00, 7.9000e-01, 2.5700e+00,\n",
       "          5.8000e+02]]),\n",
       " tensor([3., 2., 3., 2.])]"
      ]
     },
     "execution_count": 17,
     "metadata": {},
     "output_type": "execute_result"
    }
   ],
   "source": [
    "dataiter = iter(dataloader)\n",
    "data = next(dataiter)\n",
    "data"
   ]
  },
  {
   "cell_type": "code",
   "execution_count": 18,
   "id": "1ae92fb4",
   "metadata": {},
   "outputs": [
    {
     "data": {
      "text/plain": [
       "(178, 45, 40)"
      ]
     },
     "execution_count": 18,
     "metadata": {},
     "output_type": "execute_result"
    }
   ],
   "source": [
    "num_epochs = 2\n",
    "total_samples = len(dataset)\n",
    "n_iterations = math.ceil(total_samples/4)\n",
    "total_samples, n_iterations, len(list(dataloader))"
   ]
  },
  {
   "cell_type": "code",
   "execution_count": 19,
   "id": "3c85db01",
   "metadata": {},
   "outputs": [
    {
     "name": "stdout",
     "output_type": "stream",
     "text": [
      "1/2, step 5/45, input.shape = 4\n",
      "1/2, step 10/45, input.shape = 4\n",
      "1/2, step 15/45, input.shape = 4\n",
      "1/2, step 20/45, input.shape = 4\n",
      "1/2, step 25/45, input.shape = 4\n",
      "1/2, step 30/45, input.shape = 4\n",
      "1/2, step 35/45, input.shape = 4\n",
      "1/2, step 40/45, input.shape = 4\n",
      "2/2, step 5/45, input.shape = 4\n",
      "2/2, step 10/45, input.shape = 4\n",
      "2/2, step 15/45, input.shape = 4\n",
      "2/2, step 20/45, input.shape = 4\n",
      "2/2, step 25/45, input.shape = 4\n",
      "2/2, step 30/45, input.shape = 4\n",
      "2/2, step 35/45, input.shape = 4\n",
      "2/2, step 40/45, input.shape = 4\n"
     ]
    }
   ],
   "source": [
    "for epoch in range(num_epochs):\n",
    "    for i, (inputs, labels) in enumerate(dataloader):\n",
    "        if (i+1) % 5 == 0:\n",
    "            print('{}/{}, step {}/{}, input.shape = {}'.format(epoch+1, num_epochs, i+1,\n",
    "                                                               n_iterations, inputs.shape[0]))"
   ]
  },
  {
   "cell_type": "code",
   "execution_count": 20,
   "id": "f29979b6",
   "metadata": {},
   "outputs": [],
   "source": [
    "import torchvision.datasets as datasets\n",
    "import torchvision.transforms as transforms"
   ]
  },
  {
   "cell_type": "code",
   "execution_count": 21,
   "id": "d801a895",
   "metadata": {},
   "outputs": [],
   "source": [
    "train_dataset = datasets.MNIST(root='/data', train=True, download=True,\n",
    "                               transform=transforms.ToTensor())"
   ]
  },
  {
   "cell_type": "code",
   "execution_count": 22,
   "id": "3ea506a7",
   "metadata": {},
   "outputs": [
    {
     "data": {
      "text/plain": [
       "Dataset MNIST\n",
       "    Number of datapoints: 60000\n",
       "    Root location: /data\n",
       "    Split: Train\n",
       "    StandardTransform\n",
       "Transform: ToTensor()"
      ]
     },
     "execution_count": 22,
     "metadata": {},
     "output_type": "execute_result"
    }
   ],
   "source": [
    "train_dataset"
   ]
  },
  {
   "cell_type": "code",
   "execution_count": 23,
   "id": "35e58e44",
   "metadata": {},
   "outputs": [
    {
     "data": {
      "text/plain": [
       "Dataset wine\n",
       "    Number of datapoints: 178\n",
       "    Root location: ./data\n",
       "    Filename: wine.csv\n",
       "    Transform: None"
      ]
     },
     "execution_count": 23,
     "metadata": {},
     "output_type": "execute_result"
    }
   ],
   "source": [
    "dataset"
   ]
  },
  {
   "cell_type": "code",
   "execution_count": 24,
   "id": "52e594ed",
   "metadata": {},
   "outputs": [
    {
     "data": {
      "text/plain": [
       "5"
      ]
     },
     "execution_count": 24,
     "metadata": {},
     "output_type": "execute_result"
    }
   ],
   "source": [
    "train_dataset[0][1]"
   ]
  },
  {
   "cell_type": "code",
   "execution_count": 25,
   "id": "687fd753",
   "metadata": {},
   "outputs": [],
   "source": [
    "dataloader2 = DataLoader(train_dataset, batch_size=4, shuffle=True)"
   ]
  },
  {
   "cell_type": "code",
   "execution_count": null,
   "id": "d30250d5",
   "metadata": {},
   "outputs": [],
   "source": []
  },
  {
   "cell_type": "code",
   "execution_count": 26,
   "id": "f865fd7c",
   "metadata": {},
   "outputs": [],
   "source": [
    "class CustomDataset(Dataset):\n",
    "    def __init__(self, name, root, filename, train, transform=None, test_size=.2):\n",
    "        self.filename = filename\n",
    "        self.root = root\n",
    "        self.name = name\n",
    "        xy = np.loadtxt('{}/{}'.format(root, filename), delimiter=',', dtype=np.float32, skiprows=1)\n",
    "        self.xtemp = torch.from_numpy(xy[:, 1:])\n",
    "        self.ytemp = torch.from_numpy(xy[:, 0])\n",
    "        self.transform = transform\n",
    "        self.train = train\n",
    "        self.test_size = test_size\n",
    "        self.x, self.y = self.split()\n",
    "        self.n_samples = self.x.shape[0]\n",
    "        \n",
    "        \n",
    "    def split(self):\n",
    "        X_train, X_test, y_train, y_test = train_test_split(self.xtemp,\n",
    "                                                            self.ytemp, \n",
    "                                                            test_size=self.test_size,\n",
    "                                                            random_state=42)\n",
    "        if self.train:\n",
    "            return X_train, y_train\n",
    "        else:\n",
    "            return X_test, y_test\n",
    "    \n",
    "    def __repr__(self):\n",
    "        transform_repr = repr(self.transform) if self.transform else 'None'\n",
    "        return (f\"Dataset {self.name}\\n\"\n",
    "                f\"    Number of datapoints: {self.n_samples}\\n\"\n",
    "                f\"    Root location: {self.root}\\n\"\n",
    "                f\"    Filename: {self.filename}\\n\"\n",
    "                f\"    Transform: {transform_repr}\")\n",
    "\n",
    "    #this should do\n",
    "    def __getitem__(self, index):\n",
    "        x, y = self.x[index], self.y[index]\n",
    "        if self.transform:\n",
    "            x = self.transform(x)\n",
    "        return x, y\n",
    "\n",
    "    def __len__(self):\n",
    "        return self.n_samples   "
   ]
  },
  {
   "cell_type": "code",
   "execution_count": 27,
   "id": "2cd85690",
   "metadata": {},
   "outputs": [],
   "source": [
    "#the random_state parameter will ensure that the same split is happening for both class instances. Right?\n",
    "train_dataset = CustomDataset(name='wine', root='./data', filename='wine.csv', train=True, test_size=.1)\n",
    "test_dataset = CustomDataset(name='wine', root='./data', filename='wine.csv', train=False, test_size=.1)"
   ]
  },
  {
   "cell_type": "code",
   "execution_count": 28,
   "id": "2bac6a82",
   "metadata": {},
   "outputs": [
    {
     "data": {
      "text/plain": [
       "Dataset wine\n",
       "    Number of datapoints: 160\n",
       "    Root location: ./data\n",
       "    Filename: wine.csv\n",
       "    Transform: None"
      ]
     },
     "execution_count": 28,
     "metadata": {},
     "output_type": "execute_result"
    }
   ],
   "source": [
    "train_dataset"
   ]
  },
  {
   "cell_type": "code",
   "execution_count": 29,
   "id": "34ab5f5c",
   "metadata": {},
   "outputs": [
    {
     "data": {
      "text/plain": [
       "Dataset wine\n",
       "    Number of datapoints: 18\n",
       "    Root location: ./data\n",
       "    Filename: wine.csv\n",
       "    Transform: None"
      ]
     },
     "execution_count": 29,
     "metadata": {},
     "output_type": "execute_result"
    }
   ],
   "source": [
    "test_dataset"
   ]
  },
  {
   "cell_type": "code",
   "execution_count": 30,
   "id": "9bb41e6c",
   "metadata": {},
   "outputs": [],
   "source": [
    "dataloader3 = DataLoader(train_dataset, batch_size=4, shuffle=True)"
   ]
  },
  {
   "cell_type": "code",
   "execution_count": 31,
   "id": "ba42e347",
   "metadata": {},
   "outputs": [
    {
     "name": "stdout",
     "output_type": "stream",
     "text": [
      "1/2, step 5/45, input.shape = 4\n",
      "1/2, step 10/45, input.shape = 4\n",
      "1/2, step 15/45, input.shape = 4\n",
      "1/2, step 20/45, input.shape = 4\n",
      "1/2, step 25/45, input.shape = 4\n",
      "1/2, step 30/45, input.shape = 4\n",
      "1/2, step 35/45, input.shape = 4\n",
      "1/2, step 40/45, input.shape = 4\n",
      "2/2, step 5/45, input.shape = 4\n",
      "2/2, step 10/45, input.shape = 4\n",
      "2/2, step 15/45, input.shape = 4\n",
      "2/2, step 20/45, input.shape = 4\n",
      "2/2, step 25/45, input.shape = 4\n",
      "2/2, step 30/45, input.shape = 4\n",
      "2/2, step 35/45, input.shape = 4\n",
      "2/2, step 40/45, input.shape = 4\n"
     ]
    }
   ],
   "source": [
    "for epoch in range(num_epochs):\n",
    "    for i, (inputs, labels) in enumerate(dataloader3):\n",
    "        if (i+1) % 5 == 0:\n",
    "            print('{}/{}, step {}/{}, input.shape = {}'.format(epoch+1,\n",
    "                                                               num_epochs,\n",
    "                                                               i+1,\n",
    "                                                               n_iterations,\n",
    "                                                               inputs.shape[0]))"
   ]
  },
  {
   "cell_type": "code",
   "execution_count": null,
   "id": "131d4e8c",
   "metadata": {},
   "outputs": [],
   "source": []
  }
 ],
 "metadata": {
  "kernelspec": {
   "display_name": "Python 3 (ipykernel)",
   "language": "python",
   "name": "python3"
  },
  "language_info": {
   "codemirror_mode": {
    "name": "ipython",
    "version": 3
   },
   "file_extension": ".py",
   "mimetype": "text/x-python",
   "name": "python",
   "nbconvert_exporter": "python",
   "pygments_lexer": "ipython3",
   "version": "3.11.5"
  }
 },
 "nbformat": 4,
 "nbformat_minor": 5
}
