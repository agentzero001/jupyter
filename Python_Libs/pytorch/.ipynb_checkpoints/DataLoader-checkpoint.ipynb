{
 "cells": [
  {
   "cell_type": "code",
   "execution_count": 112,
   "id": "a03a3315",
   "metadata": {},
   "outputs": [],
   "source": [
    "import torch\n",
    "from torch.utils.data import Dataset, DataLoader\n",
    "import numpy as np\n",
    "import math"
   ]
  },
  {
   "cell_type": "code",
   "execution_count": 113,
   "id": "96ebcd82",
   "metadata": {},
   "outputs": [],
   "source": [
    "class WineDataset(Dataset):\n",
    "    def __init__(self):\n",
    "        xy = np.loadtxt('./data/wine.csv', delimiter=',', dtype=np.float32, skiprows=1)\n",
    "        self.x = torch.from_numpy(xy[:, 1:])\n",
    "        self.y = torch.from_numpy(xy[:, 0])\n",
    "        self.n_samples = xy.shape[0]\n",
    "        \n",
    "#    def __repr__(self):\n",
    "#            return '{}, {}'.format(self.x, self.y)\n",
    "        \n",
    "    def __getitem__(self, index):\n",
    "        return self.x[index], self.y[index]\n",
    "    \n",
    "    def __len__(self):\n",
    "        return self.n_samples       "
   ]
  },
  {
   "cell_type": "code",
   "execution_count": 114,
   "id": "35042cfd",
   "metadata": {},
   "outputs": [
    {
     "data": {
      "text/plain": [
       "(tensor([1.4230e+01, 1.7100e+00, 2.4300e+00, 1.5600e+01, 1.2700e+02, 2.8000e+00,\n",
       "         3.0600e+00, 2.8000e-01, 2.2900e+00, 5.6400e+00, 1.0400e+00, 3.9200e+00,\n",
       "         1.0650e+03]),\n",
       " tensor(1.))"
      ]
     },
     "execution_count": 114,
     "metadata": {},
     "output_type": "execute_result"
    }
   ],
   "source": [
    "dataset = WineDataset()\n",
    "features, labels = dataset[0]\n",
    "features, labels"
   ]
  },
  {
   "cell_type": "code",
   "execution_count": 115,
   "id": "70c87edf",
   "metadata": {},
   "outputs": [],
   "source": [
    "dataloader = DataLoader(dataset, batch_size=4, shuffle=True)"
   ]
  },
  {
   "cell_type": "code",
   "execution_count": 116,
   "id": "3a1cd3e5",
   "metadata": {},
   "outputs": [
    {
     "data": {
      "text/plain": [
       "[tensor([[1.2420e+01, 4.4300e+00, 2.7300e+00, 2.6500e+01, 1.0200e+02, 2.2000e+00,\n",
       "          2.1300e+00, 4.3000e-01, 1.7100e+00, 2.0800e+00, 9.2000e-01, 3.1200e+00,\n",
       "          3.6500e+02],\n",
       "         [1.2330e+01, 9.9000e-01, 1.9500e+00, 1.4800e+01, 1.3600e+02, 1.9000e+00,\n",
       "          1.8500e+00, 3.5000e-01, 2.7600e+00, 3.4000e+00, 1.0600e+00, 2.3100e+00,\n",
       "          7.5000e+02],\n",
       "         [1.2810e+01, 2.3100e+00, 2.4000e+00, 2.4000e+01, 9.8000e+01, 1.1500e+00,\n",
       "          1.0900e+00, 2.7000e-01, 8.3000e-01, 5.7000e+00, 6.6000e-01, 1.3600e+00,\n",
       "          5.6000e+02],\n",
       "         [1.3680e+01, 1.8300e+00, 2.3600e+00, 1.7200e+01, 1.0400e+02, 2.4200e+00,\n",
       "          2.6900e+00, 4.2000e-01, 1.9700e+00, 3.8400e+00, 1.2300e+00, 2.8700e+00,\n",
       "          9.9000e+02]]),\n",
       " tensor([2., 2., 3., 1.])]"
      ]
     },
     "execution_count": 116,
     "metadata": {},
     "output_type": "execute_result"
    }
   ],
   "source": [
    "dataiter = iter(dataloader)\n",
    "data = next(dataiter)\n",
    "data"
   ]
  },
  {
   "cell_type": "code",
   "execution_count": 117,
   "id": "f679861c",
   "metadata": {},
   "outputs": [
    {
     "data": {
      "text/plain": [
       "(178, 45, 45)"
      ]
     },
     "execution_count": 117,
     "metadata": {},
     "output_type": "execute_result"
    }
   ],
   "source": [
    "num_epochs = 2\n",
    "total_samples = len(dataset)\n",
    "n_iterations = math.ceil(total_samples/4)\n",
    "total_samples, n_iterations, len(list(dataloader))"
   ]
  },
  {
   "cell_type": "code",
   "execution_count": 118,
   "id": "b3c124a3",
   "metadata": {},
   "outputs": [
    {
     "name": "stdout",
     "output_type": "stream",
     "text": [
      "1/2, step 5/45, input.shape = 4\n",
      "1/2, step 10/45, input.shape = 4\n",
      "1/2, step 15/45, input.shape = 4\n",
      "1/2, step 20/45, input.shape = 4\n",
      "1/2, step 25/45, input.shape = 4\n",
      "1/2, step 30/45, input.shape = 4\n",
      "1/2, step 35/45, input.shape = 4\n",
      "1/2, step 40/45, input.shape = 4\n",
      "1/2, step 45/45, input.shape = 2\n",
      "2/2, step 5/45, input.shape = 4\n",
      "2/2, step 10/45, input.shape = 4\n",
      "2/2, step 15/45, input.shape = 4\n",
      "2/2, step 20/45, input.shape = 4\n",
      "2/2, step 25/45, input.shape = 4\n",
      "2/2, step 30/45, input.shape = 4\n",
      "2/2, step 35/45, input.shape = 4\n",
      "2/2, step 40/45, input.shape = 4\n",
      "2/2, step 45/45, input.shape = 2\n"
     ]
    }
   ],
   "source": [
    "for epoch in range(num_epochs):\n",
    "    for i, (inputs, labels) in enumerate(dataloader):\n",
    "        if (i+1) % 5 == 0:\n",
    "            print('{}/{}, step {}/{}, input.shape = {}'.format(epoch+1, num_epochs, i+1,\n",
    "                                                               n_iterations, inputs.shape[0]))"
   ]
  },
  {
   "cell_type": "code",
   "execution_count": null,
   "id": "4b2fa31d",
   "metadata": {},
   "outputs": [],
   "source": []
  }
 ],
 "metadata": {
  "kernelspec": {
   "display_name": "Python 3 (ipykernel)",
   "language": "python",
   "name": "python3"
  },
  "language_info": {
   "codemirror_mode": {
    "name": "ipython",
    "version": 3
   },
   "file_extension": ".py",
   "mimetype": "text/x-python",
   "name": "python",
   "nbconvert_exporter": "python",
   "pygments_lexer": "ipython3",
   "version": "3.11.5"
  }
 },
 "nbformat": 4,
 "nbformat_minor": 5
}
