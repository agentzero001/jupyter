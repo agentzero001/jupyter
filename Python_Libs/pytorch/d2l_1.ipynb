{
 "cells": [
  {
   "cell_type": "code",
   "execution_count": 51,
   "id": "44efb916",
   "metadata": {},
   "outputs": [],
   "source": [
    "import torch\n",
    "import numpy as np\n",
    "import matplotlib.pyplot as plt\n",
    "plt.style.use('dark_background')"
   ]
  },
  {
   "cell_type": "code",
   "execution_count": 52,
   "id": "bd9ffd1c",
   "metadata": {},
   "outputs": [
    {
     "data": {
      "text/plain": [
       "'2.1.0+cpu'"
      ]
     },
     "execution_count": 52,
     "metadata": {},
     "output_type": "execute_result"
    }
   ],
   "source": [
    "torch.__version__"
   ]
  },
  {
   "cell_type": "code",
   "execution_count": 53,
   "id": "d384a2d6",
   "metadata": {},
   "outputs": [
    {
     "data": {
      "text/plain": [
       "array([10])"
      ]
     },
     "execution_count": 53,
     "metadata": {},
     "output_type": "execute_result"
    }
   ],
   "source": [
    "np.array([10])"
   ]
  },
  {
   "cell_type": "code",
   "execution_count": 54,
   "id": "fa364b7c",
   "metadata": {},
   "outputs": [],
   "source": [
    "x = torch.tensor([2.0], requires_grad=True)\n",
    "y = torch.sin(x)\n",
    "y.backward()  # Computes gradients\n",
    "#print(x.grad) "
   ]
  },
  {
   "cell_type": "code",
   "execution_count": 55,
   "id": "5bbfd83f",
   "metadata": {},
   "outputs": [],
   "source": [
    "torch.cos(x).backward()"
   ]
  },
  {
   "cell_type": "code",
   "execution_count": 56,
   "id": "c46b93f7",
   "metadata": {},
   "outputs": [],
   "source": [
    "dump = lambda x, c: (x,c)"
   ]
  },
  {
   "cell_type": "code",
   "execution_count": 57,
   "id": "54d886ca",
   "metadata": {},
   "outputs": [
    {
     "data": {
      "text/plain": [
       "(3, 4)"
      ]
     },
     "execution_count": 57,
     "metadata": {},
     "output_type": "execute_result"
    }
   ],
   "source": [
    "dump(**{'x':3,'c': 4})"
   ]
  },
  {
   "cell_type": "code",
   "execution_count": 58,
   "id": "88aa64db",
   "metadata": {},
   "outputs": [],
   "source": [
    "f = lambda x: 3*x**2 - 4*x"
   ]
  },
  {
   "cell_type": "code",
   "execution_count": 59,
   "id": "5342c365",
   "metadata": {},
   "outputs": [
    {
     "name": "stdout",
     "output_type": "stream",
     "text": [
      "h=0.10000, numerical limit= 2.30000\n",
      "h=0.01000, numerical limit= 2.03000\n",
      "h=0.00100, numerical limit= 2.00300\n",
      "h=0.00010, numerical limit= 2.00030\n",
      "h=0.00001, numerical limit= 2.00003\n"
     ]
    }
   ],
   "source": [
    "for h in 10**np.arange(-1,-6, -1, dtype=float):\n",
    "    print(f'h={h:.5f}, numerical limit= {(f(1+h) - f(1)) / h:.5f}')"
   ]
  },
  {
   "cell_type": "code",
   "execution_count": 60,
   "id": "388b0d78",
   "metadata": {},
   "outputs": [
    {
     "data": {
      "text/plain": [
       "(tensor(28., grad_fn=<DotBackward0>), tensor([ 0.,  4.,  8., 12.]))"
      ]
     },
     "execution_count": 60,
     "metadata": {},
     "output_type": "execute_result"
    }
   ],
   "source": [
    "x = torch.arange(4.0, requires_grad=True)\n",
    "y = 2 * x @ x\n",
    "y.backward()\n",
    "dy_dx = x.grad\n",
    "y, dy_dx"
   ]
  },
  {
   "cell_type": "code",
   "execution_count": 61,
   "id": "725bcc23",
   "metadata": {},
   "outputs": [
    {
     "data": {
      "text/plain": [
       "tensor([True, True, True, True])"
      ]
     },
     "execution_count": 61,
     "metadata": {},
     "output_type": "execute_result"
    }
   ],
   "source": [
    "x.grad == 4*x"
   ]
  },
  {
   "cell_type": "code",
   "execution_count": 62,
   "id": "54351be1",
   "metadata": {},
   "outputs": [
    {
     "data": {
      "text/plain": [
       "tensor([2., 2., 2., 2.])"
      ]
     },
     "execution_count": 62,
     "metadata": {},
     "output_type": "execute_result"
    }
   ],
   "source": [
    "x.grad.zero_()\n",
    "y = 2 * x.sum()\n",
    "y.backward()\n",
    "x.grad"
   ]
  },
  {
   "cell_type": "code",
   "execution_count": 63,
   "id": "8ae49215",
   "metadata": {},
   "outputs": [
    {
     "data": {
      "text/plain": [
       "tensor(12., grad_fn=<MulBackward0>)"
      ]
     },
     "execution_count": 63,
     "metadata": {},
     "output_type": "execute_result"
    }
   ],
   "source": [
    "y"
   ]
  },
  {
   "cell_type": "code",
   "execution_count": 64,
   "id": "f3176720",
   "metadata": {},
   "outputs": [
    {
     "data": {
      "text/plain": [
       "tensor(6., grad_fn=<SumBackward0>)"
      ]
     },
     "execution_count": 64,
     "metadata": {},
     "output_type": "execute_result"
    }
   ],
   "source": [
    "x.sum()"
   ]
  },
  {
   "cell_type": "markdown",
   "id": "95b60b65",
   "metadata": {},
   "source": [
    "Invoking backward on a non-scalar elicits an error unless we tell PyTorch how to reduce the object to a scalar. More formally, we need to provide some vector \n",
    " such that backward will compute $\\mathbf{v}^\\top \\partial_{\\mathbf{x}} \\mathbf{y}$\n",
    " rather than $\\partial_{\\mathbf{x}} \\mathbf{y}$\n"
   ]
  },
  {
   "cell_type": "code",
   "execution_count": 65,
   "id": "8c8faa4d",
   "metadata": {},
   "outputs": [
    {
     "data": {
      "text/plain": [
       "tensor([0., 2., 4., 6.])"
      ]
     },
     "execution_count": 65,
     "metadata": {},
     "output_type": "execute_result"
    }
   ],
   "source": [
    "x.grad.zero_()\n",
    "y = x*x\n",
    "y.backward(gradient=torch.ones(len(y))) #gradient representing v\n",
    "x.grad"
   ]
  },
  {
   "cell_type": "code",
   "execution_count": 66,
   "id": "eab10ec8",
   "metadata": {},
   "outputs": [
    {
     "data": {
      "text/plain": [
       "tensor([0., 1., 4., 9.], grad_fn=<MulBackward0>)"
      ]
     },
     "execution_count": 66,
     "metadata": {},
     "output_type": "execute_result"
    }
   ],
   "source": [
    "y"
   ]
  },
  {
   "cell_type": "code",
   "execution_count": 67,
   "id": "7b567722",
   "metadata": {},
   "outputs": [
    {
     "data": {
      "text/plain": [
       "tensor([True, True, True, True])"
      ]
     },
     "execution_count": 67,
     "metadata": {},
     "output_type": "execute_result"
    }
   ],
   "source": [
    "x.grad.zero_()\n",
    "y = x*x\n",
    "u = y.detach()\n",
    "z = u * x\n",
    "\n",
    "out = z.sum()\n",
    "out.backward()\n",
    "\n",
    "x.grad == u"
   ]
  },
  {
   "cell_type": "code",
   "execution_count": 75,
   "id": "541ce982",
   "metadata": {},
   "outputs": [
    {
     "data": {
      "text/plain": [
       "(torch.Size([16]), torch.Size([4, 4]))"
      ]
     },
     "execution_count": 75,
     "metadata": {},
     "output_type": "execute_result"
    }
   ],
   "source": [
    "x = torch.randn(4, 4)\n",
    "y = x.view(16)\n",
    "y.shape, x.shape"
   ]
  },
  {
   "cell_type": "code",
   "execution_count": 1,
   "id": "6d106011",
   "metadata": {},
   "outputs": [
    {
     "data": {
      "text/plain": [
       "0.43200000000000005"
      ]
     },
     "execution_count": 1,
     "metadata": {},
     "output_type": "execute_result"
    }
   ],
   "source": [
    "3*.6**2*.4"
   ]
  },
  {
   "cell_type": "code",
   "execution_count": 2,
   "id": "fe63acaf",
   "metadata": {},
   "outputs": [],
   "source": [
    "from math import log"
   ]
  },
  {
   "cell_type": "code",
   "execution_count": 8,
   "id": "7418e956",
   "metadata": {},
   "outputs": [
    {
     "data": {
      "text/plain": [
       "3.4657359027997265"
      ]
     },
     "execution_count": 8,
     "metadata": {},
     "output_type": "execute_result"
    }
   ],
   "source": [
    "log(32)"
   ]
  },
  {
   "cell_type": "code",
   "execution_count": 11,
   "id": "971a3d4f",
   "metadata": {},
   "outputs": [
    {
     "data": {
      "text/plain": [
       "4.0"
      ]
     },
     "execution_count": 11,
     "metadata": {},
     "output_type": "execute_result"
    }
   ],
   "source": [
    "log(16, 2)"
   ]
  },
  {
   "cell_type": "code",
   "execution_count": 27,
   "id": "c0aa408e",
   "metadata": {},
   "outputs": [],
   "source": [
    "log_2 = lambda x: log(x, 2)"
   ]
  },
  {
   "cell_type": "code",
   "execution_count": 28,
   "id": "6a566e39",
   "metadata": {},
   "outputs": [
    {
     "data": {
      "text/plain": [
       "True"
      ]
     },
     "execution_count": 28,
     "metadata": {},
     "output_type": "execute_result"
    }
   ],
   "source": [
    "log_2(8*2) == log_2(2) + log_2(8)"
   ]
  },
  {
   "cell_type": "code",
   "execution_count": 29,
   "id": "16700207",
   "metadata": {},
   "outputs": [
    {
     "data": {
      "text/plain": [
       "True"
      ]
     },
     "execution_count": 29,
     "metadata": {},
     "output_type": "execute_result"
    }
   ],
   "source": [
    "log_2(16/2) == log_2(16) - log_2(2)"
   ]
  },
  {
   "cell_type": "code",
   "execution_count": 30,
   "id": "2907a1ff",
   "metadata": {},
   "outputs": [
    {
     "data": {
      "text/plain": [
       "True"
      ]
     },
     "execution_count": 30,
     "metadata": {},
     "output_type": "execute_result"
    }
   ],
   "source": [
    "log_2(16**3) == 3 * log_2(16)"
   ]
  },
  {
   "cell_type": "code",
   "execution_count": 31,
   "id": "ad956929",
   "metadata": {},
   "outputs": [
    {
     "data": {
      "text/plain": [
       "True"
      ]
     },
     "execution_count": 31,
     "metadata": {},
     "output_type": "execute_result"
    }
   ],
   "source": [
    "log_2(1/2**3) == -log_2(2**3)"
   ]
  },
  {
   "cell_type": "code",
   "execution_count": null,
   "id": "42927553",
   "metadata": {},
   "outputs": [],
   "source": []
  }
 ],
 "metadata": {
  "kernelspec": {
   "display_name": "Python 3 (ipykernel)",
   "language": "python",
   "name": "python3"
  },
  "language_info": {
   "codemirror_mode": {
    "name": "ipython",
    "version": 3
   },
   "file_extension": ".py",
   "mimetype": "text/x-python",
   "name": "python",
   "nbconvert_exporter": "python",
   "pygments_lexer": "ipython3",
   "version": "3.11.5"
  }
 },
 "nbformat": 4,
 "nbformat_minor": 5
}
