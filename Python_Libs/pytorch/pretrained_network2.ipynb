{
 "cells": [
  {
   "cell_type": "code",
   "execution_count": 7,
   "id": "07e379b1",
   "metadata": {},
   "outputs": [],
   "source": [
    "import torch\n",
    "from torch import Tensor as T"
   ]
  },
  {
   "cell_type": "code",
   "execution_count": 8,
   "id": "72bf249d",
   "metadata": {},
   "outputs": [
    {
     "data": {
      "text/plain": [
       "torch.Tensor"
      ]
     },
     "execution_count": 8,
     "metadata": {},
     "output_type": "execute_result"
    }
   ],
   "source": [
    "type(torch.ones(3))"
   ]
  },
  {
   "cell_type": "code",
   "execution_count": 9,
   "id": "01f72a48",
   "metadata": {},
   "outputs": [
    {
     "data": {
      "text/plain": [
       "tensor([[1., 2.],\n",
       "        [3., 4.]])"
      ]
     },
     "execution_count": 9,
     "metadata": {},
     "output_type": "execute_result"
    }
   ],
   "source": [
    "T([1,2,3,4]).reshape(2,2)"
   ]
  },
  {
   "cell_type": "code",
   "execution_count": 10,
   "id": "2c23c352",
   "metadata": {},
   "outputs": [
    {
     "data": {
      "text/plain": [
       "tensor([1.])"
      ]
     },
     "execution_count": 10,
     "metadata": {},
     "output_type": "execute_result"
    }
   ],
   "source": [
    "torch.tan(T([torch.pi/4]))"
   ]
  },
  {
   "cell_type": "code",
   "execution_count": 11,
   "id": "a0a6cb39",
   "metadata": {},
   "outputs": [],
   "source": [
    "from torchvision import models\n",
    "from torchvision import transforms"
   ]
  },
  {
   "cell_type": "code",
   "execution_count": 12,
   "id": "0ba05828",
   "metadata": {},
   "outputs": [],
   "source": [
    "#dir(models)"
   ]
  },
  {
   "cell_type": "code",
   "execution_count": 13,
   "id": "6a9af14b",
   "metadata": {
    "scrolled": true
   },
   "outputs": [
    {
     "name": "stderr",
     "output_type": "stream",
     "text": [
      "C:\\Users\\jensm\\anaconda3\\Lib\\site-packages\\torchvision\\models\\_utils.py:208: UserWarning: The parameter 'pretrained' is deprecated since 0.13 and may be removed in the future, please use 'weights' instead.\n",
      "  warnings.warn(\n",
      "C:\\Users\\jensm\\anaconda3\\Lib\\site-packages\\torchvision\\models\\_utils.py:223: UserWarning: Arguments other than a weight enum or `None` for 'weights' are deprecated since 0.13 and may be removed in the future. The current behavior is equivalent to passing `weights=ResNet101_Weights.IMAGENET1K_V1`. You can also use `weights=ResNet101_Weights.DEFAULT` to get the most up-to-date weights.\n",
      "  warnings.warn(msg)\n"
     ]
    }
   ],
   "source": [
    "#alexnet = models.AlexNet()\n",
    "resnet = models.resnet101(pretrained=True)"
   ]
  },
  {
   "cell_type": "code",
   "execution_count": 14,
   "id": "ac32fb3d",
   "metadata": {},
   "outputs": [
    {
     "data": {
      "text/plain": [
       "ResNet(\n",
       "  (conv1): Conv2d(3, 64, kernel_size=(7, 7), stride=(2, 2), padding=(3, 3), bias=False)\n",
       "  (bn1): BatchNorm2d(64, eps=1e-05, momentum=0.1, affine=True, track_running_stats=True)\n",
       "  (relu): ReLU(inplace=True)\n",
       "  (maxpool): MaxPool2d(kernel_size=3, stride=2, padding=1, dilation=1, ceil_mode=False)\n",
       "  (layer1): Sequential(\n",
       "    (0): Bottleneck(\n",
       "      (conv1): Conv2d(64, 64, kernel_size=(1, 1), stride=(1, 1), bias=False)\n",
       "      (bn1): BatchNorm2d(64, eps=1e-05, momentum=0.1, affine=True, track_running_stats=True)\n",
       "      (conv2): Conv2d(64, 64, kernel_size=(3, 3), stride=(1, 1), padding=(1, 1), bias=False)\n",
       "      (bn2): BatchNorm2d(64, eps=1e-05, momentum=0.1, affine=True, track_running_stats=True)\n",
       "      (conv3): Conv2d(64, 256, kernel_size=(1, 1), stride=(1, 1), bias=False)\n",
       "      (bn3): BatchNorm2d(256, eps=1e-05, momentum=0.1, affine=True, track_running_stats=True)\n",
       "      (relu): ReLU(inplace=True)\n",
       "      (downsample): Sequential(\n",
       "        (0): Conv2d(64, 256, kernel_size=(1, 1), stride=(1, 1), bias=False)\n",
       "        (1): BatchNorm2d(256, eps=1e-05, momentum=0.1, affine=True, track_running_stats=True)\n",
       "      )\n",
       "    )\n",
       "    (1): Bottleneck(\n",
       "      (conv1): Conv2d(256, 64, kernel_size=(1, 1), stride=(1, 1), bias=False)\n",
       "      (bn1): BatchNorm2d(64, eps=1e-05, momentum=0.1, affine=True, track_running_stats=True)\n",
       "      (conv2): Conv2d(64, 64, kernel_size=(3, 3), stride=(1, 1), padding=(1, 1), bias=False)\n",
       "      (bn2): BatchNorm2d(64, eps=1e-05, momentum=0.1, affine=True, track_running_stats=True)\n",
       "      (conv3): Conv2d(64, 256, kernel_size=(1, 1), stride=(1, 1), bias=False)\n",
       "      (bn3): BatchNorm2d(256, eps=1e-05, momentum=0.1, affine=True, track_running_stats=True)\n",
       "      (relu): ReLU(inplace=True)\n",
       "    )\n",
       "    (2): Bottleneck(\n",
       "      (conv1): Conv2d(256, 64, kernel_size=(1, 1), stride=(1, 1), bias=False)\n",
       "      (bn1): BatchNorm2d(64, eps=1e-05, momentum=0.1, affine=True, track_running_stats=True)\n",
       "      (conv2): Conv2d(64, 64, kernel_size=(3, 3), stride=(1, 1), padding=(1, 1), bias=False)\n",
       "      (bn2): BatchNorm2d(64, eps=1e-05, momentum=0.1, affine=True, track_running_stats=True)\n",
       "      (conv3): Conv2d(64, 256, kernel_size=(1, 1), stride=(1, 1), bias=False)\n",
       "      (bn3): BatchNorm2d(256, eps=1e-05, momentum=0.1, affine=True, track_running_stats=True)\n",
       "      (relu): ReLU(inplace=True)\n",
       "    )\n",
       "  )\n",
       "  (layer2): Sequential(\n",
       "    (0): Bottleneck(\n",
       "      (conv1): Conv2d(256, 128, kernel_size=(1, 1), stride=(1, 1), bias=False)\n",
       "      (bn1): BatchNorm2d(128, eps=1e-05, momentum=0.1, affine=True, track_running_stats=True)\n",
       "      (conv2): Conv2d(128, 128, kernel_size=(3, 3), stride=(2, 2), padding=(1, 1), bias=False)\n",
       "      (bn2): BatchNorm2d(128, eps=1e-05, momentum=0.1, affine=True, track_running_stats=True)\n",
       "      (conv3): Conv2d(128, 512, kernel_size=(1, 1), stride=(1, 1), bias=False)\n",
       "      (bn3): BatchNorm2d(512, eps=1e-05, momentum=0.1, affine=True, track_running_stats=True)\n",
       "      (relu): ReLU(inplace=True)\n",
       "      (downsample): Sequential(\n",
       "        (0): Conv2d(256, 512, kernel_size=(1, 1), stride=(2, 2), bias=False)\n",
       "        (1): BatchNorm2d(512, eps=1e-05, momentum=0.1, affine=True, track_running_stats=True)\n",
       "      )\n",
       "    )\n",
       "    (1): Bottleneck(\n",
       "      (conv1): Conv2d(512, 128, kernel_size=(1, 1), stride=(1, 1), bias=False)\n",
       "      (bn1): BatchNorm2d(128, eps=1e-05, momentum=0.1, affine=True, track_running_stats=True)\n",
       "      (conv2): Conv2d(128, 128, kernel_size=(3, 3), stride=(1, 1), padding=(1, 1), bias=False)\n",
       "      (bn2): BatchNorm2d(128, eps=1e-05, momentum=0.1, affine=True, track_running_stats=True)\n",
       "      (conv3): Conv2d(128, 512, kernel_size=(1, 1), stride=(1, 1), bias=False)\n",
       "      (bn3): BatchNorm2d(512, eps=1e-05, momentum=0.1, affine=True, track_running_stats=True)\n",
       "      (relu): ReLU(inplace=True)\n",
       "    )\n",
       "    (2): Bottleneck(\n",
       "      (conv1): Conv2d(512, 128, kernel_size=(1, 1), stride=(1, 1), bias=False)\n",
       "      (bn1): BatchNorm2d(128, eps=1e-05, momentum=0.1, affine=True, track_running_stats=True)\n",
       "      (conv2): Conv2d(128, 128, kernel_size=(3, 3), stride=(1, 1), padding=(1, 1), bias=False)\n",
       "      (bn2): BatchNorm2d(128, eps=1e-05, momentum=0.1, affine=True, track_running_stats=True)\n",
       "      (conv3): Conv2d(128, 512, kernel_size=(1, 1), stride=(1, 1), bias=False)\n",
       "      (bn3): BatchNorm2d(512, eps=1e-05, momentum=0.1, affine=True, track_running_stats=True)\n",
       "      (relu): ReLU(inplace=True)\n",
       "    )\n",
       "    (3): Bottleneck(\n",
       "      (conv1): Conv2d(512, 128, kernel_size=(1, 1), stride=(1, 1), bias=False)\n",
       "      (bn1): BatchNorm2d(128, eps=1e-05, momentum=0.1, affine=True, track_running_stats=True)\n",
       "      (conv2): Conv2d(128, 128, kernel_size=(3, 3), stride=(1, 1), padding=(1, 1), bias=False)\n",
       "      (bn2): BatchNorm2d(128, eps=1e-05, momentum=0.1, affine=True, track_running_stats=True)\n",
       "      (conv3): Conv2d(128, 512, kernel_size=(1, 1), stride=(1, 1), bias=False)\n",
       "      (bn3): BatchNorm2d(512, eps=1e-05, momentum=0.1, affine=True, track_running_stats=True)\n",
       "      (relu): ReLU(inplace=True)\n",
       "    )\n",
       "  )\n",
       "  (layer3): Sequential(\n",
       "    (0): Bottleneck(\n",
       "      (conv1): Conv2d(512, 256, kernel_size=(1, 1), stride=(1, 1), bias=False)\n",
       "      (bn1): BatchNorm2d(256, eps=1e-05, momentum=0.1, affine=True, track_running_stats=True)\n",
       "      (conv2): Conv2d(256, 256, kernel_size=(3, 3), stride=(2, 2), padding=(1, 1), bias=False)\n",
       "      (bn2): BatchNorm2d(256, eps=1e-05, momentum=0.1, affine=True, track_running_stats=True)\n",
       "      (conv3): Conv2d(256, 1024, kernel_size=(1, 1), stride=(1, 1), bias=False)\n",
       "      (bn3): BatchNorm2d(1024, eps=1e-05, momentum=0.1, affine=True, track_running_stats=True)\n",
       "      (relu): ReLU(inplace=True)\n",
       "      (downsample): Sequential(\n",
       "        (0): Conv2d(512, 1024, kernel_size=(1, 1), stride=(2, 2), bias=False)\n",
       "        (1): BatchNorm2d(1024, eps=1e-05, momentum=0.1, affine=True, track_running_stats=True)\n",
       "      )\n",
       "    )\n",
       "    (1): Bottleneck(\n",
       "      (conv1): Conv2d(1024, 256, kernel_size=(1, 1), stride=(1, 1), bias=False)\n",
       "      (bn1): BatchNorm2d(256, eps=1e-05, momentum=0.1, affine=True, track_running_stats=True)\n",
       "      (conv2): Conv2d(256, 256, kernel_size=(3, 3), stride=(1, 1), padding=(1, 1), bias=False)\n",
       "      (bn2): BatchNorm2d(256, eps=1e-05, momentum=0.1, affine=True, track_running_stats=True)\n",
       "      (conv3): Conv2d(256, 1024, kernel_size=(1, 1), stride=(1, 1), bias=False)\n",
       "      (bn3): BatchNorm2d(1024, eps=1e-05, momentum=0.1, affine=True, track_running_stats=True)\n",
       "      (relu): ReLU(inplace=True)\n",
       "    )\n",
       "    (2): Bottleneck(\n",
       "      (conv1): Conv2d(1024, 256, kernel_size=(1, 1), stride=(1, 1), bias=False)\n",
       "      (bn1): BatchNorm2d(256, eps=1e-05, momentum=0.1, affine=True, track_running_stats=True)\n",
       "      (conv2): Conv2d(256, 256, kernel_size=(3, 3), stride=(1, 1), padding=(1, 1), bias=False)\n",
       "      (bn2): BatchNorm2d(256, eps=1e-05, momentum=0.1, affine=True, track_running_stats=True)\n",
       "      (conv3): Conv2d(256, 1024, kernel_size=(1, 1), stride=(1, 1), bias=False)\n",
       "      (bn3): BatchNorm2d(1024, eps=1e-05, momentum=0.1, affine=True, track_running_stats=True)\n",
       "      (relu): ReLU(inplace=True)\n",
       "    )\n",
       "    (3): Bottleneck(\n",
       "      (conv1): Conv2d(1024, 256, kernel_size=(1, 1), stride=(1, 1), bias=False)\n",
       "      (bn1): BatchNorm2d(256, eps=1e-05, momentum=0.1, affine=True, track_running_stats=True)\n",
       "      (conv2): Conv2d(256, 256, kernel_size=(3, 3), stride=(1, 1), padding=(1, 1), bias=False)\n",
       "      (bn2): BatchNorm2d(256, eps=1e-05, momentum=0.1, affine=True, track_running_stats=True)\n",
       "      (conv3): Conv2d(256, 1024, kernel_size=(1, 1), stride=(1, 1), bias=False)\n",
       "      (bn3): BatchNorm2d(1024, eps=1e-05, momentum=0.1, affine=True, track_running_stats=True)\n",
       "      (relu): ReLU(inplace=True)\n",
       "    )\n",
       "    (4): Bottleneck(\n",
       "      (conv1): Conv2d(1024, 256, kernel_size=(1, 1), stride=(1, 1), bias=False)\n",
       "      (bn1): BatchNorm2d(256, eps=1e-05, momentum=0.1, affine=True, track_running_stats=True)\n",
       "      (conv2): Conv2d(256, 256, kernel_size=(3, 3), stride=(1, 1), padding=(1, 1), bias=False)\n",
       "      (bn2): BatchNorm2d(256, eps=1e-05, momentum=0.1, affine=True, track_running_stats=True)\n",
       "      (conv3): Conv2d(256, 1024, kernel_size=(1, 1), stride=(1, 1), bias=False)\n",
       "      (bn3): BatchNorm2d(1024, eps=1e-05, momentum=0.1, affine=True, track_running_stats=True)\n",
       "      (relu): ReLU(inplace=True)\n",
       "    )\n",
       "    (5): Bottleneck(\n",
       "      (conv1): Conv2d(1024, 256, kernel_size=(1, 1), stride=(1, 1), bias=False)\n",
       "      (bn1): BatchNorm2d(256, eps=1e-05, momentum=0.1, affine=True, track_running_stats=True)\n",
       "      (conv2): Conv2d(256, 256, kernel_size=(3, 3), stride=(1, 1), padding=(1, 1), bias=False)\n",
       "      (bn2): BatchNorm2d(256, eps=1e-05, momentum=0.1, affine=True, track_running_stats=True)\n",
       "      (conv3): Conv2d(256, 1024, kernel_size=(1, 1), stride=(1, 1), bias=False)\n",
       "      (bn3): BatchNorm2d(1024, eps=1e-05, momentum=0.1, affine=True, track_running_stats=True)\n",
       "      (relu): ReLU(inplace=True)\n",
       "    )\n",
       "    (6): Bottleneck(\n",
       "      (conv1): Conv2d(1024, 256, kernel_size=(1, 1), stride=(1, 1), bias=False)\n",
       "      (bn1): BatchNorm2d(256, eps=1e-05, momentum=0.1, affine=True, track_running_stats=True)\n",
       "      (conv2): Conv2d(256, 256, kernel_size=(3, 3), stride=(1, 1), padding=(1, 1), bias=False)\n",
       "      (bn2): BatchNorm2d(256, eps=1e-05, momentum=0.1, affine=True, track_running_stats=True)\n",
       "      (conv3): Conv2d(256, 1024, kernel_size=(1, 1), stride=(1, 1), bias=False)\n",
       "      (bn3): BatchNorm2d(1024, eps=1e-05, momentum=0.1, affine=True, track_running_stats=True)\n",
       "      (relu): ReLU(inplace=True)\n",
       "    )\n",
       "    (7): Bottleneck(\n",
       "      (conv1): Conv2d(1024, 256, kernel_size=(1, 1), stride=(1, 1), bias=False)\n",
       "      (bn1): BatchNorm2d(256, eps=1e-05, momentum=0.1, affine=True, track_running_stats=True)\n",
       "      (conv2): Conv2d(256, 256, kernel_size=(3, 3), stride=(1, 1), padding=(1, 1), bias=False)\n",
       "      (bn2): BatchNorm2d(256, eps=1e-05, momentum=0.1, affine=True, track_running_stats=True)\n",
       "      (conv3): Conv2d(256, 1024, kernel_size=(1, 1), stride=(1, 1), bias=False)\n",
       "      (bn3): BatchNorm2d(1024, eps=1e-05, momentum=0.1, affine=True, track_running_stats=True)\n",
       "      (relu): ReLU(inplace=True)\n",
       "    )\n",
       "    (8): Bottleneck(\n",
       "      (conv1): Conv2d(1024, 256, kernel_size=(1, 1), stride=(1, 1), bias=False)\n",
       "      (bn1): BatchNorm2d(256, eps=1e-05, momentum=0.1, affine=True, track_running_stats=True)\n",
       "      (conv2): Conv2d(256, 256, kernel_size=(3, 3), stride=(1, 1), padding=(1, 1), bias=False)\n",
       "      (bn2): BatchNorm2d(256, eps=1e-05, momentum=0.1, affine=True, track_running_stats=True)\n",
       "      (conv3): Conv2d(256, 1024, kernel_size=(1, 1), stride=(1, 1), bias=False)\n",
       "      (bn3): BatchNorm2d(1024, eps=1e-05, momentum=0.1, affine=True, track_running_stats=True)\n",
       "      (relu): ReLU(inplace=True)\n",
       "    )\n",
       "    (9): Bottleneck(\n",
       "      (conv1): Conv2d(1024, 256, kernel_size=(1, 1), stride=(1, 1), bias=False)\n",
       "      (bn1): BatchNorm2d(256, eps=1e-05, momentum=0.1, affine=True, track_running_stats=True)\n",
       "      (conv2): Conv2d(256, 256, kernel_size=(3, 3), stride=(1, 1), padding=(1, 1), bias=False)\n",
       "      (bn2): BatchNorm2d(256, eps=1e-05, momentum=0.1, affine=True, track_running_stats=True)\n",
       "      (conv3): Conv2d(256, 1024, kernel_size=(1, 1), stride=(1, 1), bias=False)\n",
       "      (bn3): BatchNorm2d(1024, eps=1e-05, momentum=0.1, affine=True, track_running_stats=True)\n",
       "      (relu): ReLU(inplace=True)\n",
       "    )\n",
       "    (10): Bottleneck(\n",
       "      (conv1): Conv2d(1024, 256, kernel_size=(1, 1), stride=(1, 1), bias=False)\n",
       "      (bn1): BatchNorm2d(256, eps=1e-05, momentum=0.1, affine=True, track_running_stats=True)\n",
       "      (conv2): Conv2d(256, 256, kernel_size=(3, 3), stride=(1, 1), padding=(1, 1), bias=False)\n",
       "      (bn2): BatchNorm2d(256, eps=1e-05, momentum=0.1, affine=True, track_running_stats=True)\n",
       "      (conv3): Conv2d(256, 1024, kernel_size=(1, 1), stride=(1, 1), bias=False)\n",
       "      (bn3): BatchNorm2d(1024, eps=1e-05, momentum=0.1, affine=True, track_running_stats=True)\n",
       "      (relu): ReLU(inplace=True)\n",
       "    )\n",
       "    (11): Bottleneck(\n",
       "      (conv1): Conv2d(1024, 256, kernel_size=(1, 1), stride=(1, 1), bias=False)\n",
       "      (bn1): BatchNorm2d(256, eps=1e-05, momentum=0.1, affine=True, track_running_stats=True)\n",
       "      (conv2): Conv2d(256, 256, kernel_size=(3, 3), stride=(1, 1), padding=(1, 1), bias=False)\n",
       "      (bn2): BatchNorm2d(256, eps=1e-05, momentum=0.1, affine=True, track_running_stats=True)\n",
       "      (conv3): Conv2d(256, 1024, kernel_size=(1, 1), stride=(1, 1), bias=False)\n",
       "      (bn3): BatchNorm2d(1024, eps=1e-05, momentum=0.1, affine=True, track_running_stats=True)\n",
       "      (relu): ReLU(inplace=True)\n",
       "    )\n",
       "    (12): Bottleneck(\n",
       "      (conv1): Conv2d(1024, 256, kernel_size=(1, 1), stride=(1, 1), bias=False)\n",
       "      (bn1): BatchNorm2d(256, eps=1e-05, momentum=0.1, affine=True, track_running_stats=True)\n",
       "      (conv2): Conv2d(256, 256, kernel_size=(3, 3), stride=(1, 1), padding=(1, 1), bias=False)\n",
       "      (bn2): BatchNorm2d(256, eps=1e-05, momentum=0.1, affine=True, track_running_stats=True)\n",
       "      (conv3): Conv2d(256, 1024, kernel_size=(1, 1), stride=(1, 1), bias=False)\n",
       "      (bn3): BatchNorm2d(1024, eps=1e-05, momentum=0.1, affine=True, track_running_stats=True)\n",
       "      (relu): ReLU(inplace=True)\n",
       "    )\n",
       "    (13): Bottleneck(\n",
       "      (conv1): Conv2d(1024, 256, kernel_size=(1, 1), stride=(1, 1), bias=False)\n",
       "      (bn1): BatchNorm2d(256, eps=1e-05, momentum=0.1, affine=True, track_running_stats=True)\n",
       "      (conv2): Conv2d(256, 256, kernel_size=(3, 3), stride=(1, 1), padding=(1, 1), bias=False)\n",
       "      (bn2): BatchNorm2d(256, eps=1e-05, momentum=0.1, affine=True, track_running_stats=True)\n",
       "      (conv3): Conv2d(256, 1024, kernel_size=(1, 1), stride=(1, 1), bias=False)\n",
       "      (bn3): BatchNorm2d(1024, eps=1e-05, momentum=0.1, affine=True, track_running_stats=True)\n",
       "      (relu): ReLU(inplace=True)\n",
       "    )\n",
       "    (14): Bottleneck(\n",
       "      (conv1): Conv2d(1024, 256, kernel_size=(1, 1), stride=(1, 1), bias=False)\n",
       "      (bn1): BatchNorm2d(256, eps=1e-05, momentum=0.1, affine=True, track_running_stats=True)\n",
       "      (conv2): Conv2d(256, 256, kernel_size=(3, 3), stride=(1, 1), padding=(1, 1), bias=False)\n",
       "      (bn2): BatchNorm2d(256, eps=1e-05, momentum=0.1, affine=True, track_running_stats=True)\n",
       "      (conv3): Conv2d(256, 1024, kernel_size=(1, 1), stride=(1, 1), bias=False)\n",
       "      (bn3): BatchNorm2d(1024, eps=1e-05, momentum=0.1, affine=True, track_running_stats=True)\n",
       "      (relu): ReLU(inplace=True)\n",
       "    )\n",
       "    (15): Bottleneck(\n",
       "      (conv1): Conv2d(1024, 256, kernel_size=(1, 1), stride=(1, 1), bias=False)\n",
       "      (bn1): BatchNorm2d(256, eps=1e-05, momentum=0.1, affine=True, track_running_stats=True)\n",
       "      (conv2): Conv2d(256, 256, kernel_size=(3, 3), stride=(1, 1), padding=(1, 1), bias=False)\n",
       "      (bn2): BatchNorm2d(256, eps=1e-05, momentum=0.1, affine=True, track_running_stats=True)\n",
       "      (conv3): Conv2d(256, 1024, kernel_size=(1, 1), stride=(1, 1), bias=False)\n",
       "      (bn3): BatchNorm2d(1024, eps=1e-05, momentum=0.1, affine=True, track_running_stats=True)\n",
       "      (relu): ReLU(inplace=True)\n",
       "    )\n",
       "    (16): Bottleneck(\n",
       "      (conv1): Conv2d(1024, 256, kernel_size=(1, 1), stride=(1, 1), bias=False)\n",
       "      (bn1): BatchNorm2d(256, eps=1e-05, momentum=0.1, affine=True, track_running_stats=True)\n",
       "      (conv2): Conv2d(256, 256, kernel_size=(3, 3), stride=(1, 1), padding=(1, 1), bias=False)\n",
       "      (bn2): BatchNorm2d(256, eps=1e-05, momentum=0.1, affine=True, track_running_stats=True)\n",
       "      (conv3): Conv2d(256, 1024, kernel_size=(1, 1), stride=(1, 1), bias=False)\n",
       "      (bn3): BatchNorm2d(1024, eps=1e-05, momentum=0.1, affine=True, track_running_stats=True)\n",
       "      (relu): ReLU(inplace=True)\n",
       "    )\n",
       "    (17): Bottleneck(\n",
       "      (conv1): Conv2d(1024, 256, kernel_size=(1, 1), stride=(1, 1), bias=False)\n",
       "      (bn1): BatchNorm2d(256, eps=1e-05, momentum=0.1, affine=True, track_running_stats=True)\n",
       "      (conv2): Conv2d(256, 256, kernel_size=(3, 3), stride=(1, 1), padding=(1, 1), bias=False)\n",
       "      (bn2): BatchNorm2d(256, eps=1e-05, momentum=0.1, affine=True, track_running_stats=True)\n",
       "      (conv3): Conv2d(256, 1024, kernel_size=(1, 1), stride=(1, 1), bias=False)\n",
       "      (bn3): BatchNorm2d(1024, eps=1e-05, momentum=0.1, affine=True, track_running_stats=True)\n",
       "      (relu): ReLU(inplace=True)\n",
       "    )\n",
       "    (18): Bottleneck(\n",
       "      (conv1): Conv2d(1024, 256, kernel_size=(1, 1), stride=(1, 1), bias=False)\n",
       "      (bn1): BatchNorm2d(256, eps=1e-05, momentum=0.1, affine=True, track_running_stats=True)\n",
       "      (conv2): Conv2d(256, 256, kernel_size=(3, 3), stride=(1, 1), padding=(1, 1), bias=False)\n",
       "      (bn2): BatchNorm2d(256, eps=1e-05, momentum=0.1, affine=True, track_running_stats=True)\n",
       "      (conv3): Conv2d(256, 1024, kernel_size=(1, 1), stride=(1, 1), bias=False)\n",
       "      (bn3): BatchNorm2d(1024, eps=1e-05, momentum=0.1, affine=True, track_running_stats=True)\n",
       "      (relu): ReLU(inplace=True)\n",
       "    )\n",
       "    (19): Bottleneck(\n",
       "      (conv1): Conv2d(1024, 256, kernel_size=(1, 1), stride=(1, 1), bias=False)\n",
       "      (bn1): BatchNorm2d(256, eps=1e-05, momentum=0.1, affine=True, track_running_stats=True)\n",
       "      (conv2): Conv2d(256, 256, kernel_size=(3, 3), stride=(1, 1), padding=(1, 1), bias=False)\n",
       "      (bn2): BatchNorm2d(256, eps=1e-05, momentum=0.1, affine=True, track_running_stats=True)\n",
       "      (conv3): Conv2d(256, 1024, kernel_size=(1, 1), stride=(1, 1), bias=False)\n",
       "      (bn3): BatchNorm2d(1024, eps=1e-05, momentum=0.1, affine=True, track_running_stats=True)\n",
       "      (relu): ReLU(inplace=True)\n",
       "    )\n",
       "    (20): Bottleneck(\n",
       "      (conv1): Conv2d(1024, 256, kernel_size=(1, 1), stride=(1, 1), bias=False)\n",
       "      (bn1): BatchNorm2d(256, eps=1e-05, momentum=0.1, affine=True, track_running_stats=True)\n",
       "      (conv2): Conv2d(256, 256, kernel_size=(3, 3), stride=(1, 1), padding=(1, 1), bias=False)\n",
       "      (bn2): BatchNorm2d(256, eps=1e-05, momentum=0.1, affine=True, track_running_stats=True)\n",
       "      (conv3): Conv2d(256, 1024, kernel_size=(1, 1), stride=(1, 1), bias=False)\n",
       "      (bn3): BatchNorm2d(1024, eps=1e-05, momentum=0.1, affine=True, track_running_stats=True)\n",
       "      (relu): ReLU(inplace=True)\n",
       "    )\n",
       "    (21): Bottleneck(\n",
       "      (conv1): Conv2d(1024, 256, kernel_size=(1, 1), stride=(1, 1), bias=False)\n",
       "      (bn1): BatchNorm2d(256, eps=1e-05, momentum=0.1, affine=True, track_running_stats=True)\n",
       "      (conv2): Conv2d(256, 256, kernel_size=(3, 3), stride=(1, 1), padding=(1, 1), bias=False)\n",
       "      (bn2): BatchNorm2d(256, eps=1e-05, momentum=0.1, affine=True, track_running_stats=True)\n",
       "      (conv3): Conv2d(256, 1024, kernel_size=(1, 1), stride=(1, 1), bias=False)\n",
       "      (bn3): BatchNorm2d(1024, eps=1e-05, momentum=0.1, affine=True, track_running_stats=True)\n",
       "      (relu): ReLU(inplace=True)\n",
       "    )\n",
       "    (22): Bottleneck(\n",
       "      (conv1): Conv2d(1024, 256, kernel_size=(1, 1), stride=(1, 1), bias=False)\n",
       "      (bn1): BatchNorm2d(256, eps=1e-05, momentum=0.1, affine=True, track_running_stats=True)\n",
       "      (conv2): Conv2d(256, 256, kernel_size=(3, 3), stride=(1, 1), padding=(1, 1), bias=False)\n",
       "      (bn2): BatchNorm2d(256, eps=1e-05, momentum=0.1, affine=True, track_running_stats=True)\n",
       "      (conv3): Conv2d(256, 1024, kernel_size=(1, 1), stride=(1, 1), bias=False)\n",
       "      (bn3): BatchNorm2d(1024, eps=1e-05, momentum=0.1, affine=True, track_running_stats=True)\n",
       "      (relu): ReLU(inplace=True)\n",
       "    )\n",
       "  )\n",
       "  (layer4): Sequential(\n",
       "    (0): Bottleneck(\n",
       "      (conv1): Conv2d(1024, 512, kernel_size=(1, 1), stride=(1, 1), bias=False)\n",
       "      (bn1): BatchNorm2d(512, eps=1e-05, momentum=0.1, affine=True, track_running_stats=True)\n",
       "      (conv2): Conv2d(512, 512, kernel_size=(3, 3), stride=(2, 2), padding=(1, 1), bias=False)\n",
       "      (bn2): BatchNorm2d(512, eps=1e-05, momentum=0.1, affine=True, track_running_stats=True)\n",
       "      (conv3): Conv2d(512, 2048, kernel_size=(1, 1), stride=(1, 1), bias=False)\n",
       "      (bn3): BatchNorm2d(2048, eps=1e-05, momentum=0.1, affine=True, track_running_stats=True)\n",
       "      (relu): ReLU(inplace=True)\n",
       "      (downsample): Sequential(\n",
       "        (0): Conv2d(1024, 2048, kernel_size=(1, 1), stride=(2, 2), bias=False)\n",
       "        (1): BatchNorm2d(2048, eps=1e-05, momentum=0.1, affine=True, track_running_stats=True)\n",
       "      )\n",
       "    )\n",
       "    (1): Bottleneck(\n",
       "      (conv1): Conv2d(2048, 512, kernel_size=(1, 1), stride=(1, 1), bias=False)\n",
       "      (bn1): BatchNorm2d(512, eps=1e-05, momentum=0.1, affine=True, track_running_stats=True)\n",
       "      (conv2): Conv2d(512, 512, kernel_size=(3, 3), stride=(1, 1), padding=(1, 1), bias=False)\n",
       "      (bn2): BatchNorm2d(512, eps=1e-05, momentum=0.1, affine=True, track_running_stats=True)\n",
       "      (conv3): Conv2d(512, 2048, kernel_size=(1, 1), stride=(1, 1), bias=False)\n",
       "      (bn3): BatchNorm2d(2048, eps=1e-05, momentum=0.1, affine=True, track_running_stats=True)\n",
       "      (relu): ReLU(inplace=True)\n",
       "    )\n",
       "    (2): Bottleneck(\n",
       "      (conv1): Conv2d(2048, 512, kernel_size=(1, 1), stride=(1, 1), bias=False)\n",
       "      (bn1): BatchNorm2d(512, eps=1e-05, momentum=0.1, affine=True, track_running_stats=True)\n",
       "      (conv2): Conv2d(512, 512, kernel_size=(3, 3), stride=(1, 1), padding=(1, 1), bias=False)\n",
       "      (bn2): BatchNorm2d(512, eps=1e-05, momentum=0.1, affine=True, track_running_stats=True)\n",
       "      (conv3): Conv2d(512, 2048, kernel_size=(1, 1), stride=(1, 1), bias=False)\n",
       "      (bn3): BatchNorm2d(2048, eps=1e-05, momentum=0.1, affine=True, track_running_stats=True)\n",
       "      (relu): ReLU(inplace=True)\n",
       "    )\n",
       "  )\n",
       "  (avgpool): AdaptiveAvgPool2d(output_size=(1, 1))\n",
       "  (fc): Linear(in_features=2048, out_features=1000, bias=True)\n",
       ")"
      ]
     },
     "execution_count": 14,
     "metadata": {},
     "output_type": "execute_result"
    }
   ],
   "source": [
    "resnet"
   ]
  },
  {
   "cell_type": "code",
   "execution_count": 15,
   "id": "f9e19a25",
   "metadata": {},
   "outputs": [],
   "source": [
    "preprocess = transforms.Compose([\n",
    "transforms.Resize(256),\n",
    "transforms.CenterCrop(224),\n",
    "transforms.ToTensor(),\n",
    "transforms.Normalize(\n",
    "mean=[0.485, 0.456, 0.406],\n",
    "std=[0.229, 0.224, 0.225]\n",
    ")])"
   ]
  },
  {
   "cell_type": "code",
   "execution_count": 16,
   "id": "3cd09c93",
   "metadata": {},
   "outputs": [],
   "source": [
    "import matplotlib.pyplot as plt\n",
    "from PIL import Image"
   ]
  },
  {
   "cell_type": "code",
   "execution_count": 17,
   "id": "49cba13e",
   "metadata": {},
   "outputs": [
    {
     "name": "stdout",
     "output_type": "stream",
     "text": [
      " Volume in Laufwerk C: hat keine Bezeichnung.\n",
      " Volumeseriennummer: A055-9EBC\n",
      "\n",
      " Verzeichnis von C:\\Users\\jensm\\Desktop\\local\\GitHub\\copyandpaste\\Python_Libs\\pytorch\n",
      "\n",
      "10/25/2023  08:52 AM    <DIR>          .\n",
      "10/22/2023  04:01 AM    <DIR>          ..\n",
      "10/09/2023  05:51 PM    <DIR>          .ipynb_checkpoints\n",
      "07/28/2023  06:30 PM            21,675 imagenet-classes.txt\n",
      "08/21/2023  03:58 PM            37,215 pretrained_network.ipynb\n",
      "10/25/2023  08:52 AM             6,251 pretrained_network2.ipynb\n",
      "07/28/2023  06:18 PM           264,625 tiger.jpeg\n",
      "08/01/2023  11:50 AM           185,788 Unbenannt.jpg\n",
      "10/10/2023  11:06 PM             4,208 Untitled.ipynb\n",
      "               6 Datei(en),        519,762 Bytes\n",
      "               3 Verzeichnis(se), 126,567,321,600 Bytes frei\n"
     ]
    }
   ],
   "source": [
    "%ls"
   ]
  },
  {
   "cell_type": "code",
   "execution_count": 31,
   "id": "f0749340",
   "metadata": {},
   "outputs": [],
   "source": [
    "tiger = Image.open('unbenannt.jpg')\n",
    "tiger.show()"
   ]
  },
  {
   "cell_type": "code",
   "execution_count": 19,
   "id": "7272d88c",
   "metadata": {},
   "outputs": [
    {
     "data": {
      "text/plain": [
       "tensor([[[ 1.4269,  1.3755,  1.3584,  ..., -0.8849, -0.9705, -0.9877],\n",
       "         [ 1.3927,  1.3755,  1.3413,  ..., -0.9534, -1.0390, -1.0904],\n",
       "         [ 1.3755,  1.3584,  1.3242,  ..., -1.1932, -1.2617, -1.3130],\n",
       "         ...,\n",
       "         [ 1.5297,  1.5297,  1.5297,  ..., -0.5424, -0.5767, -0.1486],\n",
       "         [ 1.5468,  1.5297,  1.5297,  ..., -0.5253, -0.4397,  0.0569],\n",
       "         [ 1.5639,  1.5639,  1.5639,  ..., -0.4397, -0.1828,  0.1597]],\n",
       "\n",
       "        [[ 1.5707,  1.5182,  1.5007,  ..., -0.6527, -0.7052, -0.7227],\n",
       "         [ 1.5357,  1.5182,  1.4832,  ..., -0.6877, -0.7577, -0.7927],\n",
       "         [ 1.5182,  1.5007,  1.4832,  ..., -0.9153, -0.9678, -1.0203],\n",
       "         ...,\n",
       "         [ 1.7633,  1.7458,  1.7458,  ..., -0.7227, -0.7052, -0.1975],\n",
       "         [ 1.7633,  1.7633,  1.7633,  ..., -0.7052, -0.5651,  0.0301],\n",
       "         [ 1.7983,  1.7983,  1.7983,  ..., -0.6001, -0.2675,  0.1702]],\n",
       "\n",
       "        [[ 1.7511,  1.6988,  1.6814,  ..., -0.5495, -0.6018, -0.6018],\n",
       "         [ 1.7163,  1.6988,  1.6640,  ..., -0.6018, -0.6715, -0.7064],\n",
       "         [ 1.6988,  1.6814,  1.6640,  ..., -0.8981, -0.9504, -1.0027],\n",
       "         ...,\n",
       "         [ 2.0474,  2.0474,  2.0474,  ..., -0.8458, -0.7761, -0.1835],\n",
       "         [ 2.0474,  2.0474,  2.0474,  ..., -0.7587, -0.5670,  0.0779],\n",
       "         [ 2.0648,  2.0648,  2.0648,  ..., -0.6367, -0.2358,  0.2696]]])"
      ]
     },
     "execution_count": 19,
     "metadata": {},
     "output_type": "execute_result"
    }
   ],
   "source": [
    "tiger_proc = preprocess(tiger)\n",
    "tiger_proc"
   ]
  },
  {
   "cell_type": "code",
   "execution_count": 20,
   "id": "4408467b",
   "metadata": {},
   "outputs": [
    {
     "data": {
      "text/plain": [
       "tensor([[[[ 1.4269,  1.3755,  1.3584,  ..., -0.8849, -0.9705, -0.9877],\n",
       "          [ 1.3927,  1.3755,  1.3413,  ..., -0.9534, -1.0390, -1.0904],\n",
       "          [ 1.3755,  1.3584,  1.3242,  ..., -1.1932, -1.2617, -1.3130],\n",
       "          ...,\n",
       "          [ 1.5297,  1.5297,  1.5297,  ..., -0.5424, -0.5767, -0.1486],\n",
       "          [ 1.5468,  1.5297,  1.5297,  ..., -0.5253, -0.4397,  0.0569],\n",
       "          [ 1.5639,  1.5639,  1.5639,  ..., -0.4397, -0.1828,  0.1597]],\n",
       "\n",
       "         [[ 1.5707,  1.5182,  1.5007,  ..., -0.6527, -0.7052, -0.7227],\n",
       "          [ 1.5357,  1.5182,  1.4832,  ..., -0.6877, -0.7577, -0.7927],\n",
       "          [ 1.5182,  1.5007,  1.4832,  ..., -0.9153, -0.9678, -1.0203],\n",
       "          ...,\n",
       "          [ 1.7633,  1.7458,  1.7458,  ..., -0.7227, -0.7052, -0.1975],\n",
       "          [ 1.7633,  1.7633,  1.7633,  ..., -0.7052, -0.5651,  0.0301],\n",
       "          [ 1.7983,  1.7983,  1.7983,  ..., -0.6001, -0.2675,  0.1702]],\n",
       "\n",
       "         [[ 1.7511,  1.6988,  1.6814,  ..., -0.5495, -0.6018, -0.6018],\n",
       "          [ 1.7163,  1.6988,  1.6640,  ..., -0.6018, -0.6715, -0.7064],\n",
       "          [ 1.6988,  1.6814,  1.6640,  ..., -0.8981, -0.9504, -1.0027],\n",
       "          ...,\n",
       "          [ 2.0474,  2.0474,  2.0474,  ..., -0.8458, -0.7761, -0.1835],\n",
       "          [ 2.0474,  2.0474,  2.0474,  ..., -0.7587, -0.5670,  0.0779],\n",
       "          [ 2.0648,  2.0648,  2.0648,  ..., -0.6367, -0.2358,  0.2696]]]])"
      ]
     },
     "execution_count": 20,
     "metadata": {},
     "output_type": "execute_result"
    }
   ],
   "source": [
    "batch_t = torch.unsqueeze(tiger_proc, 0)\n",
    "batch_t"
   ]
  },
  {
   "cell_type": "code",
   "execution_count": 21,
   "id": "4ce60915",
   "metadata": {},
   "outputs": [],
   "source": [
    "#put the model in eval mode\n",
    "resnet.eval();"
   ]
  },
  {
   "cell_type": "code",
   "execution_count": 22,
   "id": "2ba58970",
   "metadata": {},
   "outputs": [
    {
     "data": {
      "text/plain": [
       "torch.Size([1, 1000])"
      ]
     },
     "execution_count": 22,
     "metadata": {},
     "output_type": "execute_result"
    }
   ],
   "source": [
    "#give him the picture(s)\n",
    "out = resnet(batch_t)\n",
    "out.shape"
   ]
  },
  {
   "cell_type": "code",
   "execution_count": 23,
   "id": "fb0a58e4",
   "metadata": {},
   "outputs": [],
   "source": [
    "#the output is a probability distribution over the imagenet-classes labels\n",
    "with open('imagenet-classes.txt') as f:\n",
    "    labels = [line.strip() for line in f.readlines()]"
   ]
  },
  {
   "cell_type": "code",
   "execution_count": 24,
   "id": "9249c112",
   "metadata": {},
   "outputs": [],
   "source": [
    "out.sort(descending=True);"
   ]
  },
  {
   "cell_type": "code",
   "execution_count": 25,
   "id": "999031c9",
   "metadata": {},
   "outputs": [],
   "source": [
    "_, index = torch.max(out, 1)"
   ]
  },
  {
   "cell_type": "code",
   "execution_count": 26,
   "id": "40fb20d4",
   "metadata": {},
   "outputs": [
    {
     "data": {
      "text/plain": [
       "tensor([[-1.7176e+00, -3.8202e-01, -2.8078e+00, -4.1648e+00, -2.3042e+00,\n",
       "         -1.8328e+00, -2.5803e+00,  5.7553e-01, -1.7552e+00, -2.1832e+00,\n",
       "         -2.4560e+00, -1.0163e+00, -3.5291e-01,  6.0226e-01, -9.5276e-02,\n",
       "         -2.2524e+00, -2.7776e-01, -7.8700e-01, -1.0157e+00,  7.3685e-01,\n",
       "         -2.6323e+00, -1.5862e+00, -7.3824e-01,  2.3604e-01, -1.2503e+00,\n",
       "         -2.7063e+00, -1.9109e+00,  1.6666e-01, -6.3919e-01, -1.5886e+00,\n",
       "         -2.3859e+00, -2.1289e+00, -4.1997e-01, -2.1135e+00, -2.2510e+00,\n",
       "         -2.0778e+00, -2.1951e-02, -1.3815e+00, -3.1352e+00, -2.6103e+00,\n",
       "         -1.6053e+00, -2.4895e+00, -2.4463e+00, -2.0250e+00, -1.4510e+00,\n",
       "         -2.3153e+00, -1.5572e+00, -4.3931e-01, -3.5847e+00, -4.0810e+00,\n",
       "         -3.8532e+00, -1.1860e+00,  1.0342e+00,  2.5150e-01,  1.3769e-01,\n",
       "         -1.0290e+00, -1.1792e+00, -1.0899e+00, -3.8423e+00, -7.5083e-01,\n",
       "         -1.1536e-01, -8.4224e-01, -3.6356e+00, -3.2159e+00, -2.5286e+00,\n",
       "         -3.1576e+00, -2.3051e+00, -1.7593e+00, -1.0247e+00, -1.4154e+00,\n",
       "         -2.8417e+00,  6.1537e-01, -2.2964e+00, -2.5598e+00, -1.5883e+00,\n",
       "         -4.8665e-01,  5.2706e-01, -2.4394e+00,  2.7556e+00, -6.6967e-01,\n",
       "         -1.1686e+00, -3.5705e+00, -1.6461e+00, -2.8009e+00, -8.1826e-01,\n",
       "         -1.8617e+00, -1.8087e+00,  1.4312e+00,  3.7229e-02, -1.4392e+00,\n",
       "          8.0687e-01, -1.1157e+00, -1.8229e+00, -6.4132e-01, -2.3974e+00,\n",
       "         -6.0152e-01, -8.2342e-02, -2.8550e+00, -2.3792e+00, -1.3965e+00,\n",
       "         -2.6407e+00, -3.1424e+00, -3.2105e-01,  5.0564e-01, -1.8036e+00,\n",
       "         -1.3263e-01, -1.4212e+00, -8.8094e-01, -2.0396e+00, -3.1909e+00,\n",
       "         -1.6364e+00, -4.4858e-01, -1.3050e-01,  1.7967e-01, -2.3617e+00,\n",
       "         -3.3356e+00, -3.6761e+00, -2.5777e-02, -7.9182e-01, -2.6628e+00,\n",
       "         -3.4573e+00, -2.1186e+00, -8.8766e-01, -2.0068e+00,  7.3353e-01,\n",
       "         -8.5803e-01, -2.1488e+00, -1.9974e+00, -2.9687e+00, -4.6494e+00,\n",
       "         -1.9614e+00, -1.1798e+00, -7.4368e-01, -9.6570e-01, -7.9484e-01,\n",
       "         -3.1757e+00, -2.9901e+00, -3.2816e+00, -2.5320e+00, -3.1047e+00,\n",
       "         -2.6062e+00, -2.2253e+00, -4.1474e+00, -1.5716e+00, -3.4470e+00,\n",
       "         -2.2234e+00, -3.2871e+00, -3.2399e+00, -5.9651e-01, -3.4519e+00,\n",
       "         -2.6516e+00,  1.1730e+00,  2.9031e-01,  5.2476e-02,  1.7692e+00,\n",
       "          1.7070e+00,  3.7645e+00,  1.4513e+00,  4.1593e-01, -2.4679e+00,\n",
       "          3.0888e+00, -1.1333e+00, -3.2132e-01, -8.3243e-01, -1.6198e+00,\n",
       "         -1.9026e+00, -2.2165e+00, -2.0828e+00, -2.3302e+00, -4.0805e-02,\n",
       "         -1.7548e+00, -3.8121e-01, -3.9957e-01, -2.5094e+00, -1.4075e+00,\n",
       "          5.1325e-01,  2.6829e+00, -3.2378e-02,  2.2158e-02, -2.4284e-01,\n",
       "         -2.3874e+00, -2.2056e-01, -8.8665e-01,  4.7083e-01,  3.9866e-01,\n",
       "          6.7332e-01, -6.7886e-01,  4.2997e+00, -2.5668e+00, -1.5846e+00,\n",
       "         -7.2590e-01, -1.0427e+00,  7.6119e-02,  2.6461e+00, -1.5474e+00,\n",
       "          4.3092e-01, -2.7691e-01,  1.3332e-01,  2.3491e-01, -1.4302e-01,\n",
       "         -1.1054e-01,  3.4423e+00,  5.8477e-01, -8.1379e-01,  2.3746e+00,\n",
       "          2.4410e-01, -1.2170e+00,  4.4611e-01, -1.5253e+00, -2.4647e+00,\n",
       "         -2.0741e+00,  5.6406e-01,  1.2016e-01,  2.7708e+00,  1.3910e+00,\n",
       "          1.3668e+00, -8.7267e-01,  2.2699e+00,  1.1205e+00,  1.0023e+00,\n",
       "          2.2438e+00, -5.6697e-01, -2.1819e+00,  7.1161e-03, -7.2624e-01,\n",
       "         -1.0904e+00,  2.4872e+00, -9.7098e-01, -1.9830e+00, -1.4399e+00,\n",
       "          4.9835e-01, -4.6258e-01, -3.8902e-01, -6.4841e-01, -1.6501e+00,\n",
       "         -2.5425e+00, -5.7790e-01, -1.0224e-01,  7.3210e-01, -1.1413e+00,\n",
       "          3.7478e-01,  3.5754e-01, -1.2945e+00, -5.0576e-01, -5.8304e-01,\n",
       "         -1.0976e+00, -7.6130e-01, -1.9499e+00,  3.0938e-01, -2.0908e+00,\n",
       "         -2.0366e-01, -9.1875e-01,  4.1997e-01, -2.8990e-01, -3.8127e-01,\n",
       "         -1.4811e+00, -6.8989e-01, -3.0163e+00, -2.7050e-01,  3.0562e-01,\n",
       "         -1.3593e+00, -1.7179e+00,  2.0779e-01,  1.5336e-01, -2.4059e+00,\n",
       "          1.5463e+00,  1.7145e+00,  1.4653e+00, -6.9710e-01, -3.6026e+00,\n",
       "         -2.7597e+00, -2.8641e+00, -2.8395e+00, -2.6080e+00, -4.2021e+00,\n",
       "         -3.8348e+00, -3.5743e+00, -2.8202e+00, -5.9417e+00, -1.3994e+00,\n",
       "         -3.2518e+00, -2.3775e-01, -1.1726e+00,  8.0372e-01, -3.9397e-01,\n",
       "         -1.4897e+00, -2.8741e+00, -3.1490e+00, -2.8939e+00, -4.3649e+00,\n",
       "         -3.1685e+00, -2.1337e+00, -2.8537e+00, -3.1857e+00, -3.2002e+00,\n",
       "         -3.5931e+00, -2.3611e+00, -1.5620e+00, -3.1169e+00, -1.4215e+00,\n",
       "         -6.1522e-01, -5.1794e-01,  6.8365e-01, -1.0687e+00, -2.5988e+00,\n",
       "          2.6011e+00, -8.8553e-01, -2.2229e-01, -2.4779e+00, -1.6361e+00,\n",
       "          4.1008e-01, -1.2579e+00, -1.0439e-01, -4.6712e-02,  1.3338e+00,\n",
       "         -4.1266e-01, -1.0456e+00, -2.1306e+00, -2.0990e+00, -2.5490e+00,\n",
       "         -1.8263e+00,  1.3375e-01,  1.0380e+00, -1.9312e+00, -1.1150e+00,\n",
       "         -1.8694e+00, -2.2013e+00, -1.5368e+00, -2.7543e+00, -3.3975e+00,\n",
       "         -9.6040e-01, -2.1409e+00, -4.6289e-01,  2.2295e-01,  1.1627e+00,\n",
       "         -6.6102e-01, -2.7962e+00, -1.1390e+00,  3.4030e+00,  8.1047e-01,\n",
       "         -4.7317e-01, -3.1994e+00, -3.4318e+00, -8.0650e-01, -3.9067e+00,\n",
       "         -3.1731e-01, -2.2723e+00, -2.5286e+00, -2.0505e+00, -3.1916e+00,\n",
       "         -2.6489e+00, -4.0357e+00, -2.4681e+00, -2.1398e+00, -2.3999e+00,\n",
       "          2.6800e-01, -4.8024e-02, -1.7258e+00,  1.5051e+00,  1.1724e+00,\n",
       "         -2.4378e+00,  1.2611e+00, -1.1263e+00, -4.5502e-01,  1.2232e-02,\n",
       "          1.4784e+00, -1.0673e+00,  1.1875e+00, -2.1400e-01, -5.0157e-02,\n",
       "          1.1654e+00, -6.2405e-01,  1.4928e-01,  2.7729e-01,  3.7081e+00,\n",
       "          3.3896e+00, -4.9988e-01,  2.2566e-01,  7.4725e-01,  8.6623e-01,\n",
       "         -7.9732e-02,  1.0653e+00,  5.1387e-01, -1.7785e+00, -2.7337e+00,\n",
       "         -1.3971e+00, -2.3884e+00, -2.1651e+00, -2.0467e+00, -1.5536e+00,\n",
       "         -3.1831e+00, -2.4173e+00, -1.8976e+00, -2.0557e+00, -3.0413e+00,\n",
       "         -2.7623e+00, -6.1662e+00, -2.0560e+00,  3.1634e+00,  2.0644e+00,\n",
       "          7.2580e+00,  3.0412e+00,  2.7247e+00, -3.8241e+00, -2.5092e+00,\n",
       "         -7.5333e-01, -3.4358e+00, -2.2564e+00, -3.2147e+00,  1.1991e+00,\n",
       "         -2.1290e+00,  4.0563e-02,  1.0127e+00,  2.4474e-01,  2.3725e+00,\n",
       "          2.7528e-02,  1.1470e+00,  4.1246e+00,  2.0179e+00,  4.5632e+00,\n",
       "          1.2994e+00,  1.7021e+00,  1.7475e+00,  1.5997e-01,  2.4039e+00,\n",
       "         -2.0385e+00,  5.8313e-01,  8.9012e-01, -3.1434e-01,  1.6383e+00,\n",
       "         -1.5681e+00, -1.7151e+00,  5.2995e+00,  4.5418e-01,  6.0983e-01,\n",
       "          2.7598e+00, -2.1758e+00, -1.3498e+00,  1.9027e+00,  4.4484e+00,\n",
       "          9.1677e-01, -1.1936e-01, -2.2414e+00, -2.1353e-01, -2.6598e+00,\n",
       "          2.6305e+00, -2.3365e-01,  5.0853e+00,  1.6023e+00, -3.0875e+00,\n",
       "         -1.7946e+00,  1.2583e+00,  4.3613e+00,  1.1778e+00,  1.3542e+00,\n",
       "          2.1797e+00,  3.0108e+00,  5.2902e+00, -1.2416e+00,  4.4539e+00,\n",
       "         -2.7736e+00,  1.8817e+00,  3.6177e+00,  2.4845e+00,  2.7497e+00,\n",
       "         -7.0192e-01, -2.3796e+00, -3.4039e+00, -3.6510e+00,  1.5091e+00,\n",
       "         -6.8070e-01, -1.6807e-01, -3.7911e+00,  1.8184e+00,  4.8175e+00,\n",
       "          1.5737e+00,  5.5152e-01,  1.0925e+00,  4.9048e-01, -1.5275e+00,\n",
       "          3.7205e+00,  1.8836e+00, -5.8652e-02, -1.7811e+00, -4.7999e+00,\n",
       "         -8.8122e-01,  3.9941e+00,  5.5548e+00,  3.2453e+00,  1.8559e+00,\n",
       "          3.3457e+00,  2.0051e+00, -5.2866e-01, -1.7244e+00,  2.5681e+00,\n",
       "         -1.5432e+00,  1.9028e+00, -2.0238e+00,  4.1605e-02,  3.3064e+00,\n",
       "         -2.0771e+00,  3.4268e+00,  2.5583e+00,  1.5970e+00,  4.2361e+00,\n",
       "          6.1707e-01,  4.7305e+00,  1.9444e+00, -5.8117e-01,  1.8212e+00,\n",
       "         -2.0270e+00, -1.3379e-01,  2.2642e+00,  1.7980e+00,  1.0101e+00,\n",
       "          4.5092e+00, -7.9526e-01, -7.1344e-01,  3.0354e+00, -5.0811e-01,\n",
       "         -1.7187e+00,  1.0747e+00,  1.5891e+00,  2.6758e+00,  1.3760e-01,\n",
       "         -2.0702e+00,  4.1351e-01, -1.5464e+00,  3.6684e+00,  1.0969e+00,\n",
       "          1.1462e+00,  1.7976e+00, -8.8105e-01, -8.4352e-01, -5.7114e-01,\n",
       "         -1.6918e+00, -3.3790e+00, -3.2445e+00,  2.8299e-01, -2.9920e-01,\n",
       "         -4.1671e+00,  2.0316e+00,  5.6700e+00,  4.3301e+00, -1.9290e+00,\n",
       "          9.9391e-01,  1.5057e+00, -4.2580e+00, -1.6601e+00, -7.1146e-01,\n",
       "          4.3325e-01,  6.0990e+00,  2.9287e+00,  7.1281e-01, -1.9497e+00,\n",
       "         -3.1216e+00, -3.9795e-01,  8.5423e-01,  5.6766e+00,  1.7707e+00,\n",
       "          6.7021e-01, -3.0400e+00,  1.6094e+00, -1.1897e-02, -2.0446e+00,\n",
       "         -3.7165e+00,  5.2816e+00,  2.1189e+00,  6.5237e+00, -1.1565e+00,\n",
       "          4.5545e+00, -1.6592e+00,  2.4143e+00, -1.9526e+00,  1.1493e+00,\n",
       "         -3.1808e-01, -3.3991e+00,  3.3142e+00,  1.7521e+00,  2.4677e+00,\n",
       "          8.1070e-01, -2.2802e+00, -4.9820e-01,  2.4748e+00,  8.5395e+00,\n",
       "          9.3235e+00, -2.8871e+00,  4.4873e+00, -5.3364e-01,  8.9447e+00,\n",
       "          2.9585e+00,  1.8683e+00, -1.1420e-03,  2.9100e+00,  3.7986e+00,\n",
       "         -3.4755e+00,  2.5331e+00, -3.8614e-01, -1.7020e+00,  2.2992e-01,\n",
       "          3.3279e+00,  1.9319e+00,  5.7918e-01, -1.5546e+00,  2.3145e+00,\n",
       "          3.4849e+00,  1.1087e+00, -1.1842e-01,  1.8838e+00, -3.7830e+00,\n",
       "          4.3655e+00,  2.8938e+00, -2.9546e+00,  2.3014e+00,  4.1700e+00,\n",
       "          1.9692e+00,  2.1354e+00,  5.0361e+00,  1.3789e+00, -2.3513e-01,\n",
       "          1.6494e+00, -1.1833e+00,  4.4488e+00, -9.0716e-02,  4.2153e+00,\n",
       "         -4.6030e+00,  1.4243e+00, -2.1688e+00, -1.6499e+00,  5.8402e+00,\n",
       "         -1.3166e-01,  2.3777e+00,  2.0558e+00,  5.4872e+00, -2.2742e+00,\n",
       "          2.7828e-01,  1.1916e+00,  2.1774e+00,  3.7942e+00,  2.1388e+00,\n",
       "         -2.4855e+00,  3.6521e+00,  2.9427e+00,  5.7107e+00,  1.1422e+00,\n",
       "          2.0453e+00,  1.5594e+00,  6.1099e-01,  3.0684e+00, -3.0752e-01,\n",
       "          5.5475e+00, -1.7065e+00,  2.8363e+00, -8.7155e-01, -1.0329e+00,\n",
       "          5.4722e+00, -2.3946e+00, -1.9057e+00,  3.7818e+00,  7.2395e-01,\n",
       "         -1.0767e+00, -1.0195e+00, -1.2921e-01, -1.6758e+00, -8.2075e-01,\n",
       "         -1.1226e+00,  1.3933e+00,  8.1874e+00, -5.2993e-01,  3.8057e-01,\n",
       "         -2.5684e-01, -2.9771e+00, -3.6483e+00,  1.6328e+00, -1.2196e-01,\n",
       "         -2.7666e+00,  1.0733e+00,  2.1885e+00,  4.9967e+00,  2.9188e+00,\n",
       "          2.9256e+00,  2.0033e+00, -1.9202e+00,  6.4120e+00,  1.6877e+00,\n",
       "         -5.3022e-01, -1.4602e+00, -1.0142e+00,  8.3961e-01,  1.9718e+00,\n",
       "         -2.8511e+00,  2.4542e+00, -9.2312e-01, -6.9257e-02, -2.4595e+00,\n",
       "          1.8118e+00,  6.1709e+00,  2.0491e+00, -9.2031e-01,  3.1788e+00,\n",
       "          2.6708e+00, -4.3898e-01, -1.1740e-02,  1.3885e+00,  3.5862e-02,\n",
       "         -3.1658e+00, -2.4530e+00,  2.1413e+00,  9.9338e-01, -1.3841e+00,\n",
       "          1.0568e+00,  2.4639e+00,  2.0187e+00,  1.3667e+00,  4.3277e+00,\n",
       "          2.9837e+00,  1.0241e+00, -3.2962e+00, -1.6962e+00,  1.5071e+00,\n",
       "          3.0932e+00,  1.5473e+00,  3.3269e+00,  3.8655e+00, -2.4708e+00,\n",
       "         -1.0990e+00,  5.5737e-01,  2.3401e+00,  1.1905e+00, -1.0424e+00,\n",
       "         -1.7624e+00,  5.3484e+00,  1.8024e+00,  3.4016e+00, -3.9429e+00,\n",
       "          3.6294e+00,  5.6238e-01,  1.0599e+00,  8.6773e-01,  4.2513e+00,\n",
       "          5.2029e+00,  2.2277e-01, -4.4942e-01,  1.8949e+00, -4.2623e-01,\n",
       "          1.9268e+00,  2.3530e+00,  2.3729e+00,  1.0095e+00,  2.9890e+00,\n",
       "         -1.0545e+00, -1.7172e+00,  2.0590e+00,  7.3632e-01,  6.8965e-01,\n",
       "          3.2996e-01,  1.6725e+00, -7.6275e-01,  4.3607e+00,  3.1472e+00,\n",
       "          9.6796e-01,  2.4977e+00,  3.9747e-01,  3.1707e+00,  2.6221e+00,\n",
       "          7.6732e-01, -1.9809e+00, -3.9592e-01, -1.2257e+00,  2.4366e+00,\n",
       "         -4.2311e-01,  6.2904e-01,  4.9039e+00,  2.7130e-01,  4.7680e-01,\n",
       "          7.0304e-01,  2.7946e+00, -1.0172e+00, -8.2375e-01, -1.1943e+00,\n",
       "         -2.1178e+00, -1.0022e+00, -2.3479e-01, -2.2967e-01,  2.9038e+00,\n",
       "          4.4650e+00,  2.0178e+00,  1.2321e+00,  9.5978e-01,  7.8985e-01,\n",
       "         -4.2743e-01, -2.3881e-01,  1.9335e+00,  3.4672e+00,  3.0722e+00,\n",
       "         -1.9536e+00,  4.6849e+00, -4.1872e-01,  3.5795e-01, -9.9142e-01,\n",
       "          5.9694e-01,  1.3072e+00, -2.7503e+00, -3.4621e+00,  2.8516e+00,\n",
       "          9.1054e-01,  1.8588e+00, -2.0491e-02,  4.9436e+00,  5.9740e-01,\n",
       "         -4.3641e-01, -1.2568e+00, -1.3828e+00,  4.3886e+00, -3.5451e+00,\n",
       "         -6.0751e-01,  3.5378e+00, -2.4082e+00,  4.7198e+00,  1.6987e+00,\n",
       "         -3.2594e+00, -3.8907e+00,  1.4067e+00,  5.5246e+00,  5.1130e+00,\n",
       "         -7.7591e-01,  3.1601e+00, -2.2039e+00,  3.7505e+00, -1.7344e+00,\n",
       "         -1.7469e+00, -1.7663e+00, -1.6313e+00, -3.2548e+00,  5.5413e+00,\n",
       "         -7.8471e-01,  5.0894e+00,  5.8278e+00,  3.6826e+00, -2.3739e+00,\n",
       "          1.8639e+00,  3.3632e+00, -7.7130e-01,  4.0338e+00,  7.5586e-01,\n",
       "          2.7241e+00, -8.6163e-01, -8.3793e-01,  1.0232e+00,  2.7210e-01,\n",
       "          2.1441e+00,  1.5958e+00,  8.5133e-01,  1.1772e-02,  1.2255e+00,\n",
       "          3.2138e+00, -1.9413e+00, -1.6456e+00, -1.2907e+00, -2.9966e-01,\n",
       "          6.9497e-01,  3.3403e+00,  6.0143e-01, -4.7632e-01, -2.8985e+00,\n",
       "          7.3414e-01, -5.6764e-01, -2.9875e+00,  9.9754e-01,  4.1563e+00,\n",
       "          4.0847e-01, -2.7802e+00,  1.7285e+00, -1.7303e+00, -3.0045e+00,\n",
       "          1.8603e+00,  2.7724e+00, -6.9600e-01, -5.2031e-01,  4.3157e+00,\n",
       "         -3.6337e-01,  2.5802e-01,  6.9592e-04,  6.7325e-01, -1.2614e+00,\n",
       "          5.6671e+00, -3.2887e-01, -7.1717e-01, -3.4498e+00,  5.8103e+00,\n",
       "          4.9215e-01,  3.8039e-01,  2.3412e+00,  6.1679e-01,  1.3269e+00,\n",
       "         -2.5408e+00,  1.6188e+00,  1.3891e+00,  2.0654e+00,  1.2819e+00,\n",
       "         -7.3361e-01, -1.3138e+00,  4.2718e+00,  1.4333e+01,  2.8118e+00,\n",
       "          4.8485e+00,  3.3177e+00,  4.6826e-01, -2.5400e+00,  1.5154e+00,\n",
       "          3.7916e+00,  7.7615e+00, -5.6456e-01, -4.3933e+00, -3.0693e+00,\n",
       "         -3.4734e+00,  2.9953e+00,  4.3073e-01,  3.2373e+00,  3.7669e-01,\n",
       "         -8.3315e-03,  9.7105e-01, -1.1907e+00,  9.4431e-01, -1.8277e+00,\n",
       "         -1.0314e+00,  7.9192e-01, -1.2491e-01, -3.0370e-01,  5.1835e+00,\n",
       "         -1.9898e+00, -2.1373e-01,  2.5163e+00, -3.5835e+00, -4.4779e-01,\n",
       "         -1.8005e+00, -3.1217e-01,  2.0188e+00,  1.1260e+00,  7.9076e-01,\n",
       "         -1.0412e+00, -6.0824e-01,  8.2478e-01, -7.9514e-01, -4.1746e-02,\n",
       "         -2.2186e+00, -1.7256e+00,  1.2834e+00,  1.8145e+00, -6.6244e-01,\n",
       "         -1.7075e+00, -1.8911e+00, -8.2893e-01, -3.8759e+00, -1.8688e+00,\n",
       "         -1.5904e+00, -2.4921e+00, -3.5278e+00,  3.3418e+00, -8.6695e-01,\n",
       "          1.3564e+00,  1.6460e+00, -2.3611e+00, -4.5084e-01, -1.4116e+00,\n",
       "         -9.6857e-01,  2.6458e+00,  3.6035e+00,  3.3075e+00,  1.5794e+00,\n",
       "         -1.5603e+00,  3.5716e+00, -2.4402e+00, -1.5902e+00, -1.1106e+00,\n",
       "         -1.0421e+00, -2.0103e+00, -1.9776e+00, -2.0206e+00, -3.0128e+00,\n",
       "         -1.3154e+00,  2.1546e+00,  2.7928e+00, -1.0331e+00,  2.8821e+00,\n",
       "         -3.7940e-01, -2.3634e+00,  1.2933e+00, -2.7228e-01, -2.0608e+00,\n",
       "         -1.0249e+00, -2.9524e+00, -2.3144e+00, -2.5129e+00, -2.9623e+00,\n",
       "         -1.0177e+00,  1.0468e+00, -1.1477e+00,  2.8908e+00,  1.8843e+00]],\n",
       "       grad_fn=<AddmmBackward0>)"
      ]
     },
     "execution_count": 26,
     "metadata": {},
     "output_type": "execute_result"
    }
   ],
   "source": [
    "out"
   ]
  },
  {
   "cell_type": "code",
   "execution_count": 27,
   "id": "fc5eac7d",
   "metadata": {},
   "outputs": [
    {
     "data": {
      "text/plain": [
       "('wig', tensor(0.9736, grad_fn=<SelectBackward0>))"
      ]
     },
     "execution_count": 27,
     "metadata": {},
     "output_type": "execute_result"
    }
   ],
   "source": [
    "percentage = torch.nn.functional.softmax(out, dim=1)[0]\n",
    "labels[index[0]], percentage[index[0]]"
   ]
  },
  {
   "cell_type": "code",
   "execution_count": 28,
   "id": "2048a61a",
   "metadata": {},
   "outputs": [],
   "source": [
    "#labels"
   ]
  },
  {
   "cell_type": "code",
   "execution_count": 29,
   "id": "a6565531",
   "metadata": {},
   "outputs": [
    {
     "data": {
      "text/plain": [
       "[('wig', 0.973638117313385),\n",
       " ('hair spray', 0.006498284637928009),\n",
       " ('hand blower, blow dryer, blow drier, hair dryer, hair drier',\n",
       "  0.0044490862637758255),\n",
       " ('hair slide', 0.0029669145587831736),\n",
       " ('mortarboard', 0.002086340682581067)]"
      ]
     },
     "execution_count": 29,
     "metadata": {},
     "output_type": "execute_result"
    }
   ],
   "source": [
    "_, indices = torch.sort(out, descending=True)\n",
    "[(labels[idx], percentage[idx].item()) for idx in indices[0][:5]]"
   ]
  },
  {
   "cell_type": "code",
   "execution_count": null,
   "id": "8fa7b546",
   "metadata": {},
   "outputs": [],
   "source": []
  },
  {
   "cell_type": "code",
   "execution_count": null,
   "id": "070bc2b1",
   "metadata": {},
   "outputs": [],
   "source": []
  }
 ],
 "metadata": {
  "kernelspec": {
   "display_name": "Python 3 (ipykernel)",
   "language": "python",
   "name": "python3"
  },
  "language_info": {
   "codemirror_mode": {
    "name": "ipython",
    "version": 3
   },
   "file_extension": ".py",
   "mimetype": "text/x-python",
   "name": "python",
   "nbconvert_exporter": "python",
   "pygments_lexer": "ipython3",
   "version": "3.11.5"
  }
 },
 "nbformat": 4,
 "nbformat_minor": 5
}
