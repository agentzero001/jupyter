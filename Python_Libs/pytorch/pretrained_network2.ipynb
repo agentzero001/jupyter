{
 "cells": [
  {
   "cell_type": "code",
   "execution_count": 35,
   "id": "07e379b1",
   "metadata": {},
   "outputs": [],
   "source": [
    "import torch\n",
    "from torch import Tensor as T"
   ]
  },
  {
   "cell_type": "code",
   "execution_count": 36,
   "id": "72bf249d",
   "metadata": {},
   "outputs": [
    {
     "data": {
      "text/plain": [
       "torch.Tensor"
      ]
     },
     "execution_count": 36,
     "metadata": {},
     "output_type": "execute_result"
    }
   ],
   "source": [
    "type(torch.ones(3))"
   ]
  },
  {
   "cell_type": "code",
   "execution_count": 37,
   "id": "01f72a48",
   "metadata": {},
   "outputs": [
    {
     "data": {
      "text/plain": [
       "tensor([[1., 2.],\n",
       "        [3., 4.]])"
      ]
     },
     "execution_count": 37,
     "metadata": {},
     "output_type": "execute_result"
    }
   ],
   "source": [
    "T([1,2,3,4]).reshape(2,2)"
   ]
  },
  {
   "cell_type": "code",
   "execution_count": 38,
   "id": "2c23c352",
   "metadata": {},
   "outputs": [
    {
     "data": {
      "text/plain": [
       "tensor([1.])"
      ]
     },
     "execution_count": 38,
     "metadata": {},
     "output_type": "execute_result"
    }
   ],
   "source": [
    "torch.tan(T([torch.pi/4]))"
   ]
  },
  {
   "cell_type": "code",
   "execution_count": 39,
   "id": "a0a6cb39",
   "metadata": {},
   "outputs": [],
   "source": [
    "from torchvision import models\n",
    "from torchvision import transforms"
   ]
  },
  {
   "cell_type": "code",
   "execution_count": 40,
   "id": "0ba05828",
   "metadata": {},
   "outputs": [],
   "source": [
    "#dir(models)"
   ]
  },
  {
   "cell_type": "code",
   "execution_count": 41,
   "id": "6a9af14b",
   "metadata": {
    "scrolled": true
   },
   "outputs": [
    {
     "name": "stderr",
     "output_type": "stream",
     "text": [
      "C:\\Users\\jensm\\AppData\\Local\\Programs\\Python\\Python311\\Lib\\site-packages\\torchvision\\models\\_utils.py:208: UserWarning: The parameter 'pretrained' is deprecated since 0.13 and may be removed in the future, please use 'weights' instead.\n",
      "  warnings.warn(\n",
      "C:\\Users\\jensm\\AppData\\Local\\Programs\\Python\\Python311\\Lib\\site-packages\\torchvision\\models\\_utils.py:223: UserWarning: Arguments other than a weight enum or `None` for 'weights' are deprecated since 0.13 and may be removed in the future. The current behavior is equivalent to passing `weights=ResNet101_Weights.IMAGENET1K_V1`. You can also use `weights=ResNet101_Weights.DEFAULT` to get the most up-to-date weights.\n",
      "  warnings.warn(msg)\n"
     ]
    }
   ],
   "source": [
    "#alexnet = models.AlexNet()\n",
    "resnet = models.resnet101(pretrained=True)"
   ]
  },
  {
   "cell_type": "code",
   "execution_count": 42,
   "id": "ac32fb3d",
   "metadata": {},
   "outputs": [
    {
     "data": {
      "text/plain": [
       "ResNet(\n",
       "  (conv1): Conv2d(3, 64, kernel_size=(7, 7), stride=(2, 2), padding=(3, 3), bias=False)\n",
       "  (bn1): BatchNorm2d(64, eps=1e-05, momentum=0.1, affine=True, track_running_stats=True)\n",
       "  (relu): ReLU(inplace=True)\n",
       "  (maxpool): MaxPool2d(kernel_size=3, stride=2, padding=1, dilation=1, ceil_mode=False)\n",
       "  (layer1): Sequential(\n",
       "    (0): Bottleneck(\n",
       "      (conv1): Conv2d(64, 64, kernel_size=(1, 1), stride=(1, 1), bias=False)\n",
       "      (bn1): BatchNorm2d(64, eps=1e-05, momentum=0.1, affine=True, track_running_stats=True)\n",
       "      (conv2): Conv2d(64, 64, kernel_size=(3, 3), stride=(1, 1), padding=(1, 1), bias=False)\n",
       "      (bn2): BatchNorm2d(64, eps=1e-05, momentum=0.1, affine=True, track_running_stats=True)\n",
       "      (conv3): Conv2d(64, 256, kernel_size=(1, 1), stride=(1, 1), bias=False)\n",
       "      (bn3): BatchNorm2d(256, eps=1e-05, momentum=0.1, affine=True, track_running_stats=True)\n",
       "      (relu): ReLU(inplace=True)\n",
       "      (downsample): Sequential(\n",
       "        (0): Conv2d(64, 256, kernel_size=(1, 1), stride=(1, 1), bias=False)\n",
       "        (1): BatchNorm2d(256, eps=1e-05, momentum=0.1, affine=True, track_running_stats=True)\n",
       "      )\n",
       "    )\n",
       "    (1): Bottleneck(\n",
       "      (conv1): Conv2d(256, 64, kernel_size=(1, 1), stride=(1, 1), bias=False)\n",
       "      (bn1): BatchNorm2d(64, eps=1e-05, momentum=0.1, affine=True, track_running_stats=True)\n",
       "      (conv2): Conv2d(64, 64, kernel_size=(3, 3), stride=(1, 1), padding=(1, 1), bias=False)\n",
       "      (bn2): BatchNorm2d(64, eps=1e-05, momentum=0.1, affine=True, track_running_stats=True)\n",
       "      (conv3): Conv2d(64, 256, kernel_size=(1, 1), stride=(1, 1), bias=False)\n",
       "      (bn3): BatchNorm2d(256, eps=1e-05, momentum=0.1, affine=True, track_running_stats=True)\n",
       "      (relu): ReLU(inplace=True)\n",
       "    )\n",
       "    (2): Bottleneck(\n",
       "      (conv1): Conv2d(256, 64, kernel_size=(1, 1), stride=(1, 1), bias=False)\n",
       "      (bn1): BatchNorm2d(64, eps=1e-05, momentum=0.1, affine=True, track_running_stats=True)\n",
       "      (conv2): Conv2d(64, 64, kernel_size=(3, 3), stride=(1, 1), padding=(1, 1), bias=False)\n",
       "      (bn2): BatchNorm2d(64, eps=1e-05, momentum=0.1, affine=True, track_running_stats=True)\n",
       "      (conv3): Conv2d(64, 256, kernel_size=(1, 1), stride=(1, 1), bias=False)\n",
       "      (bn3): BatchNorm2d(256, eps=1e-05, momentum=0.1, affine=True, track_running_stats=True)\n",
       "      (relu): ReLU(inplace=True)\n",
       "    )\n",
       "  )\n",
       "  (layer2): Sequential(\n",
       "    (0): Bottleneck(\n",
       "      (conv1): Conv2d(256, 128, kernel_size=(1, 1), stride=(1, 1), bias=False)\n",
       "      (bn1): BatchNorm2d(128, eps=1e-05, momentum=0.1, affine=True, track_running_stats=True)\n",
       "      (conv2): Conv2d(128, 128, kernel_size=(3, 3), stride=(2, 2), padding=(1, 1), bias=False)\n",
       "      (bn2): BatchNorm2d(128, eps=1e-05, momentum=0.1, affine=True, track_running_stats=True)\n",
       "      (conv3): Conv2d(128, 512, kernel_size=(1, 1), stride=(1, 1), bias=False)\n",
       "      (bn3): BatchNorm2d(512, eps=1e-05, momentum=0.1, affine=True, track_running_stats=True)\n",
       "      (relu): ReLU(inplace=True)\n",
       "      (downsample): Sequential(\n",
       "        (0): Conv2d(256, 512, kernel_size=(1, 1), stride=(2, 2), bias=False)\n",
       "        (1): BatchNorm2d(512, eps=1e-05, momentum=0.1, affine=True, track_running_stats=True)\n",
       "      )\n",
       "    )\n",
       "    (1): Bottleneck(\n",
       "      (conv1): Conv2d(512, 128, kernel_size=(1, 1), stride=(1, 1), bias=False)\n",
       "      (bn1): BatchNorm2d(128, eps=1e-05, momentum=0.1, affine=True, track_running_stats=True)\n",
       "      (conv2): Conv2d(128, 128, kernel_size=(3, 3), stride=(1, 1), padding=(1, 1), bias=False)\n",
       "      (bn2): BatchNorm2d(128, eps=1e-05, momentum=0.1, affine=True, track_running_stats=True)\n",
       "      (conv3): Conv2d(128, 512, kernel_size=(1, 1), stride=(1, 1), bias=False)\n",
       "      (bn3): BatchNorm2d(512, eps=1e-05, momentum=0.1, affine=True, track_running_stats=True)\n",
       "      (relu): ReLU(inplace=True)\n",
       "    )\n",
       "    (2): Bottleneck(\n",
       "      (conv1): Conv2d(512, 128, kernel_size=(1, 1), stride=(1, 1), bias=False)\n",
       "      (bn1): BatchNorm2d(128, eps=1e-05, momentum=0.1, affine=True, track_running_stats=True)\n",
       "      (conv2): Conv2d(128, 128, kernel_size=(3, 3), stride=(1, 1), padding=(1, 1), bias=False)\n",
       "      (bn2): BatchNorm2d(128, eps=1e-05, momentum=0.1, affine=True, track_running_stats=True)\n",
       "      (conv3): Conv2d(128, 512, kernel_size=(1, 1), stride=(1, 1), bias=False)\n",
       "      (bn3): BatchNorm2d(512, eps=1e-05, momentum=0.1, affine=True, track_running_stats=True)\n",
       "      (relu): ReLU(inplace=True)\n",
       "    )\n",
       "    (3): Bottleneck(\n",
       "      (conv1): Conv2d(512, 128, kernel_size=(1, 1), stride=(1, 1), bias=False)\n",
       "      (bn1): BatchNorm2d(128, eps=1e-05, momentum=0.1, affine=True, track_running_stats=True)\n",
       "      (conv2): Conv2d(128, 128, kernel_size=(3, 3), stride=(1, 1), padding=(1, 1), bias=False)\n",
       "      (bn2): BatchNorm2d(128, eps=1e-05, momentum=0.1, affine=True, track_running_stats=True)\n",
       "      (conv3): Conv2d(128, 512, kernel_size=(1, 1), stride=(1, 1), bias=False)\n",
       "      (bn3): BatchNorm2d(512, eps=1e-05, momentum=0.1, affine=True, track_running_stats=True)\n",
       "      (relu): ReLU(inplace=True)\n",
       "    )\n",
       "  )\n",
       "  (layer3): Sequential(\n",
       "    (0): Bottleneck(\n",
       "      (conv1): Conv2d(512, 256, kernel_size=(1, 1), stride=(1, 1), bias=False)\n",
       "      (bn1): BatchNorm2d(256, eps=1e-05, momentum=0.1, affine=True, track_running_stats=True)\n",
       "      (conv2): Conv2d(256, 256, kernel_size=(3, 3), stride=(2, 2), padding=(1, 1), bias=False)\n",
       "      (bn2): BatchNorm2d(256, eps=1e-05, momentum=0.1, affine=True, track_running_stats=True)\n",
       "      (conv3): Conv2d(256, 1024, kernel_size=(1, 1), stride=(1, 1), bias=False)\n",
       "      (bn3): BatchNorm2d(1024, eps=1e-05, momentum=0.1, affine=True, track_running_stats=True)\n",
       "      (relu): ReLU(inplace=True)\n",
       "      (downsample): Sequential(\n",
       "        (0): Conv2d(512, 1024, kernel_size=(1, 1), stride=(2, 2), bias=False)\n",
       "        (1): BatchNorm2d(1024, eps=1e-05, momentum=0.1, affine=True, track_running_stats=True)\n",
       "      )\n",
       "    )\n",
       "    (1): Bottleneck(\n",
       "      (conv1): Conv2d(1024, 256, kernel_size=(1, 1), stride=(1, 1), bias=False)\n",
       "      (bn1): BatchNorm2d(256, eps=1e-05, momentum=0.1, affine=True, track_running_stats=True)\n",
       "      (conv2): Conv2d(256, 256, kernel_size=(3, 3), stride=(1, 1), padding=(1, 1), bias=False)\n",
       "      (bn2): BatchNorm2d(256, eps=1e-05, momentum=0.1, affine=True, track_running_stats=True)\n",
       "      (conv3): Conv2d(256, 1024, kernel_size=(1, 1), stride=(1, 1), bias=False)\n",
       "      (bn3): BatchNorm2d(1024, eps=1e-05, momentum=0.1, affine=True, track_running_stats=True)\n",
       "      (relu): ReLU(inplace=True)\n",
       "    )\n",
       "    (2): Bottleneck(\n",
       "      (conv1): Conv2d(1024, 256, kernel_size=(1, 1), stride=(1, 1), bias=False)\n",
       "      (bn1): BatchNorm2d(256, eps=1e-05, momentum=0.1, affine=True, track_running_stats=True)\n",
       "      (conv2): Conv2d(256, 256, kernel_size=(3, 3), stride=(1, 1), padding=(1, 1), bias=False)\n",
       "      (bn2): BatchNorm2d(256, eps=1e-05, momentum=0.1, affine=True, track_running_stats=True)\n",
       "      (conv3): Conv2d(256, 1024, kernel_size=(1, 1), stride=(1, 1), bias=False)\n",
       "      (bn3): BatchNorm2d(1024, eps=1e-05, momentum=0.1, affine=True, track_running_stats=True)\n",
       "      (relu): ReLU(inplace=True)\n",
       "    )\n",
       "    (3): Bottleneck(\n",
       "      (conv1): Conv2d(1024, 256, kernel_size=(1, 1), stride=(1, 1), bias=False)\n",
       "      (bn1): BatchNorm2d(256, eps=1e-05, momentum=0.1, affine=True, track_running_stats=True)\n",
       "      (conv2): Conv2d(256, 256, kernel_size=(3, 3), stride=(1, 1), padding=(1, 1), bias=False)\n",
       "      (bn2): BatchNorm2d(256, eps=1e-05, momentum=0.1, affine=True, track_running_stats=True)\n",
       "      (conv3): Conv2d(256, 1024, kernel_size=(1, 1), stride=(1, 1), bias=False)\n",
       "      (bn3): BatchNorm2d(1024, eps=1e-05, momentum=0.1, affine=True, track_running_stats=True)\n",
       "      (relu): ReLU(inplace=True)\n",
       "    )\n",
       "    (4): Bottleneck(\n",
       "      (conv1): Conv2d(1024, 256, kernel_size=(1, 1), stride=(1, 1), bias=False)\n",
       "      (bn1): BatchNorm2d(256, eps=1e-05, momentum=0.1, affine=True, track_running_stats=True)\n",
       "      (conv2): Conv2d(256, 256, kernel_size=(3, 3), stride=(1, 1), padding=(1, 1), bias=False)\n",
       "      (bn2): BatchNorm2d(256, eps=1e-05, momentum=0.1, affine=True, track_running_stats=True)\n",
       "      (conv3): Conv2d(256, 1024, kernel_size=(1, 1), stride=(1, 1), bias=False)\n",
       "      (bn3): BatchNorm2d(1024, eps=1e-05, momentum=0.1, affine=True, track_running_stats=True)\n",
       "      (relu): ReLU(inplace=True)\n",
       "    )\n",
       "    (5): Bottleneck(\n",
       "      (conv1): Conv2d(1024, 256, kernel_size=(1, 1), stride=(1, 1), bias=False)\n",
       "      (bn1): BatchNorm2d(256, eps=1e-05, momentum=0.1, affine=True, track_running_stats=True)\n",
       "      (conv2): Conv2d(256, 256, kernel_size=(3, 3), stride=(1, 1), padding=(1, 1), bias=False)\n",
       "      (bn2): BatchNorm2d(256, eps=1e-05, momentum=0.1, affine=True, track_running_stats=True)\n",
       "      (conv3): Conv2d(256, 1024, kernel_size=(1, 1), stride=(1, 1), bias=False)\n",
       "      (bn3): BatchNorm2d(1024, eps=1e-05, momentum=0.1, affine=True, track_running_stats=True)\n",
       "      (relu): ReLU(inplace=True)\n",
       "    )\n",
       "    (6): Bottleneck(\n",
       "      (conv1): Conv2d(1024, 256, kernel_size=(1, 1), stride=(1, 1), bias=False)\n",
       "      (bn1): BatchNorm2d(256, eps=1e-05, momentum=0.1, affine=True, track_running_stats=True)\n",
       "      (conv2): Conv2d(256, 256, kernel_size=(3, 3), stride=(1, 1), padding=(1, 1), bias=False)\n",
       "      (bn2): BatchNorm2d(256, eps=1e-05, momentum=0.1, affine=True, track_running_stats=True)\n",
       "      (conv3): Conv2d(256, 1024, kernel_size=(1, 1), stride=(1, 1), bias=False)\n",
       "      (bn3): BatchNorm2d(1024, eps=1e-05, momentum=0.1, affine=True, track_running_stats=True)\n",
       "      (relu): ReLU(inplace=True)\n",
       "    )\n",
       "    (7): Bottleneck(\n",
       "      (conv1): Conv2d(1024, 256, kernel_size=(1, 1), stride=(1, 1), bias=False)\n",
       "      (bn1): BatchNorm2d(256, eps=1e-05, momentum=0.1, affine=True, track_running_stats=True)\n",
       "      (conv2): Conv2d(256, 256, kernel_size=(3, 3), stride=(1, 1), padding=(1, 1), bias=False)\n",
       "      (bn2): BatchNorm2d(256, eps=1e-05, momentum=0.1, affine=True, track_running_stats=True)\n",
       "      (conv3): Conv2d(256, 1024, kernel_size=(1, 1), stride=(1, 1), bias=False)\n",
       "      (bn3): BatchNorm2d(1024, eps=1e-05, momentum=0.1, affine=True, track_running_stats=True)\n",
       "      (relu): ReLU(inplace=True)\n",
       "    )\n",
       "    (8): Bottleneck(\n",
       "      (conv1): Conv2d(1024, 256, kernel_size=(1, 1), stride=(1, 1), bias=False)\n",
       "      (bn1): BatchNorm2d(256, eps=1e-05, momentum=0.1, affine=True, track_running_stats=True)\n",
       "      (conv2): Conv2d(256, 256, kernel_size=(3, 3), stride=(1, 1), padding=(1, 1), bias=False)\n",
       "      (bn2): BatchNorm2d(256, eps=1e-05, momentum=0.1, affine=True, track_running_stats=True)\n",
       "      (conv3): Conv2d(256, 1024, kernel_size=(1, 1), stride=(1, 1), bias=False)\n",
       "      (bn3): BatchNorm2d(1024, eps=1e-05, momentum=0.1, affine=True, track_running_stats=True)\n",
       "      (relu): ReLU(inplace=True)\n",
       "    )\n",
       "    (9): Bottleneck(\n",
       "      (conv1): Conv2d(1024, 256, kernel_size=(1, 1), stride=(1, 1), bias=False)\n",
       "      (bn1): BatchNorm2d(256, eps=1e-05, momentum=0.1, affine=True, track_running_stats=True)\n",
       "      (conv2): Conv2d(256, 256, kernel_size=(3, 3), stride=(1, 1), padding=(1, 1), bias=False)\n",
       "      (bn2): BatchNorm2d(256, eps=1e-05, momentum=0.1, affine=True, track_running_stats=True)\n",
       "      (conv3): Conv2d(256, 1024, kernel_size=(1, 1), stride=(1, 1), bias=False)\n",
       "      (bn3): BatchNorm2d(1024, eps=1e-05, momentum=0.1, affine=True, track_running_stats=True)\n",
       "      (relu): ReLU(inplace=True)\n",
       "    )\n",
       "    (10): Bottleneck(\n",
       "      (conv1): Conv2d(1024, 256, kernel_size=(1, 1), stride=(1, 1), bias=False)\n",
       "      (bn1): BatchNorm2d(256, eps=1e-05, momentum=0.1, affine=True, track_running_stats=True)\n",
       "      (conv2): Conv2d(256, 256, kernel_size=(3, 3), stride=(1, 1), padding=(1, 1), bias=False)\n",
       "      (bn2): BatchNorm2d(256, eps=1e-05, momentum=0.1, affine=True, track_running_stats=True)\n",
       "      (conv3): Conv2d(256, 1024, kernel_size=(1, 1), stride=(1, 1), bias=False)\n",
       "      (bn3): BatchNorm2d(1024, eps=1e-05, momentum=0.1, affine=True, track_running_stats=True)\n",
       "      (relu): ReLU(inplace=True)\n",
       "    )\n",
       "    (11): Bottleneck(\n",
       "      (conv1): Conv2d(1024, 256, kernel_size=(1, 1), stride=(1, 1), bias=False)\n",
       "      (bn1): BatchNorm2d(256, eps=1e-05, momentum=0.1, affine=True, track_running_stats=True)\n",
       "      (conv2): Conv2d(256, 256, kernel_size=(3, 3), stride=(1, 1), padding=(1, 1), bias=False)\n",
       "      (bn2): BatchNorm2d(256, eps=1e-05, momentum=0.1, affine=True, track_running_stats=True)\n",
       "      (conv3): Conv2d(256, 1024, kernel_size=(1, 1), stride=(1, 1), bias=False)\n",
       "      (bn3): BatchNorm2d(1024, eps=1e-05, momentum=0.1, affine=True, track_running_stats=True)\n",
       "      (relu): ReLU(inplace=True)\n",
       "    )\n",
       "    (12): Bottleneck(\n",
       "      (conv1): Conv2d(1024, 256, kernel_size=(1, 1), stride=(1, 1), bias=False)\n",
       "      (bn1): BatchNorm2d(256, eps=1e-05, momentum=0.1, affine=True, track_running_stats=True)\n",
       "      (conv2): Conv2d(256, 256, kernel_size=(3, 3), stride=(1, 1), padding=(1, 1), bias=False)\n",
       "      (bn2): BatchNorm2d(256, eps=1e-05, momentum=0.1, affine=True, track_running_stats=True)\n",
       "      (conv3): Conv2d(256, 1024, kernel_size=(1, 1), stride=(1, 1), bias=False)\n",
       "      (bn3): BatchNorm2d(1024, eps=1e-05, momentum=0.1, affine=True, track_running_stats=True)\n",
       "      (relu): ReLU(inplace=True)\n",
       "    )\n",
       "    (13): Bottleneck(\n",
       "      (conv1): Conv2d(1024, 256, kernel_size=(1, 1), stride=(1, 1), bias=False)\n",
       "      (bn1): BatchNorm2d(256, eps=1e-05, momentum=0.1, affine=True, track_running_stats=True)\n",
       "      (conv2): Conv2d(256, 256, kernel_size=(3, 3), stride=(1, 1), padding=(1, 1), bias=False)\n",
       "      (bn2): BatchNorm2d(256, eps=1e-05, momentum=0.1, affine=True, track_running_stats=True)\n",
       "      (conv3): Conv2d(256, 1024, kernel_size=(1, 1), stride=(1, 1), bias=False)\n",
       "      (bn3): BatchNorm2d(1024, eps=1e-05, momentum=0.1, affine=True, track_running_stats=True)\n",
       "      (relu): ReLU(inplace=True)\n",
       "    )\n",
       "    (14): Bottleneck(\n",
       "      (conv1): Conv2d(1024, 256, kernel_size=(1, 1), stride=(1, 1), bias=False)\n",
       "      (bn1): BatchNorm2d(256, eps=1e-05, momentum=0.1, affine=True, track_running_stats=True)\n",
       "      (conv2): Conv2d(256, 256, kernel_size=(3, 3), stride=(1, 1), padding=(1, 1), bias=False)\n",
       "      (bn2): BatchNorm2d(256, eps=1e-05, momentum=0.1, affine=True, track_running_stats=True)\n",
       "      (conv3): Conv2d(256, 1024, kernel_size=(1, 1), stride=(1, 1), bias=False)\n",
       "      (bn3): BatchNorm2d(1024, eps=1e-05, momentum=0.1, affine=True, track_running_stats=True)\n",
       "      (relu): ReLU(inplace=True)\n",
       "    )\n",
       "    (15): Bottleneck(\n",
       "      (conv1): Conv2d(1024, 256, kernel_size=(1, 1), stride=(1, 1), bias=False)\n",
       "      (bn1): BatchNorm2d(256, eps=1e-05, momentum=0.1, affine=True, track_running_stats=True)\n",
       "      (conv2): Conv2d(256, 256, kernel_size=(3, 3), stride=(1, 1), padding=(1, 1), bias=False)\n",
       "      (bn2): BatchNorm2d(256, eps=1e-05, momentum=0.1, affine=True, track_running_stats=True)\n",
       "      (conv3): Conv2d(256, 1024, kernel_size=(1, 1), stride=(1, 1), bias=False)\n",
       "      (bn3): BatchNorm2d(1024, eps=1e-05, momentum=0.1, affine=True, track_running_stats=True)\n",
       "      (relu): ReLU(inplace=True)\n",
       "    )\n",
       "    (16): Bottleneck(\n",
       "      (conv1): Conv2d(1024, 256, kernel_size=(1, 1), stride=(1, 1), bias=False)\n",
       "      (bn1): BatchNorm2d(256, eps=1e-05, momentum=0.1, affine=True, track_running_stats=True)\n",
       "      (conv2): Conv2d(256, 256, kernel_size=(3, 3), stride=(1, 1), padding=(1, 1), bias=False)\n",
       "      (bn2): BatchNorm2d(256, eps=1e-05, momentum=0.1, affine=True, track_running_stats=True)\n",
       "      (conv3): Conv2d(256, 1024, kernel_size=(1, 1), stride=(1, 1), bias=False)\n",
       "      (bn3): BatchNorm2d(1024, eps=1e-05, momentum=0.1, affine=True, track_running_stats=True)\n",
       "      (relu): ReLU(inplace=True)\n",
       "    )\n",
       "    (17): Bottleneck(\n",
       "      (conv1): Conv2d(1024, 256, kernel_size=(1, 1), stride=(1, 1), bias=False)\n",
       "      (bn1): BatchNorm2d(256, eps=1e-05, momentum=0.1, affine=True, track_running_stats=True)\n",
       "      (conv2): Conv2d(256, 256, kernel_size=(3, 3), stride=(1, 1), padding=(1, 1), bias=False)\n",
       "      (bn2): BatchNorm2d(256, eps=1e-05, momentum=0.1, affine=True, track_running_stats=True)\n",
       "      (conv3): Conv2d(256, 1024, kernel_size=(1, 1), stride=(1, 1), bias=False)\n",
       "      (bn3): BatchNorm2d(1024, eps=1e-05, momentum=0.1, affine=True, track_running_stats=True)\n",
       "      (relu): ReLU(inplace=True)\n",
       "    )\n",
       "    (18): Bottleneck(\n",
       "      (conv1): Conv2d(1024, 256, kernel_size=(1, 1), stride=(1, 1), bias=False)\n",
       "      (bn1): BatchNorm2d(256, eps=1e-05, momentum=0.1, affine=True, track_running_stats=True)\n",
       "      (conv2): Conv2d(256, 256, kernel_size=(3, 3), stride=(1, 1), padding=(1, 1), bias=False)\n",
       "      (bn2): BatchNorm2d(256, eps=1e-05, momentum=0.1, affine=True, track_running_stats=True)\n",
       "      (conv3): Conv2d(256, 1024, kernel_size=(1, 1), stride=(1, 1), bias=False)\n",
       "      (bn3): BatchNorm2d(1024, eps=1e-05, momentum=0.1, affine=True, track_running_stats=True)\n",
       "      (relu): ReLU(inplace=True)\n",
       "    )\n",
       "    (19): Bottleneck(\n",
       "      (conv1): Conv2d(1024, 256, kernel_size=(1, 1), stride=(1, 1), bias=False)\n",
       "      (bn1): BatchNorm2d(256, eps=1e-05, momentum=0.1, affine=True, track_running_stats=True)\n",
       "      (conv2): Conv2d(256, 256, kernel_size=(3, 3), stride=(1, 1), padding=(1, 1), bias=False)\n",
       "      (bn2): BatchNorm2d(256, eps=1e-05, momentum=0.1, affine=True, track_running_stats=True)\n",
       "      (conv3): Conv2d(256, 1024, kernel_size=(1, 1), stride=(1, 1), bias=False)\n",
       "      (bn3): BatchNorm2d(1024, eps=1e-05, momentum=0.1, affine=True, track_running_stats=True)\n",
       "      (relu): ReLU(inplace=True)\n",
       "    )\n",
       "    (20): Bottleneck(\n",
       "      (conv1): Conv2d(1024, 256, kernel_size=(1, 1), stride=(1, 1), bias=False)\n",
       "      (bn1): BatchNorm2d(256, eps=1e-05, momentum=0.1, affine=True, track_running_stats=True)\n",
       "      (conv2): Conv2d(256, 256, kernel_size=(3, 3), stride=(1, 1), padding=(1, 1), bias=False)\n",
       "      (bn2): BatchNorm2d(256, eps=1e-05, momentum=0.1, affine=True, track_running_stats=True)\n",
       "      (conv3): Conv2d(256, 1024, kernel_size=(1, 1), stride=(1, 1), bias=False)\n",
       "      (bn3): BatchNorm2d(1024, eps=1e-05, momentum=0.1, affine=True, track_running_stats=True)\n",
       "      (relu): ReLU(inplace=True)\n",
       "    )\n",
       "    (21): Bottleneck(\n",
       "      (conv1): Conv2d(1024, 256, kernel_size=(1, 1), stride=(1, 1), bias=False)\n",
       "      (bn1): BatchNorm2d(256, eps=1e-05, momentum=0.1, affine=True, track_running_stats=True)\n",
       "      (conv2): Conv2d(256, 256, kernel_size=(3, 3), stride=(1, 1), padding=(1, 1), bias=False)\n",
       "      (bn2): BatchNorm2d(256, eps=1e-05, momentum=0.1, affine=True, track_running_stats=True)\n",
       "      (conv3): Conv2d(256, 1024, kernel_size=(1, 1), stride=(1, 1), bias=False)\n",
       "      (bn3): BatchNorm2d(1024, eps=1e-05, momentum=0.1, affine=True, track_running_stats=True)\n",
       "      (relu): ReLU(inplace=True)\n",
       "    )\n",
       "    (22): Bottleneck(\n",
       "      (conv1): Conv2d(1024, 256, kernel_size=(1, 1), stride=(1, 1), bias=False)\n",
       "      (bn1): BatchNorm2d(256, eps=1e-05, momentum=0.1, affine=True, track_running_stats=True)\n",
       "      (conv2): Conv2d(256, 256, kernel_size=(3, 3), stride=(1, 1), padding=(1, 1), bias=False)\n",
       "      (bn2): BatchNorm2d(256, eps=1e-05, momentum=0.1, affine=True, track_running_stats=True)\n",
       "      (conv3): Conv2d(256, 1024, kernel_size=(1, 1), stride=(1, 1), bias=False)\n",
       "      (bn3): BatchNorm2d(1024, eps=1e-05, momentum=0.1, affine=True, track_running_stats=True)\n",
       "      (relu): ReLU(inplace=True)\n",
       "    )\n",
       "  )\n",
       "  (layer4): Sequential(\n",
       "    (0): Bottleneck(\n",
       "      (conv1): Conv2d(1024, 512, kernel_size=(1, 1), stride=(1, 1), bias=False)\n",
       "      (bn1): BatchNorm2d(512, eps=1e-05, momentum=0.1, affine=True, track_running_stats=True)\n",
       "      (conv2): Conv2d(512, 512, kernel_size=(3, 3), stride=(2, 2), padding=(1, 1), bias=False)\n",
       "      (bn2): BatchNorm2d(512, eps=1e-05, momentum=0.1, affine=True, track_running_stats=True)\n",
       "      (conv3): Conv2d(512, 2048, kernel_size=(1, 1), stride=(1, 1), bias=False)\n",
       "      (bn3): BatchNorm2d(2048, eps=1e-05, momentum=0.1, affine=True, track_running_stats=True)\n",
       "      (relu): ReLU(inplace=True)\n",
       "      (downsample): Sequential(\n",
       "        (0): Conv2d(1024, 2048, kernel_size=(1, 1), stride=(2, 2), bias=False)\n",
       "        (1): BatchNorm2d(2048, eps=1e-05, momentum=0.1, affine=True, track_running_stats=True)\n",
       "      )\n",
       "    )\n",
       "    (1): Bottleneck(\n",
       "      (conv1): Conv2d(2048, 512, kernel_size=(1, 1), stride=(1, 1), bias=False)\n",
       "      (bn1): BatchNorm2d(512, eps=1e-05, momentum=0.1, affine=True, track_running_stats=True)\n",
       "      (conv2): Conv2d(512, 512, kernel_size=(3, 3), stride=(1, 1), padding=(1, 1), bias=False)\n",
       "      (bn2): BatchNorm2d(512, eps=1e-05, momentum=0.1, affine=True, track_running_stats=True)\n",
       "      (conv3): Conv2d(512, 2048, kernel_size=(1, 1), stride=(1, 1), bias=False)\n",
       "      (bn3): BatchNorm2d(2048, eps=1e-05, momentum=0.1, affine=True, track_running_stats=True)\n",
       "      (relu): ReLU(inplace=True)\n",
       "    )\n",
       "    (2): Bottleneck(\n",
       "      (conv1): Conv2d(2048, 512, kernel_size=(1, 1), stride=(1, 1), bias=False)\n",
       "      (bn1): BatchNorm2d(512, eps=1e-05, momentum=0.1, affine=True, track_running_stats=True)\n",
       "      (conv2): Conv2d(512, 512, kernel_size=(3, 3), stride=(1, 1), padding=(1, 1), bias=False)\n",
       "      (bn2): BatchNorm2d(512, eps=1e-05, momentum=0.1, affine=True, track_running_stats=True)\n",
       "      (conv3): Conv2d(512, 2048, kernel_size=(1, 1), stride=(1, 1), bias=False)\n",
       "      (bn3): BatchNorm2d(2048, eps=1e-05, momentum=0.1, affine=True, track_running_stats=True)\n",
       "      (relu): ReLU(inplace=True)\n",
       "    )\n",
       "  )\n",
       "  (avgpool): AdaptiveAvgPool2d(output_size=(1, 1))\n",
       "  (fc): Linear(in_features=2048, out_features=1000, bias=True)\n",
       ")"
      ]
     },
     "execution_count": 42,
     "metadata": {},
     "output_type": "execute_result"
    }
   ],
   "source": [
    "resnet"
   ]
  },
  {
   "cell_type": "code",
   "execution_count": 43,
   "id": "f9e19a25",
   "metadata": {},
   "outputs": [],
   "source": [
    "preprocess = transforms.Compose([\n",
    "transforms.Resize(256),\n",
    "transforms.CenterCrop(224),\n",
    "transforms.ToTensor(),\n",
    "transforms.Normalize(\n",
    "mean=[0.485, 0.456, 0.406],\n",
    "std=[0.229, 0.224, 0.225]\n",
    ")])"
   ]
  },
  {
   "cell_type": "code",
   "execution_count": 44,
   "id": "3cd09c93",
   "metadata": {},
   "outputs": [],
   "source": [
    "import matplotlib.pyplot as plt\n",
    "from PIL import Image"
   ]
  },
  {
   "cell_type": "code",
   "execution_count": 45,
   "id": "49cba13e",
   "metadata": {},
   "outputs": [
    {
     "name": "stdout",
     "output_type": "stream",
     "text": [
      " Volume in Laufwerk C: hat keine Bezeichnung.\n",
      " Volumeseriennummer: A055-9EBC\n",
      "\n",
      " Verzeichnis von C:\\Users\\jensm\\Desktop\\local\\GitHub\\copyandpaste\\Python_Libs\\pytorch\n",
      "\n",
      "08/01/2023  11:53 AM    <DIR>          .\n",
      "07/31/2023  06:23 AM    <DIR>          ..\n",
      "08/01/2023  11:53 AM    <DIR>          .ipynb_checkpoints\n",
      "07/28/2023  06:30 PM            21,675 imagenet-classes.txt\n",
      "08/01/2023  11:34 AM            37,075 pretrained_network.ipynb\n",
      "08/01/2023  11:53 AM            37,392 pretrained_network2.ipynb\n",
      "08/01/2023  11:41 AM            37,152 pretrained_network-Copy1.ipynb\n",
      "07/28/2023  06:18 PM           264,625 tiger.jpeg\n",
      "08/01/2023  11:50 AM           185,788 Unbenannt.jpg\n",
      "07/28/2023  06:13 PM           144,658 unidentified_creature.jpg\n",
      "               7 Datei(en),        728,365 Bytes\n",
      "               3 Verzeichnis(se), 207,555,416,064 Bytes frei\n"
     ]
    }
   ],
   "source": [
    "%ls"
   ]
  },
  {
   "cell_type": "code",
   "execution_count": 46,
   "id": "f0749340",
   "metadata": {},
   "outputs": [],
   "source": [
    "tiger = Image.open('unbenannt.jpg')\n",
    "tiger.show()"
   ]
  },
  {
   "cell_type": "code",
   "execution_count": 47,
   "id": "7272d88c",
   "metadata": {},
   "outputs": [
    {
     "data": {
      "text/plain": [
       "tensor([[[ 1.4098,  1.3755,  1.3584,  ..., -0.8849, -0.9705, -0.9877],\n",
       "         [ 1.3927,  1.3755,  1.3413,  ..., -0.9534, -1.0390, -1.0733],\n",
       "         [ 1.3755,  1.3584,  1.3242,  ..., -1.1932, -1.2617, -1.3130],\n",
       "         ...,\n",
       "         [ 1.5297,  1.5297,  1.5297,  ..., -0.5424, -0.5767, -0.1486],\n",
       "         [ 1.5468,  1.5297,  1.5297,  ..., -0.5253, -0.4397,  0.0569],\n",
       "         [ 1.5639,  1.5639,  1.5639,  ..., -0.4568, -0.1828,  0.1597]],\n",
       "\n",
       "        [[ 1.5707,  1.5182,  1.5007,  ..., -0.6527, -0.7052, -0.7227],\n",
       "         [ 1.5357,  1.5182,  1.4832,  ..., -0.6877, -0.7577, -0.7927],\n",
       "         [ 1.5182,  1.5007,  1.4832,  ..., -0.9153, -0.9678, -1.0028],\n",
       "         ...,\n",
       "         [ 1.7633,  1.7458,  1.7458,  ..., -0.7227, -0.7052, -0.1975],\n",
       "         [ 1.7633,  1.7633,  1.7633,  ..., -0.7052, -0.5651,  0.0301],\n",
       "         [ 1.7983,  1.7983,  1.7983,  ..., -0.6001, -0.2675,  0.1702]],\n",
       "\n",
       "        [[ 1.7511,  1.6988,  1.6814,  ..., -0.5495, -0.6018, -0.6018],\n",
       "         [ 1.7163,  1.6988,  1.6640,  ..., -0.6018, -0.6715, -0.7064],\n",
       "         [ 1.6988,  1.6814,  1.6640,  ..., -0.9156, -0.9678, -1.0201],\n",
       "         ...,\n",
       "         [ 2.0474,  2.0474,  2.0474,  ..., -0.8284, -0.7761, -0.1835],\n",
       "         [ 2.0474,  2.0474,  2.0474,  ..., -0.7413, -0.5670,  0.0779],\n",
       "         [ 2.0648,  2.0648,  2.0474,  ..., -0.6193, -0.2184,  0.2696]]])"
      ]
     },
     "execution_count": 47,
     "metadata": {},
     "output_type": "execute_result"
    }
   ],
   "source": [
    "tiger_proc = preprocess(tiger)\n",
    "tiger_proc"
   ]
  },
  {
   "cell_type": "code",
   "execution_count": 48,
   "id": "4408467b",
   "metadata": {},
   "outputs": [
    {
     "data": {
      "text/plain": [
       "tensor([[[[ 1.4098,  1.3755,  1.3584,  ..., -0.8849, -0.9705, -0.9877],\n",
       "          [ 1.3927,  1.3755,  1.3413,  ..., -0.9534, -1.0390, -1.0733],\n",
       "          [ 1.3755,  1.3584,  1.3242,  ..., -1.1932, -1.2617, -1.3130],\n",
       "          ...,\n",
       "          [ 1.5297,  1.5297,  1.5297,  ..., -0.5424, -0.5767, -0.1486],\n",
       "          [ 1.5468,  1.5297,  1.5297,  ..., -0.5253, -0.4397,  0.0569],\n",
       "          [ 1.5639,  1.5639,  1.5639,  ..., -0.4568, -0.1828,  0.1597]],\n",
       "\n",
       "         [[ 1.5707,  1.5182,  1.5007,  ..., -0.6527, -0.7052, -0.7227],\n",
       "          [ 1.5357,  1.5182,  1.4832,  ..., -0.6877, -0.7577, -0.7927],\n",
       "          [ 1.5182,  1.5007,  1.4832,  ..., -0.9153, -0.9678, -1.0028],\n",
       "          ...,\n",
       "          [ 1.7633,  1.7458,  1.7458,  ..., -0.7227, -0.7052, -0.1975],\n",
       "          [ 1.7633,  1.7633,  1.7633,  ..., -0.7052, -0.5651,  0.0301],\n",
       "          [ 1.7983,  1.7983,  1.7983,  ..., -0.6001, -0.2675,  0.1702]],\n",
       "\n",
       "         [[ 1.7511,  1.6988,  1.6814,  ..., -0.5495, -0.6018, -0.6018],\n",
       "          [ 1.7163,  1.6988,  1.6640,  ..., -0.6018, -0.6715, -0.7064],\n",
       "          [ 1.6988,  1.6814,  1.6640,  ..., -0.9156, -0.9678, -1.0201],\n",
       "          ...,\n",
       "          [ 2.0474,  2.0474,  2.0474,  ..., -0.8284, -0.7761, -0.1835],\n",
       "          [ 2.0474,  2.0474,  2.0474,  ..., -0.7413, -0.5670,  0.0779],\n",
       "          [ 2.0648,  2.0648,  2.0474,  ..., -0.6193, -0.2184,  0.2696]]]])"
      ]
     },
     "execution_count": 48,
     "metadata": {},
     "output_type": "execute_result"
    }
   ],
   "source": [
    "batch_t = torch.unsqueeze(tiger_proc, 0)\n",
    "batch_t"
   ]
  },
  {
   "cell_type": "code",
   "execution_count": 49,
   "id": "4ce60915",
   "metadata": {},
   "outputs": [],
   "source": [
    "#put the model in eval mode\n",
    "resnet.eval();"
   ]
  },
  {
   "cell_type": "code",
   "execution_count": 50,
   "id": "2ba58970",
   "metadata": {},
   "outputs": [
    {
     "data": {
      "text/plain": [
       "torch.Size([1, 1000])"
      ]
     },
     "execution_count": 50,
     "metadata": {},
     "output_type": "execute_result"
    }
   ],
   "source": [
    "#give him the picture(s)\n",
    "out = resnet(batch_t)\n",
    "out.shape"
   ]
  },
  {
   "cell_type": "code",
   "execution_count": 51,
   "id": "fb0a58e4",
   "metadata": {},
   "outputs": [],
   "source": [
    "#the output is a probability distribution over the imagenet-classes labels\n",
    "with open('imagenet-classes.txt') as f:\n",
    "    labels = [line.strip() for line in f.readlines()]"
   ]
  },
  {
   "cell_type": "code",
   "execution_count": 52,
   "id": "9249c112",
   "metadata": {},
   "outputs": [],
   "source": [
    "out.sort(descending=True);"
   ]
  },
  {
   "cell_type": "code",
   "execution_count": 53,
   "id": "999031c9",
   "metadata": {},
   "outputs": [],
   "source": [
    "_, index = torch.max(out, 1)"
   ]
  },
  {
   "cell_type": "code",
   "execution_count": 59,
   "id": "40fb20d4",
   "metadata": {},
   "outputs": [
    {
     "data": {
      "text/plain": [
       "tensor([[-1.7485e+00, -4.0977e-01, -2.8298e+00, -4.1633e+00, -2.3232e+00,\n",
       "         -1.8247e+00, -2.6038e+00,  5.7978e-01, -1.7759e+00, -2.1941e+00,\n",
       "         -2.4747e+00, -1.0304e+00, -3.7757e-01,  5.7358e-01, -1.0502e-01,\n",
       "         -2.2922e+00, -2.8999e-01, -8.0838e-01, -1.0661e+00,  7.0045e-01,\n",
       "         -2.6556e+00, -1.5911e+00, -7.6794e-01,  2.0383e-01, -1.2600e+00,\n",
       "         -2.7303e+00, -1.9038e+00,  1.6126e-01, -6.6457e-01, -1.5973e+00,\n",
       "         -2.4024e+00, -2.1402e+00, -3.8955e-01, -2.1335e+00, -2.2686e+00,\n",
       "         -2.0827e+00, -4.2256e-02, -1.4172e+00, -3.1261e+00, -2.6239e+00,\n",
       "         -1.6103e+00, -2.4880e+00, -2.4561e+00, -2.0080e+00, -1.4477e+00,\n",
       "         -2.3215e+00, -1.5793e+00, -3.9863e-01, -3.5998e+00, -4.0766e+00,\n",
       "         -3.8947e+00, -1.1846e+00,  1.0536e+00,  2.2693e-01,  1.4281e-01,\n",
       "         -1.0405e+00, -1.1934e+00, -1.1024e+00, -3.8516e+00, -7.3700e-01,\n",
       "         -1.1417e-01, -8.5054e-01, -3.6421e+00, -3.2094e+00, -2.5219e+00,\n",
       "         -3.1783e+00, -2.2784e+00, -1.7585e+00, -1.0002e+00, -1.4390e+00,\n",
       "         -2.8551e+00,  6.0578e-01, -2.2846e+00, -2.5262e+00, -1.5962e+00,\n",
       "         -4.8769e-01,  5.0639e-01, -2.4460e+00,  2.7681e+00, -6.7470e-01,\n",
       "         -1.2007e+00, -3.5961e+00, -1.6625e+00, -2.8174e+00, -8.3832e-01,\n",
       "         -1.8880e+00, -1.8062e+00,  1.4153e+00,  5.1411e-02, -1.4656e+00,\n",
       "          7.9442e-01, -1.1237e+00, -1.7979e+00, -6.6958e-01, -2.4091e+00,\n",
       "         -5.8777e-01, -1.0941e-01, -2.8914e+00, -2.3667e+00, -1.4575e+00,\n",
       "         -2.6769e+00, -3.1546e+00, -3.2613e-01,  4.9590e-01, -1.8277e+00,\n",
       "         -1.5616e-01, -1.4260e+00, -8.7875e-01, -2.0148e+00, -3.2218e+00,\n",
       "         -1.6234e+00, -4.0319e-01, -1.2953e-01,  1.7566e-01, -2.3799e+00,\n",
       "         -3.3397e+00, -3.6953e+00, -1.5460e-02, -8.2712e-01, -2.6784e+00,\n",
       "         -3.4539e+00, -2.1496e+00, -8.8388e-01, -2.0197e+00,  7.2698e-01,\n",
       "         -8.6687e-01, -2.1492e+00, -1.9965e+00, -2.9753e+00, -4.6751e+00,\n",
       "         -1.9623e+00, -1.1847e+00, -7.4790e-01, -9.7956e-01, -8.1826e-01,\n",
       "         -3.2194e+00, -3.0179e+00, -3.3360e+00, -2.5358e+00, -3.1313e+00,\n",
       "         -2.6369e+00, -2.2347e+00, -4.1802e+00, -1.6038e+00, -3.4690e+00,\n",
       "         -2.2614e+00, -3.3217e+00, -3.2422e+00, -6.0226e-01, -3.4625e+00,\n",
       "         -2.6878e+00,  1.1825e+00,  3.4965e-01,  9.1992e-02,  1.8095e+00,\n",
       "          1.7416e+00,  3.8100e+00,  1.4859e+00,  4.2143e-01, -2.4780e+00,\n",
       "          3.1304e+00, -1.1410e+00, -3.4020e-01, -8.3828e-01, -1.6266e+00,\n",
       "         -1.9109e+00, -2.2242e+00, -2.0926e+00, -2.3368e+00, -1.9829e-02,\n",
       "         -1.7523e+00, -3.9126e-01, -3.9577e-01, -2.5092e+00, -1.4216e+00,\n",
       "          5.2809e-01,  2.7227e+00, -2.3370e-02,  3.9869e-02, -2.5355e-01,\n",
       "         -2.3956e+00, -2.1937e-01, -8.9478e-01,  4.8918e-01,  3.9242e-01,\n",
       "          6.5437e-01, -6.9410e-01,  4.3363e+00, -2.5639e+00, -1.5727e+00,\n",
       "         -7.0732e-01, -1.0270e+00,  7.8282e-02,  2.6524e+00, -1.5328e+00,\n",
       "          4.2125e-01, -2.6306e-01,  1.5299e-01,  2.7032e-01, -1.4074e-01,\n",
       "         -7.4678e-02,  3.4413e+00,  6.0142e-01, -8.1829e-01,  2.4066e+00,\n",
       "          2.2646e-01, -1.2050e+00,  4.5296e-01, -1.5268e+00, -2.4835e+00,\n",
       "         -2.0559e+00,  5.8636e-01,  1.2669e-01,  2.7976e+00,  1.3888e+00,\n",
       "          1.3766e+00, -8.7040e-01,  2.2716e+00,  1.1402e+00,  1.0193e+00,\n",
       "          2.2750e+00, -5.3317e-01, -2.1676e+00,  4.7730e-04, -7.2837e-01,\n",
       "         -1.0795e+00,  2.5004e+00, -9.7659e-01, -1.9652e+00, -1.4370e+00,\n",
       "          4.6528e-01, -4.7476e-01, -4.0479e-01, -6.1894e-01, -1.6564e+00,\n",
       "         -2.5699e+00, -5.9864e-01, -1.1976e-01,  7.1957e-01, -1.1498e+00,\n",
       "          3.7365e-01,  3.3615e-01, -1.2846e+00, -4.9764e-01, -5.6134e-01,\n",
       "         -1.0980e+00, -7.5952e-01, -1.9638e+00,  3.1416e-01, -2.0914e+00,\n",
       "         -2.0516e-01, -9.1940e-01,  4.6447e-01, -3.0466e-01, -3.7452e-01,\n",
       "         -1.4972e+00, -7.0345e-01, -3.0185e+00, -2.5872e-01,  3.2432e-01,\n",
       "         -1.3470e+00, -1.7165e+00,  2.2430e-01,  1.2425e-01, -2.4531e+00,\n",
       "          1.5728e+00,  1.7205e+00,  1.4831e+00, -6.8552e-01, -3.6249e+00,\n",
       "         -2.7565e+00, -2.8535e+00, -2.8535e+00, -2.6116e+00, -4.1802e+00,\n",
       "         -3.8301e+00, -3.5724e+00, -2.8242e+00, -5.9685e+00, -1.4018e+00,\n",
       "         -3.2430e+00, -2.4087e-01, -1.1979e+00,  8.2392e-01, -4.1092e-01,\n",
       "         -1.4996e+00, -2.8829e+00, -3.1471e+00, -2.8877e+00, -4.3669e+00,\n",
       "         -3.1647e+00, -2.1082e+00, -2.8654e+00, -3.1844e+00, -3.2292e+00,\n",
       "         -3.6470e+00, -2.3768e+00, -1.5536e+00, -3.1328e+00, -1.4194e+00,\n",
       "         -6.0253e-01, -5.4158e-01,  6.9595e-01, -1.0549e+00, -2.6162e+00,\n",
       "          2.5865e+00, -8.9599e-01, -2.2167e-01, -2.4976e+00, -1.6556e+00,\n",
       "          4.1757e-01, -1.2584e+00, -1.1093e-01, -4.7521e-02,  1.3125e+00,\n",
       "         -4.1507e-01, -1.0610e+00, -2.1404e+00, -2.0902e+00, -2.5445e+00,\n",
       "         -1.8193e+00,  1.3917e-01,  1.0663e+00, -1.9382e+00, -1.1078e+00,\n",
       "         -1.8556e+00, -2.2157e+00, -1.5504e+00, -2.7667e+00, -3.4361e+00,\n",
       "         -9.3567e-01, -2.1199e+00, -4.4885e-01,  2.2319e-01,  1.1956e+00,\n",
       "         -6.3339e-01, -2.8325e+00, -1.1464e+00,  3.4279e+00,  8.4766e-01,\n",
       "         -4.6845e-01, -3.2021e+00, -3.4387e+00, -7.7656e-01, -3.9179e+00,\n",
       "         -2.8895e-01, -2.2714e+00, -2.5232e+00, -2.0941e+00, -3.2167e+00,\n",
       "         -2.6512e+00, -4.0310e+00, -2.4579e+00, -2.1094e+00, -2.3842e+00,\n",
       "          2.7674e-01, -4.5905e-02, -1.7057e+00,  1.5160e+00,  1.1726e+00,\n",
       "         -2.4594e+00,  1.2770e+00, -1.1298e+00, -4.5799e-01,  1.0130e-02,\n",
       "          1.5347e+00, -1.0560e+00,  1.2166e+00, -2.0592e-01, -2.9763e-02,\n",
       "          1.1988e+00, -5.8563e-01,  1.8006e-01,  2.8149e-01,  3.7494e+00,\n",
       "          3.3961e+00, -4.9033e-01,  2.3272e-01,  7.3584e-01,  8.6048e-01,\n",
       "         -6.1238e-02,  1.0730e+00,  5.1570e-01, -1.8048e+00, -2.7487e+00,\n",
       "         -1.3685e+00, -2.4104e+00, -2.1775e+00, -2.0866e+00, -1.5485e+00,\n",
       "         -3.1952e+00, -2.4438e+00, -1.9124e+00, -2.0831e+00, -3.0596e+00,\n",
       "         -2.7666e+00, -6.2040e+00, -2.0961e+00,  3.1398e+00,  2.0690e+00,\n",
       "          7.2573e+00,  3.0519e+00,  2.7234e+00, -3.8296e+00, -2.5147e+00,\n",
       "         -7.3329e-01, -3.4496e+00, -2.2415e+00, -3.2094e+00,  1.2245e+00,\n",
       "         -2.1616e+00,  1.8952e-02,  9.9686e-01,  2.3087e-01,  2.3770e+00,\n",
       "          1.3032e-02,  1.1553e+00,  4.1418e+00,  2.0324e+00,  4.5959e+00,\n",
       "          1.2783e+00,  1.6984e+00,  1.7296e+00,  1.5038e-01,  2.3909e+00,\n",
       "         -2.0381e+00,  5.7095e-01,  8.8428e-01, -3.3450e-01,  1.6413e+00,\n",
       "         -1.5729e+00, -1.7301e+00,  5.3209e+00,  4.3714e-01,  6.2015e-01,\n",
       "          2.7941e+00, -2.1610e+00, -1.3536e+00,  1.9181e+00,  4.5043e+00,\n",
       "          8.8701e-01, -1.3223e-01, -2.2578e+00, -2.3288e-01, -2.6735e+00,\n",
       "          2.6883e+00, -2.2310e-01,  5.0636e+00,  1.5758e+00, -3.1089e+00,\n",
       "         -1.8237e+00,  1.2527e+00,  4.3849e+00,  1.2012e+00,  1.3433e+00,\n",
       "          2.1659e+00,  3.0546e+00,  5.2955e+00, -1.2629e+00,  4.5005e+00,\n",
       "         -2.8013e+00,  1.9140e+00,  3.6435e+00,  2.4838e+00,  2.7611e+00,\n",
       "         -7.0711e-01, -2.4030e+00, -3.4159e+00, -3.6877e+00,  1.5143e+00,\n",
       "         -6.6663e-01, -2.0044e-01, -3.8107e+00,  1.8381e+00,  4.8248e+00,\n",
       "          1.5754e+00,  5.7894e-01,  1.1196e+00,  5.1107e-01, -1.5246e+00,\n",
       "          3.7548e+00,  1.9293e+00, -4.3595e-02, -1.7898e+00, -4.7718e+00,\n",
       "         -8.6609e-01,  3.9821e+00,  5.5800e+00,  3.2717e+00,  1.8451e+00,\n",
       "          3.3655e+00,  2.0199e+00, -5.1612e-01, -1.6939e+00,  2.5458e+00,\n",
       "         -1.5573e+00,  1.9208e+00, -2.0540e+00,  4.2453e-02,  3.3139e+00,\n",
       "         -2.0856e+00,  3.4509e+00,  2.5387e+00,  1.5907e+00,  4.2316e+00,\n",
       "          5.9278e-01,  4.7525e+00,  1.9465e+00, -5.8482e-01,  1.8073e+00,\n",
       "         -2.0215e+00, -1.0863e-01,  2.2832e+00,  1.7731e+00,  1.0289e+00,\n",
       "          4.5027e+00, -8.0586e-01, -7.1261e-01,  3.0576e+00, -4.6565e-01,\n",
       "         -1.7242e+00,  1.0502e+00,  1.5586e+00,  2.6293e+00,  1.6264e-01,\n",
       "         -2.0661e+00,  4.3151e-01, -1.5430e+00,  3.6986e+00,  1.1305e+00,\n",
       "          1.1628e+00,  1.7901e+00, -8.8649e-01, -8.5475e-01, -5.5950e-01,\n",
       "         -1.6817e+00, -3.3997e+00, -3.2527e+00,  2.6043e-01, -3.0717e-01,\n",
       "         -4.1707e+00,  2.0176e+00,  5.6735e+00,  4.2882e+00, -1.9647e+00,\n",
       "          9.9935e-01,  1.5164e+00, -4.2806e+00, -1.6604e+00, -7.2295e-01,\n",
       "          4.0891e-01,  6.1574e+00,  2.9416e+00,  7.4447e-01, -1.9372e+00,\n",
       "         -3.1246e+00, -3.7951e-01,  8.4525e-01,  5.6917e+00,  1.7550e+00,\n",
       "          6.4565e-01, -3.0625e+00,  1.6249e+00, -2.0210e-02, -2.0250e+00,\n",
       "         -3.7345e+00,  5.2674e+00,  2.0968e+00,  6.5450e+00, -1.1898e+00,\n",
       "          4.5718e+00, -1.6646e+00,  2.4179e+00, -1.9657e+00,  1.1304e+00,\n",
       "         -3.1596e-01, -3.4354e+00,  3.3114e+00,  1.7835e+00,  2.4540e+00,\n",
       "          7.8242e-01, -2.2916e+00, -5.0503e-01,  2.5120e+00,  8.6182e+00,\n",
       "          9.3986e+00, -2.8840e+00,  4.4819e+00, -5.1257e-01,  8.9864e+00,\n",
       "          2.9836e+00,  1.8856e+00,  1.6919e-02,  2.9271e+00,  3.8219e+00,\n",
       "         -3.4720e+00,  2.5243e+00, -3.8790e-01, -1.7235e+00,  2.2590e-01,\n",
       "          3.3424e+00,  1.9681e+00,  5.7983e-01, -1.5263e+00,  2.3258e+00,\n",
       "          3.4951e+00,  1.1398e+00, -1.1043e-01,  1.9123e+00, -3.7719e+00,\n",
       "          4.3669e+00,  2.9010e+00, -2.9621e+00,  2.2798e+00,  4.1878e+00,\n",
       "          1.9764e+00,  2.1650e+00,  5.0523e+00,  1.3436e+00, -2.3591e-01,\n",
       "          1.6425e+00, -1.1897e+00,  4.4309e+00, -6.5279e-02,  4.2189e+00,\n",
       "         -4.5999e+00,  1.4501e+00, -2.1772e+00, -1.6560e+00,  5.8808e+00,\n",
       "         -1.6530e-01,  2.3792e+00,  2.0439e+00,  5.4927e+00, -2.2827e+00,\n",
       "          2.9459e-01,  1.2198e+00,  2.1688e+00,  3.8536e+00,  2.1691e+00,\n",
       "         -2.4992e+00,  3.6274e+00,  2.9082e+00,  5.7602e+00,  1.1448e+00,\n",
       "          2.0578e+00,  1.5658e+00,  6.1446e-01,  3.1017e+00, -3.0654e-01,\n",
       "          5.5467e+00, -1.6939e+00,  2.8353e+00, -8.7035e-01, -1.0413e+00,\n",
       "          5.5191e+00, -2.3941e+00, -1.9230e+00,  3.7771e+00,  7.0265e-01,\n",
       "         -1.0779e+00, -1.0113e+00, -1.2175e-01, -1.6817e+00, -8.1668e-01,\n",
       "         -1.1225e+00,  1.3702e+00,  8.1743e+00, -5.3528e-01,  4.3207e-01,\n",
       "         -2.6059e-01, -2.9803e+00, -3.6612e+00,  1.6389e+00, -9.6510e-02,\n",
       "         -2.7655e+00,  1.0891e+00,  2.1916e+00,  5.0330e+00,  2.9097e+00,\n",
       "          2.9490e+00,  2.0230e+00, -1.9470e+00,  6.4156e+00,  1.6823e+00,\n",
       "         -5.4645e-01, -1.4779e+00, -1.0246e+00,  8.6851e-01,  2.0051e+00,\n",
       "         -2.8397e+00,  2.4930e+00, -8.9778e-01, -9.5226e-02, -2.4781e+00,\n",
       "          1.7907e+00,  6.2052e+00,  2.0895e+00, -9.0730e-01,  3.1929e+00,\n",
       "          2.6467e+00, -4.2404e-01, -1.6668e-02,  1.3839e+00,  2.5712e-02,\n",
       "         -3.1988e+00, -2.4917e+00,  2.1555e+00,  1.0075e+00, -1.3788e+00,\n",
       "          1.0656e+00,  2.4767e+00,  2.0517e+00,  1.4025e+00,  4.3427e+00,\n",
       "          3.0377e+00,  1.0091e+00, -3.2924e+00, -1.7075e+00,  1.5133e+00,\n",
       "          3.0977e+00,  1.5544e+00,  3.3193e+00,  3.8461e+00, -2.4857e+00,\n",
       "         -1.1346e+00,  5.6839e-01,  2.3438e+00,  1.2058e+00, -1.0436e+00,\n",
       "         -1.7643e+00,  5.3343e+00,  1.8037e+00,  3.3987e+00, -3.9756e+00,\n",
       "          3.6452e+00,  5.4992e-01,  1.0505e+00,  8.6648e-01,  4.2736e+00,\n",
       "          5.2043e+00,  2.3968e-01, -4.5178e-01,  1.9066e+00, -4.3740e-01,\n",
       "          1.9371e+00,  2.3410e+00,  2.3342e+00,  1.0377e+00,  3.0197e+00,\n",
       "         -1.0631e+00, -1.7000e+00,  2.0766e+00,  7.3368e-01,  6.8465e-01,\n",
       "          3.1903e-01,  1.6256e+00, -7.4820e-01,  4.3445e+00,  3.1716e+00,\n",
       "          9.6986e-01,  2.4976e+00,  3.9282e-01,  3.1811e+00,  2.6455e+00,\n",
       "          7.7114e-01, -2.0021e+00, -4.1203e-01, -1.2583e+00,  2.4613e+00,\n",
       "         -4.4286e-01,  6.3977e-01,  4.9306e+00,  2.7200e-01,  4.8888e-01,\n",
       "          7.4240e-01,  2.7918e+00, -1.0094e+00, -8.0710e-01, -1.2380e+00,\n",
       "         -2.1019e+00, -9.8688e-01, -2.3490e-01, -2.3083e-01,  2.9101e+00,\n",
       "          4.4826e+00,  2.0593e+00,  1.2256e+00,  9.5110e-01,  8.1067e-01,\n",
       "         -4.3714e-01, -2.4765e-01,  1.9089e+00,  3.4829e+00,  3.1042e+00,\n",
       "         -1.9565e+00,  4.7093e+00, -4.2205e-01,  3.7901e-01, -1.0134e+00,\n",
       "          5.9677e-01,  1.3223e+00, -2.7551e+00, -3.4685e+00,  2.8691e+00,\n",
       "          8.8968e-01,  1.8468e+00, -9.3618e-03,  4.9503e+00,  5.6316e-01,\n",
       "         -3.9008e-01, -1.2573e+00, -1.3931e+00,  4.3485e+00, -3.5307e+00,\n",
       "         -6.2824e-01,  3.5363e+00, -2.3676e+00,  4.7250e+00,  1.6745e+00,\n",
       "         -3.2801e+00, -3.9030e+00,  1.3897e+00,  5.5532e+00,  5.1286e+00,\n",
       "         -7.8743e-01,  3.1522e+00, -2.2229e+00,  3.7580e+00, -1.7473e+00,\n",
       "         -1.7331e+00, -1.7636e+00, -1.6442e+00, -3.2661e+00,  5.5497e+00,\n",
       "         -7.7737e-01,  5.1063e+00,  5.8431e+00,  3.7053e+00, -2.3864e+00,\n",
       "          1.8988e+00,  3.3564e+00, -7.7113e-01,  4.0581e+00,  7.7618e-01,\n",
       "          2.7250e+00, -8.6472e-01, -8.2871e-01,  1.0484e+00,  2.3457e-01,\n",
       "          2.1416e+00,  1.6158e+00,  8.7832e-01,  8.6002e-03,  1.2658e+00,\n",
       "          3.2434e+00, -1.9317e+00, -1.6266e+00, -1.3303e+00, -3.0981e-01,\n",
       "          6.8995e-01,  3.3669e+00,  5.7994e-01, -4.8209e-01, -2.8957e+00,\n",
       "          7.4950e-01, -5.5636e-01, -2.9682e+00,  1.0000e+00,  4.1712e+00,\n",
       "          4.0455e-01, -2.7440e+00,  1.7050e+00, -1.7423e+00, -3.0101e+00,\n",
       "          1.8380e+00,  2.7927e+00, -7.0105e-01, -4.8447e-01,  4.3070e+00,\n",
       "         -3.7792e-01,  2.5439e-01, -1.6269e-02,  6.7781e-01, -1.2686e+00,\n",
       "          5.7059e+00, -3.2063e-01, -7.4676e-01, -3.4740e+00,  5.8092e+00,\n",
       "          5.3140e-01,  3.4611e-01,  2.3547e+00,  6.2525e-01,  1.3596e+00,\n",
       "         -2.5481e+00,  1.6393e+00,  1.4190e+00,  2.0335e+00,  1.2661e+00,\n",
       "         -7.6174e-01, -1.3188e+00,  4.2879e+00,  1.4483e+01,  2.8282e+00,\n",
       "          4.8740e+00,  3.3149e+00,  4.3257e-01, -2.5717e+00,  1.4624e+00,\n",
       "          3.7740e+00,  7.8213e+00, -5.6762e-01, -4.4144e+00, -3.0691e+00,\n",
       "         -3.4970e+00,  3.0379e+00,  4.6165e-01,  3.2469e+00,  3.5581e-01,\n",
       "         -5.3946e-02,  9.9776e-01, -1.1900e+00,  9.4185e-01, -1.8745e+00,\n",
       "         -1.0330e+00,  7.6682e-01, -1.2836e-01, -3.4377e-01,  5.1725e+00,\n",
       "         -1.9903e+00, -2.1417e-01,  2.4998e+00, -3.6300e+00, -4.8770e-01,\n",
       "         -1.8328e+00, -2.8827e-01,  2.0250e+00,  1.1440e+00,  7.8170e-01,\n",
       "         -1.0275e+00, -5.9630e-01,  8.3643e-01, -7.9665e-01, -3.6292e-02,\n",
       "         -2.2116e+00, -1.7149e+00,  1.2567e+00,  1.8356e+00, -6.6083e-01,\n",
       "         -1.7322e+00, -1.9144e+00, -8.4867e-01, -3.9176e+00, -1.8898e+00,\n",
       "         -1.5952e+00, -2.4911e+00, -3.5536e+00,  3.3746e+00, -8.8369e-01,\n",
       "          1.3409e+00,  1.6372e+00, -2.3659e+00, -4.8295e-01, -1.4082e+00,\n",
       "         -1.0024e+00,  2.6504e+00,  3.5804e+00,  3.3182e+00,  1.6070e+00,\n",
       "         -1.5614e+00,  3.5870e+00, -2.4279e+00, -1.5781e+00, -1.0994e+00,\n",
       "         -1.0475e+00, -1.9976e+00, -1.9797e+00, -1.9938e+00, -3.0017e+00,\n",
       "         -1.3079e+00,  2.1523e+00,  2.7786e+00, -1.0509e+00,  2.9037e+00,\n",
       "         -3.8657e-01, -2.3563e+00,  1.3083e+00, -2.7912e-01, -2.1073e+00,\n",
       "         -1.0404e+00, -2.9440e+00, -2.3506e+00, -2.5130e+00, -2.9753e+00,\n",
       "         -1.0262e+00,  1.0569e+00, -1.1882e+00,  2.9299e+00,  1.8730e+00]],\n",
       "       grad_fn=<AddmmBackward0>)"
      ]
     },
     "execution_count": 59,
     "metadata": {},
     "output_type": "execute_result"
    }
   ],
   "source": [
    "out"
   ]
  },
  {
   "cell_type": "code",
   "execution_count": 54,
   "id": "fc5eac7d",
   "metadata": {},
   "outputs": [
    {
     "data": {
      "text/plain": [
       "('wig', tensor(0.9763, grad_fn=<SelectBackward0>))"
      ]
     },
     "execution_count": 54,
     "metadata": {},
     "output_type": "execute_result"
    }
   ],
   "source": [
    "percentage = torch.nn.functional.softmax(out, dim=1)[0]\n",
    "labels[index[0]], percentage[index[0]]"
   ]
  },
  {
   "cell_type": "code",
   "execution_count": 55,
   "id": "2048a61a",
   "metadata": {},
   "outputs": [],
   "source": [
    "#labels"
   ]
  },
  {
   "cell_type": "code",
   "execution_count": 56,
   "id": "a6565531",
   "metadata": {},
   "outputs": [
    {
     "data": {
      "text/plain": [
       "[('wig', 0.9762840867042542),\n",
       " ('hair spray', 0.006045321933925152),\n",
       " ('hand blower, blow dryer, blow drier, hair dryer, hair drier',\n",
       "  0.004002895671874285),\n",
       " ('hair slide', 0.00277012144215405),\n",
       " ('mortarboard', 0.0017771146958693862)]"
      ]
     },
     "execution_count": 56,
     "metadata": {},
     "output_type": "execute_result"
    }
   ],
   "source": [
    "_, indices = torch.sort(out, descending=True)\n",
    "[(labels[idx], percentage[idx].item()) for idx in indices[0][:5]]"
   ]
  },
  {
   "cell_type": "code",
   "execution_count": null,
   "id": "8fa7b546",
   "metadata": {},
   "outputs": [],
   "source": []
  },
  {
   "cell_type": "code",
   "execution_count": null,
   "id": "070bc2b1",
   "metadata": {},
   "outputs": [],
   "source": []
  }
 ],
 "metadata": {
  "kernelspec": {
   "display_name": "Python 3 (ipykernel)",
   "language": "python",
   "name": "python3"
  },
  "language_info": {
   "codemirror_mode": {
    "name": "ipython",
    "version": 3
   },
   "file_extension": ".py",
   "mimetype": "text/x-python",
   "name": "python",
   "nbconvert_exporter": "python",
   "pygments_lexer": "ipython3",
   "version": "3.11.3"
  }
 },
 "nbformat": 4,
 "nbformat_minor": 5
}
