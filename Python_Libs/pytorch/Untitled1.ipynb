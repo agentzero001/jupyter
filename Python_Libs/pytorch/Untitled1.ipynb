{
 "cells": [
  {
   "cell_type": "code",
   "execution_count": 51,
   "id": "d1b6c5ac",
   "metadata": {},
   "outputs": [],
   "source": [
    "import torch"
   ]
  },
  {
   "cell_type": "code",
   "execution_count": 52,
   "id": "0ba16aa8",
   "metadata": {},
   "outputs": [
    {
     "data": {
      "text/plain": [
       "tensor([[ 0.,  1.,  2.,  3.,  4.,  5.],\n",
       "        [ 6.,  7.,  8.,  9., 10., 11.],\n",
       "        [12., 13., 14., 15., 16., 17.],\n",
       "        [18., 19., 20., 21., 22., 23.],\n",
       "        [24., 25., 26., 27., 28., 29.],\n",
       "        [30., 31., 32., 33., 34., 35.],\n",
       "        [36., 37., 38., 39., 40., 41.],\n",
       "        [42., 43., 44., 45., 46., 47.],\n",
       "        [48., 49., 50., 51., 52., 53.],\n",
       "        [54., 55., 56., 57., 58., 59.],\n",
       "        [60., 61., 62., 63., 64., 65.],\n",
       "        [66., 67., 68., 69., 70., 71.]])"
      ]
     },
     "execution_count": 52,
     "metadata": {},
     "output_type": "execute_result"
    }
   ],
   "source": [
    "A = torch.arange(72).reshape(12,6).float()\n",
    "A"
   ]
  },
  {
   "cell_type": "code",
   "execution_count": 53,
   "id": "835c07b4",
   "metadata": {},
   "outputs": [
    {
     "data": {
      "text/plain": [
       "tensor([[1., 0., 0., 0., 0., 0., 0., 0., 0., 0., 0., 0., 0., 0.],\n",
       "        [0., 1., 0., 0., 0., 0., 0., 0., 0., 0., 0., 0., 0., 0.],\n",
       "        [0., 0., 1., 0., 0., 0., 0., 0., 0., 0., 0., 0., 0., 0.],\n",
       "        [0., 0., 0., 1., 0., 0., 0., 0., 0., 0., 0., 0., 0., 0.],\n",
       "        [0., 0., 0., 0., 1., 0., 0., 0., 0., 0., 0., 0., 0., 0.],\n",
       "        [0., 0., 0., 0., 0., 1., 0., 0., 0., 0., 0., 0., 0., 0.]])"
      ]
     },
     "execution_count": 53,
     "metadata": {},
     "output_type": "execute_result"
    }
   ],
   "source": [
    "transform = torch.eye(6,14)\n",
    "transform"
   ]
  },
  {
   "cell_type": "code",
   "execution_count": 54,
   "id": "51881267",
   "metadata": {},
   "outputs": [
    {
     "data": {
      "text/plain": [
       "tensor([[ 0.,  1.,  2.,  3.,  4.,  5.,  0.,  0.,  0.,  0.,  0.,  0.,  0.,  0.],\n",
       "        [ 6.,  7.,  8.,  9., 10., 11.,  0.,  0.,  0.,  0.,  0.,  0.,  0.,  0.],\n",
       "        [12., 13., 14., 15., 16., 17.,  0.,  0.,  0.,  0.,  0.,  0.,  0.,  0.],\n",
       "        [18., 19., 20., 21., 22., 23.,  0.,  0.,  0.,  0.,  0.,  0.,  0.,  0.],\n",
       "        [24., 25., 26., 27., 28., 29.,  0.,  0.,  0.,  0.,  0.,  0.,  0.,  0.],\n",
       "        [30., 31., 32., 33., 34., 35.,  0.,  0.,  0.,  0.,  0.,  0.,  0.,  0.],\n",
       "        [36., 37., 38., 39., 40., 41.,  0.,  0.,  0.,  0.,  0.,  0.,  0.,  0.],\n",
       "        [42., 43., 44., 45., 46., 47.,  0.,  0.,  0.,  0.,  0.,  0.,  0.,  0.],\n",
       "        [48., 49., 50., 51., 52., 53.,  0.,  0.,  0.,  0.,  0.,  0.,  0.,  0.],\n",
       "        [54., 55., 56., 57., 58., 59.,  0.,  0.,  0.,  0.,  0.,  0.,  0.,  0.],\n",
       "        [60., 61., 62., 63., 64., 65.,  0.,  0.,  0.,  0.,  0.,  0.,  0.,  0.],\n",
       "        [66., 67., 68., 69., 70., 71.,  0.,  0.,  0.,  0.,  0.,  0.,  0.,  0.]])"
      ]
     },
     "execution_count": 54,
     "metadata": {},
     "output_type": "execute_result"
    }
   ],
   "source": [
    "(A@transform)"
   ]
  },
  {
   "cell_type": "code",
   "execution_count": null,
   "id": "e191d636",
   "metadata": {},
   "outputs": [],
   "source": []
  },
  {
   "cell_type": "code",
   "execution_count": null,
   "id": "c11e5d3f",
   "metadata": {},
   "outputs": [],
   "source": []
  },
  {
   "cell_type": "code",
   "execution_count": null,
   "id": "ea139ace",
   "metadata": {},
   "outputs": [],
   "source": []
  }
 ],
 "metadata": {
  "kernelspec": {
   "display_name": "Python 3 (ipykernel)",
   "language": "python",
   "name": "python3"
  },
  "language_info": {
   "codemirror_mode": {
    "name": "ipython",
    "version": 3
   },
   "file_extension": ".py",
   "mimetype": "text/x-python",
   "name": "python",
   "nbconvert_exporter": "python",
   "pygments_lexer": "ipython3",
   "version": "3.11.5"
  }
 },
 "nbformat": 4,
 "nbformat_minor": 5
}
