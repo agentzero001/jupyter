{
 "cells": [
  {
   "cell_type": "markdown",
   "id": "5b67c886",
   "metadata": {},
   "source": [
    "#### This notebook provides several classes which all inherit torch.utils.data.Dataset and use different means to get your data right"
   ]
  },
  {
   "cell_type": "code",
   "execution_count": 2,
   "id": "a03a3315",
   "metadata": {},
   "outputs": [],
   "source": [
    "import torch\n",
    "from torch.utils.data import Dataset, DataLoader\n",
    "import numpy as np\n",
    "import math\n",
    "from sklearn.model_selection import train_test_split"
   ]
  },
  {
   "cell_type": "code",
   "execution_count": 3,
   "id": "c400f2d5",
   "metadata": {},
   "outputs": [],
   "source": [
    "class CustomDataset(Dataset):\n",
    "    def __init__(self, name, root, filename, transform=None):\n",
    "        self.filename = filename\n",
    "        self.root = root\n",
    "        self.name = name\n",
    "        xy = np.loadtxt('{}/{}'.format(root, filename), delimiter=',', dtype=np.float32, skiprows=1)\n",
    "        self.x = torch.from_numpy(xy[:, 1:])\n",
    "        self.y = torch.from_numpy(xy[:, 0])\n",
    "        self.n_samples = xy.shape[0]\n",
    "        self.transform = transform\n",
    "        \n",
    "    def __repr__(self):\n",
    "        transform_repr = repr(self.transform) if self.transform else 'None'\n",
    "        return (f\"Dataset {self.name}\\n\"\n",
    "                f\"    Number of datapoints: {self.n_samples}\\n\"\n",
    "                f\"    Root location: {self.root}\\n\"\n",
    "                f\"    Filename: {self.filename}\\n\"\n",
    "                f\"    Transform: {transform_repr}\")\n",
    "        \n",
    "    def __getitem__(self, index):\n",
    "        return self.x[index], self.y[index]\n",
    "\n",
    "    def __len__(self):\n",
    "        return self.n_samples   \n",
    "    \n",
    "    def train_test_split(self, test_size=.2):\n",
    "        return train_test_split(self.x, self.y, test_size=test_size)        "
   ]
  },
  {
   "cell_type": "code",
   "execution_count": 4,
   "id": "8bda6180",
   "metadata": {},
   "outputs": [
    {
     "data": {
      "text/plain": [
       "(178,\n",
       " tensor([1.4230e+01, 1.7100e+00, 2.4300e+00, 1.5600e+01, 1.2700e+02, 2.8000e+00,\n",
       "         3.0600e+00, 2.8000e-01, 2.2900e+00, 5.6400e+00, 1.0400e+00, 3.9200e+00,\n",
       "         1.0650e+03]),\n",
       " tensor(1.))"
      ]
     },
     "execution_count": 4,
     "metadata": {},
     "output_type": "execute_result"
    }
   ],
   "source": [
    "#here we create an instance of the class above and look at x_1 and corresponding y_1\n",
    "dataset = CustomDataset(name='wine', root='./data', filename='wine.csv')\n",
    "feature, label = dataset[0]\n",
    "len(dataset), feature, label"
   ]
  },
  {
   "cell_type": "code",
   "execution_count": 5,
   "id": "85b5e7d0",
   "metadata": {},
   "outputs": [],
   "source": [
    "#here we are using the method train_test_split to split or data into a train and test dataset.\n",
    "test_train_data = dataset.train_test_split(test_size=0.1)\n",
    "X_train, X_test, y_train, y_test = test_train_data"
   ]
  },
  {
   "cell_type": "code",
   "execution_count": 6,
   "id": "838fc702",
   "metadata": {},
   "outputs": [
    {
     "data": {
      "text/plain": [
       "(torch.Size([160, 13]),\n",
       " torch.Size([160]),\n",
       " torch.Size([18, 13]),\n",
       " torch.Size([18]))"
      ]
     },
     "execution_count": 6,
     "metadata": {},
     "output_type": "execute_result"
    }
   ],
   "source": [
    "X_train.shape, y_train.shape, X_test.shape, y_test.shape"
   ]
  },
  {
   "cell_type": "code",
   "execution_count": 7,
   "id": "115480ff",
   "metadata": {},
   "outputs": [],
   "source": [
    "#but we need the data to be inside the class instances so we create our to instances and overwrite the internal data.\n",
    "train_data = CustomDataset(name='wine', root='./data', filename='wine.csv')\n",
    "test_data = CustomDataset(name='wine', root='./data', filename='wine.csv')"
   ]
  },
  {
   "cell_type": "code",
   "execution_count": 8,
   "id": "6bdc05f6",
   "metadata": {},
   "outputs": [],
   "source": [
    "#following chatgpt's suggestion to just overwrite the internal data\n",
    "#scroll down for a better solution\n",
    "train_data.x = X_train; train_data.y = y_train\n",
    "train_data.n_samples = X_train.shape[0]\n",
    "\n",
    "test_data.x = X_test; test_data.y = y_test\n",
    "test_data.n_samples = X_test.shape[0]"
   ]
  },
  {
   "cell_type": "code",
   "execution_count": 9,
   "id": "119fa7d2",
   "metadata": {},
   "outputs": [
    {
     "data": {
      "text/plain": [
       "Dataset wine\n",
       "    Number of datapoints: 160\n",
       "    Root location: ./data\n",
       "    Filename: wine.csv\n",
       "    Transform: None"
      ]
     },
     "execution_count": 9,
     "metadata": {},
     "output_type": "execute_result"
    }
   ],
   "source": [
    "train_data"
   ]
  },
  {
   "cell_type": "code",
   "execution_count": 10,
   "id": "107a4848",
   "metadata": {},
   "outputs": [
    {
     "data": {
      "text/plain": [
       "Dataset wine\n",
       "    Number of datapoints: 18\n",
       "    Root location: ./data\n",
       "    Filename: wine.csv\n",
       "    Transform: None"
      ]
     },
     "execution_count": 10,
     "metadata": {},
     "output_type": "execute_result"
    }
   ],
   "source": [
    "test_data"
   ]
  },
  {
   "cell_type": "code",
   "execution_count": 11,
   "id": "10e06af8",
   "metadata": {},
   "outputs": [],
   "source": [
    "#the purpose of the class which inherits torch.utils.data.Dataset is that it now is in \n",
    "#the right format to be passed into the torch.utils.data.DataLoader function.\n",
    "#This function will feed data into the neural_networks\n",
    "dataloader = DataLoader(dataset, batch_size=4, shuffle=True)"
   ]
  },
  {
   "cell_type": "code",
   "execution_count": 12,
   "id": "3821f0d1",
   "metadata": {},
   "outputs": [
    {
     "data": {
      "text/plain": [
       "[tensor([[1.2080e+01, 1.1300e+00, 2.5100e+00, 2.4000e+01, 7.8000e+01, 2.0000e+00,\n",
       "          1.5800e+00, 4.0000e-01, 1.4000e+00, 2.2000e+00, 1.3100e+00, 2.7200e+00,\n",
       "          6.3000e+02],\n",
       "         [1.4100e+01, 2.0200e+00, 2.4000e+00, 1.8800e+01, 1.0300e+02, 2.7500e+00,\n",
       "          2.9200e+00, 3.2000e-01, 2.3800e+00, 6.2000e+00, 1.0700e+00, 2.7500e+00,\n",
       "          1.0600e+03],\n",
       "         [1.4020e+01, 1.6800e+00, 2.2100e+00, 1.6000e+01, 9.6000e+01, 2.6500e+00,\n",
       "          2.3300e+00, 2.6000e-01, 1.9800e+00, 4.7000e+00, 1.0400e+00, 3.5900e+00,\n",
       "          1.0350e+03],\n",
       "         [1.3160e+01, 2.3600e+00, 2.6700e+00, 1.8600e+01, 1.0100e+02, 2.8000e+00,\n",
       "          3.2400e+00, 3.0000e-01, 2.8100e+00, 5.6800e+00, 1.0300e+00, 3.1700e+00,\n",
       "          1.1850e+03]]),\n",
       " tensor([2., 1., 1., 1.])]"
      ]
     },
     "execution_count": 12,
     "metadata": {},
     "output_type": "execute_result"
    }
   ],
   "source": [
    "dataiter = iter(dataloader)\n",
    "data = next(dataiter)\n",
    "data"
   ]
  },
  {
   "cell_type": "code",
   "execution_count": 13,
   "id": "1ae92fb4",
   "metadata": {},
   "outputs": [
    {
     "data": {
      "text/plain": [
       "(178, 45, 45)"
      ]
     },
     "execution_count": 13,
     "metadata": {},
     "output_type": "execute_result"
    }
   ],
   "source": [
    "num_epochs = 2\n",
    "total_samples = len(dataset)\n",
    "n_iterations = math.ceil(total_samples/4)\n",
    "total_samples, n_iterations, len(list(dataloader))"
   ]
  },
  {
   "cell_type": "code",
   "execution_count": 14,
   "id": "3c85db01",
   "metadata": {},
   "outputs": [
    {
     "name": "stdout",
     "output_type": "stream",
     "text": [
      "1/2, step 5/45, input.shape = 4\n",
      "1/2, step 10/45, input.shape = 4\n",
      "1/2, step 15/45, input.shape = 4\n",
      "1/2, step 20/45, input.shape = 4\n",
      "1/2, step 25/45, input.shape = 4\n",
      "1/2, step 30/45, input.shape = 4\n",
      "1/2, step 35/45, input.shape = 4\n",
      "1/2, step 40/45, input.shape = 4\n",
      "1/2, step 45/45, input.shape = 2\n",
      "2/2, step 5/45, input.shape = 4\n",
      "2/2, step 10/45, input.shape = 4\n",
      "2/2, step 15/45, input.shape = 4\n",
      "2/2, step 20/45, input.shape = 4\n",
      "2/2, step 25/45, input.shape = 4\n",
      "2/2, step 30/45, input.shape = 4\n",
      "2/2, step 35/45, input.shape = 4\n",
      "2/2, step 40/45, input.shape = 4\n",
      "2/2, step 45/45, input.shape = 2\n"
     ]
    }
   ],
   "source": [
    "for epoch in range(num_epochs):\n",
    "    for i, (inputs, labels) in enumerate(dataloader):\n",
    "        if (i+1) % 5 == 0:\n",
    "            print('{}/{}, step {}/{}, input.shape = {}'.format(epoch+1, num_epochs, i+1,\n",
    "                                                               n_iterations, inputs.shape[0]))"
   ]
  },
  {
   "cell_type": "code",
   "execution_count": 15,
   "id": "f29979b6",
   "metadata": {},
   "outputs": [],
   "source": [
    "import torchvision.datasets as datasets\n",
    "import torchvision.transforms as transforms"
   ]
  },
  {
   "cell_type": "code",
   "execution_count": 16,
   "id": "d801a895",
   "metadata": {},
   "outputs": [],
   "source": [
    "train_dataset = datasets.MNIST(root='/data', train=True, download=True,\n",
    "                               transform=transforms.ToTensor())"
   ]
  },
  {
   "cell_type": "code",
   "execution_count": 17,
   "id": "3ea506a7",
   "metadata": {},
   "outputs": [
    {
     "data": {
      "text/plain": [
       "Dataset MNIST\n",
       "    Number of datapoints: 60000\n",
       "    Root location: /data\n",
       "    Split: Train\n",
       "    StandardTransform\n",
       "Transform: ToTensor()"
      ]
     },
     "execution_count": 17,
     "metadata": {},
     "output_type": "execute_result"
    }
   ],
   "source": [
    "train_dataset"
   ]
  },
  {
   "cell_type": "code",
   "execution_count": 18,
   "id": "35e58e44",
   "metadata": {},
   "outputs": [
    {
     "data": {
      "text/plain": [
       "Dataset wine\n",
       "    Number of datapoints: 178\n",
       "    Root location: ./data\n",
       "    Filename: wine.csv\n",
       "    Transform: None"
      ]
     },
     "execution_count": 18,
     "metadata": {},
     "output_type": "execute_result"
    }
   ],
   "source": [
    "dataset"
   ]
  },
  {
   "cell_type": "code",
   "execution_count": 19,
   "id": "52e594ed",
   "metadata": {},
   "outputs": [
    {
     "data": {
      "text/plain": [
       "5"
      ]
     },
     "execution_count": 19,
     "metadata": {},
     "output_type": "execute_result"
    }
   ],
   "source": [
    "train_dataset[0][1]"
   ]
  },
  {
   "cell_type": "code",
   "execution_count": 20,
   "id": "687fd753",
   "metadata": {},
   "outputs": [],
   "source": [
    "dataloader2 = DataLoader(train_dataset, batch_size=4, shuffle=True)"
   ]
  },
  {
   "cell_type": "code",
   "execution_count": null,
   "id": "d30250d5",
   "metadata": {},
   "outputs": [],
   "source": []
  },
  {
   "cell_type": "code",
   "execution_count": 21,
   "id": "f865fd7c",
   "metadata": {},
   "outputs": [],
   "source": [
    "#Dataset where numpy is used to read a csv file, where the first row are the labels and the first column \n",
    "#is goint go be y. It should be easy to change your y or scroll down for a class which gets a pandas df as input\n",
    "class CustomDataset(Dataset):\n",
    "    def __init__(self, name, root, filename, train, transform=None, test_size=.2):\n",
    "        self.filename = filename\n",
    "        self.root = root\n",
    "        self.name = name\n",
    "        xy = np.loadtxt('{}/{}'.format(root, filename), delimiter=',', dtype=np.float32, skiprows=1)\n",
    "        self.xtemp = torch.from_numpy(xy[:, 1:])\n",
    "        self.ytemp = torch.from_numpy(xy[:, 0])\n",
    "        self.transform = transform\n",
    "        self.train = train\n",
    "        self.test_size = test_size\n",
    "        self.x, self.y = self.split()\n",
    "        self.n_samples = self.x.shape[0]\n",
    "        \n",
    "    def split(self):\n",
    "        X_train, X_test, y_train, y_test = train_test_split(self.xtemp,\n",
    "                                                            self.ytemp, \n",
    "                                                            test_size=self.test_size,\n",
    "                                                            random_state=42)\n",
    "        if self.train:\n",
    "            return X_train, y_train\n",
    "        else:\n",
    "            return X_test, y_test\n",
    "    \n",
    "    def __repr__(self):\n",
    "        transform_repr = repr(self.transform) if self.transform else 'None'\n",
    "        return (f\"Dataset {self.name}\\n\"\n",
    "                f\"    Number of datapoints: {self.n_samples}\\n\"\n",
    "                f\"    Root location: {self.root}\\n\"\n",
    "                f\"    Filename: {self.filename}\\n\"\n",
    "                f\"    Transform: {transform_repr}\")\n",
    "\n",
    "    #this should do\n",
    "    def __getitem__(self, index):\n",
    "        x, y = self.x[index], self.y[index]\n",
    "        if self.transform:\n",
    "            x = self.transform(x)\n",
    "        return x, y\n",
    "\n",
    "    def __len__(self):\n",
    "        return self.n_samples   "
   ]
  },
  {
   "cell_type": "code",
   "execution_count": 22,
   "id": "2cd85690",
   "metadata": {},
   "outputs": [],
   "source": [
    "#the random_state parameter will ensure that the same split is happening for both class instances. Right?\n",
    "train_dataset = CustomDataset(name='wine', root='./data', filename='wine.csv', train=True, test_size=.1)\n",
    "test_dataset = CustomDataset(name='wine', root='./data', filename='wine.csv', train=False, test_size=.1)"
   ]
  },
  {
   "cell_type": "code",
   "execution_count": 23,
   "id": "2bac6a82",
   "metadata": {},
   "outputs": [
    {
     "data": {
      "text/plain": [
       "Dataset wine\n",
       "    Number of datapoints: 160\n",
       "    Root location: ./data\n",
       "    Filename: wine.csv\n",
       "    Transform: None"
      ]
     },
     "execution_count": 23,
     "metadata": {},
     "output_type": "execute_result"
    }
   ],
   "source": [
    "train_dataset"
   ]
  },
  {
   "cell_type": "code",
   "execution_count": 24,
   "id": "88a843b3",
   "metadata": {},
   "outputs": [
    {
     "data": {
      "text/plain": [
       "(tensor([1.3860e+01, 1.3500e+00, 2.2700e+00, 1.6000e+01, 9.8000e+01, 2.9800e+00,\n",
       "         3.1500e+00, 2.2000e-01, 1.8500e+00, 7.2200e+00, 1.0100e+00, 3.5500e+00,\n",
       "         1.0450e+03]),\n",
       " tensor(1.))"
      ]
     },
     "execution_count": 24,
     "metadata": {},
     "output_type": "execute_result"
    }
   ],
   "source": [
    "train_dataset[0]"
   ]
  },
  {
   "cell_type": "code",
   "execution_count": 25,
   "id": "34ab5f5c",
   "metadata": {},
   "outputs": [
    {
     "data": {
      "text/plain": [
       "Dataset wine\n",
       "    Number of datapoints: 18\n",
       "    Root location: ./data\n",
       "    Filename: wine.csv\n",
       "    Transform: None"
      ]
     },
     "execution_count": 25,
     "metadata": {},
     "output_type": "execute_result"
    }
   ],
   "source": [
    "test_dataset"
   ]
  },
  {
   "cell_type": "code",
   "execution_count": 26,
   "id": "9bb41e6c",
   "metadata": {},
   "outputs": [],
   "source": [
    "dataloader3 = DataLoader(train_dataset, batch_size=4, shuffle=True)"
   ]
  },
  {
   "cell_type": "code",
   "execution_count": 27,
   "id": "ba42e347",
   "metadata": {},
   "outputs": [
    {
     "name": "stdout",
     "output_type": "stream",
     "text": [
      "1/2, step 5/45, input.shape = 4\n",
      "1/2, step 10/45, input.shape = 4\n",
      "1/2, step 15/45, input.shape = 4\n",
      "1/2, step 20/45, input.shape = 4\n",
      "1/2, step 25/45, input.shape = 4\n",
      "1/2, step 30/45, input.shape = 4\n",
      "1/2, step 35/45, input.shape = 4\n",
      "1/2, step 40/45, input.shape = 4\n",
      "2/2, step 5/45, input.shape = 4\n",
      "2/2, step 10/45, input.shape = 4\n",
      "2/2, step 15/45, input.shape = 4\n",
      "2/2, step 20/45, input.shape = 4\n",
      "2/2, step 25/45, input.shape = 4\n",
      "2/2, step 30/45, input.shape = 4\n",
      "2/2, step 35/45, input.shape = 4\n",
      "2/2, step 40/45, input.shape = 4\n"
     ]
    }
   ],
   "source": [
    "for epoch in range(num_epochs):\n",
    "    for i, (inputs, labels) in enumerate(dataloader3):\n",
    "        if (i+1) % 5 == 0:\n",
    "            print('{}/{}, step {}/{}, input.shape = {}'.format(epoch+1,\n",
    "                                                               num_epochs,\n",
    "                                                               i+1,\n",
    "                                                               n_iterations,\n",
    "                                                               inputs.shape[0]))"
   ]
  },
  {
   "cell_type": "code",
   "execution_count": 28,
   "id": "c00938ba",
   "metadata": {},
   "outputs": [],
   "source": [
    "#now we need a transform function, because tansforming your data is a good and important practice.\n",
    "normalize = lambda X: (X - X.mean(0)) / X.std(0)\n",
    "normalize.__name__ = 'normalize'"
   ]
  },
  {
   "cell_type": "code",
   "execution_count": 29,
   "id": "4ff05326",
   "metadata": {},
   "outputs": [],
   "source": [
    "test_dataset = CustomDataset(name='wine',\n",
    "                             root='./data',\n",
    "                             filename='wine.csv', \n",
    "                             train=False, test_size=.1,\n",
    "                             transform=normalize)"
   ]
  },
  {
   "cell_type": "code",
   "execution_count": 30,
   "id": "afe03850",
   "metadata": {},
   "outputs": [
    {
     "data": {
      "text/plain": [
       "Dataset wine\n",
       "    Number of datapoints: 18\n",
       "    Root location: ./data\n",
       "    Filename: wine.csv\n",
       "    Transform: <function <lambda> at 0x000001CFA52D8860>"
      ]
     },
     "execution_count": 30,
     "metadata": {},
     "output_type": "execute_result"
    }
   ],
   "source": [
    "test_dataset"
   ]
  },
  {
   "cell_type": "code",
   "execution_count": 31,
   "id": "f63568f8",
   "metadata": {},
   "outputs": [
    {
     "name": "stdout",
     "output_type": "stream",
     "text": [
      "tensor(0) tensor(1.)\n",
      "tensor(0) tensor(1.0000)\n",
      "tensor(0) tensor(1.)\n",
      "tensor(0) tensor(1.0000)\n",
      "tensor(0) tensor(1.0000)\n",
      "tensor(0) tensor(1.0000)\n",
      "tensor(0) tensor(1.)\n",
      "tensor(0) tensor(1.0000)\n",
      "tensor(0) tensor(1.0000)\n",
      "tensor(0) tensor(1.)\n",
      "tensor(0) tensor(1.0000)\n",
      "tensor(0) tensor(1.)\n",
      "tensor(0) tensor(1.)\n",
      "tensor(0) tensor(1.)\n",
      "tensor(0) tensor(1.)\n",
      "tensor(0) tensor(1.)\n",
      "tensor(0) tensor(1.)\n",
      "tensor(0) tensor(1.)\n"
     ]
    }
   ],
   "source": [
    "#note that the internal data doesn't change and your transform is only applied as you iterate through the dataset\n",
    "for x, y in test_dataset:\n",
    "    print(x.mean().long(), x.std())"
   ]
  },
  {
   "cell_type": "code",
   "execution_count": 32,
   "id": "8aa698a9",
   "metadata": {},
   "outputs": [],
   "source": [
    "#next up is going to be the same class where its input will be a pandas DataFrame\n",
    "import pandas as pd\n",
    "df = pd.read_csv('data/wine.csv')"
   ]
  },
  {
   "cell_type": "code",
   "execution_count": 33,
   "id": "5b205321",
   "metadata": {},
   "outputs": [
    {
     "data": {
      "text/html": [
       "<div>\n",
       "<style scoped>\n",
       "    .dataframe tbody tr th:only-of-type {\n",
       "        vertical-align: middle;\n",
       "    }\n",
       "\n",
       "    .dataframe tbody tr th {\n",
       "        vertical-align: top;\n",
       "    }\n",
       "\n",
       "    .dataframe thead th {\n",
       "        text-align: right;\n",
       "    }\n",
       "</style>\n",
       "<table border=\"1\" class=\"dataframe\">\n",
       "  <thead>\n",
       "    <tr style=\"text-align: right;\">\n",
       "      <th></th>\n",
       "      <th>Wine</th>\n",
       "      <th>Alcohol</th>\n",
       "      <th>Malic.acid</th>\n",
       "      <th>Ash</th>\n",
       "      <th>Acl</th>\n",
       "      <th>Mg</th>\n",
       "      <th>Phenols</th>\n",
       "      <th>Flavanoids</th>\n",
       "      <th>Nonflavanoid.phenols</th>\n",
       "      <th>Proanth</th>\n",
       "      <th>Color.int</th>\n",
       "      <th>Hue</th>\n",
       "      <th>OD</th>\n",
       "      <th>Proline</th>\n",
       "    </tr>\n",
       "  </thead>\n",
       "  <tbody>\n",
       "    <tr>\n",
       "      <th>0</th>\n",
       "      <td>1</td>\n",
       "      <td>14.23</td>\n",
       "      <td>1.71</td>\n",
       "      <td>2.43</td>\n",
       "      <td>15.6</td>\n",
       "      <td>127</td>\n",
       "      <td>2.80</td>\n",
       "      <td>3.06</td>\n",
       "      <td>0.28</td>\n",
       "      <td>2.29</td>\n",
       "      <td>5.64</td>\n",
       "      <td>1.04</td>\n",
       "      <td>3.92</td>\n",
       "      <td>1065</td>\n",
       "    </tr>\n",
       "    <tr>\n",
       "      <th>1</th>\n",
       "      <td>1</td>\n",
       "      <td>13.20</td>\n",
       "      <td>1.78</td>\n",
       "      <td>2.14</td>\n",
       "      <td>11.2</td>\n",
       "      <td>100</td>\n",
       "      <td>2.65</td>\n",
       "      <td>2.76</td>\n",
       "      <td>0.26</td>\n",
       "      <td>1.28</td>\n",
       "      <td>4.38</td>\n",
       "      <td>1.05</td>\n",
       "      <td>3.40</td>\n",
       "      <td>1050</td>\n",
       "    </tr>\n",
       "    <tr>\n",
       "      <th>2</th>\n",
       "      <td>1</td>\n",
       "      <td>13.16</td>\n",
       "      <td>2.36</td>\n",
       "      <td>2.67</td>\n",
       "      <td>18.6</td>\n",
       "      <td>101</td>\n",
       "      <td>2.80</td>\n",
       "      <td>3.24</td>\n",
       "      <td>0.30</td>\n",
       "      <td>2.81</td>\n",
       "      <td>5.68</td>\n",
       "      <td>1.03</td>\n",
       "      <td>3.17</td>\n",
       "      <td>1185</td>\n",
       "    </tr>\n",
       "    <tr>\n",
       "      <th>3</th>\n",
       "      <td>1</td>\n",
       "      <td>14.37</td>\n",
       "      <td>1.95</td>\n",
       "      <td>2.50</td>\n",
       "      <td>16.8</td>\n",
       "      <td>113</td>\n",
       "      <td>3.85</td>\n",
       "      <td>3.49</td>\n",
       "      <td>0.24</td>\n",
       "      <td>2.18</td>\n",
       "      <td>7.80</td>\n",
       "      <td>0.86</td>\n",
       "      <td>3.45</td>\n",
       "      <td>1480</td>\n",
       "    </tr>\n",
       "    <tr>\n",
       "      <th>4</th>\n",
       "      <td>1</td>\n",
       "      <td>13.24</td>\n",
       "      <td>2.59</td>\n",
       "      <td>2.87</td>\n",
       "      <td>21.0</td>\n",
       "      <td>118</td>\n",
       "      <td>2.80</td>\n",
       "      <td>2.69</td>\n",
       "      <td>0.39</td>\n",
       "      <td>1.82</td>\n",
       "      <td>4.32</td>\n",
       "      <td>1.04</td>\n",
       "      <td>2.93</td>\n",
       "      <td>735</td>\n",
       "    </tr>\n",
       "    <tr>\n",
       "      <th>...</th>\n",
       "      <td>...</td>\n",
       "      <td>...</td>\n",
       "      <td>...</td>\n",
       "      <td>...</td>\n",
       "      <td>...</td>\n",
       "      <td>...</td>\n",
       "      <td>...</td>\n",
       "      <td>...</td>\n",
       "      <td>...</td>\n",
       "      <td>...</td>\n",
       "      <td>...</td>\n",
       "      <td>...</td>\n",
       "      <td>...</td>\n",
       "      <td>...</td>\n",
       "    </tr>\n",
       "    <tr>\n",
       "      <th>173</th>\n",
       "      <td>3</td>\n",
       "      <td>13.71</td>\n",
       "      <td>5.65</td>\n",
       "      <td>2.45</td>\n",
       "      <td>20.5</td>\n",
       "      <td>95</td>\n",
       "      <td>1.68</td>\n",
       "      <td>0.61</td>\n",
       "      <td>0.52</td>\n",
       "      <td>1.06</td>\n",
       "      <td>7.70</td>\n",
       "      <td>0.64</td>\n",
       "      <td>1.74</td>\n",
       "      <td>740</td>\n",
       "    </tr>\n",
       "    <tr>\n",
       "      <th>174</th>\n",
       "      <td>3</td>\n",
       "      <td>13.40</td>\n",
       "      <td>3.91</td>\n",
       "      <td>2.48</td>\n",
       "      <td>23.0</td>\n",
       "      <td>102</td>\n",
       "      <td>1.80</td>\n",
       "      <td>0.75</td>\n",
       "      <td>0.43</td>\n",
       "      <td>1.41</td>\n",
       "      <td>7.30</td>\n",
       "      <td>0.70</td>\n",
       "      <td>1.56</td>\n",
       "      <td>750</td>\n",
       "    </tr>\n",
       "    <tr>\n",
       "      <th>175</th>\n",
       "      <td>3</td>\n",
       "      <td>13.27</td>\n",
       "      <td>4.28</td>\n",
       "      <td>2.26</td>\n",
       "      <td>20.0</td>\n",
       "      <td>120</td>\n",
       "      <td>1.59</td>\n",
       "      <td>0.69</td>\n",
       "      <td>0.43</td>\n",
       "      <td>1.35</td>\n",
       "      <td>10.20</td>\n",
       "      <td>0.59</td>\n",
       "      <td>1.56</td>\n",
       "      <td>835</td>\n",
       "    </tr>\n",
       "    <tr>\n",
       "      <th>176</th>\n",
       "      <td>3</td>\n",
       "      <td>13.17</td>\n",
       "      <td>2.59</td>\n",
       "      <td>2.37</td>\n",
       "      <td>20.0</td>\n",
       "      <td>120</td>\n",
       "      <td>1.65</td>\n",
       "      <td>0.68</td>\n",
       "      <td>0.53</td>\n",
       "      <td>1.46</td>\n",
       "      <td>9.30</td>\n",
       "      <td>0.60</td>\n",
       "      <td>1.62</td>\n",
       "      <td>840</td>\n",
       "    </tr>\n",
       "    <tr>\n",
       "      <th>177</th>\n",
       "      <td>3</td>\n",
       "      <td>14.13</td>\n",
       "      <td>4.10</td>\n",
       "      <td>2.74</td>\n",
       "      <td>24.5</td>\n",
       "      <td>96</td>\n",
       "      <td>2.05</td>\n",
       "      <td>0.76</td>\n",
       "      <td>0.56</td>\n",
       "      <td>1.35</td>\n",
       "      <td>9.20</td>\n",
       "      <td>0.61</td>\n",
       "      <td>1.60</td>\n",
       "      <td>560</td>\n",
       "    </tr>\n",
       "  </tbody>\n",
       "</table>\n",
       "<p>178 rows × 14 columns</p>\n",
       "</div>"
      ],
      "text/plain": [
       "     Wine  Alcohol  Malic.acid   Ash   Acl   Mg  Phenols  Flavanoids  \\\n",
       "0       1    14.23        1.71  2.43  15.6  127     2.80        3.06   \n",
       "1       1    13.20        1.78  2.14  11.2  100     2.65        2.76   \n",
       "2       1    13.16        2.36  2.67  18.6  101     2.80        3.24   \n",
       "3       1    14.37        1.95  2.50  16.8  113     3.85        3.49   \n",
       "4       1    13.24        2.59  2.87  21.0  118     2.80        2.69   \n",
       "..    ...      ...         ...   ...   ...  ...      ...         ...   \n",
       "173     3    13.71        5.65  2.45  20.5   95     1.68        0.61   \n",
       "174     3    13.40        3.91  2.48  23.0  102     1.80        0.75   \n",
       "175     3    13.27        4.28  2.26  20.0  120     1.59        0.69   \n",
       "176     3    13.17        2.59  2.37  20.0  120     1.65        0.68   \n",
       "177     3    14.13        4.10  2.74  24.5   96     2.05        0.76   \n",
       "\n",
       "     Nonflavanoid.phenols  Proanth  Color.int   Hue    OD  Proline  \n",
       "0                    0.28     2.29       5.64  1.04  3.92     1065  \n",
       "1                    0.26     1.28       4.38  1.05  3.40     1050  \n",
       "2                    0.30     2.81       5.68  1.03  3.17     1185  \n",
       "3                    0.24     2.18       7.80  0.86  3.45     1480  \n",
       "4                    0.39     1.82       4.32  1.04  2.93      735  \n",
       "..                    ...      ...        ...   ...   ...      ...  \n",
       "173                  0.52     1.06       7.70  0.64  1.74      740  \n",
       "174                  0.43     1.41       7.30  0.70  1.56      750  \n",
       "175                  0.43     1.35      10.20  0.59  1.56      835  \n",
       "176                  0.53     1.46       9.30  0.60  1.62      840  \n",
       "177                  0.56     1.35       9.20  0.61  1.60      560  \n",
       "\n",
       "[178 rows x 14 columns]"
      ]
     },
     "execution_count": 33,
     "metadata": {},
     "output_type": "execute_result"
    }
   ],
   "source": [
    "df"
   ]
  },
  {
   "cell_type": "code",
   "execution_count": 34,
   "id": "e799e291",
   "metadata": {},
   "outputs": [],
   "source": [
    "#next up is the class where its input gonna be a pandas DataFrame\n",
    "class CustomDataset(Dataset):\n",
    "    def __init__(self, name, df, train, transform=None, test_size=.2):\n",
    "        self.filename = filename\n",
    "        self.root = root\n",
    "        self.name = name\n",
    "        #xy = np.loadtxt('{}/{}'.format(root, filename), delimiter=',', dtype=np.float32, skiprows=1)\n",
    "        self.df = df\n",
    "        self.xy = df.values\n",
    "        self.xtemp = torch.from_numpy(xy[:, 1:])\n",
    "        self.ytemp = torch.from_numpy(xy[:, 0]) \n",
    "        self.transform = transform\n",
    "        self.train = train\n",
    "        self.test_size = test_size\n",
    "        self.x, self.y = self.split()\n",
    "        self.n_samples = self.x.shape[0]\n",
    "        \n",
    "    def split(self):\n",
    "        X_train, X_test, y_train, y_test = train_test_split(self.xtemp,\n",
    "                                                            self.ytemp, \n",
    "                                                            test_size=self.test_size,\n",
    "                                                            random_state=42)\n",
    "        if self.train:\n",
    "            return X_train, y_train\n",
    "        else:\n",
    "            return X_test, y_test\n",
    "    \n",
    "    def __repr__(self):\n",
    "        transform_repr = repr(self.transform) if self.transform else 'None'\n",
    "        return (f\"Dataset {self.name}\\n\"\n",
    "                f\"    Number of datapoints: {self.n_samples}\\n\"\n",
    "                f\"    Transform: {transform_repr}\")\n",
    "\n",
    "    #this should do\n",
    "    def __getitem__(self, index):\n",
    "        x, y = self.x[index], self.y[index]\n",
    "        if self.transform:\n",
    "            x = self.transform(x)\n",
    "        return x, y\n",
    "\n",
    "    def __len__(self):\n",
    "        return self.n_samples   "
   ]
  },
  {
   "cell_type": "code",
   "execution_count": 35,
   "id": "648d3a08",
   "metadata": {},
   "outputs": [],
   "source": []
  }
 ],
 "metadata": {
  "kernelspec": {
   "display_name": "Python 3 (ipykernel)",
   "language": "python",
   "name": "python3"
  },
  "language_info": {
   "codemirror_mode": {
    "name": "ipython",
    "version": 3
   },
   "file_extension": ".py",
   "mimetype": "text/x-python",
   "name": "python",
   "nbconvert_exporter": "python",
   "pygments_lexer": "ipython3",
   "version": "3.11.7"
  }
 },
 "nbformat": 4,
 "nbformat_minor": 5
}
