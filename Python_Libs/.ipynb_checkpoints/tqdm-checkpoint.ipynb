{
 "cells": [
  {
   "cell_type": "code",
   "execution_count": 1,
   "id": "97c48279",
   "metadata": {},
   "outputs": [],
   "source": [
    "from tqdm import tqdm\n",
    "from time import sleep"
   ]
  },
  {
   "cell_type": "code",
   "execution_count": 2,
   "id": "268ee319",
   "metadata": {},
   "outputs": [
    {
     "name": "stderr",
     "output_type": "stream",
     "text": [
      "Text You Want: 100%|█████████████████████████████████████████████████████████████████| 100/100 [00:10<00:00,  9.89it/s]\n"
     ]
    }
   ],
   "source": [
    "for i in tqdm(range(0, 100), desc =\"Text You Want\"):\n",
    "    sleep(.1)"
   ]
  },
  {
   "cell_type": "code",
   "execution_count": null,
   "id": "fe92b7fd",
   "metadata": {},
   "outputs": [],
   "source": []
  }
 ],
 "metadata": {
  "kernelspec": {
   "display_name": "Python 3 (ipykernel)",
   "language": "python",
   "name": "python3"
  },
  "language_info": {
   "codemirror_mode": {
    "name": "ipython",
    "version": 3
   },
   "file_extension": ".py",
   "mimetype": "text/x-python",
   "name": "python",
   "nbconvert_exporter": "python",
   "pygments_lexer": "ipython3",
   "version": "3.11.5"
  }
 },
 "nbformat": 4,
 "nbformat_minor": 5
}
