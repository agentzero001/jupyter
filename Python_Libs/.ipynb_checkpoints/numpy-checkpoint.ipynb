{
 "cells": [
  {
   "cell_type": "markdown",
   "id": "59e75a21",
   "metadata": {},
   "source": [
    "Most of the times I am just going through numpy manual in this notebook:\n",
    "https://numpy.org/doc/1.22/numpy-user.pdf"
   ]
  },
  {
   "cell_type": "code",
   "execution_count": 1,
   "id": "00e9239f",
   "metadata": {},
   "outputs": [],
   "source": [
    "import numpy as np"
   ]
  },
  {
   "cell_type": "code",
   "execution_count": 2,
   "id": "1a59e4de",
   "metadata": {},
   "outputs": [
    {
     "data": {
      "text/plain": [
       "array([[0.94305611, 0.51132755, 0.97624371],\n",
       "       [0.08083602, 0.60735583, 0.37648658]])"
      ]
     },
     "execution_count": 2,
     "metadata": {},
     "output_type": "execute_result"
    }
   ],
   "source": [
    "rg = np.random.default_rng(4)\n",
    "rg.random((2,3))"
   ]
  },
  {
   "cell_type": "code",
   "execution_count": 3,
   "id": "8b86becb",
   "metadata": {},
   "outputs": [
    {
     "data": {
      "text/plain": [
       "array([[ 0,  1,  2,  3],\n",
       "       [ 4,  5,  6,  7],\n",
       "       [ 8,  9, 10, 11]])"
      ]
     },
     "execution_count": 3,
     "metadata": {},
     "output_type": "execute_result"
    }
   ],
   "source": [
    "L = np.arange(12).reshape(3,4)\n",
    "L"
   ]
  },
  {
   "cell_type": "code",
   "execution_count": 4,
   "id": "108c5ffa",
   "metadata": {},
   "outputs": [
    {
     "name": "stdout",
     "output_type": "stream",
     "text": [
      "66\n",
      "[ 0  1  3  6 10 15 21 28 36 45 55 66]\n"
     ]
    }
   ],
   "source": [
    "print(L.sum())\n",
    "print(L.cumsum())"
   ]
  },
  {
   "cell_type": "code",
   "execution_count": 5,
   "id": "593f80f9",
   "metadata": {},
   "outputs": [
    {
     "data": {
      "text/plain": [
       "(array([ 6, 22, 38]), array([12, 15, 18, 21]))"
      ]
     },
     "execution_count": 5,
     "metadata": {},
     "output_type": "execute_result"
    }
   ],
   "source": [
    "L.sum(axis=1), L.sum(axis=0)"
   ]
  },
  {
   "cell_type": "code",
   "execution_count": 6,
   "id": "d95d3870",
   "metadata": {},
   "outputs": [
    {
     "data": {
      "text/plain": [
       "array([[ 0,  1,  3,  6],\n",
       "       [ 4,  9, 15, 22],\n",
       "       [ 8, 17, 27, 38]])"
      ]
     },
     "execution_count": 6,
     "metadata": {},
     "output_type": "execute_result"
    }
   ],
   "source": [
    "L.cumsum(axis=1)"
   ]
  },
  {
   "cell_type": "code",
   "execution_count": 7,
   "id": "266f254c",
   "metadata": {},
   "outputs": [
    {
     "data": {
      "text/plain": [
       "array([[ 0,  1,  2,  3],\n",
       "       [ 4,  6,  8, 10],\n",
       "       [12, 15, 18, 21]])"
      ]
     },
     "execution_count": 7,
     "metadata": {},
     "output_type": "execute_result"
    }
   ],
   "source": [
    "L.cumsum(axis=0)"
   ]
  },
  {
   "cell_type": "code",
   "execution_count": 8,
   "id": "faa179bb",
   "metadata": {},
   "outputs": [
    {
     "data": {
      "text/plain": [
       "array([[ 0,  1,  2,  3],\n",
       "       [ 4,  5,  6,  7],\n",
       "       [ 8,  9, 10, 11]])"
      ]
     },
     "execution_count": 8,
     "metadata": {},
     "output_type": "execute_result"
    }
   ],
   "source": [
    "L"
   ]
  },
  {
   "cell_type": "code",
   "execution_count": 9,
   "id": "72fffd1c",
   "metadata": {},
   "outputs": [
    {
     "data": {
      "text/plain": [
       "6"
      ]
     },
     "execution_count": 9,
     "metadata": {},
     "output_type": "execute_result"
    }
   ],
   "source": [
    "A = np.arange(24).reshape((2,2,3,2))\n",
    "A[0,0].size"
   ]
  },
  {
   "cell_type": "code",
   "execution_count": 10,
   "id": "1297b6ab",
   "metadata": {},
   "outputs": [
    {
     "data": {
      "text/plain": [
       "array([[[[ 0,  1],\n",
       "         [ 2,  3],\n",
       "         [ 4,  5]],\n",
       "\n",
       "        [[ 6,  7],\n",
       "         [ 8,  9],\n",
       "         [10, 11]]],\n",
       "\n",
       "\n",
       "       [[[12, 13],\n",
       "         [ 0,  0],\n",
       "         [16, 17]],\n",
       "\n",
       "        [[18, 19],\n",
       "         [20, 21],\n",
       "         [22, 23]]]])"
      ]
     },
     "execution_count": 10,
     "metadata": {},
     "output_type": "execute_result"
    }
   ],
   "source": [
    "A[1,0,1] = 0\n",
    "A"
   ]
  },
  {
   "cell_type": "code",
   "execution_count": 11,
   "id": "96b90459",
   "metadata": {},
   "outputs": [
    {
     "data": {
      "text/plain": [
       "array([[[ 1,  3,  5],\n",
       "        [ 7,  9, 11]],\n",
       "\n",
       "       [[13,  0, 17],\n",
       "        [19, 21, 23]]])"
      ]
     },
     "execution_count": 11,
     "metadata": {},
     "output_type": "execute_result"
    }
   ],
   "source": [
    "A[...,1]"
   ]
  },
  {
   "cell_type": "code",
   "execution_count": 12,
   "id": "77058093",
   "metadata": {},
   "outputs": [
    {
     "data": {
      "text/plain": [
       "array([[  5,  29],\n",
       "       [ 53,  77],\n",
       "       [101, 125]])"
      ]
     },
     "execution_count": 12,
     "metadata": {},
     "output_type": "execute_result"
    }
   ],
   "source": [
    "D = np.arange(288).reshape(2,3,2,6,4)\n",
    "D[0,...,1,1]"
   ]
  },
  {
   "cell_type": "code",
   "execution_count": 13,
   "id": "0597f069",
   "metadata": {},
   "outputs": [
    {
     "data": {
      "text/plain": [
       "array([[[[  0,   1,   2,   3],\n",
       "         [  4,   5,   6,   7],\n",
       "         [  8,   9,  10,  11],\n",
       "         [ 12,  13,  14,  15],\n",
       "         [ 16,  17,  18,  19],\n",
       "         [ 20,  21,  22,  23]],\n",
       "\n",
       "        [[ 24,  25,  26,  27],\n",
       "         [ 28,  29,  30,  31],\n",
       "         [ 32,  33,  34,  35],\n",
       "         [ 36,  37,  38,  39],\n",
       "         [ 40,  41,  42,  43],\n",
       "         [ 44,  45,  46,  47]]],\n",
       "\n",
       "\n",
       "       [[[ 48,  49,  50,  51],\n",
       "         [ 52,  53,  54,  55],\n",
       "         [ 56,  57,  58,  59],\n",
       "         [ 60,  61,  62,  63],\n",
       "         [ 64,  65,  66,  67],\n",
       "         [ 68,  69,  70,  71]],\n",
       "\n",
       "        [[ 72,  73,  74,  75],\n",
       "         [ 76,  77,  78,  79],\n",
       "         [ 80,  81,  82,  83],\n",
       "         [ 84,  85,  86,  87],\n",
       "         [ 88,  89,  90,  91],\n",
       "         [ 92,  93,  94,  95]]],\n",
       "\n",
       "\n",
       "       [[[ 96,  97,  98,  99],\n",
       "         [100, 101, 102, 103],\n",
       "         [104, 105, 106, 107],\n",
       "         [108, 109, 110, 111],\n",
       "         [112, 113, 114, 115],\n",
       "         [116, 117, 118, 119]],\n",
       "\n",
       "        [[120, 121, 122, 123],\n",
       "         [124, 125, 126, 127],\n",
       "         [128, 129, 130, 131],\n",
       "         [132, 133, 134, 135],\n",
       "         [136, 137, 138, 139],\n",
       "         [140, 141, 142, 143]]]])"
      ]
     },
     "execution_count": 13,
     "metadata": {},
     "output_type": "execute_result"
    }
   ],
   "source": [
    "D[0]"
   ]
  },
  {
   "cell_type": "code",
   "execution_count": 14,
   "id": "fad5a353",
   "metadata": {},
   "outputs": [
    {
     "data": {
      "text/plain": [
       "array([[[ 0,  1,  2,  3],\n",
       "        [ 4,  5,  6,  7],\n",
       "        [ 8,  9, 10, 11]],\n",
       "\n",
       "       [[12, 13, 14, 15],\n",
       "        [16, 17, 18, 19],\n",
       "        [20, 21, 22, 23]],\n",
       "\n",
       "       [[24, 25, 26, 27],\n",
       "        [28, 29, 30, 31],\n",
       "        [32, 33, 34, 35]]])"
      ]
     },
     "execution_count": 14,
     "metadata": {},
     "output_type": "execute_result"
    }
   ],
   "source": [
    "A = np.arange(36).reshape((3,3,4))\n",
    "A"
   ]
  },
  {
   "cell_type": "code",
   "execution_count": 15,
   "id": "77f6e3e7",
   "metadata": {},
   "outputs": [
    {
     "data": {
      "text/plain": [
       "array([0, 1, 2, 3])"
      ]
     },
     "execution_count": 15,
     "metadata": {},
     "output_type": "execute_result"
    }
   ],
   "source": [
    "A[0,0,:]"
   ]
  },
  {
   "cell_type": "code",
   "execution_count": 16,
   "id": "4136a05a",
   "metadata": {},
   "outputs": [
    {
     "data": {
      "text/plain": [
       "array([ 1.,  2.,  3.,  4.,  5.,  6.,  7.,  8.,  9., 10.])"
      ]
     },
     "execution_count": 16,
     "metadata": {},
     "output_type": "execute_result"
    }
   ],
   "source": [
    "A = np.array([1,2,3,4,5,6,7,8,9,10], dtype = np.float64)\n",
    "A"
   ]
  },
  {
   "cell_type": "code",
   "execution_count": 17,
   "id": "f72919bc",
   "metadata": {},
   "outputs": [
    {
     "data": {
      "text/plain": [
       "array([1. , 1.5, 2. , 3. , 4. , 5. , 6. , 7. , 8. , 9. ])"
      ]
     },
     "execution_count": 17,
     "metadata": {},
     "output_type": "execute_result"
    }
   ],
   "source": [
    "r = A.copy()\n",
    "for i in range(1,3):\n",
    "    r += np.concatenate((r[:i] / i, A[:-i]))\n",
    "r/3"
   ]
  },
  {
   "cell_type": "code",
   "execution_count": 18,
   "id": "0f5d3bdf",
   "metadata": {},
   "outputs": [
    {
     "data": {
      "text/plain": [
       "array([ 3. ,  4.5,  6. ,  9. , 12. , 15. , 18. , 21. , 24. , 27. ])"
      ]
     },
     "execution_count": 18,
     "metadata": {},
     "output_type": "execute_result"
    }
   ],
   "source": [
    "r"
   ]
  },
  {
   "cell_type": "code",
   "execution_count": 19,
   "id": "6731ed01",
   "metadata": {},
   "outputs": [
    {
     "data": {
      "text/plain": [
       "array([[[ 0,  1,  2,  3,  4],\n",
       "        [ 5,  6,  7,  8,  9],\n",
       "        [10, 11, 12, 13, 14],\n",
       "        [15, 16, 17, 18, 19],\n",
       "        [20, 21, 22, 23, 24],\n",
       "        [25, 26, 27, 28, 29],\n",
       "        [30, 31, 32, 33, 34],\n",
       "        [35, 36, 37, 38, 39],\n",
       "        [40, 41, 42, 43, 44],\n",
       "        [45, 46, 47, 48, 49]],\n",
       "\n",
       "       [[50, 51, 52, 53, 54],\n",
       "        [55, 56, 57, 58, 59],\n",
       "        [60, 61, 62, 63, 64],\n",
       "        [65, 66, 67, 68, 69],\n",
       "        [70, 71, 72, 73, 74],\n",
       "        [75, 76, 77, 78, 79],\n",
       "        [80, 81, 82, 83, 84],\n",
       "        [85, 86, 87, 88, 89],\n",
       "        [90, 91, 92, 93, 94],\n",
       "        [95, 96, 97, 98, 99]]])"
      ]
     },
     "execution_count": 19,
     "metadata": {},
     "output_type": "execute_result"
    }
   ],
   "source": [
    "L4 = np.arange(100).reshape((2, 10, 5))\n",
    "L4"
   ]
  },
  {
   "cell_type": "code",
   "execution_count": 20,
   "id": "18c38e6c",
   "metadata": {},
   "outputs": [
    {
     "data": {
      "text/plain": [
       "2"
      ]
     },
     "execution_count": 20,
     "metadata": {},
     "output_type": "execute_result"
    }
   ],
   "source": [
    "c = 0\n",
    "for i in L4:\n",
    "    c+=1\n",
    "c"
   ]
  },
  {
   "cell_type": "code",
   "execution_count": 21,
   "id": "91045b2b",
   "metadata": {},
   "outputs": [
    {
     "name": "stdout",
     "output_type": "stream",
     "text": [
      "(0, 0) 1\n",
      "(0, 1) 2\n",
      "(1, 0) 3\n",
      "(1, 1) 4\n"
     ]
    }
   ],
   "source": [
    "arr = np.array([[1, 2], [3, 4]])\n",
    "\n",
    "for index, value in np.ndenumerate(arr):\n",
    "    print(index, value)"
   ]
  },
  {
   "cell_type": "code",
   "execution_count": 22,
   "id": "2bf57467",
   "metadata": {},
   "outputs": [
    {
     "data": {
      "text/plain": [
       "[((0, 0, 0), 0),\n",
       " ((0, 0, 1), 1),\n",
       " ((0, 0, 2), 2),\n",
       " ((0, 1, 0), 3),\n",
       " ((0, 1, 1), 4),\n",
       " ((0, 1, 2), 5),\n",
       " ((0, 2, 0), 6),\n",
       " ((0, 2, 1), 7),\n",
       " ((0, 2, 2), 8),\n",
       " ((0, 3, 0), 9),\n",
       " ((0, 3, 1), 10),\n",
       " ((0, 3, 2), 11),\n",
       " ((0, 4, 0), 12),\n",
       " ((0, 4, 1), 13),\n",
       " ((0, 4, 2), 14),\n",
       " ((1, 0, 0), 15),\n",
       " ((1, 0, 1), 16),\n",
       " ((1, 0, 2), 17),\n",
       " ((1, 1, 0), 18),\n",
       " ((1, 1, 1), 19),\n",
       " ((1, 1, 2), 20),\n",
       " ((1, 2, 0), 21),\n",
       " ((1, 2, 1), 22),\n",
       " ((1, 2, 2), 23),\n",
       " ((1, 3, 0), 24),\n",
       " ((1, 3, 1), 25),\n",
       " ((1, 3, 2), 26),\n",
       " ((1, 4, 0), 27),\n",
       " ((1, 4, 1), 28),\n",
       " ((1, 4, 2), 29)]"
      ]
     },
     "execution_count": 22,
     "metadata": {},
     "output_type": "execute_result"
    }
   ],
   "source": [
    "indices = [(index, value) for index, value in np.ndenumerate(np.arange(30).reshape(2, 5, 3))]\n",
    "indices"
   ]
  },
  {
   "cell_type": "code",
   "execution_count": 23,
   "id": "d5871bc7",
   "metadata": {},
   "outputs": [
    {
     "data": {
      "text/plain": [
       "array([[[ 0.,  1.,  2.],\n",
       "        [ 3.,  4.,  5.],\n",
       "        [ 6.,  7.,  8.],\n",
       "        [ 9., 10., 11.],\n",
       "        [12., 13., 14.]],\n",
       "\n",
       "       [[15., 16., 17.],\n",
       "        [18., 19., 20.],\n",
       "        [21., 22., 23.],\n",
       "        [24., 25., 26.],\n",
       "        [27., 28., 29.]]])"
      ]
     },
     "execution_count": 23,
     "metadata": {},
     "output_type": "execute_result"
    }
   ],
   "source": [
    "A2 = np.zeros(30).reshape((2, 5, 3))\n",
    "\n",
    "for index, value in indices:\n",
    "    A2[index] = value   \n",
    "A2"
   ]
  },
  {
   "cell_type": "code",
   "execution_count": 24,
   "id": "aecbbb7a",
   "metadata": {},
   "outputs": [
    {
     "data": {
      "text/plain": [
       "array([[[ 0,  1,  2],\n",
       "        [ 3,  4,  5],\n",
       "        [ 6,  7,  8],\n",
       "        [ 9, 10, 11],\n",
       "        [12, 13, 14]],\n",
       "\n",
       "       [[15, 16, 17],\n",
       "        [18, 19, 20],\n",
       "        [21, 22, 23],\n",
       "        [24, 25, 26],\n",
       "        [27, 28, 29]]])"
      ]
     },
     "execution_count": 24,
     "metadata": {},
     "output_type": "execute_result"
    }
   ],
   "source": [
    "np.arange(30).reshape(2, 5, 3)"
   ]
  },
  {
   "cell_type": "code",
   "execution_count": 25,
   "id": "2da2e0f4",
   "metadata": {},
   "outputs": [
    {
     "data": {
      "text/plain": [
       "'3.11.3 (tags/v3.11.3:f3909b8, Apr  4 2023, 23:49:59) [MSC v.1934 64 bit (AMD64)]'"
      ]
     },
     "execution_count": 25,
     "metadata": {},
     "output_type": "execute_result"
    }
   ],
   "source": [
    "import sys\n",
    "sys.version"
   ]
  },
  {
   "cell_type": "code",
   "execution_count": 26,
   "id": "1f4cc1f4",
   "metadata": {},
   "outputs": [
    {
     "data": {
      "text/plain": [
       "array([2, 4, 6, 8])"
      ]
     },
     "execution_count": 26,
     "metadata": {},
     "output_type": "execute_result"
    }
   ],
   "source": [
    "numbers = [1, 2, 3, 4, 5, 6, 7, 8, 9]\n",
    "even_numbers = [x if x % 2 == 0 else 0 for x in numbers]\n",
    "list((map(lambda x: x % 2 and 'odd' or 'even', numbers)))\n",
    "\n",
    "myarr = np.array([even_numbers])\n",
    "myarr[myarr != 0]"
   ]
  },
  {
   "cell_type": "code",
   "execution_count": 27,
   "id": "c810bd3c",
   "metadata": {},
   "outputs": [
    {
     "data": {
      "text/plain": [
       "array([[ 0., 10., 20., 30.],\n",
       "       [10., 20., 30., 40.],\n",
       "       [20., 30., 40., 50.],\n",
       "       [30., 40., 50., 60.]])"
      ]
     },
     "execution_count": 27,
     "metadata": {},
     "output_type": "execute_result"
    }
   ],
   "source": [
    "sum_indices = lambda a, b: 10 * (a + b) \n",
    "\n",
    "arr = np.fromfunction(sum_indices, (4, 4))\n",
    "arr"
   ]
  },
  {
   "cell_type": "code",
   "execution_count": 28,
   "id": "5830b520",
   "metadata": {},
   "outputs": [
    {
     "data": {
      "text/plain": [
       "array([[ 8.,  1.,  8.,  5.],\n",
       "       [ 9.,  4.,  4., 20.],\n",
       "       [ 9.,  3.,  9.,  9.]])"
      ]
     },
     "execution_count": 28,
     "metadata": {},
     "output_type": "execute_result"
    }
   ],
   "source": [
    "A_ = np.floor(10 * rg.random((3, 4)))\n",
    "A_.flat[7] = 20\n",
    "A_"
   ]
  },
  {
   "cell_type": "code",
   "execution_count": 29,
   "id": "84a085ad",
   "metadata": {},
   "outputs": [
    {
     "data": {
      "text/plain": [
       "array([ 8.,  1.,  8.,  5.,  9.,  4.,  4., 20.,  9.,  3.,  9.,  9.])"
      ]
     },
     "execution_count": 29,
     "metadata": {},
     "output_type": "execute_result"
    }
   ],
   "source": [
    "A_.ravel()"
   ]
  },
  {
   "cell_type": "code",
   "execution_count": 30,
   "id": "4d1301cd",
   "metadata": {},
   "outputs": [
    {
     "data": {
      "text/plain": [
       "array([ 8.,  9.,  9.,  1.,  4.,  3.,  8.,  4.,  9.,  5., 20.,  9.])"
      ]
     },
     "execution_count": 30,
     "metadata": {},
     "output_type": "execute_result"
    }
   ],
   "source": [
    "A_.ravel(order='F')"
   ]
  },
  {
   "cell_type": "code",
   "execution_count": 31,
   "id": "875cad43",
   "metadata": {},
   "outputs": [
    {
     "data": {
      "text/plain": [
       "array([[ 8.,  9.,  9.],\n",
       "       [ 1.,  4.,  3.],\n",
       "       [ 8.,  4.,  9.],\n",
       "       [ 5., 20.,  9.]])"
      ]
     },
     "execution_count": 31,
     "metadata": {},
     "output_type": "execute_result"
    }
   ],
   "source": [
    "A_.T"
   ]
  },
  {
   "cell_type": "code",
   "execution_count": 32,
   "id": "86785980",
   "metadata": {},
   "outputs": [
    {
     "data": {
      "text/plain": [
       "array([[ 8.,  1.],\n",
       "       [ 8.,  5.],\n",
       "       [ 9.,  4.],\n",
       "       [ 4., 20.],\n",
       "       [ 9.,  3.],\n",
       "       [ 9.,  9.]])"
      ]
     },
     "execution_count": 32,
     "metadata": {},
     "output_type": "execute_result"
    }
   ],
   "source": [
    "A_.reshape((6,2))"
   ]
  },
  {
   "cell_type": "code",
   "execution_count": 33,
   "id": "59f4e94a",
   "metadata": {},
   "outputs": [
    {
     "data": {
      "text/plain": [
       "array([[ 8.,  1.,  8.,  5.,  9.,  4.],\n",
       "       [ 4., 20.,  9.,  3.,  9.,  9.]])"
      ]
     },
     "execution_count": 33,
     "metadata": {},
     "output_type": "execute_result"
    }
   ],
   "source": [
    "A_.resize((2,6)) #resize will modify the input array\n",
    "A_"
   ]
  },
  {
   "cell_type": "code",
   "execution_count": 34,
   "id": "8ed59ae9",
   "metadata": {},
   "outputs": [],
   "source": [
    "A2 = np.arange(60).reshape(2,10,3)"
   ]
  },
  {
   "cell_type": "code",
   "execution_count": 35,
   "id": "b993d4cb",
   "metadata": {},
   "outputs": [
    {
     "data": {
      "text/plain": [
       "array([32, 35, 38, 41, 44, 47, 50, 53, 56, 59])"
      ]
     },
     "execution_count": 35,
     "metadata": {},
     "output_type": "execute_result"
    }
   ],
   "source": [
    "A2_sliced = A2[1,:,2].ravel()\n",
    "A2_sliced"
   ]
  },
  {
   "cell_type": "code",
   "execution_count": 36,
   "id": "c5b570e8",
   "metadata": {},
   "outputs": [
    {
     "data": {
      "text/plain": [
       "array([[[11,  3,  9, 12],\n",
       "        [ 6, 14,  8, 18],\n",
       "        [ 4, 13,  1,  2]],\n",
       "\n",
       "       [[10,  9,  9,  9],\n",
       "        [17, 10,  7, 19],\n",
       "        [17,  6,  4,  4]]], dtype=int64)"
      ]
     },
     "execution_count": 36,
     "metadata": {},
     "output_type": "execute_result"
    }
   ],
   "source": [
    "A3 = rg.integers(low=0, high=20, size=(2,3,4))\n",
    "A3"
   ]
  },
  {
   "cell_type": "code",
   "execution_count": 37,
   "id": "17a23430",
   "metadata": {},
   "outputs": [
    {
     "data": {
      "text/plain": [
       "array([[1, 0, 0, 1],\n",
       "       [0, 1, 1, 0],\n",
       "       [0, 1, 0, 0]], dtype=int64)"
      ]
     },
     "execution_count": 37,
     "metadata": {},
     "output_type": "execute_result"
    }
   ],
   "source": [
    "np.argmin(A3, axis=0)"
   ]
  },
  {
   "cell_type": "code",
   "execution_count": 38,
   "id": "b03cbde7",
   "metadata": {},
   "outputs": [
    {
     "data": {
      "text/plain": [
       "array([[2, 0, 2, 2],\n",
       "       [0, 2, 2, 2]], dtype=int64)"
      ]
     },
     "execution_count": 38,
     "metadata": {},
     "output_type": "execute_result"
    }
   ],
   "source": [
    "np.argmin(A3, axis=1)"
   ]
  },
  {
   "cell_type": "code",
   "execution_count": 39,
   "id": "e105afc5",
   "metadata": {},
   "outputs": [
    {
     "data": {
      "text/plain": [
       "array([[1, 0, 2],\n",
       "       [1, 2, 2]], dtype=int64)"
      ]
     },
     "execution_count": 39,
     "metadata": {},
     "output_type": "execute_result"
    }
   ],
   "source": [
    "np.argmin(A3, axis=2)"
   ]
  },
  {
   "cell_type": "code",
   "execution_count": 40,
   "id": "4eb7bc22",
   "metadata": {},
   "outputs": [
    {
     "data": {
      "text/plain": [
       "array([[18,  7, 11],\n",
       "       [11,  4, 14],\n",
       "       [18,  0, 11]])"
      ]
     },
     "execution_count": 40,
     "metadata": {},
     "output_type": "execute_result"
    }
   ],
   "source": [
    "np.random.randint(20, size=(3,3))"
   ]
  },
  {
   "cell_type": "markdown",
   "id": "4961b8b8",
   "metadata": {},
   "source": [
    "-----"
   ]
  },
  {
   "cell_type": "markdown",
   "id": "29c14744",
   "metadata": {},
   "source": [
    "-----"
   ]
  },
  {
   "cell_type": "markdown",
   "id": "206bd04b",
   "metadata": {},
   "source": [
    "## stacking arrays"
   ]
  },
  {
   "cell_type": "code",
   "execution_count": 41,
   "id": "060f5528",
   "metadata": {},
   "outputs": [
    {
     "data": {
      "text/plain": [
       "((5, 20), (10, 10))"
      ]
     },
     "execution_count": 41,
     "metadata": {},
     "output_type": "execute_result"
    }
   ],
   "source": [
    "A5 = np.floor(10 * rg.random((5,10)))\n",
    "A6 = np.floor(10 * rg.random((5,10)))\n",
    "np.hstack((A5,A6)).shape, np.vstack((A5,A6)).shape"
   ]
  },
  {
   "cell_type": "code",
   "execution_count": 42,
   "id": "856aba2d",
   "metadata": {},
   "outputs": [
    {
     "data": {
      "text/plain": [
       "array([[3.],\n",
       "       [9.],\n",
       "       [7.],\n",
       "       [3.]])"
      ]
     },
     "execution_count": 42,
     "metadata": {},
     "output_type": "execute_result"
    }
   ],
   "source": [
    "a = np.floor(10 * rg.random((4, 5)))\n",
    "b = np.floor(10 * rg.random((4, 1)))\n",
    "b"
   ]
  },
  {
   "cell_type": "code",
   "execution_count": 43,
   "id": "79e86ca7",
   "metadata": {},
   "outputs": [
    {
     "data": {
      "text/plain": [
       "array([[8., 9., 8., 3., 6., 3.],\n",
       "       [7., 0., 7., 0., 9., 9.],\n",
       "       [2., 9., 2., 5., 8., 7.],\n",
       "       [9., 7., 8., 3., 7., 3.]])"
      ]
     },
     "execution_count": 43,
     "metadata": {},
     "output_type": "execute_result"
    }
   ],
   "source": [
    "np.column_stack((a, b))"
   ]
  },
  {
   "cell_type": "code",
   "execution_count": 44,
   "id": "ad00db53",
   "metadata": {},
   "outputs": [
    {
     "data": {
      "text/plain": [
       "array([[3., 3., 2., 4., 7.]])"
      ]
     },
     "execution_count": 44,
     "metadata": {},
     "output_type": "execute_result"
    }
   ],
   "source": [
    "a_ = np.floor(10 * rg.random((2, 5)))\n",
    "b_ = np.floor(10 * rg.random((1, 5)))\n",
    "b_"
   ]
  },
  {
   "cell_type": "code",
   "execution_count": 45,
   "id": "5e7e75e1",
   "metadata": {},
   "outputs": [
    {
     "data": {
      "text/plain": [
       "array([[ True,  True,  True,  True,  True],\n",
       "       [ True,  True,  True,  True,  True],\n",
       "       [ True,  True,  True,  True,  True]])"
      ]
     },
     "execution_count": 45,
     "metadata": {},
     "output_type": "execute_result"
    }
   ],
   "source": [
    "np.r_[a_,b_] == np.row_stack((a_, b_))"
   ]
  },
  {
   "cell_type": "code",
   "execution_count": 46,
   "id": "d1d6ebe6",
   "metadata": {},
   "outputs": [
    {
     "data": {
      "text/plain": [
       "(True, False)"
      ]
     },
     "execution_count": 46,
     "metadata": {},
     "output_type": "execute_result"
    }
   ],
   "source": [
    "np.row_stack is np.vstack, np.column_stack is np.hstack"
   ]
  },
  {
   "cell_type": "code",
   "execution_count": 47,
   "id": "7a40903f",
   "metadata": {},
   "outputs": [
    {
     "data": {
      "text/plain": [
       "array([[[8., 6.],\n",
       "        [7., 9.],\n",
       "        [6., 0.]],\n",
       "\n",
       "       [[6., 0.],\n",
       "        [6., 9.],\n",
       "        [4., 9.]]])"
      ]
     },
     "execution_count": 47,
     "metadata": {},
     "output_type": "execute_result"
    }
   ],
   "source": [
    "np.floor(10*rg.random((2,3,2)))"
   ]
  },
  {
   "cell_type": "code",
   "execution_count": 48,
   "id": "ed449fba",
   "metadata": {},
   "outputs": [
    {
     "data": {
      "text/plain": [
       "array([[[0., 0., 0., 0.],\n",
       "        [0., 0., 0., 0.],\n",
       "        [0., 0., 0., 0.]],\n",
       "\n",
       "       [[0., 0., 0., 0.],\n",
       "        [0., 0., 0., 0.],\n",
       "        [0., 0., 0., 0.]]])"
      ]
     },
     "execution_count": 48,
     "metadata": {},
     "output_type": "execute_result"
    }
   ],
   "source": [
    "a2 = np.zeros((2,3,4))\n",
    "b2 = np.ones((2,3,4))\n",
    "a2"
   ]
  },
  {
   "cell_type": "code",
   "execution_count": 49,
   "id": "c3e65b6c",
   "metadata": {},
   "outputs": [
    {
     "data": {
      "text/plain": [
       "array([[[0., 0., 0., 0.],\n",
       "        [0., 0., 0., 0.],\n",
       "        [0., 0., 0., 0.]],\n",
       "\n",
       "       [[0., 0., 0., 0.],\n",
       "        [0., 0., 0., 0.],\n",
       "        [0., 0., 0., 0.]],\n",
       "\n",
       "       [[1., 1., 1., 1.],\n",
       "        [1., 1., 1., 1.],\n",
       "        [1., 1., 1., 1.]],\n",
       "\n",
       "       [[1., 1., 1., 1.],\n",
       "        [1., 1., 1., 1.],\n",
       "        [1., 1., 1., 1.]]])"
      ]
     },
     "execution_count": 49,
     "metadata": {},
     "output_type": "execute_result"
    }
   ],
   "source": [
    "np.concatenate((a2, b2), axis=0)"
   ]
  },
  {
   "cell_type": "code",
   "execution_count": 50,
   "id": "d361183b",
   "metadata": {},
   "outputs": [
    {
     "data": {
      "text/plain": [
       "array([[[0., 0., 0., 0.],\n",
       "        [0., 0., 0., 0.],\n",
       "        [0., 0., 0., 0.],\n",
       "        [1., 1., 1., 1.],\n",
       "        [1., 1., 1., 1.],\n",
       "        [1., 1., 1., 1.]],\n",
       "\n",
       "       [[0., 0., 0., 0.],\n",
       "        [0., 0., 0., 0.],\n",
       "        [0., 0., 0., 0.],\n",
       "        [1., 1., 1., 1.],\n",
       "        [1., 1., 1., 1.],\n",
       "        [1., 1., 1., 1.]]])"
      ]
     },
     "execution_count": 50,
     "metadata": {},
     "output_type": "execute_result"
    }
   ],
   "source": [
    "np.concatenate((a2, b2), axis=1)"
   ]
  },
  {
   "cell_type": "code",
   "execution_count": 51,
   "id": "7f0f598e",
   "metadata": {
    "scrolled": true
   },
   "outputs": [
    {
     "data": {
      "text/plain": [
       "array([[[0., 0., 0., 0., 1., 1., 1., 1.],\n",
       "        [0., 0., 0., 0., 1., 1., 1., 1.],\n",
       "        [0., 0., 0., 0., 1., 1., 1., 1.]],\n",
       "\n",
       "       [[0., 0., 0., 0., 1., 1., 1., 1.],\n",
       "        [0., 0., 0., 0., 1., 1., 1., 1.],\n",
       "        [0., 0., 0., 0., 1., 1., 1., 1.]]])"
      ]
     },
     "execution_count": 51,
     "metadata": {},
     "output_type": "execute_result"
    }
   ],
   "source": [
    "np.concatenate((a2, b2), axis=2)"
   ]
  },
  {
   "cell_type": "code",
   "execution_count": 52,
   "id": "a2fe56c6",
   "metadata": {},
   "outputs": [
    {
     "data": {
      "text/plain": [
       "(array([ 1., 24., 47., 70.,  0., 20.,  3.,  4.]),\n",
       " array([[  2.,   2.],\n",
       "        [ 68.,   3.],\n",
       "        [134.,   4.],\n",
       "        [200.,   5.]]))"
      ]
     },
     "execution_count": 52,
     "metadata": {},
     "output_type": "execute_result"
    }
   ],
   "source": [
    "row1 = np.r_[1:70:4j, 0, 20, 3:5]\n",
    "col1 = np.c_[2:200:4j,2:6]\n",
    "col2 = np.c_[2:9]\n",
    "row1, col1"
   ]
  },
  {
   "cell_type": "code",
   "execution_count": 53,
   "id": "c22f62ac",
   "metadata": {},
   "outputs": [
    {
     "data": {
      "text/plain": [
       "array([[ 1., 24., 47., 70.,  0., 20.,  3.,  4.],\n",
       "       [ 1., 24., 47., 70.,  0., 20.,  3.,  4.]])"
      ]
     },
     "execution_count": 53,
     "metadata": {},
     "output_type": "execute_result"
    }
   ],
   "source": [
    "np.c_[row1,row1].T"
   ]
  },
  {
   "cell_type": "code",
   "execution_count": 54,
   "id": "15c747bf",
   "metadata": {},
   "outputs": [
    {
     "data": {
      "text/plain": [
       "array([[ 3., 26., 49., 72.,  2., 22.,  5.,  6.],\n",
       "       [ 4., 27., 50., 73.,  3., 23.,  6.,  7.],\n",
       "       [ 5., 28., 51., 74.,  4., 24.,  7.,  8.],\n",
       "       [ 6., 29., 52., 75.,  5., 25.,  8.,  9.],\n",
       "       [ 7., 30., 53., 76.,  6., 26.,  9., 10.],\n",
       "       [ 8., 31., 54., 77.,  7., 27., 10., 11.],\n",
       "       [ 9., 32., 55., 78.,  8., 28., 11., 12.]])"
      ]
     },
     "execution_count": 54,
     "metadata": {},
     "output_type": "execute_result"
    }
   ],
   "source": [
    "#broadcast\n",
    "array1 = row1 + col2\n",
    "array1"
   ]
  },
  {
   "cell_type": "code",
   "execution_count": 55,
   "id": "0ef467bd",
   "metadata": {},
   "outputs": [
    {
     "name": "stdout",
     "output_type": "stream",
     "text": [
      "[[ 3. 26. 49. 72.  2. 22.  5.  6.  3. 26. 49. 72.  2. 22.  5.  6.]\n",
      " [ 4. 27. 50. 73.  3. 23.  6.  7.  4. 27. 50. 73.  3. 23.  6.  7.]\n",
      " [ 5. 28. 51. 74.  4. 24.  7.  8.  5. 28. 51. 74.  4. 24.  7.  8.]\n",
      " [ 6. 29. 52. 75.  5. 25.  8.  9.  6. 29. 52. 75.  5. 25.  8.  9.]\n",
      " [ 7. 30. 53. 76.  6. 26.  9. 10.  7. 30. 53. 76.  6. 26.  9. 10.]\n",
      " [ 8. 31. 54. 77.  7. 27. 10. 11.  8. 31. 54. 77.  7. 27. 10. 11.]\n",
      " [ 9. 32. 55. 78.  8. 28. 11. 12.  9. 32. 55. 78.  8. 28. 11. 12.]]\n"
     ]
    }
   ],
   "source": [
    "print(np.c_[array1,array1])\n",
    "#np.r_[array1,array1]"
   ]
  },
  {
   "cell_type": "code",
   "execution_count": 56,
   "id": "4232f278",
   "metadata": {},
   "outputs": [
    {
     "data": {
      "text/plain": [
       "array([[ 15.,  25.,  35.,  45.,  55.,  65.,  75.,  85.,  95., 105.],\n",
       "       [ 20.,  30.,  40.,  50.,  60.,  70.,  80.,  90., 100., 110.],\n",
       "       [ 25.,  35.,  45.,  55.,  65.,  75.,  85.,  95., 105., 115.],\n",
       "       [ 30.,  40.,  50.,  60.,  70.,  80.,  90., 100., 110., 120.],\n",
       "       [ 35.,  45.,  55.,  65.,  75.,  85.,  95., 105., 115., 125.],\n",
       "       [ 40.,  50.,  60.,  70.,  80.,  90., 100., 110., 120., 130.],\n",
       "       [ 45.,  55.,  65.,  75.,  85.,  95., 105., 115., 125., 135.],\n",
       "       [ 50.,  60.,  70.,  80.,  90., 100., 110., 120., 130., 140.],\n",
       "       [ 55.,  65.,  75.,  85.,  95., 105., 115., 125., 135., 145.],\n",
       "       [ 60.,  70.,  80.,  90., 100., 110., 120., 130., 140., 150.],\n",
       "       [ 65.,  75.,  85.,  95., 105., 115., 125., 135., 145., 155.],\n",
       "       [ 70.,  80.,  90., 100., 110., 120., 130., 140., 150., 160.],\n",
       "       [ 75.,  85.,  95., 105., 115., 125., 135., 145., 155., 165.],\n",
       "       [ 80.,  90., 100., 110., 120., 130., 140., 150., 160., 170.],\n",
       "       [ 85.,  95., 105., 115., 125., 135., 145., 155., 165., 175.],\n",
       "       [ 90., 100., 110., 120., 130., 140., 150., 160., 170., 180.],\n",
       "       [ 95., 105., 115., 125., 135., 145., 155., 165., 175., 185.],\n",
       "       [100., 110., 120., 130., 140., 150., 160., 170., 180., 190.],\n",
       "       [105., 115., 125., 135., 145., 155., 165., 175., 185., 195.],\n",
       "       [110., 120., 130., 140., 150., 160., 170., 180., 190., 200.]])"
      ]
     },
     "execution_count": 56,
     "metadata": {},
     "output_type": "execute_result"
    }
   ],
   "source": [
    "np.c_[5:100:20j] + np.r_[10:100:10j]"
   ]
  },
  {
   "cell_type": "code",
   "execution_count": 57,
   "id": "c0dd6996",
   "metadata": {},
   "outputs": [
    {
     "data": {
      "text/plain": [
       "array([[ 10.],\n",
       "       [ 20.],\n",
       "       [ 30.],\n",
       "       [ 40.],\n",
       "       [ 50.],\n",
       "       [ 60.],\n",
       "       [ 70.],\n",
       "       [ 80.],\n",
       "       [ 90.],\n",
       "       [100.]])"
      ]
     },
     "execution_count": 57,
     "metadata": {},
     "output_type": "execute_result"
    }
   ],
   "source": [
    "#np.newaxis will create only a view \n",
    "k = np.r_[10:100:10j]\n",
    "l = np.c_[10:100:10j]\n",
    "k2 = k.copy()[:, np.newaxis] \n",
    "k2"
   ]
  },
  {
   "cell_type": "markdown",
   "id": "d098d559",
   "metadata": {},
   "source": [
    "------"
   ]
  },
  {
   "cell_type": "markdown",
   "id": "5855a968",
   "metadata": {},
   "source": [
    "## splitting arrays"
   ]
  },
  {
   "cell_type": "code",
   "execution_count": 58,
   "id": "1e4dcbfe",
   "metadata": {},
   "outputs": [
    {
     "data": {
      "text/plain": [
       "array([[ 30.,  40.,  50.,  60.,  70.,  80.,  90., 100.],\n",
       "       [ 50.,  60.,  70.,  80.,  90., 100., 110., 120.],\n",
       "       [ 70.,  80.,  90., 100., 110., 120., 130., 140.],\n",
       "       [ 90., 100., 110., 120., 130., 140., 150., 160.]])"
      ]
     },
     "execution_count": 58,
     "metadata": {},
     "output_type": "execute_result"
    }
   ],
   "source": [
    "myA = np.r_[10:80:8j] + np.c_[20:80:4j] \n",
    "myA"
   ]
  },
  {
   "cell_type": "code",
   "execution_count": 59,
   "id": "a30c30b9",
   "metadata": {},
   "outputs": [
    {
     "data": {
      "text/plain": [
       "array([[ 30.,  40.],\n",
       "       [ 50.,  60.],\n",
       "       [ 70.,  80.],\n",
       "       [ 90., 100.]])"
      ]
     },
     "execution_count": 59,
     "metadata": {},
     "output_type": "execute_result"
    }
   ],
   "source": [
    "#np.hsplit, np.vsplit and np.array_split will also only create a view\n",
    "x, *y = np.hsplit(myA, 4) \n",
    "x "
   ]
  },
  {
   "cell_type": "code",
   "execution_count": 60,
   "id": "38edb812",
   "metadata": {},
   "outputs": [
    {
     "data": {
      "text/plain": [
       "[array([[ 30.,  40.],\n",
       "        [ 50.,  60.],\n",
       "        [ 70.,  80.],\n",
       "        [ 90., 100.]]),\n",
       " array([[ 50.,  60.,  70.],\n",
       "        [ 70.,  80.,  90.],\n",
       "        [ 90., 100., 110.],\n",
       "        [110., 120., 130.]]),\n",
       " array([[ 80.],\n",
       "        [100.],\n",
       "        [120.],\n",
       "        [140.]]),\n",
       " array([[ 90., 100.],\n",
       "        [110., 120.],\n",
       "        [130., 140.],\n",
       "        [150., 160.]])]"
      ]
     },
     "execution_count": 60,
     "metadata": {},
     "output_type": "execute_result"
    }
   ],
   "source": [
    "np.hsplit(myA, (2,5,6)) #see how it works?"
   ]
  },
  {
   "cell_type": "code",
   "execution_count": 61,
   "id": "433f468c",
   "metadata": {},
   "outputs": [
    {
     "data": {
      "text/plain": [
       "array([[ 30.,  40.,  50.,  60.,  70.,  80.,  90., 100.],\n",
       "       [ 50.,  60.,  70.,  80.,  90., 100., 110., 120.]])"
      ]
     },
     "execution_count": 61,
     "metadata": {},
     "output_type": "execute_result"
    }
   ],
   "source": [
    "o,p = np.vsplit(myA, 2)\n",
    "o"
   ]
  },
  {
   "cell_type": "code",
   "execution_count": 62,
   "id": "52210ed6",
   "metadata": {},
   "outputs": [
    {
     "data": {
      "text/plain": [
       "[array([[ 30.,  40.,  50.,  60.,  70.,  80.,  90., 100.]]),\n",
       " array([[ 50.,  60.,  70.,  80.,  90., 100., 110., 120.]]),\n",
       " array([[ 70.,  80.,  90., 100., 110., 120., 130., 140.]]),\n",
       " array([[ 90., 100., 110., 120., 130., 140., 150., 160.]])]"
      ]
     },
     "execution_count": 62,
     "metadata": {},
     "output_type": "execute_result"
    }
   ],
   "source": [
    "np.array_split(myA, 4,axis=0)"
   ]
  },
  {
   "cell_type": "code",
   "execution_count": 63,
   "id": "8bf263e5",
   "metadata": {},
   "outputs": [
    {
     "data": {
      "text/plain": [
       "array([[ 30., 200.,  50.,  60.,  70.,  80.,  90., 100.]])"
      ]
     },
     "execution_count": 63,
     "metadata": {},
     "output_type": "execute_result"
    }
   ],
   "source": [
    "a, *b = np.array_split(myA.copy(), 4,axis=0) \n",
    "a[0,1] = 200 \n",
    "a"
   ]
  },
  {
   "cell_type": "code",
   "execution_count": 64,
   "id": "c6c8e45b",
   "metadata": {},
   "outputs": [
    {
     "data": {
      "text/plain": [
       "True"
      ]
     },
     "execution_count": 64,
     "metadata": {},
     "output_type": "execute_result"
    }
   ],
   "source": [
    "u = p\n",
    "id(u) == id(p)"
   ]
  },
  {
   "cell_type": "code",
   "execution_count": 65,
   "id": "c488dc38",
   "metadata": {},
   "outputs": [
    {
     "data": {
      "text/plain": [
       "array([[ 70.,  80.,  90., 100., 110., 120., 130., 140.],\n",
       "       [ 90., 100., 110., 120., 130., 140., 150., 160.]])"
      ]
     },
     "execution_count": 65,
     "metadata": {},
     "output_type": "execute_result"
    }
   ],
   "source": [
    "v_p = p.view()\n",
    "v_p.resize((4,4))\n",
    "p #p.shape is not changing"
   ]
  },
  {
   "cell_type": "code",
   "execution_count": 66,
   "id": "56f24a41",
   "metadata": {},
   "outputs": [
    {
     "data": {
      "text/plain": [
       "array([[ 70.,  80.,  90.,   0., 110., 120., 130.,   0.],\n",
       "       [ 90., 100., 110.,   0., 130., 140., 150.,   0.]])"
      ]
     },
     "execution_count": 66,
     "metadata": {},
     "output_type": "execute_result"
    }
   ],
   "source": [
    "v_p[:,3] = 0 #however values of p do change\n",
    "p"
   ]
  },
  {
   "cell_type": "code",
   "execution_count": 67,
   "id": "d55bf114",
   "metadata": {},
   "outputs": [
    {
     "data": {
      "text/plain": [
       "array([[ 30.,  40.,  50.,  60.,  70.,  80.,  90., 100.],\n",
       "       [ 50.,  60.,  70.,  80.,  90., 100., 110., 120.],\n",
       "       [ 70.,  80.,  90.,   0., 110., 120., 130.,   0.],\n",
       "       [ 90., 100., 110.,   0., 130., 140., 150.,   0.]])"
      ]
     },
     "execution_count": 67,
     "metadata": {},
     "output_type": "execute_result"
    }
   ],
   "source": [
    "myA"
   ]
  },
  {
   "cell_type": "markdown",
   "id": "fdfa39e0",
   "metadata": {},
   "source": [
    "--------"
   ]
  },
  {
   "cell_type": "markdown",
   "id": "9b1911da",
   "metadata": {},
   "source": [
    "## Indexing"
   ]
  },
  {
   "cell_type": "code",
   "execution_count": 68,
   "id": "b6482334",
   "metadata": {},
   "outputs": [],
   "source": [
    "a = np.arange(6)**2\n",
    "index = [1,2,3,4]\n",
    "index_f = np.array([1, 1, 0, 4, 6, 2])\n",
    "index2d = np.array([[1,2], [2,3], [3,4]])\n",
    "index_bool = np.array([True,False,True,False,True,False])"
   ]
  },
  {
   "cell_type": "code",
   "execution_count": 69,
   "id": "11d91c7a",
   "metadata": {},
   "outputs": [
    {
     "data": {
      "text/plain": [
       "array([[ 1,  4],\n",
       "       [ 4,  9],\n",
       "       [ 9, 16]])"
      ]
     },
     "execution_count": 69,
     "metadata": {},
     "output_type": "execute_result"
    }
   ],
   "source": [
    "b = a[index_bool]\n",
    "c = a[index2d]\n",
    "d = a[2]\n",
    "e = a[index]\n",
    "a[2] = 0\n",
    "c"
   ]
  },
  {
   "cell_type": "code",
   "execution_count": 70,
   "id": "ec27e26e",
   "metadata": {},
   "outputs": [
    {
     "data": {
      "text/plain": [
       "array([ 0,  4, 16])"
      ]
     },
     "execution_count": 70,
     "metadata": {},
     "output_type": "execute_result"
    }
   ],
   "source": [
    "b"
   ]
  },
  {
   "cell_type": "code",
   "execution_count": 71,
   "id": "034f6ff5",
   "metadata": {},
   "outputs": [
    {
     "data": {
      "text/plain": [
       "(False, False, False)"
      ]
     },
     "execution_count": 71,
     "metadata": {},
     "output_type": "execute_result"
    }
   ],
   "source": [
    "b.base is a, c.base is a, e.base is a"
   ]
  },
  {
   "cell_type": "code",
   "execution_count": 72,
   "id": "fb04c3e2",
   "metadata": {},
   "outputs": [
    {
     "data": {
      "text/plain": [
       "array([[ 0,  1,  2,  3,  4,  5,  6,  7,  8,  9],\n",
       "       [10, 11, 12, 13, 14, 15, 16, 17, 18, 19],\n",
       "       [20, 21, 22, 23, 24, 25, 26, 27, 28, 29],\n",
       "       [30, 31, 32, 33, 34, 35, 36, 37, 38, 39],\n",
       "       [40, 41, 42, 43, 44, 45, 46, 47, 48, 49]])"
      ]
     },
     "execution_count": 72,
     "metadata": {},
     "output_type": "execute_result"
    }
   ],
   "source": [
    "_array = np.arange(50).reshape((5, 10))\n",
    "_array"
   ]
  },
  {
   "cell_type": "code",
   "execution_count": 73,
   "id": "3440c66d",
   "metadata": {},
   "outputs": [],
   "source": [
    "i = [[2, 1], [2, 3]]\n",
    "j = [[0, 1], [1, 2]]\n",
    "i2 = [1,2,3]\n",
    "j2 = [1,2,3]"
   ]
  },
  {
   "cell_type": "code",
   "execution_count": 74,
   "id": "75ea6d77",
   "metadata": {},
   "outputs": [
    {
     "data": {
      "text/plain": [
       "array([[20, 11],\n",
       "       [21, 32]])"
      ]
     },
     "execution_count": 74,
     "metadata": {},
     "output_type": "execute_result"
    }
   ],
   "source": [
    "_array[i, j] #i and j as the first and second dimension of _array respectively"
   ]
  },
  {
   "cell_type": "code",
   "execution_count": 75,
   "id": "1446adb2",
   "metadata": {},
   "outputs": [
    {
     "data": {
      "text/plain": [
       "array([12, 20, 30])"
      ]
     },
     "execution_count": 75,
     "metadata": {},
     "output_type": "execute_result"
    }
   ],
   "source": [
    "_array[[1,2,3], [2,0,0]]"
   ]
  },
  {
   "cell_type": "code",
   "execution_count": 76,
   "id": "8c44c7e2",
   "metadata": {},
   "outputs": [
    {
     "data": {
      "text/plain": [
       "array([12, 22, 32])"
      ]
     },
     "execution_count": 76,
     "metadata": {},
     "output_type": "execute_result"
    }
   ],
   "source": [
    "_array[[1,2,3], 2]"
   ]
  },
  {
   "cell_type": "code",
   "execution_count": 77,
   "id": "9ca0be08",
   "metadata": {},
   "outputs": [
    {
     "data": {
      "text/plain": [
       "array([21, 22, 23])"
      ]
     },
     "execution_count": 77,
     "metadata": {},
     "output_type": "execute_result"
    }
   ],
   "source": [
    "_array[2, [1,2,3]]"
   ]
  },
  {
   "cell_type": "code",
   "execution_count": 78,
   "id": "ee9a5fc6",
   "metadata": {},
   "outputs": [
    {
     "data": {
      "text/plain": [
       "array([[ 3,  4],\n",
       "       [13, 14],\n",
       "       [23, 24],\n",
       "       [33, 34],\n",
       "       [43, 44]])"
      ]
     },
     "execution_count": 78,
     "metadata": {},
     "output_type": "execute_result"
    }
   ],
   "source": [
    "_array[:, 3:5]"
   ]
  },
  {
   "cell_type": "code",
   "execution_count": 79,
   "id": "f5c90e3e",
   "metadata": {},
   "outputs": [
    {
     "data": {
      "text/plain": [
       "array([[20, 11],\n",
       "       [21, 32]])"
      ]
     },
     "execution_count": 79,
     "metadata": {},
     "output_type": "execute_result"
    }
   ],
   "source": [
    "l = (i, j) # arr[(i, j)] equivalent to arr[i, j] \n",
    "_array[l]"
   ]
  },
  {
   "cell_type": "code",
   "execution_count": 80,
   "id": "dc51eadb",
   "metadata": {},
   "outputs": [
    {
     "data": {
      "text/plain": [
       "array([[2., 2.],\n",
       "       [2., 2.],\n",
       "       [2., 2.],\n",
       "       [2., 2.],\n",
       "       [2., 2.],\n",
       "       [2., 2.],\n",
       "       [2., 2.],\n",
       "       [2., 2.]])"
      ]
     },
     "execution_count": 80,
     "metadata": {},
     "output_type": "execute_result"
    }
   ],
   "source": [
    "#another example of broadcasting\n",
    "np.zeros((8, 2)) + np.array([2, 2])"
   ]
  },
  {
   "cell_type": "code",
   "execution_count": 81,
   "id": "60626ed3",
   "metadata": {},
   "outputs": [],
   "source": [
    "time = np.linspace(20, 100, 5)\n",
    "data = np.sin(np.arange(20)).reshape(5,4)"
   ]
  },
  {
   "cell_type": "code",
   "execution_count": 82,
   "id": "388ac8f6",
   "metadata": {},
   "outputs": [
    {
     "data": {
      "text/plain": [
       "array([ 20.,  40.,  60.,  80., 100.])"
      ]
     },
     "execution_count": 82,
     "metadata": {},
     "output_type": "execute_result"
    }
   ],
   "source": [
    "time"
   ]
  },
  {
   "cell_type": "code",
   "execution_count": 83,
   "id": "4ef4958b",
   "metadata": {},
   "outputs": [
    {
     "data": {
      "text/plain": [
       "array([[ 0.        ,  0.84147098,  0.90929743,  0.14112001],\n",
       "       [-0.7568025 , -0.95892427, -0.2794155 ,  0.6569866 ],\n",
       "       [ 0.98935825,  0.41211849, -0.54402111, -0.99999021],\n",
       "       [-0.53657292,  0.42016704,  0.99060736,  0.65028784],\n",
       "       [-0.28790332, -0.96139749, -0.75098725,  0.14987721]])"
      ]
     },
     "execution_count": 83,
     "metadata": {},
     "output_type": "execute_result"
    }
   ],
   "source": [
    "data"
   ]
  },
  {
   "cell_type": "code",
   "execution_count": 84,
   "id": "1fceb31c",
   "metadata": {},
   "outputs": [
    {
     "data": {
      "text/plain": [
       "array([2, 0, 3, 1], dtype=int64)"
      ]
     },
     "execution_count": 84,
     "metadata": {},
     "output_type": "execute_result"
    }
   ],
   "source": [
    "ind = data.argmax(axis=0)\n",
    "ind"
   ]
  },
  {
   "cell_type": "code",
   "execution_count": 85,
   "id": "ba8087cb",
   "metadata": {},
   "outputs": [
    {
     "data": {
      "text/plain": [
       "array([0.98935825, 0.84147098, 0.99060736, 0.6569866 ])"
      ]
     },
     "execution_count": 85,
     "metadata": {},
     "output_type": "execute_result"
    }
   ],
   "source": [
    "time_max = time[ind]\n",
    "data_max = data[ind, range(data.shape[1])]    \n",
    "data_max"
   ]
  },
  {
   "cell_type": "code",
   "execution_count": 86,
   "id": "d868579e",
   "metadata": {},
   "outputs": [
    {
     "name": "stdout",
     "output_type": "stream",
     "text": [
      "0.9893582466233818\n",
      "0.8414709848078965\n",
      "0.9906073556948704\n",
      "0.6569865987187891\n"
     ]
    }
   ],
   "source": [
    "for i in range(data.shape[1]):\n",
    "    print(data[ind[i], i])"
   ]
  },
  {
   "cell_type": "code",
   "execution_count": 87,
   "id": "f11d095f",
   "metadata": {},
   "outputs": [
    {
     "data": {
      "text/plain": [
       "True"
      ]
     },
     "execution_count": 87,
     "metadata": {},
     "output_type": "execute_result"
    }
   ],
   "source": [
    "np.all(data.max(axis=0) == data_max)"
   ]
  },
  {
   "cell_type": "code",
   "execution_count": 88,
   "id": "66f8c0e2",
   "metadata": {},
   "outputs": [
    {
     "data": {
      "text/plain": [
       "array([0, 0, 2, 0, 0])"
      ]
     },
     "execution_count": 88,
     "metadata": {},
     "output_type": "execute_result"
    }
   ],
   "source": [
    "a = np.arange(5)\n",
    "a[[1,3,4]] = 0\n",
    "a"
   ]
  },
  {
   "cell_type": "code",
   "execution_count": 89,
   "id": "334ff48b",
   "metadata": {},
   "outputs": [
    {
     "data": {
      "text/plain": [
       "array([[ 0,  1,  2,  3],\n",
       "       [ 4,  5,  6,  7],\n",
       "       [ 8,  9, 10, 11]])"
      ]
     },
     "execution_count": 89,
     "metadata": {},
     "output_type": "execute_result"
    }
   ],
   "source": [
    "arrr = np.arange(12).reshape(3,4)\n",
    "arrr"
   ]
  },
  {
   "cell_type": "code",
   "execution_count": 90,
   "id": "3cc36bf8",
   "metadata": {},
   "outputs": [
    {
     "data": {
      "text/plain": [
       "array([[False, False, False, False],\n",
       "       [False,  True,  True,  True],\n",
       "       [ True,  True,  True,  True]])"
      ]
     },
     "execution_count": 90,
     "metadata": {},
     "output_type": "execute_result"
    }
   ],
   "source": [
    "arrr > 4 #will create the corresponding boolean array"
   ]
  },
  {
   "cell_type": "code",
   "execution_count": 91,
   "id": "17dc6360",
   "metadata": {},
   "outputs": [
    {
     "data": {
      "text/plain": [
       "array([[0, 1, 2, 3],\n",
       "       [4, 0, 0, 0],\n",
       "       [0, 0, 0, 0]])"
      ]
     },
     "execution_count": 91,
     "metadata": {},
     "output_type": "execute_result"
    }
   ],
   "source": [
    "arrr[arrr > 4] = 0\n",
    "arrr"
   ]
  },
  {
   "cell_type": "code",
   "execution_count": 92,
   "id": "0d7d286b",
   "metadata": {},
   "outputs": [
    {
     "data": {
      "text/plain": [
       "array([[ 0,  1,  2,  3],\n",
       "       [ 4,  5,  6,  7],\n",
       "       [ 8,  9, 10, 11]])"
      ]
     },
     "execution_count": 92,
     "metadata": {},
     "output_type": "execute_result"
    }
   ],
   "source": [
    "a = np.arange(12).reshape(3,4)\n",
    "a"
   ]
  },
  {
   "cell_type": "code",
   "execution_count": 93,
   "id": "7277b8d9",
   "metadata": {},
   "outputs": [],
   "source": [
    "b1 = [False,True,True] \n",
    "b2 = [True,False,True,False] "
   ]
  },
  {
   "cell_type": "code",
   "execution_count": 94,
   "id": "b8eb52ab",
   "metadata": {},
   "outputs": [
    {
     "data": {
      "text/plain": [
       "array([[ 4,  5,  6,  7],\n",
       "       [ 8,  9, 10, 11]])"
      ]
     },
     "execution_count": 94,
     "metadata": {},
     "output_type": "execute_result"
    }
   ],
   "source": [
    "a[b1,:]"
   ]
  },
  {
   "cell_type": "code",
   "execution_count": 95,
   "id": "678cbc64",
   "metadata": {},
   "outputs": [
    {
     "data": {
      "text/plain": [
       "array([[0, 2],\n",
       "       [4, 6]])"
      ]
     },
     "execution_count": 95,
     "metadata": {},
     "output_type": "execute_result"
    }
   ],
   "source": [
    "a[:2,b2]"
   ]
  },
  {
   "cell_type": "code",
   "execution_count": 96,
   "id": "04e05b64",
   "metadata": {},
   "outputs": [
    {
     "data": {
      "text/plain": [
       "array([ 4, 10])"
      ]
     },
     "execution_count": 96,
     "metadata": {},
     "output_type": "execute_result"
    }
   ],
   "source": [
    "a[b1,b2]"
   ]
  },
  {
   "cell_type": "markdown",
   "id": "964eb8a2",
   "metadata": {},
   "source": [
    "------------------------"
   ]
  },
  {
   "cell_type": "code",
   "execution_count": 97,
   "id": "716e0d9a",
   "metadata": {},
   "outputs": [
    {
     "data": {
      "text/plain": [
       "((4, 1, 1), (1, 3, 1), (1, 1, 5))"
      ]
     },
     "execution_count": 97,
     "metadata": {},
     "output_type": "execute_result"
    }
   ],
   "source": [
    "a, b, c = np.array([3,4,5,6]), np.array([8,5,4]), np.array([5,4,6,8,3])\n",
    "ax, bx, cx = np.ix_(a, b, c)\n",
    "ax.shape, bx.shape, cx.shape"
   ]
  },
  {
   "cell_type": "code",
   "execution_count": 98,
   "id": "9086b6cb",
   "metadata": {},
   "outputs": [
    {
     "data": {
      "text/plain": [
       "array([[[16, 15, 17, 19, 14],\n",
       "        [13, 12, 14, 16, 11],\n",
       "        [12, 11, 13, 15, 10]],\n",
       "\n",
       "       [[17, 16, 18, 20, 15],\n",
       "        [14, 13, 15, 17, 12],\n",
       "        [13, 12, 14, 16, 11]],\n",
       "\n",
       "       [[18, 17, 19, 21, 16],\n",
       "        [15, 14, 16, 18, 13],\n",
       "        [14, 13, 15, 17, 12]],\n",
       "\n",
       "       [[19, 18, 20, 22, 17],\n",
       "        [16, 15, 17, 19, 14],\n",
       "        [15, 14, 16, 18, 13]]])"
      ]
     },
     "execution_count": 98,
     "metadata": {},
     "output_type": "execute_result"
    }
   ],
   "source": [
    "res = ax + bx + cx\n",
    "res"
   ]
  },
  {
   "cell_type": "code",
   "execution_count": 99,
   "id": "92ba1beb",
   "metadata": {},
   "outputs": [],
   "source": [
    "def ufunc_reduce(ufct, *vectors):\n",
    "    vs = np.ix_(*vectors)\n",
    "    r = ufct.identity\n",
    "    for v in vs:\n",
    "        r = ufct(r, v)\n",
    "    return r"
   ]
  },
  {
   "cell_type": "code",
   "execution_count": 100,
   "id": "000eb8b8",
   "metadata": {},
   "outputs": [
    {
     "data": {
      "text/plain": [
       "array([[[16, 15, 17, 19, 14],\n",
       "        [13, 12, 14, 16, 11],\n",
       "        [12, 11, 13, 15, 10]],\n",
       "\n",
       "       [[17, 16, 18, 20, 15],\n",
       "        [14, 13, 15, 17, 12],\n",
       "        [13, 12, 14, 16, 11]],\n",
       "\n",
       "       [[18, 17, 19, 21, 16],\n",
       "        [15, 14, 16, 18, 13],\n",
       "        [14, 13, 15, 17, 12]],\n",
       "\n",
       "       [[19, 18, 20, 22, 17],\n",
       "        [16, 15, 17, 19, 14],\n",
       "        [15, 14, 16, 18, 13]]])"
      ]
     },
     "execution_count": 100,
     "metadata": {},
     "output_type": "execute_result"
    }
   ],
   "source": [
    "ufunc_reduce(np.add, a, b, c)"
   ]
  },
  {
   "cell_type": "code",
   "execution_count": 101,
   "id": "a89cb455",
   "metadata": {},
   "outputs": [],
   "source": [
    "#vector stacking\n",
    "v1 = np.arange(0, 10, 2)\n",
    "v2 = np.arange(5)\n",
    "v3 = np.arange(20, 30, 2)"
   ]
  },
  {
   "cell_type": "code",
   "execution_count": 102,
   "id": "4863f8e0",
   "metadata": {},
   "outputs": [
    {
     "data": {
      "text/plain": [
       "array([[ 0,  2,  4,  6,  8],\n",
       "       [ 0,  1,  2,  3,  4],\n",
       "       [20, 22, 24, 26, 28]])"
      ]
     },
     "execution_count": 102,
     "metadata": {},
     "output_type": "execute_result"
    }
   ],
   "source": [
    "np.c_[v1,v2,v3].T"
   ]
  },
  {
   "cell_type": "code",
   "execution_count": 103,
   "id": "90388bb9",
   "metadata": {},
   "outputs": [
    {
     "data": {
      "text/plain": [
       "array([[ 0,  2,  4,  6,  8],\n",
       "       [ 0,  1,  2,  3,  4],\n",
       "       [20, 22, 24, 26, 28]])"
      ]
     },
     "execution_count": 103,
     "metadata": {},
     "output_type": "execute_result"
    }
   ],
   "source": [
    "np.vstack([v1,v2,v3])"
   ]
  },
  {
   "cell_type": "code",
   "execution_count": 104,
   "id": "10c14bf2",
   "metadata": {},
   "outputs": [
    {
     "data": {
      "text/plain": [
       "array([[[ 0,  0, 20],\n",
       "        [ 2,  1, 22],\n",
       "        [ 4,  2, 24],\n",
       "        [ 6,  3, 26],\n",
       "        [ 8,  4, 28]]])"
      ]
     },
     "execution_count": 104,
     "metadata": {},
     "output_type": "execute_result"
    }
   ],
   "source": [
    "np.dstack([v1,v2,v3])"
   ]
  },
  {
   "cell_type": "code",
   "execution_count": 105,
   "id": "f1e01c0e",
   "metadata": {},
   "outputs": [],
   "source": [
    "v = rg.normal(5, .5, 10000)\n",
    "(n, bins) = np.histogram(v, bins=50, density=True)"
   ]
  },
  {
   "cell_type": "code",
   "execution_count": 106,
   "id": "af7ed072",
   "metadata": {},
   "outputs": [],
   "source": [
    "import matplotlib.pyplot as plt\n",
    "#plt.hist(v, bins=50, density=True, color='red')\n",
    "#plt.show()"
   ]
  },
  {
   "cell_type": "code",
   "execution_count": 107,
   "id": "b3e279e4",
   "metadata": {},
   "outputs": [],
   "source": [
    "#plt.plot(.5 * (bins[1:] + bins[:-1]), n, color='red')"
   ]
  },
  {
   "cell_type": "markdown",
   "id": "85882ed0",
   "metadata": {},
   "source": [
    "------------------------"
   ]
  },
  {
   "cell_type": "code",
   "execution_count": 108,
   "id": "6baac31a",
   "metadata": {},
   "outputs": [
    {
     "data": {
      "text/plain": [
       "array([[ 0,  1,  2],\n",
       "       [ 3,  4,  5],\n",
       "       [ 6,  7,  8],\n",
       "       [ 9, 10, 11],\n",
       "       [12, 13, 14]])"
      ]
     },
     "execution_count": 108,
     "metadata": {},
     "output_type": "execute_result"
    }
   ],
   "source": [
    "D = np.arange(15).reshape(5,3)\n",
    "D"
   ]
  },
  {
   "cell_type": "code",
   "execution_count": 109,
   "id": "5f17a715",
   "metadata": {},
   "outputs": [
    {
     "data": {
      "text/plain": [
       "(array([0, 0, 0, 1, 1, 1, 2], dtype=int64),\n",
       " array([0, 1, 2, 0, 1, 2, 0], dtype=int64))"
      ]
     },
     "execution_count": 109,
     "metadata": {},
     "output_type": "execute_result"
    }
   ],
   "source": [
    "I = np.nonzero(D < 7)\n",
    "I"
   ]
  },
  {
   "cell_type": "code",
   "execution_count": 110,
   "id": "f9714bce",
   "metadata": {},
   "outputs": [
    {
     "data": {
      "text/plain": [
       "array([0, 1, 2, 3, 4, 5, 6])"
      ]
     },
     "execution_count": 110,
     "metadata": {},
     "output_type": "execute_result"
    }
   ],
   "source": [
    "D[I]"
   ]
  },
  {
   "cell_type": "code",
   "execution_count": 111,
   "id": "1831573f",
   "metadata": {},
   "outputs": [
    {
     "name": "stdout",
     "output_type": "stream",
     "text": [
      "(0, 0)\n",
      "(0, 1)\n",
      "(0, 2)\n",
      "(1, 0)\n",
      "(1, 1)\n",
      "(1, 2)\n",
      "(2, 0)\n"
     ]
    },
    {
     "data": {
      "text/plain": [
       "[None, None, None, None, None, None, None]"
      ]
     },
     "execution_count": 111,
     "metadata": {},
     "output_type": "execute_result"
    }
   ],
   "source": [
    "[print((i,j)) for i,j in zip(I[0], I[1])]"
   ]
  },
  {
   "cell_type": "markdown",
   "id": "9a4185fc",
   "metadata": {},
   "source": [
    "--------"
   ]
  },
  {
   "cell_type": "code",
   "execution_count": 112,
   "id": "bb292db2",
   "metadata": {},
   "outputs": [
    {
     "data": {
      "text/plain": [
       "array([[ 0,  1,  2,  3,  4,  5,  6,  7,  8,  9, 10, 11],\n",
       "       [12, 13, 14, 15, 16, 17, 18, 19, 20, 21, 22, 23]])"
      ]
     },
     "execution_count": 112,
     "metadata": {},
     "output_type": "execute_result"
    }
   ],
   "source": [
    "D2 = np.arange(24).reshape(2,12)\n",
    "D2"
   ]
  },
  {
   "cell_type": "code",
   "execution_count": 113,
   "id": "35446b4b",
   "metadata": {},
   "outputs": [
    {
     "data": {
      "text/plain": [
       "[array([[ 0,  1,  2,  3,  4,  5],\n",
       "        [12, 13, 14, 15, 16, 17]]),\n",
       " array([[ 6,  7,  8,  9, 10, 11],\n",
       "        [18, 19, 20, 21, 22, 23]])]"
      ]
     },
     "execution_count": 113,
     "metadata": {},
     "output_type": "execute_result"
    }
   ],
   "source": [
    "np.hsplit(D2,2)"
   ]
  },
  {
   "cell_type": "code",
   "execution_count": 114,
   "id": "bc4b4d38",
   "metadata": {},
   "outputs": [
    {
     "data": {
      "text/plain": [
       "[array([[ 0,  1,  2,  3],\n",
       "        [12, 13, 14, 15]]),\n",
       " array([[ 4,  5,  6,  7],\n",
       "        [16, 17, 18, 19]]),\n",
       " array([[ 8,  9, 10, 11],\n",
       "        [20, 21, 22, 23]])]"
      ]
     },
     "execution_count": 114,
     "metadata": {},
     "output_type": "execute_result"
    }
   ],
   "source": [
    "np.hsplit(D2,3)"
   ]
  },
  {
   "cell_type": "code",
   "execution_count": 115,
   "id": "f8abf7cd",
   "metadata": {},
   "outputs": [
    {
     "data": {
      "text/plain": [
       "[array([[ 0,  1,  2,  3,  4,  5,  6,  7,  8,  9, 10, 11]]),\n",
       " array([[12, 13, 14, 15, 16, 17, 18, 19, 20, 21, 22, 23]])]"
      ]
     },
     "execution_count": 115,
     "metadata": {},
     "output_type": "execute_result"
    }
   ],
   "source": [
    "np.vsplit(D2,2)"
   ]
  },
  {
   "cell_type": "code",
   "execution_count": 116,
   "id": "f30b3a70",
   "metadata": {},
   "outputs": [],
   "source": [
    "a,b,c = np.hsplit(D2,(3,4))"
   ]
  },
  {
   "cell_type": "code",
   "execution_count": 117,
   "id": "bd482a70",
   "metadata": {},
   "outputs": [
    {
     "data": {
      "text/plain": [
       "array([[ 0,  1,  2],\n",
       "       [12, 13, 14]])"
      ]
     },
     "execution_count": 117,
     "metadata": {},
     "output_type": "execute_result"
    }
   ],
   "source": [
    "a"
   ]
  },
  {
   "cell_type": "code",
   "execution_count": 118,
   "id": "e592c87e",
   "metadata": {},
   "outputs": [
    {
     "data": {
      "text/plain": [
       "array([[20,  1,  2,  3,  4,  5,  6,  7,  8,  9, 10, 11],\n",
       "       [12, 13, 14, 15, 16, 17, 18, 19, 20, 21, 22, 23]])"
      ]
     },
     "execution_count": 118,
     "metadata": {},
     "output_type": "execute_result"
    }
   ],
   "source": [
    "a[0,0] = 20\n",
    "D2"
   ]
  },
  {
   "cell_type": "code",
   "execution_count": null,
   "id": "7b7e8ced",
   "metadata": {},
   "outputs": [],
   "source": []
  },
  {
   "cell_type": "code",
   "execution_count": null,
   "id": "4c0f0ca4",
   "metadata": {},
   "outputs": [],
   "source": []
  },
  {
   "cell_type": "code",
   "execution_count": null,
   "id": "e39fc4fc",
   "metadata": {},
   "outputs": [],
   "source": []
  },
  {
   "cell_type": "code",
   "execution_count": 119,
   "id": "3d507109",
   "metadata": {},
   "outputs": [
    {
     "data": {
      "text/plain": [
       "'even'"
      ]
     },
     "execution_count": 119,
     "metadata": {},
     "output_type": "execute_result"
    }
   ],
   "source": [
    "(lambda x: (x % 2 and 'odd' or 'even'))(4) #lol"
   ]
  },
  {
   "cell_type": "code",
   "execution_count": 120,
   "id": "cd915213",
   "metadata": {},
   "outputs": [
    {
     "data": {
      "text/plain": [
       "array([5., 5., 5., 5.])"
      ]
     },
     "execution_count": 120,
     "metadata": {},
     "output_type": "execute_result"
    }
   ],
   "source": [
    "SUM = (lambda a: a.sum(axis=1))(np.ones((4,5))) #IIFE\n",
    "SUM"
   ]
  },
  {
   "cell_type": "code",
   "execution_count": 121,
   "id": "47a8c089",
   "metadata": {},
   "outputs": [
    {
     "data": {
      "text/plain": [
       "6"
      ]
     },
     "execution_count": 121,
     "metadata": {},
     "output_type": "execute_result"
    }
   ],
   "source": [
    "(lambda *a: sum(a))(1,2,3)"
   ]
  },
  {
   "cell_type": "code",
   "execution_count": 122,
   "id": "2a829949",
   "metadata": {},
   "outputs": [
    {
     "data": {
      "text/plain": [
       "6"
      ]
     },
     "execution_count": 122,
     "metadata": {},
     "output_type": "execute_result"
    }
   ],
   "source": [
    "(lambda **k: sum(k.values()))(one=1, two=2, three=3)"
   ]
  },
  {
   "cell_type": "code",
   "execution_count": 123,
   "id": "32a8341f",
   "metadata": {},
   "outputs": [],
   "source": [
    "class Student(object):\n",
    "    def __init__(self):\n",
    "        pass\n",
    "    "
   ]
  },
  {
   "cell_type": "code",
   "execution_count": 124,
   "id": "076e5aa0",
   "metadata": {},
   "outputs": [],
   "source": [
    "x = Student()"
   ]
  },
  {
   "cell_type": "code",
   "execution_count": 125,
   "id": "4dc75784",
   "metadata": {},
   "outputs": [
    {
     "name": "stdout",
     "output_type": "stream",
     "text": [
      "Help on class object in module builtins:\n",
      "\n",
      "class object\n",
      " |  The base class of the class hierarchy.\n",
      " |  \n",
      " |  When called, it accepts no arguments and returns a new featureless\n",
      " |  instance that has no instance attributes and cannot be given any.\n",
      " |  \n",
      " |  Built-in subclasses:\n",
      " |      anext_awaitable\n",
      " |      ArgNotFound\n",
      " |      async_generator\n",
      " |      async_generator_asend\n",
      " |      ... and 122 other subclasses\n",
      " |  \n",
      " |  Methods defined here:\n",
      " |  \n",
      " |  __delattr__(self, name, /)\n",
      " |      Implement delattr(self, name).\n",
      " |  \n",
      " |  __dir__(self, /)\n",
      " |      Default dir() implementation.\n",
      " |  \n",
      " |  __eq__(self, value, /)\n",
      " |      Return self==value.\n",
      " |  \n",
      " |  __format__(self, format_spec, /)\n",
      " |      Default object formatter.\n",
      " |  \n",
      " |  __ge__(self, value, /)\n",
      " |      Return self>=value.\n",
      " |  \n",
      " |  __getattribute__(self, name, /)\n",
      " |      Return getattr(self, name).\n",
      " |  \n",
      " |  __getstate__(self, /)\n",
      " |      Helper for pickle.\n",
      " |  \n",
      " |  __gt__(self, value, /)\n",
      " |      Return self>value.\n",
      " |  \n",
      " |  __hash__(self, /)\n",
      " |      Return hash(self).\n",
      " |  \n",
      " |  __init__(self, /, *args, **kwargs)\n",
      " |      Initialize self.  See help(type(self)) for accurate signature.\n",
      " |  \n",
      " |  __le__(self, value, /)\n",
      " |      Return self<=value.\n",
      " |  \n",
      " |  __lt__(self, value, /)\n",
      " |      Return self<value.\n",
      " |  \n",
      " |  __ne__(self, value, /)\n",
      " |      Return self!=value.\n",
      " |  \n",
      " |  __reduce__(self, /)\n",
      " |      Helper for pickle.\n",
      " |  \n",
      " |  __reduce_ex__(self, protocol, /)\n",
      " |      Helper for pickle.\n",
      " |  \n",
      " |  __repr__(self, /)\n",
      " |      Return repr(self).\n",
      " |  \n",
      " |  __setattr__(self, name, value, /)\n",
      " |      Implement setattr(self, name, value).\n",
      " |  \n",
      " |  __sizeof__(self, /)\n",
      " |      Size of object in memory, in bytes.\n",
      " |  \n",
      " |  __str__(self, /)\n",
      " |      Return str(self).\n",
      " |  \n",
      " |  ----------------------------------------------------------------------\n",
      " |  Class methods defined here:\n",
      " |  \n",
      " |  __init_subclass__(...) from builtins.type\n",
      " |      This method is called when a class is subclassed.\n",
      " |      \n",
      " |      The default implementation does nothing. It may be\n",
      " |      overridden to extend subclasses.\n",
      " |  \n",
      " |  __subclasshook__(...) from builtins.type\n",
      " |      Abstract classes can override this to customize issubclass().\n",
      " |      \n",
      " |      This is invoked early on by abc.ABCMeta.__subclasscheck__().\n",
      " |      It should return True, False or NotImplemented.  If it returns\n",
      " |      NotImplemented, the normal algorithm is used.  Otherwise, it\n",
      " |      overrides the normal algorithm (and the outcome is cached).\n",
      " |  \n",
      " |  ----------------------------------------------------------------------\n",
      " |  Static methods defined here:\n",
      " |  \n",
      " |  __new__(*args, **kwargs) from builtins.type\n",
      " |      Create and return a new object.  See help(type) for accurate signature.\n",
      " |  \n",
      " |  ----------------------------------------------------------------------\n",
      " |  Data and other attributes defined here:\n",
      " |  \n",
      " |  __class__ = <class 'type'>\n",
      " |      type(object) -> the object's type\n",
      " |      type(name, bases, dict, **kwds) -> a new type\n",
      "\n"
     ]
    }
   ],
   "source": [
    "help(object)"
   ]
  },
  {
   "cell_type": "code",
   "execution_count": 131,
   "id": "933ad442",
   "metadata": {},
   "outputs": [],
   "source": [
    "x,y = np.meshgrid(np.linspace(0,5,50),np.linspace(0,5,50))"
   ]
  },
  {
   "cell_type": "code",
   "execution_count": 140,
   "id": "26aca70a",
   "metadata": {},
   "outputs": [],
   "source": [
    "x = np.linspace(0,5,50)\n",
    "y = np.linspace(0,5,50)[:,np.newaxis]\n",
    "z = np.sin(x) **10 + np.cos(10 + x * y) * np.cos(x)"
   ]
  },
  {
   "cell_type": "code",
   "execution_count": 146,
   "id": "d041a976",
   "metadata": {},
   "outputs": [
    {
     "data": {
      "text/plain": [
       "<matplotlib.image.AxesImage at 0x1f07431fc90>"
      ]
     },
     "execution_count": 146,
     "metadata": {},
     "output_type": "execute_result"
    },
    {
     "data": {
      "image/png": "[encoded data removed]",
      "text/plain": [
       "<Figure size 640x480 with 1 Axes>"
      ]
     },
     "metadata": {},
     "output_type": "display_data"
    }
   ],
   "source": [
    "plt.figure(facecolor='.2')\n",
    "plt.imshow(z, origin='lower', extent = [0,5,0,5])"
   ]
  },
  {
   "cell_type": "code",
   "execution_count": null,
   "id": "c23aa128",
   "metadata": {},
   "outputs": [],
   "source": []
  }
 ],
 "metadata": {
  "kernelspec": {
   "display_name": "Python 3 (ipykernel)",
   "language": "python",
   "name": "python3"
  },
  "language_info": {
   "codemirror_mode": {
    "name": "ipython",
    "version": 3
   },
   "file_extension": ".py",
   "mimetype": "text/x-python",
   "name": "python",
   "nbconvert_exporter": "python",
   "pygments_lexer": "ipython3",
   "version": "3.11.3"
  }
 },
 "nbformat": 4,
 "nbformat_minor": 5
}
