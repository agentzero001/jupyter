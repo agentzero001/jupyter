{
 "cells": [
  {
   "cell_type": "code",
   "execution_count": 3,
   "id": "471d0466",
   "metadata": {
    "scrolled": true
   },
   "outputs": [
    {
     "name": "stdout",
     "output_type": "stream",
     "text": [
      " Volume in Laufwerk C: hat keine Bezeichnung.\n",
      " Volumeseriennummer: 7C80-4064\n",
      "\n",
      " Verzeichnis von C:\\Users\\jensm\\Desktop\\local\\copyandpaste\\Mathematics\\LinearAlgebra\n",
      "\n",
      "06/22/2023  07:20 PM    <DIR>          .\n",
      "06/17/2023  01:16 AM    <DIR>          ..\n",
      "06/22/2023  07:07 PM    <DIR>          .ipynb_checkpoints\n",
      "04/30/2023  03:33 PM            23,175 dot_product.ipynb\n",
      "04/30/2023  03:33 PM           823,895 euclideandistance.ipynb\n",
      "06/22/2023  07:20 PM            11,985 ipython and shell.ipynb\n",
      "05/17/2023  03:58 PM           326,693 Linear transformation.ipynb\n",
      "06/13/2023  05:01 PM             2,251 row echolon.ipynb\n",
      "06/22/2023  07:02 PM           320,183 sys_of_lin_eq.ipynb\n",
      "               6 Datei(en),      1,508,182 Bytes\n",
      "               3 Verzeichnis(se), 10,735,611,904 Bytes frei\n"
     ]
    }
   ],
   "source": [
    "!dir"
   ]
  },
  {
   "cell_type": "code",
   "execution_count": 4,
   "id": "a76001b4",
   "metadata": {},
   "outputs": [
    {
     "data": {
      "text/plain": [
       "'C:\\\\Users\\\\jensm\\\\Desktop\\\\local\\\\copyandpaste\\\\Mathematics\\\\LinearAlgebra'"
      ]
     },
     "execution_count": 4,
     "metadata": {},
     "output_type": "execute_result"
    }
   ],
   "source": [
    "%pwd"
   ]
  },
  {
   "cell_type": "code",
   "execution_count": 5,
   "id": "56832e9e",
   "metadata": {},
   "outputs": [],
   "source": [
    "prompt_output = !echo hello world"
   ]
  },
  {
   "cell_type": "code",
   "execution_count": 6,
   "id": "617238a5",
   "metadata": {},
   "outputs": [
    {
     "data": {
      "text/plain": [
       "['hello world']"
      ]
     },
     "execution_count": 6,
     "metadata": {},
     "output_type": "execute_result"
    }
   ],
   "source": [
    "prompt_output"
   ]
  },
  {
   "cell_type": "code",
   "execution_count": 7,
   "id": "4d8100af",
   "metadata": {},
   "outputs": [
    {
     "data": {
      "text/plain": [
       "' Verzeichnis von C:\\\\Users\\\\jensm\\\\Desktop\\\\local\\\\copyandpaste\\\\Mathematics\\\\LinearAlgebra'"
      ]
     },
     "execution_count": 7,
     "metadata": {},
     "output_type": "execute_result"
    }
   ],
   "source": [
    "dir_ = !dir\n",
    "dir_[3]"
   ]
  },
  {
   "cell_type": "code",
   "execution_count": 8,
   "id": "5bbf6fff",
   "metadata": {},
   "outputs": [
    {
     "name": "stdout",
     "output_type": "stream",
     "text": [
      " Volume in Laufwerk C: hat keine Bezeichnung.\n",
      " Volumeseriennummer: 7C80-4064\n",
      "\n",
      " Verzeichnis von C:\\Users\\jensm\\Desktop\\local\\copyandpaste\\Mathematics\\LinearAlgebra\n",
      "\n",
      "06/22/2023  07:20 PM    <DIR>          .\n",
      "06/17/2023  01:16 AM    <DIR>          ..\n",
      "06/22/2023  07:07 PM    <DIR>          .ipynb_checkpoints\n",
      "04/30/2023  03:33 PM            23,175 dot_product.ipynb\n",
      "04/30/2023  03:33 PM           823,895 euclideandistance.ipynb\n",
      "06/22/2023  07:20 PM            11,985 ipython and shell.ipynb\n",
      "05/17/2023  03:58 PM           326,693 Linear transformation.ipynb\n",
      "06/13/2023  05:01 PM             2,251 row echolon.ipynb\n",
      "06/22/2023  07:02 PM           320,183 sys_of_lin_eq.ipynb\n",
      "               6 Datei(en),      1,508,182 Bytes\n",
      "               3 Verzeichnis(se), 10,735,546,368 Bytes frei\n"
     ]
    }
   ],
   "source": [
    "!dir"
   ]
  },
  {
   "cell_type": "code",
   "execution_count": 16,
   "id": "295e556c",
   "metadata": {},
   "outputs": [],
   "source": [
    "message = 'hello from python'"
   ]
  },
  {
   "cell_type": "code",
   "execution_count": 17,
   "id": "bbf7c61e",
   "metadata": {},
   "outputs": [
    {
     "name": "stdout",
     "output_type": "stream",
     "text": [
      "hello from python\n"
     ]
    }
   ],
   "source": [
    "!echo {message}"
   ]
  },
  {
   "cell_type": "code",
   "execution_count": 18,
   "id": "a948fc41",
   "metadata": {},
   "outputs": [
    {
     "data": {
      "text/plain": [
       "IPython.utils.text.SList"
      ]
     },
     "execution_count": 18,
     "metadata": {},
     "output_type": "execute_result"
    }
   ],
   "source": [
    "type(dir_)"
   ]
  },
  {
   "cell_type": "code",
   "execution_count": 19,
   "id": "49bf1408",
   "metadata": {},
   "outputs": [
    {
     "data": {
      "text/plain": [
       "['',\n",
       " \"get_ipython().system('dir')\",\n",
       " \"get_ipython().run_line_magic('pwd', '')\",\n",
       " \"get_ipython().system('dir')\",\n",
       " \"get_ipython().run_line_magic('pwd', '')\",\n",
       " \"prompt_output = get_ipython().getoutput('echo hello world')\",\n",
       " 'prompt_output',\n",
       " \"dir_ = get_ipython().getoutput('dir')\\ndir_[3]\",\n",
       " \"get_ipython().system('dir')\",\n",
       " \"message = 'hello from python'\"]"
      ]
     },
     "execution_count": 19,
     "metadata": {},
     "output_type": "execute_result"
    }
   ],
   "source": [
    "In[:10]"
   ]
  },
  {
   "cell_type": "code",
   "execution_count": 25,
   "id": "786593d1",
   "metadata": {},
   "outputs": [
    {
     "data": {
      "text/plain": [
       "IPython.utils.text.SList"
      ]
     },
     "execution_count": 25,
     "metadata": {},
     "output_type": "execute_result"
    }
   ],
   "source": [
    "Out[11]"
   ]
  },
  {
   "cell_type": "code",
   "execution_count": 26,
   "id": "3f2bfbbf",
   "metadata": {},
   "outputs": [
    {
     "data": {
      "text/plain": [
       "'C:\\\\Users\\\\jensm\\\\Desktop\\\\local\\\\copyandpaste\\\\Mathematics\\\\LinearAlgebra'"
      ]
     },
     "execution_count": 26,
     "metadata": {},
     "output_type": "execute_result"
    }
   ],
   "source": [
    "%pwd"
   ]
  },
  {
   "cell_type": "code",
   "execution_count": 33,
   "id": "0ed6b271",
   "metadata": {},
   "outputs": [
    {
     "name": "stdout",
     "output_type": "stream",
     "text": [
      "C:\\Users\\jensm\\Desktop\n"
     ]
    }
   ],
   "source": [
    "%cd .."
   ]
  },
  {
   "cell_type": "code",
   "execution_count": 34,
   "id": "b55a6cec",
   "metadata": {},
   "outputs": [
    {
     "data": {
      "text/plain": [
       "'C:\\\\Users\\\\jensm\\\\Desktop'"
      ]
     },
     "execution_count": 34,
     "metadata": {},
     "output_type": "execute_result"
    }
   ],
   "source": [
    "%pwd"
   ]
  },
  {
   "cell_type": "code",
   "execution_count": 35,
   "id": "4d45eee3",
   "metadata": {},
   "outputs": [
    {
     "name": "stdout",
     "output_type": "stream",
     "text": [
      "C:\\Users\\jensm\\Desktop\\local\n"
     ]
    }
   ],
   "source": [
    "%cd local"
   ]
  },
  {
   "cell_type": "code",
   "execution_count": 30,
   "id": "e03ff047",
   "metadata": {},
   "outputs": [],
   "source": [
    "!mkdir myfolder"
   ]
  },
  {
   "cell_type": "code",
   "execution_count": 36,
   "id": "54a701d9",
   "metadata": {},
   "outputs": [
    {
     "name": "stdout",
     "output_type": "stream",
     "text": [
      "C:\\Users\\jensm\\Desktop\\local\\myfolder\n"
     ]
    }
   ],
   "source": [
    "%cd myfolder"
   ]
  },
  {
   "cell_type": "code",
   "execution_count": 37,
   "id": "eaef8f48",
   "metadata": {},
   "outputs": [
    {
     "data": {
      "text/plain": [
       "'C:\\\\Users\\\\jensm\\\\Desktop\\\\local\\\\myfolder'"
      ]
     },
     "execution_count": 37,
     "metadata": {},
     "output_type": "execute_result"
    }
   ],
   "source": [
    "%pwd"
   ]
  },
  {
   "cell_type": "code",
   "execution_count": 38,
   "id": "c0f1cb12",
   "metadata": {},
   "outputs": [],
   "source": [
    "!type nul > main.py"
   ]
  },
  {
   "cell_type": "code",
   "execution_count": 89,
   "id": "cd63673d",
   "metadata": {},
   "outputs": [],
   "source": [
    "!code ."
   ]
  },
  {
   "cell_type": "code",
   "execution_count": 39,
   "id": "4d2767f9",
   "metadata": {},
   "outputs": [
    {
     "name": "stdout",
     "output_type": "stream",
     "text": [
      "hello world\n"
     ]
    }
   ],
   "source": [
    "%run main.py"
   ]
  },
  {
   "cell_type": "code",
   "execution_count": 40,
   "id": "5060edfb",
   "metadata": {},
   "outputs": [
    {
     "name": "stdout",
     "output_type": "stream",
     "text": [
      "C:\\Users\\jensm\\Desktop\\local\n"
     ]
    }
   ],
   "source": [
    "cd .."
   ]
  },
  {
   "cell_type": "code",
   "execution_count": 41,
   "id": "de77edf3",
   "metadata": {},
   "outputs": [
    {
     "name": "stdout",
     "output_type": "stream",
     "text": [
      "C:\\Users\\jensm\\Desktop\\local\\myfolder\n"
     ]
    }
   ],
   "source": [
    "cd myfolder"
   ]
  },
  {
   "cell_type": "code",
   "execution_count": 42,
   "id": "fc045eb8",
   "metadata": {},
   "outputs": [
    {
     "name": "stdout",
     "output_type": "stream",
     "text": [
      "hello world\n"
     ]
    }
   ],
   "source": [
    "run main.py"
   ]
  },
  {
   "cell_type": "code",
   "execution_count": 1,
   "id": "663b177a",
   "metadata": {},
   "outputs": [
    {
     "data": {
      "text/plain": [
       "['', 'In']"
      ]
     },
     "execution_count": 1,
     "metadata": {},
     "output_type": "execute_result"
    }
   ],
   "source": [
    "In"
   ]
  },
  {
   "cell_type": "code",
   "execution_count": 4,
   "id": "eec668e7",
   "metadata": {},
   "outputs": [
    {
     "name": "stdout",
     "output_type": "stream",
     "text": [
      "Exception reporting mode: Verbose\n"
     ]
    }
   ],
   "source": [
    "%xmode verbose"
   ]
  },
  {
   "cell_type": "code",
   "execution_count": 6,
   "id": "d8c2ec47",
   "metadata": {},
   "outputs": [
    {
     "name": "stdout",
     "output_type": "stream",
     "text": [
      "   1: In\n",
      "   2: %xmode verbose\n"
     ]
    }
   ],
   "source": [
    "%history -n 1-2"
   ]
  },
  {
   "cell_type": "code",
   "execution_count": 7,
   "id": "79fbdab9",
   "metadata": {},
   "outputs": [
    {
     "data": {
      "text/plain": [
       "{1: ['',\n",
       "  'In',\n",
       "  \"get_ipython().run_line_magic('xmode', 'verbose')\",\n",
       "  '3 / 0 ',\n",
       "  \"get_ipython().run_line_magic('xmode', 'verbose')\",\n",
       "  \"get_ipython().run_line_magic('history', '-n')\",\n",
       "  \"get_ipython().run_line_magic('history', '-n 1-2')\",\n",
       "  'Out']}"
      ]
     },
     "execution_count": 7,
     "metadata": {},
     "output_type": "execute_result"
    }
   ],
   "source": [
    "Out"
   ]
  },
  {
   "cell_type": "code",
   "execution_count": 10,
   "id": "b6414de0",
   "metadata": {},
   "outputs": [],
   "source": [
    "import jupyter"
   ]
  },
  {
   "cell_type": "code",
   "execution_count": 11,
   "id": "533fa51a",
   "metadata": {},
   "outputs": [
    {
     "data": {
      "text/plain": [
       "['__builtins__',\n",
       " '__cached__',\n",
       " '__doc__',\n",
       " '__file__',\n",
       " '__loader__',\n",
       " '__name__',\n",
       " '__package__',\n",
       " '__spec__',\n",
       " '__version__']"
      ]
     },
     "execution_count": 11,
     "metadata": {},
     "output_type": "execute_result"
    }
   ],
   "source": [
    "dir(jupyter)"
   ]
  },
  {
   "cell_type": "code",
   "execution_count": 1,
   "id": "e04f1a67",
   "metadata": {},
   "outputs": [],
   "source": [
    "%load_ext?"
   ]
  },
  {
   "cell_type": "code",
   "execution_count": 32,
   "id": "fe06654a",
   "metadata": {},
   "outputs": [],
   "source": [
    "import numpy as np\n",
    "def A(x):\n",
    "    B = [x **10 for x in range(10000)]\n",
    "    C = np.array(B)\n",
    "    C * 20000\n",
    "    return C[0]"
   ]
  },
  {
   "cell_type": "code",
   "execution_count": 33,
   "id": "b1631089",
   "metadata": {},
   "outputs": [
    {
     "name": "stdout",
     "output_type": "stream",
     "text": [
      "CPU times: total: 31.2 ms\n",
      "Wall time: 34.5 ms\n"
     ]
    },
    {
     "data": {
      "text/plain": [
       "0"
      ]
     },
     "execution_count": 33,
     "metadata": {},
     "output_type": "execute_result"
    }
   ],
   "source": [
    "%time A(20)"
   ]
  },
  {
   "cell_type": "code",
   "execution_count": 34,
   "id": "1189d1c5",
   "metadata": {},
   "outputs": [
    {
     "name": "stdout",
     "output_type": "stream",
     "text": [
      " "
     ]
    }
   ],
   "source": [
    "%prun A(20)"
   ]
  },
  {
   "cell_type": "code",
   "execution_count": 23,
   "id": "3fd71863",
   "metadata": {},
   "outputs": [
    {
     "name": "stdout",
     "output_type": "stream",
     "text": [
      "Collecting line_profiler\n",
      "  Downloading line_profiler-4.0.3-cp311-cp311-win_amd64.whl (84 kB)\n",
      "     -------------------------------------- 84.7/84.7 kB 318.3 kB/s eta 0:00:00\n",
      "Installing collected packages: line_profiler\n",
      "Successfully installed line_profiler-4.0.3\n"
     ]
    },
    {
     "name": "stderr",
     "output_type": "stream",
     "text": [
      "\n",
      "[notice] A new release of pip available: 22.3.1 -> 23.1.2\n",
      "[notice] To update, run: python.exe -m pip install --upgrade pip\n"
     ]
    }
   ],
   "source": [
    "!pip install line_profiler"
   ]
  },
  {
   "cell_type": "code",
   "execution_count": 25,
   "id": "84ca722a",
   "metadata": {},
   "outputs": [],
   "source": [
    "%load_ext line_profiler"
   ]
  },
  {
   "cell_type": "code",
   "execution_count": 26,
   "id": "1478ac74",
   "metadata": {},
   "outputs": [],
   "source": [
    "%lprun?"
   ]
  },
  {
   "cell_type": "code",
   "execution_count": 38,
   "id": "415246dd",
   "metadata": {},
   "outputs": [],
   "source": [
    "%lprun -f A A(20)"
   ]
  },
  {
   "cell_type": "code",
   "execution_count": 39,
   "id": "f60986fd",
   "metadata": {},
   "outputs": [
    {
     "name": "stdout",
     "output_type": "stream",
     "text": [
      "Collecting memory_profiler\n",
      "  Downloading memory_profiler-0.61.0-py3-none-any.whl (31 kB)\n",
      "Requirement already satisfied: psutil in c:\\users\\jensm\\appdata\\local\\programs\\python\\python311\\lib\\site-packages (from memory_profiler) (5.9.5)\n",
      "Installing collected packages: memory_profiler\n",
      "Successfully installed memory_profiler-0.61.0\n"
     ]
    },
    {
     "name": "stderr",
     "output_type": "stream",
     "text": [
      "\n",
      "[notice] A new release of pip available: 22.3.1 -> 23.1.2\n",
      "[notice] To update, run: python.exe -m pip install --upgrade pip\n"
     ]
    }
   ],
   "source": [
    "!pip install memory_profiler"
   ]
  },
  {
   "cell_type": "code",
   "execution_count": 40,
   "id": "693362e7",
   "metadata": {},
   "outputs": [],
   "source": [
    "%load_ext memory_profiler"
   ]
  },
  {
   "cell_type": "code",
   "execution_count": 41,
   "id": "ce83a70f",
   "metadata": {},
   "outputs": [
    {
     "name": "stdout",
     "output_type": "stream",
     "text": [
      "peak memory: 132.18 MiB, increment: 1.54 MiB\n"
     ]
    }
   ],
   "source": [
    "%memit A(50)"
   ]
  },
  {
   "cell_type": "code",
   "execution_count": 43,
   "id": "65268b8f",
   "metadata": {},
   "outputs": [
    {
     "name": "stdout",
     "output_type": "stream",
     "text": [
      "Overwriting test_module.py\n"
     ]
    }
   ],
   "source": [
    "%%file test_module.py\n",
    "\n",
    "import numpy as np\n",
    "def test_function(x):\n",
    "    B = [x **10 for x in range(10000)]\n",
    "    C = np.array(B)\n",
    "    C * 20000\n",
    "    return C[0] "
   ]
  },
  {
   "cell_type": "code",
   "execution_count": 44,
   "id": "a03e295b",
   "metadata": {},
   "outputs": [],
   "source": [
    "import test_module as m1"
   ]
  },
  {
   "cell_type": "code",
   "execution_count": 46,
   "id": "7aede50c",
   "metadata": {},
   "outputs": [
    {
     "name": "stdout",
     "output_type": "stream",
     "text": [
      "\n"
     ]
    }
   ],
   "source": [
    "%mprun -f m1.test_function m1.test_function(2000)"
   ]
  },
  {
   "cell_type": "code",
   "execution_count": 49,
   "id": "c7c6860b",
   "metadata": {},
   "outputs": [
    {
     "data": {
      "text/plain": [
       "array([[1, 2, 3]])"
      ]
     },
     "execution_count": 49,
     "metadata": {},
     "output_type": "execute_result"
    }
   ],
   "source": [
    "import numpy as np\n",
    "x = np.array([1,2,3])\n",
    "x[np.newaxis,:]"
   ]
  },
  {
   "cell_type": "code",
   "execution_count": 50,
   "id": "58bad7cb",
   "metadata": {},
   "outputs": [
    {
     "data": {
      "text/plain": [
       "array([[1],\n",
       "       [2],\n",
       "       [3]])"
      ]
     },
     "execution_count": 50,
     "metadata": {},
     "output_type": "execute_result"
    }
   ],
   "source": [
    "x[:, np.newaxis]"
   ]
  },
  {
   "cell_type": "code",
   "execution_count": 51,
   "id": "e850a999",
   "metadata": {},
   "outputs": [
    {
     "data": {
      "text/plain": [
       "array([1, 2, 3])"
      ]
     },
     "execution_count": 51,
     "metadata": {},
     "output_type": "execute_result"
    }
   ],
   "source": [
    "x"
   ]
  },
  {
   "cell_type": "code",
   "execution_count": 55,
   "id": "fd2c9ada",
   "metadata": {},
   "outputs": [
    {
     "data": {
      "text/plain": [
       "array([[2, 3, 4],\n",
       "       [3, 4, 5],\n",
       "       [4, 5, 6]])"
      ]
     },
     "execution_count": 55,
     "metadata": {},
     "output_type": "execute_result"
    }
   ],
   "source": [
    "x + x[:, np.newaxis]"
   ]
  },
  {
   "cell_type": "code",
   "execution_count": null,
   "id": "f6e46970",
   "metadata": {},
   "outputs": [],
   "source": []
  }
 ],
 "metadata": {
  "kernelspec": {
   "display_name": "Python 3 (ipykernel)",
   "language": "python",
   "name": "python3"
  },
  "language_info": {
   "codemirror_mode": {
    "name": "ipython",
    "version": 3
   },
   "file_extension": ".py",
   "mimetype": "text/x-python",
   "name": "python",
   "nbconvert_exporter": "python",
   "pygments_lexer": "ipython3",
   "version": "3.11.3"
  }
 },
 "nbformat": 4,
 "nbformat_minor": 5
}
