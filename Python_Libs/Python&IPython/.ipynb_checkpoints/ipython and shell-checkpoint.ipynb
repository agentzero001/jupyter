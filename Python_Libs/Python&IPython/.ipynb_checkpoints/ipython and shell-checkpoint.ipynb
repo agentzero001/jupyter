{
 "cells": [
  {
   "cell_type": "code",
   "execution_count": 3,
   "id": "471d0466",
   "metadata": {
    "scrolled": true
   },
   "outputs": [
    {
     "name": "stdout",
     "output_type": "stream",
     "text": [
      " Volume in Laufwerk C: hat keine Bezeichnung.\n",
      " Volumeseriennummer: 7C80-4064\n",
      "\n",
      " Verzeichnis von C:\\Users\\jensm\\Desktop\\local\\copyandpaste\\Mathematics\\LinearAlgebra\n",
      "\n",
      "06/22/2023  07:20 PM    <DIR>          .\n",
      "06/17/2023  01:16 AM    <DIR>          ..\n",
      "06/22/2023  07:07 PM    <DIR>          .ipynb_checkpoints\n",
      "04/30/2023  03:33 PM            23,175 dot_product.ipynb\n",
      "04/30/2023  03:33 PM           823,895 euclideandistance.ipynb\n",
      "06/22/2023  07:20 PM            11,985 ipython and shell.ipynb\n",
      "05/17/2023  03:58 PM           326,693 Linear transformation.ipynb\n",
      "06/13/2023  05:01 PM             2,251 row echolon.ipynb\n",
      "06/22/2023  07:02 PM           320,183 sys_of_lin_eq.ipynb\n",
      "               6 Datei(en),      1,508,182 Bytes\n",
      "               3 Verzeichnis(se), 10,735,611,904 Bytes frei\n"
     ]
    }
   ],
   "source": [
    "!dir"
   ]
  },
  {
   "cell_type": "code",
   "execution_count": 4,
   "id": "a76001b4",
   "metadata": {},
   "outputs": [
    {
     "data": {
      "text/plain": [
       "'C:\\\\Users\\\\jensm\\\\Desktop\\\\local\\\\copyandpaste\\\\Mathematics\\\\LinearAlgebra'"
      ]
     },
     "execution_count": 4,
     "metadata": {},
     "output_type": "execute_result"
    }
   ],
   "source": [
    "%pwd"
   ]
  },
  {
   "cell_type": "code",
   "execution_count": 5,
   "id": "56832e9e",
   "metadata": {},
   "outputs": [],
   "source": [
    "prompt_output = !echo hello world"
   ]
  },
  {
   "cell_type": "code",
   "execution_count": 6,
   "id": "617238a5",
   "metadata": {},
   "outputs": [
    {
     "data": {
      "text/plain": [
       "['hello world']"
      ]
     },
     "execution_count": 6,
     "metadata": {},
     "output_type": "execute_result"
    }
   ],
   "source": [
    "prompt_output"
   ]
  },
  {
   "cell_type": "code",
   "execution_count": 7,
   "id": "4d8100af",
   "metadata": {},
   "outputs": [
    {
     "data": {
      "text/plain": [
       "' Verzeichnis von C:\\\\Users\\\\jensm\\\\Desktop\\\\local\\\\copyandpaste\\\\Mathematics\\\\LinearAlgebra'"
      ]
     },
     "execution_count": 7,
     "metadata": {},
     "output_type": "execute_result"
    }
   ],
   "source": [
    "dir_ = !dir\n",
    "dir_[3]"
   ]
  },
  {
   "cell_type": "code",
   "execution_count": 8,
   "id": "5bbf6fff",
   "metadata": {},
   "outputs": [
    {
     "name": "stdout",
     "output_type": "stream",
     "text": [
      " Volume in Laufwerk C: hat keine Bezeichnung.\n",
      " Volumeseriennummer: 7C80-4064\n",
      "\n",
      " Verzeichnis von C:\\Users\\jensm\\Desktop\\local\\copyandpaste\\Mathematics\\LinearAlgebra\n",
      "\n",
      "06/22/2023  07:20 PM    <DIR>          .\n",
      "06/17/2023  01:16 AM    <DIR>          ..\n",
      "06/22/2023  07:07 PM    <DIR>          .ipynb_checkpoints\n",
      "04/30/2023  03:33 PM            23,175 dot_product.ipynb\n",
      "04/30/2023  03:33 PM           823,895 euclideandistance.ipynb\n",
      "06/22/2023  07:20 PM            11,985 ipython and shell.ipynb\n",
      "05/17/2023  03:58 PM           326,693 Linear transformation.ipynb\n",
      "06/13/2023  05:01 PM             2,251 row echolon.ipynb\n",
      "06/22/2023  07:02 PM           320,183 sys_of_lin_eq.ipynb\n",
      "               6 Datei(en),      1,508,182 Bytes\n",
      "               3 Verzeichnis(se), 10,735,546,368 Bytes frei\n"
     ]
    }
   ],
   "source": [
    "!dir"
   ]
  },
  {
   "cell_type": "code",
   "execution_count": 16,
   "id": "295e556c",
   "metadata": {},
   "outputs": [],
   "source": [
    "message = 'hello from python'"
   ]
  },
  {
   "cell_type": "code",
   "execution_count": 17,
   "id": "bbf7c61e",
   "metadata": {},
   "outputs": [
    {
     "name": "stdout",
     "output_type": "stream",
     "text": [
      "hello from python\n"
     ]
    }
   ],
   "source": [
    "!echo {message}"
   ]
  },
  {
   "cell_type": "code",
   "execution_count": 18,
   "id": "a948fc41",
   "metadata": {},
   "outputs": [
    {
     "data": {
      "text/plain": [
       "IPython.utils.text.SList"
      ]
     },
     "execution_count": 18,
     "metadata": {},
     "output_type": "execute_result"
    }
   ],
   "source": [
    "type(dir_)"
   ]
  },
  {
   "cell_type": "code",
   "execution_count": 19,
   "id": "49bf1408",
   "metadata": {},
   "outputs": [
    {
     "data": {
      "text/plain": [
       "['',\n",
       " \"get_ipython().system('dir')\",\n",
       " \"get_ipython().run_line_magic('pwd', '')\",\n",
       " \"get_ipython().system('dir')\",\n",
       " \"get_ipython().run_line_magic('pwd', '')\",\n",
       " \"prompt_output = get_ipython().getoutput('echo hello world')\",\n",
       " 'prompt_output',\n",
       " \"dir_ = get_ipython().getoutput('dir')\\ndir_[3]\",\n",
       " \"get_ipython().system('dir')\",\n",
       " \"message = 'hello from python'\"]"
      ]
     },
     "execution_count": 19,
     "metadata": {},
     "output_type": "execute_result"
    }
   ],
   "source": [
    "In[:10]"
   ]
  },
  {
   "cell_type": "code",
   "execution_count": 25,
   "id": "786593d1",
   "metadata": {},
   "outputs": [
    {
     "data": {
      "text/plain": [
       "IPython.utils.text.SList"
      ]
     },
     "execution_count": 25,
     "metadata": {},
     "output_type": "execute_result"
    }
   ],
   "source": [
    "Out[11]"
   ]
  },
  {
   "cell_type": "code",
   "execution_count": 26,
   "id": "3f2bfbbf",
   "metadata": {},
   "outputs": [
    {
     "data": {
      "text/plain": [
       "'C:\\\\Users\\\\jensm\\\\Desktop\\\\local\\\\copyandpaste\\\\Mathematics\\\\LinearAlgebra'"
      ]
     },
     "execution_count": 26,
     "metadata": {},
     "output_type": "execute_result"
    }
   ],
   "source": [
    "%pwd"
   ]
  },
  {
   "cell_type": "code",
   "execution_count": 33,
   "id": "0ed6b271",
   "metadata": {},
   "outputs": [
    {
     "name": "stdout",
     "output_type": "stream",
     "text": [
      "C:\\Users\\jensm\\Desktop\n"
     ]
    }
   ],
   "source": [
    "%cd .."
   ]
  },
  {
   "cell_type": "code",
   "execution_count": 34,
   "id": "b55a6cec",
   "metadata": {},
   "outputs": [
    {
     "data": {
      "text/plain": [
       "'C:\\\\Users\\\\jensm\\\\Desktop'"
      ]
     },
     "execution_count": 34,
     "metadata": {},
     "output_type": "execute_result"
    }
   ],
   "source": [
    "%pwd"
   ]
  },
  {
   "cell_type": "code",
   "execution_count": 35,
   "id": "4d45eee3",
   "metadata": {},
   "outputs": [
    {
     "name": "stdout",
     "output_type": "stream",
     "text": [
      "C:\\Users\\jensm\\Desktop\\local\n"
     ]
    }
   ],
   "source": [
    "%cd local"
   ]
  },
  {
   "cell_type": "code",
   "execution_count": 30,
   "id": "e03ff047",
   "metadata": {},
   "outputs": [],
   "source": [
    "!mkdir myfolder"
   ]
  },
  {
   "cell_type": "code",
   "execution_count": 36,
   "id": "54a701d9",
   "metadata": {},
   "outputs": [
    {
     "name": "stdout",
     "output_type": "stream",
     "text": [
      "C:\\Users\\jensm\\Desktop\\local\\myfolder\n"
     ]
    }
   ],
   "source": [
    "%cd myfolder"
   ]
  },
  {
   "cell_type": "code",
   "execution_count": 37,
   "id": "eaef8f48",
   "metadata": {},
   "outputs": [
    {
     "data": {
      "text/plain": [
       "'C:\\\\Users\\\\jensm\\\\Desktop\\\\local\\\\myfolder'"
      ]
     },
     "execution_count": 37,
     "metadata": {},
     "output_type": "execute_result"
    }
   ],
   "source": [
    "%pwd"
   ]
  },
  {
   "cell_type": "code",
   "execution_count": 38,
   "id": "c0f1cb12",
   "metadata": {},
   "outputs": [],
   "source": [
    "!type nul > main.py"
   ]
  },
  {
   "cell_type": "code",
   "execution_count": 89,
   "id": "cd63673d",
   "metadata": {},
   "outputs": [],
   "source": [
    "!code ."
   ]
  },
  {
   "cell_type": "code",
   "execution_count": 39,
   "id": "4d2767f9",
   "metadata": {},
   "outputs": [
    {
     "name": "stdout",
     "output_type": "stream",
     "text": [
      "hello world\n"
     ]
    }
   ],
   "source": [
    "%run main.py"
   ]
  },
  {
   "cell_type": "code",
   "execution_count": 40,
   "id": "5060edfb",
   "metadata": {},
   "outputs": [
    {
     "name": "stdout",
     "output_type": "stream",
     "text": [
      "C:\\Users\\jensm\\Desktop\\local\n"
     ]
    }
   ],
   "source": [
    "cd .."
   ]
  },
  {
   "cell_type": "code",
   "execution_count": 41,
   "id": "de77edf3",
   "metadata": {},
   "outputs": [
    {
     "name": "stdout",
     "output_type": "stream",
     "text": [
      "C:\\Users\\jensm\\Desktop\\local\\myfolder\n"
     ]
    }
   ],
   "source": [
    "cd myfolder"
   ]
  },
  {
   "cell_type": "code",
   "execution_count": 42,
   "id": "fc045eb8",
   "metadata": {},
   "outputs": [
    {
     "name": "stdout",
     "output_type": "stream",
     "text": [
      "hello world\n"
     ]
    }
   ],
   "source": [
    "run main.py"
   ]
  },
  {
   "cell_type": "code",
   "execution_count": 1,
   "id": "663b177a",
   "metadata": {},
   "outputs": [
    {
     "data": {
      "text/plain": [
       "['', 'In']"
      ]
     },
     "execution_count": 1,
     "metadata": {},
     "output_type": "execute_result"
    }
   ],
   "source": [
    "In"
   ]
  },
  {
   "cell_type": "code",
   "execution_count": 4,
   "id": "eec668e7",
   "metadata": {},
   "outputs": [
    {
     "name": "stdout",
     "output_type": "stream",
     "text": [
      "Exception reporting mode: Verbose\n"
     ]
    }
   ],
   "source": [
    "%xmode verbose"
   ]
  },
  {
   "cell_type": "code",
   "execution_count": 6,
   "id": "d8c2ec47",
   "metadata": {},
   "outputs": [
    {
     "name": "stdout",
     "output_type": "stream",
     "text": [
      "   1: In\n",
      "   2: %xmode verbose\n"
     ]
    }
   ],
   "source": [
    "%history -n 1-2"
   ]
  },
  {
   "cell_type": "code",
   "execution_count": 7,
   "id": "79fbdab9",
   "metadata": {},
   "outputs": [
    {
     "data": {
      "text/plain": [
       "{1: ['',\n",
       "  'In',\n",
       "  \"get_ipython().run_line_magic('xmode', 'verbose')\",\n",
       "  '3 / 0 ',\n",
       "  \"get_ipython().run_line_magic('xmode', 'verbose')\",\n",
       "  \"get_ipython().run_line_magic('history', '-n')\",\n",
       "  \"get_ipython().run_line_magic('history', '-n 1-2')\",\n",
       "  'Out']}"
      ]
     },
     "execution_count": 7,
     "metadata": {},
     "output_type": "execute_result"
    }
   ],
   "source": [
    "Out"
   ]
  },
  {
   "cell_type": "code",
   "execution_count": 10,
   "id": "b6414de0",
   "metadata": {},
   "outputs": [],
   "source": [
    "import jupyter"
   ]
  },
  {
   "cell_type": "code",
   "execution_count": 11,
   "id": "533fa51a",
   "metadata": {},
   "outputs": [
    {
     "data": {
      "text/plain": [
       "['__builtins__',\n",
       " '__cached__',\n",
       " '__doc__',\n",
       " '__file__',\n",
       " '__loader__',\n",
       " '__name__',\n",
       " '__package__',\n",
       " '__spec__',\n",
       " '__version__']"
      ]
     },
     "execution_count": 11,
     "metadata": {},
     "output_type": "execute_result"
    }
   ],
   "source": [
    "dir(jupyter)"
   ]
  },
  {
   "cell_type": "code",
   "execution_count": null,
   "id": "e04f1a67",
   "metadata": {},
   "outputs": [],
   "source": []
  },
  {
   "cell_type": "code",
   "execution_count": null,
   "id": "fe06654a",
   "metadata": {},
   "outputs": [],
   "source": []
  }
 ],
 "metadata": {
  "kernelspec": {
   "display_name": "Python 3 (ipykernel)",
   "language": "python",
   "name": "python3"
  },
  "language_info": {
   "codemirror_mode": {
    "name": "ipython",
    "version": 3
   },
   "file_extension": ".py",
   "mimetype": "text/x-python",
   "name": "python",
   "nbconvert_exporter": "python",
   "pygments_lexer": "ipython3",
   "version": "3.11.3"
  }
 },
 "nbformat": 4,
 "nbformat_minor": 5
}
