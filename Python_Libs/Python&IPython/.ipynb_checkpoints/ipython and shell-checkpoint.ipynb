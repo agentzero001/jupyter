{
 "cells": [
  {
   "cell_type": "code",
   "execution_count": 3,
   "id": "471d0466",
   "metadata": {
    "scrolled": true
   },
   "outputs": [
    {
     "name": "stdout",
     "output_type": "stream",
     "text": [
      " Volume in Laufwerk C: hat keine Bezeichnung.\n",
      " Volumeseriennummer: A055-9EBC\n",
      "\n",
      " Verzeichnis von C:\\Users\\jensm\\Desktop\\local\\GitHub\\copyandpaste\\Python_Libs\\Python&IPython\n",
      "\n",
      "07/27/2023  07:02 AM    <DIR>          .\n",
      "07/20/2023  04:15 AM    <DIR>          ..\n",
      "07/27/2023  06:29 AM    <DIR>          .ipynb_checkpoints\n",
      "07/27/2023  06:58 AM             3,922 block structure.ipynb\n",
      "06/10/2023  02:46 PM             7,743 class method, factory and dataclass.ipynb\n",
      "07/27/2023  06:27 AM             3,331 closure class.ipynb\n",
      "06/10/2023  02:46 PM             5,940 Decorators and function timer.ipynb\n",
      "07/27/2023  07:02 AM            18,516 ipython and shell.ipynb\n",
      "06/10/2023  02:46 PM             3,171 Markdown.ipynb\n",
      "06/27/2023  12:45 AM               138 test_module.py\n",
      "06/27/2023  12:45 AM    <DIR>          __pycache__\n",
      "               7 Datei(en),         42,761 Bytes\n",
      "               4 Verzeichnis(se), 215,938,125,824 Bytes frei\n"
     ]
    }
   ],
   "source": [
    "!dir"
   ]
  },
  {
   "cell_type": "code",
   "execution_count": 4,
   "id": "a76001b4",
   "metadata": {},
   "outputs": [
    {
     "data": {
      "text/plain": [
       "'C:\\\\Users\\\\jensm\\\\Desktop\\\\local\\\\GitHub\\\\copyandpaste\\\\Python_Libs\\\\Python&IPython'"
      ]
     },
     "execution_count": 4,
     "metadata": {},
     "output_type": "execute_result"
    }
   ],
   "source": [
    "%pwd"
   ]
  },
  {
   "cell_type": "code",
   "execution_count": null,
   "id": "56832e9e",
   "metadata": {},
   "outputs": [],
   "source": [
    "prompt_output = !echo hello world"
   ]
  },
  {
   "cell_type": "code",
   "execution_count": null,
   "id": "617238a5",
   "metadata": {},
   "outputs": [],
   "source": [
    "prompt_output"
   ]
  },
  {
   "cell_type": "code",
   "execution_count": 7,
   "id": "4d8100af",
   "metadata": {},
   "outputs": [
    {
     "data": {
      "text/plain": [
       "' Verzeichnis von C:\\\\Users\\\\jensm\\\\Desktop\\\\local\\\\GitHub\\\\copyandpaste\\\\Python_Libs\\\\Python&IPython'"
      ]
     },
     "execution_count": 7,
     "metadata": {},
     "output_type": "execute_result"
    }
   ],
   "source": [
    "dir_ = !dir\n",
    "dir_[3]"
   ]
  },
  {
   "cell_type": "code",
   "execution_count": 8,
   "id": "5bbf6fff",
   "metadata": {},
   "outputs": [
    {
     "name": "stdout",
     "output_type": "stream",
     "text": [
      " Volume in Laufwerk C: hat keine Bezeichnung.\n",
      " Volumeseriennummer: A055-9EBC\n",
      "\n",
      " Verzeichnis von C:\\Users\\jensm\\Desktop\\local\\GitHub\\copyandpaste\\Python_Libs\\Python&IPython\n",
      "\n",
      "07/27/2023  07:02 AM    <DIR>          .\n",
      "07/20/2023  04:15 AM    <DIR>          ..\n",
      "07/27/2023  06:29 AM    <DIR>          .ipynb_checkpoints\n",
      "07/27/2023  06:58 AM             3,922 block structure.ipynb\n",
      "06/10/2023  02:46 PM             7,743 class method, factory and dataclass.ipynb\n",
      "07/27/2023  06:27 AM             3,331 closure class.ipynb\n",
      "06/10/2023  02:46 PM             5,940 Decorators and function timer.ipynb\n",
      "07/27/2023  07:02 AM            18,516 ipython and shell.ipynb\n",
      "06/10/2023  02:46 PM             3,171 Markdown.ipynb\n",
      "06/27/2023  12:45 AM               138 test_module.py\n",
      "06/27/2023  12:45 AM    <DIR>          __pycache__\n",
      "               7 Datei(en),         42,761 Bytes\n",
      "               4 Verzeichnis(se), 215,938,125,824 Bytes frei\n"
     ]
    }
   ],
   "source": [
    "!dir"
   ]
  },
  {
   "cell_type": "code",
   "execution_count": 9,
   "id": "295e556c",
   "metadata": {},
   "outputs": [],
   "source": [
    "message = 'hello from python'"
   ]
  },
  {
   "cell_type": "code",
   "execution_count": 10,
   "id": "bbf7c61e",
   "metadata": {},
   "outputs": [
    {
     "name": "stdout",
     "output_type": "stream",
     "text": [
      "hello from python\n"
     ]
    }
   ],
   "source": [
    "!echo {message}"
   ]
  },
  {
   "cell_type": "code",
   "execution_count": 11,
   "id": "a948fc41",
   "metadata": {},
   "outputs": [
    {
     "data": {
      "text/plain": [
       "IPython.utils.text.SList"
      ]
     },
     "execution_count": 11,
     "metadata": {},
     "output_type": "execute_result"
    }
   ],
   "source": [
    "type(dir_)"
   ]
  },
  {
   "cell_type": "code",
   "execution_count": 12,
   "id": "49bf1408",
   "metadata": {},
   "outputs": [
    {
     "data": {
      "text/plain": [
       "['',\n",
       " \"get_ipython().run_line_magic('pinfo', '%load_ext')\",\n",
       " \"get_ipython().run_line_magic('mprun', '-f m1.test_function m1.test_function(2000)')\",\n",
       " \"get_ipython().system('dir')\",\n",
       " \"get_ipython().run_line_magic('pwd', '')\",\n",
       " \"prompt_output = get_ipython().getoutput('echo hello world')\",\n",
       " 'prompt_output',\n",
       " \"dir_ = get_ipython().getoutput('dir')\\ndir_[3]\",\n",
       " \"get_ipython().system('dir')\",\n",
       " \"message = 'hello from python'\"]"
      ]
     },
     "execution_count": 12,
     "metadata": {},
     "output_type": "execute_result"
    }
   ],
   "source": [
    "In[:10]"
   ]
  },
  {
   "cell_type": "code",
   "execution_count": 13,
   "id": "786593d1",
   "metadata": {},
   "outputs": [
    {
     "data": {
      "text/plain": [
       "IPython.utils.text.SList"
      ]
     },
     "execution_count": 13,
     "metadata": {},
     "output_type": "execute_result"
    }
   ],
   "source": [
    "Out[11]"
   ]
  },
  {
   "cell_type": "code",
   "execution_count": 14,
   "id": "3f2bfbbf",
   "metadata": {},
   "outputs": [
    {
     "data": {
      "text/plain": [
       "'C:\\\\Users\\\\jensm\\\\Desktop\\\\local\\\\GitHub\\\\copyandpaste\\\\Python_Libs\\\\Python&IPython'"
      ]
     },
     "execution_count": 14,
     "metadata": {},
     "output_type": "execute_result"
    }
   ],
   "source": [
    "%pwd"
   ]
  },
  {
   "cell_type": "code",
   "execution_count": 15,
   "id": "0ed6b271",
   "metadata": {},
   "outputs": [
    {
     "name": "stdout",
     "output_type": "stream",
     "text": [
      "C:\\Users\\jensm\\Desktop\\local\\GitHub\\copyandpaste\\Python_Libs\n"
     ]
    }
   ],
   "source": [
    "%cd .."
   ]
  },
  {
   "cell_type": "code",
   "execution_count": 16,
   "id": "b55a6cec",
   "metadata": {},
   "outputs": [
    {
     "data": {
      "text/plain": [
       "'C:\\\\Users\\\\jensm\\\\Desktop\\\\local\\\\GitHub\\\\copyandpaste\\\\Python_Libs'"
      ]
     },
     "execution_count": 16,
     "metadata": {},
     "output_type": "execute_result"
    }
   ],
   "source": [
    "%pwd"
   ]
  },
  {
   "cell_type": "code",
   "execution_count": 17,
   "id": "4d45eee3",
   "metadata": {},
   "outputs": [
    {
     "name": "stdout",
     "output_type": "stream",
     "text": [
      "[WinError 2] Das System kann die angegebene Datei nicht finden: 'local'\n",
      "C:\\Users\\jensm\\Desktop\\local\\GitHub\\copyandpaste\\Python_Libs\n"
     ]
    }
   ],
   "source": [
    "%cd local"
   ]
  },
  {
   "cell_type": "code",
   "execution_count": 18,
   "id": "e03ff047",
   "metadata": {},
   "outputs": [],
   "source": [
    "!mkdir myfolder"
   ]
  },
  {
   "cell_type": "code",
   "execution_count": 19,
   "id": "54a701d9",
   "metadata": {},
   "outputs": [
    {
     "name": "stdout",
     "output_type": "stream",
     "text": [
      "C:\\Users\\jensm\\Desktop\\local\\GitHub\\copyandpaste\\Python_Libs\\myfolder\n"
     ]
    }
   ],
   "source": [
    "%cd myfolder"
   ]
  },
  {
   "cell_type": "code",
   "execution_count": 20,
   "id": "eaef8f48",
   "metadata": {},
   "outputs": [
    {
     "data": {
      "text/plain": [
       "'C:\\\\Users\\\\jensm\\\\Desktop\\\\local\\\\GitHub\\\\copyandpaste\\\\Python_Libs\\\\myfolder'"
      ]
     },
     "execution_count": 20,
     "metadata": {},
     "output_type": "execute_result"
    }
   ],
   "source": [
    "%pwd"
   ]
  },
  {
   "cell_type": "code",
   "execution_count": 21,
   "id": "c0f1cb12",
   "metadata": {},
   "outputs": [],
   "source": [
    "!type nul > main.py"
   ]
  },
  {
   "cell_type": "code",
   "execution_count": 22,
   "id": "cd63673d",
   "metadata": {},
   "outputs": [],
   "source": [
    "!code ."
   ]
  },
  {
   "cell_type": "code",
   "execution_count": 23,
   "id": "4d2767f9",
   "metadata": {},
   "outputs": [],
   "source": [
    "%run main.py"
   ]
  },
  {
   "cell_type": "code",
   "execution_count": 24,
   "id": "5060edfb",
   "metadata": {},
   "outputs": [
    {
     "name": "stdout",
     "output_type": "stream",
     "text": [
      "C:\\Users\\jensm\\Desktop\\local\\GitHub\\copyandpaste\\Python_Libs\n"
     ]
    }
   ],
   "source": [
    "cd .."
   ]
  },
  {
   "cell_type": "code",
   "execution_count": 25,
   "id": "de77edf3",
   "metadata": {},
   "outputs": [
    {
     "name": "stdout",
     "output_type": "stream",
     "text": [
      "C:\\Users\\jensm\\Desktop\\local\\GitHub\\copyandpaste\\Python_Libs\\myfolder\n"
     ]
    }
   ],
   "source": [
    "cd myfolder"
   ]
  },
  {
   "cell_type": "code",
   "execution_count": 26,
   "id": "fc045eb8",
   "metadata": {},
   "outputs": [],
   "source": [
    "run main.py"
   ]
  },
  {
   "cell_type": "code",
   "execution_count": 27,
   "id": "663b177a",
   "metadata": {},
   "outputs": [
    {
     "data": {
      "text/plain": [
       "['',\n",
       " \"get_ipython().run_line_magic('pinfo', '%load_ext')\",\n",
       " \"get_ipython().run_line_magic('mprun', '-f m1.test_function m1.test_function(2000)')\",\n",
       " \"get_ipython().system('dir')\",\n",
       " \"get_ipython().run_line_magic('pwd', '')\",\n",
       " \"prompt_output = get_ipython().getoutput('echo hello world')\",\n",
       " 'prompt_output',\n",
       " \"dir_ = get_ipython().getoutput('dir')\\ndir_[3]\",\n",
       " \"get_ipython().system('dir')\",\n",
       " \"message = 'hello from python'\",\n",
       " \"get_ipython().system('echo {message}')\",\n",
       " 'type(dir_)',\n",
       " 'In[:10]',\n",
       " 'Out[11]',\n",
       " \"get_ipython().run_line_magic('pwd', '')\",\n",
       " \"get_ipython().run_line_magic('cd', '..')\",\n",
       " \"get_ipython().run_line_magic('pwd', '')\",\n",
       " \"get_ipython().run_line_magic('cd', 'local')\",\n",
       " \"get_ipython().system('mkdir myfolder')\",\n",
       " \"get_ipython().run_line_magic('cd', 'myfolder')\",\n",
       " \"get_ipython().run_line_magic('pwd', '')\",\n",
       " \"get_ipython().system('type nul > main.py')\",\n",
       " \"get_ipython().system('code .')\",\n",
       " \"get_ipython().run_line_magic('run', 'main.py')\",\n",
       " \"get_ipython().run_line_magic('cd', '..')\",\n",
       " \"get_ipython().run_line_magic('cd', 'myfolder')\",\n",
       " \"get_ipython().run_line_magic('run', 'main.py')\",\n",
       " 'In']"
      ]
     },
     "execution_count": 27,
     "metadata": {},
     "output_type": "execute_result"
    }
   ],
   "source": [
    "In"
   ]
  },
  {
   "cell_type": "code",
   "execution_count": 28,
   "id": "eec668e7",
   "metadata": {},
   "outputs": [
    {
     "name": "stdout",
     "output_type": "stream",
     "text": [
      "Exception reporting mode: Verbose\n"
     ]
    }
   ],
   "source": [
    "%xmode verbose"
   ]
  },
  {
   "cell_type": "code",
   "execution_count": 29,
   "id": "d8c2ec47",
   "metadata": {},
   "outputs": [
    {
     "name": "stdout",
     "output_type": "stream",
     "text": [
      "   1: %load_ext?\n",
      "   2: %mprun -f m1.test_function m1.test_function(2000)\n"
     ]
    }
   ],
   "source": [
    "%history -n 1-2"
   ]
  },
  {
   "cell_type": "code",
   "execution_count": 30,
   "id": "79fbdab9",
   "metadata": {},
   "outputs": [
    {
     "data": {
      "text/plain": [
       "{4: 'C:\\\\Users\\\\jensm\\\\Desktop\\\\local\\\\GitHub\\\\copyandpaste\\\\Python_Libs\\\\Python&IPython',\n",
       " 6: ['hello world'],\n",
       " 7: ' Verzeichnis von C:\\\\Users\\\\jensm\\\\Desktop\\\\local\\\\GitHub\\\\copyandpaste\\\\Python_Libs\\\\Python&IPython',\n",
       " 11: IPython.utils.text.SList,\n",
       " 12: ['',\n",
       "  \"get_ipython().run_line_magic('pinfo', '%load_ext')\",\n",
       "  \"get_ipython().run_line_magic('mprun', '-f m1.test_function m1.test_function(2000)')\",\n",
       "  \"get_ipython().system('dir')\",\n",
       "  \"get_ipython().run_line_magic('pwd', '')\",\n",
       "  \"prompt_output = get_ipython().getoutput('echo hello world')\",\n",
       "  'prompt_output',\n",
       "  \"dir_ = get_ipython().getoutput('dir')\\ndir_[3]\",\n",
       "  \"get_ipython().system('dir')\",\n",
       "  \"message = 'hello from python'\"],\n",
       " 13: IPython.utils.text.SList,\n",
       " 14: 'C:\\\\Users\\\\jensm\\\\Desktop\\\\local\\\\GitHub\\\\copyandpaste\\\\Python_Libs\\\\Python&IPython',\n",
       " 16: 'C:\\\\Users\\\\jensm\\\\Desktop\\\\local\\\\GitHub\\\\copyandpaste\\\\Python_Libs',\n",
       " 20: 'C:\\\\Users\\\\jensm\\\\Desktop\\\\local\\\\GitHub\\\\copyandpaste\\\\Python_Libs\\\\myfolder',\n",
       " 27: ['',\n",
       "  \"get_ipython().run_line_magic('pinfo', '%load_ext')\",\n",
       "  \"get_ipython().run_line_magic('mprun', '-f m1.test_function m1.test_function(2000)')\",\n",
       "  \"get_ipython().system('dir')\",\n",
       "  \"get_ipython().run_line_magic('pwd', '')\",\n",
       "  \"prompt_output = get_ipython().getoutput('echo hello world')\",\n",
       "  'prompt_output',\n",
       "  \"dir_ = get_ipython().getoutput('dir')\\ndir_[3]\",\n",
       "  \"get_ipython().system('dir')\",\n",
       "  \"message = 'hello from python'\",\n",
       "  \"get_ipython().system('echo {message}')\",\n",
       "  'type(dir_)',\n",
       "  'In[:10]',\n",
       "  'Out[11]',\n",
       "  \"get_ipython().run_line_magic('pwd', '')\",\n",
       "  \"get_ipython().run_line_magic('cd', '..')\",\n",
       "  \"get_ipython().run_line_magic('pwd', '')\",\n",
       "  \"get_ipython().run_line_magic('cd', 'local')\",\n",
       "  \"get_ipython().system('mkdir myfolder')\",\n",
       "  \"get_ipython().run_line_magic('cd', 'myfolder')\",\n",
       "  \"get_ipython().run_line_magic('pwd', '')\",\n",
       "  \"get_ipython().system('type nul > main.py')\",\n",
       "  \"get_ipython().system('code .')\",\n",
       "  \"get_ipython().run_line_magic('run', 'main.py')\",\n",
       "  \"get_ipython().run_line_magic('cd', '..')\",\n",
       "  \"get_ipython().run_line_magic('cd', 'myfolder')\",\n",
       "  \"get_ipython().run_line_magic('run', 'main.py')\",\n",
       "  'In',\n",
       "  \"get_ipython().run_line_magic('xmode', 'verbose')\",\n",
       "  \"get_ipython().run_line_magic('history', '-n 1-2')\",\n",
       "  'Out']}"
      ]
     },
     "execution_count": 30,
     "metadata": {},
     "output_type": "execute_result"
    }
   ],
   "source": [
    "Out"
   ]
  },
  {
   "cell_type": "code",
   "execution_count": 31,
   "id": "b6414de0",
   "metadata": {},
   "outputs": [],
   "source": [
    "import jupyter"
   ]
  },
  {
   "cell_type": "code",
   "execution_count": 32,
   "id": "533fa51a",
   "metadata": {},
   "outputs": [
    {
     "data": {
      "text/plain": [
       "['__builtins__',\n",
       " '__cached__',\n",
       " '__doc__',\n",
       " '__file__',\n",
       " '__loader__',\n",
       " '__name__',\n",
       " '__package__',\n",
       " '__spec__']"
      ]
     },
     "execution_count": 32,
     "metadata": {},
     "output_type": "execute_result"
    }
   ],
   "source": [
    "dir(jupyter)"
   ]
  },
  {
   "cell_type": "code",
   "execution_count": 33,
   "id": "e04f1a67",
   "metadata": {},
   "outputs": [],
   "source": [
    "%load_ext?"
   ]
  },
  {
   "cell_type": "code",
   "execution_count": 34,
   "id": "fe06654a",
   "metadata": {},
   "outputs": [],
   "source": [
    "import numpy as np\n",
    "def A(x):\n",
    "    B = [x **10 for x in range(10000)]\n",
    "    C = np.array(B)\n",
    "    C * 20000\n",
    "    return C[0]"
   ]
  },
  {
   "cell_type": "code",
   "execution_count": 35,
   "id": "b1631089",
   "metadata": {},
   "outputs": [
    {
     "name": "stdout",
     "output_type": "stream",
     "text": [
      "CPU times: total: 0 ns\n",
      "Wall time: 3 ms\n"
     ]
    },
    {
     "data": {
      "text/plain": [
       "0"
      ]
     },
     "execution_count": 35,
     "metadata": {},
     "output_type": "execute_result"
    }
   ],
   "source": [
    "%time A(20)"
   ]
  },
  {
   "cell_type": "code",
   "execution_count": 36,
   "id": "1189d1c5",
   "metadata": {},
   "outputs": [
    {
     "name": "stdout",
     "output_type": "stream",
     "text": [
      " "
     ]
    }
   ],
   "source": [
    "%prun A(20)"
   ]
  },
  {
   "cell_type": "code",
   "execution_count": 37,
   "id": "3fd71863",
   "metadata": {},
   "outputs": [
    {
     "name": "stdout",
     "output_type": "stream",
     "text": [
      "Collecting line_profiler"
     ]
    },
    {
     "name": "stderr",
     "output_type": "stream",
     "text": [
      "\n",
      "[notice] A new release of pip is available: 23.1.2 -> 23.2.1\n",
      "[notice] To update, run: python.exe -m pip install --upgrade pip\n"
     ]
    },
    {
     "name": "stdout",
     "output_type": "stream",
     "text": [
      "\n",
      "  Downloading line_profiler-4.0.3-cp311-cp311-win_amd64.whl (84 kB)\n",
      "                                              0.0/84.7 kB ? eta -:--:--\n",
      "     ----                                     10.2/84.7 kB ? eta -:--:--\n",
      "     ----                                     10.2/84.7 kB ? eta -:--:--\n",
      "     -------------                          30.7/84.7 kB 187.9 kB/s eta 0:00:01\n",
      "     ---------------------------            61.4/84.7 kB 297.7 kB/s eta 0:00:01\n",
      "     --------------------------------       71.7/84.7 kB 328.6 kB/s eta 0:00:01\n",
      "     -------------------------------------- 84.7/84.7 kB 297.9 kB/s eta 0:00:00\n",
      "Installing collected packages: line_profiler\n",
      "Successfully installed line_profiler-4.0.3\n"
     ]
    }
   ],
   "source": [
    "!pip install line_profiler"
   ]
  },
  {
   "cell_type": "code",
   "execution_count": 38,
   "id": "84ca722a",
   "metadata": {},
   "outputs": [],
   "source": [
    "%load_ext line_profiler"
   ]
  },
  {
   "cell_type": "code",
   "execution_count": 39,
   "id": "1478ac74",
   "metadata": {},
   "outputs": [],
   "source": [
    "%lprun?"
   ]
  },
  {
   "cell_type": "code",
   "execution_count": 40,
   "id": "415246dd",
   "metadata": {},
   "outputs": [],
   "source": [
    "%lprun -f A A(20)"
   ]
  },
  {
   "cell_type": "code",
   "execution_count": 41,
   "id": "f60986fd",
   "metadata": {},
   "outputs": [
    {
     "name": "stdout",
     "output_type": "stream",
     "text": [
      "Collecting memory_profiler\n",
      "  Downloading memory_profiler-0.61.0-py3-none-any.whl (31 kB)\n",
      "Requirement already satisfied: psutil in c:\\users\\jensm\\appdata\\local\\programs\\python\\python311\\lib\\site-packages (from memory_profiler) (5.9.4)\n",
      "Installing collected packages: memory_profiler\n",
      "Successfully installed memory_profiler-0.61.0\n"
     ]
    },
    {
     "name": "stderr",
     "output_type": "stream",
     "text": [
      "\n",
      "[notice] A new release of pip is available: 23.1.2 -> 23.2.1\n",
      "[notice] To update, run: python.exe -m pip install --upgrade pip\n"
     ]
    }
   ],
   "source": [
    "!pip install memory_profiler"
   ]
  },
  {
   "cell_type": "code",
   "execution_count": 42,
   "id": "693362e7",
   "metadata": {},
   "outputs": [],
   "source": [
    "%load_ext memory_profiler"
   ]
  },
  {
   "cell_type": "code",
   "execution_count": 43,
   "id": "ce83a70f",
   "metadata": {},
   "outputs": [
    {
     "name": "stdout",
     "output_type": "stream",
     "text": [
      "peak memory: 91.27 MiB, increment: 1.58 MiB\n"
     ]
    }
   ],
   "source": [
    "%memit A(50)"
   ]
  },
  {
   "cell_type": "code",
   "execution_count": 44,
   "id": "65268b8f",
   "metadata": {},
   "outputs": [
    {
     "name": "stdout",
     "output_type": "stream",
     "text": [
      "Writing test_module.py\n"
     ]
    }
   ],
   "source": [
    "%%file test_module.py\n",
    "\n",
    "import numpy as np\n",
    "def test_function(x):\n",
    "    B = [x **10 for x in range(10000)]\n",
    "    C = np.array(B)\n",
    "    C * 20000\n",
    "    return C[0] "
   ]
  },
  {
   "cell_type": "code",
   "execution_count": 45,
   "id": "a03e295b",
   "metadata": {},
   "outputs": [],
   "source": [
    "import test_module as m1"
   ]
  },
  {
   "cell_type": "code",
   "execution_count": 46,
   "id": "7aede50c",
   "metadata": {},
   "outputs": [
    {
     "name": "stdout",
     "output_type": "stream",
     "text": [
      "\n"
     ]
    }
   ],
   "source": [
    "%mprun -f m1.test_function m1.test_function(2000)"
   ]
  },
  {
   "cell_type": "code",
   "execution_count": 47,
   "id": "c7c6860b",
   "metadata": {},
   "outputs": [
    {
     "data": {
      "text/plain": [
       "array([[1, 2, 3]])"
      ]
     },
     "execution_count": 47,
     "metadata": {},
     "output_type": "execute_result"
    }
   ],
   "source": [
    "import numpy as np\n",
    "x = np.array([1,2,3])\n",
    "x[np.newaxis,:]"
   ]
  },
  {
   "cell_type": "code",
   "execution_count": 48,
   "id": "58bad7cb",
   "metadata": {},
   "outputs": [
    {
     "data": {
      "text/plain": [
       "array([[1],\n",
       "       [2],\n",
       "       [3]])"
      ]
     },
     "execution_count": 48,
     "metadata": {},
     "output_type": "execute_result"
    }
   ],
   "source": [
    "x[:, np.newaxis]"
   ]
  },
  {
   "cell_type": "code",
   "execution_count": 49,
   "id": "e850a999",
   "metadata": {},
   "outputs": [
    {
     "data": {
      "text/plain": [
       "array([1, 2, 3])"
      ]
     },
     "execution_count": 49,
     "metadata": {},
     "output_type": "execute_result"
    }
   ],
   "source": [
    "x"
   ]
  },
  {
   "cell_type": "code",
   "execution_count": 50,
   "id": "fd2c9ada",
   "metadata": {},
   "outputs": [
    {
     "data": {
      "text/plain": [
       "array([[2, 3, 4],\n",
       "       [3, 4, 5],\n",
       "       [4, 5, 6]])"
      ]
     },
     "execution_count": 50,
     "metadata": {},
     "output_type": "execute_result"
    }
   ],
   "source": [
    "x + x[:, np.newaxis]"
   ]
  },
  {
   "cell_type": "code",
   "execution_count": null,
   "id": "f6e46970",
   "metadata": {},
   "outputs": [],
   "source": []
  }
 ],
 "metadata": {
  "kernelspec": {
   "display_name": "Python 3 (ipykernel)",
   "language": "python",
   "name": "python3"
  },
  "language_info": {
   "codemirror_mode": {
    "name": "ipython",
    "version": 3
   },
   "file_extension": ".py",
   "mimetype": "text/x-python",
   "name": "python",
   "nbconvert_exporter": "python",
   "pygments_lexer": "ipython3",
   "version": "3.11.3"
  }
 },
 "nbformat": 4,
 "nbformat_minor": 5
}
