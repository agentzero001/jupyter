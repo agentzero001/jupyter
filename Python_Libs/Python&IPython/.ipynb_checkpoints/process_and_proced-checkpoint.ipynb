{
 "cells": [
  {
   "cell_type": "code",
   "execution_count": 22,
   "id": "1cff45ce",
   "metadata": {},
   "outputs": [],
   "source": [
    "#linear recursive process\n",
    "def fac(n):\n",
    "    if n==1:\n",
    "        return 1\n",
    "    else:\n",
    "        return n * fac(n-1)\n",
    "    \n",
    "fac = lambda n: 1 if n == 1 else n * fac(n-1)"
   ]
  },
  {
   "cell_type": "code",
   "execution_count": 5,
   "id": "1f0d4a8f",
   "metadata": {},
   "outputs": [],
   "source": [
    "#iterative process which uses tail recursive\n",
    "def fac2(n):\n",
    "    def _iter(prod, counter):\n",
    "        if counter > n:\n",
    "            return prod\n",
    "        else:\n",
    "            return  _iter((counter * prod), (counter + 1))\n",
    "    return _iter(1, 1)"
   ]
  },
  {
   "cell_type": "code",
   "execution_count": 29,
   "id": "adc7a57b",
   "metadata": {},
   "outputs": [],
   "source": [
    "#it feels like lambda notation is much easier to understand?\n",
    "_iter = lambda p, c, n: p if n < c else _iter((c * p), (c + 1), n)\n",
    "\n",
    "#tail recursion\n",
    "fac3 = lambda n: _iter(1, 1, n)"
   ]
  },
  {
   "cell_type": "code",
   "execution_count": 30,
   "id": "1c0b191f",
   "metadata": {},
   "outputs": [
    {
     "data": {
      "text/plain": [
       "(120, 120, 120)"
      ]
     },
     "execution_count": 30,
     "metadata": {},
     "output_type": "execute_result"
    }
   ],
   "source": [
    "fac(5), fac2(5), fac3(5)"
   ]
  },
  {
   "cell_type": "code",
   "execution_count": null,
   "id": "4cc630ec",
   "metadata": {},
   "outputs": [],
   "source": []
  }
 ],
 "metadata": {
  "kernelspec": {
   "display_name": "Python 3 (ipykernel)",
   "language": "python",
   "name": "python3"
  },
  "language_info": {
   "codemirror_mode": {
    "name": "ipython",
    "version": 3
   },
   "file_extension": ".py",
   "mimetype": "text/x-python",
   "name": "python",
   "nbconvert_exporter": "python",
   "pygments_lexer": "ipython3",
   "version": "3.11.3"
  }
 },
 "nbformat": 4,
 "nbformat_minor": 5
}
