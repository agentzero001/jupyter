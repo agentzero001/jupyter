{
 "cells": [
  {
   "cell_type": "code",
   "execution_count": 33,
   "id": "e1d9ca9c",
   "metadata": {},
   "outputs": [],
   "source": [
    "#example of creating a closure class (fundamental concept in cs)\n",
    "\n",
    "def Closure_class(p1,z=0):\n",
    "    \n",
    "    def add1(a,b):\n",
    "        nonlocal z\n",
    "        z += 1\n",
    "        return a + b + z \n",
    "    \n",
    "    def method(a):\n",
    "        return a+2\n",
    "    \n",
    "    add1.method1 = lambda x: x+10\n",
    "    add1.method2 = method\n",
    "    add1.property1 = p1\n",
    "    \n",
    "    return add1\n",
    "\n",
    "\n",
    "class Python_class:\n",
    "    def __init__(self,z=0):\n",
    "        self.z = z\n",
    "    def __call__(self, a, b):\n",
    "        self.z += 1\n",
    "        return a + b + self.z\n",
    "\n",
    "add1, add2 = Closure_class('hi'), Python_class()"
   ]
  },
  {
   "cell_type": "code",
   "execution_count": 34,
   "id": "aee1a5b0",
   "metadata": {},
   "outputs": [
    {
     "data": {
      "text/plain": [
       "True"
      ]
     },
     "execution_count": 34,
     "metadata": {},
     "output_type": "execute_result"
    }
   ],
   "source": [
    "(add1(1,2), add1(1,2), add1(1,2), add1(1,2)) == (add2(1,2), add2(1,2), add2(1,2), add2(1,2))"
   ]
  },
  {
   "cell_type": "code",
   "execution_count": 35,
   "id": "9dc73fba",
   "metadata": {},
   "outputs": [
    {
     "data": {
      "text/plain": [
       "(5, 13, 'hi')"
      ]
     },
     "execution_count": 35,
     "metadata": {},
     "output_type": "execute_result"
    }
   ],
   "source": [
    "add1.method2(3), add1.method1(3), add1.property1"
   ]
  },
  {
   "cell_type": "code",
   "execution_count": 36,
   "id": "baaaa371",
   "metadata": {},
   "outputs": [
    {
     "data": {
      "text/plain": [
       "('bye', 110)"
      ]
     },
     "execution_count": 36,
     "metadata": {},
     "output_type": "execute_result"
    }
   ],
   "source": [
    "add1.property2 = 'bye'\n",
    "add1.method3 = lambda x: x+100\n",
    "add1.property1 = 'hibye'\n",
    "\n",
    "add1.property2, add1.method3(10)"
   ]
  },
  {
   "cell_type": "code",
   "execution_count": 37,
   "id": "25b50106",
   "metadata": {},
   "outputs": [
    {
     "data": {
      "text/plain": [
       "{'method1': <function __main__.Closure_class.<locals>.<lambda>(x)>,\n",
       " 'method2': <function __main__.Closure_class.<locals>.method(a)>,\n",
       " 'property1': 'hibye',\n",
       " 'property2': 'bye',\n",
       " 'method3': <function __main__.<lambda>(x)>}"
      ]
     },
     "execution_count": 37,
     "metadata": {},
     "output_type": "execute_result"
    }
   ],
   "source": [
    "add1.__dict__"
   ]
  },
  {
   "cell_type": "code",
   "execution_count": null,
   "id": "2ff0e82d",
   "metadata": {},
   "outputs": [],
   "source": []
  }
 ],
 "metadata": {
  "kernelspec": {
   "display_name": "Python 3 (ipykernel)",
   "language": "python",
   "name": "python3"
  },
  "language_info": {
   "codemirror_mode": {
    "name": "ipython",
    "version": 3
   },
   "file_extension": ".py",
   "mimetype": "text/x-python",
   "name": "python",
   "nbconvert_exporter": "python",
   "pygments_lexer": "ipython3",
   "version": "3.11.3"
  }
 },
 "nbformat": 4,
 "nbformat_minor": 5
}
