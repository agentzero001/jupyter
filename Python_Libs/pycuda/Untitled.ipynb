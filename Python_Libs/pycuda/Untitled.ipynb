{
 "cells": [
  {
   "cell_type": "code",
   "execution_count": 8,
   "id": "e0f9b75b",
   "metadata": {},
   "outputs": [],
   "source": [
    "from time import time\n",
    "import matplotlib\n",
    "from matplotlib import pyplot as plt\n",
    "import numpy as np\n",
    "import os\n",
    "import pycuda.autoinit\n",
    "from pycuda import gpuarray\n",
    "from pycuda.elementwise import ElementwiseKernel\n",
    "plt.style.use('dark_background')"
   ]
  },
  {
   "cell_type": "code",
   "execution_count": 25,
   "id": "70fe6eac",
   "metadata": {},
   "outputs": [],
   "source": [
    "def simple_mandelbrot(width, height, real_low, real_high, imag_low, imag_high, max_iters, upper_bound):\n",
    "    \n",
    "    real_vals = np.linspace(real_low, real_high, width)\n",
    "    imag_vals = np.linspace(imag_low, imag_high, height)\n",
    "        \n",
    "    # we will represent members as 1, non-members as 0.\n",
    "    \n",
    "    mandelbrot_graph = np.ones((height,width), dtype=np.float32)\n",
    "    \n",
    "    for x in range(width):\n",
    "        for y in range(height):\n",
    "            c = np.complex64( real_vals[x] + imag_vals[y] * 1j  )            \n",
    "            z = np.complex64(0)\n",
    "            \n",
    "            for i in range(max_iters):                \n",
    "                z = z**2 + c\n",
    "                if(np.abs(z) > upper_bound):\n",
    "                    mandelbrot_graph[y,x] = 0\n",
    "                    break\n",
    "                \n",
    "    return mandelbrot_graph"
   ]
  },
  {
   "cell_type": "code",
   "execution_count": 29,
   "id": "6dcd9aea",
   "metadata": {},
   "outputs": [],
   "source": [
    "# t1 = time()\n",
    "# mandel = simple_mandelbrot(512, 512, -2, 2, -2, 2, 512, 2.5)\n",
    "# t2 = time()\n",
    "# mandel_time = t2 - t1\n",
    "\n",
    "# t1 = time()\n",
    "# fig = plt.figure(1)\n",
    "# plt.imshow(mandel, extent=(-2, 2, -2, 2))\n",
    "# plt.show()\n",
    "# t2 = time()\n",
    "# dump_time = t2 - t1\n",
    "\n",
    "#mandel_time, dump_time"
   ]
  },
  {
   "cell_type": "code",
   "execution_count": 30,
   "id": "9b6af32c",
   "metadata": {},
   "outputs": [],
   "source": [
    "mandel_ker = ElementwiseKernel(\n",
    "\"pycuda::complex<float> *lattice, float *mandelbrot_graph, int max_iters, float upper_bound\",\n",
    "\"\"\"\n",
    "mandelbrot_graph[i] = 1;\n",
    "\n",
    "pycuda::complex<float> c = lattice[i]; \n",
    "pycuda::complex<float> z(0,0);\n",
    "\n",
    "for (int j = 0; j < max_iters; j++)\n",
    "    {\n",
    "    \n",
    "     z = z*z + c;\n",
    "     \n",
    "     if(abs(z) > upper_bound)\n",
    "         {\n",
    "          mandelbrot_graph[i] = 0;\n",
    "          break;\n",
    "         }\n",
    "\n",
    "    }\n",
    "         \n",
    "\"\"\",\n",
    "\"mandel_ker\")\n",
    "\n",
    "def gpu_mandelbrot(width, height, real_low, real_high, imag_low, imag_high, max_iters, upper_bound):\n",
    "\n",
    "    # we set up our complex lattice as such\n",
    "    real_vals = np.matrix(np.linspace(real_low, real_high, width), dtype=np.complex64)\n",
    "    imag_vals = np.matrix(np.linspace( imag_high, imag_low, height), dtype=np.complex64) * 1j\n",
    "    mandelbrot_lattice = np.array(real_vals + imag_vals.transpose(), dtype=np.complex64)    \n",
    "    \n",
    "    # copy complex lattice to the GPU\n",
    "    mandelbrot_lattice_gpu = gpuarray.to_gpu(mandelbrot_lattice)\n",
    "\n",
    "    # allocate an empty array on the GPU\n",
    "    mandelbrot_graph_gpu = gpuarray.empty(shape=mandelbrot_lattice.shape, dtype=np.float32)\n",
    "\n",
    "    mandel_ker( mandelbrot_lattice_gpu, mandelbrot_graph_gpu, np.int32(max_iters), np.float32(upper_bound))\n",
    "              \n",
    "    mandelbrot_graph = mandelbrot_graph_gpu.get()\n",
    "    \n",
    "    return mandelbrot_graph"
   ]
  },
  {
   "cell_type": "code",
   "execution_count": 50,
   "id": "2d0d2001",
   "metadata": {},
   "outputs": [
    {
     "data": {
      "image/png": "[encoded data removed]",
      "text/plain": [
       "<Figure size 640x480 with 1 Axes>"
      ]
     },
     "metadata": {},
     "output_type": "display_data"
    },
    {
     "data": {
      "text/plain": [
       "(0.036032915115356445, 0.11410355567932129)"
      ]
     },
     "execution_count": 50,
     "metadata": {},
     "output_type": "execute_result"
    }
   ],
   "source": [
    "t1 = time()\n",
    "mandel = gpu_mandelbrot(512, 512, -2, 2, -2, 2, 512, 2.5)\n",
    "t2 = time()\n",
    "mandel_time = t2 - t1\n",
    "\n",
    "t1 = time()\n",
    "fig = plt.figure(1)\n",
    "plt.imshow(mandel, extent=(-2, 2, -2, 2))\n",
    "plt.show()\n",
    "t2 = time()\n",
    "dump_time = t2 - t1\n",
    "\n",
    "mandel_time, dump_time"
   ]
  },
  {
   "cell_type": "code",
   "execution_count": 51,
   "id": "3e8d82de",
   "metadata": {},
   "outputs": [],
   "source": [
    "def time_(mandel_func, arguments):\n",
    "    t1 = time()\n",
    "    mandel = mandel_func(*arguments)\n",
    "    t2 = time()\n",
    "    mandel_time = t2 - t1\n",
    "    return mandel_time\n",
    "\n",
    "arguments = [512, 512, -2, 2, -2, 2, 512, 2.5]"
   ]
  },
  {
   "cell_type": "code",
   "execution_count": 46,
   "id": "057e451e",
   "metadata": {},
   "outputs": [
    {
     "data": {
      "text/plain": [
       "16.11917209625244"
      ]
     },
     "execution_count": 46,
     "metadata": {},
     "output_type": "execute_result"
    }
   ],
   "source": [
    "time_(simple_mandelbrot, arguments)"
   ]
  },
  {
   "cell_type": "code",
   "execution_count": 66,
   "id": "f3350bba",
   "metadata": {},
   "outputs": [
    {
     "data": {
      "text/plain": [
       "0.036032676696777344"
      ]
     },
     "execution_count": 66,
     "metadata": {},
     "output_type": "execute_result"
    }
   ],
   "source": [
    "time_(gpu_mandelbrot, arguments)"
   ]
  },
  {
   "cell_type": "code",
   "execution_count": 48,
   "id": "92f8d2d7",
   "metadata": {},
   "outputs": [
    {
     "name": "stdout",
     "output_type": "stream",
     "text": [
      "4.83 ms ± 32.5 µs per loop (mean ± std. dev. of 7 runs, 100 loops each)\n"
     ]
    }
   ],
   "source": [
    "%timeit time_(gpu_mandelbrot, arguments)"
   ]
  },
  {
   "cell_type": "code",
   "execution_count": 90,
   "id": "8d315b7c",
   "metadata": {},
   "outputs": [],
   "source": [
    "A = np.matrix(np.arange(5), dtype=np.float32)\n",
    "B = np.matrix(np.arange(5), dtype=np.complex64) * 1j"
   ]
  },
  {
   "cell_type": "code",
   "execution_count": 93,
   "id": "111635f0",
   "metadata": {},
   "outputs": [
    {
     "data": {
      "text/plain": [
       "array([[0.+0.j, 1.+0.j, 2.+0.j, 3.+0.j, 4.+0.j],\n",
       "       [0.+1.j, 1.+1.j, 2.+1.j, 3.+1.j, 4.+1.j],\n",
       "       [0.+2.j, 1.+2.j, 2.+2.j, 3.+2.j, 4.+2.j],\n",
       "       [0.+3.j, 1.+3.j, 2.+3.j, 3.+3.j, 4.+3.j],\n",
       "       [0.+4.j, 1.+4.j, 2.+4.j, 3.+4.j, 4.+4.j]], dtype=complex64)"
      ]
     },
     "execution_count": 93,
     "metadata": {},
     "output_type": "execute_result"
    }
   ],
   "source": [
    "C = A + B.T\n",
    "np.array(C, dtype=np.complex64)"
   ]
  },
  {
   "cell_type": "code",
   "execution_count": null,
   "id": "3ed49313",
   "metadata": {},
   "outputs": [],
   "source": []
  }
 ],
 "metadata": {
  "kernelspec": {
   "display_name": "Python 3 (ipykernel)",
   "language": "python",
   "name": "python3"
  },
  "language_info": {
   "codemirror_mode": {
    "name": "ipython",
    "version": 3
   },
   "file_extension": ".py",
   "mimetype": "text/x-python",
   "name": "python",
   "nbconvert_exporter": "python",
   "pygments_lexer": "ipython3",
   "version": "3.11.5"
  }
 },
 "nbformat": 4,
 "nbformat_minor": 5
}
