{
 "cells": [
  {
   "cell_type": "code",
   "execution_count": 3,
   "id": "449331f5",
   "metadata": {},
   "outputs": [],
   "source": [
    "import pycuda.gpuarray as gpuarray\n",
    "import pycuda.driver as cuda\n",
    "import pycuda.autoinit\n",
    "import numpy"
   ]
  },
  {
   "cell_type": "code",
   "execution_count": 4,
   "id": "982a47cb",
   "metadata": {},
   "outputs": [
    {
     "data": {
      "text/plain": [
       "array([[ 1.8269163 ,  0.5897824 , -0.06329151,  0.9428438 ],\n",
       "       [-0.2975076 , -0.26500744,  0.9757415 ,  3.8787858 ],\n",
       "       [ 0.28867832,  0.65285766,  3.2252162 ,  2.5817282 ],\n",
       "       [-1.7832942 , -0.3366371 , -1.3221637 ,  1.1666338 ]],\n",
       "      dtype=float32)"
      ]
     },
     "execution_count": 4,
     "metadata": {},
     "output_type": "execute_result"
    }
   ],
   "source": [
    "a_gpu = gpuarray.to_gpu(numpy.random.randn(4,4).astype(numpy.float32))\n",
    "a_doubled = (2*a_gpu).get()\n",
    "a_doubled"
   ]
  },
  {
   "cell_type": "code",
   "execution_count": null,
   "id": "0b3c7cd5",
   "metadata": {},
   "outputs": [],
   "source": []
  }
 ],
 "metadata": {
  "kernelspec": {
   "display_name": "Python 3 (ipykernel)",
   "language": "python",
   "name": "python3"
  },
  "language_info": {
   "codemirror_mode": {
    "name": "ipython",
    "version": 3
   },
   "file_extension": ".py",
   "mimetype": "text/x-python",
   "name": "python",
   "nbconvert_exporter": "python",
   "pygments_lexer": "ipython3",
   "version": "3.11.5"
  }
 },
 "nbformat": 4,
 "nbformat_minor": 5
}
