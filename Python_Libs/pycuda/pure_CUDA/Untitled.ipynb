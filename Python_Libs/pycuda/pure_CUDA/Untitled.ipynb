{
 "cells": [
  {
   "cell_type": "code",
   "execution_count": 7,
   "id": "1b89bf28",
   "metadata": {},
   "outputs": [
    {
     "name": "stdout",
     "output_type": "stream",
     "text": [
      " Volume in Laufwerk C: hat keine Bezeichnung.\n",
      " Volumeseriennummer: A055-9EBC\n",
      "\n",
      " Verzeichnis von C:\\Users\\jensm\\Desktop\\local\\GitHub\\copyandpaste\\Python_Libs\\pycuda\\pure_CUDA\n",
      "\n",
      "04/13/2024  06:08 AM    <DIR>          .\n",
      "04/13/2024  02:37 AM    <DIR>          ..\n",
      "04/13/2024  06:06 AM    <DIR>          .ipynb_checkpoints\n",
      "04/13/2024  01:00 AM               369 hello_cuda.cu\n",
      "04/13/2024  02:35 AM               969 matrix_vector.c\n",
      "04/13/2024  06:08 AM           253,438 matrix_vector.exe\n",
      "04/13/2024  06:08 AM             4,766 Untitled.ipynb\n",
      "               4 Datei(en),        259,542 Bytes\n",
      "               3 Verzeichnis(se), 111,175,593,984 Bytes frei\n"
     ]
    }
   ],
   "source": [
    "!dir"
   ]
  },
  {
   "cell_type": "code",
   "execution_count": 2,
   "id": "a6badb25",
   "metadata": {},
   "outputs": [
    {
     "name": "stdout",
     "output_type": "stream",
     "text": [
      "#include <stdio.h>\n",
      "\n",
      "__global__ void hello_cuda() {\n",
      "    printf(\"hello Cuda \\n\");\n",
      "    printf(\"blockIdx.x: %d, blockIdx.y: %d, threadidx.x: %d, threadIdx.y: %d, threadidx.z: %d\\n\",\n",
      "    blockIdx.x, blockIdx.y, threadIdx.x, threadIdx.y, threadIdx.z);\n",
      "\n",
      "}\n",
      "\n",
      "int main(int argc, char **argv) {\n",
      "    hello_cuda<<<3, 4>>>();\n",
      "    cudaDeviceSynchronize();\n",
      "    return 0;\n",
      "}\n"
     ]
    }
   ],
   "source": [
    "!type hello_cuda.cu"
   ]
  },
  {
   "cell_type": "code",
   "execution_count": 8,
   "id": "b78c2b26",
   "metadata": {},
   "outputs": [
    {
     "name": "stdout",
     "output_type": "stream",
     "text": [
      "hello_cuda.cu\n",
      "tmpxft_00004d90_00000000-10_hello_cuda.cudafe1.cpp\n",
      "   Bibliothek \"hello_cuda.lib\" und Objekt \"hello_cuda.exp\" werden erstellt.\n"
     ]
    }
   ],
   "source": [
    "!nvcc hello_cuda.cu -o hello_cuda"
   ]
  },
  {
   "cell_type": "code",
   "execution_count": 9,
   "id": "e4bda74c",
   "metadata": {},
   "outputs": [
    {
     "name": "stdout",
     "output_type": "stream",
     "text": [
      "hello Cuda \n",
      "hello Cuda \n",
      "hello Cuda \n",
      "hello Cuda \n",
      "hello Cuda \n",
      "hello Cuda \n",
      "hello Cuda \n",
      "hello Cuda \n",
      "hello Cuda \n",
      "hello Cuda \n",
      "hello Cuda \n",
      "hello Cuda \n",
      "blockIdx.x: 0, blockIdx.y: 0, threadidx.x: 0, threadIdx.y: 0, threadidx.z: 0\n",
      "blockIdx.x: 0, blockIdx.y: 0, threadidx.x: 1, threadIdx.y: 0, threadidx.z: 0\n",
      "blockIdx.x: 0, blockIdx.y: 0, threadidx.x: 2, threadIdx.y: 0, threadidx.z: 0\n",
      "blockIdx.x: 0, blockIdx.y: 0, threadidx.x: 3, threadIdx.y: 0, threadidx.z: 0\n",
      "blockIdx.x: 1, blockIdx.y: 0, threadidx.x: 0, threadIdx.y: 0, threadidx.z: 0\n",
      "blockIdx.x: 1, blockIdx.y: 0, threadidx.x: 1, threadIdx.y: 0, threadidx.z: 0\n",
      "blockIdx.x: 1, blockIdx.y: 0, threadidx.x: 2, threadIdx.y: 0, threadidx.z: 0\n",
      "blockIdx.x: 1, blockIdx.y: 0, threadidx.x: 3, threadIdx.y: 0, threadidx.z: 0\n",
      "blockIdx.x: 2, blockIdx.y: 0, threadidx.x: 0, threadIdx.y: 0, threadidx.z: 0\n",
      "blockIdx.x: 2, blockIdx.y: 0, threadidx.x: 1, threadIdx.y: 0, threadidx.z: 0\n",
      "blockIdx.x: 2, blockIdx.y: 0, threadidx.x: 2, threadIdx.y: 0, threadidx.z: 0\n",
      "blockIdx.x: 2, blockIdx.y: 0, threadidx.x: 3, threadIdx.y: 0, threadidx.z: 0\n"
     ]
    }
   ],
   "source": [
    "!hello_cuda"
   ]
  },
  {
   "cell_type": "code",
   "execution_count": 3,
   "id": "1c2db27e",
   "metadata": {},
   "outputs": [
    {
     "name": "stdout",
     "output_type": "stream",
     "text": [
      "#include <stdio.h>\n",
      "#include <stdlib.h>\n",
      "\n",
      "void matrix_vector_product(float *A, float *v_in, float *v_out, int n)\n",
      "{\n",
      "    for (int i = 0; i < n; i++){\n",
      "        float sum = 0.0f;\n",
      "        for (int j = 0; j < n; j++) {\n",
      "            sum += A[i * n + j] * v_in[j];\n",
      "        }\n",
      "        v_out[i] = sum;\n",
      "    }\n",
      "}\n",
      "\n",
      "int main(int argc, char **argv){\n",
      "\n",
      "    float *A, *v_in, *v_out;\n",
      "\n",
      "    int n = 3;\n",
      "    \n",
      "    A =  (float *) malloc(n * n * sizeof(float));\n",
      "    v_in = (float *) malloc(n * sizeof(float));\n",
      "    v_out = (float *) malloc(n *  sizeof(float));\n",
      "\n",
      "    for (int i = 0; i < n; i++) {\n",
      "        for (int j = 0; j < n; j++) {\n",
      "            A[i * n + j] = (float) i * n + j;\n",
      "\n",
      "        }\n",
      "    }\n",
      "\n",
      "    for (int i = 0; i < n; i++) {\n",
      "        v_in[i] = (float) i;\n",
      "    }\n",
      "\n",
      "    matrix_vector_product(A, v_in, v_out, n);\n",
      "\n",
      "    for (int i = 0; i < n; i++) {\n",
      "        printf(\"%.2f\\n\", v_out[i]);\n",
      "    }\n",
      "\n",
      "    free(A);\n",
      "    free(v_in);\n",
      "    free(v_out);\n",
      "\n",
      "\n",
      "    return 0;\n",
      "}\n"
     ]
    }
   ],
   "source": [
    "!type matrix_vector.c"
   ]
  },
  {
   "cell_type": "code",
   "execution_count": 4,
   "id": "9719e1dd",
   "metadata": {},
   "outputs": [],
   "source": [
    "!gcc matrix_vector.c -o matrix_vector"
   ]
  },
  {
   "cell_type": "code",
   "execution_count": 5,
   "id": "b6ec6e69",
   "metadata": {},
   "outputs": [
    {
     "name": "stdout",
     "output_type": "stream",
     "text": [
      "5.00\n",
      "14.00\n",
      "23.00\n"
     ]
    }
   ],
   "source": [
    "!matrix_vector.exe"
   ]
  },
  {
   "cell_type": "code",
   "execution_count": 10,
   "id": "f21c9f87",
   "metadata": {},
   "outputs": [],
   "source": [
    "!code ."
   ]
  },
  {
   "cell_type": "code",
   "execution_count": null,
   "id": "4d640aba",
   "metadata": {},
   "outputs": [],
   "source": []
  }
 ],
 "metadata": {
  "kernelspec": {
   "display_name": "Python 3 (ipykernel)",
   "language": "python",
   "name": "python3"
  },
  "language_info": {
   "codemirror_mode": {
    "name": "ipython",
    "version": 3
   },
   "file_extension": ".py",
   "mimetype": "text/x-python",
   "name": "python",
   "nbconvert_exporter": "python",
   "pygments_lexer": "ipython3",
   "version": "3.11.5"
  }
 },
 "nbformat": 4,
 "nbformat_minor": 5
}
