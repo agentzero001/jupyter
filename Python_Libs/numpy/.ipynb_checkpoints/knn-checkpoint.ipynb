{
 "cells": [
  {
   "cell_type": "markdown",
   "id": "64d444a5",
   "metadata": {},
   "source": [
    "## What follows is some knn implementation in numpy"
   ]
  },
  {
   "cell_type": "code",
   "execution_count": 40,
   "id": "d70be4c4",
   "metadata": {},
   "outputs": [],
   "source": [
    "import pandas as pd\n",
    "import numpy as np\n",
    "import matplotlib.pyplot as plt\n",
    "np.set_printoptions(precision=2)\n",
    "plt.rcParams['figure.facecolor'] = '.2'\n",
    "plt.rcParams['axes.facecolor'] = '.1'\n",
    "pd.set_option('display.float_format', '{:.2f}'.format)"
   ]
  },
  {
   "cell_type": "code",
   "execution_count": 41,
   "id": "299b5654",
   "metadata": {},
   "outputs": [
    {
     "data": {
      "text/plain": [
       "array([[0.37, 0.95],\n",
       "       [0.73, 0.6 ],\n",
       "       [0.16, 0.16],\n",
       "       [0.06, 0.87],\n",
       "       [0.6 , 0.71],\n",
       "       [0.02, 0.97],\n",
       "       [0.83, 0.21],\n",
       "       [0.18, 0.18],\n",
       "       [0.3 , 0.52],\n",
       "       [0.43, 0.29]])"
      ]
     },
     "execution_count": 41,
     "metadata": {},
     "output_type": "execute_result"
    }
   ],
   "source": [
    "np.random.seed(42)\n",
    "X = np.random.rand(10,2)\n",
    "X"
   ]
  },
  {
   "cell_type": "code",
   "execution_count": 42,
   "id": "d65d9db6",
   "metadata": {},
   "outputs": [
    {
     "data": {
      "image/png": "[encoded data removed]",
      "text/plain": [
       "<Figure size 640x480 with 1 Axes>"
      ]
     },
     "metadata": {},
     "output_type": "display_data"
    }
   ],
   "source": [
    "plt.scatter(X[:,0], X[:,1], facecolor='green', s=80)\n",
    "plt.grid(alpha=.1)"
   ]
  },
  {
   "cell_type": "code",
   "execution_count": 46,
   "id": "3892a25e",
   "metadata": {},
   "outputs": [],
   "source": [
    "#broadcasting in action\n",
    "dist_sq = np.sum((X[:, np.newaxis, :] - X[np.newaxis, :, :]) ** 2, axis=-1)"
   ]
  },
  {
   "cell_type": "code",
   "execution_count": 47,
   "id": "570ef969",
   "metadata": {},
   "outputs": [
    {
     "data": {
      "text/plain": [
       "(array([[[0.37, 0.95]],\n",
       " \n",
       "        [[0.73, 0.6 ]],\n",
       " \n",
       "        [[0.16, 0.16]],\n",
       " \n",
       "        [[0.06, 0.87]],\n",
       " \n",
       "        [[0.6 , 0.71]],\n",
       " \n",
       "        [[0.02, 0.97]],\n",
       " \n",
       "        [[0.83, 0.21]],\n",
       " \n",
       "        [[0.18, 0.18]],\n",
       " \n",
       "        [[0.3 , 0.52]],\n",
       " \n",
       "        [[0.43, 0.29]]]),\n",
       " array([[[0.37, 0.95],\n",
       "         [0.73, 0.6 ],\n",
       "         [0.16, 0.16],\n",
       "         [0.06, 0.87],\n",
       "         [0.6 , 0.71],\n",
       "         [0.02, 0.97],\n",
       "         [0.83, 0.21],\n",
       "         [0.18, 0.18],\n",
       "         [0.3 , 0.52],\n",
       "         [0.43, 0.29]]]))"
      ]
     },
     "execution_count": 47,
     "metadata": {},
     "output_type": "execute_result"
    }
   ],
   "source": [
    "X[:, np.newaxis, :], X[np.newaxis, :, :] #this allows you to add any number of dimensions to X"
   ]
  },
  {
   "cell_type": "code",
   "execution_count": 48,
   "id": "4f6028ef",
   "metadata": {},
   "outputs": [
    {
     "data": {
      "text/plain": [
       "array([[[ 0.  ,  0.  ],\n",
       "        [-0.36,  0.35],\n",
       "        [ 0.22,  0.79],\n",
       "        [ 0.32,  0.08],\n",
       "        [-0.23,  0.24],\n",
       "        [ 0.35, -0.02],\n",
       "        [-0.46,  0.74],\n",
       "        [ 0.19,  0.77],\n",
       "        [ 0.07,  0.43],\n",
       "        [-0.06,  0.66]],\n",
       "\n",
       "       [[ 0.36, -0.35],\n",
       "        [ 0.  ,  0.  ],\n",
       "        [ 0.58,  0.44],\n",
       "        [ 0.67, -0.27],\n",
       "        [ 0.13, -0.11],\n",
       "        [ 0.71, -0.37],\n",
       "        [-0.1 ,  0.39],\n",
       "        [ 0.55,  0.42],\n",
       "        [ 0.43,  0.07],\n",
       "        [ 0.3 ,  0.31]],\n",
       "\n",
       "       [[-0.22, -0.79],\n",
       "        [-0.58, -0.44],\n",
       "        [ 0.  ,  0.  ],\n",
       "        [ 0.1 , -0.71],\n",
       "        [-0.45, -0.55],\n",
       "        [ 0.14, -0.81],\n",
       "        [-0.68, -0.06],\n",
       "        [-0.03, -0.03],\n",
       "        [-0.15, -0.37],\n",
       "        [-0.28, -0.14]],\n",
       "\n",
       "       [[-0.32, -0.08],\n",
       "        [-0.67,  0.27],\n",
       "        [-0.1 ,  0.71],\n",
       "        [ 0.  ,  0.  ],\n",
       "        [-0.54,  0.16],\n",
       "        [ 0.04, -0.1 ],\n",
       "        [-0.77,  0.65],\n",
       "        [-0.12,  0.68],\n",
       "        [-0.25,  0.34],\n",
       "        [-0.37,  0.57]],\n",
       "\n",
       "       [[ 0.23, -0.24],\n",
       "        [-0.13,  0.11],\n",
       "        [ 0.45,  0.55],\n",
       "        [ 0.54, -0.16],\n",
       "        [ 0.  ,  0.  ],\n",
       "        [ 0.58, -0.26],\n",
       "        [-0.23,  0.5 ],\n",
       "        [ 0.42,  0.52],\n",
       "        [ 0.3 ,  0.18],\n",
       "        [ 0.17,  0.42]],\n",
       "\n",
       "       [[-0.35,  0.02],\n",
       "        [-0.71,  0.37],\n",
       "        [-0.14,  0.81],\n",
       "        [-0.04,  0.1 ],\n",
       "        [-0.58,  0.26],\n",
       "        [ 0.  ,  0.  ],\n",
       "        [-0.81,  0.76],\n",
       "        [-0.16,  0.79],\n",
       "        [-0.28,  0.45],\n",
       "        [-0.41,  0.68]],\n",
       "\n",
       "       [[ 0.46, -0.74],\n",
       "        [ 0.1 , -0.39],\n",
       "        [ 0.68,  0.06],\n",
       "        [ 0.77, -0.65],\n",
       "        [ 0.23, -0.5 ],\n",
       "        [ 0.81, -0.76],\n",
       "        [ 0.  ,  0.  ],\n",
       "        [ 0.65,  0.03],\n",
       "        [ 0.53, -0.31],\n",
       "        [ 0.4 , -0.08]],\n",
       "\n",
       "       [[-0.19, -0.77],\n",
       "        [-0.55, -0.42],\n",
       "        [ 0.03,  0.03],\n",
       "        [ 0.12, -0.68],\n",
       "        [-0.42, -0.52],\n",
       "        [ 0.16, -0.79],\n",
       "        [-0.65, -0.03],\n",
       "        [ 0.  ,  0.  ],\n",
       "        [-0.12, -0.34],\n",
       "        [-0.25, -0.11]],\n",
       "\n",
       "       [[-0.07, -0.43],\n",
       "        [-0.43, -0.07],\n",
       "        [ 0.15,  0.37],\n",
       "        [ 0.25, -0.34],\n",
       "        [-0.3 , -0.18],\n",
       "        [ 0.28, -0.45],\n",
       "        [-0.53,  0.31],\n",
       "        [ 0.12,  0.34],\n",
       "        [ 0.  ,  0.  ],\n",
       "        [-0.13,  0.23]],\n",
       "\n",
       "       [[ 0.06, -0.66],\n",
       "        [-0.3 , -0.31],\n",
       "        [ 0.28,  0.14],\n",
       "        [ 0.37, -0.57],\n",
       "        [-0.17, -0.42],\n",
       "        [ 0.41, -0.68],\n",
       "        [-0.4 ,  0.08],\n",
       "        [ 0.25,  0.11],\n",
       "        [ 0.13, -0.23],\n",
       "        [ 0.  ,  0.  ]]])"
      ]
     },
     "execution_count": 48,
     "metadata": {},
     "output_type": "execute_result"
    }
   ],
   "source": [
    "#let's go step by step\n",
    "differences = X[:, np.newaxis, :] - X[np.newaxis, :, :]\n",
    "differences"
   ]
  },
  {
   "cell_type": "code",
   "execution_count": 49,
   "id": "7c788752",
   "metadata": {},
   "outputs": [
    {
     "data": {
      "text/plain": [
       "array([[0.  , 0.25, 0.68, 0.11, 0.11, 0.13, 0.75, 0.63, 0.19, 0.44],\n",
       "       [0.25, 0.  , 0.53, 0.53, 0.03, 0.64, 0.16, 0.48, 0.19, 0.18],\n",
       "       [0.68, 0.53, 0.  , 0.51, 0.5 , 0.68, 0.46, 0.  , 0.16, 0.09],\n",
       "       [0.11, 0.53, 0.51, 0.  , 0.32, 0.01, 1.03, 0.48, 0.18, 0.47],\n",
       "       [0.11, 0.03, 0.5 , 0.32, 0.  , 0.41, 0.3 , 0.45, 0.12, 0.2 ],\n",
       "       [0.13, 0.64, 0.68, 0.01, 0.41, 0.  , 1.23, 0.64, 0.28, 0.63],\n",
       "       [0.75, 0.16, 0.46, 1.03, 0.3 , 1.23, 0.  , 0.42, 0.38, 0.17],\n",
       "       [0.63, 0.48, 0.  , 0.48, 0.45, 0.64, 0.42, 0.  , 0.13, 0.07],\n",
       "       [0.19, 0.19, 0.16, 0.18, 0.12, 0.28, 0.38, 0.13, 0.  , 0.07],\n",
       "       [0.44, 0.18, 0.09, 0.47, 0.2 , 0.63, 0.17, 0.07, 0.07, 0.  ]])"
      ]
     },
     "execution_count": 49,
     "metadata": {},
     "output_type": "execute_result"
    }
   ],
   "source": [
    "#notice that when using k-nn the sqrt is not taken most of the times in order to avoid big computations for large data\n",
    "(differences ** 2).sum(-1)"
   ]
  },
  {
   "cell_type": "code",
   "execution_count": 50,
   "id": "ce4dda5b",
   "metadata": {},
   "outputs": [
    {
     "data": {
      "text/plain": [
       "True"
      ]
     },
     "execution_count": 50,
     "metadata": {},
     "output_type": "execute_result"
    }
   ],
   "source": [
    "np.all(dist_sq == (differences ** 2).sum(-1))"
   ]
  },
  {
   "cell_type": "code",
   "execution_count": 51,
   "id": "269aae7f",
   "metadata": {},
   "outputs": [
    {
     "data": {
      "text/plain": [
       "array([[0.  , 0.25, 0.68, 0.11, 0.11, 0.13, 0.75, 0.63, 0.19, 0.44],\n",
       "       [0.25, 0.  , 0.53, 0.53, 0.03, 0.64, 0.16, 0.48, 0.19, 0.18],\n",
       "       [0.68, 0.53, 0.  , 0.51, 0.5 , 0.68, 0.46, 0.  , 0.16, 0.09],\n",
       "       [0.11, 0.53, 0.51, 0.  , 0.32, 0.01, 1.03, 0.48, 0.18, 0.47],\n",
       "       [0.11, 0.03, 0.5 , 0.32, 0.  , 0.41, 0.3 , 0.45, 0.12, 0.2 ],\n",
       "       [0.13, 0.64, 0.68, 0.01, 0.41, 0.  , 1.23, 0.64, 0.28, 0.63],\n",
       "       [0.75, 0.16, 0.46, 1.03, 0.3 , 1.23, 0.  , 0.42, 0.38, 0.17],\n",
       "       [0.63, 0.48, 0.  , 0.48, 0.45, 0.64, 0.42, 0.  , 0.13, 0.07],\n",
       "       [0.19, 0.19, 0.16, 0.18, 0.12, 0.28, 0.38, 0.13, 0.  , 0.07],\n",
       "       [0.44, 0.18, 0.09, 0.47, 0.2 , 0.63, 0.17, 0.07, 0.07, 0.  ]])"
      ]
     },
     "execution_count": 51,
     "metadata": {},
     "output_type": "execute_result"
    }
   ],
   "source": [
    "dist_sq"
   ]
  },
  {
   "cell_type": "code",
   "execution_count": 52,
   "id": "3c1b9147",
   "metadata": {},
   "outputs": [
    {
     "data": {
      "text/plain": [
       "['x_0', 'x_1', 'x_2', 'x_3', 'x_4', 'x_5', 'x_6', 'x_7', 'x_8', 'x_9']"
      ]
     },
     "execution_count": 52,
     "metadata": {},
     "output_type": "execute_result"
    }
   ],
   "source": [
    "ind_col = ['x_'+ str(i) for i in range(dist_sq.shape[0])]\n",
    "ind_col"
   ]
  },
  {
   "cell_type": "code",
   "execution_count": 53,
   "id": "50f3a028",
   "metadata": {},
   "outputs": [
    {
     "data": {
      "text/html": [
       "<div>\n",
       "<style scoped>\n",
       "    .dataframe tbody tr th:only-of-type {\n",
       "        vertical-align: middle;\n",
       "    }\n",
       "\n",
       "    .dataframe tbody tr th {\n",
       "        vertical-align: top;\n",
       "    }\n",
       "\n",
       "    .dataframe thead th {\n",
       "        text-align: right;\n",
       "    }\n",
       "</style>\n",
       "<table border=\"1\" class=\"dataframe\">\n",
       "  <thead>\n",
       "    <tr style=\"text-align: right;\">\n",
       "      <th></th>\n",
       "      <th>x_0</th>\n",
       "      <th>x_1</th>\n",
       "      <th>x_2</th>\n",
       "      <th>x_3</th>\n",
       "      <th>x_4</th>\n",
       "      <th>x_5</th>\n",
       "      <th>x_6</th>\n",
       "      <th>x_7</th>\n",
       "      <th>x_8</th>\n",
       "      <th>x_9</th>\n",
       "    </tr>\n",
       "  </thead>\n",
       "  <tbody>\n",
       "    <tr>\n",
       "      <th>x_0</th>\n",
       "      <td>0.00</td>\n",
       "      <td>0.25</td>\n",
       "      <td>0.68</td>\n",
       "      <td>0.11</td>\n",
       "      <td>0.11</td>\n",
       "      <td>0.13</td>\n",
       "      <td>0.75</td>\n",
       "      <td>0.63</td>\n",
       "      <td>0.19</td>\n",
       "      <td>0.44</td>\n",
       "    </tr>\n",
       "    <tr>\n",
       "      <th>x_1</th>\n",
       "      <td>0.25</td>\n",
       "      <td>0.00</td>\n",
       "      <td>0.53</td>\n",
       "      <td>0.53</td>\n",
       "      <td>0.03</td>\n",
       "      <td>0.64</td>\n",
       "      <td>0.16</td>\n",
       "      <td>0.48</td>\n",
       "      <td>0.19</td>\n",
       "      <td>0.18</td>\n",
       "    </tr>\n",
       "    <tr>\n",
       "      <th>x_2</th>\n",
       "      <td>0.68</td>\n",
       "      <td>0.53</td>\n",
       "      <td>0.00</td>\n",
       "      <td>0.51</td>\n",
       "      <td>0.50</td>\n",
       "      <td>0.68</td>\n",
       "      <td>0.46</td>\n",
       "      <td>0.00</td>\n",
       "      <td>0.16</td>\n",
       "      <td>0.09</td>\n",
       "    </tr>\n",
       "    <tr>\n",
       "      <th>x_3</th>\n",
       "      <td>0.11</td>\n",
       "      <td>0.53</td>\n",
       "      <td>0.51</td>\n",
       "      <td>0.00</td>\n",
       "      <td>0.32</td>\n",
       "      <td>0.01</td>\n",
       "      <td>1.03</td>\n",
       "      <td>0.48</td>\n",
       "      <td>0.18</td>\n",
       "      <td>0.47</td>\n",
       "    </tr>\n",
       "    <tr>\n",
       "      <th>x_4</th>\n",
       "      <td>0.11</td>\n",
       "      <td>0.03</td>\n",
       "      <td>0.50</td>\n",
       "      <td>0.32</td>\n",
       "      <td>0.00</td>\n",
       "      <td>0.41</td>\n",
       "      <td>0.30</td>\n",
       "      <td>0.45</td>\n",
       "      <td>0.12</td>\n",
       "      <td>0.20</td>\n",
       "    </tr>\n",
       "    <tr>\n",
       "      <th>x_5</th>\n",
       "      <td>0.13</td>\n",
       "      <td>0.64</td>\n",
       "      <td>0.68</td>\n",
       "      <td>0.01</td>\n",
       "      <td>0.41</td>\n",
       "      <td>0.00</td>\n",
       "      <td>1.23</td>\n",
       "      <td>0.64</td>\n",
       "      <td>0.28</td>\n",
       "      <td>0.63</td>\n",
       "    </tr>\n",
       "    <tr>\n",
       "      <th>x_6</th>\n",
       "      <td>0.75</td>\n",
       "      <td>0.16</td>\n",
       "      <td>0.46</td>\n",
       "      <td>1.03</td>\n",
       "      <td>0.30</td>\n",
       "      <td>1.23</td>\n",
       "      <td>0.00</td>\n",
       "      <td>0.42</td>\n",
       "      <td>0.38</td>\n",
       "      <td>0.17</td>\n",
       "    </tr>\n",
       "    <tr>\n",
       "      <th>x_7</th>\n",
       "      <td>0.63</td>\n",
       "      <td>0.48</td>\n",
       "      <td>0.00</td>\n",
       "      <td>0.48</td>\n",
       "      <td>0.45</td>\n",
       "      <td>0.64</td>\n",
       "      <td>0.42</td>\n",
       "      <td>0.00</td>\n",
       "      <td>0.13</td>\n",
       "      <td>0.07</td>\n",
       "    </tr>\n",
       "    <tr>\n",
       "      <th>x_8</th>\n",
       "      <td>0.19</td>\n",
       "      <td>0.19</td>\n",
       "      <td>0.16</td>\n",
       "      <td>0.18</td>\n",
       "      <td>0.12</td>\n",
       "      <td>0.28</td>\n",
       "      <td>0.38</td>\n",
       "      <td>0.13</td>\n",
       "      <td>0.00</td>\n",
       "      <td>0.07</td>\n",
       "    </tr>\n",
       "    <tr>\n",
       "      <th>x_9</th>\n",
       "      <td>0.44</td>\n",
       "      <td>0.18</td>\n",
       "      <td>0.09</td>\n",
       "      <td>0.47</td>\n",
       "      <td>0.20</td>\n",
       "      <td>0.63</td>\n",
       "      <td>0.17</td>\n",
       "      <td>0.07</td>\n",
       "      <td>0.07</td>\n",
       "      <td>0.00</td>\n",
       "    </tr>\n",
       "  </tbody>\n",
       "</table>\n",
       "</div>"
      ],
      "text/plain": [
       "     x_0  x_1  x_2  x_3  x_4  x_5  x_6  x_7  x_8  x_9\n",
       "x_0 0.00 0.25 0.68 0.11 0.11 0.13 0.75 0.63 0.19 0.44\n",
       "x_1 0.25 0.00 0.53 0.53 0.03 0.64 0.16 0.48 0.19 0.18\n",
       "x_2 0.68 0.53 0.00 0.51 0.50 0.68 0.46 0.00 0.16 0.09\n",
       "x_3 0.11 0.53 0.51 0.00 0.32 0.01 1.03 0.48 0.18 0.47\n",
       "x_4 0.11 0.03 0.50 0.32 0.00 0.41 0.30 0.45 0.12 0.20\n",
       "x_5 0.13 0.64 0.68 0.01 0.41 0.00 1.23 0.64 0.28 0.63\n",
       "x_6 0.75 0.16 0.46 1.03 0.30 1.23 0.00 0.42 0.38 0.17\n",
       "x_7 0.63 0.48 0.00 0.48 0.45 0.64 0.42 0.00 0.13 0.07\n",
       "x_8 0.19 0.19 0.16 0.18 0.12 0.28 0.38 0.13 0.00 0.07\n",
       "x_9 0.44 0.18 0.09 0.47 0.20 0.63 0.17 0.07 0.07 0.00"
      ]
     },
     "execution_count": 53,
     "metadata": {},
     "output_type": "execute_result"
    }
   ],
   "source": [
    "pd.DataFrame(dist_sq, index=ind_col,columns=ind_col)"
   ]
  },
  {
   "cell_type": "code",
   "execution_count": 54,
   "id": "04088f88",
   "metadata": {},
   "outputs": [
    {
     "data": {
      "text/plain": [
       "array([0., 0., 0., 0., 0., 0., 0., 0., 0., 0.])"
      ]
     },
     "execution_count": 54,
     "metadata": {},
     "output_type": "execute_result"
    }
   ],
   "source": [
    "dist_sq.diagonal()"
   ]
  },
  {
   "cell_type": "code",
   "execution_count": 55,
   "id": "5540925b",
   "metadata": {},
   "outputs": [
    {
     "data": {
      "text/plain": [
       "array([[0, 3, 4, 5, 8, 1, 9, 7, 2, 6],\n",
       "       [1, 4, 6, 9, 8, 0, 7, 3, 2, 5],\n",
       "       [2, 7, 9, 8, 6, 4, 3, 1, 0, 5],\n",
       "       [3, 5, 0, 8, 4, 9, 7, 2, 1, 6],\n",
       "       [4, 1, 0, 8, 9, 6, 3, 5, 7, 2],\n",
       "       [5, 3, 0, 8, 4, 9, 1, 7, 2, 6],\n",
       "       [6, 1, 9, 4, 8, 7, 2, 0, 3, 5],\n",
       "       [7, 2, 9, 8, 6, 4, 1, 3, 0, 5],\n",
       "       [8, 9, 4, 7, 2, 3, 0, 1, 5, 6],\n",
       "       [9, 8, 7, 2, 6, 1, 4, 0, 3, 5]], dtype=int64)"
      ]
     },
     "execution_count": 55,
     "metadata": {},
     "output_type": "execute_result"
    }
   ],
   "source": [
    "nearest = np.argsort(dist_sq, axis=-1)\n",
    "nearest"
   ]
  },
  {
   "cell_type": "code",
   "execution_count": 56,
   "id": "8b5dca14",
   "metadata": {},
   "outputs": [],
   "source": [
    "#to avoid to much computation it is possible to use argpartition here\n",
    "K = 2"
   ]
  },
  {
   "cell_type": "code",
   "execution_count": 57,
   "id": "847900cb",
   "metadata": {},
   "outputs": [
    {
     "data": {
      "text/plain": [
       "array([[3, 0, 4, 5, 8, 9, 1, 7, 2, 6],\n",
       "       [1, 4, 6, 9, 3, 5, 2, 7, 8, 0],\n",
       "       [2, 7, 9, 8, 6, 4, 5, 1, 3, 0],\n",
       "       [3, 5, 0, 8, 4, 1, 6, 7, 2, 9],\n",
       "       [1, 4, 0, 8, 9, 6, 2, 7, 5, 3],\n",
       "       [5, 3, 0, 8, 4, 1, 6, 7, 2, 9],\n",
       "       [1, 9, 6, 4, 3, 5, 2, 7, 8, 0],\n",
       "       [7, 2, 9, 8, 6, 4, 5, 1, 3, 0],\n",
       "       [8, 9, 4, 7, 2, 3, 0, 1, 5, 6],\n",
       "       [8, 7, 9, 2, 1, 6, 4, 5, 3, 0]], dtype=int64)"
      ]
     },
     "execution_count": 57,
     "metadata": {},
     "output_type": "execute_result"
    }
   ],
   "source": [
    "#notice K+1 since the first index is always the difference between x_n and x_n\n",
    "nearest_partition =  np.argpartition(dist_sq, K+1, axis=1)\n",
    "nearest_partition"
   ]
  },
  {
   "cell_type": "code",
   "execution_count": 58,
   "id": "855205d0",
   "metadata": {},
   "outputs": [
    {
     "data": {
      "image/png": "[encoded data removed]",
      "text/plain": [
       "<Figure size 640x480 with 1 Axes>"
      ]
     },
     "metadata": {},
     "output_type": "display_data"
    },
    {
     "data": {
      "image/png": "[encoded data removed]",
      "text/plain": [
       "<Figure size 640x480 with 1 Axes>"
      ]
     },
     "metadata": {},
     "output_type": "display_data"
    }
   ],
   "source": [
    "plt.scatter(X[:, 0], X[:, 1], s = 100, facecolor='green')\n",
    "\n",
    "for i in range(X.shape[0]):\n",
    "    for j in nearest_partition[i, 1:K+1]:\n",
    "        plt.plot(*zip(X[j], X[i]), color='black')\n",
    "\n",
    "plt.show()\n",
    "\n",
    "\n",
    "plt.scatter(X[:, 0], X[:, 1], s = 100, facecolor='green', zorder=1)\n",
    "\n",
    "for i in range(X.shape[0]):\n",
    "    for j in nearest[i, 1:K+1]:\n",
    "        plt.plot(*zip(X[j], X[i]), color='black', zorder=0)\n",
    "\n",
    "plt.show()"
   ]
  },
  {
   "cell_type": "markdown",
   "id": "f24a0e4b",
   "metadata": {},
   "source": [
    "--------------"
   ]
  },
  {
   "cell_type": "markdown",
   "id": "30831419",
   "metadata": {},
   "source": [
    "### now let's generalize for n-dim"
   ]
  },
  {
   "cell_type": "code",
   "execution_count": 61,
   "id": "47984bb6",
   "metadata": {},
   "outputs": [
    {
     "data": {
      "text/plain": [
       "array([[0.37, 0.95, 0.73, 0.6 , 0.16, 0.16, 0.06, 0.87],\n",
       "       [0.6 , 0.71, 0.02, 0.97, 0.83, 0.21, 0.18, 0.18],\n",
       "       [0.3 , 0.52, 0.43, 0.29, 0.61, 0.14, 0.29, 0.37],\n",
       "       [0.46, 0.79, 0.2 , 0.51, 0.59, 0.05, 0.61, 0.17],\n",
       "       [0.07, 0.95, 0.97, 0.81, 0.3 , 0.1 , 0.68, 0.44],\n",
       "       [0.12, 0.5 , 0.03, 0.91, 0.26, 0.66, 0.31, 0.52],\n",
       "       [0.55, 0.18, 0.97, 0.78, 0.94, 0.89, 0.6 , 0.92],\n",
       "       [0.09, 0.2 , 0.05, 0.33, 0.39, 0.27, 0.83, 0.36],\n",
       "       [0.28, 0.54, 0.14, 0.8 , 0.07, 0.99, 0.77, 0.2 ],\n",
       "       [0.01, 0.82, 0.71, 0.73, 0.77, 0.07, 0.36, 0.12]])"
      ]
     },
     "execution_count": 61,
     "metadata": {},
     "output_type": "execute_result"
    }
   ],
   "source": [
    "np.random.seed(42)\n",
    "X = np.random.rand(10,8)\n",
    "X"
   ]
  },
  {
   "cell_type": "code",
   "execution_count": 60,
   "id": "8607d59a",
   "metadata": {},
   "outputs": [
    {
     "data": {
      "image/png": "[encoded data removed]",
      "text/plain": [
       "<Figure size 640x480 with 1 Axes>"
      ]
     },
     "metadata": {},
     "output_type": "display_data"
    }
   ],
   "source": [
    "fig = plt.figure()\n",
    "ax = fig.add_subplot(111, projection='3d')\n",
    "\n",
    "ax.scatter(X[:,0], X[:,1], X[:,2], c='black', alpha=.6)\n",
    "ax.set_xlabel('X')\n",
    "ax.set_ylabel('Y')\n",
    "ax.set_zlabel('Z')\n",
    "\n",
    "plt.show()"
   ]
  },
  {
   "cell_type": "code",
   "execution_count": 62,
   "id": "bbe2e10f",
   "metadata": {},
   "outputs": [],
   "source": [
    "def k_nn(X, K):\n",
    "    pass"
   ]
  },
  {
   "cell_type": "code",
   "execution_count": null,
   "id": "0566d5b0",
   "metadata": {},
   "outputs": [],
   "source": []
  }
 ],
 "metadata": {
  "kernelspec": {
   "display_name": "Python 3 (ipykernel)",
   "language": "python",
   "name": "python3"
  },
  "language_info": {
   "codemirror_mode": {
    "name": "ipython",
    "version": 3
   },
   "file_extension": ".py",
   "mimetype": "text/x-python",
   "name": "python",
   "nbconvert_exporter": "python",
   "pygments_lexer": "ipython3",
   "version": "3.11.3"
  }
 },
 "nbformat": 4,
 "nbformat_minor": 5
}
