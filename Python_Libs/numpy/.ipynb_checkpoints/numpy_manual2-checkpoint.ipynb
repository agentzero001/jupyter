{
 "cells": [
  {
   "cell_type": "code",
   "execution_count": 74,
   "id": "11394e53",
   "metadata": {},
   "outputs": [
    {
     "data": {
      "text/plain": [
       "'3.11.3 (tags/v3.11.3:f3909b8, Apr  4 2023, 23:49:59) [MSC v.1934 64 bit (AMD64)]'"
      ]
     },
     "execution_count": 74,
     "metadata": {},
     "output_type": "execute_result"
    }
   ],
   "source": [
    "import sys\n",
    "sys.version"
   ]
  },
  {
   "cell_type": "code",
   "execution_count": 75,
   "id": "74537ebc",
   "metadata": {},
   "outputs": [
    {
     "data": {
      "text/plain": [
       "'1.24.1'"
      ]
     },
     "execution_count": 75,
     "metadata": {},
     "output_type": "execute_result"
    }
   ],
   "source": [
    "import numpy as np\n",
    "np.__version__"
   ]
  },
  {
   "cell_type": "code",
   "execution_count": 76,
   "id": "eab2e138",
   "metadata": {},
   "outputs": [],
   "source": [
    "np.random.seed(42)\n",
    "X = np.random.randn(100)\n",
    "\n",
    "bins = np.linspace(-5, 5, 20)\n",
    "counts = np.zeros_like(bins)\n",
    "\n",
    "j = np.searchsorted(bins, X)\n",
    "\n",
    "np.add.at(counts, j, 1)"
   ]
  },
  {
   "cell_type": "code",
   "execution_count": 77,
   "id": "e71c2708",
   "metadata": {},
   "outputs": [
    {
     "data": {
      "text/plain": [
       "array([11, 10, 11, 13, 10, 10, 13, 11,  9, 11,  9,  9, 10,  6,  7,  9,  8,\n",
       "       11,  8,  7, 13, 10, 10,  7,  9, 10,  8, 11,  9,  9,  9, 14, 10,  8,\n",
       "       12,  8, 10,  6,  7, 10, 11, 10, 10,  9,  7,  9,  9, 12, 11,  7, 11,\n",
       "        9,  9, 11, 12, 12,  8,  9, 11, 12,  9, 10,  8,  8, 12, 13, 10, 12,\n",
       "       11,  9, 11, 13, 10, 13,  5, 12, 10,  9, 10,  6, 10, 11, 13,  9,  8,\n",
       "        9, 12, 11,  9, 11, 10, 12,  9,  9,  9,  7, 11, 10, 10, 10],\n",
       "      dtype=int64)"
      ]
     },
     "execution_count": 77,
     "metadata": {},
     "output_type": "execute_result"
    }
   ],
   "source": [
    "j"
   ]
  },
  {
   "cell_type": "code",
   "execution_count": 78,
   "id": "d5e2b710",
   "metadata": {},
   "outputs": [],
   "source": [
    "indices, bins2 = np.histogram(X,bins)"
   ]
  },
  {
   "cell_type": "code",
   "execution_count": 79,
   "id": "7346380a",
   "metadata": {},
   "outputs": [
    {
     "data": {
      "text/plain": [
       "True"
      ]
     },
     "execution_count": 79,
     "metadata": {},
     "output_type": "execute_result"
    }
   ],
   "source": [
    "np.all(bins == bins2)"
   ]
  },
  {
   "cell_type": "code",
   "execution_count": 80,
   "id": "75e9a136",
   "metadata": {},
   "outputs": [
    {
     "data": {
      "text/plain": [
       "(array([ 1,  4,  6,  8, 19, 17, 21, 11,  6,  7], dtype=int64),\n",
       " array([-2.62, -2.17, -1.73, -1.28, -0.83, -0.38,  0.06,  0.51,  0.96,\n",
       "         1.41,  1.85]))"
      ]
     },
     "execution_count": 80,
     "metadata": {},
     "output_type": "execute_result"
    }
   ],
   "source": [
    "np.histogram(X)"
   ]
  },
  {
   "cell_type": "code",
   "execution_count": 82,
   "id": "b5720c00",
   "metadata": {},
   "outputs": [],
   "source": [
    "def selection_sort(x):\n",
    "    for i in range(len(x)):\n",
    "        swap = i + np.argmin(x[i:])\n",
    "        (x[i], x[swap]) = (x[swap], x[i])\n",
    "    return x"
   ]
  },
  {
   "cell_type": "code",
   "execution_count": 83,
   "id": "4cdf7507",
   "metadata": {},
   "outputs": [
    {
     "data": {
      "text/plain": [
       "[2, 5, 5, 6, 7, 8, 9]"
      ]
     },
     "execution_count": 83,
     "metadata": {},
     "output_type": "execute_result"
    }
   ],
   "source": [
    "selection_sort([2,5,6,7,8,5,9])"
   ]
  },
  {
   "cell_type": "code",
   "execution_count": 84,
   "id": "e5929e06",
   "metadata": {},
   "outputs": [],
   "source": [
    "def bogosort(x):\n",
    "    while np.any(x[:-1] > x[1:]):\n",
    "        np.random.shuffle(x)\n",
    "    return x"
   ]
  },
  {
   "cell_type": "code",
   "execution_count": 85,
   "id": "9ee81556",
   "metadata": {},
   "outputs": [
    {
     "data": {
      "text/plain": [
       "array([3, 2, 4, 1, 0])"
      ]
     },
     "execution_count": 85,
     "metadata": {},
     "output_type": "execute_result"
    }
   ],
   "source": [
    "x = np.arange(5)\n",
    "np.random.shuffle(x)\n",
    "x"
   ]
  },
  {
   "cell_type": "code",
   "execution_count": 86,
   "id": "4a8c938a",
   "metadata": {},
   "outputs": [
    {
     "data": {
      "text/plain": [
       "True"
      ]
     },
     "execution_count": 86,
     "metadata": {},
     "output_type": "execute_result"
    }
   ],
   "source": [
    "np.any(x[:-1] > x[1:])"
   ]
  },
  {
   "cell_type": "code",
   "execution_count": 87,
   "id": "c8dcba09",
   "metadata": {},
   "outputs": [
    {
     "data": {
      "text/plain": [
       "array([0, 1, 2, 3, 4])"
      ]
     },
     "execution_count": 87,
     "metadata": {},
     "output_type": "execute_result"
    }
   ],
   "source": [
    "bogosort(x)"
   ]
  },
  {
   "cell_type": "code",
   "execution_count": 88,
   "id": "36386d70",
   "metadata": {},
   "outputs": [
    {
     "data": {
      "text/plain": [
       "array([0, 1, 2, 3])"
      ]
     },
     "execution_count": 88,
     "metadata": {},
     "output_type": "execute_result"
    }
   ],
   "source": [
    "x[:-1]"
   ]
  },
  {
   "cell_type": "code",
   "execution_count": 89,
   "id": "17cbc2d3",
   "metadata": {},
   "outputs": [
    {
     "data": {
      "text/plain": [
       "array([1, 2, 3, 4])"
      ]
     },
     "execution_count": 89,
     "metadata": {},
     "output_type": "execute_result"
    }
   ],
   "source": [
    "x[1:]"
   ]
  },
  {
   "cell_type": "code",
   "execution_count": 90,
   "id": "d8f356fd",
   "metadata": {},
   "outputs": [
    {
     "data": {
      "text/plain": [
       "array([4, 0, 1, 2, 3])"
      ]
     },
     "execution_count": 90,
     "metadata": {},
     "output_type": "execute_result"
    }
   ],
   "source": [
    "np.random.shuffle(x)\n",
    "x"
   ]
  },
  {
   "cell_type": "code",
   "execution_count": 91,
   "id": "ba2bbe64",
   "metadata": {},
   "outputs": [
    {
     "data": {
      "text/plain": [
       "array([1, 2, 3, 4, 0], dtype=int64)"
      ]
     },
     "execution_count": 91,
     "metadata": {},
     "output_type": "execute_result"
    }
   ],
   "source": [
    "np.argsort(x)"
   ]
  },
  {
   "cell_type": "code",
   "execution_count": 92,
   "id": "8c7286a2",
   "metadata": {},
   "outputs": [
    {
     "data": {
      "text/plain": [
       "array([0, 1, 2, 3, 4])"
      ]
     },
     "execution_count": 92,
     "metadata": {},
     "output_type": "execute_result"
    }
   ],
   "source": [
    "x[np.argsort(x)]"
   ]
  },
  {
   "cell_type": "code",
   "execution_count": 93,
   "id": "2651347e",
   "metadata": {},
   "outputs": [
    {
     "data": {
      "text/plain": [
       "array([6, 5, 2, 0, 4, 7, 9, 8, 1, 3])"
      ]
     },
     "execution_count": 93,
     "metadata": {},
     "output_type": "execute_result"
    }
   ],
   "source": [
    "x = np.arange(10)\n",
    "np.random.shuffle(x)\n",
    "x"
   ]
  },
  {
   "cell_type": "code",
   "execution_count": 94,
   "id": "1d38ac29",
   "metadata": {},
   "outputs": [
    {
     "data": {
      "text/plain": [
       "array([1, 3, 2, 0, 4, 7, 9, 8, 5, 6])"
      ]
     },
     "execution_count": 94,
     "metadata": {},
     "output_type": "execute_result"
    }
   ],
   "source": [
    "np.partition(x,4)"
   ]
  },
  {
   "cell_type": "code",
   "execution_count": 95,
   "id": "139d8bfc",
   "metadata": {},
   "outputs": [
    {
     "data": {
      "text/plain": [
       "array([[5, 4, 5, 1, 0, 6, 6, 9, 9, 1],\n",
       "       [1, 0, 9, 7, 7, 0, 7, 8, 3, 0],\n",
       "       [0, 2, 4, 4, 8, 9, 1, 1, 5, 8],\n",
       "       [0, 8, 8, 8, 4, 8, 3, 1, 5, 3],\n",
       "       [5, 2, 5, 1, 1, 8, 6, 2, 0, 7],\n",
       "       [5, 6, 8, 4, 0, 9, 6, 4, 2, 8]])"
      ]
     },
     "execution_count": 95,
     "metadata": {},
     "output_type": "execute_result"
    }
   ],
   "source": [
    "X = np.random.randint(10, size=(6,10))\n",
    "X"
   ]
  },
  {
   "cell_type": "code",
   "execution_count": 96,
   "id": "fbf48e1a",
   "metadata": {},
   "outputs": [
    {
     "data": {
      "text/plain": [
       "array([[0, 2, 5, 1, 0, 0, 3, 1, 0, 0],\n",
       "       [0, 2, 4, 1, 0, 6, 1, 1, 2, 1],\n",
       "       [1, 0, 5, 4, 1, 8, 6, 2, 3, 3],\n",
       "       [5, 4, 8, 4, 4, 8, 6, 4, 5, 7],\n",
       "       [5, 8, 8, 7, 7, 9, 7, 8, 5, 8],\n",
       "       [5, 6, 9, 8, 8, 9, 6, 9, 9, 8]])"
      ]
     },
     "execution_count": 96,
     "metadata": {},
     "output_type": "execute_result"
    }
   ],
   "source": [
    "np.partition(X, 3, axis=0)"
   ]
  },
  {
   "cell_type": "code",
   "execution_count": 97,
   "id": "ef277a3e",
   "metadata": {},
   "outputs": [
    {
     "data": {
      "text/plain": [
       "True"
      ]
     },
     "execution_count": 97,
     "metadata": {},
     "output_type": "execute_result"
    }
   ],
   "source": [
    "np.all(np.partition(X, 3, axis=-1) == np.partition(X, 3, axis=1))"
   ]
  },
  {
   "cell_type": "code",
   "execution_count": 98,
   "id": "b72cb08f",
   "metadata": {},
   "outputs": [
    {
     "data": {
      "text/plain": [
       "array([[5, 4, 5, 1, 0, 6, 6, 9, 9, 1],\n",
       "       [1, 0, 9, 7, 7, 0, 7, 8, 3, 0],\n",
       "       [0, 2, 4, 4, 8, 9, 1, 1, 5, 8],\n",
       "       [0, 8, 8, 8, 4, 8, 3, 1, 5, 3],\n",
       "       [5, 2, 5, 1, 1, 8, 6, 2, 0, 7],\n",
       "       [5, 6, 8, 4, 0, 9, 6, 4, 2, 8]])"
      ]
     },
     "execution_count": 98,
     "metadata": {},
     "output_type": "execute_result"
    }
   ],
   "source": [
    "X"
   ]
  },
  {
   "cell_type": "code",
   "execution_count": 99,
   "id": "079cf150",
   "metadata": {},
   "outputs": [
    {
     "data": {
      "text/plain": [
       "array([[4, 3, 2, 1, 0, 5, 6, 7, 8, 9],\n",
       "       [1, 5, 2, 3, 4, 0, 6, 7, 8, 9],\n",
       "       [0, 6, 2, 3, 4, 5, 1, 7, 8, 9],\n",
       "       [0, 7, 2, 3, 4, 5, 6, 1, 8, 9],\n",
       "       [8, 3, 2, 1, 4, 5, 6, 7, 0, 9],\n",
       "       [4, 8, 2, 3, 0, 5, 6, 7, 1, 9]], dtype=int64)"
      ]
     },
     "execution_count": 99,
     "metadata": {},
     "output_type": "execute_result"
    }
   ],
   "source": [
    "np.argpartition(X, 1, axis=-1)"
   ]
  },
  {
   "cell_type": "code",
   "execution_count": 100,
   "id": "fb61aede",
   "metadata": {},
   "outputs": [
    {
     "data": {
      "text/plain": [
       "array([6, 5, 2, 0, 4, 7, 9, 8, 1, 3])"
      ]
     },
     "execution_count": 100,
     "metadata": {},
     "output_type": "execute_result"
    }
   ],
   "source": [
    "x"
   ]
  },
  {
   "cell_type": "code",
   "execution_count": 101,
   "id": "854770db",
   "metadata": {},
   "outputs": [
    {
     "data": {
      "text/plain": [
       "array([0, 5, 2, 6, 4, 7, 9, 8, 1, 3])"
      ]
     },
     "execution_count": 101,
     "metadata": {},
     "output_type": "execute_result"
    }
   ],
   "source": [
    "indices = np.argpartition(x,0)\n",
    "x[indices]"
   ]
  },
  {
   "cell_type": "code",
   "execution_count": 102,
   "id": "b19bc4a2",
   "metadata": {},
   "outputs": [
    {
     "data": {
      "text/plain": [
       "array([3, 1, 2, 0, 4, 5, 6, 7, 8, 9], dtype=int64)"
      ]
     },
     "execution_count": 102,
     "metadata": {},
     "output_type": "execute_result"
    }
   ],
   "source": [
    "indices"
   ]
  },
  {
   "cell_type": "code",
   "execution_count": 103,
   "id": "aee3e45c",
   "metadata": {},
   "outputs": [],
   "source": [
    "indices = np.argpartition(X, 2, axis=-1)"
   ]
  },
  {
   "cell_type": "code",
   "execution_count": 104,
   "id": "b6c09d49",
   "metadata": {},
   "outputs": [
    {
     "data": {
      "text/plain": [
       "array([[0, 1, 1, 4, 5, 6, 6, 9, 9, 5],\n",
       "       [0, 0, 0, 7, 7, 1, 7, 8, 3, 9],\n",
       "       [0, 1, 1, 4, 8, 9, 2, 4, 5, 8],\n",
       "       [0, 1, 3, 8, 4, 8, 8, 8, 5, 3],\n",
       "       [0, 1, 1, 2, 5, 8, 6, 2, 5, 7],\n",
       "       [0, 2, 4, 8, 5, 9, 6, 4, 6, 8]])"
      ]
     },
     "execution_count": 104,
     "metadata": {},
     "output_type": "execute_result"
    }
   ],
   "source": [
    "X[np.arange(X.shape[0])[:, np.newaxis], indices]"
   ]
  },
  {
   "cell_type": "code",
   "execution_count": 105,
   "id": "4bc7a1eb",
   "metadata": {},
   "outputs": [
    {
     "data": {
      "text/plain": [
       "array([[0, 1, 1, 4, 5, 6, 6, 9, 9, 5],\n",
       "       [0, 0, 0, 7, 7, 1, 7, 8, 3, 9],\n",
       "       [0, 1, 1, 4, 8, 9, 2, 4, 5, 8],\n",
       "       [0, 1, 3, 8, 4, 8, 8, 8, 5, 3],\n",
       "       [0, 1, 1, 2, 5, 8, 6, 2, 5, 7],\n",
       "       [0, 2, 4, 8, 5, 9, 6, 4, 6, 8]])"
      ]
     },
     "execution_count": 105,
     "metadata": {},
     "output_type": "execute_result"
    }
   ],
   "source": [
    "X[np.arange(X.shape[0]).reshape(X.shape[0], 1), indices]"
   ]
  },
  {
   "cell_type": "code",
   "execution_count": 106,
   "id": "26efa352",
   "metadata": {},
   "outputs": [
    {
     "data": {
      "text/plain": [
       "True"
      ]
     },
     "execution_count": 106,
     "metadata": {},
     "output_type": "execute_result"
    }
   ],
   "source": [
    "np.all(X[np.arange(X.shape[0])[:, np.newaxis], indices] == X[np.arange(X.shape[0]).reshape(X.shape[0], 1), indices])"
   ]
  },
  {
   "cell_type": "code",
   "execution_count": 107,
   "id": "54ce81ae",
   "metadata": {},
   "outputs": [
    {
     "data": {
      "text/plain": [
       "(array([0, 1, 1, 4, 5, 6, 6, 9, 9, 5]), array([0, 0, 0, 7, 7, 1, 7, 8, 3, 9]))"
      ]
     },
     "execution_count": 107,
     "metadata": {},
     "output_type": "execute_result"
    }
   ],
   "source": [
    "#accessing a 2d array with indexing using a 2d array. Right?\n",
    "X[0,indices[0]], X[1, indices[1]]"
   ]
  },
  {
   "cell_type": "markdown",
   "id": "224b1c1f",
   "metadata": {},
   "source": [
    "-----------------"
   ]
  },
  {
   "cell_type": "markdown",
   "id": "64d444a5",
   "metadata": {},
   "source": [
    "## What follows is some knn implementation in numpy"
   ]
  },
  {
   "cell_type": "code",
   "execution_count": 129,
   "id": "d70be4c4",
   "metadata": {},
   "outputs": [],
   "source": [
    "np.set_printoptions(precision=2)"
   ]
  },
  {
   "cell_type": "code",
   "execution_count": 130,
   "id": "299b5654",
   "metadata": {},
   "outputs": [
    {
     "data": {
      "text/plain": [
       "array([[0.37, 0.95],\n",
       "       [0.73, 0.6 ],\n",
       "       [0.16, 0.16],\n",
       "       [0.06, 0.87],\n",
       "       [0.6 , 0.71],\n",
       "       [0.02, 0.97],\n",
       "       [0.83, 0.21],\n",
       "       [0.18, 0.18],\n",
       "       [0.3 , 0.52],\n",
       "       [0.43, 0.29]])"
      ]
     },
     "execution_count": 130,
     "metadata": {},
     "output_type": "execute_result"
    }
   ],
   "source": [
    "np.random.seed(42)\n",
    "X = np.random.rand(10,2)\n",
    "X"
   ]
  },
  {
   "cell_type": "code",
   "execution_count": 131,
   "id": "4d5ae140",
   "metadata": {},
   "outputs": [],
   "source": [
    "import matplotlib.pyplot as plt\n",
    "plt.rcParams['figure.facecolor'] = '.2'\n",
    "plt.rcParams['axes.facecolor'] = '.1'"
   ]
  },
  {
   "cell_type": "code",
   "execution_count": 132,
   "id": "d65d9db6",
   "metadata": {},
   "outputs": [
    {
     "data": {
      "image/png": "[encoded data removed]",
      "text/plain": [
       "<Figure size 640x480 with 1 Axes>"
      ]
     },
     "metadata": {},
     "output_type": "display_data"
    }
   ],
   "source": [
    "plt.scatter(X[:,0], X[:,1], facecolor='green', s=80)\n",
    "plt.grid(alpha=.1)"
   ]
  },
  {
   "cell_type": "code",
   "execution_count": 133,
   "id": "e108d0db",
   "metadata": {},
   "outputs": [
    {
     "ename": "IndexError",
     "evalue": "index 2 is out of bounds for axis 1 with size 2",
     "output_type": "error",
     "traceback": [
      "\u001b[1;31m---------------------------------------------------------------------------\u001b[0m",
      "\u001b[1;31mIndexError\u001b[0m                                Traceback (most recent call last)",
      "Cell \u001b[1;32mIn[133], line 4\u001b[0m\n\u001b[0;32m      1\u001b[0m fig \u001b[38;5;241m=\u001b[39m plt\u001b[38;5;241m.\u001b[39mfigure()\n\u001b[0;32m      2\u001b[0m ax \u001b[38;5;241m=\u001b[39m fig\u001b[38;5;241m.\u001b[39madd_subplot(\u001b[38;5;241m111\u001b[39m, projection\u001b[38;5;241m=\u001b[39m\u001b[38;5;124m'\u001b[39m\u001b[38;5;124m3d\u001b[39m\u001b[38;5;124m'\u001b[39m)\n\u001b[1;32m----> 4\u001b[0m ax\u001b[38;5;241m.\u001b[39mscatter(X[:,\u001b[38;5;241m0\u001b[39m], X[:,\u001b[38;5;241m1\u001b[39m], \u001b[43mX\u001b[49m\u001b[43m[\u001b[49m\u001b[43m:\u001b[49m\u001b[43m,\u001b[49m\u001b[38;5;241;43m2\u001b[39;49m\u001b[43m]\u001b[49m, c\u001b[38;5;241m=\u001b[39m\u001b[38;5;124m'\u001b[39m\u001b[38;5;124mblack\u001b[39m\u001b[38;5;124m'\u001b[39m, alpha\u001b[38;5;241m=\u001b[39m\u001b[38;5;241m.6\u001b[39m)\n\u001b[0;32m      5\u001b[0m ax\u001b[38;5;241m.\u001b[39mset_xlabel(\u001b[38;5;124m'\u001b[39m\u001b[38;5;124mX\u001b[39m\u001b[38;5;124m'\u001b[39m)\n\u001b[0;32m      6\u001b[0m ax\u001b[38;5;241m.\u001b[39mset_ylabel(\u001b[38;5;124m'\u001b[39m\u001b[38;5;124mY\u001b[39m\u001b[38;5;124m'\u001b[39m)\n",
      "\u001b[1;31mIndexError\u001b[0m: index 2 is out of bounds for axis 1 with size 2"
     ]
    },
    {
     "data": {
      "image/png": "[encoded data removed]",
      "text/plain": [
       "<Figure size 640x480 with 1 Axes>"
      ]
     },
     "metadata": {},
     "output_type": "display_data"
    }
   ],
   "source": [
    "fig = plt.figure()\n",
    "ax = fig.add_subplot(111, projection='3d')\n",
    "\n",
    "ax.scatter(X[:,0], X[:,1], X[:,2], c='black', alpha=.6)\n",
    "ax.set_xlabel('X')\n",
    "ax.set_ylabel('Y')\n",
    "ax.set_zlabel('Z')\n",
    "\n",
    "\n",
    "plt.show()"
   ]
  },
  {
   "cell_type": "code",
   "execution_count": 134,
   "id": "3892a25e",
   "metadata": {},
   "outputs": [],
   "source": [
    "#broadcasting in action\n",
    "dist_sq = np.sum((X[:, np.newaxis, :] - X[np.newaxis, :, :]) ** 2, axis=-1)"
   ]
  },
  {
   "cell_type": "code",
   "execution_count": 135,
   "id": "570ef969",
   "metadata": {},
   "outputs": [
    {
     "data": {
      "text/plain": [
       "(array([[[0.37, 0.95]],\n",
       " \n",
       "        [[0.73, 0.6 ]],\n",
       " \n",
       "        [[0.16, 0.16]],\n",
       " \n",
       "        [[0.06, 0.87]],\n",
       " \n",
       "        [[0.6 , 0.71]],\n",
       " \n",
       "        [[0.02, 0.97]],\n",
       " \n",
       "        [[0.83, 0.21]],\n",
       " \n",
       "        [[0.18, 0.18]],\n",
       " \n",
       "        [[0.3 , 0.52]],\n",
       " \n",
       "        [[0.43, 0.29]]]),\n",
       " array([[[0.37, 0.95],\n",
       "         [0.73, 0.6 ],\n",
       "         [0.16, 0.16],\n",
       "         [0.06, 0.87],\n",
       "         [0.6 , 0.71],\n",
       "         [0.02, 0.97],\n",
       "         [0.83, 0.21],\n",
       "         [0.18, 0.18],\n",
       "         [0.3 , 0.52],\n",
       "         [0.43, 0.29]]]))"
      ]
     },
     "execution_count": 135,
     "metadata": {},
     "output_type": "execute_result"
    }
   ],
   "source": [
    "X[:, np.newaxis, :], X[np.newaxis, :, :] #this allows you to add any number of dimensions to X"
   ]
  },
  {
   "cell_type": "code",
   "execution_count": 136,
   "id": "4f6028ef",
   "metadata": {},
   "outputs": [
    {
     "data": {
      "text/plain": [
       "array([[[ 0.  ,  0.  ],\n",
       "        [-0.36,  0.35],\n",
       "        [ 0.22,  0.79],\n",
       "        [ 0.32,  0.08],\n",
       "        [-0.23,  0.24],\n",
       "        [ 0.35, -0.02],\n",
       "        [-0.46,  0.74],\n",
       "        [ 0.19,  0.77],\n",
       "        [ 0.07,  0.43],\n",
       "        [-0.06,  0.66]],\n",
       "\n",
       "       [[ 0.36, -0.35],\n",
       "        [ 0.  ,  0.  ],\n",
       "        [ 0.58,  0.44],\n",
       "        [ 0.67, -0.27],\n",
       "        [ 0.13, -0.11],\n",
       "        [ 0.71, -0.37],\n",
       "        [-0.1 ,  0.39],\n",
       "        [ 0.55,  0.42],\n",
       "        [ 0.43,  0.07],\n",
       "        [ 0.3 ,  0.31]],\n",
       "\n",
       "       [[-0.22, -0.79],\n",
       "        [-0.58, -0.44],\n",
       "        [ 0.  ,  0.  ],\n",
       "        [ 0.1 , -0.71],\n",
       "        [-0.45, -0.55],\n",
       "        [ 0.14, -0.81],\n",
       "        [-0.68, -0.06],\n",
       "        [-0.03, -0.03],\n",
       "        [-0.15, -0.37],\n",
       "        [-0.28, -0.14]],\n",
       "\n",
       "       [[-0.32, -0.08],\n",
       "        [-0.67,  0.27],\n",
       "        [-0.1 ,  0.71],\n",
       "        [ 0.  ,  0.  ],\n",
       "        [-0.54,  0.16],\n",
       "        [ 0.04, -0.1 ],\n",
       "        [-0.77,  0.65],\n",
       "        [-0.12,  0.68],\n",
       "        [-0.25,  0.34],\n",
       "        [-0.37,  0.57]],\n",
       "\n",
       "       [[ 0.23, -0.24],\n",
       "        [-0.13,  0.11],\n",
       "        [ 0.45,  0.55],\n",
       "        [ 0.54, -0.16],\n",
       "        [ 0.  ,  0.  ],\n",
       "        [ 0.58, -0.26],\n",
       "        [-0.23,  0.5 ],\n",
       "        [ 0.42,  0.52],\n",
       "        [ 0.3 ,  0.18],\n",
       "        [ 0.17,  0.42]],\n",
       "\n",
       "       [[-0.35,  0.02],\n",
       "        [-0.71,  0.37],\n",
       "        [-0.14,  0.81],\n",
       "        [-0.04,  0.1 ],\n",
       "        [-0.58,  0.26],\n",
       "        [ 0.  ,  0.  ],\n",
       "        [-0.81,  0.76],\n",
       "        [-0.16,  0.79],\n",
       "        [-0.28,  0.45],\n",
       "        [-0.41,  0.68]],\n",
       "\n",
       "       [[ 0.46, -0.74],\n",
       "        [ 0.1 , -0.39],\n",
       "        [ 0.68,  0.06],\n",
       "        [ 0.77, -0.65],\n",
       "        [ 0.23, -0.5 ],\n",
       "        [ 0.81, -0.76],\n",
       "        [ 0.  ,  0.  ],\n",
       "        [ 0.65,  0.03],\n",
       "        [ 0.53, -0.31],\n",
       "        [ 0.4 , -0.08]],\n",
       "\n",
       "       [[-0.19, -0.77],\n",
       "        [-0.55, -0.42],\n",
       "        [ 0.03,  0.03],\n",
       "        [ 0.12, -0.68],\n",
       "        [-0.42, -0.52],\n",
       "        [ 0.16, -0.79],\n",
       "        [-0.65, -0.03],\n",
       "        [ 0.  ,  0.  ],\n",
       "        [-0.12, -0.34],\n",
       "        [-0.25, -0.11]],\n",
       "\n",
       "       [[-0.07, -0.43],\n",
       "        [-0.43, -0.07],\n",
       "        [ 0.15,  0.37],\n",
       "        [ 0.25, -0.34],\n",
       "        [-0.3 , -0.18],\n",
       "        [ 0.28, -0.45],\n",
       "        [-0.53,  0.31],\n",
       "        [ 0.12,  0.34],\n",
       "        [ 0.  ,  0.  ],\n",
       "        [-0.13,  0.23]],\n",
       "\n",
       "       [[ 0.06, -0.66],\n",
       "        [-0.3 , -0.31],\n",
       "        [ 0.28,  0.14],\n",
       "        [ 0.37, -0.57],\n",
       "        [-0.17, -0.42],\n",
       "        [ 0.41, -0.68],\n",
       "        [-0.4 ,  0.08],\n",
       "        [ 0.25,  0.11],\n",
       "        [ 0.13, -0.23],\n",
       "        [ 0.  ,  0.  ]]])"
      ]
     },
     "execution_count": 136,
     "metadata": {},
     "output_type": "execute_result"
    }
   ],
   "source": [
    "#let's go step by step\n",
    "differences = X[:, np.newaxis, :] - X[np.newaxis, :, :]\n",
    "differences"
   ]
  },
  {
   "cell_type": "code",
   "execution_count": 137,
   "id": "7c788752",
   "metadata": {},
   "outputs": [
    {
     "data": {
      "text/plain": [
       "array([[0.  , 0.25, 0.68, 0.11, 0.11, 0.13, 0.75, 0.63, 0.19, 0.44],\n",
       "       [0.25, 0.  , 0.53, 0.53, 0.03, 0.64, 0.16, 0.48, 0.19, 0.18],\n",
       "       [0.68, 0.53, 0.  , 0.51, 0.5 , 0.68, 0.46, 0.  , 0.16, 0.09],\n",
       "       [0.11, 0.53, 0.51, 0.  , 0.32, 0.01, 1.03, 0.48, 0.18, 0.47],\n",
       "       [0.11, 0.03, 0.5 , 0.32, 0.  , 0.41, 0.3 , 0.45, 0.12, 0.2 ],\n",
       "       [0.13, 0.64, 0.68, 0.01, 0.41, 0.  , 1.23, 0.64, 0.28, 0.63],\n",
       "       [0.75, 0.16, 0.46, 1.03, 0.3 , 1.23, 0.  , 0.42, 0.38, 0.17],\n",
       "       [0.63, 0.48, 0.  , 0.48, 0.45, 0.64, 0.42, 0.  , 0.13, 0.07],\n",
       "       [0.19, 0.19, 0.16, 0.18, 0.12, 0.28, 0.38, 0.13, 0.  , 0.07],\n",
       "       [0.44, 0.18, 0.09, 0.47, 0.2 , 0.63, 0.17, 0.07, 0.07, 0.  ]])"
      ]
     },
     "execution_count": 137,
     "metadata": {},
     "output_type": "execute_result"
    }
   ],
   "source": [
    "(differences ** 2).sum(-1)"
   ]
  },
  {
   "cell_type": "code",
   "execution_count": 138,
   "id": "ce4dda5b",
   "metadata": {},
   "outputs": [
    {
     "data": {
      "text/plain": [
       "True"
      ]
     },
     "execution_count": 138,
     "metadata": {},
     "output_type": "execute_result"
    }
   ],
   "source": [
    "np.all(dist_sq == (differences ** 2).sum(-1))"
   ]
  },
  {
   "cell_type": "code",
   "execution_count": 139,
   "id": "269aae7f",
   "metadata": {},
   "outputs": [
    {
     "data": {
      "text/plain": [
       "array([[0.  , 0.25, 0.68, 0.11, 0.11, 0.13, 0.75, 0.63, 0.19, 0.44],\n",
       "       [0.25, 0.  , 0.53, 0.53, 0.03, 0.64, 0.16, 0.48, 0.19, 0.18],\n",
       "       [0.68, 0.53, 0.  , 0.51, 0.5 , 0.68, 0.46, 0.  , 0.16, 0.09],\n",
       "       [0.11, 0.53, 0.51, 0.  , 0.32, 0.01, 1.03, 0.48, 0.18, 0.47],\n",
       "       [0.11, 0.03, 0.5 , 0.32, 0.  , 0.41, 0.3 , 0.45, 0.12, 0.2 ],\n",
       "       [0.13, 0.64, 0.68, 0.01, 0.41, 0.  , 1.23, 0.64, 0.28, 0.63],\n",
       "       [0.75, 0.16, 0.46, 1.03, 0.3 , 1.23, 0.  , 0.42, 0.38, 0.17],\n",
       "       [0.63, 0.48, 0.  , 0.48, 0.45, 0.64, 0.42, 0.  , 0.13, 0.07],\n",
       "       [0.19, 0.19, 0.16, 0.18, 0.12, 0.28, 0.38, 0.13, 0.  , 0.07],\n",
       "       [0.44, 0.18, 0.09, 0.47, 0.2 , 0.63, 0.17, 0.07, 0.07, 0.  ]])"
      ]
     },
     "execution_count": 139,
     "metadata": {},
     "output_type": "execute_result"
    }
   ],
   "source": [
    "np.set_printoptions(precision=2)\n",
    "dist_sq"
   ]
  },
  {
   "cell_type": "code",
   "execution_count": 140,
   "id": "3c1b9147",
   "metadata": {},
   "outputs": [
    {
     "data": {
      "text/plain": [
       "['x_0', 'x_1', 'x_2', 'x_3', 'x_4', 'x_5', 'x_6', 'x_7', 'x_8', 'x_9']"
      ]
     },
     "execution_count": 140,
     "metadata": {},
     "output_type": "execute_result"
    }
   ],
   "source": [
    "ind_col = ['x_'+ str(i) for i in range(dist_sq.shape[0])]\n",
    "ind_col"
   ]
  },
  {
   "cell_type": "code",
   "execution_count": 141,
   "id": "50f3a028",
   "metadata": {},
   "outputs": [
    {
     "data": {
      "text/html": [
       "<div>\n",
       "<style scoped>\n",
       "    .dataframe tbody tr th:only-of-type {\n",
       "        vertical-align: middle;\n",
       "    }\n",
       "\n",
       "    .dataframe tbody tr th {\n",
       "        vertical-align: top;\n",
       "    }\n",
       "\n",
       "    .dataframe thead th {\n",
       "        text-align: right;\n",
       "    }\n",
       "</style>\n",
       "<table border=\"1\" class=\"dataframe\">\n",
       "  <thead>\n",
       "    <tr style=\"text-align: right;\">\n",
       "      <th></th>\n",
       "      <th>x_0</th>\n",
       "      <th>x_1</th>\n",
       "      <th>x_2</th>\n",
       "      <th>x_3</th>\n",
       "      <th>x_4</th>\n",
       "      <th>x_5</th>\n",
       "      <th>x_6</th>\n",
       "      <th>x_7</th>\n",
       "      <th>x_8</th>\n",
       "      <th>x_9</th>\n",
       "    </tr>\n",
       "  </thead>\n",
       "  <tbody>\n",
       "    <tr>\n",
       "      <th>x_0</th>\n",
       "      <td>0.00</td>\n",
       "      <td>0.25</td>\n",
       "      <td>0.68</td>\n",
       "      <td>0.11</td>\n",
       "      <td>0.11</td>\n",
       "      <td>0.13</td>\n",
       "      <td>0.75</td>\n",
       "      <td>0.63</td>\n",
       "      <td>0.19</td>\n",
       "      <td>0.44</td>\n",
       "    </tr>\n",
       "    <tr>\n",
       "      <th>x_1</th>\n",
       "      <td>0.25</td>\n",
       "      <td>0.00</td>\n",
       "      <td>0.53</td>\n",
       "      <td>0.53</td>\n",
       "      <td>0.03</td>\n",
       "      <td>0.64</td>\n",
       "      <td>0.16</td>\n",
       "      <td>0.48</td>\n",
       "      <td>0.19</td>\n",
       "      <td>0.18</td>\n",
       "    </tr>\n",
       "    <tr>\n",
       "      <th>x_2</th>\n",
       "      <td>0.68</td>\n",
       "      <td>0.53</td>\n",
       "      <td>0.00</td>\n",
       "      <td>0.51</td>\n",
       "      <td>0.50</td>\n",
       "      <td>0.68</td>\n",
       "      <td>0.46</td>\n",
       "      <td>0.00</td>\n",
       "      <td>0.16</td>\n",
       "      <td>0.09</td>\n",
       "    </tr>\n",
       "    <tr>\n",
       "      <th>x_3</th>\n",
       "      <td>0.11</td>\n",
       "      <td>0.53</td>\n",
       "      <td>0.51</td>\n",
       "      <td>0.00</td>\n",
       "      <td>0.32</td>\n",
       "      <td>0.01</td>\n",
       "      <td>1.03</td>\n",
       "      <td>0.48</td>\n",
       "      <td>0.18</td>\n",
       "      <td>0.47</td>\n",
       "    </tr>\n",
       "    <tr>\n",
       "      <th>x_4</th>\n",
       "      <td>0.11</td>\n",
       "      <td>0.03</td>\n",
       "      <td>0.50</td>\n",
       "      <td>0.32</td>\n",
       "      <td>0.00</td>\n",
       "      <td>0.41</td>\n",
       "      <td>0.30</td>\n",
       "      <td>0.45</td>\n",
       "      <td>0.12</td>\n",
       "      <td>0.20</td>\n",
       "    </tr>\n",
       "    <tr>\n",
       "      <th>x_5</th>\n",
       "      <td>0.13</td>\n",
       "      <td>0.64</td>\n",
       "      <td>0.68</td>\n",
       "      <td>0.01</td>\n",
       "      <td>0.41</td>\n",
       "      <td>0.00</td>\n",
       "      <td>1.23</td>\n",
       "      <td>0.64</td>\n",
       "      <td>0.28</td>\n",
       "      <td>0.63</td>\n",
       "    </tr>\n",
       "    <tr>\n",
       "      <th>x_6</th>\n",
       "      <td>0.75</td>\n",
       "      <td>0.16</td>\n",
       "      <td>0.46</td>\n",
       "      <td>1.03</td>\n",
       "      <td>0.30</td>\n",
       "      <td>1.23</td>\n",
       "      <td>0.00</td>\n",
       "      <td>0.42</td>\n",
       "      <td>0.38</td>\n",
       "      <td>0.17</td>\n",
       "    </tr>\n",
       "    <tr>\n",
       "      <th>x_7</th>\n",
       "      <td>0.63</td>\n",
       "      <td>0.48</td>\n",
       "      <td>0.00</td>\n",
       "      <td>0.48</td>\n",
       "      <td>0.45</td>\n",
       "      <td>0.64</td>\n",
       "      <td>0.42</td>\n",
       "      <td>0.00</td>\n",
       "      <td>0.13</td>\n",
       "      <td>0.07</td>\n",
       "    </tr>\n",
       "    <tr>\n",
       "      <th>x_8</th>\n",
       "      <td>0.19</td>\n",
       "      <td>0.19</td>\n",
       "      <td>0.16</td>\n",
       "      <td>0.18</td>\n",
       "      <td>0.12</td>\n",
       "      <td>0.28</td>\n",
       "      <td>0.38</td>\n",
       "      <td>0.13</td>\n",
       "      <td>0.00</td>\n",
       "      <td>0.07</td>\n",
       "    </tr>\n",
       "    <tr>\n",
       "      <th>x_9</th>\n",
       "      <td>0.44</td>\n",
       "      <td>0.18</td>\n",
       "      <td>0.09</td>\n",
       "      <td>0.47</td>\n",
       "      <td>0.20</td>\n",
       "      <td>0.63</td>\n",
       "      <td>0.17</td>\n",
       "      <td>0.07</td>\n",
       "      <td>0.07</td>\n",
       "      <td>0.00</td>\n",
       "    </tr>\n",
       "  </tbody>\n",
       "</table>\n",
       "</div>"
      ],
      "text/plain": [
       "     x_0  x_1  x_2  x_3  x_4  x_5  x_6  x_7  x_8  x_9\n",
       "x_0 0.00 0.25 0.68 0.11 0.11 0.13 0.75 0.63 0.19 0.44\n",
       "x_1 0.25 0.00 0.53 0.53 0.03 0.64 0.16 0.48 0.19 0.18\n",
       "x_2 0.68 0.53 0.00 0.51 0.50 0.68 0.46 0.00 0.16 0.09\n",
       "x_3 0.11 0.53 0.51 0.00 0.32 0.01 1.03 0.48 0.18 0.47\n",
       "x_4 0.11 0.03 0.50 0.32 0.00 0.41 0.30 0.45 0.12 0.20\n",
       "x_5 0.13 0.64 0.68 0.01 0.41 0.00 1.23 0.64 0.28 0.63\n",
       "x_6 0.75 0.16 0.46 1.03 0.30 1.23 0.00 0.42 0.38 0.17\n",
       "x_7 0.63 0.48 0.00 0.48 0.45 0.64 0.42 0.00 0.13 0.07\n",
       "x_8 0.19 0.19 0.16 0.18 0.12 0.28 0.38 0.13 0.00 0.07\n",
       "x_9 0.44 0.18 0.09 0.47 0.20 0.63 0.17 0.07 0.07 0.00"
      ]
     },
     "execution_count": 141,
     "metadata": {},
     "output_type": "execute_result"
    }
   ],
   "source": [
    "pd.set_option('display.float_format', '{:.2f}'.format)\n",
    "pd.DataFrame(dist_sq, index=ind_col,columns=ind_col)"
   ]
  },
  {
   "cell_type": "code",
   "execution_count": 142,
   "id": "04088f88",
   "metadata": {},
   "outputs": [
    {
     "data": {
      "text/plain": [
       "array([0., 0., 0., 0., 0., 0., 0., 0., 0., 0.])"
      ]
     },
     "execution_count": 142,
     "metadata": {},
     "output_type": "execute_result"
    }
   ],
   "source": [
    "dist_sq.diagonal()"
   ]
  },
  {
   "cell_type": "code",
   "execution_count": 143,
   "id": "5540925b",
   "metadata": {},
   "outputs": [
    {
     "data": {
      "text/plain": [
       "array([[0, 3, 4, 5, 8, 1, 9, 7, 2, 6],\n",
       "       [1, 4, 6, 9, 8, 0, 7, 3, 2, 5],\n",
       "       [2, 7, 9, 8, 6, 4, 3, 1, 0, 5],\n",
       "       [3, 5, 0, 8, 4, 9, 7, 2, 1, 6],\n",
       "       [4, 1, 0, 8, 9, 6, 3, 5, 7, 2],\n",
       "       [5, 3, 0, 8, 4, 9, 1, 7, 2, 6],\n",
       "       [6, 1, 9, 4, 8, 7, 2, 0, 3, 5],\n",
       "       [7, 2, 9, 8, 6, 4, 1, 3, 0, 5],\n",
       "       [8, 9, 4, 7, 2, 3, 0, 1, 5, 6],\n",
       "       [9, 8, 7, 2, 6, 1, 4, 0, 3, 5]], dtype=int64)"
      ]
     },
     "execution_count": 143,
     "metadata": {},
     "output_type": "execute_result"
    }
   ],
   "source": [
    "nearest = np.argsort(dist_sq, axis=-1)\n",
    "nearest"
   ]
  },
  {
   "cell_type": "code",
   "execution_count": 144,
   "id": "847900cb",
   "metadata": {},
   "outputs": [
    {
     "data": {
      "text/plain": [
       "array([[3, 0, 4, 5, 8, 9, 1, 7, 2, 6],\n",
       "       [1, 4, 6, 9, 8, 0, 7, 3, 5, 2],\n",
       "       [2, 7, 9, 8, 6, 4, 5, 1, 3, 0],\n",
       "       [5, 0, 8, 3, 4, 1, 6, 7, 2, 9],\n",
       "       [1, 4, 0, 8, 9, 6, 2, 7, 5, 3],\n",
       "       [5, 0, 8, 3, 4, 1, 6, 7, 2, 9],\n",
       "       [1, 9, 6, 4, 8, 7, 2, 0, 5, 3],\n",
       "       [7, 2, 9, 8, 6, 4, 5, 1, 3, 0],\n",
       "       [8, 9, 4, 7, 2, 3, 0, 1, 5, 6],\n",
       "       [8, 7, 9, 2, 6, 1, 4, 5, 3, 0]], dtype=int64)"
      ]
     },
     "execution_count": 144,
     "metadata": {},
     "output_type": "execute_result"
    }
   ],
   "source": [
    "K = 2\n",
    "nearest_partition =  np.argpartition(dist_sq, 4, axis=1)\n",
    "nearest_partition"
   ]
  },
  {
   "cell_type": "code",
   "execution_count": 145,
   "id": "855205d0",
   "metadata": {},
   "outputs": [
    {
     "data": {
      "image/png": "[encoded data removed]",
      "text/plain": [
       "<Figure size 640x480 with 1 Axes>"
      ]
     },
     "metadata": {},
     "output_type": "display_data"
    }
   ],
   "source": [
    "plt.scatter(X[:, 0], X[:, 1], s = 100, facecolor='green')\n",
    "\n",
    "for i in range(X.shape[0]):\n",
    "    for j in nearest[i, :K+1]:\n",
    "        plt.plot(*zip(X[j], X[i]), color='black')"
   ]
  },
  {
   "cell_type": "code",
   "execution_count": null,
   "id": "eed92d2d",
   "metadata": {},
   "outputs": [],
   "source": []
  }
 ],
 "metadata": {
  "kernelspec": {
   "display_name": "Python 3 (ipykernel)",
   "language": "python",
   "name": "python3"
  },
  "language_info": {
   "codemirror_mode": {
    "name": "ipython",
    "version": 3
   },
   "file_extension": ".py",
   "mimetype": "text/x-python",
   "name": "python",
   "nbconvert_exporter": "python",
   "pygments_lexer": "ipython3",
   "version": "3.11.3"
  }
 },
 "nbformat": 4,
 "nbformat_minor": 5
}
