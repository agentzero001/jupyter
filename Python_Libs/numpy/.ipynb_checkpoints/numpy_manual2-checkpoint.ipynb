{
 "cells": [
  {
   "cell_type": "code",
   "execution_count": 1,
   "id": "11394e53",
   "metadata": {},
   "outputs": [
    {
     "data": {
      "text/plain": [
       "'3.11.3 (tags/v3.11.3:f3909b8, Apr  4 2023, 23:49:59) [MSC v.1934 64 bit (AMD64)]'"
      ]
     },
     "execution_count": 1,
     "metadata": {},
     "output_type": "execute_result"
    }
   ],
   "source": [
    "import sys\n",
    "sys.version"
   ]
  },
  {
   "cell_type": "code",
   "execution_count": 2,
   "id": "74537ebc",
   "metadata": {},
   "outputs": [
    {
     "data": {
      "text/plain": [
       "'1.24.3'"
      ]
     },
     "execution_count": 2,
     "metadata": {},
     "output_type": "execute_result"
    }
   ],
   "source": [
    "import numpy as np\n",
    "np.__version__"
   ]
  },
  {
   "cell_type": "code",
   "execution_count": 3,
   "id": "eab2e138",
   "metadata": {},
   "outputs": [],
   "source": [
    "np.random.seed(42)\n",
    "X = np.random.randn(100)\n",
    "\n",
    "bins = np.linspace(-5, 5, 20)\n",
    "counts = np.zeros_like(bins)\n",
    "\n",
    "j = np.searchsorted(bins, X)\n",
    "\n",
    "np.add.at(counts, j, 1)"
   ]
  },
  {
   "cell_type": "code",
   "execution_count": 4,
   "id": "e71c2708",
   "metadata": {},
   "outputs": [
    {
     "data": {
      "text/plain": [
       "array([11, 10, 11, 13, 10, 10, 13, 11,  9, 11,  9,  9, 10,  6,  7,  9,  8,\n",
       "       11,  8,  7, 13, 10, 10,  7,  9, 10,  8, 11,  9,  9,  9, 14, 10,  8,\n",
       "       12,  8, 10,  6,  7, 10, 11, 10, 10,  9,  7,  9,  9, 12, 11,  7, 11,\n",
       "        9,  9, 11, 12, 12,  8,  9, 11, 12,  9, 10,  8,  8, 12, 13, 10, 12,\n",
       "       11,  9, 11, 13, 10, 13,  5, 12, 10,  9, 10,  6, 10, 11, 13,  9,  8,\n",
       "        9, 12, 11,  9, 11, 10, 12,  9,  9,  9,  7, 11, 10, 10, 10],\n",
       "      dtype=int64)"
      ]
     },
     "execution_count": 4,
     "metadata": {},
     "output_type": "execute_result"
    }
   ],
   "source": [
    "j"
   ]
  },
  {
   "cell_type": "code",
   "execution_count": 5,
   "id": "d5e2b710",
   "metadata": {},
   "outputs": [],
   "source": [
    "indices, bins2 = np.histogram(X,bins)"
   ]
  },
  {
   "cell_type": "code",
   "execution_count": 6,
   "id": "7346380a",
   "metadata": {},
   "outputs": [
    {
     "data": {
      "text/plain": [
       "True"
      ]
     },
     "execution_count": 6,
     "metadata": {},
     "output_type": "execute_result"
    }
   ],
   "source": [
    "np.all(bins == bins2)"
   ]
  },
  {
   "cell_type": "code",
   "execution_count": 7,
   "id": "75e9a136",
   "metadata": {},
   "outputs": [
    {
     "data": {
      "text/plain": [
       "(array([ 1,  4,  6,  8, 19, 17, 21, 11,  6,  7], dtype=int64),\n",
       " array([-2.6197451 , -2.17254278, -1.72534045, -1.27813812, -0.83093579,\n",
       "        -0.38373346,  0.06346887,  0.5106712 ,  0.95787353,  1.40507586,\n",
       "         1.85227818]))"
      ]
     },
     "execution_count": 7,
     "metadata": {},
     "output_type": "execute_result"
    }
   ],
   "source": [
    "np.histogram(X)"
   ]
  },
  {
   "cell_type": "code",
   "execution_count": 8,
   "id": "ad09f421",
   "metadata": {},
   "outputs": [
    {
     "data": {
      "text/plain": [
       "'2.0.1'"
      ]
     },
     "execution_count": 8,
     "metadata": {},
     "output_type": "execute_result"
    }
   ],
   "source": [
    "import pandas as pd\n",
    "pd.__version__"
   ]
  },
  {
   "cell_type": "code",
   "execution_count": 9,
   "id": "b5720c00",
   "metadata": {},
   "outputs": [],
   "source": [
    "def selection_sort(x):\n",
    "    for i in range(len(x)):\n",
    "        swap = i + np.argmin(x[i:])\n",
    "        (x[i], x[swap]) = (x[swap], x[i])\n",
    "    return x"
   ]
  },
  {
   "cell_type": "code",
   "execution_count": 10,
   "id": "4cdf7507",
   "metadata": {},
   "outputs": [
    {
     "data": {
      "text/plain": [
       "[2, 5, 5, 6, 7, 8, 9]"
      ]
     },
     "execution_count": 10,
     "metadata": {},
     "output_type": "execute_result"
    }
   ],
   "source": [
    "selection_sort([2,5,6,7,8,5,9])"
   ]
  },
  {
   "cell_type": "code",
   "execution_count": 11,
   "id": "e5929e06",
   "metadata": {},
   "outputs": [],
   "source": [
    "def bogosort(x):\n",
    "    while np.any(x[:-1] > x[1:]):\n",
    "        np.random.shuffle(x)\n",
    "    return x"
   ]
  },
  {
   "cell_type": "code",
   "execution_count": 12,
   "id": "9ee81556",
   "metadata": {},
   "outputs": [
    {
     "data": {
      "text/plain": [
       "array([3, 2, 4, 1, 0])"
      ]
     },
     "execution_count": 12,
     "metadata": {},
     "output_type": "execute_result"
    }
   ],
   "source": [
    "x = np.arange(5)\n",
    "np.random.shuffle(x)\n",
    "x"
   ]
  },
  {
   "cell_type": "code",
   "execution_count": 13,
   "id": "4a8c938a",
   "metadata": {},
   "outputs": [
    {
     "data": {
      "text/plain": [
       "True"
      ]
     },
     "execution_count": 13,
     "metadata": {},
     "output_type": "execute_result"
    }
   ],
   "source": [
    "np.any(x[:-1] > x[1:])"
   ]
  },
  {
   "cell_type": "code",
   "execution_count": 14,
   "id": "c8dcba09",
   "metadata": {},
   "outputs": [
    {
     "data": {
      "text/plain": [
       "array([0, 1, 2, 3, 4])"
      ]
     },
     "execution_count": 14,
     "metadata": {},
     "output_type": "execute_result"
    }
   ],
   "source": [
    "bogosort(x)"
   ]
  },
  {
   "cell_type": "code",
   "execution_count": 15,
   "id": "36386d70",
   "metadata": {},
   "outputs": [
    {
     "data": {
      "text/plain": [
       "array([0, 1, 2, 3])"
      ]
     },
     "execution_count": 15,
     "metadata": {},
     "output_type": "execute_result"
    }
   ],
   "source": [
    "x[:-1]"
   ]
  },
  {
   "cell_type": "code",
   "execution_count": 16,
   "id": "17cbc2d3",
   "metadata": {},
   "outputs": [
    {
     "data": {
      "text/plain": [
       "array([1, 2, 3, 4])"
      ]
     },
     "execution_count": 16,
     "metadata": {},
     "output_type": "execute_result"
    }
   ],
   "source": [
    "x[1:]"
   ]
  },
  {
   "cell_type": "code",
   "execution_count": 17,
   "id": "d8f356fd",
   "metadata": {},
   "outputs": [
    {
     "data": {
      "text/plain": [
       "array([4, 0, 1, 2, 3])"
      ]
     },
     "execution_count": 17,
     "metadata": {},
     "output_type": "execute_result"
    }
   ],
   "source": [
    "np.random.shuffle(x)\n",
    "x"
   ]
  },
  {
   "cell_type": "code",
   "execution_count": 18,
   "id": "ba2bbe64",
   "metadata": {},
   "outputs": [
    {
     "data": {
      "text/plain": [
       "array([1, 2, 3, 4, 0], dtype=int64)"
      ]
     },
     "execution_count": 18,
     "metadata": {},
     "output_type": "execute_result"
    }
   ],
   "source": [
    "np.argsort(x)"
   ]
  },
  {
   "cell_type": "code",
   "execution_count": 19,
   "id": "8c7286a2",
   "metadata": {},
   "outputs": [
    {
     "data": {
      "text/plain": [
       "array([0, 1, 2, 3, 4])"
      ]
     },
     "execution_count": 19,
     "metadata": {},
     "output_type": "execute_result"
    }
   ],
   "source": [
    "x[np.argsort(x)]"
   ]
  },
  {
   "cell_type": "code",
   "execution_count": 20,
   "id": "2651347e",
   "metadata": {},
   "outputs": [
    {
     "data": {
      "text/plain": [
       "array([6, 5, 2, 0, 4, 7, 9, 8, 1, 3])"
      ]
     },
     "execution_count": 20,
     "metadata": {},
     "output_type": "execute_result"
    }
   ],
   "source": [
    "x = np.arange(10)\n",
    "np.random.shuffle(x)\n",
    "x"
   ]
  },
  {
   "cell_type": "code",
   "execution_count": 21,
   "id": "1d38ac29",
   "metadata": {},
   "outputs": [
    {
     "data": {
      "text/plain": [
       "array([1, 3, 2, 0, 4, 7, 9, 8, 5, 6])"
      ]
     },
     "execution_count": 21,
     "metadata": {},
     "output_type": "execute_result"
    }
   ],
   "source": [
    "np.partition(x,4)"
   ]
  },
  {
   "cell_type": "code",
   "execution_count": 22,
   "id": "139d8bfc",
   "metadata": {},
   "outputs": [
    {
     "data": {
      "text/plain": [
       "array([[5, 4, 5, 1, 0, 6, 6, 9, 9, 1],\n",
       "       [1, 0, 9, 7, 7, 0, 7, 8, 3, 0],\n",
       "       [0, 2, 4, 4, 8, 9, 1, 1, 5, 8],\n",
       "       [0, 8, 8, 8, 4, 8, 3, 1, 5, 3],\n",
       "       [5, 2, 5, 1, 1, 8, 6, 2, 0, 7],\n",
       "       [5, 6, 8, 4, 0, 9, 6, 4, 2, 8]])"
      ]
     },
     "execution_count": 22,
     "metadata": {},
     "output_type": "execute_result"
    }
   ],
   "source": [
    "X = np.random.randint(10, size=(6,10))\n",
    "X"
   ]
  },
  {
   "cell_type": "code",
   "execution_count": 23,
   "id": "fbf48e1a",
   "metadata": {},
   "outputs": [
    {
     "data": {
      "text/plain": [
       "array([[0, 2, 5, 1, 0, 0, 3, 1, 0, 0],\n",
       "       [0, 2, 4, 1, 0, 6, 1, 1, 2, 1],\n",
       "       [1, 0, 5, 4, 1, 8, 6, 2, 3, 3],\n",
       "       [5, 4, 8, 4, 4, 8, 6, 4, 5, 7],\n",
       "       [5, 8, 8, 7, 7, 9, 7, 8, 5, 8],\n",
       "       [5, 6, 9, 8, 8, 9, 6, 9, 9, 8]])"
      ]
     },
     "execution_count": 23,
     "metadata": {},
     "output_type": "execute_result"
    }
   ],
   "source": [
    "np.partition(X, 3, axis=0)"
   ]
  },
  {
   "cell_type": "code",
   "execution_count": 24,
   "id": "ef277a3e",
   "metadata": {},
   "outputs": [
    {
     "data": {
      "text/plain": [
       "True"
      ]
     },
     "execution_count": 24,
     "metadata": {},
     "output_type": "execute_result"
    }
   ],
   "source": [
    "np.all(np.partition(X, 3, axis=-1) == np.partition(X, 3, axis=1))"
   ]
  },
  {
   "cell_type": "code",
   "execution_count": 25,
   "id": "b72cb08f",
   "metadata": {},
   "outputs": [
    {
     "data": {
      "text/plain": [
       "array([[5, 4, 5, 1, 0, 6, 6, 9, 9, 1],\n",
       "       [1, 0, 9, 7, 7, 0, 7, 8, 3, 0],\n",
       "       [0, 2, 4, 4, 8, 9, 1, 1, 5, 8],\n",
       "       [0, 8, 8, 8, 4, 8, 3, 1, 5, 3],\n",
       "       [5, 2, 5, 1, 1, 8, 6, 2, 0, 7],\n",
       "       [5, 6, 8, 4, 0, 9, 6, 4, 2, 8]])"
      ]
     },
     "execution_count": 25,
     "metadata": {},
     "output_type": "execute_result"
    }
   ],
   "source": [
    "X"
   ]
  },
  {
   "cell_type": "code",
   "execution_count": 26,
   "id": "079cf150",
   "metadata": {},
   "outputs": [
    {
     "data": {
      "text/plain": [
       "array([[4, 3, 2, 1, 0, 5, 6, 7, 8, 9],\n",
       "       [1, 5, 2, 3, 4, 0, 6, 7, 8, 9],\n",
       "       [0, 6, 2, 3, 4, 5, 1, 7, 8, 9],\n",
       "       [0, 7, 2, 3, 4, 5, 6, 1, 8, 9],\n",
       "       [8, 3, 2, 1, 4, 5, 6, 7, 0, 9],\n",
       "       [4, 8, 2, 3, 0, 5, 6, 7, 1, 9]], dtype=int64)"
      ]
     },
     "execution_count": 26,
     "metadata": {},
     "output_type": "execute_result"
    }
   ],
   "source": [
    "np.argpartition(X, 1, axis=-1)"
   ]
  },
  {
   "cell_type": "code",
   "execution_count": 45,
   "id": "dee0a5e7",
   "metadata": {},
   "outputs": [
    {
     "data": {
      "text/plain": [
       "array([6, 5, 2, 0, 4, 7, 9, 8, 1, 3])"
      ]
     },
     "execution_count": 45,
     "metadata": {},
     "output_type": "execute_result"
    }
   ],
   "source": [
    "x"
   ]
  },
  {
   "cell_type": "code",
   "execution_count": 51,
   "id": "854770db",
   "metadata": {},
   "outputs": [
    {
     "data": {
      "text/plain": [
       "array([0, 5, 2, 6, 4, 7, 9, 8, 1, 3])"
      ]
     },
     "execution_count": 51,
     "metadata": {},
     "output_type": "execute_result"
    }
   ],
   "source": [
    "indices = np.argpartition(x,0)\n",
    "x[indices]"
   ]
  },
  {
   "cell_type": "code",
   "execution_count": 52,
   "id": "35b3718a",
   "metadata": {},
   "outputs": [
    {
     "data": {
      "text/plain": [
       "array([3, 1, 2, 0, 4, 5, 6, 7, 8, 9], dtype=int64)"
      ]
     },
     "execution_count": 52,
     "metadata": {},
     "output_type": "execute_result"
    }
   ],
   "source": [
    "indices"
   ]
  },
  {
   "cell_type": "code",
   "execution_count": 28,
   "id": "aee3e45c",
   "metadata": {},
   "outputs": [],
   "source": [
    "indices = np.argpartition(X, 2, axis=-1)"
   ]
  },
  {
   "cell_type": "code",
   "execution_count": 29,
   "id": "b6c09d49",
   "metadata": {},
   "outputs": [
    {
     "data": {
      "text/plain": [
       "array([[0, 1, 1, 4, 5, 6, 6, 9, 9, 5],\n",
       "       [0, 0, 0, 7, 7, 1, 7, 8, 3, 9],\n",
       "       [0, 1, 1, 4, 8, 9, 2, 4, 5, 8],\n",
       "       [0, 1, 3, 8, 4, 8, 8, 8, 5, 3],\n",
       "       [0, 1, 1, 2, 5, 8, 6, 2, 5, 7],\n",
       "       [0, 2, 4, 8, 5, 9, 6, 4, 6, 8]])"
      ]
     },
     "execution_count": 29,
     "metadata": {},
     "output_type": "execute_result"
    }
   ],
   "source": [
    "X[np.arange(X.shape[0])[:, np.newaxis], indices]"
   ]
  },
  {
   "cell_type": "code",
   "execution_count": 30,
   "id": "4bc7a1eb",
   "metadata": {},
   "outputs": [
    {
     "data": {
      "text/plain": [
       "array([[0, 1, 1, 4, 5, 6, 6, 9, 9, 5],\n",
       "       [0, 0, 0, 7, 7, 1, 7, 8, 3, 9],\n",
       "       [0, 1, 1, 4, 8, 9, 2, 4, 5, 8],\n",
       "       [0, 1, 3, 8, 4, 8, 8, 8, 5, 3],\n",
       "       [0, 1, 1, 2, 5, 8, 6, 2, 5, 7],\n",
       "       [0, 2, 4, 8, 5, 9, 6, 4, 6, 8]])"
      ]
     },
     "execution_count": 30,
     "metadata": {},
     "output_type": "execute_result"
    }
   ],
   "source": [
    "X[np.arange(X.shape[0]).reshape(X.shape[0], 1), indices]"
   ]
  },
  {
   "cell_type": "code",
   "execution_count": 31,
   "id": "26efa352",
   "metadata": {},
   "outputs": [
    {
     "data": {
      "text/plain": [
       "True"
      ]
     },
     "execution_count": 31,
     "metadata": {},
     "output_type": "execute_result"
    }
   ],
   "source": [
    "np.all(X[np.arange(X.shape[0])[:, np.newaxis], indices] == X[np.arange(X.shape[0]).reshape(X.shape[0], 1), indices])"
   ]
  },
  {
   "cell_type": "code",
   "execution_count": 32,
   "id": "54ce81ae",
   "metadata": {},
   "outputs": [
    {
     "data": {
      "text/plain": [
       "(array([0, 1, 1, 4, 5, 6, 6, 9, 9, 5]), array([0, 0, 0, 7, 7, 1, 7, 8, 3, 9]))"
      ]
     },
     "execution_count": 32,
     "metadata": {},
     "output_type": "execute_result"
    }
   ],
   "source": [
    "#accessing a 2d array with indexing using a 2d array. Right?\n",
    "X[0,indices[0]], X[1, indices[1]]"
   ]
  },
  {
   "cell_type": "markdown",
   "id": "224b1c1f",
   "metadata": {},
   "source": [
    "-----------------"
   ]
  },
  {
   "cell_type": "markdown",
   "id": "64d444a5",
   "metadata": {},
   "source": [
    "## What follows is some knn implementation in numpy"
   ]
  },
  {
   "cell_type": "code",
   "execution_count": 94,
   "id": "e52af43a",
   "metadata": {},
   "outputs": [],
   "source": [
    "np.set_printoptions(precision=2)"
   ]
  },
  {
   "cell_type": "code",
   "execution_count": 96,
   "id": "299b5654",
   "metadata": {},
   "outputs": [
    {
     "data": {
      "text/plain": [
       "array([[0.37, 0.95, 0.73, 0.6 ],\n",
       "       [0.16, 0.16, 0.06, 0.87],\n",
       "       [0.6 , 0.71, 0.02, 0.97],\n",
       "       [0.83, 0.21, 0.18, 0.18],\n",
       "       [0.3 , 0.52, 0.43, 0.29],\n",
       "       [0.61, 0.14, 0.29, 0.37],\n",
       "       [0.46, 0.79, 0.2 , 0.51],\n",
       "       [0.59, 0.05, 0.61, 0.17],\n",
       "       [0.07, 0.95, 0.97, 0.81],\n",
       "       [0.3 , 0.1 , 0.68, 0.44]])"
      ]
     },
     "execution_count": 96,
     "metadata": {},
     "output_type": "execute_result"
    }
   ],
   "source": [
    "np.random.seed(42)\n",
    "X = np.random.rand(10,4)\n",
    "X"
   ]
  },
  {
   "cell_type": "code",
   "execution_count": 97,
   "id": "4d5ae140",
   "metadata": {},
   "outputs": [],
   "source": [
    "import matplotlib.pyplot as plt\n",
    "plt.rcParams['figure.facecolor'] = '.1'\n",
    "plt.rcParams['axes.facecolor'] = 'black'"
   ]
  },
  {
   "cell_type": "code",
   "execution_count": 98,
   "id": "d65d9db6",
   "metadata": {},
   "outputs": [
    {
     "data": {
      "image/png": "[encoded data removed]",
      "text/plain": [
       "<Figure size 640x480 with 1 Axes>"
      ]
     },
     "metadata": {},
     "output_type": "display_data"
    }
   ],
   "source": [
    "plt.scatter(X[:,0], X[:,1], facecolor='green', s=80)\n",
    "plt.grid(alpha=.1)"
   ]
  },
  {
   "cell_type": "code",
   "execution_count": 99,
   "id": "3892a25e",
   "metadata": {},
   "outputs": [],
   "source": [
    "#broadcasting in action\n",
    "dist_sq = np.sum((X[:, np.newaxis, :] - X[np.newaxis, :, :]) ** 2, axis=-1)"
   ]
  },
  {
   "cell_type": "code",
   "execution_count": 100,
   "id": "c0853020",
   "metadata": {},
   "outputs": [
    {
     "data": {
      "text/plain": [
       "(array([[[0.37, 0.95, 0.73, 0.6 ]],\n",
       " \n",
       "        [[0.16, 0.16, 0.06, 0.87]],\n",
       " \n",
       "        [[0.6 , 0.71, 0.02, 0.97]],\n",
       " \n",
       "        [[0.83, 0.21, 0.18, 0.18]],\n",
       " \n",
       "        [[0.3 , 0.52, 0.43, 0.29]],\n",
       " \n",
       "        [[0.61, 0.14, 0.29, 0.37]],\n",
       " \n",
       "        [[0.46, 0.79, 0.2 , 0.51]],\n",
       " \n",
       "        [[0.59, 0.05, 0.61, 0.17]],\n",
       " \n",
       "        [[0.07, 0.95, 0.97, 0.81]],\n",
       " \n",
       "        [[0.3 , 0.1 , 0.68, 0.44]]]),\n",
       " array([[[0.37, 0.95, 0.73, 0.6 ],\n",
       "         [0.16, 0.16, 0.06, 0.87],\n",
       "         [0.6 , 0.71, 0.02, 0.97],\n",
       "         [0.83, 0.21, 0.18, 0.18],\n",
       "         [0.3 , 0.52, 0.43, 0.29],\n",
       "         [0.61, 0.14, 0.29, 0.37],\n",
       "         [0.46, 0.79, 0.2 , 0.51],\n",
       "         [0.59, 0.05, 0.61, 0.17],\n",
       "         [0.07, 0.95, 0.97, 0.81],\n",
       "         [0.3 , 0.1 , 0.68, 0.44]]]))"
      ]
     },
     "execution_count": 100,
     "metadata": {},
     "output_type": "execute_result"
    }
   ],
   "source": [
    "X[:, np.newaxis, :], X[np.newaxis, :, :] #this allows you to add any number of dimensions to X"
   ]
  },
  {
   "cell_type": "code",
   "execution_count": 101,
   "id": "2454beb8",
   "metadata": {},
   "outputs": [
    {
     "data": {
      "text/plain": [
       "array([[[ 0.00e+00,  0.00e+00,  0.00e+00,  0.00e+00],\n",
       "        [ 2.19e-01,  7.95e-01,  6.74e-01, -2.68e-01],\n",
       "        [-2.27e-01,  2.43e-01,  7.11e-01, -3.71e-01],\n",
       "        [-4.58e-01,  7.38e-01,  5.50e-01,  4.15e-01],\n",
       "        [ 7.03e-02,  4.26e-01,  3.00e-01,  3.07e-01],\n",
       "        [-2.37e-01,  8.11e-01,  4.40e-01,  2.32e-01],\n",
       "        [-8.15e-02,  1.66e-01,  5.32e-01,  8.44e-02],\n",
       "        [-2.18e-01,  9.04e-01,  1.24e-01,  4.28e-01],\n",
       "        [ 3.09e-01,  1.83e-03, -2.34e-01, -2.10e-01],\n",
       "        [ 6.99e-02,  8.53e-01,  4.78e-02,  1.59e-01]],\n",
       "\n",
       "       [[-2.19e-01, -7.95e-01, -6.74e-01,  2.68e-01],\n",
       "        [ 0.00e+00,  0.00e+00,  0.00e+00,  0.00e+00],\n",
       "        [-4.45e-01, -5.52e-01,  3.75e-02, -1.04e-01],\n",
       "        [-6.76e-01, -5.63e-02, -1.24e-01,  6.83e-01],\n",
       "        [-1.48e-01, -3.69e-01, -3.74e-01,  5.75e-01],\n",
       "        [-4.56e-01,  1.65e-02, -2.34e-01,  5.00e-01],\n",
       "        [-3.00e-01, -6.29e-01, -1.42e-01,  3.52e-01],\n",
       "        [-4.36e-01,  1.10e-01, -5.49e-01,  6.96e-01],\n",
       "        [ 9.10e-02, -7.93e-01, -9.08e-01,  5.78e-02],\n",
       "        [-1.49e-01,  5.83e-02, -6.26e-01,  4.26e-01]],\n",
       "\n",
       "       [[ 2.27e-01, -2.43e-01, -7.11e-01,  3.71e-01],\n",
       "        [ 4.45e-01,  5.52e-01, -3.75e-02,  1.04e-01],\n",
       "        [ 0.00e+00,  0.00e+00,  0.00e+00,  0.00e+00],\n",
       "        [-2.31e-01,  4.96e-01, -1.61e-01,  7.87e-01],\n",
       "        [ 2.97e-01,  1.83e-01, -4.11e-01,  6.79e-01],\n",
       "        [-1.07e-02,  5.69e-01, -2.72e-01,  6.04e-01],\n",
       "        [ 1.45e-01, -7.71e-02, -1.79e-01,  4.56e-01],\n",
       "        [ 8.70e-03,  6.62e-01, -5.87e-01,  7.99e-01],\n",
       "        [ 5.36e-01, -2.41e-01, -9.45e-01,  1.62e-01],\n",
       "        [ 2.97e-01,  6.10e-01, -6.64e-01,  5.30e-01]],\n",
       "\n",
       "       [[ 4.58e-01, -7.38e-01, -5.50e-01, -4.15e-01],\n",
       "        [ 6.76e-01,  5.63e-02,  1.24e-01, -6.83e-01],\n",
       "        [ 2.31e-01, -4.96e-01,  1.61e-01, -7.87e-01],\n",
       "        [ 0.00e+00,  0.00e+00,  0.00e+00,  0.00e+00],\n",
       "        [ 5.28e-01, -3.12e-01, -2.50e-01, -1.08e-01],\n",
       "        [ 2.21e-01,  7.28e-02, -1.10e-01, -1.83e-01],\n",
       "        [ 3.76e-01, -5.73e-01, -1.78e-02, -3.31e-01],\n",
       "        [ 2.40e-01,  1.66e-01, -4.26e-01,  1.29e-02],\n",
       "        [ 7.67e-01, -7.37e-01, -7.84e-01, -6.25e-01],\n",
       "        [ 5.28e-01,  1.15e-01, -5.02e-01, -2.57e-01]],\n",
       "\n",
       "       [[-7.03e-02, -4.26e-01, -3.00e-01, -3.07e-01],\n",
       "        [ 1.48e-01,  3.69e-01,  3.74e-01, -5.75e-01],\n",
       "        [-2.97e-01, -1.83e-01,  4.11e-01, -6.79e-01],\n",
       "        [-5.28e-01,  3.12e-01,  2.50e-01,  1.08e-01],\n",
       "        [ 0.00e+00,  0.00e+00,  0.00e+00,  0.00e+00],\n",
       "        [-3.08e-01,  3.85e-01,  1.40e-01, -7.51e-02],\n",
       "        [-1.52e-01, -2.60e-01,  2.32e-01, -2.23e-01],\n",
       "        [-2.88e-01,  4.78e-01, -1.76e-01,  1.21e-01],\n",
       "        [ 2.39e-01, -4.24e-01, -5.34e-01, -5.17e-01],\n",
       "        [-3.72e-04,  4.27e-01, -2.52e-01, -1.49e-01]],\n",
       "\n",
       "       [[ 2.37e-01, -8.11e-01, -4.40e-01, -2.32e-01],\n",
       "        [ 4.56e-01, -1.65e-02,  2.34e-01, -5.00e-01],\n",
       "        [ 1.07e-02, -5.69e-01,  2.72e-01, -6.04e-01],\n",
       "        [-2.21e-01, -7.28e-02,  1.10e-01,  1.83e-01],\n",
       "        [ 3.08e-01, -3.85e-01, -1.40e-01,  7.51e-02],\n",
       "        [ 0.00e+00,  0.00e+00,  0.00e+00,  0.00e+00],\n",
       "        [ 1.56e-01, -6.46e-01,  9.25e-02, -1.48e-01],\n",
       "        [ 1.94e-02,  9.30e-02, -3.15e-01,  1.96e-01],\n",
       "        [ 5.47e-01, -8.09e-01, -6.73e-01, -4.42e-01],\n",
       "        [ 3.07e-01,  4.18e-02, -3.92e-01, -7.38e-02]],\n",
       "\n",
       "       [[ 8.15e-02, -1.66e-01, -5.32e-01, -8.44e-02],\n",
       "        [ 3.00e-01,  6.29e-01,  1.42e-01, -3.52e-01],\n",
       "        [-1.45e-01,  7.71e-02,  1.79e-01, -4.56e-01],\n",
       "        [-3.76e-01,  5.73e-01,  1.78e-02,  3.31e-01],\n",
       "        [ 1.52e-01,  2.60e-01, -2.32e-01,  2.23e-01],\n",
       "        [-1.56e-01,  6.46e-01, -9.25e-02,  1.48e-01],\n",
       "        [ 0.00e+00,  0.00e+00,  0.00e+00,  0.00e+00],\n",
       "        [-1.36e-01,  7.39e-01, -4.08e-01,  3.44e-01],\n",
       "        [ 3.91e-01, -1.64e-01, -7.66e-01, -2.94e-01],\n",
       "        [ 1.51e-01,  6.88e-01, -4.85e-01,  7.41e-02]],\n",
       "\n",
       "       [[ 2.18e-01, -9.04e-01, -1.24e-01, -4.28e-01],\n",
       "        [ 4.36e-01, -1.10e-01,  5.49e-01, -6.96e-01],\n",
       "        [-8.70e-03, -6.62e-01,  5.87e-01, -7.99e-01],\n",
       "        [-2.40e-01, -1.66e-01,  4.26e-01, -1.29e-02],\n",
       "        [ 2.88e-01, -4.78e-01,  1.76e-01, -1.21e-01],\n",
       "        [-1.94e-02, -9.30e-02,  3.15e-01, -1.96e-01],\n",
       "        [ 1.36e-01, -7.39e-01,  4.08e-01, -3.44e-01],\n",
       "        [ 0.00e+00,  0.00e+00,  0.00e+00,  0.00e+00],\n",
       "        [ 5.27e-01, -9.02e-01, -3.58e-01, -6.38e-01],\n",
       "        [ 2.88e-01, -5.12e-02, -7.67e-02, -2.70e-01]],\n",
       "\n",
       "       [[-3.09e-01, -1.83e-03,  2.34e-01,  2.10e-01],\n",
       "        [-9.10e-02,  7.93e-01,  9.08e-01, -5.78e-02],\n",
       "        [-5.36e-01,  2.41e-01,  9.45e-01, -1.62e-01],\n",
       "        [-7.67e-01,  7.37e-01,  7.84e-01,  6.25e-01],\n",
       "        [-2.39e-01,  4.24e-01,  5.34e-01,  5.17e-01],\n",
       "        [-5.47e-01,  8.09e-01,  6.73e-01,  4.42e-01],\n",
       "        [-3.91e-01,  1.64e-01,  7.66e-01,  2.94e-01],\n",
       "        [-5.27e-01,  9.02e-01,  3.58e-01,  6.38e-01],\n",
       "        [ 0.00e+00,  0.00e+00,  0.00e+00,  0.00e+00],\n",
       "        [-2.40e-01,  8.51e-01,  2.81e-01,  3.68e-01]],\n",
       "\n",
       "       [[-6.99e-02, -8.53e-01, -4.78e-02, -1.59e-01],\n",
       "        [ 1.49e-01, -5.83e-02,  6.26e-01, -4.26e-01],\n",
       "        [-2.97e-01, -6.10e-01,  6.64e-01, -5.30e-01],\n",
       "        [-5.28e-01, -1.15e-01,  5.02e-01,  2.57e-01],\n",
       "        [ 3.72e-04, -4.27e-01,  2.52e-01,  1.49e-01],\n",
       "        [-3.07e-01, -4.18e-02,  3.92e-01,  7.38e-02],\n",
       "        [-1.51e-01, -6.88e-01,  4.85e-01, -7.41e-02],\n",
       "        [-2.88e-01,  5.12e-02,  7.67e-02,  2.70e-01],\n",
       "        [ 2.40e-01, -8.51e-01, -2.81e-01, -3.68e-01],\n",
       "        [ 0.00e+00,  0.00e+00,  0.00e+00,  0.00e+00]]])"
      ]
     },
     "execution_count": 101,
     "metadata": {},
     "output_type": "execute_result"
    }
   ],
   "source": [
    "#let's go step by step\n",
    "differences = X[:, np.newaxis, :] - X[np.newaxis, :, :]\n",
    "differences"
   ]
  },
  {
   "cell_type": "code",
   "execution_count": 102,
   "id": "7ea21934",
   "metadata": {},
   "outputs": [
    {
     "data": {
      "text/plain": [
       "array([[0.  , 1.21, 0.75, 1.23, 0.37, 0.96, 0.32, 1.06, 0.19, 0.76],\n",
       "       [1.21, 0.  , 0.52, 0.94, 0.63, 0.51, 0.63, 0.99, 1.46, 0.6 ],\n",
       "       [0.75, 0.52, 0.  , 0.94, 0.75, 0.76, 0.27, 1.42, 1.26, 1.18],\n",
       "       [1.23, 0.94, 0.94, 0.  , 0.45, 0.1 , 0.58, 0.27, 2.14, 0.61],\n",
       "       [0.37, 0.63, 0.75, 0.45, 0.  , 0.27, 0.19, 0.36, 0.79, 0.27],\n",
       "       [0.96, 0.51, 0.76, 0.1 , 0.27, 0.  , 0.47, 0.15, 1.6 , 0.26],\n",
       "       [0.32, 0.63, 0.27, 0.58, 0.19, 0.47, 0.  , 0.85, 0.85, 0.74],\n",
       "       [1.06, 0.99, 1.42, 0.27, 0.36, 0.15, 0.85, 0.  , 1.63, 0.16],\n",
       "       [0.19, 1.46, 1.26, 2.14, 0.79, 1.6 , 0.85, 1.63, 0.  , 1.  ],\n",
       "       [0.76, 0.6 , 1.18, 0.61, 0.27, 0.26, 0.74, 0.16, 1.  , 0.  ]])"
      ]
     },
     "execution_count": 102,
     "metadata": {},
     "output_type": "execute_result"
    }
   ],
   "source": [
    "(differences ** 2).sum(-1)"
   ]
  },
  {
   "cell_type": "code",
   "execution_count": 103,
   "id": "ce4dda5b",
   "metadata": {},
   "outputs": [
    {
     "data": {
      "text/plain": [
       "True"
      ]
     },
     "execution_count": 103,
     "metadata": {},
     "output_type": "execute_result"
    }
   ],
   "source": [
    "np.all(dist_sq == (differences ** 2).sum(-1))"
   ]
  },
  {
   "cell_type": "code",
   "execution_count": 104,
   "id": "269aae7f",
   "metadata": {},
   "outputs": [
    {
     "data": {
      "text/plain": [
       "array([[0.  , 1.21, 0.75, 1.23, 0.37, 0.96, 0.32, 1.06, 0.19, 0.76],\n",
       "       [1.21, 0.  , 0.52, 0.94, 0.63, 0.51, 0.63, 0.99, 1.46, 0.6 ],\n",
       "       [0.75, 0.52, 0.  , 0.94, 0.75, 0.76, 0.27, 1.42, 1.26, 1.18],\n",
       "       [1.23, 0.94, 0.94, 0.  , 0.45, 0.1 , 0.58, 0.27, 2.14, 0.61],\n",
       "       [0.37, 0.63, 0.75, 0.45, 0.  , 0.27, 0.19, 0.36, 0.79, 0.27],\n",
       "       [0.96, 0.51, 0.76, 0.1 , 0.27, 0.  , 0.47, 0.15, 1.6 , 0.26],\n",
       "       [0.32, 0.63, 0.27, 0.58, 0.19, 0.47, 0.  , 0.85, 0.85, 0.74],\n",
       "       [1.06, 0.99, 1.42, 0.27, 0.36, 0.15, 0.85, 0.  , 1.63, 0.16],\n",
       "       [0.19, 1.46, 1.26, 2.14, 0.79, 1.6 , 0.85, 1.63, 0.  , 1.  ],\n",
       "       [0.76, 0.6 , 1.18, 0.61, 0.27, 0.26, 0.74, 0.16, 1.  , 0.  ]])"
      ]
     },
     "execution_count": 104,
     "metadata": {},
     "output_type": "execute_result"
    }
   ],
   "source": [
    "np.set_printoptions(precision=2)\n",
    "dist_sq"
   ]
  },
  {
   "cell_type": "code",
   "execution_count": 105,
   "id": "3c1b9147",
   "metadata": {},
   "outputs": [
    {
     "data": {
      "text/plain": [
       "['x_0', 'x_1', 'x_2', 'x_3', 'x_4', 'x_5', 'x_6', 'x_7', 'x_8', 'x_9']"
      ]
     },
     "execution_count": 105,
     "metadata": {},
     "output_type": "execute_result"
    }
   ],
   "source": [
    "ind_col = ['x_'+ str(i) for i in range(dist_sq.shape[0])]\n",
    "ind_col"
   ]
  },
  {
   "cell_type": "code",
   "execution_count": 106,
   "id": "50f3a028",
   "metadata": {},
   "outputs": [
    {
     "data": {
      "text/html": [
       "<div>\n",
       "<style scoped>\n",
       "    .dataframe tbody tr th:only-of-type {\n",
       "        vertical-align: middle;\n",
       "    }\n",
       "\n",
       "    .dataframe tbody tr th {\n",
       "        vertical-align: top;\n",
       "    }\n",
       "\n",
       "    .dataframe thead th {\n",
       "        text-align: right;\n",
       "    }\n",
       "</style>\n",
       "<table border=\"1\" class=\"dataframe\">\n",
       "  <thead>\n",
       "    <tr style=\"text-align: right;\">\n",
       "      <th></th>\n",
       "      <th>x_0</th>\n",
       "      <th>x_1</th>\n",
       "      <th>x_2</th>\n",
       "      <th>x_3</th>\n",
       "      <th>x_4</th>\n",
       "      <th>x_5</th>\n",
       "      <th>x_6</th>\n",
       "      <th>x_7</th>\n",
       "      <th>x_8</th>\n",
       "      <th>x_9</th>\n",
       "    </tr>\n",
       "  </thead>\n",
       "  <tbody>\n",
       "    <tr>\n",
       "      <th>x_0</th>\n",
       "      <td>0.00</td>\n",
       "      <td>1.21</td>\n",
       "      <td>0.75</td>\n",
       "      <td>1.23</td>\n",
       "      <td>0.37</td>\n",
       "      <td>0.96</td>\n",
       "      <td>0.32</td>\n",
       "      <td>1.06</td>\n",
       "      <td>0.19</td>\n",
       "      <td>0.76</td>\n",
       "    </tr>\n",
       "    <tr>\n",
       "      <th>x_1</th>\n",
       "      <td>1.21</td>\n",
       "      <td>0.00</td>\n",
       "      <td>0.52</td>\n",
       "      <td>0.94</td>\n",
       "      <td>0.63</td>\n",
       "      <td>0.51</td>\n",
       "      <td>0.63</td>\n",
       "      <td>0.99</td>\n",
       "      <td>1.46</td>\n",
       "      <td>0.60</td>\n",
       "    </tr>\n",
       "    <tr>\n",
       "      <th>x_2</th>\n",
       "      <td>0.75</td>\n",
       "      <td>0.52</td>\n",
       "      <td>0.00</td>\n",
       "      <td>0.94</td>\n",
       "      <td>0.75</td>\n",
       "      <td>0.76</td>\n",
       "      <td>0.27</td>\n",
       "      <td>1.42</td>\n",
       "      <td>1.26</td>\n",
       "      <td>1.18</td>\n",
       "    </tr>\n",
       "    <tr>\n",
       "      <th>x_3</th>\n",
       "      <td>1.23</td>\n",
       "      <td>0.94</td>\n",
       "      <td>0.94</td>\n",
       "      <td>0.00</td>\n",
       "      <td>0.45</td>\n",
       "      <td>0.10</td>\n",
       "      <td>0.58</td>\n",
       "      <td>0.27</td>\n",
       "      <td>2.14</td>\n",
       "      <td>0.61</td>\n",
       "    </tr>\n",
       "    <tr>\n",
       "      <th>x_4</th>\n",
       "      <td>0.37</td>\n",
       "      <td>0.63</td>\n",
       "      <td>0.75</td>\n",
       "      <td>0.45</td>\n",
       "      <td>0.00</td>\n",
       "      <td>0.27</td>\n",
       "      <td>0.19</td>\n",
       "      <td>0.36</td>\n",
       "      <td>0.79</td>\n",
       "      <td>0.27</td>\n",
       "    </tr>\n",
       "    <tr>\n",
       "      <th>x_5</th>\n",
       "      <td>0.96</td>\n",
       "      <td>0.51</td>\n",
       "      <td>0.76</td>\n",
       "      <td>0.10</td>\n",
       "      <td>0.27</td>\n",
       "      <td>0.00</td>\n",
       "      <td>0.47</td>\n",
       "      <td>0.15</td>\n",
       "      <td>1.60</td>\n",
       "      <td>0.26</td>\n",
       "    </tr>\n",
       "    <tr>\n",
       "      <th>x_6</th>\n",
       "      <td>0.32</td>\n",
       "      <td>0.63</td>\n",
       "      <td>0.27</td>\n",
       "      <td>0.58</td>\n",
       "      <td>0.19</td>\n",
       "      <td>0.47</td>\n",
       "      <td>0.00</td>\n",
       "      <td>0.85</td>\n",
       "      <td>0.85</td>\n",
       "      <td>0.74</td>\n",
       "    </tr>\n",
       "    <tr>\n",
       "      <th>x_7</th>\n",
       "      <td>1.06</td>\n",
       "      <td>0.99</td>\n",
       "      <td>1.42</td>\n",
       "      <td>0.27</td>\n",
       "      <td>0.36</td>\n",
       "      <td>0.15</td>\n",
       "      <td>0.85</td>\n",
       "      <td>0.00</td>\n",
       "      <td>1.63</td>\n",
       "      <td>0.16</td>\n",
       "    </tr>\n",
       "    <tr>\n",
       "      <th>x_8</th>\n",
       "      <td>0.19</td>\n",
       "      <td>1.46</td>\n",
       "      <td>1.26</td>\n",
       "      <td>2.14</td>\n",
       "      <td>0.79</td>\n",
       "      <td>1.60</td>\n",
       "      <td>0.85</td>\n",
       "      <td>1.63</td>\n",
       "      <td>0.00</td>\n",
       "      <td>1.00</td>\n",
       "    </tr>\n",
       "    <tr>\n",
       "      <th>x_9</th>\n",
       "      <td>0.76</td>\n",
       "      <td>0.60</td>\n",
       "      <td>1.18</td>\n",
       "      <td>0.61</td>\n",
       "      <td>0.27</td>\n",
       "      <td>0.26</td>\n",
       "      <td>0.74</td>\n",
       "      <td>0.16</td>\n",
       "      <td>1.00</td>\n",
       "      <td>0.00</td>\n",
       "    </tr>\n",
       "  </tbody>\n",
       "</table>\n",
       "</div>"
      ],
      "text/plain": [
       "     x_0  x_1  x_2  x_3  x_4  x_5  x_6  x_7  x_8  x_9\n",
       "x_0 0.00 1.21 0.75 1.23 0.37 0.96 0.32 1.06 0.19 0.76\n",
       "x_1 1.21 0.00 0.52 0.94 0.63 0.51 0.63 0.99 1.46 0.60\n",
       "x_2 0.75 0.52 0.00 0.94 0.75 0.76 0.27 1.42 1.26 1.18\n",
       "x_3 1.23 0.94 0.94 0.00 0.45 0.10 0.58 0.27 2.14 0.61\n",
       "x_4 0.37 0.63 0.75 0.45 0.00 0.27 0.19 0.36 0.79 0.27\n",
       "x_5 0.96 0.51 0.76 0.10 0.27 0.00 0.47 0.15 1.60 0.26\n",
       "x_6 0.32 0.63 0.27 0.58 0.19 0.47 0.00 0.85 0.85 0.74\n",
       "x_7 1.06 0.99 1.42 0.27 0.36 0.15 0.85 0.00 1.63 0.16\n",
       "x_8 0.19 1.46 1.26 2.14 0.79 1.60 0.85 1.63 0.00 1.00\n",
       "x_9 0.76 0.60 1.18 0.61 0.27 0.26 0.74 0.16 1.00 0.00"
      ]
     },
     "execution_count": 106,
     "metadata": {},
     "output_type": "execute_result"
    }
   ],
   "source": [
    "pd.set_option('display.float_format', '{:.2f}'.format)\n",
    "pd.DataFrame(dist_sq, index=ind_col,columns=ind_col)"
   ]
  },
  {
   "cell_type": "code",
   "execution_count": 107,
   "id": "04088f88",
   "metadata": {},
   "outputs": [
    {
     "data": {
      "text/plain": [
       "array([0., 0., 0., 0., 0., 0., 0., 0., 0., 0.])"
      ]
     },
     "execution_count": 107,
     "metadata": {},
     "output_type": "execute_result"
    }
   ],
   "source": [
    "dist_sq.diagonal()"
   ]
  },
  {
   "cell_type": "code",
   "execution_count": 108,
   "id": "5540925b",
   "metadata": {},
   "outputs": [
    {
     "data": {
      "text/plain": [
       "array([[0, 1, 2, 3, 4, 5, 6, 7, 8, 9],\n",
       "       [8, 5, 6, 5, 6, 3, 4, 5, 0, 7],\n",
       "       [6, 2, 1, 7, 9, 7, 2, 9, 4, 5],\n",
       "       [4, 9, 4, 4, 5, 9, 0, 3, 6, 4],\n",
       "       [2, 4, 0, 6, 7, 4, 5, 4, 9, 1],\n",
       "       [9, 6, 5, 9, 0, 6, 3, 6, 2, 3],\n",
       "       [5, 3, 3, 1, 3, 1, 1, 1, 1, 6],\n",
       "       [7, 7, 9, 2, 1, 2, 9, 0, 5, 0],\n",
       "       [1, 0, 8, 0, 2, 0, 7, 2, 7, 8],\n",
       "       [3, 8, 7, 8, 8, 8, 8, 8, 3, 2]], dtype=int64)"
      ]
     },
     "execution_count": 108,
     "metadata": {},
     "output_type": "execute_result"
    }
   ],
   "source": [
    "nearest = np.argsort(dist_sq, axis=0)\n",
    "nearest"
   ]
  },
  {
   "cell_type": "code",
   "execution_count": 109,
   "id": "847900cb",
   "metadata": {},
   "outputs": [
    {
     "data": {
      "text/plain": [
       "array([[6, 0, 8, 4, 1, 5, 3, 7, 2, 9],\n",
       "       [1, 5, 2, 9, 4, 3, 6, 7, 8, 0],\n",
       "       [2, 6, 1, 4, 0, 5, 3, 7, 8, 9],\n",
       "       [3, 5, 7, 4, 6, 9, 1, 2, 8, 0],\n",
       "       [6, 4, 9, 5, 7, 0, 3, 1, 8, 2],\n",
       "       [5, 3, 7, 9, 4, 1, 6, 2, 8, 0],\n",
       "       [6, 4, 2, 0, 1, 5, 3, 7, 8, 9],\n",
       "       [7, 5, 9, 3, 4, 1, 6, 2, 8, 0],\n",
       "       [8, 0, 4, 6, 9, 5, 1, 7, 2, 3],\n",
       "       [5, 9, 7, 4, 1, 3, 6, 2, 8, 0]], dtype=int64)"
      ]
     },
     "execution_count": 109,
     "metadata": {},
     "output_type": "execute_result"
    }
   ],
   "source": [
    "K = 2\n",
    "nearest_partition =  np.argpartition(dist_sq, K+1, axis=1)\n",
    "nearest_partition"
   ]
  },
  {
   "cell_type": "code",
   "execution_count": null,
   "id": "855205d0",
   "metadata": {},
   "outputs": [],
   "source": []
  },
  {
   "cell_type": "code",
   "execution_count": null,
   "id": "ee4d49df",
   "metadata": {},
   "outputs": [],
   "source": []
  }
 ],
 "metadata": {
  "kernelspec": {
   "display_name": "Python 3 (ipykernel)",
   "language": "python",
   "name": "python3"
  },
  "language_info": {
   "codemirror_mode": {
    "name": "ipython",
    "version": 3
   },
   "file_extension": ".py",
   "mimetype": "text/x-python",
   "name": "python",
   "nbconvert_exporter": "python",
   "pygments_lexer": "ipython3",
   "version": "3.11.3"
  }
 },
 "nbformat": 4,
 "nbformat_minor": 5
}
