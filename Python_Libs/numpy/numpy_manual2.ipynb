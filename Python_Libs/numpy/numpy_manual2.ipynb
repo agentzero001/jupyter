{
 "cells": [
  {
   "cell_type": "code",
   "execution_count": 12,
   "id": "11394e53",
   "metadata": {},
   "outputs": [
    {
     "data": {
      "text/plain": [
       "'3.11.3 (tags/v3.11.3:f3909b8, Apr  4 2023, 23:49:59) [MSC v.1934 64 bit (AMD64)]'"
      ]
     },
     "execution_count": 12,
     "metadata": {},
     "output_type": "execute_result"
    }
   ],
   "source": [
    "import sys\n",
    "sys.version"
   ]
  },
  {
   "cell_type": "code",
   "execution_count": 13,
   "id": "74537ebc",
   "metadata": {},
   "outputs": [
    {
     "data": {
      "text/plain": [
       "'1.24.3'"
      ]
     },
     "execution_count": 13,
     "metadata": {},
     "output_type": "execute_result"
    }
   ],
   "source": [
    "import numpy as np\n",
    "np.__version__"
   ]
  },
  {
   "cell_type": "code",
   "execution_count": 14,
   "id": "eab2e138",
   "metadata": {},
   "outputs": [],
   "source": [
    "np.random.seed(42)\n",
    "X = np.random.randn(100)\n",
    "\n",
    "bins = np.linspace(-5, 5, 20)\n",
    "counts = np.zeros_like(bins)\n",
    "\n",
    "j = np.searchsorted(bins, X)\n",
    "\n",
    "np.add.at(counts, j, 1)"
   ]
  },
  {
   "cell_type": "code",
   "execution_count": 15,
   "id": "e71c2708",
   "metadata": {},
   "outputs": [
    {
     "data": {
      "text/plain": [
       "array([11, 10, 11, 13, 10, 10, 13, 11,  9, 11,  9,  9, 10,  6,  7,  9,  8,\n",
       "       11,  8,  7, 13, 10, 10,  7,  9, 10,  8, 11,  9,  9,  9, 14, 10,  8,\n",
       "       12,  8, 10,  6,  7, 10, 11, 10, 10,  9,  7,  9,  9, 12, 11,  7, 11,\n",
       "        9,  9, 11, 12, 12,  8,  9, 11, 12,  9, 10,  8,  8, 12, 13, 10, 12,\n",
       "       11,  9, 11, 13, 10, 13,  5, 12, 10,  9, 10,  6, 10, 11, 13,  9,  8,\n",
       "        9, 12, 11,  9, 11, 10, 12,  9,  9,  9,  7, 11, 10, 10, 10],\n",
       "      dtype=int64)"
      ]
     },
     "execution_count": 15,
     "metadata": {},
     "output_type": "execute_result"
    }
   ],
   "source": [
    "j"
   ]
  },
  {
   "cell_type": "code",
   "execution_count": 18,
   "id": "d5e2b710",
   "metadata": {},
   "outputs": [],
   "source": [
    "indices, bins2 = np.histogram(X,bins)"
   ]
  },
  {
   "cell_type": "code",
   "execution_count": 84,
   "id": "7346380a",
   "metadata": {},
   "outputs": [
    {
     "data": {
      "text/plain": [
       "True"
      ]
     },
     "execution_count": 84,
     "metadata": {},
     "output_type": "execute_result"
    }
   ],
   "source": [
    "np.all(bins == bins2)"
   ]
  },
  {
   "cell_type": "code",
   "execution_count": 20,
   "id": "75e9a136",
   "metadata": {},
   "outputs": [
    {
     "data": {
      "text/plain": [
       "(array([ 1,  4,  6,  8, 19, 17, 21, 11,  6,  7], dtype=int64),\n",
       " array([-2.6197451 , -2.17254278, -1.72534045, -1.27813812, -0.83093579,\n",
       "        -0.38373346,  0.06346887,  0.5106712 ,  0.95787353,  1.40507586,\n",
       "         1.85227818]))"
      ]
     },
     "execution_count": 20,
     "metadata": {},
     "output_type": "execute_result"
    }
   ],
   "source": [
    "np.histogram(X)"
   ]
  },
  {
   "cell_type": "code",
   "execution_count": 21,
   "id": "ad09f421",
   "metadata": {},
   "outputs": [
    {
     "data": {
      "text/plain": [
       "'2.0.1'"
      ]
     },
     "execution_count": 21,
     "metadata": {},
     "output_type": "execute_result"
    }
   ],
   "source": [
    "import pandas as pd\n",
    "pd.__version__"
   ]
  },
  {
   "cell_type": "code",
   "execution_count": 23,
   "id": "b5720c00",
   "metadata": {},
   "outputs": [],
   "source": [
    "def selection_sort(x):\n",
    "    for i in range(len(x)):\n",
    "        swap = i + np.argmin(x[i:])\n",
    "        (x[i], x[swap]) = (x[swap], x[i])\n",
    "    return x"
   ]
  },
  {
   "cell_type": "code",
   "execution_count": 24,
   "id": "4cdf7507",
   "metadata": {},
   "outputs": [
    {
     "data": {
      "text/plain": [
       "[2, 5, 5, 6, 7, 8, 9]"
      ]
     },
     "execution_count": 24,
     "metadata": {},
     "output_type": "execute_result"
    }
   ],
   "source": [
    "selection_sort([2,5,6,7,8,5,9])"
   ]
  },
  {
   "cell_type": "code",
   "execution_count": 37,
   "id": "e5929e06",
   "metadata": {},
   "outputs": [],
   "source": [
    "def bogosort(x):\n",
    "    while np.any(x[:-1] > x[1:]):\n",
    "        np.random.shuffle(x)\n",
    "    return x"
   ]
  },
  {
   "cell_type": "code",
   "execution_count": 43,
   "id": "9ee81556",
   "metadata": {},
   "outputs": [
    {
     "data": {
      "text/plain": [
       "array([1, 2, 0, 3, 4])"
      ]
     },
     "execution_count": 43,
     "metadata": {},
     "output_type": "execute_result"
    }
   ],
   "source": [
    "x = np.arange(5)\n",
    "np.random.shuffle(x)\n",
    "x"
   ]
  },
  {
   "cell_type": "code",
   "execution_count": 46,
   "id": "4a8c938a",
   "metadata": {},
   "outputs": [
    {
     "data": {
      "text/plain": [
       "False"
      ]
     },
     "execution_count": 46,
     "metadata": {},
     "output_type": "execute_result"
    }
   ],
   "source": [
    "np.any(x[:-1] > x[1:])"
   ]
  },
  {
   "cell_type": "code",
   "execution_count": 44,
   "id": "c8dcba09",
   "metadata": {},
   "outputs": [
    {
     "data": {
      "text/plain": [
       "array([0, 1, 2, 3, 4])"
      ]
     },
     "execution_count": 44,
     "metadata": {},
     "output_type": "execute_result"
    }
   ],
   "source": [
    "bogosort(x)"
   ]
  },
  {
   "cell_type": "code",
   "execution_count": 47,
   "id": "36386d70",
   "metadata": {},
   "outputs": [
    {
     "data": {
      "text/plain": [
       "array([0, 1, 2, 3])"
      ]
     },
     "execution_count": 47,
     "metadata": {},
     "output_type": "execute_result"
    }
   ],
   "source": [
    "x[:-1]"
   ]
  },
  {
   "cell_type": "code",
   "execution_count": 48,
   "id": "17cbc2d3",
   "metadata": {},
   "outputs": [
    {
     "data": {
      "text/plain": [
       "array([1, 2, 3, 4])"
      ]
     },
     "execution_count": 48,
     "metadata": {},
     "output_type": "execute_result"
    }
   ],
   "source": [
    "x[1:]"
   ]
  },
  {
   "cell_type": "code",
   "execution_count": 50,
   "id": "d8f356fd",
   "metadata": {},
   "outputs": [
    {
     "data": {
      "text/plain": [
       "array([0, 3, 2, 1, 4])"
      ]
     },
     "execution_count": 50,
     "metadata": {},
     "output_type": "execute_result"
    }
   ],
   "source": [
    "np.random.shuffle(x)\n",
    "x"
   ]
  },
  {
   "cell_type": "code",
   "execution_count": 51,
   "id": "ba2bbe64",
   "metadata": {},
   "outputs": [
    {
     "data": {
      "text/plain": [
       "array([0, 3, 2, 1, 4], dtype=int64)"
      ]
     },
     "execution_count": 51,
     "metadata": {},
     "output_type": "execute_result"
    }
   ],
   "source": [
    "np.argsort(x)"
   ]
  },
  {
   "cell_type": "code",
   "execution_count": 52,
   "id": "8c7286a2",
   "metadata": {},
   "outputs": [
    {
     "data": {
      "text/plain": [
       "array([0, 1, 2, 3, 4])"
      ]
     },
     "execution_count": 52,
     "metadata": {},
     "output_type": "execute_result"
    }
   ],
   "source": [
    "x[np.argsort(x)]"
   ]
  },
  {
   "cell_type": "code",
   "execution_count": 55,
   "id": "2651347e",
   "metadata": {},
   "outputs": [
    {
     "data": {
      "text/plain": [
       "array([4, 0, 5, 9, 3, 8, 2, 1, 6, 7])"
      ]
     },
     "execution_count": 55,
     "metadata": {},
     "output_type": "execute_result"
    }
   ],
   "source": [
    "x = np.arange(10)\n",
    "np.random.shuffle(x)\n",
    "x"
   ]
  },
  {
   "cell_type": "code",
   "execution_count": 56,
   "id": "1d38ac29",
   "metadata": {},
   "outputs": [
    {
     "data": {
      "text/plain": [
       "array([0, 3, 1, 2, 4, 8, 9, 5, 6, 7])"
      ]
     },
     "execution_count": 56,
     "metadata": {},
     "output_type": "execute_result"
    }
   ],
   "source": [
    "np.partition(x,4)"
   ]
  },
  {
   "cell_type": "code",
   "execution_count": 66,
   "id": "139d8bfc",
   "metadata": {},
   "outputs": [
    {
     "data": {
      "text/plain": [
       "array([[5, 3, 5, 5, 9, 8, 4, 6, 3, 6],\n",
       "       [8, 8, 6, 0, 8, 6, 2, 2, 1, 2],\n",
       "       [2, 8, 1, 6, 5, 9, 7, 3, 1, 7],\n",
       "       [8, 7, 7, 8, 0, 5, 8, 7, 2, 2],\n",
       "       [4, 0, 8, 1, 7, 2, 7, 0, 8, 3],\n",
       "       [5, 9, 6, 5, 5, 9, 5, 0, 4, 4]])"
      ]
     },
     "execution_count": 66,
     "metadata": {},
     "output_type": "execute_result"
    }
   ],
   "source": [
    "X = np.random.randint(10, size=(6,10))\n",
    "X"
   ]
  },
  {
   "cell_type": "code",
   "execution_count": 67,
   "id": "fbf48e1a",
   "metadata": {},
   "outputs": [
    {
     "data": {
      "text/plain": [
       "array([[4, 7, 1, 1, 0, 2, 2, 0, 2, 2],\n",
       "       [2, 3, 5, 5, 5, 5, 4, 0, 1, 2],\n",
       "       [5, 0, 6, 0, 5, 6, 5, 2, 1, 3],\n",
       "       [5, 8, 6, 5, 7, 8, 7, 3, 3, 4],\n",
       "       [8, 8, 8, 8, 8, 9, 7, 7, 8, 6],\n",
       "       [8, 9, 7, 6, 9, 9, 8, 6, 4, 7]])"
      ]
     },
     "execution_count": 67,
     "metadata": {},
     "output_type": "execute_result"
    }
   ],
   "source": [
    "np.partition(X, 3, axis=0)"
   ]
  },
  {
   "cell_type": "code",
   "execution_count": 81,
   "id": "ef277a3e",
   "metadata": {},
   "outputs": [
    {
     "data": {
      "text/plain": [
       "True"
      ]
     },
     "execution_count": 81,
     "metadata": {},
     "output_type": "execute_result"
    }
   ],
   "source": [
    "np.all(np.partition(X, 3, axis=-1) == np.partition(X, 3, axis=1))"
   ]
  },
  {
   "cell_type": "code",
   "execution_count": 97,
   "id": "b72cb08f",
   "metadata": {},
   "outputs": [
    {
     "data": {
      "text/plain": [
       "array([[5, 3, 5, 5, 9, 8, 4, 6, 3, 6],\n",
       "       [8, 8, 6, 0, 8, 6, 2, 2, 1, 2],\n",
       "       [2, 8, 1, 6, 5, 9, 7, 3, 1, 7],\n",
       "       [8, 7, 7, 8, 0, 5, 8, 7, 2, 2],\n",
       "       [4, 0, 8, 1, 7, 2, 7, 0, 8, 3],\n",
       "       [5, 9, 6, 5, 5, 9, 5, 0, 4, 4]])"
      ]
     },
     "execution_count": 97,
     "metadata": {},
     "output_type": "execute_result"
    }
   ],
   "source": [
    "X"
   ]
  },
  {
   "cell_type": "code",
   "execution_count": 99,
   "id": "079cf150",
   "metadata": {},
   "outputs": [
    {
     "data": {
      "text/plain": [
       "array([[1, 8, 2, 3, 4, 5, 6, 7, 0, 9],\n",
       "       [3, 8, 2, 0, 4, 5, 6, 7, 1, 9],\n",
       "       [2, 8, 0, 3, 4, 5, 6, 7, 1, 9],\n",
       "       [4, 8, 2, 3, 0, 5, 6, 7, 1, 9],\n",
       "       [1, 7, 2, 3, 4, 5, 6, 0, 8, 9],\n",
       "       [7, 8, 2, 3, 4, 5, 6, 0, 1, 9]], dtype=int64)"
      ]
     },
     "execution_count": 99,
     "metadata": {},
     "output_type": "execute_result"
    }
   ],
   "source": [
    "np.argpartition(X, 1, axis=-1)"
   ]
  },
  {
   "cell_type": "code",
   "execution_count": 90,
   "id": "854770db",
   "metadata": {},
   "outputs": [
    {
     "data": {
      "text/plain": [
       "array([0, 1, 5, 9, 3, 8, 2, 4, 6, 7])"
      ]
     },
     "execution_count": 90,
     "metadata": {},
     "output_type": "execute_result"
    }
   ],
   "source": [
    "indices = np.argpartition(x,1)\n",
    "x[indices]"
   ]
  },
  {
   "cell_type": "code",
   "execution_count": 109,
   "id": "aee3e45c",
   "metadata": {},
   "outputs": [],
   "source": [
    "indices = np.argpartition(X, 2, axis=-1)"
   ]
  },
  {
   "cell_type": "code",
   "execution_count": 110,
   "id": "b6c09d49",
   "metadata": {},
   "outputs": [
    {
     "data": {
      "text/plain": [
       "array([[3, 3, 4, 5, 9, 8, 5, 6, 5, 6],\n",
       "       [0, 1, 2, 8, 8, 6, 6, 2, 8, 2],\n",
       "       [1, 1, 2, 6, 5, 9, 7, 3, 8, 7],\n",
       "       [0, 2, 2, 8, 8, 5, 8, 7, 7, 7],\n",
       "       [0, 0, 1, 8, 7, 2, 7, 4, 8, 3],\n",
       "       [0, 4, 4, 5, 5, 9, 5, 5, 9, 6]])"
      ]
     },
     "execution_count": 110,
     "metadata": {},
     "output_type": "execute_result"
    }
   ],
   "source": [
    "X[np.arange(X.shape[0])[:, np.newaxis], indices]"
   ]
  },
  {
   "cell_type": "code",
   "execution_count": 111,
   "id": "4bc7a1eb",
   "metadata": {},
   "outputs": [
    {
     "data": {
      "text/plain": [
       "array([[3, 3, 4, 5, 9, 8, 5, 6, 5, 6],\n",
       "       [0, 1, 2, 8, 8, 6, 6, 2, 8, 2],\n",
       "       [1, 1, 2, 6, 5, 9, 7, 3, 8, 7],\n",
       "       [0, 2, 2, 8, 8, 5, 8, 7, 7, 7],\n",
       "       [0, 0, 1, 8, 7, 2, 7, 4, 8, 3],\n",
       "       [0, 4, 4, 5, 5, 9, 5, 5, 9, 6]])"
      ]
     },
     "execution_count": 111,
     "metadata": {},
     "output_type": "execute_result"
    }
   ],
   "source": [
    "X[np.arange(X.shape[0]).reshape(X.shape[0], 1), indices]"
   ]
  },
  {
   "cell_type": "code",
   "execution_count": 112,
   "id": "26efa352",
   "metadata": {},
   "outputs": [
    {
     "data": {
      "text/plain": [
       "True"
      ]
     },
     "execution_count": 112,
     "metadata": {},
     "output_type": "execute_result"
    }
   ],
   "source": [
    "np.all(X[np.arange(X.shape[0])[:, np.newaxis], indices] == X[np.arange(X.shape[0]).reshape(X.shape[0], 1), indices])"
   ]
  },
  {
   "cell_type": "code",
   "execution_count": 114,
   "id": "54ce81ae",
   "metadata": {},
   "outputs": [
    {
     "data": {
      "text/plain": [
       "(array([3, 3, 4, 5, 9, 8, 5, 6, 5, 6]), array([0, 1, 2, 8, 8, 6, 6, 2, 8, 2]))"
      ]
     },
     "execution_count": 114,
     "metadata": {},
     "output_type": "execute_result"
    }
   ],
   "source": [
    "#accessing a 2d array with indexing using a 2d array. Right?\n",
    "X[0,indices[0]], X[1, indices[1]]"
   ]
  },
  {
   "cell_type": "markdown",
   "id": "224b1c1f",
   "metadata": {},
   "source": [
    "-----------------"
   ]
  },
  {
   "cell_type": "markdown",
   "id": "64d444a5",
   "metadata": {},
   "source": [
    "## What follows is some knn implementation in numpy"
   ]
  },
  {
   "cell_type": "code",
   "execution_count": 116,
   "id": "299b5654",
   "metadata": {},
   "outputs": [
    {
     "data": {
      "text/plain": [
       "array([[0.98255629, 0.65562928],\n",
       "       [0.8626699 , 0.33622093],\n",
       "       [0.17711914, 0.46276262],\n",
       "       [0.64464186, 0.81487147],\n",
       "       [0.02290968, 0.70758952],\n",
       "       [0.5395427 , 0.32664794],\n",
       "       [0.34274516, 0.43224351],\n",
       "       [0.61955499, 0.20072675],\n",
       "       [0.29983134, 0.89419915],\n",
       "       [0.18943555, 0.87489113]])"
      ]
     },
     "execution_count": 116,
     "metadata": {},
     "output_type": "execute_result"
    }
   ],
   "source": [
    "X = np.random.rand(10,2)\n",
    "X"
   ]
  },
  {
   "cell_type": "code",
   "execution_count": 122,
   "id": "4d5ae140",
   "metadata": {},
   "outputs": [],
   "source": [
    "import matplotlib.pyplot as plt\n",
    "plt.rcParams['figure.facecolor'] = '.1'\n",
    "plt.rcParams['axes.facecolor'] = 'black'"
   ]
  },
  {
   "cell_type": "code",
   "execution_count": 126,
   "id": "d65d9db6",
   "metadata": {},
   "outputs": [
    {
     "data": {
      "image/png": "[encoded data removed]",
      "text/plain": [
       "<Figure size 640x480 with 1 Axes>"
      ]
     },
     "metadata": {},
     "output_type": "display_data"
    }
   ],
   "source": [
    "plt.scatter(X[:,0], X[:,1], facecolor='green', s=80)\n",
    "plt.grid(alpha=.1)"
   ]
  },
  {
   "cell_type": "code",
   "execution_count": 146,
   "id": "3892a25e",
   "metadata": {},
   "outputs": [],
   "source": [
    "#broadcasting in action\n",
    "dist_sq = np.sum((X[:, np.newaxis, :] - X[np.newaxis, :, :]) ** 2, axis=-1)"
   ]
  },
  {
   "cell_type": "code",
   "execution_count": 147,
   "id": "ce4dda5b",
   "metadata": {},
   "outputs": [
    {
     "data": {
      "text/plain": [
       "(10, 10)"
      ]
     },
     "execution_count": 147,
     "metadata": {},
     "output_type": "execute_result"
    }
   ],
   "source": [
    "dist_sq.shape"
   ]
  },
  {
   "cell_type": "code",
   "execution_count": 148,
   "id": "269aae7f",
   "metadata": {},
   "outputs": [
    {
     "data": {
      "text/plain": [
       "array([[0.  , 0.12, 0.69, 0.14, 0.92, 0.3 , 0.46, 0.34, 0.52, 0.68],\n",
       "       [0.12, 0.  , 0.49, 0.28, 0.84, 0.1 , 0.28, 0.08, 0.63, 0.74],\n",
       "       [0.69, 0.49, 0.  , 0.34, 0.08, 0.15, 0.03, 0.26, 0.2 , 0.17],\n",
       "       [0.14, 0.28, 0.34, 0.  , 0.4 , 0.25, 0.24, 0.38, 0.13, 0.21],\n",
       "       [0.92, 0.84, 0.08, 0.4 , 0.  , 0.41, 0.18, 0.61, 0.11, 0.06],\n",
       "       [0.3 , 0.1 , 0.15, 0.25, 0.41, 0.  , 0.05, 0.02, 0.38, 0.42],\n",
       "       [0.46, 0.28, 0.03, 0.24, 0.18, 0.05, 0.  , 0.13, 0.22, 0.22],\n",
       "       [0.34, 0.08, 0.26, 0.38, 0.61, 0.02, 0.13, 0.  , 0.58, 0.64],\n",
       "       [0.52, 0.63, 0.2 , 0.13, 0.11, 0.38, 0.22, 0.58, 0.  , 0.01],\n",
       "       [0.68, 0.74, 0.17, 0.21, 0.06, 0.42, 0.22, 0.64, 0.01, 0.  ]])"
      ]
     },
     "execution_count": 148,
     "metadata": {},
     "output_type": "execute_result"
    }
   ],
   "source": [
    "np.set_printoptions(precision=2)\n",
    "dist_sq"
   ]
  },
  {
   "cell_type": "code",
   "execution_count": 149,
   "id": "3c1b9147",
   "metadata": {},
   "outputs": [
    {
     "data": {
      "text/plain": [
       "['x_0', 'x_1', 'x_2', 'x_3', 'x_4', 'x_5', 'x_6', 'x_7', 'x_8', 'x_9']"
      ]
     },
     "execution_count": 149,
     "metadata": {},
     "output_type": "execute_result"
    }
   ],
   "source": [
    "ind_col = ['x_'+ str(i) for i in range(dist_sq.shape[0])]\n",
    "ind_col"
   ]
  },
  {
   "cell_type": "code",
   "execution_count": 150,
   "id": "50f3a028",
   "metadata": {},
   "outputs": [
    {
     "data": {
      "text/html": [
       "<div>\n",
       "<style scoped>\n",
       "    .dataframe tbody tr th:only-of-type {\n",
       "        vertical-align: middle;\n",
       "    }\n",
       "\n",
       "    .dataframe tbody tr th {\n",
       "        vertical-align: top;\n",
       "    }\n",
       "\n",
       "    .dataframe thead th {\n",
       "        text-align: right;\n",
       "    }\n",
       "</style>\n",
       "<table border=\"1\" class=\"dataframe\">\n",
       "  <thead>\n",
       "    <tr style=\"text-align: right;\">\n",
       "      <th></th>\n",
       "      <th>x_0</th>\n",
       "      <th>x_1</th>\n",
       "      <th>x_2</th>\n",
       "      <th>x_3</th>\n",
       "      <th>x_4</th>\n",
       "      <th>x_5</th>\n",
       "      <th>x_6</th>\n",
       "      <th>x_7</th>\n",
       "      <th>x_8</th>\n",
       "      <th>x_9</th>\n",
       "    </tr>\n",
       "  </thead>\n",
       "  <tbody>\n",
       "    <tr>\n",
       "      <th>x_0</th>\n",
       "      <td>0.00</td>\n",
       "      <td>0.12</td>\n",
       "      <td>0.69</td>\n",
       "      <td>0.14</td>\n",
       "      <td>0.92</td>\n",
       "      <td>0.30</td>\n",
       "      <td>0.46</td>\n",
       "      <td>0.34</td>\n",
       "      <td>0.52</td>\n",
       "      <td>0.68</td>\n",
       "    </tr>\n",
       "    <tr>\n",
       "      <th>x_1</th>\n",
       "      <td>0.12</td>\n",
       "      <td>0.00</td>\n",
       "      <td>0.49</td>\n",
       "      <td>0.28</td>\n",
       "      <td>0.84</td>\n",
       "      <td>0.10</td>\n",
       "      <td>0.28</td>\n",
       "      <td>0.08</td>\n",
       "      <td>0.63</td>\n",
       "      <td>0.74</td>\n",
       "    </tr>\n",
       "    <tr>\n",
       "      <th>x_2</th>\n",
       "      <td>0.69</td>\n",
       "      <td>0.49</td>\n",
       "      <td>0.00</td>\n",
       "      <td>0.34</td>\n",
       "      <td>0.08</td>\n",
       "      <td>0.15</td>\n",
       "      <td>0.03</td>\n",
       "      <td>0.26</td>\n",
       "      <td>0.20</td>\n",
       "      <td>0.17</td>\n",
       "    </tr>\n",
       "    <tr>\n",
       "      <th>x_3</th>\n",
       "      <td>0.14</td>\n",
       "      <td>0.28</td>\n",
       "      <td>0.34</td>\n",
       "      <td>0.00</td>\n",
       "      <td>0.40</td>\n",
       "      <td>0.25</td>\n",
       "      <td>0.24</td>\n",
       "      <td>0.38</td>\n",
       "      <td>0.13</td>\n",
       "      <td>0.21</td>\n",
       "    </tr>\n",
       "    <tr>\n",
       "      <th>x_4</th>\n",
       "      <td>0.92</td>\n",
       "      <td>0.84</td>\n",
       "      <td>0.08</td>\n",
       "      <td>0.40</td>\n",
       "      <td>0.00</td>\n",
       "      <td>0.41</td>\n",
       "      <td>0.18</td>\n",
       "      <td>0.61</td>\n",
       "      <td>0.11</td>\n",
       "      <td>0.06</td>\n",
       "    </tr>\n",
       "    <tr>\n",
       "      <th>x_5</th>\n",
       "      <td>0.30</td>\n",
       "      <td>0.10</td>\n",
       "      <td>0.15</td>\n",
       "      <td>0.25</td>\n",
       "      <td>0.41</td>\n",
       "      <td>0.00</td>\n",
       "      <td>0.05</td>\n",
       "      <td>0.02</td>\n",
       "      <td>0.38</td>\n",
       "      <td>0.42</td>\n",
       "    </tr>\n",
       "    <tr>\n",
       "      <th>x_6</th>\n",
       "      <td>0.46</td>\n",
       "      <td>0.28</td>\n",
       "      <td>0.03</td>\n",
       "      <td>0.24</td>\n",
       "      <td>0.18</td>\n",
       "      <td>0.05</td>\n",
       "      <td>0.00</td>\n",
       "      <td>0.13</td>\n",
       "      <td>0.22</td>\n",
       "      <td>0.22</td>\n",
       "    </tr>\n",
       "    <tr>\n",
       "      <th>x_7</th>\n",
       "      <td>0.34</td>\n",
       "      <td>0.08</td>\n",
       "      <td>0.26</td>\n",
       "      <td>0.38</td>\n",
       "      <td>0.61</td>\n",
       "      <td>0.02</td>\n",
       "      <td>0.13</td>\n",
       "      <td>0.00</td>\n",
       "      <td>0.58</td>\n",
       "      <td>0.64</td>\n",
       "    </tr>\n",
       "    <tr>\n",
       "      <th>x_8</th>\n",
       "      <td>0.52</td>\n",
       "      <td>0.63</td>\n",
       "      <td>0.20</td>\n",
       "      <td>0.13</td>\n",
       "      <td>0.11</td>\n",
       "      <td>0.38</td>\n",
       "      <td>0.22</td>\n",
       "      <td>0.58</td>\n",
       "      <td>0.00</td>\n",
       "      <td>0.01</td>\n",
       "    </tr>\n",
       "    <tr>\n",
       "      <th>x_9</th>\n",
       "      <td>0.68</td>\n",
       "      <td>0.74</td>\n",
       "      <td>0.17</td>\n",
       "      <td>0.21</td>\n",
       "      <td>0.06</td>\n",
       "      <td>0.42</td>\n",
       "      <td>0.22</td>\n",
       "      <td>0.64</td>\n",
       "      <td>0.01</td>\n",
       "      <td>0.00</td>\n",
       "    </tr>\n",
       "  </tbody>\n",
       "</table>\n",
       "</div>"
      ],
      "text/plain": [
       "     x_0  x_1  x_2  x_3  x_4  x_5  x_6  x_7  x_8  x_9\n",
       "x_0 0.00 0.12 0.69 0.14 0.92 0.30 0.46 0.34 0.52 0.68\n",
       "x_1 0.12 0.00 0.49 0.28 0.84 0.10 0.28 0.08 0.63 0.74\n",
       "x_2 0.69 0.49 0.00 0.34 0.08 0.15 0.03 0.26 0.20 0.17\n",
       "x_3 0.14 0.28 0.34 0.00 0.40 0.25 0.24 0.38 0.13 0.21\n",
       "x_4 0.92 0.84 0.08 0.40 0.00 0.41 0.18 0.61 0.11 0.06\n",
       "x_5 0.30 0.10 0.15 0.25 0.41 0.00 0.05 0.02 0.38 0.42\n",
       "x_6 0.46 0.28 0.03 0.24 0.18 0.05 0.00 0.13 0.22 0.22\n",
       "x_7 0.34 0.08 0.26 0.38 0.61 0.02 0.13 0.00 0.58 0.64\n",
       "x_8 0.52 0.63 0.20 0.13 0.11 0.38 0.22 0.58 0.00 0.01\n",
       "x_9 0.68 0.74 0.17 0.21 0.06 0.42 0.22 0.64 0.01 0.00"
      ]
     },
     "execution_count": 150,
     "metadata": {},
     "output_type": "execute_result"
    }
   ],
   "source": [
    "pd.set_option('display.float_format', '{:.2f}'.format)\n",
    "pd.DataFrame(dist_sq, index=ind_col,columns=ind_col)"
   ]
  },
  {
   "cell_type": "code",
   "execution_count": 151,
   "id": "04088f88",
   "metadata": {},
   "outputs": [
    {
     "data": {
      "text/plain": [
       "array([0., 0., 0., 0., 0., 0., 0., 0., 0., 0.])"
      ]
     },
     "execution_count": 151,
     "metadata": {},
     "output_type": "execute_result"
    }
   ],
   "source": [
    "dist_sq.diagonal()"
   ]
  },
  {
   "cell_type": "code",
   "execution_count": 155,
   "id": "5540925b",
   "metadata": {},
   "outputs": [
    {
     "data": {
      "text/plain": [
       "array([[0, 1, 2, 3, 4, 5, 6, 7, 8, 9],\n",
       "       [1, 7, 6, 8, 9, 7, 2, 5, 9, 8],\n",
       "       [3, 5, 4, 0, 2, 6, 5, 1, 4, 4],\n",
       "       [5, 0, 5, 9, 8, 1, 7, 6, 3, 2],\n",
       "       [7, 3, 9, 6, 6, 2, 4, 2, 2, 3],\n",
       "       [6, 6, 8, 5, 3, 3, 8, 0, 6, 6],\n",
       "       [8, 2, 7, 1, 5, 0, 9, 3, 5, 5],\n",
       "       [9, 8, 3, 2, 7, 8, 3, 8, 0, 7],\n",
       "       [2, 9, 1, 7, 1, 4, 1, 4, 7, 0],\n",
       "       [4, 4, 0, 4, 0, 9, 0, 9, 1, 1]], dtype=int64)"
      ]
     },
     "execution_count": 155,
     "metadata": {},
     "output_type": "execute_result"
    }
   ],
   "source": [
    "nearest = np.argsort(dist_sq, axis=0)\n",
    "nearest"
   ]
  },
  {
   "cell_type": "code",
   "execution_count": 159,
   "id": "847900cb",
   "metadata": {},
   "outputs": [
    {
     "data": {
      "text/plain": [
       "array([[0, 1, 3, 5, 7, 8, 6, 9, 2, 4],\n",
       "       [1, 7, 5, 0, 3, 2, 6, 8, 9, 4],\n",
       "       [2, 6, 4, 5, 9, 1, 3, 7, 8, 0],\n",
       "       [3, 0, 8, 9, 1, 5, 6, 7, 2, 4],\n",
       "       [4, 9, 2, 8, 6, 3, 5, 7, 1, 0],\n",
       "       [6, 5, 7, 1, 2, 3, 0, 8, 4, 9],\n",
       "       [6, 2, 5, 7, 4, 8, 9, 1, 3, 0],\n",
       "       [1, 5, 7, 6, 0, 2, 3, 8, 4, 9],\n",
       "       [8, 9, 4, 3, 2, 6, 1, 7, 5, 0],\n",
       "       [8, 9, 4, 2, 3, 6, 1, 7, 5, 0]], dtype=int64)"
      ]
     },
     "execution_count": 159,
     "metadata": {},
     "output_type": "execute_result"
    }
   ],
   "source": [
    "K = 2\n",
    "nearest_partition =  np.argpartition(dist_sq, K+1, axis=1)\n",
    "nearest_partition"
   ]
  },
  {
   "cell_type": "code",
   "execution_count": null,
   "id": "444e0d25",
   "metadata": {},
   "outputs": [],
   "source": []
  },
  {
   "cell_type": "code",
   "execution_count": null,
   "id": "855205d0",
   "metadata": {},
   "outputs": [],
   "source": []
  }
 ],
 "metadata": {
  "kernelspec": {
   "display_name": "Python 3 (ipykernel)",
   "language": "python",
   "name": "python3"
  },
  "language_info": {
   "codemirror_mode": {
    "name": "ipython",
    "version": 3
   },
   "file_extension": ".py",
   "mimetype": "text/x-python",
   "name": "python",
   "nbconvert_exporter": "python",
   "pygments_lexer": "ipython3",
   "version": "3.11.3"
  }
 },
 "nbformat": 4,
 "nbformat_minor": 5
}
