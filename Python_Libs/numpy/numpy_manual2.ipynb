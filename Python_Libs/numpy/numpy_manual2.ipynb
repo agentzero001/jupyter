{
 "cells": [
  {
   "cell_type": "code",
   "execution_count": 1,
   "id": "11394e53",
   "metadata": {},
   "outputs": [
    {
     "data": {
      "text/plain": [
       "'3.11.3 (tags/v3.11.3:f3909b8, Apr  4 2023, 23:49:59) [MSC v.1934 64 bit (AMD64)]'"
      ]
     },
     "execution_count": 1,
     "metadata": {},
     "output_type": "execute_result"
    }
   ],
   "source": [
    "import sys\n",
    "sys.version"
   ]
  },
  {
   "cell_type": "code",
   "execution_count": 2,
   "id": "74537ebc",
   "metadata": {},
   "outputs": [
    {
     "data": {
      "text/plain": [
       "'1.24.3'"
      ]
     },
     "execution_count": 2,
     "metadata": {},
     "output_type": "execute_result"
    }
   ],
   "source": [
    "import numpy as np\n",
    "np.__version__"
   ]
  },
  {
   "cell_type": "code",
   "execution_count": 3,
   "id": "eab2e138",
   "metadata": {},
   "outputs": [],
   "source": [
    "np.random.seed(42)\n",
    "X = np.random.randn(100)\n",
    "\n",
    "bins = np.linspace(-5, 5, 20)\n",
    "counts = np.zeros_like(bins)\n",
    "\n",
    "j = np.searchsorted(bins, X)\n",
    "\n",
    "np.add.at(counts, j, 1)"
   ]
  },
  {
   "cell_type": "code",
   "execution_count": 4,
   "id": "e71c2708",
   "metadata": {},
   "outputs": [
    {
     "data": {
      "text/plain": [
       "array([11, 10, 11, 13, 10, 10, 13, 11,  9, 11,  9,  9, 10,  6,  7,  9,  8,\n",
       "       11,  8,  7, 13, 10, 10,  7,  9, 10,  8, 11,  9,  9,  9, 14, 10,  8,\n",
       "       12,  8, 10,  6,  7, 10, 11, 10, 10,  9,  7,  9,  9, 12, 11,  7, 11,\n",
       "        9,  9, 11, 12, 12,  8,  9, 11, 12,  9, 10,  8,  8, 12, 13, 10, 12,\n",
       "       11,  9, 11, 13, 10, 13,  5, 12, 10,  9, 10,  6, 10, 11, 13,  9,  8,\n",
       "        9, 12, 11,  9, 11, 10, 12,  9,  9,  9,  7, 11, 10, 10, 10],\n",
       "      dtype=int64)"
      ]
     },
     "execution_count": 4,
     "metadata": {},
     "output_type": "execute_result"
    }
   ],
   "source": [
    "j"
   ]
  },
  {
   "cell_type": "code",
   "execution_count": 5,
   "id": "d5e2b710",
   "metadata": {},
   "outputs": [],
   "source": [
    "indices, bins2 = np.histogram(X,bins)"
   ]
  },
  {
   "cell_type": "code",
   "execution_count": 6,
   "id": "7346380a",
   "metadata": {},
   "outputs": [
    {
     "data": {
      "text/plain": [
       "True"
      ]
     },
     "execution_count": 6,
     "metadata": {},
     "output_type": "execute_result"
    }
   ],
   "source": [
    "np.all(bins == bins2)"
   ]
  },
  {
   "cell_type": "code",
   "execution_count": 7,
   "id": "75e9a136",
   "metadata": {},
   "outputs": [
    {
     "data": {
      "text/plain": [
       "(array([ 1,  4,  6,  8, 19, 17, 21, 11,  6,  7], dtype=int64),\n",
       " array([-2.6197451 , -2.17254278, -1.72534045, -1.27813812, -0.83093579,\n",
       "        -0.38373346,  0.06346887,  0.5106712 ,  0.95787353,  1.40507586,\n",
       "         1.85227818]))"
      ]
     },
     "execution_count": 7,
     "metadata": {},
     "output_type": "execute_result"
    }
   ],
   "source": [
    "np.histogram(X)"
   ]
  },
  {
   "cell_type": "code",
   "execution_count": 8,
   "id": "ad09f421",
   "metadata": {},
   "outputs": [
    {
     "data": {
      "text/plain": [
       "'2.0.1'"
      ]
     },
     "execution_count": 8,
     "metadata": {},
     "output_type": "execute_result"
    }
   ],
   "source": [
    "import pandas as pd\n",
    "pd.__version__"
   ]
  },
  {
   "cell_type": "code",
   "execution_count": 9,
   "id": "b5720c00",
   "metadata": {},
   "outputs": [],
   "source": [
    "def selection_sort(x):\n",
    "    for i in range(len(x)):\n",
    "        swap = i + np.argmin(x[i:])\n",
    "        (x[i], x[swap]) = (x[swap], x[i])\n",
    "    return x"
   ]
  },
  {
   "cell_type": "code",
   "execution_count": 10,
   "id": "4cdf7507",
   "metadata": {},
   "outputs": [
    {
     "data": {
      "text/plain": [
       "[2, 5, 5, 6, 7, 8, 9]"
      ]
     },
     "execution_count": 10,
     "metadata": {},
     "output_type": "execute_result"
    }
   ],
   "source": [
    "selection_sort([2,5,6,7,8,5,9])"
   ]
  },
  {
   "cell_type": "code",
   "execution_count": 11,
   "id": "e5929e06",
   "metadata": {},
   "outputs": [],
   "source": [
    "def bogosort(x):\n",
    "    while np.any(x[:-1] > x[1:]):\n",
    "        np.random.shuffle(x)\n",
    "    return x"
   ]
  },
  {
   "cell_type": "code",
   "execution_count": 12,
   "id": "9ee81556",
   "metadata": {},
   "outputs": [
    {
     "data": {
      "text/plain": [
       "array([3, 2, 4, 1, 0])"
      ]
     },
     "execution_count": 12,
     "metadata": {},
     "output_type": "execute_result"
    }
   ],
   "source": [
    "x = np.arange(5)\n",
    "np.random.shuffle(x)\n",
    "x"
   ]
  },
  {
   "cell_type": "code",
   "execution_count": 13,
   "id": "4a8c938a",
   "metadata": {},
   "outputs": [
    {
     "data": {
      "text/plain": [
       "True"
      ]
     },
     "execution_count": 13,
     "metadata": {},
     "output_type": "execute_result"
    }
   ],
   "source": [
    "np.any(x[:-1] > x[1:])"
   ]
  },
  {
   "cell_type": "code",
   "execution_count": 14,
   "id": "c8dcba09",
   "metadata": {},
   "outputs": [
    {
     "data": {
      "text/plain": [
       "array([0, 1, 2, 3, 4])"
      ]
     },
     "execution_count": 14,
     "metadata": {},
     "output_type": "execute_result"
    }
   ],
   "source": [
    "bogosort(x)"
   ]
  },
  {
   "cell_type": "code",
   "execution_count": 15,
   "id": "36386d70",
   "metadata": {},
   "outputs": [
    {
     "data": {
      "text/plain": [
       "array([0, 1, 2, 3])"
      ]
     },
     "execution_count": 15,
     "metadata": {},
     "output_type": "execute_result"
    }
   ],
   "source": [
    "x[:-1]"
   ]
  },
  {
   "cell_type": "code",
   "execution_count": 16,
   "id": "17cbc2d3",
   "metadata": {},
   "outputs": [
    {
     "data": {
      "text/plain": [
       "array([1, 2, 3, 4])"
      ]
     },
     "execution_count": 16,
     "metadata": {},
     "output_type": "execute_result"
    }
   ],
   "source": [
    "x[1:]"
   ]
  },
  {
   "cell_type": "code",
   "execution_count": 17,
   "id": "d8f356fd",
   "metadata": {},
   "outputs": [
    {
     "data": {
      "text/plain": [
       "array([4, 0, 1, 2, 3])"
      ]
     },
     "execution_count": 17,
     "metadata": {},
     "output_type": "execute_result"
    }
   ],
   "source": [
    "np.random.shuffle(x)\n",
    "x"
   ]
  },
  {
   "cell_type": "code",
   "execution_count": 18,
   "id": "ba2bbe64",
   "metadata": {},
   "outputs": [
    {
     "data": {
      "text/plain": [
       "array([1, 2, 3, 4, 0], dtype=int64)"
      ]
     },
     "execution_count": 18,
     "metadata": {},
     "output_type": "execute_result"
    }
   ],
   "source": [
    "np.argsort(x)"
   ]
  },
  {
   "cell_type": "code",
   "execution_count": 19,
   "id": "8c7286a2",
   "metadata": {},
   "outputs": [
    {
     "data": {
      "text/plain": [
       "array([0, 1, 2, 3, 4])"
      ]
     },
     "execution_count": 19,
     "metadata": {},
     "output_type": "execute_result"
    }
   ],
   "source": [
    "x[np.argsort(x)]"
   ]
  },
  {
   "cell_type": "code",
   "execution_count": 20,
   "id": "2651347e",
   "metadata": {},
   "outputs": [
    {
     "data": {
      "text/plain": [
       "array([6, 5, 2, 0, 4, 7, 9, 8, 1, 3])"
      ]
     },
     "execution_count": 20,
     "metadata": {},
     "output_type": "execute_result"
    }
   ],
   "source": [
    "x = np.arange(10)\n",
    "np.random.shuffle(x)\n",
    "x"
   ]
  },
  {
   "cell_type": "code",
   "execution_count": 21,
   "id": "1d38ac29",
   "metadata": {},
   "outputs": [
    {
     "data": {
      "text/plain": [
       "array([1, 3, 2, 0, 4, 7, 9, 8, 5, 6])"
      ]
     },
     "execution_count": 21,
     "metadata": {},
     "output_type": "execute_result"
    }
   ],
   "source": [
    "np.partition(x,4)"
   ]
  },
  {
   "cell_type": "code",
   "execution_count": 22,
   "id": "139d8bfc",
   "metadata": {},
   "outputs": [
    {
     "data": {
      "text/plain": [
       "array([[5, 4, 5, 1, 0, 6, 6, 9, 9, 1],\n",
       "       [1, 0, 9, 7, 7, 0, 7, 8, 3, 0],\n",
       "       [0, 2, 4, 4, 8, 9, 1, 1, 5, 8],\n",
       "       [0, 8, 8, 8, 4, 8, 3, 1, 5, 3],\n",
       "       [5, 2, 5, 1, 1, 8, 6, 2, 0, 7],\n",
       "       [5, 6, 8, 4, 0, 9, 6, 4, 2, 8]])"
      ]
     },
     "execution_count": 22,
     "metadata": {},
     "output_type": "execute_result"
    }
   ],
   "source": [
    "X = np.random.randint(10, size=(6,10))\n",
    "X"
   ]
  },
  {
   "cell_type": "code",
   "execution_count": 23,
   "id": "fbf48e1a",
   "metadata": {},
   "outputs": [
    {
     "data": {
      "text/plain": [
       "array([[0, 2, 5, 1, 0, 0, 3, 1, 0, 0],\n",
       "       [0, 2, 4, 1, 0, 6, 1, 1, 2, 1],\n",
       "       [1, 0, 5, 4, 1, 8, 6, 2, 3, 3],\n",
       "       [5, 4, 8, 4, 4, 8, 6, 4, 5, 7],\n",
       "       [5, 8, 8, 7, 7, 9, 7, 8, 5, 8],\n",
       "       [5, 6, 9, 8, 8, 9, 6, 9, 9, 8]])"
      ]
     },
     "execution_count": 23,
     "metadata": {},
     "output_type": "execute_result"
    }
   ],
   "source": [
    "np.partition(X, 3, axis=0)"
   ]
  },
  {
   "cell_type": "code",
   "execution_count": 24,
   "id": "ef277a3e",
   "metadata": {},
   "outputs": [
    {
     "data": {
      "text/plain": [
       "True"
      ]
     },
     "execution_count": 24,
     "metadata": {},
     "output_type": "execute_result"
    }
   ],
   "source": [
    "np.all(np.partition(X, 3, axis=-1) == np.partition(X, 3, axis=1))"
   ]
  },
  {
   "cell_type": "code",
   "execution_count": 25,
   "id": "b72cb08f",
   "metadata": {},
   "outputs": [
    {
     "data": {
      "text/plain": [
       "array([[5, 4, 5, 1, 0, 6, 6, 9, 9, 1],\n",
       "       [1, 0, 9, 7, 7, 0, 7, 8, 3, 0],\n",
       "       [0, 2, 4, 4, 8, 9, 1, 1, 5, 8],\n",
       "       [0, 8, 8, 8, 4, 8, 3, 1, 5, 3],\n",
       "       [5, 2, 5, 1, 1, 8, 6, 2, 0, 7],\n",
       "       [5, 6, 8, 4, 0, 9, 6, 4, 2, 8]])"
      ]
     },
     "execution_count": 25,
     "metadata": {},
     "output_type": "execute_result"
    }
   ],
   "source": [
    "X"
   ]
  },
  {
   "cell_type": "code",
   "execution_count": 26,
   "id": "079cf150",
   "metadata": {},
   "outputs": [
    {
     "data": {
      "text/plain": [
       "array([[4, 3, 2, 1, 0, 5, 6, 7, 8, 9],\n",
       "       [1, 5, 2, 3, 4, 0, 6, 7, 8, 9],\n",
       "       [0, 6, 2, 3, 4, 5, 1, 7, 8, 9],\n",
       "       [0, 7, 2, 3, 4, 5, 6, 1, 8, 9],\n",
       "       [8, 3, 2, 1, 4, 5, 6, 7, 0, 9],\n",
       "       [4, 8, 2, 3, 0, 5, 6, 7, 1, 9]], dtype=int64)"
      ]
     },
     "execution_count": 26,
     "metadata": {},
     "output_type": "execute_result"
    }
   ],
   "source": [
    "np.argpartition(X, 1, axis=-1)"
   ]
  },
  {
   "cell_type": "code",
   "execution_count": 27,
   "id": "854770db",
   "metadata": {},
   "outputs": [
    {
     "data": {
      "text/plain": [
       "array([0, 1, 2, 6, 4, 7, 9, 8, 5, 3])"
      ]
     },
     "execution_count": 27,
     "metadata": {},
     "output_type": "execute_result"
    }
   ],
   "source": [
    "indices = np.argpartition(x,1)\n",
    "x[indices]"
   ]
  },
  {
   "cell_type": "code",
   "execution_count": 28,
   "id": "aee3e45c",
   "metadata": {},
   "outputs": [],
   "source": [
    "indices = np.argpartition(X, 2, axis=-1)"
   ]
  },
  {
   "cell_type": "code",
   "execution_count": 29,
   "id": "b6c09d49",
   "metadata": {},
   "outputs": [
    {
     "data": {
      "text/plain": [
       "array([[0, 1, 1, 4, 5, 6, 6, 9, 9, 5],\n",
       "       [0, 0, 0, 7, 7, 1, 7, 8, 3, 9],\n",
       "       [0, 1, 1, 4, 8, 9, 2, 4, 5, 8],\n",
       "       [0, 1, 3, 8, 4, 8, 8, 8, 5, 3],\n",
       "       [0, 1, 1, 2, 5, 8, 6, 2, 5, 7],\n",
       "       [0, 2, 4, 8, 5, 9, 6, 4, 6, 8]])"
      ]
     },
     "execution_count": 29,
     "metadata": {},
     "output_type": "execute_result"
    }
   ],
   "source": [
    "X[np.arange(X.shape[0])[:, np.newaxis], indices]"
   ]
  },
  {
   "cell_type": "code",
   "execution_count": 30,
   "id": "4bc7a1eb",
   "metadata": {},
   "outputs": [
    {
     "data": {
      "text/plain": [
       "array([[0, 1, 1, 4, 5, 6, 6, 9, 9, 5],\n",
       "       [0, 0, 0, 7, 7, 1, 7, 8, 3, 9],\n",
       "       [0, 1, 1, 4, 8, 9, 2, 4, 5, 8],\n",
       "       [0, 1, 3, 8, 4, 8, 8, 8, 5, 3],\n",
       "       [0, 1, 1, 2, 5, 8, 6, 2, 5, 7],\n",
       "       [0, 2, 4, 8, 5, 9, 6, 4, 6, 8]])"
      ]
     },
     "execution_count": 30,
     "metadata": {},
     "output_type": "execute_result"
    }
   ],
   "source": [
    "X[np.arange(X.shape[0]).reshape(X.shape[0], 1), indices]"
   ]
  },
  {
   "cell_type": "code",
   "execution_count": 31,
   "id": "26efa352",
   "metadata": {},
   "outputs": [
    {
     "data": {
      "text/plain": [
       "True"
      ]
     },
     "execution_count": 31,
     "metadata": {},
     "output_type": "execute_result"
    }
   ],
   "source": [
    "np.all(X[np.arange(X.shape[0])[:, np.newaxis], indices] == X[np.arange(X.shape[0]).reshape(X.shape[0], 1), indices])"
   ]
  },
  {
   "cell_type": "code",
   "execution_count": 32,
   "id": "54ce81ae",
   "metadata": {},
   "outputs": [
    {
     "data": {
      "text/plain": [
       "(array([0, 1, 1, 4, 5, 6, 6, 9, 9, 5]), array([0, 0, 0, 7, 7, 1, 7, 8, 3, 9]))"
      ]
     },
     "execution_count": 32,
     "metadata": {},
     "output_type": "execute_result"
    }
   ],
   "source": [
    "#accessing a 2d array with indexing using a 2d array. Right?\n",
    "X[0,indices[0]], X[1, indices[1]]"
   ]
  },
  {
   "cell_type": "markdown",
   "id": "224b1c1f",
   "metadata": {},
   "source": [
    "-----------------"
   ]
  },
  {
   "cell_type": "markdown",
   "id": "64d444a5",
   "metadata": {},
   "source": [
    "## What follows is some knn implementation in numpy"
   ]
  },
  {
   "cell_type": "code",
   "execution_count": 33,
   "id": "299b5654",
   "metadata": {},
   "outputs": [
    {
     "data": {
      "text/plain": [
       "array([[0.59648547, 0.54568689],\n",
       "       [0.44441945, 0.01466706],\n",
       "       [0.58706171, 0.16844439],\n",
       "       [0.64257597, 0.75934433],\n",
       "       [0.50044531, 0.54236366],\n",
       "       [0.95147856, 0.84716736],\n",
       "       [0.91423652, 0.81376629],\n",
       "       [0.10891834, 0.14899186],\n",
       "       [0.5266238 , 0.24606966],\n",
       "       [0.47669548, 0.39436532]])"
      ]
     },
     "execution_count": 33,
     "metadata": {},
     "output_type": "execute_result"
    }
   ],
   "source": [
    "X = np.random.rand(10,2)\n",
    "X"
   ]
  },
  {
   "cell_type": "code",
   "execution_count": 34,
   "id": "4d5ae140",
   "metadata": {},
   "outputs": [],
   "source": [
    "import matplotlib.pyplot as plt\n",
    "plt.rcParams['figure.facecolor'] = '.1'\n",
    "plt.rcParams['axes.facecolor'] = 'black'"
   ]
  },
  {
   "cell_type": "code",
   "execution_count": 35,
   "id": "d65d9db6",
   "metadata": {},
   "outputs": [
    {
     "data": {
      "image/png": "[encoded data removed]",
      "text/plain": [
       "<Figure size 640x480 with 1 Axes>"
      ]
     },
     "metadata": {},
     "output_type": "display_data"
    }
   ],
   "source": [
    "plt.scatter(X[:,0], X[:,1], facecolor='green', s=80)\n",
    "plt.grid(alpha=.1)"
   ]
  },
  {
   "cell_type": "code",
   "execution_count": 36,
   "id": "3892a25e",
   "metadata": {},
   "outputs": [],
   "source": [
    "#broadcasting in action\n",
    "dist_sq = np.sum((X[:, np.newaxis, :] - X[np.newaxis, :, :]) ** 2, axis=-1)"
   ]
  },
  {
   "cell_type": "code",
   "execution_count": 37,
   "id": "ce4dda5b",
   "metadata": {},
   "outputs": [
    {
     "data": {
      "text/plain": [
       "(10, 10)"
      ]
     },
     "execution_count": 37,
     "metadata": {},
     "output_type": "execute_result"
    }
   ],
   "source": [
    "dist_sq.shape"
   ]
  },
  {
   "cell_type": "code",
   "execution_count": 38,
   "id": "269aae7f",
   "metadata": {},
   "outputs": [
    {
     "data": {
      "text/plain": [
       "array([[0.  , 0.31, 0.14, 0.05, 0.01, 0.22, 0.17, 0.4 , 0.09, 0.04],\n",
       "       [0.31, 0.  , 0.04, 0.59, 0.28, 0.95, 0.86, 0.13, 0.06, 0.15],\n",
       "       [0.14, 0.04, 0.  , 0.35, 0.15, 0.59, 0.52, 0.23, 0.01, 0.06],\n",
       "       [0.05, 0.59, 0.35, 0.  , 0.07, 0.1 , 0.08, 0.66, 0.28, 0.16],\n",
       "       [0.01, 0.28, 0.15, 0.07, 0.  , 0.3 , 0.24, 0.31, 0.09, 0.02],\n",
       "       [0.22, 0.95, 0.59, 0.1 , 0.3 , 0.  , 0.  , 1.2 , 0.54, 0.43],\n",
       "       [0.17, 0.86, 0.52, 0.08, 0.24, 0.  , 0.  , 1.09, 0.47, 0.37],\n",
       "       [0.4 , 0.13, 0.23, 0.66, 0.31, 1.2 , 1.09, 0.  , 0.18, 0.2 ],\n",
       "       [0.09, 0.06, 0.01, 0.28, 0.09, 0.54, 0.47, 0.18, 0.  , 0.02],\n",
       "       [0.04, 0.15, 0.06, 0.16, 0.02, 0.43, 0.37, 0.2 , 0.02, 0.  ]])"
      ]
     },
     "execution_count": 38,
     "metadata": {},
     "output_type": "execute_result"
    }
   ],
   "source": [
    "np.set_printoptions(precision=2)\n",
    "dist_sq"
   ]
  },
  {
   "cell_type": "code",
   "execution_count": 39,
   "id": "3c1b9147",
   "metadata": {},
   "outputs": [
    {
     "data": {
      "text/plain": [
       "['x_0', 'x_1', 'x_2', 'x_3', 'x_4', 'x_5', 'x_6', 'x_7', 'x_8', 'x_9']"
      ]
     },
     "execution_count": 39,
     "metadata": {},
     "output_type": "execute_result"
    }
   ],
   "source": [
    "ind_col = ['x_'+ str(i) for i in range(dist_sq.shape[0])]\n",
    "ind_col"
   ]
  },
  {
   "cell_type": "code",
   "execution_count": 40,
   "id": "50f3a028",
   "metadata": {},
   "outputs": [
    {
     "data": {
      "text/html": [
       "<div>\n",
       "<style scoped>\n",
       "    .dataframe tbody tr th:only-of-type {\n",
       "        vertical-align: middle;\n",
       "    }\n",
       "\n",
       "    .dataframe tbody tr th {\n",
       "        vertical-align: top;\n",
       "    }\n",
       "\n",
       "    .dataframe thead th {\n",
       "        text-align: right;\n",
       "    }\n",
       "</style>\n",
       "<table border=\"1\" class=\"dataframe\">\n",
       "  <thead>\n",
       "    <tr style=\"text-align: right;\">\n",
       "      <th></th>\n",
       "      <th>x_0</th>\n",
       "      <th>x_1</th>\n",
       "      <th>x_2</th>\n",
       "      <th>x_3</th>\n",
       "      <th>x_4</th>\n",
       "      <th>x_5</th>\n",
       "      <th>x_6</th>\n",
       "      <th>x_7</th>\n",
       "      <th>x_8</th>\n",
       "      <th>x_9</th>\n",
       "    </tr>\n",
       "  </thead>\n",
       "  <tbody>\n",
       "    <tr>\n",
       "      <th>x_0</th>\n",
       "      <td>0.00</td>\n",
       "      <td>0.31</td>\n",
       "      <td>0.14</td>\n",
       "      <td>0.05</td>\n",
       "      <td>0.01</td>\n",
       "      <td>0.22</td>\n",
       "      <td>0.17</td>\n",
       "      <td>0.40</td>\n",
       "      <td>0.09</td>\n",
       "      <td>0.04</td>\n",
       "    </tr>\n",
       "    <tr>\n",
       "      <th>x_1</th>\n",
       "      <td>0.31</td>\n",
       "      <td>0.00</td>\n",
       "      <td>0.04</td>\n",
       "      <td>0.59</td>\n",
       "      <td>0.28</td>\n",
       "      <td>0.95</td>\n",
       "      <td>0.86</td>\n",
       "      <td>0.13</td>\n",
       "      <td>0.06</td>\n",
       "      <td>0.15</td>\n",
       "    </tr>\n",
       "    <tr>\n",
       "      <th>x_2</th>\n",
       "      <td>0.14</td>\n",
       "      <td>0.04</td>\n",
       "      <td>0.00</td>\n",
       "      <td>0.35</td>\n",
       "      <td>0.15</td>\n",
       "      <td>0.59</td>\n",
       "      <td>0.52</td>\n",
       "      <td>0.23</td>\n",
       "      <td>0.01</td>\n",
       "      <td>0.06</td>\n",
       "    </tr>\n",
       "    <tr>\n",
       "      <th>x_3</th>\n",
       "      <td>0.05</td>\n",
       "      <td>0.59</td>\n",
       "      <td>0.35</td>\n",
       "      <td>0.00</td>\n",
       "      <td>0.07</td>\n",
       "      <td>0.10</td>\n",
       "      <td>0.08</td>\n",
       "      <td>0.66</td>\n",
       "      <td>0.28</td>\n",
       "      <td>0.16</td>\n",
       "    </tr>\n",
       "    <tr>\n",
       "      <th>x_4</th>\n",
       "      <td>0.01</td>\n",
       "      <td>0.28</td>\n",
       "      <td>0.15</td>\n",
       "      <td>0.07</td>\n",
       "      <td>0.00</td>\n",
       "      <td>0.30</td>\n",
       "      <td>0.24</td>\n",
       "      <td>0.31</td>\n",
       "      <td>0.09</td>\n",
       "      <td>0.02</td>\n",
       "    </tr>\n",
       "    <tr>\n",
       "      <th>x_5</th>\n",
       "      <td>0.22</td>\n",
       "      <td>0.95</td>\n",
       "      <td>0.59</td>\n",
       "      <td>0.10</td>\n",
       "      <td>0.30</td>\n",
       "      <td>0.00</td>\n",
       "      <td>0.00</td>\n",
       "      <td>1.20</td>\n",
       "      <td>0.54</td>\n",
       "      <td>0.43</td>\n",
       "    </tr>\n",
       "    <tr>\n",
       "      <th>x_6</th>\n",
       "      <td>0.17</td>\n",
       "      <td>0.86</td>\n",
       "      <td>0.52</td>\n",
       "      <td>0.08</td>\n",
       "      <td>0.24</td>\n",
       "      <td>0.00</td>\n",
       "      <td>0.00</td>\n",
       "      <td>1.09</td>\n",
       "      <td>0.47</td>\n",
       "      <td>0.37</td>\n",
       "    </tr>\n",
       "    <tr>\n",
       "      <th>x_7</th>\n",
       "      <td>0.40</td>\n",
       "      <td>0.13</td>\n",
       "      <td>0.23</td>\n",
       "      <td>0.66</td>\n",
       "      <td>0.31</td>\n",
       "      <td>1.20</td>\n",
       "      <td>1.09</td>\n",
       "      <td>0.00</td>\n",
       "      <td>0.18</td>\n",
       "      <td>0.20</td>\n",
       "    </tr>\n",
       "    <tr>\n",
       "      <th>x_8</th>\n",
       "      <td>0.09</td>\n",
       "      <td>0.06</td>\n",
       "      <td>0.01</td>\n",
       "      <td>0.28</td>\n",
       "      <td>0.09</td>\n",
       "      <td>0.54</td>\n",
       "      <td>0.47</td>\n",
       "      <td>0.18</td>\n",
       "      <td>0.00</td>\n",
       "      <td>0.02</td>\n",
       "    </tr>\n",
       "    <tr>\n",
       "      <th>x_9</th>\n",
       "      <td>0.04</td>\n",
       "      <td>0.15</td>\n",
       "      <td>0.06</td>\n",
       "      <td>0.16</td>\n",
       "      <td>0.02</td>\n",
       "      <td>0.43</td>\n",
       "      <td>0.37</td>\n",
       "      <td>0.20</td>\n",
       "      <td>0.02</td>\n",
       "      <td>0.00</td>\n",
       "    </tr>\n",
       "  </tbody>\n",
       "</table>\n",
       "</div>"
      ],
      "text/plain": [
       "     x_0  x_1  x_2  x_3  x_4  x_5  x_6  x_7  x_8  x_9\n",
       "x_0 0.00 0.31 0.14 0.05 0.01 0.22 0.17 0.40 0.09 0.04\n",
       "x_1 0.31 0.00 0.04 0.59 0.28 0.95 0.86 0.13 0.06 0.15\n",
       "x_2 0.14 0.04 0.00 0.35 0.15 0.59 0.52 0.23 0.01 0.06\n",
       "x_3 0.05 0.59 0.35 0.00 0.07 0.10 0.08 0.66 0.28 0.16\n",
       "x_4 0.01 0.28 0.15 0.07 0.00 0.30 0.24 0.31 0.09 0.02\n",
       "x_5 0.22 0.95 0.59 0.10 0.30 0.00 0.00 1.20 0.54 0.43\n",
       "x_6 0.17 0.86 0.52 0.08 0.24 0.00 0.00 1.09 0.47 0.37\n",
       "x_7 0.40 0.13 0.23 0.66 0.31 1.20 1.09 0.00 0.18 0.20\n",
       "x_8 0.09 0.06 0.01 0.28 0.09 0.54 0.47 0.18 0.00 0.02\n",
       "x_9 0.04 0.15 0.06 0.16 0.02 0.43 0.37 0.20 0.02 0.00"
      ]
     },
     "execution_count": 40,
     "metadata": {},
     "output_type": "execute_result"
    }
   ],
   "source": [
    "pd.set_option('display.float_format', '{:.2f}'.format)\n",
    "pd.DataFrame(dist_sq, index=ind_col,columns=ind_col)"
   ]
  },
  {
   "cell_type": "code",
   "execution_count": 41,
   "id": "04088f88",
   "metadata": {},
   "outputs": [
    {
     "data": {
      "text/plain": [
       "array([0., 0., 0., 0., 0., 0., 0., 0., 0., 0.])"
      ]
     },
     "execution_count": 41,
     "metadata": {},
     "output_type": "execute_result"
    }
   ],
   "source": [
    "dist_sq.diagonal()"
   ]
  },
  {
   "cell_type": "code",
   "execution_count": 42,
   "id": "5540925b",
   "metadata": {},
   "outputs": [
    {
     "data": {
      "text/plain": [
       "array([[0, 1, 2, 3, 4, 5, 6, 7, 8, 9],\n",
       "       [4, 2, 8, 0, 0, 6, 5, 1, 2, 4],\n",
       "       [9, 8, 1, 4, 9, 3, 3, 8, 9, 8],\n",
       "       [3, 7, 9, 6, 3, 0, 0, 9, 1, 0],\n",
       "       [8, 9, 0, 5, 8, 4, 4, 2, 4, 2],\n",
       "       [2, 4, 4, 9, 2, 9, 9, 4, 0, 1],\n",
       "       [6, 0, 7, 8, 6, 8, 8, 0, 7, 3],\n",
       "       [5, 3, 3, 2, 1, 2, 2, 3, 3, 7],\n",
       "       [1, 6, 6, 1, 5, 1, 1, 6, 6, 6],\n",
       "       [7, 5, 5, 7, 7, 7, 7, 5, 5, 5]], dtype=int64)"
      ]
     },
     "execution_count": 42,
     "metadata": {},
     "output_type": "execute_result"
    }
   ],
   "source": [
    "nearest = np.argsort(dist_sq, axis=0)\n",
    "nearest"
   ]
  },
  {
   "cell_type": "code",
   "execution_count": 43,
   "id": "847900cb",
   "metadata": {},
   "outputs": [
    {
     "data": {
      "text/plain": [
       "array([[0, 4, 9, 3, 8, 2, 6, 7, 1, 5],\n",
       "       [1, 2, 8, 7, 9, 4, 6, 5, 3, 0],\n",
       "       [2, 8, 1, 9, 0, 5, 6, 7, 3, 4],\n",
       "       [3, 0, 4, 6, 5, 9, 1, 7, 8, 2],\n",
       "       [4, 0, 9, 3, 8, 2, 6, 7, 1, 5],\n",
       "       [6, 5, 3, 0, 4, 1, 2, 7, 8, 9],\n",
       "       [6, 5, 3, 0, 4, 1, 2, 7, 8, 9],\n",
       "       [7, 1, 8, 9, 2, 4, 6, 5, 3, 0],\n",
       "       [2, 8, 9, 1, 4, 5, 6, 7, 3, 0],\n",
       "       [9, 4, 8, 0, 2, 3, 6, 7, 1, 5]], dtype=int64)"
      ]
     },
     "execution_count": 43,
     "metadata": {},
     "output_type": "execute_result"
    }
   ],
   "source": [
    "K = 2\n",
    "nearest_partition =  np.argpartition(dist_sq, K+1, axis=1)\n",
    "nearest_partition"
   ]
  },
  {
   "cell_type": "code",
   "execution_count": null,
   "id": "444e0d25",
   "metadata": {},
   "outputs": [],
   "source": []
  },
  {
   "cell_type": "code",
   "execution_count": null,
   "id": "855205d0",
   "metadata": {},
   "outputs": [],
   "source": []
  }
 ],
 "metadata": {
  "kernelspec": {
   "display_name": "Python 3 (ipykernel)",
   "language": "python",
   "name": "python3"
  },
  "language_info": {
   "codemirror_mode": {
    "name": "ipython",
    "version": 3
   },
   "file_extension": ".py",
   "mimetype": "text/x-python",
   "name": "python",
   "nbconvert_exporter": "python",
   "pygments_lexer": "ipython3",
   "version": "3.11.3"
  }
 },
 "nbformat": 4,
 "nbformat_minor": 5
}
