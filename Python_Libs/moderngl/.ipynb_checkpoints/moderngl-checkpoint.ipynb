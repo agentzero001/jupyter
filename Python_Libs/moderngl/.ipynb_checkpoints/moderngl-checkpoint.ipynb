{
 "cells": [
  {
   "cell_type": "code",
   "execution_count": 21,
   "id": "4f61d233",
   "metadata": {},
   "outputs": [],
   "source": [
    "import moderngl\n",
    "import numpy as np\n",
    "from PIL import Image\n",
    "import matplotlib.pyplot as plt\n",
    "plt.style.use('dark_background')"
   ]
  },
  {
   "cell_type": "code",
   "execution_count": 22,
   "id": "cf1f77df",
   "metadata": {},
   "outputs": [
    {
     "name": "stdout",
     "output_type": "stream",
     "text": [
      "Overwriting default.vert\n"
     ]
    }
   ],
   "source": [
    "%%file default.vert\n",
    "#version 330\n",
    "\n",
    "in vec2 in_vert;\n",
    "in vec3 in_color;\n",
    "\n",
    "out vec3 v_color;\n",
    "\n",
    "void main() {\n",
    "\n",
    "    v_color = in_color;\n",
    "    gl_Position = vec4(in_vert, 0.0, 1.0);\n",
    "}"
   ]
  },
  {
   "cell_type": "code",
   "execution_count": 23,
   "id": "61a2ae4d",
   "metadata": {},
   "outputs": [
    {
     "name": "stdout",
     "output_type": "stream",
     "text": [
      "Overwriting default.frag\n"
     ]
    }
   ],
   "source": [
    "%%file default.frag\n",
    "#version 330\n",
    "\n",
    "in vec3 v_color;\n",
    "out vec3 f_color;\n",
    "\n",
    "void main() {\n",
    "   f_color = v_color;\n",
    "}"
   ]
  },
  {
   "cell_type": "code",
   "execution_count": 24,
   "id": "11ebeffa",
   "metadata": {},
   "outputs": [
    {
     "name": "stdout",
     "output_type": "stream",
     "text": [
      "#version 330\n",
      "\n",
      "in vec2 in_vert;\n",
      "in vec3 in_color;\n",
      "\n",
      "out vec3 v_color;\n",
      "\n",
      "void main() {\n",
      "\n",
      "    v_color = in_color;\n",
      "    gl_Position = vec4(in_vert, 0.0, 1.0);\n",
      "}\n",
      "\n",
      "\n",
      "#version 330\n",
      "\n",
      "in vec3 v_color;\n",
      "out vec3 f_color;\n",
      "\n",
      "void main() {\n",
      "   f_color = v_color;\n",
      "}\n",
      "\n"
     ]
    }
   ],
   "source": [
    "ctx = moderngl.create_standalone_context()\n",
    "\n",
    "with open('default.vert') as file:\n",
    "    vertex_shader = file.read()\n",
    "    \n",
    "with open('default.frag') as file:\n",
    "    fragment_shader = file.read()\n",
    "    \n",
    "print(vertex_shader + '\\n')\n",
    "print(fragment_shader)"
   ]
  },
  {
   "cell_type": "code",
   "execution_count": 25,
   "id": "051cc6f9",
   "metadata": {},
   "outputs": [
    {
     "data": {
      "text/plain": [
       "<matplotlib.image.AxesImage at 0x1d9ad84b490>"
      ]
     },
     "execution_count": 25,
     "metadata": {},
     "output_type": "execute_result"
    },
    {
     "data": {
      "image/png": "[encoded data removed]",
      "text/plain": [
       "<Figure size 640x480 with 1 Axes>"
      ]
     },
     "metadata": {},
     "output_type": "display_data"
    }
   ],
   "source": [
    "prog = ctx.program(vertex_shader=vertex_shader,fragment_shader=fragment_shader)\n",
    "\n",
    "num_vert = 100\n",
    "\n",
    "x = np.linspace(-1, 1, num_vert)\n",
    "y = np.random.rand(num_vert)\n",
    "r = np.ones(num_vert)\n",
    "g = np.random.randn(num_vert)\n",
    "b = np.random.randn(num_vert)\n",
    "vertices = np.dstack([x, y, r, g, b])\n",
    "\n",
    "vbo = ctx.buffer(vertices.astype('f4').tobytes())\n",
    "vao = ctx.simple_vertex_array(prog, vbo, 'in_vert', 'in_color')\n",
    "fbo = ctx.simple_framebuffer((512, 512))\n",
    "fbo.use()\n",
    "fbo.clear(.0, .0, .0, 1.0)\n",
    "\n",
    "vao.render(moderngl.LINE_STRIP)\n",
    "\n",
    "plt.imshow(Image.frombytes('RGB', fbo.size, fbo.read(), 'raw', 'RGB', 0, -1))"
   ]
  },
  {
   "cell_type": "code",
   "execution_count": 26,
   "id": "5ff92152",
   "metadata": {},
   "outputs": [],
   "source": [
    "import numpy as np"
   ]
  },
  {
   "cell_type": "code",
   "execution_count": 27,
   "id": "729f0eb6",
   "metadata": {},
   "outputs": [
    {
     "data": {
      "text/plain": [
       "array([[-1., -1.,  1.],\n",
       "       [ 1.,  1.,  1.],\n",
       "       [-1.,  1.,  1.],\n",
       "       [-1., -1.,  1.],\n",
       "       [ 1., -1.,  1.],\n",
       "       [ 1.,  1.,  1.],\n",
       "       [ 1., -1.,  1.],\n",
       "       [ 1.,  1., -1.],\n",
       "       [ 1.,  1.,  1.],\n",
       "       [ 1., -1.,  1.],\n",
       "       [ 1., -1., -1.],\n",
       "       [ 1.,  1., -1.],\n",
       "       [ 1., -1., -1.],\n",
       "       [-1., -1., -1.],\n",
       "       [-1.,  1., -1.],\n",
       "       [-1.,  1., -1.],\n",
       "       [ 1.,  1., -1.],\n",
       "       [ 1., -1., -1.],\n",
       "       [-1.,  1.,  1.],\n",
       "       [-1.,  1., -1.],\n",
       "       [-1., -1., -1.],\n",
       "       [-1.,  1.,  1.],\n",
       "       [-1., -1., -1.],\n",
       "       [-1., -1.,  1.],\n",
       "       [-1., -1.,  1.],\n",
       "       [ 1., -1., -1.],\n",
       "       [ 1., -1.,  1.],\n",
       "       [-1., -1.,  1.],\n",
       "       [-1., -1., -1.],\n",
       "       [ 1., -1., -1.]], dtype=float32)"
      ]
     },
     "execution_count": 27,
     "metadata": {},
     "output_type": "execute_result"
    }
   ],
   "source": [
    "def get_vertex_data():\n",
    "        vertices = np.array([(-1, -1, 1), (1, -1, 1), (1, 1, 1), (-1, 1, 1),\n",
    "                             (-1, 1, -1), (-1, -1, -1), (1, -1, -1), (1, 1, -1)], dtype='f4')\n",
    "        indices = [(0, 2, 3), (0, 1, 2),\n",
    "                   (1, 7, 2), (1, 6, 7),\n",
    "                   (6, 5, 4), (4, 7, 6),\n",
    "                   (3, 4, 5), (3, 5, 0),\n",
    "                   (0, 6, 1), (0, 5, 6)]\n",
    "        \n",
    "        return get_data(vertices, indices)\n",
    "\n",
    "@staticmethod\n",
    "def get_data(vertices, indices):\n",
    "    return np.array([vertices[ind] for triangle in indices for ind in triangle], dtype='f4') \n",
    "\n",
    "get_vertex_data()"
   ]
  },
  {
   "cell_type": "code",
   "execution_count": 28,
   "id": "78668b41",
   "metadata": {},
   "outputs": [],
   "source": [
    "vertices = np.array([(-1, -1, 1), (1, -1, 1), (1, 1, 1), (-1, 1, 1),\n",
    "                     (-1, 1, -1), (-1, -1, -1), (1, -1, -1), (1, 1, -1)], dtype='f4')\n",
    "indices = [(0, 2, 3), (0, 1, 2),\n",
    "                   (1, 7, 2), (1, 6, 7),\n",
    "                   (6, 5, 4), (4, 7, 6),\n",
    "                   (3, 4, 5), (3, 5, 0),\n",
    "                   (0, 6, 1), (0, 5, 6)]"
   ]
  },
  {
   "cell_type": "code",
   "execution_count": 29,
   "id": "3931cfb0",
   "metadata": {},
   "outputs": [
    {
     "data": {
      "text/plain": [
       "(array([-1., -1.,  1.], dtype=float32),\n",
       " array([1., 1., 1.], dtype=float32),\n",
       " array([-1.,  1.,  1.], dtype=float32))"
      ]
     },
     "execution_count": 29,
     "metadata": {},
     "output_type": "execute_result"
    }
   ],
   "source": [
    "vertices[0], vertices[2], vertices[3]"
   ]
  },
  {
   "cell_type": "code",
   "execution_count": 30,
   "id": "16954462",
   "metadata": {},
   "outputs": [
    {
     "data": {
      "text/plain": [
       "[array([-1., -1.,  1.], dtype=float32),\n",
       " array([1., 1., 1.], dtype=float32),\n",
       " array([-1.,  1.,  1.], dtype=float32),\n",
       " array([-1., -1.,  1.], dtype=float32),\n",
       " array([ 1., -1.,  1.], dtype=float32),\n",
       " array([1., 1., 1.], dtype=float32),\n",
       " array([ 1., -1.,  1.], dtype=float32),\n",
       " array([ 1.,  1., -1.], dtype=float32),\n",
       " array([1., 1., 1.], dtype=float32),\n",
       " array([ 1., -1.,  1.], dtype=float32),\n",
       " array([ 1., -1., -1.], dtype=float32),\n",
       " array([ 1.,  1., -1.], dtype=float32),\n",
       " array([ 1., -1., -1.], dtype=float32),\n",
       " array([-1., -1., -1.], dtype=float32),\n",
       " array([-1.,  1., -1.], dtype=float32),\n",
       " array([-1.,  1., -1.], dtype=float32),\n",
       " array([ 1.,  1., -1.], dtype=float32),\n",
       " array([ 1., -1., -1.], dtype=float32),\n",
       " array([-1.,  1.,  1.], dtype=float32),\n",
       " array([-1.,  1., -1.], dtype=float32),\n",
       " array([-1., -1., -1.], dtype=float32),\n",
       " array([-1.,  1.,  1.], dtype=float32),\n",
       " array([-1., -1., -1.], dtype=float32),\n",
       " array([-1., -1.,  1.], dtype=float32),\n",
       " array([-1., -1.,  1.], dtype=float32),\n",
       " array([ 1., -1., -1.], dtype=float32),\n",
       " array([ 1., -1.,  1.], dtype=float32),\n",
       " array([-1., -1.,  1.], dtype=float32),\n",
       " array([-1., -1., -1.], dtype=float32),\n",
       " array([ 1., -1., -1.], dtype=float32)]"
      ]
     },
     "execution_count": 30,
     "metadata": {},
     "output_type": "execute_result"
    }
   ],
   "source": [
    "L = []\n",
    "for triangle in indices:\n",
    "    for ind in triangle:\n",
    "        L.append(vertices[ind])      \n",
    "L"
   ]
  },
  {
   "cell_type": "code",
   "execution_count": null,
   "id": "c3243bd7",
   "metadata": {},
   "outputs": [],
   "source": []
  }
 ],
 "metadata": {
  "kernelspec": {
   "display_name": "Python 3 (ipykernel)",
   "language": "python",
   "name": "python3"
  },
  "language_info": {
   "codemirror_mode": {
    "name": "ipython",
    "version": 3
   },
   "file_extension": ".py",
   "mimetype": "text/x-python",
   "name": "python",
   "nbconvert_exporter": "python",
   "pygments_lexer": "ipython3",
   "version": "3.11.5"
  }
 },
 "nbformat": 4,
 "nbformat_minor": 5
}
