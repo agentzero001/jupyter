{
 "cells": [
  {
   "cell_type": "code",
   "execution_count": 2,
   "id": "f88d89b8",
   "metadata": {},
   "outputs": [],
   "source": [
    "import pandas as pd\n",
    "import numpy as np"
   ]
  },
  {
   "cell_type": "code",
   "execution_count": 3,
   "id": "b9c172e0",
   "metadata": {},
   "outputs": [
    {
     "name": "stdout",
     "output_type": "stream",
     "text": [
      "ValueError: Trailing data\n"
     ]
    }
   ],
   "source": [
    "try:\n",
    "    recipes = pd.read_json(r'C:\\Users\\jensm\\Desktop\\local\\GitHub\\recipeitems-latest.json')\n",
    "except ValueError as e:\n",
    "    print(\"ValueError:\", e)"
   ]
  },
  {
   "cell_type": "code",
   "execution_count": 4,
   "id": "f6c79277",
   "metadata": {},
   "outputs": [],
   "source": [
    "import json\n",
    "\n",
    "json_objects = []\n",
    "\n",
    "with open(r'C:\\Users\\jensm\\Desktop\\local\\GitHub\\recipeitems-latest.json', 'r', encoding='utf-8') as f:\n",
    "    for line in f:\n",
    "        json_objects.append(json.loads(line.strip()))\n",
    "\n",
    "combined_json = json.dumps(json_objects)\n",
    "\n",
    "#with open('combined_recipes.json', 'w', encoding='utf-8') as f:\n",
    "#    f.write(combined_json)"
   ]
  },
  {
   "cell_type": "code",
   "execution_count": 5,
   "id": "db630a56",
   "metadata": {},
   "outputs": [],
   "source": [
    "recipes = pd.read_json(combined_json)"
   ]
  },
  {
   "cell_type": "code",
   "execution_count": 6,
   "id": "8a4c47fa",
   "metadata": {},
   "outputs": [
    {
     "name": "stdout",
     "output_type": "stream",
     "text": [
      "<class 'pandas.core.frame.DataFrame'>\n",
      "RangeIndex: 173278 entries, 0 to 173277\n",
      "Data columns (total 17 columns):\n",
      " #   Column              Non-Null Count   Dtype \n",
      "---  ------              --------------   ----- \n",
      " 0   _id                 173278 non-null  object\n",
      " 1   name                173278 non-null  object\n",
      " 2   ingredients         173278 non-null  object\n",
      " 3   url                 173278 non-null  object\n",
      " 4   image               158278 non-null  object\n",
      " 5   ts                  173278 non-null  object\n",
      " 6   cookTime            117936 non-null  object\n",
      " 7   source              173278 non-null  object\n",
      " 8   recipeYield         165628 non-null  object\n",
      " 9   datePublished       78110 non-null   object\n",
      " 10  prepTime            130186 non-null  object\n",
      " 11  description         158068 non-null  object\n",
      " 12  totalTime           1570 non-null    object\n",
      " 13  creator             395 non-null     object\n",
      " 14  recipeCategory      388 non-null     object\n",
      " 15  dateModified        161 non-null     object\n",
      " 16  recipeInstructions  4 non-null       object\n",
      "dtypes: object(17)\n",
      "memory usage: 22.5+ MB\n"
     ]
    },
    {
     "data": {
      "text/plain": [
       "(173278, 17)"
      ]
     },
     "execution_count": 6,
     "metadata": {},
     "output_type": "execute_result"
    }
   ],
   "source": [
    "recipes.info(); recipes.shape"
   ]
  },
  {
   "cell_type": "code",
   "execution_count": 7,
   "id": "f25924af",
   "metadata": {},
   "outputs": [
    {
     "data": {
      "text/plain": [
       "'Late Saturday afternoon, after Marlboro Man had returned home with the soccer-playing girls, and I had returned home with the...'"
      ]
     },
     "execution_count": 7,
     "metadata": {},
     "output_type": "execute_result"
    }
   ],
   "source": [
    "#with the what?\n",
    "recipes.loc[0,'description']"
   ]
  },
  {
   "cell_type": "code",
   "execution_count": 8,
   "id": "28dd8cf7",
   "metadata": {},
   "outputs": [
    {
     "data": {
      "text/plain": [
       "20"
      ]
     },
     "execution_count": 8,
     "metadata": {},
     "output_type": "execute_result"
    }
   ],
   "source": [
    "pd.options.display.max_colwidth = 20\n",
    "pd.options.display.max_colwidth"
   ]
  },
  {
   "cell_type": "code",
   "execution_count": 9,
   "id": "18fb2a2a",
   "metadata": {},
   "outputs": [
    {
     "data": {
      "text/plain": [
       "_id                   {'$oid': '516075...\n",
       "name                  Drop Biscuits an...\n",
       "ingredients           Biscuits\\n3 cups...\n",
       "url                   http://thepionee...\n",
       "image                 http://static.th...\n",
       "ts                    {'$date': 136527...\n",
       "cookTime                            PT30M\n",
       "source                    thepioneerwoman\n",
       "recipeYield                            12\n",
       "datePublished                  2013-03-11\n",
       "prepTime                            PT10M\n",
       "description           Late Saturday af...\n",
       "totalTime                             NaN\n",
       "creator                               NaN\n",
       "recipeCategory                        NaN\n",
       "dateModified                          NaN\n",
       "recipeInstructions                    NaN\n",
       "Name: 0, dtype: object"
      ]
     },
     "execution_count": 9,
     "metadata": {},
     "output_type": "execute_result"
    }
   ],
   "source": [
    "recipes.iloc[0]"
   ]
  },
  {
   "cell_type": "code",
   "execution_count": 10,
   "id": "aec40a36",
   "metadata": {},
   "outputs": [
    {
     "data": {
      "text/html": [
       "<div>\n",
       "<style scoped>\n",
       "    .dataframe tbody tr th:only-of-type {\n",
       "        vertical-align: middle;\n",
       "    }\n",
       "\n",
       "    .dataframe tbody tr th {\n",
       "        vertical-align: top;\n",
       "    }\n",
       "\n",
       "    .dataframe thead th {\n",
       "        text-align: right;\n",
       "    }\n",
       "</style>\n",
       "<table border=\"1\" class=\"dataframe\">\n",
       "  <thead>\n",
       "    <tr style=\"text-align: right;\">\n",
       "      <th></th>\n",
       "      <th>_id</th>\n",
       "      <th>name</th>\n",
       "      <th>ingredients</th>\n",
       "      <th>url</th>\n",
       "      <th>image</th>\n",
       "      <th>ts</th>\n",
       "      <th>cookTime</th>\n",
       "      <th>source</th>\n",
       "      <th>recipeYield</th>\n",
       "      <th>datePublished</th>\n",
       "      <th>prepTime</th>\n",
       "      <th>description</th>\n",
       "      <th>totalTime</th>\n",
       "      <th>creator</th>\n",
       "      <th>recipeCategory</th>\n",
       "      <th>dateModified</th>\n",
       "      <th>recipeInstructions</th>\n",
       "    </tr>\n",
       "  </thead>\n",
       "  <tbody>\n",
       "    <tr>\n",
       "      <th>0</th>\n",
       "      <td>{'$oid': '516075...</td>\n",
       "      <td>Drop Biscuits an...</td>\n",
       "      <td>Biscuits\\n3 cups...</td>\n",
       "      <td>http://thepionee...</td>\n",
       "      <td>http://static.th...</td>\n",
       "      <td>{'$date': 136527...</td>\n",
       "      <td>PT30M</td>\n",
       "      <td>thepioneerwoman</td>\n",
       "      <td>12</td>\n",
       "      <td>2013-03-11</td>\n",
       "      <td>PT10M</td>\n",
       "      <td>Late Saturday af...</td>\n",
       "      <td>NaN</td>\n",
       "      <td>NaN</td>\n",
       "      <td>NaN</td>\n",
       "      <td>NaN</td>\n",
       "      <td>NaN</td>\n",
       "    </tr>\n",
       "    <tr>\n",
       "      <th>1</th>\n",
       "      <td>{'$oid': '516075...</td>\n",
       "      <td>Hot Roast Beef S...</td>\n",
       "      <td>12 whole Dinner ...</td>\n",
       "      <td>http://thepionee...</td>\n",
       "      <td>http://static.th...</td>\n",
       "      <td>{'$date': 136527...</td>\n",
       "      <td>PT20M</td>\n",
       "      <td>thepioneerwoman</td>\n",
       "      <td>12</td>\n",
       "      <td>2013-03-13</td>\n",
       "      <td>PT20M</td>\n",
       "      <td>When I was growi...</td>\n",
       "      <td>NaN</td>\n",
       "      <td>NaN</td>\n",
       "      <td>NaN</td>\n",
       "      <td>NaN</td>\n",
       "      <td>NaN</td>\n",
       "    </tr>\n",
       "    <tr>\n",
       "      <th>2</th>\n",
       "      <td>{'$oid': '516075...</td>\n",
       "      <td>Morrocan Carrot ...</td>\n",
       "      <td>Dressing:\\n1 tab...</td>\n",
       "      <td>http://www.101co...</td>\n",
       "      <td>http://www.101co...</td>\n",
       "      <td>{'$date': 136527...</td>\n",
       "      <td>NaN</td>\n",
       "      <td>101cookbooks</td>\n",
       "      <td>NaN</td>\n",
       "      <td>2013-01-07</td>\n",
       "      <td>PT15M</td>\n",
       "      <td>A beauty of a ca...</td>\n",
       "      <td>NaN</td>\n",
       "      <td>NaN</td>\n",
       "      <td>NaN</td>\n",
       "      <td>NaN</td>\n",
       "      <td>NaN</td>\n",
       "    </tr>\n",
       "    <tr>\n",
       "      <th>3</th>\n",
       "      <td>{'$oid': '516075...</td>\n",
       "      <td>Mixed Berry Shor...</td>\n",
       "      <td>Biscuits\\n3 cups...</td>\n",
       "      <td>http://thepionee...</td>\n",
       "      <td>http://static.th...</td>\n",
       "      <td>{'$date': 136527...</td>\n",
       "      <td>PT15M</td>\n",
       "      <td>thepioneerwoman</td>\n",
       "      <td>8</td>\n",
       "      <td>2013-03-18</td>\n",
       "      <td>PT15M</td>\n",
       "      <td>It's Monday! It'...</td>\n",
       "      <td>NaN</td>\n",
       "      <td>NaN</td>\n",
       "      <td>NaN</td>\n",
       "      <td>NaN</td>\n",
       "      <td>NaN</td>\n",
       "    </tr>\n",
       "    <tr>\n",
       "      <th>4</th>\n",
       "      <td>{'$oid': '516075...</td>\n",
       "      <td>Pomegranate Yogu...</td>\n",
       "      <td>For each bowl: \\...</td>\n",
       "      <td>http://www.101co...</td>\n",
       "      <td>http://www.101co...</td>\n",
       "      <td>{'$date': 136527...</td>\n",
       "      <td>NaN</td>\n",
       "      <td>101cookbooks</td>\n",
       "      <td>Serves 1.</td>\n",
       "      <td>2013-01-20</td>\n",
       "      <td>PT5M</td>\n",
       "      <td>A simple breakfa...</td>\n",
       "      <td>NaN</td>\n",
       "      <td>NaN</td>\n",
       "      <td>NaN</td>\n",
       "      <td>NaN</td>\n",
       "      <td>NaN</td>\n",
       "    </tr>\n",
       "  </tbody>\n",
       "</table>\n",
       "</div>"
      ],
      "text/plain": [
       "                   _id                 name          ingredients  \\\n",
       "0  {'$oid': '516075...  Drop Biscuits an...  Biscuits\\n3 cups...   \n",
       "1  {'$oid': '516075...  Hot Roast Beef S...  12 whole Dinner ...   \n",
       "2  {'$oid': '516075...  Morrocan Carrot ...  Dressing:\\n1 tab...   \n",
       "3  {'$oid': '516075...  Mixed Berry Shor...  Biscuits\\n3 cups...   \n",
       "4  {'$oid': '516075...  Pomegranate Yogu...  For each bowl: \\...   \n",
       "\n",
       "                   url                image                   ts cookTime  \\\n",
       "0  http://thepionee...  http://static.th...  {'$date': 136527...    PT30M   \n",
       "1  http://thepionee...  http://static.th...  {'$date': 136527...    PT20M   \n",
       "2  http://www.101co...  http://www.101co...  {'$date': 136527...      NaN   \n",
       "3  http://thepionee...  http://static.th...  {'$date': 136527...    PT15M   \n",
       "4  http://www.101co...  http://www.101co...  {'$date': 136527...      NaN   \n",
       "\n",
       "            source recipeYield datePublished prepTime          description  \\\n",
       "0  thepioneerwoman          12    2013-03-11    PT10M  Late Saturday af...   \n",
       "1  thepioneerwoman          12    2013-03-13    PT20M  When I was growi...   \n",
       "2     101cookbooks         NaN    2013-01-07    PT15M  A beauty of a ca...   \n",
       "3  thepioneerwoman           8    2013-03-18    PT15M  It's Monday! It'...   \n",
       "4     101cookbooks   Serves 1.    2013-01-20     PT5M  A simple breakfa...   \n",
       "\n",
       "  totalTime creator recipeCategory dateModified recipeInstructions  \n",
       "0       NaN     NaN            NaN          NaN                NaN  \n",
       "1       NaN     NaN            NaN          NaN                NaN  \n",
       "2       NaN     NaN            NaN          NaN                NaN  \n",
       "3       NaN     NaN            NaN          NaN                NaN  \n",
       "4       NaN     NaN            NaN          NaN                NaN  "
      ]
     },
     "execution_count": 10,
     "metadata": {},
     "output_type": "execute_result"
    }
   ],
   "source": [
    "recipes.head()"
   ]
  },
  {
   "cell_type": "code",
   "execution_count": 14,
   "id": "3f1df44c",
   "metadata": {},
   "outputs": [
    {
     "data": {
      "text/plain": [
       "'http://static.thepioneerwoman.com/cooking/files/2013/03/DSC_9637.jpg'"
      ]
     },
     "execution_count": 14,
     "metadata": {},
     "output_type": "execute_result"
    }
   ],
   "source": [
    "recipes.iloc[5].image"
   ]
  },
  {
   "cell_type": "code",
   "execution_count": 15,
   "id": "4f5f7b2c",
   "metadata": {},
   "outputs": [
    {
     "data": {
      "text/plain": [
       "count    173278.000000\n",
       "mean        244.617343\n",
       "std         146.704308\n",
       "min           0.000000\n",
       "25%         147.000000\n",
       "50%         221.000000\n",
       "75%         314.000000\n",
       "max        9067.000000\n",
       "Name: ingredients, dtype: float64"
      ]
     },
     "execution_count": 15,
     "metadata": {},
     "output_type": "execute_result"
    }
   ],
   "source": [
    "recipes.ingredients.str.len().describe()"
   ]
  },
  {
   "cell_type": "code",
   "execution_count": 32,
   "id": "9c47fe1b",
   "metadata": {},
   "outputs": [
    {
     "data": {
      "text/plain": [
       "0    i\n",
       "1    2\n",
       "2    r\n",
       "3    i\n",
       "4    o\n",
       "Name: ingredients, dtype: object"
      ]
     },
     "execution_count": 32,
     "metadata": {},
     "output_type": "execute_result"
    }
   ],
   "source": [
    "recipes.ingredients.str[1][:5]"
   ]
  },
  {
   "cell_type": "code",
   "execution_count": 16,
   "id": "4aabea54",
   "metadata": {},
   "outputs": [
    {
     "data": {
      "text/plain": [
       "'Carrot Pineapple Spice &amp; Brownie Layer Cake with Whipped Cream &amp; Cream Cheese Frosting and Marzipan Carrots'"
      ]
     },
     "execution_count": 16,
     "metadata": {},
     "output_type": "execute_result"
    }
   ],
   "source": [
    "recipes.name[np.argmax(recipes.ingredients.str.len())]"
   ]
  },
  {
   "cell_type": "code",
   "execution_count": 17,
   "id": "972e5939",
   "metadata": {},
   "outputs": [
    {
     "data": {
      "text/plain": [
       "3524"
      ]
     },
     "execution_count": 17,
     "metadata": {},
     "output_type": "execute_result"
    }
   ],
   "source": [
    "recipes.description.str.contains('[Bb]reakfast').sum()"
   ]
  },
  {
   "cell_type": "code",
   "execution_count": 18,
   "id": "af4c7109",
   "metadata": {},
   "outputs": [
    {
     "data": {
      "text/plain": [
       "10526"
      ]
     },
     "execution_count": 18,
     "metadata": {},
     "output_type": "execute_result"
    }
   ],
   "source": [
    "recipes.ingredients.str.contains('[Cc]innamon').sum()"
   ]
  },
  {
   "cell_type": "code",
   "execution_count": 19,
   "id": "2050ce22",
   "metadata": {},
   "outputs": [],
   "source": [
    "spice_list = ['salt', 'pepper', 'oregano', 'sage', 'parsley',\n",
    "              'rosemary', 'tarragon', 'thyme', 'paprika', 'cumin']"
   ]
  },
  {
   "cell_type": "code",
   "execution_count": 20,
   "id": "58dc0218",
   "metadata": {},
   "outputs": [
    {
     "data": {
      "text/html": [
       "<div>\n",
       "<style scoped>\n",
       "    .dataframe tbody tr th:only-of-type {\n",
       "        vertical-align: middle;\n",
       "    }\n",
       "\n",
       "    .dataframe tbody tr th {\n",
       "        vertical-align: top;\n",
       "    }\n",
       "\n",
       "    .dataframe thead th {\n",
       "        text-align: right;\n",
       "    }\n",
       "</style>\n",
       "<table border=\"1\" class=\"dataframe\">\n",
       "  <thead>\n",
       "    <tr style=\"text-align: right;\">\n",
       "      <th></th>\n",
       "      <th>salt</th>\n",
       "      <th>pepper</th>\n",
       "      <th>oregano</th>\n",
       "      <th>sage</th>\n",
       "      <th>parsley</th>\n",
       "      <th>rosemary</th>\n",
       "      <th>tarragon</th>\n",
       "      <th>thyme</th>\n",
       "      <th>paprika</th>\n",
       "      <th>cumin</th>\n",
       "    </tr>\n",
       "  </thead>\n",
       "  <tbody>\n",
       "    <tr>\n",
       "      <th>0</th>\n",
       "      <td>False</td>\n",
       "      <td>False</td>\n",
       "      <td>False</td>\n",
       "      <td>True</td>\n",
       "      <td>False</td>\n",
       "      <td>False</td>\n",
       "      <td>False</td>\n",
       "      <td>False</td>\n",
       "      <td>False</td>\n",
       "      <td>False</td>\n",
       "    </tr>\n",
       "    <tr>\n",
       "      <th>1</th>\n",
       "      <td>False</td>\n",
       "      <td>False</td>\n",
       "      <td>False</td>\n",
       "      <td>False</td>\n",
       "      <td>False</td>\n",
       "      <td>False</td>\n",
       "      <td>False</td>\n",
       "      <td>False</td>\n",
       "      <td>False</td>\n",
       "      <td>False</td>\n",
       "    </tr>\n",
       "    <tr>\n",
       "      <th>2</th>\n",
       "      <td>True</td>\n",
       "      <td>True</td>\n",
       "      <td>False</td>\n",
       "      <td>False</td>\n",
       "      <td>False</td>\n",
       "      <td>False</td>\n",
       "      <td>False</td>\n",
       "      <td>False</td>\n",
       "      <td>False</td>\n",
       "      <td>True</td>\n",
       "    </tr>\n",
       "    <tr>\n",
       "      <th>3</th>\n",
       "      <td>False</td>\n",
       "      <td>False</td>\n",
       "      <td>False</td>\n",
       "      <td>False</td>\n",
       "      <td>False</td>\n",
       "      <td>False</td>\n",
       "      <td>False</td>\n",
       "      <td>False</td>\n",
       "      <td>False</td>\n",
       "      <td>False</td>\n",
       "    </tr>\n",
       "    <tr>\n",
       "      <th>4</th>\n",
       "      <td>False</td>\n",
       "      <td>False</td>\n",
       "      <td>False</td>\n",
       "      <td>False</td>\n",
       "      <td>False</td>\n",
       "      <td>False</td>\n",
       "      <td>False</td>\n",
       "      <td>False</td>\n",
       "      <td>False</td>\n",
       "      <td>False</td>\n",
       "    </tr>\n",
       "  </tbody>\n",
       "</table>\n",
       "</div>"
      ],
      "text/plain": [
       "    salt  pepper  oregano   sage  parsley  rosemary  tarragon  thyme  paprika  \\\n",
       "0  False   False    False   True    False     False     False  False    False   \n",
       "1  False   False    False  False    False     False     False  False    False   \n",
       "2   True    True    False  False    False     False     False  False    False   \n",
       "3  False   False    False  False    False     False     False  False    False   \n",
       "4  False   False    False  False    False     False     False  False    False   \n",
       "\n",
       "   cumin  \n",
       "0  False  \n",
       "1  False  \n",
       "2   True  \n",
       "3  False  \n",
       "4  False  "
      ]
     },
     "execution_count": 20,
     "metadata": {},
     "output_type": "execute_result"
    }
   ],
   "source": [
    "import re\n",
    "spice_df = pd.DataFrame({spice: recipes.ingredients.str.contains(spice, re.IGNORECASE)\n",
    "                             for spice in spice_list})\n",
    "spice_df.head()"
   ]
  },
  {
   "cell_type": "code",
   "execution_count": 21,
   "id": "2a918fd6",
   "metadata": {},
   "outputs": [
    {
     "data": {
      "text/plain": [
       "(True, True)"
      ]
     },
     "execution_count": 21,
     "metadata": {},
     "output_type": "execute_result"
    }
   ],
   "source": [
    "#ok alright\n",
    "recipes.iloc[2].ingredients.__contains__('salt'), 'salt' in recipes.iloc[2].ingredients"
   ]
  },
  {
   "cell_type": "code",
   "execution_count": 22,
   "id": "820a36ef",
   "metadata": {},
   "outputs": [
    {
     "data": {
      "text/plain": [
       "0         False\n",
       "1         False\n",
       "2          True\n",
       "3         False\n",
       "4         False\n",
       "          ...  \n",
       "173273    False\n",
       "173274    False\n",
       "173275     True\n",
       "173276     True\n",
       "173277     True\n",
       "Name: ingredients, Length: 173278, dtype: bool"
      ]
     },
     "execution_count": 22,
     "metadata": {},
     "output_type": "execute_result"
    }
   ],
   "source": [
    "recipes.ingredients.str.contains('salt', re.IGNORECASE)"
   ]
  },
  {
   "cell_type": "code",
   "execution_count": 23,
   "id": "42afe433",
   "metadata": {},
   "outputs": [
    {
     "data": {
      "text/plain": [
       "10"
      ]
     },
     "execution_count": 23,
     "metadata": {},
     "output_type": "execute_result"
    }
   ],
   "source": [
    "selection = spice_df.query('parsley & paprika & tarragon')\n",
    "len(selection)"
   ]
  },
  {
   "cell_type": "code",
   "execution_count": 24,
   "id": "f73c6d66",
   "metadata": {},
   "outputs": [
    {
     "data": {
      "text/plain": [
       "2069      All cremat with a Little Gem, dandelion and watercress salad served with aioli\n",
       "74964                                                      Lobster with Thermidor butter\n",
       "93768                                   Burton's Southern Fried Chicken with White Gravy\n",
       "113926                                                  Mijo's Slow Cooker Shredded Beef\n",
       "137686                                                  Asparagus Soup with Poached Eggs\n",
       "140530                                                              Fried Oyster Po’boys\n",
       "158475                                             Lamb shank tagine with herb tabbouleh\n",
       "158486                                              Southern fried chicken in buttermilk\n",
       "163175                                         Fried Chicken Sliders with Pickles + Slaw\n",
       "165243                                                     Bar Tartine Cauliflower Salad\n",
       "Name: name, dtype: object"
      ]
     },
     "execution_count": 24,
     "metadata": {},
     "output_type": "execute_result"
    }
   ],
   "source": [
    "pd.options.display.max_colwidth = 100\n",
    "recipes.name[selection.index]"
   ]
  },
  {
   "cell_type": "code",
   "execution_count": 25,
   "id": "c3d1e11a",
   "metadata": {},
   "outputs": [
    {
     "data": {
      "text/plain": [
       "Index([2069, 74964, 93768, 113926, 137686, 140530, 158475, 158486, 163175,\n",
       "       165243],\n",
       "      dtype='int64')"
      ]
     },
     "execution_count": 25,
     "metadata": {},
     "output_type": "execute_result"
    }
   ],
   "source": [
    "selection.index"
   ]
  },
  {
   "cell_type": "code",
   "execution_count": null,
   "id": "55e10b7d",
   "metadata": {},
   "outputs": [],
   "source": []
  },
  {
   "cell_type": "code",
   "execution_count": null,
   "id": "6c7948fb",
   "metadata": {},
   "outputs": [],
   "source": []
  },
  {
   "cell_type": "code",
   "execution_count": null,
   "id": "8c467f5d",
   "metadata": {},
   "outputs": [],
   "source": []
  },
  {
   "cell_type": "code",
   "execution_count": null,
   "id": "5184576f",
   "metadata": {},
   "outputs": [],
   "source": []
  },
  {
   "cell_type": "code",
   "execution_count": null,
   "id": "7e24c5ff",
   "metadata": {},
   "outputs": [],
   "source": []
  },
  {
   "cell_type": "code",
   "execution_count": null,
   "id": "9b2543aa",
   "metadata": {},
   "outputs": [],
   "source": []
  },
  {
   "cell_type": "code",
   "execution_count": null,
   "id": "ab78ccf5",
   "metadata": {},
   "outputs": [],
   "source": []
  },
  {
   "cell_type": "code",
   "execution_count": null,
   "id": "6c172de9",
   "metadata": {},
   "outputs": [],
   "source": []
  },
  {
   "cell_type": "code",
   "execution_count": null,
   "id": "e617d11d",
   "metadata": {},
   "outputs": [],
   "source": [
    "#looks like some kind of dict comprehension syntax\n",
    "display(pd.DataFrame({i: range(3) for i in range(5)}), pd.DataFrame(dict((i, range(3)) for i in range(5))))"
   ]
  },
  {
   "cell_type": "code",
   "execution_count": null,
   "id": "1b91d3d1",
   "metadata": {},
   "outputs": [],
   "source": []
  }
 ],
 "metadata": {
  "kernelspec": {
   "display_name": "Python 3 (ipykernel)",
   "language": "python",
   "name": "python3"
  },
  "language_info": {
   "codemirror_mode": {
    "name": "ipython",
    "version": 3
   },
   "file_extension": ".py",
   "mimetype": "text/x-python",
   "name": "python",
   "nbconvert_exporter": "python",
   "pygments_lexer": "ipython3",
   "version": "3.11.5"
  }
 },
 "nbformat": 4,
 "nbformat_minor": 5
}
