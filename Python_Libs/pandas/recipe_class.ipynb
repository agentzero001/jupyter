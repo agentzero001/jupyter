{
 "cells": [
  {
   "cell_type": "code",
   "execution_count": 1,
   "id": "dda2eb58",
   "metadata": {},
   "outputs": [],
   "source": [
    "import pandas as pd"
   ]
  },
  {
   "cell_type": "code",
   "execution_count": 2,
   "id": "61179615",
   "metadata": {},
   "outputs": [],
   "source": [
    "def hummus(factor):\n",
    "    def ingredient(amount, unit, name):\n",
    "        ingredientAmount = amount * factor\n",
    "        if ingredientAmount > 1:\n",
    "            unit += \"s\"\n",
    "        print(f\"{ingredientAmount} {unit} {name}\")\n",
    "    \n",
    "    ingredient(1, \"can\", \"chickpeas\")\n",
    "    ingredient(0.25, \"cup\", \"tahini\")\n",
    "    ingredient(0.25, \"cup\", \"lemon juice\")\n",
    "    ingredient(1, \"clove\", \"garlic\")\n",
    "    ingredient(2, \"tablespoon\", \"olive oil\")\n",
    "    ingredient(0.5, \"teaspoon\", \"cumin\")"
   ]
  },
  {
   "cell_type": "code",
   "execution_count": 3,
   "id": "6bc83138",
   "metadata": {},
   "outputs": [
    {
     "name": "stdout",
     "output_type": "stream",
     "text": [
      "3 cans chickpeas\n",
      "0.75 cup tahini\n",
      "0.75 cup lemon juice\n",
      "3 cloves garlic\n",
      "6 tablespoons olive oil\n",
      "1.5 teaspoons cumin\n"
     ]
    }
   ],
   "source": [
    "hummus(3)"
   ]
  },
  {
   "cell_type": "code",
   "execution_count": 4,
   "id": "2989108b",
   "metadata": {},
   "outputs": [],
   "source": [
    "class Food_:\n",
    "    def __init__(self, name):\n",
    "        self.name = name\n",
    "        self.ingredients = {}\n",
    "    \n",
    "    def add_ingredients(self, ingredients):\n",
    "        self.ingredients.update(ingredients)\n",
    "    \n",
    "    def print_recipe(self, factor):\n",
    "        print(f\"Recipe for {self.name}:\")\n",
    "        for name, ingredient in self.ingredients.items():\n",
    "            amount = ingredient[\"amount\"]\n",
    "            unit = ingredient[\"unit\"] \n",
    "            if amount > 1:\n",
    "                unit += \"s\"\n",
    "            print(f\"{amount*factor} {unit} {name}\")"
   ]
  },
  {
   "cell_type": "code",
   "execution_count": 5,
   "id": "4f7567bc",
   "metadata": {},
   "outputs": [],
   "source": [
    "class Food:\n",
    "    def __init__(self, name):\n",
    "        self.name = name\n",
    "        self.ingredients = {}\n",
    "    \n",
    "    def add_ingredients(self, ingredients):        \n",
    "        for name, data in ingredients.items():\n",
    "            amount, unit = data\n",
    "            self.ingredients[name] = {\"amount\": amount, \"unit\": unit}\n",
    "\n",
    "        \n",
    "    \n",
    "    def print_recipe(self, factor):\n",
    "        print(f\"Recipe for {self.name}:\")\n",
    "        for name, ingredient in self.ingredients.items():\n",
    "            amount = ingredient[\"amount\"]\n",
    "            unit = ingredient[\"unit\"]\n",
    "            if amount > 1:\n",
    "                unit += \"s\"\n",
    "            print(f\"{amount*factor} {unit} {name}\")\n",
    "\n",
    "            \n",
    "#using df makes a lot of sense i guess            \n",
    "    def get_df(self, factor):\n",
    "        self.df = pd.DataFrame.from_dict(ingredients)\n",
    "        self.df.index = ['amount', 'unit']\n",
    "        self.df = self.df.T\n",
    "        self.df['amount'] = self.df['amount'] * factor\n",
    "        return self.df\n",
    "    "
   ]
  },
  {
   "cell_type": "code",
   "execution_count": 6,
   "id": "ef17f5d3",
   "metadata": {},
   "outputs": [],
   "source": [
    "omlette = Food(\"Omlette\")\n",
    "ingredients = {\n",
    "    'eggs'    : [1, 'whole'],\n",
    "    'salt'    : [3, 'tablespoon'],\n",
    "    'garlic'  : [1, 'clove'],\n",
    "    'eggwhite': [100, 'gramm'] \n",
    "}\n",
    "\n",
    "omlette.add_ingredients(ingredients)"
   ]
  },
  {
   "cell_type": "code",
   "execution_count": 7,
   "id": "7c7e0247",
   "metadata": {},
   "outputs": [
    {
     "data": {
      "text/html": [
       "<div>\n",
       "<style scoped>\n",
       "    .dataframe tbody tr th:only-of-type {\n",
       "        vertical-align: middle;\n",
       "    }\n",
       "\n",
       "    .dataframe tbody tr th {\n",
       "        vertical-align: top;\n",
       "    }\n",
       "\n",
       "    .dataframe thead th {\n",
       "        text-align: right;\n",
       "    }\n",
       "</style>\n",
       "<table border=\"1\" class=\"dataframe\">\n",
       "  <thead>\n",
       "    <tr style=\"text-align: right;\">\n",
       "      <th></th>\n",
       "      <th>amount</th>\n",
       "      <th>unit</th>\n",
       "    </tr>\n",
       "  </thead>\n",
       "  <tbody>\n",
       "    <tr>\n",
       "      <th>eggs</th>\n",
       "      <td>3</td>\n",
       "      <td>whole</td>\n",
       "    </tr>\n",
       "    <tr>\n",
       "      <th>salt</th>\n",
       "      <td>9</td>\n",
       "      <td>tablespoon</td>\n",
       "    </tr>\n",
       "    <tr>\n",
       "      <th>garlic</th>\n",
       "      <td>3</td>\n",
       "      <td>clove</td>\n",
       "    </tr>\n",
       "    <tr>\n",
       "      <th>eggwhite</th>\n",
       "      <td>300</td>\n",
       "      <td>gramm</td>\n",
       "    </tr>\n",
       "  </tbody>\n",
       "</table>\n",
       "</div>"
      ],
      "text/plain": [
       "         amount        unit\n",
       "eggs          3       whole\n",
       "salt          9  tablespoon\n",
       "garlic        3       clove\n",
       "eggwhite    300       gramm"
      ]
     },
     "execution_count": 7,
     "metadata": {},
     "output_type": "execute_result"
    }
   ],
   "source": [
    "omlette.get_df(3)"
   ]
  },
  {
   "cell_type": "code",
   "execution_count": 8,
   "id": "96dc245a",
   "metadata": {},
   "outputs": [
    {
     "name": "stdout",
     "output_type": "stream",
     "text": [
      "eggs [1, 'whole']\n",
      "salt [3, 'tablespoon']\n",
      "garlic [1, 'clove']\n",
      "eggwhite [100, 'gramm']\n"
     ]
    }
   ],
   "source": [
    "for name, items in ingredients.items():\n",
    "    print(name, items)"
   ]
  },
  {
   "cell_type": "code",
   "execution_count": 9,
   "id": "068a7a93",
   "metadata": {},
   "outputs": [
    {
     "name": "stdout",
     "output_type": "stream",
     "text": [
      "Recipe for Omlette:\n",
      "3 whole eggs\n",
      "9 tablespoons salt\n",
      "3 clove garlic\n",
      "300 gramms eggwhite\n"
     ]
    }
   ],
   "source": [
    "omlette.print_recipe(3)"
   ]
  },
  {
   "cell_type": "code",
   "execution_count": 10,
   "id": "f5b427b1",
   "metadata": {},
   "outputs": [
    {
     "name": "stdout",
     "output_type": "stream",
     "text": [
      "('eggs', [1, 'whole'])\n",
      "('salt', [3, 'tablespoon'])\n",
      "('garlic', [1, 'clove'])\n",
      "('eggwhite', [100, 'gramm'])\n"
     ]
    }
   ],
   "source": [
    "for i in ingredients.items():\n",
    "    print(i)"
   ]
  },
  {
   "cell_type": "code",
   "execution_count": 11,
   "id": "1883024a",
   "metadata": {},
   "outputs": [],
   "source": [
    "import json"
   ]
  },
  {
   "cell_type": "code",
   "execution_count": 12,
   "id": "7cf3cd79",
   "metadata": {},
   "outputs": [],
   "source": [
    "#notice that these are example recipes, nothing i would cook for myself\n",
    "recipes = {\n",
    "    'omlette': {\n",
    "        'eggs'    : [1, 'whole'],\n",
    "        'salt'    : [3, 'tablespoon'],\n",
    "        'garlic'  : [1, 'clove'],\n",
    "        'eggwhite': [100, 'gramm']\n",
    "    },\n",
    "    'pancakes': {\n",
    "        'flour': [200, 'grams'],\n",
    "        'milk': [250, 'milliliters'],\n",
    "        'eggs': [2, 'whole'],\n",
    "        'sugar': [2, 'tablespoons'],\n",
    "        'baking powder': [2, 'teaspoons'],\n",
    "        'salt': [1, 'pinch']\n",
    "         },\n",
    "    'spaghetti bolognese': {\n",
    "        'spaghetti': [200, 'grams'],\n",
    "        'ground beef': [300, 'grams'],\n",
    "        'onion': [1, 'whole'],\n",
    "        'garlic': [2, 'cloves'],\n",
    "        'tomato sauce': [400, 'milliliters'],\n",
    "        'red wine': [100, 'milliliters'],\n",
    "        'olive oil': [2, 'tablespoons'],\n",
    "        'salt': [1, 'teaspoon'],\n",
    "        'pepper': [1, 'teaspoon']\n",
    "        },\n",
    "    'caesar salad': {\n",
    "        'romaine lettuce': [1, 'head'],\n",
    "        'croutons': [100, 'grams'],\n",
    "        'parmesan cheese': [50, 'grams'],\n",
    "        'chicken breast': [2, 'whole'],\n",
    "        'anchovy fillets': [4, 'whole']\n",
    "        }\n",
    "}"
   ]
  },
  {
   "cell_type": "code",
   "execution_count": 13,
   "id": "d390b7e4",
   "metadata": {},
   "outputs": [],
   "source": [
    "with open('recipes.json', 'w') as file:\n",
    "    json.dump(recipes, file)"
   ]
  },
  {
   "cell_type": "code",
   "execution_count": 14,
   "id": "f3764d0c",
   "metadata": {},
   "outputs": [],
   "source": [
    "with open('recipes.json', 'r') as file:\n",
    "    loaded_recipes = json.load(file)"
   ]
  },
  {
   "cell_type": "code",
   "execution_count": 15,
   "id": "e02f729e",
   "metadata": {
    "scrolled": true
   },
   "outputs": [
    {
     "data": {
      "text/plain": [
       "{'spaghetti': [200, 'grams'],\n",
       " 'ground beef': [300, 'grams'],\n",
       " 'onion': [1, 'whole'],\n",
       " 'garlic': [2, 'cloves'],\n",
       " 'tomato sauce': [400, 'milliliters'],\n",
       " 'red wine': [100, 'milliliters'],\n",
       " 'olive oil': [2, 'tablespoons'],\n",
       " 'salt': [1, 'teaspoon'],\n",
       " 'pepper': [1, 'teaspoon']}"
      ]
     },
     "execution_count": 15,
     "metadata": {},
     "output_type": "execute_result"
    }
   ],
   "source": [
    "loaded_recipes['spaghetti bolognese']"
   ]
  },
  {
   "cell_type": "code",
   "execution_count": 16,
   "id": "52207f30",
   "metadata": {},
   "outputs": [
    {
     "data": {
      "text/plain": [
       "dict_items"
      ]
     },
     "execution_count": 16,
     "metadata": {},
     "output_type": "execute_result"
    }
   ],
   "source": [
    "type(loaded_recipes['omlette'].items())"
   ]
  },
  {
   "cell_type": "code",
   "execution_count": 17,
   "id": "8a8ab319",
   "metadata": {},
   "outputs": [
    {
     "name": "stdout",
     "output_type": "stream",
     "text": [
      "eggs : [1, 'whole']\n",
      "salt : [3, 'tablespoon']\n",
      "garlic : [1, 'clove']\n",
      "eggwhite : [100, 'gramm']\n"
     ]
    }
   ],
   "source": [
    "for key, value in loaded_recipes['omlette'].items():\n",
    "    print(key,':', value)"
   ]
  },
  {
   "cell_type": "code",
   "execution_count": 18,
   "id": "dee34fa2",
   "metadata": {},
   "outputs": [
    {
     "name": "stdout",
     "output_type": "stream",
     "text": [
      "omlette:\n",
      "\n",
      "eggs [1, 'whole']\n",
      "salt [3, 'tablespoon']\n",
      "garlic [1, 'clove']\n",
      "eggwhite [100, 'gramm']\n",
      "\n",
      "\n",
      "pancakes:\n",
      "\n",
      "flour [200, 'grams']\n",
      "milk [250, 'milliliters']\n",
      "eggs [2, 'whole']\n",
      "sugar [2, 'tablespoons']\n",
      "baking powder [2, 'teaspoons']\n",
      "salt [1, 'pinch']\n",
      "\n",
      "\n",
      "spaghetti bolognese:\n",
      "\n",
      "spaghetti [200, 'grams']\n",
      "ground beef [300, 'grams']\n",
      "onion [1, 'whole']\n",
      "garlic [2, 'cloves']\n",
      "tomato sauce [400, 'milliliters']\n",
      "red wine [100, 'milliliters']\n",
      "olive oil [2, 'tablespoons']\n",
      "salt [1, 'teaspoon']\n",
      "pepper [1, 'teaspoon']\n",
      "\n",
      "\n",
      "caesar salad:\n",
      "\n",
      "romaine lettuce [1, 'head']\n",
      "croutons [100, 'grams']\n",
      "parmesan cheese [50, 'grams']\n",
      "chicken breast [2, 'whole']\n",
      "anchovy fillets [4, 'whole']\n",
      "\n",
      "\n"
     ]
    }
   ],
   "source": [
    "for key, value in loaded_recipes.items():\n",
    "    print(key + ':')\n",
    "    print('')\n",
    "    for k2, v2 in value.items():\n",
    "        print(k2, v2)\n",
    "    print('')\n",
    "    print('')"
   ]
  },
  {
   "cell_type": "code",
   "execution_count": 19,
   "id": "230f8566",
   "metadata": {},
   "outputs": [],
   "source": [
    "food = []\n",
    "dfs = []\n",
    "for i, (key, value) in enumerate(recipes.items()):\n",
    "    food.append(Food(key))\n",
    "    food[i].add_ingredients(value)\n",
    "    dfs.append(food[i].get_df(1))"
   ]
  },
  {
   "cell_type": "code",
   "execution_count": 20,
   "id": "7ac07043",
   "metadata": {},
   "outputs": [
    {
     "data": {
      "text/plain": [
       "[         amount        unit\n",
       " eggs          1       whole\n",
       " salt          3  tablespoon\n",
       " garlic        1       clove\n",
       " eggwhite    100       gramm,\n",
       "          amount        unit\n",
       " eggs          1       whole\n",
       " salt          3  tablespoon\n",
       " garlic        1       clove\n",
       " eggwhite    100       gramm,\n",
       "          amount        unit\n",
       " eggs          1       whole\n",
       " salt          3  tablespoon\n",
       " garlic        1       clove\n",
       " eggwhite    100       gramm,\n",
       "          amount        unit\n",
       " eggs          1       whole\n",
       " salt          3  tablespoon\n",
       " garlic        1       clove\n",
       " eggwhite    100       gramm]"
      ]
     },
     "execution_count": 20,
     "metadata": {},
     "output_type": "execute_result"
    }
   ],
   "source": [
    "dfs"
   ]
  },
  {
   "cell_type": "code",
   "execution_count": 21,
   "id": "a180596e",
   "metadata": {},
   "outputs": [],
   "source": [
    "combined_df = pd.concat(dfs, keys=[i for i in recipes])"
   ]
  },
  {
   "cell_type": "code",
   "execution_count": 22,
   "id": "c984b11b",
   "metadata": {},
   "outputs": [
    {
     "data": {
      "text/html": [
       "<div>\n",
       "<style scoped>\n",
       "    .dataframe tbody tr th:only-of-type {\n",
       "        vertical-align: middle;\n",
       "    }\n",
       "\n",
       "    .dataframe tbody tr th {\n",
       "        vertical-align: top;\n",
       "    }\n",
       "\n",
       "    .dataframe thead th {\n",
       "        text-align: right;\n",
       "    }\n",
       "</style>\n",
       "<table border=\"1\" class=\"dataframe\">\n",
       "  <thead>\n",
       "    <tr style=\"text-align: right;\">\n",
       "      <th></th>\n",
       "      <th></th>\n",
       "      <th>amount</th>\n",
       "      <th>unit</th>\n",
       "    </tr>\n",
       "  </thead>\n",
       "  <tbody>\n",
       "    <tr>\n",
       "      <th rowspan=\"4\" valign=\"top\">omlette</th>\n",
       "      <th>eggs</th>\n",
       "      <td>1</td>\n",
       "      <td>whole</td>\n",
       "    </tr>\n",
       "    <tr>\n",
       "      <th>salt</th>\n",
       "      <td>3</td>\n",
       "      <td>tablespoon</td>\n",
       "    </tr>\n",
       "    <tr>\n",
       "      <th>garlic</th>\n",
       "      <td>1</td>\n",
       "      <td>clove</td>\n",
       "    </tr>\n",
       "    <tr>\n",
       "      <th>eggwhite</th>\n",
       "      <td>100</td>\n",
       "      <td>gramm</td>\n",
       "    </tr>\n",
       "    <tr>\n",
       "      <th rowspan=\"4\" valign=\"top\">pancakes</th>\n",
       "      <th>eggs</th>\n",
       "      <td>1</td>\n",
       "      <td>whole</td>\n",
       "    </tr>\n",
       "    <tr>\n",
       "      <th>salt</th>\n",
       "      <td>3</td>\n",
       "      <td>tablespoon</td>\n",
       "    </tr>\n",
       "    <tr>\n",
       "      <th>garlic</th>\n",
       "      <td>1</td>\n",
       "      <td>clove</td>\n",
       "    </tr>\n",
       "    <tr>\n",
       "      <th>eggwhite</th>\n",
       "      <td>100</td>\n",
       "      <td>gramm</td>\n",
       "    </tr>\n",
       "    <tr>\n",
       "      <th rowspan=\"4\" valign=\"top\">spaghetti bolognese</th>\n",
       "      <th>eggs</th>\n",
       "      <td>1</td>\n",
       "      <td>whole</td>\n",
       "    </tr>\n",
       "    <tr>\n",
       "      <th>salt</th>\n",
       "      <td>3</td>\n",
       "      <td>tablespoon</td>\n",
       "    </tr>\n",
       "    <tr>\n",
       "      <th>garlic</th>\n",
       "      <td>1</td>\n",
       "      <td>clove</td>\n",
       "    </tr>\n",
       "    <tr>\n",
       "      <th>eggwhite</th>\n",
       "      <td>100</td>\n",
       "      <td>gramm</td>\n",
       "    </tr>\n",
       "    <tr>\n",
       "      <th rowspan=\"4\" valign=\"top\">caesar salad</th>\n",
       "      <th>eggs</th>\n",
       "      <td>1</td>\n",
       "      <td>whole</td>\n",
       "    </tr>\n",
       "    <tr>\n",
       "      <th>salt</th>\n",
       "      <td>3</td>\n",
       "      <td>tablespoon</td>\n",
       "    </tr>\n",
       "    <tr>\n",
       "      <th>garlic</th>\n",
       "      <td>1</td>\n",
       "      <td>clove</td>\n",
       "    </tr>\n",
       "    <tr>\n",
       "      <th>eggwhite</th>\n",
       "      <td>100</td>\n",
       "      <td>gramm</td>\n",
       "    </tr>\n",
       "  </tbody>\n",
       "</table>\n",
       "</div>"
      ],
      "text/plain": [
       "                             amount        unit\n",
       "omlette             eggs          1       whole\n",
       "                    salt          3  tablespoon\n",
       "                    garlic        1       clove\n",
       "                    eggwhite    100       gramm\n",
       "pancakes            eggs          1       whole\n",
       "                    salt          3  tablespoon\n",
       "                    garlic        1       clove\n",
       "                    eggwhite    100       gramm\n",
       "spaghetti bolognese eggs          1       whole\n",
       "                    salt          3  tablespoon\n",
       "                    garlic        1       clove\n",
       "                    eggwhite    100       gramm\n",
       "caesar salad        eggs          1       whole\n",
       "                    salt          3  tablespoon\n",
       "                    garlic        1       clove\n",
       "                    eggwhite    100       gramm"
      ]
     },
     "execution_count": 22,
     "metadata": {},
     "output_type": "execute_result"
    }
   ],
   "source": [
    "combined_df"
   ]
  },
  {
   "cell_type": "code",
   "execution_count": 23,
   "id": "e1c9a562",
   "metadata": {},
   "outputs": [
    {
     "data": {
      "text/html": [
       "<div>\n",
       "<style scoped>\n",
       "    .dataframe tbody tr th:only-of-type {\n",
       "        vertical-align: middle;\n",
       "    }\n",
       "\n",
       "    .dataframe tbody tr th {\n",
       "        vertical-align: top;\n",
       "    }\n",
       "\n",
       "    .dataframe thead th {\n",
       "        text-align: right;\n",
       "    }\n",
       "</style>\n",
       "<table border=\"1\" class=\"dataframe\">\n",
       "  <thead>\n",
       "    <tr style=\"text-align: right;\">\n",
       "      <th></th>\n",
       "      <th>amount</th>\n",
       "      <th>unit</th>\n",
       "    </tr>\n",
       "  </thead>\n",
       "  <tbody>\n",
       "    <tr>\n",
       "      <th>eggs</th>\n",
       "      <td>1</td>\n",
       "      <td>whole</td>\n",
       "    </tr>\n",
       "    <tr>\n",
       "      <th>salt</th>\n",
       "      <td>3</td>\n",
       "      <td>tablespoon</td>\n",
       "    </tr>\n",
       "    <tr>\n",
       "      <th>garlic</th>\n",
       "      <td>1</td>\n",
       "      <td>clove</td>\n",
       "    </tr>\n",
       "    <tr>\n",
       "      <th>eggwhite</th>\n",
       "      <td>100</td>\n",
       "      <td>gramm</td>\n",
       "    </tr>\n",
       "  </tbody>\n",
       "</table>\n",
       "</div>"
      ],
      "text/plain": [
       "         amount        unit\n",
       "eggs          1       whole\n",
       "salt          3  tablespoon\n",
       "garlic        1       clove\n",
       "eggwhite    100       gramm"
      ]
     },
     "execution_count": 23,
     "metadata": {},
     "output_type": "execute_result"
    }
   ],
   "source": [
    "omlette = combined_df.loc['omlette']\n",
    "omlette"
   ]
  },
  {
   "cell_type": "code",
   "execution_count": 24,
   "id": "6f57f99e",
   "metadata": {},
   "outputs": [],
   "source": [
    "omlette.loc[:, 'amount'] *= 2"
   ]
  },
  {
   "cell_type": "code",
   "execution_count": 25,
   "id": "31a3ba3f",
   "metadata": {},
   "outputs": [
    {
     "data": {
      "text/html": [
       "<div>\n",
       "<style scoped>\n",
       "    .dataframe tbody tr th:only-of-type {\n",
       "        vertical-align: middle;\n",
       "    }\n",
       "\n",
       "    .dataframe tbody tr th {\n",
       "        vertical-align: top;\n",
       "    }\n",
       "\n",
       "    .dataframe thead th {\n",
       "        text-align: right;\n",
       "    }\n",
       "</style>\n",
       "<table border=\"1\" class=\"dataframe\">\n",
       "  <thead>\n",
       "    <tr style=\"text-align: right;\">\n",
       "      <th></th>\n",
       "      <th>amount</th>\n",
       "      <th>unit</th>\n",
       "    </tr>\n",
       "  </thead>\n",
       "  <tbody>\n",
       "    <tr>\n",
       "      <th>eggs</th>\n",
       "      <td>2</td>\n",
       "      <td>whole</td>\n",
       "    </tr>\n",
       "    <tr>\n",
       "      <th>salt</th>\n",
       "      <td>6</td>\n",
       "      <td>tablespoon</td>\n",
       "    </tr>\n",
       "    <tr>\n",
       "      <th>garlic</th>\n",
       "      <td>2</td>\n",
       "      <td>clove</td>\n",
       "    </tr>\n",
       "    <tr>\n",
       "      <th>eggwhite</th>\n",
       "      <td>200</td>\n",
       "      <td>gramm</td>\n",
       "    </tr>\n",
       "  </tbody>\n",
       "</table>\n",
       "</div>"
      ],
      "text/plain": [
       "         amount        unit\n",
       "eggs          2       whole\n",
       "salt          6  tablespoon\n",
       "garlic        2       clove\n",
       "eggwhite    200       gramm"
      ]
     },
     "execution_count": 25,
     "metadata": {},
     "output_type": "execute_result"
    }
   ],
   "source": [
    "omlette"
   ]
  },
  {
   "cell_type": "code",
   "execution_count": null,
   "id": "9461fc12",
   "metadata": {},
   "outputs": [],
   "source": []
  }
 ],
 "metadata": {
  "kernelspec": {
   "display_name": "Python 3 (ipykernel)",
   "language": "python",
   "name": "python3"
  },
  "language_info": {
   "codemirror_mode": {
    "name": "ipython",
    "version": 3
   },
   "file_extension": ".py",
   "mimetype": "text/x-python",
   "name": "python",
   "nbconvert_exporter": "python",
   "pygments_lexer": "ipython3",
   "version": "3.11.3"
  }
 },
 "nbformat": 4,
 "nbformat_minor": 5
}
