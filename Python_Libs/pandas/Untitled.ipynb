{
 "cells": [
  {
   "cell_type": "code",
   "execution_count": 3,
   "id": "077594c5",
   "metadata": {},
   "outputs": [],
   "source": [
    "import pandas as pd\n",
    "import matplotlib.pyplot as plt\n",
    "import numpy as np\n",
    "plt.style.use('dark_background')"
   ]
  },
  {
   "cell_type": "code",
   "execution_count": 7,
   "id": "ca338b96",
   "metadata": {},
   "outputs": [
    {
     "data": {
      "text/html": [
       "<div>\n",
       "<style scoped>\n",
       "    .dataframe tbody tr th:only-of-type {\n",
       "        vertical-align: middle;\n",
       "    }\n",
       "\n",
       "    .dataframe tbody tr th {\n",
       "        vertical-align: top;\n",
       "    }\n",
       "\n",
       "    .dataframe thead th {\n",
       "        text-align: right;\n",
       "    }\n",
       "</style>\n",
       "<table border=\"1\" class=\"dataframe\">\n",
       "  <thead>\n",
       "    <tr style=\"text-align: right;\">\n",
       "      <th></th>\n",
       "      <th>Fremont Bridge Sidewalks, south of N 34th St</th>\n",
       "      <th>Fremont Bridge Sidewalks, south of N 34th St Cyclist East Sidewalk</th>\n",
       "      <th>Fremont Bridge Sidewalks, south of N 34th St Cyclist West Sidewalk</th>\n",
       "    </tr>\n",
       "    <tr>\n",
       "      <th>Date</th>\n",
       "      <th></th>\n",
       "      <th></th>\n",
       "      <th></th>\n",
       "    </tr>\n",
       "  </thead>\n",
       "  <tbody>\n",
       "    <tr>\n",
       "      <th>08/01/2022 12:00:00 AM</th>\n",
       "      <td>23.0</td>\n",
       "      <td>7.0</td>\n",
       "      <td>16.0</td>\n",
       "    </tr>\n",
       "    <tr>\n",
       "      <th>08/01/2022 01:00:00 AM</th>\n",
       "      <td>12.0</td>\n",
       "      <td>5.0</td>\n",
       "      <td>7.0</td>\n",
       "    </tr>\n",
       "    <tr>\n",
       "      <th>08/01/2022 02:00:00 AM</th>\n",
       "      <td>3.0</td>\n",
       "      <td>0.0</td>\n",
       "      <td>3.0</td>\n",
       "    </tr>\n",
       "    <tr>\n",
       "      <th>08/01/2022 03:00:00 AM</th>\n",
       "      <td>5.0</td>\n",
       "      <td>2.0</td>\n",
       "      <td>3.0</td>\n",
       "    </tr>\n",
       "    <tr>\n",
       "      <th>08/01/2022 04:00:00 AM</th>\n",
       "      <td>10.0</td>\n",
       "      <td>2.0</td>\n",
       "      <td>8.0</td>\n",
       "    </tr>\n",
       "  </tbody>\n",
       "</table>\n",
       "</div>"
      ],
      "text/plain": [
       "                        Fremont Bridge Sidewalks, south of N 34th St  \\\n",
       "Date                                                                   \n",
       "08/01/2022 12:00:00 AM                                          23.0   \n",
       "08/01/2022 01:00:00 AM                                          12.0   \n",
       "08/01/2022 02:00:00 AM                                           3.0   \n",
       "08/01/2022 03:00:00 AM                                           5.0   \n",
       "08/01/2022 04:00:00 AM                                          10.0   \n",
       "\n",
       "                        Fremont Bridge Sidewalks, south of N 34th St Cyclist East Sidewalk  \\\n",
       "Date                                                                                         \n",
       "08/01/2022 12:00:00 AM                                                7.0                    \n",
       "08/01/2022 01:00:00 AM                                                5.0                    \n",
       "08/01/2022 02:00:00 AM                                                0.0                    \n",
       "08/01/2022 03:00:00 AM                                                2.0                    \n",
       "08/01/2022 04:00:00 AM                                                2.0                    \n",
       "\n",
       "                        Fremont Bridge Sidewalks, south of N 34th St Cyclist West Sidewalk  \n",
       "Date                                                                                        \n",
       "08/01/2022 12:00:00 AM                                               16.0                   \n",
       "08/01/2022 01:00:00 AM                                                7.0                   \n",
       "08/01/2022 02:00:00 AM                                                3.0                   \n",
       "08/01/2022 03:00:00 AM                                                3.0                   \n",
       "08/01/2022 04:00:00 AM                                                8.0                   "
      ]
     },
     "execution_count": 7,
     "metadata": {},
     "output_type": "execute_result"
    }
   ],
   "source": [
    "data = pd.read_csv('data\\FremontBridge.csv', index_col='Date')\n",
    "data.head()"
   ]
  },
  {
   "cell_type": "code",
   "execution_count": 8,
   "id": "adbad625",
   "metadata": {},
   "outputs": [
    {
     "data": {
      "text/plain": [
       "Index(['08/01/2022 12:00:00 AM', '08/01/2022 01:00:00 AM',\n",
       "       '08/01/2022 02:00:00 AM', '08/01/2022 03:00:00 AM',\n",
       "       '08/01/2022 04:00:00 AM', '08/01/2022 05:00:00 AM',\n",
       "       '08/01/2022 06:00:00 AM', '08/01/2022 07:00:00 AM',\n",
       "       '08/01/2022 08:00:00 AM', '08/01/2022 09:00:00 AM',\n",
       "       ...\n",
       "       '07/31/2022 02:00:00 PM', '07/31/2022 03:00:00 PM',\n",
       "       '07/31/2022 04:00:00 PM', '07/31/2022 05:00:00 PM',\n",
       "       '07/31/2022 06:00:00 PM', '07/31/2022 07:00:00 PM',\n",
       "       '07/31/2022 08:00:00 PM', '07/31/2022 09:00:00 PM',\n",
       "       '07/31/2022 10:00:00 PM', '07/31/2022 11:00:00 PM'],\n",
       "      dtype='object', name='Date', length=91224)"
      ]
     },
     "execution_count": 8,
     "metadata": {},
     "output_type": "execute_result"
    }
   ],
   "source": [
    "data.index"
   ]
  },
  {
   "cell_type": "code",
   "execution_count": 10,
   "id": "7f8c5879",
   "metadata": {},
   "outputs": [],
   "source": [
    "pd.read_csv?"
   ]
  },
  {
   "cell_type": "code",
   "execution_count": null,
   "id": "98b3475a",
   "metadata": {},
   "outputs": [],
   "source": []
  }
 ],
 "metadata": {
  "kernelspec": {
   "display_name": "Python 3 (ipykernel)",
   "language": "python",
   "name": "python3"
  },
  "language_info": {
   "codemirror_mode": {
    "name": "ipython",
    "version": 3
   },
   "file_extension": ".py",
   "mimetype": "text/x-python",
   "name": "python",
   "nbconvert_exporter": "python",
   "pygments_lexer": "ipython3",
   "version": "3.11.3"
  }
 },
 "nbformat": 4,
 "nbformat_minor": 5
}
