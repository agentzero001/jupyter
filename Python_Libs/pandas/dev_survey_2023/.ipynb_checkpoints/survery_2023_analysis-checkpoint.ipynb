{
 "cells": [
  {
   "cell_type": "code",
   "execution_count": 22,
   "id": "952dc2fe",
   "metadata": {},
   "outputs": [],
   "source": [
    "import pandas as pd\n",
    "import numpy as np\n",
    "import matplotlib.pyplot as plt"
   ]
  },
  {
   "cell_type": "code",
   "execution_count": 24,
   "id": "9420d0a5",
   "metadata": {},
   "outputs": [],
   "source": [
    "#source https://insights.stackoverflow.com/survey\n",
    "df = pd.read_csv(r'C:\\Users\\jensm\\Desktop\\local\\GitHub\\survey_results_public.csv', index_col= 'ResponseId')"
   ]
  },
  {
   "cell_type": "code",
   "execution_count": 25,
   "id": "b734c1ca",
   "metadata": {},
   "outputs": [
    {
     "name": "stdout",
     "output_type": "stream",
     "text": [
      "<class 'pandas.core.frame.DataFrame'>\n",
      "Index: 89184 entries, 1 to 89184\n",
      "Data columns (total 83 columns):\n",
      " #   Column                               Non-Null Count  Dtype  \n",
      "---  ------                               --------------  -----  \n",
      " 0   Q120                                 89184 non-null  object \n",
      " 1   MainBranch                           89184 non-null  object \n",
      " 2   Age                                  89184 non-null  object \n",
      " 3   Employment                           87898 non-null  object \n",
      " 4   RemoteWork                           73810 non-null  object \n",
      " 5   CodingActivities                     73764 non-null  object \n",
      " 6   EdLevel                              87973 non-null  object \n",
      " 7   LearnCode                            87663 non-null  object \n",
      " 8   LearnCodeOnline                      70084 non-null  object \n",
      " 9   LearnCodeCoursesCert                 37076 non-null  object \n",
      " 10  YearsCode                            87435 non-null  object \n",
      " 11  YearsCodePro                         66136 non-null  object \n",
      " 12  DevType                              76872 non-null  object \n",
      " 13  OrgSize                              65043 non-null  object \n",
      " 14  PurchaseInfluence                    64964 non-null  object \n",
      " 15  TechList                             60851 non-null  object \n",
      " 16  BuyNewTool                           83009 non-null  object \n",
      " 17  Country                              87973 non-null  object \n",
      " 18  Currency                             65334 non-null  object \n",
      " 19  CompTotal                            48225 non-null  float64\n",
      " 20  LanguageHaveWorkedWith               87140 non-null  object \n",
      " 21  LanguageWantToWorkWith               80709 non-null  object \n",
      " 22  DatabaseHaveWorkedWith               73435 non-null  object \n",
      " 23  DatabaseWantToWorkWith               60911 non-null  object \n",
      " 24  PlatformHaveWorkedWith               63628 non-null  object \n",
      " 25  PlatformWantToWorkWith               51308 non-null  object \n",
      " 26  WebframeHaveWorkedWith               66938 non-null  object \n",
      " 27  WebframeWantToWorkWith               56741 non-null  object \n",
      " 28  MiscTechHaveWorkedWith               57019 non-null  object \n",
      " 29  MiscTechWantToWorkWith               46848 non-null  object \n",
      " 30  ToolsTechHaveWorkedWith              77884 non-null  object \n",
      " 31  ToolsTechWantToWorkWith              68315 non-null  object \n",
      " 32  NEWCollabToolsHaveWorkedWith         85864 non-null  object \n",
      " 33  NEWCollabToolsWantToWorkWith         76649 non-null  object \n",
      " 34  OpSysPersonal use                    86557 non-null  object \n",
      " 35  OpSysProfessional use                78587 non-null  object \n",
      " 36  OfficeStackAsyncHaveWorkedWith       69090 non-null  object \n",
      " 37  OfficeStackAsyncWantToWorkWith       53743 non-null  object \n",
      " 38  OfficeStackSyncHaveWorkedWith        83439 non-null  object \n",
      " 39  OfficeStackSyncWantToWorkWith        69776 non-null  object \n",
      " 40  AISearchHaveWorkedWith               56328 non-null  object \n",
      " 41  AISearchWantToWorkWith               46150 non-null  object \n",
      " 42  AIDevHaveWorkedWith                  25904 non-null  object \n",
      " 43  AIDevWantToWorkWith                  19587 non-null  object \n",
      " 44  NEWSOSites                           87973 non-null  object \n",
      " 45  SOVisitFreq                          87140 non-null  object \n",
      " 46  SOAccount                            87852 non-null  object \n",
      " 47  SOPartFreq                           66061 non-null  object \n",
      " 48  SOComm                               87692 non-null  object \n",
      " 49  SOAI                                 47858 non-null  object \n",
      " 50  AISelect                             87973 non-null  object \n",
      " 51  AISent                               61501 non-null  object \n",
      " 52  AIAcc                                38594 non-null  object \n",
      " 53  AIBen                                61396 non-null  object \n",
      " 54  AIToolInterested in Using            32783 non-null  object \n",
      " 55  AIToolCurrently Using                36137 non-null  object \n",
      " 56  AIToolNot interested in Using        21069 non-null  object \n",
      " 57  AINextVery different                 12661 non-null  object \n",
      " 58  AINextNeither different nor similar  6599 non-null   object \n",
      " 59  AINextSomewhat similar               6238 non-null   object \n",
      " 60  AINextVery similar                   2621 non-null   object \n",
      " 61  AINextSomewhat different             23303 non-null  object \n",
      " 62  TBranch                              65768 non-null  object \n",
      " 63  ICorPM                               43668 non-null  object \n",
      " 64  WorkExp                              43579 non-null  float64\n",
      " 65  Knowledge_1                          42535 non-null  object \n",
      " 66  Knowledge_2                          41670 non-null  object \n",
      " 67  Knowledge_3                          41798 non-null  object \n",
      " 68  Knowledge_4                          41684 non-null  object \n",
      " 69  Knowledge_5                          41527 non-null  object \n",
      " 70  Knowledge_6                          41520 non-null  object \n",
      " 71  Knowledge_7                          41467 non-null  object \n",
      " 72  Knowledge_8                          41404 non-null  object \n",
      " 73  Frequency_1                          41916 non-null  object \n",
      " 74  Frequency_2                          41925 non-null  object \n",
      " 75  Frequency_3                          41054 non-null  object \n",
      " 76  TimeSearching                        42778 non-null  object \n",
      " 77  TimeAnswering                        42629 non-null  object \n",
      " 78  ProfessionalTech                     41783 non-null  object \n",
      " 79  Industry                             36774 non-null  object \n",
      " 80  SurveyLength                         86485 non-null  object \n",
      " 81  SurveyEase                           86554 non-null  object \n",
      " 82  ConvertedCompYearly                  48019 non-null  float64\n",
      "dtypes: float64(3), object(80)\n",
      "memory usage: 57.2+ MB\n"
     ]
    }
   ],
   "source": [
    "df.info()"
   ]
  },
  {
   "cell_type": "code",
   "execution_count": 26,
   "id": "482152ab",
   "metadata": {},
   "outputs": [],
   "source": [
    "#df['LearnCode'].value_counts()"
   ]
  },
  {
   "cell_type": "code",
   "execution_count": null,
   "id": "b55f0a23",
   "metadata": {},
   "outputs": [],
   "source": []
  }
 ],
 "metadata": {
  "kernelspec": {
   "display_name": "Python 3 (ipykernel)",
   "language": "python",
   "name": "python3"
  },
  "language_info": {
   "codemirror_mode": {
    "name": "ipython",
    "version": 3
   },
   "file_extension": ".py",
   "mimetype": "text/x-python",
   "name": "python",
   "nbconvert_exporter": "python",
   "pygments_lexer": "ipython3",
   "version": "3.11.5"
  }
 },
 "nbformat": 4,
 "nbformat_minor": 5
}
