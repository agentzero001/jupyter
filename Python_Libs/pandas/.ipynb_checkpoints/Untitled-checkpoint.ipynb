{
 "cells": [
  {
   "cell_type": "code",
   "execution_count": 1,
   "id": "f88d89b8",
   "metadata": {},
   "outputs": [],
   "source": [
    "import pandas as pd\n",
    "import numpy as np"
   ]
  },
  {
   "cell_type": "code",
   "execution_count": 2,
   "id": "b9c172e0",
   "metadata": {},
   "outputs": [
    {
     "name": "stdout",
     "output_type": "stream",
     "text": [
      "ValueError: Trailing data\n"
     ]
    }
   ],
   "source": [
    "try:\n",
    "    recipes = pd.read_json(r'C:\\Users\\jensm\\Desktop\\local\\GitHub\\recipeitems-latest.json')\n",
    "except ValueError as e:\n",
    "    print(\"ValueError:\", e)"
   ]
  },
  {
   "cell_type": "code",
   "execution_count": 3,
   "id": "f6c79277",
   "metadata": {},
   "outputs": [],
   "source": [
    "import json\n",
    "\n",
    "# Initialize an empty list to store the JSON objects\n",
    "json_objects = []\n",
    "\n",
    "# Read the file and load each line as a JSON object\n",
    "with open(r'C:\\Users\\jensm\\Desktop\\local\\GitHub\\recipeitems-latest.json', 'r', encoding='utf-8') as f:\n",
    "    for line in f:\n",
    "        json_objects.append(json.loads(line.strip()))\n",
    "\n",
    "# Combine all JSON objects into a single JSON\n",
    "combined_json = json.dumps(json_objects)\n",
    "\n",
    "\n",
    "#with open('combined_recipes.json', 'w', encoding='utf-8') as f:\n",
    "#    f.write(combined_json)"
   ]
  },
  {
   "cell_type": "code",
   "execution_count": 4,
   "id": "db630a56",
   "metadata": {},
   "outputs": [],
   "source": [
    "recipes = pd.read_json(combined_json)"
   ]
  },
  {
   "cell_type": "code",
   "execution_count": 5,
   "id": "c68bf37a",
   "metadata": {},
   "outputs": [
    {
     "name": "stdout",
     "output_type": "stream",
     "text": [
      "<class 'pandas.core.frame.DataFrame'>\n",
      "RangeIndex: 173278 entries, 0 to 173277\n",
      "Data columns (total 17 columns):\n",
      " #   Column              Non-Null Count   Dtype \n",
      "---  ------              --------------   ----- \n",
      " 0   _id                 173278 non-null  object\n",
      " 1   name                173278 non-null  object\n",
      " 2   ingredients         173278 non-null  object\n",
      " 3   url                 173278 non-null  object\n",
      " 4   image               158278 non-null  object\n",
      " 5   ts                  173278 non-null  object\n",
      " 6   cookTime            117936 non-null  object\n",
      " 7   source              173278 non-null  object\n",
      " 8   recipeYield         165628 non-null  object\n",
      " 9   datePublished       78110 non-null   object\n",
      " 10  prepTime            130186 non-null  object\n",
      " 11  description         158068 non-null  object\n",
      " 12  totalTime           1570 non-null    object\n",
      " 13  creator             395 non-null     object\n",
      " 14  recipeCategory      388 non-null     object\n",
      " 15  dateModified        161 non-null     object\n",
      " 16  recipeInstructions  4 non-null       object\n",
      "dtypes: object(17)\n",
      "memory usage: 22.5+ MB\n"
     ]
    },
    {
     "data": {
      "text/plain": [
       "(173278, 17)"
      ]
     },
     "execution_count": 5,
     "metadata": {},
     "output_type": "execute_result"
    }
   ],
   "source": [
    "recipes.info(); recipes.shape\n"
   ]
  },
  {
   "cell_type": "code",
   "execution_count": 13,
   "id": "d538adb7",
   "metadata": {},
   "outputs": [
    {
     "data": {
      "text/plain": [
       "'Late Saturday afternoon, after Marlboro Man had returned home with the soccer-playing girls, and I had returned home with the...'"
      ]
     },
     "execution_count": 13,
     "metadata": {},
     "output_type": "execute_result"
    }
   ],
   "source": [
    "recipes.loc[0,'description']"
   ]
  },
  {
   "cell_type": "code",
   "execution_count": 12,
   "id": "d9a2edaf",
   "metadata": {},
   "outputs": [
    {
     "data": {
      "text/plain": [
       "500"
      ]
     },
     "execution_count": 12,
     "metadata": {},
     "output_type": "execute_result"
    }
   ],
   "source": [
    "pd.options.display.max_colwidth = 500\n",
    "pd.options.display.max_colwidth"
   ]
  },
  {
   "cell_type": "code",
   "execution_count": 8,
   "id": "6c14ac95",
   "metadata": {},
   "outputs": [
    {
     "data": {
      "text/plain": [
       "'Late Saturday afternoon, after Marlboro Man had returned home with the soccer-playing girls, and I had returned home with the...'"
      ]
     },
     "execution_count": 8,
     "metadata": {},
     "output_type": "execute_result"
    }
   ],
   "source": [
    "#returned home with what????????????????????????? :(\n",
    "recipes.loc[0,'description']"
   ]
  },
  {
   "cell_type": "code",
   "execution_count": 9,
   "id": "3d433d38",
   "metadata": {},
   "outputs": [
    {
     "data": {
      "text/plain": [
       "0                                                                                                                                                                                                                                                                                                                                                                                                                                                                                                                      1\n",
       "1                                                                                                                                                                                                                                                                                                                                                                                                                                                                                                                      2\n",
       "2    verylongstringverylongstringverylongstringverylongstringverylongstringverylongstringverylongstringverylongstringverylongstringverylongstringverylongstringverylongstringverylongstringverylongstringverylongstringverylongstringverylongstringverylongstringverylongstringverylongstringverylongstringverylongstringverylongstringverylongstringverylongstringverylongstringverylongstringverylongstringverylongstringverylongstringverylongstringverylongstringverylongstringverylongstringverylongstringverylo...\n",
       "dtype: object"
      ]
     },
     "execution_count": 9,
     "metadata": {},
     "output_type": "execute_result"
    }
   ],
   "source": [
    "pd.Series([1,2,'verylongstring'*900])"
   ]
  },
  {
   "cell_type": "code",
   "execution_count": 10,
   "id": "6eacccc1",
   "metadata": {},
   "outputs": [],
   "source": [
    "pd.options.display.max_colwidth = 900"
   ]
  },
  {
   "cell_type": "code",
   "execution_count": 11,
   "id": "0a574693",
   "metadata": {},
   "outputs": [
    {
     "data": {
      "text/plain": [
       "0                                                                                                                                                                                                                                                                                                                                                                                                                                                                                                                                                                                                                                                                                                                                                                                                                                                                                                                                      1\n",
       "1                                                                                                                                                                                                                                                                                                                                                                                                                                                                                                                                                                                                                                                                                                                                                                                                                                                                                                                                      2\n",
       "2    verylongstringverylongstringverylongstringverylongstringverylongstringverylongstringverylongstringverylongstringverylongstringverylongstringverylongstringverylongstringverylongstringverylongstringverylongstringverylongstringverylongstringverylongstringverylongstringverylongstringverylongstringverylongstringverylongstringverylongstringverylongstringverylongstringverylongstringverylongstringverylongstringverylongstringverylongstringverylongstringverylongstringverylongstringverylongstringverylongstringverylongstringverylongstringverylongstringverylongstringverylongstringverylongstringverylongstringverylongstringverylongstringverylongstringverylongstringverylongstringverylongstringverylongstringverylongstringverylongstringverylongstringverylongstringverylongstringverylongstringverylongstringverylongstringverylongstringverylongstringverylongstringverylongstringverylongstringverylongstring...\n",
       "dtype: object"
      ]
     },
     "execution_count": 11,
     "metadata": {},
     "output_type": "execute_result"
    }
   ],
   "source": [
    "pd.Series([1,2,'verylongstring'*900])"
   ]
  },
  {
   "cell_type": "code",
   "execution_count": null,
   "id": "e88cf2ce",
   "metadata": {},
   "outputs": [],
   "source": []
  }
 ],
 "metadata": {
  "kernelspec": {
   "display_name": "Python 3 (ipykernel)",
   "language": "python",
   "name": "python3"
  },
  "language_info": {
   "codemirror_mode": {
    "name": "ipython",
    "version": 3
   },
   "file_extension": ".py",
   "mimetype": "text/x-python",
   "name": "python",
   "nbconvert_exporter": "python",
   "pygments_lexer": "ipython3",
   "version": "3.11.3"
  }
 },
 "nbformat": 4,
 "nbformat_minor": 5
}
