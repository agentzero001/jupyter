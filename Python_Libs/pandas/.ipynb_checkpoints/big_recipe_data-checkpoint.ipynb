{
 "cells": [
  {
   "cell_type": "code",
   "execution_count": 1,
   "id": "f88d89b8",
   "metadata": {},
   "outputs": [],
   "source": [
    "import pandas as pd\n",
    "import numpy as np"
   ]
  },
  {
   "cell_type": "code",
   "execution_count": 2,
   "id": "b9c172e0",
   "metadata": {},
   "outputs": [
    {
     "name": "stdout",
     "output_type": "stream",
     "text": [
      "ValueError: Trailing data\n"
     ]
    }
   ],
   "source": [
    "try:\n",
    "    recipes = pd.read_json(r'C:\\Users\\jensm\\Desktop\\local\\GitHub\\recipeitems-latest.json')\n",
    "except ValueError as e:\n",
    "    print(\"ValueError:\", e)"
   ]
  },
  {
   "cell_type": "code",
   "execution_count": 3,
   "id": "f6c79277",
   "metadata": {},
   "outputs": [],
   "source": [
    "import json\n",
    "\n",
    "json_objects = []\n",
    "\n",
    "with open(r'C:\\Users\\jensm\\Desktop\\local\\GitHub\\recipeitems-latest.json', 'r', encoding='utf-8') as f:\n",
    "    for line in f:\n",
    "        json_objects.append(json.loads(line.strip()))\n",
    "\n",
    "combined_json = json.dumps(json_objects)\n",
    "\n",
    "#with open('combined_recipes.json', 'w', encoding='utf-8') as f:\n",
    "#    f.write(combined_json)"
   ]
  },
  {
   "cell_type": "code",
   "execution_count": 4,
   "id": "db630a56",
   "metadata": {},
   "outputs": [],
   "source": [
    "recipes = pd.read_json(combined_json)"
   ]
  },
  {
   "cell_type": "code",
   "execution_count": 12,
   "id": "8a4c47fa",
   "metadata": {},
   "outputs": [
    {
     "name": "stdout",
     "output_type": "stream",
     "text": [
      "<class 'pandas.core.frame.DataFrame'>\n",
      "RangeIndex: 173278 entries, 0 to 173277\n",
      "Data columns (total 17 columns):\n",
      " #   Column              Non-Null Count   Dtype \n",
      "---  ------              --------------   ----- \n",
      " 0   _id                 173278 non-null  object\n",
      " 1   name                173278 non-null  object\n",
      " 2   ingredients         173278 non-null  object\n",
      " 3   url                 173278 non-null  object\n",
      " 4   image               158278 non-null  object\n",
      " 5   ts                  173278 non-null  object\n",
      " 6   cookTime            117936 non-null  object\n",
      " 7   source              173278 non-null  object\n",
      " 8   recipeYield         165628 non-null  object\n",
      " 9   datePublished       78110 non-null   object\n",
      " 10  prepTime            130186 non-null  object\n",
      " 11  description         158068 non-null  object\n",
      " 12  totalTime           1570 non-null    object\n",
      " 13  creator             395 non-null     object\n",
      " 14  recipeCategory      388 non-null     object\n",
      " 15  dateModified        161 non-null     object\n",
      " 16  recipeInstructions  4 non-null       object\n",
      "dtypes: object(17)\n",
      "memory usage: 22.5+ MB\n"
     ]
    },
    {
     "data": {
      "text/plain": [
       "(173278, 17)"
      ]
     },
     "execution_count": 12,
     "metadata": {},
     "output_type": "execute_result"
    }
   ],
   "source": [
    "recipes.info(); recipes.shape"
   ]
  },
  {
   "cell_type": "code",
   "execution_count": 13,
   "id": "f25924af",
   "metadata": {},
   "outputs": [
    {
     "data": {
      "text/plain": [
       "'Late Saturday afternoon, after Marlboro Man had returned home with the soccer-playing girls, and I had returned home with the...'"
      ]
     },
     "execution_count": 13,
     "metadata": {},
     "output_type": "execute_result"
    }
   ],
   "source": [
    "recipes.loc[0,'description']"
   ]
  },
  {
   "cell_type": "code",
   "execution_count": 19,
   "id": "28dd8cf7",
   "metadata": {},
   "outputs": [
    {
     "data": {
      "text/plain": [
       "20"
      ]
     },
     "execution_count": 19,
     "metadata": {},
     "output_type": "execute_result"
    }
   ],
   "source": [
    "pd.options.display.max_colwidth = 20\n",
    "pd.options.display.max_colwidth"
   ]
  },
  {
   "cell_type": "code",
   "execution_count": 17,
   "id": "52986ac1",
   "metadata": {},
   "outputs": [
    {
     "data": {
      "text/plain": [
       "_id                                                                                                                                                                                                                                                                                                                     {'$oid': '5160756b96cc62079cc2db15'}\n",
       "name                                                                                                                                                                                                                                                                                                                         Drop Biscuits and Sausage Gravy\n",
       "ingredients           Biscuits\\n3 cups All-purpose Flour\\n2 Tablespoons Baking Powder\\n1/2 teaspoon Salt\\n1-1/2 stick (3/4 Cup) Cold Butter, Cut Into Pieces\\n1-1/4 cup Butermilk\\n SAUSAGE GRAVY\\n1 pound Breakfast Sausage, Hot Or Mild\\n1/3 cup All-purpose Flour\\n4 cups Whole Milk\\n1/2 teaspoon Seasoned Salt\\n2 teaspoons Black Pepper, More To Taste\n",
       "url                                                                                                                                                                                                                                                                              http://thepioneerwoman.com/cooking/2013/03/drop-biscuits-and-sausage-gravy/\n",
       "image                                                                                                                                                                                                                                                                                    http://static.thepioneerwoman.com/cooking/files/2013/03/bisgrav.jpg\n",
       "ts                                                                                                                                                                                                                                                                                                                                  {'$date': 1365276011104}\n",
       "cookTime                                                                                                                                                                                                                                                                                                                                               PT30M\n",
       "source                                                                                                                                                                                                                                                                                                                                       thepioneerwoman\n",
       "recipeYield                                                                                                                                                                                                                                                                                                                                               12\n",
       "datePublished                                                                                                                                                                                                                                                                                                                                     2013-03-11\n",
       "prepTime                                                                                                                                                                                                                                                                                                                                               PT10M\n",
       "description                                                                                                                                                                                                                 Late Saturday afternoon, after Marlboro Man had returned home with the soccer-playing girls, and I had returned home with the...\n",
       "totalTime                                                                                                                                                                                                                                                                                                                                                NaN\n",
       "creator                                                                                                                                                                                                                                                                                                                                                  NaN\n",
       "recipeCategory                                                                                                                                                                                                                                                                                                                                           NaN\n",
       "dateModified                                                                                                                                                                                                                                                                                                                                             NaN\n",
       "recipeInstructions                                                                                                                                                                                                                                                                                                                                       NaN\n",
       "Name: 0, dtype: object"
      ]
     },
     "execution_count": 17,
     "metadata": {},
     "output_type": "execute_result"
    }
   ],
   "source": [
    "recipes.iloc[0]"
   ]
  },
  {
   "cell_type": "code",
   "execution_count": 22,
   "id": "4f3c1fd4",
   "metadata": {},
   "outputs": [
    {
     "data": {
      "text/html": [
       "<div>\n",
       "<style scoped>\n",
       "    .dataframe tbody tr th:only-of-type {\n",
       "        vertical-align: middle;\n",
       "    }\n",
       "\n",
       "    .dataframe tbody tr th {\n",
       "        vertical-align: top;\n",
       "    }\n",
       "\n",
       "    .dataframe thead th {\n",
       "        text-align: right;\n",
       "    }\n",
       "</style>\n",
       "<table border=\"1\" class=\"dataframe\">\n",
       "  <thead>\n",
       "    <tr style=\"text-align: right;\">\n",
       "      <th></th>\n",
       "      <th>_id</th>\n",
       "      <th>name</th>\n",
       "      <th>ingredients</th>\n",
       "      <th>url</th>\n",
       "      <th>image</th>\n",
       "      <th>ts</th>\n",
       "      <th>cookTime</th>\n",
       "      <th>source</th>\n",
       "      <th>recipeYield</th>\n",
       "      <th>datePublished</th>\n",
       "      <th>prepTime</th>\n",
       "      <th>description</th>\n",
       "      <th>totalTime</th>\n",
       "      <th>creator</th>\n",
       "      <th>recipeCategory</th>\n",
       "      <th>dateModified</th>\n",
       "      <th>recipeInstructions</th>\n",
       "    </tr>\n",
       "  </thead>\n",
       "  <tbody>\n",
       "    <tr>\n",
       "      <th>0</th>\n",
       "      <td>{'$oid': '516075...</td>\n",
       "      <td>Drop Biscuits an...</td>\n",
       "      <td>Biscuits\\n3 cups...</td>\n",
       "      <td>http://thepionee...</td>\n",
       "      <td>http://static.th...</td>\n",
       "      <td>{'$date': 136527...</td>\n",
       "      <td>PT30M</td>\n",
       "      <td>thepioneerwoman</td>\n",
       "      <td>12</td>\n",
       "      <td>2013-03-11</td>\n",
       "      <td>PT10M</td>\n",
       "      <td>Late Saturday af...</td>\n",
       "      <td>NaN</td>\n",
       "      <td>NaN</td>\n",
       "      <td>NaN</td>\n",
       "      <td>NaN</td>\n",
       "      <td>NaN</td>\n",
       "    </tr>\n",
       "    <tr>\n",
       "      <th>1</th>\n",
       "      <td>{'$oid': '516075...</td>\n",
       "      <td>Hot Roast Beef S...</td>\n",
       "      <td>12 whole Dinner ...</td>\n",
       "      <td>http://thepionee...</td>\n",
       "      <td>http://static.th...</td>\n",
       "      <td>{'$date': 136527...</td>\n",
       "      <td>PT20M</td>\n",
       "      <td>thepioneerwoman</td>\n",
       "      <td>12</td>\n",
       "      <td>2013-03-13</td>\n",
       "      <td>PT20M</td>\n",
       "      <td>When I was growi...</td>\n",
       "      <td>NaN</td>\n",
       "      <td>NaN</td>\n",
       "      <td>NaN</td>\n",
       "      <td>NaN</td>\n",
       "      <td>NaN</td>\n",
       "    </tr>\n",
       "    <tr>\n",
       "      <th>2</th>\n",
       "      <td>{'$oid': '516075...</td>\n",
       "      <td>Morrocan Carrot ...</td>\n",
       "      <td>Dressing:\\n1 tab...</td>\n",
       "      <td>http://www.101co...</td>\n",
       "      <td>http://www.101co...</td>\n",
       "      <td>{'$date': 136527...</td>\n",
       "      <td>NaN</td>\n",
       "      <td>101cookbooks</td>\n",
       "      <td>NaN</td>\n",
       "      <td>2013-01-07</td>\n",
       "      <td>PT15M</td>\n",
       "      <td>A beauty of a ca...</td>\n",
       "      <td>NaN</td>\n",
       "      <td>NaN</td>\n",
       "      <td>NaN</td>\n",
       "      <td>NaN</td>\n",
       "      <td>NaN</td>\n",
       "    </tr>\n",
       "    <tr>\n",
       "      <th>3</th>\n",
       "      <td>{'$oid': '516075...</td>\n",
       "      <td>Mixed Berry Shor...</td>\n",
       "      <td>Biscuits\\n3 cups...</td>\n",
       "      <td>http://thepionee...</td>\n",
       "      <td>http://static.th...</td>\n",
       "      <td>{'$date': 136527...</td>\n",
       "      <td>PT15M</td>\n",
       "      <td>thepioneerwoman</td>\n",
       "      <td>8</td>\n",
       "      <td>2013-03-18</td>\n",
       "      <td>PT15M</td>\n",
       "      <td>It's Monday! It'...</td>\n",
       "      <td>NaN</td>\n",
       "      <td>NaN</td>\n",
       "      <td>NaN</td>\n",
       "      <td>NaN</td>\n",
       "      <td>NaN</td>\n",
       "    </tr>\n",
       "    <tr>\n",
       "      <th>4</th>\n",
       "      <td>{'$oid': '516075...</td>\n",
       "      <td>Pomegranate Yogu...</td>\n",
       "      <td>For each bowl: \\...</td>\n",
       "      <td>http://www.101co...</td>\n",
       "      <td>http://www.101co...</td>\n",
       "      <td>{'$date': 136527...</td>\n",
       "      <td>NaN</td>\n",
       "      <td>101cookbooks</td>\n",
       "      <td>Serves 1.</td>\n",
       "      <td>2013-01-20</td>\n",
       "      <td>PT5M</td>\n",
       "      <td>A simple breakfa...</td>\n",
       "      <td>NaN</td>\n",
       "      <td>NaN</td>\n",
       "      <td>NaN</td>\n",
       "      <td>NaN</td>\n",
       "      <td>NaN</td>\n",
       "    </tr>\n",
       "  </tbody>\n",
       "</table>\n",
       "</div>"
      ],
      "text/plain": [
       "                   _id                 name          ingredients  \\\n",
       "0  {'$oid': '516075...  Drop Biscuits an...  Biscuits\\n3 cups...   \n",
       "1  {'$oid': '516075...  Hot Roast Beef S...  12 whole Dinner ...   \n",
       "2  {'$oid': '516075...  Morrocan Carrot ...  Dressing:\\n1 tab...   \n",
       "3  {'$oid': '516075...  Mixed Berry Shor...  Biscuits\\n3 cups...   \n",
       "4  {'$oid': '516075...  Pomegranate Yogu...  For each bowl: \\...   \n",
       "\n",
       "                   url                image                   ts cookTime  \\\n",
       "0  http://thepionee...  http://static.th...  {'$date': 136527...    PT30M   \n",
       "1  http://thepionee...  http://static.th...  {'$date': 136527...    PT20M   \n",
       "2  http://www.101co...  http://www.101co...  {'$date': 136527...      NaN   \n",
       "3  http://thepionee...  http://static.th...  {'$date': 136527...    PT15M   \n",
       "4  http://www.101co...  http://www.101co...  {'$date': 136527...      NaN   \n",
       "\n",
       "            source recipeYield datePublished prepTime          description  \\\n",
       "0  thepioneerwoman          12    2013-03-11    PT10M  Late Saturday af...   \n",
       "1  thepioneerwoman          12    2013-03-13    PT20M  When I was growi...   \n",
       "2     101cookbooks         NaN    2013-01-07    PT15M  A beauty of a ca...   \n",
       "3  thepioneerwoman           8    2013-03-18    PT15M  It's Monday! It'...   \n",
       "4     101cookbooks   Serves 1.    2013-01-20     PT5M  A simple breakfa...   \n",
       "\n",
       "  totalTime creator recipeCategory dateModified recipeInstructions  \n",
       "0       NaN     NaN            NaN          NaN                NaN  \n",
       "1       NaN     NaN            NaN          NaN                NaN  \n",
       "2       NaN     NaN            NaN          NaN                NaN  \n",
       "3       NaN     NaN            NaN          NaN                NaN  \n",
       "4       NaN     NaN            NaN          NaN                NaN  "
      ]
     },
     "execution_count": 22,
     "metadata": {},
     "output_type": "execute_result"
    }
   ],
   "source": [
    "recipes.head()"
   ]
  },
  {
   "cell_type": "code",
   "execution_count": 23,
   "id": "062321d5",
   "metadata": {},
   "outputs": [
    {
     "data": {
      "text/plain": [
       "count    173278.000000\n",
       "mean        244.617343\n",
       "std         146.704308\n",
       "min           0.000000\n",
       "25%         147.000000\n",
       "50%         221.000000\n",
       "75%         314.000000\n",
       "max        9067.000000\n",
       "Name: ingredients, dtype: float64"
      ]
     },
     "execution_count": 23,
     "metadata": {},
     "output_type": "execute_result"
    }
   ],
   "source": [
    "recipes.ingredients.str.len().describe()"
   ]
  },
  {
   "cell_type": "code",
   "execution_count": 24,
   "id": "e8b7c90a",
   "metadata": {},
   "outputs": [
    {
     "data": {
      "text/plain": [
       "'Carrot Pineapple Spice &amp; Brownie Layer Cake with Whipped Cream &amp; Cream Cheese Frosting and Marzipan Carrots'"
      ]
     },
     "execution_count": 24,
     "metadata": {},
     "output_type": "execute_result"
    }
   ],
   "source": [
    "recipes.name[np.argmax(recipes.ingredients.str.len())]"
   ]
  },
  {
   "cell_type": "code",
   "execution_count": 29,
   "id": "13a8f10f",
   "metadata": {},
   "outputs": [
    {
     "data": {
      "text/plain": [
       "3524"
      ]
     },
     "execution_count": 29,
     "metadata": {},
     "output_type": "execute_result"
    }
   ],
   "source": [
    "recipes.description.str.contains('[Bb]reakfast').sum()"
   ]
  },
  {
   "cell_type": "code",
   "execution_count": 30,
   "id": "a0cae1ab",
   "metadata": {},
   "outputs": [
    {
     "data": {
      "text/plain": [
       "10526"
      ]
     },
     "execution_count": 30,
     "metadata": {},
     "output_type": "execute_result"
    }
   ],
   "source": [
    "recipes.ingredients.str.contains('[Cc]innamon').sum()"
   ]
  },
  {
   "cell_type": "code",
   "execution_count": 32,
   "id": "e2aebdd0",
   "metadata": {},
   "outputs": [],
   "source": [
    "spice_list = ['salt', 'pepper', 'oregano', 'sage', 'parsley',\n",
    "              'rosemary', 'tarragon', 'thyme', 'paprika', 'cumin']"
   ]
  },
  {
   "cell_type": "code",
   "execution_count": 94,
   "id": "33d98e81",
   "metadata": {},
   "outputs": [
    {
     "data": {
      "text/html": [
       "<div>\n",
       "<style scoped>\n",
       "    .dataframe tbody tr th:only-of-type {\n",
       "        vertical-align: middle;\n",
       "    }\n",
       "\n",
       "    .dataframe tbody tr th {\n",
       "        vertical-align: top;\n",
       "    }\n",
       "\n",
       "    .dataframe thead th {\n",
       "        text-align: right;\n",
       "    }\n",
       "</style>\n",
       "<table border=\"1\" class=\"dataframe\">\n",
       "  <thead>\n",
       "    <tr style=\"text-align: right;\">\n",
       "      <th></th>\n",
       "      <th>salt</th>\n",
       "      <th>pepper</th>\n",
       "      <th>oregano</th>\n",
       "      <th>sage</th>\n",
       "      <th>parsley</th>\n",
       "      <th>rosemary</th>\n",
       "      <th>tarragon</th>\n",
       "      <th>thyme</th>\n",
       "      <th>paprika</th>\n",
       "      <th>cumin</th>\n",
       "    </tr>\n",
       "  </thead>\n",
       "  <tbody>\n",
       "    <tr>\n",
       "      <th>0</th>\n",
       "      <td>False</td>\n",
       "      <td>False</td>\n",
       "      <td>False</td>\n",
       "      <td>True</td>\n",
       "      <td>False</td>\n",
       "      <td>False</td>\n",
       "      <td>False</td>\n",
       "      <td>False</td>\n",
       "      <td>False</td>\n",
       "      <td>False</td>\n",
       "    </tr>\n",
       "    <tr>\n",
       "      <th>1</th>\n",
       "      <td>False</td>\n",
       "      <td>False</td>\n",
       "      <td>False</td>\n",
       "      <td>False</td>\n",
       "      <td>False</td>\n",
       "      <td>False</td>\n",
       "      <td>False</td>\n",
       "      <td>False</td>\n",
       "      <td>False</td>\n",
       "      <td>False</td>\n",
       "    </tr>\n",
       "    <tr>\n",
       "      <th>2</th>\n",
       "      <td>True</td>\n",
       "      <td>True</td>\n",
       "      <td>False</td>\n",
       "      <td>False</td>\n",
       "      <td>False</td>\n",
       "      <td>False</td>\n",
       "      <td>False</td>\n",
       "      <td>False</td>\n",
       "      <td>False</td>\n",
       "      <td>True</td>\n",
       "    </tr>\n",
       "    <tr>\n",
       "      <th>3</th>\n",
       "      <td>False</td>\n",
       "      <td>False</td>\n",
       "      <td>False</td>\n",
       "      <td>False</td>\n",
       "      <td>False</td>\n",
       "      <td>False</td>\n",
       "      <td>False</td>\n",
       "      <td>False</td>\n",
       "      <td>False</td>\n",
       "      <td>False</td>\n",
       "    </tr>\n",
       "    <tr>\n",
       "      <th>4</th>\n",
       "      <td>False</td>\n",
       "      <td>False</td>\n",
       "      <td>False</td>\n",
       "      <td>False</td>\n",
       "      <td>False</td>\n",
       "      <td>False</td>\n",
       "      <td>False</td>\n",
       "      <td>False</td>\n",
       "      <td>False</td>\n",
       "      <td>False</td>\n",
       "    </tr>\n",
       "  </tbody>\n",
       "</table>\n",
       "</div>"
      ],
      "text/plain": [
       "    salt  pepper  oregano   sage  parsley  rosemary  tarragon  thyme  paprika  \\\n",
       "0  False   False    False   True    False     False     False  False    False   \n",
       "1  False   False    False  False    False     False     False  False    False   \n",
       "2   True    True    False  False    False     False     False  False    False   \n",
       "3  False   False    False  False    False     False     False  False    False   \n",
       "4  False   False    False  False    False     False     False  False    False   \n",
       "\n",
       "   cumin  \n",
       "0  False  \n",
       "1  False  \n",
       "2   True  \n",
       "3  False  \n",
       "4  False  "
      ]
     },
     "execution_count": 94,
     "metadata": {},
     "output_type": "execute_result"
    }
   ],
   "source": [
    "import re\n",
    "spice_df = pd.DataFrame({spice: recipes.ingredients.str.contains(spice, re.IGNORECASE)\n",
    "                             for spice in spice_list})\n",
    "spice_df.head()"
   ]
  },
  {
   "cell_type": "code",
   "execution_count": 95,
   "id": "535efc0f",
   "metadata": {},
   "outputs": [
    {
     "data": {
      "text/plain": [
       "(True, True)"
      ]
     },
     "execution_count": 95,
     "metadata": {},
     "output_type": "execute_result"
    }
   ],
   "source": [
    "#ok alright\n",
    "recipes.iloc[2].ingredients.__contains__('salt'), 'salt' in recipes.iloc[2].ingredients"
   ]
  },
  {
   "cell_type": "code",
   "execution_count": 96,
   "id": "5f206328",
   "metadata": {},
   "outputs": [
    {
     "data": {
      "text/plain": [
       "0         False\n",
       "1         False\n",
       "2          True\n",
       "3         False\n",
       "4         False\n",
       "          ...  \n",
       "173273    False\n",
       "173274    False\n",
       "173275     True\n",
       "173276     True\n",
       "173277     True\n",
       "Name: ingredients, Length: 173278, dtype: bool"
      ]
     },
     "execution_count": 96,
     "metadata": {},
     "output_type": "execute_result"
    }
   ],
   "source": [
    "recipes.ingredients.str.contains('salt', re.IGNORECASE)"
   ]
  },
  {
   "cell_type": "code",
   "execution_count": 97,
   "id": "941e4279",
   "metadata": {},
   "outputs": [
    {
     "data": {
      "text/plain": [
       "10"
      ]
     },
     "execution_count": 97,
     "metadata": {},
     "output_type": "execute_result"
    }
   ],
   "source": [
    "selection = spice_df.query('parsley & paprika & tarragon')\n",
    "len(selection)"
   ]
  },
  {
   "cell_type": "code",
   "execution_count": 98,
   "id": "f2a6be75",
   "metadata": {},
   "outputs": [
    {
     "data": {
      "text/plain": [
       "2069      All cremat with a Little Gem, dandelion and watercress salad served with aioli\n",
       "74964                                                      Lobster with Thermidor butter\n",
       "93768                                   Burton's Southern Fried Chicken with White Gravy\n",
       "113926                                                  Mijo's Slow Cooker Shredded Beef\n",
       "137686                                                  Asparagus Soup with Poached Eggs\n",
       "140530                                                              Fried Oyster Po’boys\n",
       "158475                                             Lamb shank tagine with herb tabbouleh\n",
       "158486                                              Southern fried chicken in buttermilk\n",
       "163175                                         Fried Chicken Sliders with Pickles + Slaw\n",
       "165243                                                     Bar Tartine Cauliflower Salad\n",
       "Name: name, dtype: object"
      ]
     },
     "execution_count": 98,
     "metadata": {},
     "output_type": "execute_result"
    }
   ],
   "source": [
    "pd.options.display.max_colwidth = 100\n",
    "recipes.name[selection.index]"
   ]
  },
  {
   "cell_type": "code",
   "execution_count": 99,
   "id": "745291bc",
   "metadata": {},
   "outputs": [
    {
     "data": {
      "text/plain": [
       "Index([2069, 74964, 93768, 113926, 137686, 140530, 158475, 158486, 163175,\n",
       "       165243],\n",
       "      dtype='int64')"
      ]
     },
     "execution_count": 99,
     "metadata": {},
     "output_type": "execute_result"
    }
   ],
   "source": [
    "selection.index"
   ]
  },
  {
   "cell_type": "code",
   "execution_count": null,
   "id": "1c6135df",
   "metadata": {},
   "outputs": [],
   "source": []
  },
  {
   "cell_type": "code",
   "execution_count": null,
   "id": "48bb0a99",
   "metadata": {},
   "outputs": [],
   "source": []
  },
  {
   "cell_type": "code",
   "execution_count": null,
   "id": "defb95df",
   "metadata": {},
   "outputs": [],
   "source": []
  },
  {
   "cell_type": "code",
   "execution_count": null,
   "id": "0aac9e8d",
   "metadata": {},
   "outputs": [],
   "source": []
  },
  {
   "cell_type": "code",
   "execution_count": null,
   "id": "65ed2964",
   "metadata": {},
   "outputs": [],
   "source": []
  },
  {
   "cell_type": "code",
   "execution_count": null,
   "id": "6e45e781",
   "metadata": {},
   "outputs": [],
   "source": []
  },
  {
   "cell_type": "code",
   "execution_count": null,
   "id": "446065b5",
   "metadata": {},
   "outputs": [],
   "source": []
  },
  {
   "cell_type": "code",
   "execution_count": null,
   "id": "521679a1",
   "metadata": {},
   "outputs": [],
   "source": []
  },
  {
   "cell_type": "code",
   "execution_count": 81,
   "id": "89a77f81",
   "metadata": {},
   "outputs": [
    {
     "data": {
      "text/html": [
       "<div>\n",
       "<style scoped>\n",
       "    .dataframe tbody tr th:only-of-type {\n",
       "        vertical-align: middle;\n",
       "    }\n",
       "\n",
       "    .dataframe tbody tr th {\n",
       "        vertical-align: top;\n",
       "    }\n",
       "\n",
       "    .dataframe thead th {\n",
       "        text-align: right;\n",
       "    }\n",
       "</style>\n",
       "<table border=\"1\" class=\"dataframe\">\n",
       "  <thead>\n",
       "    <tr style=\"text-align: right;\">\n",
       "      <th></th>\n",
       "      <th>0</th>\n",
       "      <th>1</th>\n",
       "      <th>2</th>\n",
       "      <th>3</th>\n",
       "      <th>4</th>\n",
       "    </tr>\n",
       "  </thead>\n",
       "  <tbody>\n",
       "    <tr>\n",
       "      <th>0</th>\n",
       "      <td>0</td>\n",
       "      <td>0</td>\n",
       "      <td>0</td>\n",
       "      <td>0</td>\n",
       "      <td>0</td>\n",
       "    </tr>\n",
       "    <tr>\n",
       "      <th>1</th>\n",
       "      <td>1</td>\n",
       "      <td>1</td>\n",
       "      <td>1</td>\n",
       "      <td>1</td>\n",
       "      <td>1</td>\n",
       "    </tr>\n",
       "    <tr>\n",
       "      <th>2</th>\n",
       "      <td>2</td>\n",
       "      <td>2</td>\n",
       "      <td>2</td>\n",
       "      <td>2</td>\n",
       "      <td>2</td>\n",
       "    </tr>\n",
       "  </tbody>\n",
       "</table>\n",
       "</div>"
      ],
      "text/plain": [
       "   0  1  2  3  4\n",
       "0  0  0  0  0  0\n",
       "1  1  1  1  1  1\n",
       "2  2  2  2  2  2"
      ]
     },
     "metadata": {},
     "output_type": "display_data"
    },
    {
     "data": {
      "text/html": [
       "<div>\n",
       "<style scoped>\n",
       "    .dataframe tbody tr th:only-of-type {\n",
       "        vertical-align: middle;\n",
       "    }\n",
       "\n",
       "    .dataframe tbody tr th {\n",
       "        vertical-align: top;\n",
       "    }\n",
       "\n",
       "    .dataframe thead th {\n",
       "        text-align: right;\n",
       "    }\n",
       "</style>\n",
       "<table border=\"1\" class=\"dataframe\">\n",
       "  <thead>\n",
       "    <tr style=\"text-align: right;\">\n",
       "      <th></th>\n",
       "      <th>0</th>\n",
       "      <th>1</th>\n",
       "      <th>2</th>\n",
       "      <th>3</th>\n",
       "      <th>4</th>\n",
       "    </tr>\n",
       "  </thead>\n",
       "  <tbody>\n",
       "    <tr>\n",
       "      <th>0</th>\n",
       "      <td>0</td>\n",
       "      <td>0</td>\n",
       "      <td>0</td>\n",
       "      <td>0</td>\n",
       "      <td>0</td>\n",
       "    </tr>\n",
       "    <tr>\n",
       "      <th>1</th>\n",
       "      <td>1</td>\n",
       "      <td>1</td>\n",
       "      <td>1</td>\n",
       "      <td>1</td>\n",
       "      <td>1</td>\n",
       "    </tr>\n",
       "    <tr>\n",
       "      <th>2</th>\n",
       "      <td>2</td>\n",
       "      <td>2</td>\n",
       "      <td>2</td>\n",
       "      <td>2</td>\n",
       "      <td>2</td>\n",
       "    </tr>\n",
       "  </tbody>\n",
       "</table>\n",
       "</div>"
      ],
      "text/plain": [
       "   0  1  2  3  4\n",
       "0  0  0  0  0  0\n",
       "1  1  1  1  1  1\n",
       "2  2  2  2  2  2"
      ]
     },
     "metadata": {},
     "output_type": "display_data"
    }
   ],
   "source": [
    "#looks like some kind of dict comprehension syntax\n",
    "display(pd.DataFrame({i: range(3) for i in range(5)}), pd.DataFrame(dict((i, range(3)) for i in range(5))))"
   ]
  },
  {
   "cell_type": "code",
   "execution_count": null,
   "id": "58b6cc43",
   "metadata": {},
   "outputs": [],
   "source": []
  }
 ],
 "metadata": {
  "kernelspec": {
   "display_name": "Python 3 (ipykernel)",
   "language": "python",
   "name": "python3"
  },
  "language_info": {
   "codemirror_mode": {
    "name": "ipython",
    "version": 3
   },
   "file_extension": ".py",
   "mimetype": "text/x-python",
   "name": "python",
   "nbconvert_exporter": "python",
   "pygments_lexer": "ipython3",
   "version": "3.11.3"
  }
 },
 "nbformat": 4,
 "nbformat_minor": 5
}
