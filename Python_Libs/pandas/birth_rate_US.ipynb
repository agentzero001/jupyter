{
 "cells": [
  {
   "cell_type": "code",
   "execution_count": 30,
   "id": "7d5fef58",
   "metadata": {},
   "outputs": [],
   "source": [
    "import numpy as np\n",
    "import pandas as pd\n",
    "import matplotlib.pyplot as plt\n",
    "import matplotlib.pyplot as plt\n",
    "import matplotlib as mpl\n",
    "import warnings\n",
    "warnings.filterwarnings(\"ignore\")\n",
    "plt.style.use('dark_background')"
   ]
  },
  {
   "cell_type": "code",
   "execution_count": 31,
   "id": "70e1a334",
   "metadata": {},
   "outputs": [],
   "source": [
    "#!curl -O https://raw.githubusercontent.com/jakevdp/data-CDCbirths/master/births.csv"
   ]
  },
  {
   "cell_type": "code",
   "execution_count": 32,
   "id": "45f34100",
   "metadata": {},
   "outputs": [],
   "source": [
    "births = pd.read_csv('data/births.csv')"
   ]
  },
  {
   "cell_type": "code",
   "execution_count": 33,
   "id": "dc5f7d01",
   "metadata": {},
   "outputs": [
    {
     "name": "stdout",
     "output_type": "stream",
     "text": [
      "<class 'pandas.core.frame.DataFrame'>\n",
      "RangeIndex: 15547 entries, 0 to 15546\n",
      "Data columns (total 5 columns):\n",
      " #   Column  Non-Null Count  Dtype  \n",
      "---  ------  --------------  -----  \n",
      " 0   year    15547 non-null  int64  \n",
      " 1   month   15547 non-null  int64  \n",
      " 2   day     15067 non-null  float64\n",
      " 3   gender  15547 non-null  object \n",
      " 4   births  15547 non-null  int64  \n",
      "dtypes: float64(1), int64(3), object(1)\n",
      "memory usage: 607.4+ KB\n"
     ]
    },
    {
     "data": {
      "text/html": [
       "<div>\n",
       "<style scoped>\n",
       "    .dataframe tbody tr th:only-of-type {\n",
       "        vertical-align: middle;\n",
       "    }\n",
       "\n",
       "    .dataframe tbody tr th {\n",
       "        vertical-align: top;\n",
       "    }\n",
       "\n",
       "    .dataframe thead th {\n",
       "        text-align: right;\n",
       "    }\n",
       "</style>\n",
       "<table border=\"1\" class=\"dataframe\">\n",
       "  <thead>\n",
       "    <tr style=\"text-align: right;\">\n",
       "      <th></th>\n",
       "      <th>year</th>\n",
       "      <th>month</th>\n",
       "      <th>day</th>\n",
       "      <th>gender</th>\n",
       "      <th>births</th>\n",
       "    </tr>\n",
       "  </thead>\n",
       "  <tbody>\n",
       "    <tr>\n",
       "      <th>0</th>\n",
       "      <td>1969</td>\n",
       "      <td>1</td>\n",
       "      <td>1.0</td>\n",
       "      <td>F</td>\n",
       "      <td>4046</td>\n",
       "    </tr>\n",
       "    <tr>\n",
       "      <th>1</th>\n",
       "      <td>1969</td>\n",
       "      <td>1</td>\n",
       "      <td>1.0</td>\n",
       "      <td>M</td>\n",
       "      <td>4440</td>\n",
       "    </tr>\n",
       "    <tr>\n",
       "      <th>2</th>\n",
       "      <td>1969</td>\n",
       "      <td>1</td>\n",
       "      <td>2.0</td>\n",
       "      <td>F</td>\n",
       "      <td>4454</td>\n",
       "    </tr>\n",
       "    <tr>\n",
       "      <th>3</th>\n",
       "      <td>1969</td>\n",
       "      <td>1</td>\n",
       "      <td>2.0</td>\n",
       "      <td>M</td>\n",
       "      <td>4548</td>\n",
       "    </tr>\n",
       "    <tr>\n",
       "      <th>4</th>\n",
       "      <td>1969</td>\n",
       "      <td>1</td>\n",
       "      <td>3.0</td>\n",
       "      <td>F</td>\n",
       "      <td>4548</td>\n",
       "    </tr>\n",
       "  </tbody>\n",
       "</table>\n",
       "</div>"
      ],
      "text/plain": [
       "   year  month  day gender  births\n",
       "0  1969      1  1.0      F    4046\n",
       "1  1969      1  1.0      M    4440\n",
       "2  1969      1  2.0      F    4454\n",
       "3  1969      1  2.0      M    4548\n",
       "4  1969      1  3.0      F    4548"
      ]
     },
     "metadata": {},
     "output_type": "display_data"
    },
    {
     "data": {
      "text/plain": [
       "None"
      ]
     },
     "metadata": {},
     "output_type": "display_data"
    }
   ],
   "source": [
    "display(births.head(), births.info())"
   ]
  },
  {
   "cell_type": "code",
   "execution_count": 34,
   "id": "0820ab7e",
   "metadata": {},
   "outputs": [
    {
     "data": {
      "text/plain": [
       "year        0\n",
       "month       0\n",
       "day       480\n",
       "gender      0\n",
       "births      0\n",
       "dtype: int64"
      ]
     },
     "execution_count": 34,
     "metadata": {},
     "output_type": "execute_result"
    }
   ],
   "source": [
    "births.isna().sum()"
   ]
  },
  {
   "cell_type": "code",
   "execution_count": 35,
   "id": "9d0479bc",
   "metadata": {},
   "outputs": [
    {
     "data": {
      "text/plain": [
       "count     15547.000000\n",
       "mean       9762.293561\n",
       "std       28552.465810\n",
       "min           1.000000\n",
       "25%        4358.000000\n",
       "50%        4814.000000\n",
       "75%        5289.500000\n",
       "max      199622.000000\n",
       "Name: births, dtype: float64"
      ]
     },
     "execution_count": 35,
     "metadata": {},
     "output_type": "execute_result"
    }
   ],
   "source": [
    "births.births.describe()"
   ]
  },
  {
   "cell_type": "code",
   "execution_count": 36,
   "id": "c1ae921a",
   "metadata": {},
   "outputs": [
    {
     "data": {
      "text/plain": [
       "(480, 457)"
      ]
     },
     "execution_count": 36,
     "metadata": {},
     "output_type": "execute_result"
    }
   ],
   "source": [
    "#so how do we define what an outlier is?\n",
    "len(births[births['births'] > 20000]), len(births[births['births'] < 500])"
   ]
  },
  {
   "cell_type": "code",
   "execution_count": 37,
   "id": "8b457013",
   "metadata": {},
   "outputs": [
    {
     "data": {
      "text/plain": [
       "<Axes: >"
      ]
     },
     "execution_count": 37,
     "metadata": {},
     "output_type": "execute_result"
    },
    {
     "data": {
      "image/png": "[encoded data removed]",
      "text/plain": [
       "<Figure size 640x480 with 1 Axes>"
      ]
     },
     "metadata": {},
     "output_type": "display_data"
    }
   ],
   "source": [
    "#don't forget to use .copy() \n",
    "array = births['births'].values.copy()\n",
    "array.sort()\n",
    "series = pd.Series(array)\n",
    "series.plot()"
   ]
  },
  {
   "cell_type": "code",
   "execution_count": 38,
   "id": "cbcf4705",
   "metadata": {},
   "outputs": [
    {
     "data": {
      "text/html": [
       "<div>\n",
       "<style scoped>\n",
       "    .dataframe tbody tr th:only-of-type {\n",
       "        vertical-align: middle;\n",
       "    }\n",
       "\n",
       "    .dataframe tbody tr th {\n",
       "        vertical-align: top;\n",
       "    }\n",
       "\n",
       "    .dataframe thead th {\n",
       "        text-align: right;\n",
       "    }\n",
       "</style>\n",
       "<table border=\"1\" class=\"dataframe\">\n",
       "  <thead>\n",
       "    <tr style=\"text-align: right;\">\n",
       "      <th>gender</th>\n",
       "      <th>F</th>\n",
       "      <th>M</th>\n",
       "    </tr>\n",
       "    <tr>\n",
       "      <th>decade</th>\n",
       "      <th></th>\n",
       "      <th></th>\n",
       "    </tr>\n",
       "  </thead>\n",
       "  <tbody>\n",
       "    <tr>\n",
       "      <th>1960</th>\n",
       "      <td>1753634</td>\n",
       "      <td>1846572</td>\n",
       "    </tr>\n",
       "    <tr>\n",
       "      <th>1970</th>\n",
       "      <td>16263075</td>\n",
       "      <td>17121550</td>\n",
       "    </tr>\n",
       "    <tr>\n",
       "      <th>1980</th>\n",
       "      <td>18310351</td>\n",
       "      <td>19243452</td>\n",
       "    </tr>\n",
       "    <tr>\n",
       "      <th>1990</th>\n",
       "      <td>19479454</td>\n",
       "      <td>20420553</td>\n",
       "    </tr>\n",
       "    <tr>\n",
       "      <th>2000</th>\n",
       "      <td>18229309</td>\n",
       "      <td>19106428</td>\n",
       "    </tr>\n",
       "  </tbody>\n",
       "</table>\n",
       "</div>"
      ],
      "text/plain": [
       "gender         F         M\n",
       "decade                    \n",
       "1960     1753634   1846572\n",
       "1970    16263075  17121550\n",
       "1980    18310351  19243452\n",
       "1990    19479454  20420553\n",
       "2000    18229309  19106428"
      ]
     },
     "execution_count": 38,
     "metadata": {},
     "output_type": "execute_result"
    }
   ],
   "source": [
    "births['decade'] = 10 * (births['year'] // 10) \n",
    "births.pivot_table('births', index='decade', columns='gender', aggfunc='sum')"
   ]
  },
  {
   "cell_type": "code",
   "execution_count": 39,
   "id": "6660b2f1",
   "metadata": {},
   "outputs": [
    {
     "data": {
      "image/png": "[encoded data removed]",
      "text/plain": [
       "<Figure size 640x480 with 1 Axes>"
      ]
     },
     "metadata": {},
     "output_type": "display_data"
    }
   ],
   "source": [
    "births.pivot_table('births', index='year', columns='gender', aggfunc='sum').plot()\n",
    "plt.ylabel('total births per year')\n",
    "plt.show()"
   ]
  },
  {
   "cell_type": "code",
   "execution_count": 40,
   "id": "8ad3d028",
   "metadata": {},
   "outputs": [],
   "source": [
    "#outlier removal\n",
    "quartiles = np.percentile(births['births'], [25, 50, 75])\n",
    "mu = quartiles[1]\n",
    "sig = 0.74 * (quartiles[2] - quartiles[0])\n",
    "\n",
    "births = births.query('(births > @mu - 5 * @sig) & (births < @mu + 5 * @sig)')"
   ]
  },
  {
   "cell_type": "code",
   "execution_count": 41,
   "id": "201b543d",
   "metadata": {},
   "outputs": [
    {
     "data": {
      "text/plain": [
       "count    14610.000000\n",
       "mean      4824.470089\n",
       "std        579.996983\n",
       "min       3249.000000\n",
       "25%       4383.000000\n",
       "50%       4812.000000\n",
       "75%       5259.000000\n",
       "max       6527.000000\n",
       "Name: births, dtype: float64"
      ]
     },
     "execution_count": 41,
     "metadata": {},
     "output_type": "execute_result"
    }
   ],
   "source": [
    "births.births.describe()"
   ]
  },
  {
   "cell_type": "code",
   "execution_count": 42,
   "id": "ce05a233",
   "metadata": {},
   "outputs": [
    {
     "data": {
      "text/plain": [
       "year      0\n",
       "month     0\n",
       "day       0\n",
       "gender    0\n",
       "births    0\n",
       "decade    0\n",
       "dtype: int64"
      ]
     },
     "execution_count": 42,
     "metadata": {},
     "output_type": "execute_result"
    }
   ],
   "source": [
    "births.isna().sum()"
   ]
  },
  {
   "cell_type": "code",
   "execution_count": 43,
   "id": "a76d8533",
   "metadata": {},
   "outputs": [],
   "source": [
    "#now since there are no more NaN values convert day column to int\n",
    "births['day'] = births['day'].astype(int)"
   ]
  },
  {
   "cell_type": "code",
   "execution_count": 44,
   "id": "7c9ddc49",
   "metadata": {},
   "outputs": [
    {
     "data": {
      "text/plain": [
       "0        19690101\n",
       "1        19690101\n",
       "2        19690102\n",
       "3        19690102\n",
       "4        19690103\n",
       "           ...   \n",
       "15062    19881229\n",
       "15063    19881230\n",
       "15064    19881230\n",
       "15065    19881231\n",
       "15066    19881231\n",
       "Length: 14610, dtype: int64"
      ]
     },
     "execution_count": 44,
     "metadata": {},
     "output_type": "execute_result"
    }
   ],
   "source": [
    "#put the dates in the right format to create datetime index\n",
    "dates = 10000 * births.year + 100 * births.month + births.day\n",
    "dates"
   ]
  },
  {
   "cell_type": "code",
   "execution_count": 45,
   "id": "828479c5",
   "metadata": {},
   "outputs": [],
   "source": [
    "births.index = pd.to_datetime(dates, format='%Y%m%d')\n",
    "\n",
    "births['dayofweek'] = births.index.dayofweek"
   ]
  },
  {
   "cell_type": "code",
   "execution_count": 46,
   "id": "e239a6e1",
   "metadata": {},
   "outputs": [],
   "source": [
    "weekday_mapping = {\n",
    "    0: 'Monday',\n",
    "    1: 'Tuesday',\n",
    "    2: 'Wednesday',\n",
    "    3: 'Thursday',\n",
    "    4: 'Friday',\n",
    "    5: 'Saturday',\n",
    "    6: 'Sunday'\n",
    "}\n",
    "\n",
    "births['weekdays'] = births['dayofweek'].map(weekday_mapping)"
   ]
  },
  {
   "cell_type": "code",
   "execution_count": 47,
   "id": "b864ab0f",
   "metadata": {},
   "outputs": [
    {
     "data": {
      "text/html": [
       "<div>\n",
       "<style scoped>\n",
       "    .dataframe tbody tr th:only-of-type {\n",
       "        vertical-align: middle;\n",
       "    }\n",
       "\n",
       "    .dataframe tbody tr th {\n",
       "        vertical-align: top;\n",
       "    }\n",
       "\n",
       "    .dataframe thead th {\n",
       "        text-align: right;\n",
       "    }\n",
       "</style>\n",
       "<table border=\"1\" class=\"dataframe\">\n",
       "  <thead>\n",
       "    <tr style=\"text-align: right;\">\n",
       "      <th></th>\n",
       "      <th>year</th>\n",
       "      <th>month</th>\n",
       "      <th>day</th>\n",
       "      <th>gender</th>\n",
       "      <th>births</th>\n",
       "      <th>decade</th>\n",
       "      <th>dayofweek</th>\n",
       "      <th>weekdays</th>\n",
       "    </tr>\n",
       "  </thead>\n",
       "  <tbody>\n",
       "    <tr>\n",
       "      <th>1969-01-01</th>\n",
       "      <td>1969</td>\n",
       "      <td>1</td>\n",
       "      <td>1</td>\n",
       "      <td>F</td>\n",
       "      <td>4046</td>\n",
       "      <td>1960</td>\n",
       "      <td>2</td>\n",
       "      <td>Wednesday</td>\n",
       "    </tr>\n",
       "    <tr>\n",
       "      <th>1969-01-01</th>\n",
       "      <td>1969</td>\n",
       "      <td>1</td>\n",
       "      <td>1</td>\n",
       "      <td>M</td>\n",
       "      <td>4440</td>\n",
       "      <td>1960</td>\n",
       "      <td>2</td>\n",
       "      <td>Wednesday</td>\n",
       "    </tr>\n",
       "    <tr>\n",
       "      <th>1969-01-02</th>\n",
       "      <td>1969</td>\n",
       "      <td>1</td>\n",
       "      <td>2</td>\n",
       "      <td>F</td>\n",
       "      <td>4454</td>\n",
       "      <td>1960</td>\n",
       "      <td>3</td>\n",
       "      <td>Thursday</td>\n",
       "    </tr>\n",
       "    <tr>\n",
       "      <th>1969-01-02</th>\n",
       "      <td>1969</td>\n",
       "      <td>1</td>\n",
       "      <td>2</td>\n",
       "      <td>M</td>\n",
       "      <td>4548</td>\n",
       "      <td>1960</td>\n",
       "      <td>3</td>\n",
       "      <td>Thursday</td>\n",
       "    </tr>\n",
       "    <tr>\n",
       "      <th>1969-01-03</th>\n",
       "      <td>1969</td>\n",
       "      <td>1</td>\n",
       "      <td>3</td>\n",
       "      <td>F</td>\n",
       "      <td>4548</td>\n",
       "      <td>1960</td>\n",
       "      <td>4</td>\n",
       "      <td>Friday</td>\n",
       "    </tr>\n",
       "    <tr>\n",
       "      <th>...</th>\n",
       "      <td>...</td>\n",
       "      <td>...</td>\n",
       "      <td>...</td>\n",
       "      <td>...</td>\n",
       "      <td>...</td>\n",
       "      <td>...</td>\n",
       "      <td>...</td>\n",
       "      <td>...</td>\n",
       "    </tr>\n",
       "    <tr>\n",
       "      <th>1988-12-29</th>\n",
       "      <td>1988</td>\n",
       "      <td>12</td>\n",
       "      <td>29</td>\n",
       "      <td>M</td>\n",
       "      <td>5944</td>\n",
       "      <td>1980</td>\n",
       "      <td>3</td>\n",
       "      <td>Thursday</td>\n",
       "    </tr>\n",
       "    <tr>\n",
       "      <th>1988-12-30</th>\n",
       "      <td>1988</td>\n",
       "      <td>12</td>\n",
       "      <td>30</td>\n",
       "      <td>F</td>\n",
       "      <td>5742</td>\n",
       "      <td>1980</td>\n",
       "      <td>4</td>\n",
       "      <td>Friday</td>\n",
       "    </tr>\n",
       "    <tr>\n",
       "      <th>1988-12-30</th>\n",
       "      <td>1988</td>\n",
       "      <td>12</td>\n",
       "      <td>30</td>\n",
       "      <td>M</td>\n",
       "      <td>6095</td>\n",
       "      <td>1980</td>\n",
       "      <td>4</td>\n",
       "      <td>Friday</td>\n",
       "    </tr>\n",
       "    <tr>\n",
       "      <th>1988-12-31</th>\n",
       "      <td>1988</td>\n",
       "      <td>12</td>\n",
       "      <td>31</td>\n",
       "      <td>F</td>\n",
       "      <td>4435</td>\n",
       "      <td>1980</td>\n",
       "      <td>5</td>\n",
       "      <td>Saturday</td>\n",
       "    </tr>\n",
       "    <tr>\n",
       "      <th>1988-12-31</th>\n",
       "      <td>1988</td>\n",
       "      <td>12</td>\n",
       "      <td>31</td>\n",
       "      <td>M</td>\n",
       "      <td>4698</td>\n",
       "      <td>1980</td>\n",
       "      <td>5</td>\n",
       "      <td>Saturday</td>\n",
       "    </tr>\n",
       "  </tbody>\n",
       "</table>\n",
       "<p>14610 rows × 8 columns</p>\n",
       "</div>"
      ],
      "text/plain": [
       "            year  month  day gender  births  decade  dayofweek   weekdays\n",
       "1969-01-01  1969      1    1      F    4046    1960          2  Wednesday\n",
       "1969-01-01  1969      1    1      M    4440    1960          2  Wednesday\n",
       "1969-01-02  1969      1    2      F    4454    1960          3   Thursday\n",
       "1969-01-02  1969      1    2      M    4548    1960          3   Thursday\n",
       "1969-01-03  1969      1    3      F    4548    1960          4     Friday\n",
       "...          ...    ...  ...    ...     ...     ...        ...        ...\n",
       "1988-12-29  1988     12   29      M    5944    1980          3   Thursday\n",
       "1988-12-30  1988     12   30      F    5742    1980          4     Friday\n",
       "1988-12-30  1988     12   30      M    6095    1980          4     Friday\n",
       "1988-12-31  1988     12   31      F    4435    1980          5   Saturday\n",
       "1988-12-31  1988     12   31      M    4698    1980          5   Saturday\n",
       "\n",
       "[14610 rows x 8 columns]"
      ]
     },
     "execution_count": 47,
     "metadata": {},
     "output_type": "execute_result"
    }
   ],
   "source": [
    "births"
   ]
  },
  {
   "cell_type": "code",
   "execution_count": 48,
   "id": "3abf4ffa",
   "metadata": {},
   "outputs": [],
   "source": [
    "#births.drop(['year', 'day', 'month'], axis=1, inplace=True)\n",
    "#births"
   ]
  },
  {
   "cell_type": "code",
   "execution_count": 49,
   "id": "bdd30121",
   "metadata": {},
   "outputs": [
    {
     "data": {
      "image/png": "[encoded data removed]",
      "text/plain": [
       "<Figure size 640x480 with 1 Axes>"
      ]
     },
     "metadata": {},
     "output_type": "display_data"
    },
    {
     "data": {
      "image/png": "[encoded data removed]",
      "text/plain": [
       "<Figure size 640x480 with 1 Axes>"
      ]
     },
     "metadata": {},
     "output_type": "display_data"
    }
   ],
   "source": [
    "table = births.pivot_table('births', index='dayofweek',\n",
    "                    columns='decade', aggfunc='mean')\n",
    "table.plot()\n",
    "plt.show()\n",
    "plt.plot(['Mon', 'Tues', 'Wed', 'Thurs', 'Fri', 'Sat', 'Sun'], table.values)\n",
    "plt.show()"
   ]
  },
  {
   "cell_type": "code",
   "execution_count": 71,
   "id": "f0b1a232",
   "metadata": {},
   "outputs": [
    {
     "data": {
      "text/html": [
       "<div>\n",
       "<style scoped>\n",
       "    .dataframe tbody tr th:only-of-type {\n",
       "        vertical-align: middle;\n",
       "    }\n",
       "\n",
       "    .dataframe tbody tr th {\n",
       "        vertical-align: top;\n",
       "    }\n",
       "\n",
       "    .dataframe thead tr th {\n",
       "        text-align: left;\n",
       "    }\n",
       "</style>\n",
       "<table border=\"1\" class=\"dataframe\">\n",
       "  <thead>\n",
       "    <tr>\n",
       "      <th></th>\n",
       "      <th colspan=\"21\" halign=\"left\">births</th>\n",
       "    </tr>\n",
       "    <tr>\n",
       "      <th></th>\n",
       "      <th>1</th>\n",
       "      <th>2</th>\n",
       "      <th>3</th>\n",
       "      <th>4</th>\n",
       "      <th>5</th>\n",
       "      <th>6</th>\n",
       "      <th>7</th>\n",
       "      <th>8</th>\n",
       "      <th>9</th>\n",
       "      <th>10</th>\n",
       "      <th>...</th>\n",
       "      <th>22</th>\n",
       "      <th>23</th>\n",
       "      <th>24</th>\n",
       "      <th>25</th>\n",
       "      <th>26</th>\n",
       "      <th>27</th>\n",
       "      <th>28</th>\n",
       "      <th>29</th>\n",
       "      <th>30</th>\n",
       "      <th>31</th>\n",
       "    </tr>\n",
       "  </thead>\n",
       "  <tbody>\n",
       "    <tr>\n",
       "      <th>1</th>\n",
       "      <td>4009.225</td>\n",
       "      <td>4247.400</td>\n",
       "      <td>4500.900</td>\n",
       "      <td>4571.350</td>\n",
       "      <td>4603.625</td>\n",
       "      <td>4668.150</td>\n",
       "      <td>4706.925</td>\n",
       "      <td>4629.650</td>\n",
       "      <td>4537.775</td>\n",
       "      <td>4591.700</td>\n",
       "      <td>...</td>\n",
       "      <td>4742.800</td>\n",
       "      <td>4666.750</td>\n",
       "      <td>4653.200</td>\n",
       "      <td>4698.000</td>\n",
       "      <td>4715.900</td>\n",
       "      <td>4747.025</td>\n",
       "      <td>4771.800</td>\n",
       "      <td>4702.300</td>\n",
       "      <td>4644.225</td>\n",
       "      <td>4598.275</td>\n",
       "    </tr>\n",
       "    <tr>\n",
       "      <th>2</th>\n",
       "      <td>4661.450</td>\n",
       "      <td>4743.025</td>\n",
       "      <td>4761.825</td>\n",
       "      <td>4760.825</td>\n",
       "      <td>4728.300</td>\n",
       "      <td>4678.100</td>\n",
       "      <td>4649.650</td>\n",
       "      <td>4668.525</td>\n",
       "      <td>4713.575</td>\n",
       "      <td>4800.850</td>\n",
       "      <td>...</td>\n",
       "      <td>4751.525</td>\n",
       "      <td>4757.450</td>\n",
       "      <td>4829.000</td>\n",
       "      <td>4857.025</td>\n",
       "      <td>4790.575</td>\n",
       "      <td>4693.750</td>\n",
       "      <td>4695.300</td>\n",
       "      <td>4623.400</td>\n",
       "      <td>NaN</td>\n",
       "      <td>NaN</td>\n",
       "    </tr>\n",
       "    <tr>\n",
       "      <th>3</th>\n",
       "      <td>4742.175</td>\n",
       "      <td>4750.550</td>\n",
       "      <td>4871.775</td>\n",
       "      <td>4821.550</td>\n",
       "      <td>4781.600</td>\n",
       "      <td>4721.875</td>\n",
       "      <td>4722.450</td>\n",
       "      <td>4718.225</td>\n",
       "      <td>4692.075</td>\n",
       "      <td>4785.375</td>\n",
       "      <td>...</td>\n",
       "      <td>4667.200</td>\n",
       "      <td>4697.200</td>\n",
       "      <td>4725.050</td>\n",
       "      <td>4773.650</td>\n",
       "      <td>4722.825</td>\n",
       "      <td>4680.850</td>\n",
       "      <td>4694.650</td>\n",
       "      <td>4665.025</td>\n",
       "      <td>4663.425</td>\n",
       "      <td>4723.250</td>\n",
       "    </tr>\n",
       "    <tr>\n",
       "      <th>4</th>\n",
       "      <td>4623.825</td>\n",
       "      <td>4743.825</td>\n",
       "      <td>4652.925</td>\n",
       "      <td>4679.525</td>\n",
       "      <td>4586.825</td>\n",
       "      <td>4642.850</td>\n",
       "      <td>4689.850</td>\n",
       "      <td>4712.025</td>\n",
       "      <td>4649.875</td>\n",
       "      <td>4610.675</td>\n",
       "      <td>...</td>\n",
       "      <td>4686.700</td>\n",
       "      <td>4643.725</td>\n",
       "      <td>4581.150</td>\n",
       "      <td>4602.250</td>\n",
       "      <td>4588.500</td>\n",
       "      <td>4571.950</td>\n",
       "      <td>4656.550</td>\n",
       "      <td>4613.250</td>\n",
       "      <td>4615.100</td>\n",
       "      <td>NaN</td>\n",
       "    </tr>\n",
       "    <tr>\n",
       "      <th>5</th>\n",
       "      <td>4651.275</td>\n",
       "      <td>4616.700</td>\n",
       "      <td>4570.225</td>\n",
       "      <td>4577.000</td>\n",
       "      <td>4687.300</td>\n",
       "      <td>4678.950</td>\n",
       "      <td>4658.950</td>\n",
       "      <td>4623.750</td>\n",
       "      <td>4608.850</td>\n",
       "      <td>4623.175</td>\n",
       "      <td>...</td>\n",
       "      <td>4713.500</td>\n",
       "      <td>4721.100</td>\n",
       "      <td>4689.125</td>\n",
       "      <td>4661.925</td>\n",
       "      <td>4657.750</td>\n",
       "      <td>4738.150</td>\n",
       "      <td>4671.650</td>\n",
       "      <td>4704.050</td>\n",
       "      <td>4601.175</td>\n",
       "      <td>4597.050</td>\n",
       "    </tr>\n",
       "    <tr>\n",
       "      <th>6</th>\n",
       "      <td>4751.475</td>\n",
       "      <td>4804.650</td>\n",
       "      <td>4783.275</td>\n",
       "      <td>4744.475</td>\n",
       "      <td>4706.875</td>\n",
       "      <td>4771.850</td>\n",
       "      <td>4681.050</td>\n",
       "      <td>4681.950</td>\n",
       "      <td>4784.275</td>\n",
       "      <td>4831.375</td>\n",
       "      <td>...</td>\n",
       "      <td>4795.625</td>\n",
       "      <td>4850.550</td>\n",
       "      <td>4897.525</td>\n",
       "      <td>4890.925</td>\n",
       "      <td>4853.975</td>\n",
       "      <td>4852.325</td>\n",
       "      <td>4862.975</td>\n",
       "      <td>4881.650</td>\n",
       "      <td>4981.600</td>\n",
       "      <td>NaN</td>\n",
       "    </tr>\n",
       "    <tr>\n",
       "      <th>7</th>\n",
       "      <td>5021.975</td>\n",
       "      <td>5021.450</td>\n",
       "      <td>4869.425</td>\n",
       "      <td>4335.325</td>\n",
       "      <td>4698.825</td>\n",
       "      <td>4984.500</td>\n",
       "      <td>5153.425</td>\n",
       "      <td>5159.800</td>\n",
       "      <td>5075.400</td>\n",
       "      <td>5041.300</td>\n",
       "      <td>...</td>\n",
       "      <td>5135.675</td>\n",
       "      <td>5092.275</td>\n",
       "      <td>5036.050</td>\n",
       "      <td>5029.325</td>\n",
       "      <td>4998.700</td>\n",
       "      <td>5070.250</td>\n",
       "      <td>5133.525</td>\n",
       "      <td>5151.900</td>\n",
       "      <td>5101.225</td>\n",
       "      <td>5045.275</td>\n",
       "    </tr>\n",
       "    <tr>\n",
       "      <th>8</th>\n",
       "      <td>5068.000</td>\n",
       "      <td>5008.525</td>\n",
       "      <td>5065.250</td>\n",
       "      <td>5087.950</td>\n",
       "      <td>5108.000</td>\n",
       "      <td>5110.925</td>\n",
       "      <td>5082.675</td>\n",
       "      <td>5153.575</td>\n",
       "      <td>5027.775</td>\n",
       "      <td>5083.375</td>\n",
       "      <td>...</td>\n",
       "      <td>5058.850</td>\n",
       "      <td>5007.050</td>\n",
       "      <td>5035.200</td>\n",
       "      <td>5107.675</td>\n",
       "      <td>5167.500</td>\n",
       "      <td>5124.700</td>\n",
       "      <td>5099.775</td>\n",
       "      <td>5062.000</td>\n",
       "      <td>5027.850</td>\n",
       "      <td>5048.650</td>\n",
       "    </tr>\n",
       "    <tr>\n",
       "      <th>9</th>\n",
       "      <td>4908.325</td>\n",
       "      <td>4982.000</td>\n",
       "      <td>5003.925</td>\n",
       "      <td>5013.400</td>\n",
       "      <td>4954.600</td>\n",
       "      <td>4955.000</td>\n",
       "      <td>4995.450</td>\n",
       "      <td>5165.475</td>\n",
       "      <td>5263.400</td>\n",
       "      <td>5214.500</td>\n",
       "      <td>...</td>\n",
       "      <td>5316.825</td>\n",
       "      <td>5320.425</td>\n",
       "      <td>5284.050</td>\n",
       "      <td>5240.000</td>\n",
       "      <td>5250.650</td>\n",
       "      <td>5190.150</td>\n",
       "      <td>5168.450</td>\n",
       "      <td>5218.825</td>\n",
       "      <td>5224.775</td>\n",
       "      <td>NaN</td>\n",
       "    </tr>\n",
       "    <tr>\n",
       "      <th>10</th>\n",
       "      <td>5167.325</td>\n",
       "      <td>5103.625</td>\n",
       "      <td>5067.375</td>\n",
       "      <td>5005.175</td>\n",
       "      <td>5025.075</td>\n",
       "      <td>5048.100</td>\n",
       "      <td>5024.100</td>\n",
       "      <td>4989.875</td>\n",
       "      <td>4945.425</td>\n",
       "      <td>4975.975</td>\n",
       "      <td>...</td>\n",
       "      <td>4810.250</td>\n",
       "      <td>4755.500</td>\n",
       "      <td>4758.775</td>\n",
       "      <td>4744.350</td>\n",
       "      <td>4788.050</td>\n",
       "      <td>4821.350</td>\n",
       "      <td>4826.100</td>\n",
       "      <td>4775.575</td>\n",
       "      <td>4745.050</td>\n",
       "      <td>4662.800</td>\n",
       "    </tr>\n",
       "    <tr>\n",
       "      <th>11</th>\n",
       "      <td>4729.800</td>\n",
       "      <td>4727.150</td>\n",
       "      <td>4821.775</td>\n",
       "      <td>4849.400</td>\n",
       "      <td>4808.075</td>\n",
       "      <td>4758.475</td>\n",
       "      <td>4783.175</td>\n",
       "      <td>4752.750</td>\n",
       "      <td>4784.125</td>\n",
       "      <td>4836.300</td>\n",
       "      <td>...</td>\n",
       "      <td>4601.900</td>\n",
       "      <td>4650.650</td>\n",
       "      <td>4647.125</td>\n",
       "      <td>4649.800</td>\n",
       "      <td>4587.250</td>\n",
       "      <td>4511.550</td>\n",
       "      <td>4590.775</td>\n",
       "      <td>4676.725</td>\n",
       "      <td>4765.475</td>\n",
       "      <td>NaN</td>\n",
       "    </tr>\n",
       "    <tr>\n",
       "      <th>12</th>\n",
       "      <td>4836.500</td>\n",
       "      <td>4830.300</td>\n",
       "      <td>4758.500</td>\n",
       "      <td>4718.725</td>\n",
       "      <td>4734.675</td>\n",
       "      <td>4683.050</td>\n",
       "      <td>4704.325</td>\n",
       "      <td>4803.800</td>\n",
       "      <td>4793.825</td>\n",
       "      <td>4785.325</td>\n",
       "      <td>...</td>\n",
       "      <td>4661.925</td>\n",
       "      <td>4466.675</td>\n",
       "      <td>4126.250</td>\n",
       "      <td>3844.450</td>\n",
       "      <td>4383.525</td>\n",
       "      <td>4850.150</td>\n",
       "      <td>5044.200</td>\n",
       "      <td>5120.150</td>\n",
       "      <td>5172.350</td>\n",
       "      <td>4859.200</td>\n",
       "    </tr>\n",
       "  </tbody>\n",
       "</table>\n",
       "<p>12 rows × 31 columns</p>\n",
       "</div>"
      ],
      "text/plain": [
       "      births                                                              \\\n",
       "          1         2         3         4         5         6         7    \n",
       "1   4009.225  4247.400  4500.900  4571.350  4603.625  4668.150  4706.925   \n",
       "2   4661.450  4743.025  4761.825  4760.825  4728.300  4678.100  4649.650   \n",
       "3   4742.175  4750.550  4871.775  4821.550  4781.600  4721.875  4722.450   \n",
       "4   4623.825  4743.825  4652.925  4679.525  4586.825  4642.850  4689.850   \n",
       "5   4651.275  4616.700  4570.225  4577.000  4687.300  4678.950  4658.950   \n",
       "6   4751.475  4804.650  4783.275  4744.475  4706.875  4771.850  4681.050   \n",
       "7   5021.975  5021.450  4869.425  4335.325  4698.825  4984.500  5153.425   \n",
       "8   5068.000  5008.525  5065.250  5087.950  5108.000  5110.925  5082.675   \n",
       "9   4908.325  4982.000  5003.925  5013.400  4954.600  4955.000  4995.450   \n",
       "10  5167.325  5103.625  5067.375  5005.175  5025.075  5048.100  5024.100   \n",
       "11  4729.800  4727.150  4821.775  4849.400  4808.075  4758.475  4783.175   \n",
       "12  4836.500  4830.300  4758.500  4718.725  4734.675  4683.050  4704.325   \n",
       "\n",
       "                                  ...                                          \\\n",
       "          8         9         10  ...        22        23        24        25   \n",
       "1   4629.650  4537.775  4591.700  ...  4742.800  4666.750  4653.200  4698.000   \n",
       "2   4668.525  4713.575  4800.850  ...  4751.525  4757.450  4829.000  4857.025   \n",
       "3   4718.225  4692.075  4785.375  ...  4667.200  4697.200  4725.050  4773.650   \n",
       "4   4712.025  4649.875  4610.675  ...  4686.700  4643.725  4581.150  4602.250   \n",
       "5   4623.750  4608.850  4623.175  ...  4713.500  4721.100  4689.125  4661.925   \n",
       "6   4681.950  4784.275  4831.375  ...  4795.625  4850.550  4897.525  4890.925   \n",
       "7   5159.800  5075.400  5041.300  ...  5135.675  5092.275  5036.050  5029.325   \n",
       "8   5153.575  5027.775  5083.375  ...  5058.850  5007.050  5035.200  5107.675   \n",
       "9   5165.475  5263.400  5214.500  ...  5316.825  5320.425  5284.050  5240.000   \n",
       "10  4989.875  4945.425  4975.975  ...  4810.250  4755.500  4758.775  4744.350   \n",
       "11  4752.750  4784.125  4836.300  ...  4601.900  4650.650  4647.125  4649.800   \n",
       "12  4803.800  4793.825  4785.325  ...  4661.925  4466.675  4126.250  3844.450   \n",
       "\n",
       "                                                                \n",
       "          26        27        28        29        30        31  \n",
       "1   4715.900  4747.025  4771.800  4702.300  4644.225  4598.275  \n",
       "2   4790.575  4693.750  4695.300  4623.400       NaN       NaN  \n",
       "3   4722.825  4680.850  4694.650  4665.025  4663.425  4723.250  \n",
       "4   4588.500  4571.950  4656.550  4613.250  4615.100       NaN  \n",
       "5   4657.750  4738.150  4671.650  4704.050  4601.175  4597.050  \n",
       "6   4853.975  4852.325  4862.975  4881.650  4981.600       NaN  \n",
       "7   4998.700  5070.250  5133.525  5151.900  5101.225  5045.275  \n",
       "8   5167.500  5124.700  5099.775  5062.000  5027.850  5048.650  \n",
       "9   5250.650  5190.150  5168.450  5218.825  5224.775       NaN  \n",
       "10  4788.050  4821.350  4826.100  4775.575  4745.050  4662.800  \n",
       "11  4587.250  4511.550  4590.775  4676.725  4765.475       NaN  \n",
       "12  4383.525  4850.150  5044.200  5120.150  5172.350  4859.200  \n",
       "\n",
       "[12 rows x 31 columns]"
      ]
     },
     "execution_count": 71,
     "metadata": {},
     "output_type": "execute_result"
    }
   ],
   "source": [
    "births_by_date = births.pivot_table('births', [births.index.month, births.index.day])\n",
    "births_by_date.unstack()"
   ]
  },
  {
   "cell_type": "code",
   "execution_count": 65,
   "id": "9ec44cda",
   "metadata": {},
   "outputs": [
    {
     "data": {
      "text/html": [
       "<div>\n",
       "<style scoped>\n",
       "    .dataframe tbody tr th:only-of-type {\n",
       "        vertical-align: middle;\n",
       "    }\n",
       "\n",
       "    .dataframe tbody tr th {\n",
       "        vertical-align: top;\n",
       "    }\n",
       "\n",
       "    .dataframe thead th {\n",
       "        text-align: right;\n",
       "    }\n",
       "</style>\n",
       "<table border=\"1\" class=\"dataframe\">\n",
       "  <thead>\n",
       "    <tr style=\"text-align: right;\">\n",
       "      <th></th>\n",
       "      <th>births</th>\n",
       "    </tr>\n",
       "  </thead>\n",
       "  <tbody>\n",
       "    <tr>\n",
       "      <th>2012-01-01</th>\n",
       "      <td>4009.225</td>\n",
       "    </tr>\n",
       "    <tr>\n",
       "      <th>2012-01-02</th>\n",
       "      <td>4247.400</td>\n",
       "    </tr>\n",
       "    <tr>\n",
       "      <th>2012-01-03</th>\n",
       "      <td>4500.900</td>\n",
       "    </tr>\n",
       "    <tr>\n",
       "      <th>2012-01-04</th>\n",
       "      <td>4571.350</td>\n",
       "    </tr>\n",
       "    <tr>\n",
       "      <th>2012-01-05</th>\n",
       "      <td>4603.625</td>\n",
       "    </tr>\n",
       "  </tbody>\n",
       "</table>\n",
       "</div>"
      ],
      "text/plain": [
       "              births\n",
       "2012-01-01  4009.225\n",
       "2012-01-02  4247.400\n",
       "2012-01-03  4500.900\n",
       "2012-01-04  4571.350\n",
       "2012-01-05  4603.625"
      ]
     },
     "execution_count": 65,
     "metadata": {},
     "output_type": "execute_result"
    }
   ],
   "source": [
    "#note here the 2012 year is only a placeholder to get the nice default y_ticks_labels in the plot.\n",
    "births_by_date.index = [pd.to_datetime('2012-{}-{}'.format(month, day))\n",
    "                        for (month, day) in births_by_date.index]\n",
    "births_by_date.head()"
   ]
  },
  {
   "cell_type": "code",
   "execution_count": 70,
   "id": "a4fbc23c",
   "metadata": {},
   "outputs": [
    {
     "data": {
      "image/png": "[encoded data removed]",
      "text/plain": [
       "<Figure size 1200x400 with 1 Axes>"
      ]
     },
     "metadata": {},
     "output_type": "display_data"
    }
   ],
   "source": [
    "fig, ax = plt.subplots(figsize=(12, 4))\n",
    "births_by_date.plot(ax=ax);"
   ]
  },
  {
   "cell_type": "code",
   "execution_count": null,
   "id": "9798a96d",
   "metadata": {},
   "outputs": [],
   "source": []
  },
  {
   "cell_type": "code",
   "execution_count": null,
   "id": "355296d5",
   "metadata": {},
   "outputs": [],
   "source": []
  },
  {
   "cell_type": "code",
   "execution_count": null,
   "id": "b47e47ae",
   "metadata": {},
   "outputs": [],
   "source": []
  },
  {
   "cell_type": "code",
   "execution_count": null,
   "id": "e0f4e2a3",
   "metadata": {},
   "outputs": [],
   "source": []
  },
  {
   "cell_type": "code",
   "execution_count": 72,
   "id": "f77259fc",
   "metadata": {},
   "outputs": [],
   "source": [
    "from math import *"
   ]
  },
  {
   "cell_type": "code",
   "execution_count": 73,
   "id": "6d42e413",
   "metadata": {},
   "outputs": [
    {
     "data": {
      "text/plain": [
       "(0.9999999999999999, 45.0)"
      ]
     },
     "execution_count": 73,
     "metadata": {},
     "output_type": "execute_result"
    }
   ],
   "source": [
    "tan(radians(45)), degrees(atan(1))"
   ]
  },
  {
   "cell_type": "code",
   "execution_count": 74,
   "id": "4683c711",
   "metadata": {},
   "outputs": [],
   "source": [
    "t = tan\n",
    "r = radians"
   ]
  },
  {
   "cell_type": "code",
   "execution_count": 75,
   "id": "24e7314e",
   "metadata": {},
   "outputs": [
    {
     "data": {
      "text/plain": [
       "0.9999999999999999"
      ]
     },
     "execution_count": 75,
     "metadata": {},
     "output_type": "execute_result"
    }
   ],
   "source": [
    "t(r(45))"
   ]
  },
  {
   "cell_type": "code",
   "execution_count": 76,
   "id": "72002dc2",
   "metadata": {},
   "outputs": [],
   "source": [
    "rad_tan = lambda x: t(r(x))\n",
    "atan_rad = lambda x: degrees(atan(x))"
   ]
  },
  {
   "cell_type": "code",
   "execution_count": 77,
   "id": "d13939e7",
   "metadata": {},
   "outputs": [
    {
     "data": {
      "text/plain": [
       "(45.0, 0.9999999999999999)"
      ]
     },
     "execution_count": 77,
     "metadata": {},
     "output_type": "execute_result"
    }
   ],
   "source": [
    "atan_rad(1), rad_tan(45)"
   ]
  },
  {
   "cell_type": "code",
   "execution_count": null,
   "id": "e976170c",
   "metadata": {},
   "outputs": [],
   "source": []
  }
 ],
 "metadata": {
  "kernelspec": {
   "display_name": "Python 3 (ipykernel)",
   "language": "python",
   "name": "python3"
  },
  "language_info": {
   "codemirror_mode": {
    "name": "ipython",
    "version": 3
   },
   "file_extension": ".py",
   "mimetype": "text/x-python",
   "name": "python",
   "nbconvert_exporter": "python",
   "pygments_lexer": "ipython3",
   "version": "3.11.3"
  }
 },
 "nbformat": 4,
 "nbformat_minor": 5
}
