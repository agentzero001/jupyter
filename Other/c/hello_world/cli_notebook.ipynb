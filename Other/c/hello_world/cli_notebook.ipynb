{
 "cells": [
  {
   "cell_type": "code",
   "execution_count": 4,
   "id": "b26a4951",
   "metadata": {},
   "outputs": [
    {
     "name": "stdout",
     "output_type": "stream",
     "text": [
      "Overwriting hello_world_c.c\n"
     ]
    }
   ],
   "source": [
    "%%file hello_world_c.c\n",
    "\n",
    "#include <stdio.h>\n",
    "\n",
    "int main() {\n",
    "    printf(\"Hello, World!\");\n",
    "    return 0;\n",
    "}"
   ]
  },
  {
   "cell_type": "code",
   "execution_count": 5,
   "id": "60d05e77",
   "metadata": {},
   "outputs": [],
   "source": [
    "!gcc hello_world_c.c -o hello_world_c"
   ]
  },
  {
   "cell_type": "code",
   "execution_count": 6,
   "id": "094f2be6",
   "metadata": {},
   "outputs": [
    {
     "name": "stdout",
     "output_type": "stream",
     "text": [
      "Hello, World!\n"
     ]
    }
   ],
   "source": [
    "!hello_world_c.exe"
   ]
  },
  {
   "cell_type": "code",
   "execution_count": 44,
   "id": "72a86b24",
   "metadata": {},
   "outputs": [
    {
     "name": "stdout",
     "output_type": "stream",
     "text": [
      "Overwriting hello_world_asm.s\n"
     ]
    }
   ],
   "source": [
    "%%file hello_world_asm.s\n",
    ".section .rdata,\"dr\"\n",
    ".LC0:\n",
    "    .ascii \"Hello, World!!\\0\"\n",
    "\n",
    ".text\n",
    ".global main\n",
    "\n",
    "main:\n",
    "    pushq   %rbp\n",
    "    movq    %rsp, %rbp\n",
    "    subq    $32, %rsp\n",
    "    call    __main\n",
    "    leaq    .LC0(%rip), %rax\n",
    "    movq    %rax, %rcx\n",
    "    call    printf\n",
    "    movl    $0, %eax\n",
    "    addq    $32, %rsp\n",
    "    popq    %rbp\n",
    "    ret\n"
   ]
  },
  {
   "cell_type": "code",
   "execution_count": 45,
   "id": "320184b9",
   "metadata": {},
   "outputs": [],
   "source": [
    "!gcc hello_world_asm.s -o hello_world_asm"
   ]
  },
  {
   "cell_type": "code",
   "execution_count": 46,
   "id": "cc3cb5e3",
   "metadata": {},
   "outputs": [
    {
     "name": "stdout",
     "output_type": "stream",
     "text": [
      "Hello, World!!\n"
     ]
    }
   ],
   "source": [
    "!hello_world_asm.exe"
   ]
  },
  {
   "cell_type": "code",
   "execution_count": 22,
   "id": "3237db43",
   "metadata": {},
   "outputs": [
    {
     "name": "stdout",
     "output_type": "stream",
     "text": [
      "Overwriting assign_and_add.c\n"
     ]
    }
   ],
   "source": [
    "%%file assign_and_add.c\n",
    "\n",
    "#include <stdio.h>\n",
    "\n",
    "int main() {\n",
    "    int i = 3;\n",
    "    int a = i + 2;\n",
    "    printf(\"%d\", a);\n",
    "    return 0;\n",
    "}"
   ]
  },
  {
   "cell_type": "code",
   "execution_count": 23,
   "id": "6cfa7600",
   "metadata": {},
   "outputs": [],
   "source": [
    "!gcc assign_and_add.c -o assign_and_add"
   ]
  },
  {
   "cell_type": "code",
   "execution_count": 24,
   "id": "f5a8fa91",
   "metadata": {},
   "outputs": [
    {
     "name": "stdout",
     "output_type": "stream",
     "text": [
      "5\n"
     ]
    }
   ],
   "source": [
    "!assign_and_add.exe"
   ]
  },
  {
   "cell_type": "code",
   "execution_count": 25,
   "id": "4fb8a505",
   "metadata": {},
   "outputs": [],
   "source": [
    "#convert C into asembler\n",
    "!gcc -S -o assign_and_add.s assign_and_add.c"
   ]
  },
  {
   "cell_type": "code",
   "execution_count": 26,
   "id": "aef0c59e",
   "metadata": {},
   "outputs": [
    {
     "name": "stdout",
     "output_type": "stream",
     "text": [
      "\t.file\t\"assign_and_add.c\"\n",
      "\t.text\n",
      "\t.def\tprintf;\t.scl\t3;\t.type\t32;\t.endef\n",
      "\t.seh_proc\tprintf\n",
      "printf:\n",
      "\tpushq\t%rbp\n",
      "\t.seh_pushreg\t%rbp\n",
      "\tpushq\t%rbx\n",
      "\t.seh_pushreg\t%rbx\n",
      "\tsubq\t$56, %rsp\n",
      "\t.seh_stackalloc\t56\n",
      "\tleaq\t48(%rsp), %rbp\n",
      "\t.seh_setframe\t%rbp, 48\n",
      "\t.seh_endprologue\n",
      "\tmovq\t%rcx, 32(%rbp)\n",
      "\tmovq\t%rdx, 40(%rbp)\n",
      "\tmovq\t%r8, 48(%rbp)\n",
      "\tmovq\t%r9, 56(%rbp)\n",
      "\tleaq\t40(%rbp), %rax\n",
      "\tmovq\t%rax, -16(%rbp)\n",
      "\tmovq\t-16(%rbp), %rbx\n",
      "\tmovl\t$1, %ecx\n",
      "\tmovq\t__imp___acrt_iob_func(%rip), %rax\n",
      "\tcall\t*%rax\n",
      "\tmovq\t%rax, %rcx\n",
      "\tmovq\t32(%rbp), %rax\n",
      "\tmovq\t%rbx, %r8\n",
      "\tmovq\t%rax, %rdx\n",
      "\tcall\t__mingw_vfprintf\n",
      "\tmovl\t%eax, -4(%rbp)\n",
      "\tmovl\t-4(%rbp), %eax\n",
      "\taddq\t$56, %rsp\n",
      "\tpopq\t%rbx\n",
      "\tpopq\t%rbp\n",
      "\tret\n",
      "\t.seh_endproc\n",
      "\t.def\t__main;\t.scl\t2;\t.type\t32;\t.endef\n",
      "\t.section .rdata,\"dr\"\n",
      ".LC0:\n",
      "\t.ascii \"%d\\0\"\n",
      "\t.text\n",
      "\t.globl\tmain\n",
      "\t.def\tmain;\t.scl\t2;\t.type\t32;\t.endef\n",
      "\t.seh_proc\tmain\n",
      "main:\n",
      "\tpushq\t%rbp\n",
      "\t.seh_pushreg\t%rbp\n",
      "\tmovq\t%rsp, %rbp\n",
      "\t.seh_setframe\t%rbp, 0\n",
      "\tsubq\t$48, %rsp\n",
      "\t.seh_stackalloc\t48\n",
      "\t.seh_endprologue\n",
      "\tcall\t__main\n",
      "\tmovl\t$3, -4(%rbp)\n",
      "\tmovl\t-4(%rbp), %eax\n",
      "\taddl\t$2, %eax\n",
      "\tmovl\t%eax, -8(%rbp)\n",
      "\tmovl\t-8(%rbp), %eax\n",
      "\tmovl\t%eax, %edx\n",
      "\tleaq\t.LC0(%rip), %rax\n",
      "\tmovq\t%rax, %rcx\n",
      "\tcall\tprintf\n",
      "\tmovl\t$0, %eax\n",
      "\taddq\t$48, %rsp\n",
      "\tpopq\t%rbp\n",
      "\tret\n",
      "\t.seh_endproc\n",
      "\t.ident\t\"GCC: (Rev10, Built by MSYS2 project) 12.2.0\"\n",
      "\t.def\t__mingw_vfprintf;\t.scl\t2;\t.type\t32;\t.endef\n"
     ]
    }
   ],
   "source": [
    "!type assign_and_add.s"
   ]
  },
  {
   "cell_type": "code",
   "execution_count": 29,
   "id": "fc470340",
   "metadata": {},
   "outputs": [],
   "source": [
    "#convert asm into exe\n",
    "!gcc assign_and_add.s -o assign_and_add_asm.exe"
   ]
  },
  {
   "cell_type": "code",
   "execution_count": 30,
   "id": "2281ab1b",
   "metadata": {},
   "outputs": [
    {
     "name": "stdout",
     "output_type": "stream",
     "text": [
      "5\n"
     ]
    }
   ],
   "source": [
    "!assign_and_add_asm.exe"
   ]
  },
  {
   "cell_type": "code",
   "execution_count": null,
   "id": "899b230a",
   "metadata": {},
   "outputs": [],
   "source": []
  }
 ],
 "metadata": {
  "kernelspec": {
   "display_name": "Python 3 (ipykernel)",
   "language": "python",
   "name": "python3"
  },
  "language_info": {
   "codemirror_mode": {
    "name": "ipython",
    "version": 3
   },
   "file_extension": ".py",
   "mimetype": "text/x-python",
   "name": "python",
   "nbconvert_exporter": "python",
   "pygments_lexer": "ipython3",
   "version": "3.11.5"
  }
 },
 "nbformat": 4,
 "nbformat_minor": 5
}
