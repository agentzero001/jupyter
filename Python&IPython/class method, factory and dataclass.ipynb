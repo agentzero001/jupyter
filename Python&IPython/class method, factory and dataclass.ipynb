{
 "cells": [
  {
   "cell_type": "code",
   "execution_count": 15,
   "id": "73a8e622",
   "metadata": {},
   "outputs": [],
   "source": [
    "from dataclasses import dataclass, field\n",
    "\n",
    "class Person:\n",
    "    def __init__(self, name: str, is_cool: bool, age: int):\n",
    "        self.name = name\n",
    "        self.is_cool = is_cool\n",
    "        self.age = age\n",
    "        \n",
    "    \n",
    "    @classmethod\n",
    "    def new_object(cls, name,is_cool,age):\n",
    "        return cls(name,is_cool,age)\n",
    "    \n",
    "    def __repr__(self) -> str:\n",
    "        return 'Name: {} \\nis_cool: {} \\nAge: {}'.format(self.name,self.is_cool,self.age)\n",
    "\n",
    "\n",
    "person1 = Person('jens',True,25)\n",
    "\n",
    "\n",
    "@dataclass\n",
    "class Investor:\n",
    "    name: str\n",
    "    age: int\n",
    "    cash: float = 0.0\n",
    "\n",
    "i1 = Person.new_object('jens',True,25)\n",
    "i2 = Person('Jeff',True,23)\n",
    "i3 = Investor('Jim', 25, 20)"
   ]
  },
  {
   "cell_type": "code",
   "execution_count": 16,
   "id": "0893a446",
   "metadata": {},
   "outputs": [],
   "source": [
    "p1 = Person.new_object('Sven', True, 29)\n",
    "p2 = Person('Sven2', True, 30)"
   ]
  },
  {
   "cell_type": "code",
   "execution_count": 17,
   "id": "57877854",
   "metadata": {},
   "outputs": [
    {
     "data": {
      "text/plain": [
       "(Name: Sven \n",
       " is_cool: True \n",
       " Age: 29,\n",
       " Name: Sven2 \n",
       " is_cool: True \n",
       " Age: 30)"
      ]
     },
     "execution_count": 17,
     "metadata": {},
     "output_type": "execute_result"
    }
   ],
   "source": [
    "p1,p2"
   ]
  },
  {
   "cell_type": "code",
   "execution_count": 18,
   "id": "87f67a47",
   "metadata": {},
   "outputs": [],
   "source": [
    "class MyClass:\n",
    "    def __init__(self, name, city = None):\n",
    "        self.name = name\n",
    "        self.city = city\n",
    "        \n",
    "    @classmethod\n",
    "    def new_yorker(cls,name):        \n",
    "        return cls(name,'New York')\n",
    "    \n",
    "    @classmethod\n",
    "    def Berliner(cls, name):\n",
    "        return cls(name, 'Berlin')\n",
    "    \n",
    "    @classmethod\n",
    "    def no_city(cls, name):\n",
    "        return cls(name)"
   ]
  },
  {
   "cell_type": "code",
   "execution_count": 19,
   "id": "217a5dfe",
   "metadata": {},
   "outputs": [],
   "source": [
    "first = MyClass.new_yorker('jeff')\n",
    "second = MyClass.Berliner('Karl')\n",
    "third = MyClass.no_city('Jim')"
   ]
  },
  {
   "cell_type": "code",
   "execution_count": 20,
   "id": "d88163c8",
   "metadata": {},
   "outputs": [
    {
     "data": {
      "text/plain": [
       "({'name': 'jeff', 'city': 'New York'},\n",
       " {'name': 'Karl', 'city': 'Berlin'},\n",
       " {'name': 'Jim', 'city': None})"
      ]
     },
     "execution_count": 20,
     "metadata": {},
     "output_type": "execute_result"
    }
   ],
   "source": [
    "first.__dict__, second.__dict__, third.__dict__"
   ]
  },
  {
   "cell_type": "code",
   "execution_count": 21,
   "id": "722c7262",
   "metadata": {},
   "outputs": [],
   "source": [
    "class Circle:\n",
    "    def __init__(self, radius):\n",
    "        self.radius = radius\n",
    "    \n",
    "    def area(self):\n",
    "        return 3.14 * (self.radius ** 2)\n",
    "\n",
    "class Rectangle:\n",
    "    def __init__(self, width, height):\n",
    "        self.width = width\n",
    "        self.height = height\n",
    "    \n",
    "    def area(self):\n",
    "        return self.width * self.height\n",
    "    \n",
    "\n",
    "class ShapeFactory:\n",
    "        \n",
    "    @classmethod\n",
    "    def create_shape(cls, shape_type, *args):\n",
    "        \n",
    "        if shape_type == \"circle\":\n",
    "            return Circle(*args)\n",
    "        \n",
    "        elif shape_type == \"rectangle\":\n",
    "            return Rectangle(*args)\n",
    "        \n",
    "        else:\n",
    "            raise ValueError(\"Invalid shape type\")\n",
    "            "
   ]
  },
  {
   "cell_type": "code",
   "execution_count": 22,
   "id": "3eeca194",
   "metadata": {},
   "outputs": [],
   "source": [
    "c1 = ShapeFactory.create_shape('circle',1)\n",
    "r1 = ShapeFactory.create_shape('rectangle',2,10)\n",
    "c2 = Circle(3)"
   ]
  },
  {
   "cell_type": "code",
   "execution_count": 23,
   "id": "0e562249",
   "metadata": {},
   "outputs": [
    {
     "data": {
      "text/plain": [
       "(20, 3.14)"
      ]
     },
     "execution_count": 23,
     "metadata": {},
     "output_type": "execute_result"
    }
   ],
   "source": [
    "r1.area(), c1.area()"
   ]
  },
  {
   "cell_type": "code",
   "execution_count": 24,
   "id": "3a8bc4f5",
   "metadata": {},
   "outputs": [],
   "source": [
    "class Sensor():\n",
    "    def __init__(self, name, location, record_date):\n",
    "        self.name = name\n",
    "        self.location = location\n",
    "        self.record_date = record_date\n",
    "        self.data = {}\n",
    "        \n",
    "    def add_data(self, t, data):\n",
    "        self.data['time'] = t\n",
    "        self.data['data'] = data\n",
    "        print(f'We have {len(data)} points saved')        \n",
    "        \n",
    "    def clear_data(self):\n",
    "        self.data = {}  \n",
    "        print('Data cleared!')"
   ]
  },
  {
   "cell_type": "code",
   "execution_count": 25,
   "id": "3808399f",
   "metadata": {},
   "outputs": [],
   "source": [
    "sensor1 = Sensor('s1','somewhere','23.03.1998')"
   ]
  },
  {
   "cell_type": "code",
   "execution_count": 26,
   "id": "bfaba1af",
   "metadata": {},
   "outputs": [
    {
     "data": {
      "text/plain": [
       "{}"
      ]
     },
     "execution_count": 26,
     "metadata": {},
     "output_type": "execute_result"
    }
   ],
   "source": [
    "sensor1.data"
   ]
  },
  {
   "cell_type": "code",
   "execution_count": 27,
   "id": "4d85e531",
   "metadata": {},
   "outputs": [
    {
     "name": "stdout",
     "output_type": "stream",
     "text": [
      "We have 3 points saved\n"
     ]
    }
   ],
   "source": [
    "sensor1.add_data(3,[1,2,3])"
   ]
  },
  {
   "cell_type": "code",
   "execution_count": 28,
   "id": "ed93ab90",
   "metadata": {},
   "outputs": [
    {
     "data": {
      "text/plain": [
       "{'time': 3, 'data': [1, 2, 3]}"
      ]
     },
     "execution_count": 28,
     "metadata": {},
     "output_type": "execute_result"
    }
   ],
   "source": [
    "sensor1.data"
   ]
  },
  {
   "cell_type": "code",
   "execution_count": 29,
   "id": "d184e7f3",
   "metadata": {},
   "outputs": [
    {
     "name": "stdout",
     "output_type": "stream",
     "text": [
      "Data cleared!\n"
     ]
    }
   ],
   "source": [
    "sensor1.clear_data()"
   ]
  }
 ],
 "metadata": {
  "kernelspec": {
   "display_name": "Python 3 (ipykernel)",
   "language": "python",
   "name": "python3"
  },
  "language_info": {
   "codemirror_mode": {
    "name": "ipython",
    "version": 3
   },
   "file_extension": ".py",
   "mimetype": "text/x-python",
   "name": "python",
   "nbconvert_exporter": "python",
   "pygments_lexer": "ipython3",
   "version": "3.9.13"
  }
 },
 "nbformat": 4,
 "nbformat_minor": 5
}
