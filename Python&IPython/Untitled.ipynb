{
 "cells": [
  {
   "cell_type": "code",
   "execution_count": 1,
   "id": "9de407b1",
   "metadata": {},
   "outputs": [],
   "source": [
    "import collections as c"
   ]
  },
  {
   "cell_type": "code",
   "execution_count": 2,
   "id": "1d72ae7b",
   "metadata": {},
   "outputs": [
    {
     "data": {
      "text/plain": [
       "['ChainMap',\n",
       " 'Counter',\n",
       " 'OrderedDict',\n",
       " 'UserDict',\n",
       " 'UserList',\n",
       " 'UserString',\n",
       " '_Link',\n",
       " '_OrderedDictItemsView',\n",
       " '_OrderedDictKeysView',\n",
       " '_OrderedDictValuesView',\n",
       " '__all__',\n",
       " '__builtins__',\n",
       " '__cached__',\n",
       " '__doc__',\n",
       " '__file__',\n",
       " '__loader__',\n",
       " '__name__',\n",
       " '__package__',\n",
       " '__path__',\n",
       " '__spec__',\n",
       " '_chain',\n",
       " '_collections_abc',\n",
       " '_count_elements',\n",
       " '_eq',\n",
       " '_iskeyword',\n",
       " '_itemgetter',\n",
       " '_proxy',\n",
       " '_recursive_repr',\n",
       " '_repeat',\n",
       " '_starmap',\n",
       " '_sys',\n",
       " '_tuplegetter',\n",
       " 'abc',\n",
       " 'defaultdict',\n",
       " 'deque',\n",
       " 'namedtuple']"
      ]
     },
     "execution_count": 2,
     "metadata": {},
     "output_type": "execute_result"
    }
   ],
   "source": [
    "dir(c)"
   ]
  },
  {
   "cell_type": "code",
   "execution_count": 3,
   "id": "f40edea4",
   "metadata": {},
   "outputs": [
    {
     "data": {
      "text/plain": [
       "['AsyncGenerator',\n",
       " 'AsyncIterable',\n",
       " 'AsyncIterator',\n",
       " 'Awaitable',\n",
       " 'ByteString',\n",
       " 'Callable',\n",
       " 'Collection',\n",
       " 'Container',\n",
       " 'Coroutine',\n",
       " 'Generator',\n",
       " 'Hashable',\n",
       " 'ItemsView',\n",
       " 'Iterable',\n",
       " 'Iterator',\n",
       " 'KeysView',\n",
       " 'Mapping',\n",
       " 'MappingView',\n",
       " 'MutableMapping',\n",
       " 'MutableSequence',\n",
       " 'MutableSet',\n",
       " 'Reversible',\n",
       " 'Sequence',\n",
       " 'Set',\n",
       " 'Sized',\n",
       " 'ValuesView',\n",
       " '_CallableGenericAlias',\n",
       " '__all__',\n",
       " '__builtins__',\n",
       " '__cached__',\n",
       " '__doc__',\n",
       " '__file__',\n",
       " '__loader__',\n",
       " '__name__',\n",
       " '__package__',\n",
       " '__spec__']"
      ]
     },
     "execution_count": 3,
     "metadata": {},
     "output_type": "execute_result"
    }
   ],
   "source": [
    "dir(c.abc)"
   ]
  },
  {
   "cell_type": "code",
   "execution_count": 7,
   "id": "844efc0b",
   "metadata": {},
   "outputs": [
    {
     "data": {
      "text/plain": [
       "['__abstractmethods__',\n",
       " '__class__',\n",
       " '__class_getitem__',\n",
       " '__contains__',\n",
       " '__delattr__',\n",
       " '__dir__',\n",
       " '__doc__',\n",
       " '__eq__',\n",
       " '__format__',\n",
       " '__ge__',\n",
       " '__getattribute__',\n",
       " '__getstate__',\n",
       " '__gt__',\n",
       " '__hash__',\n",
       " '__init__',\n",
       " '__init_subclass__',\n",
       " '__iter__',\n",
       " '__le__',\n",
       " '__len__',\n",
       " '__lt__',\n",
       " '__module__',\n",
       " '__ne__',\n",
       " '__new__',\n",
       " '__reduce__',\n",
       " '__reduce_ex__',\n",
       " '__repr__',\n",
       " '__setattr__',\n",
       " '__sizeof__',\n",
       " '__slots__',\n",
       " '__str__',\n",
       " '__subclasshook__',\n",
       " '_abc_impl']"
      ]
     },
     "execution_count": 7,
     "metadata": {},
     "output_type": "execute_result"
    }
   ],
   "source": [
    "dir(c.abc.Collection)"
   ]
  },
  {
   "cell_type": "code",
   "execution_count": null,
   "id": "24e1bc75",
   "metadata": {},
   "outputs": [],
   "source": []
  }
 ],
 "metadata": {
  "kernelspec": {
   "display_name": "Python 3 (ipykernel)",
   "language": "python",
   "name": "python3"
  },
  "language_info": {
   "codemirror_mode": {
    "name": "ipython",
    "version": 3
   },
   "file_extension": ".py",
   "mimetype": "text/x-python",
   "name": "python",
   "nbconvert_exporter": "python",
   "pygments_lexer": "ipython3",
   "version": "3.11.5"
  }
 },
 "nbformat": 4,
 "nbformat_minor": 5
}
