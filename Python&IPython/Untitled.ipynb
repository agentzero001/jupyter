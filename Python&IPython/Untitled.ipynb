{
 "cells": [
  {
   "cell_type": "code",
   "execution_count": 1,
   "id": "61179615",
   "metadata": {},
   "outputs": [],
   "source": [
    "def hummus(factor):\n",
    "    def ingredient(amount, unit, name):\n",
    "        ingredientAmount = amount * factor\n",
    "        if ingredientAmount > 1:\n",
    "            unit += \"s\"\n",
    "        print(f\"{ingredientAmount} {unit} {name}\")\n",
    "    \n",
    "    ingredient(1, \"can\", \"chickpeas\")\n",
    "    ingredient(0.25, \"cup\", \"tahini\")\n",
    "    ingredient(0.25, \"cup\", \"lemon juice\")\n",
    "    ingredient(1, \"clove\", \"garlic\")\n",
    "    ingredient(2, \"tablespoon\", \"olive oil\")\n",
    "    ingredient(0.5, \"teaspoon\", \"cumin\")"
   ]
  },
  {
   "cell_type": "code",
   "execution_count": 2,
   "id": "6bc83138",
   "metadata": {},
   "outputs": [
    {
     "name": "stdout",
     "output_type": "stream",
     "text": [
      "3 cans chickpeas\n",
      "0.75 cup tahini\n",
      "0.75 cup lemon juice\n",
      "3 cloves garlic\n",
      "6 tablespoons olive oil\n",
      "1.5 teaspoons cumin\n"
     ]
    }
   ],
   "source": [
    "hummus(3)"
   ]
  },
  {
   "cell_type": "code",
   "execution_count": 14,
   "id": "2989108b",
   "metadata": {},
   "outputs": [],
   "source": [
    "class Food:\n",
    "    def __init__(self, name):\n",
    "        self.name = name\n",
    "        self.ingredients = {}\n",
    "    \n",
    "    def add_ingredients(self, ingredients):\n",
    "        self.ingredients.update(ingredients)\n",
    "    \n",
    "    def print_recipe(self, factor):\n",
    "        print(f\"Recipe for {self.name}:\")\n",
    "        for name, ingredient in self.ingredients.items():\n",
    "            amount = ingredient[\"amount\"]\n",
    "            unit = ingredient[\"unit\"] \n",
    "            if amount > 1:\n",
    "                unit += \"s\"\n",
    "            print(f\"{amount*factor} {unit} {name}\")"
   ]
  },
  {
   "cell_type": "code",
   "execution_count": 99,
   "id": "4f7567bc",
   "metadata": {},
   "outputs": [],
   "source": [
    "class Food:\n",
    "    def __init__(self, name):\n",
    "        self.name = name\n",
    "        self.ingredients = {}\n",
    "    \n",
    "    def add_ingredients(self, ingredients):\n",
    "        for name, data in ingredients.items():\n",
    "            amount, unit = data\n",
    "            self.ingredients[name] = {\"amount\": amount, \"unit\": unit}\n",
    "        print(self.ingredients)\n",
    "    \n",
    "    def print_recipe(self, factor):\n",
    "        print(f\"Recipe for {self.name}:\")\n",
    "        for name, ingredient in self.ingredients.items():\n",
    "            amount = ingredient[\"amount\"]\n",
    "            unit = ingredient[\"unit\"]\n",
    "            if amount > 1:\n",
    "                unit += \"s\"\n",
    "            print(f\"{amount*factor} {unit} {name}\")\n",
    "\n"
   ]
  },
  {
   "cell_type": "code",
   "execution_count": 100,
   "id": "ef17f5d3",
   "metadata": {},
   "outputs": [
    {
     "name": "stdout",
     "output_type": "stream",
     "text": [
      "{'eggs': {'amount': 1, 'unit': 'whole'}, 'salt': {'amount': 3, 'unit': 'tablespoon'}, 'garlic': {'amount': 1, 'unit': 'clove'}, 'eggwhite': {'amount': 100, 'unit': 'gramm'}}\n"
     ]
    }
   ],
   "source": [
    "omlette = Food(\"Omlette\")\n",
    "ingredients = {\n",
    "    'eggs'    : [1, 'whole'],\n",
    "    'salt'    : [3, 'tablespoon'],\n",
    "    'garlic'  : [1, 'clove'],\n",
    "    'eggwhite': [100, 'gramm'] }\n",
    "\n",
    "omlette.add_ingredients(ingredients)"
   ]
  },
  {
   "cell_type": "code",
   "execution_count": 101,
   "id": "068a7a93",
   "metadata": {},
   "outputs": [
    {
     "name": "stdout",
     "output_type": "stream",
     "text": [
      "Recipe for Omlette:\n",
      "3 whole eggs\n",
      "9 tablespoons salt\n",
      "3 clove garlic\n",
      "300 gramms eggwhite\n"
     ]
    }
   ],
   "source": [
    "omlette.print_recipe(3)"
   ]
  },
  {
   "cell_type": "code",
   "execution_count": 102,
   "id": "f5b427b1",
   "metadata": {},
   "outputs": [
    {
     "name": "stdout",
     "output_type": "stream",
     "text": [
      "('eggs', [1, 'whole'])\n",
      "('salt', [3, 'tablespoon'])\n",
      "('garlic', [1, 'clove'])\n",
      "('eggwhite', [100, 'gramm'])\n"
     ]
    }
   ],
   "source": [
    "for i in ingredients.items():\n",
    "    print(i)"
   ]
  },
  {
   "cell_type": "code",
   "execution_count": 103,
   "id": "1883024a",
   "metadata": {},
   "outputs": [],
   "source": [
    "import json"
   ]
  },
  {
   "cell_type": "code",
   "execution_count": 104,
   "id": "7cf3cd79",
   "metadata": {},
   "outputs": [],
   "source": [
    "recipes = {\n",
    "    'omlette': {\n",
    "        'eggs'    : [1, 'whole'],\n",
    "        'salt'    : [3, 'tablespoon'],\n",
    "        'garlic'  : [1, 'clove'],\n",
    "        'eggwhite': [100, 'gramm']\n",
    "    },\n",
    "    'pancakes': {\n",
    "        'flour': [200, 'grams'],\n",
    "        'milk': [250, 'milliliters'],\n",
    "        'eggs': [2, 'whole'],\n",
    "        'sugar': [2, 'tablespoons'],\n",
    "        'baking powder': [2, 'teaspoons'],\n",
    "        'salt': [1, 'pinch']\n",
    "         },\n",
    "    'spaghetti bolognese': {\n",
    "        'spaghetti': [200, 'grams'],\n",
    "        'ground beef': [300, 'grams'],\n",
    "        'onion': [1, 'whole'],\n",
    "        'garlic': [2, 'cloves'],\n",
    "        'tomato sauce': [400, 'milliliters'],\n",
    "        'red wine': [100, 'milliliters'],\n",
    "        'olive oil': [2, 'tablespoons'],\n",
    "        'salt': [1, 'teaspoon'],\n",
    "        'pepper': [1, 'teaspoon']\n",
    "        },\n",
    "    'caesar salad': {\n",
    "        'romaine lettuce': [1, 'head'],\n",
    "        'croutons': [100, 'grams'],\n",
    "        'parmesan cheese': [50, 'grams'],\n",
    "        'chicken breast': [2, 'whole'],\n",
    "        'anchovy fillets': [4, 'whole']\n",
    "        }\n",
    "}"
   ]
  },
  {
   "cell_type": "code",
   "execution_count": 105,
   "id": "d390b7e4",
   "metadata": {},
   "outputs": [],
   "source": [
    "with open('recipes.json', 'w') as file:\n",
    "    json.dump(recipes, file)"
   ]
  },
  {
   "cell_type": "code",
   "execution_count": 106,
   "id": "f3764d0c",
   "metadata": {},
   "outputs": [],
   "source": [
    "with open('recipes.json', 'r') as file:\n",
    "    loaded_recipes = json.load(file)"
   ]
  },
  {
   "cell_type": "code",
   "execution_count": 107,
   "id": "e02f729e",
   "metadata": {},
   "outputs": [
    {
     "data": {
      "text/plain": [
       "{'spaghetti': [200, 'grams'],\n",
       " 'ground beef': [300, 'grams'],\n",
       " 'onion': [1, 'whole'],\n",
       " 'garlic': [2, 'cloves'],\n",
       " 'tomato sauce': [400, 'milliliters'],\n",
       " 'red wine': [100, 'milliliters'],\n",
       " 'olive oil': [2, 'tablespoons'],\n",
       " 'salt': [1, 'teaspoon'],\n",
       " 'pepper': [1, 'teaspoon']}"
      ]
     },
     "execution_count": 107,
     "metadata": {},
     "output_type": "execute_result"
    }
   ],
   "source": [
    "loaded_recipes['spaghetti bolognese']"
   ]
  },
  {
   "cell_type": "code",
   "execution_count": 108,
   "id": "2495c80d",
   "metadata": {},
   "outputs": [],
   "source": [
    "import pandas as pd"
   ]
  },
  {
   "cell_type": "code",
   "execution_count": 109,
   "id": "52207f30",
   "metadata": {},
   "outputs": [],
   "source": [
    "df = pd.DataFrame.from_dict(loaded_recipes['spaghetti bolognese'])\n",
    "df.index = ['amount', 'unit']"
   ]
  },
  {
   "cell_type": "code",
   "execution_count": 110,
   "id": "fd8dc7c4",
   "metadata": {},
   "outputs": [
    {
     "data": {
      "text/html": [
       "<div>\n",
       "<style scoped>\n",
       "    .dataframe tbody tr th:only-of-type {\n",
       "        vertical-align: middle;\n",
       "    }\n",
       "\n",
       "    .dataframe tbody tr th {\n",
       "        vertical-align: top;\n",
       "    }\n",
       "\n",
       "    .dataframe thead th {\n",
       "        text-align: right;\n",
       "    }\n",
       "</style>\n",
       "<table border=\"1\" class=\"dataframe\">\n",
       "  <thead>\n",
       "    <tr style=\"text-align: right;\">\n",
       "      <th></th>\n",
       "      <th>spaghetti</th>\n",
       "      <th>ground beef</th>\n",
       "      <th>onion</th>\n",
       "      <th>garlic</th>\n",
       "      <th>tomato sauce</th>\n",
       "      <th>red wine</th>\n",
       "      <th>olive oil</th>\n",
       "      <th>salt</th>\n",
       "      <th>pepper</th>\n",
       "    </tr>\n",
       "  </thead>\n",
       "  <tbody>\n",
       "    <tr>\n",
       "      <th>amount</th>\n",
       "      <td>200</td>\n",
       "      <td>300</td>\n",
       "      <td>1</td>\n",
       "      <td>2</td>\n",
       "      <td>400</td>\n",
       "      <td>100</td>\n",
       "      <td>2</td>\n",
       "      <td>1</td>\n",
       "      <td>1</td>\n",
       "    </tr>\n",
       "    <tr>\n",
       "      <th>unit</th>\n",
       "      <td>grams</td>\n",
       "      <td>grams</td>\n",
       "      <td>whole</td>\n",
       "      <td>cloves</td>\n",
       "      <td>milliliters</td>\n",
       "      <td>milliliters</td>\n",
       "      <td>tablespoons</td>\n",
       "      <td>teaspoon</td>\n",
       "      <td>teaspoon</td>\n",
       "    </tr>\n",
       "  </tbody>\n",
       "</table>\n",
       "</div>"
      ],
      "text/plain": [
       "       spaghetti ground beef  onion  garlic tomato sauce     red wine  \\\n",
       "amount       200         300      1       2          400          100   \n",
       "unit       grams       grams  whole  cloves  milliliters  milliliters   \n",
       "\n",
       "          olive oil      salt    pepper  \n",
       "amount            2         1         1  \n",
       "unit    tablespoons  teaspoon  teaspoon  "
      ]
     },
     "execution_count": 110,
     "metadata": {},
     "output_type": "execute_result"
    }
   ],
   "source": [
    "df"
   ]
  },
  {
   "cell_type": "code",
   "execution_count": null,
   "id": "d7bece6c",
   "metadata": {},
   "outputs": [],
   "source": []
  },
  {
   "cell_type": "code",
   "execution_count": null,
   "id": "7d1a6cbf",
   "metadata": {},
   "outputs": [],
   "source": []
  }
 ],
 "metadata": {
  "kernelspec": {
   "display_name": "Python 3 (ipykernel)",
   "language": "python",
   "name": "python3"
  },
  "language_info": {
   "codemirror_mode": {
    "name": "ipython",
    "version": 3
   },
   "file_extension": ".py",
   "mimetype": "text/x-python",
   "name": "python",
   "nbconvert_exporter": "python",
   "pygments_lexer": "ipython3",
   "version": "3.11.3"
  }
 },
 "nbformat": 4,
 "nbformat_minor": 5
}
