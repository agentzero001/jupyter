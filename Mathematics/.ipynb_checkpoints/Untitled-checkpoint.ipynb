{
 "cells": [
  {
   "cell_type": "code",
   "execution_count": 36,
   "id": "16c2fdef",
   "metadata": {},
   "outputs": [],
   "source": [
    "def Nat():\n",
    "    val = 0\n",
    "    while True:\n",
    "        yield val\n",
    "        val += 1"
   ]
  },
  {
   "cell_type": "code",
   "execution_count": 37,
   "id": "5c1971ee",
   "metadata": {},
   "outputs": [],
   "source": [
    "def viewGen(g, n):\n",
    "    c = 0\n",
    "    result = []\n",
    "    for i in g:\n",
    "        if c == n:\n",
    "            return result\n",
    "        c += 1\n",
    "        result.append(i)"
   ]
  },
  {
   "cell_type": "code",
   "execution_count": 38,
   "id": "a765e554",
   "metadata": {},
   "outputs": [
    {
     "data": {
      "text/plain": [
       "[0, 1, 2, 3, 4, 5, 6, 7, 8, 9]"
      ]
     },
     "execution_count": 38,
     "metadata": {},
     "output_type": "execute_result"
    }
   ],
   "source": [
    "viewGen(Nat(), 10)"
   ]
  },
  {
   "cell_type": "code",
   "execution_count": 39,
   "id": "d3ec8291",
   "metadata": {},
   "outputs": [],
   "source": [
    "def Integer():\n",
    "    val = 0\n",
    "    yield 0\n",
    "    while True:\n",
    "        val += 1\n",
    "        yield val\n",
    "        yield -val"
   ]
  },
  {
   "cell_type": "code",
   "execution_count": 40,
   "id": "8e34e40d",
   "metadata": {},
   "outputs": [
    {
     "data": {
      "text/plain": [
       "[0, 1, -1, 2, -2, 3, -3, 4, -4, 5, -5, 6, -6, 7, -7, 8, -8, 9, -9, 10]"
      ]
     },
     "execution_count": 40,
     "metadata": {},
     "output_type": "execute_result"
    }
   ],
   "source": [
    "L = viewGen(Integer(), 20)\n",
    "#L2 = L.sort()\n",
    "L"
   ]
  },
  {
   "cell_type": "code",
   "execution_count": 41,
   "id": "573359b0",
   "metadata": {},
   "outputs": [
    {
     "data": {
      "text/plain": [
       "(1083, 'л')"
      ]
     },
     "execution_count": 41,
     "metadata": {},
     "output_type": "execute_result"
    }
   ],
   "source": [
    "ord('л'), chr(1083)"
   ]
  },
  {
   "cell_type": "code",
   "execution_count": 42,
   "id": "7587c0a6",
   "metadata": {},
   "outputs": [
    {
     "data": {
      "text/plain": [
       "([72, 97, 108, 108, 111], ['H', 'a', 'l', 'l', 'o'])"
      ]
     },
     "execution_count": 42,
     "metadata": {},
     "output_type": "execute_result"
    }
   ],
   "source": [
    "L1 = [ord(s) for s in 'Hallo']\n",
    "L2 = [chr(n) for n in L1]\n",
    "L1, L2"
   ]
  },
  {
   "cell_type": "code",
   "execution_count": 43,
   "id": "e11f2f10",
   "metadata": {},
   "outputs": [
    {
     "data": {
      "text/plain": [
       "['H', 'a', 'l', 'l', 'o']"
      ]
     },
     "execution_count": 43,
     "metadata": {},
     "output_type": "execute_result"
    }
   ],
   "source": [
    "[a for a in 'Hallo']"
   ]
  },
  {
   "cell_type": "code",
   "execution_count": 44,
   "id": "0bcbffbf",
   "metadata": {},
   "outputs": [],
   "source": [
    "def Str(n, start, stop):\n",
    "    if n == 0:\n",
    "        yield ''\n",
    "    else:\n",
    "        for c in range(ord(start), ord(stop) + 1):\n",
    "            for s in Str(n - 1, start, stop):\n",
    "                yield chr(c) + s                \n",
    "\n",
    "def Str2(n, start, stop):\n",
    "    for i in range(1, n+1):\n",
    "        if i == 1:\n",
    "            for c in range(ord(start), ord(stop) + 1):\n",
    "                yield chr(c)\n",
    "        else:\n",
    "            for c in range(ord(start), ord(stop) + 1):\n",
    "                for s in Str(i - 1, start, stop):\n",
    "                    yield chr(c) + s"
   ]
  },
  {
   "cell_type": "code",
   "execution_count": 45,
   "id": "c87130bf",
   "metadata": {},
   "outputs": [],
   "source": [
    "from fractions import Fraction"
   ]
  },
  {
   "cell_type": "code",
   "execution_count": 46,
   "id": "baf29c7e",
   "metadata": {},
   "outputs": [],
   "source": [
    "def rat():\n",
    "    pass    "
   ]
  },
  {
   "cell_type": "code",
   "execution_count": 47,
   "id": "e1b24953",
   "metadata": {},
   "outputs": [
    {
     "data": {
      "text/plain": [
       "['AA', 'AB', 'BA', 'BB']"
      ]
     },
     "execution_count": 47,
     "metadata": {},
     "output_type": "execute_result"
    }
   ],
   "source": [
    "list(Str(2, 'A', 'B'))"
   ]
  },
  {
   "cell_type": "code",
   "execution_count": 48,
   "id": "b035fdce",
   "metadata": {},
   "outputs": [
    {
     "data": {
      "text/plain": [
       "['A',\n",
       " 'B',\n",
       " 'C',\n",
       " 'AA',\n",
       " 'AB',\n",
       " 'AC',\n",
       " 'BA',\n",
       " 'BB',\n",
       " 'BC',\n",
       " 'CA',\n",
       " 'CB',\n",
       " 'CC',\n",
       " 'AAA',\n",
       " 'AAB',\n",
       " 'AAC',\n",
       " 'ABA',\n",
       " 'ABB',\n",
       " 'ABC',\n",
       " 'ACA',\n",
       " 'ACB',\n",
       " 'ACC',\n",
       " 'BAA',\n",
       " 'BAB',\n",
       " 'BAC',\n",
       " 'BBA',\n",
       " 'BBB',\n",
       " 'BBC',\n",
       " 'BCA',\n",
       " 'BCB',\n",
       " 'BCC',\n",
       " 'CAA',\n",
       " 'CAB',\n",
       " 'CAC',\n",
       " 'CBA',\n",
       " 'CBB',\n",
       " 'CBC',\n",
       " 'CCA',\n",
       " 'CCB',\n",
       " 'CCC']"
      ]
     },
     "execution_count": 48,
     "metadata": {},
     "output_type": "execute_result"
    }
   ],
   "source": [
    "list(Str2(3, 'A', 'C'))"
   ]
  },
  {
   "cell_type": "code",
   "execution_count": 84,
   "id": "d2233ec9",
   "metadata": {},
   "outputs": [],
   "source": [
    "def gen1(start, stop):\n",
    "    if start == stop:\n",
    "        return chr(start)\n",
    "    else:\n",
    "        return chr(start) + gen(start + 1, stop)\n",
    "\n",
    "def gen2(start, stop):\n",
    "    result = \"\"\n",
    "    for i in range(start, stop + 1):\n",
    "        result += chr(i)\n",
    "    return result\n",
    "\n",
    "def gen3(start, stop):\n",
    "    return '' .join([chr(i) for i in range(start, stop + 1)])\n",
    "\n",
    "#lambda rules\n",
    "_gen1 = lambda a, b=10: [chr(i) for i in range(a, b + 1)]\n",
    "_gen2 = lambda a, b: ''.join([chr(i) for i in range(a, b + 1)])\n",
    "_gen3 = lambda a, b: chr(a) if a == b else chr(a) + gen(a + 1, b)"
   ]
  },
  {
   "cell_type": "code",
   "execution_count": 85,
   "id": "b62975ba",
   "metadata": {},
   "outputs": [
    {
     "data": {
      "text/plain": [
       "True"
      ]
     },
     "execution_count": 85,
     "metadata": {},
     "output_type": "execute_result"
    }
   ],
   "source": [
    "#it's all the same?\n",
    "list(gen1(1,9)) == list(gen2(1,9)) == list(gen3(1,9)) == list(_gen1(1,9)) == list(_gen2(1,9)) == list(_gen3(1,9))"
   ]
  },
  {
   "cell_type": "code",
   "execution_count": 86,
   "id": "648dad7a",
   "metadata": {},
   "outputs": [
    {
     "data": {
      "text/plain": [
       "['А',\n",
       " 'Б',\n",
       " 'В',\n",
       " 'Г',\n",
       " 'Д',\n",
       " 'Е',\n",
       " 'Ж',\n",
       " 'З',\n",
       " 'И',\n",
       " 'Й',\n",
       " 'К',\n",
       " 'Л',\n",
       " 'М',\n",
       " 'Н',\n",
       " 'О',\n",
       " 'П',\n",
       " 'Р',\n",
       " 'С',\n",
       " 'Т',\n",
       " 'У',\n",
       " 'Ф',\n",
       " 'Х',\n",
       " 'Ц',\n",
       " 'Ч',\n",
       " 'Ш',\n",
       " 'Щ',\n",
       " 'Ъ',\n",
       " 'Ы',\n",
       " 'Ь',\n",
       " 'Э',\n",
       " 'Ю',\n",
       " 'Я',\n",
       " 'а',\n",
       " 'б',\n",
       " 'в',\n",
       " 'г',\n",
       " 'д',\n",
       " 'е',\n",
       " 'ж',\n",
       " 'з',\n",
       " 'и']"
      ]
     },
     "execution_count": 86,
     "metadata": {},
     "output_type": "execute_result"
    }
   ],
   "source": [
    "list(_gen3(1040,1080))"
   ]
  },
  {
   "cell_type": "code",
   "execution_count": 79,
   "id": "93c3054d",
   "metadata": {},
   "outputs": [
    {
     "data": {
      "text/plain": [
       "['\\x01', '\\x02', '\\x03', '\\x04', '\\x05', '\\x06', '\\x07', '\\x08', '\\t']"
      ]
     },
     "execution_count": 79,
     "metadata": {},
     "output_type": "execute_result"
    }
   ],
   "source": [
    "list(_gen2(1,9))"
   ]
  },
  {
   "cell_type": "code",
   "execution_count": 52,
   "id": "bde29a30",
   "metadata": {},
   "outputs": [
    {
     "data": {
      "text/plain": [
       "[3, 3, 3]"
      ]
     },
     "execution_count": 52,
     "metadata": {},
     "output_type": "execute_result"
    }
   ],
   "source": [
    "L = [1,2,3,1,2,3,4,3]\n",
    "list(filter(lambda x : x == 3, L))"
   ]
  }
 ],
 "metadata": {
  "kernelspec": {
   "display_name": "Python 3 (ipykernel)",
   "language": "python",
   "name": "python3"
  },
  "language_info": {
   "codemirror_mode": {
    "name": "ipython",
    "version": 3
   },
   "file_extension": ".py",
   "mimetype": "text/x-python",
   "name": "python",
   "nbconvert_exporter": "python",
   "pygments_lexer": "ipython3",
   "version": "3.9.13"
  }
 },
 "nbformat": 4,
 "nbformat_minor": 5
}
