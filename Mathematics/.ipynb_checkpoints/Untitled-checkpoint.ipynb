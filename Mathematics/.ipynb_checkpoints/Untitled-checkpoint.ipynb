{
 "cells": [
  {
   "cell_type": "code",
   "execution_count": 1,
   "id": "a78f41b0",
   "metadata": {},
   "outputs": [],
   "source": [
    "def Nat():\n",
    "    val = 0\n",
    "    while True:\n",
    "        yield val\n",
    "        val += 1"
   ]
  },
  {
   "cell_type": "code",
   "execution_count": 2,
   "id": "f0f290fe",
   "metadata": {},
   "outputs": [],
   "source": [
    "def viewGen(g, n):\n",
    "    c = 0\n",
    "    result = []\n",
    "    for i in g:\n",
    "        if c == n:\n",
    "            return result\n",
    "        c += 1\n",
    "        result.append(i)"
   ]
  },
  {
   "cell_type": "code",
   "execution_count": 3,
   "id": "155739a0",
   "metadata": {},
   "outputs": [
    {
     "data": {
      "text/plain": [
       "[0, 1, 2, 3, 4, 5, 6, 7, 8, 9]"
      ]
     },
     "execution_count": 3,
     "metadata": {},
     "output_type": "execute_result"
    }
   ],
   "source": [
    "viewGen(Nat(), 10)"
   ]
  },
  {
   "cell_type": "code",
   "execution_count": 4,
   "id": "078e3de2",
   "metadata": {},
   "outputs": [],
   "source": [
    "def Integer():\n",
    "    val = 0\n",
    "    yield 0\n",
    "    while True:\n",
    "        val += 1\n",
    "        yield val\n",
    "        yield -val"
   ]
  },
  {
   "cell_type": "code",
   "execution_count": 5,
   "id": "4e8cbcdf",
   "metadata": {},
   "outputs": [
    {
     "data": {
      "text/plain": [
       "[-9, -8, -7, -6, -5, -4, -3, -2, -1, 0, 1, 2, 3, 4, 5, 6, 7, 8, 9, 10]"
      ]
     },
     "execution_count": 5,
     "metadata": {},
     "output_type": "execute_result"
    }
   ],
   "source": [
    "L = viewGen(Integer(), 20)\n",
    "L.sort()\n",
    "L"
   ]
  },
  {
   "cell_type": "code",
   "execution_count": 6,
   "id": "9cc48176",
   "metadata": {},
   "outputs": [
    {
     "data": {
      "text/plain": [
       "(1083, 'л')"
      ]
     },
     "execution_count": 6,
     "metadata": {},
     "output_type": "execute_result"
    }
   ],
   "source": [
    "ord('л'), chr(1083)"
   ]
  },
  {
   "cell_type": "code",
   "execution_count": 7,
   "id": "eccc94da",
   "metadata": {},
   "outputs": [
    {
     "data": {
      "text/plain": [
       "([72, 97, 108, 108, 111], ['H', 'a', 'l', 'l', 'o'])"
      ]
     },
     "execution_count": 7,
     "metadata": {},
     "output_type": "execute_result"
    }
   ],
   "source": [
    "L1 = [ord(s) for s in 'Hallo']\n",
    "L2 = [chr(n) for n in L1]\n",
    "L1, L2"
   ]
  },
  {
   "cell_type": "code",
   "execution_count": 8,
   "id": "4ec8eb38",
   "metadata": {},
   "outputs": [
    {
     "data": {
      "text/plain": [
       "['H', 'a', 'l', 'l', 'o']"
      ]
     },
     "execution_count": 8,
     "metadata": {},
     "output_type": "execute_result"
    }
   ],
   "source": [
    "[a for a in 'Hallo']"
   ]
  },
  {
   "cell_type": "code",
   "execution_count": 9,
   "id": "24657602",
   "metadata": {},
   "outputs": [],
   "source": [
    "def Str(n, start, stop):\n",
    "    if n == 0:\n",
    "        yield ''\n",
    "    else:\n",
    "        for c in range(ord(start), ord(stop) + 1):\n",
    "            for s in Str(n - 1, start, stop):\n",
    "                yield chr(c) + s                \n",
    "\n",
    "def Str2(n, start, stop):\n",
    "    for i in range(1, n+1):\n",
    "        if i == 1:\n",
    "            for c in range(ord(start), ord(stop) + 1):\n",
    "                yield chr(c)\n",
    "        else:\n",
    "            for c in range(ord(start), ord(stop) + 1):\n",
    "                for s in Str(i - 1, start, stop):\n",
    "                    yield chr(c) + s"
   ]
  },
  {
   "cell_type": "code",
   "execution_count": 10,
   "id": "88c72c29",
   "metadata": {},
   "outputs": [
    {
     "data": {
      "text/plain": [
       "['AA', 'AB', 'BA', 'BB']"
      ]
     },
     "execution_count": 10,
     "metadata": {},
     "output_type": "execute_result"
    }
   ],
   "source": [
    "list(Str(2, 'A', 'B'))"
   ]
  },
  {
   "cell_type": "code",
   "execution_count": 11,
   "id": "e945f9dc",
   "metadata": {},
   "outputs": [
    {
     "data": {
      "text/plain": [
       "['A',\n",
       " 'B',\n",
       " 'C',\n",
       " 'AA',\n",
       " 'AB',\n",
       " 'AC',\n",
       " 'BA',\n",
       " 'BB',\n",
       " 'BC',\n",
       " 'CA',\n",
       " 'CB',\n",
       " 'CC',\n",
       " 'AAA',\n",
       " 'AAB',\n",
       " 'AAC',\n",
       " 'ABA',\n",
       " 'ABB',\n",
       " 'ABC',\n",
       " 'ACA',\n",
       " 'ACB',\n",
       " 'ACC',\n",
       " 'BAA',\n",
       " 'BAB',\n",
       " 'BAC',\n",
       " 'BBA',\n",
       " 'BBB',\n",
       " 'BBC',\n",
       " 'BCA',\n",
       " 'BCB',\n",
       " 'BCC',\n",
       " 'CAA',\n",
       " 'CAB',\n",
       " 'CAC',\n",
       " 'CBA',\n",
       " 'CBB',\n",
       " 'CBC',\n",
       " 'CCA',\n",
       " 'CCB',\n",
       " 'CCC',\n",
       " 'AAAA',\n",
       " 'AAAB',\n",
       " 'AAAC',\n",
       " 'AABA',\n",
       " 'AABB',\n",
       " 'AABC',\n",
       " 'AACA',\n",
       " 'AACB',\n",
       " 'AACC',\n",
       " 'ABAA',\n",
       " 'ABAB',\n",
       " 'ABAC',\n",
       " 'ABBA',\n",
       " 'ABBB',\n",
       " 'ABBC',\n",
       " 'ABCA',\n",
       " 'ABCB',\n",
       " 'ABCC',\n",
       " 'ACAA',\n",
       " 'ACAB',\n",
       " 'ACAC',\n",
       " 'ACBA',\n",
       " 'ACBB',\n",
       " 'ACBC',\n",
       " 'ACCA',\n",
       " 'ACCB',\n",
       " 'ACCC',\n",
       " 'BAAA',\n",
       " 'BAAB',\n",
       " 'BAAC',\n",
       " 'BABA',\n",
       " 'BABB',\n",
       " 'BABC',\n",
       " 'BACA',\n",
       " 'BACB',\n",
       " 'BACC',\n",
       " 'BBAA',\n",
       " 'BBAB',\n",
       " 'BBAC',\n",
       " 'BBBA',\n",
       " 'BBBB',\n",
       " 'BBBC',\n",
       " 'BBCA',\n",
       " 'BBCB',\n",
       " 'BBCC',\n",
       " 'BCAA',\n",
       " 'BCAB',\n",
       " 'BCAC',\n",
       " 'BCBA',\n",
       " 'BCBB',\n",
       " 'BCBC',\n",
       " 'BCCA',\n",
       " 'BCCB',\n",
       " 'BCCC',\n",
       " 'CAAA',\n",
       " 'CAAB',\n",
       " 'CAAC',\n",
       " 'CABA',\n",
       " 'CABB',\n",
       " 'CABC',\n",
       " 'CACA',\n",
       " 'CACB',\n",
       " 'CACC',\n",
       " 'CBAA',\n",
       " 'CBAB',\n",
       " 'CBAC',\n",
       " 'CBBA',\n",
       " 'CBBB',\n",
       " 'CBBC',\n",
       " 'CBCA',\n",
       " 'CBCB',\n",
       " 'CBCC',\n",
       " 'CCAA',\n",
       " 'CCAB',\n",
       " 'CCAC',\n",
       " 'CCBA',\n",
       " 'CCBB',\n",
       " 'CCBC',\n",
       " 'CCCA',\n",
       " 'CCCB',\n",
       " 'CCCC']"
      ]
     },
     "execution_count": 11,
     "metadata": {},
     "output_type": "execute_result"
    }
   ],
   "source": [
    "list(Str2(4, 'A', 'C'))"
   ]
  },
  {
   "cell_type": "code",
   "execution_count": 12,
   "id": "7f57f158",
   "metadata": {},
   "outputs": [],
   "source": [
    "def gen(start, stop):\n",
    "    if start == stop:\n",
    "        return chr(start)\n",
    "    else:\n",
    "        return chr(start) + gen(start + 1, stop)\n",
    "\n",
    "def gen2(start, stop):\n",
    "    result = \"\"\n",
    "    for i in range(start, stop + 1):\n",
    "        result += chr(i)\n",
    "    return result\n",
    "\n",
    "def gen3(start, stop):\n",
    "    return '' .join([chr(i) for i in range(start, stop + 1)])"
   ]
  },
  {
   "cell_type": "code",
   "execution_count": 20,
   "id": "5f431a77",
   "metadata": {},
   "outputs": [
    {
     "data": {
      "text/plain": [
       "['А',\n",
       " 'Б',\n",
       " 'В',\n",
       " 'Г',\n",
       " 'Д',\n",
       " 'Е',\n",
       " 'Ж',\n",
       " 'З',\n",
       " 'И',\n",
       " 'Й',\n",
       " 'К',\n",
       " 'Л',\n",
       " 'М',\n",
       " 'Н',\n",
       " 'О',\n",
       " 'П',\n",
       " 'Р',\n",
       " 'С',\n",
       " 'Т',\n",
       " 'У',\n",
       " 'Ф',\n",
       " 'Х',\n",
       " 'Ц',\n",
       " 'Ч',\n",
       " 'Ш',\n",
       " 'Щ',\n",
       " 'Ъ',\n",
       " 'Ы',\n",
       " 'Ь',\n",
       " 'Э',\n",
       " 'Ю',\n",
       " 'Я',\n",
       " 'а',\n",
       " 'б',\n",
       " 'в',\n",
       " 'г',\n",
       " 'д',\n",
       " 'е',\n",
       " 'ж',\n",
       " 'з',\n",
       " 'и']"
      ]
     },
     "execution_count": 20,
     "metadata": {},
     "output_type": "execute_result"
    }
   ],
   "source": [
    "list(gen3(1040,1080))"
   ]
  },
  {
   "cell_type": "code",
   "execution_count": null,
   "id": "2ff271c0",
   "metadata": {},
   "outputs": [],
   "source": [
    "chr()"
   ]
  }
 ],
 "metadata": {
  "kernelspec": {
   "display_name": "Python 3 (ipykernel)",
   "language": "python",
   "name": "python3"
  },
  "language_info": {
   "codemirror_mode": {
    "name": "ipython",
    "version": 3
   },
   "file_extension": ".py",
   "mimetype": "text/x-python",
   "name": "python",
   "nbconvert_exporter": "python",
   "pygments_lexer": "ipython3",
   "version": "3.9.13"
  }
 },
 "nbformat": 4,
 "nbformat_minor": 5
}
