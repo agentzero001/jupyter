{
 "cells": [
  {
   "cell_type": "code",
   "execution_count": 21,
   "id": "16c2fdef",
   "metadata": {},
   "outputs": [],
   "source": [
    "def Nat():\n",
    "    val = 0\n",
    "    while True:\n",
    "        yield val\n",
    "        val += 1"
   ]
  },
  {
   "cell_type": "code",
   "execution_count": 22,
   "id": "5c1971ee",
   "metadata": {},
   "outputs": [],
   "source": [
    "def viewGen(g, n):\n",
    "    c = 0\n",
    "    result = []\n",
    "    for i in g:\n",
    "        if c == n:\n",
    "            return result\n",
    "        c += 1\n",
    "        result.append(i)"
   ]
  },
  {
   "cell_type": "code",
   "execution_count": 23,
   "id": "a765e554",
   "metadata": {},
   "outputs": [
    {
     "data": {
      "text/plain": [
       "[0, 1, 2, 3, 4, 5, 6, 7, 8, 9]"
      ]
     },
     "execution_count": 23,
     "metadata": {},
     "output_type": "execute_result"
    }
   ],
   "source": [
    "viewGen(Nat(), 10)"
   ]
  },
  {
   "cell_type": "code",
   "execution_count": 24,
   "id": "d3ec8291",
   "metadata": {},
   "outputs": [],
   "source": [
    "def Integer():\n",
    "    val = 0\n",
    "    yield 0\n",
    "    while True:\n",
    "        val += 1\n",
    "        yield val\n",
    "        yield -val"
   ]
  },
  {
   "cell_type": "code",
   "execution_count": 25,
   "id": "8e34e40d",
   "metadata": {},
   "outputs": [
    {
     "data": {
      "text/plain": [
       "[-9, -8, -7, -6, -5, -4, -3, -2, -1, 0, 1, 2, 3, 4, 5, 6, 7, 8, 9, 10]"
      ]
     },
     "execution_count": 25,
     "metadata": {},
     "output_type": "execute_result"
    }
   ],
   "source": [
    "L = viewGen(Integer(), 20)\n",
    "L.sort()\n",
    "L"
   ]
  },
  {
   "cell_type": "code",
   "execution_count": 26,
   "id": "573359b0",
   "metadata": {},
   "outputs": [
    {
     "data": {
      "text/plain": [
       "(1083, 'л')"
      ]
     },
     "execution_count": 26,
     "metadata": {},
     "output_type": "execute_result"
    }
   ],
   "source": [
    "ord('л'), chr(1083)"
   ]
  },
  {
   "cell_type": "code",
   "execution_count": 27,
   "id": "7587c0a6",
   "metadata": {},
   "outputs": [
    {
     "data": {
      "text/plain": [
       "([72, 97, 108, 108, 111], ['H', 'a', 'l', 'l', 'o'])"
      ]
     },
     "execution_count": 27,
     "metadata": {},
     "output_type": "execute_result"
    }
   ],
   "source": [
    "L1 = [ord(s) for s in 'Hallo']\n",
    "L2 = [chr(n) for n in L1]\n",
    "L1, L2"
   ]
  },
  {
   "cell_type": "code",
   "execution_count": 28,
   "id": "e11f2f10",
   "metadata": {},
   "outputs": [
    {
     "data": {
      "text/plain": [
       "['H', 'a', 'l', 'l', 'o']"
      ]
     },
     "execution_count": 28,
     "metadata": {},
     "output_type": "execute_result"
    }
   ],
   "source": [
    "[a for a in 'Hallo']"
   ]
  },
  {
   "cell_type": "code",
   "execution_count": 29,
   "id": "0bcbffbf",
   "metadata": {},
   "outputs": [],
   "source": [
    "def Str(n, start, stop):\n",
    "    if n == 0:\n",
    "        yield ''\n",
    "    else:\n",
    "        for c in range(ord(start), ord(stop) + 1):\n",
    "            for s in Str(n - 1, start, stop):\n",
    "                yield chr(c) + s                \n",
    "\n",
    "def Str2(n, start, stop):\n",
    "    for i in range(1, n+1):\n",
    "        if i == 1:\n",
    "            for c in range(ord(start), ord(stop) + 1):\n",
    "                yield chr(c)\n",
    "        else:\n",
    "            for c in range(ord(start), ord(stop) + 1):\n",
    "                for s in Str(i - 1, start, stop):\n",
    "                    yield chr(c) + s"
   ]
  },
  {
   "cell_type": "code",
   "execution_count": 30,
   "id": "c87130bf",
   "metadata": {},
   "outputs": [],
   "source": [
    "from fractions import Fraction"
   ]
  },
  {
   "cell_type": "code",
   "execution_count": 31,
   "id": "baf29c7e",
   "metadata": {},
   "outputs": [
    {
     "ename": "IndentationError",
     "evalue": "expected an indented block (533689699.py, line 3)",
     "output_type": "error",
     "traceback": [
      "\u001b[1;36m  File \u001b[1;32m\"C:\\Users\\jensm\\AppData\\Local\\Temp\\ipykernel_9868\\533689699.py\"\u001b[1;36m, line \u001b[1;32m3\u001b[0m\n\u001b[1;33m    \u001b[0m\n\u001b[1;37m    ^\u001b[0m\n\u001b[1;31mIndentationError\u001b[0m\u001b[1;31m:\u001b[0m expected an indented block\n"
     ]
    }
   ],
   "source": [
    "def rat():\n",
    "    \n",
    "    "
   ]
  },
  {
   "cell_type": "code",
   "execution_count": null,
   "id": "e1b24953",
   "metadata": {},
   "outputs": [],
   "source": [
    "list(Str(2, 'A', 'B'))"
   ]
  },
  {
   "cell_type": "code",
   "execution_count": null,
   "id": "b035fdce",
   "metadata": {},
   "outputs": [],
   "source": [
    "list(Str2(4, 'A', 'C'))"
   ]
  },
  {
   "cell_type": "code",
   "execution_count": null,
   "id": "d2233ec9",
   "metadata": {},
   "outputs": [],
   "source": [
    "def gen(start, stop):\n",
    "    if start == stop:\n",
    "        return chr(start)\n",
    "    else:\n",
    "        return chr(start) + gen(start + 1, stop)\n",
    "\n",
    "def gen2(start, stop):\n",
    "    result = \"\"\n",
    "    for i in range(start, stop + 1):\n",
    "        result += chr(i)\n",
    "    return result\n",
    "\n",
    "def gen3(start, stop):\n",
    "    return '' .join([chr(i) for i in range(start, stop + 1)])"
   ]
  },
  {
   "cell_type": "code",
   "execution_count": null,
   "id": "b62975ba",
   "metadata": {},
   "outputs": [],
   "source": [
    "list(gen3(1040,1060))"
   ]
  },
  {
   "cell_type": "code",
   "execution_count": null,
   "id": "bde29a30",
   "metadata": {},
   "outputs": [],
   "source": [
    "L = [1,2,3,1,2,3,4,3]\n",
    "list(filter(lambda x : x == 3, L))"
   ]
  },
  {
   "cell_type": "code",
   "execution_count": null,
   "id": "0f490a97",
   "metadata": {},
   "outputs": [],
   "source": []
  }
 ],
 "metadata": {
  "kernelspec": {
   "display_name": "Python 3 (ipykernel)",
   "language": "python",
   "name": "python3"
  },
  "language_info": {
   "codemirror_mode": {
    "name": "ipython",
    "version": 3
   },
   "file_extension": ".py",
   "mimetype": "text/x-python",
   "name": "python",
   "nbconvert_exporter": "python",
   "pygments_lexer": "ipython3",
   "version": "3.9.13"
  }
 },
 "nbformat": 4,
 "nbformat_minor": 5
}
