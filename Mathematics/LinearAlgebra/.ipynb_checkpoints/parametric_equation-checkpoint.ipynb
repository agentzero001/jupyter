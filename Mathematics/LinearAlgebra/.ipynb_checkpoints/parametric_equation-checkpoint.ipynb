{
 "cells": [
  {
   "cell_type": "code",
   "execution_count": 116,
   "id": "d5173398",
   "metadata": {},
   "outputs": [],
   "source": [
    "import numpy as np\n",
    "import matplotlib.pyplot as plt \n",
    "\n",
    "customizations = {\n",
    "    'figure.facecolor': '.0',\n",
    "    'axes.facecolor': '.1',\n",
    "    'axes.labelcolor': 'white',\n",
    "    'text.color': 'white',\n",
    "    'xtick.color': 'green',\n",
    "    'ytick.color': 'green',\n",
    "    'axes.edgecolor': 'grey',\n",
    "    'text.usetex': False\n",
    "}\n",
    "plt.rcParams.update(customizations)"
   ]
  },
  {
   "cell_type": "code",
   "execution_count": 117,
   "id": "aa5f6272",
   "metadata": {},
   "outputs": [],
   "source": [
    "def label_vector(vector, color):\n",
    "    ax.text(*(vector + .2), '({},{})'.format(vector[0],vector[1]), c=color)"
   ]
  },
  {
   "cell_type": "code",
   "execution_count": 118,
   "id": "45afdc84",
   "metadata": {},
   "outputs": [
    {
     "data": {
      "text/plain": [
       "(array([5, 3]), array([2, 6]))"
      ]
     },
     "execution_count": 118,
     "metadata": {},
     "output_type": "execute_result"
    }
   ],
   "source": [
    "p, q = p_q = np.array([[5,3],\n",
    "                       [2,6]])\n",
    "p, q"
   ]
  },
  {
   "cell_type": "code",
   "execution_count": 119,
   "id": "db758819",
   "metadata": {},
   "outputs": [],
   "source": [
    "t = np.linspace(0,1,1000)\n",
    "get_values = lambda f, t: list(map(f, t))\n",
    "\n",
    "graphx = get_values(lambda t: (1-t) * p[0] + t * q[0], t)\n",
    "graphy = get_values(lambda t: (1-t) * p[1] + t * q[1], t)"
   ]
  },
  {
   "cell_type": "code",
   "execution_count": 120,
   "id": "0e29a166",
   "metadata": {},
   "outputs": [
    {
     "data": {
      "image/png": "[encoded data removed]",
      "text/plain": [
       "<Figure size 640x480 with 1 Axes>"
      ]
     },
     "metadata": {},
     "output_type": "display_data"
    }
   ],
   "source": [
    "ax = plt.axes()\n",
    "ax.axis([0,10,0,10])\n",
    "ax.scatter(p_q.T[0], p_q.T[1], c='grey')\n",
    "ax.scatter(p_q[:,0],p_q[:,1])\n",
    "\n",
    "for vector, color in zip(p_q,['orange', 'purple']):\n",
    "    label_vector(vector, color)\n",
    "    \n",
    "ax.plot(graphx,graphy);"
   ]
  },
  {
   "cell_type": "code",
   "execution_count": null,
   "id": "aa713aff",
   "metadata": {},
   "outputs": [],
   "source": [
    "\n"
   ]
  },
  {
   "cell_type": "code",
   "execution_count": null,
   "id": "9908d1a1",
   "metadata": {},
   "outputs": [],
   "source": []
  }
 ],
 "metadata": {
  "kernelspec": {
   "display_name": "Python 3 (ipykernel)",
   "language": "python",
   "name": "python3"
  },
  "language_info": {
   "codemirror_mode": {
    "name": "ipython",
    "version": 3
   },
   "file_extension": ".py",
   "mimetype": "text/x-python",
   "name": "python",
   "nbconvert_exporter": "python",
   "pygments_lexer": "ipython3",
   "version": "3.11.5"
  }
 },
 "nbformat": 4,
 "nbformat_minor": 5
}
