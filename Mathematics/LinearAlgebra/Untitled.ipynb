{
 "cells": [
  {
   "cell_type": "code",
   "execution_count": 33,
   "id": "cdb45015",
   "metadata": {},
   "outputs": [],
   "source": [
    "import numpy as np\n",
    "import matplotlib.pyplot as plt\n",
    "from matplotlib.patches import Arc\n",
    "plt.rcParams['figure.facecolor'] = '0.2'"
   ]
  },
  {
   "cell_type": "code",
   "execution_count": 61,
   "id": "25c5b4c9",
   "metadata": {},
   "outputs": [
    {
     "data": {
      "image/png": "[encoded data removed]",
      "text/plain": [
       "<Figure size 640x480 with 1 Axes>"
      ]
     },
     "metadata": {},
     "output_type": "display_data"
    }
   ],
   "source": [
    "v1 = np.array([0, 5])\n",
    "v2 = np.array([4, 0])\n",
    "\n",
    "angle = np.arccos(np.dot(v1, v2) / (np.linalg.norm(v1) * np.linalg.norm(v2)))\n",
    "\n",
    "start_angle = np.degrees(np.arctan2(v1[1], v1[0]))\n",
    "end_angle = np.degrees(np.arctan2(v2[1], v2[0]))\n",
    "\n",
    "if start_angle < end_angle:\n",
    "    theta1 = start_angle\n",
    "    theta2 = end_angle\n",
    "else:\n",
    "    theta1 = end_angle\n",
    "    theta2 = start_angle\n",
    "\n",
    "plt.axes().set_facecolor('0.4')\n",
    "plt.arrow(0, 0, v1[0], v1[1], head_width=0, head_length=0, fc='b', ec='b', zorder=3)\n",
    "plt.arrow(0, 0, v2[0], v2[1], head_width=0, head_length=0, fc='r', ec='r',zorder=3)\n",
    "plt.text(v1[0], v1[1]+.5, 'v1', fontsize=12)\n",
    "plt.text(v2[0], v2[1]+.5, 'v2', fontsize=12)\n",
    "plt.text(0.3, -.5, 'γ = {:.2f}°'.format(np.degrees(angle)), fontsize=12)\n",
    "plt.axhline(y=0, color='black', linewidth=1, zorder=2)\n",
    "plt.axvline(x=0, color='black', linewidth=1, zorder=2)\n",
    "plt.grid(zorder=1,alpha=0.4)\n",
    "arc = Arc((0, 0), 1, 1, angle=0, theta1=theta1, theta2=theta2, color='black', linewidth=2)\n",
    "plt.gca().add_patch(arc)\n",
    "\n",
    "plt.xlim([-1, 8])\n",
    "plt.ylim([-1, 8])\n",
    "\n",
    "\n",
    "\n",
    "plt.show()"
   ]
  },
  {
   "cell_type": "code",
   "execution_count": 56,
   "id": "9d013faf",
   "metadata": {},
   "outputs": [
    {
     "data": {
      "text/plain": [
       "90.0"
      ]
     },
     "execution_count": 56,
     "metadata": {},
     "output_type": "execute_result"
    }
   ],
   "source": [
    "np.degrees(angle)"
   ]
  },
  {
   "cell_type": "code",
   "execution_count": 57,
   "id": "7cd9faf9",
   "metadata": {},
   "outputs": [
    {
     "data": {
      "text/plain": [
       "0.0"
      ]
     },
     "execution_count": 57,
     "metadata": {},
     "output_type": "execute_result"
    }
   ],
   "source": [
    "np.dot(v1, v2) / (np.linalg.norm(v1) * np.linalg.norm(v2))"
   ]
  },
  {
   "cell_type": "code",
   "execution_count": 62,
   "id": "ded7d9de",
   "metadata": {},
   "outputs": [
    {
     "data": {
      "text/plain": [
       "2.8284271247461903"
      ]
     },
     "execution_count": 62,
     "metadata": {},
     "output_type": "execute_result"
    }
   ],
   "source": [
    "np.linalg.norm(np.array([2,2]))"
   ]
  },
  {
   "cell_type": "code",
   "execution_count": 63,
   "id": "dac46867",
   "metadata": {},
   "outputs": [
    {
     "data": {
      "text/plain": [
       "2.8284271247461903"
      ]
     },
     "execution_count": 63,
     "metadata": {},
     "output_type": "execute_result"
    }
   ],
   "source": [
    "np.sqrt(2**2 + 2**2)"
   ]
  },
  {
   "cell_type": "code",
   "execution_count": null,
   "id": "ac224185",
   "metadata": {},
   "outputs": [],
   "source": []
  }
 ],
 "metadata": {
  "kernelspec": {
   "display_name": "Python 3 (ipykernel)",
   "language": "python",
   "name": "python3"
  },
  "language_info": {
   "codemirror_mode": {
    "name": "ipython",
    "version": 3
   },
   "file_extension": ".py",
   "mimetype": "text/x-python",
   "name": "python",
   "nbconvert_exporter": "python",
   "pygments_lexer": "ipython3",
   "version": "3.9.13"
  }
 },
 "nbformat": 4,
 "nbformat_minor": 5
}
