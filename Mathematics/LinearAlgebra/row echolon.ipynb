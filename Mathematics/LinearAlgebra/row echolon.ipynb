{
 "cells": [
  {
   "cell_type": "code",
   "execution_count": 2,
   "id": "d1dffceb",
   "metadata": {},
   "outputs": [],
   "source": [
    "def rowEcholon(M):         \n",
    "    row, col = 0, 0\n",
    "    rows, cols = len(M), len(M[0])    \n",
    "    \n",
    "    def rowMod(i,j,x):\n",
    "        M[i] = [a + x * b for a,b in zip(M[i], M[j])]\n",
    "    \n",
    "    while row < rows and col < cols:\n",
    "        if M[row][col] == 0:\n",
    "            for r in range(row+1, rows):\n",
    "                if M[r][col] != 0:\n",
    "                    rowMod(row, r, 1)\n",
    "                    break\n",
    "        if M[row][col] == 0:\n",
    "            col += 1\n",
    "            continue\n",
    "        pivot = M[row][col]\n",
    "        for r in range(row+1, rows):\n",
    "            if M[r][col] != 0:\n",
    "                rowMod(r, row, -M[r][col] / pivot)\n",
    "        row += 1\n",
    "        col += 1"
   ]
  },
  {
   "cell_type": "code",
   "execution_count": 21,
   "id": "8e72d42c",
   "metadata": {},
   "outputs": [],
   "source": [
    "M = [[4, -1, 3], [3, 1, 9], [-1, 2, 2]]"
   ]
  },
  {
   "cell_type": "code",
   "execution_count": 22,
   "id": "9255b060",
   "metadata": {},
   "outputs": [],
   "source": [
    "rowEcholon(M)"
   ]
  },
  {
   "cell_type": "code",
   "execution_count": 23,
   "id": "11f61f55",
   "metadata": {},
   "outputs": [
    {
     "data": {
      "text/plain": [
       "[[4, -1, 3], [0.0, 1.75, 6.75], [0.0, 0.0, -4.0]]"
      ]
     },
     "execution_count": 23,
     "metadata": {},
     "output_type": "execute_result"
    }
   ],
   "source": [
    "M"
   ]
  },
  {
   "cell_type": "code",
   "execution_count": null,
   "id": "d5b92f81",
   "metadata": {},
   "outputs": [],
   "source": []
  }
 ],
 "metadata": {
  "kernelspec": {
   "display_name": "Python 3 (ipykernel)",
   "language": "python",
   "name": "python3"
  },
  "language_info": {
   "codemirror_mode": {
    "name": "ipython",
    "version": 3
   },
   "file_extension": ".py",
   "mimetype": "text/x-python",
   "name": "python",
   "nbconvert_exporter": "python",
   "pygments_lexer": "ipython3",
   "version": "3.11.3"
  }
 },
 "nbformat": 4,
 "nbformat_minor": 5
}
