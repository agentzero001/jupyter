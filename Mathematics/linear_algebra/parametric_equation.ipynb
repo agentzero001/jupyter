{
 "cells": [
  {
   "cell_type": "code",
   "execution_count": 1,
   "id": "d5173398",
   "metadata": {},
   "outputs": [],
   "source": [
    "import numpy as np\n",
    "import matplotlib.pyplot as plt \n",
    "\n",
    "customizations = {\n",
    "    'figure.facecolor': '.0',\n",
    "    'axes.facecolor': '.1',\n",
    "    'axes.labelcolor': 'white',\n",
    "    'text.color': 'white',\n",
    "    'xtick.color': 'green',\n",
    "    'ytick.color': 'green',\n",
    "    'axes.edgecolor': '#591523',\n",
    "    'text.usetex': False\n",
    "}\n",
    "plt.rcParams.update(customizations)"
   ]
  },
  {
   "cell_type": "code",
   "execution_count": 2,
   "id": "30e850e1",
   "metadata": {},
   "outputs": [],
   "source": [
    "t2 = np.linspace(.5, 1.5, 1000)\n",
    "t3 = np.linspace(-.5, 1.5, 1000)\n",
    "t4 = np.linspace(1, 0, 1000)"
   ]
  },
  {
   "cell_type": "markdown",
   "id": "1fc47ee9",
   "metadata": {},
   "source": [
    "$\\vec{p} = \\begin{bmatrix} 2 \\\\ 6 \\end{bmatrix} \\quad \\vec{q} = \\begin{bmatrix} 5 \\\\ 3 \\end{bmatrix} \\quad$\n",
    "$\\mathbf{\\alpha}(t) = \\begin{bmatrix} 3t+2 \\\\ -3t+6 \\end{bmatrix} \\quad$\n",
    "$\\mathbf{\\alpha}'(t) = \\begin{bmatrix} 3 \\\\ -3 \\end{bmatrix} \\quad$\n",
    "$\\lVert \\mathbf{\\alpha}'(t) \\rVert = 3\\sqrt{2}$"
   ]
  },
  {
   "cell_type": "code",
   "execution_count": 3,
   "id": "db758819",
   "metadata": {},
   "outputs": [
    {
     "name": "stdout",
     "output_type": "stream",
     "text": [
      "p = [2 6], q = [5 3], velocity = [ 3. -3.], speed = 4.2426\n"
     ]
    }
   ],
   "source": [
    "label_vector = lambda v, c: ax.text(*(v + .2), '({},{})'.format(v[0], v[1]), c=c)\n",
    "get_curve = lambda f, t: list(map(f, t))\n",
    "\n",
    "t = np.linspace(0,1,1000)\n",
    "p, q = p_q = np.array([[2, 6], [5, 3]])\n",
    "\n",
    "_x_coords = get_curve(lambda t: (1-t) * p[0] + t * q[0], t)\n",
    "_y_coords = get_curve(lambda t: (1-t) * p[1] + t * q[1], t)\n",
    "\n",
    "x_coords = get_curve(lambda t:  3 * t + 2, t)\n",
    "y_coords = get_curve(lambda t: -3 * t + 6, t)\n",
    "\n",
    "x_deltas = [x_coords[i+1] - x_coords[i] for i in range(len(x_coords)-1)]\n",
    "y_deltas = [y_coords[i+1] - y_coords[i] for i in range(len(y_coords)-1)]\n",
    "x_delta = x_coords[-1] - x_coords[0]\n",
    "y_delta = y_coords[-1] - y_coords[0]\n",
    "\n",
    "_velocity = np.array([sum(x_deltas), sum(y_deltas)])\n",
    "velocity = np.array([x_delta,y_delta])\n",
    "speed = np.sqrt(velocity[0]**2 + velocity[1]**2)\n",
    "\n",
    "print('p = {}, q = {}, velocity = {}, speed = {}'.format(p, q, velocity, round(speed, 4)))"
   ]
  },
  {
   "cell_type": "code",
   "execution_count": 4,
   "id": "0e29a166",
   "metadata": {},
   "outputs": [
    {
     "data": {
      "image/png": "[encoded data removed]",
      "text/plain": [
       "<Figure size 250x250 with 1 Axes>"
      ]
     },
     "metadata": {},
     "output_type": "display_data"
    }
   ],
   "source": [
    "fig, ax = plt.subplots(figsize=(2.5,2.5))\n",
    "ax.axis([0,10,0,10])\n",
    "\n",
    "ax.scatter(p_q[:,0], p_q[:,1], c=['orange', 'purple'])\n",
    "ax.plot(x_coords,y_coords, zorder=0, color='grey');\n",
    "\n",
    "for vector, color in zip(p_q, ['orange', 'purple']):\n",
    "    label_vector(vector, color)"
   ]
  },
  {
   "cell_type": "code",
   "execution_count": 9,
   "id": "aa713aff",
   "metadata": {},
   "outputs": [
    {
     "data": {
      "image/png": "[encoded data removed]",
      "text/plain": [
       "<Figure size 640x480 with 1 Axes>"
      ]
     },
     "metadata": {},
     "output_type": "display_data"
    }
   ],
   "source": [
    "c1 = lambda t: (np.sin(t), np.sin(t))\n",
    "L  = np.linspace(0, 1*np.pi - 2*np.pi / 1000, 1000)\n",
    "\n",
    "circle = list(map(c1, L))\n",
    "np_circle = np.array(circle)\n",
    "plt.axes().set_facecolor('black')\n",
    "plt.plot(np_circle[:,0], np_circle[:,1], color='grey')\n",
    "plt.axis('equal')\n",
    "plt.show()"
   ]
  },
  {
   "cell_type": "code",
   "execution_count": null,
   "id": "52975b7f",
   "metadata": {},
   "outputs": [],
   "source": []
  }
 ],
 "metadata": {
  "kernelspec": {
   "display_name": "Python 3 (ipykernel)",
   "language": "python",
   "name": "python3"
  },
  "language_info": {
   "codemirror_mode": {
    "name": "ipython",
    "version": 3
   },
   "file_extension": ".py",
   "mimetype": "text/x-python",
   "name": "python",
   "nbconvert_exporter": "python",
   "pygments_lexer": "ipython3",
   "version": "3.11.5"
  }
 },
 "nbformat": 4,
 "nbformat_minor": 5
}
