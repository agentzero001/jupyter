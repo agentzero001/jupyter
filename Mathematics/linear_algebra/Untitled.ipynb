{
 "cells": [
  {
   "cell_type": "code",
   "execution_count": 3,
   "id": "a47d3429",
   "metadata": {},
   "outputs": [],
   "source": [
    "import numpy as np"
   ]
  },
  {
   "cell_type": "code",
   "execution_count": 4,
   "id": "b3b81c9f",
   "metadata": {},
   "outputs": [],
   "source": [
    "A = np.random.randint(0, 10, (2,3))\n",
    "v1 = np.array([1,2])\n",
    "v2 = np.array([1,2])\n",
    "v1_v2 = np.c_[v1,v2]"
   ]
  },
  {
   "cell_type": "code",
   "execution_count": 5,
   "id": "b3ffef12",
   "metadata": {},
   "outputs": [
    {
     "data": {
      "text/plain": [
       "(array([[4, 4, 7],\n",
       "        [6, 6, 2]]),\n",
       " array([[1, 1],\n",
       "        [2, 2]]))"
      ]
     },
     "execution_count": 5,
     "metadata": {},
     "output_type": "execute_result"
    }
   ],
   "source": [
    "A, v1_v2"
   ]
  },
  {
   "cell_type": "code",
   "execution_count": 6,
   "id": "34ff67a6",
   "metadata": {},
   "outputs": [
    {
     "data": {
      "text/plain": [
       "array([[16, 16],\n",
       "       [16, 16],\n",
       "       [11, 11]])"
      ]
     },
     "execution_count": 6,
     "metadata": {},
     "output_type": "execute_result"
    }
   ],
   "source": [
    "A.T @ v1_v2"
   ]
  },
  {
   "cell_type": "code",
   "execution_count": 7,
   "id": "355dd681",
   "metadata": {},
   "outputs": [
    {
     "data": {
      "text/plain": [
       "array([[10, 10,  9],\n",
       "       [20, 20, 18]])"
      ]
     },
     "execution_count": 7,
     "metadata": {},
     "output_type": "execute_result"
    }
   ],
   "source": [
    "v1_v2 @ A #transforming vectors v1 and v2 from 2d into 3d space using A"
   ]
  },
  {
   "cell_type": "code",
   "execution_count": null,
   "id": "e3d0d3a4",
   "metadata": {},
   "outputs": [],
   "source": []
  }
 ],
 "metadata": {
  "kernelspec": {
   "display_name": "Python 3 (ipykernel)",
   "language": "python",
   "name": "python3"
  },
  "language_info": {
   "codemirror_mode": {
    "name": "ipython",
    "version": 3
   },
   "file_extension": ".py",
   "mimetype": "text/x-python",
   "name": "python",
   "nbconvert_exporter": "python",
   "pygments_lexer": "ipython3",
   "version": "3.11.5"
  }
 },
 "nbformat": 4,
 "nbformat_minor": 5
}
