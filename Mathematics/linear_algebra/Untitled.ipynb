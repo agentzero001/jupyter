{
 "cells": [
  {
   "cell_type": "code",
   "execution_count": 2,
   "id": "a47d3429",
   "metadata": {},
   "outputs": [],
   "source": [
    "import numpy as np"
   ]
  },
  {
   "cell_type": "code",
   "execution_count": 6,
   "id": "b3b81c9f",
   "metadata": {},
   "outputs": [],
   "source": [
    "A = np.random.randint(0, 10, (2, 3))\n",
    "v1 = np.array([1,2])\n",
    "v2 = np.array([1,2])\n",
    "v1_v2 = np.c_[v1,v2]"
   ]
  },
  {
   "cell_type": "code",
   "execution_count": 7,
   "id": "b3ffef12",
   "metadata": {},
   "outputs": [
    {
     "data": {
      "text/plain": [
       "(array([[4, 6, 9],\n",
       "        [3, 0, 0]]),\n",
       " array([[1, 1],\n",
       "        [2, 2]]))"
      ]
     },
     "execution_count": 7,
     "metadata": {},
     "output_type": "execute_result"
    }
   ],
   "source": [
    "A, v1_v2"
   ]
  },
  {
   "cell_type": "code",
   "execution_count": 8,
   "id": "34ff67a6",
   "metadata": {},
   "outputs": [
    {
     "data": {
      "text/plain": [
       "array([[10, 10],\n",
       "       [ 6,  6],\n",
       "       [ 9,  9]])"
      ]
     },
     "execution_count": 8,
     "metadata": {},
     "output_type": "execute_result"
    }
   ],
   "source": [
    "A.T @ v1_v2"
   ]
  },
  {
   "cell_type": "code",
   "execution_count": 9,
   "id": "e3d0d3a4",
   "metadata": {},
   "outputs": [],
   "source": [
    "vector1 = np.array([1, 2, 3])\n",
    "vector2 = np.array([4, 5, 6])\n",
    "vector3 = np.array([7, 8, 9])"
   ]
  },
  {
   "cell_type": "code",
   "execution_count": 13,
   "id": "c2595939",
   "metadata": {},
   "outputs": [],
   "source": [
    "vectors_list = [vector1, vector2, vector3]\n",
    "vectors_array = np.vstack([vector1, vector2, vector3])"
   ]
  },
  {
   "cell_type": "code",
   "execution_count": 15,
   "id": "fd21ab70",
   "metadata": {},
   "outputs": [
    {
     "data": {
      "text/plain": [
       "array([[1, 4, 7],\n",
       "       [2, 5, 8],\n",
       "       [3, 6, 9]])"
      ]
     },
     "execution_count": 15,
     "metadata": {},
     "output_type": "execute_result"
    }
   ],
   "source": [
    "vectors_array.T"
   ]
  },
  {
   "cell_type": "code",
   "execution_count": 44,
   "id": "efb5081f",
   "metadata": {},
   "outputs": [],
   "source": [
    "obs = 15\n",
    "np.random.seed(15)\n",
    "data = np.random.randint(0,5, obs*5).reshape(obs,5)\n",
    "data_unique = np.unique(data, axis=0)\n",
    "xs = np.c_[np.ones([data_unique.shape[0]]), data_unique] "
   ]
  },
  {
   "cell_type": "code",
   "execution_count": 45,
   "id": "eb5aa6e6",
   "metadata": {},
   "outputs": [
    {
     "data": {
      "text/plain": [
       "((15, 6), (6, 10))"
      ]
     },
     "execution_count": 45,
     "metadata": {},
     "output_type": "execute_result"
    }
   ],
   "source": [
    "weights = np.random.randn\n",
    "\n",
    "w0 = weights(xs.shape[1], 10)\n",
    "xs.shape, w0.shape"
   ]
  },
  {
   "cell_type": "code",
   "execution_count": 46,
   "id": "00173bff",
   "metadata": {},
   "outputs": [
    {
     "data": {
      "text/plain": [
       "(15, 10)"
      ]
     },
     "execution_count": 46,
     "metadata": {},
     "output_type": "execute_result"
    }
   ],
   "source": [
    "(xs @ w0).shape"
   ]
  },
  {
   "cell_type": "code",
   "execution_count": 47,
   "id": "a89e0404",
   "metadata": {},
   "outputs": [
    {
     "data": {
      "text/plain": [
       "(10, 15)"
      ]
     },
     "execution_count": 47,
     "metadata": {},
     "output_type": "execute_result"
    }
   ],
   "source": [
    "(w0.T @ xs.T).shape"
   ]
  },
  {
   "cell_type": "code",
   "execution_count": null,
   "id": "d4983fba",
   "metadata": {},
   "outputs": [],
   "source": []
  }
 ],
 "metadata": {
  "kernelspec": {
   "display_name": "Python 3 (ipykernel)",
   "language": "python",
   "name": "python3"
  },
  "language_info": {
   "codemirror_mode": {
    "name": "ipython",
    "version": 3
   },
   "file_extension": ".py",
   "mimetype": "text/x-python",
   "name": "python",
   "nbconvert_exporter": "python",
   "pygments_lexer": "ipython3",
   "version": "3.11.5"
  }
 },
 "nbformat": 4,
 "nbformat_minor": 5
}
