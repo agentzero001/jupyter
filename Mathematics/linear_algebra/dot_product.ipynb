{
 "cells": [
  {
   "cell_type": "code",
   "execution_count": 2,
   "id": "423cb683",
   "metadata": {},
   "outputs": [],
   "source": [
    "import numpy as np\n",
    "import matplotlib.pyplot as plt\n",
    "from matplotlib.patches import Arc\n",
    "plt.rcParams['figure.facecolor'] = '0.2'"
   ]
  },
  {
   "cell_type": "code",
   "execution_count": 3,
   "id": "18b70146",
   "metadata": {},
   "outputs": [
    {
     "data": {
      "image/png": "[encoded data removed]",
      "text/plain": [
       "<Figure size 640x480 with 1 Axes>"
      ]
     },
     "metadata": {},
     "output_type": "display_data"
    }
   ],
   "source": [
    "v1 = np.array([1, 5])\n",
    "v2 = np.array([4, 1])\n",
    "\n",
    "angle = np.arccos(np.dot(v1, v2) / (np.linalg.norm(v1) * np.linalg.norm(v2)))\n",
    "\n",
    "start_angle = np.degrees(np.arctan2(v1[1], v1[0]))\n",
    "end_angle = np.degrees(np.arctan2(v2[1], v2[0]))\n",
    "\n",
    "if start_angle < end_angle:\n",
    "    theta1 = start_angle\n",
    "    theta2 = end_angle\n",
    "else:\n",
    "    theta1 = end_angle\n",
    "    theta2 = start_angle\n",
    "\n",
    "plt.axes().set_facecolor('0.4')\n",
    "plt.arrow(0, 0, v1[0], v1[1], head_width=0, head_length=0, fc='b', ec='b', zorder=3)\n",
    "plt.arrow(0, 0, v2[0], v2[1], head_width=0, head_length=0, fc='r', ec='r',zorder=3)\n",
    "plt.text(v1[0], v1[1]+.5, 'v1', fontsize=12)\n",
    "plt.text(v2[0], v2[1]+.5, 'v2', fontsize=12)\n",
    "plt.text(0.3, -.5, 'γ = {:.2f}°'.format(np.degrees(angle)), fontsize=12)\n",
    "plt.axhline(y=0, color='black', linewidth=1, zorder=2)\n",
    "plt.axvline(x=0, color='black', linewidth=1, zorder=2)\n",
    "plt.grid(zorder=1,alpha=0.4)\n",
    "arc = Arc((0, 0), 1, 1, angle=0, theta1=theta1, theta2=theta2, color='black', linewidth=2)\n",
    "plt.gca().add_patch(arc)\n",
    "\n",
    "plt.xlim([-1, 8])\n",
    "plt.ylim([-1, 8])\n",
    "\n",
    "plt.show()"
   ]
  },
  {
   "cell_type": "code",
   "execution_count": 4,
   "id": "d3b601de",
   "metadata": {},
   "outputs": [
    {
     "data": {
      "text/plain": [
       "64.6538240580533"
      ]
     },
     "execution_count": 4,
     "metadata": {},
     "output_type": "execute_result"
    }
   ],
   "source": [
    "np.degrees(angle)"
   ]
  },
  {
   "cell_type": "code",
   "execution_count": 5,
   "id": "48983ef1",
   "metadata": {},
   "outputs": [
    {
     "data": {
      "text/plain": [
       "0.4280863447390447"
      ]
     },
     "execution_count": 5,
     "metadata": {},
     "output_type": "execute_result"
    }
   ],
   "source": [
    "np.dot(v1, v2) / (np.linalg.norm(v1) * np.linalg.norm(v2))"
   ]
  },
  {
   "cell_type": "code",
   "execution_count": 6,
   "id": "09a4cb13",
   "metadata": {},
   "outputs": [
    {
     "data": {
      "text/plain": [
       "2.8284271247461903"
      ]
     },
     "execution_count": 6,
     "metadata": {},
     "output_type": "execute_result"
    }
   ],
   "source": [
    "np.linalg.norm(np.array([2,2]))"
   ]
  },
  {
   "cell_type": "code",
   "execution_count": 7,
   "id": "cd157931",
   "metadata": {},
   "outputs": [
    {
     "data": {
      "text/plain": [
       "2.8284271247461903"
      ]
     },
     "execution_count": 7,
     "metadata": {},
     "output_type": "execute_result"
    }
   ],
   "source": [
    "np.sqrt(2**2 + 2**2)"
   ]
  },
  {
   "cell_type": "code",
   "execution_count": 8,
   "id": "e71551fc",
   "metadata": {},
   "outputs": [],
   "source": [
    "M = np.eye(3)\n",
    "vec = np.array([1,2,3])"
   ]
  },
  {
   "cell_type": "code",
   "execution_count": 9,
   "id": "b0aa7b1e",
   "metadata": {},
   "outputs": [
    {
     "data": {
      "text/plain": [
       "array([1., 2., 3.])"
      ]
     },
     "execution_count": 9,
     "metadata": {},
     "output_type": "execute_result"
    }
   ],
   "source": [
    "M @ vec"
   ]
  },
  {
   "cell_type": "code",
   "execution_count": 10,
   "id": "7326416a",
   "metadata": {},
   "outputs": [
    {
     "data": {
      "text/plain": [
       "array([1., 2., 3.])"
      ]
     },
     "execution_count": 10,
     "metadata": {},
     "output_type": "execute_result"
    }
   ],
   "source": [
    "vec @ M"
   ]
  },
  {
   "cell_type": "code",
   "execution_count": 40,
   "id": "76de32dc",
   "metadata": {},
   "outputs": [],
   "source": [
    "def matrix_vector_product(A, v_in):\n",
    "    n = len(A)\n",
    "    vec_out = [0] * n\n",
    "    for i in range(n):\n",
    "        for j in range(n):\n",
    "            vec_out[i] += A[i][j] * v_in[j]  \n",
    "    return vec_out"
   ]
  },
  {
   "cell_type": "code",
   "execution_count": 41,
   "id": "578fab8c",
   "metadata": {},
   "outputs": [],
   "source": [
    "A = [[1,0,0], [0,1,0], [0,0,1]]\n",
    "A_ = np.array(A)\n",
    "\n",
    "v1 = [1,2,3]\n",
    "v1_ = np.array(v1)"
   ]
  },
  {
   "cell_type": "code",
   "execution_count": 47,
   "id": "079078a1",
   "metadata": {},
   "outputs": [
    {
     "data": {
      "text/plain": [
       "(array([1, 2, 3]), [1, 2, 3])"
      ]
     },
     "execution_count": 47,
     "metadata": {},
     "output_type": "execute_result"
    }
   ],
   "source": [
    "A_ @ v1_, matrix_vector_product(A, v1)"
   ]
  },
  {
   "cell_type": "code",
   "execution_count": 51,
   "id": "5f8e036c",
   "metadata": {},
   "outputs": [],
   "source": [
    "B = [[1,0,0],\n",
    "     [0,1,0],\n",
    "     [0,0,1],\n",
    "     [2,2,2]]\n",
    "\n",
    "B_ = np.array(B)\n",
    "\n",
    "v2 = [1,2,3]\n",
    "v2_ = np.array(v1)"
   ]
  },
  {
   "cell_type": "code",
   "execution_count": 60,
   "id": "fe24edae",
   "metadata": {},
   "outputs": [],
   "source": [
    "def matrix_vector_product(A, v_in):\n",
    "    vec_out = [0] * len(A)\n",
    "    for i in range(len(A)):\n",
    "        for j in range(len(A[0])):\n",
    "            vec_out[i] += A[i][j] * v_in[j]  \n",
    "    return vec_out"
   ]
  },
  {
   "cell_type": "code",
   "execution_count": 61,
   "id": "0b127617",
   "metadata": {},
   "outputs": [
    {
     "data": {
      "text/plain": [
       "([1, 2, 3, 12], array([ 1,  2,  3, 12]))"
      ]
     },
     "execution_count": 61,
     "metadata": {},
     "output_type": "execute_result"
    }
   ],
   "source": [
    "matrix_vector_product(B, v2), B_ @ v2_"
   ]
  },
  {
   "cell_type": "markdown",
   "id": "99c893cb",
   "metadata": {},
   "source": [
    "Given two matrices $A$ and $B$, where $A$ is of size $m \\times n$ and $B$ is of size $n \\times p$, the product $C = A \\cdot B$ is a matrix of size $m \\times p$.\n",
    "\n",
    "The $i$th row and $j$th column entry of matrix $C$ is computed as follows:\n",
    "\n",
    "$$\n",
    "C_{ij} = \\sum_{k=1}^{n} A_{ik} \\cdot B_{kj}\n",
    "$$\n",
    "\n",
    "In matrix notation:\n",
    "\n",
    "$$\n",
    "C_{ij} = \\sum_{k=1}^{n} A_{ik} \\cdot B_{kj} \\quad \\text{for} \\quad i = 1,2,\\ldots,m \\quad \\text{and} \\quad j = 1,2,\\ldots,p\n",
    "$$"
   ]
  },
  {
   "cell_type": "code",
   "execution_count": 152,
   "id": "97fc34b9",
   "metadata": {},
   "outputs": [],
   "source": [
    "def matrix_multiplication(A, B):\n",
    "    n, m, p  = len(A), len(A[0]), len(B[0])\n",
    "    C = [[0] * p for i in range(n)]\n",
    "    for i in range(n):\n",
    "        for j in range(p):\n",
    "            for k in range(m):    \n",
    "                C[i][j] += A[i][k] * B[k][j]\n",
    "    return C"
   ]
  },
  {
   "cell_type": "code",
   "execution_count": 166,
   "id": "acb4e306",
   "metadata": {},
   "outputs": [],
   "source": [
    "def matrix_multiplication(A, B):\n",
    "    n, m, p  = len(A), len(A[0]), len(B[0])\n",
    "    C = [[0] * p for i in range(n)]\n",
    "    for i in range(n):\n",
    "        for j in range(p):\n",
    "            C[i][j] = sum(a * b for a, b in zip(A[i], (row[j] for row in B)))\n",
    "    return C"
   ]
  },
  {
   "cell_type": "code",
   "execution_count": 167,
   "id": "85f8dcc8",
   "metadata": {},
   "outputs": [],
   "source": [
    "#thats it????\n",
    "\n",
    "A = [list(range(4))] * 3\n",
    "B = [list(range(5))] * 4\n",
    "A_, B_ = np.array(A), np.array(B)"
   ]
  },
  {
   "cell_type": "code",
   "execution_count": 168,
   "id": "bc63de5c",
   "metadata": {},
   "outputs": [
    {
     "data": {
      "text/plain": [
       "[[0, 6, 12, 18, 24], [0, 6, 12, 18, 24], [0, 6, 12, 18, 24]]"
      ]
     },
     "execution_count": 168,
     "metadata": {},
     "output_type": "execute_result"
    }
   ],
   "source": [
    "matrix_multiplication(A, B)"
   ]
  },
  {
   "cell_type": "code",
   "execution_count": 169,
   "id": "0496d075",
   "metadata": {},
   "outputs": [
    {
     "data": {
      "text/plain": [
       "array([[ 0,  6, 12, 18, 24],\n",
       "       [ 0,  6, 12, 18, 24],\n",
       "       [ 0,  6, 12, 18, 24]])"
      ]
     },
     "execution_count": 169,
     "metadata": {},
     "output_type": "execute_result"
    }
   ],
   "source": [
    "A_ @ B_"
   ]
  },
  {
   "cell_type": "code",
   "execution_count": 162,
   "id": "a3d8dc2c",
   "metadata": {},
   "outputs": [],
   "source": [
    "A = [[0] * 3 for i in range(3)]"
   ]
  },
  {
   "cell_type": "code",
   "execution_count": 163,
   "id": "d3e4b2ef",
   "metadata": {},
   "outputs": [],
   "source": [
    "A[0][1] = 3"
   ]
  },
  {
   "cell_type": "code",
   "execution_count": 164,
   "id": "63d6f617",
   "metadata": {},
   "outputs": [
    {
     "data": {
      "text/plain": [
       "[[0, 3, 0], [0, 0, 0], [0, 0, 0]]"
      ]
     },
     "execution_count": 164,
     "metadata": {},
     "output_type": "execute_result"
    }
   ],
   "source": [
    "A"
   ]
  },
  {
   "cell_type": "code",
   "execution_count": null,
   "id": "b8421486",
   "metadata": {},
   "outputs": [],
   "source": []
  }
 ],
 "metadata": {
  "kernelspec": {
   "display_name": "Python 3 (ipykernel)",
   "language": "python",
   "name": "python3"
  },
  "language_info": {
   "codemirror_mode": {
    "name": "ipython",
    "version": 3
   },
   "file_extension": ".py",
   "mimetype": "text/x-python",
   "name": "python",
   "nbconvert_exporter": "python",
   "pygments_lexer": "ipython3",
   "version": "3.11.5"
  }
 },
 "nbformat": 4,
 "nbformat_minor": 5
}
