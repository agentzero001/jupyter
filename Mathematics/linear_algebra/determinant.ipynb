{
 "cells": [
  {
   "cell_type": "code",
   "execution_count": 1,
   "id": "b83e6351",
   "metadata": {},
   "outputs": [],
   "source": [
    "import numpy as np"
   ]
  },
  {
   "cell_type": "code",
   "execution_count": 2,
   "id": "2351415d",
   "metadata": {},
   "outputs": [],
   "source": [
    "i_hat = [1,0]; j_hat = [0, 1]"
   ]
  },
  {
   "cell_type": "code",
   "execution_count": 33,
   "id": "6690115a",
   "metadata": {},
   "outputs": [
    {
     "data": {
      "text/plain": [
       "1.0"
      ]
     },
     "execution_count": 33,
     "metadata": {},
     "output_type": "execute_result"
    }
   ],
   "source": [
    "#so the matrix has to be 2 row vectors and not column vectors.\n",
    "#coming from math it could be confusing\n",
    "#(or not because math ppl are smart)\n",
    "np.linalg.det([i_hat, j_hat])"
   ]
  },
  {
   "cell_type": "code",
   "execution_count": 34,
   "id": "6a2f9721",
   "metadata": {},
   "outputs": [],
   "source": [
    "A = lambda a, b: np.linalg.det([a, b])"
   ]
  },
  {
   "cell_type": "code",
   "execution_count": 35,
   "id": "46c76ab2",
   "metadata": {},
   "outputs": [
    {
     "data": {
      "text/plain": [
       "5.000000000000001"
      ]
     },
     "execution_count": 35,
     "metadata": {},
     "output_type": "execute_result"
    }
   ],
   "source": [
    "A([2, 1],\n",
    "  [1, 3])"
   ]
  },
  {
   "cell_type": "code",
   "execution_count": 36,
   "id": "f2989eaf",
   "metadata": {},
   "outputs": [
    {
     "data": {
      "text/plain": [
       "1.0"
      ]
     },
     "execution_count": 36,
     "metadata": {},
     "output_type": "execute_result"
    }
   ],
   "source": [
    "A(i_hat, j_hat)"
   ]
  },
  {
   "cell_type": "code",
   "execution_count": 37,
   "id": "7bce324f",
   "metadata": {},
   "outputs": [],
   "source": [
    "v = np.array([2, 0]); w = np.array([0, 4]) ; u = np.array([.5, .5])\n",
    "c = 3"
   ]
  },
  {
   "cell_type": "code",
   "execution_count": 38,
   "id": "e4b992d8",
   "metadata": {},
   "outputs": [
    {
     "data": {
      "text/plain": [
       "0.0"
      ]
     },
     "execution_count": 38,
     "metadata": {},
     "output_type": "execute_result"
    }
   ],
   "source": [
    "A(v, v)"
   ]
  },
  {
   "cell_type": "code",
   "execution_count": 39,
   "id": "9cc9173a",
   "metadata": {},
   "outputs": [
    {
     "data": {
      "text/plain": [
       "7.999999999999998"
      ]
     },
     "execution_count": 39,
     "metadata": {},
     "output_type": "execute_result"
    }
   ],
   "source": [
    "A(v, w)"
   ]
  },
  {
   "cell_type": "code",
   "execution_count": 40,
   "id": "9ea630de",
   "metadata": {},
   "outputs": [
    {
     "data": {
      "text/plain": [
       "(23.999999999999993, 23.999999999999993)"
      ]
     },
     "execution_count": 40,
     "metadata": {},
     "output_type": "execute_result"
    }
   ],
   "source": [
    "A(c * v, w), c * A(v, w)"
   ]
  },
  {
   "cell_type": "code",
   "execution_count": 41,
   "id": "4f8f04ea",
   "metadata": {},
   "outputs": [
    {
     "data": {
      "text/plain": [
       "(10.000000000000002, 9.999999999999998)"
      ]
     },
     "execution_count": 41,
     "metadata": {},
     "output_type": "execute_result"
    }
   ],
   "source": [
    "A(v + u, w), A(v, w) + A(u, w)"
   ]
  },
  {
   "cell_type": "code",
   "execution_count": 42,
   "id": "e1ab9a99",
   "metadata": {},
   "outputs": [
    {
     "data": {
      "text/plain": [
       "(-7.999999999999998, -7.999999999999998, -7.999999999999998)"
      ]
     },
     "execution_count": 42,
     "metadata": {},
     "output_type": "execute_result"
    }
   ],
   "source": [
    "A(-v, w), -A(v, w), A(w, v)"
   ]
  },
  {
   "cell_type": "code",
   "execution_count": 43,
   "id": "ce734060",
   "metadata": {},
   "outputs": [
    {
     "data": {
      "text/plain": [
       "9.999999999999998"
      ]
     },
     "execution_count": 43,
     "metadata": {},
     "output_type": "execute_result"
    }
   ],
   "source": [
    "np.linalg.det([[2, 0],\n",
    "               [5, 5]])"
   ]
  },
  {
   "cell_type": "code",
   "execution_count": 44,
   "id": "acbbcca6",
   "metadata": {},
   "outputs": [
    {
     "name": "stdout",
     "output_type": "stream",
     "text": [
      "0.2323\n"
     ]
    }
   ],
   "source": [
    "vector_matrix = lambda v, w: np.array([[*v], [*w]])\n",
    "\n",
    "Matrices = []\n",
    "for i in range(20):\n",
    "    for j in range(20):\n",
    "        for k in range(20):\n",
    "            for l in range(20):\n",
    "                Matrices.append(vector_matrix([i, j], [k, l]))\n",
    "                \n",
    "s = 0\n",
    "for matrix in Matrices:\n",
    "    if np.linalg.det(matrix) != np.linalg.det(matrix.T):\n",
    "        s += 1\n",
    "\n",
    "        \n",
    "print(s / len(Matrices))"
   ]
  },
  {
   "cell_type": "code",
   "execution_count": 46,
   "id": "c8d7c2f6",
   "metadata": {},
   "outputs": [
    {
     "name": "stdout",
     "output_type": "stream",
     "text": [
      "0.2323\n"
     ]
    }
   ],
   "source": [
    "#calculate determinants of several matrices\n",
    "\n",
    "s = 0\n",
    "for matrix in Matrices:\n",
    "    out = np.linalg.det(np.stack((matrix, matrix.T), axis=0))\n",
    "    if out[0] != out[1]:\n",
    "        s += 1\n",
    "\n",
    "print(s / len(Matrices))"
   ]
  },
  {
   "cell_type": "code",
   "execution_count": null,
   "id": "d12cb89f",
   "metadata": {},
   "outputs": [],
   "source": []
  }
 ],
 "metadata": {
  "kernelspec": {
   "display_name": "Python 3 (ipykernel)",
   "language": "python",
   "name": "python3"
  },
  "language_info": {
   "codemirror_mode": {
    "name": "ipython",
    "version": 3
   },
   "file_extension": ".py",
   "mimetype": "text/x-python",
   "name": "python",
   "nbconvert_exporter": "python",
   "pygments_lexer": "ipython3",
   "version": "3.11.5"
  }
 },
 "nbformat": 4,
 "nbformat_minor": 5
}
