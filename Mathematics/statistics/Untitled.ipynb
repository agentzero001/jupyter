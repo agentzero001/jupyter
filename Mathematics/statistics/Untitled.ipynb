{
 "cells": [
  {
   "cell_type": "code",
   "execution_count": 27,
   "id": "3640a05a",
   "metadata": {},
   "outputs": [],
   "source": [
    "import pandas as pd\n",
    "import numpy as np\n",
    "import matplotlib.pyplot as plt\n",
    "plt.rcParams['figure.facecolor'] = '0.3'"
   ]
  },
  {
   "cell_type": "code",
   "execution_count": 28,
   "id": "a840105c",
   "metadata": {},
   "outputs": [],
   "source": [
    "dict_ = {'tent': [0, 1, 2, 3] ,'cost': [48, 12, 5, 4], 'size': [8, 4, 3, 2]}\n",
    "df = pd.DataFrame(dict_)\n",
    "df.set_index('tent', inplace=True)"
   ]
  },
  {
   "cell_type": "code",
   "execution_count": 30,
   "id": "73623dd5",
   "metadata": {},
   "outputs": [
    {
     "data": {
      "text/plain": [
       "(4, 2)"
      ]
     },
     "execution_count": 30,
     "metadata": {},
     "output_type": "execute_result"
    }
   ],
   "source": [
    "num_data = df.values\n",
    "num_data.shape"
   ]
  },
  {
   "cell_type": "code",
   "execution_count": 34,
   "id": "1f758fe7",
   "metadata": {},
   "outputs": [
    {
     "data": {
      "text/plain": [
       "<matplotlib.collections.PathCollection at 0x2d22f36e340>"
      ]
     },
     "execution_count": 34,
     "metadata": {},
     "output_type": "execute_result"
    },
    {
     "data": {
      "image/png": "[encoded data removed]",
      "text/plain": [
       "<Figure size 640x480 with 1 Axes>"
      ]
     },
     "metadata": {},
     "output_type": "display_data"
    }
   ],
   "source": [
    "plt.axes().set_facecolor('0.1')\n",
    "plt.scatter(num_data[:, 1], num_data[:, 0], c='red')"
   ]
  },
  {
   "cell_type": "code",
   "execution_count": null,
   "id": "534466a2",
   "metadata": {},
   "outputs": [],
   "source": []
  }
 ],
 "metadata": {
  "kernelspec": {
   "display_name": "Python 3 (ipykernel)",
   "language": "python",
   "name": "python3"
  },
  "language_info": {
   "codemirror_mode": {
    "name": "ipython",
    "version": 3
   },
   "file_extension": ".py",
   "mimetype": "text/x-python",
   "name": "python",
   "nbconvert_exporter": "python",
   "pygments_lexer": "ipython3",
   "version": "3.9.13"
  }
 },
 "nbformat": 4,
 "nbformat_minor": 5
}
