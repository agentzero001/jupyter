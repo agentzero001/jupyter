{
 "cells": [
  {
   "cell_type": "code",
   "execution_count": 4,
   "id": "558ad8fe",
   "metadata": {},
   "outputs": [],
   "source": [
    "import random"
   ]
  },
  {
   "cell_type": "code",
   "execution_count": 22,
   "id": "2aaebd83",
   "metadata": {},
   "outputs": [
    {
     "data": {
      "text/plain": [
       "{'suit': '♣', 'value': 8}"
      ]
     },
     "execution_count": 22,
     "metadata": {},
     "output_type": "execute_result"
    }
   ],
   "source": [
    "class Card:\n",
    "    def __init__(self, suit, value):\n",
    "        self.suit = suit\n",
    "        self.value = value\n",
    "\n",
    "    def __repr__(self):\n",
    "        return f\"{self.suit}{self.value}\"\n",
    "\n",
    "class Deck:\n",
    "    def __init__(self):\n",
    "        self.cards = [Card(suit, value) for suit in ['♣','♦','♥','♠'] for value in range(2, 11)]\n",
    "        \n",
    "        self.cards += [Card(suit, value) for suit in ['♣','♦','♥','♠'] for value in ['A','K','Q','J']]\n",
    "\n",
    "    def shuffle(self):\n",
    "        if len(self.cards) > 1:\n",
    "            random.shuffle(self.cards)\n",
    "\n",
    "    def deal_card(self):\n",
    "        if len(self.cards) > 1:\n",
    "            return self.cards.pop(0)\n",
    "\n",
    "deck = Deck()\n",
    "dc = deck.deal_card\n",
    "deck.shuffle()\n",
    "\n",
    "card1 = dc()\n",
    "card1.__dict__"
   ]
  },
  {
   "cell_type": "code",
   "execution_count": 23,
   "id": "1cb86b67",
   "metadata": {},
   "outputs": [
    {
     "data": {
      "text/plain": [
       "[(♣Q, ♣J), (♥Q, ♦6), (♦A, ♦10), (♥9, ♦Q), (♦8, ♣9), (♠5, ♥8)]"
      ]
     },
     "execution_count": 23,
     "metadata": {},
     "output_type": "execute_result"
    }
   ],
   "source": [
    "[(dc(), dc()) for i in range(6)]"
   ]
  },
  {
   "cell_type": "code",
   "execution_count": null,
   "id": "41d5209e",
   "metadata": {},
   "outputs": [],
   "source": []
  }
 ],
 "metadata": {
  "kernelspec": {
   "display_name": "Python 3 (ipykernel)",
   "language": "python",
   "name": "python3"
  },
  "language_info": {
   "codemirror_mode": {
    "name": "ipython",
    "version": 3
   },
   "file_extension": ".py",
   "mimetype": "text/x-python",
   "name": "python",
   "nbconvert_exporter": "python",
   "pygments_lexer": "ipython3",
   "version": "3.9.13"
  }
 },
 "nbformat": 4,
 "nbformat_minor": 5
}
