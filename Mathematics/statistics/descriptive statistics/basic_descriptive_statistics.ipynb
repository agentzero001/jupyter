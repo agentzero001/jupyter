{
 "cells": [
  {
   "cell_type": "code",
   "execution_count": 1,
   "id": "5505e78a",
   "metadata": {
    "scrolled": true
   },
   "outputs": [],
   "source": [
    "import pandas as pd\n",
    "import numpy as np\n",
    "import matplotlib.pyplot as plt\n",
    "import statistics\n",
    "import scipy.stats"
   ]
  },
  {
   "cell_type": "code",
   "execution_count": 2,
   "id": "7f40c407",
   "metadata": {},
   "outputs": [
    {
     "data": {
      "text/plain": [
       "{1: 8, 2: 13, 3: 10, 4: 12, 5: 10, 6: 7}"
      ]
     },
     "execution_count": 2,
     "metadata": {},
     "output_type": "execute_result"
    }
   ],
   "source": [
    "np.random.seed(47)\n",
    "grades = np.random.randint(1,7, 60)\n",
    "freq_dict = {i: np.sum(grades == i) for i in range(1, 7)}\n",
    "freq_dict"
   ]
  },
  {
   "cell_type": "code",
   "execution_count": 3,
   "id": "95319bfb",
   "metadata": {},
   "outputs": [],
   "source": [
    "df = pd.DataFrame.from_dict(freq_dict, orient='index', columns=['abs_freq'])\n",
    "df.index.name = 'grades'"
   ]
  },
  {
   "cell_type": "code",
   "execution_count": 4,
   "id": "098e32ae",
   "metadata": {},
   "outputs": [
    {
     "data": {
      "text/html": [
       "<div>\n",
       "<style scoped>\n",
       "    .dataframe tbody tr th:only-of-type {\n",
       "        vertical-align: middle;\n",
       "    }\n",
       "\n",
       "    .dataframe tbody tr th {\n",
       "        vertical-align: top;\n",
       "    }\n",
       "\n",
       "    .dataframe thead th {\n",
       "        text-align: right;\n",
       "    }\n",
       "</style>\n",
       "<table border=\"1\" class=\"dataframe\">\n",
       "  <thead>\n",
       "    <tr style=\"text-align: right;\">\n",
       "      <th></th>\n",
       "      <th>abs_freq</th>\n",
       "    </tr>\n",
       "    <tr>\n",
       "      <th>grades</th>\n",
       "      <th></th>\n",
       "    </tr>\n",
       "  </thead>\n",
       "  <tbody>\n",
       "    <tr>\n",
       "      <th>1</th>\n",
       "      <td>8</td>\n",
       "    </tr>\n",
       "    <tr>\n",
       "      <th>2</th>\n",
       "      <td>13</td>\n",
       "    </tr>\n",
       "    <tr>\n",
       "      <th>3</th>\n",
       "      <td>10</td>\n",
       "    </tr>\n",
       "    <tr>\n",
       "      <th>4</th>\n",
       "      <td>12</td>\n",
       "    </tr>\n",
       "    <tr>\n",
       "      <th>5</th>\n",
       "      <td>10</td>\n",
       "    </tr>\n",
       "    <tr>\n",
       "      <th>6</th>\n",
       "      <td>7</td>\n",
       "    </tr>\n",
       "  </tbody>\n",
       "</table>\n",
       "</div>"
      ],
      "text/plain": [
       "        abs_freq\n",
       "grades          \n",
       "1              8\n",
       "2             13\n",
       "3             10\n",
       "4             12\n",
       "5             10\n",
       "6              7"
      ]
     },
     "execution_count": 4,
     "metadata": {},
     "output_type": "execute_result"
    }
   ],
   "source": [
    "df"
   ]
  },
  {
   "cell_type": "code",
   "execution_count": 5,
   "id": "09ba1d26",
   "metadata": {},
   "outputs": [],
   "source": [
    "df['rel_freq'] = round(df['abs_freq'] / len(grades), 3)\n",
    "df['abs_cum_freq'] = df['abs_freq'].cumsum()\n",
    "df['rel_cum_freq'] = round(df['rel_freq'].cumsum(), 2)"
   ]
  },
  {
   "cell_type": "code",
   "execution_count": 6,
   "id": "0c404ccd",
   "metadata": {},
   "outputs": [
    {
     "data": {
      "text/html": [
       "<div>\n",
       "<style scoped>\n",
       "    .dataframe tbody tr th:only-of-type {\n",
       "        vertical-align: middle;\n",
       "    }\n",
       "\n",
       "    .dataframe tbody tr th {\n",
       "        vertical-align: top;\n",
       "    }\n",
       "\n",
       "    .dataframe thead th {\n",
       "        text-align: right;\n",
       "    }\n",
       "</style>\n",
       "<table border=\"1\" class=\"dataframe\">\n",
       "  <thead>\n",
       "    <tr style=\"text-align: right;\">\n",
       "      <th></th>\n",
       "      <th>abs_freq</th>\n",
       "      <th>rel_freq</th>\n",
       "      <th>abs_cum_freq</th>\n",
       "      <th>rel_cum_freq</th>\n",
       "    </tr>\n",
       "    <tr>\n",
       "      <th>grades</th>\n",
       "      <th></th>\n",
       "      <th></th>\n",
       "      <th></th>\n",
       "      <th></th>\n",
       "    </tr>\n",
       "  </thead>\n",
       "  <tbody>\n",
       "    <tr>\n",
       "      <th>1</th>\n",
       "      <td>8</td>\n",
       "      <td>0.133</td>\n",
       "      <td>8</td>\n",
       "      <td>0.13</td>\n",
       "    </tr>\n",
       "    <tr>\n",
       "      <th>2</th>\n",
       "      <td>13</td>\n",
       "      <td>0.217</td>\n",
       "      <td>21</td>\n",
       "      <td>0.35</td>\n",
       "    </tr>\n",
       "    <tr>\n",
       "      <th>3</th>\n",
       "      <td>10</td>\n",
       "      <td>0.167</td>\n",
       "      <td>31</td>\n",
       "      <td>0.52</td>\n",
       "    </tr>\n",
       "    <tr>\n",
       "      <th>4</th>\n",
       "      <td>12</td>\n",
       "      <td>0.200</td>\n",
       "      <td>43</td>\n",
       "      <td>0.72</td>\n",
       "    </tr>\n",
       "    <tr>\n",
       "      <th>5</th>\n",
       "      <td>10</td>\n",
       "      <td>0.167</td>\n",
       "      <td>53</td>\n",
       "      <td>0.88</td>\n",
       "    </tr>\n",
       "    <tr>\n",
       "      <th>6</th>\n",
       "      <td>7</td>\n",
       "      <td>0.117</td>\n",
       "      <td>60</td>\n",
       "      <td>1.00</td>\n",
       "    </tr>\n",
       "  </tbody>\n",
       "</table>\n",
       "</div>"
      ],
      "text/plain": [
       "        abs_freq  rel_freq  abs_cum_freq  rel_cum_freq\n",
       "grades                                                \n",
       "1              8     0.133             8          0.13\n",
       "2             13     0.217            21          0.35\n",
       "3             10     0.167            31          0.52\n",
       "4             12     0.200            43          0.72\n",
       "5             10     0.167            53          0.88\n",
       "6              7     0.117            60          1.00"
      ]
     },
     "execution_count": 6,
     "metadata": {},
     "output_type": "execute_result"
    }
   ],
   "source": [
    "df"
   ]
  },
  {
   "cell_type": "code",
   "execution_count": 7,
   "id": "15459dce",
   "metadata": {},
   "outputs": [
    {
     "data": {
      "text/plain": [
       "grades\n",
       "1     8\n",
       "2    13\n",
       "3    10\n",
       "4    12\n",
       "5    10\n",
       "6     7\n",
       "Name: abs_freq, dtype: int32"
      ]
     },
     "execution_count": 7,
     "metadata": {},
     "output_type": "execute_result"
    }
   ],
   "source": [
    "df['abs_freq']"
   ]
  },
  {
   "cell_type": "code",
   "execution_count": 8,
   "id": "14e7dedf",
   "metadata": {},
   "outputs": [
    {
     "data": {
      "text/plain": [
       "(array([1, 2, 3, 4, 5, 6]), array([ 8, 13, 10, 12, 10,  7], dtype=int64))"
      ]
     },
     "execution_count": 8,
     "metadata": {},
     "output_type": "execute_result"
    }
   ],
   "source": [
    "#recreating the grades list from the df\n",
    "\n",
    "abs_freq = df['abs_freq'].values\n",
    "\n",
    "grades2 = []\n",
    "for grade, freq in enumerate(abs_freq, start=1):\n",
    "    grades2.extend([grade] * freq)\n",
    "    \n",
    "grades2 = np.array(grades2)\n",
    "np.unique(grades2, return_counts=True)"
   ]
  },
  {
   "cell_type": "code",
   "execution_count": 9,
   "id": "037b3921",
   "metadata": {},
   "outputs": [
    {
     "data": {
      "text/plain": [
       "(array([1, 2, 3, 4, 5, 6], dtype=int64), array([ 8, 13, 10, 12, 10,  7]))"
      ]
     },
     "execution_count": 9,
     "metadata": {},
     "output_type": "execute_result"
    }
   ],
   "source": [
    "grades_arr = df.index.values\n",
    "abs_freq_arr = df['abs_freq'].values\n",
    "\n",
    "grades_arr, abs_freq_arr"
   ]
  },
  {
   "cell_type": "code",
   "execution_count": 10,
   "id": "bfe584c7",
   "metadata": {},
   "outputs": [
    {
     "data": {
      "text/plain": [
       "3.4"
      ]
     },
     "execution_count": 10,
     "metadata": {},
     "output_type": "execute_result"
    }
   ],
   "source": [
    "np.average(grades_arr, weights=abs_freq_arr)"
   ]
  },
  {
   "cell_type": "code",
   "execution_count": 11,
   "id": "aa778be6",
   "metadata": {},
   "outputs": [
    {
     "data": {
      "text/plain": [
       "3.4"
      ]
     },
     "execution_count": 11,
     "metadata": {},
     "output_type": "execute_result"
    }
   ],
   "source": [
    "a = 0\n",
    "\n",
    "for i in df.index:\n",
    "    a += i * df['abs_freq'][i]\n",
    "    \n",
    "avg_grade = a/sum(df['abs_freq'])\n",
    "avg_grade"
   ]
  },
  {
   "cell_type": "code",
   "execution_count": 37,
   "id": "7adf4ea4",
   "metadata": {},
   "outputs": [
    {
     "data": {
      "image/png": "[encoded data removed]",
      "text/plain": [
       "<Figure size 400x300 with 1 Axes>"
      ]
     },
     "metadata": {},
     "output_type": "display_data"
    }
   ],
   "source": [
    "plt.figure(facecolor='0.4', figsize=(4,3))\n",
    "plt.axes().set_facecolor('.2')\n",
    "plt.bar(grades_arr, abs_freq_arr, color='black', zorder=2)\n",
    "plt.ylim(0,15)\n",
    "plt.xlabel('grades')\n",
    "plt.ylabel('freq')\n",
    "plt.grid(axis='y', zorder=1, alpha=.5)\n",
    "plt.show()"
   ]
  },
  {
   "cell_type": "code",
   "execution_count": null,
   "id": "5ecdc892",
   "metadata": {},
   "outputs": [],
   "source": []
  },
  {
   "cell_type": "code",
   "execution_count": null,
   "id": "dc4b7b93",
   "metadata": {},
   "outputs": [],
   "source": []
  },
  {
   "cell_type": "code",
   "execution_count": 26,
   "id": "b0280f9a",
   "metadata": {},
   "outputs": [],
   "source": [
    "X = grades2\n",
    "s = list(map(lambda x: 10 * len(X[X == x]), X))\n",
    "\n",
    "def boxplot(data):\n",
    "    '''Input data has to be a list of positive numbers'''\n",
    "    \n",
    "    print(scipy.stats.describe(data))\n",
    "    \n",
    "    mean   = statistics.fmean(data)\n",
    "    hmean  = statistics.harmonic_mean(data)\n",
    "    gmean  = statistics.geometric_mean(data)\n",
    "    median = statistics.median(data)\n",
    "    \n",
    "    plt.figure(facecolor='0.2',figsize=(10,1.1),dpi=300)\n",
    "    plt.axes().set_facecolor('.4')\n",
    "    plt.axis([min(data)-2,max(data)+2,-0.5,0.5])\n",
    "\n",
    "    plt.scatter(data,np.zeros(len(data)),color = 'black',s=s,zorder=2)\n",
    "    plt.axvline(x = gmean,color='red', linestyle='--',label='gmean')\n",
    "    plt.axvline(x = hmean,color='blue', linestyle='--',zorder=1,label='hmean')\n",
    "    plt.axvline(x = mean,color='purple', linestyle='--',label='armean')\n",
    "    plt.axvline(x = median,color='yellow', linestyle='--',label='median')\n",
    "    \n",
    "    plt.yticks(np.arange(0))\n",
    "    plt.legend(loc='lower right',prop={'size': 3})\n",
    "    plt.legend().get_frame().set_alpha(0.1)\n",
    "    plt.grid(alpha=.8)\n",
    "    plt.show()"
   ]
  },
  {
   "cell_type": "code",
   "execution_count": 27,
   "id": "6cfa1815",
   "metadata": {},
   "outputs": [
    {
     "name": "stdout",
     "output_type": "stream",
     "text": [
      "DescribeResult(nobs=60, minmax=(1, 6), mean=3.4, variance=2.549152542372881, skewness=0.08264735608339, kurtosis=-1.1363739248528744)\n"
     ]
    },
    {
     "data": {
      "image/png": "[encoded data removed]",
      "text/plain": [
       "<Figure size 3000x330 with 1 Axes>"
      ]
     },
     "metadata": {},
     "output_type": "display_data"
    }
   ],
   "source": [
    "boxplot(grades2)"
   ]
  },
  {
   "cell_type": "code",
   "execution_count": 28,
   "id": "9228e838",
   "metadata": {},
   "outputs": [
    {
     "data": {
      "text/plain": [
       "array([1, 1, 4, 1, 4, 1, 6, 2, 3, 3, 3, 4, 2, 4, 5, 1, 2, 3, 2, 2, 6, 1,\n",
       "       2, 5, 3, 1, 3, 2, 5, 4, 5, 6, 2, 2, 2, 4, 6, 4, 6, 4, 3, 2, 3, 1,\n",
       "       4, 2, 6, 5, 4, 6, 5, 5, 3, 4, 2, 3, 5, 5, 5, 4])"
      ]
     },
     "execution_count": 28,
     "metadata": {},
     "output_type": "execute_result"
    }
   ],
   "source": [
    "grades"
   ]
  },
  {
   "cell_type": "code",
   "execution_count": null,
   "id": "7fa4b6f8",
   "metadata": {},
   "outputs": [],
   "source": []
  }
 ],
 "metadata": {
  "kernelspec": {
   "display_name": "Python 3 (ipykernel)",
   "language": "python",
   "name": "python3"
  },
  "language_info": {
   "codemirror_mode": {
    "name": "ipython",
    "version": 3
   },
   "file_extension": ".py",
   "mimetype": "text/x-python",
   "name": "python",
   "nbconvert_exporter": "python",
   "pygments_lexer": "ipython3",
   "version": "3.11.3"
  }
 },
 "nbformat": 4,
 "nbformat_minor": 5
}
