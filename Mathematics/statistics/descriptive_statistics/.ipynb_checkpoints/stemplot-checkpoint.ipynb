{
 "cells": [
  {
   "cell_type": "code",
   "execution_count": 1,
   "id": "df62ff37",
   "metadata": {},
   "outputs": [],
   "source": [
    "import numpy as np"
   ]
  },
  {
   "cell_type": "code",
   "execution_count": 10,
   "id": "1c97057e",
   "metadata": {},
   "outputs": [
    {
     "data": {
      "text/plain": [
       "array([  3,  12, 111, 149, 173, 176,  45, 153, 103, 102,  48, 159, 121,\n",
       "       191, 151,  75,  31,  77, 114,  66])"
      ]
     },
     "execution_count": 10,
     "metadata": {},
     "output_type": "execute_result"
    }
   ],
   "source": [
    "data = np.random.randint(low=1,high=200,size=20)\n",
    "data"
   ]
  },
  {
   "cell_type": "code",
   "execution_count": 11,
   "id": "7f397fe9",
   "metadata": {},
   "outputs": [],
   "source": [
    "def sort_values1(data): \n",
    "    my_dict = {key: [] for key in range(0,max(data)+1,10)}\n",
    "    for i in my_dict.keys():\n",
    "        for j in data:\n",
    "            if j < i+10 and j > i:\n",
    "                my_dict[i].append(j)\n",
    "    return my_dict\n",
    "\n",
    "def sort_values2(data): \n",
    "    my_dict = {key: [] for key in range(0,max(data)+1,10)}\n",
    "    [my_dict[i].append(j) for i in my_dict.keys() for j in data if j < i+10 and j > i]\n",
    "    return my_dict"
   ]
  },
  {
   "cell_type": "code",
   "execution_count": 12,
   "id": "d6cedd04",
   "metadata": {},
   "outputs": [
    {
     "data": {
      "text/plain": [
       "True"
      ]
     },
     "execution_count": 12,
     "metadata": {},
     "output_type": "execute_result"
    }
   ],
   "source": [
    "sort_values1(data) ==  sort_values2(data)"
   ]
  },
  {
   "cell_type": "code",
   "execution_count": 13,
   "id": "fe4262bb",
   "metadata": {
    "scrolled": true
   },
   "outputs": [
    {
     "data": {
      "text/plain": [
       "{0: [3],\n",
       " 10: [12],\n",
       " 20: [],\n",
       " 30: [31],\n",
       " 40: [45, 48],\n",
       " 50: [],\n",
       " 60: [66],\n",
       " 70: [75, 77],\n",
       " 80: [],\n",
       " 90: [],\n",
       " 100: [103, 102],\n",
       " 110: [111, 114],\n",
       " 120: [121],\n",
       " 130: [],\n",
       " 140: [149],\n",
       " 150: [153, 159, 151],\n",
       " 160: [],\n",
       " 170: [173, 176],\n",
       " 180: [],\n",
       " 190: [191]}"
      ]
     },
     "execution_count": 13,
     "metadata": {},
     "output_type": "execute_result"
    }
   ],
   "source": [
    "sort_values2(data)"
   ]
  },
  {
   "cell_type": "markdown",
   "id": "459c5a69",
   "metadata": {},
   "source": [
    "------"
   ]
  },
  {
   "cell_type": "code",
   "execution_count": 14,
   "id": "25ef9564",
   "metadata": {},
   "outputs": [],
   "source": [
    "A, B = np.zeros((5,5)), np.zeros((5,5))\n",
    "\n",
    "for i in range(4):\n",
    "    for j in range(4):\n",
    "        A[i,j] = 1\n",
    "        \n",
    "B[:4,:4] = 1\n",
    "\n",
    "pC2 = [[1 if i < 4 and j < 4 else 0 for j in range(5)] for i in range(5)]\n",
    "C = np.array([[1 if i < 4 and j < 4 else 0 for j in range(5)] for i in range(5)])\n",
    "\n",
    "                \n",
    "pA = A.tolist(); pB = B.tolist(); pC = C.tolist()"
   ]
  },
  {
   "cell_type": "code",
   "execution_count": 15,
   "id": "9faccd7d",
   "metadata": {},
   "outputs": [
    {
     "data": {
      "text/plain": [
       "True"
      ]
     },
     "execution_count": 15,
     "metadata": {},
     "output_type": "execute_result"
    }
   ],
   "source": [
    "pA == pB == pC == pC2"
   ]
  },
  {
   "cell_type": "markdown",
   "id": "c2b75e5d",
   "metadata": {},
   "source": [
    "-----"
   ]
  },
  {
   "cell_type": "code",
   "execution_count": 8,
   "id": "cf8331ba",
   "metadata": {},
   "outputs": [
    {
     "data": {
      "text/plain": [
       "[0, 0, 0, 0, 0]"
      ]
     },
     "execution_count": 8,
     "metadata": {},
     "output_type": "execute_result"
    }
   ],
   "source": [
    "L = [[0 for j in range(5)] for i in range(5)]\n",
    "a1,*b1 = L\n",
    "a1"
   ]
  },
  {
   "cell_type": "code",
   "execution_count": 9,
   "id": "3752cf7f",
   "metadata": {},
   "outputs": [
    {
     "name": "stdout",
     "output_type": "stream",
     "text": [
      "[[1. 0. 0. 0. 0.]\n",
      " [0. 0. 0. 0. 0.]\n",
      " [0. 0. 0. 0. 0.]\n",
      " [0. 0. 0. 0. 0.]\n",
      " [0. 0. 0. 0. 0.]]\n"
     ]
    },
    {
     "data": {
      "text/plain": [
       "array([[1., 0., 0., 0., 0.],\n",
       "       [0., 0., 0., 0., 0.],\n",
       "       [0., 0., 0., 0., 0.],\n",
       "       [0., 0., 0., 0., 0.],\n",
       "       [0., 0., 0., 0., 0.]])"
      ]
     },
     "execution_count": 9,
     "metadata": {},
     "output_type": "execute_result"
    }
   ],
   "source": [
    "a = np.zeros((5,5))\n",
    "b = a\n",
    "\n",
    "a[0,0] = 1\n",
    "print(b)\n",
    "\n",
    "a = 3\n",
    "b"
   ]
  },
  {
   "cell_type": "code",
   "execution_count": null,
   "id": "f40db207",
   "metadata": {},
   "outputs": [],
   "source": []
  }
 ],
 "metadata": {
  "kernelspec": {
   "display_name": "Python 3 (ipykernel)",
   "language": "python",
   "name": "python3"
  },
  "language_info": {
   "codemirror_mode": {
    "name": "ipython",
    "version": 3
   },
   "file_extension": ".py",
   "mimetype": "text/x-python",
   "name": "python",
   "nbconvert_exporter": "python",
   "pygments_lexer": "ipython3",
   "version": "3.11.7"
  }
 },
 "nbformat": 4,
 "nbformat_minor": 5
}
