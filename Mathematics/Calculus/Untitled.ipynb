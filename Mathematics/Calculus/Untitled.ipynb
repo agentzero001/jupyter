{
 "cells": [
  {
   "cell_type": "code",
   "execution_count": 5,
   "id": "bb24a2cd",
   "metadata": {},
   "outputs": [
    {
     "data": {
      "text/plain": [
       "1.33"
      ]
     },
     "execution_count": 5,
     "metadata": {},
     "output_type": "execute_result"
    }
   ],
   "source": [
    "def approxiamet_integral(a, b, n, f):\n",
    "    delta_x = (b - a) / n\n",
    "    total_sum = 0\n",
    "    for i in range(1, n+1):\n",
    "        midpoint = .5 * (2 * a + delta_x * (2*i-1))\n",
    "        total_sum += f(midpoint)\n",
    "    return total_sum * delta_x\n",
    "\n",
    "f1 = lambda x: x**2 + 1\n",
    "\n",
    "area = approxiamet_integral(0, 1, 5, f1)\n",
    "area"
   ]
  },
  {
   "cell_type": "code",
   "execution_count": null,
   "id": "6c054668",
   "metadata": {},
   "outputs": [],
   "source": []
  },
  {
   "cell_type": "code",
   "execution_count": null,
   "id": "23ac38a1",
   "metadata": {},
   "outputs": [],
   "source": []
  }
 ],
 "metadata": {
  "kernelspec": {
   "display_name": "Python 3 (ipykernel)",
   "language": "python",
   "name": "python3"
  },
  "language_info": {
   "codemirror_mode": {
    "name": "ipython",
    "version": 3
   },
   "file_extension": ".py",
   "mimetype": "text/x-python",
   "name": "python",
   "nbconvert_exporter": "python",
   "pygments_lexer": "ipython3",
   "version": "3.11.5"
  }
 },
 "nbformat": 4,
 "nbformat_minor": 5
}
