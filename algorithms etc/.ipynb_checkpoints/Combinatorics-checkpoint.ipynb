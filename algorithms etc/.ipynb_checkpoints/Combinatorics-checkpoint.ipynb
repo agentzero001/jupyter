{
 "cells": [
  {
   "cell_type": "markdown",
   "id": "54dc5196",
   "metadata": {},
   "source": [
    "# Combinatorics"
   ]
  },
  {
   "cell_type": "code",
   "execution_count": 1,
   "id": "911b8115",
   "metadata": {},
   "outputs": [],
   "source": [
    "#lambda rules\n",
    "\n",
    "perms2 = lambda L: tuple((L[i],) + P for i in range(len(L)) for P in perms2(L[:i] + L[i+1:])) if len(L) > 1 else (L,)\n",
    "pwr = lambda T: len(set(perms2(T)))\n",
    "fac = lambda n: 1 if n == 0 else n * fac(n-1)"
   ]
  },
  {
   "cell_type": "code",
   "execution_count": 2,
   "id": "098e2237",
   "metadata": {},
   "outputs": [
    {
     "data": {
      "text/plain": [
       "((1, 2, 3), (1, 3, 2), (2, 1, 3), (2, 3, 1), (3, 1, 2), (3, 2, 1))"
      ]
     },
     "execution_count": 2,
     "metadata": {},
     "output_type": "execute_result"
    }
   ],
   "source": [
    "#permutation without repitition\n",
    "\n",
    "perms2((1,2,3))"
   ]
  },
  {
   "cell_type": "code",
   "execution_count": 3,
   "id": "164879f5",
   "metadata": {},
   "outputs": [
    {
     "data": {
      "text/plain": [
       "{(1, 2, 2, 2), (2, 1, 2, 2), (2, 2, 1, 2), (2, 2, 2, 1)}"
      ]
     },
     "execution_count": 3,
     "metadata": {},
     "output_type": "execute_result"
    }
   ],
   "source": [
    "#permutation with repitition \n",
    "\n",
    "set(perms2((1,2,2,2)))"
   ]
  },
  {
   "cell_type": "code",
   "execution_count": 4,
   "id": "5743ad45",
   "metadata": {},
   "outputs": [
    {
     "data": {
      "text/plain": [
       "True"
      ]
     },
     "execution_count": 4,
     "metadata": {},
     "output_type": "execute_result"
    }
   ],
   "source": [
    "len(perms2((1,2,3,4,5))) == fac(5)"
   ]
  },
  {
   "cell_type": "code",
   "execution_count": 5,
   "id": "0cc2d79d",
   "metadata": {},
   "outputs": [
    {
     "data": {
      "text/plain": [
       "True"
      ]
     },
     "execution_count": 5,
     "metadata": {},
     "output_type": "execute_result"
    }
   ],
   "source": [
    "len(set(perms2((1,2,2,2)))) == pwr((1,2,2,2)) == fac(4)/(fac(1)*fac(3)) "
   ]
  },
  {
   "cell_type": "code",
   "execution_count": 6,
   "id": "6d9d5fa2",
   "metadata": {},
   "outputs": [
    {
     "data": {
      "text/plain": [
       "True"
      ]
     },
     "execution_count": 6,
     "metadata": {},
     "output_type": "execute_result"
    }
   ],
   "source": [
    "pwr((1,2,2,3,3)) == fac(5)/(fac(1)*fac(2)*fac(2))"
   ]
  },
  {
   "cell_type": "code",
   "execution_count": 7,
   "id": "6126e87b",
   "metadata": {},
   "outputs": [
    {
     "data": {
      "text/plain": [
       "True"
      ]
     },
     "execution_count": 7,
     "metadata": {},
     "output_type": "execute_result"
    }
   ],
   "source": [
    "pwr((1,1,2,2,2,3,3,3,3)) == fac(9)/(fac(2)*fac(3)*fac(4))"
   ]
  }
 ],
 "metadata": {
  "kernelspec": {
   "display_name": "Python 3 (ipykernel)",
   "language": "python",
   "name": "python3"
  },
  "language_info": {
   "codemirror_mode": {
    "name": "ipython",
    "version": 3
   },
   "file_extension": ".py",
   "mimetype": "text/x-python",
   "name": "python",
   "nbconvert_exporter": "python",
   "pygments_lexer": "ipython3",
   "version": "3.9.13"
  }
 },
 "nbformat": 4,
 "nbformat_minor": 5
}
