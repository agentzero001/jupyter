{
 "cells": [
  {
   "cell_type": "code",
   "execution_count": 99,
   "id": "20a700e7",
   "metadata": {},
   "outputs": [],
   "source": [
    "import math\n",
    "import statistics\n",
    "import numpy as np\n",
    "import scipy.stats\n",
    "import pandas as pd"
   ]
  },
  {
   "cell_type": "code",
   "execution_count": 100,
   "id": "5641974d",
   "metadata": {},
   "outputs": [],
   "source": [
    "#calculate weighted arithmetic mean\n",
    "\n",
    "data = [8.0, 1, 2.5, 4, 28.0] \n",
    "weights = [0.1, 0.2, 0.3, 0.25, 0.15]\n",
    "\n",
    "np_data = np.array(data)\n",
    "np_weights = np.array(weights)\n",
    "\n",
    "list_ = []\n",
    "\n",
    "for i in range(len(data)):\n",
    "    list_.append(data[i]* weights[i])\n",
    "\n",
    "    \n",
    "wmean1 = sum(list_) /len(data) \n",
    "wmean2 = sum([weights[j]*data[j] for j in range(len(data))]) /len(data)\n",
    "wmean3 = np.average([data[j]*weights[j] for j in range(len(data))])"
   ]
  },
  {
   "cell_type": "code",
   "execution_count": 101,
   "id": "ff6a7085",
   "metadata": {},
   "outputs": [
    {
     "data": {
      "text/plain": [
       "True"
      ]
     },
     "execution_count": 101,
     "metadata": {},
     "output_type": "execute_result"
    }
   ],
   "source": [
    "#True\n",
    "\n",
    "wmean1 == wmean2 == wmean3"
   ]
  },
  {
   "cell_type": "code",
   "execution_count": 102,
   "id": "8b9f3b89",
   "metadata": {},
   "outputs": [
    {
     "data": {
      "text/plain": [
       "(1, 5, 3.0)"
      ]
     },
     "execution_count": 102,
     "metadata": {},
     "output_type": "execute_result"
    }
   ],
   "source": [
    "def calculate_stats(values):\n",
    "    minimum = min(values)\n",
    "    maximum = max(values)\n",
    "    average = sum(values) / len(values)\n",
    "    return minimum, maximum, average\n",
    "\n",
    "minimum, maximum, average = calculate_stats([1, 2, 3, 4, 5])\n",
    "\n",
    "\n",
    "calculate_stats([1, 2, 3, 4, 5])"
   ]
  },
  {
   "cell_type": "code",
   "execution_count": 103,
   "id": "9c9b7b47",
   "metadata": {},
   "outputs": [
    {
     "data": {
      "text/plain": [
       "array([ 7, 17, 18,  7,  6,  9, 11, 19, 15, 14, 10, 12, 17, 11, 13,  8, 15,\n",
       "       17, 19, 10, 11])"
      ]
     },
     "execution_count": 103,
     "metadata": {},
     "output_type": "execute_result"
    }
   ],
   "source": [
    "arr = np.random.randint(low=0, high=20, size=30)\n",
    "\n",
    "indices = np.where(arr > 5)\n",
    "filtered_arr = arr[indices]\n",
    "\n",
    "filtered_arr"
   ]
  },
  {
   "cell_type": "code",
   "execution_count": 104,
   "id": "c10f36ac",
   "metadata": {},
   "outputs": [
    {
     "name": "stdout",
     "output_type": "stream",
     "text": [
      "b1 = 0.12096774193548386\n",
      "b0 = 3.870967741935484\n"
     ]
    }
   ],
   "source": [
    "# Sample data\n",
    "x = [1, 2, 3, 4, 5, 3, 6]\n",
    "y = [2, 4, 5, 4, 5, 7, 3]\n",
    "\n",
    "# Mean of x and y\n",
    "mean_x = np.mean(x)\n",
    "mean_y = np.mean(y)\n",
    "\n",
    "# Total number of observations\n",
    "n = len(x)\n",
    "\n",
    "# Using the formula to calculate the b1 and b0\n",
    "numer = 0\n",
    "denom = 0\n",
    "for i in range(n):\n",
    "    numer += (x[i] - mean_x) * (y[i] - mean_y)\n",
    "    denom += (x[i] - mean_x) ** 2\n",
    "b1 = numer / denom\n",
    "b0 = mean_y - (b1 * mean_x)\n",
    "\n",
    "# Print coefficients\n",
    "print(\"b1 =\", b1)\n",
    "print(\"b0 =\", b0)"
   ]
  },
  {
   "cell_type": "code",
   "execution_count": 105,
   "id": "42188008",
   "metadata": {},
   "outputs": [
    {
     "data": {
      "text/plain": [
       "array([[2, 3, 4],\n",
       "       [3, 4, 5],\n",
       "       [4, 5, 6]])"
      ]
     },
     "execution_count": 105,
     "metadata": {},
     "output_type": "execute_result"
    }
   ],
   "source": [
    "#broadcast in numpy\n",
    "\n",
    "x = np.array([[1,2,3]])\n",
    "y = np.array([[1],\n",
    "              [2],\n",
    "              [3]])\n",
    "\n",
    "x+y"
   ]
  },
  {
   "cell_type": "code",
   "execution_count": 106,
   "id": "fdef5fc1",
   "metadata": {},
   "outputs": [
    {
     "data": {
      "text/plain": [
       "matrix([[22, 28],\n",
       "        [49, 64]])"
      ]
     },
     "execution_count": 106,
     "metadata": {},
     "output_type": "execute_result"
    }
   ],
   "source": [
    "#matrix multiplication\n",
    "\n",
    "np.matrix([[1,2,3],[4,5,6]]) * np.matrix([[1,2],\n",
    "                                          [3,4],\n",
    "                                          [5,6]]) "
   ]
  },
  {
   "cell_type": "markdown",
   "id": "de36c642",
   "metadata": {},
   "source": [
    "- $Q = {q_1, q_2, ..., q_n}$ is the set of states\n",
    "- $\\Sigma = {a_1, a_2, ..., a_m}$ is the set of input symbols\n",
    "- $q_0$ is the initial state\n",
    "- $F = {f_1, f_2, ..., f_n}$ is the set of final or accepting states\n",
    "- $\\delta : Q \\times \\Sigma \\rightarrow Q$ is the transition function, where $\\delta(q_i, a_j) = q_k$ is the next state when the machine is in state $q_i$ and receives input symbol $a_j$"
   ]
  }
 ],
 "metadata": {
  "kernelspec": {
   "display_name": "Python 3 (ipykernel)",
   "language": "python",
   "name": "python3"
  },
  "language_info": {
   "codemirror_mode": {
    "name": "ipython",
    "version": 3
   },
   "file_extension": ".py",
   "mimetype": "text/x-python",
   "name": "python",
   "nbconvert_exporter": "python",
   "pygments_lexer": "ipython3",
   "version": "3.9.13"
  }
 },
 "nbformat": 4,
 "nbformat_minor": 5
}
