{
 "cells": [
  {
   "cell_type": "code",
   "execution_count": 58,
   "id": "20a700e7",
   "metadata": {},
   "outputs": [],
   "source": [
    "import math\n",
    "import statistics\n",
    "import numpy as np\n",
    "import scipy.stats\n",
    "import pandas as pd\n",
    "import matplotlib.pyplot as plt"
   ]
  },
  {
   "cell_type": "code",
   "execution_count": 68,
   "id": "543a5eb6",
   "metadata": {},
   "outputs": [
    {
     "data": {
      "text/plain": [
       "(nan, nan, nan, nan, nan)"
      ]
     },
     "execution_count": 68,
     "metadata": {},
     "output_type": "execute_result"
    }
   ],
   "source": [
    "#dealing with nan\n",
    "\n",
    "x_nan = [1,2,3,math.nan,4,5]\n",
    "\n",
    "np_a = np.array(x_nan)\n",
    "pd_s = pd.Series(x_nan)\n",
    "\n",
    "statistics.fmean(x_nan), np.mean(x_nan), np.average(x_nan), np.mean(np_a), np_a.mean()"
   ]
  },
  {
   "cell_type": "code",
   "execution_count": 69,
   "id": "00825578",
   "metadata": {},
   "outputs": [
    {
     "data": {
      "text/plain": [
       "(3.0, 3.0, nan)"
      ]
     },
     "execution_count": 69,
     "metadata": {},
     "output_type": "execute_result"
    }
   ],
   "source": [
    "np.nanmean(np_a), pd_s.mean(), pd_s.mean(skipna=False)"
   ]
  },
  {
   "cell_type": "code",
   "execution_count": 70,
   "id": "2e3996b0",
   "metadata": {},
   "outputs": [],
   "source": [
    "data = [8.0, 1, 2.5, 4, 28.0] \n",
    "weights = [0.1, 0.2, 0.3, 0.25, 0.15]\n",
    "\n",
    "np_d, pd_d, np_w = np.array(data), pd.Series(data), np.array(weights)"
   ]
  },
  {
   "cell_type": "code",
   "execution_count": 78,
   "id": "5641974d",
   "metadata": {},
   "outputs": [],
   "source": [
    "#calculate weighted arithmetic mean \n",
    "\n",
    "\n",
    "#two ways without importing any library\n",
    "wmean1 = sum(weights[i] * data[i] for i in range(len(data))) / sum(weights)\n",
    "wmean2 = sum(i*j for (i,j) in zip(data, weights)) / sum(weights)\n",
    "\n",
    "#using numpy and pandas\n",
    "wmean3 = (np_d* np_w).sum() / w.sum() \n",
    "wmean4 = np.average(pd_d, weights=np_w)"
   ]
  },
  {
   "cell_type": "code",
   "execution_count": 79,
   "id": "1d7f1a27",
   "metadata": {},
   "outputs": [
    {
     "data": {
      "text/plain": [
       "True"
      ]
     },
     "execution_count": 79,
     "metadata": {},
     "output_type": "execute_result"
    }
   ],
   "source": [
    "wmean1 == wmean2 == wmean3 == wmean4"
   ]
  },
  {
   "cell_type": "code",
   "execution_count": 86,
   "id": "410b83e3",
   "metadata": {},
   "outputs": [],
   "source": [
    "#calculate harmonic mean\n",
    "\n",
    "hmean1 = len(data) / sum(1 / i for i in data)\n",
    "hmean2 = statistics.harmonic_mean(data)\n",
    "hmean3 = scipy.stats.hmean(np_d)\n",
    "hmean4 = scipy.stats.hmean(pd_d)"
   ]
  },
  {
   "cell_type": "code",
   "execution_count": 87,
   "id": "723ec301",
   "metadata": {},
   "outputs": [
    {
     "data": {
      "text/plain": [
       "True"
      ]
     },
     "execution_count": 87,
     "metadata": {},
     "output_type": "execute_result"
    }
   ],
   "source": [
    "hmean1 == hmean2 == hmean3 == hmean4"
   ]
  },
  {
   "cell_type": "code",
   "execution_count": 93,
   "id": "7b597b08",
   "metadata": {},
   "outputs": [],
   "source": [
    "#calculate geometric mean\n",
    "\n",
    "gmean1 = math.prod(data) ** (1 / len(data))\n",
    "gmean2 = statistics.geometric_mean(data)\n",
    "gmean3 = scipy.stats.gmean(np_d)\n",
    "gmean4 = scipy.stats.gmean(pd_d)"
   ]
  },
  {
   "cell_type": "code",
   "execution_count": 94,
   "id": "2737de36",
   "metadata": {},
   "outputs": [
    {
     "data": {
      "text/plain": [
       "(4.677885674856041, 4.67788567485604, 4.67788567485604, 4.67788567485604)"
      ]
     },
     "execution_count": 94,
     "metadata": {},
     "output_type": "execute_result"
    }
   ],
   "source": [
    "gmean1, gmean2, gmean3, gmean4"
   ]
  },
  {
   "cell_type": "code",
   "execution_count": 63,
   "id": "46f89db5",
   "metadata": {},
   "outputs": [],
   "source": [
    "def calculate_stats(values):\n",
    "    minimum = min(values)\n",
    "    maximum = max(values)\n",
    "    average = sum(values) / len(values)\n",
    "    return minimum, maximum, average\n",
    "\n",
    "minimum, maximum, average = calculate_stats([1, 2, 3, 4, 5])"
   ]
  },
  {
   "cell_type": "code",
   "execution_count": 65,
   "id": "9c9b7b47",
   "metadata": {},
   "outputs": [
    {
     "data": {
      "text/plain": [
       "([6, 14, 6, 14, 9, 12, 12, 10, 7],\n",
       " array([ 6, 17, 14,  6, 19, 17, 14, 16,  9, 18, 12, 17, 12, 10,  7, 17, 18,\n",
       "        18]))"
      ]
     },
     "execution_count": 65,
     "metadata": {},
     "output_type": "execute_result"
    }
   ],
   "source": [
    "arr = np.random.randint(low=1, high=20, size=20)\n",
    "\n",
    "condition = lambda x: (x > 5) & (x < 15)\n",
    "filtered_arr1 = list(filter(condition,arr)) \n",
    "\n",
    "indices = np.where(5 < arr)\n",
    "filtered_arr2 = arr[indices]\n",
    " \n",
    "\n",
    "filtered_arr1, filtered_arr2"
   ]
  },
  {
   "cell_type": "code",
   "execution_count": 66,
   "id": "42188008",
   "metadata": {},
   "outputs": [
    {
     "data": {
      "text/plain": [
       "array([[2, 3, 4],\n",
       "       [3, 4, 5],\n",
       "       [4, 5, 6]])"
      ]
     },
     "execution_count": 66,
     "metadata": {},
     "output_type": "execute_result"
    }
   ],
   "source": [
    "#broadcast in numpy\n",
    "\n",
    "x = np.array([[1,2,3]])\n",
    "y = np.array([[1],\n",
    "              [2],\n",
    "              [3]])\n",
    "\n",
    "x+y"
   ]
  },
  {
   "cell_type": "code",
   "execution_count": 67,
   "id": "aa6d4177",
   "metadata": {},
   "outputs": [
    {
     "data": {
      "text/plain": [
       "matrix([[22, 28],\n",
       "        [49, 64]])"
      ]
     },
     "execution_count": 67,
     "metadata": {},
     "output_type": "execute_result"
    }
   ],
   "source": [
    "#matrix multiplication\n",
    "\n",
    "np.matrix([[1,2,3],[4,5,6]]) * np.matrix([[1,2],\n",
    "                                          [3,4],\n",
    "                                          [5,6]]) "
   ]
  },
  {
   "cell_type": "markdown",
   "id": "97bddbc6",
   "metadata": {},
   "source": [
    "- $Q = {q_1, q_2, ..., q_n}$ is the set of states\n",
    "- $\\Sigma = {a_1, a_2, ..., a_m}$ is the set of input symbols\n",
    "- $q_0$ is the initial state\n",
    "- $F = {f_1, f_2, ..., f_n}$ is the set of final or accepting states\n",
    "- $\\delta : Q \\times \\Sigma \\rightarrow Q$ is the transition function, where $\\delta(q_i, a_j) = q_k$ is the next state when the machine is in state $q_i$ and receives input symbol $a_j$"
   ]
  }
 ],
 "metadata": {
  "kernelspec": {
   "display_name": "Python 3 (ipykernel)",
   "language": "python",
   "name": "python3"
  },
  "language_info": {
   "codemirror_mode": {
    "name": "ipython",
    "version": 3
   },
   "file_extension": ".py",
   "mimetype": "text/x-python",
   "name": "python",
   "nbconvert_exporter": "python",
   "pygments_lexer": "ipython3",
   "version": "3.9.13"
  }
 },
 "nbformat": 4,
 "nbformat_minor": 5
}
