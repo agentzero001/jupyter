{
 "cells": [
  {
   "cell_type": "code",
   "execution_count": 47,
   "id": "dc2339be",
   "metadata": {},
   "outputs": [],
   "source": [
    "import warnings\n",
    "warnings.filterwarnings('ignore')"
   ]
  },
  {
   "cell_type": "code",
   "execution_count": 48,
   "id": "17ac07d2",
   "metadata": {},
   "outputs": [],
   "source": [
    "import math\n",
    "import statistics\n",
    "import numpy as np\n",
    "import scipy.stats\n",
    "import pandas as pd\n",
    "import matplotlib.pyplot as plt"
   ]
  },
  {
   "cell_type": "code",
   "execution_count": 49,
   "id": "40662402",
   "metadata": {},
   "outputs": [],
   "source": [
    "data = [25, 30, 22, 27, 24, 28, 31, 29, 26, 23]\n",
    "np_data = np.array(data)\n",
    "nan_data = [25, 30, 22, 27, 24, 28, 31, 29, 26, math.nan,23]\n",
    "pd_nan_data = pd.Series(nan_data)"
   ]
  },
  {
   "cell_type": "markdown",
   "id": "3091b379",
   "metadata": {},
   "source": [
    "\n",
    "# Variance:\n",
    "## According to Bessel's correction the variance\n",
    "## $ \\sigma^2 = \\frac{1}{n-1}\\sum_{i=1}^{n}(x_i - mean(x))^2$\n",
    "## where x_i is the ith element of the dataset x with n elements"
   ]
  },
  {
   "cell_type": "code",
   "execution_count": 50,
   "id": "97e2dd0b",
   "metadata": {},
   "outputs": [
    {
     "data": {
      "text/plain": [
       "(9.166666666666666, 9.166666666666666, 9.166666666666666)"
      ]
     },
     "execution_count": 50,
     "metadata": {},
     "output_type": "execute_result"
    }
   ],
   "source": [
    "mean1 = sum(data) / len(data) \n",
    "variance = sum((item-mean1)**2 for item in data) / (len(data) - 1 )\n",
    "\n",
    "\n",
    "#the variance function of the statistics module allows you to provide your own mean to the formula\n",
    "\n",
    "variance, statistics.variance(data), statistics.variance(data, mean1) "
   ]
  },
  {
   "cell_type": "code",
   "execution_count": 51,
   "id": "34aaf89b",
   "metadata": {},
   "outputs": [
    {
     "data": {
      "text/plain": [
       "(9.166666666666666, 9.166666666666666, 8.25)"
      ]
     },
     "execution_count": 51,
     "metadata": {},
     "output_type": "execute_result"
    }
   ],
   "source": [
    "#in numpy ddof (delta degrees of freedom) will replace n with n-1 in the formula\n",
    "\n",
    "np.var(data, ddof=1), np_data.var(ddof=1), np.var(data)"
   ]
  },
  {
   "cell_type": "code",
   "execution_count": 52,
   "id": "bc0d47ca",
   "metadata": {},
   "outputs": [
    {
     "data": {
      "text/plain": [
       "(nan, nan, 9.166666666666666)"
      ]
     },
     "execution_count": 52,
     "metadata": {},
     "output_type": "execute_result"
    }
   ],
   "source": [
    "#dealing with nan values in your data\n",
    "\n",
    "statistics.variance(nan_data), np.var(nan_data, ddof=1), np.nanvar(nan_data, ddof=1)"
   ]
  },
  {
   "cell_type": "code",
   "execution_count": 53,
   "id": "1884745a",
   "metadata": {},
   "outputs": [
    {
     "data": {
      "text/plain": [
       "(9.166666666666666, nan)"
      ]
     },
     "execution_count": 53,
     "metadata": {},
     "output_type": "execute_result"
    }
   ],
   "source": [
    "#pd.Series.var skips nan by default\n",
    "\n",
    "pd_nan_data.var(ddof=1),  pd_nan_data.var(ddof=1,skipna=False)"
   ]
  },
  {
   "cell_type": "code",
   "execution_count": null,
   "id": "268b75d8",
   "metadata": {},
   "outputs": [],
   "source": []
  }
 ],
 "metadata": {
  "kernelspec": {
   "display_name": "Python 3 (ipykernel)",
   "language": "python",
   "name": "python3"
  },
  "language_info": {
   "codemirror_mode": {
    "name": "ipython",
    "version": 3
   },
   "file_extension": ".py",
   "mimetype": "text/x-python",
   "name": "python",
   "nbconvert_exporter": "python",
   "pygments_lexer": "ipython3",
   "version": "3.9.13"
  }
 },
 "nbformat": 4,
 "nbformat_minor": 5
}
