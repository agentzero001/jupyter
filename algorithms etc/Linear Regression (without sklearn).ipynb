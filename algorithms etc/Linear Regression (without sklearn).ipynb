{
 "cells": [
  {
   "cell_type": "code",
   "execution_count": 1,
   "id": "a1dcd51e",
   "metadata": {},
   "outputs": [],
   "source": [
    "import numpy as np\n",
    "import matplotlib.pyplot as plt"
   ]
  },
  {
   "cell_type": "code",
   "execution_count": 2,
   "id": "c67f88f3",
   "metadata": {},
   "outputs": [
    {
     "name": "stdout",
     "output_type": "stream",
     "text": [
      "prediction at x = 3: [7.10143868]\n"
     ]
    },
    {
     "data": {
      "image/png": "[encoded data removed]",
      "text/plain": [
       "<Figure size 640x480 with 1 Axes>"
      ]
     },
     "metadata": {},
     "output_type": "display_data"
    }
   ],
   "source": [
    "x = 3* np.random.rand(20,1)\n",
    "y = 2 * x + 0.4*np.random.randn(20,1) +1\n",
    "\n",
    "mean_x = np.mean(x)\n",
    "mean_y = np.mean(y)\n",
    "\n",
    "\n",
    "numer = 0\n",
    "denom = 0\n",
    "for i in range(len(x)):\n",
    "    numer += (x[i] - mean_x) * (y[i] - mean_y)\n",
    "    denom += (x[i] - mean_x) ** 2\n",
    "b1 = numer / denom\n",
    "b0 = mean_y - (b1 * mean_x)\n",
    "\n",
    "prediction = lambda x: b0+b1*x\n",
    "\n",
    "print('prediction at x = 3: {}'.format(prediction(3)))\n",
    "\n",
    "x_plot = np.linspace(0, 10, 100)\n",
    "y_plot = b0 + b1*x_plot\n",
    "\n",
    "plt.figure(facecolor='0.3')\n",
    "plt.axes().set_facecolor('grey')\n",
    "plt.axis([0,4,0,10])\n",
    "plt.axvline(x=3, color='black', linestyle='--',linewidth=1)\n",
    "plt.axhline(y=prediction(3), color='black', linestyle='--',linewidth=1)\n",
    "\n",
    "plt.scatter(x,y,c='black')\n",
    "plt.plot(x_plot,y_plot,c='red')\n",
    "plt.show()"
   ]
  },
  {
   "cell_type": "code",
   "execution_count": 4,
   "id": "f04a1f90",
   "metadata": {},
   "outputs": [],
   "source": [
    "def calc_coeffs(x):\n",
    "    mean_x = np.mean(x)\n",
    "    mean_y = np.mean(y)\n",
    "\n",
    "\n",
    "    numer = 0\n",
    "    denom = 0\n",
    "    for i in range(len(x)):\n",
    "        numer += (x[i] - mean_x) * (y[i] - mean_y)\n",
    "        denom += (x[i] - mean_x) ** 2\n",
    "    b1 = numer / denom\n",
    "    b0 = mean_y - (b1 * mean_x)\n",
    "\n",
    "    prediction = lambda x: b0+b1*x\n",
    "    \n",
    "    return b0,b1"
   ]
  },
  {
   "cell_type": "code",
   "execution_count": 58,
   "id": "573300fd",
   "metadata": {},
   "outputs": [],
   "source": [
    "#my own class LinearRegr\n",
    "\n",
    "class LinearRegressionModel:\n",
    "    \n",
    "    def __init__(self,data):\n",
    "        self.data = data\n",
    "        self.b0, self.b1 = self.calc_coeffs()\n",
    "        self.x, self.y = self.get_coords(data)\n",
    "        print(self.x,self.y)\n",
    "    \n",
    "    \n",
    "    get_coords = lambda self,D: ([point[0] for point in D], [point[1] for point in D])\n",
    "    \n",
    "    def calc_coeffs(self):\n",
    "        \n",
    "        \n",
    "        return b0, b1\n",
    "    \n",
    "    \n",
    "    \n",
    "   \n",
    "\n",
    "\n",
    "    def plot():\n",
    "        pass\n",
    "    \n",
    "    \n",
    "    predict = lambda self,x: self.b0+self.b1*x\n",
    "    \n",
    "    "
   ]
  },
  {
   "cell_type": "code",
   "execution_count": 60,
   "id": "6dbdce70",
   "metadata": {},
   "outputs": [
    {
     "name": "stdout",
     "output_type": "stream",
     "text": [
      "[1, 4, 2, 5, 6, 3, 4] [1, 2, 4, 6, 5, 4, 3]\n"
     ]
    }
   ],
   "source": [
    "test = LinearRegressionModel([(1,1),(4,2),(2,4),(5,6),(6,5),(3,4),(4,3)])"
   ]
  },
  {
   "cell_type": "code",
   "execution_count": 39,
   "id": "b0cd5ee3",
   "metadata": {},
   "outputs": [
    {
     "data": {
      "text/plain": [
       "6"
      ]
     },
     "execution_count": 39,
     "metadata": {},
     "output_type": "execute_result"
    }
   ],
   "source": [
    "test.predict(2)"
   ]
  },
  {
   "cell_type": "code",
   "execution_count": 50,
   "id": "11e912ec",
   "metadata": {},
   "outputs": [],
   "source": [
    "example_data = [(1,1),(4,2),(2,4),(5,6),(6,5),(3,4),(4,3)]\n",
    "\n",
    "get_coords = lambda data: ([point[0] for point in data], [point[1] for point in data])"
   ]
  },
  {
   "cell_type": "code",
   "execution_count": 53,
   "id": "50984158",
   "metadata": {},
   "outputs": [],
   "source": [
    "x,y = get_chords(data)"
   ]
  },
  {
   "cell_type": "code",
   "execution_count": 54,
   "id": "9b36ca38",
   "metadata": {},
   "outputs": [
    {
     "data": {
      "text/plain": [
       "[1, 4, 2, 5, 6]"
      ]
     },
     "execution_count": 54,
     "metadata": {},
     "output_type": "execute_result"
    }
   ],
   "source": [
    "x"
   ]
  },
  {
   "cell_type": "code",
   "execution_count": null,
   "id": "c32c127b",
   "metadata": {},
   "outputs": [],
   "source": []
  }
 ],
 "metadata": {
  "kernelspec": {
   "display_name": "Python 3 (ipykernel)",
   "language": "python",
   "name": "python3"
  },
  "language_info": {
   "codemirror_mode": {
    "name": "ipython",
    "version": 3
   },
   "file_extension": ".py",
   "mimetype": "text/x-python",
   "name": "python",
   "nbconvert_exporter": "python",
   "pygments_lexer": "ipython3",
   "version": "3.9.13"
  }
 },
 "nbformat": 4,
 "nbformat_minor": 5
}
