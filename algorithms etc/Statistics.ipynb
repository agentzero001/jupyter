{
 "cells": [
  {
   "cell_type": "code",
   "execution_count": 37,
   "id": "20a700e7",
   "metadata": {},
   "outputs": [],
   "source": [
    "import math\n",
    "import statistics\n",
    "import numpy as np\n",
    "import scipy.stats\n",
    "import pandas as pd\n",
    "import matplotlib.pyplot as plt"
   ]
  },
  {
   "cell_type": "code",
   "execution_count": 38,
   "id": "5641974d",
   "metadata": {},
   "outputs": [],
   "source": [
    "#calculate weighted arithmetic mean\n",
    "\n",
    "data = [8.0, 1, 2.5, 4, 28.0] \n",
    "weights = [0.1, 0.2, 0.3, 0.25, 0.15]\n",
    "\n",
    "np_data = np.array(data)\n",
    "np_weights = np.array(weights)\n",
    "\n",
    "list_ = []\n",
    "\n",
    "for i in range(len(data)):\n",
    "    list_.append(data[i]* weights[i])\n",
    "\n",
    "    \n",
    "wmean1 = sum(list_) /len(data) \n",
    "wmean2 = sum([weights[j]*data[j] for j in range(len(data))]) /len(data)\n",
    "wmean3 = np.average([data[j]*weights[j] for j in range(len(data))])"
   ]
  },
  {
   "cell_type": "code",
   "execution_count": 39,
   "id": "ff6a7085",
   "metadata": {},
   "outputs": [
    {
     "data": {
      "text/plain": [
       "True"
      ]
     },
     "execution_count": 39,
     "metadata": {},
     "output_type": "execute_result"
    }
   ],
   "source": [
    "#True\n",
    "\n",
    "wmean1 == wmean2 == wmean3"
   ]
  },
  {
   "cell_type": "code",
   "execution_count": 40,
   "id": "46f89db5",
   "metadata": {},
   "outputs": [],
   "source": [
    "def calculate_stats(values):\n",
    "    minimum = min(values)\n",
    "    maximum = max(values)\n",
    "    average = sum(values) / len(values)\n",
    "    return minimum, maximum, average\n",
    "\n",
    "minimum, maximum, average = calculate_stats([1, 2, 3, 4, 5])"
   ]
  },
  {
   "cell_type": "code",
   "execution_count": 41,
   "id": "9c9b7b47",
   "metadata": {},
   "outputs": [
    {
     "data": {
      "text/plain": [
       "([6, 10, 9, 9, 6, 9, 6, 9, 8, 13],\n",
       " array([15,  6, 10,  9, 18,  9,  6,  9, 19,  6, 19, 16,  9,  8, 17, 13, 17]))"
      ]
     },
     "execution_count": 41,
     "metadata": {},
     "output_type": "execute_result"
    }
   ],
   "source": [
    "arr = np.random.randint(low=1, high=20, size=20)\n",
    "\n",
    "condition = lambda x: (x > 5) & (x < 15)\n",
    "filtered_arr1 = list(filter(condition,arr)) \n",
    "\n",
    "indices = np.where(5 < arr)\n",
    "filtered_arr2 = arr[indices]\n",
    " \n",
    "\n",
    "filtered_arr1, filtered_arr2"
   ]
  },
  {
   "cell_type": "code",
   "execution_count": 47,
   "id": "911b8115",
   "metadata": {},
   "outputs": [
    {
     "data": {
      "text/plain": [
       "True"
      ]
     },
     "execution_count": 47,
     "metadata": {},
     "output_type": "execute_result"
    }
   ],
   "source": [
    "#lambda rules\n",
    "\n",
    "def perms1(L):\n",
    "    if len(L) <=1:\n",
    "        return (L,)\n",
    "    else:\n",
    "        return tuple((L[i],) + P for i in range(len(L)) for P in perms1(L[:i] + L[i+1:]))\n",
    "    \n",
    "    \n",
    "perms2 = lambda L: tuple((L[i],) + P for i in range(len(L)) for P in perms2(L[:i] + L[i+1:])) if len(L) > 1 else (L,)\n",
    "fac = lambda n: 1 if n == 0 else n * fac(n-1)\n",
    "\n",
    "len(perms1((1,2,3,4,5))) == len(perms2((1,2,3,4,5))) == fac(5)"
   ]
  },
  {
   "cell_type": "code",
   "execution_count": 48,
   "id": "098e2237",
   "metadata": {},
   "outputs": [
    {
     "data": {
      "text/plain": [
       "((1, 2, 3), (1, 3, 2), (2, 1, 3), (2, 3, 1), (3, 1, 2), (3, 2, 1))"
      ]
     },
     "execution_count": 48,
     "metadata": {},
     "output_type": "execute_result"
    }
   ],
   "source": [
    "#permutation without repitition\n",
    "\n",
    "perms2((1,2,3))"
   ]
  },
  {
   "cell_type": "code",
   "execution_count": 49,
   "id": "164879f5",
   "metadata": {},
   "outputs": [
    {
     "data": {
      "text/plain": [
       "{(1, 1, 2, 2),\n",
       " (1, 2, 1, 2),\n",
       " (1, 2, 2, 1),\n",
       " (2, 1, 1, 2),\n",
       " (2, 1, 2, 1),\n",
       " (2, 2, 1, 1)}"
      ]
     },
     "execution_count": 49,
     "metadata": {},
     "output_type": "execute_result"
    }
   ],
   "source": [
    "#permutation with repitition\n",
    "\n",
    "set(perms2((1,1,2,2)))"
   ]
  },
  {
   "cell_type": "code",
   "execution_count": 50,
   "id": "42188008",
   "metadata": {},
   "outputs": [
    {
     "data": {
      "text/plain": [
       "array([[2, 3, 4],\n",
       "       [3, 4, 5],\n",
       "       [4, 5, 6]])"
      ]
     },
     "execution_count": 50,
     "metadata": {},
     "output_type": "execute_result"
    }
   ],
   "source": [
    "#broadcast in numpy\n",
    "\n",
    "x = np.array([[1,2,3]])\n",
    "y = np.array([[1],\n",
    "              [2],\n",
    "              [3]])\n",
    "\n",
    "x+y"
   ]
  },
  {
   "cell_type": "code",
   "execution_count": 51,
   "id": "aa6d4177",
   "metadata": {},
   "outputs": [
    {
     "data": {
      "text/plain": [
       "matrix([[22, 28],\n",
       "        [49, 64]])"
      ]
     },
     "execution_count": 51,
     "metadata": {},
     "output_type": "execute_result"
    }
   ],
   "source": [
    "#matrix multiplication\n",
    "\n",
    "np.matrix([[1,2,3],[4,5,6]]) * np.matrix([[1,2],\n",
    "                                          [3,4],\n",
    "                                          [5,6]]) "
   ]
  },
  {
   "cell_type": "markdown",
   "id": "97bddbc6",
   "metadata": {},
   "source": [
    "- $Q = {q_1, q_2, ..., q_n}$ is the set of states\n",
    "- $\\Sigma = {a_1, a_2, ..., a_m}$ is the set of input symbols\n",
    "- $q_0$ is the initial state\n",
    "- $F = {f_1, f_2, ..., f_n}$ is the set of final or accepting states\n",
    "- $\\delta : Q \\times \\Sigma \\rightarrow Q$ is the transition function, where $\\delta(q_i, a_j) = q_k$ is the next state when the machine is in state $q_i$ and receives input symbol $a_j$"
   ]
  }
 ],
 "metadata": {
  "kernelspec": {
   "display_name": "Python 3 (ipykernel)",
   "language": "python",
   "name": "python3"
  },
  "language_info": {
   "codemirror_mode": {
    "name": "ipython",
    "version": 3
   },
   "file_extension": ".py",
   "mimetype": "text/x-python",
   "name": "python",
   "nbconvert_exporter": "python",
   "pygments_lexer": "ipython3",
   "version": "3.9.13"
  }
 },
 "nbformat": 4,
 "nbformat_minor": 5
}
