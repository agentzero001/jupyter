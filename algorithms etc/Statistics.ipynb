{
 "cells": [
  {
   "cell_type": "code",
   "execution_count": 1,
   "id": "20a700e7",
   "metadata": {},
   "outputs": [],
   "source": [
    "import math\n",
    "import statistics\n",
    "import numpy as np\n",
    "import scipy.stats\n",
    "import pandas as pd\n",
    "import matplotlib.pyplot as plt"
   ]
  },
  {
   "cell_type": "code",
   "execution_count": 16,
   "id": "8a652727",
   "metadata": {},
   "outputs": [
    {
     "data": {
      "text/plain": [
       "(nan, nan, nan, nan, nan)"
      ]
     },
     "execution_count": 16,
     "metadata": {},
     "output_type": "execute_result"
    }
   ],
   "source": [
    "x_nan = [1,2,3,math.nan,4,5]\n",
    "\n",
    "np_a = np.array(x_nan)\n",
    "pd_s = pd.Series(x_nan)\n",
    "\n",
    "statistics.fmean(x_nan), np.mean(x_nan), np.average(x_nan), np.mean(np_a), np_a.mean()"
   ]
  },
  {
   "cell_type": "code",
   "execution_count": 20,
   "id": "d54a2065",
   "metadata": {},
   "outputs": [
    {
     "data": {
      "text/plain": [
       "(3.0, 3.0, nan)"
      ]
     },
     "execution_count": 20,
     "metadata": {},
     "output_type": "execute_result"
    }
   ],
   "source": [
    "np.nanmean(np_a), pd_s.mean(), pd_s.mean(skipna=False)"
   ]
  },
  {
   "cell_type": "code",
   "execution_count": 56,
   "id": "5641974d",
   "metadata": {},
   "outputs": [],
   "source": [
    "#calculate weighted arithmetic mean\n",
    "\n",
    "data = [8.0, 1, 2.5, 4, 28.0] \n",
    "weights = [0.1, 0.2, 0.3, 0.25, 0.15]\n",
    "\n",
    "a,b,w = np.array(data),pd.Series(data), np.array(weights)\n",
    "\n",
    "    \n",
    "wmean1 = sum(weights[_]*data[_] for _ in range(len(data))) /sum(weights)\n",
    "wmean2 = sum(i*j for (i,j) in zip(data, weights)) / sum(weights)\n",
    "wmean3 = (a*w).sum()/w.sum() \n",
    "wmean4 = np.average(data,weights=weights)"
   ]
  },
  {
   "cell_type": "code",
   "execution_count": 57,
   "id": "4c753989",
   "metadata": {},
   "outputs": [
    {
     "data": {
      "text/plain": [
       "True"
      ]
     },
     "execution_count": 57,
     "metadata": {},
     "output_type": "execute_result"
    }
   ],
   "source": [
    "wmean1 == wmean2 == wmean3 == wmean4"
   ]
  },
  {
   "cell_type": "code",
   "execution_count": 4,
   "id": "46f89db5",
   "metadata": {},
   "outputs": [],
   "source": [
    "def calculate_stats(values):\n",
    "    minimum = min(values)\n",
    "    maximum = max(values)\n",
    "    average = sum(values) / len(values)\n",
    "    return minimum, maximum, average\n",
    "\n",
    "minimum, maximum, average = calculate_stats([1, 2, 3, 4, 5])"
   ]
  },
  {
   "cell_type": "code",
   "execution_count": 25,
   "id": "ad6345a7",
   "metadata": {},
   "outputs": [
    {
     "data": {
      "text/plain": [
       "1.3900000000000001"
      ]
     },
     "execution_count": 25,
     "metadata": {},
     "output_type": "execute_result"
    }
   ],
   "source": [
    "wmean2"
   ]
  },
  {
   "cell_type": "code",
   "execution_count": 5,
   "id": "9c9b7b47",
   "metadata": {},
   "outputs": [
    {
     "data": {
      "text/plain": [
       "([10, 12, 8, 10, 12, 14, 14, 14, 11],\n",
       " array([10, 19, 16, 12,  8, 10, 12, 17, 14, 14, 19, 15, 14, 19, 11]))"
      ]
     },
     "execution_count": 5,
     "metadata": {},
     "output_type": "execute_result"
    }
   ],
   "source": [
    "arr = np.random.randint(low=1, high=20, size=20)\n",
    "\n",
    "condition = lambda x: (x > 5) & (x < 15)\n",
    "filtered_arr1 = list(filter(condition,arr)) \n",
    "\n",
    "indices = np.where(5 < arr)\n",
    "filtered_arr2 = arr[indices]\n",
    " \n",
    "\n",
    "filtered_arr1, filtered_arr2"
   ]
  },
  {
   "cell_type": "code",
   "execution_count": 6,
   "id": "42188008",
   "metadata": {},
   "outputs": [
    {
     "data": {
      "text/plain": [
       "array([[2, 3, 4],\n",
       "       [3, 4, 5],\n",
       "       [4, 5, 6]])"
      ]
     },
     "execution_count": 6,
     "metadata": {},
     "output_type": "execute_result"
    }
   ],
   "source": [
    "#broadcast in numpy\n",
    "\n",
    "x = np.array([[1,2,3]])\n",
    "y = np.array([[1],\n",
    "              [2],\n",
    "              [3]])\n",
    "\n",
    "x+y"
   ]
  },
  {
   "cell_type": "code",
   "execution_count": 7,
   "id": "aa6d4177",
   "metadata": {},
   "outputs": [
    {
     "data": {
      "text/plain": [
       "matrix([[22, 28],\n",
       "        [49, 64]])"
      ]
     },
     "execution_count": 7,
     "metadata": {},
     "output_type": "execute_result"
    }
   ],
   "source": [
    "#matrix multiplication\n",
    "\n",
    "np.matrix([[1,2,3],[4,5,6]]) * np.matrix([[1,2],\n",
    "                                          [3,4],\n",
    "                                          [5,6]]) "
   ]
  },
  {
   "cell_type": "markdown",
   "id": "97bddbc6",
   "metadata": {},
   "source": [
    "- $Q = {q_1, q_2, ..., q_n}$ is the set of states\n",
    "- $\\Sigma = {a_1, a_2, ..., a_m}$ is the set of input symbols\n",
    "- $q_0$ is the initial state\n",
    "- $F = {f_1, f_2, ..., f_n}$ is the set of final or accepting states\n",
    "- $\\delta : Q \\times \\Sigma \\rightarrow Q$ is the transition function, where $\\delta(q_i, a_j) = q_k$ is the next state when the machine is in state $q_i$ and receives input symbol $a_j$"
   ]
  }
 ],
 "metadata": {
  "kernelspec": {
   "display_name": "Python 3 (ipykernel)",
   "language": "python",
   "name": "python3"
  },
  "language_info": {
   "codemirror_mode": {
    "name": "ipython",
    "version": 3
   },
   "file_extension": ".py",
   "mimetype": "text/x-python",
   "name": "python",
   "nbconvert_exporter": "python",
   "pygments_lexer": "ipython3",
   "version": "3.9.13"
  }
 },
 "nbformat": 4,
 "nbformat_minor": 5
}
