{
 "cells": [
  {
   "cell_type": "code",
   "execution_count": 1,
   "id": "dc2339be",
   "metadata": {},
   "outputs": [],
   "source": [
    "import warnings\n",
    "warnings.filterwarnings('ignore')"
   ]
  },
  {
   "cell_type": "code",
   "execution_count": 2,
   "id": "17ac07d2",
   "metadata": {},
   "outputs": [],
   "source": [
    "import math\n",
    "import statistics\n",
    "import numpy as np\n",
    "import scipy.stats\n",
    "import pandas as pd\n",
    "import matplotlib.pyplot as plt"
   ]
  },
  {
   "cell_type": "code",
   "execution_count": 3,
   "id": "40662402",
   "metadata": {},
   "outputs": [],
   "source": [
    "data = [25, 30, 22, 27, 24, 28, 31, 29, 26, 90]\n",
    "np_data = np.array(data)\n",
    "nan_data = [25, 30, 22, 27, 24, 28, 31, 29, 26, math.nan, 90]\n",
    "pd_nan_data = pd.Series(nan_data)"
   ]
  },
  {
   "cell_type": "markdown",
   "id": "f77659ba",
   "metadata": {},
   "source": [
    "\n",
    "## Variance:\n",
    "### According to Bessel's correction the sample variance\n",
    "### $ \\sigma^2 = \\frac{1}{n-1}\\sum_{i=1}^{n}(x_i - mean(x))^2$\n",
    "### where x_i is the ith element of the dataset x with n elements\n",
    "### (for calculating the population variance replace n-1 with n)"
   ]
  },
  {
   "cell_type": "code",
   "execution_count": 4,
   "id": "97fa52a1",
   "metadata": {},
   "outputs": [
    {
     "data": {
      "text/plain": [
       "(405.9555555555556, 405.9555555555556, 365.36)"
      ]
     },
     "execution_count": 4,
     "metadata": {},
     "output_type": "execute_result"
    }
   ],
   "source": [
    "mean1 = sum(data) / len(data) \n",
    "variance = sum((item-mean1)**2 for item in data) / (len(data) - 1 )\n",
    "\n",
    "\n",
    "#the variance function of the statistics module allows you to provide your own mean to the formula\n",
    "\n",
    "variance, statistics.variance(data, mean1), statistics.pvariance(data) "
   ]
  },
  {
   "cell_type": "code",
   "execution_count": 5,
   "id": "9673c805",
   "metadata": {},
   "outputs": [
    {
     "data": {
      "text/plain": [
       "(405.9555555555556, 405.9555555555556, 365.36)"
      ]
     },
     "execution_count": 5,
     "metadata": {},
     "output_type": "execute_result"
    }
   ],
   "source": [
    "#in numpy ddof (delta degrees of freedom) will replace n with n-1 in the formula\n",
    "\n",
    "np.var(data, ddof=1), np_data.var(ddof=1), np.var(data)"
   ]
  },
  {
   "cell_type": "code",
   "execution_count": 6,
   "id": "1aab3340",
   "metadata": {},
   "outputs": [
    {
     "data": {
      "text/plain": [
       "(nan, nan, 405.9555555555556)"
      ]
     },
     "execution_count": 6,
     "metadata": {},
     "output_type": "execute_result"
    }
   ],
   "source": [
    "#dealing with nan values in your data\n",
    "\n",
    "statistics.variance(nan_data), np.var(nan_data, ddof=1), np.nanvar(nan_data, ddof=1)"
   ]
  },
  {
   "cell_type": "code",
   "execution_count": 7,
   "id": "728626fb",
   "metadata": {},
   "outputs": [
    {
     "data": {
      "text/plain": [
       "(365.36, nan)"
      ]
     },
     "execution_count": 7,
     "metadata": {},
     "output_type": "execute_result"
    }
   ],
   "source": [
    "#pd.Series.var will have ddof=1 by default and skips nan values\n",
    "\n",
    "pd_nan_data.var(ddof=0),  pd_nan_data.var(skipna=False)"
   ]
  },
  {
   "cell_type": "markdown",
   "id": "e50bf813",
   "metadata": {},
   "source": [
    "-----------"
   ]
  },
  {
   "cell_type": "code",
   "execution_count": 8,
   "id": "78568b53",
   "metadata": {},
   "outputs": [
    {
     "data": {
      "text/plain": [
       "(20.148338779054605, 20.148338779054605)"
      ]
     },
     "execution_count": 8,
     "metadata": {},
     "output_type": "execute_result"
    }
   ],
   "source": [
    "#The sample standart Deviation s is the positive square root of the sample variance s²\n",
    "\n",
    "standard_deviation = variance ** 0.5\n",
    "\n",
    "standard_deviation, statistics.stdev(data)"
   ]
  },
  {
   "cell_type": "code",
   "execution_count": 9,
   "id": "eb6c9cf5",
   "metadata": {},
   "outputs": [
    {
     "data": {
      "text/plain": [
       "(20.148338779054605, 20.148338779054605, 20.148338779054605)"
      ]
     },
     "execution_count": 9,
     "metadata": {},
     "output_type": "execute_result"
    }
   ],
   "source": [
    "np.std(data, ddof=1), np_data.std(ddof=1), np.nanstd(data, ddof=1)"
   ]
  },
  {
   "cell_type": "code",
   "execution_count": 10,
   "id": "06b2046c",
   "metadata": {},
   "outputs": [
    {
     "data": {
      "text/plain": [
       "(20.148338779054605, nan)"
      ]
     },
     "execution_count": 10,
     "metadata": {},
     "output_type": "execute_result"
    }
   ],
   "source": [
    "#pd.Series same behaviour as before\n",
    "\n",
    "pd_nan_data.std(),  pd_nan_data.std(skipna=False)"
   ]
  },
  {
   "cell_type": "code",
   "execution_count": 11,
   "id": "3f6bd8ae",
   "metadata": {},
   "outputs": [
    {
     "data": {
      "text/plain": [
       "(19.114392483152585, 19.114392483152585, 20.148338779054605)"
      ]
     },
     "execution_count": 11,
     "metadata": {},
     "output_type": "execute_result"
    }
   ],
   "source": [
    "#for the population standart deviation\n",
    "\n",
    "statistics.pstdev(data), np.std(data), pd_nan_data.std() "
   ]
  },
  {
   "cell_type": "markdown",
   "id": "5f8a4c84",
   "metadata": {},
   "source": [
    "-------"
   ]
  },
  {
   "cell_type": "code",
   "execution_count": 12,
   "id": "8262a1bf",
   "metadata": {},
   "outputs": [],
   "source": [
    "n = len(data)\n",
    "mean = sum(data) / n\n",
    "std = np.var(data, ddof=1) ** 0.5"
   ]
  },
  {
   "cell_type": "code",
   "execution_count": 13,
   "id": "765820e6",
   "metadata": {},
   "outputs": [
    {
     "data": {
      "text/plain": [
       "(3.0504698806777566, 3.0504698806777566, 3.0504698806777566)"
      ]
     },
     "execution_count": 13,
     "metadata": {},
     "output_type": "execute_result"
    }
   ],
   "source": [
    "#the skewness measures the symmetry of your data, there are serveral mathematical definitions for\n",
    "#calculating skewness. When Skewness values are close to 0, \n",
    "#then the dataset is considered  to be quite symmetrical\n",
    "\n",
    "skw = (sum((item - mean1)**3 for item in data) *  n / ((n - 1) * (n - 2) * std**3))\n",
    "\n",
    "skw, scipy.stats.skew(data,bias=False),  scipy.stats.skew(nan_data,bias=False, nan_policy='omit')"
   ]
  },
  {
   "cell_type": "code",
   "execution_count": 15,
   "id": "eec5d5a9",
   "metadata": {},
   "outputs": [
    {
     "data": {
      "text/plain": [
       "3.050469880677756"
      ]
     },
     "execution_count": 15,
     "metadata": {},
     "output_type": "execute_result"
    }
   ],
   "source": [
    "#pandas Series method\n",
    "\n",
    "pd_data = pd.Series(data)\n",
    "pd_data.skew()"
   ]
  },
  {
   "cell_type": "code",
   "execution_count": null,
   "id": "bc3f9b87",
   "metadata": {},
   "outputs": [],
   "source": [
    "#percentils\n",
    "\n"
   ]
  }
 ],
 "metadata": {
  "kernelspec": {
   "display_name": "Python 3 (ipykernel)",
   "language": "python",
   "name": "python3"
  },
  "language_info": {
   "codemirror_mode": {
    "name": "ipython",
    "version": 3
   },
   "file_extension": ".py",
   "mimetype": "text/x-python",
   "name": "python",
   "nbconvert_exporter": "python",
   "pygments_lexer": "ipython3",
   "version": "3.9.13"
  }
 },
 "nbformat": 4,
 "nbformat_minor": 5
}
