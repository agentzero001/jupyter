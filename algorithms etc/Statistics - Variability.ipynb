{
 "cells": [
  {
   "cell_type": "code",
   "execution_count": 1,
   "id": "dc2339be",
   "metadata": {},
   "outputs": [],
   "source": [
    "import warnings\n",
    "warnings.filterwarnings('ignore')"
   ]
  },
  {
   "cell_type": "code",
   "execution_count": 4,
   "id": "17ac07d2",
   "metadata": {},
   "outputs": [],
   "source": [
    "import math\n",
    "import statistics\n",
    "import numpy as np\n",
    "import scipy.stats\n",
    "import pandas as pd\n",
    "import matplotlib.pyplot as plt"
   ]
  },
  {
   "cell_type": "code",
   "execution_count": 11,
   "id": "40662402",
   "metadata": {},
   "outputs": [],
   "source": [
    "data = [25, 30, 22, 27, 24, 28, 31, 29, 26, 23]"
   ]
  },
  {
   "cell_type": "markdown",
   "id": "9e6499e0",
   "metadata": {},
   "source": [
    "\n",
    "# Variance:\n",
    "## According to Bessel's correction the variance\n",
    "## $ \\sigma^2 = \\frac{1}{n-1}\\sum_{i=1}^{n}(x_i - mean(x))^2$\n",
    "## where x_i is the ith element of the dataset x with n elements"
   ]
  },
  {
   "cell_type": "code",
   "execution_count": 26,
   "id": "c1b370c9",
   "metadata": {},
   "outputs": [
    {
     "data": {
      "text/plain": [
       "(9.166666666666666, 9.166666666666666, 9.166666666666666)"
      ]
     },
     "execution_count": 26,
     "metadata": {},
     "output_type": "execute_result"
    }
   ],
   "source": [
    "mean1 = sum(data) / len(data) \n",
    "variance = sum((item-mean1)**2 for item in data) / (len(data) - 1 )\n",
    "\n",
    "\n",
    "#the variance function of the statistics module allows you to provide your own mean to the formula\n",
    "\n",
    "variance, statistics.variance(data), statistics.variance(data, mean1) "
   ]
  },
  {
   "cell_type": "code",
   "execution_count": 27,
   "id": "52904174",
   "metadata": {},
   "outputs": [
    {
     "data": {
      "text/plain": [
       "(9.166666666666666, 8.25)"
      ]
     },
     "execution_count": 27,
     "metadata": {},
     "output_type": "execute_result"
    }
   ],
   "source": [
    "#in numpy ddof (delta degrees of freedom) will replace n with n-1 in the formula\n",
    "\n",
    "np.var(data, ddof=1), np.var(data)"
   ]
  },
  {
   "cell_type": "code",
   "execution_count": null,
   "id": "72f25b4b",
   "metadata": {},
   "outputs": [],
   "source": []
  }
 ],
 "metadata": {
  "kernelspec": {
   "display_name": "Python 3 (ipykernel)",
   "language": "python",
   "name": "python3"
  },
  "language_info": {
   "codemirror_mode": {
    "name": "ipython",
    "version": 3
   },
   "file_extension": ".py",
   "mimetype": "text/x-python",
   "name": "python",
   "nbconvert_exporter": "python",
   "pygments_lexer": "ipython3",
   "version": "3.9.13"
  }
 },
 "nbformat": 4,
 "nbformat_minor": 5
}
