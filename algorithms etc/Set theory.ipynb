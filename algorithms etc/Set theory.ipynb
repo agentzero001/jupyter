{
 "cells": [
  {
   "cell_type": "markdown",
   "id": "42f64f2e",
   "metadata": {},
   "source": [
    "# Set theory\n",
    "\n",
    "-----------------------------"
   ]
  },
  {
   "cell_type": "code",
   "execution_count": 98,
   "id": "63539167",
   "metadata": {},
   "outputs": [],
   "source": [
    "from fractions import Fraction"
   ]
  },
  {
   "cell_type": "code",
   "execution_count": 99,
   "id": "68386a46",
   "metadata": {},
   "outputs": [
    {
     "data": {
      "text/plain": [
       "(set, set)"
      ]
     },
     "execution_count": 99,
     "metadata": {},
     "output_type": "execute_result"
    }
   ],
   "source": [
    "type({1,2,3}),type(set())"
   ]
  },
  {
   "cell_type": "code",
   "execution_count": 100,
   "id": "c339306f",
   "metadata": {},
   "outputs": [
    {
     "data": {
      "text/plain": [
       "(True, True)"
      ]
     },
     "execution_count": 100,
     "metadata": {},
     "output_type": "execute_result"
    }
   ],
   "source": [
    "#Subsets\n",
    "\n",
    "A = {1,2,3}\n",
    "B = {2,1,3,4}\n",
    "C = {2,1,3,4}\n",
    "\n",
    "A <= B, C <= B"
   ]
  },
  {
   "cell_type": "code",
   "execution_count": 101,
   "id": "a02b35de",
   "metadata": {},
   "outputs": [
    {
     "data": {
      "text/plain": [
       "({1, 2, 3, 4, 5, 7}, {2, 3}, {6, 7})"
      ]
     },
     "execution_count": 101,
     "metadata": {},
     "output_type": "execute_result"
    }
   ],
   "source": [
    "#Union, Intersection, Difference\n",
    "\n",
    "{1,2,3,4} | {1,3,5,7}, {1,2,3} & {7,3,6,2}, {7,3,6,2} - {1,2,4,3}"
   ]
  },
  {
   "cell_type": "code",
   "execution_count": 102,
   "id": "2019736e",
   "metadata": {},
   "outputs": [
    {
     "data": {
      "text/plain": [
       "({1, 2, 3, 4}, {1, 2, 3, 4, 5})"
      ]
     },
     "execution_count": 102,
     "metadata": {},
     "output_type": "execute_result"
    }
   ],
   "source": [
    "#Add element \n",
    "A.add(4)\n",
    "B = B | {5}\n",
    "\n",
    "A, B"
   ]
  },
  {
   "cell_type": "code",
   "execution_count": 111,
   "id": "8ea3a6b4",
   "metadata": {},
   "outputs": [],
   "source": [
    "#create sets using set comprehension\n",
    "\n",
    "D = {n for n in range(200) if n % 5 == 0 or n % 6 == 0}\n",
    "\n",
    "E = {2*n + m**2 for m,n in zip(range(1,20),range(1,20))}\n",
    "\n",
    "F = {Fraction(n,d) for n in {1,3,7} for d in {5,7,9}}\n",
    "\n",
    "G = {Fraction(1,n) for n in range(1,101)}\n",
    "\n",
    "H = {2**n for n in range(10)}\n"
   ]
  },
  {
   "cell_type": "code",
   "execution_count": 114,
   "id": "3267b0ec",
   "metadata": {},
   "outputs": [
    {
     "data": {
      "text/plain": [
       "{Fraction(1, 9),\n",
       " Fraction(1, 7),\n",
       " Fraction(1, 5),\n",
       " Fraction(1, 3),\n",
       " Fraction(3, 7),\n",
       " Fraction(3, 5),\n",
       " Fraction(7, 9),\n",
       " Fraction(1, 1),\n",
       " Fraction(7, 5)}"
      ]
     },
     "execution_count": 114,
     "metadata": {},
     "output_type": "execute_result"
    }
   ],
   "source": [
    "F"
   ]
  },
  {
   "cell_type": "code",
   "execution_count": 113,
   "id": "36bb3c2e",
   "metadata": {},
   "outputs": [
    {
     "data": {
      "text/plain": [
       "9"
      ]
     },
     "execution_count": 113,
     "metadata": {},
     "output_type": "execute_result"
    }
   ],
   "source": [
    "len(F)"
   ]
  },
  {
   "cell_type": "code",
   "execution_count": null,
   "id": "f7377f15",
   "metadata": {},
   "outputs": [],
   "source": []
  }
 ],
 "metadata": {
  "kernelspec": {
   "display_name": "Python 3 (ipykernel)",
   "language": "python",
   "name": "python3"
  },
  "language_info": {
   "codemirror_mode": {
    "name": "ipython",
    "version": 3
   },
   "file_extension": ".py",
   "mimetype": "text/x-python",
   "name": "python",
   "nbconvert_exporter": "python",
   "pygments_lexer": "ipython3",
   "version": "3.9.13"
  }
 },
 "nbformat": 4,
 "nbformat_minor": 5
}
