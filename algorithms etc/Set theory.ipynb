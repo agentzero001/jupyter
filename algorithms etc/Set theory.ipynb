{
 "cells": [
  {
   "cell_type": "markdown",
   "id": "fd893314",
   "metadata": {},
   "source": [
    "# Set theory\n",
    "\n",
    "-----------------------------"
   ]
  },
  {
   "cell_type": "code",
   "execution_count": 126,
   "id": "e245fe75",
   "metadata": {},
   "outputs": [],
   "source": [
    "from fractions import Fraction"
   ]
  },
  {
   "cell_type": "code",
   "execution_count": 127,
   "id": "333a74ac",
   "metadata": {},
   "outputs": [
    {
     "data": {
      "text/plain": [
       "(set, set)"
      ]
     },
     "execution_count": 127,
     "metadata": {},
     "output_type": "execute_result"
    }
   ],
   "source": [
    "type({1,2,3}),type(set())"
   ]
  },
  {
   "cell_type": "code",
   "execution_count": 128,
   "id": "acb0c310",
   "metadata": {},
   "outputs": [
    {
     "data": {
      "text/plain": [
       "(True, True)"
      ]
     },
     "execution_count": 128,
     "metadata": {},
     "output_type": "execute_result"
    }
   ],
   "source": [
    "#Subsets\n",
    "\n",
    "A = {1,2,3}\n",
    "B = {2,1,3,4}\n",
    "C = {2,1,3,4}\n",
    "\n",
    "A <= B, C <= B"
   ]
  },
  {
   "cell_type": "code",
   "execution_count": 129,
   "id": "c162d838",
   "metadata": {},
   "outputs": [
    {
     "data": {
      "text/plain": [
       "({1, 2, 3, 4, 5, 7}, {2, 3}, {6, 7})"
      ]
     },
     "execution_count": 129,
     "metadata": {},
     "output_type": "execute_result"
    }
   ],
   "source": [
    "#Union, Intersection, Difference\n",
    "\n",
    "{1,2,3,4} | {1,3,5,7}, {1,2,3} & {7,3,6,2}, {7,3,6,2} - {1,2,4,3}"
   ]
  },
  {
   "cell_type": "code",
   "execution_count": 130,
   "id": "03293026",
   "metadata": {},
   "outputs": [
    {
     "data": {
      "text/plain": [
       "({1, 2, 3, 4}, {1, 2, 3, 4, 5})"
      ]
     },
     "execution_count": 130,
     "metadata": {},
     "output_type": "execute_result"
    }
   ],
   "source": [
    "#Add element \n",
    "A.add(4)\n",
    "B = B | {5}\n",
    "\n",
    "A, B"
   ]
  },
  {
   "cell_type": "code",
   "execution_count": 131,
   "id": "ac3fb8fe",
   "metadata": {},
   "outputs": [],
   "source": [
    "#create sets using set comprehension\n",
    "\n",
    "D = {n for n in range(200) if n % 5 == 0 or n % 6 == 0}\n",
    "\n",
    "E = {2*n + m**2 for m,n in zip(range(1,20),range(1,20))}\n",
    "\n",
    "F = {Fraction(n,d) for n in {1,3,7} for d in {5,7,9}}\n",
    "\n",
    "G = {Fraction(m,n) for n in range(1,101) for m in range(3)}\n",
    "\n",
    "H = {2**n for n in range(10)}\n"
   ]
  },
  {
   "cell_type": "code",
   "execution_count": 132,
   "id": "289837c1",
   "metadata": {},
   "outputs": [
    {
     "data": {
      "text/plain": [
       "{Fraction(1, 9),\n",
       " Fraction(1, 7),\n",
       " Fraction(1, 5),\n",
       " Fraction(1, 3),\n",
       " Fraction(3, 7),\n",
       " Fraction(3, 5),\n",
       " Fraction(7, 9),\n",
       " Fraction(1, 1),\n",
       " Fraction(7, 5)}"
      ]
     },
     "execution_count": 132,
     "metadata": {},
     "output_type": "execute_result"
    }
   ],
   "source": [
    "F"
   ]
  },
  {
   "cell_type": "code",
   "execution_count": 133,
   "id": "d71ca1b8",
   "metadata": {},
   "outputs": [
    {
     "data": {
      "text/plain": [
       "9"
      ]
     },
     "execution_count": 133,
     "metadata": {},
     "output_type": "execute_result"
    }
   ],
   "source": [
    "len(F)"
   ]
  },
  {
   "cell_type": "code",
   "execution_count": null,
   "id": "e7f7ccd8",
   "metadata": {},
   "outputs": [],
   "source": []
  }
 ],
 "metadata": {
  "kernelspec": {
   "display_name": "Python 3 (ipykernel)",
   "language": "python",
   "name": "python3"
  },
  "language_info": {
   "codemirror_mode": {
    "name": "ipython",
    "version": 3
   },
   "file_extension": ".py",
   "mimetype": "text/x-python",
   "name": "python",
   "nbconvert_exporter": "python",
   "pygments_lexer": "ipython3",
   "version": "3.9.13"
  }
 },
 "nbformat": 4,
 "nbformat_minor": 5
}
