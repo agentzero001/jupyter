{
 "cells": [
  {
   "cell_type": "code",
   "execution_count": 2,
   "id": "5641974d",
   "metadata": {},
   "outputs": [],
   "source": [
    "import numpy as np\n",
    "\n",
    "x = [8.0, 1, 2.5, 4, 28.0]\n",
    "w = [0.1, 0.2, 0.3, 0.25, 0.15]\n",
    "\n",
    "list_ = []\n",
    "\n",
    "for i in range(len(x)):\n",
    "    list_.append(w[i]* x[i])\n",
    "\n",
    "wmean = sum(list_)   \n",
    "    \n",
    "y = np.array(x)\n",
    "w2 = np.array(w)"
   ]
  },
  {
   "cell_type": "code",
   "execution_count": 3,
   "id": "ff6a7085",
   "metadata": {},
   "outputs": [
    {
     "data": {
      "text/plain": [
       "6.95"
      ]
     },
     "execution_count": 3,
     "metadata": {},
     "output_type": "execute_result"
    }
   ],
   "source": [
    "(w2 * y).sum()"
   ]
  },
  {
   "cell_type": "code",
   "execution_count": 4,
   "id": "83767b09",
   "metadata": {},
   "outputs": [],
   "source": [
    "v = (w* y)"
   ]
  },
  {
   "cell_type": "code",
   "execution_count": 5,
   "id": "7060f7bb",
   "metadata": {},
   "outputs": [
    {
     "data": {
      "text/plain": [
       "array([0.8 , 0.2 , 0.75, 1.  , 4.2 ])"
      ]
     },
     "execution_count": 5,
     "metadata": {},
     "output_type": "execute_result"
    }
   ],
   "source": [
    "v"
   ]
  },
  {
   "cell_type": "code",
   "execution_count": 6,
   "id": "040965ec",
   "metadata": {},
   "outputs": [
    {
     "data": {
      "text/plain": [
       "6.95"
      ]
     },
     "execution_count": 6,
     "metadata": {},
     "output_type": "execute_result"
    }
   ],
   "source": [
    "wmean\n"
   ]
  },
  {
   "cell_type": "code",
   "execution_count": 7,
   "id": "6230b07b",
   "metadata": {},
   "outputs": [],
   "source": [
    "wmean2 = np.average(y, weights = w2)"
   ]
  },
  {
   "cell_type": "code",
   "execution_count": 8,
   "id": "8268f3e9",
   "metadata": {},
   "outputs": [
    {
     "data": {
      "text/plain": [
       "6.95"
      ]
     },
     "execution_count": 8,
     "metadata": {},
     "output_type": "execute_result"
    }
   ],
   "source": [
    "wmean2"
   ]
  },
  {
   "cell_type": "code",
   "execution_count": 9,
   "id": "9f3ac548",
   "metadata": {},
   "outputs": [],
   "source": [
    "aa = (w[i] * x[i] for i in range(len(x)))"
   ]
  },
  {
   "cell_type": "code",
   "execution_count": 10,
   "id": "969ace40",
   "metadata": {},
   "outputs": [],
   "source": [
    "import math"
   ]
  },
  {
   "cell_type": "code",
   "execution_count": 11,
   "id": "82ba3ba6",
   "metadata": {},
   "outputs": [],
   "source": [
    "def eratosthenes(n):\n",
    "    a = np.arange(2, n+1)\n",
    "    primes = []\n",
    "    limit = math.sqrt(n)\n",
    "    p = 2    \n",
    "    while p <= limit:\n",
    "        a = a[a % p != 0]\n",
    "        primes.append(p)\n",
    "        p = a[0]\n",
    "    primes.extend(a)\n",
    "    return primes\n",
    "        \n",
    "        "
   ]
  },
  {
   "cell_type": "code",
   "execution_count": 12,
   "id": "d67df3a0",
   "metadata": {},
   "outputs": [
    {
     "data": {
      "text/plain": [
       "[2, 3, 5, 7, 11, 13, 17, 19, 23, 29, 31, 37, 41]"
      ]
     },
     "execution_count": 12,
     "metadata": {},
     "output_type": "execute_result"
    }
   ],
   "source": [
    "eratosthenes(42)"
   ]
  },
  {
   "cell_type": "code",
   "execution_count": 13,
   "id": "fac51066",
   "metadata": {},
   "outputs": [
    {
     "data": {
      "image/png": "[encoded data removed]",
      "text/plain": [
       "<Figure size 600x400 with 1 Axes>"
      ]
     },
     "metadata": {},
     "output_type": "display_data"
    },
    {
     "data": {
      "text/plain": [
       "[0.0066928509242848554,\n",
       " 0.007398956049719674,\n",
       " 0.008178942856282161,\n",
       " 0.009040405808933128,\n",
       " 0.009991689936208048,\n",
       " 0.011041958337494755,\n",
       " 0.012201264260636085,\n",
       " 0.013480627700845831,\n",
       " 0.01489211636326034,\n",
       " 0.016448930693417962,\n",
       " 0.01816549250715569,\n",
       " 0.02005753653785041,\n",
       " 0.022142203958132125,\n",
       " 0.024438136618332742,\n",
       " 0.026965570368090237,\n",
       " 0.029746425384074206,\n",
       " 0.03280439090994282,\n",
       " 0.03616500122018774,\n",
       " 0.039855698945889695,\n",
       " 0.043905881149939006,\n",
       " 0.04834692271989779,\n",
       " 0.05321217077391106,\n",
       " 0.0585369028743679,\n",
       " 0.06435824095339865,\n",
       " 0.07071501202714367,\n",
       " 0.07764754608342478,\n",
       " 0.08519740106158838,\n",
       " 0.09340700471683215,\n",
       " 0.10231920350807018,\n",
       " 0.11197670961974694,\n",
       " 0.12242143898621305,\n",
       " 0.13369373589385355,\n",
       " 0.14583148353491507,\n",
       " 0.15886910488091516,\n",
       " 0.17283646446618905,\n",
       " 0.18775768905482057,\n",
       " 0.20364993350221924,\n",
       " 0.2205221270455694,\n",
       " 0.23837374421039675,\n",
       " 0.2571936527643822,\n",
       " 0.27695909778815886,\n",
       " 0.29763488497442225,\n",
       " 0.31917282672147035,\n",
       " 0.34151151059747936,\n",
       " 0.3645764407416393,\n",
       " 0.3882805885928385,\n",
       " 0.4125253704018182,\n",
       " 0.43720204630561754,\n",
       " 0.462193510926849,\n",
       " 0.4873764205699251,\n",
       " 0.512623579430075,\n",
       " 0.537806489073151,\n",
       " 0.5627979536943825,\n",
       " 0.5874746295981818,\n",
       " 0.6117194114071612,\n",
       " 0.6354235592583607,\n",
       " 0.6584884894025207,\n",
       " 0.6808271732785297,\n",
       " 0.7023651150255775,\n",
       " 0.7230409022118411,\n",
       " 0.7428063472356178,\n",
       " 0.7616262557896033,\n",
       " 0.7794778729544305,\n",
       " 0.7963500664977807,\n",
       " 0.8122423109451795,\n",
       " 0.8271635355338108,\n",
       " 0.8411308951190849,\n",
       " 0.854168516465085,\n",
       " 0.8663062641061464,\n",
       " 0.877578561013787,\n",
       " 0.888023290380253,\n",
       " 0.8976807964919297,\n",
       " 0.9065929952831678,\n",
       " 0.9148025989384116,\n",
       " 0.9223524539165752,\n",
       " 0.9292849879728562,\n",
       " 0.9356417590466013,\n",
       " 0.941463097125632,\n",
       " 0.946787829226089,\n",
       " 0.9516530772801021,\n",
       " 0.9560941188500611,\n",
       " 0.9601443010541102,\n",
       " 0.9638349987798124,\n",
       " 0.9671956090900572,\n",
       " 0.9702535746159258,\n",
       " 0.9730344296319098,\n",
       " 0.9755618633816672,\n",
       " 0.977857796041868,\n",
       " 0.9799424634621495,\n",
       " 0.9818345074928443,\n",
       " 0.9835510693065821,\n",
       " 0.9851078836367397,\n",
       " 0.9865193722991542,\n",
       " 0.9877987357393639,\n",
       " 0.9889580416625052,\n",
       " 0.990008310063792,\n",
       " 0.9909595941910669,\n",
       " 0.9918210571437178,\n",
       " 0.9926010439502804,\n",
       " 0.9933071490757153]"
      ]
     },
     "execution_count": 13,
     "metadata": {},
     "output_type": "execute_result"
    }
   ],
   "source": [
    "import matplotlib.pyplot as plt\n",
    "\n",
    "\n",
    "\n",
    "x = np.linspace(-5, 5, 100)\n",
    "y = list(map(lambda a: 1 / (1 + np.exp(-a)), x))\n",
    "\n",
    "plt.figure(facecolor='grey',dpi = 100)\n",
    "plt.axes().set_facecolor('grey')\n",
    "\n",
    "plt.plot(x, y, color = 'black')\n",
    "plt.xlabel(\"x\")\n",
    "plt.ylabel(\"Sigmoid(X)\")\n",
    "\n",
    "plt.show()\n",
    "y"
   ]
  },
  {
   "cell_type": "code",
   "execution_count": 14,
   "id": "e27a3687",
   "metadata": {},
   "outputs": [
    {
     "name": "stdout",
     "output_type": "stream",
     "text": [
      "12\n"
     ]
    }
   ],
   "source": [
    "x = 100\n",
    " \n",
    "for i in range(3):\n",
    "    \n",
    "    x = x >> 1\n",
    "    \n",
    "print(x)"
   ]
  },
  {
   "cell_type": "code",
   "execution_count": 15,
   "id": "08bce9b5",
   "metadata": {},
   "outputs": [
    {
     "data": {
      "text/plain": [
       "3"
      ]
     },
     "execution_count": 15,
     "metadata": {},
     "output_type": "execute_result"
    }
   ],
   "source": [
    "30 >> 3"
   ]
  },
  {
   "cell_type": "code",
   "execution_count": 16,
   "id": "48d1396a",
   "metadata": {},
   "outputs": [
    {
     "data": {
      "text/plain": [
       "3.3333333333333335"
      ]
     },
     "execution_count": 16,
     "metadata": {},
     "output_type": "execute_result"
    }
   ],
   "source": [
    "30/ 3**2"
   ]
  },
  {
   "cell_type": "code",
   "execution_count": 17,
   "id": "9c9b7b47",
   "metadata": {},
   "outputs": [
    {
     "name": "stdout",
     "output_type": "stream",
     "text": [
      "[5 1 0 4 6 2]\n",
      "(array([4], dtype=int64),)\n",
      "[0 4 2]\n"
     ]
    }
   ],
   "source": [
    "import numpy as np\n",
    "\n",
    "# Create an array of random integers\n",
    "arr = np.random.randint(low=0, high=10, size=6)\n",
    "print(arr)\n",
    "\n",
    "# Find the indices of all elements greater than 5\n",
    "indices = np.where(arr > 5)\n",
    "print(indices)\n",
    "\n",
    "# Use the indices to filter the array\n",
    "filtered_arr = arr[[2, 3, 5]]\n",
    "print(filtered_arr)\n"
   ]
  },
  {
   "cell_type": "code",
   "execution_count": 18,
   "id": "54635799",
   "metadata": {},
   "outputs": [],
   "source": [
    "arr = np.random.randint(low=0, high=10, size=6)"
   ]
  },
  {
   "cell_type": "code",
   "execution_count": 19,
   "id": "3d35021a",
   "metadata": {},
   "outputs": [
    {
     "data": {
      "text/plain": [
       "array([5, 5, 7, 2, 3, 1])"
      ]
     },
     "execution_count": 19,
     "metadata": {},
     "output_type": "execute_result"
    }
   ],
   "source": [
    "arr"
   ]
  },
  {
   "cell_type": "code",
   "execution_count": 20,
   "id": "7a277267",
   "metadata": {},
   "outputs": [],
   "source": [
    "arr = arr[[1,3,4,5]]"
   ]
  },
  {
   "cell_type": "code",
   "execution_count": 21,
   "id": "86b02a62",
   "metadata": {},
   "outputs": [
    {
     "data": {
      "text/plain": [
       "array([5, 2, 3, 1])"
      ]
     },
     "execution_count": 21,
     "metadata": {},
     "output_type": "execute_result"
    }
   ],
   "source": [
    "arr"
   ]
  },
  {
   "cell_type": "code",
   "execution_count": 22,
   "id": "dc276399",
   "metadata": {},
   "outputs": [],
   "source": [
    "x = np.array([[1,2,3]])\n",
    "y = np.array([[1],\n",
    "              [2],\n",
    "              [3]])"
   ]
  },
  {
   "cell_type": "code",
   "execution_count": 23,
   "id": "8f408e23",
   "metadata": {},
   "outputs": [
    {
     "data": {
      "text/plain": [
       "array([[1],\n",
       "       [2],\n",
       "       [3]])"
      ]
     },
     "execution_count": 23,
     "metadata": {},
     "output_type": "execute_result"
    }
   ],
   "source": [
    "y"
   ]
  },
  {
   "cell_type": "code",
   "execution_count": 24,
   "id": "5c3e4956",
   "metadata": {},
   "outputs": [
    {
     "data": {
      "text/plain": [
       "array([[1, 2, 3]])"
      ]
     },
     "execution_count": 24,
     "metadata": {},
     "output_type": "execute_result"
    }
   ],
   "source": [
    "x"
   ]
  },
  {
   "cell_type": "code",
   "execution_count": 25,
   "id": "b432532e",
   "metadata": {},
   "outputs": [
    {
     "data": {
      "text/plain": [
       "array([[2, 3, 4],\n",
       "       [3, 4, 5],\n",
       "       [4, 5, 6]])"
      ]
     },
     "execution_count": 25,
     "metadata": {},
     "output_type": "execute_result"
    }
   ],
   "source": [
    "x+y"
   ]
  },
  {
   "cell_type": "code",
   "execution_count": 26,
   "id": "b720bbd8",
   "metadata": {},
   "outputs": [
    {
     "data": {
      "text/plain": [
       "tuple"
      ]
     },
     "execution_count": 26,
     "metadata": {},
     "output_type": "execute_result"
    }
   ],
   "source": [
    "def calculate_stats(values):\n",
    "    minimum = min(values)\n",
    "    maximum = max(values)\n",
    "    average = sum(values) / len(values)\n",
    "    return minimum, maximum, average\n",
    "\n",
    "minimum, maximum, average = calculate_stats([1, 2, 3, 4, 5])\n",
    "\n",
    "\n",
    "type(calculate_stats([1, 2, 3, 4, 5]))"
   ]
  },
  {
   "cell_type": "code",
   "execution_count": 27,
   "id": "396648c2",
   "metadata": {},
   "outputs": [
    {
     "data": {
      "text/plain": [
       "['__add__',\n",
       " '__class__',\n",
       " '__class_getitem__',\n",
       " '__contains__',\n",
       " '__delattr__',\n",
       " '__dir__',\n",
       " '__doc__',\n",
       " '__eq__',\n",
       " '__format__',\n",
       " '__ge__',\n",
       " '__getattribute__',\n",
       " '__getitem__',\n",
       " '__getnewargs__',\n",
       " '__gt__',\n",
       " '__hash__',\n",
       " '__init__',\n",
       " '__init_subclass__',\n",
       " '__iter__',\n",
       " '__le__',\n",
       " '__len__',\n",
       " '__lt__',\n",
       " '__mul__',\n",
       " '__ne__',\n",
       " '__new__',\n",
       " '__reduce__',\n",
       " '__reduce_ex__',\n",
       " '__repr__',\n",
       " '__rmul__',\n",
       " '__setattr__',\n",
       " '__sizeof__',\n",
       " '__str__',\n",
       " '__subclasshook__',\n",
       " 'count',\n",
       " 'index']"
      ]
     },
     "execution_count": 27,
     "metadata": {},
     "output_type": "execute_result"
    }
   ],
   "source": [
    "dir(calculate_stats([1, 2, 3, 4, 5]))"
   ]
  },
  {
   "cell_type": "code",
   "execution_count": 28,
   "id": "cd3bb839",
   "metadata": {},
   "outputs": [
    {
     "data": {
      "text/plain": [
       "1.732051615138131"
      ]
     },
     "execution_count": 28,
     "metadata": {},
     "output_type": "execute_result"
    }
   ],
   "source": [
    "import math\n",
    "3 /  1.73205"
   ]
  },
  {
   "cell_type": "code",
   "execution_count": 29,
   "id": "0c466917",
   "metadata": {},
   "outputs": [
    {
     "data": {
      "text/plain": [
       "1.7320508075688772"
      ]
     },
     "execution_count": 29,
     "metadata": {},
     "output_type": "execute_result"
    }
   ],
   "source": [
    "math.sqrt(3)"
   ]
  },
  {
   "cell_type": "code",
   "execution_count": 30,
   "id": "762cf7ef",
   "metadata": {},
   "outputs": [
    {
     "data": {
      "text/plain": [
       "matrix([[22, 28],\n",
       "        [49, 64]])"
      ]
     },
     "execution_count": 30,
     "metadata": {},
     "output_type": "execute_result"
    }
   ],
   "source": [
    "np.matrix([[1,2,3],[4,5,6]]) * np.matrix([[1,2],\n",
    "                                          [3,4],\n",
    "                                          [5,6]]) "
   ]
  },
  {
   "cell_type": "code",
   "execution_count": 31,
   "id": "c10f36ac",
   "metadata": {},
   "outputs": [
    {
     "name": "stdout",
     "output_type": "stream",
     "text": [
      "b1 = 0.12096774193548386\n",
      "b0 = 3.870967741935484\n"
     ]
    }
   ],
   "source": [
    "import numpy as np\n",
    "import matplotlib.pyplot as plt\n",
    "\n",
    "# Sample data\n",
    "x = [1, 2, 3, 4, 5, 3, 6]\n",
    "y = [2, 4, 5, 4, 5, 7, 3]\n",
    "\n",
    "# Mean of x and y\n",
    "mean_x = np.mean(x)\n",
    "mean_y = np.mean(y)\n",
    "\n",
    "# Total number of observations\n",
    "n = len(x)\n",
    "\n",
    "# Using the formula to calculate the b1 and b0\n",
    "numer = 0\n",
    "denom = 0\n",
    "for i in range(n):\n",
    "    numer += (x[i] - mean_x) * (y[i] - mean_y)\n",
    "    denom += (x[i] - mean_x) ** 2\n",
    "b1 = numer / denom\n",
    "b0 = mean_y - (b1 * mean_x)\n",
    "\n",
    "# Print coefficients\n",
    "print(\"b1 =\", b1)\n",
    "print(\"b0 =\", b0)"
   ]
  },
  {
   "cell_type": "code",
   "execution_count": 33,
   "id": "3f68a0b9",
   "metadata": {},
   "outputs": [
    {
     "data": {
      "image/png": "[encoded data removed]",
      "text/plain": [
       "<Figure size 600x400 with 1 Axes>"
      ]
     },
     "metadata": {},
     "output_type": "display_data"
    }
   ],
   "source": [
    "def f(x2):\n",
    "    return 0.6*x2 + 2.2\n",
    "y2 = np.arange(9)\n",
    "\n",
    "plt.figure(facecolor='grey',dpi = 100)\n",
    "\n",
    "\n",
    "plt.axes().set_facecolor('grey')\n",
    "plt.scatter(x,y, c ='black')\n",
    "plt.plot(y2, f(y2), c ='r')\n",
    "plt.show()"
   ]
  },
  {
   "cell_type": "markdown",
   "id": "220b4a2a",
   "metadata": {},
   "source": [
    "- $Q = {q_1, q_2, ..., q_n}$ is the set of states\n",
    "- $\\Sigma = {a_1, a_2, ..., a_m}$ is the set of input symbols\n",
    "- $q_0$ is the initial state\n",
    "- $F = {f_1, f_2, ..., f_n}$ is the set of final or accepting states\n",
    "- $\\delta : Q \\times \\Sigma \\rightarrow Q$ is the transition function, where $\\delta(q_i, a_j) = q_k$ is the next state when the machine is in state $q_i$ and receives input symbol $a_j$"
   ]
  },
  {
   "cell_type": "code",
   "execution_count": null,
   "id": "42188008",
   "metadata": {},
   "outputs": [],
   "source": []
  }
 ],
 "metadata": {
  "kernelspec": {
   "display_name": "Python 3 (ipykernel)",
   "language": "python",
   "name": "python3"
  },
  "language_info": {
   "codemirror_mode": {
    "name": "ipython",
    "version": 3
   },
   "file_extension": ".py",
   "mimetype": "text/x-python",
   "name": "python",
   "nbconvert_exporter": "python",
   "pygments_lexer": "ipython3",
   "version": "3.9.12"
  }
 },
 "nbformat": 4,
 "nbformat_minor": 5
}
