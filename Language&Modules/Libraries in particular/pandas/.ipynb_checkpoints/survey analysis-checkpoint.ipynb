{
 "cells": [
  {
   "cell_type": "code",
   "execution_count": 1,
   "id": "a59f8c99",
   "metadata": {},
   "outputs": [],
   "source": [
    "import pandas as pd\n",
    "import numpy as np\n",
    "import matplotlib.pyplot as plt\n",
    "\n",
    "df = pd.read_csv('data/survey_results_public.csv', index_col= 'Respondent')"
   ]
  },
  {
   "cell_type": "code",
   "execution_count": 2,
   "id": "f4c4c465",
   "metadata": {},
   "outputs": [],
   "source": [
    "#df.shape"
   ]
  },
  {
   "cell_type": "code",
   "execution_count": 3,
   "id": "7ef7cfb9",
   "metadata": {},
   "outputs": [],
   "source": [
    "#df.columns"
   ]
  },
  {
   "cell_type": "code",
   "execution_count": 4,
   "id": "27a3b798",
   "metadata": {},
   "outputs": [
    {
     "name": "stdout",
     "output_type": "stream",
     "text": [
      "<class 'pandas.core.frame.DataFrame'>\n",
      "Int64Index: 64461 entries, 1 to 65112\n",
      "Data columns (total 60 columns):\n",
      " #   Column                        Non-Null Count  Dtype  \n",
      "---  ------                        --------------  -----  \n",
      " 0   MainBranch                    64162 non-null  object \n",
      " 1   Hobbyist                      64416 non-null  object \n",
      " 2   Age                           45446 non-null  float64\n",
      " 3   Age1stCode                    57900 non-null  object \n",
      " 4   CompFreq                      40069 non-null  object \n",
      " 5   CompTotal                     34826 non-null  float64\n",
      " 6   ConvertedComp                 34756 non-null  float64\n",
      " 7   Country                       64072 non-null  object \n",
      " 8   CurrencyDesc                  45472 non-null  object \n",
      " 9   CurrencySymbol                45472 non-null  object \n",
      " 10  DatabaseDesireNextYear        44070 non-null  object \n",
      " 11  DatabaseWorkedWith            49537 non-null  object \n",
      " 12  DevType                       49370 non-null  object \n",
      " 13  EdLevel                       57431 non-null  object \n",
      " 14  Employment                    63854 non-null  object \n",
      " 15  Ethnicity                     45948 non-null  object \n",
      " 16  Gender                        50557 non-null  object \n",
      " 17  JobFactors                    49349 non-null  object \n",
      " 18  JobSat                        45194 non-null  object \n",
      " 19  JobSeek                       51727 non-null  object \n",
      " 20  LanguageDesireNextYear        54113 non-null  object \n",
      " 21  LanguageWorkedWith            57378 non-null  object \n",
      " 22  MiscTechDesireNextYear        42379 non-null  object \n",
      " 23  MiscTechWorkedWith            40314 non-null  object \n",
      " 24  NEWCollabToolsDesireNextYear  47287 non-null  object \n",
      " 25  NEWCollabToolsWorkedWith      52883 non-null  object \n",
      " 26  NEWDevOps                     42686 non-null  object \n",
      " 27  NEWDevOpsImpt                 41732 non-null  object \n",
      " 28  NEWEdImpt                     48465 non-null  object \n",
      " 29  NEWJobHunt                    42286 non-null  object \n",
      " 30  NEWJobHuntResearch            41022 non-null  object \n",
      " 31  NEWLearn                      56156 non-null  object \n",
      " 32  NEWOffTopic                   50804 non-null  object \n",
      " 33  NEWOnboardGood                42623 non-null  object \n",
      " 34  NEWOtherComms                 57205 non-null  object \n",
      " 35  NEWOvertime                   43231 non-null  object \n",
      " 36  NEWPurchaseResearch           37321 non-null  object \n",
      " 37  NEWPurpleLink                 54803 non-null  object \n",
      " 38  NEWSOSites                    58275 non-null  object \n",
      " 39  NEWStuck                      54983 non-null  object \n",
      " 40  OpSys                         56228 non-null  object \n",
      " 41  OrgSize                       44334 non-null  object \n",
      " 42  PlatformDesireNextYear        50605 non-null  object \n",
      " 43  PlatformWorkedWith            53843 non-null  object \n",
      " 44  PurchaseWhat                  39364 non-null  object \n",
      " 45  Sexuality                     43992 non-null  object \n",
      " 46  SOAccount                     56805 non-null  object \n",
      " 47  SOComm                        56476 non-null  object \n",
      " 48  SOPartFreq                    46792 non-null  object \n",
      " 49  SOVisitFreq                   56970 non-null  object \n",
      " 50  SurveyEase                    51802 non-null  object \n",
      " 51  SurveyLength                  51701 non-null  object \n",
      " 52  Trans                         49345 non-null  object \n",
      " 53  UndergradMajor                50995 non-null  object \n",
      " 54  WebframeDesireNextYear        40024 non-null  object \n",
      " 55  WebframeWorkedWith            42279 non-null  object \n",
      " 56  WelcomeChange                 52683 non-null  object \n",
      " 57  WorkWeekHrs                   41151 non-null  float64\n",
      " 58  YearsCode                     57684 non-null  object \n",
      " 59  YearsCodePro                  46349 non-null  object \n",
      "dtypes: float64(4), object(56)\n",
      "memory usage: 30.0+ MB\n"
     ]
    }
   ],
   "source": [
    "df.info()"
   ]
  },
  {
   "cell_type": "code",
   "execution_count": 5,
   "id": "0cc81d6c",
   "metadata": {},
   "outputs": [],
   "source": [
    "pd.set_option('display.max_columns', 61)\n",
    "pd.set_option('display.max_rows', 61)"
   ]
  },
  {
   "cell_type": "code",
   "execution_count": 6,
   "id": "060d809b",
   "metadata": {},
   "outputs": [
    {
     "data": {
      "text/plain": [
       "'Developer, desktop or enterprise applications;Developer, full-stack'"
      ]
     },
     "execution_count": 6,
     "metadata": {},
     "output_type": "execute_result"
    }
   ],
   "source": [
    "df.loc[1,'DevType']"
   ]
  },
  {
   "cell_type": "code",
   "execution_count": 7,
   "id": "7aafc420",
   "metadata": {},
   "outputs": [
    {
     "data": {
      "text/plain": [
       "United States     12469\n",
       "India              8403\n",
       "United Kingdom     3896\n",
       "Germany            3890\n",
       "Canada             2191\n",
       "France             1898\n",
       "Name: Country, dtype: int64"
      ]
     },
     "execution_count": 7,
     "metadata": {},
     "output_type": "execute_result"
    }
   ],
   "source": [
    "df['Country'].value_counts()[:6]"
   ]
  },
  {
   "cell_type": "code",
   "execution_count": 8,
   "id": "fae0f077",
   "metadata": {},
   "outputs": [
    {
     "data": {
      "image/png": "[encoded data removed]",
      "text/plain": [
       "<Figure size 640x480 with 1 Axes>"
      ]
     },
     "metadata": {},
     "output_type": "display_data"
    }
   ],
   "source": [
    "plt.figure(facecolor = '0.3')\n",
    "plt.axes().set_facecolor('grey')\n",
    "\n",
    "top_country = df['Country'].value_counts()[:5]\n",
    "\n",
    "plt.bar(top_country.index,top_country, color = 'black')\n",
    "plt.show()"
   ]
  },
  {
   "cell_type": "code",
   "execution_count": 9,
   "id": "4c404f54",
   "metadata": {},
   "outputs": [],
   "source": [
    "filter1 = (df['Country'] == 'Germany')\n",
    "\n",
    "filter2 = (df['Country'] == 'United States') & (df['Hobbyist'] == 'Yes')\n",
    "\n",
    "filter3 = df['ConvertedComp'] > 70000\n",
    "\n",
    "filter4 = df['Country'].isin(['United States', 'Germany', 'India', 'United Kingdom', 'Canada'])\n",
    "\n",
    "filter5 = df['LanguageWorkedWith'].str.contains('Python', na = False)\n",
    "\n",
    "\n",
    "highsalary_ages = df.loc[filter3, 'Age'].value_counts()\n",
    "\n",
    "#len(df.loc[filt]) \n",
    "\n",
    "b = len(df.loc[filter2])"
   ]
  },
  {
   "cell_type": "code",
   "execution_count": 10,
   "id": "5d329846",
   "metadata": {},
   "outputs": [
    {
     "data": {
      "text/plain": [
       "30.0"
      ]
     },
     "execution_count": 10,
     "metadata": {},
     "output_type": "execute_result"
    }
   ],
   "source": [
    "np.nanmedian(df.loc[filter1,'Age'])"
   ]
  },
  {
   "cell_type": "code",
   "execution_count": 11,
   "id": "af5f5d06",
   "metadata": {},
   "outputs": [
    {
     "data": {
      "text/plain": [
       "30.890311082307193"
      ]
     },
     "execution_count": 11,
     "metadata": {},
     "output_type": "execute_result"
    }
   ],
   "source": [
    "np.nanmean(df.loc[filter1,'Age'])"
   ]
  },
  {
   "cell_type": "code",
   "execution_count": 12,
   "id": "fa014c33",
   "metadata": {},
   "outputs": [
    {
     "data": {
      "text/plain": [
       "Respondent\n",
       "1                   Germany\n",
       "2            United Kingdom\n",
       "3        Russian Federation\n",
       "4                   Albania\n",
       "5             United States\n",
       "                ...        \n",
       "64858         United States\n",
       "64867               Morocco\n",
       "64898              Viet Nam\n",
       "64925                Poland\n",
       "65112                 Spain\n",
       "Name: Country, Length: 51283, dtype: object"
      ]
     },
     "execution_count": 12,
     "metadata": {},
     "output_type": "execute_result"
    }
   ],
   "source": [
    "df.loc[-filter3, 'Country']"
   ]
  },
  {
   "cell_type": "code",
   "execution_count": 13,
   "id": "241ffe76",
   "metadata": {},
   "outputs": [
    {
     "data": {
      "text/plain": [
       "Respondent\n",
       "1                         C#;HTML/CSS;JavaScript\n",
       "2                               JavaScript;Swift\n",
       "5                              HTML/CSS;Ruby;SQL\n",
       "6                       HTML/CSS;Java;JavaScript\n",
       "7                                C#;HTML/CSS;PHP\n",
       "                          ...                   \n",
       "62834                              C;C#;C++;Java\n",
       "62954                                        SQL\n",
       "63077    C++;HTML/CSS;Java;JavaScript;Python;SQL\n",
       "64236                                        NaN\n",
       "64858                                        NaN\n",
       "Name: LanguageWorkedWith, Length: 30849, dtype: object"
      ]
     },
     "execution_count": 13,
     "metadata": {},
     "output_type": "execute_result"
    }
   ],
   "source": [
    "df.loc[filter4, 'LanguageWorkedWith']"
   ]
  },
  {
   "cell_type": "code",
   "execution_count": 14,
   "id": "c0a2b8c8",
   "metadata": {},
   "outputs": [],
   "source": [
    "#df.columns = range(1,61,1)"
   ]
  },
  {
   "cell_type": "code",
   "execution_count": 15,
   "id": "64c07d49",
   "metadata": {},
   "outputs": [
    {
     "data": {
      "text/plain": [
       "Respondent\n",
       "1               Germany\n",
       "2        United Kingdom\n",
       "4               Albania\n",
       "5         United States\n",
       "6               Germany\n",
       "              ...      \n",
       "64567       Netherlands\n",
       "64858     United States\n",
       "64898          Viet Nam\n",
       "64925            Poland\n",
       "65112             Spain\n",
       "Name: Country, Length: 39174, dtype: object"
      ]
     },
     "execution_count": 15,
     "metadata": {},
     "output_type": "execute_result"
    }
   ],
   "source": [
    "df.loc[-filter5, 'Country']"
   ]
  },
  {
   "cell_type": "code",
   "execution_count": 16,
   "id": "9924f908",
   "metadata": {},
   "outputs": [
    {
     "data": {
      "text/plain": [
       "Respondent\n",
       "3                                 Objective-C;Python;Swift\n",
       "8                                               Python;SQL\n",
       "10                     HTML/CSS;Java;JavaScript;Python;SQL\n",
       "13                                     C;JavaScript;Python\n",
       "15        Bash/Shell/PowerShell;C;HTML/CSS;Java;Python;SQL\n",
       "                               ...                        \n",
       "61561    Bash/Shell/PowerShell;HTML/CSS;JavaScript;Perl...\n",
       "62391       C++;HTML/CSS;JavaScript;Python;Ruby;TypeScript\n",
       "63077              C++;HTML/CSS;Java;JavaScript;Python;SQL\n",
       "63640    Bash/Shell/PowerShell;C;C#;C++;HTML/CSS;Java;J...\n",
       "64867    Assembly;Bash/Shell/PowerShell;C;C#;C++;Dart;G...\n",
       "Name: LanguageWorkedWith, Length: 25287, dtype: object"
      ]
     },
     "execution_count": 16,
     "metadata": {},
     "output_type": "execute_result"
    }
   ],
   "source": [
    "df.loc[filter5,'LanguageWorkedWith']"
   ]
  }
 ],
 "metadata": {
  "kernelspec": {
   "display_name": "Python 3 (ipykernel)",
   "language": "python",
   "name": "python3"
  },
  "language_info": {
   "codemirror_mode": {
    "name": "ipython",
    "version": 3
   },
   "file_extension": ".py",
   "mimetype": "text/x-python",
   "name": "python",
   "nbconvert_exporter": "python",
   "pygments_lexer": "ipython3",
   "version": "3.9.13"
  }
 },
 "nbformat": 4,
 "nbformat_minor": 5
}
