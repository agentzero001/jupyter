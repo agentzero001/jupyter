{
 "cells": [
  {
   "cell_type": "code",
   "execution_count": 116,
   "id": "77de8c8a",
   "metadata": {},
   "outputs": [],
   "source": [
    "import pandas as pd\n",
    "import numpy as np\n",
    "import matplotlib.pyplot as plt"
   ]
  },
  {
   "cell_type": "code",
   "execution_count": 117,
   "id": "4f2d9d5f",
   "metadata": {},
   "outputs": [],
   "source": [
    "df = pd.read_csv('data/titanic.csv', index_col='PassengerId')"
   ]
  },
  {
   "cell_type": "code",
   "execution_count": 118,
   "id": "0173f157",
   "metadata": {},
   "outputs": [
    {
     "name": "stdout",
     "output_type": "stream",
     "text": [
      "<class 'pandas.core.frame.DataFrame'>\n",
      "Int64Index: 891 entries, 1 to 891\n",
      "Data columns (total 11 columns):\n",
      " #   Column    Non-Null Count  Dtype  \n",
      "---  ------    --------------  -----  \n",
      " 0   Survived  891 non-null    int64  \n",
      " 1   Pclass    891 non-null    int64  \n",
      " 2   Name      891 non-null    object \n",
      " 3   Sex       891 non-null    object \n",
      " 4   Age       714 non-null    float64\n",
      " 5   SibSp     891 non-null    int64  \n",
      " 6   Parch     891 non-null    int64  \n",
      " 7   Ticket    891 non-null    object \n",
      " 8   Fare      891 non-null    float64\n",
      " 9   Cabin     204 non-null    object \n",
      " 10  Embarked  889 non-null    object \n",
      "dtypes: float64(2), int64(4), object(5)\n",
      "memory usage: 83.5+ KB\n"
     ]
    }
   ],
   "source": [
    "df.info()"
   ]
  },
  {
   "cell_type": "code",
   "execution_count": 119,
   "id": "62090059",
   "metadata": {},
   "outputs": [
    {
     "data": {
      "text/html": [
       "<div>\n",
       "<style scoped>\n",
       "    .dataframe tbody tr th:only-of-type {\n",
       "        vertical-align: middle;\n",
       "    }\n",
       "\n",
       "    .dataframe tbody tr th {\n",
       "        vertical-align: top;\n",
       "    }\n",
       "\n",
       "    .dataframe thead th {\n",
       "        text-align: right;\n",
       "    }\n",
       "</style>\n",
       "<table border=\"1\" class=\"dataframe\">\n",
       "  <thead>\n",
       "    <tr style=\"text-align: right;\">\n",
       "      <th></th>\n",
       "      <th>Survived</th>\n",
       "      <th>Pclass</th>\n",
       "      <th>Name</th>\n",
       "      <th>Sex</th>\n",
       "    </tr>\n",
       "    <tr>\n",
       "      <th>PassengerId</th>\n",
       "      <th></th>\n",
       "      <th></th>\n",
       "      <th></th>\n",
       "      <th></th>\n",
       "    </tr>\n",
       "  </thead>\n",
       "  <tbody>\n",
       "    <tr>\n",
       "      <th>1</th>\n",
       "      <td>0</td>\n",
       "      <td>3</td>\n",
       "      <td>Braund, Mr. Owen Harris</td>\n",
       "      <td>male</td>\n",
       "    </tr>\n",
       "    <tr>\n",
       "      <th>2</th>\n",
       "      <td>1</td>\n",
       "      <td>1</td>\n",
       "      <td>Cumings, Mrs. John Bradley (Florence Briggs Th...</td>\n",
       "      <td>female</td>\n",
       "    </tr>\n",
       "    <tr>\n",
       "      <th>3</th>\n",
       "      <td>1</td>\n",
       "      <td>3</td>\n",
       "      <td>Heikkinen, Miss. Laina</td>\n",
       "      <td>female</td>\n",
       "    </tr>\n",
       "    <tr>\n",
       "      <th>4</th>\n",
       "      <td>1</td>\n",
       "      <td>1</td>\n",
       "      <td>Futrelle, Mrs. Jacques Heath (Lily May Peel)</td>\n",
       "      <td>female</td>\n",
       "    </tr>\n",
       "    <tr>\n",
       "      <th>5</th>\n",
       "      <td>0</td>\n",
       "      <td>3</td>\n",
       "      <td>Allen, Mr. William Henry</td>\n",
       "      <td>male</td>\n",
       "    </tr>\n",
       "  </tbody>\n",
       "</table>\n",
       "</div>"
      ],
      "text/plain": [
       "             Survived  Pclass  \\\n",
       "PassengerId                     \n",
       "1                   0       3   \n",
       "2                   1       1   \n",
       "3                   1       3   \n",
       "4                   1       1   \n",
       "5                   0       3   \n",
       "\n",
       "                                                          Name     Sex  \n",
       "PassengerId                                                             \n",
       "1                                      Braund, Mr. Owen Harris    male  \n",
       "2            Cumings, Mrs. John Bradley (Florence Briggs Th...  female  \n",
       "3                                       Heikkinen, Miss. Laina  female  \n",
       "4                 Futrelle, Mrs. Jacques Heath (Lily May Peel)  female  \n",
       "5                                     Allen, Mr. William Henry    male  "
      ]
     },
     "execution_count": 119,
     "metadata": {},
     "output_type": "execute_result"
    }
   ],
   "source": [
    "df.iloc[:5, :4]"
   ]
  },
  {
   "cell_type": "code",
   "execution_count": 120,
   "id": "f3551920",
   "metadata": {},
   "outputs": [],
   "source": [
    "ppl_survived = len(df[df['Survived'] == 1])\n",
    "ppl_data = len(df)"
   ]
  },
  {
   "cell_type": "code",
   "execution_count": 121,
   "id": "1f9988cd",
   "metadata": {},
   "outputs": [
    {
     "data": {
      "text/plain": [
       "38.38"
      ]
     },
     "execution_count": 121,
     "metadata": {},
     "output_type": "execute_result"
    }
   ],
   "source": [
    "#38.38% of the people in the data survived\n",
    "round(ppl_survived / ppl_data * 100, 2)"
   ]
  },
  {
   "cell_type": "code",
   "execution_count": 122,
   "id": "4bd356c1",
   "metadata": {},
   "outputs": [],
   "source": [
    "Ages = df['Age']\n",
    "Ages_filter_s = (df['Age'] > 50) & (df['Survived'] == 0)\n",
    "Ages_filter_d = (df['Age'] > 50) & (df['Survived'] == 1)\n",
    "Ages_filter = df['Age'] > 50"
   ]
  },
  {
   "cell_type": "code",
   "execution_count": 123,
   "id": "57f05804",
   "metadata": {},
   "outputs": [
    {
     "data": {
      "text/plain": [
       "65.62"
      ]
     },
     "execution_count": 123,
     "metadata": {},
     "output_type": "execute_result"
    }
   ],
   "source": [
    "#the percentage of passengers who survived above age 49 in the data\n",
    "round(len(df[Ages_filter_s]) / len(df[Ages_filter]), 4) * 100"
   ]
  },
  {
   "cell_type": "code",
   "execution_count": 124,
   "id": "bfa44421",
   "metadata": {},
   "outputs": [
    {
     "data": {
      "text/plain": [
       "PassengerId\n",
       "1     22.0\n",
       "2     38.0\n",
       "3     26.0\n",
       "4     35.0\n",
       "5     35.0\n",
       "6      NaN\n",
       "7     54.0\n",
       "8      2.0\n",
       "9     27.0\n",
       "10    14.0\n",
       "11     4.0\n",
       "12    58.0\n",
       "13    20.0\n",
       "14    39.0\n",
       "15    14.0\n",
       "16    55.0\n",
       "17     2.0\n",
       "18     NaN\n",
       "19    31.0\n",
       "20     NaN\n",
       "Name: Age, dtype: float64"
      ]
     },
     "execution_count": 124,
     "metadata": {},
     "output_type": "execute_result"
    }
   ],
   "source": [
    "Ages[:20]"
   ]
  },
  {
   "cell_type": "code",
   "execution_count": null,
   "id": "b703696f",
   "metadata": {},
   "outputs": [],
   "source": []
  },
  {
   "cell_type": "code",
   "execution_count": null,
   "id": "b7730229",
   "metadata": {},
   "outputs": [],
   "source": []
  }
 ],
 "metadata": {
  "kernelspec": {
   "display_name": "Python 3 (ipykernel)",
   "language": "python",
   "name": "python3"
  },
  "language_info": {
   "codemirror_mode": {
    "name": "ipython",
    "version": 3
   },
   "file_extension": ".py",
   "mimetype": "text/x-python",
   "name": "python",
   "nbconvert_exporter": "python",
   "pygments_lexer": "ipython3",
   "version": "3.9.13"
  }
 },
 "nbformat": 4,
 "nbformat_minor": 5
}
