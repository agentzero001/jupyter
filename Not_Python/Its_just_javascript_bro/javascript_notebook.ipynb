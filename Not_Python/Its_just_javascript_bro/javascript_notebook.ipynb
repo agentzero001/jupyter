{
 "cells": [
  {
   "cell_type": "markdown",
   "id": "da92f98e",
   "metadata": {},
   "source": [
    "The basics of javascript"
   ]
  },
  {
   "cell_type": "code",
   "execution_count": 1,
   "id": "b5ca763f",
   "metadata": {},
   "outputs": [
    {
     "data": {
      "text/plain": [
       "0"
      ]
     },
     "execution_count": 1,
     "metadata": {},
     "output_type": "execute_result"
    }
   ],
   "source": [
    "2 - \"2\""
   ]
  },
  {
   "cell_type": "code",
   "execution_count": 2,
   "id": "9e085c66",
   "metadata": {},
   "outputs": [
    {
     "data": {
      "text/plain": [
       "'22'"
      ]
     },
     "execution_count": 2,
     "metadata": {},
     "output_type": "execute_result"
    }
   ],
   "source": [
    "2 + \"2\""
   ]
  },
  {
   "cell_type": "code",
   "execution_count": 3,
   "id": "2c225670",
   "metadata": {},
   "outputs": [
    {
     "data": {
      "text/plain": [
       "0"
      ]
     },
     "execution_count": 3,
     "metadata": {},
     "output_type": "execute_result"
    }
   ],
   "source": [
    "{} + []"
   ]
  },
  {
   "cell_type": "code",
   "execution_count": 4,
   "id": "fcb6fe46",
   "metadata": {},
   "outputs": [
    {
     "data": {
      "text/plain": [
       "'[object Object]'"
      ]
     },
     "execution_count": 4,
     "metadata": {},
     "output_type": "execute_result"
    }
   ],
   "source": [
    "[] + {} // ok"
   ]
  },
  {
   "cell_type": "code",
   "execution_count": 5,
   "id": "ceb1334a",
   "metadata": {},
   "outputs": [
    {
     "data": {
      "text/plain": [
       "NaN"
      ]
     },
     "execution_count": 5,
     "metadata": {},
     "output_type": "execute_result"
    }
   ],
   "source": [
    "{} + {}"
   ]
  },
  {
   "cell_type": "code",
   "execution_count": 6,
   "id": "bf554011",
   "metadata": {},
   "outputs": [
    {
     "data": {
      "text/plain": [
       "''"
      ]
     },
     "execution_count": 6,
     "metadata": {},
     "output_type": "execute_result"
    }
   ],
   "source": [
    "[] + []"
   ]
  },
  {
   "cell_type": "code",
   "execution_count": 7,
   "id": "5346f586",
   "metadata": {},
   "outputs": [
    {
     "data": {
      "text/plain": [
       "[]"
      ]
     },
     "execution_count": 7,
     "metadata": {},
     "output_type": "execute_result"
    }
   ],
   "source": [
    "[]"
   ]
  },
  {
   "cell_type": "code",
   "execution_count": 8,
   "id": "e4807e51",
   "metadata": {},
   "outputs": [
    {
     "data": {
      "text/plain": [
       "true"
      ]
     },
     "execution_count": 8,
     "metadata": {},
     "output_type": "execute_result"
    }
   ],
   "source": [
    "0 == []"
   ]
  },
  {
   "cell_type": "code",
   "execution_count": 9,
   "id": "7e884686",
   "metadata": {},
   "outputs": [
    {
     "data": {
      "text/plain": [
       "true"
      ]
     },
     "execution_count": 9,
     "metadata": {},
     "output_type": "execute_result"
    }
   ],
   "source": [
    "0 == '0'"
   ]
  },
  {
   "cell_type": "code",
   "execution_count": 10,
   "id": "9421b93b",
   "metadata": {},
   "outputs": [
    {
     "data": {
      "text/plain": [
       "false"
      ]
     },
     "execution_count": 10,
     "metadata": {},
     "output_type": "execute_result"
    }
   ],
   "source": [
    "'0' == []"
   ]
  },
  {
   "cell_type": "code",
   "execution_count": 11,
   "id": "8bee514d",
   "metadata": {},
   "outputs": [
    {
     "ename": "SyntaxError",
     "evalue": "Unexpected token '%'",
     "output_type": "error",
     "traceback": [
      "evalmachine.<anonymous>:1",
      "%magic // we cannot do magic in here",
      "^",
      "",
      "SyntaxError: Unexpected token '%'",
      "    at new Script (node:vm:94:7)",
      "    at createScript (node:vm:251:10)",
      "    at Object.runInThisContext (node:vm:299:10)",
      "    at run ([eval]:1020:15)",
      "    at onRunRequest ([eval]:864:18)",
      "    at onMessage ([eval]:828:13)",
      "    at process.emit (node:events:517:28)",
      "    at emit (node:internal/child_process:944:14)",
      "    at process.processTicksAndRejections (node:internal/process/task_queues:83:21)"
     ]
    }
   ],
   "source": [
    "%magic // we cannot do magic in here"
   ]
  },
  {
   "cell_type": "code",
   "execution_count": 12,
   "id": "d51c9aa8",
   "metadata": {},
   "outputs": [],
   "source": [
    "var my_func = function(s) {\n",
    "    return function(n) {\n",
    "        var r = ''\n",
    "        while (n > 0) {\n",
    "            r += s;\n",
    "            n--;\n",
    "        }\n",
    "        return r;\n",
    "    }\n",
    "}"
   ]
  },
  {
   "cell_type": "code",
   "execution_count": 13,
   "id": "a8f55f7d",
   "metadata": {},
   "outputs": [
    {
     "data": {
      "text/plain": [
       "[Function (anonymous)]"
      ]
     },
     "execution_count": 13,
     "metadata": {},
     "output_type": "execute_result"
    }
   ],
   "source": [
    "lol = my_func('hi')"
   ]
  },
  {
   "cell_type": "code",
   "execution_count": 14,
   "id": "27961b2f",
   "metadata": {},
   "outputs": [
    {
     "data": {
      "text/plain": [
       "'hihihihihi'"
      ]
     },
     "execution_count": 14,
     "metadata": {},
     "output_type": "execute_result"
    }
   ],
   "source": [
    "lol(5)"
   ]
  },
  {
   "cell_type": "code",
   "execution_count": 15,
   "id": "a148feb7",
   "metadata": {},
   "outputs": [],
   "source": [
    "class My_Func {\n",
    "    constructor(s) {\n",
    "        this.s = s;\n",
    "    }\n",
    "    generateString(n) {\n",
    "        let r = '';\n",
    "        while (n > 0) {\n",
    "            r += this.s;\n",
    "            n--;\n",
    "        }\n",
    "        return r;\n",
    "    }\n",
    "}"
   ]
  },
  {
   "cell_type": "code",
   "execution_count": 22,
   "id": "01f63fcb",
   "metadata": {},
   "outputs": [
    {
     "data": {
      "text/plain": [
       "My_Func { s: 'blabla' }"
      ]
     },
     "execution_count": 22,
     "metadata": {},
     "output_type": "execute_result"
    }
   ],
   "source": [
    "blablabla = new My_Func('blabla')"
   ]
  },
  {
   "cell_type": "code",
   "execution_count": 23,
   "id": "94c76b38",
   "metadata": {},
   "outputs": [
    {
     "data": {
      "text/plain": [
       "'blablablablablablablablablablablablablablablablablablablabla'"
      ]
     },
     "execution_count": 23,
     "metadata": {},
     "output_type": "execute_result"
    }
   ],
   "source": [
    "blablabla.generateString(10)"
   ]
  },
  {
   "cell_type": "code",
   "execution_count": 1,
   "id": "a9d027fa",
   "metadata": {},
   "outputs": [],
   "source": [
    "//let me just save this right here (i have no idea wether this is correct/complete)"
   ]
  },
  {
   "cell_type": "markdown",
   "id": "b6bda60e",
   "metadata": {},
   "source": [
    "### <u>Mouse Events:</u>\n",
    "- click\n",
    "- dblclick\n",
    "- mousedown\n",
    "- mouseenter\n",
    "- mouseleave\n",
    "- mousemove\n",
    "- mouseout\n",
    "- mouseover\n",
    "- mouseup\n",
    "\n",
    "### <u>Keyboard Events:</u>\n",
    "- keydown\n",
    "- keypress\n",
    "- keyup\n",
    "\n",
    "### <u>Form Events:</u>\n",
    "- blur\n",
    "- change\n",
    "- focus\n",
    "- input\n",
    "- submit\n",
    "- reset\n",
    "- select\n",
    "\n",
    "### <u>Window Events:</u>\n",
    "- load\n",
    "- unload\n",
    "- resize\n",
    "- scroll\n",
    "\n",
    "### <u>Touch Events:</u>\n",
    "- touchstart\n",
    "- touchmove\n",
    "- touchend\n",
    "- touchcancel\n",
    "\n",
    "### <u>Drag Events:</u>\n",
    "- drag\n",
    "- dragstart\n",
    "- dragend\n",
    "- dragenter\n",
    "- dragleave\n",
    "- dragover\n",
    "- drop\n",
    "\n",
    "### <u>Clipboard Events:</u>\n",
    "- copy\n",
    "- cut\n",
    "- paste\n",
    "\n",
    "### <u>Media Events:</u>\n",
    "- play\n",
    "- pause\n",
    "- ended\n",
    "- volumechange\n",
    "- durationchange\n",
    "- timeupdate\n",
    "\n",
    "### <u>Animation Events:</u>\n",
    "- animationstart\n",
    "- animationend\n",
    "- animationiteration\n",
    "\n",
    "### <u>Transition Events:</u>\n",
    "- transitionstart\n",
    "- transitionend\n",
    "- transitionrun"
   ]
  },
  {
   "cell_type": "markdown",
   "id": "48ee73d7",
   "metadata": {},
   "source": []
  },
  {
   "cell_type": "code",
   "execution_count": null,
   "id": "872b6f16",
   "metadata": {},
   "outputs": [],
   "source": []
  }
 ],
 "metadata": {
  "kernelspec": {
   "display_name": "JavaScript (Node.js)",
   "language": "javascript",
   "name": "javascript"
  },
  "language_info": {
   "file_extension": ".js",
   "mimetype": "application/javascript",
   "name": "javascript",
   "version": "18.18.2"
  }
 },
 "nbformat": 4,
 "nbformat_minor": 5
}
