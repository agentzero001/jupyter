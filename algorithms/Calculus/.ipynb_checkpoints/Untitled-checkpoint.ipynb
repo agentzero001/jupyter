{
 "cells": [
  {
   "cell_type": "code",
   "execution_count": 34,
   "id": "7a8823f5",
   "metadata": {},
   "outputs": [],
   "source": [
    "import matplotlib.pyplot as plt\n",
    "import numpy as np"
   ]
  },
  {
   "cell_type": "code",
   "execution_count": 35,
   "id": "e4aa5dd2",
   "metadata": {},
   "outputs": [
    {
     "data": {
      "image/png": "[encoded data removed]",
      "text/plain": [
       "<Figure size 1200x400 with 3 Axes>"
      ]
     },
     "metadata": {},
     "output_type": "display_data"
    }
   ],
   "source": [
    "def F(x):\n",
    "    return x**3\n",
    "\n",
    "def f(x):\n",
    "    return 3*x**2\n",
    "\n",
    "\n",
    "def df1(x):\n",
    "    return 6*x\n",
    "\n",
    "\n",
    "def df2(x):\n",
    "    return 6 + x*0\n",
    "\n",
    "\n",
    "x = np.linspace(-5, 10, 1000)\n",
    "\n",
    "\n",
    "fig, axs = plt.subplots(1, 3, facecolor='0.2',figsize=(12, 4),sharey = True)\n",
    "\n",
    "axs[0].plot(x, F(x), c = 'green')\n",
    "axs[1].plot(x, f(x), c = 'green')\n",
    "axs[2].plot(x, df1(x),c='green')\n",
    "\n",
    "\n",
    "axs[0].set_title(\"F(x) = x^3\")\n",
    "axs[1].set_title(\"f(x) = 3x^2\")\n",
    "axs[2].set_title(\"df1(x) = 6x\")\n",
    "\n",
    "for n in range(3):\n",
    "    axs[n].set_facecolor('black')\n",
    "    axs[n].axhline(y=0, c='white', lw=0.2)\n",
    "    axs[n].axvline(x=0, c='white', lw=0.2)\n",
    "\n",
    "    \n",
    "plt.show()"
   ]
  },
  {
   "cell_type": "code",
   "execution_count": 36,
   "id": "d5be6044",
   "metadata": {},
   "outputs": [],
   "source": [
    "def showdev(function):\n",
    "    \n",
    "    def F(x):\n",
    "        return function\n",
    "\n",
    "    def f(x):\n",
    "        return 3*x**2\n",
    "\n",
    "\n",
    "    def df1(x):\n",
    "        return 6*x\n",
    "\n",
    "\n",
    "    def df2(x):\n",
    "        return 6 + x*0\n",
    "    \n",
    "    F()"
   ]
  },
  {
   "cell_type": "code",
   "execution_count": 37,
   "id": "d4bb3eb6",
   "metadata": {},
   "outputs": [
    {
     "data": {
      "text/plain": [
       "81"
      ]
     },
     "execution_count": 37,
     "metadata": {},
     "output_type": "execute_result"
    }
   ],
   "source": [
    "x0 = 4\n",
    "x1 = 3\n",
    "x2 = 5\n",
    "x3 = 6\n",
    "x = 2\n",
    "\n",
    "x3*x**3 + x2*x**2 + x1**x + x0\n",
    "\n"
   ]
  },
  {
   "cell_type": "code",
   "execution_count": 38,
   "id": "5fe84b43",
   "metadata": {},
   "outputs": [],
   "source": [
    "coeffs = (4,3,5,6) #representing x**3 - x**0\n",
    "\n",
    "\n",
    "def F(x):\n",
    "    return coeffs[0]*x**3 + coeffs[1]*x**2 + coeffs[2]*x + coeffs[3]"
   ]
  },
  {
   "cell_type": "code",
   "execution_count": 39,
   "id": "65f819ba",
   "metadata": {},
   "outputs": [
    {
     "data": {
      "text/plain": [
       "60"
      ]
     },
     "execution_count": 39,
     "metadata": {},
     "output_type": "execute_result"
    }
   ],
   "source": [
    "F(2)"
   ]
  },
  {
   "cell_type": "code",
   "execution_count": 40,
   "id": "bc9f6531",
   "metadata": {},
   "outputs": [
    {
     "data": {
      "text/plain": [
       "4"
      ]
     },
     "execution_count": 40,
     "metadata": {},
     "output_type": "execute_result"
    }
   ],
   "source": [
    "coeffs[0]"
   ]
  },
  {
   "cell_type": "code",
   "execution_count": null,
   "id": "cf846128",
   "metadata": {},
   "outputs": [],
   "source": []
  }
 ],
 "metadata": {
  "kernelspec": {
   "display_name": "Python 3 (ipykernel)",
   "language": "python",
   "name": "python3"
  },
  "language_info": {
   "codemirror_mode": {
    "name": "ipython",
    "version": 3
   },
   "file_extension": ".py",
   "mimetype": "text/x-python",
   "name": "python",
   "nbconvert_exporter": "python",
   "pygments_lexer": "ipython3",
   "version": "3.9.13"
  }
 },
 "nbformat": 4,
 "nbformat_minor": 5
}
