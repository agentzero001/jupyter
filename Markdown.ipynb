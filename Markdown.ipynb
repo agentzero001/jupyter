{
 "cells": [
  {
   "cell_type": "markdown",
   "id": "d56f1389",
   "metadata": {},
   "source": [
    "# Überschrift "
   ]
  },
  {
   "cell_type": "markdown",
   "id": "112a6ee2",
   "metadata": {},
   "source": [
    "## $$\\alpha, \\beta, \\gamma, \\delta, \\epsilon, \\zeta, \\eta, \\theta, \\iota, \\kappa, \\lambda, \\mu, \\nu, \\xi, \\omicron, \\pi, \\rho, \\sigma, \\tau, \\upsilon, \\phi, \\chi, \\psi, \\omega$$\n"
   ]
  },
  {
   "cell_type": "markdown",
   "id": "2eeaf7ec",
   "metadata": {},
   "source": [
    "## $$x_i$$\n",
    "\n",
    "## $$a^x$$ \n",
    "$$\\frac{x}{\\alpha}$$"
   ]
  },
  {
   "cell_type": "markdown",
   "id": "aa5dbc33",
   "metadata": {},
   "source": [
    "## $\\sum, \\prod, \\int, \\partial, \\infty, \\nabla, \\leq, \\geq, \\times, \\div, \\pm, \\neq$\n",
    " "
   ]
  },
  {
   "cell_type": "markdown",
   "id": "ec912c51",
   "metadata": {},
   "source": [
    "## Link\n",
    "\n",
    "[Google](https://google.com)"
   ]
  },
  {
   "cell_type": "markdown",
   "id": "14d55052",
   "metadata": {},
   "source": [
    "![alt text](https://upload.wikimedia.org/wikipedia/commons/3/38/Jupyter_logo.svg)\n"
   ]
  },
  {
   "cell_type": "markdown",
   "id": "87920001",
   "metadata": {},
   "source": [
    "<img src=\"https://upload.wikimedia.org/wikipedia/commons/3/38/Jupyter_logo.svg\" width=\"200\" height=\"100\">"
   ]
  },
  {
   "cell_type": "markdown",
   "id": "c71f41b4",
   "metadata": {},
   "source": [
    "|Column 1|Column 2|\n",
    "|-|-|\n",
    "| Row 1, Column 1 | Row 1, Column 2 |\n",
    "| Row 2, Column 1 | Row 2, Column 2 |"
   ]
  },
  {
   "cell_type": "markdown",
   "id": "c545b3c7",
   "metadata": {},
   "source": [
    "|Index|Name|Alter|\n",
    "|-|-|-|\n",
    "|1|Jens|21\n",
    "|2|Jeff|32"
   ]
  },
  {
   "cell_type": "markdown",
   "id": "68af3071",
   "metadata": {},
   "source": [
    "--- "
   ]
  },
  {
   "cell_type": "markdown",
   "id": "a7e08e47",
   "metadata": {},
   "source": [
    "___"
   ]
  },
  {
   "cell_type": "markdown",
   "id": "c0f3ed51",
   "metadata": {},
   "source": [
    "***"
   ]
  },
  {
   "cell_type": "markdown",
   "id": "5019fdd3",
   "metadata": {},
   "source": [
    "1. bla \n",
    "2. bla bla\n",
    "- Bla bla  \n",
    "\n",
    "\n",
    " - bla bla bla\n",
    " - blabla bla\n",
    "     - blabla\n",
    "       - lol\n",
    "       - ok\n",
    "      \n",
    "\n"
   ]
  },
  {
   "cell_type": "code",
   "execution_count": null,
   "id": "defebc96",
   "metadata": {},
   "outputs": [],
   "source": []
  }
 ],
 "metadata": {
  "kernelspec": {
   "display_name": "Python 3 (ipykernel)",
   "language": "python",
   "name": "python3"
  },
  "language_info": {
   "codemirror_mode": {
    "name": "ipython",
    "version": 3
   },
   "file_extension": ".py",
   "mimetype": "text/x-python",
   "name": "python",
   "nbconvert_exporter": "python",
   "pygments_lexer": "ipython3",
   "version": "3.9.13"
  }
 },
 "nbformat": 4,
 "nbformat_minor": 5
}
