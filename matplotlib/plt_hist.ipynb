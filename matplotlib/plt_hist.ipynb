{
 "cells": [
  {
   "cell_type": "code",
   "execution_count": 1,
   "id": "b777b80e",
   "metadata": {},
   "outputs": [],
   "source": [
    "import matplotlib.pyplot as plt\n",
    "import numpy as np"
   ]
  },
  {
   "cell_type": "code",
   "execution_count": 2,
   "id": "5f905b92",
   "metadata": {},
   "outputs": [],
   "source": [
    "data = 7 * np.random.randn(10000) + 180\n",
    "new_data =  np.random.randn(1000)"
   ]
  },
  {
   "cell_type": "code",
   "execution_count": 3,
   "id": "58b38c5d",
   "metadata": {},
   "outputs": [
    {
     "data": {
      "image/png": "[encoded data removed]",
      "text/plain": [
       "<Figure size 800x200 with 2 Axes>"
      ]
     },
     "metadata": {},
     "output_type": "display_data"
    }
   ],
   "source": [
    "fig, ax = plt.subplots(1, 2, figsize=(8, 2),facecolor= '0.3')\n",
    "\n",
    "for i in range(2):\n",
    "    ax[i].set_facecolor('grey')\n",
    "\n",
    "ax[0].hist(data,range(150,210,1), color = 'black')\n",
    "ax[1].hist(new_data,20, color = 'black')\n",
    "\n",
    "plt.show()"
   ]
  },
  {
   "cell_type": "code",
   "execution_count": 4,
   "id": "5faa415d",
   "metadata": {},
   "outputs": [
    {
     "data": {
      "text/plain": [
       "(27, 53, 534)"
      ]
     },
     "execution_count": 4,
     "metadata": {},
     "output_type": "execute_result"
    }
   ],
   "source": [
    "filter1 = data < 160\n",
    "filter2 = (181 > data) & (data > 180)\n",
    "filter3 = (data < 160) | (data > 200)\n",
    "\n",
    "new_data = data[filter3]\n",
    "new_data.sort()\n",
    "len(data[filter1]),len(data[filter3]), len(data[filter2])"
   ]
  }
 ],
 "metadata": {
  "kernelspec": {
   "display_name": "Python 3 (ipykernel)",
   "language": "python",
   "name": "python3"
  },
  "language_info": {
   "codemirror_mode": {
    "name": "ipython",
    "version": 3
   },
   "file_extension": ".py",
   "mimetype": "text/x-python",
   "name": "python",
   "nbconvert_exporter": "python",
   "pygments_lexer": "ipython3",
   "version": "3.9.13"
  }
 },
 "nbformat": 4,
 "nbformat_minor": 5
}
