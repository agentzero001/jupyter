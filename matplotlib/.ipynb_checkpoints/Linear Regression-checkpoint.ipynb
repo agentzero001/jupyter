{
 "cells": [
  {
   "cell_type": "markdown",
   "id": "50421bf1",
   "metadata": {},
   "source": [
    "# $l(\\theta_{0},\\theta_{1}) = \\frac{1}{n} \\sum_{i = 1}^{n}(y_{i}- f(x_i))²$"
   ]
  },
  {
   "cell_type": "code",
   "execution_count": 5,
   "id": "b19a06eb",
   "metadata": {},
   "outputs": [],
   "source": [
    "import numpy as np\n",
    "import matplotlib.pyplot as plt"
   ]
  },
  {
   "cell_type": "code",
   "execution_count": 9,
   "id": "2eb12801",
   "metadata": {
    "scrolled": false
   },
   "outputs": [
    {
     "data": {
      "image/png": "[encoded data removed]",
      "text/plain": [
       "<Figure size 640x480 with 1 Axes>"
      ]
     },
     "metadata": {},
     "output_type": "display_data"
    },
    {
     "data": {
      "text/plain": [
       "[0.0, 10.098130956682692]"
      ]
     },
     "execution_count": 9,
     "metadata": {},
     "output_type": "execute_result"
    }
   ],
   "source": [
    "%matplotlib inline\n",
    "\n",
    "x = 3* np.random.rand(20,1)\n",
    "y = 2 * x + 0.4*np.random.randn(20,1) +1\n",
    "\n",
    "\n",
    "theta_1 = np.dot(x.ravel(),y.ravel())/np.dot(x.ravel(),x.ravel())\n",
    "\n",
    "\n",
    "plt.figure(facecolor='grey',dpi = 100)\n",
    "plt.axes().set_facecolor('grey')\n",
    "plt.axis([0,4,0,10])\n",
    "plt.scatter(x,y, color='black')\n",
    "axis = plt.gca()\n",
    "xmin,xmax = axis.get_xlim()\n",
    "plt.plot([xmin,xmax], [xmin*theta_1, xmax*theta_1],'red') \n",
    "\n",
    "plt.xlabel('$x$',fontsize= 20)\n",
    "plt.ylabel('$y$',fontsize= 20,rotation= 0)\n",
    "\n",
    "\n",
    "plt.show()\n",
    "[xmin*theta_1, xmax*theta_1]\n"
   ]
  },
  {
   "cell_type": "code",
   "execution_count": null,
   "id": "b04069e6",
   "metadata": {
    "scrolled": false
   },
   "outputs": [],
   "source": [
    "x1 = np.random.randint(10,100, size=(20))\n",
    "y1 = x1 + 0.5*np.random.randint(2,30, size=(20))\n",
    "\n",
    "\n",
    "plt.figure(facecolor='grey',dpi = 100)\n",
    "plt.axes().set_facecolor('grey')\n",
    "plt.axis([0,110,0,120])\n",
    "plt.scatter(x1,y1, color='black')\n",
    "#plt.plot(x2,y2, color ='red')\n",
    "plt.show()"
   ]
  },
  {
   "cell_type": "code",
   "execution_count": null,
   "id": "b7b2fbac",
   "metadata": {},
   "outputs": [],
   "source": [
    "Xsq = np.sum(x1*x1)\n",
    "Ysq = np.sum(y1*y1)\n",
    "XY = np.sum(x1*y1)\n",
    "n = len(x1)"
   ]
  },
  {
   "cell_type": "code",
   "execution_count": null,
   "id": "dca87316",
   "metadata": {},
   "outputs": [],
   "source": [
    "#%matplotlib notebook"
   ]
  },
  {
   "cell_type": "code",
   "execution_count": null,
   "id": "a50c8b75",
   "metadata": {
    "scrolled": true
   },
   "outputs": [],
   "source": [
    "#from mpl_toolkits.mplot3d import Axes3D\n",
    "\n",
    "#a,b = np.meshgrid(np.linspace(-1,3,50), np.linspace(-10,10,50))\n",
    "#r = (Xsq * a * a) + (2 * np.sum(x1) * a * b) + (n * b * b) - (2 * XY * a) - (2 * np.sum(y1) * b) + Ysq\n",
    "\n",
    "#fig = plt.figure()\n",
    "#ax = fig.gca(projection = '3d')\n",
    "#ax.set_xlabel('a')\n",
    "#ax.set_ylabel('b')\n",
    "#ax.plot_surface(a,b,r)\n",
    "#plt.show()\n"
   ]
  },
  {
   "cell_type": "code",
   "execution_count": null,
   "id": "e00d3e94",
   "metadata": {},
   "outputs": [],
   "source": [
    "def lift(arr):\n",
    "    arr = np.array(arr)\n",
    "    return arr.reshape((arr.shape[0],1))"
   ]
  },
  {
   "cell_type": "code",
   "execution_count": null,
   "id": "11e39f60",
   "metadata": {},
   "outputs": [],
   "source": [
    "from sklearn.linear_model import LinearRegression\n",
    "\n",
    "model = LinearRegression()\n",
    "model.fit(lift(x1), lift(y1))"
   ]
  },
  {
   "cell_type": "code",
   "execution_count": null,
   "id": "741c48fc",
   "metadata": {},
   "outputs": [],
   "source": [
    "model.predict([[40]])"
   ]
  },
  {
   "cell_type": "code",
   "execution_count": null,
   "id": "3065a220",
   "metadata": {},
   "outputs": [],
   "source": [
    "plt.figure(facecolor='grey',dpi = 100)\n",
    "plt.axes().set_facecolor('grey')\n",
    "plt.axis([0,110,0,120])\n",
    "plt.scatter(x1,y1, color='black',zorder=3)\n",
    "plt.plot([1,120],model.predict([[1],[120]]), color ='red',zorder=2)\n",
    "plt.grid(zorder=1)\n",
    "plt.show()"
   ]
  },
  {
   "cell_type": "code",
   "execution_count": null,
   "id": "62ef3429",
   "metadata": {},
   "outputs": [],
   "source": [
    "a1 = np.random.randint(10,100, size=(20))\n",
    "b1 = a1 + 0.5*np.random.randint(2,30, size=(20))\n",
    "c1 = np.random.randint(0,10, size=(20))\n"
   ]
  },
  {
   "cell_type": "code",
   "execution_count": null,
   "id": "2d45ad53",
   "metadata": {},
   "outputs": [],
   "source": [
    "%matplotlib notebook"
   ]
  },
  {
   "cell_type": "code",
   "execution_count": null,
   "id": "1d708e04",
   "metadata": {},
   "outputs": [],
   "source": [
    "fig = plt.figure(facecolor='grey')\n",
    "ax = fig.gca(projection = '3d')\n",
    "ax.set_facecolor('grey')\n",
    "ax.set_xlabel('a')\n",
    "ax.set_ylabel('b')\n",
    "\n",
    "ax.scatter(a1,c1,b1,c='Black')\n",
    "plt.show()"
   ]
  },
  {
   "cell_type": "code",
   "execution_count": null,
   "id": "e23993f6",
   "metadata": {},
   "outputs": [],
   "source": [
    "e1 = np.stack((a1,c1), axis = 1)\n",
    "e1"
   ]
  },
  {
   "cell_type": "code",
   "execution_count": null,
   "id": "8247dc32",
   "metadata": {},
   "outputs": [],
   "source": [
    "#a1 und c1: unabhänige variablen (input)\n",
    "#b1: abhängige variable (output)\n",
    "\n",
    "a1 = np.random.randint(10,100, size=(20))\n",
    "b1 = a1 + 0.5*np.random.randint(2,30, size=(20))\n",
    "c1 = np.random.randint(0,4, size=(20))\n",
    "\n",
    "\n",
    "model = LinearRegression()\n",
    "model.fit(np.stack((a1,c1), axis=1),lift(b1))\n",
    "\n",
    "\n",
    "sss =np.stack((a1,c1), axis=1)\n",
    "\n",
    "sss\n",
    "              "
   ]
  },
  {
   "cell_type": "code",
   "execution_count": null,
   "id": "ef8ad1c5",
   "metadata": {},
   "outputs": [],
   "source": [
    "m,v = np.meshgrid(np.linspace(10,100,4), np.linspace(-0.5,4.5,4))\n",
    "m,v"
   ]
  },
  {
   "cell_type": "code",
   "execution_count": null,
   "id": "f5468fa4",
   "metadata": {},
   "outputs": [],
   "source": [
    "g = np.stack((m.flatten(),v.flatten()), axis = 1)\n",
    "g"
   ]
  },
  {
   "cell_type": "code",
   "execution_count": null,
   "id": "eceb4694",
   "metadata": {},
   "outputs": [],
   "source": [
    "g = model.predict(g)[:,0].reshape(4,4)\n",
    "g"
   ]
  },
  {
   "cell_type": "code",
   "execution_count": null,
   "id": "e0a84577",
   "metadata": {},
   "outputs": [],
   "source": [
    "fig = plt.figure(facecolor='grey')\n",
    "ax = fig.gca(projection = '3d')\n",
    "ax.set_facecolor('grey')\n",
    "ax.set_xlabel('a')\n",
    "ax.set_ylabel('b')\n",
    "\n",
    "ax.scatter(a1,c1,b1,c='black')\n",
    "ax.plot_surface(m,v,g, alpha=0.5, color='red' )\n",
    "plt.show()"
   ]
  },
  {
   "cell_type": "code",
   "execution_count": null,
   "id": "789d17a5",
   "metadata": {},
   "outputs": [],
   "source": [
    "model.predict([[ 10.0,3.0]]),model.predict([[ 40.0,2.0]])"
   ]
  },
  {
   "cell_type": "code",
   "execution_count": null,
   "id": "98476351",
   "metadata": {},
   "outputs": [],
   "source": []
  }
 ],
 "metadata": {
  "kernelspec": {
   "display_name": "Python 3 (ipykernel)",
   "language": "python",
   "name": "python3"
  },
  "language_info": {
   "codemirror_mode": {
    "name": "ipython",
    "version": 3
   },
   "file_extension": ".py",
   "mimetype": "text/x-python",
   "name": "python",
   "nbconvert_exporter": "python",
   "pygments_lexer": "ipython3",
   "version": "3.9.13"
  }
 },
 "nbformat": 4,
 "nbformat_minor": 5
}
