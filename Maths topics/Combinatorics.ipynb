{
 "cells": [
  {
   "cell_type": "markdown",
   "id": "54dc5196",
   "metadata": {},
   "source": [
    "# Combinatorics"
   ]
  },
  {
   "cell_type": "code",
   "execution_count": 9,
   "id": "911b8115",
   "metadata": {},
   "outputs": [],
   "source": [
    "#lambda rules\n",
    "\n",
    "perms2 = lambda L: tuple((L[i],) + P for i in range(len(L)) for P in perms2(L[:i] + L[i+1:])) if len(L) > 1 else (L,)\n",
    "pwr = lambda T: len(set(perms2(T)))\n",
    "fac = lambda n: 1 if n == 0 else n * fac(n-1)"
   ]
  },
  {
   "cell_type": "code",
   "execution_count": 10,
   "id": "066629ce",
   "metadata": {},
   "outputs": [
    {
     "data": {
      "text/plain": [
       "((1, 2, 3), (1, 3, 2), (2, 1, 3), (2, 3, 1), (3, 1, 2), (3, 2, 1))"
      ]
     },
     "execution_count": 10,
     "metadata": {},
     "output_type": "execute_result"
    }
   ],
   "source": [
    "# permutation without repitition\n",
    "\n",
    "perms2((1,2,3))"
   ]
  },
  {
   "cell_type": "code",
   "execution_count": 11,
   "id": "164879f5",
   "metadata": {},
   "outputs": [
    {
     "data": {
      "text/plain": [
       "{(1, 2, 2, 2), (2, 1, 2, 2), (2, 2, 1, 2), (2, 2, 2, 1)}"
      ]
     },
     "execution_count": 11,
     "metadata": {},
     "output_type": "execute_result"
    }
   ],
   "source": [
    "#permutation with repitition \n",
    "\n",
    "set(perms2((1,2,2,2)))"
   ]
  },
  {
   "cell_type": "code",
   "execution_count": 12,
   "id": "5743ad45",
   "metadata": {},
   "outputs": [
    {
     "data": {
      "text/plain": [
       "True"
      ]
     },
     "execution_count": 12,
     "metadata": {},
     "output_type": "execute_result"
    }
   ],
   "source": [
    "len(perms2((1,2,3,4,5))) == fac(5)"
   ]
  },
  {
   "cell_type": "code",
   "execution_count": 13,
   "id": "0cc2d79d",
   "metadata": {},
   "outputs": [
    {
     "data": {
      "text/plain": [
       "True"
      ]
     },
     "execution_count": 13,
     "metadata": {},
     "output_type": "execute_result"
    }
   ],
   "source": [
    "len(set(perms2((1,2,2,2)))) == pwr((1,2,2,2)) == fac(4)/(fac(1)*fac(3)) "
   ]
  },
  {
   "cell_type": "code",
   "execution_count": 14,
   "id": "6d9d5fa2",
   "metadata": {},
   "outputs": [
    {
     "data": {
      "text/plain": [
       "True"
      ]
     },
     "execution_count": 14,
     "metadata": {},
     "output_type": "execute_result"
    }
   ],
   "source": [
    "pwr((1,2,2,3,3)) == fac(5)/(fac(1)*fac(2)*fac(2))"
   ]
  },
  {
   "cell_type": "code",
   "execution_count": 15,
   "id": "6126e87b",
   "metadata": {},
   "outputs": [
    {
     "data": {
      "text/plain": [
       "True"
      ]
     },
     "execution_count": 15,
     "metadata": {},
     "output_type": "execute_result"
    }
   ],
   "source": [
    "pwr((1,1,2,2,2,3,3,3,3)) == fac(9)/(fac(2)*fac(3)*fac(4))"
   ]
  },
  {
   "cell_type": "markdown",
   "id": "9ab54e8f",
   "metadata": {},
   "source": [
    "### Binomial coefficient (or combinations without repitition)\n",
    "\n",
    "\n",
    "${n \\choose k} = \\frac{n!}{k!(n-k)!}$\n",
    "\n",
    "${n \\choose k} = {n \\choose n-k}$\n",
    "\n",
    "${7 \\choose 2} = {7 \\choose 7-2} = 21$"
   ]
  },
  {
   "cell_type": "code",
   "execution_count": 16,
   "id": "3cb0d326",
   "metadata": {},
   "outputs": [
    {
     "data": {
      "text/plain": [
       "21.0"
      ]
     },
     "execution_count": 16,
     "metadata": {},
     "output_type": "execute_result"
    }
   ],
   "source": [
    "from scipy.special import binom\n",
    "binom(7,2)"
   ]
  },
  {
   "cell_type": "code",
   "execution_count": 17,
   "id": "a66fb33a",
   "metadata": {},
   "outputs": [
    {
     "data": {
      "text/plain": [
       "[1, 7, 21, 35, 35, 21, 7, 1]"
      ]
     },
     "execution_count": 17,
     "metadata": {},
     "output_type": "execute_result"
    }
   ],
   "source": [
    "[int(binom(7,k)) for k in range(8)]"
   ]
  },
  {
   "cell_type": "code",
   "execution_count": 18,
   "id": "98bbacfe",
   "metadata": {},
   "outputs": [
    {
     "data": {
      "text/plain": [
       "True"
      ]
     },
     "execution_count": 18,
     "metadata": {},
     "output_type": "execute_result"
    }
   ],
   "source": [
    "fac(7)/(fac(2)*fac(7-2)) == fac(7)/(fac(5)*fac(7-5)) == 21"
   ]
  },
  {
   "cell_type": "markdown",
   "id": "5d4267e7",
   "metadata": {},
   "source": [
    "### Power set:\n",
    " $ \\mathcal{P}(A)$ is the set of all subsets of A, including the empty set and A itself. \n",
    "\n",
    "$\\mathcal{P}(A) = \\{ X \\mid X \\subseteq A \\} $\n",
    "\n",
    "For example:\n",
    "$S = \\{x,y,z\\}\\}$, \n",
    "$ \\mathcal{P}(S) = \\{\\{\\}, \\{x\\}, \\{y\\}, \\{z\\}, \\{x,y\\}, \\{x,z\\}, \\{y,z\\}, \\{x,y,z\\}\\} $\n"
   ]
  },
  {
   "cell_type": "markdown",
   "id": "2b440b0b",
   "metadata": {},
   "source": [
    "$ |\\mathcal{P}(S)| = 2^{|S|} = 2^3 = 8 $"
   ]
  },
  {
   "cell_type": "code",
   "execution_count": 19,
   "id": "12f36d14",
   "metadata": {},
   "outputs": [],
   "source": [
    "def powerSet(A_):\n",
    "    A = A_.copy()\n",
    "    if A == set():\n",
    "        return [set()]\n",
    "    a = A.pop()\n",
    "    P = powerSet(A)\n",
    "    return P + [X | {a} for X in P]"
   ]
  },
  {
   "cell_type": "code",
   "execution_count": 20,
   "id": "560c6594",
   "metadata": {},
   "outputs": [],
   "source": [
    "S = {'x','y','z'}"
   ]
  },
  {
   "cell_type": "code",
   "execution_count": 21,
   "id": "ccc1d198",
   "metadata": {},
   "outputs": [
    {
     "data": {
      "text/plain": [
       "[set(),\n",
       " {'x'},\n",
       " {'y'},\n",
       " {'x', 'y'},\n",
       " {'z'},\n",
       " {'x', 'z'},\n",
       " {'y', 'z'},\n",
       " {'x', 'y', 'z'}]"
      ]
     },
     "execution_count": 21,
     "metadata": {},
     "output_type": "execute_result"
    }
   ],
   "source": [
    "powerSet(S)"
   ]
  },
  {
   "cell_type": "code",
   "execution_count": 22,
   "id": "a5e9b6a6",
   "metadata": {},
   "outputs": [
    {
     "data": {
      "text/plain": [
       "{'x', 'y', 'z'}"
      ]
     },
     "execution_count": 22,
     "metadata": {},
     "output_type": "execute_result"
    }
   ],
   "source": [
    "S"
   ]
  },
  {
   "cell_type": "code",
   "execution_count": 23,
   "id": "f2df2055",
   "metadata": {},
   "outputs": [
    {
     "data": {
      "text/plain": [
       "True"
      ]
     },
     "execution_count": 23,
     "metadata": {},
     "output_type": "execute_result"
    }
   ],
   "source": [
    "#|S| = 3\n",
    "2**3 == sum([int(binom(3,k)) for k in range(8)]) == len(powerSet({'x','y','z'}))"
   ]
  },
  {
   "cell_type": "code",
   "execution_count": 24,
   "id": "dfed366f",
   "metadata": {},
   "outputs": [
    {
     "data": {
      "text/plain": [
       "True"
      ]
     },
     "execution_count": 24,
     "metadata": {},
     "output_type": "execute_result"
    }
   ],
   "source": [
    "#|S| = 6\n",
    "2**6 == sum([int(binom(6,k)) for k in range(7)]) == len(powerSet({1,2,3,4,5,6}))"
   ]
  },
  {
   "cell_type": "code",
   "execution_count": 25,
   "id": "32755e17",
   "metadata": {},
   "outputs": [
    {
     "data": {
      "text/plain": [
       "'HiHiHiHiHiHiHiHiHiHi'"
      ]
     },
     "execution_count": 25,
     "metadata": {},
     "output_type": "execute_result"
    }
   ],
   "source": [
    "'Hi' * 10"
   ]
  },
  {
   "cell_type": "code",
   "execution_count": 26,
   "id": "86c76d61",
   "metadata": {},
   "outputs": [
    {
     "data": {
      "text/plain": [
       "(1, 2, 2, 2, 3, 3)"
      ]
     },
     "execution_count": 26,
     "metadata": {},
     "output_type": "execute_result"
    }
   ],
   "source": [
    "(1,) * 1 + (2,) * 3 + (3,) * 2"
   ]
  },
  {
   "cell_type": "code",
   "execution_count": 27,
   "id": "a5b15959",
   "metadata": {},
   "outputs": [],
   "source": [
    "def convert(t):\n",
    "    c = 1\n",
    "    res = []\n",
    "    for i in t:\n",
    "        if i == 0:\n",
    "            c += 1\n",
    "        else:\n",
    "            res.append(c)\n",
    "    return res"
   ]
  },
  {
   "cell_type": "code",
   "execution_count": 28,
   "id": "0eff3b7c",
   "metadata": {},
   "outputs": [],
   "source": [
    "def convert2(t):\n",
    "    c = 1\n",
    "    res = []\n",
    "    for i in t:\n",
    "        if i == '|':\n",
    "            c += 1\n",
    "        else:\n",
    "            res.append(c)\n",
    "    return res"
   ]
  },
  {
   "cell_type": "code",
   "execution_count": 29,
   "id": "c139bf8c",
   "metadata": {},
   "outputs": [
    {
     "data": {
      "text/plain": [
       "[1, 2, 2]"
      ]
     },
     "execution_count": 29,
     "metadata": {},
     "output_type": "execute_result"
    }
   ],
   "source": [
    "convert2(('x', '|', 'x', 'x', '|', '|'))"
   ]
  },
  {
   "cell_type": "code",
   "execution_count": 30,
   "id": "1722d89c",
   "metadata": {},
   "outputs": [],
   "source": [
    "def combRepeat(n,k):\n",
    "    return [convert(t) for t in set(perms2((1,)*k + (0,)* (n-1)))]"
   ]
  },
  {
   "cell_type": "code",
   "execution_count": 32,
   "id": "c00235a6",
   "metadata": {},
   "outputs": [
    {
     "data": {
      "text/plain": [
       "(56, 56)"
      ]
     },
     "execution_count": 32,
     "metadata": {},
     "output_type": "execute_result"
    }
   ],
   "source": [
    "#combinations with repitition\n",
    "len(combRepeat(4,5)), pwr((1,1,1,1,1,2,2,2))"
   ]
  },
  {
   "cell_type": "code",
   "execution_count": null,
   "id": "eb2f2226",
   "metadata": {},
   "outputs": [],
   "source": []
  }
 ],
 "metadata": {
  "kernelspec": {
   "display_name": "Python 3 (ipykernel)",
   "language": "python",
   "name": "python3"
  },
  "language_info": {
   "codemirror_mode": {
    "name": "ipython",
    "version": 3
   },
   "file_extension": ".py",
   "mimetype": "text/x-python",
   "name": "python",
   "nbconvert_exporter": "python",
   "pygments_lexer": "ipython3",
   "version": "3.9.13"
  }
 },
 "nbformat": 4,
 "nbformat_minor": 5
}
