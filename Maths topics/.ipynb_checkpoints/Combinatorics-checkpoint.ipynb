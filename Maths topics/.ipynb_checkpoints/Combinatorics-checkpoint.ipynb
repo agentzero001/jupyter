{
 "cells": [
  {
   "cell_type": "markdown",
   "id": "54dc5196",
   "metadata": {},
   "source": [
    "# Combinatorics"
   ]
  },
  {
   "cell_type": "code",
   "execution_count": 30,
   "id": "911b8115",
   "metadata": {},
   "outputs": [],
   "source": [
    "#lambda rules\n",
    "\n",
    "perms2 = lambda L: tuple((L[i],) + P for i in range(len(L)) for P in perms2(L[:i] + L[i+1:])) if len(L) > 1 else (L,)\n",
    "pwr = lambda T: len(set(perms2(T)))\n",
    "fac = lambda n: 1 if n == 0 else n * fac(n-1)"
   ]
  },
  {
   "cell_type": "code",
   "execution_count": 31,
   "id": "066629ce",
   "metadata": {},
   "outputs": [
    {
     "data": {
      "text/plain": [
       "((1, 2, 3), (1, 3, 2), (2, 1, 3), (2, 3, 1), (3, 1, 2), (3, 2, 1))"
      ]
     },
     "execution_count": 31,
     "metadata": {},
     "output_type": "execute_result"
    }
   ],
   "source": [
    "# permutation without repitition\n",
    "\n",
    "perms2((1,2,3))"
   ]
  },
  {
   "cell_type": "code",
   "execution_count": 32,
   "id": "164879f5",
   "metadata": {},
   "outputs": [
    {
     "data": {
      "text/plain": [
       "{(1, 2, 2, 2), (2, 1, 2, 2), (2, 2, 1, 2), (2, 2, 2, 1)}"
      ]
     },
     "execution_count": 32,
     "metadata": {},
     "output_type": "execute_result"
    }
   ],
   "source": [
    "#permutation with repitition \n",
    "\n",
    "set(perms2((1,2,2,2)))"
   ]
  },
  {
   "cell_type": "code",
   "execution_count": 33,
   "id": "5743ad45",
   "metadata": {},
   "outputs": [
    {
     "data": {
      "text/plain": [
       "True"
      ]
     },
     "execution_count": 33,
     "metadata": {},
     "output_type": "execute_result"
    }
   ],
   "source": [
    "len(perms2((1,2,3,4,5))) == fac(5)"
   ]
  },
  {
   "cell_type": "code",
   "execution_count": 34,
   "id": "0cc2d79d",
   "metadata": {},
   "outputs": [
    {
     "data": {
      "text/plain": [
       "True"
      ]
     },
     "execution_count": 34,
     "metadata": {},
     "output_type": "execute_result"
    }
   ],
   "source": [
    "len(set(perms2((1,2,2,2)))) == pwr((1,2,2,2)) == fac(4)/(fac(1)*fac(3)) "
   ]
  },
  {
   "cell_type": "code",
   "execution_count": 35,
   "id": "6d9d5fa2",
   "metadata": {},
   "outputs": [
    {
     "data": {
      "text/plain": [
       "True"
      ]
     },
     "execution_count": 35,
     "metadata": {},
     "output_type": "execute_result"
    }
   ],
   "source": [
    "pwr((1,2,2,3,3)) == fac(5)/(fac(1)*fac(2)*fac(2))"
   ]
  },
  {
   "cell_type": "code",
   "execution_count": 36,
   "id": "6126e87b",
   "metadata": {},
   "outputs": [
    {
     "data": {
      "text/plain": [
       "True"
      ]
     },
     "execution_count": 36,
     "metadata": {},
     "output_type": "execute_result"
    }
   ],
   "source": [
    "pwr((1,1,2,2,2,3,3,3,3)) == fac(9)/(fac(2)*fac(3)*fac(4))"
   ]
  },
  {
   "cell_type": "markdown",
   "id": "9ab54e8f",
   "metadata": {},
   "source": [
    "## Binomial coefficient:\n",
    "${n \\choose k} = \\frac{n!}{k!(n-k)!}$\n",
    "\n",
    "${n \\choose k} = {n \\choose n-k}$\n",
    "\n",
    "${7 \\choose 2} = {7 \\choose 7-2} = 21$"
   ]
  },
  {
   "cell_type": "code",
   "execution_count": 37,
   "id": "3cb0d326",
   "metadata": {},
   "outputs": [
    {
     "data": {
      "text/plain": [
       "21.0"
      ]
     },
     "execution_count": 37,
     "metadata": {},
     "output_type": "execute_result"
    }
   ],
   "source": [
    "from scipy.special import binom\n",
    "\n",
    "binom(7,2)"
   ]
  },
  {
   "cell_type": "code",
   "execution_count": 38,
   "id": "a66fb33a",
   "metadata": {},
   "outputs": [
    {
     "data": {
      "text/plain": [
       "[1, 7, 21, 35, 35, 21, 7, 1]"
      ]
     },
     "execution_count": 38,
     "metadata": {},
     "output_type": "execute_result"
    }
   ],
   "source": [
    "[int(binom(7,k)) for k in range(8)]"
   ]
  },
  {
   "cell_type": "code",
   "execution_count": 39,
   "id": "98bbacfe",
   "metadata": {},
   "outputs": [
    {
     "data": {
      "text/plain": [
       "True"
      ]
     },
     "execution_count": 39,
     "metadata": {},
     "output_type": "execute_result"
    }
   ],
   "source": [
    "fac(7)/(fac(2)*fac(7-2)) == fac(7)/(fac(5)*fac(7-5)) == 21"
   ]
  },
  {
   "cell_type": "markdown",
   "id": "4b4e4586",
   "metadata": {},
   "source": [
    "### Power set:\n",
    " $ \\mathcal{P}(A)$ is the set of all subsets of A, including the empty set and A itself. \n",
    "\n",
    "$\\mathcal{P}(A) = \\{ X \\mid X \\subseteq A \\} $\n",
    "\n",
    "For example:\n",
    "$S = \\{x,y,z\\}\\}$, \n",
    "$ \\mathcal{P}(S) = \\{\\{\\}, \\{x\\}, \\{y\\}, \\{z\\}, \\{x,y\\}, \\{x,z\\}, \\{y,z\\}, \\{x,y,z\\}\\} $\n"
   ]
  },
  {
   "cell_type": "markdown",
   "id": "38bed027",
   "metadata": {},
   "source": [
    "$ |\\mathcal{P}(S)| = 2^{|S|} = 2^3 = 8 $"
   ]
  },
  {
   "cell_type": "code",
   "execution_count": null,
   "id": "5c28d364",
   "metadata": {},
   "outputs": [],
   "source": []
  }
 ],
 "metadata": {
  "kernelspec": {
   "display_name": "Python 3 (ipykernel)",
   "language": "python",
   "name": "python3"
  },
  "language_info": {
   "codemirror_mode": {
    "name": "ipython",
    "version": 3
   },
   "file_extension": ".py",
   "mimetype": "text/x-python",
   "name": "python",
   "nbconvert_exporter": "python",
   "pygments_lexer": "ipython3",
   "version": "3.9.13"
  }
 },
 "nbformat": 4,
 "nbformat_minor": 5
}
