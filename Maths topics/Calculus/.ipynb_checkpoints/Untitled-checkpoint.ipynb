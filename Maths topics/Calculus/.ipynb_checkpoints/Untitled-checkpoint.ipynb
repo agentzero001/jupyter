{
 "cells": [
  {
   "cell_type": "code",
   "execution_count": 48,
   "id": "7a8823f5",
   "metadata": {},
   "outputs": [],
   "source": [
    "import matplotlib.pyplot as plt\n",
    "import numpy as np\n",
    "import sympy as sp\n",
    "import pandas as pd"
   ]
  },
  {
   "cell_type": "code",
   "execution_count": 49,
   "id": "cf846128",
   "metadata": {},
   "outputs": [],
   "source": [
    "def polypow3(co):\n",
    "    '''input has to be tuple or list containing all coeffs L[0] = x³ to L[3] = x^0'''\n",
    "    \n",
    "    F = lambda x: co[0]*x**3 + co[1]*x**2 + co[2]*x + co[3]\n",
    "    f = lambda x: 3*co[0]*x**2 + 2*co[1]*x + co[2]\n",
    "    df1 = lambda x: 6*co[0]*x +2*co[1]\n",
    "\n",
    "    x = np.linspace(-5, 10, 100)\n",
    "\n",
    "    fig, axs = plt.subplots(1, 3, facecolor='0.2',figsize=(12, 4),sharey = True)\n",
    "    \n",
    "    axs[0].plot(x, F(x), c = 'black')\n",
    "    axs[1].plot(x, f(x), c = 'black')\n",
    "    axs[2].plot(x, df1(x),c ='black')\n",
    "    axs[0].set_title(\"F(x) = {}x³+{}x²+{}x+{}\".format(co[0],co[1],co[2],co[3]))\n",
    "    axs[1].set_title(\"f(x) = {}x²+{}x+{}\".format(3*co[0],2*co[1],co[2]))\n",
    "    axs[2].set_title(\"df1(x) = {}x+{}\".format(6*co[0],2*co[1]))\n",
    "\n",
    "    for n in range(3):\n",
    "        axs[n].set_facecolor('0.13')\n",
    "        axs[n].axhline(y=0, c='white', lw=0.1,zorder=0)\n",
    "        axs[n].axvline(x=0, c='white', lw=0.1,zorder=0)\n",
    "    plt.show()"
   ]
  },
  {
   "cell_type": "code",
   "execution_count": 50,
   "id": "8bb71f7d",
   "metadata": {},
   "outputs": [
    {
     "data": {
      "image/png": "[encoded data removed]",
      "text/plain": [
       "<Figure size 1200x400 with 3 Axes>"
      ]
     },
     "metadata": {},
     "output_type": "display_data"
    }
   ],
   "source": [
    "polypow3([3,20,2,-100])"
   ]
  },
  {
   "cell_type": "code",
   "execution_count": 110,
   "id": "5de32cb4",
   "metadata": {},
   "outputs": [],
   "source": [
    "#i haven't calculated for any values, but this should be correct\n",
    "def polypown(co):\n",
    "    '''given a list of coeffs in ascending order L[0] = x^0 until L[n] = x^n\n",
    "       this function will draw the graphes for the Function and the first two derivatives.'''\n",
    "#    def create_polynomial(coeffs):\n",
    "#         n = len(coeffs) \n",
    "#         sym_expr = 0\n",
    "#         for i in range(n):\n",
    "#             sym_expr += coeffs[i]*x**i\n",
    "#         return sym_expr\n",
    "    create_polynomial = lambda coeffs: sum(coeffs[i]*self.x**i for i in range(len(coeffs)))\n",
    "    x = sp.symbols('x')\n",
    "    F = create_polynomial(co)\n",
    "    f = sp.diff(F, x)\n",
    "    df = sp.diff(sp.diff(F, x), x)\n",
    "    F1 = sp.lambdify(x, F, 'numpy')\n",
    "    f1 = sp.lambdify(x, f, 'numpy')\n",
    "    df1 = sp.lambdify(x, df, 'numpy')\n",
    "    x_ = np.linspace(-10, 10, 100)\n",
    "\n",
    "    fig, axs = plt.subplots(1, 3, facecolor='0.2',figsize=(12, 4))#,sharey = True)\n",
    "    \n",
    "    axs[0].plot(x_, F1(x_), c = 'green')\n",
    "    if len(co) == 3:\n",
    "        axs[2].axhline(y=2*co[2],c='green')\n",
    "        axs[1].plot(x_, f1(x_), c = 'green')\n",
    "    elif len(co) == 2:\n",
    "        axs[1].axhline(y=co[1],c='green')\n",
    "    else:\n",
    "        axs[1].plot(x_, f1(x_), c = 'green')\n",
    "        axs[2].plot(x_, df1(x_),c ='green')\n",
    "    axs[0].set_title(\"F(x) = {}\".format(F), fontsize=9)\n",
    "    axs[1].set_title(\"f(x) = {}\".format(f), fontsize=9)\n",
    "    axs[2].set_title(\"df1(x) = {}\".format(df), fontsize=9)\n",
    "\n",
    "    for n in range(3):\n",
    "        axs[n].set_facecolor('black')\n",
    "        axs[n].axhline(y=0, c='white', lw=0.1,zorder=0)\n",
    "        axs[n].axvline(x=0, c='white', lw=0.1,zorder=0)\n",
    "    plt.show()"
   ]
  },
  {
   "cell_type": "code",
   "execution_count": 114,
   "id": "76f66b53",
   "metadata": {},
   "outputs": [],
   "source": [
    "class Calculus:\n",
    "    def __init__(self,L):\n",
    "        create_symfunc = lambda coeffs: sum(coeffs[i]*self.x**i for i in range(len(coeffs)))\n",
    "        self.x = sp.symbols('x')\n",
    "        self.sym_func = create_symfunc(L)\n",
    "        self.sym_dfunc = sp.diff(self.sym_func, self.x)\n",
    "        self.sym_ifunc = sp.integrate(self.sym_func, self.x)\n",
    "        self.func = sp.lambdify(self.x, self.sym_func, 'numpy')\n",
    "        self.dfunc = sp.lambdify(self.x, self.sym_dfunc, 'numpy')\n",
    "        self.ifunc = sp.lambdify(self.x, self.sym_ifunc, 'numpy')\n",
    "    \n",
    "    def show_func(self):\n",
    "        return self.sym_func\n",
    "    \n",
    "    def calcx(self,v):\n",
    "        return self.func(v)\n",
    "    \n",
    "    def value_table(self, start=-5, stop=5, step=1):\n",
    "        d = pd.Series({round(k, 6): round(self.func(k), 7) for k in np.arange(start, stop, step)})\n",
    "        return d  \n",
    "    \n",
    "    def value_table2(self, start=-5, stop=5, step=1):\n",
    "        f = {round(k, 6): round(self.func(k), 7) for k in np.arange(start, stop, step)}\n",
    "        d1 = {round(k, 6): round(self.dfunc(k), 7) for k in np.arange(start, stop, step)}\n",
    "        i = {round(k, 6): round(self.ifunc(k), 7) for k in np.arange(start, stop, step)}\n",
    "        df = pd.DataFrame({'{}'.format(self.sym_ifunc): i,'{}'.format(self.sym_func): f, '{}'.format(self.sym_dfunc): d1})\n",
    "        return df\n",
    "    \n",
    "    def integrate(self,transform=False):\n",
    "        if transform:\n",
    "            self.a = sp.Poly(sp.integrate(self.sym_func, self.x)).coeffs()\n",
    "            self.a.append(0)\n",
    "            return Calculus(self.a[::-1])\n",
    "        else:\n",
    "            return sp.integrate(self.sym_func, self.x)\n",
    "        \n",
    "    def derivative(self,transform=False):\n",
    "        if transform:\n",
    "            self.a = sp.Poly(sp.diff(self.sym_func, self.x)).coeffs()\n",
    "            return Calculus(self.a[::-1])\n",
    "        else:\n",
    "            return sp.diff(self.sym_func, self.x)\n",
    "    \n",
    "    def show_curve(self, coords=[-1, 1, -1, 4],size=(3,2)): #yes I really added markers to my lines lol\n",
    "        xticks = list(range(coords[0]-1,coords[1]+1, 1))\n",
    "        yticks = list(range(coords[2]-1,coords[3]+1, 1))\n",
    "        y_ticks = len(xticks)\n",
    "        x_ticks = len(yticks)\n",
    "        x_ = np.linspace(coords[0], coords[1], 100)\n",
    "        plt.figure(facecolor='0.3',figsize=size)\n",
    "        plt.axes().set_facecolor('grey')\n",
    "        plt.axis([coords[0],coords[1],coords[2],coords[3]])\n",
    "        plt.plot(x_, self.func(x_),color='black')\n",
    "        plt.axhline(y=0, color='k', lw=0.5,zorder=2)\n",
    "        plt.axvline(x=0, color='k', lw=0.5,zorder=2)\n",
    "        plt.scatter(xticks,np.zeros(y_ticks),color = 'black',zorder=2,marker='.', s=4)\n",
    "        #plt.scatter(np.zeros(x_ticks), yticks,color = 'black',zorder=2,marker='.', s=4)\n",
    "        plt.grid()\n",
    "        plt.show()"
   ]
  },
  {
   "cell_type": "code",
   "execution_count": 115,
   "id": "18e50b2b",
   "metadata": {},
   "outputs": [],
   "source": [
    "def create_poly(L):\n",
    "    instance = Calculus(L)\n",
    "    return instance"
   ]
  },
  {
   "cell_type": "code",
   "execution_count": 116,
   "id": "64fc1f7d",
   "metadata": {},
   "outputs": [
    {
     "name": "stdout",
     "output_type": "stream",
     "text": [
      "x + 10\n"
     ]
    },
    {
     "data": {
      "image/png": "[encoded data removed]",
      "text/plain": [
       "<Figure size 300x200 with 1 Axes>"
      ]
     },
     "metadata": {},
     "output_type": "display_data"
    },
    {
     "name": "stdout",
     "output_type": "stream",
     "text": [
      "x**2 + x + 10\n"
     ]
    },
    {
     "data": {
      "image/png": "[encoded data removed]",
      "text/plain": [
       "<Figure size 300x200 with 1 Axes>"
      ]
     },
     "metadata": {},
     "output_type": "display_data"
    },
    {
     "name": "stdout",
     "output_type": "stream",
     "text": [
      "2*x**2 + x + 10\n"
     ]
    },
    {
     "data": {
      "image/png": "[encoded data removed]",
      "text/plain": [
       "<Figure size 300x200 with 1 Axes>"
      ]
     },
     "metadata": {},
     "output_type": "display_data"
    },
    {
     "name": "stdout",
     "output_type": "stream",
     "text": [
      "3*x**2 + x + 10\n"
     ]
    },
    {
     "data": {
      "image/png": "[encoded data removed]",
      "text/plain": [
       "<Figure size 300x200 with 1 Axes>"
      ]
     },
     "metadata": {},
     "output_type": "display_data"
    },
    {
     "name": "stdout",
     "output_type": "stream",
     "text": [
      "4*x**2 + x + 10\n"
     ]
    },
    {
     "data": {
      "image/png": "[encoded data removed]",
      "text/plain": [
       "<Figure size 300x200 with 1 Axes>"
      ]
     },
     "metadata": {},
     "output_type": "display_data"
    }
   ],
   "source": [
    "My_poly = [create_poly([10,1,i]) for i in range(5)]\n",
    "for i in range(5):\n",
    "    print('{}'.format(My_poly[i].show_func()))\n",
    "    My_poly[i].show_curve(coords=[-3,3,-2,20])"
   ]
  },
  {
   "cell_type": "code",
   "execution_count": 104,
   "id": "e0fd4694",
   "metadata": {},
   "outputs": [
    {
     "data": {
      "text/latex": [
       "$\\displaystyle 3 x^{2}$"
      ],
      "text/plain": [
       "3*x**2"
      ]
     },
     "execution_count": 104,
     "metadata": {},
     "output_type": "execute_result"
    }
   ],
   "source": [
    "f_ = Calculus([0,0,3])\n",
    "f_.show_func()"
   ]
  },
  {
   "cell_type": "code",
   "execution_count": 105,
   "id": "3aa55d18",
   "metadata": {},
   "outputs": [
    {
     "data": {
      "text/latex": [
       "$\\displaystyle x^{3}$"
      ],
      "text/plain": [
       "x**3"
      ]
     },
     "execution_count": 105,
     "metadata": {},
     "output_type": "execute_result"
    }
   ],
   "source": [
    "f_.integrate()"
   ]
  },
  {
   "cell_type": "code",
   "execution_count": 106,
   "id": "a22b86f3",
   "metadata": {},
   "outputs": [
    {
     "data": {
      "text/plain": [
       "4.107919181288746"
      ]
     },
     "execution_count": 106,
     "metadata": {},
     "output_type": "execute_result"
    }
   ],
   "source": [
    "valuetable = f_.value_table(-2,2,0.5)\n",
    "valuetable.std()"
   ]
  },
  {
   "cell_type": "code",
   "execution_count": 107,
   "id": "3ca46d49",
   "metadata": {},
   "outputs": [
    {
     "data": {
      "text/html": [
       "<div>\n",
       "<style scoped>\n",
       "    .dataframe tbody tr th:only-of-type {\n",
       "        vertical-align: middle;\n",
       "    }\n",
       "\n",
       "    .dataframe tbody tr th {\n",
       "        vertical-align: top;\n",
       "    }\n",
       "\n",
       "    .dataframe thead th {\n",
       "        text-align: right;\n",
       "    }\n",
       "</style>\n",
       "<table border=\"1\" class=\"dataframe\">\n",
       "  <thead>\n",
       "    <tr style=\"text-align: right;\">\n",
       "      <th></th>\n",
       "      <th>x**3</th>\n",
       "      <th>3*x**2</th>\n",
       "      <th>6*x</th>\n",
       "    </tr>\n",
       "  </thead>\n",
       "  <tbody>\n",
       "    <tr>\n",
       "      <th>-5</th>\n",
       "      <td>-125</td>\n",
       "      <td>75</td>\n",
       "      <td>-30</td>\n",
       "    </tr>\n",
       "    <tr>\n",
       "      <th>-4</th>\n",
       "      <td>-64</td>\n",
       "      <td>48</td>\n",
       "      <td>-24</td>\n",
       "    </tr>\n",
       "    <tr>\n",
       "      <th>-3</th>\n",
       "      <td>-27</td>\n",
       "      <td>27</td>\n",
       "      <td>-18</td>\n",
       "    </tr>\n",
       "    <tr>\n",
       "      <th>-2</th>\n",
       "      <td>-8</td>\n",
       "      <td>12</td>\n",
       "      <td>-12</td>\n",
       "    </tr>\n",
       "    <tr>\n",
       "      <th>-1</th>\n",
       "      <td>-1</td>\n",
       "      <td>3</td>\n",
       "      <td>-6</td>\n",
       "    </tr>\n",
       "    <tr>\n",
       "      <th>0</th>\n",
       "      <td>0</td>\n",
       "      <td>0</td>\n",
       "      <td>0</td>\n",
       "    </tr>\n",
       "    <tr>\n",
       "      <th>1</th>\n",
       "      <td>1</td>\n",
       "      <td>3</td>\n",
       "      <td>6</td>\n",
       "    </tr>\n",
       "    <tr>\n",
       "      <th>2</th>\n",
       "      <td>8</td>\n",
       "      <td>12</td>\n",
       "      <td>12</td>\n",
       "    </tr>\n",
       "    <tr>\n",
       "      <th>3</th>\n",
       "      <td>27</td>\n",
       "      <td>27</td>\n",
       "      <td>18</td>\n",
       "    </tr>\n",
       "    <tr>\n",
       "      <th>4</th>\n",
       "      <td>64</td>\n",
       "      <td>48</td>\n",
       "      <td>24</td>\n",
       "    </tr>\n",
       "  </tbody>\n",
       "</table>\n",
       "</div>"
      ],
      "text/plain": [
       "    x**3  3*x**2  6*x\n",
       "-5  -125      75  -30\n",
       "-4   -64      48  -24\n",
       "-3   -27      27  -18\n",
       "-2    -8      12  -12\n",
       "-1    -1       3   -6\n",
       " 0     0       0    0\n",
       " 1     1       3    6\n",
       " 2     8      12   12\n",
       " 3    27      27   18\n",
       " 4    64      48   24"
      ]
     },
     "execution_count": 107,
     "metadata": {},
     "output_type": "execute_result"
    }
   ],
   "source": [
    "f_.value_table2()"
   ]
  },
  {
   "cell_type": "code",
   "execution_count": 109,
   "id": "78e93b4a",
   "metadata": {},
   "outputs": [],
   "source": [
    "polypown([0,0,0,1])"
   ]
  },
  {
   "cell_type": "code",
   "execution_count": 60,
   "id": "3b17de37",
   "metadata": {},
   "outputs": [
    {
     "data": {
      "text/plain": [
       "-5    75\n",
       "-4    48\n",
       "-3    27\n",
       "-2    12\n",
       "-1     3\n",
       " 0     0\n",
       " 1     3\n",
       " 2    12\n",
       " 3    27\n",
       " 4    48\n",
       "dtype: int32"
      ]
     },
     "execution_count": 60,
     "metadata": {},
     "output_type": "execute_result"
    }
   ],
   "source": [
    "f_.value_table()"
   ]
  },
  {
   "cell_type": "code",
   "execution_count": 61,
   "id": "e01efe0a",
   "metadata": {},
   "outputs": [
    {
     "data": {
      "image/png": "[encoded data removed]",
      "text/plain": [
       "<Figure size 300x200 with 1 Axes>"
      ]
     },
     "metadata": {},
     "output_type": "display_data"
    }
   ],
   "source": [
    "f_.show_curve([-1, 1, -1, 4])"
   ]
  },
  {
   "cell_type": "code",
   "execution_count": null,
   "id": "307a3a38",
   "metadata": {},
   "outputs": [],
   "source": []
  }
 ],
 "metadata": {
  "kernelspec": {
   "display_name": "Python 3 (ipykernel)",
   "language": "python",
   "name": "python3"
  },
  "language_info": {
   "codemirror_mode": {
    "name": "ipython",
    "version": 3
   },
   "file_extension": ".py",
   "mimetype": "text/x-python",
   "name": "python",
   "nbconvert_exporter": "python",
   "pygments_lexer": "ipython3",
   "version": "3.9.13"
  }
 },
 "nbformat": 4,
 "nbformat_minor": 5
}
