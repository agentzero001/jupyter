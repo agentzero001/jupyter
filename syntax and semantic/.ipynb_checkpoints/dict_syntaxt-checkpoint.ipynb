{
 "cells": [
  {
   "cell_type": "code",
   "execution_count": 11,
   "id": "df62ff37",
   "metadata": {},
   "outputs": [],
   "source": [
    "import numpy as np"
   ]
  },
  {
   "cell_type": "code",
   "execution_count": 12,
   "id": "1c97057e",
   "metadata": {},
   "outputs": [
    {
     "data": {
      "text/plain": [
       "array([107,  90, 153,  41, 106,  82, 127,  15,  74, 104,  51,  40,  76,\n",
       "         3, 138,  74,  87, 153, 174,  74])"
      ]
     },
     "execution_count": 12,
     "metadata": {},
     "output_type": "execute_result"
    }
   ],
   "source": [
    "data = np.random.randint(low=1,high=200,size=20)\n",
    "data"
   ]
  },
  {
   "cell_type": "code",
   "execution_count": 13,
   "id": "7f397fe9",
   "metadata": {},
   "outputs": [],
   "source": [
    "#check out my little algorithm right here\n",
    "def sort_values1(data): \n",
    "    my_dict = {key: [] for key in range(0,max(data)+1,10)}\n",
    "    for i in my_dict.keys():\n",
    "        for j in data:\n",
    "            if j < i+10 and j > i:\n",
    "                my_dict[i].append(j)\n",
    "    return my_dict\n",
    "\n",
    "#same algorithm using comprehension syntax \n",
    "def sort_values2(data): \n",
    "    my_dict = {key: [] for key in range(0,max(data)+1,10)}\n",
    "    [my_dict[i].append(j) for i in my_dict.keys() for j in data if j < i+10 and j > i]\n",
    "    return my_dict"
   ]
  },
  {
   "cell_type": "code",
   "execution_count": 14,
   "id": "d6cedd04",
   "metadata": {},
   "outputs": [
    {
     "data": {
      "text/plain": [
       "True"
      ]
     },
     "execution_count": 14,
     "metadata": {},
     "output_type": "execute_result"
    }
   ],
   "source": [
    "sort_values1(data) ==  sort_values2(data)"
   ]
  },
  {
   "cell_type": "code",
   "execution_count": 15,
   "id": "fe4262bb",
   "metadata": {
    "scrolled": true
   },
   "outputs": [
    {
     "data": {
      "text/plain": [
       "{0: [3],\n",
       " 10: [15],\n",
       " 20: [],\n",
       " 30: [],\n",
       " 40: [41],\n",
       " 50: [51],\n",
       " 60: [],\n",
       " 70: [74, 76, 74, 74],\n",
       " 80: [82, 87],\n",
       " 90: [],\n",
       " 100: [107, 106, 104],\n",
       " 110: [],\n",
       " 120: [127],\n",
       " 130: [138],\n",
       " 140: [],\n",
       " 150: [153, 153],\n",
       " 160: [],\n",
       " 170: [174]}"
      ]
     },
     "execution_count": 15,
     "metadata": {},
     "output_type": "execute_result"
    }
   ],
   "source": [
    "sort_values2(data)"
   ]
  },
  {
   "cell_type": "code",
   "execution_count": null,
   "id": "25ef9564",
   "metadata": {},
   "outputs": [],
   "source": []
  }
 ],
 "metadata": {
  "kernelspec": {
   "display_name": "Python 3 (ipykernel)",
   "language": "python",
   "name": "python3"
  },
  "language_info": {
   "codemirror_mode": {
    "name": "ipython",
    "version": 3
   },
   "file_extension": ".py",
   "mimetype": "text/x-python",
   "name": "python",
   "nbconvert_exporter": "python",
   "pygments_lexer": "ipython3",
   "version": "3.9.13"
  }
 },
 "nbformat": 4,
 "nbformat_minor": 5
}
