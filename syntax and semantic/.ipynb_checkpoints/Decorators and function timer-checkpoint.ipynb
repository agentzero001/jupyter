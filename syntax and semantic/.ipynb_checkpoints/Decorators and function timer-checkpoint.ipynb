{
 "cells": [
  {
   "cell_type": "code",
   "execution_count": 83,
   "id": "51efa62a",
   "metadata": {},
   "outputs": [],
   "source": [
    "from functools import wraps"
   ]
  },
  {
   "cell_type": "code",
   "execution_count": 84,
   "id": "12c56379",
   "metadata": {},
   "outputs": [],
   "source": [
    "def my_decorator(original_func):\n",
    "    \n",
    "    @wraps(original_func)\n",
    "    def inner_func(*args):\n",
    "        print('thiscoderan')\n",
    "        return original_func(*args)\n",
    "    return inner_func"
   ]
  },
  {
   "cell_type": "code",
   "execution_count": 85,
   "id": "87bd9b03",
   "metadata": {},
   "outputs": [],
   "source": [
    "@my_decorator\n",
    "def my_func(a,b,c):\n",
    "    print(a+b+c)"
   ]
  },
  {
   "cell_type": "code",
   "execution_count": 86,
   "id": "4726bc3c",
   "metadata": {},
   "outputs": [
    {
     "name": "stdout",
     "output_type": "stream",
     "text": [
      "thiscoderan\n",
      "12\n"
     ]
    }
   ],
   "source": [
    "my_func(3,4,5)"
   ]
  },
  {
   "cell_type": "code",
   "execution_count": 89,
   "id": "5f3f1d96",
   "metadata": {},
   "outputs": [],
   "source": [
    "def timer(origin):\n",
    "    import time\n",
    "    \n",
    "    @wraps(origin)\n",
    "    def wrapper(*args):\n",
    "        t1 = time.time()\n",
    "        result = origin(*args)\n",
    "        t2 = time.time() - t1\n",
    "        print(t2)\n",
    "        return result\n",
    "    return wrapper\n",
    "\n",
    "    "
   ]
  },
  {
   "cell_type": "code",
   "execution_count": 90,
   "id": "db0fd350",
   "metadata": {},
   "outputs": [],
   "source": [
    "@my_decorator\n",
    "@timer\n",
    "def myadder(a,b,c):\n",
    "    x=0\n",
    "    for i in range(100000):\n",
    "        x += a+b+c\n",
    "        if x % 2 ==0:\n",
    "            x+=1\n",
    "    \n",
    "    return x"
   ]
  },
  {
   "cell_type": "code",
   "execution_count": 91,
   "id": "e10cd089",
   "metadata": {},
   "outputs": [
    {
     "name": "stdout",
     "output_type": "stream",
     "text": [
      "thiscoderan\n",
      "0.0038712024688720703\n"
     ]
    },
    {
     "data": {
      "text/plain": [
       "600001"
      ]
     },
     "execution_count": 91,
     "metadata": {},
     "output_type": "execute_result"
    }
   ],
   "source": [
    "myadder(1,2,3)"
   ]
  },
  {
   "cell_type": "code",
   "execution_count": 43,
   "id": "b96ab4d1",
   "metadata": {},
   "outputs": [],
   "source": [
    "class Person:\n",
    "    def __init__(self, first, last):\n",
    "        self.first = first\n",
    "        self.last = last\n",
    "        self.__private = 10\n",
    "\n",
    "    @property\n",
    "    def private(self):\n",
    "        return self.__private\n",
    "    \n",
    "#     @private.setter\n",
    "#     def private(self, value):\n",
    "#         self.__private = value\n",
    "    \n",
    "p1 = Person('Jeff','Smith')   "
   ]
  },
  {
   "cell_type": "code",
   "execution_count": 44,
   "id": "2fda5860",
   "metadata": {},
   "outputs": [
    {
     "data": {
      "text/plain": [
       "{'first': 'Jeff', 'last': 'Smith', '_Person__private': 10}"
      ]
     },
     "execution_count": 44,
     "metadata": {},
     "output_type": "execute_result"
    }
   ],
   "source": [
    "p1.__dict__"
   ]
  },
  {
   "cell_type": "code",
   "execution_count": 45,
   "id": "4627804b",
   "metadata": {},
   "outputs": [
    {
     "data": {
      "text/plain": [
       "10"
      ]
     },
     "execution_count": 45,
     "metadata": {},
     "output_type": "execute_result"
    }
   ],
   "source": [
    "p1.private"
   ]
  },
  {
   "cell_type": "code",
   "execution_count": 47,
   "id": "f0efd5ba",
   "metadata": {},
   "outputs": [],
   "source": [
    "import numpy as np"
   ]
  },
  {
   "cell_type": "code",
   "execution_count": 58,
   "id": "ca39c72a",
   "metadata": {},
   "outputs": [],
   "source": [
    "A = np.zeros((10,10))\n",
    "\n",
    "#for i in range(1):\n",
    "    #for j in range(1):\n",
    "\n",
    "A[i::, j::] = 1"
   ]
  },
  {
   "cell_type": "code",
   "execution_count": 59,
   "id": "3807e5ca",
   "metadata": {},
   "outputs": [
    {
     "data": {
      "text/plain": [
       "array([[1., 1., 1., 1., 1., 1., 1., 1., 1., 1.],\n",
       "       [1., 1., 1., 1., 1., 1., 1., 1., 1., 1.],\n",
       "       [1., 1., 1., 1., 1., 1., 1., 1., 1., 1.],\n",
       "       [1., 1., 1., 1., 1., 1., 1., 1., 1., 1.],\n",
       "       [1., 1., 1., 1., 1., 1., 1., 1., 1., 1.],\n",
       "       [1., 1., 1., 1., 1., 1., 1., 1., 1., 1.],\n",
       "       [1., 1., 1., 1., 1., 1., 1., 1., 1., 1.],\n",
       "       [1., 1., 1., 1., 1., 1., 1., 1., 1., 1.],\n",
       "       [1., 1., 1., 1., 1., 1., 1., 1., 1., 1.],\n",
       "       [1., 1., 1., 1., 1., 1., 1., 1., 1., 1.]])"
      ]
     },
     "execution_count": 59,
     "metadata": {},
     "output_type": "execute_result"
    }
   ],
   "source": [
    "A"
   ]
  },
  {
   "cell_type": "code",
   "execution_count": null,
   "id": "44283288",
   "metadata": {},
   "outputs": [],
   "source": []
  }
 ],
 "metadata": {
  "kernelspec": {
   "display_name": "Python 3 (ipykernel)",
   "language": "python",
   "name": "python3"
  },
  "language_info": {
   "codemirror_mode": {
    "name": "ipython",
    "version": 3
   },
   "file_extension": ".py",
   "mimetype": "text/x-python",
   "name": "python",
   "nbconvert_exporter": "python",
   "pygments_lexer": "ipython3",
   "version": "3.9.13"
  }
 },
 "nbformat": 4,
 "nbformat_minor": 5
}
